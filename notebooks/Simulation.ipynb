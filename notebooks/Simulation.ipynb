{
 "cells": [
  {
   "cell_type": "code",
   "execution_count": null,
   "metadata": {},
   "outputs": [],
   "source": [
    "import hoomd\n",
    "from hoomd import hpmc\n",
    "from sdrun import molecules"
   ]
  },
  {
   "cell_type": "code",
   "execution_count": null,
   "metadata": {},
   "outputs": [],
   "source": [
    "context = hoomd.context.initialize('')\n",
    "trimer = molecules.Trimer()\n",
    "cell_len = trimer.compute_size()\n",
    "uc = hoomd.lattice.unitcell(N = 1,\n",
    "                            a1 = [cell_len, 0,   0],\n",
    "                            a2 = [0,    cell_len, 0],\n",
    "                            a3 = [0,    0,   1],\n",
    "                            dimensions = 2,\n",
    "                            position = [[0,0,0]],\n",
    "                            type_name = ['A'],\n",
    "                            mass = [1.0],\n",
    "                            moment_inertia = [trimer.compute_moment_intertia()],\n",
    "                           )\n",
    "system = hoomd.init.create_lattice(uc, 5)\n",
    "system.particles.types.add('B')\n",
    "\n",
    "trimer.define_potential()\n",
    "rigid = trimer.define_rigid()\n",
    "rigid.create_bodies()\n",
    "\n",
    "hoomd.md.integrate.mode_standard(dt=0.005)\n",
    "hoomd.md.integrate.npt(hoomd.group.rigid_center(), kT=0.4, tau=1, P=1, tauP=1)"
   ]
  },
  {
   "cell_type": "code",
   "execution_count": null,
   "metadata": {},
   "outputs": [],
   "source": [
    "hoomd.run(100)"
   ]
  },
  {
   "cell_type": "code",
   "execution_count": null,
   "metadata": {},
   "outputs": [],
   "source": [
    "system.box"
   ]
  },
  {
   "cell_type": "code",
   "execution_count": null,
   "metadata": {},
   "outputs": [],
   "source": [
    "snap.box."
   ]
  },
  {
   "cell_type": "code",
   "execution_count": null,
   "metadata": {},
   "outputs": [],
   "source": [
    "hoomd.md.integrate.mode_standard(dt=0.005)"
   ]
  },
  {
   "cell_type": "code",
   "execution_count": null,
   "metadata": {},
   "outputs": [],
   "source": [
    "hoomd.md.integrate.npt(hoomd.group.rigid_center(), kT=0.4, tau=1, P=1, tauP=1)"
   ]
  },
  {
   "cell_type": "code",
   "execution_count": null,
   "metadata": {},
   "outputs": [],
   "source": []
  },
  {
   "cell_type": "code",
   "execution_count": null,
   "metadata": {},
   "outputs": [],
   "source": []
  }
 ],
 "metadata": {
  "language_info": {
   "name": "python",
   "pygments_lexer": "ipython3"
  }
 },
 "nbformat": 4,
 "nbformat_minor": 2
}
