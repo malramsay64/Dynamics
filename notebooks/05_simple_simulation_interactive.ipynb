{
 "cells": [
  {
   "cell_type": "markdown",
   "metadata": {},
   "source": [
    "# Simple simulation\n",
    "\n",
    "This is a notebook containing a simple simulation\n",
    "allowing this to be used to assist in the debugging of issues,\n",
    "or alternatively exploring the abilities of hoomd."
   ]
  },
  {
   "cell_type": "code",
   "execution_count": null,
   "metadata": {},
   "outputs": [],
   "source": [
    "import hoomd\n",
    "import hoomd.md\n",
    "from sdrun import molecules"
   ]
  },
  {
   "cell_type": "markdown",
   "metadata": {},
   "source": [
    "This sets up an initial condition which is very similar to that produced using sdrun,\n",
    "however this is also simple to see what all the components are and modify them."
   ]
  },
  {
   "cell_type": "code",
   "execution_count": null,
   "metadata": {},
   "outputs": [],
   "source": [
    "context = hoomd.context.initialize('')\n",
    "trimer = molecules.Trimer()\n",
    "cell_len = trimer.compute_size()\n",
    "uc = hoomd.lattice.unitcell(\n",
    "    N = 1,\n",
    "    a1 = [cell_len, 0,   0],\n",
    "    a2 = [0,    cell_len, 0],\n",
    "    a3 = [0,    0,   1],\n",
    "    dimensions = 2,\n",
    "    position = [[0,0,0]],\n",
    "    type_name = ['A'],\n",
    "    mass = [1.0],\n",
    "    moment_inertia = [trimer.compute_moment_intertia()],\n",
    ")\n",
    "system = hoomd.init.create_lattice(uc, 5)\n",
    "system.particles.types.add('B')\n",
    "\n",
    "trimer.define_potential()\n",
    "rigid = trimer.define_rigid()\n",
    "rigid.create_bodies()\n",
    "\n",
    "hoomd.md.integrate.mode_standard(dt=0.005)\n",
    "hoomd.md.integrate.npt(hoomd.group.rigid_center(), kT=0.4, tau=1, P=1, tauP=1)"
   ]
  },
  {
   "cell_type": "markdown",
   "metadata": {},
   "source": [
    "To run the simulation, the `hoomd.run` function needs to be used."
   ]
  },
  {
   "cell_type": "code",
   "execution_count": null,
   "metadata": {},
   "outputs": [],
   "source": [
    "hoomd.run(100)"
   ]
  },
  {
   "cell_type": "markdown",
   "metadata": {},
   "source": [
    "The state of the system can be saved using `system.take_snapshot()`\n",
    "which then allows the evolution of the system to be tracked and compared."
   ]
  },
  {
   "cell_type": "code",
   "execution_count": null,
   "metadata": {},
   "outputs": [],
   "source": [
    "snapshot = system.take_snapshot()"
   ]
  }
 ],
 "metadata": {
  "kernelspec": {
   "display_name": "dynamics",
   "language": "python",
   "name": "dynamics"
  },
  "language_info": {
   "codemirror_mode": {
    "name": "ipython",
    "version": 3
   },
   "file_extension": ".py",
   "mimetype": "text/x-python",
   "name": "python",
   "nbconvert_exporter": "python",
   "pygments_lexer": "ipython3",
   "version": "3.6.7"
  }
 },
 "nbformat": 4,
 "nbformat_minor": 2
}
