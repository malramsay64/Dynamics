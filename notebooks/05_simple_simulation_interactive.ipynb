{
 "cells": [
  {
   "cell_type": "markdown",
   "metadata": {},
   "source": [
    "# Simple simulation\n",
    "\n",
    "This is a notebook containing a simple simulation\n",
    "allowing this to be used to assist in the debugging of issues,\n",
    "or alternatively exploring the abilities of hoomd."
   ]
  },
  {
   "cell_type": "code",
   "execution_count": 1,
   "metadata": {},
   "outputs": [],
   "source": [
    "import hoomd\n",
    "import hoomd.md\n",
    "from sdrun import molecules"
   ]
  },
  {
   "cell_type": "markdown",
   "metadata": {},
   "source": [
    "This sets up an initial condition which is very similar to that produced using sdrun,\n",
    "however this is also simple to see what all the components are and modify them."
   ]
  },
  {
   "cell_type": "code",
   "execution_count": 2,
   "metadata": {},
   "outputs": [
    {
     "name": "stdout",
     "output_type": "stream",
     "text": [
      "HOOMD-blue v2.3.0 CUDA (8.0) DOUBLE HPMC_MIXED MPI SSE SSE2 SSE3 \n",
      "Compiled: 04/25/18\n",
      "Copyright 2009-2018 The Regents of the University of Michigan.\n",
      "-----\n",
      "You are using HOOMD-blue. Please cite the following:\n",
      "* J A Anderson, C D Lorenz, and A Travesset. \"General purpose molecular dynamics\n",
      "  simulations fully implemented on graphics processing units\", Journal of\n",
      "  Computational Physics 227 (2008) 5342--5359\n",
      "* J Glaser, T D Nguyen, J A Anderson, P Liu, F Spiga, J A Millan, D C Morse, and\n",
      "  S C Glotzer. \"Strong scaling of general-purpose molecular dynamics simulations\n",
      "  on GPUs\", Computer Physics Communications 192 (2015) 97--107\n",
      "-----\n",
      "notice(2): Error calling cudaGetDeviceCount(). No NVIDIA driver is present, or this user\n",
      "notice(2): does not have readwrite permissions on /dev/nvidia*\n",
      "notice(2): Ignoring any GPUs in the system.\n",
      "HOOMD-blue is running on the CPU\n",
      "notice(2): Group \"all\" created containing 25 particles\n",
      "notice(2): Notice: slj set d_max=1.0\n",
      "notice(2): constrain.rigid(): Creating 25 rigid bodies (adding 75 particles)\n",
      "notice(2): Group \"rigid_center\" created containing 25 particles\n",
      "notice(2): When running in 2D, z couplings and degrees of freedom are silently ignored.\n"
     ]
    },
    {
     "data": {
      "text/plain": [
       "<hoomd.md.integrate.npt at 0x7f3acaaabd30>"
      ]
     },
     "execution_count": 2,
     "metadata": {},
     "output_type": "execute_result"
    }
   ],
   "source": [
    "context = hoomd.context.initialize('')\n",
    "trimer = molecules.Trimer()\n",
    "cell_len = trimer.compute_size()\n",
    "uc = hoomd.lattice.unitcell(\n",
    "    N = 1,\n",
    "    a1 = [cell_len, 0,   0],\n",
    "    a2 = [0,    cell_len, 0],\n",
    "    a3 = [0,    0,   1],\n",
    "    dimensions = 2,\n",
    "    position = [[0,0,0]],\n",
    "    type_name = ['R'],\n",
    "    mass = [1.0],\n",
    "    moment_inertia = [trimer.moment_inertia]\n",
    ")\n",
    "trimer.moment_inertia\n",
    "system = hoomd.init.create_lattice(uc, 5)\n",
    "for particle_type in trimer.get_types():\n",
    "    if particle_type != \"R\":\n",
    "        system.particles.types.add(particle_type)\n",
    "\n",
    "trimer.define_potential()\n",
    "rigid = trimer.define_rigid()\n",
    "rigid.create_bodies()\n",
    "\n",
    "hoomd.md.integrate.mode_standard(dt=0.005)\n",
    "hoomd.md.integrate.npt(hoomd.group.rigid_center(), kT=0.4, tau=1, P=1, tauP=1)"
   ]
  },
  {
   "cell_type": "markdown",
   "metadata": {},
   "source": [
    "To run the simulation, the `hoomd.run` function needs to be used."
   ]
  },
  {
   "cell_type": "code",
   "execution_count": 3,
   "metadata": {},
   "outputs": [
    {
     "name": "stdout",
     "output_type": "stream",
     "text": [
      "notice(2): -- Neighborlist exclusion statistics -- :\n",
      "notice(2): Particles with 0 exclusions             : 100\n",
      "notice(2): Neighbors included by diameter          : yes\n",
      "notice(2): Neighbors excluded when in the same body: yes\n",
      "** starting run **\n",
      "Time 00:00:00 | Step 100 / 100 | TPS 52029.1 | ETA 00:00:00\n",
      "Average TPS: 22251.9\n",
      "---------\n",
      "-- Neighborlist stats:\n",
      "1 normal updates / 1 forced updates / 0 dangerous updates\n",
      "n_neigh_min: 0 / n_neigh_max: 4 / n_neigh_avg: 2\n",
      "shortest rebuild period: 14\n",
      "-- Cell list stats:\n",
      "Dimension: 5, 5, 1\n",
      "n_min    : 4 / n_max: 4 / n_avg: 4\n",
      "** run complete **\n"
     ]
    }
   ],
   "source": [
    "hoomd.run(100)"
   ]
  },
  {
   "cell_type": "markdown",
   "metadata": {},
   "source": [
    "The state of the system can be saved using `system.take_snapshot()`\n",
    "which then allows the evolution of the system to be tracked and compared."
   ]
  },
  {
   "cell_type": "code",
   "execution_count": 4,
   "metadata": {},
   "outputs": [],
   "source": [
    "snapshot = system.take_snapshot()"
   ]
  }
 ],
 "metadata": {
  "kernelspec": {
   "display_name": "dynamics",
   "language": "python",
   "name": "dynamics"
  },
  "language_info": {
   "codemirror_mode": {
    "name": "ipython",
    "version": 3
   },
   "file_extension": ".py",
   "mimetype": "text/x-python",
   "name": "python",
   "nbconvert_exporter": "python",
   "pygments_lexer": "ipython3",
   "version": "3.6.8"
  }
 },
 "nbformat": 4,
 "nbformat_minor": 2
}
