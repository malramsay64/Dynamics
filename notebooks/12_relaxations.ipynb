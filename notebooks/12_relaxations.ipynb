{
 "cells": [
  {
   "cell_type": "markdown",
   "metadata": {},
   "source": [
    "Relaxation Dynamics\n",
    "==========\n",
    "\n",
    "There are many different methods which can be used to understand the dynamics of a system.\n",
    "From short timescale events like structural relaxation,\n",
    "to long timescale events including dynamics.\n",
    "There are also important degrees of freedom in the rotations which have their own relaxtion timescales.\n",
    "\n",
    "\n",
    "This is a collection of figures and analysis\n",
    "for the understanding of relaxation over a series of variables.\n",
    "\n",
    "All the simulation data is from a set of simulations stored on RDS\n",
    "in the folder `data/simulations/trimer`.\n",
    "This set of simulations were all run at a pressure of 13.50. "
   ]
  },
  {
   "cell_type": "markdown",
   "metadata": {},
   "source": [
    "## Setup\n",
    "\n",
    "This imports the modules nessecary for running the code in the rest of this notebook\n",
    "while also setting up some helper functions to make the rest of the analysis simpler."
   ]
  },
  {
   "cell_type": "code",
   "execution_count": 1,
   "metadata": {},
   "outputs": [],
   "source": [
    "import sys\n",
    "\n",
    "import pandas as pd\n",
    "import numpy as np\n",
    "import altair as alt\n",
    "\n",
    "sys.path.append('../src')\n",
    "from figures import use_my_theme\n",
    "use_my_theme()\n",
    "\n",
    "alt.data_transformers.enable('json');"
   ]
  },
  {
   "cell_type": "markdown",
   "metadata": {},
   "source": [
    "### Import Data\n",
    "\n",
    "This reads all the data from disk,\n",
    "creating a pandas DataFrame for both \n",
    "the dyanmics and the relaxation quantities."
   ]
  },
  {
   "cell_type": "code",
   "execution_count": 2,
   "metadata": {},
   "outputs": [],
   "source": [
    "data_file = \"../data/analysis/dynamics_clean.h5\""
   ]
  },
  {
   "cell_type": "code",
   "execution_count": 3,
   "metadata": {},
   "outputs": [],
   "source": [
    "dynamics = pd.read_hdf(data_file, 'dynamics')\n",
    "dynamics = dynamics.query(\"pressure == 13.50\")\n",
    "dynamics = dynamics.query(\"temperature > 1.25\")\n",
    "dynamics = dynamics.reset_index()"
   ]
  },
  {
   "cell_type": "code",
   "execution_count": 4,
   "metadata": {},
   "outputs": [],
   "source": [
    "relaxations = pd.read_hdf(data_file, \"relaxations\")\n",
    "relaxations = relaxations.query(\"pressure == 13.50\")\n",
    "relaxations['inv_temp'] = 1 / relaxations.temperature\n",
    "relaxations['inv_diffusion'] = 1 / relaxations.diffusion_constant"
   ]
  },
  {
   "cell_type": "markdown",
   "metadata": {},
   "source": [
    "The available temperatures for plotting are listed below.\n",
    "To make the visualisations of time dependent properties less cluttered \n",
    "only a subset of the temperatures will be used for plotting.\n",
    "For relaxation timescales all the temperatrues will be used.\n",
    "This list of temperatures for plotting can be modified by changing the plot_temperatures variable."
   ]
  },
  {
   "cell_type": "code",
   "execution_count": 5,
   "metadata": {},
   "outputs": [
    {
     "data": {
      "text/plain": [
       "array([1.3 , 1.35, 1.4 , 1.45, 1.5 , 1.6 , 1.8 , 2.  , 2.5 ])"
      ]
     },
     "execution_count": 5,
     "metadata": {},
     "output_type": "execute_result"
    }
   ],
   "source": [
    "np.sort(dynamics['temperature'].unique())"
   ]
  },
  {
   "cell_type": "markdown",
   "metadata": {},
   "source": [
    "Diffusion\n",
    "--------\n",
    "\n",
    "Generating the figures for diffusive relaxation of molecules. Lines are indications of fit, where $D t$ is the function that is defining the fit. The parameter `D` is then used as the diffusion constant in the following figure."
   ]
  },
  {
   "cell_type": "code",
   "execution_count": 6,
   "metadata": {},
   "outputs": [
    {
     "data": {
      "application/vnd.vegalite.v2+json": {
       "$schema": "https://vega.github.io/schema/vega-lite/v2.6.0.json",
       "config": {
        "axis": {
         "grid": false
        },
        "view": {
         "height": 400,
         "width": 600
        }
       },
       "data": {
        "format": {
         "type": "json"
        },
        "url": "altair-data-f99889e33c8011ffd598f9ce8e59daf8.json"
       },
       "encoding": {
        "color": {
         "field": "temperature",
         "legend": {
          "title": "Temperature"
         },
         "type": "nominal"
        },
        "x": {
         "axis": {
          "format": "e",
          "title": "Timesteps"
         },
         "field": "time",
         "scale": {
          "type": "log"
         },
         "type": "quantitative"
        },
        "y": {
         "axis": {
          "format": "e",
          "title": "Mean Squared Displacement"
         },
         "field": "msd",
         "scale": {
          "type": "log"
         },
         "type": "quantitative"
        }
       },
       "mark": {
        "filled": true,
        "type": "point"
       }
      },
      "image/png": "[encoded data removed]",
      "text/plain": [
       "<VegaLite 2 object>\n",
       "\n",
       "If you see this message, it means the renderer has not been properly enabled\n",
       "for the frontend that you are using. For more information, see\n",
       "https://altair-viz.github.io/user_guide/troubleshooting.html\n"
      ]
     },
     "execution_count": 6,
     "metadata": {},
     "output_type": "execute_result"
    }
   ],
   "source": [
    "alt.Chart(dynamics).mark_point(filled=True).encode(\n",
    "    alt.X(\"time\", scale=alt.Scale(type='log'), axis=alt.Axis(title=\"Timesteps\", format=\"e\")),\n",
    "    alt.Y(\"msd\", scale=alt.Scale(type='log'), axis=alt.Axis(title=\"Mean Squared Displacement\", format=\"e\")),\n",
    "    alt.Color(\"temperature:N\", legend=alt.Legend(title=\"Temperature\")),\n",
    ")"
   ]
  },
  {
   "cell_type": "markdown",
   "metadata": {},
   "source": [
    "Rotational Relaxation R2\n",
    "--------------------\n",
    "\n",
    "This is the second order relaxation function,\n",
    "given by;\n",
    "$$R_2(t) = \\langle 2[ \\hat{\\mathbf{e}}(0) \\cdot \\hat{\\mathbf{e}}(t)]^2 - 1 \\rangle$$\n",
    "where the value is averaged over all molecules and starting configurations. "
   ]
  },
  {
   "cell_type": "code",
   "execution_count": 7,
   "metadata": {},
   "outputs": [
    {
     "data": {
      "application/vnd.vegalite.v2+json": {
       "$schema": "https://vega.github.io/schema/vega-lite/v2.6.0.json",
       "config": {
        "axis": {
         "grid": false
        },
        "view": {
         "height": 400,
         "width": 600
        }
       },
       "data": {
        "format": {
         "type": "json"
        },
        "url": "altair-data-f99889e33c8011ffd598f9ce8e59daf8.json"
       },
       "encoding": {
        "color": {
         "field": "temperature",
         "legend": {
          "title": "Temperature"
         },
         "type": "nominal"
        },
        "x": {
         "axis": {
          "format": "e",
          "title": "Timesteps"
         },
         "field": "time",
         "scale": {
          "type": "log"
         },
         "type": "quantitative"
        },
        "y": {
         "axis": {
          "title": "Rotational Relaxation"
         },
         "field": "rot2",
         "type": "quantitative"
        }
       },
       "mark": "point"
      },
      "text/plain": [
       "<VegaLite 2 object>\n",
       "\n",
       "If you see this message, it means the renderer has not been properly enabled\n",
       "for the frontend that you are using. For more information, see\n",
       "https://altair-viz.github.io/user_guide/troubleshooting.html\n"
      ]
     },
     "execution_count": 7,
     "metadata": {},
     "output_type": "execute_result"
    }
   ],
   "source": [
    "alt.Chart(dynamics).mark_point().encode(\n",
    "    alt.X(\"time\", scale=alt.Scale(type='log'), axis=alt.Axis(title=\"Timesteps\", format=\"e\")),\n",
    "    alt.Y(\"rot2\", axis=alt.Axis(title=\"Rotational Relaxation\")),\n",
    "    alt.Color(\"temperature:N\", legend=alt.Legend(title=\"Temperature\")),\n",
    ").configure_axis(grid=False)"
   ]
  },
  {
   "cell_type": "markdown",
   "metadata": {},
   "source": [
    "Structural Relaxation\n",
    "--------------------\n",
    "\n",
    "This is the fraction of particles which have moved a distance of 0.3 from their inital position."
   ]
  },
  {
   "cell_type": "code",
   "execution_count": 8,
   "metadata": {},
   "outputs": [
    {
     "data": {
      "application/vnd.vegalite.v2+json": {
       "$schema": "https://vega.github.io/schema/vega-lite/v2.6.0.json",
       "config": {
        "axis": {
         "grid": false
        },
        "view": {
         "height": 400,
         "width": 600
        }
       },
       "data": {
        "format": {
         "type": "json"
        },
        "url": "altair-data-f99889e33c8011ffd598f9ce8e59daf8.json"
       },
       "encoding": {
        "color": {
         "field": "temperature",
         "legend": {
          "title": "Temperature"
         },
         "type": "nominal"
        },
        "x": {
         "axis": {
          "format": "e",
          "title": "Timesteps"
         },
         "field": "time",
         "scale": {
          "type": "log"
         },
         "type": "quantitative"
        },
        "y": {
         "axis": {
          "title": "Structural Relaxation"
         },
         "field": "struct",
         "type": "quantitative"
        }
       },
       "mark": {
        "filled": true,
        "type": "point"
       }
      },
      "text/plain": [
       "<VegaLite 2 object>\n",
       "\n",
       "If you see this message, it means the renderer has not been properly enabled\n",
       "for the frontend that you are using. For more information, see\n",
       "https://altair-viz.github.io/user_guide/troubleshooting.html\n"
      ]
     },
     "execution_count": 8,
     "metadata": {},
     "output_type": "execute_result"
    }
   ],
   "source": [
    "alt.Chart(dynamics).mark_point(filled=True).encode(\n",
    "    alt.X(\"time\", scale=alt.Scale(type='log'), axis=alt.Axis(title=\"Timesteps\", format=\"e\")),\n",
    "    alt.Y(\"struct\", axis=alt.Axis(title=\"Structural Relaxation\")),\n",
    "    alt.Color(\"temperature:N\", legend=alt.Legend(title=\"Temperature\")),\n",
    ").configure_axis(grid=False)"
   ]
  },
  {
   "cell_type": "markdown",
   "metadata": {},
   "source": [
    "Summary Values\n",
    "========\n",
    "\n",
    "The values calculated below summarise the above information,\n",
    "providing a method of investigating temperature dependence of these properties. "
   ]
  },
  {
   "cell_type": "code",
   "execution_count": 9,
   "metadata": {},
   "outputs": [
    {
     "data": {
      "text/plain": [
       "7     2.033128e-08\n",
       "8     4.923177e-08\n",
       "9     1.951892e-07\n",
       "11    3.208761e-07\n",
       "12    7.491358e-07\n",
       "13    1.401907e-06\n",
       "14    4.082240e-06\n",
       "16    1.910934e-05\n",
       "17    6.025981e-05\n",
       "18    2.569257e-04\n",
       "Name: diffusion_constant, dtype: float64"
      ]
     },
     "execution_count": 9,
     "metadata": {},
     "output_type": "execute_result"
    }
   ],
   "source": [
    "relaxations.diffusion_constant"
   ]
  },
  {
   "cell_type": "code",
   "execution_count": 10,
   "metadata": {},
   "outputs": [
    {
     "data": {
      "text/html": [
       "<div>\n",
       "<style scoped>\n",
       "    .dataframe tbody tr th:only-of-type {\n",
       "        vertical-align: middle;\n",
       "    }\n",
       "\n",
       "    .dataframe tbody tr th {\n",
       "        vertical-align: top;\n",
       "    }\n",
       "\n",
       "    .dataframe thead th {\n",
       "        text-align: right;\n",
       "    }\n",
       "</style>\n",
       "<table border=\"1\" class=\"dataframe\">\n",
       "  <thead>\n",
       "    <tr style=\"text-align: right;\">\n",
       "      <th></th>\n",
       "      <th>temperature</th>\n",
       "      <th>pressure</th>\n",
       "      <th>tau_D1_mean</th>\n",
       "      <th>tau_D1_hmean</th>\n",
       "      <th>tau_D04_mean</th>\n",
       "      <th>tau_D04_hmean</th>\n",
       "      <th>tau_DL04_mean</th>\n",
       "      <th>tau_DL04_hmean</th>\n",
       "      <th>tau_T2_mean</th>\n",
       "      <th>tau_T2_hmean</th>\n",
       "      <th>...</th>\n",
       "      <th>tau_T4_hmean</th>\n",
       "      <th>max_alpha_time</th>\n",
       "      <th>tau_F</th>\n",
       "      <th>max_gamma_time</th>\n",
       "      <th>diffusion_constant</th>\n",
       "      <th>tau_R1</th>\n",
       "      <th>tau_R2</th>\n",
       "      <th>tau_S</th>\n",
       "      <th>inv_temp</th>\n",
       "      <th>inv_diffusion</th>\n",
       "    </tr>\n",
       "  </thead>\n",
       "  <tbody>\n",
       "    <tr>\n",
       "      <th>7</th>\n",
       "      <td>1.25</td>\n",
       "      <td>13.5</td>\n",
       "      <td>4.417965e+07</td>\n",
       "      <td>1.459852e+06</td>\n",
       "      <td>645981.664000</td>\n",
       "      <td>865.924828</td>\n",
       "      <td>3.738783e+07</td>\n",
       "      <td>1.168438e+06</td>\n",
       "      <td>1.174149e+08</td>\n",
       "      <td>1.949199e+07</td>\n",
       "      <td>...</td>\n",
       "      <td>1.511997e+06</td>\n",
       "      <td>8700000.0</td>\n",
       "      <td>2.458382e+07</td>\n",
       "      <td>2000000.0</td>\n",
       "      <td>2.033128e-08</td>\n",
       "      <td>7.464806e+07</td>\n",
       "      <td>4.180359e+07</td>\n",
       "      <td>7.073447e+06</td>\n",
       "      <td>0.800000</td>\n",
       "      <td>4.918530e+07</td>\n",
       "    </tr>\n",
       "    <tr>\n",
       "      <th>8</th>\n",
       "      <td>1.30</td>\n",
       "      <td>13.5</td>\n",
       "      <td>3.176853e+07</td>\n",
       "      <td>6.356120e+05</td>\n",
       "      <td>377950.372832</td>\n",
       "      <td>613.751871</td>\n",
       "      <td>2.698617e+07</td>\n",
       "      <td>2.670629e+05</td>\n",
       "      <td>7.820991e+07</td>\n",
       "      <td>1.343674e+07</td>\n",
       "      <td>...</td>\n",
       "      <td>8.824231e+05</td>\n",
       "      <td>6500000.0</td>\n",
       "      <td>2.772566e+07</td>\n",
       "      <td>1900000.0</td>\n",
       "      <td>4.923177e-08</td>\n",
       "      <td>5.375596e+07</td>\n",
       "      <td>3.596755e+07</td>\n",
       "      <td>7.357008e+06</td>\n",
       "      <td>0.769231</td>\n",
       "      <td>2.031209e+07</td>\n",
       "    </tr>\n",
       "    <tr>\n",
       "      <th>9</th>\n",
       "      <td>1.35</td>\n",
       "      <td>13.5</td>\n",
       "      <td>9.375049e+06</td>\n",
       "      <td>3.279244e+05</td>\n",
       "      <td>63301.448000</td>\n",
       "      <td>534.315309</td>\n",
       "      <td>7.560294e+06</td>\n",
       "      <td>1.649331e+05</td>\n",
       "      <td>3.168663e+07</td>\n",
       "      <td>4.682850e+06</td>\n",
       "      <td>...</td>\n",
       "      <td>4.270503e+05</td>\n",
       "      <td>910000.0</td>\n",
       "      <td>5.519277e+06</td>\n",
       "      <td>400000.0</td>\n",
       "      <td>1.951892e-07</td>\n",
       "      <td>2.294204e+07</td>\n",
       "      <td>1.011563e+07</td>\n",
       "      <td>1.256171e+06</td>\n",
       "      <td>0.740741</td>\n",
       "      <td>5.123233e+06</td>\n",
       "    </tr>\n",
       "    <tr>\n",
       "      <th>11</th>\n",
       "      <td>1.40</td>\n",
       "      <td>13.5</td>\n",
       "      <td>3.315997e+06</td>\n",
       "      <td>1.711891e+05</td>\n",
       "      <td>16149.375288</td>\n",
       "      <td>473.025187</td>\n",
       "      <td>2.701368e+06</td>\n",
       "      <td>9.186084e+04</td>\n",
       "      <td>1.682744e+07</td>\n",
       "      <td>3.047532e+06</td>\n",
       "      <td>...</td>\n",
       "      <td>2.651710e+05</td>\n",
       "      <td>530000.0</td>\n",
       "      <td>1.460908e+06</td>\n",
       "      <td>93000.0</td>\n",
       "      <td>3.208761e-07</td>\n",
       "      <td>1.013944e+07</td>\n",
       "      <td>4.846791e+06</td>\n",
       "      <td>3.651439e+05</td>\n",
       "      <td>0.714286</td>\n",
       "      <td>3.116467e+06</td>\n",
       "    </tr>\n",
       "    <tr>\n",
       "      <th>12</th>\n",
       "      <td>1.45</td>\n",
       "      <td>13.5</td>\n",
       "      <td>1.065251e+06</td>\n",
       "      <td>8.676856e+04</td>\n",
       "      <td>4863.636767</td>\n",
       "      <td>415.526616</td>\n",
       "      <td>8.714905e+05</td>\n",
       "      <td>4.835384e+04</td>\n",
       "      <td>7.222827e+06</td>\n",
       "      <td>1.599063e+06</td>\n",
       "      <td>...</td>\n",
       "      <td>1.675701e+05</td>\n",
       "      <td>190000.0</td>\n",
       "      <td>5.041803e+05</td>\n",
       "      <td>62000.0</td>\n",
       "      <td>7.491358e-07</td>\n",
       "      <td>4.490040e+06</td>\n",
       "      <td>1.681358e+06</td>\n",
       "      <td>1.147225e+05</td>\n",
       "      <td>0.689655</td>\n",
       "      <td>1.334871e+06</td>\n",
       "    </tr>\n",
       "    <tr>\n",
       "      <th>13</th>\n",
       "      <td>1.50</td>\n",
       "      <td>13.5</td>\n",
       "      <td>6.068512e+05</td>\n",
       "      <td>5.816140e+04</td>\n",
       "      <td>2784.725552</td>\n",
       "      <td>383.765783</td>\n",
       "      <td>4.930840e+05</td>\n",
       "      <td>3.226047e+04</td>\n",
       "      <td>4.909220e+06</td>\n",
       "      <td>1.090055e+06</td>\n",
       "      <td>...</td>\n",
       "      <td>1.204692e+05</td>\n",
       "      <td>110000.0</td>\n",
       "      <td>2.590324e+05</td>\n",
       "      <td>31000.0</td>\n",
       "      <td>1.401907e-06</td>\n",
       "      <td>3.057032e+06</td>\n",
       "      <td>1.098310e+06</td>\n",
       "      <td>5.488260e+04</td>\n",
       "      <td>0.666667</td>\n",
       "      <td>7.133139e+05</td>\n",
       "    </tr>\n",
       "    <tr>\n",
       "      <th>14</th>\n",
       "      <td>1.60</td>\n",
       "      <td>13.5</td>\n",
       "      <td>1.660307e+05</td>\n",
       "      <td>2.350292e+04</td>\n",
       "      <td>1210.261216</td>\n",
       "      <td>323.704557</td>\n",
       "      <td>1.369592e+05</td>\n",
       "      <td>1.294757e+04</td>\n",
       "      <td>1.867548e+06</td>\n",
       "      <td>5.140452e+05</td>\n",
       "      <td>...</td>\n",
       "      <td>6.531598e+04</td>\n",
       "      <td>33000.0</td>\n",
       "      <td>6.894797e+04</td>\n",
       "      <td>17000.0</td>\n",
       "      <td>4.082240e-06</td>\n",
       "      <td>1.190690e+06</td>\n",
       "      <td>3.869149e+05</td>\n",
       "      <td>1.465566e+04</td>\n",
       "      <td>0.625000</td>\n",
       "      <td>2.449636e+05</td>\n",
       "    </tr>\n",
       "    <tr>\n",
       "      <th>16</th>\n",
       "      <td>1.80</td>\n",
       "      <td>13.5</td>\n",
       "      <td>3.079663e+04</td>\n",
       "      <td>7.359858e+03</td>\n",
       "      <td>607.056316</td>\n",
       "      <td>253.967878</td>\n",
       "      <td>2.572486e+04</td>\n",
       "      <td>3.838190e+03</td>\n",
       "      <td>5.377281e+05</td>\n",
       "      <td>1.830895e+05</td>\n",
       "      <td>...</td>\n",
       "      <td>2.724377e+04</td>\n",
       "      <td>9800.0</td>\n",
       "      <td>1.283495e+04</td>\n",
       "      <td>5200.0</td>\n",
       "      <td>1.910934e-05</td>\n",
       "      <td>3.577515e+05</td>\n",
       "      <td>1.044500e+05</td>\n",
       "      <td>2.368614e+03</td>\n",
       "      <td>0.555556</td>\n",
       "      <td>5.233044e+04</td>\n",
       "    </tr>\n",
       "    <tr>\n",
       "      <th>17</th>\n",
       "      <td>2.00</td>\n",
       "      <td>13.5</td>\n",
       "      <td>1.043440e+04</td>\n",
       "      <td>3.490365e+03</td>\n",
       "      <td>427.236921</td>\n",
       "      <td>210.505655</td>\n",
       "      <td>8.472913e+03</td>\n",
       "      <td>1.737425e+03</td>\n",
       "      <td>2.203760e+05</td>\n",
       "      <td>8.413782e+04</td>\n",
       "      <td>...</td>\n",
       "      <td>1.410171e+04</td>\n",
       "      <td>3600.0</td>\n",
       "      <td>3.973283e+03</td>\n",
       "      <td>2300.0</td>\n",
       "      <td>6.025981e-05</td>\n",
       "      <td>1.484267e+05</td>\n",
       "      <td>4.105458e+04</td>\n",
       "      <td>6.808829e+02</td>\n",
       "      <td>0.500000</td>\n",
       "      <td>1.659481e+04</td>\n",
       "    </tr>\n",
       "    <tr>\n",
       "      <th>18</th>\n",
       "      <td>2.50</td>\n",
       "      <td>13.5</td>\n",
       "      <td>2.790272e+03</td>\n",
       "      <td>1.353433e+03</td>\n",
       "      <td>269.157305</td>\n",
       "      <td>151.969669</td>\n",
       "      <td>2.148367e+03</td>\n",
       "      <td>6.082664e+02</td>\n",
       "      <td>6.528616e+04</td>\n",
       "      <td>2.754884e+04</td>\n",
       "      <td>...</td>\n",
       "      <td>5.286788e+03</td>\n",
       "      <td>660.0</td>\n",
       "      <td>8.615929e+02</td>\n",
       "      <td>500.0</td>\n",
       "      <td>2.569257e-04</td>\n",
       "      <td>4.371171e+04</td>\n",
       "      <td>1.153949e+04</td>\n",
       "      <td>2.582920e+02</td>\n",
       "      <td>0.400000</td>\n",
       "      <td>3.892176e+03</td>\n",
       "    </tr>\n",
       "  </tbody>\n",
       "</table>\n",
       "<p>10 rows × 23 columns</p>\n",
       "</div>"
      ],
      "text/plain": [
       "    temperature  pressure   tau_D1_mean  tau_D1_hmean   tau_D04_mean  \\\n",
       "7          1.25      13.5  4.417965e+07  1.459852e+06  645981.664000   \n",
       "8          1.30      13.5  3.176853e+07  6.356120e+05  377950.372832   \n",
       "9          1.35      13.5  9.375049e+06  3.279244e+05   63301.448000   \n",
       "11         1.40      13.5  3.315997e+06  1.711891e+05   16149.375288   \n",
       "12         1.45      13.5  1.065251e+06  8.676856e+04    4863.636767   \n",
       "13         1.50      13.5  6.068512e+05  5.816140e+04    2784.725552   \n",
       "14         1.60      13.5  1.660307e+05  2.350292e+04    1210.261216   \n",
       "16         1.80      13.5  3.079663e+04  7.359858e+03     607.056316   \n",
       "17         2.00      13.5  1.043440e+04  3.490365e+03     427.236921   \n",
       "18         2.50      13.5  2.790272e+03  1.353433e+03     269.157305   \n",
       "\n",
       "    tau_D04_hmean  tau_DL04_mean  tau_DL04_hmean   tau_T2_mean  tau_T2_hmean  \\\n",
       "7      865.924828   3.738783e+07    1.168438e+06  1.174149e+08  1.949199e+07   \n",
       "8      613.751871   2.698617e+07    2.670629e+05  7.820991e+07  1.343674e+07   \n",
       "9      534.315309   7.560294e+06    1.649331e+05  3.168663e+07  4.682850e+06   \n",
       "11     473.025187   2.701368e+06    9.186084e+04  1.682744e+07  3.047532e+06   \n",
       "12     415.526616   8.714905e+05    4.835384e+04  7.222827e+06  1.599063e+06   \n",
       "13     383.765783   4.930840e+05    3.226047e+04  4.909220e+06  1.090055e+06   \n",
       "14     323.704557   1.369592e+05    1.294757e+04  1.867548e+06  5.140452e+05   \n",
       "16     253.967878   2.572486e+04    3.838190e+03  5.377281e+05  1.830895e+05   \n",
       "17     210.505655   8.472913e+03    1.737425e+03  2.203760e+05  8.413782e+04   \n",
       "18     151.969669   2.148367e+03    6.082664e+02  6.528616e+04  2.754884e+04   \n",
       "\n",
       "    ...  tau_T4_hmean  max_alpha_time         tau_F  max_gamma_time  \\\n",
       "7   ...  1.511997e+06       8700000.0  2.458382e+07       2000000.0   \n",
       "8   ...  8.824231e+05       6500000.0  2.772566e+07       1900000.0   \n",
       "9   ...  4.270503e+05        910000.0  5.519277e+06        400000.0   \n",
       "11  ...  2.651710e+05        530000.0  1.460908e+06         93000.0   \n",
       "12  ...  1.675701e+05        190000.0  5.041803e+05         62000.0   \n",
       "13  ...  1.204692e+05        110000.0  2.590324e+05         31000.0   \n",
       "14  ...  6.531598e+04         33000.0  6.894797e+04         17000.0   \n",
       "16  ...  2.724377e+04          9800.0  1.283495e+04          5200.0   \n",
       "17  ...  1.410171e+04          3600.0  3.973283e+03          2300.0   \n",
       "18  ...  5.286788e+03           660.0  8.615929e+02           500.0   \n",
       "\n",
       "    diffusion_constant        tau_R1        tau_R2         tau_S  inv_temp  \\\n",
       "7         2.033128e-08  7.464806e+07  4.180359e+07  7.073447e+06  0.800000   \n",
       "8         4.923177e-08  5.375596e+07  3.596755e+07  7.357008e+06  0.769231   \n",
       "9         1.951892e-07  2.294204e+07  1.011563e+07  1.256171e+06  0.740741   \n",
       "11        3.208761e-07  1.013944e+07  4.846791e+06  3.651439e+05  0.714286   \n",
       "12        7.491358e-07  4.490040e+06  1.681358e+06  1.147225e+05  0.689655   \n",
       "13        1.401907e-06  3.057032e+06  1.098310e+06  5.488260e+04  0.666667   \n",
       "14        4.082240e-06  1.190690e+06  3.869149e+05  1.465566e+04  0.625000   \n",
       "16        1.910934e-05  3.577515e+05  1.044500e+05  2.368614e+03  0.555556   \n",
       "17        6.025981e-05  1.484267e+05  4.105458e+04  6.808829e+02  0.500000   \n",
       "18        2.569257e-04  4.371171e+04  1.153949e+04  2.582920e+02  0.400000   \n",
       "\n",
       "    inv_diffusion  \n",
       "7    4.918530e+07  \n",
       "8    2.031209e+07  \n",
       "9    5.123233e+06  \n",
       "11   3.116467e+06  \n",
       "12   1.334871e+06  \n",
       "13   7.133139e+05  \n",
       "14   2.449636e+05  \n",
       "16   5.233044e+04  \n",
       "17   1.659481e+04  \n",
       "18   3.892176e+03  \n",
       "\n",
       "[10 rows x 23 columns]"
      ]
     },
     "execution_count": 10,
     "metadata": {},
     "output_type": "execute_result"
    }
   ],
   "source": [
    "relaxations"
   ]
  },
  {
   "cell_type": "code",
   "execution_count": 11,
   "metadata": {},
   "outputs": [],
   "source": [
    "relaxation_chart = alt.Chart(relaxations).mark_point().encode(\n",
    "    alt.X(\"inv_temp:Q\", scale=alt.Scale(zero=False), axis=alt.Axis(title=\"1/T\"))\n",
    ")"
   ]
  },
  {
   "cell_type": "code",
   "execution_count": 12,
   "metadata": {},
   "outputs": [
    {
     "data": {
      "application/vnd.vegalite.v2+json": {
       "$schema": "https://vega.github.io/schema/vega-lite/v2.6.0.json",
       "config": {
        "axis": {
         "grid": false
        },
        "view": {
         "height": 400,
         "width": 600
        }
       },
       "data": {
        "format": {
         "type": "json"
        },
        "url": "altair-data-0e37f296b68bc58898f9b09bac077f02.json"
       },
       "encoding": {
        "x": {
         "axis": {
          "title": "1/T"
         },
         "field": "inv_temp",
         "scale": {
          "zero": false
         },
         "type": "quantitative"
        },
        "y": {
         "axis": {
          "format": "e",
          "title": "1/D"
         },
         "field": "inv_diffusion",
         "scale": {
          "type": "log"
         },
         "type": "quantitative"
        }
       },
       "mark": "point"
      },
      "image/png": "[encoded data removed]",
      "text/plain": [
       "<VegaLite 2 object>\n",
       "\n",
       "If you see this message, it means the renderer has not been properly enabled\n",
       "for the frontend that you are using. For more information, see\n",
       "https://altair-viz.github.io/user_guide/troubleshooting.html\n"
      ]
     },
     "execution_count": 12,
     "metadata": {},
     "output_type": "execute_result"
    }
   ],
   "source": [
    "relaxation_chart.encode(\n",
    "    alt.Y(\"inv_diffusion:Q\", scale=alt.Scale(type='log'), axis=alt.Axis(title=\"1/D\", format='e'))\n",
    ")"
   ]
  },
  {
   "cell_type": "code",
   "execution_count": 13,
   "metadata": {},
   "outputs": [
    {
     "data": {
      "application/vnd.vegalite.v2+json": {
       "$schema": "https://vega.github.io/schema/vega-lite/v2.6.0.json",
       "config": {
        "axis": {
         "grid": false
        },
        "view": {
         "height": 400,
         "width": 600
        }
       },
       "data": {
        "format": {
         "type": "json"
        },
        "url": "altair-data-0e37f296b68bc58898f9b09bac077f02.json"
       },
       "encoding": {
        "x": {
         "axis": {
          "title": "1/T"
         },
         "field": "inv_temp",
         "scale": {
          "zero": false
         },
         "type": "quantitative"
        },
        "y": {
         "axis": {
          "format": "e",
          "title": "Rotational Relaxation"
         },
         "field": "tau_T2_mean",
         "scale": {
          "type": "log"
         },
         "type": "quantitative"
        }
       },
       "mark": "point"
      },
      "image/png": "[encoded data removed]",
      "text/plain": [
       "<VegaLite 2 object>\n",
       "\n",
       "If you see this message, it means the renderer has not been properly enabled\n",
       "for the frontend that you are using. For more information, see\n",
       "https://altair-viz.github.io/user_guide/troubleshooting.html\n"
      ]
     },
     "execution_count": 13,
     "metadata": {},
     "output_type": "execute_result"
    }
   ],
   "source": [
    "relaxation_chart.encode(\n",
    "    alt.Y(\"tau_T2_mean\", scale=alt.Scale(type='log'), axis=alt.Axis(title=\"Rotational Relaxation\", format='e')),\n",
    ")"
   ]
  },
  {
   "cell_type": "code",
   "execution_count": 14,
   "metadata": {},
   "outputs": [
    {
     "data": {
      "application/vnd.vegalite.v2+json": {
       "$schema": "https://vega.github.io/schema/vega-lite/v2.6.0.json",
       "config": {
        "axis": {
         "grid": false
        },
        "view": {
         "height": 400,
         "width": 600
        }
       },
       "data": {
        "format": {
         "type": "json"
        },
        "url": "altair-data-0e37f296b68bc58898f9b09bac077f02.json"
       },
       "encoding": {
        "x": {
         "axis": {
          "title": "1/T"
         },
         "field": "inv_temp",
         "scale": {
          "zero": false
         },
         "type": "quantitative"
        },
        "y": {
         "axis": {
          "format": "e",
          "title": "Rotational Relaxation"
         },
         "field": "tau_R2",
         "scale": {
          "type": "log"
         },
         "type": "quantitative"
        }
       },
       "mark": "point"
      },
      "image/png": "[encoded data removed]",
      "text/plain": [
       "<VegaLite 2 object>\n",
       "\n",
       "If you see this message, it means the renderer has not been properly enabled\n",
       "for the frontend that you are using. For more information, see\n",
       "https://altair-viz.github.io/user_guide/troubleshooting.html\n"
      ]
     },
     "execution_count": 14,
     "metadata": {},
     "output_type": "execute_result"
    }
   ],
   "source": [
    "relaxation_chart.encode(\n",
    "    alt.Y(\"tau_R2\", scale=alt.Scale(type='log'), axis=alt.Axis(title=\"Rotational Relaxation\", format='e')),\n",
    ")"
   ]
  },
  {
   "cell_type": "code",
   "execution_count": 15,
   "metadata": {},
   "outputs": [
    {
     "data": {
      "text/plain": [
       "Index(['temperature', 'pressure', 'tau_D1_mean', 'tau_D1_hmean',\n",
       "       'tau_D04_mean', 'tau_D04_hmean', 'tau_DL04_mean', 'tau_DL04_hmean',\n",
       "       'tau_T2_mean', 'tau_T2_hmean', 'tau_T3_mean', 'tau_T3_hmean',\n",
       "       'tau_T4_mean', 'tau_T4_hmean', 'max_alpha_time', 'tau_F',\n",
       "       'max_gamma_time', 'diffusion_constant', 'tau_R1', 'tau_R2', 'tau_S',\n",
       "       'inv_temp', 'inv_diffusion'],\n",
       "      dtype='object')"
      ]
     },
     "execution_count": 15,
     "metadata": {},
     "output_type": "execute_result"
    }
   ],
   "source": [
    "relaxations.columns"
   ]
  },
  {
   "cell_type": "code",
   "execution_count": 16,
   "metadata": {},
   "outputs": [],
   "source": [
    "values = pd.DataFrame({\n",
    "    'Temperature': relaxations.temperature, \n",
    "    'r1r2': relaxations.tau_R1/relaxations.tau_R2,\n",
    "    'Dr1T': relaxations.diffusion_constant*relaxations.tau_R1*relaxations.inv_temp,\n",
    "    'Dr2T': relaxations.diffusion_constant*relaxations.tau_R2*relaxations.inv_temp,\n",
    "    'DsT': relaxations.diffusion_constant*relaxations.tau_S*relaxations.inv_temp,\n",
    "    'Dr1': relaxations.diffusion_constant*relaxations.tau_R1,\n",
    "    'Dr2': relaxations.diffusion_constant*relaxations.tau_R2,\n",
    "})"
   ]
  },
  {
   "cell_type": "code",
   "execution_count": 17,
   "metadata": {},
   "outputs": [
    {
     "data": {
      "application/vnd.vegalite.v2+json": {
       "$schema": "https://vega.github.io/schema/vega-lite/v2.6.0.json",
       "config": {
        "axis": {
         "grid": false
        },
        "view": {
         "height": 400,
         "width": 600
        }
       },
       "data": {
        "format": {
         "type": "json"
        },
        "url": "altair-data-a078f346f4e460563d3771b44625b4d5.json"
       },
       "encoding": {
        "x": {
         "field": "Temperature",
         "scale": {
          "zero": false
         },
         "type": "quantitative"
        },
        "y": {
         "field": "r1r2",
         "type": "quantitative"
        }
       },
       "mark": {
        "filled": true,
        "type": "point"
       }
      },
      "image/png": "[encoded data removed]",
      "text/plain": [
       "<VegaLite 2 object>\n",
       "\n",
       "If you see this message, it means the renderer has not been properly enabled\n",
       "for the frontend that you are using. For more information, see\n",
       "https://altair-viz.github.io/user_guide/troubleshooting.html\n"
      ]
     },
     "execution_count": 17,
     "metadata": {},
     "output_type": "execute_result"
    }
   ],
   "source": [
    "c = alt.Chart(values).mark_point(filled=True).encode(alt.X('Temperature', scale=alt.Scale(zero=False)))\n",
    "\n",
    "c.encode(y='r1r2')"
   ]
  },
  {
   "cell_type": "code",
   "execution_count": null,
   "metadata": {},
   "outputs": [],
   "source": []
  }
 ],
 "metadata": {
  "kernelspec": {
   "display_name": "dynamics",
   "language": "python",
   "name": "dynamics"
  },
  "language_info": {
   "codemirror_mode": {
    "name": "ipython",
    "version": 3
   },
   "file_extension": ".py",
   "mimetype": "text/x-python",
   "name": "python",
   "nbconvert_exporter": "python",
   "pygments_lexer": "ipython3",
   "version": "3.6.8"
  }
 },
 "nbformat": 4,
 "nbformat_minor": 2
}
