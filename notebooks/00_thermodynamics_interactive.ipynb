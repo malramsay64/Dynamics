{
 "cells": [
  {
   "cell_type": "markdown",
   "metadata": {},
   "source": [
    "# Visualisation of Thermodynamic Quantities\n",
    "\n",
    "One of the first steps for determining a simulation has proceeded as expected,\n",
    "particularly those that are supposed to be at equilibrium,\n",
    "is to check the thermodynamic quantitites.\n",
    "For simultions at equilibrium,\n",
    "the thermodynamics should remain relatively constant over the course of the simulation.\n",
    "\n",
    "This provides an interactive method of investigating \n",
    "all the values to check that they are as expected."
   ]
  },
  {
   "cell_type": "code",
   "execution_count": 1,
   "metadata": {},
   "outputs": [],
   "source": [
    "from pathlib import Path\n",
    "\n",
    "import pandas as pd\n",
    "import ipywidgets as widgets\n",
    "import matplotlib.pyplot as plt\n",
    "\n",
    "from sdanalysis.util import get_filename_vars"
   ]
  },
  {
   "cell_type": "code",
   "execution_count": 2,
   "metadata": {},
   "outputs": [],
   "source": [
    "data_dir = \"../data/simulations/trimer/output/\"\n",
    "dataset = {}\n",
    "for file in Path(data_dir).glob(\"thermo-*log\"):\n",
    "    temperature, pressure, _ = get_filename_vars(file.name)\n",
    "    dataset.setdefault(pressure, {})\n",
    "    dataset[pressure][temperature] = file"
   ]
  },
  {
   "cell_type": "code",
   "execution_count": 3,
   "metadata": {},
   "outputs": [],
   "source": [
    "discard_quantities = [\"timestep\", \"lz\", \"xz\", \"yz\", \"N\"]\n",
    "with open(file) as src:\n",
    "    thermo_quantities = [c.strip() for c in src.readline().split('\\t')]\n",
    "    thermo_quantities = [c for c in thermo_quantities if c not in discard_quantities]\n",
    "    thermo_quantities = [c for c in thermo_quantities if \"rigid_center\" not in c]"
   ]
  },
  {
   "cell_type": "code",
   "execution_count": 4,
   "metadata": {},
   "outputs": [
    {
     "data": {
      "application/vnd.jupyter.widget-view+json": {
       "model_id": "7c82d14f6cab4f75838e0352d741b263",
       "version_major": 2,
       "version_minor": 0
      },
      "text/plain": [
       "ToggleButtons(description='Pressure', options=('13.50', '1.00'), value='13.50')"
      ]
     },
     "metadata": {},
     "output_type": "display_data"
    },
    {
     "data": {
      "application/vnd.jupyter.widget-view+json": {
       "model_id": "40562c0012b34e0fabb03b49ef69dd59",
       "version_major": 2,
       "version_minor": 0
      },
      "text/plain": [
       "interactive(children=(ToggleButtons(description='Temperature', options={'1.25': PosixPath('../data/simulations…"
      ]
     },
     "metadata": {},
     "output_type": "display_data"
    }
   ],
   "source": [
    "pressure = widgets.ToggleButtons(description=\"Pressure\", options=list(dataset.keys()))\n",
    "temperature = widgets.ToggleButtons(description=\"Temperature\", options=dataset.get(pressure.value))\n",
    "quantities = widgets.ToggleButtons(description=\"Quantity\", options=thermo_quantities)\n",
    "\n",
    "def update_temperatures(change):\n",
    "    temperature.options = dataset.get(change.new)\n",
    "\n",
    "pressure.observe(update_temperatures, names='value')\n",
    "\n",
    "\n",
    "def plot_figure(filename, quantity):\n",
    "    df = pd.read_csv(filename, sep='\\t', index_col='timestep', usecols=[\"timestep\", quantity])\n",
    "    df = df[~df.index.duplicated(keep='first')].reset_index()\n",
    "    df.index = pd.to_timedelta(df.timestep)\n",
    "    df = df.resample('10ms').agg(['mean', 'std'])\n",
    "    plt.errorbar(df.index.astype(int), df[quantity]['mean'], df[quantity]['std'], ecolor='k', elinewidth=1)\n",
    "    \n",
    "p = widgets.interactive(plot_figure, filename=temperature, quantity=quantities)\n",
    "\n",
    "display(pressure, p)"
   ]
  },
  {
   "cell_type": "code",
   "execution_count": null,
   "metadata": {},
   "outputs": [],
   "source": []
  }
 ],
 "metadata": {
  "kernelspec": {
   "display_name": "dynamics",
   "language": "python",
   "name": "dynamics"
  },
  "language_info": {
   "codemirror_mode": {
    "name": "ipython",
    "version": 3
   },
   "file_extension": ".py",
   "mimetype": "text/x-python",
   "name": "python",
   "nbconvert_exporter": "python",
   "pygments_lexer": "ipython3",
   "version": "3.6.7"
  }
 },
 "nbformat": 4,
 "nbformat_minor": 2
}
