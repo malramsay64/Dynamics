{
 "cells": [
  {
   "cell_type": "markdown",
   "metadata": {},
   "source": [
    "Molecular Relaxations\n",
    "===========\n",
    "\n",
    "Rather than investigating relaxations as an average over all the molecules, we want to investigate individual molecules and how their behaviour is related to that of the aggregate. \n",
    "\n",
    "All the simulation data is from a set of simulations stored on RDS in the folder simulations/2017-09-09-dynamics. The set of simulation were all run at a pressure of 13.50 and the data analysed is collected from timesteps on an exponential scale. "
   ]
  },
  {
   "cell_type": "markdown",
   "metadata": {},
   "source": [
    "## Setup\n",
    "\n",
    "This imports the modules nessecary for running the code in the rest of this notebook\n",
    "while also setting up some helper functions to make the rest of the analysis simpler."
   ]
  },
  {
   "cell_type": "code",
   "execution_count": 116,
   "metadata": {},
   "outputs": [],
   "source": [
    "import sys\n",
    "\n",
    "import pandas as pd\n",
    "import numpy as np\n",
    "import altair as alt\n",
    "\n",
    "sys.path.append('../src')\n",
    "from figures import use_my_theme\n",
    "use_my_theme()\n",
    "\n",
    "alt.data_transformers.enable('json');"
   ]
  },
  {
   "cell_type": "markdown",
   "metadata": {},
   "source": [
    "### Import Data\n",
    "\n",
    "This reads all the data from disk,\n",
    "creating a pandas DataFrame and\n",
    "a Holoviews Table for analysis and plotting of the data. "
   ]
  },
  {
   "cell_type": "code",
   "execution_count": 3,
   "metadata": {},
   "outputs": [],
   "source": [
    "data_file = \"../data/analysis/dynamics.h5\""
   ]
  },
  {
   "cell_type": "code",
   "execution_count": 5,
   "metadata": {},
   "outputs": [],
   "source": [
    "relaxations = pd.read_hdf(data_file, \"relaxations\")\n",
    "relaxations = relaxations.query(\"pressure == 13.50\")\n",
    "relaxations['inv_temp'] = 1 / relaxations.temperature\n",
    "relaxations['inv_diffusion'] = 1 / relaxations.diffusion_constant"
   ]
  },
  {
   "cell_type": "code",
   "execution_count": 117,
   "metadata": {},
   "outputs": [],
   "source": [
    "long_relax = relaxations.drop(\n",
    "    columns=['diffusion_constant']\n",
    ").melt(\n",
    "    id_vars=['temperature', 'pressure', 'inv_temp'], \n",
    "    var_name=\"Quantity\"\n",
    ")\n",
    "\n",
    "# Drop invalid and abnormal values\n",
    "mask = long_relax.value < 0\n",
    "long_relax.value.values[mask] = np.nan\n",
    "long_relax = long_relax.replace([np.inf, -np.inf], np.nan).dropna()"
   ]
  },
  {
   "cell_type": "code",
   "execution_count": 118,
   "metadata": {},
   "outputs": [],
   "source": [
    "relax_chart = alt.Chart(long_relax).mark_point(filled=True, size=100).encode(\n",
    "    alt.X('inv_temp', scale=alt.Scale(zero=False), axis=alt.Axis(title='1/T')),\n",
    "    alt.Y('value', scale=alt.Scale(type='log'), axis=alt.Axis(format='e', title='')),\n",
    "    alt.Color(\"Quantity\")\n",
    ")"
   ]
  },
  {
   "cell_type": "code",
   "execution_count": 114,
   "metadata": {},
   "outputs": [
    {
     "data": {
      "application/vnd.vegalite.v2+json": {
       "$schema": "https://vega.github.io/schema/vega-lite/v2.6.0.json",
       "config": {
        "axis": {
         "grid": false
        },
        "view": {
         "height": 400,
         "width": 600
        }
       },
       "data": {
        "format": {
         "type": "json"
        },
        "url": "altair-data-61faaf3317d6a63ca3e6c82b636959f0.json"
       },
       "encoding": {
        "color": {
         "field": "Quantity",
         "type": "nominal"
        },
        "x": {
         "axis": {
          "title": "1/T"
         },
         "field": "inv_temp",
         "scale": {
          "zero": false
         },
         "type": "quantitative"
        },
        "y": {
         "axis": {
          "format": "e",
          "title": ""
         },
         "field": "value",
         "scale": {
          "type": "log"
         },
         "type": "quantitative"
        }
       },
       "mark": {
        "filled": true,
        "size": 100,
        "type": "point"
       },
       "transform": [
        {
         "filter": {
          "field": "Quantity",
          "oneOf": [
           "tau_D1_mean",
           "inv_diffusion"
          ]
         }
        }
       ]
      },
      "image/png": "[encoded data removed]",
      "text/plain": [
       "<VegaLite 2 object>\n",
       "\n",
       "If you see this message, it means the renderer has not been properly enabled\n",
       "for the frontend that you are using. For more information, see\n",
       "https://altair-viz.github.io/user_guide/troubleshooting.html\n"
      ]
     },
     "execution_count": 114,
     "metadata": {},
     "output_type": "execute_result"
    }
   ],
   "source": [
    "relax_chart.transform_filter(\n",
    "    alt.FieldOneOfPredicate(field='Quantity', oneOf=[\"tau_D1_mean\", \"inv_diffusion\"])\n",
    ")"
   ]
  },
  {
   "cell_type": "code",
   "execution_count": 115,
   "metadata": {},
   "outputs": [
    {
     "data": {
      "text/plain": [
       "array(['tau_D1_mean', 'tau_D1_hmean', 'tau_D04_mean', 'tau_D04_hmean',\n",
       "       'tau_DL04_mean', 'tau_DL04_hmean', 'tau_T2_mean', 'tau_T2_hmean',\n",
       "       'tau_T3_mean', 'tau_T3_hmean', 'tau_T4_mean', 'tau_T4_hmean',\n",
       "       'max_alpha_time', 'tau_F', 'max_gamma_time', 'tau_R1', 'tau_R2',\n",
       "       'tau_S', 'inv_diffusion'], dtype=object)"
      ]
     },
     "execution_count": 115,
     "metadata": {},
     "output_type": "execute_result"
    }
   ],
   "source": [
    "long_relax.Quantity.unique()"
   ]
  },
  {
   "cell_type": "code",
   "execution_count": 95,
   "metadata": {},
   "outputs": [
    {
     "data": {
      "application/vnd.vegalite.v2+json": {
       "$schema": "https://vega.github.io/schema/vega-lite/v2.6.0.json",
       "config": {
        "axis": {
         "grid": false
        },
        "view": {
         "height": 400,
         "width": 600
        }
       },
       "data": {
        "format": {
         "type": "json"
        },
        "url": "altair-data-61faaf3317d6a63ca3e6c82b636959f0.json"
       },
       "encoding": {
        "color": {
         "field": "Quantity",
         "type": "nominal"
        },
        "x": {
         "field": "inv_temp",
         "scale": {
          "zero": false
         },
         "type": "quantitative"
        },
        "y": {
         "axis": {
          "format": "e"
         },
         "field": "value",
         "scale": {
          "type": "log"
         },
         "type": "quantitative"
        }
       },
       "mark": {
        "filled": true,
        "size": 80,
        "type": "point"
       },
       "transform": [
        {
         "filter": {
          "field": "Quantity",
          "oneOf": [
           "tau_D04_mean",
           "tau_DL04_mean",
           "tau_S"
          ]
         }
        }
       ]
      },
      "image/png": "[encoded data removed]",
      "text/plain": [
       "<VegaLite 2 object>\n",
       "\n",
       "If you see this message, it means the renderer has not been properly enabled\n",
       "for the frontend that you are using. For more information, see\n",
       "https://altair-viz.github.io/user_guide/troubleshooting.html\n"
      ]
     },
     "execution_count": 95,
     "metadata": {},
     "output_type": "execute_result"
    }
   ],
   "source": [
    "relax_chart.transform_filter(\n",
    "    alt.FieldOneOfPredicate(field='Quantity', oneOf=[\"tau_D04_mean\", \"tau_DL04_mean\", \"tau_S\"])\n",
    ")"
   ]
  },
  {
   "cell_type": "code",
   "execution_count": 97,
   "metadata": {},
   "outputs": [
    {
     "data": {
      "application/vnd.vegalite.v2+json": {
       "$schema": "https://vega.github.io/schema/vega-lite/v2.6.0.json",
       "config": {
        "axis": {
         "grid": false
        },
        "view": {
         "height": 400,
         "width": 600
        }
       },
       "data": {
        "format": {
         "type": "json"
        },
        "url": "altair-data-61faaf3317d6a63ca3e6c82b636959f0.json"
       },
       "encoding": {
        "color": {
         "field": "Quantity",
         "type": "nominal"
        },
        "x": {
         "field": "inv_temp",
         "scale": {
          "zero": false
         },
         "type": "quantitative"
        },
        "y": {
         "axis": {
          "format": "e"
         },
         "field": "value",
         "scale": {
          "type": "log"
         },
         "type": "quantitative"
        }
       },
       "mark": {
        "filled": true,
        "size": 80,
        "type": "point"
       },
       "transform": [
        {
         "filter": {
          "field": "Quantity",
          "oneOf": [
           "tau_R1",
           "tau_T2_mean"
          ]
         }
        }
       ]
      },
      "image/png": "[encoded data removed]",
      "text/plain": [
       "<VegaLite 2 object>\n",
       "\n",
       "If you see this message, it means the renderer has not been properly enabled\n",
       "for the frontend that you are using. For more information, see\n",
       "https://altair-viz.github.io/user_guide/troubleshooting.html\n"
      ]
     },
     "execution_count": 97,
     "metadata": {},
     "output_type": "execute_result"
    }
   ],
   "source": [
    "relax_chart.transform_filter(\n",
    "    alt.FieldOneOfPredicate(field='Quantity', oneOf=[\"tau_R1\", \"tau_T2_mean\"])\n",
    ")"
   ]
  },
  {
   "cell_type": "code",
   "execution_count": 99,
   "metadata": {},
   "outputs": [
    {
     "data": {
      "application/vnd.vegalite.v2+json": {
       "$schema": "https://vega.github.io/schema/vega-lite/v2.6.0.json",
       "config": {
        "axis": {
         "grid": false
        },
        "view": {
         "height": 400,
         "width": 600
        }
       },
       "data": {
        "format": {
         "type": "json"
        },
        "url": "altair-data-61faaf3317d6a63ca3e6c82b636959f0.json"
       },
       "encoding": {
        "color": {
         "field": "Quantity",
         "type": "nominal"
        },
        "x": {
         "field": "inv_temp",
         "scale": {
          "zero": false
         },
         "type": "quantitative"
        },
        "y": {
         "axis": {
          "format": "e"
         },
         "field": "value",
         "scale": {
          "type": "log"
         },
         "type": "quantitative"
        }
       },
       "mark": {
        "filled": true,
        "size": 80,
        "type": "point"
       },
       "transform": [
        {
         "filter": {
          "field": "Quantity",
          "oneOf": [
           "tau_R2",
           "tau_T4_mean"
          ]
         }
        }
       ]
      },
      "image/png": "[encoded data removed]",
      "text/plain": [
       "<VegaLite 2 object>\n",
       "\n",
       "If you see this message, it means the renderer has not been properly enabled\n",
       "for the frontend that you are using. For more information, see\n",
       "https://altair-viz.github.io/user_guide/troubleshooting.html\n"
      ]
     },
     "execution_count": 99,
     "metadata": {},
     "output_type": "execute_result"
    }
   ],
   "source": [
    "relax_chart.transform_filter(\n",
    "    alt.FieldOneOfPredicate(field='Quantity', oneOf=[\"tau_R2\", \"tau_T4_mean\"])\n",
    ")"
   ]
  },
  {
   "cell_type": "code",
   "execution_count": 101,
   "metadata": {},
   "outputs": [
    {
     "data": {
      "application/vnd.vegalite.v2+json": {
       "$schema": "https://vega.github.io/schema/vega-lite/v2.6.0.json",
       "config": {
        "axis": {
         "grid": false
        },
        "view": {
         "height": 400,
         "width": 600
        }
       },
       "data": {
        "format": {
         "type": "json"
        },
        "url": "altair-data-61faaf3317d6a63ca3e6c82b636959f0.json"
       },
       "encoding": {
        "color": {
         "field": "Quantity",
         "type": "nominal"
        },
        "x": {
         "field": "inv_temp",
         "scale": {
          "zero": false
         },
         "type": "quantitative"
        },
        "y": {
         "axis": {
          "format": "e"
         },
         "field": "value",
         "scale": {
          "type": "log"
         },
         "type": "quantitative"
        }
       },
       "mark": {
        "filled": true,
        "size": 80,
        "type": "point"
       },
       "transform": [
        {
         "filter": {
          "field": "Quantity",
          "oneOf": [
           "tau_R2",
           "inv_diffusion"
          ]
         }
        }
       ]
      },
      "image/png": "[encoded data removed]",
      "text/plain": [
       "<VegaLite 2 object>\n",
       "\n",
       "If you see this message, it means the renderer has not been properly enabled\n",
       "for the frontend that you are using. For more information, see\n",
       "https://altair-viz.github.io/user_guide/troubleshooting.html\n"
      ]
     },
     "execution_count": 101,
     "metadata": {},
     "output_type": "execute_result"
    }
   ],
   "source": [
    "relax_chart.transform_filter(\n",
    "    alt.FieldOneOfPredicate(field='Quantity', oneOf=[\"tau_R2\", \"inv_diffusion\"])\n",
    ")"
   ]
  },
  {
   "cell_type": "code",
   "execution_count": 105,
   "metadata": {},
   "outputs": [
    {
     "data": {
      "application/vnd.vegalite.v2+json": {
       "$schema": "https://vega.github.io/schema/vega-lite/v2.6.0.json",
       "config": {
        "axis": {
         "grid": false
        },
        "view": {
         "height": 400,
         "width": 600
        }
       },
       "data": {
        "format": {
         "type": "json"
        },
        "url": "altair-data-61faaf3317d6a63ca3e6c82b636959f0.json"
       },
       "encoding": {
        "color": {
         "field": "Quantity",
         "type": "nominal"
        },
        "x": {
         "field": "inv_temp",
         "scale": {
          "zero": false
         },
         "type": "quantitative"
        },
        "y": {
         "axis": {
          "format": "e"
         },
         "field": "value",
         "scale": {
          "type": "log"
         },
         "type": "quantitative"
        }
       },
       "mark": {
        "filled": true,
        "size": 80,
        "type": "point"
       },
       "transform": [
        {
         "filter": {
          "field": "Quantity",
          "oneOf": [
           "tau_D1_mean",
           "tau_D04_mean"
          ]
         }
        }
       ]
      },
      "image/png": "[encoded data removed]",
      "text/plain": [
       "<VegaLite 2 object>\n",
       "\n",
       "If you see this message, it means the renderer has not been properly enabled\n",
       "for the frontend that you are using. For more information, see\n",
       "https://altair-viz.github.io/user_guide/troubleshooting.html\n"
      ]
     },
     "execution_count": 105,
     "metadata": {},
     "output_type": "execute_result"
    }
   ],
   "source": [
    "relax_chart.transform_filter(\n",
    "    alt.FieldOneOfPredicate(field='Quantity', oneOf=[\"tau_D1_mean\", \"tau_D04_mean\"])\n",
    ")"
   ]
  },
  {
   "cell_type": "code",
   "execution_count": null,
   "metadata": {},
   "outputs": [],
   "source": []
  }
 ],
 "metadata": {
  "kernelspec": {
   "display_name": "dynamics",
   "language": "python",
   "name": "dynamics"
  },
  "language_info": {
   "codemirror_mode": {
    "name": "ipython",
    "version": 3
   },
   "file_extension": ".py",
   "mimetype": "text/x-python",
   "name": "python",
   "nbconvert_exporter": "python",
   "pygments_lexer": "ipython3",
   "version": "3.6.6"
  }
 },
 "nbformat": 4,
 "nbformat_minor": 2
}
