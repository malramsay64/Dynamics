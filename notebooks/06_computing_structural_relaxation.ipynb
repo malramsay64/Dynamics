{
 "cells": [
  {
   "cell_type": "markdown",
   "metadata": {},
   "source": [
    "# Computing Structural Relaxation\n",
    "\n",
    "## What is structural relaxation\n",
    "\n",
    "Structural relaxation is a key concept for studying\n",
    "the dynamics of supercooled liquids,\n",
    "being the most fundamental relaxation process (Angell 2000).\n",
    "It is the process by which\n",
    "a liquid forgets it's structure from some earlier time (Edger 1996),\n",
    "and can be measured experimentally through\n",
    "quasi-elastic neutron scattering or photon correlation spectroscopy.\n",
    "These experimental techniques are measuring\n",
    "the density-density correlations of the liquid,\n",
    "which can be represented by either\n",
    "the density autocorrelation function,\n",
    "or as is more common the intermediate scattering function $F(k, t)$.\n",
    "This function is represented as\n",
    "\n",
    "$$ F(k, t) = \\frac{1}{N}\\langle \\sum_j^N \\exp{\n",
    "    i\\mathbf{k} \\cdot [\\mathbf{r}_j(0) - \\mathbf{r}_j(t)]\n",
    "} \\rangle $$\n",
    "\n",
    "where the angle brackets denote the averaging over\n",
    "many initial configurations.\n",
    "\n",
    "The intermediate scattering function is\n",
    "the spatial Fourier transform of the\n",
    "van Hove correlation function $G(r, t)$\n",
    "which is a much quantity to calculate\n",
    "from simulated systems.\n",
    "The van Hove correlation function is given as;\n",
    "\n",
    "$$G(r, t) = \\frac{1}{4\\pi r^2 \\Delta r} \\langle \\delta[r_i(t) - r_i(0) - r] \\rangle$$\n",
    "\n",
    "Instead of computing the intermediate scattering function\n",
    "for all values of the wave-vector $k$,\n",
    "just a single value for the wave-vector is tracked through time.\n",
    "The choice of this wave-vector is chosen as\n",
    "peak of the static structure factor $S(k)$\n",
    "as this is the largest and so has the biggest response.\n",
    "The static structure factor $S(k)$\n",
    "is the time independent version of\n",
    "the intermediate scattering function.\n",
    "The structure factor is computed from the\n",
    "radial distribution function $G(r)$,\n",
    "being the time independent part of the\n",
    "van Hove correlation function.\n",
    "\n",
    "The radial distribution function $G(r)$\n",
    "is computed as\n",
    "\n",
    "$$ G(r) = \\frac{1}{N\\rho} \\sum_i^N \\sum_{j\\ne i}^N \\delta[r - r_{ij}] $$\n",
    "\n",
    "while the static structure factor $S(k)$\n",
    "is the Fourier transform of\n",
    "the radial distribution function\n",
    "\n",
    "$$ S(q) = 1 + \\rho \\int dr e^{-iqr} [G(r) - 1] $$\n",
    "\n",
    "## Computing the structural relaxation\n",
    "\n",
    "This is a notebook for computing\n",
    "the structural relaxation of\n",
    "a molecular dynamics trajectory\n",
    "which contains 675 trimer molecules.\n",
    "\n",
    "### Loading the trajectory\n",
    "\n",
    "The first step here is to load the trajectory for analysis.\n",
    "For this step I have written a helper function\n",
    "to make this process simpler\n",
    "which is contained within the `sdanalysis` package."
   ]
  },
  {
   "cell_type": "code",
   "execution_count": 1,
   "metadata": {},
   "outputs": [],
   "source": [
    "# Import sdanalysis to read input files\n",
    "import sdanalysis"
   ]
  },
  {
   "cell_type": "markdown",
   "metadata": {},
   "source": [
    "The input file which we want to read\n",
    "is for an exponential sequence of steps\n",
    "at a relatively high temperature\n",
    "so that we don't have to read\n",
    "too many steps of the trajectory,\n",
    "that is, everything will go faster.\n",
    "The temperature which I am choosing will be 0.80\n",
    "at a pressure of 1.0"
   ]
  },
  {
   "cell_type": "code",
   "execution_count": 2,
   "metadata": {},
   "outputs": [],
   "source": [
    "temperature = 0.80\n",
    "pressure = 1.00\n",
    "\n",
    "# This is a python standard library module which makes handling paths\n",
    "# significantly simpler\n",
    "from pathlib import Path\n",
    "\n",
    "# Path to the directory holding the input files\n",
    "data_directory = Path(\"../data/simulations/trimer/output\")\n",
    "\n",
    "filename = data_directory / f\"trajectory-Trimer-P{pressure:.2f}-T{temperature:.2f}.gsd\""
   ]
  },
  {
   "cell_type": "markdown",
   "metadata": {},
   "source": [
    "With the path of the file to read\n",
    "we now need to access the first configuration of the trajectory\n",
    "which can be used to calculate the\n",
    "radial distribution function.\n",
    "The function `sdanalysis.open_trajectory` returns an iterator,\n",
    "so to get the first snapshot from the file\n",
    "we have to use the `next` function."
   ]
  },
  {
   "cell_type": "code",
   "execution_count": 3,
   "metadata": {},
   "outputs": [],
   "source": [
    "init_snapshot = next(sdanalysis.open_trajectory(filename))"
   ]
  },
  {
   "cell_type": "markdown",
   "metadata": {},
   "source": [
    "Getting the positions of particles\n",
    "from the snapshot can be done by calling the\n",
    "`position` property"
   ]
  },
  {
   "cell_type": "code",
   "execution_count": 4,
   "metadata": {},
   "outputs": [
    {
     "data": {
      "text/plain": [
       "array([[-23.3865   ,  -9.239151 ,   0.       ],\n",
       "       [  3.9658844, -22.591003 ,   0.       ],\n",
       "       [ 12.305967 ,  14.258924 ,   0.       ],\n",
       "       ...,\n",
       "       [ 13.643798 , -16.695618 ,   0.       ],\n",
       "       [ 16.10849  , -11.522567 ,   0.       ],\n",
       "       [ 25.02609  , -14.913969 ,   0.       ]], dtype=float32)"
      ]
     },
     "execution_count": 4,
     "metadata": {},
     "output_type": "execute_result"
    }
   ],
   "source": [
    "init_snapshot.position"
   ]
  },
  {
   "cell_type": "markdown",
   "metadata": {},
   "source": [
    "Note that these are the positions for the\n",
    "center-of-mass for each of the 625 molecules.\n",
    "The positions of the individual particles\n",
    "can be calculated from\n",
    "the positions and orientations,\n",
    "where the orientations in quaternion form\n",
    "are accessed through the `orientation` property.\n",
    "\n",
    "Additionally the description of box can be retrieved\n",
    "with the `box` property"
   ]
  },
  {
   "cell_type": "code",
   "execution_count": 5,
   "metadata": {},
   "outputs": [
    {
     "data": {
      "text/plain": [
       "array([62.86591, 62.86591,  1.     ,  0.     ,  0.     ,  0.     ],\n",
       "      dtype=float32)"
      ]
     },
     "execution_count": 5,
     "metadata": {},
     "output_type": "execute_result"
    }
   ],
   "source": [
    "init_snapshot.box"
   ]
  },
  {
   "cell_type": "markdown",
   "metadata": {},
   "source": [
    "We can combine these properties of\n",
    "the initial snapshot and calculate the\n",
    "radial distribution function.\n",
    "\n",
    "### Computing the radial distribution function\n",
    "\n",
    "The Glotzer group have developed a python package\n",
    "called [freud](https://github.com/glotzerlab/freud) for the analysis of\n",
    "molecular dynamics trajectories.\n",
    "This package includes a function\n",
    "for computing the radial distribution function\n",
    "[`freud.density.RDF`](https://freud.readthedocs.io/en/stable/density.html#freud.density.RDF)\n",
    "I will be using this function for computing $G(r)$"
   ]
  },
  {
   "cell_type": "code",
   "execution_count": 56,
   "metadata": {},
   "outputs": [
    {
     "data": {
      "text/plain": [
       "<freud.density.RDF at 0x7fa626ddf780>"
      ]
     },
     "execution_count": 56,
     "metadata": {},
     "output_type": "execute_result"
    }
   ],
   "source": [
    "# import the freud library\n",
    "import freud\n",
    "\n",
    "# The simulation box of the snapshot\n",
    "box = freud.box.Box(\n",
    "    Lx=init_snapshot.box[0],\n",
    "    Ly=init_snapshot.box[1],\n",
    "    is2D=True,\n",
    ")\n",
    "\n",
    "# This is the size of the bins for the distribution function\n",
    "dr=0.1\n",
    "# The maximum radius to integrate to, this has to be smaller than half the\n",
    "# width of the box.\n",
    "rmax=20\n",
    "rdf = freud.density.RDF(rmax=rmax, dr=dr)\n",
    "\n",
    "rdf.compute(box, init_snapshot.position)"
   ]
  },
  {
   "cell_type": "markdown",
   "metadata": {},
   "source": [
    "This has calculated the radial distribution function\n",
    "for the snapshot,\n",
    "which we can plot using matplotlib."
   ]
  },
  {
   "cell_type": "code",
   "execution_count": 7,
   "metadata": {},
   "outputs": [
    {
     "data": {
      "text/plain": [
       "[<matplotlib.lines.Line2D at 0x7fa62705b8d0>]"
      ]
     },
     "execution_count": 7,
     "metadata": {},
     "output_type": "execute_result"
    },
    {
     "data": {
      "image/png": "[encoded data removed]",
      "text/plain": [
       "<Figure size 432x288 with 1 Axes>"
      ]
     },
     "metadata": {
      "needs_background": "light"
     },
     "output_type": "display_data"
    }
   ],
   "source": [
    "%matplotlib inline\n",
    "import matplotlib.pyplot as plt\n",
    "\n",
    "plt.plot(rdf.R, rdf.RDF)"
   ]
  },
  {
   "cell_type": "markdown",
   "metadata": {},
   "source": [
    "It is possible to read many configurations\n",
    "and use the function `rdf.accumulate`\n",
    "instead of `rdf.compute`\n",
    "to generate a smoother curve."
   ]
  },
  {
   "cell_type": "code",
   "execution_count": 8,
   "metadata": {},
   "outputs": [
    {
     "data": {
      "text/plain": [
       "[<matplotlib.lines.Line2D at 0x7fa626fff5f8>]"
      ]
     },
     "execution_count": 8,
     "metadata": {},
     "output_type": "execute_result"
    },
    {
     "data": {
      "image/png": "[encoded data removed]",
      "text/plain": [
       "<Figure size 432x288 with 1 Axes>"
      ]
     },
     "metadata": {
      "needs_background": "light"
     },
     "output_type": "display_data"
    }
   ],
   "source": [
    "# This is the size of the bins for the distribution function\n",
    "dr=0.1\n",
    "# The maximum radius to integrate to, this has to be smaller than half the\n",
    "# width of the box.\n",
    "rmax=20\n",
    "rdf = freud.density.RDF(rmax=rmax, dr=dr)\n",
    "\n",
    "# Average over the first `num_frames` frames\n",
    "num_frames = 1000\n",
    "for index, snapshot in enumerate(sdanalysis.open_trajectory(filename)):\n",
    "    if index > num_frames:\n",
    "        break\n",
    "\n",
    "    box = freud.box.Box(\n",
    "        Lx=snapshot.box[0],\n",
    "        Ly=snapshot.box[1],\n",
    "        is2D=True,\n",
    "    )\n",
    "    rdf.accumulate(box, snapshot.position)\n",
    "\n",
    "plt.plot(rdf.R, rdf.RDF)"
   ]
  },
  {
   "cell_type": "markdown",
   "metadata": {},
   "source": [
    "### Computing the structure factor\n",
    "\n",
    "Now that we have nicely computed the radial distribution function\n",
    "we can convert it to the structure factor $S(k)$\n",
    "the equation for which is below for reference.\n",
    "\n",
    "$$ S(k) = 1 + \\rho \\int dr e^{-ikr} [G(r) - 1] $$\n",
    "\n",
    "We are going to be taking the Fourier Transform of $G(r) -1$,\n",
    "using the numpy implementation of the Fast Fourier transform,\n",
    "[`numpy.fft.fft`](https://docs.scipy.org/doc/numpy-1.14.1/reference/routines.fft.html#module-numpy.fft).\n",
    "Since I am not interested in the absolute magnitude of the peaks,\n",
    "only their relative magnitude and position,\n",
    "I will ignore the $1 +$ and $\\rho$ terms."
   ]
  },
  {
   "cell_type": "code",
   "execution_count": 59,
   "metadata": {},
   "outputs": [
    {
     "data": {
      "text/plain": [
       "[<matplotlib.lines.Line2D at 0x7fa624931d68>]"
      ]
     },
     "execution_count": 59,
     "metadata": {},
     "output_type": "execute_result"
    },
    {
     "data": {
      "image/png": "[encoded data removed]",
      "text/plain": [
       "<Figure size 432x288 with 1 Axes>"
      ]
     },
     "metadata": {
      "needs_background": "light"
     },
     "output_type": "display_data"
    }
   ],
   "source": [
    "import numpy\n",
    "\n",
    "structure_factor = numpy.fft.rfft(rdf.RDF - 1)\n",
    "\n",
    "plt.plot(structure_factor[:len(structure_factor)//2])"
   ]
  },
  {
   "cell_type": "markdown",
   "metadata": {},
   "source": [
    "In the numpy implementation the first N/2 wave-vectors are the positive ones\n",
    "while the last N/2 are the negative ones.\n",
    "To find the wave-vector which is most prominent\n",
    "and we consequently want to track\n",
    "for the time dependent scattering function\n",
    "we can find the position of the maximum value"
   ]
  },
  {
   "cell_type": "code",
   "execution_count": 60,
   "metadata": {},
   "outputs": [
    {
     "data": {
      "text/plain": [
       "8"
      ]
     },
     "execution_count": 60,
     "metadata": {},
     "output_type": "execute_result"
    }
   ],
   "source": [
    "wave_vector = numpy.argmax(structure_factor)\n",
    "wave_vector"
   ]
  },
  {
   "cell_type": "markdown",
   "metadata": {},
   "source": [
    "Here we see that the maximum is 8,\n",
    "so we want a wave-vector $k = 8$\n",
    "\n",
    "### Calculating the intermediate scattering function\n",
    "\n",
    "The intermediate scattering function is given by\n",
    "\n",
    "$$ F(k, t) = \\frac{1}{N}\\langle \\sum_j^N \\exp{\n",
    "    i\\mathbf{k} \\cdot [\\mathbf{r}_j(0) - \\mathbf{r}_j(t)]\n",
    "} \\rangle $$\n",
    "\n",
    "where the scalar $k$ is the wave number,\n",
    "and the vector $\\mathbf{k}$ is the wave vector.\n",
    "\n",
    "The relationship between\n",
    "the wave number and the wave vector\n",
    "is the type of wave we want to compute.\n",
    "In the case of an isotropic liquid, that is,\n",
    "the liquid is the same in all directions,\n",
    "the wave we want is radially expanding in all directions,\n",
    "which takes the form\n",
    "\n",
    "$$ \\mathbf{k} = k \\frac{1}{M}\\sum_a^M [\\cos(\\theta_a), \\sin(\\theta_a)] $$\n",
    "\n",
    "Where the sum is over $N$ values of\n",
    "the angle $\\theta_i$ which ranges in value from $0$ to $2\\pi$.\n",
    "\n",
    "Substituting this value for $\\mathbf{k}$\n",
    "into our expression for the intermediate scattering function\n",
    "we get\n",
    "\n",
    "$$\n",
    "F(t) = \\frac{1}{N}\\langle \\sum_j^N\\sum_a^M \\exp{\n",
    "8i [\\cos(\\theta_a), \\sin(\\theta_a)] \\cdot [r_{j}(0) - r_{j}(t)]\n",
    "} \\rangle\n",
    "$$\n",
    "\n",
    "Additionally since we can only use the real component\n",
    "this can be further simplified to\n",
    "\n",
    "$$\n",
    "F(t) = \\frac{1}{N}\\langle \\sum_j^N\\sum_a^M \\cos{\n",
    "8 [\\cos(\\theta_a), \\sin(\\theta_a)] \\cdot [r_{j}(0) - r_{j}(t)]\n",
    "} \\rangle\n",
    "$$\n",
    "\n",
    "Additionally to simplify everything once more,\n",
    "and since I am only using a single starting configuration here,\n",
    "I am going to use the angle brackets to\n",
    "denote a mean over all particles and angles.\n",
    "Enabling me to write\n",
    "\n",
    "$$ F(t) = \\langle \\cos(\n",
    "8 [\\cos(\\theta_a), \\sin(\\theta_a)] \\cdot [r_{j}(0) - r_{j}(t)]\n",
    ") \\rangle $$\n",
    "\n",
    "This can then be converted to a python function:"
   ]
  },
  {
   "cell_type": "code",
   "execution_count": null,
   "metadata": {},
   "outputs": [],
   "source": [
    "def intermediate_scattering_function(\n",
    "    box: freud.box.Box,\n",
    "    initial_position: numpy.ndarray,\n",
    "    current_position: numpy.ndarray,\n",
    "    wave_number: int,\n",
    "    angular_resolution: int = 60,\n",
    ") -> float:\n",
    "    r\"\"\"Calculate the intermediate scattering function for a specific wave-vector\n",
    "\n",
    "    This calculates the equation\n",
    "\n",
    "    .. math::\n",
    "        F(k, t) = \\langle \\cos(\n",
    "            k [\\cos(\\theta_a), \\sin(\\theta_a)] \\cdot [r_{x}(0) - r_{x}(t)]\n",
    "        ) \\rangle\n",
    "\n",
    "    Where k is the value of `wave_number`, the values of the array `inital_position` are\n",
    "    $r_x(0)$, while `current_position` is $r_(t)$. The number of values for the angle is\n",
    "    give the `angular_resolution`.\n",
    "\n",
    "    The values of initial_position and current_position are both expected to be a vector\n",
    "    of shape N x 3 and the appropriate elements are extracted from it.\n",
    "\n",
    "    \"\"\"\n",
    "    angles = numpy.linspace(0, 2*numpy.pi, num=angular_resolution, endpoint=False).reshape((-1, 1))\n",
    "    wave_vector = numpy.concatenate([numpy.cos(angles), numpy.sin(angles)], axis=1)\n",
    "    wave_vector *= wave_number\n",
    "\n",
    "    displacement = box.wrap(initial_position - current_position)[:, :2]\n",
    "\n",
    "    return numpy.mean(numpy.cos(numpy.dot(wave_vector, displacement.T)))"
   ]
  },
  {
   "cell_type": "markdown",
   "metadata": {},
   "source": [
    "This function we have just written can now be used the compute\n",
    "the structural relaxation for this trajectory."
   ]
  },
  {
   "cell_type": "code",
   "execution_count": 54,
   "metadata": {},
   "outputs": [],
   "source": [
    "timesteps = []\n",
    "scattering_values = []\n",
    "num_frames = 1000\n",
    "\n",
    "for index, snapshot in enumerate(sdanalysis.open_trajectory(filename)):\n",
    "    if index > num_frames:\n",
    "        break\n",
    "\n",
    "    box = freud.box.Box(\n",
    "        Lx=snapshot.box[0],\n",
    "        Ly=snapshot.box[1],\n",
    "        is2D=True,\n",
    "    )\n",
    "\n",
    "    timesteps.append(snapshot.timestep)\n",
    "\n",
    "    scattering_values.append(intermediate_scattering_function(\n",
    "        box, init_snapshot.position, snapshot.position, wave_number=8, angular_resolution=360\n",
    "    ))"
   ]
  },
  {
   "cell_type": "markdown",
   "metadata": {},
   "source": [
    "And plotting the resulting values"
   ]
  },
  {
   "cell_type": "code",
   "execution_count": 55,
   "metadata": {},
   "outputs": [
    {
     "data": {
      "image/png": "[encoded data removed]",
      "text/plain": [
       "<Figure size 432x288 with 1 Axes>"
      ]
     },
     "metadata": {
      "needs_background": "light"
     },
     "output_type": "display_data"
    }
   ],
   "source": [
    "plt.plot(timesteps, scattering_values)\n",
    "plt.xscale('log')"
   ]
  }
 ],
 "metadata": {
  "jupytext": {
   "formats": "ipynb,md"
  },
  "kernelspec": {
   "display_name": "dynamics",
   "language": "python",
   "name": "dynamics"
  },
  "language_info": {
   "codemirror_mode": {
    "name": "ipython",
    "version": 3
   },
   "file_extension": ".py",
   "mimetype": "text/x-python",
   "name": "python",
   "nbconvert_exporter": "python",
   "pygments_lexer": "ipython3",
   "version": "3.6.8"
  }
 },
 "nbformat": 4,
 "nbformat_minor": 2
}
