{
 "cells": [
  {
   "cell_type": "markdown",
   "metadata": {},
   "source": [
    "# Computing Structural Relaxation\n",
    "\n",
    "## What is structural relaxation\n",
    "\n",
    "Structural relaxation is a key concept for studying\n",
    "the dynamics of supercooled liquids,\n",
    "being the most fundamental relaxation process (Angell 2000).\n",
    "It is the process by which\n",
    "a liquid forgets it's structure from some earlier time (Edger 1996),\n",
    "and can be measured experimentally through\n",
    "quasi-elastic neutron scattering or photon correlation spectroscopy.\n",
    "These experimental techniques are measuring\n",
    "the density-density correlations of the liquid,\n",
    "which can be represented by either\n",
    "the density autocorrelation function,\n",
    "or as is more common the intermediate scattering function $F(k, t)$.\n",
    "This function is represented as\n",
    "\n",
    "$$ F(k, t) = \\frac{1}{N}\\langle \\sum_j^N \\exp{\n",
    "    i\\mathbf{k} \\cdot [\\mathbf{r}_j(0) - \\mathbf{r}_j(t)]\n",
    "} \\rangle $$\n",
    "\n",
    "where the angle brackets denote the averaging over\n",
    "many initial configurations.\n",
    "\n",
    "The intermediate scattering function is\n",
    "the spatial Fourier transform of the\n",
    "van Hove correlation function $G(r, t)$\n",
    "which is a much quantity to calculate\n",
    "from simulated systems.\n",
    "The van Hove correlation function is given as;\n",
    "\n",
    "$$G(r, t) = \\frac{1}{4\\pi r^2 \\Delta r} \\langle \\delta[r_i(t) - r_i(0) - r] \\rangle$$\n",
    "\n",
    "Instead of computing the intermediate scattering function\n",
    "for all values of the wave-vector $k$,\n",
    "just a single value for the wave-vector is tracked through time.\n",
    "The choice of this wave-vector is chosen as\n",
    "peak of the static structure factor $S(k)$\n",
    "as this is the largest and so has the biggest response.\n",
    "The static structure factor $S(k)$\n",
    "is the time independent version of\n",
    "the intermediate scattering function.\n",
    "The structure factor is computed from the\n",
    "radial distribution function $G(r)$,\n",
    "being the time independent part of the\n",
    "van Hove correlation function.\n",
    "\n",
    "The radial distribution function $G(r)$\n",
    "is computed as\n",
    "\n",
    "$$ G(r) = \\frac{1}{N\\rho} \\sum_i^N \\sum_{j\\ne i}^N \\delta[r - r_{ij}] $$\n",
    "\n",
    "while the static structure factor $S(k)$\n",
    "is the Fourier transform of\n",
    "the radial distribution function\n",
    "\n",
    "$$ S(q) = 1 + \\rho \\int dr e^{-iqr} [G(r) - 1] $$\n",
    "\n",
    "While computing the intermediate scattering function\n",
    "is one method of measuring the structural relaxation,\n",
    "it requires calculating the distances\n",
    "between all sets of particles which takes a lot of computation.\n",
    "An alternate method of computing structural relaxation\n",
    "proposed by Widmer-Cooper and Harrowell (Widmer-Cooper2009)\n",
    "uses the displacements of particles from their initial positions\n",
    "\n",
    "$$ F_d(t) = \\frac{1}{N} \\langle \\sum_i w_i(d,t) \\rangle $$\n",
    "\n",
    "where $w_i(d,t)=1$ when a particle is within a distance $d$\n",
    "of the initial position at time $t$ and zero otherwise.\n",
    "The value of $d$ chosen in this paper is\n",
    "\n",
    "$$ d = \\frac{\\pi}{2k_{bragg}} $$\n",
    "\n",
    "where $k_{bragg}$ is the value of the wave vector\n",
    "at the first maximum of the intermediate scattering function.\n",
    "\n",
    "## Computing the structural relaxation\n",
    "\n",
    "This is a notebook for computing\n",
    "the structural relaxation of\n",
    "a molecular dynamics trajectory\n",
    "which contains 675 trimer molecules.\n",
    "\n",
    "### Loading the trajectory\n",
    "\n",
    "The first step here is to load the trajectory for analysis.\n",
    "For this step I have written a helper function\n",
    "to make this process simpler\n",
    "which is contained within the `sdanalysis` package."
   ]
  },
  {
   "cell_type": "code",
   "execution_count": 1,
   "metadata": {},
   "outputs": [],
   "source": [
    "# Import sdanalysis to read input files\n",
    "import sdanalysis"
   ]
  },
  {
   "cell_type": "markdown",
   "metadata": {},
   "source": [
    "The input file which we want to read\n",
    "is for an exponential sequence of steps\n",
    "at a relatively high temperature\n",
    "so that we don't have to read\n",
    "too many steps of the trajectory,\n",
    "that is, everything will go faster.\n",
    "The temperature which I am choosing will be 0.80\n",
    "at a pressure of 1.0"
   ]
  },
  {
   "cell_type": "code",
   "execution_count": 2,
   "metadata": {},
   "outputs": [],
   "source": [
    "temperature = 0.80\n",
    "pressure = 1.00\n",
    "\n",
    "# This is a python standard library module which makes handling paths\n",
    "# significantly simpler\n",
    "from pathlib import Path\n",
    "\n",
    "# Path to the directory holding the input files\n",
    "data_directory = Path(\"../data/simulations/trimer/output\")\n",
    "\n",
    "filename = data_directory / f\"trajectory-Trimer-P{pressure:.2f}-T{temperature:.2f}.gsd\""
   ]
  },
  {
   "cell_type": "markdown",
   "metadata": {},
   "source": [
    "With the path of the file to read\n",
    "we now need to access the first configuration of the trajectory\n",
    "which can be used to calculate the\n",
    "radial distribution function.\n",
    "The function `sdanalysis.open_trajectory` returns an iterator,\n",
    "so to get the first snapshot from the file\n",
    "we have to use the `next` function."
   ]
  },
  {
   "cell_type": "code",
   "execution_count": 3,
   "metadata": {},
   "outputs": [],
   "source": [
    "init_snapshot = next(sdanalysis.open_trajectory(filename))"
   ]
  },
  {
   "cell_type": "markdown",
   "metadata": {},
   "source": [
    "Getting the positions of particles\n",
    "from the snapshot can be done by calling the\n",
    "`position` property"
   ]
  },
  {
   "cell_type": "code",
   "execution_count": 4,
   "metadata": {},
   "outputs": [
    {
     "data": {
      "text/plain": [
       "array([[-23.3865   ,  -9.239151 ,   0.       ],\n",
       "       [  3.9658844, -22.591003 ,   0.       ],\n",
       "       [ 12.305967 ,  14.258924 ,   0.       ],\n",
       "       ...,\n",
       "       [ 13.643798 , -16.695618 ,   0.       ],\n",
       "       [ 16.10849  , -11.522567 ,   0.       ],\n",
       "       [ 25.02609  , -14.913969 ,   0.       ]], dtype=float32)"
      ]
     },
     "execution_count": 4,
     "metadata": {},
     "output_type": "execute_result"
    }
   ],
   "source": [
    "init_snapshot.position"
   ]
  },
  {
   "cell_type": "markdown",
   "metadata": {},
   "source": [
    "Note that these are the positions for the\n",
    "center-of-mass for each of the 625 molecules.\n",
    "The positions of the individual particles\n",
    "can be calculated from\n",
    "the positions and orientations,\n",
    "where the orientations in quaternion form\n",
    "are accessed through the `orientation` property.\n",
    "\n",
    "Additionally the description of box can be retrieved\n",
    "with the `box` property"
   ]
  },
  {
   "cell_type": "code",
   "execution_count": 5,
   "metadata": {},
   "outputs": [
    {
     "data": {
      "text/plain": [
       "array([62.86591, 62.86591,  1.     ,  0.     ,  0.     ,  0.     ],\n",
       "      dtype=float32)"
      ]
     },
     "execution_count": 5,
     "metadata": {},
     "output_type": "execute_result"
    }
   ],
   "source": [
    "init_snapshot.box"
   ]
  },
  {
   "cell_type": "markdown",
   "metadata": {},
   "source": [
    "We can combine these properties of\n",
    "the initial snapshot and calculate the\n",
    "radial distribution function.\n",
    "\n",
    "### Computing the radial distribution function\n",
    "\n",
    "The Glotzer group have developed a python package\n",
    "called [freud](https://github.com/glotzerlab/freud) for the analysis of\n",
    "molecular dynamics trajectories.\n",
    "This package includes a function\n",
    "for computing the radial distribution function\n",
    "[`freud.density.RDF`](https://freud.readthedocs.io/en/stable/density.html#freud.density.RDF)\n",
    "I will be using this function for computing $G(r)$"
   ]
  },
  {
   "cell_type": "code",
   "execution_count": 6,
   "metadata": {},
   "outputs": [
    {
     "data": {
      "text/plain": [
       "<freud.density.RDF at 0x7f1f534412b0>"
      ]
     },
     "execution_count": 6,
     "metadata": {},
     "output_type": "execute_result"
    }
   ],
   "source": [
    "# import the freud library\n",
    "import freud\n",
    "\n",
    "# The simulation box of the snapshot\n",
    "box = freud.box.Box(\n",
    "    Lx=init_snapshot.box[0],\n",
    "    Ly=init_snapshot.box[1],\n",
    "    is2D=True,\n",
    ")\n",
    "\n",
    "# This is the size of the bins for the distribution function\n",
    "dr=0.1\n",
    "# The maximum radius to integrate to, this has to be smaller than half the\n",
    "# width of the box.\n",
    "rmax=20\n",
    "rdf = freud.density.RDF(rmax=rmax, dr=dr)\n",
    "\n",
    "rdf.compute(box, init_snapshot.position)"
   ]
  },
  {
   "cell_type": "markdown",
   "metadata": {},
   "source": [
    "This has calculated the radial distribution function\n",
    "for the snapshot,\n",
    "which we can plot using matplotlib."
   ]
  },
  {
   "cell_type": "code",
   "execution_count": 7,
   "metadata": {},
   "outputs": [
    {
     "data": {
      "text/plain": [
       "[<matplotlib.lines.Line2D at 0x7f1f51af9940>]"
      ]
     },
     "execution_count": 7,
     "metadata": {},
     "output_type": "execute_result"
    },
    {
     "data": {
      "image/png": "[encoded data removed]",
      "text/plain": [
       "<Figure size 432x288 with 1 Axes>"
      ]
     },
     "metadata": {
      "needs_background": "light"
     },
     "output_type": "display_data"
    }
   ],
   "source": [
    "%matplotlib inline\n",
    "import matplotlib.pyplot as plt\n",
    "\n",
    "plt.plot(rdf.R, rdf.RDF)"
   ]
  },
  {
   "cell_type": "markdown",
   "metadata": {},
   "source": [
    "It is possible to read many configurations\n",
    "and use the function `rdf.accumulate`\n",
    "instead of `rdf.compute`\n",
    "to generate a smoother curve."
   ]
  },
  {
   "cell_type": "code",
   "execution_count": 8,
   "metadata": {},
   "outputs": [
    {
     "data": {
      "text/plain": [
       "[<matplotlib.lines.Line2D at 0x7f1f51a10f60>]"
      ]
     },
     "execution_count": 8,
     "metadata": {},
     "output_type": "execute_result"
    },
    {
     "data": {
      "image/png": "[encoded data removed]",
      "text/plain": [
       "<Figure size 432x288 with 1 Axes>"
      ]
     },
     "metadata": {
      "needs_background": "light"
     },
     "output_type": "display_data"
    }
   ],
   "source": [
    "# This is the size of the bins for the distribution function\n",
    "dr=0.1\n",
    "# The maximum radius to integrate to, this has to be smaller than half the\n",
    "# width of the box.\n",
    "rmax=20\n",
    "rdf = freud.density.RDF(rmax=rmax, dr=dr)\n",
    "\n",
    "# Average over the first `num_frames` frames\n",
    "num_frames = 1000\n",
    "for index, snapshot in enumerate(sdanalysis.open_trajectory(filename)):\n",
    "    if index > num_frames:\n",
    "        break\n",
    "\n",
    "    box = freud.box.Box(\n",
    "        Lx=snapshot.box[0],\n",
    "        Ly=snapshot.box[1],\n",
    "        is2D=True,\n",
    "    )\n",
    "    rdf.accumulate(box, snapshot.position)\n",
    "\n",
    "plt.plot(rdf.R, rdf.RDF)"
   ]
  },
  {
   "cell_type": "markdown",
   "metadata": {},
   "source": [
    "### Computing the structure factor\n",
    "\n",
    "Now that we have nicely computed the radial distribution function\n",
    "we can convert it to the structure factor $S(k)$\n",
    "the equation for which is below for reference.\n",
    "\n",
    "$$ S(k) = 1 + \\rho \\int dr e^{-ikr} [G(r) - 1] $$\n",
    "\n",
    "Although computing the structure factor\n",
    "is supposed to be a Fourier transform,\n",
    "from [Wikipedia](https://en.wikipedia.org/wiki/Radial_distribution_function#The_structure_factor)\n",
    "we can invoke the isotropy of the liquid giving;\n",
    "\n",
    "$$ S(k) = 1 + 4 \\pi \\rho \\frac{1}{k} \\int dr r \\sin(qr) [g(r) - 1] $$\n",
    "\n",
    "where $\\rho$ is the number density of the liquid.\n",
    "\n",
    "This can be calculated"
   ]
  },
  {
   "cell_type": "code",
   "execution_count": 9,
   "metadata": {},
   "outputs": [],
   "source": [
    "import numpy\n",
    "\n",
    "def static_structure_factor(\n",
    "    rdf: freud.density.RDF,\n",
    "    wave_number: float,\n",
    "    num_particles: int\n",
    "):\n",
    "    dr = rdf.R[1] - rdf.R[0]\n",
    "    integral = dr * numpy.sum(\n",
    "        (rdf.RDF - 1) *\n",
    "        rdf.R *\n",
    "        numpy.sin(wave_number * rdf.R)\n",
    "    )\n",
    "    density = num_particles / rdf.box.volume\n",
    "    return 1 + 4 * numpy.pi * density / wave_number * integral"
   ]
  },
  {
   "cell_type": "code",
   "execution_count": 10,
   "metadata": {},
   "outputs": [
    {
     "data": {
      "image/png": "[encoded data removed]",
      "text/plain": [
       "<Figure size 432x288 with 1 Axes>"
      ]
     },
     "metadata": {
      "needs_background": "light"
     },
     "output_type": "display_data"
    }
   ],
   "source": [
    "ssf = []\n",
    "x = numpy.linspace(0.5, 20, 1000)\n",
    "for value in x:\n",
    "    ssf.append(static_structure_factor(rdf, value, snapshot.num_mols))\n",
    "\n",
    "plt.plot(x, ssf)\n",
    "plt.savefig(\"../figures/thesis/static_structure_factor.pdf\")"
   ]
  },
  {
   "cell_type": "code",
   "execution_count": 11,
   "metadata": {},
   "outputs": [
    {
     "data": {
      "text/plain": [
       "2.7837837837837838"
      ]
     },
     "execution_count": 11,
     "metadata": {},
     "output_type": "execute_result"
    }
   ],
   "source": [
    "wave_number = x[numpy.argmax(ssf)]\n",
    "wave_number"
   ]
  },
  {
   "cell_type": "code",
   "execution_count": 12,
   "metadata": {},
   "outputs": [
    {
     "data": {
      "text/plain": [
       "0.5642666416641862"
      ]
     },
     "execution_count": 12,
     "metadata": {},
     "output_type": "execute_result"
    }
   ],
   "source": [
    "k_bragg = numpy.pi/(2*wave_number)\n",
    "k_bragg"
   ]
  },
  {
   "cell_type": "markdown",
   "metadata": {},
   "source": [
    "In the numpy implementation the first N/2 wave-vectors are the positive ones\n",
    "while the last N/2 are the negative ones.\n",
    "To find the wave-vector which is most prominent\n",
    "and we consequently want to track\n",
    "for the time dependent scattering function\n",
    "we can find the position of the maximum value\n",
    "\n",
    "Here we see that the maximum is 2.78,\n",
    "so we want a wave-vector $k = 2.78$\n",
    "\n",
    "### Checking for correctness\n",
    "\n",
    "As a check that the calculations of\n",
    "the radial distribution function,\n",
    "the static structure factor,\n",
    "and the appropriate wave number\n",
    "are all correct.\n",
    "We can scale all the positions by a constant value,\n",
    "and the calculated values should reflect this."
   ]
  },
  {
   "cell_type": "code",
   "execution_count": 13,
   "metadata": {},
   "outputs": [],
   "source": [
    "def scale_trajectory(filename: Path, scale_factor: int):\n",
    "    # This is the size of the bins for the distribution function\n",
    "    dr=0.1 * scale_factor\n",
    "    # The maximum radius to integrate to, this has to be smaller than half the\n",
    "    # width of the box.\n",
    "    rmax=20 * scale_factor\n",
    "    rdf = freud.density.RDF(rmax=rmax, dr=dr)\n",
    "\n",
    "    # Average over the first `num_frames` frames\n",
    "    num_frames = 1000\n",
    "    for index, snapshot in enumerate(sdanalysis.open_trajectory(filename)):\n",
    "        if index > num_frames:\n",
    "            break\n",
    "\n",
    "        box = freud.box.Box(\n",
    "            Lx=snapshot.box[0] * scale_factor,\n",
    "            Ly=snapshot.box[1] * scale_factor,\n",
    "            is2D=True,\n",
    "        )\n",
    "        rdf.accumulate(box, snapshot.position * scale_factor)\n",
    "\n",
    "    return rdf"
   ]
  },
  {
   "cell_type": "code",
   "execution_count": 14,
   "metadata": {},
   "outputs": [
    {
     "data": {
      "image/png": "[encoded data removed]",
      "text/plain": [
       "<Figure size 432x288 with 1 Axes>"
      ]
     },
     "metadata": {
      "needs_background": "light"
     },
     "output_type": "display_data"
    }
   ],
   "source": [
    "scale_factor = 2\n",
    "\n",
    "rdf_doubled = scale_trajectory(filename, scale_factor)\n",
    "\n",
    "plt.plot(rdf_doubled.R, rdf_doubled.RDF)\n",
    "plt.savefig(\"../figures/thesis/radial_distribution.pdf\")"
   ]
  },
  {
   "cell_type": "code",
   "execution_count": 15,
   "metadata": {},
   "outputs": [
    {
     "data": {
      "text/plain": [
       "[<matplotlib.lines.Line2D at 0x7f1f5189d240>]"
      ]
     },
     "execution_count": 15,
     "metadata": {},
     "output_type": "execute_result"
    },
    {
     "data": {
      "image/png": "[encoded data removed]",
      "text/plain": [
       "<Figure size 432x288 with 1 Axes>"
      ]
     },
     "metadata": {
      "needs_background": "light"
     },
     "output_type": "display_data"
    }
   ],
   "source": [
    "ssf_doubled = []\n",
    "x = numpy.linspace(0.5, 20, 1000)\n",
    "num_particles = snapshot.num_mols\n",
    "for value in x:\n",
    "    ssf_doubled.append(static_structure_factor(rdf_doubled, value, num_particles))\n",
    "\n",
    "plt.plot(x, ssf_doubled)"
   ]
  },
  {
   "cell_type": "code",
   "execution_count": 16,
   "metadata": {},
   "outputs": [
    {
     "data": {
      "text/plain": [
       "1.3783783783783785"
      ]
     },
     "execution_count": 16,
     "metadata": {},
     "output_type": "execute_result"
    }
   ],
   "source": [
    "wave_number_doubled = x[numpy.argmax(ssf_doubled)]\n",
    "wave_number_doubled"
   ]
  },
  {
   "cell_type": "code",
   "execution_count": 17,
   "metadata": {},
   "outputs": [
    {
     "data": {
      "text/plain": [
       "1.1395973351257092"
      ]
     },
     "execution_count": 17,
     "metadata": {},
     "output_type": "execute_result"
    }
   ],
   "source": [
    "k_bragg_doubled = numpy.pi/(2*wave_number_doubled)\n",
    "k_bragg_doubled"
   ]
  },
  {
   "cell_type": "code",
   "execution_count": 18,
   "metadata": {},
   "outputs": [
    {
     "data": {
      "text/plain": [
       "0.4951456310679612"
      ]
     },
     "execution_count": 18,
     "metadata": {},
     "output_type": "execute_result"
    }
   ],
   "source": [
    "wave_number_doubled / wave_number"
   ]
  },
  {
   "cell_type": "code",
   "execution_count": 19,
   "metadata": {},
   "outputs": [
    {
     "data": {
      "text/plain": [
       "2.019607843137255"
      ]
     },
     "execution_count": 19,
     "metadata": {},
     "output_type": "execute_result"
    }
   ],
   "source": [
    "k_bragg_doubled / k_bragg"
   ]
  },
  {
   "cell_type": "markdown",
   "metadata": {},
   "source": [
    "We can see above that when we have doubled the distance between particles\n",
    "the wave number is half of what it was originally,\n",
    "while the characteristic length scale $k_{bragg}$\n",
    "is now double the original value.\n",
    "\n",
    "This demonstrates that the calculations do indeed appear\n",
    "to be working correctly.\n",
    "\n",
    "### Calculating the intermediate scattering function\n",
    "\n",
    "The intermediate scattering function is given by\n",
    "\n",
    "$$ F(k, t) = \\frac{1}{N}\\langle \\sum_j^N \\exp{\n",
    "    i\\mathbf{k} \\cdot [\\mathbf{r}_j(0) - \\mathbf{r}_j(t)]\n",
    "} \\rangle $$\n",
    "\n",
    "where the scalar $k$ is the wave number,\n",
    "and the vector $\\mathbf{k}$ is the wave vector.\n",
    "\n",
    "Since the intermediate scattering function\n",
    "is a measure of the scattering from a radiation source,\n",
    "since we have an isotropic liquid,\n",
    "where all orientations are equivalent,\n",
    "by rotating the incident radiation,\n",
    "that is choosing a range of values for the wave-vector\n",
    "around the unit circle,\n",
    "we can get a much better representation\n",
    "of the relaxation of the liquid.\n",
    "This transformation gives $\\mathbf{k}$ the form;\n",
    "\n",
    "$$ \\mathbf{k} = k \\frac{1}{M}\\sum_{a=1}^M [\\cos\\left(a\\frac{2\\pi}{M}\\right), \\sin\\left(a\\frac{2\\pi}{M}\\right)] $$\n",
    "\n",
    "Where the sum is over $N$ values of\n",
    "the angle $\\theta_i$ which ranges in value from $0$ to $2\\pi$.\n",
    "\n",
    "Substituting this value for $\\mathbf{k}$\n",
    "into our expression for the intermediate scattering function\n",
    "we get\n",
    "\n",
    "$$\n",
    "F(k, t) = \\frac{1}{NM} \\left \\langle \\sum_j^N\\sum_{a=1}^M \\exp \\left (\n",
    "ik \\left[\\cos\\left(a\\frac{2\\pi}{M}\\right), \\sin \\left(a\\frac{2\\pi}{M} \\right) \\right] \n",
    "\\cdot \n",
    "[\\Delta x_{j}(t), \\Delta y_{j}(t)]\n",
    "\\right ) \\right \\rangle\n",
    "$$\n",
    "\n",
    "Additionally since we can only use the real component\n",
    "this can be further simplified to\n",
    "\n",
    "$$\n",
    "F(k, t) = \\frac{1}{NM} \\left \\langle \\sum_j^N\\sum_{a=1}^M \\cos \\left (\n",
    "k \\left[\\cos\\left(a\\frac{2\\pi}{M}\\right), \\sin \\left(a\\frac{2\\pi}{M} \\right) \\right] \n",
    "\\cdot \n",
    "[\\Delta x_{j}(t), \\Delta y_{j}(t)]\n",
    "\\right ) \\right \\rangle\n",
    "$$\n",
    "\n",
    "Additionally to simplify everything once more,\n",
    "and since I am only using a single starting configuration here,\n",
    "I am going to use the angle brackets to\n",
    "denote a mean over all particles and angles.\n",
    "Enabling me to write\n",
    "\n",
    "$$\n",
    "F(k, t) = \\left \\langle \\cos \\left (\n",
    "k \\left[\\cos\\left(a\\frac{2\\pi}{M}\\right), \\sin \\left(a\\frac{2\\pi}{M} \\right) \\right] \n",
    "\\cdot \n",
    "[\\Delta x_{j}(t), \\Delta y_{j}(t)]\n",
    "\\right ) \\right \\rangle\n",
    "$$\n",
    "\n",
    "This can then be converted to a python function:"
   ]
  },
  {
   "cell_type": "code",
   "execution_count": 20,
   "metadata": {},
   "outputs": [],
   "source": [
    "from functools import lru_cache\n",
    "\n",
    "# This decorator is what enables the caching of this function,\n",
    "# making this function 100 times faster for subsequent exectutions\n",
    "@lru_cache()\n",
    "def create_wave_vector(wave_number: float, angular_resolution: int):\n",
    "    \"\"\"Covnert a wave number into a radially symmetric wave vector\n",
    "\n",
    "    This calculates the values of cos and sin :math:`\\theta` for `angular_resolution`\n",
    "    values of :math:`\\theta` between 0 and :math:`2\\pi`.\n",
    "\n",
    "    The results of this function are cached, so these values only need to be computed\n",
    "    a single time, the rest of the time they are just returned.\n",
    "\n",
    "    \"\"\"\n",
    "    angles = numpy.linspace(0, 2*numpy.pi, num=angular_resolution, endpoint=False).reshape((-1, 1))\n",
    "    wave_vector = numpy.concatenate([numpy.cos(angles), numpy.sin(angles)], axis=1)\n",
    "    return wave_vector * wave_number\n",
    "\n",
    "\n",
    "def intermediate_scattering_function(\n",
    "    box: freud.box.Box,\n",
    "    initial_position: numpy.ndarray,\n",
    "    current_position: numpy.ndarray,\n",
    "    wave_number: int,\n",
    "    angular_resolution: int = 60,\n",
    ") -> float:\n",
    "    r\"\"\"Calculate the intermediate scattering function for a specific wave-vector\n",
    "\n",
    "    This calculates the equation\n",
    "\n",
    "    .. math::\n",
    "        F(k, t) = \\langle \\cos(\n",
    "            k [\\cos(\\theta_a), \\sin(\\theta_a)] \\cdot [r_{x}(0) - r_{x}(t)]\n",
    "        ) \\rangle\n",
    "\n",
    "    Where k is the value of `wave_number`, the values of the array `inital_position` are\n",
    "    $r_x(0)$, while `current_position` is $r_(t)$. The number of values for the angle is\n",
    "    give the `angular_resolution`.\n",
    "\n",
    "    The values of initial_position and current_position are both expected to be a vector\n",
    "    of shape N x 3 and the appropriate elements are extracted from it.\n",
    "\n",
    "    \"\"\"\n",
    "    wave_vector = create_wave_vector(wave_number, angular_resolution)\n",
    "\n",
    "    # We only want the x and the y values from the displacements\n",
    "    displacement = box.wrap(initial_position - current_position)[:, :2]\n",
    "\n",
    "    return numpy.mean(numpy.cos(numpy.dot(wave_vector, displacement.T)))"
   ]
  },
  {
   "cell_type": "markdown",
   "metadata": {},
   "source": [
    "This function we have just written can now be used the compute\n",
    "the structural relaxation for this trajectory."
   ]
  },
  {
   "cell_type": "code",
   "execution_count": 21,
   "metadata": {},
   "outputs": [],
   "source": [
    "timesteps = []\n",
    "scattering_values = []\n",
    "num_frames = 1000\n",
    "\n",
    "for index, snapshot in enumerate(sdanalysis.open_trajectory(filename)):\n",
    "    if index > num_frames:\n",
    "        break\n",
    "\n",
    "    box = freud.box.Box(\n",
    "        Lx=snapshot.box[0],\n",
    "        Ly=snapshot.box[1],\n",
    "        is2D=True,\n",
    "    )\n",
    "\n",
    "    timesteps.append(snapshot.timestep)\n",
    "\n",
    "    scattering_values.append(intermediate_scattering_function(\n",
    "        box, init_snapshot.position, snapshot.position, wave_number, angular_resolution=360\n",
    "    ))"
   ]
  },
  {
   "cell_type": "markdown",
   "metadata": {},
   "source": [
    "And plotting the resulting values"
   ]
  },
  {
   "cell_type": "code",
   "execution_count": 22,
   "metadata": {},
   "outputs": [
    {
     "data": {
      "image/png": "[encoded data removed]",
      "text/plain": [
       "<Figure size 432x288 with 1 Axes>"
      ]
     },
     "metadata": {
      "needs_background": "light"
     },
     "output_type": "display_data"
    }
   ],
   "source": [
    "plt.plot(timesteps, scattering_values)\n",
    "plt.xscale('log')"
   ]
  },
  {
   "cell_type": "markdown",
   "metadata": {},
   "source": [
    "where the figure above shows a reasonable curve for the structural relaxation."
   ]
  },
  {
   "cell_type": "markdown",
   "metadata": {},
   "source": [
    "## Comparison of Structrual Relaxations\n",
    "\n",
    "Currently I am computing structural relaxation using\n",
    "\n",
    "$$ F_d(t) = \\frac{1}{N} \\langle \\sum_i w_i(d,t) \\rangle $$\n",
    "\n",
    "where $d=0.4$. \n",
    "From the static structure calculation above,\n",
    "I should be using a value of $d=0.6$,\n",
    "so does this make a significant difference \n",
    "to how I am measuring the structural realxation?"
   ]
  },
  {
   "cell_type": "code",
   "execution_count": 23,
   "metadata": {},
   "outputs": [],
   "source": [
    "def structural_relaxation(\n",
    "    box: freud.box.Box, \n",
    "    init_position: numpy.ndarray, \n",
    "    current_position:numpy.ndarray,\n",
    "    distance: float,\n",
    "):\n",
    "    displacements = numpy.linalg.norm(box.wrap(init_position - current_position), axis=1)\n",
    "    return numpy.mean(displacements < distance) "
   ]
  },
  {
   "cell_type": "code",
   "execution_count": 24,
   "metadata": {},
   "outputs": [],
   "source": [
    "timesteps = []\n",
    "relaxation_d03 = []\n",
    "relaxation_d04 = []\n",
    "relaxation_d06 = []\n",
    "num_frames = 1000\n",
    "\n",
    "init_snapshot = None\n",
    "\n",
    "for index, snapshot in enumerate(sdanalysis.open_trajectory(filename)):\n",
    "    if index > num_frames:\n",
    "        break\n",
    "        \n",
    "    if index == 0:\n",
    "        init_snapshot = snapshot\n",
    "\n",
    "    box = freud.box.Box(\n",
    "        Lx=snapshot.box[0],\n",
    "        Ly=snapshot.box[1],\n",
    "        is2D=True,\n",
    "    )\n",
    "\n",
    "    timesteps.append(snapshot.timestep)\n",
    "\n",
    "    relaxation_d03.append(\n",
    "        structural_relaxation(box, init_snapshot.position, snapshot.position, distance=0.3)\n",
    "    )\n",
    "    relaxation_d04.append(\n",
    "        structural_relaxation(box, init_snapshot.position, snapshot.position, distance=0.4)\n",
    "    )\n",
    "    relaxation_d06.append(\n",
    "        structural_relaxation(box, init_snapshot.position, snapshot.position, distance=0.6)\n",
    "    )"
   ]
  },
  {
   "cell_type": "code",
   "execution_count": 25,
   "metadata": {},
   "outputs": [
    {
     "data": {
      "text/plain": [
       "<matplotlib.legend.Legend at 0x7f1f51641588>"
      ]
     },
     "execution_count": 25,
     "metadata": {},
     "output_type": "execute_result"
    },
    {
     "data": {
      "image/png": "[encoded data removed]",
      "text/plain": [
       "<Figure size 432x288 with 1 Axes>"
      ]
     },
     "metadata": {
      "needs_background": "light"
     },
     "output_type": "display_data"
    }
   ],
   "source": [
    "plt.plot(timesteps, scattering_values, label=r\"$F$\")\n",
    "plt.plot(timesteps, relaxation_d03, label=r\"$F_{0.3}$\")\n",
    "plt.plot(timesteps, relaxation_d04, label=r\"$F_{0.4}$\")\n",
    "plt.plot(timesteps, relaxation_d06, label=r\"$F_{0.6}$\")\n",
    "plt.xscale('log')\n",
    "plt.legend()"
   ]
  },
  {
   "cell_type": "markdown",
   "metadata": {},
   "source": [
    "## Comparison of computational time\n",
    "\n",
    "The calculation of the intermediate scattering function \n",
    "requires more calculation than that of the structural relaxation function,\n",
    "however how much additional time is it?"
   ]
  },
  {
   "cell_type": "code",
   "execution_count": 26,
   "metadata": {},
   "outputs": [
    {
     "name": "stdout",
     "output_type": "stream",
     "text": [
      "1.47 ms ± 6.59 µs per loop (mean ± std. dev. of 7 runs, 1000 loops each)\n"
     ]
    }
   ],
   "source": [
    "%timeit intermediate_scattering_function(box, init_snapshot.position, snapshot.position, wave_number)"
   ]
  },
  {
   "cell_type": "code",
   "execution_count": 27,
   "metadata": {},
   "outputs": [
    {
     "name": "stdout",
     "output_type": "stream",
     "text": [
      "832 µs ± 9.65 µs per loop (mean ± std. dev. of 7 runs, 1000 loops each)\n"
     ]
    }
   ],
   "source": [
    "%timeit structural_relaxation(box, init_snapshot.position, snapshot.position, distance=0.6)"
   ]
  },
  {
   "cell_type": "markdown",
   "metadata": {},
   "source": [
    "The results above shows that \n",
    "there isn't too much of an additional computational cost \n",
    "in calculating the structural relaxation \n",
    "through the intermediate scattering function."
   ]
  }
 ],
 "metadata": {
  "jupytext": {
   "formats": "ipynb,md"
  },
  "kernelspec": {
   "display_name": "dynamics",
   "language": "python",
   "name": "dynamics"
  },
  "language_info": {
   "codemirror_mode": {
    "name": "ipython",
    "version": 3
   },
   "file_extension": ".py",
   "mimetype": "text/x-python",
   "name": "python",
   "nbconvert_exporter": "python",
   "pygments_lexer": "ipython3",
   "version": "3.6.8"
  }
 },
 "nbformat": 4,
 "nbformat_minor": 2
}
