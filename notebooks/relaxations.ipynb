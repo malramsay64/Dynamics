{
 "cells": [
  {
   "cell_type": "markdown",
   "metadata": {},
   "source": [
    "Relaxation Dynamics\n",
    "==========\n",
    "\n",
    "There are many different methods which can be used to understand the dynamics of a system.\n",
    "From short timescale events like structural relaxation,\n",
    "to long timescale events including dynamics.\n",
    "There are also important degrees of freedom in the rotations which have their own relaxtion timescales.\n",
    "\n",
    "\n",
    "This is a collection of figures and analysis\n",
    "for the understanding of relaxation over a series of variables.\n",
    "\n",
    "All the simulation data is from a set of simulations stored on RDS\n",
    "in the folder `simulations/2017-09-09-dynamics`.\n",
    "This set of simulations were all run at a pressure of 13.50. "
   ]
  },
  {
   "cell_type": "markdown",
   "metadata": {},
   "source": [
    "## Setup\n",
    "\n",
    "This imports the modules nessecary for running the code in the rest of this notebook\n",
    "while also setting up some helper functions to make the rest of the analysis simpler."
   ]
  },
  {
   "cell_type": "code",
   "execution_count": null,
   "metadata": {},
   "outputs": [],
   "source": [
    "from pathlib import Path\n",
    "\n",
    "import numpy as np\n",
    "import pandas\n",
    "import holoviews as hv\n",
    "\n",
    "from sdanalysis import relaxation\n",
    "\n",
    "import warnings\n",
    "warnings.filterwarnings(\"ignore\")\n",
    "\n",
    "hv.extension('bokeh')\n",
    "np.seterr(divide='ignore')\n",
    "\n",
    "\n",
    "def get_temp(fname):\n",
    "    try:\n",
    "        return fname.stem.split('-')[3][1:]\n",
    "    except IndexError:\n",
    "        return fname.stem.split('-')[2]\n",
    "\n",
    "def max_relaxation(\n",
    "        time: np.ndarray,\n",
    "        value: np.ndarray,\n",
    ") -> float:\n",
    "    \"\"\"Time at which the maximum value is recorded.\n",
    "\n",
    "    Args:\n",
    "        time (np.ndarray): The time index\n",
    "        value (np.ndarray): The value at each of the time indices\n",
    "\n",
    "    Returns:\n",
    "        float: The time at which the maximum value occurs.\n",
    "        float: Value of the maximum.\n",
    "\n",
    "    \"\"\"\n",
    "    max_val_index = np.argmax(value)\n",
    "    return time[max_val_index], value[max_val_index]\n",
    " \n",
    "\n",
    "def comp_relax(series: pandas.Series):\n",
    "    index = series.index.get_level_values(0)\n",
    "    if series.name in ['msd']:\n",
    "        relax, relax_error = relaxation.diffusion_constant(\n",
    "            index,\n",
    "            series.values\n",
    "        )\n",
    "    elif series.name in ['struct_msd']:\n",
    "        relax, relax_error = relaxation.threshold_relaxation(\n",
    "            index,\n",
    "            series.values,\n",
    "            threshold=0.16,\n",
    "            greater=False\n",
    "        )\n",
    "    elif series.name in ['alpha', 'gamma']:\n",
    "        relax, relax_error = max_relaxation(\n",
    "            index,\n",
    "            series.values,\n",
    "        )\n",
    "    else:\n",
    "        relax, err_max, err_min = relaxation.exponential_relaxation(\n",
    "            index,\n",
    "            series.values,\n",
    "        )\n",
    "        relax_error = err_max - err_min\n",
    "    return relax \n",
    "        \n",
    "\n",
    "def get_relaxations(dframe, factor='rot2'):\n",
    "    temperatures = []\n",
    "    relax_constants = []\n",
    "    relax_errs = []\n",
    "    for temp, t_frame in dframe.groupby('Temperature'):\n",
    "        if factor == 'diffusion':\n",
    "            relax, relax_error = relaxation.diffusion_constant(\n",
    "                t_frame.time.values,\n",
    "                t_frame.msd.values\n",
    "            )\n",
    "        elif factor == 'struct_msd':\n",
    "            relax, relax_error = relaxation.threshold_relaxation(\n",
    "                t_frame.time.values,\n",
    "                t_frame.msd.values,\n",
    "                threshold=0.16,\n",
    "                greater=False\n",
    "            )\n",
    "        else:\n",
    "            relax, err_min, err_max = relaxation.exponential_relaxation(\n",
    "                t_frame.time.values,\n",
    "                t_frame[factor].values,\n",
    "                value_width=0.6\n",
    "            )\n",
    "            relax_error = np.abs(err_min) + np.abs(err_max)\n",
    "\n",
    "        temperatures.append(temp)\n",
    "        try:\n",
    "            relax_constants.append(relax)\n",
    "            relax_errs.append(relax_error)\n",
    "        except RuntimeError:\n",
    "            relax_constants.append(np.nan)\n",
    "            relax_errs.append(np.nan)\n",
    "\n",
    "    return pandas.DataFrame({'Temperature': temperatures,\n",
    "                             factor: relax_constants,\n",
    "                             factor + '_err': relax_errs\n",
    "                             }, index=temperatures)\n"
   ]
  },
  {
   "cell_type": "markdown",
   "metadata": {},
   "source": [
    "### Controlling figure layout\n",
    "\n",
    "The following options control how all the figures are plotted. "
   ]
  },
  {
   "cell_type": "code",
   "execution_count": null,
   "metadata": {},
   "outputs": [],
   "source": [
    "rc_params = {\n",
    "    'lines.markersize': 2,\n",
    "    'legend.markerscale': 2,\n",
    "    'legend.frameon':  False, \n",
    "}\n",
    "%opts Scatter [logx=True logy=False fig_rcparams=rc_params, labelled=['x']]\n",
    "%opts NdOverlay [legend_position='right', fig_rcparams=rc_params]\n",
    "%opts HLine (color='k')\n",
    "%output fig='pdf' dpi=150 size=120"
   ]
  },
  {
   "cell_type": "markdown",
   "metadata": {},
   "source": [
    "### Import Data\n",
    "\n",
    "This reads all the data from disk,\n",
    "creating a pandas DataFrame and\n",
    "a Holoviews Table for analysis and plotting of the data. "
   ]
  },
  {
   "cell_type": "code",
   "execution_count": null,
   "metadata": {},
   "outputs": [],
   "source": [
    "df = pandas.read_hdf('../data/analysis/dynamics.h5', 'dynamics')\n",
    "\n",
    "# Remove columns with no relaxation value to calculate\n",
    "df.drop(['mean_displacement', 'mean_rotation', 'mfd', 'overlap', 'start_index'], inplace=True)\n",
    "\n",
    "# Group by simulation parameters\n",
    "df = df.groupby(['time', 'temperature', 'pressure']).mean()\n",
    "\n",
    "# Remove 0 time data\n",
    "df.drop(0, level='time', inplace=True)\n",
    "\n",
    "relaxations = df.groupby(['temperature', 'pressure']).aggregate(comp_relax)\n",
    "\n",
    "# dataframes = []\n",
    "# for f in Path(source_directory).glob('trajectory*.hdf5'):\n",
    "#     df = pandas.read_hdf(f, 'dynamics')\n",
    "#     # Average over all initial configurations \n",
    "#     df = df.groupby(['time']).mean()\n",
    "#     # Extract simulation temperature from filename\n",
    "#     df['Temperature'] = float(get_temp(Path(f)))\n",
    "#     # Drop first row with zero values -> causes errors in log plots \n",
    "#     df.drop(0, inplace=True)\n",
    "#     # Don't use the time as the index -> required as column for plotting\n",
    "#     df.reset_index(inplace=True)\n",
    "#     dataframes.append(df)\n",
    "\n",
    "# src = pandas.concat(dataframes)"
   ]
  },
  {
   "cell_type": "code",
   "execution_count": null,
   "metadata": {},
   "outputs": [],
   "source": [
    "pandas.concat([relaxations, relaxations], axis=1)"
   ]
  },
  {
   "cell_type": "code",
   "execution_count": null,
   "metadata": {},
   "outputs": [],
   "source": [
    "ser.name"
   ]
  },
  {
   "cell_type": "code",
   "execution_count": null,
   "metadata": {},
   "outputs": [],
   "source": [
    "df = df.groupby(['temperature', 'time']).mean()"
   ]
  },
  {
   "cell_type": "code",
   "execution_count": null,
   "metadata": {},
   "outputs": [],
   "source": [
    "df = df.reset_index('temperature').drop(0)"
   ]
  },
  {
   "cell_type": "code",
   "execution_count": null,
   "metadata": {},
   "outputs": [],
   "source": [
    "df = df.groupby(['time', 'temperature']).mean()\n",
    "df.drop(1, level='time')"
   ]
  },
  {
   "cell_type": "markdown",
   "metadata": {},
   "source": [
    "The available temperatures for plotting are listed below.\n",
    "To make the visualisations of time dependent properties less cluttered \n",
    "only a subset of the temperatures will be used for plotting.\n",
    "For relaxation timescales all the temperatrues will be used.\n",
    "This list of temperatures for plotting can be modified by changing the plot_temperatures variable."
   ]
  },
  {
   "cell_type": "code",
   "execution_count": null,
   "metadata": {},
   "outputs": [],
   "source": [
    "np.sort(src['Temperature'].unique())"
   ]
  },
  {
   "cell_type": "code",
   "execution_count": null,
   "metadata": {},
   "outputs": [],
   "source": [
    "plot_temperatures = [1.3, 1.35, 1.40, 1.45, 1.5, 1.55, 1.6, 1.7, 1.8, 2, 2.5, 3., 4., 5.]"
   ]
  },
  {
   "cell_type": "code",
   "execution_count": null,
   "metadata": {},
   "outputs": [],
   "source": [
    "src_df = src.query('Temperature in @plot_temperatures')\n",
    "src_hv = hv.Table(src_df, kdims=[('time', 't'), ('Temperature', 'T')])"
   ]
  },
  {
   "cell_type": "markdown",
   "metadata": {},
   "source": [
    "Diffusion\n",
    "--------\n",
    "\n",
    "Generating the figures for diffusive relaxation of molecules. Lines are indications of fit, where $D t$ is the function that is defining the fit. The parameter `D` is then used as the diffusion constant in the following figure."
   ]
  },
  {
   "cell_type": "code",
   "execution_count": null,
   "metadata": {},
   "outputs": [],
   "source": [
    "%%opts Scatter [logy=True]\n",
    "src_hv.to(hv.Scatter, 'time', 'msd').overlay()"
   ]
  },
  {
   "cell_type": "markdown",
   "metadata": {},
   "source": [
    "Rotational Relaxation R1\n",
    "--------------------\n",
    "\n",
    "The rotational realxation $R_1$ is the value of the function \n",
    "$$R_1(t) = \\langle \\hat{\\mathbf{e}}(0) \\cdot \\hat{\\mathbf{e}}(t) \\rangle$$\n",
    "where the average is over all molecules and starting configurations."
   ]
  },
  {
   "cell_type": "code",
   "execution_count": null,
   "metadata": {},
   "outputs": [],
   "source": [
    "src_hv.to(hv.Scatter, 'time', 'rot1').overlay()"
   ]
  },
  {
   "cell_type": "markdown",
   "metadata": {},
   "source": [
    "Rotational Relaxation R2\n",
    "--------------------\n",
    "\n",
    "This is the second order relaxation function,\n",
    "given by;\n",
    "$$R_2(t) = \\langle 2[ \\hat{\\mathbf{e}}(0) \\cdot \\hat{\\mathbf{e}}(t)]^2 - 1 \\rangle$$\n",
    "where the value is averaged over all molecules and starting configurations. "
   ]
  },
  {
   "cell_type": "code",
   "execution_count": null,
   "metadata": {},
   "outputs": [],
   "source": [
    "src_hv.to(hv.Scatter, 'time', 'rot2').overlay()"
   ]
  },
  {
   "cell_type": "markdown",
   "metadata": {},
   "source": [
    "Structural Relaxation\n",
    "--------------------\n",
    "\n",
    "This is the fraction of particles which have moved a distance of 0.3 from their inital position."
   ]
  },
  {
   "cell_type": "code",
   "execution_count": null,
   "metadata": {},
   "outputs": [],
   "source": [
    "src_hv.to(hv.Scatter, 'time', 'struct').overlay()"
   ]
  },
  {
   "cell_type": "markdown",
   "metadata": {},
   "source": [
    "Summary Values\n",
    "========\n",
    "\n",
    "The values calculated below summarise the above information,\n",
    "providing a method of investigating temperature dependence of these properties. "
   ]
  },
  {
   "cell_type": "code",
   "execution_count": null,
   "metadata": {},
   "outputs": [],
   "source": [
    "# Compute diffusion constant\n",
    "summary_vals = get_relaxations(src, 'diffusion')\n",
    "\n",
    "# Compute inverse diffusion constant -> comparable to a relaxation time\n",
    "summary_vals['inv_diffusion'] = 1./summary_vals.diffusion\n",
    "summary_vals['inv_diffusion_err'] = (\n",
    "    summary_vals.inv_diffusion - \n",
    "    1./(summary_vals.diffusion - summary_vals.diffusion_err))\n",
    "\n",
    "# Compute rotational relaxation times\n",
    "summary_vals = get_relaxations(src, 'rot1').combine_first(summary_vals)\n",
    "summary_vals = get_relaxations(src, 'rot2').combine_first(summary_vals)\n",
    "\n",
    "# Compute structural relaxtion times\n",
    "summary_vals = get_relaxations(src, 'struct').combine_first(summary_vals)\n",
    "summary_vals = get_relaxations(src, 'com_struct').combine_first(summary_vals)\n",
    "summary_vals = get_relaxations(src, 'struct_msd').combine_first(summary_vals)\n",
    "\n",
    "# Compute inverse temperature -> for using as axis \n",
    "summary_vals['inv_temp'] = 1./summary_vals['Temperature']\n",
    "\n",
    "summary_hv = hv.Table(summary_vals, kdims=[('inv_temp', '1/T')])"
   ]
  },
  {
   "cell_type": "code",
   "execution_count": null,
   "metadata": {},
   "outputs": [],
   "source": [
    "rc_params['lines.markersize'] = 6\n",
    "rc_params['legend.markerscale'] = 1\n",
    "%opts Scatter [logx=False logy=True, fig_rcparams=rc_params]\n",
    "%opts Overlay [legend_position='top_left' fig_rcparams=rc_params]"
   ]
  },
  {
   "cell_type": "code",
   "execution_count": null,
   "metadata": {},
   "outputs": [],
   "source": [
    "inv_diff = hv.Scatter(summary_hv, vdims=[('inv_diffusion', ' ')], label='1/D')\n",
    "inv_diff *= hv.ErrorBars(summary_hv, vdims=['inv_diffusion', 'inv_diffusion_err'])\n",
    "    \n",
    "inv_diff"
   ]
  },
  {
   "cell_type": "code",
   "execution_count": null,
   "metadata": {},
   "outputs": [],
   "source": [
    "tauR1 = hv.Scatter(summary_hv, vdims=[('rot1', ' ')], label=r'$\\tau_{R1}$')\n",
    "tauR1 *= hv.ErrorBars(summary_hv, vdims=['rot1', 'rot1_err'])\n",
    "tauR1"
   ]
  },
  {
   "cell_type": "code",
   "execution_count": null,
   "metadata": {},
   "outputs": [],
   "source": [
    "tauR2 = hv.Scatter(summary_hv,  vdims=[('rot2', ' ')], label=r'$\\tau_{R2}$')\n",
    "tauR2 *= hv.ErrorBars(summary_hv, vdims=['rot2', 'rot2_err'])\n",
    "tauR2"
   ]
  },
  {
   "cell_type": "code",
   "execution_count": null,
   "metadata": {},
   "outputs": [],
   "source": [
    "struct = hv.Scatter(summary_hv,  vdims=[('struct', ' ')], label=r'$\\tau_s$')\n",
    "struct *= hv.ErrorBars(summary_hv, vdims=['struct', 'struct_err'])\n",
    "\n",
    "struct_msd = hv.Scatter(summary_hv, vdims=['struct_msd'], label='τ_msd')\n",
    "struct_com = hv.Scatter(summary_hv, vdims=['com_struct'], label='τ_Scom')\n",
    "struct"
   ]
  },
  {
   "cell_type": "code",
   "execution_count": null,
   "metadata": {},
   "outputs": [],
   "source": [
    "inv_diff * struct * tauR1 * tauR2"
   ]
  },
  {
   "cell_type": "code",
   "execution_count": null,
   "metadata": {},
   "outputs": [],
   "source": [
    "%%opts Scatter [logx=True logy=True]\n",
    "(hv.Scatter(summary_vals, \n",
    "            kdims=[('struct', r'$\\tau_S$')], \n",
    "            vdims=[('rot2')], \n",
    "            label=r'$\\tau_{R2}$') *\n",
    " hv.Scatter(summary_vals, \n",
    "            kdims=['struct'], \n",
    "            vdims=[('inv_diffusion', ' ')], \n",
    "            label='1/D')\n",
    ")"
   ]
  },
  {
   "cell_type": "code",
   "execution_count": null,
   "metadata": {},
   "outputs": [],
   "source": [
    "values = pandas.DataFrame({\n",
    "    'Temperature': summary_vals.Temperature, \n",
    "    'r1r2': summary_vals.rot1/summary_vals.rot2,\n",
    "    'Dr1T': summary_vals.diffusion*summary_vals.rot1/summary_vals.Temperature,\n",
    "    'Dr2T': summary_vals.diffusion*summary_vals.rot2/summary_vals.Temperature,\n",
    "    'DsT': summary_vals.diffusion*summary_vals.struct/summary_vals.Temperature,\n",
    "    'Dr1': summary_vals.diffusion*summary_vals.rot1,\n",
    "    'Dr2': summary_vals.diffusion*summary_vals.rot2,\n",
    "})"
   ]
  },
  {
   "cell_type": "code",
   "execution_count": null,
   "metadata": {},
   "outputs": [],
   "source": [
    "%%opts Scatter [logx=False logy=False labelled=[]]\n",
    "%%opts Overlay [legend_position='right']\n",
    "p = (\n",
    "hv.Scatter((values.Temperature, 4*values.Dr2T/values.Dr2T.max()), label=r'$D\\tau_{2}/T$')\n",
    "* hv.Scatter((values.Temperature, 4*values.DsT/values.DsT.max()), label=r'$D\\tau_{s}/T$')\n",
    "* hv.Scatter((values.Temperature, values.r1r2), label=r'$\\tau_{1}/\\tau_{2}$')\n",
    ")\n",
    "\n",
    "p"
   ]
  },
  {
   "cell_type": "code",
   "execution_count": null,
   "metadata": {},
   "outputs": [],
   "source": [
    "summary_vals.to_hdf(Path(source_directory) / 'dynamics.hdf5', 'relaxations') "
   ]
  }
 ],
 "metadata": {
  "language_info": {
   "name": "python",
   "pygments_lexer": "ipython3"
  }
 },
 "nbformat": 4,
 "nbformat_minor": 2
}
