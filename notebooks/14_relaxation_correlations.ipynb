{
 "cells": [
  {
   "cell_type": "markdown",
   "metadata": {},
   "source": [
    "# Correlation of Relaxation Times\n",
    "\n",
    "This is a notebook to understand how relaxation times correlate with each other,\n",
    "in particular investigating the relaxation of individual molecules."
   ]
  },
  {
   "cell_type": "code",
   "execution_count": 1,
   "metadata": {},
   "outputs": [
    {
     "data": {
      "text/html": [
       "\n",
       "    <div class=\"bk-root\">\n",
       "        <a href=\"https://bokeh.pydata.org\" target=\"_blank\" class=\"bk-logo bk-logo-small bk-logo-notebook\"></a>\n",
       "        <span id=\"1001\">Loading BokehJS ...</span>\n",
       "    </div>"
      ]
     },
     "metadata": {},
     "output_type": "display_data"
    },
    {
     "data": {
      "application/javascript": [
       "\n",
       "(function(root) {\n",
       "  function now() {\n",
       "    return new Date();\n",
       "  }\n",
       "\n",
       "  var force = true;\n",
       "\n",
       "  if (typeof (root._bokeh_onload_callbacks) === \"undefined\" || force === true) {\n",
       "    root._bokeh_onload_callbacks = [];\n",
       "    root._bokeh_is_loading = undefined;\n",
       "  }\n",
       "\n",
       "  var JS_MIME_TYPE = 'application/javascript';\n",
       "  var HTML_MIME_TYPE = 'text/html';\n",
       "  var EXEC_MIME_TYPE = 'application/vnd.bokehjs_exec.v0+json';\n",
       "  var CLASS_NAME = 'output_bokeh rendered_html';\n",
       "\n",
       "  /**\n",
       "   * Render data to the DOM node\n",
       "   */\n",
       "  function render(props, node) {\n",
       "    var script = document.createElement(\"script\");\n",
       "    node.appendChild(script);\n",
       "  }\n",
       "\n",
       "  /**\n",
       "   * Handle when an output is cleared or removed\n",
       "   */\n",
       "  function handleClearOutput(event, handle) {\n",
       "    var cell = handle.cell;\n",
       "\n",
       "    var id = cell.output_area._bokeh_element_id;\n",
       "    var server_id = cell.output_area._bokeh_server_id;\n",
       "    // Clean up Bokeh references\n",
       "    if (id != null && id in Bokeh.index) {\n",
       "      Bokeh.index[id].model.document.clear();\n",
       "      delete Bokeh.index[id];\n",
       "    }\n",
       "\n",
       "    if (server_id !== undefined) {\n",
       "      // Clean up Bokeh references\n",
       "      var cmd = \"from bokeh.io.state import curstate; print(curstate().uuid_to_server['\" + server_id + \"'].get_sessions()[0].document.roots[0]._id)\";\n",
       "      cell.notebook.kernel.execute(cmd, {\n",
       "        iopub: {\n",
       "          output: function(msg) {\n",
       "            var id = msg.content.text.trim();\n",
       "            if (id in Bokeh.index) {\n",
       "              Bokeh.index[id].model.document.clear();\n",
       "              delete Bokeh.index[id];\n",
       "            }\n",
       "          }\n",
       "        }\n",
       "      });\n",
       "      // Destroy server and session\n",
       "      var cmd = \"import bokeh.io.notebook as ion; ion.destroy_server('\" + server_id + \"')\";\n",
       "      cell.notebook.kernel.execute(cmd);\n",
       "    }\n",
       "  }\n",
       "\n",
       "  /**\n",
       "   * Handle when a new output is added\n",
       "   */\n",
       "  function handleAddOutput(event, handle) {\n",
       "    var output_area = handle.output_area;\n",
       "    var output = handle.output;\n",
       "\n",
       "    // limit handleAddOutput to display_data with EXEC_MIME_TYPE content only\n",
       "    if ((output.output_type != \"display_data\") || (!output.data.hasOwnProperty(EXEC_MIME_TYPE))) {\n",
       "      return\n",
       "    }\n",
       "\n",
       "    var toinsert = output_area.element.find(\".\" + CLASS_NAME.split(' ')[0]);\n",
       "\n",
       "    if (output.metadata[EXEC_MIME_TYPE][\"id\"] !== undefined) {\n",
       "      toinsert[toinsert.length - 1].firstChild.textContent = output.data[JS_MIME_TYPE];\n",
       "      // store reference to embed id on output_area\n",
       "      output_area._bokeh_element_id = output.metadata[EXEC_MIME_TYPE][\"id\"];\n",
       "    }\n",
       "    if (output.metadata[EXEC_MIME_TYPE][\"server_id\"] !== undefined) {\n",
       "      var bk_div = document.createElement(\"div\");\n",
       "      bk_div.innerHTML = output.data[HTML_MIME_TYPE];\n",
       "      var script_attrs = bk_div.children[0].attributes;\n",
       "      for (var i = 0; i < script_attrs.length; i++) {\n",
       "        toinsert[toinsert.length - 1].firstChild.setAttribute(script_attrs[i].name, script_attrs[i].value);\n",
       "      }\n",
       "      // store reference to server id on output_area\n",
       "      output_area._bokeh_server_id = output.metadata[EXEC_MIME_TYPE][\"server_id\"];\n",
       "    }\n",
       "  }\n",
       "\n",
       "  function register_renderer(events, OutputArea) {\n",
       "\n",
       "    function append_mime(data, metadata, element) {\n",
       "      // create a DOM node to render to\n",
       "      var toinsert = this.create_output_subarea(\n",
       "        metadata,\n",
       "        CLASS_NAME,\n",
       "        EXEC_MIME_TYPE\n",
       "      );\n",
       "      this.keyboard_manager.register_events(toinsert);\n",
       "      // Render to node\n",
       "      var props = {data: data, metadata: metadata[EXEC_MIME_TYPE]};\n",
       "      render(props, toinsert[toinsert.length - 1]);\n",
       "      element.append(toinsert);\n",
       "      return toinsert\n",
       "    }\n",
       "\n",
       "    /* Handle when an output is cleared or removed */\n",
       "    events.on('clear_output.CodeCell', handleClearOutput);\n",
       "    events.on('delete.Cell', handleClearOutput);\n",
       "\n",
       "    /* Handle when a new output is added */\n",
       "    events.on('output_added.OutputArea', handleAddOutput);\n",
       "\n",
       "    /**\n",
       "     * Register the mime type and append_mime function with output_area\n",
       "     */\n",
       "    OutputArea.prototype.register_mime_type(EXEC_MIME_TYPE, append_mime, {\n",
       "      /* Is output safe? */\n",
       "      safe: true,\n",
       "      /* Index of renderer in `output_area.display_order` */\n",
       "      index: 0\n",
       "    });\n",
       "  }\n",
       "\n",
       "  // register the mime type if in Jupyter Notebook environment and previously unregistered\n",
       "  if (root.Jupyter !== undefined) {\n",
       "    var events = require('base/js/events');\n",
       "    var OutputArea = require('notebook/js/outputarea').OutputArea;\n",
       "\n",
       "    if (OutputArea.prototype.mime_types().indexOf(EXEC_MIME_TYPE) == -1) {\n",
       "      register_renderer(events, OutputArea);\n",
       "    }\n",
       "  }\n",
       "\n",
       "  \n",
       "  if (typeof (root._bokeh_timeout) === \"undefined\" || force === true) {\n",
       "    root._bokeh_timeout = Date.now() + 5000;\n",
       "    root._bokeh_failed_load = false;\n",
       "  }\n",
       "\n",
       "  var NB_LOAD_WARNING = {'data': {'text/html':\n",
       "     \"<div style='background-color: #fdd'>\\n\"+\n",
       "     \"<p>\\n\"+\n",
       "     \"BokehJS does not appear to have successfully loaded. If loading BokehJS from CDN, this \\n\"+\n",
       "     \"may be due to a slow or bad network connection. Possible fixes:\\n\"+\n",
       "     \"</p>\\n\"+\n",
       "     \"<ul>\\n\"+\n",
       "     \"<li>re-rerun `output_notebook()` to attempt to load from CDN again, or</li>\\n\"+\n",
       "     \"<li>use INLINE resources instead, as so:</li>\\n\"+\n",
       "     \"</ul>\\n\"+\n",
       "     \"<code>\\n\"+\n",
       "     \"from bokeh.resources import INLINE\\n\"+\n",
       "     \"output_notebook(resources=INLINE)\\n\"+\n",
       "     \"</code>\\n\"+\n",
       "     \"</div>\"}};\n",
       "\n",
       "  function display_loaded() {\n",
       "    var el = document.getElementById(\"1001\");\n",
       "    if (el != null) {\n",
       "      el.textContent = \"BokehJS is loading...\";\n",
       "    }\n",
       "    if (root.Bokeh !== undefined) {\n",
       "      if (el != null) {\n",
       "        el.textContent = \"BokehJS \" + root.Bokeh.version + \" successfully loaded.\";\n",
       "      }\n",
       "    } else if (Date.now() < root._bokeh_timeout) {\n",
       "      setTimeout(display_loaded, 100)\n",
       "    }\n",
       "  }\n",
       "\n",
       "\n",
       "  function run_callbacks() {\n",
       "    try {\n",
       "      root._bokeh_onload_callbacks.forEach(function(callback) { callback() });\n",
       "    }\n",
       "    finally {\n",
       "      delete root._bokeh_onload_callbacks\n",
       "    }\n",
       "    console.info(\"Bokeh: all callbacks have finished\");\n",
       "  }\n",
       "\n",
       "  function load_libs(js_urls, callback) {\n",
       "    root._bokeh_onload_callbacks.push(callback);\n",
       "    if (root._bokeh_is_loading > 0) {\n",
       "      console.log(\"Bokeh: BokehJS is being loaded, scheduling callback at\", now());\n",
       "      return null;\n",
       "    }\n",
       "    if (js_urls == null || js_urls.length === 0) {\n",
       "      run_callbacks();\n",
       "      return null;\n",
       "    }\n",
       "    console.log(\"Bokeh: BokehJS not loaded, scheduling load and callback at\", now());\n",
       "    root._bokeh_is_loading = js_urls.length;\n",
       "    for (var i = 0; i < js_urls.length; i++) {\n",
       "      var url = js_urls[i];\n",
       "      var s = document.createElement('script');\n",
       "      s.src = url;\n",
       "      s.async = false;\n",
       "      s.onreadystatechange = s.onload = function() {\n",
       "        root._bokeh_is_loading--;\n",
       "        if (root._bokeh_is_loading === 0) {\n",
       "          console.log(\"Bokeh: all BokehJS libraries loaded\");\n",
       "          run_callbacks()\n",
       "        }\n",
       "      };\n",
       "      s.onerror = function() {\n",
       "        console.warn(\"failed to load library \" + url);\n",
       "      };\n",
       "      console.log(\"Bokeh: injecting script tag for BokehJS library: \", url);\n",
       "      document.getElementsByTagName(\"head\")[0].appendChild(s);\n",
       "    }\n",
       "  };var element = document.getElementById(\"1001\");\n",
       "  if (element == null) {\n",
       "    console.log(\"Bokeh: ERROR: autoload.js configured with elementid '1001' but no matching script tag was found. \")\n",
       "    return false;\n",
       "  }\n",
       "\n",
       "  var js_urls = [\"https://cdn.pydata.org/bokeh/release/bokeh-1.0.3.min.js\", \"https://cdn.pydata.org/bokeh/release/bokeh-widgets-1.0.3.min.js\", \"https://cdn.pydata.org/bokeh/release/bokeh-tables-1.0.3.min.js\", \"https://cdn.pydata.org/bokeh/release/bokeh-gl-1.0.3.min.js\"];\n",
       "\n",
       "  var inline_js = [\n",
       "    function(Bokeh) {\n",
       "      Bokeh.set_log_level(\"info\");\n",
       "    },\n",
       "    \n",
       "    function(Bokeh) {\n",
       "      \n",
       "    },\n",
       "    function(Bokeh) {\n",
       "      console.log(\"Bokeh: injecting CSS: https://cdn.pydata.org/bokeh/release/bokeh-1.0.3.min.css\");\n",
       "      Bokeh.embed.inject_css(\"https://cdn.pydata.org/bokeh/release/bokeh-1.0.3.min.css\");\n",
       "      console.log(\"Bokeh: injecting CSS: https://cdn.pydata.org/bokeh/release/bokeh-widgets-1.0.3.min.css\");\n",
       "      Bokeh.embed.inject_css(\"https://cdn.pydata.org/bokeh/release/bokeh-widgets-1.0.3.min.css\");\n",
       "      console.log(\"Bokeh: injecting CSS: https://cdn.pydata.org/bokeh/release/bokeh-tables-1.0.3.min.css\");\n",
       "      Bokeh.embed.inject_css(\"https://cdn.pydata.org/bokeh/release/bokeh-tables-1.0.3.min.css\");\n",
       "    }\n",
       "  ];\n",
       "\n",
       "  function run_inline_js() {\n",
       "    \n",
       "    if ((root.Bokeh !== undefined) || (force === true)) {\n",
       "      for (var i = 0; i < inline_js.length; i++) {\n",
       "        inline_js[i].call(root, root.Bokeh);\n",
       "      }if (force === true) {\n",
       "        display_loaded();\n",
       "      }} else if (Date.now() < root._bokeh_timeout) {\n",
       "      setTimeout(run_inline_js, 100);\n",
       "    } else if (!root._bokeh_failed_load) {\n",
       "      console.log(\"Bokeh: BokehJS failed to load within specified timeout.\");\n",
       "      root._bokeh_failed_load = true;\n",
       "    } else if (force !== true) {\n",
       "      var cell = $(document.getElementById(\"1001\")).parents('.cell').data().cell;\n",
       "      cell.output_area.append_execute_result(NB_LOAD_WARNING)\n",
       "    }\n",
       "\n",
       "  }\n",
       "\n",
       "  if (root._bokeh_is_loading === 0) {\n",
       "    console.log(\"Bokeh: BokehJS loaded, going straight to plotting\");\n",
       "    run_inline_js();\n",
       "  } else {\n",
       "    load_libs(js_urls, function() {\n",
       "      console.log(\"Bokeh: BokehJS plotting callback run at\", now());\n",
       "      run_inline_js();\n",
       "    });\n",
       "  }\n",
       "}(window));"
      ],
      "application/vnd.bokehjs_load.v0+json": "\n(function(root) {\n  function now() {\n    return new Date();\n  }\n\n  var force = true;\n\n  if (typeof (root._bokeh_onload_callbacks) === \"undefined\" || force === true) {\n    root._bokeh_onload_callbacks = [];\n    root._bokeh_is_loading = undefined;\n  }\n\n  \n\n  \n  if (typeof (root._bokeh_timeout) === \"undefined\" || force === true) {\n    root._bokeh_timeout = Date.now() + 5000;\n    root._bokeh_failed_load = false;\n  }\n\n  var NB_LOAD_WARNING = {'data': {'text/html':\n     \"<div style='background-color: #fdd'>\\n\"+\n     \"<p>\\n\"+\n     \"BokehJS does not appear to have successfully loaded. If loading BokehJS from CDN, this \\n\"+\n     \"may be due to a slow or bad network connection. Possible fixes:\\n\"+\n     \"</p>\\n\"+\n     \"<ul>\\n\"+\n     \"<li>re-rerun `output_notebook()` to attempt to load from CDN again, or</li>\\n\"+\n     \"<li>use INLINE resources instead, as so:</li>\\n\"+\n     \"</ul>\\n\"+\n     \"<code>\\n\"+\n     \"from bokeh.resources import INLINE\\n\"+\n     \"output_notebook(resources=INLINE)\\n\"+\n     \"</code>\\n\"+\n     \"</div>\"}};\n\n  function display_loaded() {\n    var el = document.getElementById(\"1001\");\n    if (el != null) {\n      el.textContent = \"BokehJS is loading...\";\n    }\n    if (root.Bokeh !== undefined) {\n      if (el != null) {\n        el.textContent = \"BokehJS \" + root.Bokeh.version + \" successfully loaded.\";\n      }\n    } else if (Date.now() < root._bokeh_timeout) {\n      setTimeout(display_loaded, 100)\n    }\n  }\n\n\n  function run_callbacks() {\n    try {\n      root._bokeh_onload_callbacks.forEach(function(callback) { callback() });\n    }\n    finally {\n      delete root._bokeh_onload_callbacks\n    }\n    console.info(\"Bokeh: all callbacks have finished\");\n  }\n\n  function load_libs(js_urls, callback) {\n    root._bokeh_onload_callbacks.push(callback);\n    if (root._bokeh_is_loading > 0) {\n      console.log(\"Bokeh: BokehJS is being loaded, scheduling callback at\", now());\n      return null;\n    }\n    if (js_urls == null || js_urls.length === 0) {\n      run_callbacks();\n      return null;\n    }\n    console.log(\"Bokeh: BokehJS not loaded, scheduling load and callback at\", now());\n    root._bokeh_is_loading = js_urls.length;\n    for (var i = 0; i < js_urls.length; i++) {\n      var url = js_urls[i];\n      var s = document.createElement('script');\n      s.src = url;\n      s.async = false;\n      s.onreadystatechange = s.onload = function() {\n        root._bokeh_is_loading--;\n        if (root._bokeh_is_loading === 0) {\n          console.log(\"Bokeh: all BokehJS libraries loaded\");\n          run_callbacks()\n        }\n      };\n      s.onerror = function() {\n        console.warn(\"failed to load library \" + url);\n      };\n      console.log(\"Bokeh: injecting script tag for BokehJS library: \", url);\n      document.getElementsByTagName(\"head\")[0].appendChild(s);\n    }\n  };var element = document.getElementById(\"1001\");\n  if (element == null) {\n    console.log(\"Bokeh: ERROR: autoload.js configured with elementid '1001' but no matching script tag was found. \")\n    return false;\n  }\n\n  var js_urls = [\"https://cdn.pydata.org/bokeh/release/bokeh-1.0.3.min.js\", \"https://cdn.pydata.org/bokeh/release/bokeh-widgets-1.0.3.min.js\", \"https://cdn.pydata.org/bokeh/release/bokeh-tables-1.0.3.min.js\", \"https://cdn.pydata.org/bokeh/release/bokeh-gl-1.0.3.min.js\"];\n\n  var inline_js = [\n    function(Bokeh) {\n      Bokeh.set_log_level(\"info\");\n    },\n    \n    function(Bokeh) {\n      \n    },\n    function(Bokeh) {\n      console.log(\"Bokeh: injecting CSS: https://cdn.pydata.org/bokeh/release/bokeh-1.0.3.min.css\");\n      Bokeh.embed.inject_css(\"https://cdn.pydata.org/bokeh/release/bokeh-1.0.3.min.css\");\n      console.log(\"Bokeh: injecting CSS: https://cdn.pydata.org/bokeh/release/bokeh-widgets-1.0.3.min.css\");\n      Bokeh.embed.inject_css(\"https://cdn.pydata.org/bokeh/release/bokeh-widgets-1.0.3.min.css\");\n      console.log(\"Bokeh: injecting CSS: https://cdn.pydata.org/bokeh/release/bokeh-tables-1.0.3.min.css\");\n      Bokeh.embed.inject_css(\"https://cdn.pydata.org/bokeh/release/bokeh-tables-1.0.3.min.css\");\n    }\n  ];\n\n  function run_inline_js() {\n    \n    if ((root.Bokeh !== undefined) || (force === true)) {\n      for (var i = 0; i < inline_js.length; i++) {\n        inline_js[i].call(root, root.Bokeh);\n      }if (force === true) {\n        display_loaded();\n      }} else if (Date.now() < root._bokeh_timeout) {\n      setTimeout(run_inline_js, 100);\n    } else if (!root._bokeh_failed_load) {\n      console.log(\"Bokeh: BokehJS failed to load within specified timeout.\");\n      root._bokeh_failed_load = true;\n    } else if (force !== true) {\n      var cell = $(document.getElementById(\"1001\")).parents('.cell').data().cell;\n      cell.output_area.append_execute_result(NB_LOAD_WARNING)\n    }\n\n  }\n\n  if (root._bokeh_is_loading === 0) {\n    console.log(\"Bokeh: BokehJS loaded, going straight to plotting\");\n    run_inline_js();\n  } else {\n    load_libs(js_urls, function() {\n      console.log(\"Bokeh: BokehJS plotting callback run at\", now());\n      run_inline_js();\n    });\n  }\n}(window));"
     },
     "metadata": {},
     "output_type": "display_data"
    }
   ],
   "source": [
    "from pathlib import Path\n",
    "import numpy as np\n",
    "import scipy.stats\n",
    "import pandas\n",
    "from bokeh.plotting import figure, show, output_notebook\n",
    "from bokeh.palettes import Dark2\n",
    "from bokeh.transform import factor_cmap\n",
    "from bokeh.palettes import Spectral6\n",
    "import ipywidgets\n",
    "import itertools\n",
    "from IPython.display import display\n",
    "import altair as alt\n",
    "output_notebook()"
   ]
  },
  {
   "cell_type": "markdown",
   "metadata": {},
   "source": [
    "## Data Import\n",
    "\n",
    "The data used for this analysis is from a series of simulations studying the dynamics of a Trimer molecule at a pressure of 13.50. \n",
    "These simulations are all of equilibrated systems at a range of temperatures. \n",
    "For the purposes of this investigation only a single temperature has been studied,\n",
    "although it is feasilbe to extend this to multiple temperatures."
   ]
  },
  {
   "cell_type": "code",
   "execution_count": 2,
   "metadata": {},
   "outputs": [],
   "source": [
    "# Modify these variables to change the simulation being investigated\n",
    "temperature = '1.35'\n",
    "pressure = '13.50'\n",
    "\n",
    "# Select directory data stored and the file within that directory \n",
    "infile = '../data/analysis/dynamics.h5'\n",
    "\n",
    "# Load input file into a pandas dataframe\n",
    "df = pandas.read_hdf(infile, 'molecular_relaxations').query('temperature==@temperature and pressure==@pressure')\n",
    "# There are a number of initial configurations in the data, only select the first \n",
    "df = df.loc[0]\n",
    "\n",
    "df = df.drop(columns=['pressure', 'temperature'])\n"
   ]
  },
  {
   "cell_type": "markdown",
   "metadata": {},
   "source": [
    "## Visualisation\n",
    "\n",
    "A simple method of understanding how these timescales relate to one another\n",
    "is to plot them against each other in a scatter plot.\n",
    "Where there is some correlation between them this will exist on a straight line throught the figure.\n",
    "Since the values of the timescales I am investigating are over such a large range,\n",
    "both the x and y axis have a log scale.\n",
    "\n",
    "The timescales I am plotting in this figure are the time for a molecule to undergo a certain motion,\n",
    "with all motions relative to the initial position.\n",
    "The motions are tabulated below;\n",
    "\n",
    "- `tau_D04` -> travel a distance of 0.4\n",
    "- `tau_D1`  -> travel a distance of 1\n",
    "- `tau_DL04` -> last passage of a distance of 0.4 before reaching 1.0\n",
    "- `tau_T2`  -> rotate a distance of $\\pi/2$\n",
    "- `tau_T3`  -> rotate a distance of $\\pi/3$\n",
    "- `tau_T4`  -> rotate a distance of $\\pi/4$"
   ]
  },
  {
   "cell_type": "code",
   "execution_count": 3,
   "metadata": {},
   "outputs": [
    {
     "data": {
      "application/vnd.jupyter.widget-view+json": {
       "model_id": "fe486e8d46d84b3484fa46539ade9c27",
       "version_major": 2,
       "version_minor": 0
      },
      "text/plain": [
       "interactive(children=(ToggleButtons(description='X axis:', options=('tau_D1', 'tau_D04', 'tau_DL04', 'tau_T2',…"
      ]
     },
     "metadata": {},
     "output_type": "display_data"
    }
   ],
   "source": [
    "# Create buttons to select the quantity plotted on each axis \n",
    "x_opts = ipywidgets.ToggleButtons(\n",
    "    options=df.columns,\n",
    "    description='X axis:',\n",
    ")\n",
    "y_opts = ipywidgets.ToggleButtons(\n",
    "    value=df.columns[1],\n",
    "    options=df.columns,\n",
    "    description='Y axis:',\n",
    ")\n",
    "\n",
    "@ipywidgets.interact(x=x_opts, y=y_opts)\n",
    "def create_plot(x, y):\n",
    "    f = figure(x_axis_type='log', y_axis_type='log', x_axis_label=x, y_axis_label=y)\n",
    "    f.scatter(x, y, source=df)\n",
    "    show(f)"
   ]
  },
  {
   "cell_type": "markdown",
   "metadata": {},
   "source": [
    "## Quantitation of correlations\n",
    "\n",
    "While it is nice to look at a picture,\n",
    "it is difficult to make a fair comparison between two images.\n",
    "Here I aim to quantify the level of correlation between the timescales.\n",
    "The metric I have chosen is the [Pearson correlation](https://en.wikipedia.org/wiki/Pearson_correlation_coefficient)\n",
    "which is implemented in the `scipy.stats` module as [pearsonr](https://docs.scipy.org/doc/scipy-0.14.0/reference/generated/scipy.stats.pearsonr.html)."
   ]
  },
  {
   "cell_type": "code",
   "execution_count": 4,
   "metadata": {},
   "outputs": [
    {
     "name": "stdout",
     "output_type": "stream",
     "text": [
      "tau_D1   tau_D04  0.04\n",
      "tau_D1   tau_DL04 0.00\n",
      "tau_D1   tau_T2   0.23\n",
      "tau_D1   tau_T3   0.31\n",
      "tau_D1   tau_T4   0.37\n",
      "tau_D04  tau_DL04 0.30\n",
      "tau_D04  tau_T2   0.01\n",
      "tau_D04  tau_T3   0.01\n",
      "tau_D04  tau_T4   0.03\n",
      "tau_DL04 tau_T2   -0.03\n",
      "tau_DL04 tau_T3   -0.02\n",
      "tau_DL04 tau_T4   -0.01\n",
      "tau_T2   tau_T3   0.65\n",
      "tau_T2   tau_T4   0.52\n",
      "tau_T3   tau_T4   0.77\n"
     ]
    }
   ],
   "source": [
    "for x1, x2 in itertools.combinations(df.columns, 2):\n",
    "    correlation, pValue = scipy.stats.pearsonr(getattr(df, x1), getattr(df, x2))\n",
    "    print(f'{x1: <8} {x2: <8} {correlation:.2f}')"
   ]
  },
  {
   "cell_type": "markdown",
   "metadata": {},
   "source": [
    "It is notable that the correlation between the last passage time `tau_DL04` and the diffusion time `tau_D1` are so similar.\n",
    "This really is indicating that the last passage time is a good proxy for diffusive behaviour.\n",
    "There is still a strong correlation between the last passage time and the relaxation times,\n",
    "so there is a reasonable argument to be made that these values are all connected in some way. "
   ]
  },
  {
   "cell_type": "code",
   "execution_count": 5,
   "metadata": {},
   "outputs": [
    {
     "data": {
      "text/html": [
       "\n",
       "\n",
       "\n",
       "\n",
       "\n",
       "\n",
       "  <div class=\"bk-root\" id=\"19b5c814-bf70-4d08-99b2-2315f3f51aa3\" data-root-id=\"1105\"></div>\n"
      ]
     },
     "metadata": {},
     "output_type": "display_data"
    },
    {
     "data": {
      "application/javascript": [
       "(function(root) {\n",
       "  function embed_document(root) {\n",
       "    \n",
       "  var docs_json = {\"f9c3d8b3-25b8-403d-8743-91a3700ab954\":{\"roots\":{\"references\":[{\"attributes\":{\"below\":[{\"id\":\"1114\",\"type\":\"LogAxis\"}],\"left\":[{\"id\":\"1119\",\"type\":\"LogAxis\"}],\"renderers\":[{\"id\":\"1114\",\"type\":\"LogAxis\"},{\"id\":\"1118\",\"type\":\"Grid\"},{\"id\":\"1119\",\"type\":\"LogAxis\"},{\"id\":\"1123\",\"type\":\"Grid\"},{\"id\":\"1132\",\"type\":\"BoxAnnotation\"},{\"id\":\"1144\",\"type\":\"GlyphRenderer\"}],\"title\":{\"id\":\"1156\",\"type\":\"Title\"},\"toolbar\":{\"id\":\"1130\",\"type\":\"Toolbar\"},\"x_range\":{\"id\":\"1106\",\"type\":\"DataRange1d\"},\"x_scale\":{\"id\":\"1110\",\"type\":\"LogScale\"},\"y_range\":{\"id\":\"1108\",\"type\":\"DataRange1d\"},\"y_scale\":{\"id\":\"1112\",\"type\":\"LogScale\"}},\"id\":\"1105\",\"subtype\":\"Figure\",\"type\":\"Plot\"},{\"attributes\":{},\"id\":\"1125\",\"type\":\"WheelZoomTool\"},{\"attributes\":{},\"id\":\"1110\",\"type\":\"LogScale\"},{\"attributes\":{},\"id\":\"1161\",\"type\":\"Selection\"},{\"attributes\":{\"callback\":null,\"data\":{\"index\":[0,1,2,3,4,5,6,7,8,9,10,11,12,13,14,15,16,17,18,19,20,21,22,23,24,25,26,27,28,29,30,31,32,33,34,35,36,37,38,39,40,41,42,43,44,45,46,47,48,49,50,51,52,53,54,55,56,57,58,59,60,61,62,63,64,65,66,67,68,69,70,71,72,73,74,75,76,77,78,79,80,81,82,83,84,85,86,87,88,89,90,91,92,93,94,95,96,97,98,99,100,101,102,103,104,105,106,107,108,109,110,111,112,113,114,115,116,117,118,119,120,121,122,123,124,125,126,127,128,129,130,131,132,133,134,135,136,137,138,139,140,141,142,143,144,145,146,147,148,149,150,151,152,153,154,155,156,157,158,159,160,161,162,163,164,165,166,167,168,169,170,171,172,173,174,175,176,177,178,179,180,181,182,183,184,185,186,187,188,189,190,191,192,193,194,195,196,197,198,199,200,201,202,203,204,205,206,207,208,209,210,211,212,213,214,215,216,217,218,219,220,221,222,223,224,225,226,227,228,229,230,231,232,233,234,235,236,237,238,239,240,241,242,243,244,245,246,247,248,249,250,251,252,253,254,255,256,257,258,259,260,261,262,263,264,265,266,267,268,269,270,271,272,273,274,275,276,277,278,279,280,281,282,283,284,285,286,287,288,289,290,291,292,293,294,295,296,297,298,299,300,301,302,303,304,305,306,307,308,309,310,311,312,313,314,315,316,317,318,319,320,321,322,323,324,325,326,327,328,329,330,331,332,333,334,335,336,337,338,339,340,341,342,343,344,345,346,347,348,349,350,351,352,353,354,355,356,357,358,359,360,361,362,363,364,365,366,367,368,369,370,371,372,373,374,375,376,377,378,379,380,381,382,383,384,385,386,387,388,389,390,391,392,393,394,395,396,397,398,399,400,401,402,403,404,405,406,407,408,409,410,411,412,413,414,415,416,417,418,419,420,421,422,423,424,425,426,427,428,429,430,431,432,433,434,435,436,437,438,439,440,441,442,443,444,445,446,447,448,449,450,451,452,453,454,455,456,457,458,459,460,461,462,463,464,465,466,467,468,469,470,471,472,473,474,475,476,477,478,479,480,481,482,483,484,485,486,487,488,489,490,491,492,493,494,495,496,497,498,499,500,501,502,503,504,505,506,507,508,509,510,511,512,513,514,515,516,517,518,519,520,521,522,523,524,525,526,527,528,529,530,531,532,533,534,535,536,537,538,539,540,541,542,543,544,545,546,547,548,549,550,551,552,553,554,555,556,557,558,559,560,561,562,563,564,565,566,567,568,569,570,571,572,573,574,575,576,577,578,579,580,581,582,583,584,585,586,587,588,589,590,591,592,593,594,595,596,597,598,599,600,601,602,603,604,605,606,607,608,609,610,611,612,613,614,615,616,617,618,619,620,621,622,623,624,625,626,627,628,629,630,631,632,633,634,635,636,637,638,639,640,641,642,643,644,645,646,647,648,649,650,651,652,653,654,655,656,657,658,659,660,661,662,663,664,665,666,667,668,669,670,671,672,673,674,675,676,677,678,679,680,681,682,683,684,685,686,687,688,689,690,691,692,693,694,695,696,697,698,699,700,701,702,703,704,705,706,707,708,709,710,711,712,713,714,715,716,717,718,719,720,721,722,723,724,725,726,727,728,729,730,731,732,733,734,735,736,737,738,739,740,741,742,743,744,745,746,747,748,749,750,751,752,753,754,755,756,757,758,759,760,761,762,763,764,765,766,767,768,769,770,771,772,773,774,775,776,777,778,779,780,781,782,783,784,785,786,787,788,789,790,791,792,793,794,795,796,797,798,799,800,801,802,803,804,805,806,807,808,809,810,811,812,813,814,815,816,817,818,819,820,821,822,823,824,825,826,827,828,829,830,831,832,833,834,835,836,837,838,839,840,841,842,843,844,845,846,847,848,849,850,851,852,853,854,855,856,857,858,859,860,861,862,863,864,865,866,867,868,869,870,871,872,873,874,875,876,877,878,879,880,881,882,883,884,885,886,887,888,889,890,891,892,893,894,895,896,897,898,899,900,901,902,903,904,905,906,907,908,909,910,911,912,913,914,915,916,917,918,919,920,921,922,923,924,925,926,927,928,929,930,931,932,933,934,935,936,937,938,939,940,941,942,943,944,945,946,947,948,949,950,951,952,953,954,955,956,957,958,959,960,961,962,963,964,965,966,967,968,969,970,971,972,973,974,975,976,977,978,979,980,981,982,983,984,985,986,987,988,989,990,991,992,993,994,995,996,997,998,999,1000,1001,1002,1003,1004,1005,1006,1007,1008,1009,1010,1011,1012,1013,1014,1015,1016,1017,1018,1019,1020,1021,1022,1023,1024,1025,1026,1027,1028,1029,1030,1031,1032,1033,1034,1035,1036,1037,1038,1039,1040,1041,1042,1043,1044,1045,1046,1047,1048,1049,1050,1051,1052,1053,1054,1055,1056,1057,1058,1059,1060,1061,1062,1063,1064,1065,1066,1067,1068,1069,1070,1071,1072,1073,1074,1075,1076,1077,1078,1079,1080,1081,1082,1083,1084,1085,1086,1087,1088,1089,1090,1091,1092,1093,1094,1095,1096,1097,1098,1099,1100,1101,1102,1103,1104,1105,1106,1107,1108,1109,1110,1111,1112,1113,1114,1115,1116,1117,1118,1119,1120,1121,1122,1123,1124,1125,1126,1127,1128,1129,1130,1131,1132,1133,1134,1135,1136,1137,1138,1139,1140,1141,1142,1143,1144,1145,1146,1147,1148,1149,1150,1151,1152,1153,1154,1155,1156,1157,1158,1159,1160,1161,1162,1163,1164,1165,1166,1167,1168,1169,1170,1171,1172,1173,1174,1175,1176,1177,1178,1179,1180,1181,1182,1183,1184,1185,1186,1187,1188,1189,1190,1191,1192,1193,1194,1195,1196,1197,1198,1199,1200,1201,1202,1203,1204,1205,1206,1207,1208,1209,1210,1211,1212,1213,1214,1215,1216,1217,1218,1219,1220,1221,1222,1223,1224,1225,1226,1227,1228,1229,1230,1231,1232,1233,1234,1235,1236,1237,1238,1239,1240,1241,1242,1243,1244,1245,1246,1247,1248,1249,1250,1251,1252,1253,1254,1255,1256,1257,1258,1259,1260,1261,1262,1263,1264,1265,1266,1267,1268,1269,1270,1271,1272,1273,1274,1275,1276,1277,1278,1279,1280,1281,1282,1283,1284,1285,1286,1287,1288,1289,1290,1291,1292,1293,1294,1295,1296,1297,1298,1299,1300,1301,1302,1303,1304,1305,1306,1307,1308,1309,1310,1311,1312,1313,1314,1315,1316,1317,1318,1319,1320,1321,1322,1323,1324,1325,1326,1327,1328,1329,1330,1331,1332,1333,1334,1335,1336,1337,1338,1339,1340,1341,1342,1343,1344,1345,1346,1347,1348,1349,1350,1351,1352,1353,1354,1355,1356,1357,1358,1359,1360,1361,1362,1363,1364,1365,1366,1367,1368,1369,1370,1371,1372,1373,1374,1375,1376,1377,1378,1379,1380,1381,1382,1383,1384,1385,1386,1387,1388,1389,1390,1391,1392,1393,1394,1395,1396,1397,1398,1399,1400,1401,1402,1403,1404,1405,1406,1407,1408,1409,1410,1411,1412,1413,1414,1415,1416,1417,1418,1419,1420,1421,1422,1423,1424,1425,1426,1427,1428,1429,1430,1431,1432,1433,1434,1435,1436,1437,1438,1439,1440,1441,1442,1443,1444,1445,1446,1447,1448,1449,1450,1451,1452,1453,1454,1455,1456,1457,1458,1459,1460,1461,1462,1463,1464,1465,1466,1467,1468,1469,1470,1471,1472,1473,1474,1475,1476,1477,1478,1479,1480,1481,1482,1483,1484,1485,1486,1487,1488,1489,1490,1491,1492,1493,1494,1495,1496,1497,1498,1499,1500,1501,1502,1503,1504,1505,1506,1507,1508,1509,1510,1511,1512,1513,1514,1515,1516,1517,1518,1519,1520,1521,1522,1523,1524,1525,1526,1527,1528,1529,1530,1531,1532,1533,1534,1535,1536,1537,1538,1539,1540,1541,1542,1543,1544,1545,1546,1547,1548,1549,1550,1551,1552,1553,1554,1555,1556,1557,1558,1559,1560,1561,1562,1563,1564,1565,1566,1567,1568,1569,1570,1571,1572,1573,1574,1575,1576,1577,1578,1579,1580,1581,1582,1583,1584,1585,1586,1587,1588,1589,1590,1591,1592,1593,1594,1595,1596,1597,1598,1599,1600,1601,1602,1603,1604,1605,1606,1607,1608,1609,1610,1611,1612,1613,1614,1615,1616,1617,1618,1619,1620,1621,1622,1623,1624,1625,1626,1627,1628,1629,1630,1631,1632,1633,1634,1635,1636,1637,1638,1639,1640,1641,1642,1643,1644,1645,1646,1647,1648,1649,1650,1651,1652,1653,1654,1655,1656,1657,1658,1659,1660,1661,1662,1663,1664,1665,1666,1667,1668,1669,1670,1671,1672,1673,1674,1675,1676,1677,1678,1679,1680,1681,1682,1683,1684,1685,1686,1687,1688,1689,1690,1691,1692,1693,1694,1695,1696,1697,1698,1699,1700,1701,1702,1703,1704,1705,1706,1707,1708,1709,1710,1711,1712,1713,1714,1715,1716,1717,1718,1719,1720,1721,1722,1723,1724,1725,1726,1727,1728,1729,1730,1731,1732,1733,1734,1735,1736,1737,1738,1739,1740,1741,1742,1743,1744,1745,1746,1747,1748,1749,1750,1751,1752,1753,1754,1755,1756,1757,1758,1759,1760,1761,1762,1763,1764,1765,1766,1767,1768,1769,1770,1771,1772,1773,1774,1775,1776,1777,1778,1779,1780,1781,1782,1783,1784,1785,1786,1787,1788,1789,1790,1791,1792,1793,1794,1795,1796,1797,1798,1799,1800,1801,1802,1803,1804,1805,1806,1807,1808,1809,1810,1811,1812,1813,1814,1815,1816,1817,1818,1819,1820,1821,1822,1823,1824,1825,1826,1827,1828,1829,1830,1831,1832,1833,1834,1835,1836,1837,1838,1839,1840,1841,1842,1843,1844,1845,1846,1847,1848,1849,1850,1851,1852,1853,1854,1855,1856,1857,1858,1859,1860,1861,1862,1863,1864,1865,1866,1867,1868,1869,1870,1871,1872,1873,1874],\"tau_DL04\":[17000000,3000000,910000,3800000,9100000,8700000,19000000,1100000,1700000,19000000,1700000,9400000,5200000,19000000,9800000,210000,140000,18000000,4800000,13000000,9700000,150000,4900000,1400000,1700000,23000000,1900000,860000,930000,3700000,9900000,13000000,14000000,9800000,9700000,2000000,9300000,720000,9000000,5400000,6300000,6700000,10000000,9000000,2600000,13000000,27000000,3900000,9600000,4000000,820000,3900000,9600000,17000000,8600000,9000000,3600000,8600000,4300000,9700000,5500000,5200000,13000000,28000000,6700000,50000,9000000,280000,4294967295,510000,430000,13000000,9300000,9600000,2700000,11000000,46000,9700000,5400000,13000000,27000000,290000,13000000,13000000,1700000,8700000,5100000,3900000,32000000,22000000,6300000,510000,26000000,5900000,9500000,11000000,5100000,370000,1800000,9500000,38000000,10000000,970000,15000000,320000,9600000,9200000,6300000,220000,2900000,5900000,6900000,830000,3900000,7000000,210000,7200000,9700000,5700000,4600000,8300000,16000000,630000,4500000,9600000,9400000,9200000,14000000,4800000,5800000,7200000,9000000,960000,9100000,14000000,20000000,9900000,530000,500000,4900000,1600000,35000000,3800000,4100000,11000000,9400000,2500000,4200000,13000000,4200000,20000000,5100000,25000000,25000000,3900000,7000000,11000000,3900000,6700000,4100000,26000000,27000000,17000000,4200000,5400000,9500000,4300000,5200000,1300000,9700000,9600000,19000000,9600000,19000000,4100000,50000,200000,980000,950000,22000000,11000000,20000000,4700000,14000000,5300000,1700000,20000000,9600000,4100000,12000000,19000000,2700000,220000,21000000,5500000,910000,23000000,26000000,11000000,12000000,9600000,4000000,9500000,9700000,750000,4000000,29000000,610000,2900000,4000000,11000000,4600000,1700000,1100000,12000000,11000000,4300000,9400000,4000000,16000000,1500000,4400000,11000000,3200000,4100000,9100000,12000000,4000000,1700000,8600000,29000000,4700000,3200000,9800000,5300000,1800000,3900000,9500000,11000,22000000,210000,19000000,17000000,4000000,1700000,17000000,5300000,22000000,17000000,24000000,23000000,740000,5800000,1900000,300000,9800000,23000000,2000000,5000000,9600000,11000000,9400000,9300000,18000000,17000000,2900000,13000000,150000,21000000,4000000,2800000,5200000,620000,3500000,4900000,11000000,1600000,35000000,9600000,8800000,21000000,1700000,26000000,3200000,9900000,9500000,4800000,9400000,9600000,8400000,9000000,4600000,4900000,3900000,37000000,10000000,310000,17000000,11000000,2800000,7700000,11000000,9700000,1600000,5200000,230000,1800000,5300000,8400000,9700000,5400000,2900000,12000000,7400000,4800000,470000,18000000,9500000,3300000,9400000,4800000,2900000,5400000,9700000,16000000,9900000,19000000,19000000,9900000,2900000,17000000,9500000,9700000,16000000,13000000,2000000,9500000,9900000,4000000,9700000,6300000,1200000,240000,9400000,3700000,900000,4100000,170,170000,1800000,21000000,9700000,7000000,9300000,390000,24000000,2400000,3800000,3500000,4800000,5800000,8900000,8700,640000,9700000,10000000,7200000,5400000,22000000,9800000,350000,8400000,200000,9600000,6200000,220000,9500000,84000,9400000,18000000,9100000,250000,26000000,19000000,4800000,4900000,20000000,17000000,9400000,9700000,20000000,4600000,4100000,4200000,5400000,96000,120000,1200000,310000,8200000,2900000,9900000,5400000,13000000,4700000,48000,2600000,9300000,3900000,5000000,2400000,4800000,4800000,9500000,20000000,4100000,4500000,960000,11000000,7200000,13000000,1400000,2900000,3300000,9600000,9700000,9700000,400000,3800000,27000000,9100000,3300000,1100000,580000,9900000,23000000,9900000,17000000,9600000,9600000,4900000,9000000,11000000,5400000,110000,1900000,5200000,860000,1800000,9600000,9600000,4000000,15000000,19000000,9600000,24000000,3500000,20000000,2400000,1900000,620000,9100000,11000000,140000,9300000,19000000,9400000,600000,9700000,140000,1100000,11000000,5800000,6800000,9600000,93000,460000,140000,2700000,5200000,12000000,9900000,4700000,810000,6000000,9700000,3900000,9900000,4200000,3900000,4900000,9700000,4300000,2400000,1200000,28000000,31000000,590000,420000,9400000,5300000,4200000,12000000,7600000,5800000,4100000,9500000,2900000,7900000,9600000,5800000,7000000,6800000,18000000,1700000,13000000,2000000,9400000,700000,2600000,280000,980000,9100000,140000,13000000,19000000,3700000,1600000,3900000,13000000,2000000,9100000,8500000,6000000,90000,1700000,7500000,3600000,12000000,7500000,32000000,14000000,840000,8700000,4900000,4500,5900,280000,320000,20000000,8900000,14000000,6300000,23000000,760000,1900000,290000,4800000,1800000,9900000,38000000,9600000,15000000,210000,4800000,36000000,27000000,290000,5000000,9400000,94000,9800000,5400000,9300000,27000000,3000000,9900000,9400000,370000,7500000,27000000,9600000,9200000,18000000,910000,17000000,9900000,210000,9900000,21000000,23000000,3000000,7000000,21000000,11000000,480000,32000000,5800000,9800000,16000000,320000,9700000,2000000,9400000,12000000,9700000,7600000,3600000,10000000,29000000,12000000,14000000,13000000,9000000,14000000,12000000,9600000,9300000,9700000,20000000,4300000,7500000,3300000,9900000,8200000,17000000,3000000,910000,3800000,9100000,8700000,19000000,1100000,1700000,19000000,1700000,9400000,5200000,19000000,9800000,210000,140000,18000000,4800000,13000000,9700000,150000,4900000,1400000,1700000,23000000,1900000,860000,930000,3700000,9900000,13000000,14000000,9800000,9700000,2000000,9300000,720000,9000000,5400000,6300000,6700000,10000000,9000000,2600000,13000000,27000000,3900000,9600000,4000000,820000,3900000,9600000,17000000,8600000,9000000,3600000,8600000,4300000,9700000,5500000,5200000,13000000,28000000,6700000,50000,9000000,280000,4294967295,510000,430000,13000000,9300000,9600000,2700000,11000000,46000,9700000,5400000,13000000,27000000,290000,13000000,13000000,1700000,8700000,5100000,3900000,32000000,22000000,6300000,510000,26000000,5900000,9500000,11000000,5100000,370000,1800000,9500000,38000000,10000000,970000,15000000,320000,9600000,9200000,6300000,220000,2900000,5900000,6900000,830000,3900000,7000000,210000,7200000,9700000,5700000,4600000,8300000,16000000,630000,4500000,9600000,9400000,9200000,14000000,4800000,5800000,7200000,9000000,960000,9100000,14000000,20000000,9900000,530000,500000,4900000,1600000,35000000,3800000,4100000,11000000,9400000,2500000,4200000,13000000,4200000,20000000,5100000,25000000,25000000,3900000,7000000,11000000,3900000,6700000,4100000,26000000,27000000,17000000,4200000,5400000,9500000,4300000,5200000,1300000,9700000,9600000,19000000,9600000,19000000,4100000,50000,200000,980000,950000,22000000,11000000,20000000,4700000,14000000,5300000,1700000,20000000,9600000,4100000,12000000,19000000,2700000,220000,21000000,5500000,910000,23000000,26000000,11000000,12000000,9600000,4000000,9500000,9700000,750000,4000000,29000000,610000,2900000,4000000,11000000,4600000,1700000,1100000,12000000,11000000,4300000,9400000,4000000,16000000,1500000,4400000,11000000,3200000,4100000,9100000,12000000,4000000,1700000,8600000,29000000,4700000,3200000,9800000,5300000,1800000,3900000,9500000,11000,22000000,210000,19000000,17000000,4000000,1700000,17000000,5300000,22000000,17000000,24000000,23000000,740000,5800000,1900000,300000,9800000,23000000,2000000,5000000,9600000,11000000,9400000,9300000,18000000,17000000,2900000,13000000,150000,21000000,4000000,2800000,5200000,620000,3500000,4900000,11000000,1600000,35000000,9600000,8800000,21000000,1700000,26000000,3200000,9900000,9500000,4800000,9400000,9600000,8400000,9000000,4600000,4900000,3900000,37000000,10000000,310000,17000000,11000000,2800000,7700000,11000000,9700000,1600000,5200000,230000,1800000,5300000,8400000,9700000,5400000,2900000,12000000,7400000,4800000,470000,18000000,9500000,3300000,9400000,4800000,2900000,5400000,9700000,16000000,9900000,19000000,19000000,9900000,2900000,17000000,9500000,9700000,16000000,13000000,2000000,9500000,9900000,4000000,9700000,6300000,1200000,240000,9400000,3700000,900000,4100000,170,170000,1800000,21000000,9700000,7000000,9300000,390000,24000000,2400000,3800000,3500000,4800000,5800000,8900000,8700,640000,9700000,10000000,7200000,5400000,22000000,9800000,350000,8400000,200000,9600000,6200000,220000,9500000,84000,9400000,18000000,9100000,250000,26000000,19000000,4800000,4900000,20000000,17000000,9400000,9700000,20000000,4600000,4100000,4200000,5400000,96000,120000,1200000,310000,8200000,2900000,9900000,5400000,13000000,4700000,48000,2600000,9300000,3900000,5000000,2400000,4800000,4800000,9500000,20000000,4100000,4500000,960000,11000000,7200000,13000000,1400000,2900000,3300000,9600000,9700000,9700000,400000,3800000,27000000,9100000,3300000,1100000,580000,9900000,23000000,9900000,17000000,9600000,9600000,4900000,9000000,11000000,5400000,110000,1900000,5200000,860000,1800000,9600000,9600000,4000000,15000000,19000000,9600000,24000000,3500000,20000000,2400000,1900000,620000,9100000,11000000,140000,9300000,19000000,9400000,600000,9700000,140000,1100000,11000000,5800000,6800000,9600000,93000,460000,140000,2700000,5200000,12000000,9900000,4700000,810000,6000000,9700000,3900000,9900000,4200000,3900000,4900000,9700000,4300000,2400000,1200000,28000000,31000000,590000,420000,9400000,5300000,4200000,12000000,7600000,5800000,4100000,9500000,2900000,7900000,9600000,5800000,7000000,6800000,18000000,1700000,13000000,2000000,9400000,700000,2600000,280000,980000,9100000,140000,13000000,19000000,3700000,1600000,3900000,13000000,2000000,9100000,8500000,6000000,90000,1700000,7500000,3600000,12000000,7500000,32000000,14000000,840000,8700000,4900000,4500,5900,280000,320000,20000000,8900000,14000000,6300000,23000000,760000,1900000,290000,4800000,1800000,9900000,38000000,9600000,15000000,210000,4800000,36000000,27000000,290000,5000000,9400000,94000,9800000,5400000,9300000,27000000,3000000,9900000,9400000,370000,7500000,27000000,9600000,9200000,18000000,910000,17000000,9900000,210000,9900000,21000000,23000000,3000000,7000000,21000000,11000000,480000,32000000,5800000,9800000,16000000,320000,9700000,2000000,9400000,12000000,9700000,7600000,3600000,10000000,29000000,12000000,14000000,13000000,9000000,14000000,12000000,9600000,9300000,9700000,20000000,4300000,7500000,3300000,9900000,8200000,17000000,3000000,910000,3800000,9100000,8700000,19000000,1100000,1700000,19000000,1700000,9400000,5200000,19000000,9800000,210000,140000,18000000,4800000,13000000,9700000,150000,4900000,1400000,1700000,23000000,1900000,860000,930000,3700000,9900000,13000000,14000000,9800000,9700000,2000000,9300000,720000,9000000,5400000,6300000,6700000,10000000,9000000,2600000,13000000,27000000,3900000,9600000,4000000,820000,3900000,9600000,17000000,8600000,9000000,3600000,8600000,4300000,9700000,5500000,5200000,13000000,28000000,6700000,50000,9000000,280000,4294967295,510000,430000,13000000,9300000,9600000,2700000,11000000,46000,9700000,5400000,13000000,27000000,290000,13000000,13000000,1700000,8700000,5100000,3900000,32000000,22000000,6300000,510000,26000000,5900000,9500000,11000000,5100000,370000,1800000,9500000,38000000,10000000,970000,15000000,320000,9600000,9200000,6300000,220000,2900000,5900000,6900000,830000,3900000,7000000,210000,7200000,9700000,5700000,4600000,8300000,16000000,630000,4500000,9600000,9400000,9200000,14000000,4800000,5800000,7200000,9000000,960000,9100000,14000000,20000000,9900000,530000,500000,4900000,1600000,35000000,3800000,4100000,11000000,9400000,2500000,4200000,13000000,4200000,20000000,5100000,25000000,25000000,3900000,7000000,11000000,3900000,6700000,4100000,26000000,27000000,17000000,4200000,5400000,9500000,4300000,5200000,1300000,9700000,9600000,19000000,9600000,19000000,4100000,50000,200000,980000,950000,22000000,11000000,20000000,4700000,14000000,5300000,1700000,20000000,9600000,4100000,12000000,19000000,2700000,220000,21000000,5500000,910000,23000000,26000000,11000000,12000000,9600000,4000000,9500000,9700000,750000,4000000,29000000,610000,2900000,4000000,11000000,4600000,1700000,1100000,12000000,11000000,4300000,9400000,4000000,16000000,1500000,4400000,11000000,3200000,4100000,9100000,12000000,4000000,1700000,8600000,29000000,4700000,3200000,9800000,5300000,1800000,3900000,9500000,11000,22000000,210000,19000000,17000000,4000000,1700000,17000000,5300000,22000000,17000000,24000000,23000000,740000,5800000,1900000,300000,9800000,23000000,2000000,5000000,9600000,11000000,9400000,9300000,18000000,17000000,2900000,13000000,150000,21000000,4000000,2800000,5200000,620000,3500000,4900000,11000000,1600000,35000000,9600000,8800000,21000000,1700000,26000000,3200000,9900000,9500000,4800000,9400000,9600000,8400000,9000000,4600000,4900000,3900000,37000000,10000000,310000,17000000,11000000,2800000,7700000,11000000,9700000,1600000,5200000,230000,1800000,5300000,8400000,9700000,5400000,2900000,12000000,7400000,4800000,470000,18000000,9500000,3300000,9400000,4800000,2900000,5400000,9700000,16000000,9900000,19000000,19000000,9900000,2900000,17000000,9500000,9700000,16000000,13000000,2000000,9500000,9900000,4000000,9700000,6300000,1200000,240000,9400000,3700000,900000,4100000,170,170000,1800000,21000000,9700000,7000000,9300000,390000,24000000,2400000,3800000,3500000,4800000,5800000,8900000,8700,640000,9700000,10000000,7200000,5400000,22000000,9800000,350000,8400000,200000,9600000,6200000,220000,9500000,84000,9400000,18000000,9100000,250000,26000000,19000000,4800000,4900000,20000000,17000000,9400000,9700000,20000000,4600000,4100000,4200000,5400000,96000,120000,1200000,310000,8200000,2900000,9900000,5400000,13000000,4700000,48000,2600000,9300000,3900000,5000000,2400000,4800000,4800000,9500000,20000000,4100000,4500000,960000,11000000,7200000,13000000,1400000,2900000,3300000,9600000,9700000,9700000,400000,3800000,27000000,9100000,3300000,1100000,580000,9900000,23000000,9900000,17000000,9600000,9600000,4900000,9000000,11000000,5400000,110000,1900000,5200000,860000,1800000,9600000,9600000,4000000,15000000,19000000,9600000,24000000,3500000,20000000,2400000,1900000,620000,9100000,11000000,140000,9300000,19000000,9400000,600000,9700000,140000,1100000,11000000,5800000,6800000,9600000,93000,460000,140000,2700000,5200000,12000000,9900000,4700000,810000,6000000,9700000,3900000,9900000,4200000,3900000,4900000,9700000,4300000,2400000,1200000,28000000,31000000,590000,420000,9400000,5300000,4200000,12000000,7600000,5800000,4100000,9500000,2900000,7900000,9600000,5800000,7000000,6800000,18000000,1700000,13000000,2000000,9400000,700000,2600000,280000,980000,9100000,140000,13000000,19000000,3700000,1600000,3900000,13000000,2000000,9100000,8500000,6000000,90000,1700000,7500000,3600000,12000000,7500000,32000000,14000000,840000,8700000,4900000,4500,5900,280000,320000,20000000,8900000,14000000,6300000,23000000,760000,1900000,290000,4800000,1800000,9900000,38000000,9600000,15000000,210000,4800000,36000000,27000000,290000,5000000,9400000,94000,9800000,5400000,9300000,27000000,3000000,9900000,9400000,370000,7500000,27000000,9600000,9200000,18000000,910000,17000000,9900000,210000,9900000,21000000,23000000,3000000,7000000,21000000,11000000,480000,32000000,5800000,9800000,16000000,320000,9700000,2000000,9400000,12000000,9700000,7600000,3600000,10000000,29000000,12000000,14000000,13000000,9000000,14000000,12000000,9600000,9300000,9700000,20000000,4300000,7500000,3300000,9900000,8200000],\"value\":[11000000,11000000,17000000,8600000,9200000,28000000,24000000,24000000,9900000,41000000,17000000,65000000,39000000,75000000,13000000,80000000,5400000,21000000,5400000,25000000,97000000,130000000,12000000,5600000,46000000,36000000,12000000,9300000,14000000,48000000,26000000,25000000,28000000,31000000,12000000,18000000,13000000,20000000,35000000,92000000,7500000,38000000,39000000,14000000,450000,17000000,170000000,17000000,15000000,140000000,31000000,13000000,48000000,10000000,33000000,12000000,29000000,5800000,16000000,28000000,37000000,49000000,51000000,13000000,76000000,2100000,7100000,15000000,4400000,1200000,14000000,98000000,33000000,29000000,10000000,34000000,18000000,19000000,7300000,13000000,66000000,1900000,25000000,40000000,19000000,29000000,49000000,43000000,48000000,29000000,5400000,400000,97000000,25000000,13000000,83000000,16000000,9700000,27000000,13000000,51000000,14000000,37000000,31000000,23000000,13000000,20000000,36000000,13000000,14000000,99000000,42000000,8400000,40000000,18000000,38000000,12000000,28000000,5800000,53000000,33000000,77000000,37000000,8300000,12000000,47000000,47000000,17000000,50000000,16000000,7900000,12000000,47000000,12000000,26000000,8500000,33000000,19000000,27000000,29000000,56000000,76000000,2000000,15000000,35000000,47000000,21000000,7600000,17000000,73000000,82000000,4200000,6900000,43000000,5600000,48000000,13000000,4000000,11000000,22000000,39000000,53000000,23000000,30000000,32000000,50000000,5800000,46000000,9900000,65000000,22000000,5400000,29000000,32000000,4300000,84000000,13000000,1800000,25000000,18000000,37000000,130000000,20000000,58000000,16000000,22000000,26000000,9500000,19000000,40000000,22000000,9100000,2400000,21000000,17000000,5700000,73000000,28000000,6900000,80000000,24000000,57000000,59000000,53000000,22000000,5400000,29000000,20000000,56000000,34000000,4000000,130000000,18000000,57000000,26000000,47000000,48000000,50000000,5800000,24000000,21000000,16000000,34000000,50000000,5700000,27000000,22000000,60000000,22000000,34000000,23000000,24000000,1200000,34000000,94000000,28000000,3500000,29000000,19000000,28000000,7000000,21000000,33000000,21000000,44000000,22000000,28000000,68000000,25000000,15000000,37000000,6300000,53000000,44000000,47000000,36000000,57000000,56000000,4500000,12000000,14000000,49000000,30000000,37000000,66000000,18000000,40000000,9900000,23000000,4400000,28000000,34000000,25000000,57000000,20000000,34000000,18000000,73000000,16000000,39000000,120000000,52000000,2300000,52000000,140000000,73000000,29000000,14000000,36000000,43000000,28000000,4700000,430000,26000000,57000000,25000000,21000000,18000000,7700000,5800000,11000000,16000000,20000000,15000000,2000000,1900000,3900000,37000000,5100000,34000000,440000,18000000,4000000,56000000,14000000,9100000,61000000,12000000,29000000,21000000,6400000,15000000,160000000,48000000,55000000,11000000,63000000,9600000,19000000,29000000,61000000,72000000,120000000,110000,40000000,71000000,25000000,25000000,26000000,150000000,89000000,9700000,2900000,29000000,67000,12000000,4200000,39000000,38000000,21000000,47000000,34000000,46000000,13000000,37000000,36000000,13000000,15000000,28000000,9400000,43000000,52000000,48000000,29000000,38000000,22000000,11000000,34000000,120000000,1400000,1100000,26000000,3900,18000000,43000000,65000000,250000000,50000000,68000000,28000000,22000000,9100000,92000000,8400000,58000000,7500000,6900000,19000000,40000000,29000000,59000000,24000000,44000000,5700000,57000000,9600000,1700000,66000000,46000000,17000000,46000000,27000000,31000000,28000000,5400000,13000000,34000000,120000000,7700000,9500000,12000000,37000000,33000000,36000000,47000000,17000000,39000000,1500000,440000,6000000,9200000,13000000,26000000,8400000,97000000,78000000,83000000,2900000,2900000,91000000,21000000,13000000,4400000,27000000,300000,72000000,34000000,37000000,33000000,81000000,38000000,31000000,32000000,21000000,24000000,9900000,29000000,28000000,4200000,25000000,11000000,76000000,14000000,2900000,36000000,68000000,33000000,27000000,43000000,70000000,76000000,28000000,25000000,1300000,24000000,19000000,31000000,9700000,48000000,30000000,76000000,23000000,9400000,20000000,18000000,20000000,9100000,1200000,4900000,60000000,57000000,20000000,5900000,8400000,79000000,12000000,5400000,20000000,30000000,41000000,38000000,79000000,36000000,33000000,13000000,3500000,57000000,3600000,62000000,19000000,77000000,61000000,6900000,8400000,15000000,41000000,1400000,4800000,4200000,11000000,46000000,19000000,33000000,13000000,5800000,15000000,9300000,61000000,15000000,18000000,4400000,4200000,9700000,55000000,27000000,16000000,17000000,49000000,33000000,60000000,18000000,12000000,48000000,26000000,5100000,8300000,29000000,34000000,78000000,9200000,33000000,30000000,37000000,25000000,46000000,16000000,490000,4700000,2300000,21000000,14000000,24000000,7900000,26000000,19000000,2800000,37000000,3800000,9000000,9200000,64000000,23000000,18000000,20000000,50000000,47000000,65000000,44000000,32000000,78000000,5900000,28000000,50000000,27000000,91000000,29000000,9200000,11000000,19000000,34000000,5600000,1300000,33000000,25000000,47000000,32000000,25000000,29000000,53000000,800000,3100000,25000000,7100000,52000000,17000000,28000000,46000000,34000000,29000000,16000000,9300000,20000000,12000000,80000000,9500000,76000000,81000000,24000000,27000000,51000000,65000000,40000000,14000000,3000000,35000000,3100000,26000000,23000000,74000000,21000000,26000000,7800000,2500000,6200000,8400000,11000000,11000000,9600000,8600000,7600000,28000000,22000000,5500000,9900000,41000000,17000000,65000000,33000000,29000000,11000000,4100000,5400000,21000000,5400000,17000000,85000000,95000000,12000000,4400000,46000000,34000000,12000000,1100000,14000000,48000000,26000000,5000000,19000000,27000000,530000,18000000,4500000,2500000,33000000,35000000,7500000,29000000,36000000,14000000,400000,9400000,41000000,3900000,11000000,21000000,2800000,8500000,15000000,10000000,32000000,12000000,29000000,5800000,8900000,28000000,5600000,15000000,9600000,13000000,6900000,2100000,7100000,4900000,4100000,980000,13000000,60000000,4100000,28000000,7100000,32000000,18000000,18000000,6500000,7100000,57000000,1800000,17000000,16000000,18000000,20000000,14000000,37000000,47000000,24000000,5400000,230000,77000000,25000000,13000000,4300000,16000000,9600000,9000000,3400000,51000000,14000000,19000000,31000000,22000000,9600000,20000000,11000000,12000000,13000000,8000000,4800000,3800000,38000000,16000000,38000000,9600000,14000000,5500000,52000000,18000000,20000000,36000000,4200000,11000000,33000000,17000000,17000000,480000,8000000,7600000,2600000,43000000,12000000,13000000,8500000,32000000,2700000,25000000,4100000,38000000,51000000,1800000,14000000,22000000,46000000,21000000,7600000,17000000,66000000,23000000,4200000,4900000,4200000,5300000,25000000,32000,4000000,8500000,8300000,280000,28000000,21000000,30000000,25000000,50000000,5400000,46000000,5700000,59000000,22000000,5400000,3100000,14000000,4300000,19000000,13000000,1800000,19000000,18000000,33000000,57000000,16000000,31000000,16000000,9800000,21000000,4300000,4200000,29000000,21000000,4000000,2400000,9600000,5500000,1300000,49000000,26000000,1100000,61000000,24000000,4900000,20000000,12000000,21000000,5400000,11000000,9900000,55000000,5900000,4000000,65000000,18000000,4400000,26000000,27000000,5300000,35000000,5700000,23000000,1800000,4200000,34000000,14000000,5200000,26000000,17000000,57000000,16000000,8500000,23000000,24000000,1200000,34000000,5700000,2900000,3300000,9200000,12000000,28000000,4700000,21000000,19000000,13000000,5800000,22000000,14000000,66000000,21000000,14000000,36000000,5700000,5900000,18000000,41000000,36000000,57000000,46000000,4100000,12000000,13000000,23000000,30000000,28000000,65000000,18000000,40000000,4200000,23000000,4100000,1800000,30000000,25000000,8400000,12000000,28000000,18000000,57000000,16000000,250000,18000000,40000000,2100000,4000000,82000000,4800000,28000000,14000000,34000000,26000000,28000000,4700000,210000,26000000,3800000,25000000,16000000,18000000,5500000,740000,11000000,9600000,11000000,1600000,2000000,420000,2700000,2800000,4900000,31000000,430000,18000000,3900000,12000000,14000000,7600000,27000000,12000000,12000000,20000000,2700000,15000000,16000000,12000000,53000000,11000000,36000000,9300000,17000000,29000000,40000000,32000000,95000000,74000,38000000,71000000,9200000,10000000,26000000,49000000,18000000,5600000,1900000,28000000,63000,19000,4200000,33000000,26000000,13000000,28000000,34000000,14000000,13000000,2100000,16000000,8100000,8800000,28000000,9200000,42000000,34000000,48000000,20000000,38000000,16000000,10000000,33000000,46000000,1400000,290000,21000000,3100,18000000,36000000,570000,51000000,38000000,26000000,28000000,22000000,9100000,18000000,7500000,5000000,7500000,6900000,19000000,7500000,29000000,47000000,5800000,38000000,4200000,30000000,8600000,1700000,1700000,380000,15000000,46000000,3000000,30000000,28000000,3700000,13000000,27000000,40000000,6000000,9300000,4700000,13000000,2700000,13000000,47000000,17000000,27000000,1300000,430000,770000,9200000,13000000,5700000,3500000,55000000,8500000,26000000,660000,2900000,68000000,13000000,12000000,1700000,12000000,300000,21000000,21000000,32000000,11000000,23000000,32000000,28000000,21000000,21000000,15000000,5200000,25000000,15000000,4100000,19000000,9900000,45000000,13000000,2600000,28000000,50000000,29000000,22000000,23000000,37000000,30000000,28000000,19000000,580000,24000000,19000000,30000000,9100000,9500000,5800000,1100000,7500000,9400000,9300000,12000000,18000000,1700000,980000,2900000,60000000,16000000,3600000,5800000,8000000,570000,12000000,5400000,15000000,22000000,33000000,9800000,33000000,8700000,21000000,13000000,3400000,34000000,490000,8400000,9100000,77000000,51000000,4500000,5600000,11000000,5400000,1100000,4300000,3900000,6600000,34000000,16000000,12000000,13000000,4000000,11000000,9300000,61000000,2800000,18000000,290000,2600000,9100000,35000000,20000000,16000000,3200000,44000000,18000000,59000000,18000000,12000000,26000000,26000000,4600000,4200000,210000,34000000,78000000,4300000,33000000,22000000,16000000,25000000,11000000,2800000,460000,340000,320000,21000000,14000000,19000000,7800000,22000000,17000000,60000,15000000,3600000,6100000,5500000,52000000,16000000,17000000,14000000,43000000,39000000,51000000,4900000,14000000,46000000,5800000,14000000,28000000,5900000,37000000,4700000,7900000,11000000,9100000,1400000,5200000,850000,2200000,25000000,4100000,30000000,25000000,3100000,50000000,800000,3100000,7100000,7100000,52000000,17000000,24000000,40000000,25000000,12000000,16000000,310000,20000000,12000000,32000000,9500000,27000000,35000000,10000000,27000000,42000000,7600000,8800000,13000000,3000000,35000000,3100000,26000000,12000000,17000000,20000000,8700000,5600000,74000,5900000,8400000,11000000,250000,8900000,8600000,7500000,28000000,22000000,170000,1800000,9300000,17000000,65000000,28000000,29000000,50000,3500000,5400000,21000000,4300000,17000000,40000000,95000000,12000000,2400000,18000000,34000000,12000000,860000,12000000,6000000,16000000,5000000,9500000,9900000,530000,17000000,2600000,1900000,33000000,19000000,7500000,29000000,13000000,14000000,18000,9400000,41000000,3900000,11000000,21000000,2700000,8500000,13000000,9800000,32000000,12000000,29000000,3300000,8600000,12000000,5500000,15000000,9600000,10000000,3900000,530000,430000,1700000,4100000,240000,13000000,59000000,3200000,14000000,2700000,31000000,18000000,18000000,6500000,7100000,55000000,390000,17000000,16000000,18000000,490000,11000000,8500000,19000000,23000000,5400000,220000,14000000,5600000,6000000,4200000,5600000,9500000,9000000,2800000,3000000,11000000,19000000,9500000,22000000,9600000,12000000,8900000,12000000,13000000,5600000,4700000,3000000,8500000,8500000,16000000,9200000,14000000,4800000,47000000,16000000,2900000,640000,3800000,11000000,33000000,16000000,17000000,480000,6100000,6100000,2600000,43000000,11000000,13000000,8500000,32000000,630000,1700000,4100000,2400000,51000000,1800000,4100000,22000000,46000000,9200000,7100000,17000000,25000000,23000000,4200000,4900000,4200000,5300000,20000000,32000,51000,3400000,7500000,260000,28000000,21000000,30000000,20000000,50000000,5400000,4100000,5700000,52000000,21000000,4000000,3100000,14000000,4300000,260000,13000000,1800000,9300000,18000000,32000000,38000000,5400000,31000000,16000000,4400000,21000000,4300000,4000000,29000000,21000000,4000000,2400000,9600000,5200000,1300000,48000000,23000000,1100000,16000000,24000000,4300000,20000000,12000000,970000,5300000,11000000,9900000,53000000,4900000,4000000,5100000,18000000,4200000,7000000,23000000,5300000,34000000,5100000,23000000,560000,4200000,32000000,12000000,5200000,26000000,17000000,5400000,15000000,7500000,23000000,24000000,1200000,34000000,5600000,2800000,3300000,9200000,9900000,25000000,4700000,21000000,17000000,9200000,1900000,21000000,14000000,9600000,21000000,14000000,35000000,5700000,5900000,1900000,17000000,36000000,50000000,32000000,4100000,11000000,13000000,23000000,29000000,28000000,52000000,18000000,27000000,2400000,23000000,4100000,1800000,28000000,7000000,3600000,5300000,28000000,18000000,51000000,16000000,230000,18000000,40000000,2100000,2600000,57000000,4800000,4800000,14000000,9100000,6800,27000000,4700000,210000,26000000,3700000,25000000,15000000,18000000,5500000,120000,11000000,9600000,9700000,1400000,2000000,280000,2700000,1900000,4300000,23000000,430000,18000000,3900000,11000000,14000000,840000,27000000,12000000,12000000,20000000,2700000,15000000,16000000,12000000,51000000,11000000,33000000,9300000,11000000,3600000,39000000,9700000,40000000,55000,38000000,4100000,9200000,5800000,25000000,47000000,13000000,5600000,350000,28000000,63000,6600,4200000,29000000,1200000,13000000,28000000,26000000,8500000,13000000,650000,14000000,2000000,2600000,26000000,7400000,37000000,31000000,7100000,20000000,36000000,7200000,10000000,33000000,44000000,1400000,280000,21000000,2900,18000000,19000000,280000,29000000,710000,26000000,28000000,960000,3100000,5000000,7500000,5000000,5200000,5500000,19000000,5500000,28000000,27000000,5700000,8400000,630000,30000000,8600000,1700000,230000,320000,13000000,46000000,1800000,3000000,28000000,3700000,13000000,21000000,34000000,6000000,9300000,4200000,13000000,2700000,13000000,36000000,17000000,8800000,1300000,430000,480000,640000,320000,4200000,3500000,49000000,8500000,25000000,490000,2900000,52000000,13000000,12000000,1500000,12000000,300000,21000000,21000000,32000000,11000000,23000000,32000000,28000000,20000000,21000000,4600000,4300000,25000000,14000000,4000000,14000000,9900000,45000000,13000000,2600000,27000000,50000000,5800000,22000000,2600000,1500000,30000000,27000000,18000000,270000,24000000,9100000,5700000,4000000,9500000,5800000,1100000,5700000,7400000,9300000,12000000,8000000,480000,260000,2900000,27000000,9600000,3600000,5800000,1000000,560000,12000000,5300000,14000000,17000000,9000000,5400000,12000000,8500000,21000000,12000000,2300000,34000000,490000,470000,9100000,33000000,48000000,4500000,940000,11000000,4300000,1100000,4000000,3900000,6600000,25000000,9700000,11000000,12000000,4000000,11000000,190000,36000000,1700000,18000000,290000,260000,9100000,6000000,20000000,16000000,3200000,300000,8100000,290000,18000000,11000000,26000000,26000000,560000,3700000,210000,28000000,12000000,4300000,29000000,20000000,12000000,25000000,11000000,2800000,250000,340000,240000,21000000,13000000,12000000,39000,16000000,640000,48000,9200000,3600000,5800000,4900000,51000000,13000000,14000000,6500,33000000,39000000,48000000,4800000,14000000,34000000,5800000,12000000,23000000,5500000,35000000,3100000,7900000,11000000,470000,710000,5200000,820000,410000,22000000,910000,19000000,25000000,3100000,34000000,800000,3100000,3200000,7100000,52000000,14000000,24000000,28000000,15000000,12000000,15000000,310000,12000000,12000000,32000000,9500000,27000000,33000000,5000000,8700000,510000,7600000,8800000,12000000,2400000,28000000,300000,500000,12000000,17000000,20000000,8700000,5600000,73000,5900000,8000000],\"variable\":[\"tau_T2\",\"tau_T2\",\"tau_T2\",\"tau_T2\",\"tau_T2\",\"tau_T2\",\"tau_T2\",\"tau_T2\",\"tau_T2\",\"tau_T2\",\"tau_T2\",\"tau_T2\",\"tau_T2\",\"tau_T2\",\"tau_T2\",\"tau_T2\",\"tau_T2\",\"tau_T2\",\"tau_T2\",\"tau_T2\",\"tau_T2\",\"tau_T2\",\"tau_T2\",\"tau_T2\",\"tau_T2\",\"tau_T2\",\"tau_T2\",\"tau_T2\",\"tau_T2\",\"tau_T2\",\"tau_T2\",\"tau_T2\",\"tau_T2\",\"tau_T2\",\"tau_T2\",\"tau_T2\",\"tau_T2\",\"tau_T2\",\"tau_T2\",\"tau_T2\",\"tau_T2\",\"tau_T2\",\"tau_T2\",\"tau_T2\",\"tau_T2\",\"tau_T2\",\"tau_T2\",\"tau_T2\",\"tau_T2\",\"tau_T2\",\"tau_T2\",\"tau_T2\",\"tau_T2\",\"tau_T2\",\"tau_T2\",\"tau_T2\",\"tau_T2\",\"tau_T2\",\"tau_T2\",\"tau_T2\",\"tau_T2\",\"tau_T2\",\"tau_T2\",\"tau_T2\",\"tau_T2\",\"tau_T2\",\"tau_T2\",\"tau_T2\",\"tau_T2\",\"tau_T2\",\"tau_T2\",\"tau_T2\",\"tau_T2\",\"tau_T2\",\"tau_T2\",\"tau_T2\",\"tau_T2\",\"tau_T2\",\"tau_T2\",\"tau_T2\",\"tau_T2\",\"tau_T2\",\"tau_T2\",\"tau_T2\",\"tau_T2\",\"tau_T2\",\"tau_T2\",\"tau_T2\",\"tau_T2\",\"tau_T2\",\"tau_T2\",\"tau_T2\",\"tau_T2\",\"tau_T2\",\"tau_T2\",\"tau_T2\",\"tau_T2\",\"tau_T2\",\"tau_T2\",\"tau_T2\",\"tau_T2\",\"tau_T2\",\"tau_T2\",\"tau_T2\",\"tau_T2\",\"tau_T2\",\"tau_T2\",\"tau_T2\",\"tau_T2\",\"tau_T2\",\"tau_T2\",\"tau_T2\",\"tau_T2\",\"tau_T2\",\"tau_T2\",\"tau_T2\",\"tau_T2\",\"tau_T2\",\"tau_T2\",\"tau_T2\",\"tau_T2\",\"tau_T2\",\"tau_T2\",\"tau_T2\",\"tau_T2\",\"tau_T2\",\"tau_T2\",\"tau_T2\",\"tau_T2\",\"tau_T2\",\"tau_T2\",\"tau_T2\",\"tau_T2\",\"tau_T2\",\"tau_T2\",\"tau_T2\",\"tau_T2\",\"tau_T2\",\"tau_T2\",\"tau_T2\",\"tau_T2\",\"tau_T2\",\"tau_T2\",\"tau_T2\",\"tau_T2\",\"tau_T2\",\"tau_T2\",\"tau_T2\",\"tau_T2\",\"tau_T2\",\"tau_T2\",\"tau_T2\",\"tau_T2\",\"tau_T2\",\"tau_T2\",\"tau_T2\",\"tau_T2\",\"tau_T2\",\"tau_T2\",\"tau_T2\",\"tau_T2\",\"tau_T2\",\"tau_T2\",\"tau_T2\",\"tau_T2\",\"tau_T2\",\"tau_T2\",\"tau_T2\",\"tau_T2\",\"tau_T2\",\"tau_T2\",\"tau_T2\",\"tau_T2\",\"tau_T2\",\"tau_T2\",\"tau_T2\",\"tau_T2\",\"tau_T2\",\"tau_T2\",\"tau_T2\",\"tau_T2\",\"tau_T2\",\"tau_T2\",\"tau_T2\",\"tau_T2\",\"tau_T2\",\"tau_T2\",\"tau_T2\",\"tau_T2\",\"tau_T2\",\"tau_T2\",\"tau_T2\",\"tau_T2\",\"tau_T2\",\"tau_T2\",\"tau_T2\",\"tau_T2\",\"tau_T2\",\"tau_T2\",\"tau_T2\",\"tau_T2\",\"tau_T2\",\"tau_T2\",\"tau_T2\",\"tau_T2\",\"tau_T2\",\"tau_T2\",\"tau_T2\",\"tau_T2\",\"tau_T2\",\"tau_T2\",\"tau_T2\",\"tau_T2\",\"tau_T2\",\"tau_T2\",\"tau_T2\",\"tau_T2\",\"tau_T2\",\"tau_T2\",\"tau_T2\",\"tau_T2\",\"tau_T2\",\"tau_T2\",\"tau_T2\",\"tau_T2\",\"tau_T2\",\"tau_T2\",\"tau_T2\",\"tau_T2\",\"tau_T2\",\"tau_T2\",\"tau_T2\",\"tau_T2\",\"tau_T2\",\"tau_T2\",\"tau_T2\",\"tau_T2\",\"tau_T2\",\"tau_T2\",\"tau_T2\",\"tau_T2\",\"tau_T2\",\"tau_T2\",\"tau_T2\",\"tau_T2\",\"tau_T2\",\"tau_T2\",\"tau_T2\",\"tau_T2\",\"tau_T2\",\"tau_T2\",\"tau_T2\",\"tau_T2\",\"tau_T2\",\"tau_T2\",\"tau_T2\",\"tau_T2\",\"tau_T2\",\"tau_T2\",\"tau_T2\",\"tau_T2\",\"tau_T2\",\"tau_T2\",\"tau_T2\",\"tau_T2\",\"tau_T2\",\"tau_T2\",\"tau_T2\",\"tau_T2\",\"tau_T2\",\"tau_T2\",\"tau_T2\",\"tau_T2\",\"tau_T2\",\"tau_T2\",\"tau_T2\",\"tau_T2\",\"tau_T2\",\"tau_T2\",\"tau_T2\",\"tau_T2\",\"tau_T2\",\"tau_T2\",\"tau_T2\",\"tau_T2\",\"tau_T2\",\"tau_T2\",\"tau_T2\",\"tau_T2\",\"tau_T2\",\"tau_T2\",\"tau_T2\",\"tau_T2\",\"tau_T2\",\"tau_T2\",\"tau_T2\",\"tau_T2\",\"tau_T2\",\"tau_T2\",\"tau_T2\",\"tau_T2\",\"tau_T2\",\"tau_T2\",\"tau_T2\",\"tau_T2\",\"tau_T2\",\"tau_T2\",\"tau_T2\",\"tau_T2\",\"tau_T2\",\"tau_T2\",\"tau_T2\",\"tau_T2\",\"tau_T2\",\"tau_T2\",\"tau_T2\",\"tau_T2\",\"tau_T2\",\"tau_T2\",\"tau_T2\",\"tau_T2\",\"tau_T2\",\"tau_T2\",\"tau_T2\",\"tau_T2\",\"tau_T2\",\"tau_T2\",\"tau_T2\",\"tau_T2\",\"tau_T2\",\"tau_T2\",\"tau_T2\",\"tau_T2\",\"tau_T2\",\"tau_T2\",\"tau_T2\",\"tau_T2\",\"tau_T2\",\"tau_T2\",\"tau_T2\",\"tau_T2\",\"tau_T2\",\"tau_T2\",\"tau_T2\",\"tau_T2\",\"tau_T2\",\"tau_T2\",\"tau_T2\",\"tau_T2\",\"tau_T2\",\"tau_T2\",\"tau_T2\",\"tau_T2\",\"tau_T2\",\"tau_T2\",\"tau_T2\",\"tau_T2\",\"tau_T2\",\"tau_T2\",\"tau_T2\",\"tau_T2\",\"tau_T2\",\"tau_T2\",\"tau_T2\",\"tau_T2\",\"tau_T2\",\"tau_T2\",\"tau_T2\",\"tau_T2\",\"tau_T2\",\"tau_T2\",\"tau_T2\",\"tau_T2\",\"tau_T2\",\"tau_T2\",\"tau_T2\",\"tau_T2\",\"tau_T2\",\"tau_T2\",\"tau_T2\",\"tau_T2\",\"tau_T2\",\"tau_T2\",\"tau_T2\",\"tau_T2\",\"tau_T2\",\"tau_T2\",\"tau_T2\",\"tau_T2\",\"tau_T2\",\"tau_T2\",\"tau_T2\",\"tau_T2\",\"tau_T2\",\"tau_T2\",\"tau_T2\",\"tau_T2\",\"tau_T2\",\"tau_T2\",\"tau_T2\",\"tau_T2\",\"tau_T2\",\"tau_T2\",\"tau_T2\",\"tau_T2\",\"tau_T2\",\"tau_T2\",\"tau_T2\",\"tau_T2\",\"tau_T2\",\"tau_T2\",\"tau_T2\",\"tau_T2\",\"tau_T2\",\"tau_T2\",\"tau_T2\",\"tau_T2\",\"tau_T2\",\"tau_T2\",\"tau_T2\",\"tau_T2\",\"tau_T2\",\"tau_T2\",\"tau_T2\",\"tau_T2\",\"tau_T2\",\"tau_T2\",\"tau_T2\",\"tau_T2\",\"tau_T2\",\"tau_T2\",\"tau_T2\",\"tau_T2\",\"tau_T2\",\"tau_T2\",\"tau_T2\",\"tau_T2\",\"tau_T2\",\"tau_T2\",\"tau_T2\",\"tau_T2\",\"tau_T2\",\"tau_T2\",\"tau_T2\",\"tau_T2\",\"tau_T2\",\"tau_T2\",\"tau_T2\",\"tau_T2\",\"tau_T2\",\"tau_T2\",\"tau_T2\",\"tau_T2\",\"tau_T2\",\"tau_T2\",\"tau_T2\",\"tau_T2\",\"tau_T2\",\"tau_T2\",\"tau_T2\",\"tau_T2\",\"tau_T2\",\"tau_T2\",\"tau_T2\",\"tau_T2\",\"tau_T2\",\"tau_T2\",\"tau_T2\",\"tau_T2\",\"tau_T2\",\"tau_T2\",\"tau_T2\",\"tau_T2\",\"tau_T2\",\"tau_T2\",\"tau_T2\",\"tau_T2\",\"tau_T2\",\"tau_T2\",\"tau_T2\",\"tau_T2\",\"tau_T2\",\"tau_T2\",\"tau_T2\",\"tau_T2\",\"tau_T2\",\"tau_T2\",\"tau_T2\",\"tau_T2\",\"tau_T2\",\"tau_T2\",\"tau_T2\",\"tau_T2\",\"tau_T2\",\"tau_T2\",\"tau_T2\",\"tau_T2\",\"tau_T2\",\"tau_T2\",\"tau_T2\",\"tau_T2\",\"tau_T2\",\"tau_T2\",\"tau_T2\",\"tau_T2\",\"tau_T2\",\"tau_T2\",\"tau_T2\",\"tau_T2\",\"tau_T2\",\"tau_T2\",\"tau_T2\",\"tau_T2\",\"tau_T2\",\"tau_T2\",\"tau_T2\",\"tau_T2\",\"tau_T2\",\"tau_T2\",\"tau_T2\",\"tau_T2\",\"tau_T2\",\"tau_T2\",\"tau_T2\",\"tau_T2\",\"tau_T2\",\"tau_T2\",\"tau_T2\",\"tau_T2\",\"tau_T2\",\"tau_T2\",\"tau_T2\",\"tau_T2\",\"tau_T2\",\"tau_T2\",\"tau_T2\",\"tau_T2\",\"tau_T2\",\"tau_T2\",\"tau_T2\",\"tau_T2\",\"tau_T2\",\"tau_T2\",\"tau_T2\",\"tau_T2\",\"tau_T2\",\"tau_T2\",\"tau_T2\",\"tau_T2\",\"tau_T2\",\"tau_T2\",\"tau_T2\",\"tau_T2\",\"tau_T2\",\"tau_T2\",\"tau_T2\",\"tau_T2\",\"tau_T2\",\"tau_T2\",\"tau_T2\",\"tau_T2\",\"tau_T2\",\"tau_T2\",\"tau_T2\",\"tau_T2\",\"tau_T2\",\"tau_T2\",\"tau_T2\",\"tau_T2\",\"tau_T2\",\"tau_T2\",\"tau_T2\",\"tau_T2\",\"tau_T2\",\"tau_T2\",\"tau_T2\",\"tau_T2\",\"tau_T2\",\"tau_T2\",\"tau_T2\",\"tau_T2\",\"tau_T2\",\"tau_T2\",\"tau_T2\",\"tau_T2\",\"tau_T2\",\"tau_T2\",\"tau_T2\",\"tau_T2\",\"tau_T2\",\"tau_T2\",\"tau_T2\",\"tau_T2\",\"tau_T2\",\"tau_T2\",\"tau_T2\",\"tau_T2\",\"tau_T2\",\"tau_T2\",\"tau_T2\",\"tau_T2\",\"tau_T2\",\"tau_T2\",\"tau_T2\",\"tau_T2\",\"tau_T2\",\"tau_T2\",\"tau_T2\",\"tau_T2\",\"tau_T2\",\"tau_T2\",\"tau_T2\",\"tau_T2\",\"tau_T2\",\"tau_T2\",\"tau_T2\",\"tau_T2\",\"tau_T2\",\"tau_T2\",\"tau_T2\",\"tau_T2\",\"tau_T2\",\"tau_T2\",\"tau_T2\",\"tau_T2\",\"tau_T3\",\"tau_T3\",\"tau_T3\",\"tau_T3\",\"tau_T3\",\"tau_T3\",\"tau_T3\",\"tau_T3\",\"tau_T3\",\"tau_T3\",\"tau_T3\",\"tau_T3\",\"tau_T3\",\"tau_T3\",\"tau_T3\",\"tau_T3\",\"tau_T3\",\"tau_T3\",\"tau_T3\",\"tau_T3\",\"tau_T3\",\"tau_T3\",\"tau_T3\",\"tau_T3\",\"tau_T3\",\"tau_T3\",\"tau_T3\",\"tau_T3\",\"tau_T3\",\"tau_T3\",\"tau_T3\",\"tau_T3\",\"tau_T3\",\"tau_T3\",\"tau_T3\",\"tau_T3\",\"tau_T3\",\"tau_T3\",\"tau_T3\",\"tau_T3\",\"tau_T3\",\"tau_T3\",\"tau_T3\",\"tau_T3\",\"tau_T3\",\"tau_T3\",\"tau_T3\",\"tau_T3\",\"tau_T3\",\"tau_T3\",\"tau_T3\",\"tau_T3\",\"tau_T3\",\"tau_T3\",\"tau_T3\",\"tau_T3\",\"tau_T3\",\"tau_T3\",\"tau_T3\",\"tau_T3\",\"tau_T3\",\"tau_T3\",\"tau_T3\",\"tau_T3\",\"tau_T3\",\"tau_T3\",\"tau_T3\",\"tau_T3\",\"tau_T3\",\"tau_T3\",\"tau_T3\",\"tau_T3\",\"tau_T3\",\"tau_T3\",\"tau_T3\",\"tau_T3\",\"tau_T3\",\"tau_T3\",\"tau_T3\",\"tau_T3\",\"tau_T3\",\"tau_T3\",\"tau_T3\",\"tau_T3\",\"tau_T3\",\"tau_T3\",\"tau_T3\",\"tau_T3\",\"tau_T3\",\"tau_T3\",\"tau_T3\",\"tau_T3\",\"tau_T3\",\"tau_T3\",\"tau_T3\",\"tau_T3\",\"tau_T3\",\"tau_T3\",\"tau_T3\",\"tau_T3\",\"tau_T3\",\"tau_T3\",\"tau_T3\",\"tau_T3\",\"tau_T3\",\"tau_T3\",\"tau_T3\",\"tau_T3\",\"tau_T3\",\"tau_T3\",\"tau_T3\",\"tau_T3\",\"tau_T3\",\"tau_T3\",\"tau_T3\",\"tau_T3\",\"tau_T3\",\"tau_T3\",\"tau_T3\",\"tau_T3\",\"tau_T3\",\"tau_T3\",\"tau_T3\",\"tau_T3\",\"tau_T3\",\"tau_T3\",\"tau_T3\",\"tau_T3\",\"tau_T3\",\"tau_T3\",\"tau_T3\",\"tau_T3\",\"tau_T3\",\"tau_T3\",\"tau_T3\",\"tau_T3\",\"tau_T3\",\"tau_T3\",\"tau_T3\",\"tau_T3\",\"tau_T3\",\"tau_T3\",\"tau_T3\",\"tau_T3\",\"tau_T3\",\"tau_T3\",\"tau_T3\",\"tau_T3\",\"tau_T3\",\"tau_T3\",\"tau_T3\",\"tau_T3\",\"tau_T3\",\"tau_T3\",\"tau_T3\",\"tau_T3\",\"tau_T3\",\"tau_T3\",\"tau_T3\",\"tau_T3\",\"tau_T3\",\"tau_T3\",\"tau_T3\",\"tau_T3\",\"tau_T3\",\"tau_T3\",\"tau_T3\",\"tau_T3\",\"tau_T3\",\"tau_T3\",\"tau_T3\",\"tau_T3\",\"tau_T3\",\"tau_T3\",\"tau_T3\",\"tau_T3\",\"tau_T3\",\"tau_T3\",\"tau_T3\",\"tau_T3\",\"tau_T3\",\"tau_T3\",\"tau_T3\",\"tau_T3\",\"tau_T3\",\"tau_T3\",\"tau_T3\",\"tau_T3\",\"tau_T3\",\"tau_T3\",\"tau_T3\",\"tau_T3\",\"tau_T3\",\"tau_T3\",\"tau_T3\",\"tau_T3\",\"tau_T3\",\"tau_T3\",\"tau_T3\",\"tau_T3\",\"tau_T3\",\"tau_T3\",\"tau_T3\",\"tau_T3\",\"tau_T3\",\"tau_T3\",\"tau_T3\",\"tau_T3\",\"tau_T3\",\"tau_T3\",\"tau_T3\",\"tau_T3\",\"tau_T3\",\"tau_T3\",\"tau_T3\",\"tau_T3\",\"tau_T3\",\"tau_T3\",\"tau_T3\",\"tau_T3\",\"tau_T3\",\"tau_T3\",\"tau_T3\",\"tau_T3\",\"tau_T3\",\"tau_T3\",\"tau_T3\",\"tau_T3\",\"tau_T3\",\"tau_T3\",\"tau_T3\",\"tau_T3\",\"tau_T3\",\"tau_T3\",\"tau_T3\",\"tau_T3\",\"tau_T3\",\"tau_T3\",\"tau_T3\",\"tau_T3\",\"tau_T3\",\"tau_T3\",\"tau_T3\",\"tau_T3\",\"tau_T3\",\"tau_T3\",\"tau_T3\",\"tau_T3\",\"tau_T3\",\"tau_T3\",\"tau_T3\",\"tau_T3\",\"tau_T3\",\"tau_T3\",\"tau_T3\",\"tau_T3\",\"tau_T3\",\"tau_T3\",\"tau_T3\",\"tau_T3\",\"tau_T3\",\"tau_T3\",\"tau_T3\",\"tau_T3\",\"tau_T3\",\"tau_T3\",\"tau_T3\",\"tau_T3\",\"tau_T3\",\"tau_T3\",\"tau_T3\",\"tau_T3\",\"tau_T3\",\"tau_T3\",\"tau_T3\",\"tau_T3\",\"tau_T3\",\"tau_T3\",\"tau_T3\",\"tau_T3\",\"tau_T3\",\"tau_T3\",\"tau_T3\",\"tau_T3\",\"tau_T3\",\"tau_T3\",\"tau_T3\",\"tau_T3\",\"tau_T3\",\"tau_T3\",\"tau_T3\",\"tau_T3\",\"tau_T3\",\"tau_T3\",\"tau_T3\",\"tau_T3\",\"tau_T3\",\"tau_T3\",\"tau_T3\",\"tau_T3\",\"tau_T3\",\"tau_T3\",\"tau_T3\",\"tau_T3\",\"tau_T3\",\"tau_T3\",\"tau_T3\",\"tau_T3\",\"tau_T3\",\"tau_T3\",\"tau_T3\",\"tau_T3\",\"tau_T3\",\"tau_T3\",\"tau_T3\",\"tau_T3\",\"tau_T3\",\"tau_T3\",\"tau_T3\",\"tau_T3\",\"tau_T3\",\"tau_T3\",\"tau_T3\",\"tau_T3\",\"tau_T3\",\"tau_T3\",\"tau_T3\",\"tau_T3\",\"tau_T3\",\"tau_T3\",\"tau_T3\",\"tau_T3\",\"tau_T3\",\"tau_T3\",\"tau_T3\",\"tau_T3\",\"tau_T3\",\"tau_T3\",\"tau_T3\",\"tau_T3\",\"tau_T3\",\"tau_T3\",\"tau_T3\",\"tau_T3\",\"tau_T3\",\"tau_T3\",\"tau_T3\",\"tau_T3\",\"tau_T3\",\"tau_T3\",\"tau_T3\",\"tau_T3\",\"tau_T3\",\"tau_T3\",\"tau_T3\",\"tau_T3\",\"tau_T3\",\"tau_T3\",\"tau_T3\",\"tau_T3\",\"tau_T3\",\"tau_T3\",\"tau_T3\",\"tau_T3\",\"tau_T3\",\"tau_T3\",\"tau_T3\",\"tau_T3\",\"tau_T3\",\"tau_T3\",\"tau_T3\",\"tau_T3\",\"tau_T3\",\"tau_T3\",\"tau_T3\",\"tau_T3\",\"tau_T3\",\"tau_T3\",\"tau_T3\",\"tau_T3\",\"tau_T3\",\"tau_T3\",\"tau_T3\",\"tau_T3\",\"tau_T3\",\"tau_T3\",\"tau_T3\",\"tau_T3\",\"tau_T3\",\"tau_T3\",\"tau_T3\",\"tau_T3\",\"tau_T3\",\"tau_T3\",\"tau_T3\",\"tau_T3\",\"tau_T3\",\"tau_T3\",\"tau_T3\",\"tau_T3\",\"tau_T3\",\"tau_T3\",\"tau_T3\",\"tau_T3\",\"tau_T3\",\"tau_T3\",\"tau_T3\",\"tau_T3\",\"tau_T3\",\"tau_T3\",\"tau_T3\",\"tau_T3\",\"tau_T3\",\"tau_T3\",\"tau_T3\",\"tau_T3\",\"tau_T3\",\"tau_T3\",\"tau_T3\",\"tau_T3\",\"tau_T3\",\"tau_T3\",\"tau_T3\",\"tau_T3\",\"tau_T3\",\"tau_T3\",\"tau_T3\",\"tau_T3\",\"tau_T3\",\"tau_T3\",\"tau_T3\",\"tau_T3\",\"tau_T3\",\"tau_T3\",\"tau_T3\",\"tau_T3\",\"tau_T3\",\"tau_T3\",\"tau_T3\",\"tau_T3\",\"tau_T3\",\"tau_T3\",\"tau_T3\",\"tau_T3\",\"tau_T3\",\"tau_T3\",\"tau_T3\",\"tau_T3\",\"tau_T3\",\"tau_T3\",\"tau_T3\",\"tau_T3\",\"tau_T3\",\"tau_T3\",\"tau_T3\",\"tau_T3\",\"tau_T3\",\"tau_T3\",\"tau_T3\",\"tau_T3\",\"tau_T3\",\"tau_T3\",\"tau_T3\",\"tau_T3\",\"tau_T3\",\"tau_T3\",\"tau_T3\",\"tau_T3\",\"tau_T3\",\"tau_T3\",\"tau_T3\",\"tau_T3\",\"tau_T3\",\"tau_T3\",\"tau_T3\",\"tau_T3\",\"tau_T3\",\"tau_T3\",\"tau_T3\",\"tau_T3\",\"tau_T3\",\"tau_T3\",\"tau_T3\",\"tau_T3\",\"tau_T3\",\"tau_T3\",\"tau_T3\",\"tau_T3\",\"tau_T3\",\"tau_T3\",\"tau_T3\",\"tau_T3\",\"tau_T3\",\"tau_T3\",\"tau_T3\",\"tau_T3\",\"tau_T3\",\"tau_T3\",\"tau_T3\",\"tau_T3\",\"tau_T3\",\"tau_T3\",\"tau_T3\",\"tau_T3\",\"tau_T3\",\"tau_T3\",\"tau_T3\",\"tau_T3\",\"tau_T3\",\"tau_T3\",\"tau_T3\",\"tau_T3\",\"tau_T3\",\"tau_T3\",\"tau_T3\",\"tau_T3\",\"tau_T3\",\"tau_T3\",\"tau_T3\",\"tau_T3\",\"tau_T3\",\"tau_T3\",\"tau_T3\",\"tau_T3\",\"tau_T3\",\"tau_T3\",\"tau_T3\",\"tau_T3\",\"tau_T3\",\"tau_T3\",\"tau_T3\",\"tau_T3\",\"tau_T3\",\"tau_T3\",\"tau_T3\",\"tau_T3\",\"tau_T3\",\"tau_T3\",\"tau_T3\",\"tau_T3\",\"tau_T3\",\"tau_T3\",\"tau_T3\",\"tau_T3\",\"tau_T3\",\"tau_T3\",\"tau_T3\",\"tau_T3\",\"tau_T3\",\"tau_T3\",\"tau_T3\",\"tau_T3\",\"tau_T3\",\"tau_T3\",\"tau_T3\",\"tau_T3\",\"tau_T3\",\"tau_T3\",\"tau_T3\",\"tau_T3\",\"tau_T3\",\"tau_T3\",\"tau_T3\",\"tau_T3\",\"tau_T3\",\"tau_T3\",\"tau_T3\",\"tau_T3\",\"tau_T3\",\"tau_T3\",\"tau_T3\",\"tau_T3\",\"tau_T3\",\"tau_T3\",\"tau_T3\",\"tau_T3\",\"tau_T3\",\"tau_T3\",\"tau_T3\",\"tau_T3\",\"tau_T3\",\"tau_T3\",\"tau_T3\",\"tau_T3\",\"tau_T3\",\"tau_T3\",\"tau_T3\",\"tau_T3\",\"tau_T3\",\"tau_T3\",\"tau_T3\",\"tau_T3\",\"tau_T3\",\"tau_T3\",\"tau_T3\",\"tau_T3\",\"tau_T3\",\"tau_T3\",\"tau_T3\",\"tau_T3\",\"tau_T3\",\"tau_T3\",\"tau_T3\",\"tau_T3\",\"tau_T3\",\"tau_T3\",\"tau_T3\",\"tau_T3\",\"tau_T3\",\"tau_T3\",\"tau_T3\",\"tau_T3\",\"tau_T3\",\"tau_T3\",\"tau_T3\",\"tau_T3\",\"tau_T3\",\"tau_T3\",\"tau_T3\",\"tau_T3\",\"tau_T3\",\"tau_T3\",\"tau_T3\",\"tau_T3\",\"tau_T3\",\"tau_T4\",\"tau_T4\",\"tau_T4\",\"tau_T4\",\"tau_T4\",\"tau_T4\",\"tau_T4\",\"tau_T4\",\"tau_T4\",\"tau_T4\",\"tau_T4\",\"tau_T4\",\"tau_T4\",\"tau_T4\",\"tau_T4\",\"tau_T4\",\"tau_T4\",\"tau_T4\",\"tau_T4\",\"tau_T4\",\"tau_T4\",\"tau_T4\",\"tau_T4\",\"tau_T4\",\"tau_T4\",\"tau_T4\",\"tau_T4\",\"tau_T4\",\"tau_T4\",\"tau_T4\",\"tau_T4\",\"tau_T4\",\"tau_T4\",\"tau_T4\",\"tau_T4\",\"tau_T4\",\"tau_T4\",\"tau_T4\",\"tau_T4\",\"tau_T4\",\"tau_T4\",\"tau_T4\",\"tau_T4\",\"tau_T4\",\"tau_T4\",\"tau_T4\",\"tau_T4\",\"tau_T4\",\"tau_T4\",\"tau_T4\",\"tau_T4\",\"tau_T4\",\"tau_T4\",\"tau_T4\",\"tau_T4\",\"tau_T4\",\"tau_T4\",\"tau_T4\",\"tau_T4\",\"tau_T4\",\"tau_T4\",\"tau_T4\",\"tau_T4\",\"tau_T4\",\"tau_T4\",\"tau_T4\",\"tau_T4\",\"tau_T4\",\"tau_T4\",\"tau_T4\",\"tau_T4\",\"tau_T4\",\"tau_T4\",\"tau_T4\",\"tau_T4\",\"tau_T4\",\"tau_T4\",\"tau_T4\",\"tau_T4\",\"tau_T4\",\"tau_T4\",\"tau_T4\",\"tau_T4\",\"tau_T4\",\"tau_T4\",\"tau_T4\",\"tau_T4\",\"tau_T4\",\"tau_T4\",\"tau_T4\",\"tau_T4\",\"tau_T4\",\"tau_T4\",\"tau_T4\",\"tau_T4\",\"tau_T4\",\"tau_T4\",\"tau_T4\",\"tau_T4\",\"tau_T4\",\"tau_T4\",\"tau_T4\",\"tau_T4\",\"tau_T4\",\"tau_T4\",\"tau_T4\",\"tau_T4\",\"tau_T4\",\"tau_T4\",\"tau_T4\",\"tau_T4\",\"tau_T4\",\"tau_T4\",\"tau_T4\",\"tau_T4\",\"tau_T4\",\"tau_T4\",\"tau_T4\",\"tau_T4\",\"tau_T4\",\"tau_T4\",\"tau_T4\",\"tau_T4\",\"tau_T4\",\"tau_T4\",\"tau_T4\",\"tau_T4\",\"tau_T4\",\"tau_T4\",\"tau_T4\",\"tau_T4\",\"tau_T4\",\"tau_T4\",\"tau_T4\",\"tau_T4\",\"tau_T4\",\"tau_T4\",\"tau_T4\",\"tau_T4\",\"tau_T4\",\"tau_T4\",\"tau_T4\",\"tau_T4\",\"tau_T4\",\"tau_T4\",\"tau_T4\",\"tau_T4\",\"tau_T4\",\"tau_T4\",\"tau_T4\",\"tau_T4\",\"tau_T4\",\"tau_T4\",\"tau_T4\",\"tau_T4\",\"tau_T4\",\"tau_T4\",\"tau_T4\",\"tau_T4\",\"tau_T4\",\"tau_T4\",\"tau_T4\",\"tau_T4\",\"tau_T4\",\"tau_T4\",\"tau_T4\",\"tau_T4\",\"tau_T4\",\"tau_T4\",\"tau_T4\",\"tau_T4\",\"tau_T4\",\"tau_T4\",\"tau_T4\",\"tau_T4\",\"tau_T4\",\"tau_T4\",\"tau_T4\",\"tau_T4\",\"tau_T4\",\"tau_T4\",\"tau_T4\",\"tau_T4\",\"tau_T4\",\"tau_T4\",\"tau_T4\",\"tau_T4\",\"tau_T4\",\"tau_T4\",\"tau_T4\",\"tau_T4\",\"tau_T4\",\"tau_T4\",\"tau_T4\",\"tau_T4\",\"tau_T4\",\"tau_T4\",\"tau_T4\",\"tau_T4\",\"tau_T4\",\"tau_T4\",\"tau_T4\",\"tau_T4\",\"tau_T4\",\"tau_T4\",\"tau_T4\",\"tau_T4\",\"tau_T4\",\"tau_T4\",\"tau_T4\",\"tau_T4\",\"tau_T4\",\"tau_T4\",\"tau_T4\",\"tau_T4\",\"tau_T4\",\"tau_T4\",\"tau_T4\",\"tau_T4\",\"tau_T4\",\"tau_T4\",\"tau_T4\",\"tau_T4\",\"tau_T4\",\"tau_T4\",\"tau_T4\",\"tau_T4\",\"tau_T4\",\"tau_T4\",\"tau_T4\",\"tau_T4\",\"tau_T4\",\"tau_T4\",\"tau_T4\",\"tau_T4\",\"tau_T4\",\"tau_T4\",\"tau_T4\",\"tau_T4\",\"tau_T4\",\"tau_T4\",\"tau_T4\",\"tau_T4\",\"tau_T4\",\"tau_T4\",\"tau_T4\",\"tau_T4\",\"tau_T4\",\"tau_T4\",\"tau_T4\",\"tau_T4\",\"tau_T4\",\"tau_T4\",\"tau_T4\",\"tau_T4\",\"tau_T4\",\"tau_T4\",\"tau_T4\",\"tau_T4\",\"tau_T4\",\"tau_T4\",\"tau_T4\",\"tau_T4\",\"tau_T4\",\"tau_T4\",\"tau_T4\",\"tau_T4\",\"tau_T4\",\"tau_T4\",\"tau_T4\",\"tau_T4\",\"tau_T4\",\"tau_T4\",\"tau_T4\",\"tau_T4\",\"tau_T4\",\"tau_T4\",\"tau_T4\",\"tau_T4\",\"tau_T4\",\"tau_T4\",\"tau_T4\",\"tau_T4\",\"tau_T4\",\"tau_T4\",\"tau_T4\",\"tau_T4\",\"tau_T4\",\"tau_T4\",\"tau_T4\",\"tau_T4\",\"tau_T4\",\"tau_T4\",\"tau_T4\",\"tau_T4\",\"tau_T4\",\"tau_T4\",\"tau_T4\",\"tau_T4\",\"tau_T4\",\"tau_T4\",\"tau_T4\",\"tau_T4\",\"tau_T4\",\"tau_T4\",\"tau_T4\",\"tau_T4\",\"tau_T4\",\"tau_T4\",\"tau_T4\",\"tau_T4\",\"tau_T4\",\"tau_T4\",\"tau_T4\",\"tau_T4\",\"tau_T4\",\"tau_T4\",\"tau_T4\",\"tau_T4\",\"tau_T4\",\"tau_T4\",\"tau_T4\",\"tau_T4\",\"tau_T4\",\"tau_T4\",\"tau_T4\",\"tau_T4\",\"tau_T4\",\"tau_T4\",\"tau_T4\",\"tau_T4\",\"tau_T4\",\"tau_T4\",\"tau_T4\",\"tau_T4\",\"tau_T4\",\"tau_T4\",\"tau_T4\",\"tau_T4\",\"tau_T4\",\"tau_T4\",\"tau_T4\",\"tau_T4\",\"tau_T4\",\"tau_T4\",\"tau_T4\",\"tau_T4\",\"tau_T4\",\"tau_T4\",\"tau_T4\",\"tau_T4\",\"tau_T4\",\"tau_T4\",\"tau_T4\",\"tau_T4\",\"tau_T4\",\"tau_T4\",\"tau_T4\",\"tau_T4\",\"tau_T4\",\"tau_T4\",\"tau_T4\",\"tau_T4\",\"tau_T4\",\"tau_T4\",\"tau_T4\",\"tau_T4\",\"tau_T4\",\"tau_T4\",\"tau_T4\",\"tau_T4\",\"tau_T4\",\"tau_T4\",\"tau_T4\",\"tau_T4\",\"tau_T4\",\"tau_T4\",\"tau_T4\",\"tau_T4\",\"tau_T4\",\"tau_T4\",\"tau_T4\",\"tau_T4\",\"tau_T4\",\"tau_T4\",\"tau_T4\",\"tau_T4\",\"tau_T4\",\"tau_T4\",\"tau_T4\",\"tau_T4\",\"tau_T4\",\"tau_T4\",\"tau_T4\",\"tau_T4\",\"tau_T4\",\"tau_T4\",\"tau_T4\",\"tau_T4\",\"tau_T4\",\"tau_T4\",\"tau_T4\",\"tau_T4\",\"tau_T4\",\"tau_T4\",\"tau_T4\",\"tau_T4\",\"tau_T4\",\"tau_T4\",\"tau_T4\",\"tau_T4\",\"tau_T4\",\"tau_T4\",\"tau_T4\",\"tau_T4\",\"tau_T4\",\"tau_T4\",\"tau_T4\",\"tau_T4\",\"tau_T4\",\"tau_T4\",\"tau_T4\",\"tau_T4\",\"tau_T4\",\"tau_T4\",\"tau_T4\",\"tau_T4\",\"tau_T4\",\"tau_T4\",\"tau_T4\",\"tau_T4\",\"tau_T4\",\"tau_T4\",\"tau_T4\",\"tau_T4\",\"tau_T4\",\"tau_T4\",\"tau_T4\",\"tau_T4\",\"tau_T4\",\"tau_T4\",\"tau_T4\",\"tau_T4\",\"tau_T4\",\"tau_T4\",\"tau_T4\",\"tau_T4\",\"tau_T4\",\"tau_T4\",\"tau_T4\",\"tau_T4\",\"tau_T4\",\"tau_T4\",\"tau_T4\",\"tau_T4\",\"tau_T4\",\"tau_T4\",\"tau_T4\",\"tau_T4\",\"tau_T4\",\"tau_T4\",\"tau_T4\",\"tau_T4\",\"tau_T4\",\"tau_T4\",\"tau_T4\",\"tau_T4\",\"tau_T4\",\"tau_T4\",\"tau_T4\",\"tau_T4\",\"tau_T4\",\"tau_T4\",\"tau_T4\",\"tau_T4\",\"tau_T4\",\"tau_T4\",\"tau_T4\",\"tau_T4\",\"tau_T4\",\"tau_T4\",\"tau_T4\",\"tau_T4\",\"tau_T4\",\"tau_T4\",\"tau_T4\",\"tau_T4\",\"tau_T4\",\"tau_T4\",\"tau_T4\",\"tau_T4\",\"tau_T4\",\"tau_T4\",\"tau_T4\",\"tau_T4\",\"tau_T4\",\"tau_T4\",\"tau_T4\",\"tau_T4\",\"tau_T4\",\"tau_T4\",\"tau_T4\",\"tau_T4\",\"tau_T4\",\"tau_T4\",\"tau_T4\",\"tau_T4\",\"tau_T4\",\"tau_T4\",\"tau_T4\",\"tau_T4\",\"tau_T4\",\"tau_T4\",\"tau_T4\",\"tau_T4\",\"tau_T4\",\"tau_T4\",\"tau_T4\",\"tau_T4\",\"tau_T4\",\"tau_T4\",\"tau_T4\",\"tau_T4\",\"tau_T4\",\"tau_T4\",\"tau_T4\",\"tau_T4\",\"tau_T4\",\"tau_T4\",\"tau_T4\",\"tau_T4\",\"tau_T4\",\"tau_T4\",\"tau_T4\",\"tau_T4\",\"tau_T4\",\"tau_T4\",\"tau_T4\",\"tau_T4\",\"tau_T4\",\"tau_T4\",\"tau_T4\",\"tau_T4\",\"tau_T4\",\"tau_T4\",\"tau_T4\",\"tau_T4\",\"tau_T4\",\"tau_T4\",\"tau_T4\",\"tau_T4\",\"tau_T4\",\"tau_T4\",\"tau_T4\",\"tau_T4\",\"tau_T4\",\"tau_T4\",\"tau_T4\",\"tau_T4\",\"tau_T4\",\"tau_T4\",\"tau_T4\",\"tau_T4\",\"tau_T4\",\"tau_T4\",\"tau_T4\",\"tau_T4\",\"tau_T4\",\"tau_T4\",\"tau_T4\",\"tau_T4\",\"tau_T4\",\"tau_T4\",\"tau_T4\",\"tau_T4\",\"tau_T4\",\"tau_T4\",\"tau_T4\",\"tau_T4\",\"tau_T4\",\"tau_T4\",\"tau_T4\",\"tau_T4\",\"tau_T4\",\"tau_T4\",\"tau_T4\",\"tau_T4\",\"tau_T4\",\"tau_T4\",\"tau_T4\",\"tau_T4\",\"tau_T4\",\"tau_T4\",\"tau_T4\",\"tau_T4\",\"tau_T4\",\"tau_T4\",\"tau_T4\",\"tau_T4\",\"tau_T4\",\"tau_T4\",\"tau_T4\",\"tau_T4\",\"tau_T4\",\"tau_T4\",\"tau_T4\",\"tau_T4\",\"tau_T4\",\"tau_T4\",\"tau_T4\",\"tau_T4\",\"tau_T4\",\"tau_T4\",\"tau_T4\",\"tau_T4\",\"tau_T4\",\"tau_T4\",\"tau_T4\",\"tau_T4\",\"tau_T4\",\"tau_T4\",\"tau_T4\",\"tau_T4\",\"tau_T4\",\"tau_T4\"]},\"selected\":{\"id\":\"1161\",\"type\":\"Selection\"},\"selection_policy\":{\"id\":\"1162\",\"type\":\"UnionRenderers\"}},\"id\":\"1140\",\"type\":\"ColumnDataSource\"},{\"attributes\":{},\"id\":\"1162\",\"type\":\"UnionRenderers\"},{\"attributes\":{\"fill_color\":{\"field\":\"variable\",\"transform\":{\"id\":\"1139\",\"type\":\"CategoricalColorMapper\"}},\"line_color\":{\"field\":\"variable\",\"transform\":{\"id\":\"1139\",\"type\":\"CategoricalColorMapper\"}},\"x\":{\"field\":\"tau_DL04\"},\"y\":{\"field\":\"value\"}},\"id\":\"1142\",\"type\":\"Scatter\"},{\"attributes\":{\"axis_label\":\"tau_L\",\"formatter\":{\"id\":\"1158\",\"type\":\"LogTickFormatter\"},\"plot\":{\"id\":\"1105\",\"subtype\":\"Figure\",\"type\":\"Plot\"},\"ticker\":{\"id\":\"1115\",\"type\":\"LogTicker\"}},\"id\":\"1114\",\"type\":\"LogAxis\"},{\"attributes\":{\"data_source\":{\"id\":\"1140\",\"type\":\"ColumnDataSource\"},\"glyph\":{\"id\":\"1142\",\"type\":\"Scatter\"},\"hover_glyph\":null,\"muted_glyph\":null,\"nonselection_glyph\":{\"id\":\"1143\",\"type\":\"Scatter\"},\"selection_glyph\":null,\"view\":{\"id\":\"1145\",\"type\":\"CDSView\"}},\"id\":\"1144\",\"type\":\"GlyphRenderer\"},{\"attributes\":{\"ticker\":null},\"id\":\"1160\",\"type\":\"LogTickFormatter\"},{\"attributes\":{\"fill_alpha\":{\"value\":0.1},\"fill_color\":{\"value\":\"#1f77b4\"},\"line_alpha\":{\"value\":0.1},\"line_color\":{\"value\":\"#1f77b4\"},\"x\":{\"field\":\"tau_DL04\"},\"y\":{\"field\":\"value\"}},\"id\":\"1143\",\"type\":\"Scatter\"},{\"attributes\":{\"active_drag\":\"auto\",\"active_inspect\":\"auto\",\"active_multi\":null,\"active_scroll\":\"auto\",\"active_tap\":\"auto\",\"tools\":[{\"id\":\"1124\",\"type\":\"PanTool\"},{\"id\":\"1125\",\"type\":\"WheelZoomTool\"},{\"id\":\"1126\",\"type\":\"BoxZoomTool\"},{\"id\":\"1127\",\"type\":\"SaveTool\"},{\"id\":\"1128\",\"type\":\"ResetTool\"},{\"id\":\"1129\",\"type\":\"HelpTool\"}]},\"id\":\"1130\",\"type\":\"Toolbar\"},{\"attributes\":{\"callback\":null},\"id\":\"1106\",\"type\":\"DataRange1d\"},{\"attributes\":{\"ticker\":null},\"id\":\"1158\",\"type\":\"LogTickFormatter\"},{\"attributes\":{},\"id\":\"1129\",\"type\":\"HelpTool\"},{\"attributes\":{\"plot\":null,\"text\":\"\"},\"id\":\"1156\",\"type\":\"Title\"},{\"attributes\":{},\"id\":\"1128\",\"type\":\"ResetTool\"},{\"attributes\":{\"callback\":null},\"id\":\"1108\",\"type\":\"DataRange1d\"},{\"attributes\":{},\"id\":\"1127\",\"type\":\"SaveTool\"},{\"attributes\":{\"dimension\":1,\"plot\":{\"id\":\"1105\",\"subtype\":\"Figure\",\"type\":\"Plot\"},\"ticker\":{\"id\":\"1120\",\"type\":\"LogTicker\"}},\"id\":\"1123\",\"type\":\"Grid\"},{\"attributes\":{\"overlay\":{\"id\":\"1132\",\"type\":\"BoxAnnotation\"}},\"id\":\"1126\",\"type\":\"BoxZoomTool\"},{\"attributes\":{},\"id\":\"1112\",\"type\":\"LogScale\"},{\"attributes\":{\"num_minor_ticks\":10},\"id\":\"1115\",\"type\":\"LogTicker\"},{\"attributes\":{},\"id\":\"1124\",\"type\":\"PanTool\"},{\"attributes\":{\"plot\":{\"id\":\"1105\",\"subtype\":\"Figure\",\"type\":\"Plot\"},\"ticker\":{\"id\":\"1115\",\"type\":\"LogTicker\"}},\"id\":\"1118\",\"type\":\"Grid\"},{\"attributes\":{\"axis_label\":\"tau_Tn\",\"formatter\":{\"id\":\"1160\",\"type\":\"LogTickFormatter\"},\"plot\":{\"id\":\"1105\",\"subtype\":\"Figure\",\"type\":\"Plot\"},\"ticker\":{\"id\":\"1120\",\"type\":\"LogTicker\"}},\"id\":\"1119\",\"type\":\"LogAxis\"},{\"attributes\":{\"bottom_units\":\"screen\",\"fill_alpha\":{\"value\":0.5},\"fill_color\":{\"value\":\"lightgrey\"},\"left_units\":\"screen\",\"level\":\"overlay\",\"line_alpha\":{\"value\":1.0},\"line_color\":{\"value\":\"black\"},\"line_dash\":[4,4],\"line_width\":{\"value\":2},\"plot\":null,\"render_mode\":\"css\",\"right_units\":\"screen\",\"top_units\":\"screen\"},\"id\":\"1132\",\"type\":\"BoxAnnotation\"},{\"attributes\":{\"num_minor_ticks\":10},\"id\":\"1120\",\"type\":\"LogTicker\"},{\"attributes\":{\"source\":{\"id\":\"1140\",\"type\":\"ColumnDataSource\"}},\"id\":\"1145\",\"type\":\"CDSView\"},{\"attributes\":{\"factors\":[\"tau_T2\",\"tau_T3\",\"tau_T4\"],\"palette\":[\"#3288bd\",\"#99d594\",\"#e6f598\",\"#fee08b\",\"#fc8d59\",\"#d53e4f\"]},\"id\":\"1139\",\"type\":\"CategoricalColorMapper\"}],\"root_ids\":[\"1105\"]},\"title\":\"Bokeh Application\",\"version\":\"1.0.3\"}};\n",
       "  var render_items = [{\"docid\":\"f9c3d8b3-25b8-403d-8743-91a3700ab954\",\"roots\":{\"1105\":\"19b5c814-bf70-4d08-99b2-2315f3f51aa3\"}}];\n",
       "  root.Bokeh.embed.embed_items_notebook(docs_json, render_items);\n",
       "\n",
       "  }\n",
       "  if (root.Bokeh !== undefined) {\n",
       "    embed_document(root);\n",
       "  } else {\n",
       "    var attempts = 0;\n",
       "    var timer = setInterval(function(root) {\n",
       "      if (root.Bokeh !== undefined) {\n",
       "        embed_document(root);\n",
       "        clearInterval(timer);\n",
       "      }\n",
       "      attempts++;\n",
       "      if (attempts > 100) {\n",
       "        console.log(\"Bokeh: ERROR: Unable to run BokehJS code because BokehJS library is missing\");\n",
       "        clearInterval(timer);\n",
       "      }\n",
       "    }, 10, root)\n",
       "  }\n",
       "})(window);"
      ],
      "application/vnd.bokehjs_exec.v0+json": ""
     },
     "metadata": {
      "application/vnd.bokehjs_exec.v0+json": {
       "id": "1105"
      }
     },
     "output_type": "display_data"
    }
   ],
   "source": [
    "selected = ['tau_DL04', 'tau_T2', 'tau_T3', 'tau_T4']\n",
    "data = df[selected].melt('tau_DL04')\n",
    "f = figure(x_axis_type='log', y_axis_type='log', x_axis_label='tau_L', y_axis_label='tau_Tn')\n",
    "f.scatter('tau_DL04', 'value', source=data, color=factor_cmap('variable', palette=Spectral6, factors=['tau_T2', 'tau_T3', 'tau_T4']))\n",
    "show(f)"
   ]
  },
  {
   "cell_type": "code",
   "execution_count": 6,
   "metadata": {},
   "outputs": [
    {
     "data": {
      "text/html": [
       "\n",
       "\n",
       "\n",
       "\n",
       "\n",
       "\n",
       "  <div class=\"bk-root\" id=\"cf998ed3-5ff6-40bc-b91e-3d214d61e890\" data-root-id=\"1218\"></div>\n"
      ]
     },
     "metadata": {},
     "output_type": "display_data"
    },
    {
     "data": {
      "application/javascript": [
       "(function(root) {\n",
       "  function embed_document(root) {\n",
       "    \n",
       "  var docs_json = {\"e4278383-c88a-4df8-be6e-60c53d41f6f1\":{\"roots\":{\"references\":[{\"attributes\":{\"below\":[{\"id\":\"1227\",\"type\":\"LinearAxis\"}],\"left\":[{\"id\":\"1232\",\"type\":\"LinearAxis\"}],\"renderers\":[{\"id\":\"1227\",\"type\":\"LinearAxis\"},{\"id\":\"1231\",\"type\":\"Grid\"},{\"id\":\"1232\",\"type\":\"LinearAxis\"},{\"id\":\"1236\",\"type\":\"Grid\"},{\"id\":\"1245\",\"type\":\"BoxAnnotation\"},{\"id\":\"1265\",\"type\":\"Legend\"},{\"id\":\"1256\",\"type\":\"GlyphRenderer\"},{\"id\":\"1271\",\"type\":\"GlyphRenderer\"},{\"id\":\"1287\",\"type\":\"GlyphRenderer\"}],\"title\":{\"id\":\"1259\",\"type\":\"Title\"},\"toolbar\":{\"id\":\"1243\",\"type\":\"Toolbar\"},\"x_range\":{\"id\":\"1219\",\"type\":\"DataRange1d\"},\"x_scale\":{\"id\":\"1223\",\"type\":\"LinearScale\"},\"y_range\":{\"id\":\"1221\",\"type\":\"DataRange1d\"},\"y_scale\":{\"id\":\"1225\",\"type\":\"LinearScale\"}},\"id\":\"1218\",\"subtype\":\"Figure\",\"type\":\"Plot\"},{\"attributes\":{\"fill_alpha\":{\"value\":0.1},\"fill_color\":{\"value\":\"#1f77b4\"},\"line_alpha\":{\"value\":0.1},\"line_color\":{\"value\":\"#1f77b4\"},\"size\":{\"units\":\"screen\",\"value\":3},\"x\":{\"field\":\"tau_DL04\"},\"y\":{\"field\":\"tau_T2\"}},\"id\":\"1255\",\"type\":\"Scatter\"},{\"attributes\":{},\"id\":\"1233\",\"type\":\"BasicTicker\"},{\"attributes\":{\"source\":{\"id\":\"1283\",\"type\":\"ColumnDataSource\"}},\"id\":\"1288\",\"type\":\"CDSView\"},{\"attributes\":{\"fill_alpha\":{\"value\":0.6},\"fill_color\":{\"value\":\"#1b9e77\"},\"line_alpha\":{\"value\":0.6},\"line_color\":{\"value\":\"#1b9e77\"},\"size\":{\"units\":\"screen\",\"value\":3},\"x\":{\"field\":\"tau_DL04\"},\"y\":{\"field\":\"tau_T2\"}},\"id\":\"1254\",\"type\":\"Scatter\"},{\"attributes\":{\"dimension\":1,\"plot\":{\"id\":\"1218\",\"subtype\":\"Figure\",\"type\":\"Plot\"},\"ticker\":{\"id\":\"1233\",\"type\":\"BasicTicker\"}},\"id\":\"1236\",\"type\":\"Grid\"},{\"attributes\":{\"plot\":null,\"text\":\"\"},\"id\":\"1259\",\"type\":\"Title\"},{\"attributes\":{},\"id\":\"1261\",\"type\":\"BasicTickFormatter\"},{\"attributes\":{},\"id\":\"1238\",\"type\":\"WheelZoomTool\"},{\"attributes\":{\"callback\":null,\"data\":{\"index\":[0,1,2,3,4,5,6,7,8,9,10,11,12,13,14,15,16,17,18,19,20,21,22,23,24,25,26,27,28,29,30,31,32,33,34,35,36,37,38,39,40,41,42,43,44,45,46,47,48,49,50,51,52,53,54,55,56,57,58,59,60,61,62,63,64,65,66,67,68,69,70,71,72,73,74,75,76,77,78,79,80,81,82,83,84,85,86,87,88,89,90,91,92,93,94,95,96,97,98,99,100,101,102,103,104,105,106,107,108,109,110,111,112,113,114,115,116,117,118,119,120,121,122,123,124,125,126,127,128,129,130,131,132,133,134,135,136,137,138,139,140,141,142,143,144,145,146,147,148,149,150,151,152,153,154,155,156,157,158,159,160,161,162,163,164,165,166,167,168,169,170,171,172,173,174,175,176,177,178,179,180,181,182,183,184,185,186,187,188,189,190,191,192,193,194,195,196,197,198,199,200,201,202,203,204,205,206,207,208,209,210,211,212,213,214,215,216,217,218,219,220,221,222,223,224,225,226,227,228,229,230,231,232,233,234,235,236,237,238,239,240,241,242,243,244,245,246,247,248,249,250,251,252,253,254,255,256,257,258,259,260,261,262,263,264,265,266,267,268,269,270,271,272,273,274,275,276,277,278,279,280,281,282,283,284,285,286,287,288,289,290,291,292,293,294,295,296,297,298,299,300,301,302,303,304,305,306,307,308,309,310,311,312,313,314,315,316,317,318,319,320,321,322,323,324,325,326,327,328,329,330,331,332,333,334,335,336,337,338,339,340,341,342,343,344,345,346,347,348,349,350,351,352,353,354,355,356,357,358,359,360,361,362,363,364,365,366,367,368,369,370,371,372,373,374,375,376,377,378,379,380,381,382,383,384,385,386,387,388,389,390,391,392,393,394,395,396,397,398,399,400,401,402,403,404,405,406,407,408,409,410,411,412,413,414,415,416,417,418,419,420,421,422,423,424,425,426,427,428,429,430,431,432,433,434,435,436,437,438,439,440,441,442,443,444,445,446,447,448,449,450,451,452,453,454,455,456,457,458,459,460,461,462,463,464,465,466,467,468,469,470,471,472,473,474,475,476,477,478,479,480,481,482,483,484,485,486,487,488,489,490,491,492,493,494,495,496,497,498,499,500,501,502,503,504,505,506,507,508,509,510,511,512,513,514,515,516,517,518,519,520,521,522,523,524,525,526,527,528,529,530,531,532,533,534,535,536,537,538,539,540,541,542,543,544,545,546,547,548,549,550,551,552,553,554,555,556,557,558,559,560,561,562,563,564,565,566,567,568,569,570,571,572,573,574,575,576,577,578,579,580,581,582,583,584,585,586,587,588,589,590,591,592,593,594,595,596,597,598,599,600,601,602,603,604,605,606,607,608,609,610,611,612,613,614,615,616,617,618,619,620,621,622,623,624],\"tau_D04\":[210,1200,140,190,540,360,820,3800,1000,390,380,1800,310,2000,50000,220,56000,540,630000,610000,280,320,660,190,27000,22000,580,480,130,1300,28000,18000,1200,870,1100,460,800,340,160,200,18000,270,23000,400,1400,4900,50000,12000,400,150,500,2200,45000,480,2600,32000,320,260,300,3300,1100,49,2400,3200,990,350,1500,720,2000000,250,830,46000,7100,940,480,410,1100,210,160,120,4100,230,920,310,110,250,860,160,2800,2900,970,2200,670,2800,8400,590,260,54,730000,2100,360000,910,1900,1200,200000,530,580,2300,800,400,90000,84000,230,150,2300,160,200,13000,370,510,650,250,1200,63000,10000,630,860,920000,150,27000,1100,9000,360,370,390,45000,210,93,280,9000,150,3000,240,220,650,47000,230,15000,1900,8100,17000,340,3700,1200,360,45000,1200,220,220,320,8300,2900,2000,520,46000,230,300,2600,280,180,390,1900,3700,48000,1200,11000,1100,230,1100,3600,1100,480,1800000,180,2900,61000,450,280,240,46000,1900,46000,170,1500,1300,2100,670,9700,260,3000,150,230,590,3000000,270,90000,1200,5400,1200,7300,300,47000,330,620,500,580,200,17000,3500,180,820,82000,7200,190,46000,290,150,420,3600,1500,530,330,390,1800,63000,360,240,1800,5100,3800,1100,200,340000,1900,1200,2700,8300,170000,4200,470000,550,4200,580,270,260,280,1200,64,270,1900,590,4700,1100,160,6700,4300,47000,300,2800000,630000,440,630,280,32000,290,170000,73000,180,540000,860,39000,180,1900,120,550,4200,910000,400,340,250,9700,470,320,1300,210,200000,2100,590,4400,110,160,2500,220,380,310,420,700,990,78,1300,240,210,86000,720,2000,230,170,290,930,6200,240,930,630,81,4900,7000,200,850,240,250,1900,200,270,610,3000,260,280,210,360,390,860,330,470,2900,7700,460,1200,110,360,380,78,7200,81000,5400,510,78000,1800,2800,150,77,560,530000,260,270000,2000,84000,310,48000,36000,45000,550,1200,140,1200,7300,1300,420,980,1500,600,460,260,2400,6900,7200,2600,4400,530,4700,30000,370,2400,9900,1100,180,110,800,300,330,760,1800,620000,430,4000,350,310,490,190,550000,400,3900,270,660,2700,4100,730000,2900,2400,220,2200,6500,220,900,1600,150,750,290,650,440,2900,83000,980,450,500,500,2100,5300,1100,64,93000,250,1700,210,6600,400,78,5000,290,280,720,13000,1800,120000,240000,590,690000,200000,220,270,260,1200,220,50000,180,1500,2000,610,600,370,620,3500,9700,77000,71000,40000,2000,260,440,5500,47000,2500,8100,200000,920,1100,710000,330,47000,520,210,470,270,340,50000,430,470,5700,470,83,270000,3800,350,890,1200,280,390,570,270,400,18000,960,200,5400,260,3700,160,950,3300,310,190,860,290,270000,130,2800,2600,390,250000,1500,680,490,470,570,270,270,900000,250,5500,1000,230,720000,730000,420,1900,620,490,2600,360,1000,510,3500,430,1000,7300,2000,5500,270000,300,440,260,92000,190000,99000,220,360,320,3000,770,670,470,110,3700,240,250,8500,1100,140,190,180,1200,400,26000,300,830,180,330,200000,210,5000,890,1100,980,4000,120,310000,680,350,93000,710000,240,420,23000,280,3300000,480,170,9000,35000,42000,20000,240,1500,310,120,290,4100,47000,8900,200000,1600,270,520,7200,1200,73],\"tau_D1\":[19000000,3100000,1900000,4000000,9200000,9200000,21000000,2600000,1800000,21000000,1800000,12000000,5600000,21000000,9900000,240000,750000,21000000,4900000,17000000,14000000,200000,5500000,1700000,2000000,25000000,3100000,870000,2300000,4200000,14000000,19000000,28000000,22000000,11000000,2200000,9700000,2300000,9300000,5500000,6600000,13000000,11000000,14000000,2700000,22000000,28000000,4000000,12000000,5400000,880000,4900000,10000000,19000000,9700000,13000000,4300000,9100000,5600000,16000000,7000000,5800000,17000000,29000000,7300000,100000,19000000,340000,2000000,540000,850000,21000000,17000000,14000000,2800000,12000000,48000,14000000,5600000,14000000,28000000,420000,17000000,15000000,2000000,11000000,6100000,4000000,35000000,24000000,6800000,540000,29000000,6300000,12000000,14000000,5400000,420000,2200000,9600000,39000000,14000000,1100000,28000000,1100000,9700000,11000000,7300000,290000,3600000,7100000,8400000,920000,4000000,8000000,220000,7700000,13000000,5800000,8400000,8500000,20000000,650000,7200000,12000000,9600000,9600000,17000000,8300000,6600000,7700000,9100000,1700000,11000000,27000000,21000000,13000000,550000,1900000,5400000,1900000,36000000,4100000,4300000,13000000,14000000,2900000,4400000,17000000,4300000,23000000,5500000,28000000,29000000,4300000,9100000,14000000,4200000,9700000,7000000,30000000,28000000,19000000,5900000,9400000,22000000,4900000,5400000,1900000,12000000,10000000,20000000,22000000,27000000,4800000,51000,880000,1700000,1100000,26000000,19000000,25000000,4900000,21000000,8200000,2300000,24000000,12000000,4200000,13000000,21000000,2900000,280000,28000000,5800000,950000,24000000,28000000,12000000,14000000,9900000,4300000,10000000,11000000,860000,4900000,32000000,630000,3600000,4200000,20000000,5100000,1800000,2400000,26000000,13000000,4900000,13000000,4100000,21000000,1800000,4900000,13000000,4100000,5200000,9400000,16000000,5500000,1800000,9600000,36000000,5400000,4000000,11000000,5400000,1900000,4300000,9700000,19000,23000000,250000,22000000,21000000,4300000,1800000,20000000,8500000,26000000,21000000,27000000,26000000,750000,6900000,3000000,1700000,12000000,28000000,2600000,5400000,9700000,13000000,11000000,19000000,21000000,20000000,3600000,17000000,240000,24000000,4200000,3000000,5900000,630000,7100000,5400000,12000000,2600000,37000000,9900000,18000000,25000000,2400000,29000000,4000000,13000000,24000000,5000000,14000000,11000000,9100000,14000000,5000000,5400000,4500000,42000000,11000000,370000,19000000,26000000,3300000,11000000,12000000,14000000,5100000,5800000,430000,2000000,6000000,8900000,13000000,5500000,3600000,17000000,7600000,5400000,730000,21000000,12000000,4300000,10000000,5200000,5000000,8800000,9900000,19000000,13000000,21000000,21000000,14000000,3000000,19000000,12000000,14000000,17000000,14000000,3800000,14000000,12000000,4700000,14000000,6900000,1800000,280000,29000000,4100000,2400000,5500000,440,220000,1900000,23000000,11000000,7100000,11000000,400000,28000000,2900000,4000000,4000000,4900000,5900000,9600000,9700,680000,13000000,19000000,7700000,9600000,27000000,9900000,430000,9400000,220000,9700000,11000000,540000,12000000,150000,9700000,23000000,9300000,280000,28000000,20000000,5400000,5700000,25000000,22000000,13000000,14000000,21000000,5200000,4500000,5900000,8800000,100000,140000,4200000,360000,9600000,3500000,14000000,8900000,21000000,5400000,2000000,6400000,9900000,4300000,6100000,2600000,6200000,4900000,13000000,26000000,4300000,7000000,2300000,16000000,7300000,20000000,3200000,3100000,3500000,9900000,20000000,12000000,490000,4300000,28000000,9600000,4300000,1400000,660000,14000000,33000000,13000000,24000000,9900000,10000000,6100000,11000000,20000000,9600000,120000,4300000,6300000,2000000,1900000,17000000,9900000,5100000,19000000,25000000,10000000,26000000,4000000,22000000,2800000,2300000,710000,9600000,14000000,160000,9500000,20000000,12000000,780000,11000000,180000,1300000,13000000,9200000,6900000,16000000,100000,960000,220000,2800000,7100000,16000000,14000000,5800000,920000,13000000,14000000,4400000,14000000,5100000,4300000,7100000,12000000,4400000,2600000,1900000,39000000,34000000,730000,440000,9600000,7000000,4500000,14000000,7900000,6100000,4300000,9600000,3600000,11000000,9800000,5900000,7200000,7300000,19000000,1800000,14000000,5800000,9600000,750000,3000000,640000,1400000,9900000,390000,19000000,21000000,4000000,2600000,4000000,17000000,2800000,12000000,8700000,6900000,150000,1800000,11000000,4300000,25000000,9200000,33000000,19000000,920000,9800000,7100000,4900,6800,330000,360000,21000000,9900000,15000000,7100000,26000000,780000,2000000,420000,5000000,1900000,10000000,45000000,9700000,18000000,230000,5400000,39000000,28000000,330000,8200000,9800000,98000,13000000,5600000,21000000,34000000,3100000,14000000,9700000,420000,7700000,29000000,11000000,9300000,32000000,1900000,23000000,15000000,230000,14000000,22000000,24000000,3100000,7700000,28000000,14000000,640000,33000000,6100000,12000000,26000000,360000,11000000,3000000,13000000,13000000,11000000,9700000,4200000,13000000,32000000,13000000,16000000,15000000,9100000,27000000,17000000,9900000,14000000,17000000,22000000,8200000,7700000,5400000,14000000,8400000],\"tau_DL04\":[17000000,3000000,910000,3800000,9100000,8700000,19000000,1100000,1700000,19000000,1700000,9400000,5200000,19000000,9800000,210000,140000,18000000,4800000,13000000,9700000,150000,4900000,1400000,1700000,23000000,1900000,860000,930000,3700000,9900000,13000000,14000000,9800000,9700000,2000000,9300000,720000,9000000,5400000,6300000,6700000,10000000,9000000,2600000,13000000,27000000,3900000,9600000,4000000,820000,3900000,9600000,17000000,8600000,9000000,3600000,8600000,4300000,9700000,5500000,5200000,13000000,28000000,6700000,50000,9000000,280000,4294967295,510000,430000,13000000,9300000,9600000,2700000,11000000,46000,9700000,5400000,13000000,27000000,290000,13000000,13000000,1700000,8700000,5100000,3900000,32000000,22000000,6300000,510000,26000000,5900000,9500000,11000000,5100000,370000,1800000,9500000,38000000,10000000,970000,15000000,320000,9600000,9200000,6300000,220000,2900000,5900000,6900000,830000,3900000,7000000,210000,7200000,9700000,5700000,4600000,8300000,16000000,630000,4500000,9600000,9400000,9200000,14000000,4800000,5800000,7200000,9000000,960000,9100000,14000000,20000000,9900000,530000,500000,4900000,1600000,35000000,3800000,4100000,11000000,9400000,2500000,4200000,13000000,4200000,20000000,5100000,25000000,25000000,3900000,7000000,11000000,3900000,6700000,4100000,26000000,27000000,17000000,4200000,5400000,9500000,4300000,5200000,1300000,9700000,9600000,19000000,9600000,19000000,4100000,50000,200000,980000,950000,22000000,11000000,20000000,4700000,14000000,5300000,1700000,20000000,9600000,4100000,12000000,19000000,2700000,220000,21000000,5500000,910000,23000000,26000000,11000000,12000000,9600000,4000000,9500000,9700000,750000,4000000,29000000,610000,2900000,4000000,11000000,4600000,1700000,1100000,12000000,11000000,4300000,9400000,4000000,16000000,1500000,4400000,11000000,3200000,4100000,9100000,12000000,4000000,1700000,8600000,29000000,4700000,3200000,9800000,5300000,1800000,3900000,9500000,11000,22000000,210000,19000000,17000000,4000000,1700000,17000000,5300000,22000000,17000000,24000000,23000000,740000,5800000,1900000,300000,9800000,23000000,2000000,5000000,9600000,11000000,9400000,9300000,18000000,17000000,2900000,13000000,150000,21000000,4000000,2800000,5200000,620000,3500000,4900000,11000000,1600000,35000000,9600000,8800000,21000000,1700000,26000000,3200000,9900000,9500000,4800000,9400000,9600000,8400000,9000000,4600000,4900000,3900000,37000000,10000000,310000,17000000,11000000,2800000,7700000,11000000,9700000,1600000,5200000,230000,1800000,5300000,8400000,9700000,5400000,2900000,12000000,7400000,4800000,470000,18000000,9500000,3300000,9400000,4800000,2900000,5400000,9700000,16000000,9900000,19000000,19000000,9900000,2900000,17000000,9500000,9700000,16000000,13000000,2000000,9500000,9900000,4000000,9700000,6300000,1200000,240000,9400000,3700000,900000,4100000,170,170000,1800000,21000000,9700000,7000000,9300000,390000,24000000,2400000,3800000,3500000,4800000,5800000,8900000,8700,640000,9700000,10000000,7200000,5400000,22000000,9800000,350000,8400000,200000,9600000,6200000,220000,9500000,84000,9400000,18000000,9100000,250000,26000000,19000000,4800000,4900000,20000000,17000000,9400000,9700000,20000000,4600000,4100000,4200000,5400000,96000,120000,1200000,310000,8200000,2900000,9900000,5400000,13000000,4700000,48000,2600000,9300000,3900000,5000000,2400000,4800000,4800000,9500000,20000000,4100000,4500000,960000,11000000,7200000,13000000,1400000,2900000,3300000,9600000,9700000,9700000,400000,3800000,27000000,9100000,3300000,1100000,580000,9900000,23000000,9900000,17000000,9600000,9600000,4900000,9000000,11000000,5400000,110000,1900000,5200000,860000,1800000,9600000,9600000,4000000,15000000,19000000,9600000,24000000,3500000,20000000,2400000,1900000,620000,9100000,11000000,140000,9300000,19000000,9400000,600000,9700000,140000,1100000,11000000,5800000,6800000,9600000,93000,460000,140000,2700000,5200000,12000000,9900000,4700000,810000,6000000,9700000,3900000,9900000,4200000,3900000,4900000,9700000,4300000,2400000,1200000,28000000,31000000,590000,420000,9400000,5300000,4200000,12000000,7600000,5800000,4100000,9500000,2900000,7900000,9600000,5800000,7000000,6800000,18000000,1700000,13000000,2000000,9400000,700000,2600000,280000,980000,9100000,140000,13000000,19000000,3700000,1600000,3900000,13000000,2000000,9100000,8500000,6000000,90000,1700000,7500000,3600000,12000000,7500000,32000000,14000000,840000,8700000,4900000,4500,5900,280000,320000,20000000,8900000,14000000,6300000,23000000,760000,1900000,290000,4800000,1800000,9900000,38000000,9600000,15000000,210000,4800000,36000000,27000000,290000,5000000,9400000,94000,9800000,5400000,9300000,27000000,3000000,9900000,9400000,370000,7500000,27000000,9600000,9200000,18000000,910000,17000000,9900000,210000,9900000,21000000,23000000,3000000,7000000,21000000,11000000,480000,32000000,5800000,9800000,16000000,320000,9700000,2000000,9400000,12000000,9700000,7600000,3600000,10000000,29000000,12000000,14000000,13000000,9000000,14000000,12000000,9600000,9300000,9700000,20000000,4300000,7500000,3300000,9900000,8200000],\"tau_T2\":[11000000,11000000,17000000,8600000,9200000,28000000,24000000,24000000,9900000,41000000,17000000,65000000,39000000,75000000,13000000,80000000,5400000,21000000,5400000,25000000,97000000,130000000,12000000,5600000,46000000,36000000,12000000,9300000,14000000,48000000,26000000,25000000,28000000,31000000,12000000,18000000,13000000,20000000,35000000,92000000,7500000,38000000,39000000,14000000,450000,17000000,170000000,17000000,15000000,140000000,31000000,13000000,48000000,10000000,33000000,12000000,29000000,5800000,16000000,28000000,37000000,49000000,51000000,13000000,76000000,2100000,7100000,15000000,4400000,1200000,14000000,98000000,33000000,29000000,10000000,34000000,18000000,19000000,7300000,13000000,66000000,1900000,25000000,40000000,19000000,29000000,49000000,43000000,48000000,29000000,5400000,400000,97000000,25000000,13000000,83000000,16000000,9700000,27000000,13000000,51000000,14000000,37000000,31000000,23000000,13000000,20000000,36000000,13000000,14000000,99000000,42000000,8400000,40000000,18000000,38000000,12000000,28000000,5800000,53000000,33000000,77000000,37000000,8300000,12000000,47000000,47000000,17000000,50000000,16000000,7900000,12000000,47000000,12000000,26000000,8500000,33000000,19000000,27000000,29000000,56000000,76000000,2000000,15000000,35000000,47000000,21000000,7600000,17000000,73000000,82000000,4200000,6900000,43000000,5600000,48000000,13000000,4000000,11000000,22000000,39000000,53000000,23000000,30000000,32000000,50000000,5800000,46000000,9900000,65000000,22000000,5400000,29000000,32000000,4300000,84000000,13000000,1800000,25000000,18000000,37000000,130000000,20000000,58000000,16000000,22000000,26000000,9500000,19000000,40000000,22000000,9100000,2400000,21000000,17000000,5700000,73000000,28000000,6900000,80000000,24000000,57000000,59000000,53000000,22000000,5400000,29000000,20000000,56000000,34000000,4000000,130000000,18000000,57000000,26000000,47000000,48000000,50000000,5800000,24000000,21000000,16000000,34000000,50000000,5700000,27000000,22000000,60000000,22000000,34000000,23000000,24000000,1200000,34000000,94000000,28000000,3500000,29000000,19000000,28000000,7000000,21000000,33000000,21000000,44000000,22000000,28000000,68000000,25000000,15000000,37000000,6300000,53000000,44000000,47000000,36000000,57000000,56000000,4500000,12000000,14000000,49000000,30000000,37000000,66000000,18000000,40000000,9900000,23000000,4400000,28000000,34000000,25000000,57000000,20000000,34000000,18000000,73000000,16000000,39000000,120000000,52000000,2300000,52000000,140000000,73000000,29000000,14000000,36000000,43000000,28000000,4700000,430000,26000000,57000000,25000000,21000000,18000000,7700000,5800000,11000000,16000000,20000000,15000000,2000000,1900000,3900000,37000000,5100000,34000000,440000,18000000,4000000,56000000,14000000,9100000,61000000,12000000,29000000,21000000,6400000,15000000,160000000,48000000,55000000,11000000,63000000,9600000,19000000,29000000,61000000,72000000,120000000,110000,40000000,71000000,25000000,25000000,26000000,150000000,89000000,9700000,2900000,29000000,67000,12000000,4200000,39000000,38000000,21000000,47000000,34000000,46000000,13000000,37000000,36000000,13000000,15000000,28000000,9400000,43000000,52000000,48000000,29000000,38000000,22000000,11000000,34000000,120000000,1400000,1100000,26000000,3900,18000000,43000000,65000000,250000000,50000000,68000000,28000000,22000000,9100000,92000000,8400000,58000000,7500000,6900000,19000000,40000000,29000000,59000000,24000000,44000000,5700000,57000000,9600000,1700000,66000000,46000000,17000000,46000000,27000000,31000000,28000000,5400000,13000000,34000000,120000000,7700000,9500000,12000000,37000000,33000000,36000000,47000000,17000000,39000000,1500000,440000,6000000,9200000,13000000,26000000,8400000,97000000,78000000,83000000,2900000,2900000,91000000,21000000,13000000,4400000,27000000,300000,72000000,34000000,37000000,33000000,81000000,38000000,31000000,32000000,21000000,24000000,9900000,29000000,28000000,4200000,25000000,11000000,76000000,14000000,2900000,36000000,68000000,33000000,27000000,43000000,70000000,76000000,28000000,25000000,1300000,24000000,19000000,31000000,9700000,48000000,30000000,76000000,23000000,9400000,20000000,18000000,20000000,9100000,1200000,4900000,60000000,57000000,20000000,5900000,8400000,79000000,12000000,5400000,20000000,30000000,41000000,38000000,79000000,36000000,33000000,13000000,3500000,57000000,3600000,62000000,19000000,77000000,61000000,6900000,8400000,15000000,41000000,1400000,4800000,4200000,11000000,46000000,19000000,33000000,13000000,5800000,15000000,9300000,61000000,15000000,18000000,4400000,4200000,9700000,55000000,27000000,16000000,17000000,49000000,33000000,60000000,18000000,12000000,48000000,26000000,5100000,8300000,29000000,34000000,78000000,9200000,33000000,30000000,37000000,25000000,46000000,16000000,490000,4700000,2300000,21000000,14000000,24000000,7900000,26000000,19000000,2800000,37000000,3800000,9000000,9200000,64000000,23000000,18000000,20000000,50000000,47000000,65000000,44000000,32000000,78000000,5900000,28000000,50000000,27000000,91000000,29000000,9200000,11000000,19000000,34000000,5600000,1300000,33000000,25000000,47000000,32000000,25000000,29000000,53000000,800000,3100000,25000000,7100000,52000000,17000000,28000000,46000000,34000000,29000000,16000000,9300000,20000000,12000000,80000000,9500000,76000000,81000000,24000000,27000000,51000000,65000000,40000000,14000000,3000000,35000000,3100000,26000000,23000000,74000000,21000000,26000000,7800000,2500000,6200000,8400000],\"tau_T3\":[11000000,11000000,9600000,8600000,7600000,28000000,22000000,5500000,9900000,41000000,17000000,65000000,33000000,29000000,11000000,4100000,5400000,21000000,5400000,17000000,85000000,95000000,12000000,4400000,46000000,34000000,12000000,1100000,14000000,48000000,26000000,5000000,19000000,27000000,530000,18000000,4500000,2500000,33000000,35000000,7500000,29000000,36000000,14000000,400000,9400000,41000000,3900000,11000000,21000000,2800000,8500000,15000000,10000000,32000000,12000000,29000000,5800000,8900000,28000000,5600000,15000000,9600000,13000000,6900000,2100000,7100000,4900000,4100000,980000,13000000,60000000,4100000,28000000,7100000,32000000,18000000,18000000,6500000,7100000,57000000,1800000,17000000,16000000,18000000,20000000,14000000,37000000,47000000,24000000,5400000,230000,77000000,25000000,13000000,4300000,16000000,9600000,9000000,3400000,51000000,14000000,19000000,31000000,22000000,9600000,20000000,11000000,12000000,13000000,8000000,4800000,3800000,38000000,16000000,38000000,9600000,14000000,5500000,52000000,18000000,20000000,36000000,4200000,11000000,33000000,17000000,17000000,480000,8000000,7600000,2600000,43000000,12000000,13000000,8500000,32000000,2700000,25000000,4100000,38000000,51000000,1800000,14000000,22000000,46000000,21000000,7600000,17000000,66000000,23000000,4200000,4900000,4200000,5300000,25000000,32000,4000000,8500000,8300000,280000,28000000,21000000,30000000,25000000,50000000,5400000,46000000,5700000,59000000,22000000,5400000,3100000,14000000,4300000,19000000,13000000,1800000,19000000,18000000,33000000,57000000,16000000,31000000,16000000,9800000,21000000,4300000,4200000,29000000,21000000,4000000,2400000,9600000,5500000,1300000,49000000,26000000,1100000,61000000,24000000,4900000,20000000,12000000,21000000,5400000,11000000,9900000,55000000,5900000,4000000,65000000,18000000,4400000,26000000,27000000,5300000,35000000,5700000,23000000,1800000,4200000,34000000,14000000,5200000,26000000,17000000,57000000,16000000,8500000,23000000,24000000,1200000,34000000,5700000,2900000,3300000,9200000,12000000,28000000,4700000,21000000,19000000,13000000,5800000,22000000,14000000,66000000,21000000,14000000,36000000,5700000,5900000,18000000,41000000,36000000,57000000,46000000,4100000,12000000,13000000,23000000,30000000,28000000,65000000,18000000,40000000,4200000,23000000,4100000,1800000,30000000,25000000,8400000,12000000,28000000,18000000,57000000,16000000,250000,18000000,40000000,2100000,4000000,82000000,4800000,28000000,14000000,34000000,26000000,28000000,4700000,210000,26000000,3800000,25000000,16000000,18000000,5500000,740000,11000000,9600000,11000000,1600000,2000000,420000,2700000,2800000,4900000,31000000,430000,18000000,3900000,12000000,14000000,7600000,27000000,12000000,12000000,20000000,2700000,15000000,16000000,12000000,53000000,11000000,36000000,9300000,17000000,29000000,40000000,32000000,95000000,74000,38000000,71000000,9200000,10000000,26000000,49000000,18000000,5600000,1900000,28000000,63000,19000,4200000,33000000,26000000,13000000,28000000,34000000,14000000,13000000,2100000,16000000,8100000,8800000,28000000,9200000,42000000,34000000,48000000,20000000,38000000,16000000,10000000,33000000,46000000,1400000,290000,21000000,3100,18000000,36000000,570000,51000000,38000000,26000000,28000000,22000000,9100000,18000000,7500000,5000000,7500000,6900000,19000000,7500000,29000000,47000000,5800000,38000000,4200000,30000000,8600000,1700000,1700000,380000,15000000,46000000,3000000,30000000,28000000,3700000,13000000,27000000,40000000,6000000,9300000,4700000,13000000,2700000,13000000,47000000,17000000,27000000,1300000,430000,770000,9200000,13000000,5700000,3500000,55000000,8500000,26000000,660000,2900000,68000000,13000000,12000000,1700000,12000000,300000,21000000,21000000,32000000,11000000,23000000,32000000,28000000,21000000,21000000,15000000,5200000,25000000,15000000,4100000,19000000,9900000,45000000,13000000,2600000,28000000,50000000,29000000,22000000,23000000,37000000,30000000,28000000,19000000,580000,24000000,19000000,30000000,9100000,9500000,5800000,1100000,7500000,9400000,9300000,12000000,18000000,1700000,980000,2900000,60000000,16000000,3600000,5800000,8000000,570000,12000000,5400000,15000000,22000000,33000000,9800000,33000000,8700000,21000000,13000000,3400000,34000000,490000,8400000,9100000,77000000,51000000,4500000,5600000,11000000,5400000,1100000,4300000,3900000,6600000,34000000,16000000,12000000,13000000,4000000,11000000,9300000,61000000,2800000,18000000,290000,2600000,9100000,35000000,20000000,16000000,3200000,44000000,18000000,59000000,18000000,12000000,26000000,26000000,4600000,4200000,210000,34000000,78000000,4300000,33000000,22000000,16000000,25000000,11000000,2800000,460000,340000,320000,21000000,14000000,19000000,7800000,22000000,17000000,60000,15000000,3600000,6100000,5500000,52000000,16000000,17000000,14000000,43000000,39000000,51000000,4900000,14000000,46000000,5800000,14000000,28000000,5900000,37000000,4700000,7900000,11000000,9100000,1400000,5200000,850000,2200000,25000000,4100000,30000000,25000000,3100000,50000000,800000,3100000,7100000,7100000,52000000,17000000,24000000,40000000,25000000,12000000,16000000,310000,20000000,12000000,32000000,9500000,27000000,35000000,10000000,27000000,42000000,7600000,8800000,13000000,3000000,35000000,3100000,26000000,12000000,17000000,20000000,8700000,5600000,74000,5900000,8400000],\"tau_T4\":[11000000,250000,8900000,8600000,7500000,28000000,22000000,170000,1800000,9300000,17000000,65000000,28000000,29000000,50000,3500000,5400000,21000000,4300000,17000000,40000000,95000000,12000000,2400000,18000000,34000000,12000000,860000,12000000,6000000,16000000,5000000,9500000,9900000,530000,17000000,2600000,1900000,33000000,19000000,7500000,29000000,13000000,14000000,18000,9400000,41000000,3900000,11000000,21000000,2700000,8500000,13000000,9800000,32000000,12000000,29000000,3300000,8600000,12000000,5500000,15000000,9600000,10000000,3900000,530000,430000,1700000,4100000,240000,13000000,59000000,3200000,14000000,2700000,31000000,18000000,18000000,6500000,7100000,55000000,390000,17000000,16000000,18000000,490000,11000000,8500000,19000000,23000000,5400000,220000,14000000,5600000,6000000,4200000,5600000,9500000,9000000,2800000,3000000,11000000,19000000,9500000,22000000,9600000,12000000,8900000,12000000,13000000,5600000,4700000,3000000,8500000,8500000,16000000,9200000,14000000,4800000,47000000,16000000,2900000,640000,3800000,11000000,33000000,16000000,17000000,480000,6100000,6100000,2600000,43000000,11000000,13000000,8500000,32000000,630000,1700000,4100000,2400000,51000000,1800000,4100000,22000000,46000000,9200000,7100000,17000000,25000000,23000000,4200000,4900000,4200000,5300000,20000000,32000,51000,3400000,7500000,260000,28000000,21000000,30000000,20000000,50000000,5400000,4100000,5700000,52000000,21000000,4000000,3100000,14000000,4300000,260000,13000000,1800000,9300000,18000000,32000000,38000000,5400000,31000000,16000000,4400000,21000000,4300000,4000000,29000000,21000000,4000000,2400000,9600000,5200000,1300000,48000000,23000000,1100000,16000000,24000000,4300000,20000000,12000000,970000,5300000,11000000,9900000,53000000,4900000,4000000,5100000,18000000,4200000,7000000,23000000,5300000,34000000,5100000,23000000,560000,4200000,32000000,12000000,5200000,26000000,17000000,5400000,15000000,7500000,23000000,24000000,1200000,34000000,5600000,2800000,3300000,9200000,9900000,25000000,4700000,21000000,17000000,9200000,1900000,21000000,14000000,9600000,21000000,14000000,35000000,5700000,5900000,1900000,17000000,36000000,50000000,32000000,4100000,11000000,13000000,23000000,29000000,28000000,52000000,18000000,27000000,2400000,23000000,4100000,1800000,28000000,7000000,3600000,5300000,28000000,18000000,51000000,16000000,230000,18000000,40000000,2100000,2600000,57000000,4800000,4800000,14000000,9100000,6800,27000000,4700000,210000,26000000,3700000,25000000,15000000,18000000,5500000,120000,11000000,9600000,9700000,1400000,2000000,280000,2700000,1900000,4300000,23000000,430000,18000000,3900000,11000000,14000000,840000,27000000,12000000,12000000,20000000,2700000,15000000,16000000,12000000,51000000,11000000,33000000,9300000,11000000,3600000,39000000,9700000,40000000,55000,38000000,4100000,9200000,5800000,25000000,47000000,13000000,5600000,350000,28000000,63000,6600,4200000,29000000,1200000,13000000,28000000,26000000,8500000,13000000,650000,14000000,2000000,2600000,26000000,7400000,37000000,31000000,7100000,20000000,36000000,7200000,10000000,33000000,44000000,1400000,280000,21000000,2900,18000000,19000000,280000,29000000,710000,26000000,28000000,960000,3100000,5000000,7500000,5000000,5200000,5500000,19000000,5500000,28000000,27000000,5700000,8400000,630000,30000000,8600000,1700000,230000,320000,13000000,46000000,1800000,3000000,28000000,3700000,13000000,21000000,34000000,6000000,9300000,4200000,13000000,2700000,13000000,36000000,17000000,8800000,1300000,430000,480000,640000,320000,4200000,3500000,49000000,8500000,25000000,490000,2900000,52000000,13000000,12000000,1500000,12000000,300000,21000000,21000000,32000000,11000000,23000000,32000000,28000000,20000000,21000000,4600000,4300000,25000000,14000000,4000000,14000000,9900000,45000000,13000000,2600000,27000000,50000000,5800000,22000000,2600000,1500000,30000000,27000000,18000000,270000,24000000,9100000,5700000,4000000,9500000,5800000,1100000,5700000,7400000,9300000,12000000,8000000,480000,260000,2900000,27000000,9600000,3600000,5800000,1000000,560000,12000000,5300000,14000000,17000000,9000000,5400000,12000000,8500000,21000000,12000000,2300000,34000000,490000,470000,9100000,33000000,48000000,4500000,940000,11000000,4300000,1100000,4000000,3900000,6600000,25000000,9700000,11000000,12000000,4000000,11000000,190000,36000000,1700000,18000000,290000,260000,9100000,6000000,20000000,16000000,3200000,300000,8100000,290000,18000000,11000000,26000000,26000000,560000,3700000,210000,28000000,12000000,4300000,29000000,20000000,12000000,25000000,11000000,2800000,250000,340000,240000,21000000,13000000,12000000,39000,16000000,640000,48000,9200000,3600000,5800000,4900000,51000000,13000000,14000000,6500,33000000,39000000,48000000,4800000,14000000,34000000,5800000,12000000,23000000,5500000,35000000,3100000,7900000,11000000,470000,710000,5200000,820000,410000,22000000,910000,19000000,25000000,3100000,34000000,800000,3100000,3200000,7100000,52000000,14000000,24000000,28000000,15000000,12000000,15000000,310000,12000000,12000000,32000000,9500000,27000000,33000000,5000000,8700000,510000,7600000,8800000,12000000,2400000,28000000,300000,500000,12000000,17000000,20000000,8700000,5600000,73000,5900000,8000000]},\"selected\":{\"id\":\"1279\",\"type\":\"Selection\"},\"selection_policy\":{\"id\":\"1280\",\"type\":\"UnionRenderers\"}},\"id\":\"1252\",\"type\":\"ColumnDataSource\"},{\"attributes\":{},\"id\":\"1263\",\"type\":\"BasicTickFormatter\"},{\"attributes\":{\"active_drag\":\"auto\",\"active_inspect\":\"auto\",\"active_multi\":null,\"active_scroll\":\"auto\",\"active_tap\":\"auto\",\"tools\":[{\"id\":\"1237\",\"type\":\"PanTool\"},{\"id\":\"1238\",\"type\":\"WheelZoomTool\"},{\"id\":\"1239\",\"type\":\"BoxZoomTool\"},{\"id\":\"1240\",\"type\":\"SaveTool\"},{\"id\":\"1241\",\"type\":\"ResetTool\"},{\"id\":\"1242\",\"type\":\"HelpTool\"}]},\"id\":\"1243\",\"type\":\"Toolbar\"},{\"attributes\":{\"data_source\":{\"id\":\"1283\",\"type\":\"ColumnDataSource\"},\"glyph\":{\"id\":\"1285\",\"type\":\"Scatter\"},\"hover_glyph\":null,\"muted_glyph\":null,\"nonselection_glyph\":{\"id\":\"1286\",\"type\":\"Scatter\"},\"selection_glyph\":null,\"view\":{\"id\":\"1288\",\"type\":\"CDSView\"}},\"id\":\"1287\",\"type\":\"GlyphRenderer\"},{\"attributes\":{},\"id\":\"1237\",\"type\":\"PanTool\"},{\"attributes\":{\"click_policy\":\"hide\",\"items\":[{\"id\":\"1266\",\"type\":\"LegendItem\"},{\"id\":\"1282\",\"type\":\"LegendItem\"},{\"id\":\"1300\",\"type\":\"LegendItem\"}],\"location\":\"top_left\",\"plot\":{\"id\":\"1218\",\"subtype\":\"Figure\",\"type\":\"Plot\"}},\"id\":\"1265\",\"type\":\"Legend\"},{\"attributes\":{\"fill_alpha\":{\"value\":0.1},\"fill_color\":{\"value\":\"#1f77b4\"},\"line_alpha\":{\"value\":0.1},\"line_color\":{\"value\":\"#1f77b4\"},\"size\":{\"units\":\"screen\",\"value\":3},\"x\":{\"field\":\"tau_DL04\"},\"y\":{\"field\":\"tau_T4\"}},\"id\":\"1286\",\"type\":\"Scatter\"},{\"attributes\":{\"label\":{\"value\":\"T2\"},\"renderers\":[{\"id\":\"1256\",\"type\":\"GlyphRenderer\"}]},\"id\":\"1266\",\"type\":\"LegendItem\"},{\"attributes\":{\"overlay\":{\"id\":\"1245\",\"type\":\"BoxAnnotation\"}},\"id\":\"1239\",\"type\":\"BoxZoomTool\"},{\"attributes\":{\"fill_alpha\":{\"value\":0.6},\"fill_color\":{\"value\":\"#7570b3\"},\"line_alpha\":{\"value\":0.6},\"line_color\":{\"value\":\"#7570b3\"},\"size\":{\"units\":\"screen\",\"value\":3},\"x\":{\"field\":\"tau_DL04\"},\"y\":{\"field\":\"tau_T4\"}},\"id\":\"1285\",\"type\":\"Scatter\"},{\"attributes\":{},\"id\":\"1240\",\"type\":\"SaveTool\"},{\"attributes\":{\"callback\":null},\"id\":\"1219\",\"type\":\"DataRange1d\"},{\"attributes\":{},\"id\":\"1279\",\"type\":\"Selection\"},{\"attributes\":{},\"id\":\"1223\",\"type\":\"LinearScale\"},{\"attributes\":{},\"id\":\"1297\",\"type\":\"Selection\"},{\"attributes\":{\"callback\":null,\"data\":{\"index\":[0,1,2,3,4,5,6,7,8,9,10,11,12,13,14,15,16,17,18,19,20,21,22,23,24,25,26,27,28,29,30,31,32,33,34,35,36,37,38,39,40,41,42,43,44,45,46,47,48,49,50,51,52,53,54,55,56,57,58,59,60,61,62,63,64,65,66,67,68,69,70,71,72,73,74,75,76,77,78,79,80,81,82,83,84,85,86,87,88,89,90,91,92,93,94,95,96,97,98,99,100,101,102,103,104,105,106,107,108,109,110,111,112,113,114,115,116,117,118,119,120,121,122,123,124,125,126,127,128,129,130,131,132,133,134,135,136,137,138,139,140,141,142,143,144,145,146,147,148,149,150,151,152,153,154,155,156,157,158,159,160,161,162,163,164,165,166,167,168,169,170,171,172,173,174,175,176,177,178,179,180,181,182,183,184,185,186,187,188,189,190,191,192,193,194,195,196,197,198,199,200,201,202,203,204,205,206,207,208,209,210,211,212,213,214,215,216,217,218,219,220,221,222,223,224,225,226,227,228,229,230,231,232,233,234,235,236,237,238,239,240,241,242,243,244,245,246,247,248,249,250,251,252,253,254,255,256,257,258,259,260,261,262,263,264,265,266,267,268,269,270,271,272,273,274,275,276,277,278,279,280,281,282,283,284,285,286,287,288,289,290,291,292,293,294,295,296,297,298,299,300,301,302,303,304,305,306,307,308,309,310,311,312,313,314,315,316,317,318,319,320,321,322,323,324,325,326,327,328,329,330,331,332,333,334,335,336,337,338,339,340,341,342,343,344,345,346,347,348,349,350,351,352,353,354,355,356,357,358,359,360,361,362,363,364,365,366,367,368,369,370,371,372,373,374,375,376,377,378,379,380,381,382,383,384,385,386,387,388,389,390,391,392,393,394,395,396,397,398,399,400,401,402,403,404,405,406,407,408,409,410,411,412,413,414,415,416,417,418,419,420,421,422,423,424,425,426,427,428,429,430,431,432,433,434,435,436,437,438,439,440,441,442,443,444,445,446,447,448,449,450,451,452,453,454,455,456,457,458,459,460,461,462,463,464,465,466,467,468,469,470,471,472,473,474,475,476,477,478,479,480,481,482,483,484,485,486,487,488,489,490,491,492,493,494,495,496,497,498,499,500,501,502,503,504,505,506,507,508,509,510,511,512,513,514,515,516,517,518,519,520,521,522,523,524,525,526,527,528,529,530,531,532,533,534,535,536,537,538,539,540,541,542,543,544,545,546,547,548,549,550,551,552,553,554,555,556,557,558,559,560,561,562,563,564,565,566,567,568,569,570,571,572,573,574,575,576,577,578,579,580,581,582,583,584,585,586,587,588,589,590,591,592,593,594,595,596,597,598,599,600,601,602,603,604,605,606,607,608,609,610,611,612,613,614,615,616,617,618,619,620,621,622,623,624],\"tau_D04\":[210,1200,140,190,540,360,820,3800,1000,390,380,1800,310,2000,50000,220,56000,540,630000,610000,280,320,660,190,27000,22000,580,480,130,1300,28000,18000,1200,870,1100,460,800,340,160,200,18000,270,23000,400,1400,4900,50000,12000,400,150,500,2200,45000,480,2600,32000,320,260,300,3300,1100,49,2400,3200,990,350,1500,720,2000000,250,830,46000,7100,940,480,410,1100,210,160,120,4100,230,920,310,110,250,860,160,2800,2900,970,2200,670,2800,8400,590,260,54,730000,2100,360000,910,1900,1200,200000,530,580,2300,800,400,90000,84000,230,150,2300,160,200,13000,370,510,650,250,1200,63000,10000,630,860,920000,150,27000,1100,9000,360,370,390,45000,210,93,280,9000,150,3000,240,220,650,47000,230,15000,1900,8100,17000,340,3700,1200,360,45000,1200,220,220,320,8300,2900,2000,520,46000,230,300,2600,280,180,390,1900,3700,48000,1200,11000,1100,230,1100,3600,1100,480,1800000,180,2900,61000,450,280,240,46000,1900,46000,170,1500,1300,2100,670,9700,260,3000,150,230,590,3000000,270,90000,1200,5400,1200,7300,300,47000,330,620,500,580,200,17000,3500,180,820,82000,7200,190,46000,290,150,420,3600,1500,530,330,390,1800,63000,360,240,1800,5100,3800,1100,200,340000,1900,1200,2700,8300,170000,4200,470000,550,4200,580,270,260,280,1200,64,270,1900,590,4700,1100,160,6700,4300,47000,300,2800000,630000,440,630,280,32000,290,170000,73000,180,540000,860,39000,180,1900,120,550,4200,910000,400,340,250,9700,470,320,1300,210,200000,2100,590,4400,110,160,2500,220,380,310,420,700,990,78,1300,240,210,86000,720,2000,230,170,290,930,6200,240,930,630,81,4900,7000,200,850,240,250,1900,200,270,610,3000,260,280,210,360,390,860,330,470,2900,7700,460,1200,110,360,380,78,7200,81000,5400,510,78000,1800,2800,150,77,560,530000,260,270000,2000,84000,310,48000,36000,45000,550,1200,140,1200,7300,1300,420,980,1500,600,460,260,2400,6900,7200,2600,4400,530,4700,30000,370,2400,9900,1100,180,110,800,300,330,760,1800,620000,430,4000,350,310,490,190,550000,400,3900,270,660,2700,4100,730000,2900,2400,220,2200,6500,220,900,1600,150,750,290,650,440,2900,83000,980,450,500,500,2100,5300,1100,64,93000,250,1700,210,6600,400,78,5000,290,280,720,13000,1800,120000,240000,590,690000,200000,220,270,260,1200,220,50000,180,1500,2000,610,600,370,620,3500,9700,77000,71000,40000,2000,260,440,5500,47000,2500,8100,200000,920,1100,710000,330,47000,520,210,470,270,340,50000,430,470,5700,470,83,270000,3800,350,890,1200,280,390,570,270,400,18000,960,200,5400,260,3700,160,950,3300,310,190,860,290,270000,130,2800,2600,390,250000,1500,680,490,470,570,270,270,900000,250,5500,1000,230,720000,730000,420,1900,620,490,2600,360,1000,510,3500,430,1000,7300,2000,5500,270000,300,440,260,92000,190000,99000,220,360,320,3000,770,670,470,110,3700,240,250,8500,1100,140,190,180,1200,400,26000,300,830,180,330,200000,210,5000,890,1100,980,4000,120,310000,680,350,93000,710000,240,420,23000,280,3300000,480,170,9000,35000,42000,20000,240,1500,310,120,290,4100,47000,8900,200000,1600,270,520,7200,1200,73],\"tau_D1\":[19000000,3100000,1900000,4000000,9200000,9200000,21000000,2600000,1800000,21000000,1800000,12000000,5600000,21000000,9900000,240000,750000,21000000,4900000,17000000,14000000,200000,5500000,1700000,2000000,25000000,3100000,870000,2300000,4200000,14000000,19000000,28000000,22000000,11000000,2200000,9700000,2300000,9300000,5500000,6600000,13000000,11000000,14000000,2700000,22000000,28000000,4000000,12000000,5400000,880000,4900000,10000000,19000000,9700000,13000000,4300000,9100000,5600000,16000000,7000000,5800000,17000000,29000000,7300000,100000,19000000,340000,2000000,540000,850000,21000000,17000000,14000000,2800000,12000000,48000,14000000,5600000,14000000,28000000,420000,17000000,15000000,2000000,11000000,6100000,4000000,35000000,24000000,6800000,540000,29000000,6300000,12000000,14000000,5400000,420000,2200000,9600000,39000000,14000000,1100000,28000000,1100000,9700000,11000000,7300000,290000,3600000,7100000,8400000,920000,4000000,8000000,220000,7700000,13000000,5800000,8400000,8500000,20000000,650000,7200000,12000000,9600000,9600000,17000000,8300000,6600000,7700000,9100000,1700000,11000000,27000000,21000000,13000000,550000,1900000,5400000,1900000,36000000,4100000,4300000,13000000,14000000,2900000,4400000,17000000,4300000,23000000,5500000,28000000,29000000,4300000,9100000,14000000,4200000,9700000,7000000,30000000,28000000,19000000,5900000,9400000,22000000,4900000,5400000,1900000,12000000,10000000,20000000,22000000,27000000,4800000,51000,880000,1700000,1100000,26000000,19000000,25000000,4900000,21000000,8200000,2300000,24000000,12000000,4200000,13000000,21000000,2900000,280000,28000000,5800000,950000,24000000,28000000,12000000,14000000,9900000,4300000,10000000,11000000,860000,4900000,32000000,630000,3600000,4200000,20000000,5100000,1800000,2400000,26000000,13000000,4900000,13000000,4100000,21000000,1800000,4900000,13000000,4100000,5200000,9400000,16000000,5500000,1800000,9600000,36000000,5400000,4000000,11000000,5400000,1900000,4300000,9700000,19000,23000000,250000,22000000,21000000,4300000,1800000,20000000,8500000,26000000,21000000,27000000,26000000,750000,6900000,3000000,1700000,12000000,28000000,2600000,5400000,9700000,13000000,11000000,19000000,21000000,20000000,3600000,17000000,240000,24000000,4200000,3000000,5900000,630000,7100000,5400000,12000000,2600000,37000000,9900000,18000000,25000000,2400000,29000000,4000000,13000000,24000000,5000000,14000000,11000000,9100000,14000000,5000000,5400000,4500000,42000000,11000000,370000,19000000,26000000,3300000,11000000,12000000,14000000,5100000,5800000,430000,2000000,6000000,8900000,13000000,5500000,3600000,17000000,7600000,5400000,730000,21000000,12000000,4300000,10000000,5200000,5000000,8800000,9900000,19000000,13000000,21000000,21000000,14000000,3000000,19000000,12000000,14000000,17000000,14000000,3800000,14000000,12000000,4700000,14000000,6900000,1800000,280000,29000000,4100000,2400000,5500000,440,220000,1900000,23000000,11000000,7100000,11000000,400000,28000000,2900000,4000000,4000000,4900000,5900000,9600000,9700,680000,13000000,19000000,7700000,9600000,27000000,9900000,430000,9400000,220000,9700000,11000000,540000,12000000,150000,9700000,23000000,9300000,280000,28000000,20000000,5400000,5700000,25000000,22000000,13000000,14000000,21000000,5200000,4500000,5900000,8800000,100000,140000,4200000,360000,9600000,3500000,14000000,8900000,21000000,5400000,2000000,6400000,9900000,4300000,6100000,2600000,6200000,4900000,13000000,26000000,4300000,7000000,2300000,16000000,7300000,20000000,3200000,3100000,3500000,9900000,20000000,12000000,490000,4300000,28000000,9600000,4300000,1400000,660000,14000000,33000000,13000000,24000000,9900000,10000000,6100000,11000000,20000000,9600000,120000,4300000,6300000,2000000,1900000,17000000,9900000,5100000,19000000,25000000,10000000,26000000,4000000,22000000,2800000,2300000,710000,9600000,14000000,160000,9500000,20000000,12000000,780000,11000000,180000,1300000,13000000,9200000,6900000,16000000,100000,960000,220000,2800000,7100000,16000000,14000000,5800000,920000,13000000,14000000,4400000,14000000,5100000,4300000,7100000,12000000,4400000,2600000,1900000,39000000,34000000,730000,440000,9600000,7000000,4500000,14000000,7900000,6100000,4300000,9600000,3600000,11000000,9800000,5900000,7200000,7300000,19000000,1800000,14000000,5800000,9600000,750000,3000000,640000,1400000,9900000,390000,19000000,21000000,4000000,2600000,4000000,17000000,2800000,12000000,8700000,6900000,150000,1800000,11000000,4300000,25000000,9200000,33000000,19000000,920000,9800000,7100000,4900,6800,330000,360000,21000000,9900000,15000000,7100000,26000000,780000,2000000,420000,5000000,1900000,10000000,45000000,9700000,18000000,230000,5400000,39000000,28000000,330000,8200000,9800000,98000,13000000,5600000,21000000,34000000,3100000,14000000,9700000,420000,7700000,29000000,11000000,9300000,32000000,1900000,23000000,15000000,230000,14000000,22000000,24000000,3100000,7700000,28000000,14000000,640000,33000000,6100000,12000000,26000000,360000,11000000,3000000,13000000,13000000,11000000,9700000,4200000,13000000,32000000,13000000,16000000,15000000,9100000,27000000,17000000,9900000,14000000,17000000,22000000,8200000,7700000,5400000,14000000,8400000],\"tau_DL04\":[17000000,3000000,910000,3800000,9100000,8700000,19000000,1100000,1700000,19000000,1700000,9400000,5200000,19000000,9800000,210000,140000,18000000,4800000,13000000,9700000,150000,4900000,1400000,1700000,23000000,1900000,860000,930000,3700000,9900000,13000000,14000000,9800000,9700000,2000000,9300000,720000,9000000,5400000,6300000,6700000,10000000,9000000,2600000,13000000,27000000,3900000,9600000,4000000,820000,3900000,9600000,17000000,8600000,9000000,3600000,8600000,4300000,9700000,5500000,5200000,13000000,28000000,6700000,50000,9000000,280000,4294967295,510000,430000,13000000,9300000,9600000,2700000,11000000,46000,9700000,5400000,13000000,27000000,290000,13000000,13000000,1700000,8700000,5100000,3900000,32000000,22000000,6300000,510000,26000000,5900000,9500000,11000000,5100000,370000,1800000,9500000,38000000,10000000,970000,15000000,320000,9600000,9200000,6300000,220000,2900000,5900000,6900000,830000,3900000,7000000,210000,7200000,9700000,5700000,4600000,8300000,16000000,630000,4500000,9600000,9400000,9200000,14000000,4800000,5800000,7200000,9000000,960000,9100000,14000000,20000000,9900000,530000,500000,4900000,1600000,35000000,3800000,4100000,11000000,9400000,2500000,4200000,13000000,4200000,20000000,5100000,25000000,25000000,3900000,7000000,11000000,3900000,6700000,4100000,26000000,27000000,17000000,4200000,5400000,9500000,4300000,5200000,1300000,9700000,9600000,19000000,9600000,19000000,4100000,50000,200000,980000,950000,22000000,11000000,20000000,4700000,14000000,5300000,1700000,20000000,9600000,4100000,12000000,19000000,2700000,220000,21000000,5500000,910000,23000000,26000000,11000000,12000000,9600000,4000000,9500000,9700000,750000,4000000,29000000,610000,2900000,4000000,11000000,4600000,1700000,1100000,12000000,11000000,4300000,9400000,4000000,16000000,1500000,4400000,11000000,3200000,4100000,9100000,12000000,4000000,1700000,8600000,29000000,4700000,3200000,9800000,5300000,1800000,3900000,9500000,11000,22000000,210000,19000000,17000000,4000000,1700000,17000000,5300000,22000000,17000000,24000000,23000000,740000,5800000,1900000,300000,9800000,23000000,2000000,5000000,9600000,11000000,9400000,9300000,18000000,17000000,2900000,13000000,150000,21000000,4000000,2800000,5200000,620000,3500000,4900000,11000000,1600000,35000000,9600000,8800000,21000000,1700000,26000000,3200000,9900000,9500000,4800000,9400000,9600000,8400000,9000000,4600000,4900000,3900000,37000000,10000000,310000,17000000,11000000,2800000,7700000,11000000,9700000,1600000,5200000,230000,1800000,5300000,8400000,9700000,5400000,2900000,12000000,7400000,4800000,470000,18000000,9500000,3300000,9400000,4800000,2900000,5400000,9700000,16000000,9900000,19000000,19000000,9900000,2900000,17000000,9500000,9700000,16000000,13000000,2000000,9500000,9900000,4000000,9700000,6300000,1200000,240000,9400000,3700000,900000,4100000,170,170000,1800000,21000000,9700000,7000000,9300000,390000,24000000,2400000,3800000,3500000,4800000,5800000,8900000,8700,640000,9700000,10000000,7200000,5400000,22000000,9800000,350000,8400000,200000,9600000,6200000,220000,9500000,84000,9400000,18000000,9100000,250000,26000000,19000000,4800000,4900000,20000000,17000000,9400000,9700000,20000000,4600000,4100000,4200000,5400000,96000,120000,1200000,310000,8200000,2900000,9900000,5400000,13000000,4700000,48000,2600000,9300000,3900000,5000000,2400000,4800000,4800000,9500000,20000000,4100000,4500000,960000,11000000,7200000,13000000,1400000,2900000,3300000,9600000,9700000,9700000,400000,3800000,27000000,9100000,3300000,1100000,580000,9900000,23000000,9900000,17000000,9600000,9600000,4900000,9000000,11000000,5400000,110000,1900000,5200000,860000,1800000,9600000,9600000,4000000,15000000,19000000,9600000,24000000,3500000,20000000,2400000,1900000,620000,9100000,11000000,140000,9300000,19000000,9400000,600000,9700000,140000,1100000,11000000,5800000,6800000,9600000,93000,460000,140000,2700000,5200000,12000000,9900000,4700000,810000,6000000,9700000,3900000,9900000,4200000,3900000,4900000,9700000,4300000,2400000,1200000,28000000,31000000,590000,420000,9400000,5300000,4200000,12000000,7600000,5800000,4100000,9500000,2900000,7900000,9600000,5800000,7000000,6800000,18000000,1700000,13000000,2000000,9400000,700000,2600000,280000,980000,9100000,140000,13000000,19000000,3700000,1600000,3900000,13000000,2000000,9100000,8500000,6000000,90000,1700000,7500000,3600000,12000000,7500000,32000000,14000000,840000,8700000,4900000,4500,5900,280000,320000,20000000,8900000,14000000,6300000,23000000,760000,1900000,290000,4800000,1800000,9900000,38000000,9600000,15000000,210000,4800000,36000000,27000000,290000,5000000,9400000,94000,9800000,5400000,9300000,27000000,3000000,9900000,9400000,370000,7500000,27000000,9600000,9200000,18000000,910000,17000000,9900000,210000,9900000,21000000,23000000,3000000,7000000,21000000,11000000,480000,32000000,5800000,9800000,16000000,320000,9700000,2000000,9400000,12000000,9700000,7600000,3600000,10000000,29000000,12000000,14000000,13000000,9000000,14000000,12000000,9600000,9300000,9700000,20000000,4300000,7500000,3300000,9900000,8200000],\"tau_T2\":[11000000,11000000,17000000,8600000,9200000,28000000,24000000,24000000,9900000,41000000,17000000,65000000,39000000,75000000,13000000,80000000,5400000,21000000,5400000,25000000,97000000,130000000,12000000,5600000,46000000,36000000,12000000,9300000,14000000,48000000,26000000,25000000,28000000,31000000,12000000,18000000,13000000,20000000,35000000,92000000,7500000,38000000,39000000,14000000,450000,17000000,170000000,17000000,15000000,140000000,31000000,13000000,48000000,10000000,33000000,12000000,29000000,5800000,16000000,28000000,37000000,49000000,51000000,13000000,76000000,2100000,7100000,15000000,4400000,1200000,14000000,98000000,33000000,29000000,10000000,34000000,18000000,19000000,7300000,13000000,66000000,1900000,25000000,40000000,19000000,29000000,49000000,43000000,48000000,29000000,5400000,400000,97000000,25000000,13000000,83000000,16000000,9700000,27000000,13000000,51000000,14000000,37000000,31000000,23000000,13000000,20000000,36000000,13000000,14000000,99000000,42000000,8400000,40000000,18000000,38000000,12000000,28000000,5800000,53000000,33000000,77000000,37000000,8300000,12000000,47000000,47000000,17000000,50000000,16000000,7900000,12000000,47000000,12000000,26000000,8500000,33000000,19000000,27000000,29000000,56000000,76000000,2000000,15000000,35000000,47000000,21000000,7600000,17000000,73000000,82000000,4200000,6900000,43000000,5600000,48000000,13000000,4000000,11000000,22000000,39000000,53000000,23000000,30000000,32000000,50000000,5800000,46000000,9900000,65000000,22000000,5400000,29000000,32000000,4300000,84000000,13000000,1800000,25000000,18000000,37000000,130000000,20000000,58000000,16000000,22000000,26000000,9500000,19000000,40000000,22000000,9100000,2400000,21000000,17000000,5700000,73000000,28000000,6900000,80000000,24000000,57000000,59000000,53000000,22000000,5400000,29000000,20000000,56000000,34000000,4000000,130000000,18000000,57000000,26000000,47000000,48000000,50000000,5800000,24000000,21000000,16000000,34000000,50000000,5700000,27000000,22000000,60000000,22000000,34000000,23000000,24000000,1200000,34000000,94000000,28000000,3500000,29000000,19000000,28000000,7000000,21000000,33000000,21000000,44000000,22000000,28000000,68000000,25000000,15000000,37000000,6300000,53000000,44000000,47000000,36000000,57000000,56000000,4500000,12000000,14000000,49000000,30000000,37000000,66000000,18000000,40000000,9900000,23000000,4400000,28000000,34000000,25000000,57000000,20000000,34000000,18000000,73000000,16000000,39000000,120000000,52000000,2300000,52000000,140000000,73000000,29000000,14000000,36000000,43000000,28000000,4700000,430000,26000000,57000000,25000000,21000000,18000000,7700000,5800000,11000000,16000000,20000000,15000000,2000000,1900000,3900000,37000000,5100000,34000000,440000,18000000,4000000,56000000,14000000,9100000,61000000,12000000,29000000,21000000,6400000,15000000,160000000,48000000,55000000,11000000,63000000,9600000,19000000,29000000,61000000,72000000,120000000,110000,40000000,71000000,25000000,25000000,26000000,150000000,89000000,9700000,2900000,29000000,67000,12000000,4200000,39000000,38000000,21000000,47000000,34000000,46000000,13000000,37000000,36000000,13000000,15000000,28000000,9400000,43000000,52000000,48000000,29000000,38000000,22000000,11000000,34000000,120000000,1400000,1100000,26000000,3900,18000000,43000000,65000000,250000000,50000000,68000000,28000000,22000000,9100000,92000000,8400000,58000000,7500000,6900000,19000000,40000000,29000000,59000000,24000000,44000000,5700000,57000000,9600000,1700000,66000000,46000000,17000000,46000000,27000000,31000000,28000000,5400000,13000000,34000000,120000000,7700000,9500000,12000000,37000000,33000000,36000000,47000000,17000000,39000000,1500000,440000,6000000,9200000,13000000,26000000,8400000,97000000,78000000,83000000,2900000,2900000,91000000,21000000,13000000,4400000,27000000,300000,72000000,34000000,37000000,33000000,81000000,38000000,31000000,32000000,21000000,24000000,9900000,29000000,28000000,4200000,25000000,11000000,76000000,14000000,2900000,36000000,68000000,33000000,27000000,43000000,70000000,76000000,28000000,25000000,1300000,24000000,19000000,31000000,9700000,48000000,30000000,76000000,23000000,9400000,20000000,18000000,20000000,9100000,1200000,4900000,60000000,57000000,20000000,5900000,8400000,79000000,12000000,5400000,20000000,30000000,41000000,38000000,79000000,36000000,33000000,13000000,3500000,57000000,3600000,62000000,19000000,77000000,61000000,6900000,8400000,15000000,41000000,1400000,4800000,4200000,11000000,46000000,19000000,33000000,13000000,5800000,15000000,9300000,61000000,15000000,18000000,4400000,4200000,9700000,55000000,27000000,16000000,17000000,49000000,33000000,60000000,18000000,12000000,48000000,26000000,5100000,8300000,29000000,34000000,78000000,9200000,33000000,30000000,37000000,25000000,46000000,16000000,490000,4700000,2300000,21000000,14000000,24000000,7900000,26000000,19000000,2800000,37000000,3800000,9000000,9200000,64000000,23000000,18000000,20000000,50000000,47000000,65000000,44000000,32000000,78000000,5900000,28000000,50000000,27000000,91000000,29000000,9200000,11000000,19000000,34000000,5600000,1300000,33000000,25000000,47000000,32000000,25000000,29000000,53000000,800000,3100000,25000000,7100000,52000000,17000000,28000000,46000000,34000000,29000000,16000000,9300000,20000000,12000000,80000000,9500000,76000000,81000000,24000000,27000000,51000000,65000000,40000000,14000000,3000000,35000000,3100000,26000000,23000000,74000000,21000000,26000000,7800000,2500000,6200000,8400000],\"tau_T3\":[11000000,11000000,9600000,8600000,7600000,28000000,22000000,5500000,9900000,41000000,17000000,65000000,33000000,29000000,11000000,4100000,5400000,21000000,5400000,17000000,85000000,95000000,12000000,4400000,46000000,34000000,12000000,1100000,14000000,48000000,26000000,5000000,19000000,27000000,530000,18000000,4500000,2500000,33000000,35000000,7500000,29000000,36000000,14000000,400000,9400000,41000000,3900000,11000000,21000000,2800000,8500000,15000000,10000000,32000000,12000000,29000000,5800000,8900000,28000000,5600000,15000000,9600000,13000000,6900000,2100000,7100000,4900000,4100000,980000,13000000,60000000,4100000,28000000,7100000,32000000,18000000,18000000,6500000,7100000,57000000,1800000,17000000,16000000,18000000,20000000,14000000,37000000,47000000,24000000,5400000,230000,77000000,25000000,13000000,4300000,16000000,9600000,9000000,3400000,51000000,14000000,19000000,31000000,22000000,9600000,20000000,11000000,12000000,13000000,8000000,4800000,3800000,38000000,16000000,38000000,9600000,14000000,5500000,52000000,18000000,20000000,36000000,4200000,11000000,33000000,17000000,17000000,480000,8000000,7600000,2600000,43000000,12000000,13000000,8500000,32000000,2700000,25000000,4100000,38000000,51000000,1800000,14000000,22000000,46000000,21000000,7600000,17000000,66000000,23000000,4200000,4900000,4200000,5300000,25000000,32000,4000000,8500000,8300000,280000,28000000,21000000,30000000,25000000,50000000,5400000,46000000,5700000,59000000,22000000,5400000,3100000,14000000,4300000,19000000,13000000,1800000,19000000,18000000,33000000,57000000,16000000,31000000,16000000,9800000,21000000,4300000,4200000,29000000,21000000,4000000,2400000,9600000,5500000,1300000,49000000,26000000,1100000,61000000,24000000,4900000,20000000,12000000,21000000,5400000,11000000,9900000,55000000,5900000,4000000,65000000,18000000,4400000,26000000,27000000,5300000,35000000,5700000,23000000,1800000,4200000,34000000,14000000,5200000,26000000,17000000,57000000,16000000,8500000,23000000,24000000,1200000,34000000,5700000,2900000,3300000,9200000,12000000,28000000,4700000,21000000,19000000,13000000,5800000,22000000,14000000,66000000,21000000,14000000,36000000,5700000,5900000,18000000,41000000,36000000,57000000,46000000,4100000,12000000,13000000,23000000,30000000,28000000,65000000,18000000,40000000,4200000,23000000,4100000,1800000,30000000,25000000,8400000,12000000,28000000,18000000,57000000,16000000,250000,18000000,40000000,2100000,4000000,82000000,4800000,28000000,14000000,34000000,26000000,28000000,4700000,210000,26000000,3800000,25000000,16000000,18000000,5500000,740000,11000000,9600000,11000000,1600000,2000000,420000,2700000,2800000,4900000,31000000,430000,18000000,3900000,12000000,14000000,7600000,27000000,12000000,12000000,20000000,2700000,15000000,16000000,12000000,53000000,11000000,36000000,9300000,17000000,29000000,40000000,32000000,95000000,74000,38000000,71000000,9200000,10000000,26000000,49000000,18000000,5600000,1900000,28000000,63000,19000,4200000,33000000,26000000,13000000,28000000,34000000,14000000,13000000,2100000,16000000,8100000,8800000,28000000,9200000,42000000,34000000,48000000,20000000,38000000,16000000,10000000,33000000,46000000,1400000,290000,21000000,3100,18000000,36000000,570000,51000000,38000000,26000000,28000000,22000000,9100000,18000000,7500000,5000000,7500000,6900000,19000000,7500000,29000000,47000000,5800000,38000000,4200000,30000000,8600000,1700000,1700000,380000,15000000,46000000,3000000,30000000,28000000,3700000,13000000,27000000,40000000,6000000,9300000,4700000,13000000,2700000,13000000,47000000,17000000,27000000,1300000,430000,770000,9200000,13000000,5700000,3500000,55000000,8500000,26000000,660000,2900000,68000000,13000000,12000000,1700000,12000000,300000,21000000,21000000,32000000,11000000,23000000,32000000,28000000,21000000,21000000,15000000,5200000,25000000,15000000,4100000,19000000,9900000,45000000,13000000,2600000,28000000,50000000,29000000,22000000,23000000,37000000,30000000,28000000,19000000,580000,24000000,19000000,30000000,9100000,9500000,5800000,1100000,7500000,9400000,9300000,12000000,18000000,1700000,980000,2900000,60000000,16000000,3600000,5800000,8000000,570000,12000000,5400000,15000000,22000000,33000000,9800000,33000000,8700000,21000000,13000000,3400000,34000000,490000,8400000,9100000,77000000,51000000,4500000,5600000,11000000,5400000,1100000,4300000,3900000,6600000,34000000,16000000,12000000,13000000,4000000,11000000,9300000,61000000,2800000,18000000,290000,2600000,9100000,35000000,20000000,16000000,3200000,44000000,18000000,59000000,18000000,12000000,26000000,26000000,4600000,4200000,210000,34000000,78000000,4300000,33000000,22000000,16000000,25000000,11000000,2800000,460000,340000,320000,21000000,14000000,19000000,7800000,22000000,17000000,60000,15000000,3600000,6100000,5500000,52000000,16000000,17000000,14000000,43000000,39000000,51000000,4900000,14000000,46000000,5800000,14000000,28000000,5900000,37000000,4700000,7900000,11000000,9100000,1400000,5200000,850000,2200000,25000000,4100000,30000000,25000000,3100000,50000000,800000,3100000,7100000,7100000,52000000,17000000,24000000,40000000,25000000,12000000,16000000,310000,20000000,12000000,32000000,9500000,27000000,35000000,10000000,27000000,42000000,7600000,8800000,13000000,3000000,35000000,3100000,26000000,12000000,17000000,20000000,8700000,5600000,74000,5900000,8400000],\"tau_T4\":[11000000,250000,8900000,8600000,7500000,28000000,22000000,170000,1800000,9300000,17000000,65000000,28000000,29000000,50000,3500000,5400000,21000000,4300000,17000000,40000000,95000000,12000000,2400000,18000000,34000000,12000000,860000,12000000,6000000,16000000,5000000,9500000,9900000,530000,17000000,2600000,1900000,33000000,19000000,7500000,29000000,13000000,14000000,18000,9400000,41000000,3900000,11000000,21000000,2700000,8500000,13000000,9800000,32000000,12000000,29000000,3300000,8600000,12000000,5500000,15000000,9600000,10000000,3900000,530000,430000,1700000,4100000,240000,13000000,59000000,3200000,14000000,2700000,31000000,18000000,18000000,6500000,7100000,55000000,390000,17000000,16000000,18000000,490000,11000000,8500000,19000000,23000000,5400000,220000,14000000,5600000,6000000,4200000,5600000,9500000,9000000,2800000,3000000,11000000,19000000,9500000,22000000,9600000,12000000,8900000,12000000,13000000,5600000,4700000,3000000,8500000,8500000,16000000,9200000,14000000,4800000,47000000,16000000,2900000,640000,3800000,11000000,33000000,16000000,17000000,480000,6100000,6100000,2600000,43000000,11000000,13000000,8500000,32000000,630000,1700000,4100000,2400000,51000000,1800000,4100000,22000000,46000000,9200000,7100000,17000000,25000000,23000000,4200000,4900000,4200000,5300000,20000000,32000,51000,3400000,7500000,260000,28000000,21000000,30000000,20000000,50000000,5400000,4100000,5700000,52000000,21000000,4000000,3100000,14000000,4300000,260000,13000000,1800000,9300000,18000000,32000000,38000000,5400000,31000000,16000000,4400000,21000000,4300000,4000000,29000000,21000000,4000000,2400000,9600000,5200000,1300000,48000000,23000000,1100000,16000000,24000000,4300000,20000000,12000000,970000,5300000,11000000,9900000,53000000,4900000,4000000,5100000,18000000,4200000,7000000,23000000,5300000,34000000,5100000,23000000,560000,4200000,32000000,12000000,5200000,26000000,17000000,5400000,15000000,7500000,23000000,24000000,1200000,34000000,5600000,2800000,3300000,9200000,9900000,25000000,4700000,21000000,17000000,9200000,1900000,21000000,14000000,9600000,21000000,14000000,35000000,5700000,5900000,1900000,17000000,36000000,50000000,32000000,4100000,11000000,13000000,23000000,29000000,28000000,52000000,18000000,27000000,2400000,23000000,4100000,1800000,28000000,7000000,3600000,5300000,28000000,18000000,51000000,16000000,230000,18000000,40000000,2100000,2600000,57000000,4800000,4800000,14000000,9100000,6800,27000000,4700000,210000,26000000,3700000,25000000,15000000,18000000,5500000,120000,11000000,9600000,9700000,1400000,2000000,280000,2700000,1900000,4300000,23000000,430000,18000000,3900000,11000000,14000000,840000,27000000,12000000,12000000,20000000,2700000,15000000,16000000,12000000,51000000,11000000,33000000,9300000,11000000,3600000,39000000,9700000,40000000,55000,38000000,4100000,9200000,5800000,25000000,47000000,13000000,5600000,350000,28000000,63000,6600,4200000,29000000,1200000,13000000,28000000,26000000,8500000,13000000,650000,14000000,2000000,2600000,26000000,7400000,37000000,31000000,7100000,20000000,36000000,7200000,10000000,33000000,44000000,1400000,280000,21000000,2900,18000000,19000000,280000,29000000,710000,26000000,28000000,960000,3100000,5000000,7500000,5000000,5200000,5500000,19000000,5500000,28000000,27000000,5700000,8400000,630000,30000000,8600000,1700000,230000,320000,13000000,46000000,1800000,3000000,28000000,3700000,13000000,21000000,34000000,6000000,9300000,4200000,13000000,2700000,13000000,36000000,17000000,8800000,1300000,430000,480000,640000,320000,4200000,3500000,49000000,8500000,25000000,490000,2900000,52000000,13000000,12000000,1500000,12000000,300000,21000000,21000000,32000000,11000000,23000000,32000000,28000000,20000000,21000000,4600000,4300000,25000000,14000000,4000000,14000000,9900000,45000000,13000000,2600000,27000000,50000000,5800000,22000000,2600000,1500000,30000000,27000000,18000000,270000,24000000,9100000,5700000,4000000,9500000,5800000,1100000,5700000,7400000,9300000,12000000,8000000,480000,260000,2900000,27000000,9600000,3600000,5800000,1000000,560000,12000000,5300000,14000000,17000000,9000000,5400000,12000000,8500000,21000000,12000000,2300000,34000000,490000,470000,9100000,33000000,48000000,4500000,940000,11000000,4300000,1100000,4000000,3900000,6600000,25000000,9700000,11000000,12000000,4000000,11000000,190000,36000000,1700000,18000000,290000,260000,9100000,6000000,20000000,16000000,3200000,300000,8100000,290000,18000000,11000000,26000000,26000000,560000,3700000,210000,28000000,12000000,4300000,29000000,20000000,12000000,25000000,11000000,2800000,250000,340000,240000,21000000,13000000,12000000,39000,16000000,640000,48000,9200000,3600000,5800000,4900000,51000000,13000000,14000000,6500,33000000,39000000,48000000,4800000,14000000,34000000,5800000,12000000,23000000,5500000,35000000,3100000,7900000,11000000,470000,710000,5200000,820000,410000,22000000,910000,19000000,25000000,3100000,34000000,800000,3100000,3200000,7100000,52000000,14000000,24000000,28000000,15000000,12000000,15000000,310000,12000000,12000000,32000000,9500000,27000000,33000000,5000000,8700000,510000,7600000,8800000,12000000,2400000,28000000,300000,500000,12000000,17000000,20000000,8700000,5600000,73000,5900000,8000000]},\"selected\":{\"id\":\"1297\",\"type\":\"Selection\"},\"selection_policy\":{\"id\":\"1298\",\"type\":\"UnionRenderers\"}},\"id\":\"1267\",\"type\":\"ColumnDataSource\"},{\"attributes\":{\"callback\":null},\"id\":\"1221\",\"type\":\"DataRange1d\"},{\"attributes\":{},\"id\":\"1241\",\"type\":\"ResetTool\"},{\"attributes\":{},\"id\":\"1298\",\"type\":\"UnionRenderers\"},{\"attributes\":{\"label\":{\"value\":\"T3\"},\"renderers\":[{\"id\":\"1271\",\"type\":\"GlyphRenderer\"}]},\"id\":\"1282\",\"type\":\"LegendItem\"},{\"attributes\":{},\"id\":\"1329\",\"type\":\"Selection\"},{\"attributes\":{},\"id\":\"1242\",\"type\":\"HelpTool\"},{\"attributes\":{\"source\":{\"id\":\"1267\",\"type\":\"ColumnDataSource\"}},\"id\":\"1272\",\"type\":\"CDSView\"},{\"attributes\":{},\"id\":\"1330\",\"type\":\"UnionRenderers\"},{\"attributes\":{},\"id\":\"1280\",\"type\":\"UnionRenderers\"},{\"attributes\":{\"source\":{\"id\":\"1252\",\"type\":\"ColumnDataSource\"}},\"id\":\"1257\",\"type\":\"CDSView\"},{\"attributes\":{},\"id\":\"1225\",\"type\":\"LinearScale\"},{\"attributes\":{\"axis_label\":\"tau_L\",\"formatter\":{\"id\":\"1261\",\"type\":\"BasicTickFormatter\"},\"plot\":{\"id\":\"1218\",\"subtype\":\"Figure\",\"type\":\"Plot\"},\"ticker\":{\"id\":\"1228\",\"type\":\"BasicTicker\"}},\"id\":\"1227\",\"type\":\"LinearAxis\"},{\"attributes\":{\"axis_label\":\"tau_Tn\",\"formatter\":{\"id\":\"1263\",\"type\":\"BasicTickFormatter\"},\"plot\":{\"id\":\"1218\",\"subtype\":\"Figure\",\"type\":\"Plot\"},\"ticker\":{\"id\":\"1233\",\"type\":\"BasicTicker\"}},\"id\":\"1232\",\"type\":\"LinearAxis\"},{\"attributes\":{\"bottom_units\":\"screen\",\"fill_alpha\":{\"value\":0.5},\"fill_color\":{\"value\":\"lightgrey\"},\"left_units\":\"screen\",\"level\":\"overlay\",\"line_alpha\":{\"value\":1.0},\"line_color\":{\"value\":\"black\"},\"line_dash\":[4,4],\"line_width\":{\"value\":2},\"plot\":null,\"render_mode\":\"css\",\"right_units\":\"screen\",\"top_units\":\"screen\"},\"id\":\"1245\",\"type\":\"BoxAnnotation\"},{\"attributes\":{\"callback\":null,\"data\":{\"index\":[0,1,2,3,4,5,6,7,8,9,10,11,12,13,14,15,16,17,18,19,20,21,22,23,24,25,26,27,28,29,30,31,32,33,34,35,36,37,38,39,40,41,42,43,44,45,46,47,48,49,50,51,52,53,54,55,56,57,58,59,60,61,62,63,64,65,66,67,68,69,70,71,72,73,74,75,76,77,78,79,80,81,82,83,84,85,86,87,88,89,90,91,92,93,94,95,96,97,98,99,100,101,102,103,104,105,106,107,108,109,110,111,112,113,114,115,116,117,118,119,120,121,122,123,124,125,126,127,128,129,130,131,132,133,134,135,136,137,138,139,140,141,142,143,144,145,146,147,148,149,150,151,152,153,154,155,156,157,158,159,160,161,162,163,164,165,166,167,168,169,170,171,172,173,174,175,176,177,178,179,180,181,182,183,184,185,186,187,188,189,190,191,192,193,194,195,196,197,198,199,200,201,202,203,204,205,206,207,208,209,210,211,212,213,214,215,216,217,218,219,220,221,222,223,224,225,226,227,228,229,230,231,232,233,234,235,236,237,238,239,240,241,242,243,244,245,246,247,248,249,250,251,252,253,254,255,256,257,258,259,260,261,262,263,264,265,266,267,268,269,270,271,272,273,274,275,276,277,278,279,280,281,282,283,284,285,286,287,288,289,290,291,292,293,294,295,296,297,298,299,300,301,302,303,304,305,306,307,308,309,310,311,312,313,314,315,316,317,318,319,320,321,322,323,324,325,326,327,328,329,330,331,332,333,334,335,336,337,338,339,340,341,342,343,344,345,346,347,348,349,350,351,352,353,354,355,356,357,358,359,360,361,362,363,364,365,366,367,368,369,370,371,372,373,374,375,376,377,378,379,380,381,382,383,384,385,386,387,388,389,390,391,392,393,394,395,396,397,398,399,400,401,402,403,404,405,406,407,408,409,410,411,412,413,414,415,416,417,418,419,420,421,422,423,424,425,426,427,428,429,430,431,432,433,434,435,436,437,438,439,440,441,442,443,444,445,446,447,448,449,450,451,452,453,454,455,456,457,458,459,460,461,462,463,464,465,466,467,468,469,470,471,472,473,474,475,476,477,478,479,480,481,482,483,484,485,486,487,488,489,490,491,492,493,494,495,496,497,498,499,500,501,502,503,504,505,506,507,508,509,510,511,512,513,514,515,516,517,518,519,520,521,522,523,524,525,526,527,528,529,530,531,532,533,534,535,536,537,538,539,540,541,542,543,544,545,546,547,548,549,550,551,552,553,554,555,556,557,558,559,560,561,562,563,564,565,566,567,568,569,570,571,572,573,574,575,576,577,578,579,580,581,582,583,584,585,586,587,588,589,590,591,592,593,594,595,596,597,598,599,600,601,602,603,604,605,606,607,608,609,610,611,612,613,614,615,616,617,618,619,620,621,622,623,624],\"tau_D04\":[210,1200,140,190,540,360,820,3800,1000,390,380,1800,310,2000,50000,220,56000,540,630000,610000,280,320,660,190,27000,22000,580,480,130,1300,28000,18000,1200,870,1100,460,800,340,160,200,18000,270,23000,400,1400,4900,50000,12000,400,150,500,2200,45000,480,2600,32000,320,260,300,3300,1100,49,2400,3200,990,350,1500,720,2000000,250,830,46000,7100,940,480,410,1100,210,160,120,4100,230,920,310,110,250,860,160,2800,2900,970,2200,670,2800,8400,590,260,54,730000,2100,360000,910,1900,1200,200000,530,580,2300,800,400,90000,84000,230,150,2300,160,200,13000,370,510,650,250,1200,63000,10000,630,860,920000,150,27000,1100,9000,360,370,390,45000,210,93,280,9000,150,3000,240,220,650,47000,230,15000,1900,8100,17000,340,3700,1200,360,45000,1200,220,220,320,8300,2900,2000,520,46000,230,300,2600,280,180,390,1900,3700,48000,1200,11000,1100,230,1100,3600,1100,480,1800000,180,2900,61000,450,280,240,46000,1900,46000,170,1500,1300,2100,670,9700,260,3000,150,230,590,3000000,270,90000,1200,5400,1200,7300,300,47000,330,620,500,580,200,17000,3500,180,820,82000,7200,190,46000,290,150,420,3600,1500,530,330,390,1800,63000,360,240,1800,5100,3800,1100,200,340000,1900,1200,2700,8300,170000,4200,470000,550,4200,580,270,260,280,1200,64,270,1900,590,4700,1100,160,6700,4300,47000,300,2800000,630000,440,630,280,32000,290,170000,73000,180,540000,860,39000,180,1900,120,550,4200,910000,400,340,250,9700,470,320,1300,210,200000,2100,590,4400,110,160,2500,220,380,310,420,700,990,78,1300,240,210,86000,720,2000,230,170,290,930,6200,240,930,630,81,4900,7000,200,850,240,250,1900,200,270,610,3000,260,280,210,360,390,860,330,470,2900,7700,460,1200,110,360,380,78,7200,81000,5400,510,78000,1800,2800,150,77,560,530000,260,270000,2000,84000,310,48000,36000,45000,550,1200,140,1200,7300,1300,420,980,1500,600,460,260,2400,6900,7200,2600,4400,530,4700,30000,370,2400,9900,1100,180,110,800,300,330,760,1800,620000,430,4000,350,310,490,190,550000,400,3900,270,660,2700,4100,730000,2900,2400,220,2200,6500,220,900,1600,150,750,290,650,440,2900,83000,980,450,500,500,2100,5300,1100,64,93000,250,1700,210,6600,400,78,5000,290,280,720,13000,1800,120000,240000,590,690000,200000,220,270,260,1200,220,50000,180,1500,2000,610,600,370,620,3500,9700,77000,71000,40000,2000,260,440,5500,47000,2500,8100,200000,920,1100,710000,330,47000,520,210,470,270,340,50000,430,470,5700,470,83,270000,3800,350,890,1200,280,390,570,270,400,18000,960,200,5400,260,3700,160,950,3300,310,190,860,290,270000,130,2800,2600,390,250000,1500,680,490,470,570,270,270,900000,250,5500,1000,230,720000,730000,420,1900,620,490,2600,360,1000,510,3500,430,1000,7300,2000,5500,270000,300,440,260,92000,190000,99000,220,360,320,3000,770,670,470,110,3700,240,250,8500,1100,140,190,180,1200,400,26000,300,830,180,330,200000,210,5000,890,1100,980,4000,120,310000,680,350,93000,710000,240,420,23000,280,3300000,480,170,9000,35000,42000,20000,240,1500,310,120,290,4100,47000,8900,200000,1600,270,520,7200,1200,73],\"tau_D1\":[19000000,3100000,1900000,4000000,9200000,9200000,21000000,2600000,1800000,21000000,1800000,12000000,5600000,21000000,9900000,240000,750000,21000000,4900000,17000000,14000000,200000,5500000,1700000,2000000,25000000,3100000,870000,2300000,4200000,14000000,19000000,28000000,22000000,11000000,2200000,9700000,2300000,9300000,5500000,6600000,13000000,11000000,14000000,2700000,22000000,28000000,4000000,12000000,5400000,880000,4900000,10000000,19000000,9700000,13000000,4300000,9100000,5600000,16000000,7000000,5800000,17000000,29000000,7300000,100000,19000000,340000,2000000,540000,850000,21000000,17000000,14000000,2800000,12000000,48000,14000000,5600000,14000000,28000000,420000,17000000,15000000,2000000,11000000,6100000,4000000,35000000,24000000,6800000,540000,29000000,6300000,12000000,14000000,5400000,420000,2200000,9600000,39000000,14000000,1100000,28000000,1100000,9700000,11000000,7300000,290000,3600000,7100000,8400000,920000,4000000,8000000,220000,7700000,13000000,5800000,8400000,8500000,20000000,650000,7200000,12000000,9600000,9600000,17000000,8300000,6600000,7700000,9100000,1700000,11000000,27000000,21000000,13000000,550000,1900000,5400000,1900000,36000000,4100000,4300000,13000000,14000000,2900000,4400000,17000000,4300000,23000000,5500000,28000000,29000000,4300000,9100000,14000000,4200000,9700000,7000000,30000000,28000000,19000000,5900000,9400000,22000000,4900000,5400000,1900000,12000000,10000000,20000000,22000000,27000000,4800000,51000,880000,1700000,1100000,26000000,19000000,25000000,4900000,21000000,8200000,2300000,24000000,12000000,4200000,13000000,21000000,2900000,280000,28000000,5800000,950000,24000000,28000000,12000000,14000000,9900000,4300000,10000000,11000000,860000,4900000,32000000,630000,3600000,4200000,20000000,5100000,1800000,2400000,26000000,13000000,4900000,13000000,4100000,21000000,1800000,4900000,13000000,4100000,5200000,9400000,16000000,5500000,1800000,9600000,36000000,5400000,4000000,11000000,5400000,1900000,4300000,9700000,19000,23000000,250000,22000000,21000000,4300000,1800000,20000000,8500000,26000000,21000000,27000000,26000000,750000,6900000,3000000,1700000,12000000,28000000,2600000,5400000,9700000,13000000,11000000,19000000,21000000,20000000,3600000,17000000,240000,24000000,4200000,3000000,5900000,630000,7100000,5400000,12000000,2600000,37000000,9900000,18000000,25000000,2400000,29000000,4000000,13000000,24000000,5000000,14000000,11000000,9100000,14000000,5000000,5400000,4500000,42000000,11000000,370000,19000000,26000000,3300000,11000000,12000000,14000000,5100000,5800000,430000,2000000,6000000,8900000,13000000,5500000,3600000,17000000,7600000,5400000,730000,21000000,12000000,4300000,10000000,5200000,5000000,8800000,9900000,19000000,13000000,21000000,21000000,14000000,3000000,19000000,12000000,14000000,17000000,14000000,3800000,14000000,12000000,4700000,14000000,6900000,1800000,280000,29000000,4100000,2400000,5500000,440,220000,1900000,23000000,11000000,7100000,11000000,400000,28000000,2900000,4000000,4000000,4900000,5900000,9600000,9700,680000,13000000,19000000,7700000,9600000,27000000,9900000,430000,9400000,220000,9700000,11000000,540000,12000000,150000,9700000,23000000,9300000,280000,28000000,20000000,5400000,5700000,25000000,22000000,13000000,14000000,21000000,5200000,4500000,5900000,8800000,100000,140000,4200000,360000,9600000,3500000,14000000,8900000,21000000,5400000,2000000,6400000,9900000,4300000,6100000,2600000,6200000,4900000,13000000,26000000,4300000,7000000,2300000,16000000,7300000,20000000,3200000,3100000,3500000,9900000,20000000,12000000,490000,4300000,28000000,9600000,4300000,1400000,660000,14000000,33000000,13000000,24000000,9900000,10000000,6100000,11000000,20000000,9600000,120000,4300000,6300000,2000000,1900000,17000000,9900000,5100000,19000000,25000000,10000000,26000000,4000000,22000000,2800000,2300000,710000,9600000,14000000,160000,9500000,20000000,12000000,780000,11000000,180000,1300000,13000000,9200000,6900000,16000000,100000,960000,220000,2800000,7100000,16000000,14000000,5800000,920000,13000000,14000000,4400000,14000000,5100000,4300000,7100000,12000000,4400000,2600000,1900000,39000000,34000000,730000,440000,9600000,7000000,4500000,14000000,7900000,6100000,4300000,9600000,3600000,11000000,9800000,5900000,7200000,7300000,19000000,1800000,14000000,5800000,9600000,750000,3000000,640000,1400000,9900000,390000,19000000,21000000,4000000,2600000,4000000,17000000,2800000,12000000,8700000,6900000,150000,1800000,11000000,4300000,25000000,9200000,33000000,19000000,920000,9800000,7100000,4900,6800,330000,360000,21000000,9900000,15000000,7100000,26000000,780000,2000000,420000,5000000,1900000,10000000,45000000,9700000,18000000,230000,5400000,39000000,28000000,330000,8200000,9800000,98000,13000000,5600000,21000000,34000000,3100000,14000000,9700000,420000,7700000,29000000,11000000,9300000,32000000,1900000,23000000,15000000,230000,14000000,22000000,24000000,3100000,7700000,28000000,14000000,640000,33000000,6100000,12000000,26000000,360000,11000000,3000000,13000000,13000000,11000000,9700000,4200000,13000000,32000000,13000000,16000000,15000000,9100000,27000000,17000000,9900000,14000000,17000000,22000000,8200000,7700000,5400000,14000000,8400000],\"tau_DL04\":[17000000,3000000,910000,3800000,9100000,8700000,19000000,1100000,1700000,19000000,1700000,9400000,5200000,19000000,9800000,210000,140000,18000000,4800000,13000000,9700000,150000,4900000,1400000,1700000,23000000,1900000,860000,930000,3700000,9900000,13000000,14000000,9800000,9700000,2000000,9300000,720000,9000000,5400000,6300000,6700000,10000000,9000000,2600000,13000000,27000000,3900000,9600000,4000000,820000,3900000,9600000,17000000,8600000,9000000,3600000,8600000,4300000,9700000,5500000,5200000,13000000,28000000,6700000,50000,9000000,280000,4294967295,510000,430000,13000000,9300000,9600000,2700000,11000000,46000,9700000,5400000,13000000,27000000,290000,13000000,13000000,1700000,8700000,5100000,3900000,32000000,22000000,6300000,510000,26000000,5900000,9500000,11000000,5100000,370000,1800000,9500000,38000000,10000000,970000,15000000,320000,9600000,9200000,6300000,220000,2900000,5900000,6900000,830000,3900000,7000000,210000,7200000,9700000,5700000,4600000,8300000,16000000,630000,4500000,9600000,9400000,9200000,14000000,4800000,5800000,7200000,9000000,960000,9100000,14000000,20000000,9900000,530000,500000,4900000,1600000,35000000,3800000,4100000,11000000,9400000,2500000,4200000,13000000,4200000,20000000,5100000,25000000,25000000,3900000,7000000,11000000,3900000,6700000,4100000,26000000,27000000,17000000,4200000,5400000,9500000,4300000,5200000,1300000,9700000,9600000,19000000,9600000,19000000,4100000,50000,200000,980000,950000,22000000,11000000,20000000,4700000,14000000,5300000,1700000,20000000,9600000,4100000,12000000,19000000,2700000,220000,21000000,5500000,910000,23000000,26000000,11000000,12000000,9600000,4000000,9500000,9700000,750000,4000000,29000000,610000,2900000,4000000,11000000,4600000,1700000,1100000,12000000,11000000,4300000,9400000,4000000,16000000,1500000,4400000,11000000,3200000,4100000,9100000,12000000,4000000,1700000,8600000,29000000,4700000,3200000,9800000,5300000,1800000,3900000,9500000,11000,22000000,210000,19000000,17000000,4000000,1700000,17000000,5300000,22000000,17000000,24000000,23000000,740000,5800000,1900000,300000,9800000,23000000,2000000,5000000,9600000,11000000,9400000,9300000,18000000,17000000,2900000,13000000,150000,21000000,4000000,2800000,5200000,620000,3500000,4900000,11000000,1600000,35000000,9600000,8800000,21000000,1700000,26000000,3200000,9900000,9500000,4800000,9400000,9600000,8400000,9000000,4600000,4900000,3900000,37000000,10000000,310000,17000000,11000000,2800000,7700000,11000000,9700000,1600000,5200000,230000,1800000,5300000,8400000,9700000,5400000,2900000,12000000,7400000,4800000,470000,18000000,9500000,3300000,9400000,4800000,2900000,5400000,9700000,16000000,9900000,19000000,19000000,9900000,2900000,17000000,9500000,9700000,16000000,13000000,2000000,9500000,9900000,4000000,9700000,6300000,1200000,240000,9400000,3700000,900000,4100000,170,170000,1800000,21000000,9700000,7000000,9300000,390000,24000000,2400000,3800000,3500000,4800000,5800000,8900000,8700,640000,9700000,10000000,7200000,5400000,22000000,9800000,350000,8400000,200000,9600000,6200000,220000,9500000,84000,9400000,18000000,9100000,250000,26000000,19000000,4800000,4900000,20000000,17000000,9400000,9700000,20000000,4600000,4100000,4200000,5400000,96000,120000,1200000,310000,8200000,2900000,9900000,5400000,13000000,4700000,48000,2600000,9300000,3900000,5000000,2400000,4800000,4800000,9500000,20000000,4100000,4500000,960000,11000000,7200000,13000000,1400000,2900000,3300000,9600000,9700000,9700000,400000,3800000,27000000,9100000,3300000,1100000,580000,9900000,23000000,9900000,17000000,9600000,9600000,4900000,9000000,11000000,5400000,110000,1900000,5200000,860000,1800000,9600000,9600000,4000000,15000000,19000000,9600000,24000000,3500000,20000000,2400000,1900000,620000,9100000,11000000,140000,9300000,19000000,9400000,600000,9700000,140000,1100000,11000000,5800000,6800000,9600000,93000,460000,140000,2700000,5200000,12000000,9900000,4700000,810000,6000000,9700000,3900000,9900000,4200000,3900000,4900000,9700000,4300000,2400000,1200000,28000000,31000000,590000,420000,9400000,5300000,4200000,12000000,7600000,5800000,4100000,9500000,2900000,7900000,9600000,5800000,7000000,6800000,18000000,1700000,13000000,2000000,9400000,700000,2600000,280000,980000,9100000,140000,13000000,19000000,3700000,1600000,3900000,13000000,2000000,9100000,8500000,6000000,90000,1700000,7500000,3600000,12000000,7500000,32000000,14000000,840000,8700000,4900000,4500,5900,280000,320000,20000000,8900000,14000000,6300000,23000000,760000,1900000,290000,4800000,1800000,9900000,38000000,9600000,15000000,210000,4800000,36000000,27000000,290000,5000000,9400000,94000,9800000,5400000,9300000,27000000,3000000,9900000,9400000,370000,7500000,27000000,9600000,9200000,18000000,910000,17000000,9900000,210000,9900000,21000000,23000000,3000000,7000000,21000000,11000000,480000,32000000,5800000,9800000,16000000,320000,9700000,2000000,9400000,12000000,9700000,7600000,3600000,10000000,29000000,12000000,14000000,13000000,9000000,14000000,12000000,9600000,9300000,9700000,20000000,4300000,7500000,3300000,9900000,8200000],\"tau_T2\":[11000000,11000000,17000000,8600000,9200000,28000000,24000000,24000000,9900000,41000000,17000000,65000000,39000000,75000000,13000000,80000000,5400000,21000000,5400000,25000000,97000000,130000000,12000000,5600000,46000000,36000000,12000000,9300000,14000000,48000000,26000000,25000000,28000000,31000000,12000000,18000000,13000000,20000000,35000000,92000000,7500000,38000000,39000000,14000000,450000,17000000,170000000,17000000,15000000,140000000,31000000,13000000,48000000,10000000,33000000,12000000,29000000,5800000,16000000,28000000,37000000,49000000,51000000,13000000,76000000,2100000,7100000,15000000,4400000,1200000,14000000,98000000,33000000,29000000,10000000,34000000,18000000,19000000,7300000,13000000,66000000,1900000,25000000,40000000,19000000,29000000,49000000,43000000,48000000,29000000,5400000,400000,97000000,25000000,13000000,83000000,16000000,9700000,27000000,13000000,51000000,14000000,37000000,31000000,23000000,13000000,20000000,36000000,13000000,14000000,99000000,42000000,8400000,40000000,18000000,38000000,12000000,28000000,5800000,53000000,33000000,77000000,37000000,8300000,12000000,47000000,47000000,17000000,50000000,16000000,7900000,12000000,47000000,12000000,26000000,8500000,33000000,19000000,27000000,29000000,56000000,76000000,2000000,15000000,35000000,47000000,21000000,7600000,17000000,73000000,82000000,4200000,6900000,43000000,5600000,48000000,13000000,4000000,11000000,22000000,39000000,53000000,23000000,30000000,32000000,50000000,5800000,46000000,9900000,65000000,22000000,5400000,29000000,32000000,4300000,84000000,13000000,1800000,25000000,18000000,37000000,130000000,20000000,58000000,16000000,22000000,26000000,9500000,19000000,40000000,22000000,9100000,2400000,21000000,17000000,5700000,73000000,28000000,6900000,80000000,24000000,57000000,59000000,53000000,22000000,5400000,29000000,20000000,56000000,34000000,4000000,130000000,18000000,57000000,26000000,47000000,48000000,50000000,5800000,24000000,21000000,16000000,34000000,50000000,5700000,27000000,22000000,60000000,22000000,34000000,23000000,24000000,1200000,34000000,94000000,28000000,3500000,29000000,19000000,28000000,7000000,21000000,33000000,21000000,44000000,22000000,28000000,68000000,25000000,15000000,37000000,6300000,53000000,44000000,47000000,36000000,57000000,56000000,4500000,12000000,14000000,49000000,30000000,37000000,66000000,18000000,40000000,9900000,23000000,4400000,28000000,34000000,25000000,57000000,20000000,34000000,18000000,73000000,16000000,39000000,120000000,52000000,2300000,52000000,140000000,73000000,29000000,14000000,36000000,43000000,28000000,4700000,430000,26000000,57000000,25000000,21000000,18000000,7700000,5800000,11000000,16000000,20000000,15000000,2000000,1900000,3900000,37000000,5100000,34000000,440000,18000000,4000000,56000000,14000000,9100000,61000000,12000000,29000000,21000000,6400000,15000000,160000000,48000000,55000000,11000000,63000000,9600000,19000000,29000000,61000000,72000000,120000000,110000,40000000,71000000,25000000,25000000,26000000,150000000,89000000,9700000,2900000,29000000,67000,12000000,4200000,39000000,38000000,21000000,47000000,34000000,46000000,13000000,37000000,36000000,13000000,15000000,28000000,9400000,43000000,52000000,48000000,29000000,38000000,22000000,11000000,34000000,120000000,1400000,1100000,26000000,3900,18000000,43000000,65000000,250000000,50000000,68000000,28000000,22000000,9100000,92000000,8400000,58000000,7500000,6900000,19000000,40000000,29000000,59000000,24000000,44000000,5700000,57000000,9600000,1700000,66000000,46000000,17000000,46000000,27000000,31000000,28000000,5400000,13000000,34000000,120000000,7700000,9500000,12000000,37000000,33000000,36000000,47000000,17000000,39000000,1500000,440000,6000000,9200000,13000000,26000000,8400000,97000000,78000000,83000000,2900000,2900000,91000000,21000000,13000000,4400000,27000000,300000,72000000,34000000,37000000,33000000,81000000,38000000,31000000,32000000,21000000,24000000,9900000,29000000,28000000,4200000,25000000,11000000,76000000,14000000,2900000,36000000,68000000,33000000,27000000,43000000,70000000,76000000,28000000,25000000,1300000,24000000,19000000,31000000,9700000,48000000,30000000,76000000,23000000,9400000,20000000,18000000,20000000,9100000,1200000,4900000,60000000,57000000,20000000,5900000,8400000,79000000,12000000,5400000,20000000,30000000,41000000,38000000,79000000,36000000,33000000,13000000,3500000,57000000,3600000,62000000,19000000,77000000,61000000,6900000,8400000,15000000,41000000,1400000,4800000,4200000,11000000,46000000,19000000,33000000,13000000,5800000,15000000,9300000,61000000,15000000,18000000,4400000,4200000,9700000,55000000,27000000,16000000,17000000,49000000,33000000,60000000,18000000,12000000,48000000,26000000,5100000,8300000,29000000,34000000,78000000,9200000,33000000,30000000,37000000,25000000,46000000,16000000,490000,4700000,2300000,21000000,14000000,24000000,7900000,26000000,19000000,2800000,37000000,3800000,9000000,9200000,64000000,23000000,18000000,20000000,50000000,47000000,65000000,44000000,32000000,78000000,5900000,28000000,50000000,27000000,91000000,29000000,9200000,11000000,19000000,34000000,5600000,1300000,33000000,25000000,47000000,32000000,25000000,29000000,53000000,800000,3100000,25000000,7100000,52000000,17000000,28000000,46000000,34000000,29000000,16000000,9300000,20000000,12000000,80000000,9500000,76000000,81000000,24000000,27000000,51000000,65000000,40000000,14000000,3000000,35000000,3100000,26000000,23000000,74000000,21000000,26000000,7800000,2500000,6200000,8400000],\"tau_T3\":[11000000,11000000,9600000,8600000,7600000,28000000,22000000,5500000,9900000,41000000,17000000,65000000,33000000,29000000,11000000,4100000,5400000,21000000,5400000,17000000,85000000,95000000,12000000,4400000,46000000,34000000,12000000,1100000,14000000,48000000,26000000,5000000,19000000,27000000,530000,18000000,4500000,2500000,33000000,35000000,7500000,29000000,36000000,14000000,400000,9400000,41000000,3900000,11000000,21000000,2800000,8500000,15000000,10000000,32000000,12000000,29000000,5800000,8900000,28000000,5600000,15000000,9600000,13000000,6900000,2100000,7100000,4900000,4100000,980000,13000000,60000000,4100000,28000000,7100000,32000000,18000000,18000000,6500000,7100000,57000000,1800000,17000000,16000000,18000000,20000000,14000000,37000000,47000000,24000000,5400000,230000,77000000,25000000,13000000,4300000,16000000,9600000,9000000,3400000,51000000,14000000,19000000,31000000,22000000,9600000,20000000,11000000,12000000,13000000,8000000,4800000,3800000,38000000,16000000,38000000,9600000,14000000,5500000,52000000,18000000,20000000,36000000,4200000,11000000,33000000,17000000,17000000,480000,8000000,7600000,2600000,43000000,12000000,13000000,8500000,32000000,2700000,25000000,4100000,38000000,51000000,1800000,14000000,22000000,46000000,21000000,7600000,17000000,66000000,23000000,4200000,4900000,4200000,5300000,25000000,32000,4000000,8500000,8300000,280000,28000000,21000000,30000000,25000000,50000000,5400000,46000000,5700000,59000000,22000000,5400000,3100000,14000000,4300000,19000000,13000000,1800000,19000000,18000000,33000000,57000000,16000000,31000000,16000000,9800000,21000000,4300000,4200000,29000000,21000000,4000000,2400000,9600000,5500000,1300000,49000000,26000000,1100000,61000000,24000000,4900000,20000000,12000000,21000000,5400000,11000000,9900000,55000000,5900000,4000000,65000000,18000000,4400000,26000000,27000000,5300000,35000000,5700000,23000000,1800000,4200000,34000000,14000000,5200000,26000000,17000000,57000000,16000000,8500000,23000000,24000000,1200000,34000000,5700000,2900000,3300000,9200000,12000000,28000000,4700000,21000000,19000000,13000000,5800000,22000000,14000000,66000000,21000000,14000000,36000000,5700000,5900000,18000000,41000000,36000000,57000000,46000000,4100000,12000000,13000000,23000000,30000000,28000000,65000000,18000000,40000000,4200000,23000000,4100000,1800000,30000000,25000000,8400000,12000000,28000000,18000000,57000000,16000000,250000,18000000,40000000,2100000,4000000,82000000,4800000,28000000,14000000,34000000,26000000,28000000,4700000,210000,26000000,3800000,25000000,16000000,18000000,5500000,740000,11000000,9600000,11000000,1600000,2000000,420000,2700000,2800000,4900000,31000000,430000,18000000,3900000,12000000,14000000,7600000,27000000,12000000,12000000,20000000,2700000,15000000,16000000,12000000,53000000,11000000,36000000,9300000,17000000,29000000,40000000,32000000,95000000,74000,38000000,71000000,9200000,10000000,26000000,49000000,18000000,5600000,1900000,28000000,63000,19000,4200000,33000000,26000000,13000000,28000000,34000000,14000000,13000000,2100000,16000000,8100000,8800000,28000000,9200000,42000000,34000000,48000000,20000000,38000000,16000000,10000000,33000000,46000000,1400000,290000,21000000,3100,18000000,36000000,570000,51000000,38000000,26000000,28000000,22000000,9100000,18000000,7500000,5000000,7500000,6900000,19000000,7500000,29000000,47000000,5800000,38000000,4200000,30000000,8600000,1700000,1700000,380000,15000000,46000000,3000000,30000000,28000000,3700000,13000000,27000000,40000000,6000000,9300000,4700000,13000000,2700000,13000000,47000000,17000000,27000000,1300000,430000,770000,9200000,13000000,5700000,3500000,55000000,8500000,26000000,660000,2900000,68000000,13000000,12000000,1700000,12000000,300000,21000000,21000000,32000000,11000000,23000000,32000000,28000000,21000000,21000000,15000000,5200000,25000000,15000000,4100000,19000000,9900000,45000000,13000000,2600000,28000000,50000000,29000000,22000000,23000000,37000000,30000000,28000000,19000000,580000,24000000,19000000,30000000,9100000,9500000,5800000,1100000,7500000,9400000,9300000,12000000,18000000,1700000,980000,2900000,60000000,16000000,3600000,5800000,8000000,570000,12000000,5400000,15000000,22000000,33000000,9800000,33000000,8700000,21000000,13000000,3400000,34000000,490000,8400000,9100000,77000000,51000000,4500000,5600000,11000000,5400000,1100000,4300000,3900000,6600000,34000000,16000000,12000000,13000000,4000000,11000000,9300000,61000000,2800000,18000000,290000,2600000,9100000,35000000,20000000,16000000,3200000,44000000,18000000,59000000,18000000,12000000,26000000,26000000,4600000,4200000,210000,34000000,78000000,4300000,33000000,22000000,16000000,25000000,11000000,2800000,460000,340000,320000,21000000,14000000,19000000,7800000,22000000,17000000,60000,15000000,3600000,6100000,5500000,52000000,16000000,17000000,14000000,43000000,39000000,51000000,4900000,14000000,46000000,5800000,14000000,28000000,5900000,37000000,4700000,7900000,11000000,9100000,1400000,5200000,850000,2200000,25000000,4100000,30000000,25000000,3100000,50000000,800000,3100000,7100000,7100000,52000000,17000000,24000000,40000000,25000000,12000000,16000000,310000,20000000,12000000,32000000,9500000,27000000,35000000,10000000,27000000,42000000,7600000,8800000,13000000,3000000,35000000,3100000,26000000,12000000,17000000,20000000,8700000,5600000,74000,5900000,8400000],\"tau_T4\":[11000000,250000,8900000,8600000,7500000,28000000,22000000,170000,1800000,9300000,17000000,65000000,28000000,29000000,50000,3500000,5400000,21000000,4300000,17000000,40000000,95000000,12000000,2400000,18000000,34000000,12000000,860000,12000000,6000000,16000000,5000000,9500000,9900000,530000,17000000,2600000,1900000,33000000,19000000,7500000,29000000,13000000,14000000,18000,9400000,41000000,3900000,11000000,21000000,2700000,8500000,13000000,9800000,32000000,12000000,29000000,3300000,8600000,12000000,5500000,15000000,9600000,10000000,3900000,530000,430000,1700000,4100000,240000,13000000,59000000,3200000,14000000,2700000,31000000,18000000,18000000,6500000,7100000,55000000,390000,17000000,16000000,18000000,490000,11000000,8500000,19000000,23000000,5400000,220000,14000000,5600000,6000000,4200000,5600000,9500000,9000000,2800000,3000000,11000000,19000000,9500000,22000000,9600000,12000000,8900000,12000000,13000000,5600000,4700000,3000000,8500000,8500000,16000000,9200000,14000000,4800000,47000000,16000000,2900000,640000,3800000,11000000,33000000,16000000,17000000,480000,6100000,6100000,2600000,43000000,11000000,13000000,8500000,32000000,630000,1700000,4100000,2400000,51000000,1800000,4100000,22000000,46000000,9200000,7100000,17000000,25000000,23000000,4200000,4900000,4200000,5300000,20000000,32000,51000,3400000,7500000,260000,28000000,21000000,30000000,20000000,50000000,5400000,4100000,5700000,52000000,21000000,4000000,3100000,14000000,4300000,260000,13000000,1800000,9300000,18000000,32000000,38000000,5400000,31000000,16000000,4400000,21000000,4300000,4000000,29000000,21000000,4000000,2400000,9600000,5200000,1300000,48000000,23000000,1100000,16000000,24000000,4300000,20000000,12000000,970000,5300000,11000000,9900000,53000000,4900000,4000000,5100000,18000000,4200000,7000000,23000000,5300000,34000000,5100000,23000000,560000,4200000,32000000,12000000,5200000,26000000,17000000,5400000,15000000,7500000,23000000,24000000,1200000,34000000,5600000,2800000,3300000,9200000,9900000,25000000,4700000,21000000,17000000,9200000,1900000,21000000,14000000,9600000,21000000,14000000,35000000,5700000,5900000,1900000,17000000,36000000,50000000,32000000,4100000,11000000,13000000,23000000,29000000,28000000,52000000,18000000,27000000,2400000,23000000,4100000,1800000,28000000,7000000,3600000,5300000,28000000,18000000,51000000,16000000,230000,18000000,40000000,2100000,2600000,57000000,4800000,4800000,14000000,9100000,6800,27000000,4700000,210000,26000000,3700000,25000000,15000000,18000000,5500000,120000,11000000,9600000,9700000,1400000,2000000,280000,2700000,1900000,4300000,23000000,430000,18000000,3900000,11000000,14000000,840000,27000000,12000000,12000000,20000000,2700000,15000000,16000000,12000000,51000000,11000000,33000000,9300000,11000000,3600000,39000000,9700000,40000000,55000,38000000,4100000,9200000,5800000,25000000,47000000,13000000,5600000,350000,28000000,63000,6600,4200000,29000000,1200000,13000000,28000000,26000000,8500000,13000000,650000,14000000,2000000,2600000,26000000,7400000,37000000,31000000,7100000,20000000,36000000,7200000,10000000,33000000,44000000,1400000,280000,21000000,2900,18000000,19000000,280000,29000000,710000,26000000,28000000,960000,3100000,5000000,7500000,5000000,5200000,5500000,19000000,5500000,28000000,27000000,5700000,8400000,630000,30000000,8600000,1700000,230000,320000,13000000,46000000,1800000,3000000,28000000,3700000,13000000,21000000,34000000,6000000,9300000,4200000,13000000,2700000,13000000,36000000,17000000,8800000,1300000,430000,480000,640000,320000,4200000,3500000,49000000,8500000,25000000,490000,2900000,52000000,13000000,12000000,1500000,12000000,300000,21000000,21000000,32000000,11000000,23000000,32000000,28000000,20000000,21000000,4600000,4300000,25000000,14000000,4000000,14000000,9900000,45000000,13000000,2600000,27000000,50000000,5800000,22000000,2600000,1500000,30000000,27000000,18000000,270000,24000000,9100000,5700000,4000000,9500000,5800000,1100000,5700000,7400000,9300000,12000000,8000000,480000,260000,2900000,27000000,9600000,3600000,5800000,1000000,560000,12000000,5300000,14000000,17000000,9000000,5400000,12000000,8500000,21000000,12000000,2300000,34000000,490000,470000,9100000,33000000,48000000,4500000,940000,11000000,4300000,1100000,4000000,3900000,6600000,25000000,9700000,11000000,12000000,4000000,11000000,190000,36000000,1700000,18000000,290000,260000,9100000,6000000,20000000,16000000,3200000,300000,8100000,290000,18000000,11000000,26000000,26000000,560000,3700000,210000,28000000,12000000,4300000,29000000,20000000,12000000,25000000,11000000,2800000,250000,340000,240000,21000000,13000000,12000000,39000,16000000,640000,48000,9200000,3600000,5800000,4900000,51000000,13000000,14000000,6500,33000000,39000000,48000000,4800000,14000000,34000000,5800000,12000000,23000000,5500000,35000000,3100000,7900000,11000000,470000,710000,5200000,820000,410000,22000000,910000,19000000,25000000,3100000,34000000,800000,3100000,3200000,7100000,52000000,14000000,24000000,28000000,15000000,12000000,15000000,310000,12000000,12000000,32000000,9500000,27000000,33000000,5000000,8700000,510000,7600000,8800000,12000000,2400000,28000000,300000,500000,12000000,17000000,20000000,8700000,5600000,73000,5900000,8000000]},\"selected\":{\"id\":\"1329\",\"type\":\"Selection\"},\"selection_policy\":{\"id\":\"1330\",\"type\":\"UnionRenderers\"}},\"id\":\"1283\",\"type\":\"ColumnDataSource\"},{\"attributes\":{\"label\":{\"value\":\"T4\"},\"renderers\":[{\"id\":\"1287\",\"type\":\"GlyphRenderer\"}]},\"id\":\"1300\",\"type\":\"LegendItem\"},{\"attributes\":{\"data_source\":{\"id\":\"1267\",\"type\":\"ColumnDataSource\"},\"glyph\":{\"id\":\"1269\",\"type\":\"Scatter\"},\"hover_glyph\":null,\"muted_glyph\":null,\"nonselection_glyph\":{\"id\":\"1270\",\"type\":\"Scatter\"},\"selection_glyph\":null,\"view\":{\"id\":\"1272\",\"type\":\"CDSView\"}},\"id\":\"1271\",\"type\":\"GlyphRenderer\"},{\"attributes\":{\"fill_alpha\":{\"value\":0.1},\"fill_color\":{\"value\":\"#1f77b4\"},\"line_alpha\":{\"value\":0.1},\"line_color\":{\"value\":\"#1f77b4\"},\"size\":{\"units\":\"screen\",\"value\":3},\"x\":{\"field\":\"tau_DL04\"},\"y\":{\"field\":\"tau_T3\"}},\"id\":\"1270\",\"type\":\"Scatter\"},{\"attributes\":{\"plot\":{\"id\":\"1218\",\"subtype\":\"Figure\",\"type\":\"Plot\"},\"ticker\":{\"id\":\"1228\",\"type\":\"BasicTicker\"}},\"id\":\"1231\",\"type\":\"Grid\"},{\"attributes\":{\"fill_alpha\":{\"value\":0.6},\"fill_color\":{\"value\":\"#d95f02\"},\"line_alpha\":{\"value\":0.6},\"line_color\":{\"value\":\"#d95f02\"},\"size\":{\"units\":\"screen\",\"value\":3},\"x\":{\"field\":\"tau_DL04\"},\"y\":{\"field\":\"tau_T3\"}},\"id\":\"1269\",\"type\":\"Scatter\"},{\"attributes\":{},\"id\":\"1228\",\"type\":\"BasicTicker\"},{\"attributes\":{\"data_source\":{\"id\":\"1252\",\"type\":\"ColumnDataSource\"},\"glyph\":{\"id\":\"1254\",\"type\":\"Scatter\"},\"hover_glyph\":null,\"muted_glyph\":null,\"nonselection_glyph\":{\"id\":\"1255\",\"type\":\"Scatter\"},\"selection_glyph\":null,\"view\":{\"id\":\"1257\",\"type\":\"CDSView\"}},\"id\":\"1256\",\"type\":\"GlyphRenderer\"}],\"root_ids\":[\"1218\"]},\"title\":\"Bokeh Application\",\"version\":\"1.0.3\"}};\n",
       "  var render_items = [{\"docid\":\"e4278383-c88a-4df8-be6e-60c53d41f6f1\",\"roots\":{\"1218\":\"cf998ed3-5ff6-40bc-b91e-3d214d61e890\"}}];\n",
       "  root.Bokeh.embed.embed_items_notebook(docs_json, render_items);\n",
       "\n",
       "  }\n",
       "  if (root.Bokeh !== undefined) {\n",
       "    embed_document(root);\n",
       "  } else {\n",
       "    var attempts = 0;\n",
       "    var timer = setInterval(function(root) {\n",
       "      if (root.Bokeh !== undefined) {\n",
       "        embed_document(root);\n",
       "        clearInterval(timer);\n",
       "      }\n",
       "      attempts++;\n",
       "      if (attempts > 100) {\n",
       "        console.log(\"Bokeh: ERROR: Unable to run BokehJS code because BokehJS library is missing\");\n",
       "        clearInterval(timer);\n",
       "      }\n",
       "    }, 10, root)\n",
       "  }\n",
       "})(window);"
      ],
      "application/vnd.bokehjs_exec.v0+json": ""
     },
     "metadata": {
      "application/vnd.bokehjs_exec.v0+json": {
       "id": "1218"
      }
     },
     "output_type": "display_data"
    }
   ],
   "source": [
    "f = figure(x_axis_type='linear', y_axis_type='linear', x_axis_label='tau_L', y_axis_label='tau_Tn')\n",
    "for col, colour in zip(['tau_T2', 'tau_T3', 'tau_T4'], Dark2[3]):\n",
    "    f.scatter('tau_DL04', col, color=colour, legend=col[4:], source=df, alpha=0.6, size=3)\n",
    "f.legend.location = 'top_left'\n",
    "f.legend.click_policy=\"hide\"\n",
    "show(f)"
   ]
  },
  {
   "cell_type": "code",
   "execution_count": null,
   "metadata": {},
   "outputs": [],
   "source": []
  },
  {
   "cell_type": "code",
   "execution_count": 7,
   "metadata": {},
   "outputs": [
    {
     "data": {
      "application/vnd.vegalite.v2+json": {
       "$schema": "https://vega.github.io/schema/vega-lite/v2.6.0.json",
       "config": {
        "view": {
         "height": 300,
         "width": 400
        }
       },
       "data": {
        "name": "data-84bae1e1f021df5b7a24f36aaa588f1d"
       },
       "datasets": {
        "data-84bae1e1f021df5b7a24f36aaa588f1d": [
         {
          "tau_DL04": 17000000,
          "value": -0.18905623622004886,
          "variable": "tau_T2"
         },
         {
          "tau_DL04": 3000000,
          "value": 0.5642714304385625,
          "variable": "tau_T2"
         },
         {
          "tau_DL04": 910000,
          "value": 1.2714075290571802,
          "variable": "tau_T2"
         },
         {
          "tau_DL04": 3800000,
          "value": 0.35471485462675756,
          "variable": "tau_T2"
         },
         {
          "tau_DL04": 9100000,
          "value": 0.0047464350244616526,
          "variable": "tau_T2"
         },
         {
          "tau_DL04": 8700000,
          "value": 0.5076387787236007,
          "variable": "tau_T2"
         },
         {
          "tau_DL04": 19000000,
          "value": 0.10145764075877703,
          "variable": "tau_T2"
         },
         {
          "tau_DL04": 1100000,
          "value": 1.338818556553381,
          "variable": "tau_T2"
         },
         {
          "tau_DL04": 1700000,
          "value": 0.765186273219276,
          "variable": "tau_T2"
         },
         {
          "tau_DL04": 19000000,
          "value": 0.33403025576690654,
          "variable": "tau_T2"
         },
         {
          "tau_DL04": 1700000,
          "value": 1,
          "variable": "tau_T2"
         },
         {
          "tau_DL04": 9400000,
          "value": 0.8397855030431569,
          "variable": "tau_T2"
         },
         {
          "tau_DL04": 5200000,
          "value": 0.8750612633917001,
          "variable": "tau_T2"
         },
         {
          "tau_DL04": 19000000,
          "value": 0.596307662438871,
          "variable": "tau_T2"
         },
         {
          "tau_DL04": 9800000,
          "value": 0.12271727661434188,
          "variable": "tau_T2"
         },
         {
          "tau_DL04": 210000,
          "value": 2.5808706922580242,
          "variable": "tau_T2"
         },
         {
          "tau_DL04": 140000,
          "value": 1.5862657241447304,
          "variable": "tau_T2"
         },
         {
          "tau_DL04": 18000000,
          "value": 0.06694678963061322,
          "variable": "tau_T2"
         },
         {
          "tau_DL04": 4800000,
          "value": 0.05115252244738129,
          "variable": "tau_T2"
         },
         {
          "tau_DL04": 13000000,
          "value": 0.28399665636520083,
          "variable": "tau_T2"
         },
         {
          "tau_DL04": 9700000,
          "value": 1,
          "variable": "tau_T2"
         },
         {
          "tau_DL04": 150000,
          "value": 2.9378520932511556,
          "variable": "tau_T2"
         },
         {
          "tau_DL04": 4900000,
          "value": 0.38898516601911115,
          "variable": "tau_T2"
         },
         {
          "tau_DL04": 1400000,
          "value": 0.6020599913279624,
          "variable": "tau_T2"
         },
         {
          "tau_DL04": 1700000,
          "value": 1.4323089103033002,
          "variable": "tau_T2"
         },
         {
          "tau_DL04": 23000000,
          "value": 0.1945746647496944,
          "variable": "tau_T2"
         },
         {
          "tau_DL04": 1900000,
          "value": 0.8004276450947958,
          "variable": "tau_T2"
         },
         {
          "tau_DL04": 860000,
          "value": 1.0339844973103673,
          "variable": "tau_T2"
         },
         {
          "tau_DL04": 930000,
          "value": 1.177645087124303,
          "variable": "tau_T2"
         },
         {
          "tau_DL04": 3700000,
          "value": 1.1130395133085922,
          "variable": "tau_T2"
         },
         {
          "tau_DL04": 9900000,
          "value": 0.4193381533732681,
          "variable": "tau_T2"
         },
         {
          "tau_DL04": 13000000,
          "value": 0.28399665636520083,
          "variable": "tau_T2"
         },
         {
          "tau_DL04": 14000000,
          "value": 0.3010299956639812,
          "variable": "tau_T2"
         },
         {
          "tau_DL04": 9800000,
          "value": 0.5001356181417779,
          "variable": "tau_T2"
         },
         {
          "tau_DL04": 9700000,
          "value": 0.09240951178137999,
          "variable": "tau_T2"
         },
         {
          "tau_DL04": 2000000,
          "value": 0.9542425094393249,
          "variable": "tau_T2"
         },
         {
          "tau_DL04": 9300000,
          "value": 0.14546040375290167,
          "variable": "tau_T2"
         },
         {
          "tau_DL04": 720000,
          "value": 1.4436974992327127,
          "variable": "tau_T2"
         },
         {
          "tau_DL04": 9000000,
          "value": 0.5898255349109507,
          "variable": "tau_T2"
         },
         {
          "tau_DL04": 5400000,
          "value": 1.2313940675225867,
          "variable": "tau_T2"
         },
         {
          "tau_DL04": 6300000,
          "value": 0.07572071393811834,
          "variable": "tau_T2"
         },
         {
          "tau_DL04": 6700000,
          "value": 0.7537087939159838,
          "variable": "tau_T2"
         },
         {
          "tau_DL04": 10000000,
          "value": 0.5910646070264992,
          "variable": "tau_T2"
         },
         {
          "tau_DL04": 9000000,
          "value": 0.19188552623891314,
          "variable": "tau_T2"
         },
         {
          "tau_DL04": 2600000,
          "value": -0.7617608341954742,
          "variable": "tau_T2"
         },
         {
          "tau_DL04": 13000000,
          "value": 0.11650556907143717,
          "variable": "tau_T2"
         },
         {
          "tau_DL04": 27000000,
          "value": 0.7990851572192866,
          "variable": "tau_T2"
         },
         {
          "tau_DL04": 3900000,
          "value": 0.6393843143517747,
          "variable": "tau_T2"
         },
         {
          "tau_DL04": 9600000,
          "value": 0.19382002601611284,
          "variable": "tau_T2"
         },
         {
          "tau_DL04": 4000000,
          "value": 1.5440680443502757,
          "variable": "tau_T2"
         },
         {
          "tau_DL04": 820000,
          "value": 1.577547841450556,
          "variable": "tau_T2"
         },
         {
          "tau_DL04": 3900000,
          "value": 0.5228787452803376,
          "variable": "tau_T2"
         },
         {
          "tau_DL04": 9600000,
          "value": 0.6989700043360189,
          "variable": "tau_T2"
         },
         {
          "tau_DL04": 17000000,
          "value": -0.2304489213782739,
          "variable": "tau_T2"
         },
         {
          "tau_DL04": 8600000,
          "value": 0.5840154886343198,
          "variable": "tau_T2"
         },
         {
          "tau_DL04": 9000000,
          "value": 0.12493873660829992,
          "variable": "tau_T2"
         },
         {
          "tau_DL04": 3600000,
          "value": 0.9060954971316688,
          "variable": "tau_T2"
         },
         {
          "tau_DL04": 8600000,
          "value": -0.17107045768063045,
          "variable": "tau_T2"
         },
         {
          "tau_DL04": 4300000,
          "value": 0.5706515270763383,
          "variable": "tau_T2"
         },
         {
          "tau_DL04": 9700000,
          "value": 0.46038629707597434,
          "variable": "tau_T2"
         },
         {
          "tau_DL04": 5500000,
          "value": 0.8278390345727511,
          "variable": "tau_T2"
         },
         {
          "tau_DL04": 5200000,
          "value": 0.9741927363937145,
          "variable": "tau_T2"
         },
         {
          "tau_DL04": 13000000,
          "value": 0.5936268237910995,
          "variable": "tau_T2"
         },
         {
          "tau_DL04": 28000000,
          "value": -0.33321467903538243,
          "variable": "tau_T2"
         },
         {
          "tau_DL04": 6700000,
          "value": 1.054738789579965,
          "variable": "tau_T2"
         },
         {
          "tau_DL04": 50000,
          "value": 1.6232492903979006,
          "variable": "tau_T2"
         },
         {
          "tau_DL04": 9000000,
          "value": -0.1029841607202496,
          "variable": "tau_T2"
         },
         {
          "tau_DL04": 280000,
          "value": 1.728933227713462,
          "variable": "tau_T2"
         },
         {
          "tau_DL04": 4294967295,
          "value": -2.9895071846600936,
          "variable": "tau_T2"
         },
         {
          "tau_DL04": 510000,
          "value": 0.37161106994968846,
          "variable": "tau_T2"
         },
         {
          "tau_DL04": 430000,
          "value": 1.5126595800986515,
          "variable": "tau_T2"
         },
         {
          "tau_DL04": 13000000,
          "value": 0.8772827233856582,
          "variable": "tau_T2"
         },
         {
          "tau_DL04": 9300000,
          "value": 0.5500309913239524,
          "variable": "tau_T2"
         },
         {
          "tau_DL04": 9600000,
          "value": 0.48012676485938766,
          "variable": "tau_T2"
         },
         {
          "tau_DL04": 2700000,
          "value": 0.5686362358410126,
          "variable": "tau_T2"
         },
         {
          "tau_DL04": 11000000,
          "value": 0.49008623188403005,
          "variable": "tau_T2"
         },
         {
          "tau_DL04": 46000,
          "value": 2.592514673421732,
          "variable": "tau_T2"
         },
         {
          "tau_DL04": 9700000,
          "value": 0.29198186668658405,
          "variable": "tau_T2"
         },
         {
          "tau_DL04": 5400000,
          "value": 0.1309291002974874,
          "variable": "tau_T2"
         },
         {
          "tau_DL04": 13000000,
          "value": 0,
          "variable": "tau_T2"
         },
         {
          "tau_DL04": 27000000,
          "value": 0.3881801713828814,
          "variable": "tau_T2"
         },
         {
          "tau_DL04": 290000,
          "value": 0.8163556030538729,
          "variable": "tau_T2"
         },
         {
          "tau_DL04": 13000000,
          "value": 0.28399665636520083,
          "variable": "tau_T2"
         },
         {
          "tau_DL04": 13000000,
          "value": 0.4881166390211257,
          "variable": "tau_T2"
         },
         {
          "tau_DL04": 1700000,
          "value": 1.048304679574555,
          "variable": "tau_T2"
         },
         {
          "tau_DL04": 8700000,
          "value": 0.5228787452803376,
          "variable": "tau_T2"
         },
         {
          "tau_DL04": 5100000,
          "value": 0.9826259039305772,
          "variable": "tau_T2"
         },
         {
          "tau_DL04": 3900000,
          "value": 1.0424038485530873,
          "variable": "tau_T2"
         },
         {
          "tau_DL04": 32000000,
          "value": 0.17609125905568124,
          "variable": "tau_T2"
         },
         {
          "tau_DL04": 22000000,
          "value": 0.11997531707674983,
          "variable": "tau_T2"
         },
         {
          "tau_DL04": 6300000,
          "value": -0.06694678963061322,
          "variable": "tau_T2"
         },
         {
          "tau_DL04": 510000,
          "value": -0.10551018476997398,
          "variable": "tau_T2"
         },
         {
          "tau_DL04": 26000000,
          "value": 0.5717983862954269,
          "variable": "tau_T2"
         },
         {
          "tau_DL04": 5900000,
          "value": 0.6270879970298935,
          "variable": "tau_T2"
         },
         {
          "tau_DL04": 9500000,
          "value": 0.136219747017989,
          "variable": "tau_T2"
         },
         {
          "tau_DL04": 11000000,
          "value": 0.8776854072178488,
          "variable": "tau_T2"
         },
         {
          "tau_DL04": 5100000,
          "value": 0.4965498065579884,
          "variable": "tau_T2"
         },
         {
          "tau_DL04": 370000,
          "value": 1.4185700101992498,
          "variable": "tau_T2"
         },
         {
          "tau_DL04": 1800000,
          "value": 1.1760912590556813,
          "variable": "tau_T2"
         },
         {
          "tau_DL04": 9500000,
          "value": 0.136219747017989,
          "variable": "tau_T2"
         },
         {
          "tau_DL04": 38000000,
          "value": 0.12778657948112618,
          "variable": "tau_T2"
         },
         {
          "tau_DL04": 10000000,
          "value": 0.146128035678238,
          "variable": "tau_T2"
         },
         {
          "tau_DL04": 970000,
          "value": 1.5814299898007502,
          "variable": "tau_T2"
         },
         {
          "tau_DL04": 15000000,
          "value": 0.31527043477859146,
          "variable": "tau_T2"
         },
         {
          "tau_DL04": 320000,
          "value": 1.8565778576976868,
          "variable": "tau_T2"
         },
         {
          "tau_DL04": 9600000,
          "value": 0.13167211926726838,
          "variable": "tau_T2"
         },
         {
          "tau_DL04": 9200000,
          "value": 0.3372421683184259,
          "variable": "tau_T2"
         },
         {
          "tau_DL04": 6300000,
          "value": 0.7569619513137056,
          "variable": "tau_T2"
         },
         {
          "tau_DL04": 220000,
          "value": 1.7715206714846305,
          "variable": "tau_T2"
         },
         {
          "tau_DL04": 2900000,
          "value": 0.6837300377792819,
          "variable": "tau_T2"
         },
         {
          "tau_DL04": 5900000,
          "value": 1.2247831829554057,
          "variable": "tau_T2"
         },
         {
          "tau_DL04": 6900000,
          "value": 0.7844001996606451,
          "variable": "tau_T2"
         },
         {
          "tau_DL04": 830000,
          "value": 1.0052011936858078,
          "variable": "tau_T2"
         },
         {
          "tau_DL04": 3900000,
          "value": 1.0109953843014632,
          "variable": "tau_T2"
         },
         {
          "tau_DL04": 7000000,
          "value": 0.4101744650890493,
          "variable": "tau_T2"
         },
         {
          "tau_DL04": 210000,
          "value": 2.257564301882891,
          "variable": "tau_T2"
         },
         {
          "tau_DL04": 7200000,
          "value": 0.22184874961635637,
          "variable": "tau_T2"
         },
         {
          "tau_DL04": 9700000,
          "value": 0.46038629707597434,
          "variable": "tau_T2"
         },
         {
          "tau_DL04": 5700000,
          "value": 0.007553137890445907,
          "variable": "tau_T2"
         },
         {
          "tau_DL04": 4600000,
          "value": 1.061518037919215,
          "variable": "tau_T2"
         },
         {
          "tau_DL04": 8300000,
          "value": 0.5994358475018136,
          "variable": "tau_T2"
         },
         {
          "tau_DL04": 16000000,
          "value": 0.682370742516557,
          "variable": "tau_T2"
         },
         {
          "tau_DL04": 630000,
          "value": 1.7688611746134133,
          "variable": "tau_T2"
         },
         {
          "tau_DL04": 4500000,
          "value": 0.26586557860073023,
          "variable": "tau_T2"
         },
         {
          "tau_DL04": 9600000,
          "value": 0.09691001300805642,
          "variable": "tau_T2"
         },
         {
          "tau_DL04": 9400000,
          "value": 0.6989700043360189,
          "variable": "tau_T2"
         },
         {
          "tau_DL04": 9200000,
          "value": 0.7083100305901622,
          "variable": "tau_T2"
         },
         {
          "tau_DL04": 14000000,
          "value": 0.08432088570003587,
          "variable": "tau_T2"
         },
         {
          "tau_DL04": 4800000,
          "value": 1.0177287669604316,
          "variable": "tau_T2"
         },
         {
          "tau_DL04": 5800000,
          "value": 0.4406919890929875,
          "variable": "tau_T2"
         },
         {
          "tau_DL04": 7200000,
          "value": 0.04029459485917301,
          "variable": "tau_T2"
         },
         {
          "tau_DL04": 9000000,
          "value": 0.12493873660829992,
          "variable": "tau_T2"
         },
         {
          "tau_DL04": 960000,
          "value": 1.689826624896149,
          "variable": "tau_T2"
         },
         {
          "tau_DL04": 9100000,
          "value": 0.12013985372653123,
          "variable": "tau_T2"
         },
         {
          "tau_DL04": 14000000,
          "value": 0.26884531229257996,
          "variable": "tau_T2"
         },
         {
          "tau_DL04": 20000000,
          "value": -0.37161106994968846,
          "variable": "tau_T2"
         },
         {
          "tau_DL04": 9900000,
          "value": 0.5228787452803376,
          "variable": "tau_T2"
         },
         {
          "tau_DL04": 530000,
          "value": 1.55447773135204,
          "variable": "tau_T2"
         },
         {
          "tau_DL04": 500000,
          "value": 1.7323937598229686,
          "variable": "tau_T2"
         },
         {
          "tau_DL04": 4900000,
          "value": 0.7722019178704425,
          "variable": "tau_T2"
         },
         {
          "tau_DL04": 1600000,
          "value": 1.5440680443502757,
          "variable": "tau_T2"
         },
         {
          "tau_DL04": 35000000,
          "value": 0.3367455479305157,
          "variable": "tau_T2"
         },
         {
          "tau_DL04": 3800000,
          "value": -0.278753600952829,
          "variable": "tau_T2"
         },
         {
          "tau_DL04": 4100000,
          "value": 0.5633074023359458,
          "variable": "tau_T2"
         },
         {
          "tau_DL04": 11000000,
          "value": 0.5026753591920505,
          "variable": "tau_T2"
         },
         {
          "tau_DL04": 9400000,
          "value": 0.6989700043360189,
          "variable": "tau_T2"
         },
         {
          "tau_DL04": 2500000,
          "value": 0.9242792860618817,
          "variable": "tau_T2"
         },
         {
          "tau_DL04": 4200000,
          "value": 0.25756430188289087,
          "variable": "tau_T2"
         },
         {
          "tau_DL04": 13000000,
          "value": 0.11650556907143717,
          "variable": "tau_T2"
         },
         {
          "tau_DL04": 4200000,
          "value": 1.2400735697225553,
          "variable": "tau_T2"
         },
         {
          "tau_DL04": 20000000,
          "value": 0.6127838567197355,
          "variable": "tau_T2"
         },
         {
          "tau_DL04": 5100000,
          "value": -0.08432088570003592,
          "variable": "tau_T2"
         },
         {
          "tau_DL04": 25000000,
          "value": -0.5590909179347823,
          "variable": "tau_T2"
         },
         {
          "tau_DL04": 25000000,
          "value": 0.23552844690754893,
          "variable": "tau_T2"
         },
         {
          "tau_DL04": 3900000,
          "value": 0.1571234199797012,
          "variable": "tau_T2"
         },
         {
          "tau_DL04": 7000000,
          "value": 0.8361431973613304,
          "variable": "tau_T2"
         },
         {
          "tau_DL04": 11000000,
          "value": 0.07255066714861175,
          "variable": "tau_T2"
         },
         {
          "tau_DL04": 3900000,
          "value": 0.010995384301463145,
          "variable": "tau_T2"
         },
         {
          "tau_DL04": 6700000,
          "value": 0.21531788245739863,
          "variable": "tau_T2"
         },
         {
          "tau_DL04": 4100000,
          "value": 0.7296388241024707,
          "variable": "tau_T2"
         },
         {
          "tau_DL04": 26000000,
          "value": 0.17609125905568124,
          "variable": "tau_T2"
         },
         {
          "tau_DL04": 27000000,
          "value": 0.29291210544180174,
          "variable": "tau_T2"
         },
         {
          "tau_DL04": 17000000,
          "value": 0.13127891463931898,
          "variable": "tau_T2"
         },
         {
          "tau_DL04": 4200000,
          "value": 0.853871964321762,
          "variable": "tau_T2"
         },
         {
          "tau_DL04": 5400000,
          "value": 0.7727562184969374,
          "variable": "tau_T2"
         },
         {
          "tau_DL04": 9500000,
          "value": 0.721246399047171,
          "variable": "tau_T2"
         },
         {
          "tau_DL04": 4300000,
          "value": 0.12995953798335075,
          "variable": "tau_T2"
         },
         {
          "tau_DL04": 5200000,
          "value": 0.946754488046775,
          "variable": "tau_T2"
         },
         {
          "tau_DL04": 1300000,
          "value": 0.8816918422907132,
          "variable": "tau_T2"
         },
         {
          "tau_DL04": 9700000,
          "value": 0.8261416223766107,
          "variable": "tau_T2"
         },
         {
          "tau_DL04": 9600000,
          "value": 0.3601514477826378,
          "variable": "tau_T2"
         },
         {
          "tau_DL04": 19000000,
          "value": -0.5463598411298605,
          "variable": "tau_T2"
         },
         {
          "tau_DL04": 9600000,
          "value": 0.48012676485938766,
          "variable": "tau_T2"
         },
         {
          "tau_DL04": 19000000,
          "value": 0.226396377367077,
          "variable": "tau_T2"
         },
         {
          "tau_DL04": 4100000,
          "value": 0.02068459885985105,
          "variable": "tau_T2"
         },
         {
          "tau_DL04": 50000,
          "value": 3.225309281725863,
          "variable": "tau_T2"
         },
         {
          "tau_DL04": 200000,
          "value": 1.8129133566428555,
          "variable": "tau_T2"
         },
         {
          "tau_DL04": 980000,
          "value": 0.2640464294108112,
          "variable": "tau_T2"
         },
         {
          "tau_DL04": 950000,
          "value": 1.4202164033831899,
          "variable": "tau_T2"
         },
         {
          "tau_DL04": 22000000,
          "value": -0.08715017571890014,
          "variable": "tau_T2"
         },
         {
          "tau_DL04": 11000000,
          "value": 0.52680903890877,
          "variable": "tau_T2"
         },
         {
          "tau_DL04": 20000000,
          "value": 0.8129133566428556,
          "variable": "tau_T2"
         },
         {
          "tau_DL04": 4700000,
          "value": 0.6289321377282637,
          "variable": "tau_T2"
         },
         {
          "tau_DL04": 14000000,
          "value": 0.6172999578846993,
          "variable": "tau_T2"
         },
         {
          "tau_DL04": 5300000,
          "value": 0.47984411305513575,
          "variable": "tau_T2"
         },
         {
          "tau_DL04": 1700000,
          "value": 1.1119737594439323,
          "variable": "tau_T2"
         },
         {
          "tau_DL04": 20000000,
          "value": 0.11394335230683678,
          "variable": "tau_T2"
         },
         {
          "tau_DL04": 9600000,
          "value": -0.00454762775072063,
          "variable": "tau_T2"
         },
         {
          "tau_DL04": 4100000,
          "value": 0.6659697442330934,
          "variable": "tau_T2"
         },
         {
          "tau_DL04": 12000000,
          "value": 0.5228787452803376,
          "variable": "tau_T2"
         },
         {
          "tau_DL04": 19000000,
          "value": 0.0636690798693773,
          "variable": "tau_T2"
         },
         {
          "tau_DL04": 2700000,
          "value": 0.5276776281621063,
          "variable": "tau_T2"
         },
         {
          "tau_DL04": 220000,
          "value": 1.0377885608893997,
          "variable": "tau_T2"
         },
         {
          "tau_DL04": 21000000,
          "value": 0,
          "variable": "tau_T2"
         },
         {
          "tau_DL04": 5500000,
          "value": 0.49008623188403005,
          "variable": "tau_T2"
         },
         {
          "tau_DL04": 910000,
          "value": 0.7968334633513978,
          "variable": "tau_T2"
         },
         {
          "tau_DL04": 23000000,
          "value": 0.501595024102863,
          "variable": "tau_T2"
         },
         {
          "tau_DL04": 26000000,
          "value": 0.032184683371401235,
          "variable": "tau_T2"
         },
         {
          "tau_DL04": 11000000,
          "value": -0.2025435944209697,
          "variable": "tau_T2"
         },
         {
          "tau_DL04": 12000000,
          "value": 0.8239087409443188,
          "variable": "tau_T2"
         },
         {
          "tau_DL04": 9600000,
          "value": 0.3979400086720376,
          "variable": "tau_T2"
         },
         {
          "tau_DL04": 4000000,
          "value": 1.153814864344529,
          "variable": "tau_T2"
         },
         {
          "tau_DL04": 9500000,
          "value": 0.7931284063532964,
          "variable": "tau_T2"
         },
         {
          "tau_DL04": 9700000,
          "value": 0.7375041353345442,
          "variable": "tau_T2"
         },
         {
          "tau_DL04": 750000,
          "value": 1.467361417430506,
          "variable": "tau_T2"
         },
         {
          "tau_DL04": 4000000,
          "value": 0.13033376849500614,
          "variable": "tau_T2"
         },
         {
          "tau_DL04": 29000000,
          "value": 0,
          "variable": "tau_T2"
         },
         {
          "tau_DL04": 610000,
          "value": 1.5157001606532141,
          "variable": "tau_T2"
         },
         {
          "tau_DL04": 2900000,
          "value": 1.2857900291072444,
          "variable": "tau_T2"
         },
         {
          "tau_DL04": 4000000,
          "value": 0.9294189257142927,
          "variable": "tau_T2"
         },
         {
          "tau_DL04": 11000000,
          "value": -0.43933269383026263,
          "variable": "tau_T2"
         },
         {
          "tau_DL04": 4600000,
          "value": 1.4511855206252626,
          "variable": "tau_T2"
         },
         {
          "tau_DL04": 1700000,
          "value": 1.0248235837250321,
          "variable": "tau_T2"
         },
         {
          "tau_DL04": 1100000,
          "value": 1.7144821705142663,
          "variable": "tau_T2"
         },
         {
          "tau_DL04": 12000000,
          "value": 0.3357921019231931,
          "variable": "tau_T2"
         },
         {
          "tau_DL04": 11000000,
          "value": 0.6307051727774924,
          "variable": "tau_T2"
         },
         {
          "tau_DL04": 4300000,
          "value": 1.0477727817960008,
          "variable": "tau_T2"
         },
         {
          "tau_DL04": 9400000,
          "value": 0.7258421507363202,
          "variable": "tau_T2"
         },
         {
          "tau_DL04": 4000000,
          "value": 0.16136800223497488,
          "variable": "tau_T2"
         },
         {
          "tau_DL04": 16000000,
          "value": 0.17609125905568124,
          "variable": "tau_T2"
         },
         {
          "tau_DL04": 1500000,
          "value": 1.146128035678238,
          "variable": "tau_T2"
         },
         {
          "tau_DL04": 4400000,
          "value": 0.5606673061697374,
          "variable": "tau_T2"
         },
         {
          "tau_DL04": 11000000,
          "value": 0.49008623188403005,
          "variable": "tau_T2"
         },
         {
          "tau_DL04": 3200000,
          "value": 1.193820026016113,
          "variable": "tau_T2"
         },
         {
          "tau_DL04": 4100000,
          "value": 0.14309099895275587,
          "variable": "tau_T2"
         },
         {
          "tau_DL04": 9100000,
          "value": 0.4723223718378937,
          "variable": "tau_T2"
         },
         {
          "tau_DL04": 12000000,
          "value": 0.2632414347745814,
          "variable": "tau_T2"
         },
         {
          "tau_DL04": 4000000,
          "value": 1.1760912590556813,
          "variable": "tau_T2"
         },
         {
          "tau_DL04": 1700000,
          "value": 1.1119737594439323,
          "variable": "tau_T2"
         },
         {
          "tau_DL04": 8600000,
          "value": 0.5969804657986875,
          "variable": "tau_T2"
         },
         {
          "tau_DL04": 29000000,
          "value": -0.10067016188136318,
          "variable": "tau_T2"
         },
         {
          "tau_DL04": 4700000,
          "value": 0.7081133837758886,
          "variable": "tau_T2"
         },
         {
          "tau_DL04": 3200000,
          "value": -0.42596873227228116,
          "variable": "tau_T2"
         },
         {
          "tau_DL04": 9800000,
          "value": 0.5402528413497603,
          "variable": "tau_T2"
         },
         {
          "tau_DL04": 5300000,
          "value": 1.2488519839989096,
          "variable": "tau_T2"
         },
         {
          "tau_DL04": 1800000,
          "value": 1.1918855262389132,
          "variable": "tau_T2"
         },
         {
          "tau_DL04": 3900000,
          "value": -0.046996562676223555,
          "variable": "tau_T2"
         },
         {
          "tau_DL04": 9500000,
          "value": 0.48467439261010836,
          "variable": "tau_T2"
         },
         {
          "tau_DL04": 11000,
          "value": 3.237360915794604,
          "variable": "tau_T2"
         },
         {
          "tau_DL04": 22000000,
          "value": 0.10473535052001297,
          "variable": "tau_T2"
         },
         {
          "tau_DL04": 210000,
          "value": 1.5228787452803376,
          "variable": "tau_T2"
         },
         {
          "tau_DL04": 19000000,
          "value": 0.043465693781090345,
          "variable": "tau_T2"
         },
         {
          "tau_DL04": 17000000,
          "value": 0.2880650184996135,
          "variable": "tau_T2"
         },
         {
          "tau_DL04": 4000000,
          "value": 0.7201593034059569,
          "variable": "tau_T2"
         },
         {
          "tau_DL04": 1700000,
          "value": 1.4130037551079135,
          "variable": "tau_T2"
         },
         {
          "tau_DL04": 17000000,
          "value": 0.11197375944393234,
          "variable": "tau_T2"
         },
         {
          "tau_DL04": 5300000,
          "value": 0.7228821617414302,
          "variable": "tau_T2"
         },
         {
          "tau_DL04": 22000000,
          "value": 0.49008623188403005,
          "variable": "tau_T2"
         },
         {
          "tau_DL04": 17000000,
          "value": 0.1674910872937637,
          "variable": "tau_T2"
         },
         {
          "tau_DL04": 24000000,
          "value": -0.2041199826559248,
          "variable": "tau_T2"
         },
         {
          "tau_DL04": 23000000,
          "value": 0.20647388804940212,
          "variable": "tau_T2"
         },
         {
          "tau_DL04": 740000,
          "value": 0.9301088297226056,
          "variable": "tau_T2"
         },
         {
          "tau_DL04": 5800000,
          "value": 0.9608478760378517,
          "variable": "tau_T2"
         },
         {
          "tau_DL04": 1900000,
          "value": 1.3646990755333586,
          "variable": "tau_T2"
         },
         {
          "tau_DL04": 300000,
          "value": 2.194976603216055,
          "variable": "tau_T2"
         },
         {
          "tau_DL04": 9800000,
          "value": 0.5650764250747924,
          "variable": "tau_T2"
         },
         {
          "tau_DL04": 23000000,
          "value": 0.3941470196548985,
          "variable": "tau_T2"
         },
         {
          "tau_DL04": 2000000,
          "value": 1.4471580313422192,
          "variable": "tau_T2"
         },
         {
          "tau_DL04": 5000000,
          "value": -0.045757490560675115,
          "variable": "tau_T2"
         },
         {
          "tau_DL04": 9600000,
          "value": 0.09691001300805642,
          "variable": "tau_T2"
         },
         {
          "tau_DL04": 11000000,
          "value": 0.10473535052001297,
          "variable": "tau_T2"
         },
         {
          "tau_DL04": 9400000,
          "value": 0.717068226428815,
          "variable": "tau_T2"
         },
         {
          "tau_DL04": 9300000,
          "value": 0.5086383061657272,
          "variable": "tau_T2"
         },
         {
          "tau_DL04": 18000000,
          "value": 0.31292921896368886,
          "variable": "tau_T2"
         },
         {
          "tau_DL04": 17000000,
          "value": 0.5890950141635947,
          "variable": "tau_T2"
         },
         {
          "tau_DL04": 2900000,
          "value": 0.7928745072043499,
          "variable": "tau_T2"
         },
         {
          "tau_DL04": 13000000,
          "value": 0.4881166390211257,
          "variable": "tau_T2"
         },
         {
          "tau_DL04": 150000,
          "value": 1.8195439355418688,
          "variable": "tau_T2"
         },
         {
          "tau_DL04": 21000000,
          "value": 0.03950854128367365,
          "variable": "tau_T2"
         },
         {
          "tau_DL04": 4000000,
          "value": 0.04139268515822507,
          "variable": "tau_T2"
         },
         {
          "tau_DL04": 2800000,
          "value": 1,
          "variable": "tau_T2"
         },
         {
          "tau_DL04": 5200000,
          "value": 0.8154755734074559,
          "variable": "tau_T2"
         },
         {
          "tau_DL04": 620000,
          "value": 1.6055483191737836,
          "variable": "tau_T2"
         },
         {
          "tau_DL04": 3500000,
          "value": 1.2118068113222158,
          "variable": "tau_T2"
         },
         {
          "tau_DL04": 4900000,
          "value": 0.6108339156354675,
          "variable": "tau_T2"
         },
         {
          "tau_DL04": 11000000,
          "value": 0.49008623188403005,
          "variable": "tau_T2"
         },
         {
          "tau_DL04": 1600000,
          "value": 1.0511525224473812,
          "variable": "tau_T2"
         },
         {
          "tau_DL04": 35000000,
          "value": 0.3192548157701803,
          "variable": "tau_T2"
         },
         {
          "tau_DL04": 9600000,
          "value": 0.22184874961635637,
          "variable": "tau_T2"
         },
         {
          "tau_DL04": 8800000,
          "value": 0.6465819348763305,
          "variable": "tau_T2"
         },
         {
          "tau_DL04": 21000000,
          "value": 0.7569619513137056,
          "variable": "tau_T2"
         },
         {
          "tau_DL04": 1700000,
          "value": 1.4855544222565253,
          "variable": "tau_T2"
         },
         {
          "tau_DL04": 26000000,
          "value": -1.0532455119532251,
          "variable": "tau_T2"
         },
         {
          "tau_DL04": 3200000,
          "value": 1.2108533653148932,
          "variable": "tau_T2"
         },
         {
          "tau_DL04": 9900000,
          "value": 1.150492841080688,
          "variable": "tau_T2"
         },
         {
          "tau_DL04": 9500000,
          "value": 0.8855992548316082,
          "variable": "tau_T2"
         },
         {
          "tau_DL04": 4800000,
          "value": 0.7811567605233689,
          "variable": "tau_T2"
         },
         {
          "tau_DL04": 9400000,
          "value": 0.17300018207853934,
          "variable": "tau_T2"
         },
         {
          "tau_DL04": 9600000,
          "value": 0.5740312677277188,
          "variable": "tau_T2"
         },
         {
          "tau_DL04": 8400000,
          "value": 0.7091891695177048,
          "variable": "tau_T2"
         },
         {
          "tau_DL04": 9000000,
          "value": 0.49291552190289434,
          "variable": "tau_T2"
         },
         {
          "tau_DL04": 4600000,
          "value": 0.009340026254143432,
          "variable": "tau_T2"
         },
         {
          "tau_DL04": 4900000,
          "value": -1.0567276244489272,
          "variable": "tau_T2"
         },
         {
          "tau_DL04": 3900000,
          "value": 0.8239087409443188,
          "variable": "tau_T2"
         },
         {
          "tau_DL04": 37000000,
          "value": 0.18767313160549642,
          "variable": "tau_T2"
         },
         {
          "tau_DL04": 10000000,
          "value": 0.3979400086720376,
          "variable": "tau_T2"
         },
         {
          "tau_DL04": 310000,
          "value": 1.8308576008996464,
          "variable": "tau_T2"
         },
         {
          "tau_DL04": 17000000,
          "value": 0.024823583725032145,
          "variable": "tau_T2"
         },
         {
          "tau_DL04": 11000000,
          "value": -0.1549019599857432,
          "variable": "tau_T2"
         },
         {
          "tau_DL04": 2800000,
          "value": 0.3162699622207181,
          "variable": "tau_T2"
         },
         {
          "tau_DL04": 7700000,
          "value": 0.15490195998574316,
          "variable": "tau_T2"
         },
         {
          "tau_DL04": 11000000,
          "value": 0.16272729749769974,
          "variable": "tau_T2"
         },
         {
          "tau_DL04": 9700000,
          "value": 0.31425826139773627,
          "variable": "tau_T2"
         },
         {
          "tau_DL04": 1600000,
          "value": 0.9719712763997564,
          "variable": "tau_T2"
         },
         {
          "tau_DL04": 5200000,
          "value": -0.414973347970818,
          "variable": "tau_T2"
         },
         {
          "tau_DL04": 230000,
          "value": 0.917025764935236,
          "variable": "tau_T2"
         },
         {
          "tau_DL04": 1800000,
          "value": 0.3357921019231931,
          "variable": "tau_T2"
         },
         {
          "tau_DL04": 5300000,
          "value": 0.8439258544662059,
          "variable": "tau_T2"
         },
         {
          "tau_DL04": 8400000,
          "value": -0.21670910996394532,
          "variable": "tau_T2"
         },
         {
          "tau_DL04": 9700000,
          "value": 0.5447071827760103,
          "variable": "tau_T2"
         },
         {
          "tau_DL04": 5400000,
          "value": -1.088941083336781,
          "variable": "tau_T2"
         },
         {
          "tau_DL04": 2900000,
          "value": 0.7928745072043499,
          "variable": "tau_T2"
         },
         {
          "tau_DL04": 12000000,
          "value": -0.4771212547196625,
          "variable": "tau_T2"
         },
         {
          "tau_DL04": 7400000,
          "value": 0.8789563072752242,
          "variable": "tau_T2"
         },
         {
          "tau_DL04": 4800000,
          "value": 0.4648867983026508,
          "variable": "tau_T2"
         },
         {
          "tau_DL04": 470000,
          "value": 1.2869435343853761,
          "variable": "tau_T2"
         },
         {
          "tau_DL04": 18000000,
          "value": 0.5300573299074609,
          "variable": "tau_T2"
         },
         {
          "tau_DL04": 9500000,
          "value": 0.10145764075877703,
          "variable": "tau_T2"
         },
         {
          "tau_DL04": 3300000,
          "value": 0.9438840580210686,
          "variable": "tau_T2"
         },
         {
          "tau_DL04": 9400000,
          "value": 0.3490914411342206,
          "variable": "tau_T2"
         },
         {
          "tau_DL04": 4800000,
          "value": 0.12493873660829992,
          "variable": "tau_T2"
         },
         {
          "tau_DL04": 2900000,
          "value": 0.7136932611567252,
          "variable": "tau_T2"
         },
         {
          "tau_DL04": 5400000,
          "value": 1.4717262228329564,
          "variable": "tau_T2"
         },
         {
          "tau_DL04": 9700000,
          "value": 0.6944695031093424,
          "variable": "tau_T2"
         },
         {
          "tau_DL04": 16000000,
          "value": 0.5362427068383191,
          "variable": "tau_T2"
         },
         {
          "tau_DL04": 9900000,
          "value": 0.04575749056067514,
          "variable": "tau_T2"
         },
         {
          "tau_DL04": 19000000,
          "value": 0.5205869485007527,
          "variable": "tau_T2"
         },
         {
          "tau_DL04": 19000000,
          "value": -0.2964823679132605,
          "variable": "tau_T2"
         },
         {
          "tau_DL04": 9900000,
          "value": 0.283118406355279,
          "variable": "tau_T2"
         },
         {
          "tau_DL04": 2900000,
          "value": 1,
          "variable": "tau_T2"
         },
         {
          "tau_DL04": 17000000,
          "value": 0.5548809136324931,
          "variable": "tau_T2"
         },
         {
          "tau_DL04": 9500000,
          "value": 0.8796088911424207,
          "variable": "tau_T2"
         },
         {
          "tau_DL04": 9700000,
          "value": 1.09240951178138,
          "variable": "tau_T2"
         },
         {
          "tau_DL04": 16000000,
          "value": -2.1627272974976997,
          "variable": "tau_T2"
         },
         {
          "tau_DL04": 13000000,
          "value": 0.4881166390211257,
          "variable": "tau_T2"
         },
         {
          "tau_DL04": 2000000,
          "value": 1.550228353055094,
          "variable": "tau_T2"
         },
         {
          "tau_DL04": 9500000,
          "value": 0.4202164033831899,
          "variable": "tau_T2"
         },
         {
          "tau_DL04": 9900000,
          "value": 0.40230481407448765,
          "variable": "tau_T2"
         },
         {
          "tau_DL04": 4000000,
          "value": 0.8129133566428556,
          "variable": "tau_T2"
         },
         {
          "tau_DL04": 9700000,
          "value": 1.1893195247894364,
          "variable": "tau_T2"
         },
         {
          "tau_DL04": 6300000,
          "value": 1.1500494571913311,
          "variable": "tau_T2"
         },
         {
          "tau_DL04": 1200000,
          "value": 0.9075904882186201,
          "variable": "tau_T2"
         },
         {
          "tau_DL04": 240000,
          "value": 1.0821867561873502,
          "variable": "tau_T2"
         },
         {
          "tau_DL04": 9400000,
          "value": 0.4892701442992574,
          "variable": "tau_T2"
         },
         {
          "tau_DL04": 3700000,
          "value": -1.7421269213661685,
          "variable": "tau_T2"
         },
         {
          "tau_DL04": 900000,
          "value": 1.1249387366083,
          "variable": "tau_T2"
         },
         {
          "tau_DL04": 4100000,
          "value": 0.010465433678164977,
          "variable": "tau_T2"
         },
         {
          "tau_DL04": 170,
          "value": 5.360615685648225,
          "variable": "tau_T2"
         },
         {
          "tau_DL04": 170000,
          "value": 2.349334675238536,
          "variable": "tau_T2"
         },
         {
          "tau_DL04": 1800000,
          "value": 1.066946789630613,
          "variable": "tau_T2"
         },
         {
          "tau_DL04": 21000000,
          "value": 0.3498785632017982,
          "variable": "tau_T2"
         },
         {
          "tau_DL04": 9700000,
          "value": 0.5447071827760103,
          "variable": "tau_T2"
         },
         {
          "tau_DL04": 7000000,
          "value": 0.8176597916673172,
          "variable": "tau_T2"
         },
         {
          "tau_DL04": 9300000,
          "value": 0.14546040375290167,
          "variable": "tau_T2"
         },
         {
          "tau_DL04": 390000,
          "value": 1.9771371170404959,
          "variable": "tau_T2"
         },
         {
          "tau_DL04": 24000000,
          "value": 0.17609125905568124,
          "variable": "tau_T2"
         },
         {
          "tau_DL04": 2400000,
          "value": 0.7337321105952308,
          "variable": "tau_T2"
         },
         {
          "tau_DL04": 3800000,
          "value": 0.596307662438871,
          "variable": "tau_T2"
         },
         {
          "tau_DL04": 3500000,
          "value": 0.9030899869919435,
          "variable": "tau_T2"
         },
         {
          "tau_DL04": 4800000,
          "value": 0.2918866162241114,
          "variable": "tau_T2"
         },
         {
          "tau_DL04": 5800000,
          "value": 0.8700404620166493,
          "variable": "tau_T2"
         },
         {
          "tau_DL04": 8900000,
          "value": 0.7666133369898864,
          "variable": "tau_T2"
         },
         {
          "tau_DL04": 8700,
          "value": 3.7417219847569685,
          "variable": "tau_T2"
         },
         {
          "tau_DL04": 640000,
          "value": 1.656218023915069,
          "variable": "tau_T2"
         },
         {
          "tau_DL04": 9700000,
          "value": 0.5930118623505652,
          "variable": "tau_T2"
         },
         {
          "tau_DL04": 10000000,
          "value": 0.3424226808222063,
          "variable": "tau_T2"
         },
         {
          "tau_DL04": 7200000,
          "value": 0.18406018872695656,
          "variable": "tau_T2"
         },
         {
          "tau_DL04": 5400000,
          "value": 0.7990851572192866,
          "variable": "tau_T2"
         },
         {
          "tau_DL04": 22000000,
          "value": 0.7367585652254185,
          "variable": "tau_T2"
         },
         {
          "tau_DL04": 9800000,
          "value": -0.8450980400142569,
          "variable": "tau_T2"
         },
         {
          "tau_DL04": 350000,
          "value": 0.49732464080794936,
          "variable": "tau_T2"
         },
         {
          "tau_DL04": 8400000,
          "value": 0.4906940619089363,
          "variable": "tau_T2"
         },
         {
          "tau_DL04": 200000,
          "value": -1.709965388637482,
          "variable": "tau_T2"
         },
         {
          "tau_DL04": 9600000,
          "value": 0.27300127206373764,
          "variable": "tau_T2"
         },
         {
          "tau_DL04": 6200000,
          "value": 0.8410767660813326,
          "variable": "tau_T2"
         },
         {
          "tau_DL04": 220000,
          "value": 2.4704906758206495,
          "variable": "tau_T2"
         },
         {
          "tau_DL04": 9500000,
          "value": 1.4202164033831899,
          "variable": "tau_T2"
         },
         {
          "tau_DL04": 84000,
          "value": 2.774690718274137,
          "variable": "tau_T2"
         },
         {
          "tau_DL04": 9400000,
          "value": 0.8593810591065376,
          "variable": "tau_T2"
         },
         {
          "tau_DL04": 18000000,
          "value": 0.19188552623891314,
          "variable": "tau_T2"
         },
         {
          "tau_DL04": 9100000,
          "value": 0.38338128850111264,
          "variable": "tau_T2"
         },
         {
          "tau_DL04": 250000,
          "value": 1.561101383649056,
          "variable": "tau_T2"
         },
         {
          "tau_DL04": 26000000,
          "value": 0.5488144793747373,
          "variable": "tau_T2"
         },
         {
          "tau_DL04": 19000000,
          "value": -0.35447431489094733,
          "variable": "tau_T2"
         },
         {
          "tau_DL04": 4800000,
          "value": 1.0821867561873502,
          "variable": "tau_T2"
         },
         {
          "tau_DL04": 4900000,
          "value": 0.18486518336318636,
          "variable": "tau_T2"
         },
         {
          "tau_DL04": 20000000,
          "value": -0.4621809049267259,
          "variable": "tau_T2"
         },
         {
          "tau_DL04": 17000000,
          "value": 0.04830467957455504,
          "variable": "tau_T2"
         },
         {
          "tau_DL04": 9400000,
          "value": 0.6289321377282637,
          "variable": "tau_T2"
         },
         {
          "tau_DL04": 9700000,
          "value": 0.4756262636327112,
          "variable": "tau_T2"
         },
         {
          "tau_DL04": 20000000,
          "value": 0.46982201597816303,
          "variable": "tau_T2"
         },
         {
          "tau_DL04": 4600000,
          "value": 0.7174534100300319,
          "variable": "tau_T2"
         },
         {
          "tau_DL04": 4100000,
          "value": 1.030668819766452,
          "variable": "tau_T2"
         },
         {
          "tau_DL04": 4200000,
          "value": 0.13262556527459096,
          "variable": "tau_T2"
         },
         {
          "tau_DL04": 5400000,
          "value": 1.0234810958495228,
          "variable": "tau_T2"
         },
         {
          "tau_DL04": 96000,
          "value": 2,
          "variable": "tau_T2"
         },
         {
          "tau_DL04": 120000,
          "value": 1.151267675330649,
          "variable": "tau_T2"
         },
         {
          "tau_DL04": 1200000,
          "value": 1.7403626894942439,
          "variable": "tau_T2"
         },
         {
          "tau_DL04": 310000,
          "value": 2.1713961378473012,
          "variable": "tau_T2"
         },
         {
          "tau_DL04": 8200000,
          "value": 0.31663506899455723,
          "variable": "tau_T2"
         },
         {
          "tau_DL04": 2900000,
          "value": 1.200359833782618,
          "variable": "tau_T2"
         },
         {
          "tau_DL04": 9900000,
          "value": 0.43572856956143735,
          "variable": "tau_T2"
         },
         {
          "tau_DL04": 5400000,
          "value": 0.7589679340113041,
          "variable": "tau_T2"
         },
         {
          "tau_DL04": 13000000,
          "value": 0.33321467903538243,
          "variable": "tau_T2"
         },
         {
          "tau_DL04": 4700000,
          "value": 0.060295901887251084,
          "variable": "tau_T2"
         },
         {
          "tau_DL04": 48000,
          "value": 2.4327021149312493,
          "variable": "tau_T2"
         },
         {
          "tau_DL04": 2600000,
          "value": 1.1165055690714372,
          "variable": "tau_T2"
         },
         {
          "tau_DL04": 9300000,
          "value": 1.1106982974936896,
          "variable": "tau_T2"
         },
         {
          "tau_DL04": 3900000,
          "value": 0.2954261181459827,
          "variable": "tau_T2"
         },
         {
          "tau_DL04": 5000000,
          "value": 0.2787536009528289,
          "variable": "tau_T2"
         },
         {
          "tau_DL04": 2400000,
          "value": 0.6989700043360189,
          "variable": "tau_T2"
         },
         {
          "tau_DL04": 4800000,
          "value": 0.8869604866914078,
          "variable": "tau_T2"
         },
         {
          "tau_DL04": 4800000,
          "value": 0.8372727025023002,
          "variable": "tau_T2"
         },
         {
          "tau_DL04": 9500000,
          "value": 0.5785788954784394,
          "variable": "tau_T2"
         },
         {
          "tau_DL04": 20000000,
          "value": 0.37106786227173627,
          "variable": "tau_T2"
         },
         {
          "tau_DL04": 4100000,
          "value": 0.6176650646585384,
          "variable": "tau_T2"
         },
         {
          "tau_DL04": 4500000,
          "value": 0.9378520932511555,
          "variable": "tau_T2"
         },
         {
          "tau_DL04": 960000,
          "value": 0.19382002601611284,
          "variable": "tau_T2"
         },
         {
          "tau_DL04": 11000000,
          "value": -1.3979400086720375,
          "variable": "tau_T2"
         },
         {
          "tau_DL04": 7200000,
          "value": -0.07918124604762482,
          "variable": "tau_T2"
         },
         {
          "tau_DL04": 13000000,
          "value": -0.15015552496128148,
          "variable": "tau_T2"
         },
         {
          "tau_DL04": 1400000,
          "value": 0.9678153166285988,
          "variable": "tau_T2"
         },
         {
          "tau_DL04": 2900000,
          "value": 0.9525753500718619,
          "variable": "tau_T2"
         },
         {
          "tau_DL04": 3300000,
          "value": 0.4057653461839942,
          "variable": "tau_T2"
         },
         {
          "tau_DL04": 9600000,
          "value": 1.0045005012266763,
          "variable": "tau_T2"
         },
         {
          "tau_DL04": 9700000,
          "value": 0.9053228684242356,
          "variable": "tau_T2"
         },
         {
          "tau_DL04": 9700000,
          "value": 0.9323063581098291,
          "variable": "tau_T2"
         },
         {
          "tau_DL04": 400000,
          "value": 0.8603380065709937,
          "variable": "tau_T2"
         },
         {
          "tau_DL04": 3800000,
          "value": -0.11738559871785405,
          "variable": "tau_T2"
         },
         {
          "tau_DL04": 27000000,
          "value": 0.5276776281621063,
          "variable": "tau_T2"
         },
         {
          "tau_DL04": 9100000,
          "value": 0.36317790241282566,
          "variable": "tau_T2"
         },
         {
          "tau_DL04": 3300000,
          "value": 0.5954294124289493,
          "variable": "tau_T2"
         },
         {
          "tau_DL04": 1100000,
          "value": 0.6020599913279624,
          "variable": "tau_T2"
         },
         {
          "tau_DL04": 580000,
          "value": 1.66793577059605,
          "variable": "tau_T2"
         },
         {
          "tau_DL04": 9900000,
          "value": -1.5185139398778875,
          "variable": "tau_T2"
         },
         {
          "tau_DL04": 23000000,
          "value": 0.49560466041367557,
          "variable": "tau_T2"
         },
         {
          "tau_DL04": 9900000,
          "value": 0.5358437224447052,
          "variable": "tau_T2"
         },
         {
          "tau_DL04": 17000000,
          "value": 0.33775280268872104,
          "variable": "tau_T2"
         },
         {
          "tau_DL04": 9600000,
          "value": 0.5362427068383191,
          "variable": "tau_T2"
         },
         {
          "tau_DL04": 9600000,
          "value": 0.9262137858390813,
          "variable": "tau_T2"
         },
         {
          "tau_DL04": 4900000,
          "value": 0.8895875165882965,
          "variable": "tau_T2"
         },
         {
          "tau_DL04": 9000000,
          "value": 0.5371191843949479,
          "variable": "tau_T2"
         },
         {
          "tau_DL04": 11000000,
          "value": 0.4637572931616809,
          "variable": "tau_T2"
         },
         {
          "tau_DL04": 5400000,
          "value": 0.5898255349109507,
          "variable": "tau_T2"
         },
         {
          "tau_DL04": 110000,
          "value": 2.338818556553381,
          "variable": "tau_T2"
         },
         {
          "tau_DL04": 1900000,
          "value": 0.7168815936447209,
          "variable": "tau_T2"
         },
         {
          "tau_DL04": 5200000,
          "value": 0.7463946542641569,
          "variable": "tau_T2"
         },
         {
          "tau_DL04": 860000,
          "value": 1.5126595800986515,
          "variable": "tau_T2"
         },
         {
          "tau_DL04": 1800000,
          "value": 0.36797678529459443,
          "variable": "tau_T2"
         },
         {
          "tau_DL04": 9600000,
          "value": 0.4156687756324692,
          "variable": "tau_T2"
         },
         {
          "tau_DL04": 9600000,
          "value": 0.05912145211865659,
          "variable": "tau_T2"
         },
         {
          "tau_DL04": 4000000,
          "value": 1.2787536009528289,
          "variable": "tau_T2"
         },
         {
          "tau_DL04": 15000000,
          "value": -0.02996322337744321,
          "variable": "tau_T2"
         },
         {
          "tau_DL04": 19000000,
          "value": -0.8163556030538729,
          "variable": "tau_T2"
         },
         {
          "tau_DL04": 9600000,
          "value": 0.5740312677277188,
          "variable": "tau_T2"
         },
         {
          "tau_DL04": 24000000,
          "value": 0.4522976709946303,
          "variable": "tau_T2"
         },
         {
          "tau_DL04": 3500000,
          "value": 0.9744458955276118,
          "variable": "tau_T2"
         },
         {
          "tau_DL04": 20000000,
          "value": 0.13033376849500614,
          "variable": "tau_T2"
         },
         {
          "tau_DL04": 2400000,
          "value": 1.2532572138679805,
          "variable": "tau_T2"
         },
         {
          "tau_DL04": 1900000,
          "value": 1.5663444390614278,
          "variable": "tau_T2"
         },
         {
          "tau_DL04": 620000,
          "value": 2.0884219027825375,
          "variable": "tau_T2"
         },
         {
          "tau_DL04": 9100000,
          "value": 0.4881166390211257,
          "variable": "tau_T2"
         },
         {
          "tau_DL04": 11000000,
          "value": 0.35654732351381263,
          "variable": "tau_T2"
         },
         {
          "tau_DL04": 140000,
          "value": 0.9678153166285988,
          "variable": "tau_T2"
         },
         {
          "tau_DL04": 9300000,
          "value": 0.4117282931576709,
          "variable": "tau_T2"
         },
         {
          "tau_DL04": 19000000,
          "value": 0,
          "variable": "tau_T2"
         },
         {
          "tau_DL04": 9400000,
          "value": 0.5182338402345741,
          "variable": "tau_T2"
         },
         {
          "tau_DL04": 600000,
          "value": 1.2086204838826013,
          "variable": "tau_T2"
         },
         {
          "tau_DL04": 9700000,
          "value": 0.6944695031093424,
          "variable": "tau_T2"
         },
         {
          "tau_DL04": 140000,
          "value": 2.3309932190414244,
          "variable": "tau_T2"
         },
         {
          "tau_DL04": 1100000,
          "value": 1.8394209071225662,
          "variable": "tau_T2"
         },
         {
          "tau_DL04": 11000000,
          "value": 0.3203351508593678,
          "variable": "tau_T2"
         },
         {
          "tau_DL04": 5800000,
          "value": 0.20969986003676136,
          "variable": "tau_T2"
         },
         {
          "tau_DL04": 6800000,
          "value": 0.46852108295774486,
          "variable": "tau_T2"
         },
         {
          "tau_DL04": 9600000,
          "value": 0.27300127206373764,
          "variable": "tau_T2"
         },
         {
          "tau_DL04": 93000,
          "value": 2.332547047110046,
          "variable": "tau_T2"
         },
         {
          "tau_DL04": 460000,
          "value": 1.2962835606395195,
          "variable": "tau_T2"
         },
         {
          "tau_DL04": 140000,
          "value": 0.9330532103693868,
          "variable": "tau_T2"
         },
         {
          "tau_DL04": 2700000,
          "value": 0.2588323158695264,
          "variable": "tau_T2"
         },
         {
          "tau_DL04": 5200000,
          "value": 1.0621479067488444,
          "variable": "tau_T2"
         },
         {
          "tau_DL04": 12000000,
          "value": 0.6766936096248666,
          "variable": "tau_T2"
         },
         {
          "tau_DL04": 9900000,
          "value": 0.3053948010664313,
          "variable": "tau_T2"
         },
         {
          "tau_DL04": 4700000,
          "value": 0.09875415370642669,
          "variable": "tau_T2"
         },
         {
          "tau_DL04": 810000,
          "value": 1.0157942671832318,
          "variable": "tau_T2"
         },
         {
          "tau_DL04": 6000000,
          "value": 1.1194758409067977,
          "variable": "tau_T2"
         },
         {
          "tau_DL04": 9700000,
          "value": 0.09240951178137999,
          "variable": "tau_T2"
         },
         {
          "tau_DL04": 3900000,
          "value": 0.1413291527964693,
          "variable": "tau_T2"
         },
         {
          "tau_DL04": 9900000,
          "value": 0.3053948010664313,
          "variable": "tau_T2"
         },
         {
          "tau_DL04": 4200000,
          "value": 0.853871964321762,
          "variable": "tau_T2"
         },
         {
          "tau_DL04": 3900000,
          "value": 1.0217192496932364,
          "variable": "tau_T2"
         },
         {
          "tau_DL04": 4900000,
          "value": 0.8895875165882965,
          "variable": "tau_T2"
         },
         {
          "tau_DL04": 9700000,
          "value": 0.9108553570241965,
          "variable": "tau_T2"
         },
         {
          "tau_DL04": 4300000,
          "value": 0.9228340451877007,
          "variable": "tau_T2"
         },
         {
          "tau_DL04": 2400000,
          "value": 1.1383026981662814,
          "variable": "tau_T2"
         },
         {
          "tau_DL04": 1200000,
          "value": 1.034762106259212,
          "variable": "tau_T2"
         },
         {
          "tau_DL04": 28000000,
          "value": -0.9030899869919435,
          "variable": "tau_T2"
         },
         {
          "tau_DL04": 31000000,
          "value": 0.2645131618382187,
          "variable": "tau_T2"
         },
         {
          "tau_DL04": 590000,
          "value": 0.785450489125143,
          "variable": "tau_T2"
         },
         {
          "tau_DL04": 420000,
          "value": 2.1691423991003536,
          "variable": "tau_T2"
         },
         {
          "tau_DL04": 9400000,
          "value": 0.3056257473531303,
          "variable": "tau_T2"
         },
         {
          "tau_DL04": 5300000,
          "value": 1.162214855571693,
          "variable": "tau_T2"
         },
         {
          "tau_DL04": 4200000,
          "value": 1.1620805446128666,
          "variable": "tau_T2"
         },
         {
          "tau_DL04": 12000000,
          "value": -0.24033215531036953,
          "variable": "tau_T2"
         },
         {
          "tau_DL04": 7600000,
          "value": 0.043465693781090345,
          "variable": "tau_T2"
         },
         {
          "tau_DL04": 5800000,
          "value": 0.41266326549274396,
          "variable": "tau_T2"
         },
         {
          "tau_DL04": 4100000,
          "value": 1,
          "variable": "tau_T2"
         },
         {
          "tau_DL04": 9500000,
          "value": -0.8315955696106098,
          "variable": "tau_T2"
         },
         {
          "tau_DL04": 2900000,
          "value": 0.21884323947663112,
          "variable": "tau_T2"
         },
         {
          "tau_DL04": 7900000,
          "value": -0.274377800892541,
          "variable": "tau_T2"
         },
         {
          "tau_DL04": 9600000,
          "value": 0.05912145211865659,
          "variable": "tau_T2"
         },
         {
          "tau_DL04": 5800000,
          "value": 0.8993298381186368,
          "variable": "tau_T2"
         },
         {
          "tau_DL04": 7000000,
          "value": 0.43365556093857216,
          "variable": "tau_T2"
         },
         {
          "tau_DL04": 6800000,
          "value": 0.6860050271716511,
          "variable": "tau_T2"
         },
         {
          "tau_DL04": 18000000,
          "value": -0.14132915279646932,
          "variable": "tau_T2"
         },
         {
          "tau_DL04": 1700000,
          "value": 0.5329790721846633,
          "variable": "tau_T2"
         },
         {
          "tau_DL04": 13000000,
          "value": 0.062147906748844434,
          "variable": "tau_T2"
         },
         {
          "tau_DL04": 2000000,
          "value": 0.667452952889954,
          "variable": "tau_T2"
         },
         {
          "tau_DL04": 9400000,
          "value": 0.8122019814110684,
          "variable": "tau_T2"
         },
         {
          "tau_DL04": 700000,
          "value": 1.3309932190414244,
          "variable": "tau_T2"
         },
         {
          "tau_DL04": 2600000,
          "value": 0.840299157132488,
          "variable": "tau_T2"
         },
         {
          "tau_DL04": 280000,
          "value": 1.1962946451439682,
          "variable": "tau_T2"
         },
         {
          "tau_DL04": 980000,
          "value": 0.6320232147054056,
          "variable": "tau_T2"
         },
         {
          "tau_DL04": 9100000,
          "value": 0.027730341945151244,
          "variable": "tau_T2"
         },
         {
          "tau_DL04": 140000,
          "value": 2.594234653816006,
          "variable": "tau_T2"
         },
         {
          "tau_DL04": 13000000,
          "value": 0.3174204118521506,
          "variable": "tau_T2"
         },
         {
          "tau_DL04": 19000000,
          "value": -0.07463361829690421,
          "variable": "tau_T2"
         },
         {
          "tau_DL04": 3700000,
          "value": 0.6622471973112789,
          "variable": "tau_T2"
         },
         {
          "tau_DL04": 1600000,
          "value": 1.4860760973725888,
          "variable": "tau_T2"
         },
         {
          "tau_DL04": 3900000,
          "value": 0.9274493328513883,
          "variable": "tau_T2"
         },
         {
          "tau_DL04": 13000000,
          "value": 0.6642078980768068,
          "variable": "tau_T2"
         },
         {
          "tau_DL04": 2000000,
          "value": 0.9542425094393249,
          "variable": "tau_T2"
         },
         {
          "tau_DL04": 9100000,
          "value": 0.12013985372653123,
          "variable": "tau_T2"
         },
         {
          "tau_DL04": 8500000,
          "value": 0.7518223116612945,
          "variable": "tau_T2"
         },
         {
          "tau_DL04": 6000000,
          "value": 0.6368220975871743,
          "variable": "tau_T2"
         },
         {
          "tau_DL04": 90000,
          "value": 1.7533276666586115,
          "variable": "tau_T2"
         },
         {
          "tau_DL04": 1700000,
          "value": 0.6886291709978,
          "variable": "tau_T2"
         },
         {
          "tau_DL04": 7500000,
          "value": 0.587336734507256,
          "variable": "tau_T2"
         },
         {
          "tau_DL04": 3600000,
          "value": 0.9751764162749679,
          "variable": "tau_T2"
         },
         {
          "tau_DL04": 12000000,
          "value": 0.8129133566428556,
          "variable": "tau_T2"
         },
         {
          "tau_DL04": 7500000,
          "value": 0.08872656395385518,
          "variable": "tau_T2"
         },
         {
          "tau_DL04": 32000000,
          "value": 0.013363961557981502,
          "variable": "tau_T2"
         },
         {
          "tau_DL04": 14000000,
          "value": 0.3309932190414244,
          "variable": "tau_T2"
         },
         {
          "tau_DL04": 840000,
          "value": 1.6439224380051134,
          "variable": "tau_T2"
         },
         {
          "tau_DL04": 8700000,
          "value": 0.45842075605341903,
          "variable": "tau_T2"
         },
         {
          "tau_DL04": 4900000,
          "value": 0.9725617516530605,
          "variable": "tau_T2"
         },
         {
          "tau_DL04": 4500,
          "value": 3.550907468880581,
          "variable": "tau_T2"
         },
         {
          "tau_DL04": 5900,
          "value": 1.9193440683863694,
          "variable": "tau_T2"
         },
         {
          "tau_DL04": 280000,
          "value": 1.2249398265934983,
          "variable": "tau_T2"
         },
         {
          "tau_DL04": 320000,
          "value": 0.8565778576976869,
          "variable": "tau_T2"
         },
         {
          "tau_DL04": 20000000,
          "value": 0.021189299069938092,
          "variable": "tau_T2"
         },
         {
          "tau_DL04": 8900000,
          "value": 0.19673802903332524,
          "variable": "tau_T2"
         },
         {
          "tau_DL04": 14000000,
          "value": 0.23408320603336794,
          "variable": "tau_T2"
         },
         {
          "tau_DL04": 6300000,
          "value": 0.09828654183685971,
          "variable": "tau_T2"
         },
         {
          "tau_DL04": 23000000,
          "value": 0.05324551195322505,
          "variable": "tau_T2"
         },
         {
          "tau_DL04": 760000,
          "value": 1.3979400086720377,
          "variable": "tau_T2"
         },
         {
          "tau_DL04": 1900000,
          "value": 0.16840443038939024,
          "variable": "tau_T2"
         },
         {
          "tau_DL04": 290000,
          "value": 2.105803726168039,
          "variable": "tau_T2"
         },
         {
          "tau_DL04": 4800000,
          "value": -0.10145764075877708,
          "variable": "tau_T2"
         },
         {
          "tau_DL04": 1800000,
          "value": 0.6989700043360189,
          "variable": "tau_T2"
         },
         {
          "tau_DL04": 9900000,
          "value": -0.03184736725199465,
          "variable": "tau_T2"
         },
         {
          "tau_DL04": 38000000,
          "value": 0.226396377367077,
          "variable": "tau_T2"
         },
         {
          "tau_DL04": 9600000,
          "value": 0.37945660297802447,
          "variable": "tau_T2"
         },
         {
          "tau_DL04": 15000000,
          "value": 0.07918124604762482,
          "variable": "tau_T2"
         },
         {
          "tau_DL04": 210000,
          "value": 1.978810700930062,
          "variable": "tau_T2"
         },
         {
          "tau_DL04": 4800000,
          "value": 1.0177287669604316,
          "variable": "tau_T2"
         },
         {
          "tau_DL04": 36000000,
          "value": 0.11579535716843022,
          "variable": "tau_T2"
         },
         {
          "tau_DL04": 27000000,
          "value": 0.38154959248386827,
          "variable": "tau_T2"
         },
         {
          "tau_DL04": 290000,
          "value": 2.1810546785872313,
          "variable": "tau_T2"
         },
         {
          "tau_DL04": 5000000,
          "value": 0.8061799739838872,
          "variable": "tau_T2"
         },
         {
          "tau_DL04": 9400000,
          "value": 0.9189667490907817,
          "variable": "tau_T2"
         },
         {
          "tau_DL04": 94000,
          "value": 1.7977241580424455,
          "variable": "tau_T2"
         },
         {
          "tau_DL04": 9800000,
          "value": 0.45593195564972433,
          "variable": "tau_T2"
         },
         {
          "tau_DL04": 5400000,
          "value": 0.9665762445130504,
          "variable": "tau_T2"
         },
         {
          "tau_DL04": 9300000,
          "value": 0.46288081560505223,
          "variable": "tau_T2"
         },
         {
          "tau_DL04": 27000000,
          "value": 0.5276776281621063,
          "variable": "tau_T2"
         },
         {
          "tau_DL04": 3000000,
          "value": 0.9852767431792936,
          "variable": "tau_T2"
         },
         {
          "tau_DL04": 9900000,
          "value": -0.03184736725199465,
          "variable": "tau_T2"
         },
         {
          "tau_DL04": 9400000,
          "value": 0.06826483155852639,
          "variable": "tau_T2"
         },
         {
          "tau_DL04": 370000,
          "value": 1.7105518768858339,
          "variable": "tau_T2"
         },
         {
          "tau_DL04": 7500000,
          "value": 0.656417653650555,
          "variable": "tau_T2"
         },
         {
          "tau_DL04": 27000000,
          "value": -0.6831757371527869,
          "variable": "tau_T2"
         },
         {
          "tau_DL04": 9600000,
          "value": -0.8683278807327317,
          "variable": "tau_T2"
         },
         {
          "tau_DL04": 9200000,
          "value": 0.5547261125323322,
          "variable": "tau_T2"
         },
         {
          "tau_DL04": 18000000,
          "value": 0.14266750356873154,
          "variable": "tau_T2"
         },
         {
          "tau_DL04": 910000,
          "value": 1.7130564656146239,
          "variable": "tau_T2"
         },
         {
          "tau_DL04": 17000000,
          "value": 0.27470105694163205,
          "variable": "tau_T2"
         },
         {
          "tau_DL04": 9900000,
          "value": 0.40230481407448765,
          "variable": "tau_T2"
         },
         {
          "tau_DL04": 210000,
          "value": 2.140178703165037,
          "variable": "tau_T2"
         },
         {
          "tau_DL04": 9900000,
          "value": 0.7286406750032391,
          "variable": "tau_T2"
         },
         {
          "tau_DL04": 21000000,
          "value": -1.4191293077419758,
          "variable": "tau_T2"
         },
         {
          "tau_DL04": 23000000,
          "value": -0.8703661421833202,
          "variable": "tau_T2"
         },
         {
          "tau_DL04": 3000000,
          "value": 0.9208187539523752,
          "variable": "tau_T2"
         },
         {
          "tau_DL04": 7000000,
          "value": 0.006160308704818433,
          "variable": "tau_T2"
         },
         {
          "tau_DL04": 21000000,
          "value": 0.3937840489008799,
          "variable": "tau_T2"
         },
         {
          "tau_DL04": 11000000,
          "value": 0.18905623622004886,
          "variable": "tau_T2"
         },
         {
          "tau_DL04": 480000,
          "value": 1.765916793966632,
          "variable": "tau_T2"
         },
         {
          "tau_DL04": 32000000,
          "value": 0.1576078533616681,
          "variable": "tau_T2"
         },
         {
          "tau_DL04": 5800000,
          "value": 0.7680509234793178,
          "variable": "tau_T2"
         },
         {
          "tau_DL04": 9800000,
          "value": 0.4711719222064612,
          "variable": "tau_T2"
         },
         {
          "tau_DL04": 16000000,
          "value": 0,
          "variable": "tau_T2"
         },
         {
          "tau_DL04": 320000,
          "value": 1.4633329702340292,
          "variable": "tau_T2"
         },
         {
          "tau_DL04": 9700000,
          "value": 0.31425826139773627,
          "variable": "tau_T2"
         },
         {
          "tau_DL04": 2000000,
          "value": 0.7781512503836436,
          "variable": "tau_T2"
         },
         {
          "tau_DL04": 9400000,
          "value": 0.9299621333922449,
          "variable": "tau_T2"
         },
         {
          "tau_DL04": 12000000,
          "value": -0.10145764075877708,
          "variable": "tau_T2"
         },
         {
          "tau_DL04": 9700000,
          "value": 0.8940418580145464,
          "variable": "tau_T2"
         },
         {
          "tau_DL04": 7600000,
          "value": 1.0276714265978584,
          "variable": "tau_T2"
         },
         {
          "tau_DL04": 3600000,
          "value": 0.8239087409443188,
          "variable": "tau_T2"
         },
         {
          "tau_DL04": 10000000,
          "value": 0.43136376415898736,
          "variable": "tau_T2"
         },
         {
          "tau_DL04": 29000000,
          "value": 0.24517217819898024,
          "variable": "tau_T2"
         },
         {
          "tau_DL04": 12000000,
          "value": 0.7337321105952308,
          "variable": "tau_T2"
         },
         {
          "tau_DL04": 14000000,
          "value": 0.45593195564972433,
          "variable": "tau_T2"
         },
         {
          "tau_DL04": 13000000,
          "value": 0.032184683371401235,
          "variable": "tau_T2"
         },
         {
          "tau_DL04": 9000000,
          "value": -0.4771212547196625,
          "variable": "tau_T2"
         },
         {
          "tau_DL04": 14000000,
          "value": 0.3979400086720376,
          "variable": "tau_T2"
         },
         {
          "tau_DL04": 12000000,
          "value": -0.5878195522133521,
          "variable": "tau_T2"
         },
         {
          "tau_DL04": 9600000,
          "value": 0.43270211493124955,
          "variable": "tau_T2"
         },
         {
          "tau_DL04": 9300000,
          "value": 0.39324488746365777,
          "variable": "tau_T2"
         },
         {
          "tau_DL04": 9700000,
          "value": 0.8824599854647314,
          "variable": "tau_T2"
         },
         {
          "tau_DL04": 20000000,
          "value": 0.021189299069938092,
          "variable": "tau_T2"
         },
         {
          "tau_DL04": 4300000,
          "value": 0.7815048923912314,
          "variable": "tau_T2"
         },
         {
          "tau_DL04": 7500000,
          "value": 0.01703333929878037,
          "variable": "tau_T2"
         },
         {
          "tau_DL04": 3300000,
          "value": -0.12057393120584987,
          "variable": "tau_T2"
         },
         {
          "tau_DL04": 9900000,
          "value": -0.203243505099296,
          "variable": "tau_T2"
         },
         {
          "tau_DL04": 8200000,
          "value": 0.010465433678164977,
          "variable": "tau_T2"
         },
         {
          "tau_DL04": 17000000,
          "value": -0.18905623622004886,
          "variable": "tau_T3"
         },
         {
          "tau_DL04": 3000000,
          "value": 0.5642714304385625,
          "variable": "tau_T3"
         },
         {
          "tau_DL04": 910000,
          "value": 1.0232298407184748,
          "variable": "tau_T3"
         },
         {
          "tau_DL04": 3800000,
          "value": 0.35471485462675756,
          "variable": "tau_T3"
         },
         {
          "tau_DL04": 9100000,
          "value": -0.07822780004030222,
          "variable": "tau_T3"
         },
         {
          "tau_DL04": 8700000,
          "value": 0.5076387787236007,
          "variable": "tau_T3"
         },
         {
          "tau_DL04": 19000000,
          "value": 0.0636690798693773,
          "variable": "tau_T3"
         },
         {
          "tau_DL04": 1100000,
          "value": 0.6989700043360189,
          "variable": "tau_T3"
         },
         {
          "tau_DL04": 1700000,
          "value": 0.765186273219276,
          "variable": "tau_T3"
         },
         {
          "tau_DL04": 19000000,
          "value": 0.33403025576690654,
          "variable": "tau_T3"
         },
         {
          "tau_DL04": 1700000,
          "value": 1,
          "variable": "tau_T3"
         },
         {
          "tau_DL04": 9400000,
          "value": 0.8397855030431569,
          "variable": "tau_T3"
         },
         {
          "tau_DL04": 5200000,
          "value": 0.8025105962430883,
          "variable": "tau_T3"
         },
         {
          "tau_DL04": 19000000,
          "value": 0.18364439694612714,
          "variable": "tau_T3"
         },
         {
          "tau_DL04": 9800000,
          "value": 0.05016660946573015,
          "variable": "tau_T3"
         },
         {
          "tau_DL04": 210000,
          "value": 1.2905645619858164,
          "variable": "tau_T3"
         },
         {
          "tau_DL04": 140000,
          "value": 1.5862657241447304,
          "variable": "tau_T3"
         },
         {
          "tau_DL04": 18000000,
          "value": 0.06694678963061322,
          "variable": "tau_T3"
         },
         {
          "tau_DL04": 4800000,
          "value": 0.05115252244738129,
          "variable": "tau_T3"
         },
         {
          "tau_DL04": 13000000,
          "value": 0.11650556907143717,
          "variable": "tau_T3"
         },
         {
          "tau_DL04": 9700000,
          "value": 0.9426471914480479,
          "variable": "tau_T3"
         },
         {
          "tau_DL04": 150000,
          "value": 2.8016323462331667,
          "variable": "tau_T3"
         },
         {
          "tau_DL04": 4900000,
          "value": 0.38898516601911115,
          "variable": "tau_T3"
         },
         {
          "tau_DL04": 1400000,
          "value": 0.49732464080794936,
          "variable": "tau_T3"
         },
         {
          "tau_DL04": 1700000,
          "value": 1.4323089103033002,
          "variable": "tau_T3"
         },
         {
          "tau_DL04": 23000000,
          "value": 0.16975108102466221,
          "variable": "tau_T3"
         },
         {
          "tau_DL04": 1900000,
          "value": 0.8004276450947958,
          "variable": "tau_T3"
         },
         {
          "tau_DL04": 860000,
          "value": 0.10689423391465734,
          "variable": "tau_T3"
         },
         {
          "tau_DL04": 930000,
          "value": 1.177645087124303,
          "variable": "tau_T3"
         },
         {
          "tau_DL04": 3700000,
          "value": 1.1130395133085922,
          "variable": "tau_T3"
         },
         {
          "tau_DL04": 9900000,
          "value": 0.4193381533732681,
          "variable": "tau_T3"
         },
         {
          "tau_DL04": 13000000,
          "value": -0.414973347970818,
          "variable": "tau_T3"
         },
         {
          "tau_DL04": 14000000,
          "value": 0.13262556527459096,
          "variable": "tau_T3"
         },
         {
          "tau_DL04": 9800000,
          "value": 0.4401376884664925,
          "variable": "tau_T3"
         },
         {
          "tau_DL04": 9700000,
          "value": -1.2624958646654558,
          "variable": "tau_T3"
         },
         {
          "tau_DL04": 2000000,
          "value": 0.9542425094393249,
          "variable": "tau_T3"
         },
         {
          "tau_DL04": 9300000,
          "value": -0.3152704347785914,
          "variable": "tau_T3"
         },
         {
          "tau_DL04": 720000,
          "value": 0.5406075122407692,
          "variable": "tau_T3"
         },
         {
          "tau_DL04": 9000000,
          "value": 0.5642714304385625,
          "variable": "tau_T3"
         },
         {
          "tau_DL04": 5400000,
          "value": 0.8116742845273072,
          "variable": "tau_T3"
         },
         {
          "tau_DL04": 6300000,
          "value": 0.07572071393811834,
          "variable": "tau_T3"
         },
         {
          "tau_DL04": 6700000,
          "value": 0.6363231951981296,
          "variable": "tau_T3"
         },
         {
          "tau_DL04": 10000000,
          "value": 0.5563025007672873,
          "variable": "tau_T3"
         },
         {
          "tau_DL04": 9000000,
          "value": 0.19188552623891314,
          "variable": "tau_T3"
         },
         {
          "tau_DL04": 2600000,
          "value": -0.8129133566428556,
          "variable": "tau_T3"
         },
         {
          "tau_DL04": 13000000,
          "value": -0.1408154987071381,
          "variable": "tau_T3"
         },
         {
          "tau_DL04": 27000000,
          "value": 0.1814200925607482,
          "variable": "tau_T3"
         },
         {
          "tau_DL04": 3900000,
          "value": 0,
          "variable": "tau_T3"
         },
         {
          "tau_DL04": 9600000,
          "value": 0.05912145211865659,
          "variable": "tau_T3"
         },
         {
          "tau_DL04": 4000000,
          "value": 0.7201593034059569,
          "variable": "tau_T3"
         },
         {
          "tau_DL04": 820000,
          "value": 0.5333441789585025,
          "variable": "tau_T3"
         },
         {
          "tau_DL04": 3900000,
          "value": 0.3383543186877935,
          "variable": "tau_T3"
         },
         {
          "tau_DL04": 9600000,
          "value": 0.19382002601611284,
          "variable": "tau_T3"
         },
         {
          "tau_DL04": 17000000,
          "value": -0.2304489213782739,
          "variable": "tau_T3"
         },
         {
          "tau_DL04": 8600000,
          "value": 0.5706515270763383,
          "variable": "tau_T3"
         },
         {
          "tau_DL04": 9000000,
          "value": 0.12493873660829992,
          "variable": "tau_T3"
         },
         {
          "tau_DL04": 3600000,
          "value": 0.9060954971316688,
          "variable": "tau_T3"
         },
         {
          "tau_DL04": 8600000,
          "value": -0.17107045768063045,
          "variable": "tau_T3"
         },
         {
          "tau_DL04": 4300000,
          "value": 0.31592155106532627,
          "variable": "tau_T3"
         },
         {
          "tau_DL04": 9700000,
          "value": 0.46038629707597434,
          "variable": "tau_T3"
         },
         {
          "tau_DL04": 5500000,
          "value": 0.007825337511956526,
          "variable": "tau_T3"
         },
         {
          "tau_DL04": 5200000,
          "value": 0.4600879154208821,
          "variable": "tau_T3"
         },
         {
          "tau_DL04": 13000000,
          "value": -0.13167211926726835,
          "variable": "tau_T3"
         },
         {
          "tau_DL04": 28000000,
          "value": -0.33321467903538243,
          "variable": "tau_T3"
         },
         {
          "tau_DL04": 6700000,
          "value": 0.012774288036428919,
          "variable": "tau_T3"
         },
         {
          "tau_DL04": 50000,
          "value": 1.6232492903979006,
          "variable": "tau_T3"
         },
         {
          "tau_DL04": 9000000,
          "value": -0.1029841607202496,
          "variable": "tau_T3"
         },
         {
          "tau_DL04": 280000,
          "value": 1.2430380486862944,
          "variable": "tau_T3"
         },
         {
          "tau_DL04": 4294967295,
          "value": -3.0201760044265455,
          "variable": "tau_T3"
         },
         {
          "tau_DL04": 510000,
          "value": 0.2836558995945585,
          "variable": "tau_T3"
         },
         {
          "tau_DL04": 430000,
          "value": 1.4804748967272503,
          "variable": "tau_T3"
         },
         {
          "tau_DL04": 13000000,
          "value": 0.6642078980768068,
          "variable": "tau_T3"
         },
         {
          "tau_DL04": 9300000,
          "value": -0.3556990918341996,
          "variable": "tau_T3"
         },
         {
          "tau_DL04": 9600000,
          "value": 0.4648867983026508,
          "variable": "tau_T3"
         },
         {
          "tau_DL04": 2700000,
          "value": 0.419894584560088,
          "variable": "tau_T3"
         },
         {
          "tau_DL04": 11000000,
          "value": 0.4637572931616809,
          "variable": "tau_T3"
         },
         {
          "tau_DL04": 46000,
          "value": 2.592514673421732,
          "variable": "tau_T3"
         },
         {
          "tau_DL04": 9700000,
          "value": 0.26850077083706125,
          "variable": "tau_T3"
         },
         {
          "tau_DL04": 5400000,
          "value": 0.08051959681988707,
          "variable": "tau_T3"
         },
         {
          "tau_DL04": 13000000,
          "value": -0.26268500358776153,
          "variable": "tau_T3"
         },
         {
          "tau_DL04": 27000000,
          "value": 0.3245110915135041,
          "variable": "tau_T3"
         },
         {
          "tau_DL04": 290000,
          "value": 0.7928745072043499,
          "variable": "tau_T3"
         },
         {
          "tau_DL04": 13000000,
          "value": 0.11650556907143717,
          "variable": "tau_T3"
         },
         {
          "tau_DL04": 13000000,
          "value": 0.09017663034908803,
          "variable": "tau_T3"
         },
         {
          "tau_DL04": 1700000,
          "value": 1.0248235837250321,
          "variable": "tau_T3"
         },
         {
          "tau_DL04": 8700000,
          "value": 0.3615107430453627,
          "variable": "tau_T3"
         },
         {
          "tau_DL04": 5100000,
          "value": 0.4385578595803017,
          "variable": "tau_T3"
         },
         {
          "tau_DL04": 3900000,
          "value": 0.9771371170404958,
          "variable": "tau_T3"
         },
         {
          "tau_DL04": 32000000,
          "value": 0.16694787961581148,
          "variable": "tau_T3"
         },
         {
          "tau_DL04": 22000000,
          "value": 0.037788560889399754,
          "variable": "tau_T3"
         },
         {
          "tau_DL04": 6300000,
          "value": -0.06694678963061322,
          "variable": "tau_T3"
         },
         {
          "tau_DL04": 510000,
          "value": -0.3458423400803435,
          "variable": "tau_T3"
         },
         {
          "tau_DL04": 26000000,
          "value": 0.4715173772016639,
          "variable": "tau_T3"
         },
         {
          "tau_DL04": 5900000,
          "value": 0.6270879970298935,
          "variable": "tau_T3"
         },
         {
          "tau_DL04": 9500000,
          "value": 0.136219747017989,
          "variable": "tau_T3"
         },
         {
          "tau_DL04": 11000000,
          "value": -0.4079242295786385,
          "variable": "tau_T3"
         },
         {
          "tau_DL04": 5100000,
          "value": 0.4965498065579884,
          "variable": "tau_T3"
         },
         {
          "tau_DL04": 370000,
          "value": 1.4140695089725734,
          "variable": "tau_T3"
         },
         {
          "tau_DL04": 1800000,
          "value": 0.6989700043360189,
          "variable": "tau_T3"
         },
         {
          "tau_DL04": 9500000,
          "value": -0.44624468824659264,
          "variable": "tau_T3"
         },
         {
          "tau_DL04": 38000000,
          "value": 0.12778657948112618,
          "variable": "tau_T3"
         },
         {
          "tau_DL04": 10000000,
          "value": 0.146128035678238,
          "variable": "tau_T3"
         },
         {
          "tau_DL04": 970000,
          "value": 1.291981866686584,
          "variable": "tau_T3"
         },
         {
          "tau_DL04": 15000000,
          "value": 0.31527043477859146,
          "variable": "tau_T3"
         },
         {
          "tau_DL04": 320000,
          "value": 1.8372727025023003,
          "variable": "tau_T3"
         },
         {
          "tau_DL04": 9600000,
          "value": 0,
          "variable": "tau_T3"
         },
         {
          "tau_DL04": 9200000,
          "value": 0.3372421683184259,
          "variable": "tau_T3"
         },
         {
          "tau_DL04": 6300000,
          "value": 0.24205213570464335,
          "variable": "tau_T3"
         },
         {
          "tau_DL04": 220000,
          "value": 1.7367585652254185,
          "variable": "tau_T3"
         },
         {
          "tau_DL04": 2900000,
          "value": 0.6515453544078806,
          "variable": "tau_T3"
         },
         {
          "tau_DL04": 5900000,
          "value": 0.13223797534979936,
          "variable": "tau_T3"
         },
         {
          "tau_DL04": 6900000,
          "value": -0.1576078533616681,
          "variable": "tau_T3"
         },
         {
          "tau_DL04": 830000,
          "value": 0.6607055042407363,
          "variable": "tau_T3"
         },
         {
          "tau_DL04": 3900000,
          "value": 0.9887189895903109,
          "variable": "tau_T3"
         },
         {
          "tau_DL04": 7000000,
          "value": 0.3590219426416679,
          "variable": "tau_T3"
         },
         {
          "tau_DL04": 210000,
          "value": 2.257564301882891,
          "variable": "tau_T3"
         },
         {
          "tau_DL04": 7200000,
          "value": 0.12493873660829992,
          "variable": "tau_T3"
         },
         {
          "tau_DL04": 9700000,
          "value": 0.15935630141199317,
          "variable": "tau_T3"
         },
         {
          "tau_DL04": 5700000,
          "value": -0.015512166178247553,
          "variable": "tau_T3"
         },
         {
          "tau_DL04": 4600000,
          "value": 1.0532455119532251,
          "variable": "tau_T3"
         },
         {
          "tau_DL04": 8300000,
          "value": 0.33619441272723216,
          "variable": "tau_T3"
         },
         {
          "tau_DL04": 16000000,
          "value": 0.09691001300805642,
          "variable": "tau_T3"
         },
         {
          "tau_DL04": 630000,
          "value": 1.7569619513137056,
          "variable": "tau_T3"
         },
         {
          "tau_DL04": 4500000,
          "value": -0.02996322337744321,
          "variable": "tau_T3"
         },
         {
          "tau_DL04": 9600000,
          "value": 0.05912145211865659,
          "variable": "tau_T3"
         },
         {
          "tau_DL04": 9400000,
          "value": 0.5453860862781887,
          "variable": "tau_T3"
         },
         {
          "tau_DL04": 9200000,
          "value": 0.26666109403271865,
          "variable": "tau_T3"
         },
         {
          "tau_DL04": 14000000,
          "value": 0.08432088570003587,
          "variable": "tau_T3"
         },
         {
          "tau_DL04": 4800000,
          "value": -1,
          "variable": "tau_T3"
         },
         {
          "tau_DL04": 5800000,
          "value": 0.13966199342900631,
          "variable": "tau_T3"
         },
         {
          "tau_DL04": 7200000,
          "value": 0.023481095849522904,
          "variable": "tau_T3"
         },
         {
          "tau_DL04": 9000000,
          "value": -0.539269161468507,
          "variable": "tau_T3"
         },
         {
          "tau_DL04": 960000,
          "value": 1.651197222540018,
          "variable": "tau_T3"
         },
         {
          "tau_DL04": 9100000,
          "value": 0.12013985372653123,
          "variable": "tau_T3"
         },
         {
          "tau_DL04": 14000000,
          "value": -0.03218468337140124,
          "variable": "tau_T3"
         },
         {
          "tau_DL04": 20000000,
          "value": -0.37161106994968846,
          "variable": "tau_T3"
         },
         {
          "tau_DL04": 9900000,
          "value": 0.509514783722356,
          "variable": "tau_T3"
         },
         {
          "tau_DL04": 530000,
          "value": 0.7070878945581983,
          "variable": "tau_T3"
         },
         {
          "tau_DL04": 500000,
          "value": 1.6989700043360187,
          "variable": "tau_T3"
         },
         {
          "tau_DL04": 4900000,
          "value": -0.07741222330877814,
          "variable": "tau_T3"
         },
         {
          "tau_DL04": 1600000,
          "value": 1.3756636139608853,
          "variable": "tau_T3"
         },
         {
          "tau_DL04": 35000000,
          "value": 0.1635021317476607,
          "variable": "tau_T3"
         },
         {
          "tau_DL04": 3800000,
          "value": -0.3245110915135041,
          "variable": "tau_T3"
         },
         {
          "tau_DL04": 4100000,
          "value": 0.5333441789585025,
          "variable": "tau_T3"
         },
         {
          "tau_DL04": 11000000,
          "value": 0.3010299956639812,
          "variable": "tau_T3"
         },
         {
          "tau_DL04": 9400000,
          "value": 0.6896299780818754,
          "variable": "tau_T3"
         },
         {
          "tau_DL04": 2500000,
          "value": 0.9242792860618817,
          "variable": "tau_T3"
         },
         {
          "tau_DL04": 4200000,
          "value": 0.25756430188289087,
          "variable": "tau_T3"
         },
         {
          "tau_DL04": 13000000,
          "value": 0.11650556907143717,
          "variable": "tau_T3"
         },
         {
          "tau_DL04": 4200000,
          "value": 1.1962946451439682,
          "variable": "tau_T3"
         },
         {
          "tau_DL04": 20000000,
          "value": 0.06069784035361165,
          "variable": "tau_T3"
         },
         {
          "tau_DL04": 5100000,
          "value": -0.08432088570003592,
          "variable": "tau_T3"
         },
         {
          "tau_DL04": 25000000,
          "value": -0.707743928643524,
          "variable": "tau_T3"
         },
         {
          "tau_DL04": 25000000,
          "value": -0.7746907182741372,
          "variable": "tau_T3"
         },
         {
          "tau_DL04": 3900000,
          "value": 0.13321126257428986,
          "variable": "tau_T3"
         },
         {
          "tau_DL04": 7000000,
          "value": 0.5528419686577808,
          "variable": "tau_T3"
         },
         {
          "tau_DL04": 11000000,
          "value": -2.536242706838319,
          "variable": "tau_T3"
         },
         {
          "tau_DL04": 3900000,
          "value": 0.010995384301463145,
          "variable": "tau_T3"
         },
         {
          "tau_DL04": 6700000,
          "value": 0.10334412301346634,
          "variable": "tau_T3"
         },
         {
          "tau_DL04": 4100000,
          "value": 0.3062942356563384,
          "variable": "tau_T3"
         },
         {
          "tau_DL04": 26000000,
          "value": -1.9678153166285988,
          "variable": "tau_T3"
         },
         {
          "tau_DL04": 27000000,
          "value": 0.015794267183231882,
          "variable": "tau_T3"
         },
         {
          "tau_DL04": 17000000,
          "value": 0.09177037335564536,
          "variable": "tau_T3"
         },
         {
          "tau_DL04": 4200000,
          "value": 0.853871964321762,
          "variable": "tau_T3"
         },
         {
          "tau_DL04": 5400000,
          "value": 0.6655462488490691,
          "variable": "tau_T3"
         },
         {
          "tau_DL04": 9500000,
          "value": 0.721246399047171,
          "variable": "tau_T3"
         },
         {
          "tau_DL04": 4300000,
          "value": 0.09892530424338199,
          "variable": "tau_T3"
         },
         {
          "tau_DL04": 5200000,
          "value": 0.946754488046775,
          "variable": "tau_T3"
         },
         {
          "tau_DL04": 1300000,
          "value": 0.6419315033656546,
          "variable": "tau_T3"
         },
         {
          "tau_DL04": 9700000,
          "value": 0.7840802773758994,
          "variable": "tau_T3"
         },
         {
          "tau_DL04": 9600000,
          "value": 0.3601514477826378,
          "variable": "tau_T3"
         },
         {
          "tau_DL04": 19000000,
          "value": -0.5463598411298605,
          "variable": "tau_T3"
         },
         {
          "tau_DL04": 9600000,
          "value": -0.4909095392052957,
          "variable": "tau_T3"
         },
         {
          "tau_DL04": 19000000,
          "value": -0.13262556527459096,
          "variable": "tau_T3"
         },
         {
          "tau_DL04": 4100000,
          "value": 0.02068459885985105,
          "variable": "tau_T3"
         },
         {
          "tau_DL04": 50000,
          "value": 2.57978359661681,
          "variable": "tau_T3"
         },
         {
          "tau_DL04": 200000,
          "value": 1.8129133566428555,
          "variable": "tau_T3"
         },
         {
          "tau_DL04": 980000,
          "value": 0.2640464294108112,
          "variable": "tau_T3"
         },
         {
          "tau_DL04": 950000,
          "value": 1.3010299956639813,
          "variable": "tau_T3"
         },
         {
          "tau_DL04": 22000000,
          "value": -0.08715017571890014,
          "variable": "tau_T3"
         },
         {
          "tau_DL04": 11000000,
          "value": 0.47712125471966244,
          "variable": "tau_T3"
         },
         {
          "tau_DL04": 20000000,
          "value": 0.4548448600085102,
          "variable": "tau_T3"
         },
         {
          "tau_DL04": 4700000,
          "value": 0.5320221247202073,
          "variable": "tau_T3"
         },
         {
          "tau_DL04": 14000000,
          "value": 0.3452336581560347,
          "variable": "tau_T3"
         },
         {
          "tau_DL04": 5300000,
          "value": 0.47984411305513575,
          "variable": "tau_T3"
         },
         {
          "tau_DL04": 1700000,
          "value": 0.760777154314221,
          "variable": "tau_T3"
         },
         {
          "tau_DL04": 20000000,
          "value": 0.021189299069938092,
          "variable": "tau_T3"
         },
         {
          "tau_DL04": 9600000,
          "value": -0.3488027774599819,
          "variable": "tau_T3"
         },
         {
          "tau_DL04": 4100000,
          "value": 0.010465433678164977,
          "variable": "tau_T3"
         },
         {
          "tau_DL04": 12000000,
          "value": 0.3832167518513312,
          "variable": "tau_T3"
         },
         {
          "tau_DL04": 19000000,
          "value": 0.043465693781090345,
          "variable": "tau_T3"
         },
         {
          "tau_DL04": 2700000,
          "value": 0.17069622716897506,
          "variable": "tau_T3"
         },
         {
          "tau_DL04": 220000,
          "value": 1.0377885608893997,
          "variable": "tau_T3"
         },
         {
          "tau_DL04": 21000000,
          "value": -0.3399480616943509,
          "variable": "tau_T3"
         },
         {
          "tau_DL04": 5500000,
          "value": 0,
          "variable": "tau_T3"
         },
         {
          "tau_DL04": 910000,
          "value": 0.15490195998574316,
          "variable": "tau_T3"
         },
         {
          "tau_DL04": 23000000,
          "value": 0.3284682440109208,
          "variable": "tau_T3"
         },
         {
          "tau_DL04": 26000000,
          "value": 0,
          "variable": "tau_T3"
         },
         {
          "tau_DL04": 11000000,
          "value": -1,
          "variable": "tau_T3"
         },
         {
          "tau_DL04": 12000000,
          "value": 0.7061485889631421,
          "variable": "tau_T3"
         },
         {
          "tau_DL04": 9600000,
          "value": 0.3979400086720376,
          "variable": "tau_T3"
         },
         {
          "tau_DL04": 4000000,
          "value": 0.0881360887005513,
          "variable": "tau_T3"
         },
         {
          "tau_DL04": 9500000,
          "value": 0.3233063903751334,
          "variable": "tau_T3"
         },
         {
          "tau_DL04": 9700000,
          "value": 0.09240951178137999,
          "variable": "tau_T3"
         },
         {
          "tau_DL04": 750000,
          "value": 1.4471580313422192,
          "variable": "tau_T3"
         },
         {
          "tau_DL04": 4000000,
          "value": 0.13033376849500614,
          "variable": "tau_T3"
         },
         {
          "tau_DL04": 29000000,
          "value": -0.42100531274073105,
          "variable": "tau_T3"
         },
         {
          "tau_DL04": 610000,
          "value": 1.210305359586783,
          "variable": "tau_T3"
         },
         {
          "tau_DL04": 2900000,
          "value": 1.2779646915952878,
          "variable": "tau_T3"
         },
         {
          "tau_DL04": 4000000,
          "value": 0.16879202031418183,
          "variable": "tau_T3"
         },
         {
          "tau_DL04": 11000000,
          "value": -0.43933269383026263,
          "variable": "tau_T3"
         },
         {
          "tau_DL04": 4600000,
          "value": 1.1501555249612816,
          "variable": "tau_T3"
         },
         {
          "tau_DL04": 1700000,
          "value": 1.0248235837250321,
          "variable": "tau_T3"
         },
         {
          "tau_DL04": 1100000,
          "value": 0.6020599913279624,
          "variable": "tau_T3"
         },
         {
          "tau_DL04": 12000000,
          "value": 0.3357921019231931,
          "variable": "tau_T3"
         },
         {
          "tau_DL04": 11000000,
          "value": 0.3899710790007623,
          "variable": "tau_T3"
         },
         {
          "tau_DL04": 4300000,
          "value": 0.0908074140212025,
          "variable": "tau_T3"
         },
         {
          "tau_DL04": 9400000,
          "value": 0.570940190750577,
          "variable": "tau_T3"
         },
         {
          "tau_DL04": 4000000,
          "value": 0.15381486434452904,
          "variable": "tau_T3"
         },
         {
          "tau_DL04": 16000000,
          "value": 0.1576078533616681,
          "variable": "tau_T3"
         },
         {
          "tau_DL04": 1500000,
          "value": 0.07918124604762482,
          "variable": "tau_T3"
         },
         {
          "tau_DL04": 4400000,
          "value": -0.02020338608828695,
          "variable": "tau_T3"
         },
         {
          "tau_DL04": 11000000,
          "value": 0.49008623188403005,
          "variable": "tau_T3"
         },
         {
          "tau_DL04": 3200000,
          "value": 0.640978057358332,
          "variable": "tau_T3"
         },
         {
          "tau_DL04": 4100000,
          "value": 0.10321948691506366,
          "variable": "tau_T3"
         },
         {
          "tau_DL04": 9100000,
          "value": 0.45593195564972433,
          "variable": "tau_T3"
         },
         {
          "tau_DL04": 12000000,
          "value": 0.1512676753306491,
          "variable": "tau_T3"
         },
         {
          "tau_DL04": 4000000,
          "value": 1.153814864344529,
          "variable": "tau_T3"
         },
         {
          "tau_DL04": 1700000,
          "value": 0.9736710612776509,
          "variable": "tau_T3"
         },
         {
          "tau_DL04": 8600000,
          "value": -0.005079525529274997,
          "variable": "tau_T3"
         },
         {
          "tau_DL04": 29000000,
          "value": -0.10067016188136318,
          "variable": "tau_T3"
         },
         {
          "tau_DL04": 4700000,
          "value": 0.7081133837758886,
          "variable": "tau_T3"
         },
         {
          "tau_DL04": 3200000,
          "value": -0.42596873227228116,
          "variable": "tau_T3"
         },
         {
          "tau_DL04": 9800000,
          "value": 0.5402528413497603,
          "variable": "tau_T3"
         },
         {
          "tau_DL04": 5300000,
          "value": 0.03159898607170235,
          "variable": "tau_T3"
         },
         {
          "tau_DL04": 1800000,
          "value": 0.20712549279565,
          "variable": "tau_T3"
         },
         {
          "tau_DL04": 3900000,
          "value": -0.07255066714861173,
          "variable": "tau_T3"
         },
         {
          "tau_DL04": 9500000,
          "value": -0.013935777943292491,
          "variable": "tau_T3"
         },
         {
          "tau_DL04": 11000,
          "value": 3.0377885608893997,
          "variable": "tau_T3"
         },
         {
          "tau_DL04": 22000000,
          "value": 0.10473535052001297,
          "variable": "tau_T3"
         },
         {
          "tau_DL04": 210000,
          "value": 1.3498785632017982,
          "variable": "tau_T3"
         },
         {
          "tau_DL04": 19000000,
          "value": 0.043465693781090345,
          "variable": "tau_T3"
         },
         {
          "tau_DL04": 17000000,
          "value": 0.04830467957455504,
          "variable": "tau_T3"
         },
         {
          "tau_DL04": 4000000,
          "value": 0.5118833609788744,
          "variable": "tau_T3"
         },
         {
          "tau_DL04": 1700000,
          "value": 0.5329790721846633,
          "variable": "tau_T3"
         },
         {
          "tau_DL04": 17000000,
          "value": 0.11197375944393234,
          "variable": "tau_T3"
         },
         {
          "tau_DL04": 5300000,
          "value": 0.42185216607744896,
          "variable": "tau_T3"
         },
         {
          "tau_DL04": 22000000,
          "value": 0.47712125471966244,
          "variable": "tau_T3"
         },
         {
          "tau_DL04": 17000000,
          "value": 0.09177037335564536,
          "variable": "tau_T3"
         },
         {
          "tau_DL04": 24000000,
          "value": -0.23408320603336794,
          "variable": "tau_T3"
         },
         {
          "tau_DL04": 23000000,
          "value": 0.1945746647496944,
          "variable": "tau_T3"
         },
         {
          "tau_DL04": 740000,
          "value": 0.8866431359415152,
          "variable": "tau_T3"
         },
         {
          "tau_DL04": 5800000,
          "value": 0.0074240180792068755,
          "variable": "tau_T3"
         },
         {
          "tau_DL04": 1900000,
          "value": 0.976518904150477,
          "variable": "tau_T3"
         },
         {
          "tau_DL04": 300000,
          "value": 2.135662602000073,
          "variable": "tau_T3"
         },
         {
          "tau_DL04": 9800000,
          "value": 0.5650764250747924,
          "variable": "tau_T3"
         },
         {
          "tau_DL04": 23000000,
          "value": 0.3941470196548985,
          "variable": "tau_T3"
         },
         {
          "tau_DL04": 2000000,
          "value": 1.3617278360175928,
          "variable": "tau_T3"
         },
         {
          "tau_DL04": 5000000,
          "value": -0.08618614761628333,
          "variable": "tau_T3"
         },
         {
          "tau_DL04": 9600000,
          "value": 0.09691001300805642,
          "variable": "tau_T3"
         },
         {
          "tau_DL04": 11000000,
          "value": 0.07255066714861175,
          "variable": "tau_T3"
         },
         {
          "tau_DL04": 9400000,
          "value": 0.3885999824178942,
          "variable": "tau_T3"
         },
         {
          "tau_DL04": 9300000,
          "value": 0.5086383061657272,
          "variable": "tau_T3"
         },
         {
          "tau_DL04": 18000000,
          "value": 0.19188552623891314,
          "variable": "tau_T3"
         },
         {
          "tau_DL04": 17000000,
          "value": 0.5824644352645817,
          "variable": "tau_T3"
         },
         {
          "tau_DL04": 2900000,
          "value": 0.7928745072043499,
          "variable": "tau_T3"
         },
         {
          "tau_DL04": 13000000,
          "value": 0.4881166390211257,
          "variable": "tau_T3"
         },
         {
          "tau_DL04": 150000,
          "value": 1.4471580313422192,
          "variable": "tau_T3"
         },
         {
          "tau_DL04": 21000000,
          "value": 0.03950854128367365,
          "variable": "tau_T3"
         },
         {
          "tau_DL04": 4000000,
          "value": 0.010723865391773066,
          "variable": "tau_T3"
         },
         {
          "tau_DL04": 2800000,
          "value": -0.1918855262389131,
          "variable": "tau_T3"
         },
         {
          "tau_DL04": 5200000,
          "value": 0.7611179110848633,
          "variable": "tau_T3"
         },
         {
          "tau_DL04": 620000,
          "value": 1.6055483191737836,
          "variable": "tau_T3"
         },
         {
          "tau_DL04": 3500000,
          "value": 0.38021124171160603,
          "variable": "tau_T3"
         },
         {
          "tau_DL04": 4900000,
          "value": 0.38898516601911115,
          "variable": "tau_T3"
         },
         {
          "tau_DL04": 11000000,
          "value": 0.4057653461839942,
          "variable": "tau_T3"
         },
         {
          "tau_DL04": 1600000,
          "value": 1.0511525224473812,
          "variable": "tau_T3"
         },
         {
          "tau_DL04": 35000000,
          "value": 0.21180681132221577,
          "variable": "tau_T3"
         },
         {
          "tau_DL04": 9600000,
          "value": 0.22184874961635637,
          "variable": "tau_T3"
         },
         {
          "tau_DL04": 8800000,
          "value": -1.546542663478131,
          "variable": "tau_T3"
         },
         {
          "tau_DL04": 21000000,
          "value": -0.06694678963061322,
          "variable": "tau_T3"
         },
         {
          "tau_DL04": 1700000,
          "value": 1.3716110699496884,
          "variable": "tau_T3"
         },
         {
          "tau_DL04": 26000000,
          "value": -1.0927540532368987,
          "variable": "tau_T3"
         },
         {
          "tau_DL04": 3200000,
          "value": 0.09691001300805642,
          "variable": "tau_T3"
         },
         {
          "tau_DL04": 9900000,
          "value": 0.9181786577861667,
          "variable": "tau_T3"
         },
         {
          "tau_DL04": 9500000,
          "value": -0.2964823679132605,
          "variable": "tau_T3"
         },
         {
          "tau_DL04": 4800000,
          "value": 0.765916793966632,
          "variable": "tau_T3"
         },
         {
          "tau_DL04": 9400000,
          "value": 0.17300018207853934,
          "variable": "tau_T3"
         },
         {
          "tau_DL04": 9600000,
          "value": 0.5492076840026867,
          "variable": "tau_T3"
         },
         {
          "tau_DL04": 8400000,
          "value": 0.4906940619089363,
          "variable": "tau_T3"
         },
         {
          "tau_DL04": 9000000,
          "value": 0.49291552190289434,
          "variable": "tau_T3"
         },
         {
          "tau_DL04": 4600000,
          "value": 0.009340026254143432,
          "variable": "tau_T3"
         },
         {
          "tau_DL04": 4900000,
          "value": -1.3679767852945943,
          "variable": "tau_T3"
         },
         {
          "tau_DL04": 3900000,
          "value": 0.8239087409443188,
          "variable": "tau_T3"
         },
         {
          "tau_DL04": 37000000,
          "value": -0.9884181274501848,
          "variable": "tau_T3"
         },
         {
          "tau_DL04": 10000000,
          "value": 0.3979400086720376,
          "variable": "tau_T3"
         },
         {
          "tau_DL04": 310000,
          "value": 1.712758288821652,
          "variable": "tau_T3"
         },
         {
          "tau_DL04": 17000000,
          "value": 0.024823583725032145,
          "variable": "tau_T3"
         },
         {
          "tau_DL04": 11000000,
          "value": -0.3010299956639812,
          "variable": "tau_T3"
         },
         {
          "tau_DL04": 2800000,
          "value": -0.577926311611243,
          "variable": "tau_T3"
         },
         {
          "tau_DL04": 7700000,
          "value": 0.15490195998574316,
          "variable": "tau_T3"
         },
         {
          "tau_DL04": 11000000,
          "value": -0.05912145211865665,
          "variable": "tau_T3"
         },
         {
          "tau_DL04": 9700000,
          "value": 0.05462095089198018,
          "variable": "tau_T3"
         },
         {
          "tau_DL04": 1600000,
          "value": 0,
          "variable": "tau_T3"
         },
         {
          "tau_DL04": 5200000,
          "value": -0.414973347970818,
          "variable": "tau_T3"
         },
         {
          "tau_DL04": 230000,
          "value": 0.26152145438030755,
          "variable": "tau_T3"
         },
         {
          "tau_DL04": 1800000,
          "value": 0.17609125905568124,
          "variable": "tau_T3"
         },
         {
          "tau_DL04": 5300000,
          "value": -0.27711783825856984,
          "variable": "tau_T3"
         },
         {
          "tau_DL04": 8400000,
          "value": -0.23408320603336794,
          "variable": "tau_T3"
         },
         {
          "tau_DL04": 9700000,
          "value": 0.5045899595680279,
          "variable": "tau_T3"
         },
         {
          "tau_DL04": 5400000,
          "value": -1.098925304243382,
          "variable": "tau_T3"
         },
         {
          "tau_DL04": 2900000,
          "value": 0.7928745072043499,
          "variable": "tau_T3"
         },
         {
          "tau_DL04": 12000000,
          "value": -0.48811663902112556,
          "variable": "tau_T3"
         },
         {
          "tau_DL04": 7400000,
          "value": 0.20994952631664865,
          "variable": "tau_T3"
         },
         {
          "tau_DL04": 4800000,
          "value": 0.4648867983026508,
          "variable": "tau_T3"
         },
         {
          "tau_DL04": 470000,
          "value": 1.2087157343450738,
          "variable": "tau_T3"
         },
         {
          "tau_DL04": 18000000,
          "value": 0.17609125905568124,
          "variable": "tau_T3"
         },
         {
          "tau_DL04": 9500000,
          "value": 0.10145764075877703,
          "variable": "tau_T3"
         },
         {
          "tau_DL04": 3300000,
          "value": 0.5606673061697374,
          "variable": "tau_T3"
         },
         {
          "tau_DL04": 9400000,
          "value": 0.32790214206428253,
          "variable": "tau_T3"
         },
         {
          "tau_DL04": 4800000,
          "value": -0.24987747321659987,
          "variable": "tau_T3"
         },
         {
          "tau_DL04": 2900000,
          "value": 0.7136932611567252,
          "variable": "tau_T3"
         },
         {
          "tau_DL04": 5400000,
          "value": 0.4717262228329563,
          "variable": "tau_T3"
         },
         {
          "tau_DL04": 9700000,
          "value": 0.09240951178137999,
          "variable": "tau_T3"
         },
         {
          "tau_DL04": 16000000,
          "value": 0.5201558869448643,
          "variable": "tau_T3"
         },
         {
          "tau_DL04": 9900000,
          "value": 0.04575749056067514,
          "variable": "tau_T3"
         },
         {
          "tau_DL04": 19000000,
          "value": 0.2775488998144583,
          "variable": "tau_T3"
         },
         {
          "tau_DL04": 19000000,
          "value": -0.31027065239889384,
          "variable": "tau_T3"
         },
         {
          "tau_DL04": 9900000,
          "value": 0.234813726780724,
          "variable": "tau_T3"
         },
         {
          "tau_DL04": 2900000,
          "value": 1,
          "variable": "tau_T3"
         },
         {
          "tau_DL04": 17000000,
          "value": 0.37161106994968846,
          "variable": "tau_T3"
         },
         {
          "tau_DL04": 9500000,
          "value": 0.5274263730310582,
          "variable": "tau_T3"
         },
         {
          "tau_DL04": 9700000,
          "value": 0.990951871022603,
          "variable": "tau_T3"
         },
         {
          "tau_DL04": 16000000,
          "value": -2.3348882629249488,
          "variable": "tau_T3"
         },
         {
          "tau_DL04": 13000000,
          "value": 0.4658402443099734,
          "variable": "tau_T3"
         },
         {
          "tau_DL04": 2000000,
          "value": 1.550228353055094,
          "variable": "tau_T3"
         },
         {
          "tau_DL04": 9500000,
          "value": -0.013935777943292491,
          "variable": "tau_T3"
         },
         {
          "tau_DL04": 9900000,
          "value": 0.0043648054024501125,
          "variable": "tau_T3"
         },
         {
          "tau_DL04": 4000000,
          "value": 0.8129133566428556,
          "variable": "tau_T3"
         },
         {
          "tau_DL04": 9700000,
          "value": 0.7034243457622688,
          "variable": "tau_T3"
         },
         {
          "tau_DL04": 6300000,
          "value": 0.45593195564972433,
          "variable": "tau_T3"
         },
         {
          "tau_DL04": 1200000,
          "value": 0.6690067809585756,
          "variable": "tau_T3"
         },
         {
          "tau_DL04": 240000,
          "value": 0.8985423592412229,
          "variable": "tau_T3"
         },
         {
          "tau_DL04": 9400000,
          "value": 0.47403017774252054,
          "variable": "tau_T3"
         },
         {
          "tau_DL04": 3700000,
          "value": -1.7688611746134133,
          "variable": "tau_T3"
         },
         {
          "tau_DL04": 900000,
          "value": -1.675488908486496,
          "variable": "tau_T3"
         },
         {
          "tau_DL04": 4100000,
          "value": 0.010465433678164977,
          "variable": "tau_T3"
         },
         {
          "tau_DL04": 170,
          "value": 5.288065018499614,
          "variable": "tau_T3"
         },
         {
          "tau_DL04": 170000,
          "value": 2.184524426592544,
          "variable": "tau_T3"
         },
         {
          "tau_DL04": 1800000,
          "value": 0.8586708472035307,
          "variable": "tau_T3"
         },
         {
          "tau_DL04": 21000000,
          "value": 0.12493873660829992,
          "variable": "tau_T3"
         },
         {
          "tau_DL04": 9700000,
          "value": 0.5447071827760103,
          "variable": "tau_T3"
         },
         {
          "tau_DL04": 7000000,
          "value": 0.3010299956639812,
          "variable": "tau_T3"
         },
         {
          "tau_DL04": 9300000,
          "value": 0.14546040375290167,
          "variable": "tau_T3"
         },
         {
          "tau_DL04": 390000,
          "value": 0.7311546877074201,
          "variable": "tau_T3"
         },
         {
          "tau_DL04": 24000000,
          "value": -0.17609125905568127,
          "variable": "tau_T3"
         },
         {
          "tau_DL04": 2400000,
          "value": 0.5282737771670437,
          "variable": "tau_T3"
         },
         {
          "tau_DL04": 3800000,
          "value": 0.3646990755333585,
          "variable": "tau_T3"
         },
         {
          "tau_DL04": 3500000,
          "value": 0.9030899869919435,
          "variable": "tau_T3"
         },
         {
          "tau_DL04": 4800000,
          "value": 0.28254658996996806,
          "variable": "tau_T3"
         },
         {
          "tau_DL04": 5800000,
          "value": 0.8598212968349632,
          "variable": "tau_T3"
         },
         {
          "tau_DL04": 8900000,
          "value": 0.5820889103973423,
          "variable": "tau_T3"
         },
         {
          "tau_DL04": 8700,
          "value": 3.7417219847569685,
          "variable": "tau_T3"
         },
         {
          "tau_DL04": 640000,
          "value": 1.494850021680094,
          "variable": "tau_T3"
         },
         {
          "tau_DL04": 9700000,
          "value": 0.5930118623505652,
          "variable": "tau_T3"
         },
         {
          "tau_DL04": 10000000,
          "value": 0.20411998265592482,
          "variable": "tau_T3"
         },
         {
          "tau_DL04": 7200000,
          "value": 0.14266750356873154,
          "variable": "tau_T3"
         },
         {
          "tau_DL04": 5400000,
          "value": 0.7861201800549189,
          "variable": "tau_T3"
         },
         {
          "tau_DL04": 22000000,
          "value": 0.3203351508593678,
          "variable": "tau_T3"
         },
         {
          "tau_DL04": 9800000,
          "value": -0.8450980400142569,
          "variable": "tau_T3"
         },
         {
          "tau_DL04": 350000,
          "value": -0.08167004645131952,
          "variable": "tau_T3"
         },
         {
          "tau_DL04": 8400000,
          "value": 0.3979400086720376,
          "variable": "tau_T3"
         },
         {
          "tau_DL04": 200000,
          "value": -1.8096683018297086,
          "variable": "tau_T3"
         },
         {
          "tau_DL04": 9600000,
          "value": 0.27300127206373764,
          "variable": "tau_T3"
         },
         {
          "tau_DL04": 6200000,
          "value": 0.7639108112690334,
          "variable": "tau_T3"
         },
         {
          "tau_DL04": 220000,
          "value": 0.4134521748502852,
          "variable": "tau_T3"
         },
         {
          "tau_DL04": 9500000,
          "value": 0.7298465708090885,
          "variable": "tau_T3"
         },
         {
          "tau_DL04": 84000,
          "value": 2.6555043105549285,
          "variable": "tau_T3"
         },
         {
          "tau_DL04": 9400000,
          "value": 0.4418454943711193,
          "variable": "tau_T3"
         },
         {
          "tau_DL04": 18000000,
          "value": 0.19188552623891314,
          "variable": "tau_T3"
         },
         {
          "tau_DL04": 9100000,
          "value": 0.38338128850111264,
          "variable": "tau_T3"
         },
         {
          "tau_DL04": 250000,
          "value": 1.561101383649056,
          "variable": "tau_T3"
         },
         {
          "tau_DL04": 26000000,
          "value": -0.1597008428675119,
          "variable": "tau_T3"
         },
         {
          "tau_DL04": 19000000,
          "value": -0.40369233756112893,
          "variable": "tau_T3"
         },
         {
          "tau_DL04": 4800000,
          "value": 0.017728766960431616,
          "variable": "tau_T3"
         },
         {
          "tau_DL04": 4900000,
          "value": 0.18486518336318636,
          "variable": "tau_T3"
         },
         {
          "tau_DL04": 20000000,
          "value": -0.4621809049267259,
          "variable": "tau_T3"
         },
         {
          "tau_DL04": 17000000,
          "value": 0.04830467957455504,
          "variable": "tau_T3"
         },
         {
          "tau_DL04": 9400000,
          "value": -0.09806659020799863,
          "variable": "tau_T3"
         },
         {
          "tau_DL04": 9700000,
          "value": 0.4756262636327112,
          "variable": "tau_T3"
         },
         {
          "tau_DL04": 20000000,
          "value": 0.37106786227173627,
          "variable": "tau_T3"
         },
         {
          "tau_DL04": 4600000,
          "value": 0.10067016188136323,
          "variable": "tau_T3"
         },
         {
          "tau_DL04": 4100000,
          "value": 0.9669997398970747,
          "variable": "tau_T3"
         },
         {
          "tau_DL04": 4200000,
          "value": 0,
          "variable": "tau_T3"
         },
         {
          "tau_DL04": 5400000,
          "value": 0.744727494896694,
          "variable": "tau_T3"
         },
         {
          "tau_DL04": 96000,
          "value": 1.9522272182039992,
          "variable": "tau_T3"
         },
         {
          "tau_DL04": 120000,
          "value": 1.151267675330649,
          "variable": "tau_T3"
         },
         {
          "tau_DL04": 1200000,
          "value": 0.1512676753306491,
          "variable": "tau_T3"
         },
         {
          "tau_DL04": 310000,
          "value": 0.08842190278253749,
          "variable": "tau_T3"
         },
         {
          "tau_DL04": 8200000,
          "value": 0.2622774066719646,
          "variable": "tau_T3"
         },
         {
          "tau_DL04": 2900000,
          "value": 1.200359833782618,
          "variable": "tau_T3"
         },
         {
          "tau_DL04": 9900000,
          "value": -0.5185139398778875,
          "variable": "tau_T3"
         },
         {
          "tau_DL04": 5400000,
          "value": 0.744727494896694,
          "variable": "tau_T3"
         },
         {
          "tau_DL04": 13000000,
          "value": 0.33321467903538243,
          "variable": "tau_T3"
         },
         {
          "tau_DL04": 4700000,
          "value": -0.10389613386872246,
          "variable": "tau_T3"
         },
         {
          "tau_DL04": 48000,
          "value": 2.4327021149312493,
          "variable": "tau_T3"
         },
         {
          "tau_DL04": 2600000,
          "value": 1.0163904161881694,
          "variable": "tau_T3"
         },
         {
          "tau_DL04": 9300000,
          "value": 0.6335770427740273,
          "variable": "tau_T3"
         },
         {
          "tau_DL04": 3900000,
          "value": 0.18708664335714445,
          "variable": "tau_T3"
         },
         {
          "tau_DL04": 5000000,
          "value": 0.26951294421791633,
          "variable": "tau_T3"
         },
         {
          "tau_DL04": 2400000,
          "value": 0.2918866162241114,
          "variable": "tau_T3"
         },
         {
          "tau_DL04": 4800000,
          "value": 0.43270211493124955,
          "variable": "tau_T3"
         },
         {
          "tau_DL04": 4800000,
          "value": -0.24987747321659987,
          "variable": "tau_T3"
         },
         {
          "tau_DL04": 9500000,
          "value": 0.136219747017989,
          "variable": "tau_T3"
         },
         {
          "tau_DL04": 20000000,
          "value": 0.37106786227173627,
          "variable": "tau_T3"
         },
         {
          "tau_DL04": 4100000,
          "value": 0.6176650646585384,
          "variable": "tau_T3"
         },
         {
          "tau_DL04": 4500000,
          "value": 0.7781512503836436,
          "variable": "tau_T3"
         },
         {
          "tau_DL04": 960000,
          "value": 0.13167211926726838,
          "variable": "tau_T3"
         },
         {
          "tau_DL04": 11000000,
          "value": -1.4079242295786385,
          "variable": "tau_T3"
         },
         {
          "tau_DL04": 7200000,
          "value": -0.9708417712587866,
          "variable": "tau_T3"
         },
         {
          "tau_DL04": 13000000,
          "value": -0.15015552496128148,
          "variable": "tau_T3"
         },
         {
          "tau_DL04": 1400000,
          "value": 0.9678153166285988,
          "variable": "tau_T3"
         },
         {
          "tau_DL04": 2900000,
          "value": 0.2934768577735353,
          "variable": "tau_T3"
         },
         {
          "tau_DL04": 3300000,
          "value": 0.025554104472388137,
          "variable": "tau_T3"
         },
         {
          "tau_DL04": 9600000,
          "value": 0.7580914564546755,
          "variable": "tau_T3"
         },
         {
          "tau_DL04": 9700000,
          "value": -0.05735280855195212,
          "variable": "tau_T3"
         },
         {
          "tau_DL04": 9700000,
          "value": 0.4282016137045731,
          "variable": "tau_T3"
         },
         {
          "tau_DL04": 400000,
          "value": 0.21748394421390624,
          "variable": "tau_T3"
         },
         {
          "tau_DL04": 3800000,
          "value": -0.11738559871785405,
          "variable": "tau_T3"
         },
         {
          "tau_DL04": 27000000,
          "value": 0.40114514854724903,
          "variable": "tau_T3"
         },
         {
          "tau_DL04": 9100000,
          "value": 0.15490195998574316,
          "variable": "tau_T3"
         },
         {
          "tau_DL04": 3300000,
          "value": 0.5606673061697374,
          "variable": "tau_T3"
         },
         {
          "tau_DL04": 1100000,
          "value": 0.18905623622004886,
          "variable": "tau_T3"
         },
         {
          "tau_DL04": 580000,
          "value": 1.3157532524846876,
          "variable": "tau_T3"
         },
         {
          "tau_DL04": 9900000,
          "value": -1.5185139398778875,
          "variable": "tau_T3"
         },
         {
          "tau_DL04": 23000000,
          "value": -0.039508541283673634,
          "variable": "tau_T3"
         },
         {
          "tau_DL04": 9900000,
          "value": 0.32658410013636935,
          "variable": "tau_T3"
         },
         {
          "tau_DL04": 17000000,
          "value": 0.27470105694163205,
          "variable": "tau_T3"
         },
         {
          "tau_DL04": 9600000,
          "value": 0.05912145211865659,
          "variable": "tau_T3"
         },
         {
          "tau_DL04": 9600000,
          "value": 0.37945660297802447,
          "variable": "tau_T3"
         },
         {
          "tau_DL04": 4900000,
          "value": 0.8149538982913923,
          "variable": "tau_T3"
         },
         {
          "tau_DL04": 9000000,
          "value": 0.49291552190289434,
          "variable": "tau_T3"
         },
         {
          "tau_DL04": 11000000,
          "value": 0.2808266095756942,
          "variable": "tau_T3"
         },
         {
          "tau_DL04": 5400000,
          "value": 0.5898255349109507,
          "variable": "tau_T3"
         },
         {
          "tau_DL04": 110000,
          "value": 2.1346985738974564,
          "variable": "tau_T3"
         },
         {
          "tau_DL04": 1900000,
          "value": 0.4372497426819702,
          "variable": "tau_T3"
         },
         {
          "tau_DL04": 5200000,
          "value": 0.6819366650372385,
          "variable": "tau_T3"
         },
         {
          "tau_DL04": 860000,
          "value": 1.2415928078121135,
          "variable": "tau_T3"
         },
         {
          "tau_DL04": 1800000,
          "value": 0.3575113516164294,
          "variable": "tau_T3"
         },
         {
          "tau_DL04": 9600000,
          "value": 0.29648236791326055,
          "variable": "tau_T3"
         },
         {
          "tau_DL04": 9600000,
          "value": 0.013363961557981502,
          "variable": "tau_T3"
         },
         {
          "tau_DL04": 4000000,
          "value": 1.0511525224473812,
          "variable": "tau_T3"
         },
         {
          "tau_DL04": 15000000,
          "value": -0.062147906748844454,
          "variable": "tau_T3"
         },
         {
          "tau_DL04": 19000000,
          "value": -0.863780252982011,
          "variable": "tau_T3"
         },
         {
          "tau_DL04": 9600000,
          "value": 0.4648867983026508,
          "variable": "tau_T3"
         },
         {
          "tau_DL04": 24000000,
          "value": 0.31875876262441283,
          "variable": "tau_T3"
         },
         {
          "tau_DL04": 3500000,
          "value": 0.9183299535486805,
          "variable": "tau_T3"
         },
         {
          "tau_DL04": 20000000,
          "value": 0.04139268515822507,
          "variable": "tau_T3"
         },
         {
          "tau_DL04": 2400000,
          "value": 0.9815165943059869,
          "variable": "tau_T3"
         },
         {
          "tau_DL04": 1900000,
          "value": 1.2894481231141661,
          "variable": "tau_T3"
         },
         {
          "tau_DL04": 620000,
          "value": 1.6847295652214085,
          "variable": "tau_T3"
         },
         {
          "tau_DL04": 9100000,
          "value": 0.4881166390211257,
          "variable": "tau_T3"
         },
         {
          "tau_DL04": 11000000,
          "value": 0.23736091579460392,
          "variable": "tau_T3"
         },
         {
          "tau_DL04": 140000,
          "value": 0.6172999578846993,
          "variable": "tau_T3"
         },
         {
          "tau_DL04": 9300000,
          "value": 0.4117282931576709,
          "variable": "tau_T3"
         },
         {
          "tau_DL04": 19000000,
          "value": 0,
          "variable": "tau_T3"
         },
         {
          "tau_DL04": 9400000,
          "value": 0.5039934011199638,
          "variable": "tau_T3"
         },
         {
          "tau_DL04": 600000,
          "value": 1.18089014193745,
          "variable": "tau_T3"
         },
         {
          "tau_DL04": 9700000,
          "value": -0.009048128977397102,
          "variable": "tau_T3"
         },
         {
          "tau_DL04": 140000,
          "value": 1.6172999578846992,
          "variable": "tau_T3"
         },
         {
          "tau_DL04": 1100000,
          "value": 0,
          "variable": "tau_T3"
         },
         {
          "tau_DL04": 11000000,
          "value": -0.16633142176652502,
          "variable": "tau_T3"
         },
         {
          "tau_DL04": 5800000,
          "value": 0.20969986003676136,
          "variable": "tau_T3"
         },
         {
          "tau_DL04": 6800000,
          "value": 0.1359740358476988,
          "variable": "tau_T3"
         },
         {
          "tau_DL04": 9600000,
          "value": 0.09691001300805642,
          "variable": "tau_T3"
         },
         {
          "tau_DL04": 93000,
          "value": 2.2867895565493708,
          "variable": "tau_T3"
         },
         {
          "tau_DL04": 460000,
          "value": 0.5676910896966998,
          "variable": "tau_T3"
         },
         {
          "tau_DL04": 140000,
          "value": 0.8450980400142568,
          "variable": "tau_T3"
         },
         {
          "tau_DL04": 2700000,
          "value": 0.031034233739968817,
          "variable": "tau_T3"
         },
         {
          "tau_DL04": 5200000,
          "value": 1.0621479067488444,
          "variable": "tau_T3"
         },
         {
          "tau_DL04": 12000000,
          "value": 0.12493873660829992,
          "variable": "tau_T3"
         },
         {
          "tau_DL04": 9900000,
          "value": -0.43933269383026263,
          "variable": "tau_T3"
         },
         {
          "tau_DL04": 4700000,
          "value": 0.09133013562721981,
          "variable": "tau_T3"
         },
         {
          "tau_DL04": 810000,
          "value": 0.9946049681132938,
          "variable": "tau_T3"
         },
         {
          "tau_DL04": 6000000,
          "value": -1.0222763947111522,
          "variable": "tau_T3"
         },
         {
          "tau_DL04": 9700000,
          "value": 0.09240951178137999,
          "variable": "tau_T3"
         },
         {
          "tau_DL04": 3900000,
          "value": 0.1413291527964693,
          "variable": "tau_T3"
         },
         {
          "tau_DL04": 9900000,
          "value": 0.1804560644581313,
          "variable": "tau_T3"
         },
         {
          "tau_DL04": 4200000,
          "value": 0.7191733904243057,
          "variable": "tau_T3"
         },
         {
          "tau_DL04": 3900000,
          "value": 0.9274493328513883,
          "variable": "tau_T3"
         },
         {
          "tau_DL04": 4900000,
          "value": 0.3010299956639812,
          "variable": "tau_T3"
         },
         {
          "tau_DL04": 9700000,
          "value": 0.5317422056116426,
          "variable": "tau_T3"
         },
         {
          "tau_DL04": 4300000,
          "value": 0.306050797039032,
          "variable": "tau_T3"
         },
         {
          "tau_DL04": 2400000,
          "value": 0.9420080530223133,
          "variable": "tau_T3"
         },
         {
          "tau_DL04": 1200000,
          "value": 1.034762106259212,
          "variable": "tau_T3"
         },
         {
          "tau_DL04": 28000000,
          "value": -0.9156791142999641,
          "variable": "tau_T3"
         },
         {
          "tau_DL04": 31000000,
          "value": 0.04011722320798241,
          "variable": "tau_T3"
         },
         {
          "tau_DL04": 590000,
          "value": -0.08065593161363052,
          "variable": "tau_T3"
         },
         {
          "tau_DL04": 420000,
          "value": 1.3010299956639813,
          "variable": "tau_T3"
         },
         {
          "tau_DL04": 9400000,
          "value": -0.014086461278605055,
          "variable": "tau_T3"
         },
         {
          "tau_DL04": 5300000,
          "value": 1.162214855571693,
          "variable": "tau_T3"
         },
         {
          "tau_DL04": 4200000,
          "value": 1.084320885700036,
          "variable": "tau_T3"
         },
         {
          "tau_DL04": 12000000,
          "value": -0.42596873227228116,
          "variable": "tau_T3"
         },
         {
          "tau_DL04": 7600000,
          "value": -0.13262556527459096,
          "variable": "tau_T3"
         },
         {
          "tau_DL04": 5800000,
          "value": 0.27796469159528775,
          "variable": "tau_T3"
         },
         {
          "tau_DL04": 4100000,
          "value": 0.11960990310323304,
          "variable": "tau_T3"
         },
         {
          "tau_DL04": 9500000,
          "value": -0.9363309201306227,
          "variable": "tau_T3"
         },
         {
          "tau_DL04": 2900000,
          "value": 0.17107045768063048,
          "variable": "tau_T3"
         },
         {
          "tau_DL04": 7900000,
          "value": -0.3065624842639422,
          "variable": "tau_T3"
         },
         {
          "tau_DL04": 9600000,
          "value": -0.16272729749769974,
          "variable": "tau_T3"
         },
         {
          "tau_DL04": 5800000,
          "value": 0.7680509234793178,
          "variable": "tau_T3"
         },
         {
          "tau_DL04": 7000000,
          "value": 0.3590219426416679,
          "variable": "tau_T3"
         },
         {
          "tau_DL04": 6800000,
          "value": 0.2466723333413885,
          "variable": "tau_T3"
         },
         {
          "tau_DL04": 18000000,
          "value": -0.14132915279646932,
          "variable": "tau_T3"
         },
         {
          "tau_DL04": 1700000,
          "value": 0.37161106994968846,
          "variable": "tau_T3"
         },
         {
          "tau_DL04": 13000000,
          "value": -0.07255066714861173,
          "variable": "tau_T3"
         },
         {
          "tau_DL04": 2000000,
          "value": 0.667452952889954,
          "variable": "tau_T3"
         },
         {
          "tau_DL04": 9400000,
          "value": 0.8122019814110684,
          "variable": "tau_T3"
         },
         {
          "tau_DL04": 700000,
          "value": 0.6020599913279624,
          "variable": "tau_T3"
         },
         {
          "tau_DL04": 2600000,
          "value": 0.840299157132488,
          "variable": "tau_T3"
         },
         {
          "tau_DL04": 280000,
          "value": 0.015239966556736905,
          "variable": "tau_T3"
         },
         {
          "tau_DL04": 980000,
          "value": 0.4237472722783231,
          "variable": "tau_T3"
         },
         {
          "tau_DL04": 9100000,
          "value": 0,
          "variable": "tau_T3"
         },
         {
          "tau_DL04": 140000,
          "value": 2.3979400086720375,
          "variable": "tau_T3"
         },
         {
          "tau_DL04": 13000000,
          "value": 0.18708664335714445,
          "variable": "tau_T3"
         },
         {
          "tau_DL04": 19000000,
          "value": -0.07463361829690421,
          "variable": "tau_T3"
         },
         {
          "tau_DL04": 3700000,
          "value": -0.063051745747089,
          "variable": "tau_T3"
         },
         {
          "tau_DL04": 1600000,
          "value": 1.4393326938302626,
          "variable": "tau_T3"
         },
         {
          "tau_DL04": 3900000,
          "value": 0.6642078980768068,
          "variable": "tau_T3"
         },
         {
          "tau_DL04": 13000000,
          "value": 0.6569086593353074,
          "variable": "tau_T3"
         },
         {
          "tau_DL04": 2000000,
          "value": 0.9542425094393249,
          "variable": "tau_T3"
         },
         {
          "tau_DL04": 9100000,
          "value": 0.12013985372653123,
          "variable": "tau_T3"
         },
         {
          "tau_DL04": 8500000,
          "value": 0.48555442225652523,
          "variable": "tau_T3"
         },
         {
          "tau_DL04": 6000000,
          "value": 0.6368220975871743,
          "variable": "tau_T3"
         },
         {
          "tau_DL04": 90000,
          "value": 1.7085153222422491,
          "variable": "tau_T3"
         },
         {
          "tau_DL04": 1700000,
          "value": 0.39280036901962656,
          "variable": "tau_T3"
         },
         {
          "tau_DL04": 7500000,
          "value": -1.5528419686577808,
          "variable": "tau_T3"
         },
         {
          "tau_DL04": 3600000,
          "value": 0.9751764162749679,
          "variable": "tau_T3"
         },
         {
          "tau_DL04": 12000000,
          "value": 0.8129133566428556,
          "variable": "tau_T3"
         },
         {
          "tau_DL04": 7500000,
          "value": -0.24159280781211348,
          "variable": "tau_T3"
         },
         {
          "tau_DL04": 32000000,
          "value": 0.013363961557981502,
          "variable": "tau_T3"
         },
         {
          "tau_DL04": 14000000,
          "value": 0.1962946451439682,
          "variable": "tau_T3"
         },
         {
          "tau_DL04": 840000,
          "value": 1.2798406965940432,
          "variable": "tau_T3"
         },
         {
          "tau_DL04": 8700000,
          "value": 0.45842075605341903,
          "variable": "tau_T3"
         },
         {
          "tau_DL04": 4900000,
          "value": 0.35119660512971135,
          "variable": "tau_T3"
         },
         {
          "tau_DL04": 4500,
          "value": 2.7939455175668755,
          "variable": "tau_T3"
         },
         {
          "tau_DL04": 5900,
          "value": 1.8919058200394299,
          "variable": "tau_T3"
         },
         {
          "tau_DL04": 280000,
          "value": 0.08432088570003587,
          "variable": "tau_T3"
         },
         {
          "tau_DL04": 320000,
          "value": 0,
          "variable": "tau_T3"
         },
         {
          "tau_DL04": 20000000,
          "value": 0.021189299069938092,
          "variable": "tau_T3"
         },
         {
          "tau_DL04": 8900000,
          "value": 0.19673802903332524,
          "variable": "tau_T3"
         },
         {
          "tau_DL04": 14000000,
          "value": 0.13262556527459096,
          "variable": "tau_T3"
         },
         {
          "tau_DL04": 6300000,
          "value": 0.09275405323689871,
          "variable": "tau_T3"
         },
         {
          "tau_DL04": 23000000,
          "value": -0.01930515519538663,
          "variable": "tau_T3"
         },
         {
          "tau_DL04": 760000,
          "value": 1.3496353290974825,
          "variable": "tau_T3"
         },
         {
          "tau_DL04": 1900000,
          "value": -1.5006023505691852,
          "variable": "tau_T3"
         },
         {
          "tau_DL04": 290000,
          "value": 1.7136932611567253,
          "variable": "tau_T3"
         },
         {
          "tau_DL04": 4800000,
          "value": -0.12493873660829993,
          "variable": "tau_T3"
         },
         {
          "tau_DL04": 1800000,
          "value": 0.5300573299074609,
          "variable": "tau_T3"
         },
         {
          "tau_DL04": 9900000,
          "value": -0.255272505103306,
          "variable": "tau_T3"
         },
         {
          "tau_DL04": 38000000,
          "value": 0.136219747017989,
          "variable": "tau_T3"
         },
         {
          "tau_DL04": 9600000,
          "value": 0.22184874961635637,
          "variable": "tau_T3"
         },
         {
          "tau_DL04": 15000000,
          "value": 0.054357662322592676,
          "variable": "tau_T3"
         },
         {
          "tau_DL04": 210000,
          "value": 1.8239087409443189,
          "variable": "tau_T3"
         },
         {
          "tau_DL04": 4800000,
          "value": 0.9522272182039994,
          "variable": "tau_T3"
         },
         {
          "tau_DL04": 36000000,
          "value": 0.03476210625921191,
          "variable": "tau_T3"
         },
         {
          "tau_DL04": 27000000,
          "value": 0.27620641193894907,
          "variable": "tau_T3"
         },
         {
          "tau_DL04": 290000,
          "value": 1.2277980821295575,
          "variable": "tau_T3"
         },
         {
          "tau_DL04": 5000000,
          "value": 0.4471580313422192,
          "variable": "tau_T3"
         },
         {
          "tau_DL04": 9400000,
          "value": 0.6896299780818754,
          "variable": "tau_T3"
         },
         {
          "tau_DL04": 94000,
          "value": 1.7903001399632386,
          "variable": "tau_T3"
         },
         {
          "tau_DL04": 9800000,
          "value": 0.15490195998574316,
          "variable": "tau_T3"
         },
         {
          "tau_DL04": 5400000,
          "value": 0.7147642715192507,
          "variable": "tau_T3"
         },
         {
          "tau_DL04": 9300000,
          "value": -0.19763093691179093,
          "variable": "tau_T3"
         },
         {
          "tau_DL04": 27000000,
          "value": 0.1368379599080077,
          "variable": "tau_T3"
         },
         {
          "tau_DL04": 3000000,
          "value": 0.194976603216055,
          "variable": "tau_T3"
         },
         {
          "tau_DL04": 9900000,
          "value": -0.09800810330710848,
          "variable": "tau_T3"
         },
         {
          "tau_DL04": 9400000,
          "value": 0.06826483155852639,
          "variable": "tau_T3"
         },
         {
          "tau_DL04": 370000,
          "value": 1.3908396682540987,
          "variable": "tau_T3"
         },
         {
          "tau_DL04": 7500000,
          "value": -0.728933227713462,
          "variable": "tau_T3"
         },
         {
          "tau_DL04": 27000000,
          "value": -0.7153604205241881,
          "variable": "tau_T3"
         },
         {
          "tau_DL04": 9600000,
          "value": -1.0528523073252756,
          "variable": "tau_T3"
         },
         {
          "tau_DL04": 9200000,
          "value": -0.6213651465233491,
          "variable": "tau_T3"
         },
         {
          "tau_DL04": 18000000,
          "value": 0.14266750356873154,
          "variable": "tau_T3"
         },
         {
          "tau_DL04": 910000,
          "value": 0.6537424643986419,
          "variable": "tau_T3"
         },
         {
          "tau_DL04": 17000000,
          "value": 0.2466723333413885,
          "variable": "tau_T3"
         },
         {
          "tau_DL04": 9900000,
          "value": 0.40230481407448765,
          "variable": "tau_T3"
         },
         {
          "tau_DL04": 210000,
          "value": 1.1691423991003536,
          "variable": "tau_T3"
         },
         {
          "tau_DL04": 9900000,
          "value": 0.7033348097384688,
          "variable": "tau_T3"
         },
         {
          "tau_DL04": 21000000,
          "value": -1.4191293077419758,
          "variable": "tau_T3"
         },
         {
          "tau_DL04": 23000000,
          "value": -0.8703661421833202,
          "variable": "tau_T3"
         },
         {
          "tau_DL04": 3000000,
          "value": 0.37413709399941286,
          "variable": "tau_T3"
         },
         {
          "tau_DL04": 7000000,
          "value": 0.006160308704818433,
          "variable": "tau_T3"
         },
         {
          "tau_DL04": 21000000,
          "value": 0.3937840489008799,
          "variable": "tau_T3"
         },
         {
          "tau_DL04": 11000000,
          "value": 0.18905623622004886,
          "variable": "tau_T3"
         },
         {
          "tau_DL04": 480000,
          "value": 1.6989700043360187,
          "variable": "tau_T3"
         },
         {
          "tau_DL04": 32000000,
          "value": 0.09691001300805642,
          "variable": "tau_T3"
         },
         {
          "tau_DL04": 5800000,
          "value": 0.6345120151091004,
          "variable": "tau_T3"
         },
         {
          "tau_DL04": 9800000,
          "value": 0.08795517035512998,
          "variable": "tau_T3"
         },
         {
          "tau_DL04": 16000000,
          "value": 0,
          "variable": "tau_T3"
         },
         {
          "tau_DL04": 320000,
          "value": -0.013788284485633295,
          "variable": "tau_T3"
         },
         {
          "tau_DL04": 9700000,
          "value": 0.31425826139773627,
          "variable": "tau_T3"
         },
         {
          "tau_DL04": 2000000,
          "value": 0.7781512503836436,
          "variable": "tau_T3"
         },
         {
          "tau_DL04": 9400000,
          "value": 0.5320221247202073,
          "variable": "tau_T3"
         },
         {
          "tau_DL04": 12000000,
          "value": -0.10145764075877708,
          "variable": "tau_T3"
         },
         {
          "tau_DL04": 9700000,
          "value": 0.44459202989274244,
          "variable": "tau_T3"
         },
         {
          "tau_DL04": 7600000,
          "value": 0.6632544520694843,
          "variable": "tau_T3"
         },
         {
          "tau_DL04": 3600000,
          "value": 0.44369749923271273,
          "variable": "tau_T3"
         },
         {
          "tau_DL04": 10000000,
          "value": 0.43136376415898736,
          "variable": "tau_T3"
         },
         {
          "tau_DL04": 29000000,
          "value": 0.16085129249894436,
          "variable": "tau_T3"
         },
         {
          "tau_DL04": 12000000,
          "value": -0.1983676537668335,
          "variable": "tau_T3"
         },
         {
          "tau_DL04": 14000000,
          "value": -0.2016453635280694,
          "variable": "tau_T3"
         },
         {
          "tau_DL04": 13000000,
          "value": 0,
          "variable": "tau_T3"
         },
         {
          "tau_DL04": 9000000,
          "value": -0.4771212547196625,
          "variable": "tau_T3"
         },
         {
          "tau_DL04": 14000000,
          "value": 0.3979400086720376,
          "variable": "tau_T3"
         },
         {
          "tau_DL04": 12000000,
          "value": -0.5878195522133521,
          "variable": "tau_T3"
         },
         {
          "tau_DL04": 9600000,
          "value": 0.43270211493124955,
          "variable": "tau_T3"
         },
         {
          "tau_DL04": 9300000,
          "value": 0.1106982974936897,
          "variable": "tau_T3"
         },
         {
          "tau_DL04": 9700000,
          "value": 0.24367718711202907,
          "variable": "tau_T3"
         },
         {
          "tau_DL04": 20000000,
          "value": 0,
          "variable": "tau_T3"
         },
         {
          "tau_DL04": 4300000,
          "value": 0.306050797039032,
          "variable": "tau_T3"
         },
         {
          "tau_DL04": 7500000,
          "value": -0.1268732363854996,
          "variable": "tau_T3"
         },
         {
          "tau_DL04": 3300000,
          "value": -1.6492822201469113,
          "variable": "tau_T3"
         },
         {
          "tau_DL04": 9900000,
          "value": -0.22478318295540575,
          "variable": "tau_T3"
         },
         {
          "tau_DL04": 8200000,
          "value": 0.010465433678164977,
          "variable": "tau_T3"
         },
         {
          "tau_DL04": 17000000,
          "value": -0.18905623622004886,
          "variable": "tau_T4"
         },
         {
          "tau_DL04": 3000000,
          "value": -1.0791812460476249,
          "variable": "tau_T4"
         },
         {
          "tau_DL04": 910000,
          "value": 0.9903486143238192,
          "variable": "tau_T4"
         },
         {
          "tau_DL04": 3800000,
          "value": 0.35471485462675756,
          "variable": "tau_T4"
         },
         {
          "tau_DL04": 9100000,
          "value": -0.08398012892939358,
          "variable": "tau_T4"
         },
         {
          "tau_DL04": 8700000,
          "value": 0.5076387787236007,
          "variable": "tau_T4"
         },
         {
          "tau_DL04": 19000000,
          "value": 0.0636690798693773,
          "variable": "tau_T4"
         },
         {
          "tau_DL04": 1100000,
          "value": -0.8109437637799511,
          "variable": "tau_T4"
         },
         {
          "tau_DL04": 1700000,
          "value": 0.024823583725032145,
          "variable": "tau_T4"
         },
         {
          "tau_DL04": 19000000,
          "value": -0.31027065239889384,
          "variable": "tau_T4"
         },
         {
          "tau_DL04": 1700000,
          "value": 1,
          "variable": "tau_T4"
         },
         {
          "tau_DL04": 9400000,
          "value": 0.8397855030431569,
          "variable": "tau_T4"
         },
         {
          "tau_DL04": 5200000,
          "value": 0.7311546877074201,
          "variable": "tau_T4"
         },
         {
          "tau_DL04": 19000000,
          "value": 0.18364439694612714,
          "variable": "tau_T4"
         },
         {
          "tau_DL04": 9800000,
          "value": -2.292256071356476,
          "variable": "tau_T4"
         },
         {
          "tau_DL04": 210000,
          "value": 1.2218487496163564,
          "variable": "tau_T4"
         },
         {
          "tau_DL04": 140000,
          "value": 1.5862657241447304,
          "variable": "tau_T4"
         },
         {
          "tau_DL04": 18000000,
          "value": 0.06694678963061322,
          "variable": "tau_T4"
         },
         {
          "tau_DL04": 4800000,
          "value": -0.04777278179600067,
          "variable": "tau_T4"
         },
         {
          "tau_DL04": 13000000,
          "value": 0.11650556907143717,
          "variable": "tau_T4"
         },
         {
          "tau_DL04": 9700000,
          "value": 0.6152882570617175,
          "variable": "tau_T4"
         },
         {
          "tau_DL04": 150000,
          "value": 2.8016323462331667,
          "variable": "tau_T4"
         },
         {
          "tau_DL04": 4900000,
          "value": 0.38898516601911115,
          "variable": "tau_T4"
         },
         {
          "tau_DL04": 1400000,
          "value": 0.23408320603336794,
          "variable": "tau_T4"
         },
         {
          "tau_DL04": 1700000,
          "value": 1.0248235837250321,
          "variable": "tau_T4"
         },
         {
          "tau_DL04": 23000000,
          "value": 0.16975108102466221,
          "variable": "tau_T4"
         },
         {
          "tau_DL04": 1900000,
          "value": 0.8004276450947958,
          "variable": "tau_T4"
         },
         {
          "tau_DL04": 860000,
          "value": 0,
          "variable": "tau_T4"
         },
         {
          "tau_DL04": 930000,
          "value": 1.1106982974936896,
          "variable": "tau_T4"
         },
         {
          "tau_DL04": 3700000,
          "value": 0.20994952631664865,
          "variable": "tau_T4"
         },
         {
          "tau_DL04": 9900000,
          "value": 0.20848478805837486,
          "variable": "tau_T4"
         },
         {
          "tau_DL04": 13000000,
          "value": -0.414973347970818,
          "variable": "tau_T4"
         },
         {
          "tau_DL04": 14000000,
          "value": -0.16840443038939024,
          "variable": "tau_T4"
         },
         {
          "tau_DL04": 9800000,
          "value": 0.004409118905055015,
          "variable": "tau_T4"
         },
         {
          "tau_DL04": 9700000,
          "value": -1.2624958646654558,
          "variable": "tau_T4"
         },
         {
          "tau_DL04": 2000000,
          "value": 0.9294189257142927,
          "variable": "tau_T4"
         },
         {
          "tau_DL04": 9300000,
          "value": -0.5535096005831172,
          "variable": "tau_T4"
         },
         {
          "tau_DL04": 720000,
          "value": 0.4214211045215605,
          "variable": "tau_T4"
         },
         {
          "tau_DL04": 9000000,
          "value": 0.5642714304385625,
          "variable": "tau_T4"
         },
         {
          "tau_DL04": 5400000,
          "value": 0.5463598411298605,
          "variable": "tau_T4"
         },
         {
          "tau_DL04": 6300000,
          "value": 0.07572071393811834,
          "variable": "tau_T4"
         },
         {
          "tau_DL04": 6700000,
          "value": 0.6363231951981296,
          "variable": "tau_T4"
         },
         {
          "tau_DL04": 10000000,
          "value": 0.11394335230683678,
          "variable": "tau_T4"
         },
         {
          "tau_DL04": 9000000,
          "value": 0.19188552623891314,
          "variable": "tau_T4"
         },
         {
          "tau_DL04": 2600000,
          "value": -2.1597008428675117,
          "variable": "tau_T4"
         },
         {
          "tau_DL04": 13000000,
          "value": -0.1408154987071381,
          "variable": "tau_T4"
         },
         {
          "tau_DL04": 27000000,
          "value": 0.1814200925607482,
          "variable": "tau_T4"
         },
         {
          "tau_DL04": 3900000,
          "value": 0,
          "variable": "tau_T4"
         },
         {
          "tau_DL04": 9600000,
          "value": 0.05912145211865659,
          "variable": "tau_T4"
         },
         {
          "tau_DL04": 4000000,
          "value": 0.7201593034059569,
          "variable": "tau_T4"
         },
         {
          "tau_DL04": 820000,
          "value": 0.5175499117752707,
          "variable": "tau_T4"
         },
         {
          "tau_DL04": 3900000,
          "value": 0.3383543186877935,
          "variable": "tau_T4"
         },
         {
          "tau_DL04": 9600000,
          "value": 0.13167211926726838,
          "variable": "tau_T4"
         },
         {
          "tau_DL04": 17000000,
          "value": -0.23922284568577912,
          "variable": "tau_T4"
         },
         {
          "tau_DL04": 8600000,
          "value": 0.5706515270763383,
          "variable": "tau_T4"
         },
         {
          "tau_DL04": 9000000,
          "value": 0.12493873660829992,
          "variable": "tau_T4"
         },
         {
          "tau_DL04": 3600000,
          "value": 0.9060954971316688,
          "variable": "tau_T4"
         },
         {
          "tau_DL04": 8600000,
          "value": -0.4159845113656802,
          "variable": "tau_T4"
         },
         {
          "tau_DL04": 4300000,
          "value": 0.3010299956639812,
          "variable": "tau_T4"
         },
         {
          "tau_DL04": 9700000,
          "value": 0.09240951178137999,
          "variable": "tau_T4"
         },
         {
          "tau_DL04": 5500000,
          "value": 0,
          "variable": "tau_T4"
         },
         {
          "tau_DL04": 5200000,
          "value": 0.4600879154208821,
          "variable": "tau_T4"
         },
         {
          "tau_DL04": 13000000,
          "value": -0.13167211926726835,
          "variable": "tau_T4"
         },
         {
          "tau_DL04": 28000000,
          "value": -0.4471580313422192,
          "variable": "tau_T4"
         },
         {
          "tau_DL04": 6700000,
          "value": -0.23501019567432724,
          "variable": "tau_T4"
         },
         {
          "tau_DL04": 50000,
          "value": 1.0253058652647702,
          "variable": "tau_T4"
         },
         {
          "tau_DL04": 9000000,
          "value": -1.3207740538597383,
          "variable": "tau_T4"
         },
         {
          "tau_DL04": 280000,
          "value": 0.7832908900360547,
          "variable": "tau_T4"
         },
         {
          "tau_DL04": 4294967295,
          "value": -3.0201760044265455,
          "variable": "tau_T4"
         },
         {
          "tau_DL04": 510000,
          "value": -0.32735893438633035,
          "variable": "tau_T4"
         },
         {
          "tau_DL04": 430000,
          "value": 1.4804748967272503,
          "variable": "tau_T4"
         },
         {
          "tau_DL04": 13000000,
          "value": 0.6569086593353074,
          "variable": "tau_T4"
         },
         {
          "tau_DL04": 9300000,
          "value": -0.4633329702340291,
          "variable": "tau_T4"
         },
         {
          "tau_DL04": 9600000,
          "value": 0.16385680263866959,
          "variable": "tau_T4"
         },
         {
          "tau_DL04": 2700000,
          "value": 0,
          "variable": "tau_T4"
         },
         {
          "tau_DL04": 11000000,
          "value": 0.44996900867604767,
          "variable": "tau_T4"
         },
         {
          "tau_DL04": 46000,
          "value": 2.592514673421732,
          "variable": "tau_T4"
         },
         {
          "tau_DL04": 9700000,
          "value": 0.26850077083706125,
          "variable": "tau_T4"
         },
         {
          "tau_DL04": 5400000,
          "value": 0.08051959681988707,
          "variable": "tau_T4"
         },
         {
          "tau_DL04": 13000000,
          "value": -0.26268500358776153,
          "variable": "tau_T4"
         },
         {
          "tau_DL04": 27000000,
          "value": 0.3089989253352566,
          "variable": "tau_T4"
         },
         {
          "tau_DL04": 290000,
          "value": 0.12866660912754313,
          "variable": "tau_T4"
         },
         {
          "tau_DL04": 13000000,
          "value": 0.11650556907143717,
          "variable": "tau_T4"
         },
         {
          "tau_DL04": 13000000,
          "value": 0.09017663034908803,
          "variable": "tau_T4"
         },
         {
          "tau_DL04": 1700000,
          "value": 1.0248235837250321,
          "variable": "tau_T4"
         },
         {
          "tau_DL04": 8700000,
          "value": -1.2493231725901048,
          "variable": "tau_T4"
         },
         {
          "tau_DL04": 5100000,
          "value": 0.33382250906028865,
          "variable": "tau_T4"
         },
         {
          "tau_DL04": 3900000,
          "value": 0.3383543186877935,
          "variable": "tau_T4"
         },
         {
          "tau_DL04": 32000000,
          "value": -0.226396377367077,
          "variable": "tau_T4"
         },
         {
          "tau_DL04": 22000000,
          "value": 0.019305155195386624,
          "variable": "tau_T4"
         },
         {
          "tau_DL04": 6300000,
          "value": -0.06694678963061322,
          "variable": "tau_T4"
         },
         {
          "tau_DL04": 510000,
          "value": -0.3651474952757301,
          "variable": "tau_T4"
         },
         {
          "tau_DL04": 26000000,
          "value": -0.26884531229257996,
          "variable": "tau_T4"
         },
         {
          "tau_DL04": 5900000,
          "value": -0.02266398463594376,
          "variable": "tau_T4"
         },
         {
          "tau_DL04": 9500000,
          "value": -0.19957235490520414,
          "variable": "tau_T4"
         },
         {
          "tau_DL04": 11000000,
          "value": -0.4181433947603246,
          "variable": "tau_T4"
         },
         {
          "tau_DL04": 5100000,
          "value": 0.040617850908264086,
          "variable": "tau_T4"
         },
         {
          "tau_DL04": 370000,
          "value": 1.4095218812218528,
          "variable": "tau_T4"
         },
         {
          "tau_DL04": 1800000,
          "value": 0.6989700043360189,
          "variable": "tau_T4"
         },
         {
          "tau_DL04": 9500000,
          "value": -0.5305655739466286,
          "variable": "tau_T4"
         },
         {
          "tau_DL04": 38000000,
          "value": -1.1026623418971477,
          "variable": "tau_T4"
         },
         {
          "tau_DL04": 10000000,
          "value": 0.04139268515822507,
          "variable": "tau_T4"
         },
         {
          "tau_DL04": 970000,
          "value": 1.291981866686584,
          "variable": "tau_T4"
         },
         {
          "tau_DL04": 15000000,
          "value": -0.1983676537668335,
          "variable": "tau_T4"
         },
         {
          "tau_DL04": 320000,
          "value": 1.8372727025023003,
          "variable": "tau_T4"
         },
         {
          "tau_DL04": 9600000,
          "value": 0,
          "variable": "tau_T4"
         },
         {
          "tau_DL04": 9200000,
          "value": 0.11539341870206955,
          "variable": "tau_T4"
         },
         {
          "tau_DL04": 6300000,
          "value": 0.15004945719133111,
          "variable": "tau_T4"
         },
         {
          "tau_DL04": 220000,
          "value": 1.7367585652254185,
          "variable": "tau_T4"
         },
         {
          "tau_DL04": 2900000,
          "value": 0.6515453544078806,
          "variable": "tau_T4"
         },
         {
          "tau_DL04": 5900000,
          "value": -0.02266398463594376,
          "variable": "tau_T4"
         },
         {
          "tau_DL04": 6900000,
          "value": -0.16675123280153784,
          "variable": "tau_T4"
         },
         {
          "tau_DL04": 830000,
          "value": 0.5580431623435885,
          "variable": "tau_T4"
         },
         {
          "tau_DL04": 3900000,
          "value": 0.3383543186877935,
          "variable": "tau_T4"
         },
         {
          "tau_DL04": 7000000,
          "value": 0.08432088570003587,
          "variable": "tau_T4"
         },
         {
          "tau_DL04": 210000,
          "value": 1.8819006879220055,
          "variable": "tau_T4"
         },
         {
          "tau_DL04": 7200000,
          "value": 0.10645533091428677,
          "variable": "tau_T4"
         },
         {
          "tau_DL04": 9700000,
          "value": 0.15935630141199317,
          "variable": "tau_T4"
         },
         {
          "tau_DL04": 5700000,
          "value": -0.07463361829690421,
          "variable": "tau_T4"
         },
         {
          "tau_DL04": 4600000,
          "value": 1.0093400262541434,
          "variable": "tau_T4"
         },
         {
          "tau_DL04": 8300000,
          "value": 0.2850418902798509,
          "variable": "tau_T4"
         },
         {
          "tau_DL04": 16000000,
          "value": -0.7417219847569687,
          "variable": "tau_T4"
         },
         {
          "tau_DL04": 630000,
          "value": 0.006839424530305441,
          "variable": "tau_T4"
         },
         {
          "tau_DL04": 4500000,
          "value": -0.07342891715853352,
          "variable": "tau_T4"
         },
         {
          "tau_DL04": 9600000,
          "value": 0.05912145211865659,
          "variable": "tau_T4"
         },
         {
          "tau_DL04": 9400000,
          "value": 0.5453860862781887,
          "variable": "tau_T4"
         },
         {
          "tau_DL04": 9200000,
          "value": 0.2403321553103695,
          "variable": "tau_T4"
         },
         {
          "tau_DL04": 14000000,
          "value": 0.08432088570003587,
          "variable": "tau_T4"
         },
         {
          "tau_DL04": 4800000,
          "value": -1,
          "variable": "tau_T4"
         },
         {
          "tau_DL04": 5800000,
          "value": 0.021901841447829747,
          "variable": "tau_T4"
         },
         {
          "tau_DL04": 7200000,
          "value": -0.07200266142050142,
          "variable": "tau_T4"
         },
         {
          "tau_DL04": 9000000,
          "value": -0.539269161468507,
          "variable": "tau_T4"
         },
         {
          "tau_DL04": 960000,
          "value": 1.651197222540018,
          "variable": "tau_T4"
         },
         {
          "tau_DL04": 9100000,
          "value": 0.08235129283713141,
          "variable": "tau_T4"
         },
         {
          "tau_DL04": 14000000,
          "value": -0.03218468337140124,
          "variable": "tau_T4"
         },
         {
          "tau_DL04": 20000000,
          "value": -0.37161106994968846,
          "variable": "tau_T4"
         },
         {
          "tau_DL04": 9900000,
          "value": 0.509514783722356,
          "variable": "tau_T4"
         },
         {
          "tau_DL04": 530000,
          "value": 0.07506467985279265,
          "variable": "tau_T4"
         },
         {
          "tau_DL04": 500000,
          "value": 0.5314789170422551,
          "variable": "tau_T4"
         },
         {
          "tau_DL04": 4900000,
          "value": -0.07741222330877814,
          "variable": "tau_T4"
         },
         {
          "tau_DL04": 1600000,
          "value": 0.17609125905568124,
          "variable": "tau_T4"
         },
         {
          "tau_DL04": 35000000,
          "value": 0.1635021317476607,
          "variable": "tau_T4"
         },
         {
          "tau_DL04": 3800000,
          "value": -0.3245110915135041,
          "variable": "tau_T4"
         },
         {
          "tau_DL04": 4100000,
          "value": 0,
          "variable": "tau_T4"
         },
         {
          "tau_DL04": 11000000,
          "value": 0.3010299956639812,
          "variable": "tau_T4"
         },
         {
          "tau_DL04": 9400000,
          "value": 0.6896299780818754,
          "variable": "tau_T4"
         },
         {
          "tau_DL04": 2500000,
          "value": 0.5658478186735176,
          "variable": "tau_T4"
         },
         {
          "tau_DL04": 4200000,
          "value": 0.22800905832117482,
          "variable": "tau_T4"
         },
         {
          "tau_DL04": 13000000,
          "value": 0.11650556907143717,
          "variable": "tau_T4"
         },
         {
          "tau_DL04": 4200000,
          "value": 0.7746907182741372,
          "variable": "tau_T4"
         },
         {
          "tau_DL04": 20000000,
          "value": 0.06069784035361165,
          "variable": "tau_T4"
         },
         {
          "tau_DL04": 5100000,
          "value": -0.08432088570003592,
          "variable": "tau_T4"
         },
         {
          "tau_DL04": 25000000,
          "value": -0.707743928643524,
          "variable": "tau_T4"
         },
         {
          "tau_DL04": 25000000,
          "value": -0.7746907182741372,
          "variable": "tau_T4"
         },
         {
          "tau_DL04": 3900000,
          "value": 0.13321126257428986,
          "variable": "tau_T4"
         },
         {
          "tau_DL04": 7000000,
          "value": 0.45593195564972433,
          "variable": "tau_T4"
         },
         {
          "tau_DL04": 11000000,
          "value": -2.536242706838319,
          "variable": "tau_T4"
         },
         {
          "tau_DL04": 3900000,
          "value": -1.8834944309285628,
          "variable": "tau_T4"
         },
         {
          "tau_DL04": 6700000,
          "value": -0.29459588565857125,
          "variable": "tau_T4"
         },
         {
          "tau_DL04": 4100000,
          "value": 0.2622774066719646,
          "variable": "tau_T4"
         },
         {
          "tau_DL04": 26000000,
          "value": -2,
          "variable": "tau_T4"
         },
         {
          "tau_DL04": 27000000,
          "value": 0.015794267183231882,
          "variable": "tau_T4"
         },
         {
          "tau_DL04": 17000000,
          "value": 0.09177037335564536,
          "variable": "tau_T4"
         },
         {
          "tau_DL04": 4200000,
          "value": 0.853871964321762,
          "variable": "tau_T4"
         },
         {
          "tau_DL04": 5400000,
          "value": 0.5686362358410126,
          "variable": "tau_T4"
         },
         {
          "tau_DL04": 9500000,
          "value": 0.721246399047171,
          "variable": "tau_T4"
         },
         {
          "tau_DL04": 4300000,
          "value": 0.09892530424338199,
          "variable": "tau_T4"
         },
         {
          "tau_DL04": 5200000,
          "value": -0.10321948691506368,
          "variable": "tau_T4"
         },
         {
          "tau_DL04": 1300000,
          "value": 0.6419315033656546,
          "variable": "tau_T4"
         },
         {
          "tau_DL04": 9700000,
          "value": 0.7292316093685542,
          "variable": "tau_T4"
         },
         {
          "tau_DL04": 9600000,
          "value": 0.3399480616943509,
          "variable": "tau_T4"
         },
         {
          "tau_DL04": 19000000,
          "value": -0.6766936096248666,
          "variable": "tau_T4"
         },
         {
          "tau_DL04": 9600000,
          "value": -0.4909095392052957,
          "variable": "tau_T4"
         },
         {
          "tau_DL04": 19000000,
          "value": -0.13262556527459096,
          "variable": "tau_T4"
         },
         {
          "tau_DL04": 4100000,
          "value": 0.02068459885985105,
          "variable": "tau_T4"
         },
         {
          "tau_DL04": 50000,
          "value": 0.7160033436347992,
          "variable": "tau_T4"
         },
         {
          "tau_DL04": 200000,
          "value": 1.8129133566428555,
          "variable": "tau_T4"
         },
         {
          "tau_DL04": 980000,
          "value": 0.2640464294108112,
          "variable": "tau_T4"
         },
         {
          "tau_DL04": 950000,
          "value": 0.9907593432650873,
          "variable": "tau_T4"
         },
         {
          "tau_DL04": 22000000,
          "value": -0.08715017571890014,
          "variable": "tau_T4"
         },
         {
          "tau_DL04": 11000000,
          "value": 0.4637572931616809,
          "variable": "tau_T4"
         },
         {
          "tau_DL04": 20000000,
          "value": 0.2787536009528289,
          "variable": "tau_T4"
         },
         {
          "tau_DL04": 4700000,
          "value": 0.060295901887251084,
          "variable": "tau_T4"
         },
         {
          "tau_DL04": 14000000,
          "value": 0.3452336581560347,
          "variable": "tau_T4"
         },
         {
          "tau_DL04": 5300000,
          "value": 0.47984411305513575,
          "variable": "tau_T4"
         },
         {
          "tau_DL04": 1700000,
          "value": 0.41300375510791354,
          "variable": "tau_T4"
         },
         {
          "tau_DL04": 20000000,
          "value": 0.021189299069938092,
          "variable": "tau_T4"
         },
         {
          "tau_DL04": 9600000,
          "value": -0.3488027774599819,
          "variable": "tau_T4"
         },
         {
          "tau_DL04": 4100000,
          "value": -0.010723865391773113,
          "variable": "tau_T4"
         },
         {
          "tau_DL04": 12000000,
          "value": 0.3832167518513312,
          "variable": "tau_T4"
         },
         {
          "tau_DL04": 19000000,
          "value": 0.043465693781090345,
          "variable": "tau_T4"
         },
         {
          "tau_DL04": 2700000,
          "value": 0.17069622716897506,
          "variable": "tau_T4"
         },
         {
          "tau_DL04": 220000,
          "value": 1.0377885608893997,
          "variable": "tau_T4"
         },
         {
          "tau_DL04": 21000000,
          "value": -0.3399480616943509,
          "variable": "tau_T4"
         },
         {
          "tau_DL04": 5500000,
          "value": -0.024359345859444693,
          "variable": "tau_T4"
         },
         {
          "tau_DL04": 910000,
          "value": 0.15490195998574316,
          "variable": "tau_T4"
         },
         {
          "tau_DL04": 23000000,
          "value": 0.31951340135799433,
          "variable": "tau_T4"
         },
         {
          "tau_DL04": 26000000,
          "value": -0.0532455119532251,
          "variable": "tau_T4"
         },
         {
          "tau_DL04": 11000000,
          "value": -1,
          "variable": "tau_T4"
         },
         {
          "tau_DL04": 12000000,
          "value": 0.12493873660829992,
          "variable": "tau_T4"
         },
         {
          "tau_DL04": 9600000,
          "value": 0.3979400086720376,
          "variable": "tau_T4"
         },
         {
          "tau_DL04": 4000000,
          "value": 0.031408464251624114,
          "variable": "tau_T4"
         },
         {
          "tau_DL04": 9500000,
          "value": 0.3233063903751334,
          "variable": "tau_T4"
         },
         {
          "tau_DL04": 9700000,
          "value": 0.09240951178137999,
          "variable": "tau_T4"
         },
         {
          "tau_DL04": 750000,
          "value": 0.11171047087454478,
          "variable": "tau_T4"
         },
         {
          "tau_DL04": 4000000,
          "value": 0.12221587827282664,
          "variable": "tau_T4"
         },
         {
          "tau_DL04": 29000000,
          "value": -0.42100531274073105,
          "variable": "tau_T4"
         },
         {
          "tau_DL04": 610000,
          "value": 1.210305359586783,
          "variable": "tau_T4"
         },
         {
          "tau_DL04": 2900000,
          "value": 1.2618778717018329,
          "variable": "tau_T4"
         },
         {
          "tau_DL04": 4000000,
          "value": 0.0881360887005513,
          "variable": "tau_T4"
         },
         {
          "tau_DL04": 11000000,
          "value": -0.43933269383026263,
          "variable": "tau_T4"
         },
         {
          "tau_DL04": 4600000,
          "value": 0.0448123444163623,
          "variable": "tau_T4"
         },
         {
          "tau_DL04": 1700000,
          "value": 1.0248235837250321,
          "variable": "tau_T4"
         },
         {
          "tau_DL04": 1100000,
          "value": 0.5818566052396754,
          "variable": "tau_T4"
         },
         {
          "tau_DL04": 12000000,
          "value": -0.23408320603336794,
          "variable": "tau_T4"
         },
         {
          "tau_DL04": 11000000,
          "value": 0.3203351508593678,
          "variable": "tau_T4"
         },
         {
          "tau_DL04": 4300000,
          "value": 0.0908074140212025,
          "variable": "tau_T4"
         },
         {
          "tau_DL04": 9400000,
          "value": 0.5583510634425565,
          "variable": "tau_T4"
         },
         {
          "tau_DL04": 4000000,
          "value": 0.10551018476997394,
          "variable": "tau_T4"
         },
         {
          "tau_DL04": 16000000,
          "value": 0.1576078533616681,
          "variable": "tau_T4"
         },
         {
          "tau_DL04": 1500000,
          "value": -0.4279032320494808,
          "variable": "tau_T4"
         },
         {
          "tau_DL04": 4400000,
          "value": -0.02020338608828695,
          "variable": "tau_T4"
         },
         {
          "tau_DL04": 11000000,
          "value": 0.4637572931616809,
          "variable": "tau_T4"
         },
         {
          "tau_DL04": 3200000,
          "value": 0.5740312677277188,
          "variable": "tau_T4"
         },
         {
          "tau_DL04": 4100000,
          "value": 0.10321948691506366,
          "variable": "tau_T4"
         },
         {
          "tau_DL04": 9100000,
          "value": 0.45593195564972433,
          "variable": "tau_T4"
         },
         {
          "tau_DL04": 12000000,
          "value": 0.1512676753306491,
          "variable": "tau_T4"
         },
         {
          "tau_DL04": 4000000,
          "value": 0.13033376849500614,
          "variable": "tau_T4"
         },
         {
          "tau_DL04": 1700000,
          "value": 0.9456423376774074,
          "variable": "tau_T4"
         },
         {
          "tau_DL04": 8600000,
          "value": -0.059437187851867676,
          "variable": "tau_T4"
         },
         {
          "tau_DL04": 29000000,
          "value": -0.10067016188136318,
          "variable": "tau_T4"
         },
         {
          "tau_DL04": 4700000,
          "value": 0.7081133837758886,
          "variable": "tau_T4"
         },
         {
          "tau_DL04": 3200000,
          "value": -0.42596873227228116,
          "variable": "tau_T4"
         },
         {
          "tau_DL04": 9800000,
          "value": 0.5402528413497603,
          "variable": "tau_T4"
         },
         {
          "tau_DL04": 5300000,
          "value": 0.023912157405411364,
          "variable": "tau_T4"
         },
         {
          "tau_DL04": 1800000,
          "value": 0.19188552623891314,
          "variable": "tau_T4"
         },
         {
          "tau_DL04": 3900000,
          "value": -0.07255066714861173,
          "variable": "tau_T4"
         },
         {
          "tau_DL04": 9500000,
          "value": -0.013935777943292491,
          "variable": "tau_T4"
         },
         {
          "tau_DL04": 11000,
          "value": 2.9542425094393248,
          "variable": "tau_T4"
         },
         {
          "tau_DL04": 22000000,
          "value": 0.05551732784983142,
          "variable": "tau_T4"
         },
         {
          "tau_DL04": 210000,
          "value": 1.3498785632017982,
          "variable": "tau_T4"
         },
         {
          "tau_DL04": 19000000,
          "value": 0.043465693781090345,
          "variable": "tau_T4"
         },
         {
          "tau_DL04": 17000000,
          "value": 0,
          "variable": "tau_T4"
         },
         {
          "tau_DL04": 4000000,
          "value": 0.36172783601759284,
          "variable": "tau_T4"
         },
         {
          "tau_DL04": 1700000,
          "value": 0.04830467957455504,
          "variable": "tau_T4"
         },
         {
          "tau_DL04": 17000000,
          "value": 0.09177037335564536,
          "variable": "tau_T4"
         },
         {
          "tau_DL04": 5300000,
          "value": 0.42185216607744896,
          "variable": "tau_T4"
         },
         {
          "tau_DL04": 22000000,
          "value": -0.36015144778263786,
          "variable": "tau_T4"
         },
         {
          "tau_DL04": 17000000,
          "value": 0.09177037335564536,
          "variable": "tau_T4"
         },
         {
          "tau_DL04": 24000000,
          "value": -0.23408320603336794,
          "variable": "tau_T4"
         },
         {
          "tau_DL04": 23000000,
          "value": 0.18234020833268277,
          "variable": "tau_T4"
         },
         {
          "tau_DL04": 740000,
          "value": 0.8866431359415152,
          "variable": "tau_T4"
         },
         {
          "tau_DL04": 5800000,
          "value": 0.0074240180792068755,
          "variable": "tau_T4"
         },
         {
          "tau_DL04": 1900000,
          "value": 0,
          "variable": "tau_T4"
         },
         {
          "tau_DL04": 300000,
          "value": 1.7533276666586115,
          "variable": "tau_T4"
         },
         {
          "tau_DL04": 9800000,
          "value": 0.5650764250747924,
          "variable": "tau_T4"
         },
         {
          "tau_DL04": 23000000,
          "value": 0.3372421683184259,
          "variable": "tau_T4"
         },
         {
          "tau_DL04": 2000000,
          "value": 1.2041199826559248,
          "variable": "tau_T4"
         },
         {
          "tau_DL04": 5000000,
          "value": -0.08618614761628333,
          "variable": "tau_T4"
         },
         {
          "tau_DL04": 9600000,
          "value": 0.05912145211865659,
          "variable": "tau_T4"
         },
         {
          "tau_DL04": 11000000,
          "value": 0.07255066714861175,
          "variable": "tau_T4"
         },
         {
          "tau_DL04": 9400000,
          "value": 0.3885999824178942,
          "variable": "tau_T4"
         },
         {
          "tau_DL04": 9300000,
          "value": 0.49391504934502095,
          "variable": "tau_T4"
         },
         {
          "tau_DL04": 18000000,
          "value": 0.19188552623891314,
          "variable": "tau_T4"
         },
         {
          "tau_DL04": 17000000,
          "value": 0.48555442225652523,
          "variable": "tau_T4"
         },
         {
          "tau_DL04": 2900000,
          "value": 0.7928745072043499,
          "variable": "tau_T4"
         },
         {
          "tau_DL04": 13000000,
          "value": 0.3174204118521506,
          "variable": "tau_T4"
         },
         {
          "tau_DL04": 150000,
          "value": 1.2041199826559248,
          "variable": "tau_T4"
         },
         {
          "tau_DL04": 21000000,
          "value": 0.03950854128367365,
          "variable": "tau_T4"
         },
         {
          "tau_DL04": 4000000,
          "value": 0.010723865391773066,
          "variable": "tau_T4"
         },
         {
          "tau_DL04": 2800000,
          "value": -0.1918855262389131,
          "variable": "tau_T4"
         },
         {
          "tau_DL04": 5200000,
          "value": 0.7311546877074201,
          "variable": "tau_T4"
         },
         {
          "tau_DL04": 620000,
          "value": 1.052706350516003,
          "variable": "tau_T4"
         },
         {
          "tau_DL04": 3500000,
          "value": 0.012234456417011586,
          "variable": "tau_T4"
         },
         {
          "tau_DL04": 4900000,
          "value": 0.03407978957227542,
          "variable": "tau_T4"
         },
         {
          "tau_DL04": 11000000,
          "value": 0.4057653461839942,
          "variable": "tau_T4"
         },
         {
          "tau_DL04": 1600000,
          "value": 1.0511525224473812,
          "variable": "tau_T4"
         },
         {
          "tau_DL04": 35000000,
          "value": 0.1635021317476607,
          "variable": "tau_T4"
         },
         {
          "tau_DL04": 9600000,
          "value": 0.22184874961635637,
          "variable": "tau_T4"
         },
         {
          "tau_DL04": 8800000,
          "value": -1.5827548361325758,
          "variable": "tau_T4"
         },
         {
          "tau_DL04": 21000000,
          "value": -0.06694678963061322,
          "variable": "tau_T4"
         },
         {
          "tau_DL04": 1700000,
          "value": 1.3716110699496884,
          "variable": "tau_T4"
         },
         {
          "tau_DL04": 26000000,
          "value": -1.0927540532368987,
          "variable": "tau_T4"
         },
         {
          "tau_DL04": 3200000,
          "value": -0.090176630349088,
          "variable": "tau_T4"
         },
         {
          "tau_DL04": 9900000,
          "value": 0.7602396610749415,
          "variable": "tau_T4"
         },
         {
          "tau_DL04": 9500000,
          "value": -0.2964823679132605,
          "variable": "tau_T4"
         },
         {
          "tau_DL04": 4800000,
          "value": 0,
          "variable": "tau_T4"
         },
         {
          "tau_DL04": 9400000,
          "value": 0.17300018207853934,
          "variable": "tau_T4"
         },
         {
          "tau_DL04": 9600000,
          "value": -0.02322984071847483,
          "variable": "tau_T4"
         },
         {
          "tau_DL04": 8400000,
          "value": -3.0917703733556454,
          "variable": "tau_T4"
         },
         {
          "tau_DL04": 9000000,
          "value": 0.47712125471966244,
          "variable": "tau_T4"
         },
         {
          "tau_DL04": 4600000,
          "value": 0.009340026254143432,
          "variable": "tau_T4"
         },
         {
          "tau_DL04": 4900000,
          "value": -1.3679767852945943,
          "variable": "tau_T4"
         },
         {
          "tau_DL04": 3900000,
          "value": 0.8239087409443188,
          "variable": "tau_T4"
         },
         {
          "tau_DL04": 37000000,
          "value": -1,
          "variable": "tau_T4"
         },
         {
          "tau_DL04": 10000000,
          "value": 0.3979400086720376,
          "variable": "tau_T4"
         },
         {
          "tau_DL04": 310000,
          "value": 1.6847295652214085,
          "variable": "tau_T4"
         },
         {
          "tau_DL04": 17000000,
          "value": 0.024823583725032145,
          "variable": "tau_T4"
         },
         {
          "tau_DL04": 11000000,
          "value": -0.3010299956639812,
          "variable": "tau_T4"
         },
         {
          "tau_DL04": 2800000,
          "value": -1.3679767852945943,
          "variable": "tau_T4"
         },
         {
          "tau_DL04": 7700000,
          "value": 0.15490195998574316,
          "variable": "tau_T4"
         },
         {
          "tau_DL04": 11000000,
          "value": -0.05912145211865665,
          "variable": "tau_T4"
         },
         {
          "tau_DL04": 9700000,
          "value": 0,
          "variable": "tau_T4"
         },
         {
          "tau_DL04": 1600000,
          "value": -0.057991946977686754,
          "variable": "tau_T4"
         },
         {
          "tau_DL04": 5200000,
          "value": -0.414973347970818,
          "variable": "tau_T4"
         },
         {
          "tau_DL04": 230000,
          "value": 0.08543019532462637,
          "variable": "tau_T4"
         },
         {
          "tau_DL04": 1800000,
          "value": 0.17609125905568124,
          "variable": "tau_T4"
         },
         {
          "tau_DL04": 5300000,
          "value": -0.44552226864796013,
          "variable": "tau_T4"
         },
         {
          "tau_DL04": 8400000,
          "value": -0.29081083048229517,
          "variable": "tau_T4"
         },
         {
          "tau_DL04": 9700000,
          "value": 0.374956101751348,
          "variable": "tau_T4"
         },
         {
          "tau_DL04": 5400000,
          "value": -1.098925304243382,
          "variable": "tau_T4"
         },
         {
          "tau_DL04": 2900000,
          "value": 0.7928745072043499,
          "variable": "tau_T4"
         },
         {
          "tau_DL04": 12000000,
          "value": -0.48811663902112556,
          "variable": "tau_T4"
         },
         {
          "tau_DL04": 7400000,
          "value": 0.17216096542724882,
          "variable": "tau_T4"
         },
         {
          "tau_DL04": 4800000,
          "value": 0.4648867983026508,
          "variable": "tau_T4"
         },
         {
          "tau_DL04": 470000,
          "value": 0.2521814281261641,
          "variable": "tau_T4"
         },
         {
          "tau_DL04": 18000000,
          "value": 0.17609125905568124,
          "variable": "tau_T4"
         },
         {
          "tau_DL04": 9500000,
          "value": 0.10145764075877703,
          "variable": "tau_T4"
         },
         {
          "tau_DL04": 3300000,
          "value": 0.5606673061697374,
          "variable": "tau_T4"
         },
         {
          "tau_DL04": 9400000,
          "value": 0.32790214206428253,
          "variable": "tau_T4"
         },
         {
          "tau_DL04": 4800000,
          "value": -0.24987747321659987,
          "variable": "tau_T4"
         },
         {
          "tau_DL04": 2900000,
          "value": 0.7136932611567252,
          "variable": "tau_T4"
         },
         {
          "tau_DL04": 5400000,
          "value": 0.4717262228329563,
          "variable": "tau_T4"
         },
         {
          "tau_DL04": 9700000,
          "value": 0.09240951178137999,
          "variable": "tau_T4"
         },
         {
          "tau_DL04": 16000000,
          "value": 0.5034501934420116,
          "variable": "tau_T4"
         },
         {
          "tau_DL04": 9900000,
          "value": 0.04575749056067514,
          "variable": "tau_T4"
         },
         {
          "tau_DL04": 19000000,
          "value": 0.23976033892505855,
          "variable": "tau_T4"
         },
         {
          "tau_DL04": 19000000,
          "value": -0.31027065239889384,
          "variable": "tau_T4"
         },
         {
          "tau_DL04": 9900000,
          "value": 0.04575749056067514,
          "variable": "tau_T4"
         },
         {
          "tau_DL04": 2900000,
          "value": 0.09390450286833119,
          "variable": "tau_T4"
         },
         {
          "tau_DL04": 17000000,
          "value": 0.3606156856482252,
          "variable": "tau_T4"
         },
         {
          "tau_DL04": 9500000,
          "value": 0.009048128977397114,
          "variable": "tau_T4"
         },
         {
          "tau_DL04": 9700000,
          "value": 0.6152882570617175,
          "variable": "tau_T4"
         },
         {
          "tau_DL04": 16000000,
          "value": -2.463757293161681,
          "variable": "tau_T4"
         },
         {
          "tau_DL04": 13000000,
          "value": 0.4658402443099734,
          "variable": "tau_T4"
         },
         {
          "tau_DL04": 2000000,
          "value": 0.31175386105575426,
          "variable": "tau_T4"
         },
         {
          "tau_DL04": 9500000,
          "value": -0.013935777943292491,
          "variable": "tau_T4"
         },
         {
          "tau_DL04": 9900000,
          "value": -0.23220720103461262,
          "variable": "tau_T4"
         },
         {
          "tau_DL04": 4000000,
          "value": 0.7958800173440752,
          "variable": "tau_T4"
         },
         {
          "tau_DL04": 9700000,
          "value": 0.6853261236694725,
          "variable": "tau_T4"
         },
         {
          "tau_DL04": 6300000,
          "value": 0.3146028028532551,
          "variable": "tau_T4"
         },
         {
          "tau_DL04": 1200000,
          "value": 0.6690067809585756,
          "variable": "tau_T4"
         },
         {
          "tau_DL04": 240000,
          "value": 0.16385680263866959,
          "variable": "tau_T4"
         },
         {
          "tau_DL04": 9400000,
          "value": 0.47403017774252054,
          "variable": "tau_T4"
         },
         {
          "tau_DL04": 3700000,
          "value": -1.7688611746134133,
          "variable": "tau_T4"
         },
         {
          "tau_DL04": 900000,
          "value": -2.134698573897456,
          "variable": "tau_T4"
         },
         {
          "tau_DL04": 4100000,
          "value": 0.010465433678164977,
          "variable": "tau_T4"
         },
         {
          "tau_DL04": 170,
          "value": 5.231949076520682,
          "variable": "tau_T4"
         },
         {
          "tau_DL04": 170000,
          "value": 0.8487323246693509,
          "variable": "tau_T4"
         },
         {
          "tau_DL04": 1800000,
          "value": 0.8586708472035307,
          "variable": "tau_T4"
         },
         {
          "tau_DL04": 21000000,
          "value": 0.12493873660829992,
          "variable": "tau_T4"
         },
         {
          "tau_DL04": 9700000,
          "value": 0.4282016137045731,
          "variable": "tau_T4"
         },
         {
          "tau_DL04": 7000000,
          "value": 0.08432088570003587,
          "variable": "tau_T4"
         },
         {
          "tau_DL04": 9300000,
          "value": 0.14546040375290167,
          "variable": "tau_T4"
         },
         {
          "tau_DL04": 390000,
          "value": 0.22184874961635637,
          "variable": "tau_T4"
         },
         {
          "tau_DL04": 24000000,
          "value": -0.23408320603336794,
          "variable": "tau_T4"
         },
         {
          "tau_DL04": 2400000,
          "value": -0.07918124604762482,
          "variable": "tau_T4"
         },
         {
          "tau_DL04": 3800000,
          "value": -0.16481024864599217,
          "variable": "tau_T4"
         },
         {
          "tau_DL04": 3500000,
          "value": 0.8709053036205423,
          "variable": "tau_T4"
         },
         {
          "tau_DL04": 4800000,
          "value": 0.18799048235538898,
          "variable": "tau_T4"
         },
         {
          "tau_DL04": 5800000,
          "value": 0.8047737305040578,
          "variable": "tau_T4"
         },
         {
          "tau_DL04": 8900000,
          "value": 0.5419716871893598,
          "variable": "tau_T4"
         },
         {
          "tau_DL04": 8700,
          "value": 2.911739096100457,
          "variable": "tau_T4"
         },
         {
          "tau_DL04": 640000,
          "value": 1.494850021680094,
          "variable": "tau_T4"
         },
         {
          "tau_DL04": 9700000,
          "value": 0.5695307665010425,
          "variable": "tau_T4"
         },
         {
          "tau_DL04": 10000000,
          "value": -0.14266750356873156,
          "variable": "tau_T4"
         },
         {
          "tau_DL04": 7200000,
          "value": 0.14266750356873154,
          "variable": "tau_T4"
         },
         {
          "tau_DL04": 5400000,
          "value": 0.7861201800549189,
          "variable": "tau_T4"
         },
         {
          "tau_DL04": 22000000,
          "value": 0.3010299956639812,
          "variable": "tau_T4"
         },
         {
          "tau_DL04": 9800000,
          "value": -0.8450980400142569,
          "variable": "tau_T4"
         },
         {
          "tau_DL04": 350000,
          "value": -0.09691001300805639,
          "variable": "tau_T4"
         },
         {
          "tau_DL04": 8400000,
          "value": 0.3979400086720376,
          "variable": "tau_T4"
         },
         {
          "tau_DL04": 200000,
          "value": -1.8386319977650252,
          "variable": "tau_T4"
         },
         {
          "tau_DL04": 9600000,
          "value": 0.27300127206373764,
          "variable": "tau_T4"
         },
         {
          "tau_DL04": 6200000,
          "value": 0.4863619114545751,
          "variable": "tau_T4"
         },
         {
          "tau_DL04": 220000,
          "value": 0.10473535052001297,
          "variable": "tau_T4"
         },
         {
          "tau_DL04": 9500000,
          "value": 0.48467439261010836,
          "variable": "tau_T4"
         },
         {
          "tau_DL04": 84000,
          "value": 0.9269790626571937,
          "variable": "tau_T4"
         },
         {
          "tau_DL04": 9400000,
          "value": 0.4418454943711193,
          "variable": "tau_T4"
         },
         {
          "tau_DL04": 18000000,
          "value": 0.19188552623891314,
          "variable": "tau_T4"
         },
         {
          "tau_DL04": 9100000,
          "value": -0.9767701592815252,
          "variable": "tau_T4"
         },
         {
          "tau_DL04": 250000,
          "value": 1.0934216851622351,
          "variable": "tau_T4"
         },
         {
          "tau_DL04": 26000000,
          "value": -0.7160033436347991,
          "variable": "tau_T4"
         },
         {
          "tau_DL04": 19000000,
          "value": -0.40369233756112893,
          "variable": "tau_T4"
         },
         {
          "tau_DL04": 4800000,
          "value": 0.017728766960431616,
          "variable": "tau_T4"
         },
         {
          "tau_DL04": 4900000,
          "value": 0.025807263606285526,
          "variable": "tau_T4"
         },
         {
          "tau_DL04": 20000000,
          "value": -0.5606673061697374,
          "variable": "tau_T4"
         },
         {
          "tau_DL04": 17000000,
          "value": 0.04830467957455504,
          "variable": "tau_T4"
         },
         {
          "tau_DL04": 9400000,
          "value": -0.2327651641054548,
          "variable": "tau_T4"
         },
         {
          "tau_DL04": 9700000,
          "value": 0.46038629707597434,
          "variable": "tau_T4"
         },
         {
          "tau_DL04": 20000000,
          "value": 0.13033376849500614,
          "variable": "tau_T4"
         },
         {
          "tau_DL04": 4600000,
          "value": 0.0931170239909173,
          "variable": "tau_T4"
         },
         {
          "tau_DL04": 4100000,
          "value": 0.3114954293421462,
          "variable": "tau_T4"
         },
         {
          "tau_DL04": 4200000,
          "value": -0.8239087409443188,
          "variable": "tau_T4"
         },
         {
          "tau_DL04": 5400000,
          "value": 0.744727494896694,
          "variable": "tau_T4"
         },
         {
          "tau_DL04": 96000,
          "value": 1.9522272182039992,
          "variable": "tau_T4"
         },
         {
          "tau_DL04": 120000,
          "value": 1.151267675330649,
          "variable": "tau_T4"
         },
         {
          "tau_DL04": 1200000,
          "value": -0.7174534100300319,
          "variable": "tau_T4"
         },
         {
          "tau_DL04": 310000,
          "value": 0.013788284485633283,
          "variable": "tau_T4"
         },
         {
          "tau_DL04": 8200000,
          "value": 0.2001294999231201,
          "variable": "tau_T4"
         },
         {
          "tau_DL04": 2900000,
          "value": 1.200359833782618,
          "variable": "tau_T4"
         },
         {
          "tau_DL04": 9900000,
          "value": -0.7403626894942439,
          "variable": "tau_T4"
         },
         {
          "tau_DL04": 5400000,
          "value": -0.255272505103306,
          "variable": "tau_T4"
         },
         {
          "tau_DL04": 13000000,
          "value": 0.33321467903538243,
          "variable": "tau_T4"
         },
         {
          "tau_DL04": 4700000,
          "value": -0.10389613386872246,
          "variable": "tau_T4"
         },
         {
          "tau_DL04": 48000,
          "value": 2.4327021149312493,
          "variable": "tau_T4"
         },
         {
          "tau_DL04": 2600000,
          "value": 0.9072459467631013,
          "variable": "tau_T4"
         },
         {
          "tau_DL04": 9300000,
          "value": 0.56299596848832,
          "variable": "tau_T4"
         },
         {
          "tau_DL04": 3900000,
          "value": 0.18708664335714445,
          "variable": "tau_T4"
         },
         {
          "tau_DL04": 5000000,
          "value": 0.26951294421791633,
          "variable": "tau_T4"
         },
         {
          "tau_DL04": 2400000,
          "value": 0.24303804868629442,
          "variable": "tau_T4"
         },
         {
          "tau_DL04": 4800000,
          "value": 0.43270211493124955,
          "variable": "tau_T4"
         },
         {
          "tau_DL04": 4800000,
          "value": -0.24987747321659987,
          "variable": "tau_T4"
         },
         {
          "tau_DL04": 9500000,
          "value": 0.136219747017989,
          "variable": "tau_T4"
         },
         {
          "tau_DL04": 20000000,
          "value": 0.25527250510330607,
          "variable": "tau_T4"
         },
         {
          "tau_DL04": 4100000,
          "value": 0.6176650646585384,
          "variable": "tau_T4"
         },
         {
          "tau_DL04": 4500000,
          "value": 0.29127015837482495,
          "variable": "tau_T4"
         },
         {
          "tau_DL04": 960000,
          "value": 0.13167211926726838,
          "variable": "tau_T4"
         },
         {
          "tau_DL04": 11000000,
          "value": -1.4079242295786385,
          "variable": "tau_T4"
         },
         {
          "tau_DL04": 7200000,
          "value": -1.1760912590556813,
          "variable": "tau_T4"
         },
         {
          "tau_DL04": 13000000,
          "value": -1.3077633783229496,
          "variable": "tau_T4"
         },
         {
          "tau_DL04": 1400000,
          "value": -0.640978057358332,
          "variable": "tau_T4"
         },
         {
          "tau_DL04": 2900000,
          "value": 0.16085129249894436,
          "variable": "tau_T4"
         },
         {
          "tau_DL04": 3300000,
          "value": 0.025554104472388137,
          "variable": "tau_T4"
         },
         {
          "tau_DL04": 9600000,
          "value": 0.7079248469889453,
          "variable": "tau_T4"
         },
         {
          "tau_DL04": 9700000,
          "value": -0.05735280855195212,
          "variable": "tau_T4"
         },
         {
          "tau_DL04": 9700000,
          "value": 0.4111682744057928,
          "variable": "tau_T4"
         },
         {
          "tau_DL04": 400000,
          "value": 0.0881360887005513,
          "variable": "tau_T4"
         },
         {
          "tau_DL04": 3800000,
          "value": -0.11738559871785405,
          "variable": "tau_T4"
         },
         {
          "tau_DL04": 27000000,
          "value": 0.2846395794758118,
          "variable": "tau_T4"
         },
         {
          "tau_DL04": 9100000,
          "value": 0.15490195998574316,
          "variable": "tau_T4"
         },
         {
          "tau_DL04": 3300000,
          "value": 0.5606673061697374,
          "variable": "tau_T4"
         },
         {
          "tau_DL04": 1100000,
          "value": 0.13469857389745615,
          "variable": "tau_T4"
         },
         {
          "tau_DL04": 580000,
          "value": 1.3157532524846876,
          "variable": "tau_T4"
         },
         {
          "tau_DL04": 9900000,
          "value": -1.5185139398778875,
          "variable": "tau_T4"
         },
         {
          "tau_DL04": 23000000,
          "value": -0.039508541283673634,
          "variable": "tau_T4"
         },
         {
          "tau_DL04": 9900000,
          "value": 0.32658410013636935,
          "variable": "tau_T4"
         },
         {
          "tau_DL04": 17000000,
          "value": 0.27470105694163205,
          "variable": "tau_T4"
         },
         {
          "tau_DL04": 9600000,
          "value": 0.05912145211865659,
          "variable": "tau_T4"
         },
         {
          "tau_DL04": 9600000,
          "value": 0.37945660297802447,
          "variable": "tau_T4"
         },
         {
          "tau_DL04": 4900000,
          "value": 0.8149538982913923,
          "variable": "tau_T4"
         },
         {
          "tau_DL04": 9000000,
          "value": 0.49291552190289434,
          "variable": "tau_T4"
         },
         {
          "tau_DL04": 11000000,
          "value": 0.2596373105057561,
          "variable": "tau_T4"
         },
         {
          "tau_DL04": 5400000,
          "value": 0.5898255349109507,
          "variable": "tau_T4"
         },
         {
          "tau_DL04": 110000,
          "value": 1.621365146523349,
          "variable": "tau_T4"
         },
         {
          "tau_DL04": 1900000,
          "value": 0.35471485462675756,
          "variable": "tau_T4"
         },
         {
          "tau_DL04": 5200000,
          "value": 0.6819366650372385,
          "variable": "tau_T4"
         },
         {
          "tau_DL04": 860000,
          "value": 1.2116295844346703,
          "variable": "tau_T4"
         },
         {
          "tau_DL04": 1800000,
          "value": 0.3467874862246563,
          "variable": "tau_T4"
         },
         {
          "tau_DL04": 9600000,
          "value": 0.16385680263866959,
          "variable": "tau_T4"
         },
         {
          "tau_DL04": 9600000,
          "value": 0.013363961557981502,
          "variable": "tau_T4"
         },
         {
          "tau_DL04": 4000000,
          "value": 1.0511525224473812,
          "variable": "tau_T4"
         },
         {
          "tau_DL04": 15000000,
          "value": -0.062147906748844454,
          "variable": "tau_T4"
         },
         {
          "tau_DL04": 19000000,
          "value": -0.863780252982011,
          "variable": "tau_T4"
         },
         {
          "tau_DL04": 9600000,
          "value": 0.4490925311194189,
          "variable": "tau_T4"
         },
         {
          "tau_DL04": 24000000,
          "value": 0.31875876262441283,
          "variable": "tau_T4"
         },
         {
          "tau_DL04": 3500000,
          "value": 0.21935994921266166,
          "variable": "tau_T4"
         },
         {
          "tau_DL04": 20000000,
          "value": 0.04139268515822507,
          "variable": "tau_T4"
         },
         {
          "tau_DL04": 2400000,
          "value": 0.03476210625921191,
          "variable": "tau_T4"
         },
         {
          "tau_DL04": 1900000,
          "value": -0.10266234189714772,
          "variable": "tau_T4"
         },
         {
          "tau_DL04": 620000,
          "value": 1.6847295652214085,
          "variable": "tau_T4"
         },
         {
          "tau_DL04": 9100000,
          "value": 0.4723223718378937,
          "variable": "tau_T4"
         },
         {
          "tau_DL04": 11000000,
          "value": 0.21387981994508107,
          "variable": "tau_T4"
         },
         {
          "tau_DL04": 140000,
          "value": 0.2852357284807493,
          "variable": "tau_T4"
         },
         {
          "tau_DL04": 9300000,
          "value": 0.4117282931576709,
          "variable": "tau_T4"
         },
         {
          "tau_DL04": 19000000,
          "value": -0.3197122086317354,
          "variable": "tau_T4"
         },
         {
          "tau_DL04": 9400000,
          "value": -0.21725299792720723,
          "variable": "tau_T4"
         },
         {
          "tau_DL04": 600000,
          "value": 0.8239087409443188,
          "variable": "tau_T4"
         },
         {
          "tau_DL04": 9700000,
          "value": -0.009048128977397102,
          "variable": "tau_T4"
         },
         {
          "tau_DL04": 140000,
          "value": 1.6172999578846992,
          "variable": "tau_T4"
         },
         {
          "tau_DL04": 1100000,
          "value": 0,
          "variable": "tau_T4"
         },
         {
          "tau_DL04": 11000000,
          "value": -0.2855178294857336,
          "variable": "tau_T4"
         },
         {
          "tau_DL04": 5800000,
          "value": 0.10580372616803894,
          "variable": "tau_T4"
         },
         {
          "tau_DL04": 6800000,
          "value": 0.1359740358476988,
          "variable": "tau_T4"
         },
         {
          "tau_DL04": 9600000,
          "value": 0.09691001300805642,
          "variable": "tau_T4"
         },
         {
          "tau_DL04": 93000,
          "value": 1.9346070384380085,
          "variable": "tau_T4"
         },
         {
          "tau_DL04": 460000,
          "value": 0.018483405694013133,
          "variable": "tau_T4"
         },
         {
          "tau_DL04": 140000,
          "value": 0.26884531229257996,
          "variable": "tau_T4"
         },
         {
          "tau_DL04": 2700000,
          "value": 0.031034233739968817,
          "variable": "tau_T4"
         },
         {
          "tau_DL04": 5200000,
          "value": 0.7153604205241881,
          "variable": "tau_T4"
         },
         {
          "tau_DL04": 12000000,
          "value": -0.09691001300805639,
          "variable": "tau_T4"
         },
         {
          "tau_DL04": 9900000,
          "value": -0.43933269383026263,
          "variable": "tau_T4"
         },
         {
          "tau_DL04": 4700000,
          "value": 0.09133013562721981,
          "variable": "tau_T4"
         },
         {
          "tau_DL04": 810000,
          "value": 0.09151498112135022,
          "variable": "tau_T4"
         },
         {
          "tau_DL04": 6000000,
          "value": -1.0299632233774432,
          "variable": "tau_T4"
         },
         {
          "tau_DL04": 9700000,
          "value": 0.09240951178137999,
          "variable": "tau_T4"
         },
         {
          "tau_DL04": 3900000,
          "value": 0.13321126257428986,
          "variable": "tau_T4"
         },
         {
          "tau_DL04": 9900000,
          "value": 0.1504928410806881,
          "variable": "tau_T4"
         },
         {
          "tau_DL04": 4200000,
          "value": 0.6071996309803734,
          "variable": "tau_T4"
         },
         {
          "tau_DL04": 3900000,
          "value": 0.36317790241282566,
          "variable": "tau_T4"
         },
         {
          "tau_DL04": 4900000,
          "value": 0.0421976797944548,
          "variable": "tau_T4"
         },
         {
          "tau_DL04": 9700000,
          "value": 0.09240951178137999,
          "variable": "tau_T4"
         },
         {
          "tau_DL04": 4300000,
          "value": 0.2959504701347062,
          "variable": "tau_T4"
         },
         {
          "tau_DL04": 2400000,
          "value": 0.9420080530223133,
          "variable": "tau_T4"
         },
         {
          "tau_DL04": 1200000,
          "value": 1,
          "variable": "tau_T4"
         },
         {
          "tau_DL04": 28000000,
          "value": -1.0854301953246264,
          "variable": "tau_T4"
         },
         {
          "tau_DL04": 31000000,
          "value": 0.04011722320798241,
          "variable": "tau_T4"
         },
         {
          "tau_DL04": 590000,
          "value": -0.08065593161363052,
          "variable": "tau_T4"
         },
         {
          "tau_DL04": 420000,
          "value": 0.04884856753781701,
          "variable": "tau_T4"
         },
         {
          "tau_DL04": 9400000,
          "value": -0.014086461278605055,
          "variable": "tau_T4"
         },
         {
          "tau_DL04": 5300000,
          "value": 0.7942380702770985,
          "variable": "tau_T4"
         },
         {
          "tau_DL04": 4200000,
          "value": 1.0579919469776868,
          "variable": "tau_T4"
         },
         {
          "tau_DL04": 12000000,
          "value": -0.42596873227228116,
          "variable": "tau_T4"
         },
         {
          "tau_DL04": 7600000,
          "value": -0.9076857386810927,
          "variable": "tau_T4"
         },
         {
          "tau_DL04": 5800000,
          "value": 0.27796469159528775,
          "variable": "tau_T4"
         },
         {
          "tau_DL04": 4100000,
          "value": 0.02068459885985105,
          "variable": "tau_T4"
         },
         {
          "tau_DL04": 9500000,
          "value": -0.9363309201306227,
          "variable": "tau_T4"
         },
         {
          "tau_DL04": 2900000,
          "value": 0.13966199342900631,
          "variable": "tau_T4"
         },
         {
          "tau_DL04": 7900000,
          "value": -0.3065624842639422,
          "variable": "tau_T4"
         },
         {
          "tau_DL04": 9600000,
          "value": -0.16272729749769974,
          "variable": "tau_T4"
         },
         {
          "tau_DL04": 5800000,
          "value": 0.6345120151091004,
          "variable": "tau_T4"
         },
         {
          "tau_DL04": 7000000,
          "value": 0.141673694251988,
          "variable": "tau_T4"
         },
         {
          "tau_DL04": 6800000,
          "value": 0.20888377245198872,
          "variable": "tau_T4"
         },
         {
          "tau_DL04": 18000000,
          "value": -0.17609125905568127,
          "variable": "tau_T4"
         },
         {
          "tau_DL04": 1700000,
          "value": 0.37161106994968846,
          "variable": "tau_T4"
         },
         {
          "tau_DL04": 13000000,
          "value": -0.07255066714861173,
          "variable": "tau_T4"
         },
         {
          "tau_DL04": 2000000,
          "value": -1.0222763947111522,
          "variable": "tau_T4"
         },
         {
          "tau_DL04": 9400000,
          "value": 0.5831746471675886,
          "variable": "tau_T4"
         },
         {
          "tau_DL04": 700000,
          "value": 0.3853508813640171,
          "variable": "tau_T4"
         },
         {
          "tau_DL04": 2600000,
          "value": 0.840299157132488,
          "variable": "tau_T4"
         },
         {
          "tau_DL04": 280000,
          "value": 0.015239966556736905,
          "variable": "tau_T4"
         },
         {
          "tau_DL04": 980000,
          "value": -0.5762527277216769,
          "variable": "tau_T4"
         },
         {
          "tau_DL04": 9100000,
          "value": 0,
          "variable": "tau_T4"
         },
         {
          "tau_DL04": 140000,
          "value": 1.6320232147054057,
          "variable": "tau_T4"
         },
         {
          "tau_DL04": 13000000,
          "value": 0.18708664335714445,
          "variable": "tau_T4"
         },
         {
          "tau_DL04": 19000000,
          "value": -0.07463361829690421,
          "variable": "tau_T4"
         },
         {
          "tau_DL04": 3700000,
          "value": -0.063051745747089,
          "variable": "tau_T4"
         },
         {
          "tau_DL04": 1600000,
          "value": -0.7269987279362623,
          "variable": "tau_T4"
         },
         {
          "tau_DL04": 3900000,
          "value": 0.3174204118521506,
          "variable": "tau_T4"
         },
         {
          "tau_DL04": 13000000,
          "value": -1.6515453544078806,
          "variable": "tau_T4"
         },
         {
          "tau_DL04": 2000000,
          "value": 0.9542425094393249,
          "variable": "tau_T4"
         },
         {
          "tau_DL04": 9100000,
          "value": 0.08235129283713141,
          "variable": "tau_T4"
         },
         {
          "tau_DL04": 8500000,
          "value": 0.48555442225652523,
          "variable": "tau_T4"
         },
         {
          "tau_DL04": 6000000,
          "value": 0.6368220975871743,
          "variable": "tau_T4"
         },
         {
          "tau_DL04": 90000,
          "value": 0.7939455175668755,
          "variable": "tau_T4"
         },
         {
          "tau_DL04": 1700000,
          "value": 0.33775280268872104,
          "variable": "tau_T4"
         },
         {
          "tau_DL04": 7500000,
          "value": -1.5528419686577808,
          "variable": "tau_T4"
         },
         {
          "tau_DL04": 3600000,
          "value": 0.8908555305749319,
          "variable": "tau_T4"
         },
         {
          "tau_DL04": 12000000,
          "value": 0,
          "variable": "tau_T4"
         },
         {
          "tau_DL04": 7500000,
          "value": -0.24159280781211348,
          "variable": "tau_T4"
         },
         {
          "tau_DL04": 32000000,
          "value": -0.04275198042094989,
          "variable": "tau_T4"
         },
         {
          "tau_DL04": 14000000,
          "value": 0.15490195998574316,
          "variable": "tau_T4"
         },
         {
          "tau_DL04": 840000,
          "value": 1.154901959985743,
          "variable": "tau_T4"
         },
         {
          "tau_DL04": 8700000,
          "value": 0.45842075605341903,
          "variable": "tau_T4"
         },
         {
          "tau_DL04": 4900000,
          "value": 0.35119660512971135,
          "variable": "tau_T4"
         },
         {
          "tau_DL04": 4500,
          "value": 2.7939455175668755,
          "variable": "tau_T4"
         },
         {
          "tau_DL04": 5900,
          "value": 1.6270879970298935,
          "variable": "tau_T4"
         },
         {
          "tau_DL04": 280000,
          "value": 0.08432088570003587,
          "variable": "tau_T4"
         },
         {
          "tau_DL04": 320000,
          "value": -0.12493873660829993,
          "variable": "tau_T4"
         },
         {
          "tau_DL04": 20000000,
          "value": 0.021189299069938092,
          "variable": "tau_T4"
         },
         {
          "tau_DL04": 8900000,
          "value": 0.164553345661924,
          "variable": "tau_T4"
         },
         {
          "tau_DL04": 14000000,
          "value": -0.06694678963061322,
          "variable": "tau_T4"
         },
         {
          "tau_DL04": 6300000,
          "value": -2.2082759424270826,
          "variable": "tau_T4"
         },
         {
          "tau_DL04": 23000000,
          "value": -0.1576078533616681,
          "variable": "tau_T4"
         },
         {
          "tau_DL04": 760000,
          "value": -0.07463361829690421,
          "variable": "tau_T4"
         },
         {
          "tau_DL04": 1900000,
          "value": -1.5975123635772417,
          "variable": "tau_T4"
         },
         {
          "tau_DL04": 290000,
          "value": 1.5013898294465993,
          "variable": "tau_T4"
         },
         {
          "tau_DL04": 4800000,
          "value": -0.12493873660829993,
          "variable": "tau_T4"
         },
         {
          "tau_DL04": 1800000,
          "value": 0.5081554884596312,
          "variable": "tau_T4"
         },
         {
          "tau_DL04": 9900000,
          "value": -0.3054391145690362,
          "variable": "tau_T4"
         },
         {
          "tau_DL04": 38000000,
          "value": 0.12778657948112618,
          "variable": "tau_T4"
         },
         {
          "tau_DL04": 9600000,
          "value": 0.13167211926726838,
          "variable": "tau_T4"
         },
         {
          "tau_DL04": 15000000,
          "value": -0.02996322337744321,
          "variable": "tau_T4"
         },
         {
          "tau_DL04": 210000,
          "value": -1.5093059380910636,
          "variable": "tau_T4"
         },
         {
          "tau_DL04": 4800000,
          "value": 0.8372727025023002,
          "variable": "tau_T4"
         },
         {
          "tau_DL04": 36000000,
          "value": 0.03476210625921191,
          "variable": "tau_T4"
         },
         {
          "tau_DL04": 27000000,
          "value": 0.24987747321659987,
          "variable": "tau_T4"
         },
         {
          "tau_DL04": 290000,
          "value": 1.218843239476631,
          "variable": "tau_T4"
         },
         {
          "tau_DL04": 5000000,
          "value": 0.4471580313422192,
          "variable": "tau_T4"
         },
         {
          "tau_DL04": 9400000,
          "value": 0.5583510634425565,
          "variable": "tau_T4"
         },
         {
          "tau_DL04": 94000,
          "value": 1.7903001399632386,
          "variable": "tau_T4"
         },
         {
          "tau_DL04": 9800000,
          "value": 0.08795517035512998,
          "variable": "tau_T4"
         },
         {
          "tau_DL04": 5400000,
          "value": 0.6293340761946244,
          "variable": "tau_T4"
         },
         {
          "tau_DL04": 9300000,
          "value": -0.22812025905969124,
          "variable": "tau_T4"
         },
         {
          "tau_DL04": 27000000,
          "value": 0.11270428019128832,
          "variable": "tau_T4"
         },
         {
          "tau_DL04": 3000000,
          "value": 0.014240439114610285,
          "variable": "tau_T4"
         },
         {
          "tau_DL04": 9900000,
          "value": -0.09800810330710848,
          "variable": "tau_T4"
         },
         {
          "tau_DL04": 9400000,
          "value": 0.06826483155852639,
          "variable": "tau_T4"
         },
         {
          "tau_DL04": 370000,
          "value": 0.10389613386872243,
          "variable": "tau_T4"
         },
         {
          "tau_DL04": 7500000,
          "value": -1.0238029146726249,
          "variable": "tau_T4"
         },
         {
          "tau_DL04": 27000000,
          "value": -0.7153604205241881,
          "variable": "tau_T4"
         },
         {
          "tau_DL04": 9600000,
          "value": -1.0684573806558517,
          "variable": "tau_T4"
         },
         {
          "tau_DL04": 9200000,
          "value": -1.3510039706258197,
          "variable": "tau_T4"
         },
         {
          "tau_DL04": 18000000,
          "value": 0.0871501757189002,
          "variable": "tau_T4"
         },
         {
          "tau_DL04": 910000,
          "value": 0,
          "variable": "tau_T4"
         },
         {
          "tau_DL04": 17000000,
          "value": 0.04830467957455504,
          "variable": "tau_T4"
         },
         {
          "tau_DL04": 9900000,
          "value": 0.40230481407448765,
          "variable": "tau_T4"
         },
         {
          "tau_DL04": 210000,
          "value": 1.1691423991003536,
          "variable": "tau_T4"
         },
         {
          "tau_DL04": 9900000,
          "value": 0.5358437224447052,
          "variable": "tau_T4"
         },
         {
          "tau_DL04": 21000000,
          "value": -1.4191293077419758,
          "variable": "tau_T4"
         },
         {
          "tau_DL04": 23000000,
          "value": -0.8703661421833202,
          "variable": "tau_T4"
         },
         {
          "tau_DL04": 3000000,
          "value": 0.028028723600243534,
          "variable": "tau_T4"
         },
         {
          "tau_DL04": 7000000,
          "value": 0.006160308704818433,
          "variable": "tau_T4"
         },
         {
          "tau_DL04": 21000000,
          "value": 0.3937840489008799,
          "variable": "tau_T4"
         },
         {
          "tau_DL04": 11000000,
          "value": 0.10473535052001297,
          "variable": "tau_T4"
         },
         {
          "tau_DL04": 480000,
          "value": 1.6989700043360187,
          "variable": "tau_T4"
         },
         {
          "tau_DL04": 32000000,
          "value": -0.057991946977686754,
          "variable": "tau_T4"
         },
         {
          "tau_DL04": 5800000,
          "value": 0.41266326549274396,
          "variable": "tau_T4"
         },
         {
          "tau_DL04": 9800000,
          "value": 0.08795517035512998,
          "variable": "tau_T4"
         },
         {
          "tau_DL04": 16000000,
          "value": -0.02802872360024354,
          "variable": "tau_T4"
         },
         {
          "tau_DL04": 320000,
          "value": -0.013788284485633295,
          "variable": "tau_T4"
         },
         {
          "tau_DL04": 9700000,
          "value": 0.09240951178137999,
          "variable": "tau_T4"
         },
         {
          "tau_DL04": 2000000,
          "value": 0.7781512503836436,
          "variable": "tau_T4"
         },
         {
          "tau_DL04": 9400000,
          "value": 0.5320221247202073,
          "variable": "tau_T4"
         },
         {
          "tau_DL04": 12000000,
          "value": -0.10145764075877708,
          "variable": "tau_T4"
         },
         {
          "tau_DL04": 9700000,
          "value": 0.44459202989274244,
          "variable": "tau_T4"
         },
         {
          "tau_DL04": 7600000,
          "value": 0.6377003475970962,
          "variable": "tau_T4"
         },
         {
          "tau_DL04": 3600000,
          "value": 0.14266750356873154,
          "variable": "tau_T4"
         },
         {
          "tau_DL04": 10000000,
          "value": -0.060480747381381476,
          "variable": "tau_T4"
         },
         {
          "tau_DL04": 29000000,
          "value": -1.7548278218010196,
          "variable": "tau_T4"
         },
         {
          "tau_DL04": 12000000,
          "value": -0.1983676537668335,
          "variable": "tau_T4"
         },
         {
          "tau_DL04": 14000000,
          "value": -0.2016453635280694,
          "variable": "tau_T4"
         },
         {
          "tau_DL04": 13000000,
          "value": -0.03476210625921192,
          "variable": "tau_T4"
         },
         {
          "tau_DL04": 9000000,
          "value": -0.5740312677277188,
          "variable": "tau_T4"
         },
         {
          "tau_DL04": 14000000,
          "value": 0.3010299956639812,
          "variable": "tau_T4"
         },
         {
          "tau_DL04": 12000000,
          "value": -1.6020599913279623,
          "variable": "tau_T4"
         },
         {
          "tau_DL04": 9600000,
          "value": -1.2833012287035497,
          "variable": "tau_T4"
         },
         {
          "tau_DL04": 9300000,
          "value": 0.1106982974936897,
          "variable": "tau_T4"
         },
         {
          "tau_DL04": 9700000,
          "value": 0.24367718711202907,
          "variable": "tau_T4"
         },
         {
          "tau_DL04": 20000000,
          "value": 0,
          "variable": "tau_T4"
         },
         {
          "tau_DL04": 4300000,
          "value": 0.306050797039032,
          "variable": "tau_T4"
         },
         {
          "tau_DL04": 7500000,
          "value": -0.1268732363854996,
          "variable": "tau_T4"
         },
         {
          "tau_DL04": 3300000,
          "value": -1.6551910797574316,
          "variable": "tau_T4"
         },
         {
          "tau_DL04": 9900000,
          "value": -0.22478318295540575,
          "variable": "tau_T4"
         },
         {
          "tau_DL04": 8200000,
          "value": -0.010723865391773113,
          "variable": "tau_T4"
         }
        ]
       },
       "encoding": {
        "color": {
         "field": "variable",
         "type": "nominal"
        },
        "x": {
         "bin": {
          "maxbins": 50
         },
         "field": "value",
         "stack": null,
         "title": "log(tau_Tn/tau_L)",
         "type": "quantitative"
        },
        "y": {
         "aggregate": "count",
         "title": "frequency",
         "type": "quantitative"
        }
       },
       "height": 600,
       "mark": {
        "opacity": 0.5,
        "type": "bar"
       },
       "width": 800
      },
      "image/png": "[encoded data removed]",
      "text/plain": [
       "<VegaLite 2 object>\n",
       "\n",
       "If you see this message, it means the renderer has not been properly enabled\n",
       "for the frontend that you are using. For more information, see\n",
       "https://altair-viz.github.io/user_guide/troubleshooting.html\n"
      ]
     },
     "execution_count": 7,
     "metadata": {},
     "output_type": "execute_result"
    }
   ],
   "source": [
    "data2=data.copy()\n",
    "data2.value = np.log10(data2.value/data2.tau_DL04)\n",
    "c = alt.Chart(data2, width=800, height=600).mark_bar(opacity=0.5).encode(\n",
    "    color=alt.Color('variable'),\n",
    "    x=alt.X('value', title='log(tau_Tn/tau_L)', bin=alt.Bin(maxbins=50), stack=None),\n",
    "    y=alt.Y('count()', title='frequency'),\n",
    ")\n",
    "c"
   ]
  },
  {
   "cell_type": "code",
   "execution_count": 8,
   "metadata": {},
   "outputs": [
    {
     "data": {
      "text/plain": [
       "1875"
      ]
     },
     "execution_count": 8,
     "metadata": {},
     "output_type": "execute_result"
    }
   ],
   "source": [
    "len(data2)"
   ]
  },
  {
   "cell_type": "code",
   "execution_count": null,
   "metadata": {},
   "outputs": [],
   "source": []
  }
 ],
 "metadata": {
  "kernelspec": {
   "display_name": "dynamics",
   "language": "python",
   "name": "dynamics"
  },
  "language_info": {
   "codemirror_mode": {
    "name": "ipython",
    "version": 3
   },
   "file_extension": ".py",
   "mimetype": "text/x-python",
   "name": "python",
   "nbconvert_exporter": "python",
   "pygments_lexer": "ipython3",
   "version": "3.6.7"
  }
 },
 "nbformat": 4,
 "nbformat_minor": 2
}
