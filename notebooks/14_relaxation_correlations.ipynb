{
 "cells": [
  {
   "cell_type": "markdown",
   "metadata": {},
   "source": [
    "# Correlation of Relaxation Times\n",
    "\n",
    "This is a notebook to understand how relaxation times correlate with each other,\n",
    "in particular investigating the relaxation of individual molecules."
   ]
  },
  {
   "cell_type": "code",
   "execution_count": 1,
   "metadata": {},
   "outputs": [
    {
     "data": {
      "text/html": [
       "\n",
       "    <div class=\"bk-root\">\n",
       "        <a href=\"https://bokeh.pydata.org\" target=\"_blank\" class=\"bk-logo bk-logo-small bk-logo-notebook\"></a>\n",
       "        <span id=\"1001\">Loading BokehJS ...</span>\n",
       "    </div>"
      ]
     },
     "metadata": {},
     "output_type": "display_data"
    },
    {
     "data": {
      "application/javascript": [
       "\n",
       "(function(root) {\n",
       "  function now() {\n",
       "    return new Date();\n",
       "  }\n",
       "\n",
       "  var force = true;\n",
       "\n",
       "  if (typeof (root._bokeh_onload_callbacks) === \"undefined\" || force === true) {\n",
       "    root._bokeh_onload_callbacks = [];\n",
       "    root._bokeh_is_loading = undefined;\n",
       "  }\n",
       "\n",
       "  var JS_MIME_TYPE = 'application/javascript';\n",
       "  var HTML_MIME_TYPE = 'text/html';\n",
       "  var EXEC_MIME_TYPE = 'application/vnd.bokehjs_exec.v0+json';\n",
       "  var CLASS_NAME = 'output_bokeh rendered_html';\n",
       "\n",
       "  /**\n",
       "   * Render data to the DOM node\n",
       "   */\n",
       "  function render(props, node) {\n",
       "    var script = document.createElement(\"script\");\n",
       "    node.appendChild(script);\n",
       "  }\n",
       "\n",
       "  /**\n",
       "   * Handle when an output is cleared or removed\n",
       "   */\n",
       "  function handleClearOutput(event, handle) {\n",
       "    var cell = handle.cell;\n",
       "\n",
       "    var id = cell.output_area._bokeh_element_id;\n",
       "    var server_id = cell.output_area._bokeh_server_id;\n",
       "    // Clean up Bokeh references\n",
       "    if (id != null && id in Bokeh.index) {\n",
       "      Bokeh.index[id].model.document.clear();\n",
       "      delete Bokeh.index[id];\n",
       "    }\n",
       "\n",
       "    if (server_id !== undefined) {\n",
       "      // Clean up Bokeh references\n",
       "      var cmd = \"from bokeh.io.state import curstate; print(curstate().uuid_to_server['\" + server_id + \"'].get_sessions()[0].document.roots[0]._id)\";\n",
       "      cell.notebook.kernel.execute(cmd, {\n",
       "        iopub: {\n",
       "          output: function(msg) {\n",
       "            var id = msg.content.text.trim();\n",
       "            if (id in Bokeh.index) {\n",
       "              Bokeh.index[id].model.document.clear();\n",
       "              delete Bokeh.index[id];\n",
       "            }\n",
       "          }\n",
       "        }\n",
       "      });\n",
       "      // Destroy server and session\n",
       "      var cmd = \"import bokeh.io.notebook as ion; ion.destroy_server('\" + server_id + \"')\";\n",
       "      cell.notebook.kernel.execute(cmd);\n",
       "    }\n",
       "  }\n",
       "\n",
       "  /**\n",
       "   * Handle when a new output is added\n",
       "   */\n",
       "  function handleAddOutput(event, handle) {\n",
       "    var output_area = handle.output_area;\n",
       "    var output = handle.output;\n",
       "\n",
       "    // limit handleAddOutput to display_data with EXEC_MIME_TYPE content only\n",
       "    if ((output.output_type != \"display_data\") || (!output.data.hasOwnProperty(EXEC_MIME_TYPE))) {\n",
       "      return\n",
       "    }\n",
       "\n",
       "    var toinsert = output_area.element.find(\".\" + CLASS_NAME.split(' ')[0]);\n",
       "\n",
       "    if (output.metadata[EXEC_MIME_TYPE][\"id\"] !== undefined) {\n",
       "      toinsert[toinsert.length - 1].firstChild.textContent = output.data[JS_MIME_TYPE];\n",
       "      // store reference to embed id on output_area\n",
       "      output_area._bokeh_element_id = output.metadata[EXEC_MIME_TYPE][\"id\"];\n",
       "    }\n",
       "    if (output.metadata[EXEC_MIME_TYPE][\"server_id\"] !== undefined) {\n",
       "      var bk_div = document.createElement(\"div\");\n",
       "      bk_div.innerHTML = output.data[HTML_MIME_TYPE];\n",
       "      var script_attrs = bk_div.children[0].attributes;\n",
       "      for (var i = 0; i < script_attrs.length; i++) {\n",
       "        toinsert[toinsert.length - 1].firstChild.setAttribute(script_attrs[i].name, script_attrs[i].value);\n",
       "      }\n",
       "      // store reference to server id on output_area\n",
       "      output_area._bokeh_server_id = output.metadata[EXEC_MIME_TYPE][\"server_id\"];\n",
       "    }\n",
       "  }\n",
       "\n",
       "  function register_renderer(events, OutputArea) {\n",
       "\n",
       "    function append_mime(data, metadata, element) {\n",
       "      // create a DOM node to render to\n",
       "      var toinsert = this.create_output_subarea(\n",
       "        metadata,\n",
       "        CLASS_NAME,\n",
       "        EXEC_MIME_TYPE\n",
       "      );\n",
       "      this.keyboard_manager.register_events(toinsert);\n",
       "      // Render to node\n",
       "      var props = {data: data, metadata: metadata[EXEC_MIME_TYPE]};\n",
       "      render(props, toinsert[toinsert.length - 1]);\n",
       "      element.append(toinsert);\n",
       "      return toinsert\n",
       "    }\n",
       "\n",
       "    /* Handle when an output is cleared or removed */\n",
       "    events.on('clear_output.CodeCell', handleClearOutput);\n",
       "    events.on('delete.Cell', handleClearOutput);\n",
       "\n",
       "    /* Handle when a new output is added */\n",
       "    events.on('output_added.OutputArea', handleAddOutput);\n",
       "\n",
       "    /**\n",
       "     * Register the mime type and append_mime function with output_area\n",
       "     */\n",
       "    OutputArea.prototype.register_mime_type(EXEC_MIME_TYPE, append_mime, {\n",
       "      /* Is output safe? */\n",
       "      safe: true,\n",
       "      /* Index of renderer in `output_area.display_order` */\n",
       "      index: 0\n",
       "    });\n",
       "  }\n",
       "\n",
       "  // register the mime type if in Jupyter Notebook environment and previously unregistered\n",
       "  if (root.Jupyter !== undefined) {\n",
       "    var events = require('base/js/events');\n",
       "    var OutputArea = require('notebook/js/outputarea').OutputArea;\n",
       "\n",
       "    if (OutputArea.prototype.mime_types().indexOf(EXEC_MIME_TYPE) == -1) {\n",
       "      register_renderer(events, OutputArea);\n",
       "    }\n",
       "  }\n",
       "\n",
       "  \n",
       "  if (typeof (root._bokeh_timeout) === \"undefined\" || force === true) {\n",
       "    root._bokeh_timeout = Date.now() + 5000;\n",
       "    root._bokeh_failed_load = false;\n",
       "  }\n",
       "\n",
       "  var NB_LOAD_WARNING = {'data': {'text/html':\n",
       "     \"<div style='background-color: #fdd'>\\n\"+\n",
       "     \"<p>\\n\"+\n",
       "     \"BokehJS does not appear to have successfully loaded. If loading BokehJS from CDN, this \\n\"+\n",
       "     \"may be due to a slow or bad network connection. Possible fixes:\\n\"+\n",
       "     \"</p>\\n\"+\n",
       "     \"<ul>\\n\"+\n",
       "     \"<li>re-rerun `output_notebook()` to attempt to load from CDN again, or</li>\\n\"+\n",
       "     \"<li>use INLINE resources instead, as so:</li>\\n\"+\n",
       "     \"</ul>\\n\"+\n",
       "     \"<code>\\n\"+\n",
       "     \"from bokeh.resources import INLINE\\n\"+\n",
       "     \"output_notebook(resources=INLINE)\\n\"+\n",
       "     \"</code>\\n\"+\n",
       "     \"</div>\"}};\n",
       "\n",
       "  function display_loaded() {\n",
       "    var el = document.getElementById(\"1001\");\n",
       "    if (el != null) {\n",
       "      el.textContent = \"BokehJS is loading...\";\n",
       "    }\n",
       "    if (root.Bokeh !== undefined) {\n",
       "      if (el != null) {\n",
       "        el.textContent = \"BokehJS \" + root.Bokeh.version + \" successfully loaded.\";\n",
       "      }\n",
       "    } else if (Date.now() < root._bokeh_timeout) {\n",
       "      setTimeout(display_loaded, 100)\n",
       "    }\n",
       "  }\n",
       "\n",
       "\n",
       "  function run_callbacks() {\n",
       "    try {\n",
       "      root._bokeh_onload_callbacks.forEach(function(callback) { callback() });\n",
       "    }\n",
       "    finally {\n",
       "      delete root._bokeh_onload_callbacks\n",
       "    }\n",
       "    console.info(\"Bokeh: all callbacks have finished\");\n",
       "  }\n",
       "\n",
       "  function load_libs(js_urls, callback) {\n",
       "    root._bokeh_onload_callbacks.push(callback);\n",
       "    if (root._bokeh_is_loading > 0) {\n",
       "      console.log(\"Bokeh: BokehJS is being loaded, scheduling callback at\", now());\n",
       "      return null;\n",
       "    }\n",
       "    if (js_urls == null || js_urls.length === 0) {\n",
       "      run_callbacks();\n",
       "      return null;\n",
       "    }\n",
       "    console.log(\"Bokeh: BokehJS not loaded, scheduling load and callback at\", now());\n",
       "    root._bokeh_is_loading = js_urls.length;\n",
       "    for (var i = 0; i < js_urls.length; i++) {\n",
       "      var url = js_urls[i];\n",
       "      var s = document.createElement('script');\n",
       "      s.src = url;\n",
       "      s.async = false;\n",
       "      s.onreadystatechange = s.onload = function() {\n",
       "        root._bokeh_is_loading--;\n",
       "        if (root._bokeh_is_loading === 0) {\n",
       "          console.log(\"Bokeh: all BokehJS libraries loaded\");\n",
       "          run_callbacks()\n",
       "        }\n",
       "      };\n",
       "      s.onerror = function() {\n",
       "        console.warn(\"failed to load library \" + url);\n",
       "      };\n",
       "      console.log(\"Bokeh: injecting script tag for BokehJS library: \", url);\n",
       "      document.getElementsByTagName(\"head\")[0].appendChild(s);\n",
       "    }\n",
       "  };var element = document.getElementById(\"1001\");\n",
       "  if (element == null) {\n",
       "    console.log(\"Bokeh: ERROR: autoload.js configured with elementid '1001' but no matching script tag was found. \")\n",
       "    return false;\n",
       "  }\n",
       "\n",
       "  var js_urls = [\"https://cdn.pydata.org/bokeh/release/bokeh-1.0.4.min.js\", \"https://cdn.pydata.org/bokeh/release/bokeh-widgets-1.0.4.min.js\", \"https://cdn.pydata.org/bokeh/release/bokeh-tables-1.0.4.min.js\", \"https://cdn.pydata.org/bokeh/release/bokeh-gl-1.0.4.min.js\"];\n",
       "\n",
       "  var inline_js = [\n",
       "    function(Bokeh) {\n",
       "      Bokeh.set_log_level(\"info\");\n",
       "    },\n",
       "    \n",
       "    function(Bokeh) {\n",
       "      \n",
       "    },\n",
       "    function(Bokeh) {\n",
       "      console.log(\"Bokeh: injecting CSS: https://cdn.pydata.org/bokeh/release/bokeh-1.0.4.min.css\");\n",
       "      Bokeh.embed.inject_css(\"https://cdn.pydata.org/bokeh/release/bokeh-1.0.4.min.css\");\n",
       "      console.log(\"Bokeh: injecting CSS: https://cdn.pydata.org/bokeh/release/bokeh-widgets-1.0.4.min.css\");\n",
       "      Bokeh.embed.inject_css(\"https://cdn.pydata.org/bokeh/release/bokeh-widgets-1.0.4.min.css\");\n",
       "      console.log(\"Bokeh: injecting CSS: https://cdn.pydata.org/bokeh/release/bokeh-tables-1.0.4.min.css\");\n",
       "      Bokeh.embed.inject_css(\"https://cdn.pydata.org/bokeh/release/bokeh-tables-1.0.4.min.css\");\n",
       "    }\n",
       "  ];\n",
       "\n",
       "  function run_inline_js() {\n",
       "    \n",
       "    if ((root.Bokeh !== undefined) || (force === true)) {\n",
       "      for (var i = 0; i < inline_js.length; i++) {\n",
       "        inline_js[i].call(root, root.Bokeh);\n",
       "      }if (force === true) {\n",
       "        display_loaded();\n",
       "      }} else if (Date.now() < root._bokeh_timeout) {\n",
       "      setTimeout(run_inline_js, 100);\n",
       "    } else if (!root._bokeh_failed_load) {\n",
       "      console.log(\"Bokeh: BokehJS failed to load within specified timeout.\");\n",
       "      root._bokeh_failed_load = true;\n",
       "    } else if (force !== true) {\n",
       "      var cell = $(document.getElementById(\"1001\")).parents('.cell').data().cell;\n",
       "      cell.output_area.append_execute_result(NB_LOAD_WARNING)\n",
       "    }\n",
       "\n",
       "  }\n",
       "\n",
       "  if (root._bokeh_is_loading === 0) {\n",
       "    console.log(\"Bokeh: BokehJS loaded, going straight to plotting\");\n",
       "    run_inline_js();\n",
       "  } else {\n",
       "    load_libs(js_urls, function() {\n",
       "      console.log(\"Bokeh: BokehJS plotting callback run at\", now());\n",
       "      run_inline_js();\n",
       "    });\n",
       "  }\n",
       "}(window));"
      ],
      "application/vnd.bokehjs_load.v0+json": "\n(function(root) {\n  function now() {\n    return new Date();\n  }\n\n  var force = true;\n\n  if (typeof (root._bokeh_onload_callbacks) === \"undefined\" || force === true) {\n    root._bokeh_onload_callbacks = [];\n    root._bokeh_is_loading = undefined;\n  }\n\n  \n\n  \n  if (typeof (root._bokeh_timeout) === \"undefined\" || force === true) {\n    root._bokeh_timeout = Date.now() + 5000;\n    root._bokeh_failed_load = false;\n  }\n\n  var NB_LOAD_WARNING = {'data': {'text/html':\n     \"<div style='background-color: #fdd'>\\n\"+\n     \"<p>\\n\"+\n     \"BokehJS does not appear to have successfully loaded. If loading BokehJS from CDN, this \\n\"+\n     \"may be due to a slow or bad network connection. Possible fixes:\\n\"+\n     \"</p>\\n\"+\n     \"<ul>\\n\"+\n     \"<li>re-rerun `output_notebook()` to attempt to load from CDN again, or</li>\\n\"+\n     \"<li>use INLINE resources instead, as so:</li>\\n\"+\n     \"</ul>\\n\"+\n     \"<code>\\n\"+\n     \"from bokeh.resources import INLINE\\n\"+\n     \"output_notebook(resources=INLINE)\\n\"+\n     \"</code>\\n\"+\n     \"</div>\"}};\n\n  function display_loaded() {\n    var el = document.getElementById(\"1001\");\n    if (el != null) {\n      el.textContent = \"BokehJS is loading...\";\n    }\n    if (root.Bokeh !== undefined) {\n      if (el != null) {\n        el.textContent = \"BokehJS \" + root.Bokeh.version + \" successfully loaded.\";\n      }\n    } else if (Date.now() < root._bokeh_timeout) {\n      setTimeout(display_loaded, 100)\n    }\n  }\n\n\n  function run_callbacks() {\n    try {\n      root._bokeh_onload_callbacks.forEach(function(callback) { callback() });\n    }\n    finally {\n      delete root._bokeh_onload_callbacks\n    }\n    console.info(\"Bokeh: all callbacks have finished\");\n  }\n\n  function load_libs(js_urls, callback) {\n    root._bokeh_onload_callbacks.push(callback);\n    if (root._bokeh_is_loading > 0) {\n      console.log(\"Bokeh: BokehJS is being loaded, scheduling callback at\", now());\n      return null;\n    }\n    if (js_urls == null || js_urls.length === 0) {\n      run_callbacks();\n      return null;\n    }\n    console.log(\"Bokeh: BokehJS not loaded, scheduling load and callback at\", now());\n    root._bokeh_is_loading = js_urls.length;\n    for (var i = 0; i < js_urls.length; i++) {\n      var url = js_urls[i];\n      var s = document.createElement('script');\n      s.src = url;\n      s.async = false;\n      s.onreadystatechange = s.onload = function() {\n        root._bokeh_is_loading--;\n        if (root._bokeh_is_loading === 0) {\n          console.log(\"Bokeh: all BokehJS libraries loaded\");\n          run_callbacks()\n        }\n      };\n      s.onerror = function() {\n        console.warn(\"failed to load library \" + url);\n      };\n      console.log(\"Bokeh: injecting script tag for BokehJS library: \", url);\n      document.getElementsByTagName(\"head\")[0].appendChild(s);\n    }\n  };var element = document.getElementById(\"1001\");\n  if (element == null) {\n    console.log(\"Bokeh: ERROR: autoload.js configured with elementid '1001' but no matching script tag was found. \")\n    return false;\n  }\n\n  var js_urls = [\"https://cdn.pydata.org/bokeh/release/bokeh-1.0.4.min.js\", \"https://cdn.pydata.org/bokeh/release/bokeh-widgets-1.0.4.min.js\", \"https://cdn.pydata.org/bokeh/release/bokeh-tables-1.0.4.min.js\", \"https://cdn.pydata.org/bokeh/release/bokeh-gl-1.0.4.min.js\"];\n\n  var inline_js = [\n    function(Bokeh) {\n      Bokeh.set_log_level(\"info\");\n    },\n    \n    function(Bokeh) {\n      \n    },\n    function(Bokeh) {\n      console.log(\"Bokeh: injecting CSS: https://cdn.pydata.org/bokeh/release/bokeh-1.0.4.min.css\");\n      Bokeh.embed.inject_css(\"https://cdn.pydata.org/bokeh/release/bokeh-1.0.4.min.css\");\n      console.log(\"Bokeh: injecting CSS: https://cdn.pydata.org/bokeh/release/bokeh-widgets-1.0.4.min.css\");\n      Bokeh.embed.inject_css(\"https://cdn.pydata.org/bokeh/release/bokeh-widgets-1.0.4.min.css\");\n      console.log(\"Bokeh: injecting CSS: https://cdn.pydata.org/bokeh/release/bokeh-tables-1.0.4.min.css\");\n      Bokeh.embed.inject_css(\"https://cdn.pydata.org/bokeh/release/bokeh-tables-1.0.4.min.css\");\n    }\n  ];\n\n  function run_inline_js() {\n    \n    if ((root.Bokeh !== undefined) || (force === true)) {\n      for (var i = 0; i < inline_js.length; i++) {\n        inline_js[i].call(root, root.Bokeh);\n      }if (force === true) {\n        display_loaded();\n      }} else if (Date.now() < root._bokeh_timeout) {\n      setTimeout(run_inline_js, 100);\n    } else if (!root._bokeh_failed_load) {\n      console.log(\"Bokeh: BokehJS failed to load within specified timeout.\");\n      root._bokeh_failed_load = true;\n    } else if (force !== true) {\n      var cell = $(document.getElementById(\"1001\")).parents('.cell').data().cell;\n      cell.output_area.append_execute_result(NB_LOAD_WARNING)\n    }\n\n  }\n\n  if (root._bokeh_is_loading === 0) {\n    console.log(\"Bokeh: BokehJS loaded, going straight to plotting\");\n    run_inline_js();\n  } else {\n    load_libs(js_urls, function() {\n      console.log(\"Bokeh: BokehJS plotting callback run at\", now());\n      run_inline_js();\n    });\n  }\n}(window));"
     },
     "metadata": {},
     "output_type": "display_data"
    }
   ],
   "source": [
    "from pathlib import Path\n",
    "import numpy as np\n",
    "import scipy.stats\n",
    "import pandas\n",
    "from bokeh.plotting import figure, show, output_notebook\n",
    "from bokeh.palettes import Dark2\n",
    "from bokeh.transform import factor_cmap\n",
    "from bokeh.palettes import Spectral6\n",
    "import ipywidgets\n",
    "import itertools\n",
    "from IPython.display import display\n",
    "import altair as alt\n",
    "output_notebook()"
   ]
  },
  {
   "cell_type": "markdown",
   "metadata": {},
   "source": [
    "## Data Import\n",
    "\n",
    "The data used for this analysis is from a series of simulations studying the dynamics of a Trimer molecule at a pressure of 13.50. \n",
    "These simulations are all of equilibrated systems at a range of temperatures. \n",
    "For the purposes of this investigation only a single temperature has been studied,\n",
    "although it is feasilbe to extend this to multiple temperatures."
   ]
  },
  {
   "cell_type": "code",
   "execution_count": 2,
   "metadata": {},
   "outputs": [],
   "source": [
    "# Modify these variables to change the simulation being investigated\n",
    "temperature = '1.35'\n",
    "pressure = '13.50'\n",
    "\n",
    "# Select directory data stored and the file within that directory \n",
    "infile = '../data/analysis/dynamics.h5'\n",
    "\n",
    "# Load input file into a pandas dataframe\n",
    "df = pandas.read_hdf(infile, 'molecular_relaxations').query('temperature==@temperature and pressure==@pressure')\n",
    "# There are a number of initial configurations in the data, only select the first \n",
    "df = df.loc[0]\n",
    "\n",
    "df = df.drop(columns=['pressure', 'temperature'])\n"
   ]
  },
  {
   "cell_type": "markdown",
   "metadata": {},
   "source": [
    "## Visualisation\n",
    "\n",
    "A simple method of understanding how these timescales relate to one another\n",
    "is to plot them against each other in a scatter plot.\n",
    "Where there is some correlation between them this will exist on a straight line throught the figure.\n",
    "Since the values of the timescales I am investigating are over such a large range,\n",
    "both the x and y axis have a log scale.\n",
    "\n",
    "The timescales I am plotting in this figure are the time for a molecule to undergo a certain motion,\n",
    "with all motions relative to the initial position.\n",
    "The motions are tabulated below;\n",
    "\n",
    "- `tau_D04` -> travel a distance of 0.4\n",
    "- `tau_D1`  -> travel a distance of 1\n",
    "- `tau_DL04` -> last passage of a distance of 0.4 before reaching 1.0\n",
    "- `tau_T2`  -> rotate a distance of $\\pi/2$\n",
    "- `tau_T3`  -> rotate a distance of $\\pi/3$\n",
    "- `tau_T4`  -> rotate a distance of $\\pi/4$"
   ]
  },
  {
   "cell_type": "code",
   "execution_count": 3,
   "metadata": {},
   "outputs": [
    {
     "data": {
      "application/vnd.jupyter.widget-view+json": {
       "model_id": "f9f4c0e77f3a4514931a60eef0f9b312",
       "version_major": 2,
       "version_minor": 0
      },
      "text/plain": [
       "interactive(children=(ToggleButtons(description='X axis:', options=('tau_D1', 'tau_D04', 'tau_DL04', 'tau_T2',…"
      ]
     },
     "metadata": {},
     "output_type": "display_data"
    }
   ],
   "source": [
    "# Create buttons to select the quantity plotted on each axis \n",
    "x_opts = ipywidgets.ToggleButtons(\n",
    "    options=df.columns,\n",
    "    description='X axis:',\n",
    ")\n",
    "y_opts = ipywidgets.ToggleButtons(\n",
    "    value=df.columns[1],\n",
    "    options=df.columns,\n",
    "    description='Y axis:',\n",
    ")\n",
    "\n",
    "@ipywidgets.interact(x=x_opts, y=y_opts)\n",
    "def create_plot(x, y):\n",
    "    f = figure(x_axis_type='log', y_axis_type='log', x_axis_label=x, y_axis_label=y)\n",
    "    f.scatter(x, y, source=df)\n",
    "    show(f)"
   ]
  },
  {
   "cell_type": "markdown",
   "metadata": {},
   "source": [
    "## Quantitation of correlations\n",
    "\n",
    "While it is nice to look at a picture,\n",
    "it is difficult to make a fair comparison between two images.\n",
    "Here I aim to quantify the level of correlation between the timescales.\n",
    "The metric I have chosen is the [Pearson correlation](https://en.wikipedia.org/wiki/Pearson_correlation_coefficient)\n",
    "which is implemented in the `scipy.stats` module as [pearsonr](https://docs.scipy.org/doc/scipy-0.14.0/reference/generated/scipy.stats.pearsonr.html)."
   ]
  },
  {
   "cell_type": "code",
   "execution_count": 4,
   "metadata": {},
   "outputs": [
    {
     "name": "stdout",
     "output_type": "stream",
     "text": [
      "tau_D1   tau_D04  0.18\n",
      "tau_D1   tau_DL04 0.97\n",
      "tau_D1   tau_T2   0.26\n",
      "tau_D1   tau_T3   0.35\n",
      "tau_D1   tau_T4   0.41\n",
      "tau_D04  tau_DL04 0.16\n",
      "tau_D04  tau_T2   0.08\n",
      "tau_D04  tau_T3   0.11\n",
      "tau_D04  tau_T4   0.08\n",
      "tau_DL04 tau_T2   0.24\n",
      "tau_DL04 tau_T3   0.33\n",
      "tau_DL04 tau_T4   0.40\n",
      "tau_T2   tau_T3   0.74\n",
      "tau_T2   tau_T4   0.59\n",
      "tau_T3   tau_T4   0.80\n"
     ]
    }
   ],
   "source": [
    "for x1, x2 in itertools.combinations(df.columns, 2):\n",
    "    correlation, pValue = scipy.stats.pearsonr(getattr(df, x1), getattr(df, x2))\n",
    "    print(f'{x1: <8} {x2: <8} {correlation:.2f}')"
   ]
  },
  {
   "cell_type": "markdown",
   "metadata": {},
   "source": [
    "It is notable that the correlation between the last passage time `tau_DL04` and the diffusion time `tau_D1` are so similar.\n",
    "This really is indicating that the last passage time is a good proxy for diffusive behaviour.\n",
    "There is still a strong correlation between the last passage time and the relaxation times,\n",
    "so there is a reasonable argument to be made that these values are all connected in some way. "
   ]
  },
  {
   "cell_type": "code",
   "execution_count": 5,
   "metadata": {},
   "outputs": [
    {
     "data": {
      "text/html": [
       "\n",
       "\n",
       "\n",
       "\n",
       "\n",
       "\n",
       "  <div class=\"bk-root\" id=\"a9bd23be-14de-4f24-8614-eefe652ddd10\" data-root-id=\"1105\"></div>\n"
      ]
     },
     "metadata": {},
     "output_type": "display_data"
    },
    {
     "data": {
      "application/javascript": [
       "(function(root) {\n",
       "  function embed_document(root) {\n",
       "    \n",
       "  var docs_json = {\"6d8823c0-d6f4-42c2-8d38-186d104b9124\":{\"roots\":{\"references\":[{\"attributes\":{\"below\":[{\"id\":\"1114\",\"type\":\"LogAxis\"}],\"left\":[{\"id\":\"1119\",\"type\":\"LogAxis\"}],\"renderers\":[{\"id\":\"1114\",\"type\":\"LogAxis\"},{\"id\":\"1118\",\"type\":\"Grid\"},{\"id\":\"1119\",\"type\":\"LogAxis\"},{\"id\":\"1123\",\"type\":\"Grid\"},{\"id\":\"1132\",\"type\":\"BoxAnnotation\"},{\"id\":\"1144\",\"type\":\"GlyphRenderer\"}],\"title\":{\"id\":\"1156\",\"type\":\"Title\"},\"toolbar\":{\"id\":\"1130\",\"type\":\"Toolbar\"},\"x_range\":{\"id\":\"1106\",\"type\":\"DataRange1d\"},\"x_scale\":{\"id\":\"1110\",\"type\":\"LogScale\"},\"y_range\":{\"id\":\"1108\",\"type\":\"DataRange1d\"},\"y_scale\":{\"id\":\"1112\",\"type\":\"LogScale\"}},\"id\":\"1105\",\"subtype\":\"Figure\",\"type\":\"Plot\"},{\"attributes\":{\"fill_color\":{\"field\":\"variable\",\"transform\":{\"id\":\"1139\",\"type\":\"CategoricalColorMapper\"}},\"line_color\":{\"field\":\"variable\",\"transform\":{\"id\":\"1139\",\"type\":\"CategoricalColorMapper\"}},\"x\":{\"field\":\"tau_DL04\"},\"y\":{\"field\":\"value\"}},\"id\":\"1142\",\"type\":\"Scatter\"},{\"attributes\":{\"plot\":null,\"text\":\"\"},\"id\":\"1156\",\"type\":\"Title\"},{\"attributes\":{\"dimension\":1,\"plot\":{\"id\":\"1105\",\"subtype\":\"Figure\",\"type\":\"Plot\"},\"ticker\":{\"id\":\"1120\",\"type\":\"LogTicker\"}},\"id\":\"1123\",\"type\":\"Grid\"},{\"attributes\":{},\"id\":\"1162\",\"type\":\"Selection\"},{\"attributes\":{\"num_minor_ticks\":10},\"id\":\"1120\",\"type\":\"LogTicker\"},{\"attributes\":{\"ticker\":null},\"id\":\"1160\",\"type\":\"LogTickFormatter\"},{\"attributes\":{\"axis_label\":\"tau_L\",\"formatter\":{\"id\":\"1160\",\"type\":\"LogTickFormatter\"},\"plot\":{\"id\":\"1105\",\"subtype\":\"Figure\",\"type\":\"Plot\"},\"ticker\":{\"id\":\"1115\",\"type\":\"LogTicker\"}},\"id\":\"1114\",\"type\":\"LogAxis\"},{\"attributes\":{},\"id\":\"1127\",\"type\":\"SaveTool\"},{\"attributes\":{\"ticker\":null},\"id\":\"1158\",\"type\":\"LogTickFormatter\"},{\"attributes\":{\"num_minor_ticks\":10},\"id\":\"1115\",\"type\":\"LogTicker\"},{\"attributes\":{},\"id\":\"1163\",\"type\":\"UnionRenderers\"},{\"attributes\":{\"overlay\":{\"id\":\"1132\",\"type\":\"BoxAnnotation\"}},\"id\":\"1126\",\"type\":\"BoxZoomTool\"},{\"attributes\":{\"axis_label\":\"tau_Tn\",\"formatter\":{\"id\":\"1158\",\"type\":\"LogTickFormatter\"},\"plot\":{\"id\":\"1105\",\"subtype\":\"Figure\",\"type\":\"Plot\"},\"ticker\":{\"id\":\"1120\",\"type\":\"LogTicker\"}},\"id\":\"1119\",\"type\":\"LogAxis\"},{\"attributes\":{},\"id\":\"1125\",\"type\":\"WheelZoomTool\"},{\"attributes\":{\"plot\":{\"id\":\"1105\",\"subtype\":\"Figure\",\"type\":\"Plot\"},\"ticker\":{\"id\":\"1115\",\"type\":\"LogTicker\"}},\"id\":\"1118\",\"type\":\"Grid\"},{\"attributes\":{},\"id\":\"1124\",\"type\":\"PanTool\"},{\"attributes\":{\"active_drag\":\"auto\",\"active_inspect\":\"auto\",\"active_multi\":null,\"active_scroll\":\"auto\",\"active_tap\":\"auto\",\"tools\":[{\"id\":\"1124\",\"type\":\"PanTool\"},{\"id\":\"1125\",\"type\":\"WheelZoomTool\"},{\"id\":\"1126\",\"type\":\"BoxZoomTool\"},{\"id\":\"1127\",\"type\":\"SaveTool\"},{\"id\":\"1128\",\"type\":\"ResetTool\"},{\"id\":\"1129\",\"type\":\"HelpTool\"}]},\"id\":\"1130\",\"type\":\"Toolbar\"},{\"attributes\":{\"callback\":null,\"data\":{\"index\":[0,1,2,3,4,5,6,7,8,9,10,11,12,13,14,15,16,17,18,19,20,21,22,23,24,25,26,27,28,29,30,31,32,33,34,35,36,37,38,39,40,41,42,43,44,45,46,47,48,49,50,51,52,53,54,55,56,57,58,59,60,61,62,63,64,65,66,67,68,69,70,71,72,73,74,75,76,77,78,79,80,81,82,83,84,85,86,87,88,89,90,91,92,93,94,95,96,97,98,99,100,101,102,103,104,105,106,107,108,109,110,111,112,113,114,115,116,117,118,119,120,121,122,123,124,125,126,127,128,129,130,131,132,133,134,135,136,137,138,139,140,141,142,143,144,145,146,147,148,149,150,151,152,153,154,155,156,157,158,159,160,161,162,163,164,165,166,167,168,169,170,171,172,173,174,175,176,177,178,179,180,181,182,183,184,185,186,187,188,189,190,191,192,193,194,195,196,197,198,199,200,201,202,203,204,205,206,207,208,209,210,211,212,213,214,215,216,217,218,219,220,221,222,223,224,225,226,227,228,229,230,231,232,233,234,235,236,237,238,239,240,241,242,243,244,245,246,247,248,249,250,251,252,253,254,255,256,257,258,259,260,261,262,263,264,265,266,267,268,269,270,271,272,273,274,275,276,277,278,279,280,281,282,283,284,285,286,287,288,289,290,291,292,293,294,295,296,297,298,299,300,301,302,303,304,305,306,307,308,309,310,311,312,313,314,315,316,317,318,319,320,321,322,323,324,325,326,327,328,329,330,331,332,333,334,335,336,337,338,339,340,341,342,343,344,345,346,347,348,349,350,351,352,353,354,355,356,357,358,359,360,361,362,363,364,365,366,367,368,369,370,371,372,373,374,375,376,377,378,379,380,381,382,383,384,385,386,387,388,389,390,391,392,393,394,395,396,397,398,399,400,401,402,403,404,405,406,407,408,409,410,411,412,413,414,415,416,417,418,419,420,421,422,423,424,425,426,427,428,429,430,431,432,433,434,435,436,437,438,439,440,441,442,443,444,445,446,447,448,449,450,451,452,453,454,455,456,457,458,459,460,461,462,463,464,465,466,467,468,469,470,471,472,473,474,475,476,477,478,479,480,481,482,483,484,485,486,487,488,489,490,491,492,493,494,495,496,497,498,499,500,501,502,503,504,505,506,507,508,509,510,511,512,513,514,515,516,517,518,519,520,521,522,523,524,525,526,527,528,529,530,531,532,533,534,535,536,537,538,539,540,541,542,543,544,545,546,547,548,549,550,551,552,553,554,555,556,557,558,559,560,561,562,563,564,565,566,567,568,569,570,571,572,573,574,575,576,577,578,579,580,581,582,583,584,585,586,587,588,589,590,591,592,593,594,595,596,597,598,599,600,601,602,603,604,605,606,607,608,609,610,611,612,613,614,615,616,617,618,619,620,621,622,623,624,625,626,627,628,629,630,631,632,633,634,635,636,637,638,639,640,641,642,643,644,645,646,647,648,649,650,651,652,653,654,655,656,657,658,659,660,661,662,663,664,665,666,667,668,669,670,671,672,673,674,675,676,677,678,679,680,681,682,683,684,685,686,687,688,689,690,691,692,693,694,695,696,697,698,699,700,701,702,703,704,705,706,707,708,709,710,711,712,713,714,715,716,717,718,719,720,721,722,723,724,725,726,727,728,729,730,731,732,733,734,735,736,737,738,739,740,741,742,743,744,745,746,747,748,749,750,751,752,753,754,755,756,757,758,759,760,761,762,763,764,765,766,767,768,769,770,771,772,773,774,775,776,777,778,779,780,781,782,783,784,785,786,787,788,789,790,791,792,793,794,795,796,797,798,799,800,801,802,803,804,805,806,807,808,809,810,811,812,813,814,815,816,817,818,819,820,821,822,823,824,825,826,827,828,829,830,831,832,833,834,835,836,837,838,839,840,841,842,843,844,845,846,847,848,849,850,851,852,853,854,855,856,857,858,859,860,861,862,863,864,865,866,867,868,869,870,871,872,873,874,875,876,877,878,879,880,881,882,883,884,885,886,887,888,889,890,891,892,893,894,895,896,897,898,899,900,901,902,903,904,905,906,907,908,909,910,911,912,913,914,915,916,917,918,919,920,921,922,923,924,925,926,927,928,929,930,931,932,933,934,935,936,937,938,939,940,941,942,943,944,945,946,947,948,949,950,951,952,953,954,955,956,957,958,959,960,961,962,963,964,965,966,967,968,969,970,971,972,973,974,975,976,977,978,979,980,981,982,983,984,985,986,987,988,989,990,991,992,993,994,995,996,997,998,999,1000,1001,1002,1003,1004,1005,1006,1007,1008,1009,1010,1011,1012,1013,1014,1015,1016,1017,1018,1019,1020,1021,1022,1023,1024,1025,1026,1027,1028,1029,1030,1031,1032,1033,1034,1035,1036,1037,1038,1039,1040,1041,1042,1043,1044,1045,1046,1047,1048,1049,1050,1051,1052,1053,1054,1055,1056,1057,1058,1059,1060,1061,1062,1063,1064,1065,1066,1067,1068,1069,1070,1071,1072,1073,1074,1075,1076,1077,1078,1079,1080,1081,1082,1083,1084,1085,1086,1087,1088,1089,1090,1091,1092,1093,1094,1095,1096,1097,1098,1099,1100,1101,1102,1103,1104,1105,1106,1107,1108,1109,1110,1111,1112,1113,1114,1115,1116,1117,1118,1119,1120,1121,1122,1123,1124,1125,1126,1127,1128,1129,1130,1131,1132,1133,1134,1135,1136,1137,1138,1139,1140,1141,1142,1143,1144,1145,1146,1147,1148,1149,1150,1151,1152,1153,1154,1155,1156,1157,1158,1159,1160,1161,1162,1163,1164,1165,1166,1167,1168,1169,1170,1171,1172,1173,1174,1175,1176,1177,1178,1179,1180,1181,1182,1183,1184,1185,1186,1187,1188,1189,1190,1191,1192,1193,1194,1195,1196,1197,1198,1199,1200,1201,1202,1203,1204,1205,1206,1207,1208,1209,1210,1211,1212,1213,1214,1215,1216,1217,1218,1219,1220,1221,1222,1223,1224,1225,1226,1227,1228,1229,1230,1231,1232,1233,1234,1235,1236,1237,1238,1239,1240,1241,1242,1243,1244,1245,1246,1247,1248,1249,1250,1251,1252,1253,1254,1255,1256,1257,1258,1259,1260,1261,1262,1263,1264,1265,1266,1267,1268,1269,1270,1271,1272,1273,1274,1275,1276,1277,1278,1279,1280,1281,1282,1283,1284,1285,1286,1287,1288,1289,1290,1291,1292,1293,1294,1295,1296,1297,1298,1299,1300,1301,1302,1303,1304,1305,1306,1307,1308,1309,1310,1311,1312,1313,1314,1315,1316,1317,1318,1319,1320,1321,1322,1323,1324,1325,1326,1327,1328,1329,1330,1331,1332,1333,1334,1335,1336,1337,1338,1339,1340,1341,1342,1343,1344,1345,1346,1347,1348,1349,1350,1351,1352,1353,1354,1355,1356,1357,1358,1359,1360,1361,1362,1363,1364,1365,1366,1367,1368,1369,1370,1371,1372,1373,1374,1375,1376,1377,1378,1379,1380,1381,1382,1383,1384,1385,1386,1387,1388,1389,1390,1391,1392,1393,1394,1395,1396,1397,1398,1399,1400,1401,1402,1403,1404,1405,1406,1407,1408,1409,1410,1411,1412,1413,1414,1415,1416,1417,1418,1419,1420,1421,1422,1423,1424,1425,1426,1427,1428,1429,1430,1431,1432,1433,1434,1435,1436,1437,1438,1439,1440,1441,1442,1443,1444,1445,1446,1447,1448,1449,1450,1451,1452,1453,1454,1455,1456,1457,1458,1459,1460,1461,1462,1463,1464,1465,1466,1467,1468,1469,1470,1471,1472,1473,1474,1475,1476,1477,1478,1479,1480,1481,1482,1483,1484,1485,1486,1487,1488,1489,1490,1491,1492,1493,1494,1495,1496,1497,1498,1499,1500,1501,1502,1503,1504,1505,1506,1507,1508,1509,1510,1511,1512,1513,1514,1515,1516,1517,1518,1519,1520,1521,1522,1523,1524,1525,1526,1527,1528,1529,1530,1531,1532,1533,1534,1535,1536,1537,1538,1539,1540,1541,1542,1543,1544,1545,1546,1547,1548,1549,1550,1551,1552,1553,1554,1555,1556,1557,1558,1559,1560,1561,1562,1563,1564,1565,1566,1567,1568,1569,1570,1571,1572,1573,1574,1575,1576,1577,1578,1579,1580,1581,1582,1583,1584,1585,1586,1587,1588,1589,1590,1591,1592,1593,1594,1595,1596,1597,1598,1599,1600,1601,1602,1603,1604,1605,1606,1607,1608,1609,1610,1611,1612,1613,1614,1615,1616,1617,1618,1619,1620,1621,1622,1623,1624,1625,1626,1627,1628,1629,1630,1631,1632,1633,1634,1635,1636,1637,1638,1639,1640,1641,1642,1643,1644,1645,1646,1647,1648,1649,1650,1651,1652,1653,1654,1655,1656,1657,1658,1659,1660,1661,1662,1663,1664,1665,1666,1667,1668,1669,1670,1671,1672,1673,1674,1675,1676,1677,1678,1679,1680,1681,1682,1683,1684,1685,1686,1687,1688,1689,1690,1691,1692,1693,1694,1695,1696,1697,1698,1699,1700,1701,1702,1703,1704,1705,1706,1707,1708,1709,1710,1711,1712,1713,1714,1715,1716,1717,1718,1719,1720,1721,1722,1723,1724,1725,1726,1727,1728,1729,1730,1731,1732,1733,1734,1735,1736,1737,1738,1739,1740,1741,1742,1743,1744,1745,1746,1747,1748,1749,1750,1751,1752,1753,1754,1755,1756,1757,1758,1759,1760,1761,1762,1763,1764,1765,1766,1767,1768,1769,1770,1771,1772,1773,1774,1775,1776,1777,1778,1779,1780,1781,1782,1783,1784,1785,1786,1787,1788,1789,1790,1791,1792,1793,1794,1795,1796,1797,1798,1799,1800,1801,1802,1803,1804,1805,1806,1807,1808,1809,1810,1811,1812,1813,1814,1815,1816,1817,1818,1819,1820,1821,1822,1823,1824,1825,1826,1827,1828,1829,1830,1831,1832,1833,1834,1835,1836,1837,1838,1839,1840,1841,1842,1843,1844,1845,1846,1847,1848,1849,1850,1851,1852,1853,1854,1855,1856,1857,1858,1859,1860,1861,1862,1863,1864,1865,1866,1867,1868,1869,1870,1871,1872,1873,1874],\"tau_DL04\":[13000000,4200000,9800000,12000000,8500,6700000,270000,14000000,5000000,5800000,3900000,42000000,11000000,15000000,12000000,14000000,7200000,10000000,6500000,4400000,9200000,4000000,21000000,6200000,6300000,9400000,13000000,16000000,2900000,2400000,82000,4400000,3800000,18000000,11000000,9500000,3800000,5800000,13000000,48000000,90000,9800000,12000000,17000000,17000000,91000,970000,1000000,28000000,1300000,12000000,20000,5100000,970000,35000000,13000000,2800000,13000000,14000000,70000,7600000,85000,170000,4500000,6300000,13000000,20000000,20000000,13000000,7600000,22000000,5600000,41000000,19000000,14000000,21000000,13000000,4700000,13000000,6200000,4400000,1600000,8900000,1900000,18000000,12000000,4000000,980000,6100000,14000000,9500000,9200000,3900000,4700000,1000000,5700000,5700000,6000000,4100000,9200000,62000,1300000,9100000,14000000,20000000,30000000,7400000,20000000,5700000,20000000,1900000,4200000,14000000,33000,12000000,110000,8800000,9400000,3200000,2800000,810000,1700000,7600000,6000000,6600000,6500000,9100000,12000000,2500000,15000000,8700000,4500000,100000,33000000,2800000,7700000,2300000,10000000,970000,11000000,6300000,3800000,9500000,30000000,170000,3800000,11000000,1300000,5900000,4200000,1200000,17000000,180000,9100000,63000,17000000,31000000,2900000,2900000,8500000,3600000,1000000,9100000,9100000,3200000,2000000,13000000,4400000,16000000,8300000,40000000,13000000,670000,16000000,1300000,620000,22000000,9600000,12000000,330000,15000000,6700000,310000,2000000,1600000,9200000,30000000,6600000,12000000,6800000,15000000,510000,10000000,18000000,9500000,14000000,500000,25000000,740000,34000,3900000,1700000,890000,21000000,7200000,91000,28000000,5800000,5800000,5100000,15000000,34000000,65000,9300000,55000,22000000,6200000,1300000,7300000,5500000,2700000,36000000,9500000,15000000,4000000,5000000,5700000,8300000,1600000,3800000,4000000,13000000,190000,17000000,1800000,13000000,8600000,5600000,14000000,6400000,54000,7500000,2400000,14000000,9600000,8900000,19000000,4200000,14000000,8400000,14000000,4100000,94000,12000000,3000000,9700000,14000000,20000000,160000,20000000,4700000,280000,6300000,8300000,4800000,83000,8900000,2300000,980000,9800000,8700000,18000000,2100000,4500000,120000,6300000,15000000,9100000,2600000,15000000,14000000,12000000,3800000,18000,170000,1300000,12000000,750000,8500000,9200000,12000000,7500000,14000000,9000000,15000000,5300000,6600000,1100000,3300000,240000,8300000,12000000,45000,2400000,9200000,7500000,53000,2400000,18000000,4300000,7100000,94000,3900000,9700000,9000000,8200000,83000000,8300000,18000000,7000000,38000000,96000,19000000,5800000,6300000,5300000,9200000,12000000,9200000,12000000,150000,3900000,8900000,9100000,3700000,10000000,8900000,17000000,5600000,8300000,18000000,13000000,990000,14000000,99000,12000000,7700000,20000000,3100000,990000,3200000,640000,5900000,5800000,31000,6300000,4900000,8900000,16000000,12000000,17000000,34000000,9900000,1000000,9900000,14000000,16000000,63000,18000000,48000000,9200000,1300000,3700000,1500000,12000000,24000000,8400000,7000000,9500000,1300000,6900000,9200000,170000,11000000,12000000,5700000,7800000,5800000,18000000,19000000,12000000,4000000,9300000,20000000,91000,20000000,3900000,3200000,94000,13000000,7100000,16000000,3100000,1800000,740000,79000,890000,9000000,8500000,5700000,3100000,17000000,9300000,9000000,6400000,20000000,4700000,2200000,2500000,11000000,9200000,6400000,23000000,9100000,9100000,2000000,8800000,7100000,13000000,37000000,5400000,7200000,15000000,4000000,3900000,16000000,14000000,4300000,5800000,8700000,4400000,17000000,7400000,18000000,700000,2200000,3200000,17000000,3800000,4000000,9900000,970000,10000000,23000000,29000000,9200000,9100000,4300000,4300000,9200000,2600000,9000000,6700000,8400000,6000000,360000,24000000,7600000,6300000,12000000,15000000,1300000,26000000,9600000,9600000,9300000,21000000,7500000,370000,2900000,82000,4800000,9200000,3900000,4000000,4200000,170000,35000000,9400000,1800000,9700000,30000000,9900000,20000000,13000000,10000000,15000000,15000000,10000000,5200000,3600000,4300000,9200000,3800000,8900000,12000000,14000000,18000000,20000000,31000000,49000000,3500000,20000000,160000,3700000,9800000,9300000,33000000,98000,13000000,6200000,640000,6000000,24000000,6200000,4600000,3800000,2800000,13000000,990000,8400000,21000000,1400000,5500000,16000000,8900000,6300000,78000,17000000,6000000,540000,9200000,8600000,26000000,19000000,4600000,14000000,16000000,9500000,9100000,9200000,4800000,35000000,9300000,32000000,9700000,7500000,9400000,150000,3800000,14000000,17000000,4100000,6000000,9800000,6400000,7700000,14000000,23000000,30000000,9200000,15000000,26000000,3500000,9200000,98000,620000,8500000,5000000,290000,9400000,3100000,1100000,960000,470000,14000000,14000000,4400000,3800000,8500000,9900000,9000000,8600000,8000000,7300000,2900000,8800000,3700000,820000,150000,6200000,16000000,98000,3900000,200000,13000000,82000,8500000,7300000,6300000,10000000,9600000,9100000,740000,4000000,110000,35000000,7300000,5400000,15000000,3900000,8300000,7500000,18000000,45000000,13000000,4200000,9800000,12000000,8500,6700000,270000,14000000,5000000,5800000,3900000,42000000,11000000,15000000,12000000,14000000,7200000,10000000,6500000,4400000,9200000,4000000,21000000,6200000,6300000,9400000,13000000,16000000,2900000,2400000,82000,4400000,3800000,18000000,11000000,9500000,3800000,5800000,13000000,48000000,90000,9800000,12000000,17000000,17000000,91000,970000,1000000,28000000,1300000,12000000,20000,5100000,970000,35000000,13000000,2800000,13000000,14000000,70000,7600000,85000,170000,4500000,6300000,13000000,20000000,20000000,13000000,7600000,22000000,5600000,41000000,19000000,14000000,21000000,13000000,4700000,13000000,6200000,4400000,1600000,8900000,1900000,18000000,12000000,4000000,980000,6100000,14000000,9500000,9200000,3900000,4700000,1000000,5700000,5700000,6000000,4100000,9200000,62000,1300000,9100000,14000000,20000000,30000000,7400000,20000000,5700000,20000000,1900000,4200000,14000000,33000,12000000,110000,8800000,9400000,3200000,2800000,810000,1700000,7600000,6000000,6600000,6500000,9100000,12000000,2500000,15000000,8700000,4500000,100000,33000000,2800000,7700000,2300000,10000000,970000,11000000,6300000,3800000,9500000,30000000,170000,3800000,11000000,1300000,5900000,4200000,1200000,17000000,180000,9100000,63000,17000000,31000000,2900000,2900000,8500000,3600000,1000000,9100000,9100000,3200000,2000000,13000000,4400000,16000000,8300000,40000000,13000000,670000,16000000,1300000,620000,22000000,9600000,12000000,330000,15000000,6700000,310000,2000000,1600000,9200000,30000000,6600000,12000000,6800000,15000000,510000,10000000,18000000,9500000,14000000,500000,25000000,740000,34000,3900000,1700000,890000,21000000,7200000,91000,28000000,5800000,5800000,5100000,15000000,34000000,65000,9300000,55000,22000000,6200000,1300000,7300000,5500000,2700000,36000000,9500000,15000000,4000000,5000000,5700000,8300000,1600000,3800000,4000000,13000000,190000,17000000,1800000,13000000,8600000,5600000,14000000,6400000,54000,7500000,2400000,14000000,9600000,8900000,19000000,4200000,14000000,8400000,14000000,4100000,94000,12000000,3000000,9700000,14000000,20000000,160000,20000000,4700000,280000,6300000,8300000,4800000,83000,8900000,2300000,980000,9800000,8700000,18000000,2100000,4500000,120000,6300000,15000000,9100000,2600000,15000000,14000000,12000000,3800000,18000,170000,1300000,12000000,750000,8500000,9200000,12000000,7500000,14000000,9000000,15000000,5300000,6600000,1100000,3300000,240000,8300000,12000000,45000,2400000,9200000,7500000,53000,2400000,18000000,4300000,7100000,94000,3900000,9700000,9000000,8200000,83000000,8300000,18000000,7000000,38000000,96000,19000000,5800000,6300000,5300000,9200000,12000000,9200000,12000000,150000,3900000,8900000,9100000,3700000,10000000,8900000,17000000,5600000,8300000,18000000,13000000,990000,14000000,99000,12000000,7700000,20000000,3100000,990000,3200000,640000,5900000,5800000,31000,6300000,4900000,8900000,16000000,12000000,17000000,34000000,9900000,1000000,9900000,14000000,16000000,63000,18000000,48000000,9200000,1300000,3700000,1500000,12000000,24000000,8400000,7000000,9500000,1300000,6900000,9200000,170000,11000000,12000000,5700000,7800000,5800000,18000000,19000000,12000000,4000000,9300000,20000000,91000,20000000,3900000,3200000,94000,13000000,7100000,16000000,3100000,1800000,740000,79000,890000,9000000,8500000,5700000,3100000,17000000,9300000,9000000,6400000,20000000,4700000,2200000,2500000,11000000,9200000,6400000,23000000,9100000,9100000,2000000,8800000,7100000,13000000,37000000,5400000,7200000,15000000,4000000,3900000,16000000,14000000,4300000,5800000,8700000,4400000,17000000,7400000,18000000,700000,2200000,3200000,17000000,3800000,4000000,9900000,970000,10000000,23000000,29000000,9200000,9100000,4300000,4300000,9200000,2600000,9000000,6700000,8400000,6000000,360000,24000000,7600000,6300000,12000000,15000000,1300000,26000000,9600000,9600000,9300000,21000000,7500000,370000,2900000,82000,4800000,9200000,3900000,4000000,4200000,170000,35000000,9400000,1800000,9700000,30000000,9900000,20000000,13000000,10000000,15000000,15000000,10000000,5200000,3600000,4300000,9200000,3800000,8900000,12000000,14000000,18000000,20000000,31000000,49000000,3500000,20000000,160000,3700000,9800000,9300000,33000000,98000,13000000,6200000,640000,6000000,24000000,6200000,4600000,3800000,2800000,13000000,990000,8400000,21000000,1400000,5500000,16000000,8900000,6300000,78000,17000000,6000000,540000,9200000,8600000,26000000,19000000,4600000,14000000,16000000,9500000,9100000,9200000,4800000,35000000,9300000,32000000,9700000,7500000,9400000,150000,3800000,14000000,17000000,4100000,6000000,9800000,6400000,7700000,14000000,23000000,30000000,9200000,15000000,26000000,3500000,9200000,98000,620000,8500000,5000000,290000,9400000,3100000,1100000,960000,470000,14000000,14000000,4400000,3800000,8500000,9900000,9000000,8600000,8000000,7300000,2900000,8800000,3700000,820000,150000,6200000,16000000,98000,3900000,200000,13000000,82000,8500000,7300000,6300000,10000000,9600000,9100000,740000,4000000,110000,35000000,7300000,5400000,15000000,3900000,8300000,7500000,18000000,45000000,13000000,4200000,9800000,12000000,8500,6700000,270000,14000000,5000000,5800000,3900000,42000000,11000000,15000000,12000000,14000000,7200000,10000000,6500000,4400000,9200000,4000000,21000000,6200000,6300000,9400000,13000000,16000000,2900000,2400000,82000,4400000,3800000,18000000,11000000,9500000,3800000,5800000,13000000,48000000,90000,9800000,12000000,17000000,17000000,91000,970000,1000000,28000000,1300000,12000000,20000,5100000,970000,35000000,13000000,2800000,13000000,14000000,70000,7600000,85000,170000,4500000,6300000,13000000,20000000,20000000,13000000,7600000,22000000,5600000,41000000,19000000,14000000,21000000,13000000,4700000,13000000,6200000,4400000,1600000,8900000,1900000,18000000,12000000,4000000,980000,6100000,14000000,9500000,9200000,3900000,4700000,1000000,5700000,5700000,6000000,4100000,9200000,62000,1300000,9100000,14000000,20000000,30000000,7400000,20000000,5700000,20000000,1900000,4200000,14000000,33000,12000000,110000,8800000,9400000,3200000,2800000,810000,1700000,7600000,6000000,6600000,6500000,9100000,12000000,2500000,15000000,8700000,4500000,100000,33000000,2800000,7700000,2300000,10000000,970000,11000000,6300000,3800000,9500000,30000000,170000,3800000,11000000,1300000,5900000,4200000,1200000,17000000,180000,9100000,63000,17000000,31000000,2900000,2900000,8500000,3600000,1000000,9100000,9100000,3200000,2000000,13000000,4400000,16000000,8300000,40000000,13000000,670000,16000000,1300000,620000,22000000,9600000,12000000,330000,15000000,6700000,310000,2000000,1600000,9200000,30000000,6600000,12000000,6800000,15000000,510000,10000000,18000000,9500000,14000000,500000,25000000,740000,34000,3900000,1700000,890000,21000000,7200000,91000,28000000,5800000,5800000,5100000,15000000,34000000,65000,9300000,55000,22000000,6200000,1300000,7300000,5500000,2700000,36000000,9500000,15000000,4000000,5000000,5700000,8300000,1600000,3800000,4000000,13000000,190000,17000000,1800000,13000000,8600000,5600000,14000000,6400000,54000,7500000,2400000,14000000,9600000,8900000,19000000,4200000,14000000,8400000,14000000,4100000,94000,12000000,3000000,9700000,14000000,20000000,160000,20000000,4700000,280000,6300000,8300000,4800000,83000,8900000,2300000,980000,9800000,8700000,18000000,2100000,4500000,120000,6300000,15000000,9100000,2600000,15000000,14000000,12000000,3800000,18000,170000,1300000,12000000,750000,8500000,9200000,12000000,7500000,14000000,9000000,15000000,5300000,6600000,1100000,3300000,240000,8300000,12000000,45000,2400000,9200000,7500000,53000,2400000,18000000,4300000,7100000,94000,3900000,9700000,9000000,8200000,83000000,8300000,18000000,7000000,38000000,96000,19000000,5800000,6300000,5300000,9200000,12000000,9200000,12000000,150000,3900000,8900000,9100000,3700000,10000000,8900000,17000000,5600000,8300000,18000000,13000000,990000,14000000,99000,12000000,7700000,20000000,3100000,990000,3200000,640000,5900000,5800000,31000,6300000,4900000,8900000,16000000,12000000,17000000,34000000,9900000,1000000,9900000,14000000,16000000,63000,18000000,48000000,9200000,1300000,3700000,1500000,12000000,24000000,8400000,7000000,9500000,1300000,6900000,9200000,170000,11000000,12000000,5700000,7800000,5800000,18000000,19000000,12000000,4000000,9300000,20000000,91000,20000000,3900000,3200000,94000,13000000,7100000,16000000,3100000,1800000,740000,79000,890000,9000000,8500000,5700000,3100000,17000000,9300000,9000000,6400000,20000000,4700000,2200000,2500000,11000000,9200000,6400000,23000000,9100000,9100000,2000000,8800000,7100000,13000000,37000000,5400000,7200000,15000000,4000000,3900000,16000000,14000000,4300000,5800000,8700000,4400000,17000000,7400000,18000000,700000,2200000,3200000,17000000,3800000,4000000,9900000,970000,10000000,23000000,29000000,9200000,9100000,4300000,4300000,9200000,2600000,9000000,6700000,8400000,6000000,360000,24000000,7600000,6300000,12000000,15000000,1300000,26000000,9600000,9600000,9300000,21000000,7500000,370000,2900000,82000,4800000,9200000,3900000,4000000,4200000,170000,35000000,9400000,1800000,9700000,30000000,9900000,20000000,13000000,10000000,15000000,15000000,10000000,5200000,3600000,4300000,9200000,3800000,8900000,12000000,14000000,18000000,20000000,31000000,49000000,3500000,20000000,160000,3700000,9800000,9300000,33000000,98000,13000000,6200000,640000,6000000,24000000,6200000,4600000,3800000,2800000,13000000,990000,8400000,21000000,1400000,5500000,16000000,8900000,6300000,78000,17000000,6000000,540000,9200000,8600000,26000000,19000000,4600000,14000000,16000000,9500000,9100000,9200000,4800000,35000000,9300000,32000000,9700000,7500000,9400000,150000,3800000,14000000,17000000,4100000,6000000,9800000,6400000,7700000,14000000,23000000,30000000,9200000,15000000,26000000,3500000,9200000,98000,620000,8500000,5000000,290000,9400000,3100000,1100000,960000,470000,14000000,14000000,4400000,3800000,8500000,9900000,9000000,8600000,8000000,7300000,2900000,8800000,3700000,820000,150000,6200000,16000000,98000,3900000,200000,13000000,82000,8500000,7300000,6300000,10000000,9600000,9100000,740000,4000000,110000,35000000,7300000,5400000,15000000,3900000,8300000,7500000,18000000,45000000],\"value\":[34000000,52000000,84000000,20000000,49000000,4200000,920000,85000000,7400000,7400000,5900000,45000000,70000000,16000000,43000000,5200000,9700000,61000000,68000000,18000000,46000000,11000000,43000000,7400000,9600000,120000000,50000000,18000000,2700000,68000000,31000000,49000000,38000000,4500000,21000000,61000000,17000000,4300000,78000000,84000000,290000,58000000,66000000,24000000,54000000,22000000,9400000,36000000,2900000,15000000,70000000,2300000,4800000,85000000,37000000,21000000,49000000,16000000,24000000,56000000,13000000,9400000,2800000,26000000,32000000,4200000,25000000,62000000,67000000,8700000,82000000,1300000,18000000,26000000,5200000,65000000,59000000,3400000,11000000,6200000,24000000,11000000,31000000,15000000,12000000,66000000,5300000,48000000,7900000,65000000,24000000,37000000,79000000,2500000,52000000,24000000,6000000,57000000,57000000,20000000,30000000,21000000,80000000,8800000,75000000,39000000,39000000,47000000,4100000,38000000,17000000,59000000,54000000,6700000,19000000,50000000,11000000,52000000,7200000,4700000,1800000,5800000,46000000,31000000,50000000,7000000,38000000,17000000,2100000,6500000,51000000,6600000,4100000,86000000,2800000,19000000,42000000,170000000,1300000,39000000,47000000,5700000,29000000,69000000,90000000,40000000,19000000,38000000,31000000,6000000,16000000,25000000,17000000,35000000,20000000,74000000,9000000,6700000,66000000,43000000,7900000,4300000,58000000,38000000,7500000,57000000,48000000,58000000,45000000,39000000,34000000,14000000,27000000,78000000,1200000,22000000,30000000,35000000,97000000,32000000,18000000,13000000,20000000,9700000,54000000,17000000,98000000,23000000,13000000,32000000,15000000,90000000,97000000,79000000,54000000,44000000,3400000,36000000,23000000,23000000,11000000,3800000,84000000,34000000,8900000,720000,67000000,19000000,67000000,19000000,19000000,40000000,18000000,60000000,40000000,74000000,70000000,9500000,9000000,47000000,6600000,40000000,37000000,130000000,9500000,65000000,20000000,47000000,1600000,88000000,44000000,39000000,7800000,74000000,3900000,15000000,11000000,25000000,64000000,44000000,54000000,11000000,44000000,22000000,75000000,3800000,24000000,4700000,29000000,18000000,19000000,100000000,1800000,12000000,58000000,20000000,43000000,88000000,5000000,150000000,2800000,64000000,20000000,11000000,18000000,82000000,110000000,2900000,9400000,48000000,9100000,61000000,4400000,20000000,21000000,23000000,18000000,13000000,3200000,24000000,40000000,52000000,4600000,17000000,18000000,1500000,61000000,49000000,17000000,39000000,200000,9600000,62000000,42000000,52000000,8900000,53000000,17000000,82000000,17000000,47000000,100000000,46000000,2500000,65000000,24000000,140000,44000000,60000000,26000000,57000000,4600000,66000000,14000000,13000000,62000000,5100000,49000000,19000000,46000000,90000000,17000000,150000000,6100000,17000000,81000000,11000000,22000000,110000000,19000000,20000000,8800000,17000000,38000000,47000000,16000000,13000000,28000000,5600000,60000000,51000000,6600000,5400000,10000000,23000000,57000000,4800000,61000000,9100000,9700000,12000000,2200000,6300000,9500000,730000,64000000,58000000,34000000,80000000,65000000,50000000,25000000,50000000,20000000,26000000,23000000,5100000,9000000,66000000,18000000,48000000,52000000,7300000,26000000,25000000,39000000,510000,8600000,47000000,47000000,3700000,40000000,76000000,94000000,25000000,2500000,84000000,9600000,41000000,26000000,25000000,4400000,43000000,40000000,26000000,2600000,15000000,14000000,110000,36000000,2800000,51000000,1600000,3000000,15000000,4500000,9400000,4100000,40000000,4000000,17000000,82000000,77000000,17000000,14000000,250000,5400000,5800000,2800000,19000000,6100000,78000000,9500000,9900000,7300000,49000000,52000000,9400000,9900000,68000000,57000000,15000000,49000000,80000000,9800000,19000000,24000000,600000,6300000,19000000,3900000,58000000,5100000,21000000,18000000,8600000,6800000,64000000,22000000,46000000,62000000,1700000,17000000,62000000,29000000,120000000,17000000,7400000,5100000,45000000,26000000,46000000,11000000,66000000,22000000,49000000,25000000,4300000,5100000,92000000,91000000,2100000,37000000,9600000,21000000,8600000,38000000,44000000,20000000,3300000,47000000,140000000,17000000,8900000,19000000,400000,14000000,38000000,31000000,14000000,49000000,57000000,18000000,6600000,48000000,15000000,35000000,60000000,11000000,20000000,7200000,6500000,38000000,9400000,37000000,16000000,94000000,19000000,23000000,78000000,100000000,14000000,29000000,8800000,5900000,9500000,52000000,29000000,49000000,31000000,8900000,18000000,47000000,72000000,22000000,8900000,31000000,40000000,15000000,11000000,70000000,47000000,9500000,17000000,14000000,46000000,4300000,21000000,38000000,9600000,2600000,17000000,29000000,38000000,45000000,49000000,9600000,32000000,31000000,6200000,120000000,5200000,38000000,67000000,49000000,52000000,4000000,9800000,21000000,4700000,56000000,32000000,1700000,19000000,18000000,44000000,11000000,62000000,37000000,60000000,50000000,19000000,25000000,7200000,1200000,37000000,8900000,14000000,18000000,69000000,5600000,8200000,20000000,67000000,22000000,24000000,76000000,49000000,43000000,7700000,20000000,18000000,73000000,17000000,8100000,3000000,9300000,44000000,63000000,12000000,7200000,19000000,46000000,5300000,64000000,23000000,34000000,9400000,50000000,17000000,34000000,35000000,15000000,2000000,16000000,9500000,30000000,66000000,44000000,57000000,740000,14000000,1300000,49000000,19000000,9600000,6900000,16000000,1200000,17000000,4200000,910000,54000000,7100000,5800000,5000000,43000000,17000000,16000000,43000000,5200000,9600000,61000000,15000000,5700000,46000000,9000000,40000000,6300000,8700000,77000000,50000000,13000000,2700000,37000000,31000000,34000000,38000000,4400000,18000000,42000000,14000000,4000000,19000000,84000000,290000,16000000,45000000,24000000,54000000,22000000,7100000,14000000,2600000,190000,27000000,2000000,4800000,71000000,37000000,19000000,1600000,12000000,23000000,20000000,13000000,1900000,2300000,24000000,6600000,4000000,20000000,38000000,43000000,8600000,760000,1300000,18000000,26000000,3300000,24000000,19000000,2200000,9600000,6000000,4700000,6100000,23000000,6000000,12000000,66000000,5300000,19000000,930000,64000000,4300000,36000000,7400000,2500000,50000000,14000000,3200000,1100000,28000000,20000000,17000000,6300000,2300000,8800000,75000000,34000000,19000000,46000000,4000000,38000000,17000000,40000000,42000000,2000000,15000000,12000000,11000000,43000000,6700000,2600000,1400000,4900000,31000000,30000000,46000000,3100000,37000000,13000000,1900000,6000000,51000000,6300000,4100000,82000000,2800000,19000000,15000000,73000000,710000,9300000,47000000,480000,18000000,66000000,31000000,9800000,19000000,38000000,30000000,5700000,4500000,25000000,17000000,35000000,16000000,1700000,9000000,3700000,26000000,43000000,3900000,2100000,13000000,38000000,7500000,2000000,21000000,15000000,45000000,38000000,30000000,14000000,8100000,37000000,590000,15000000,5100000,28000000,22000000,21000000,17000000,13000000,19000000,9700000,27000000,17000000,60000000,23000000,13000000,25000000,13000000,55000000,97000000,58000000,8700000,22000000,3400000,1700000,5000000,23000000,11000000,2700000,57000000,23000000,8100000,710000,24000000,19000000,34000000,15000000,16000000,38000000,17000000,39000000,40000000,4500000,22000000,3200000,7700000,110000,5100000,40000000,19000000,69000000,8200000,28000000,6600000,47000000,1600000,54000000,3900000,20000000,2100000,74000000,2200000,15000000,11000000,21000000,48000000,15000000,42000000,7500000,11000000,15000000,41000000,3800000,24000000,4600000,28000000,15000000,19000000,51000000,680000,12000000,21000000,14000000,35000000,66000000,3900000,99000000,2700000,2200000,19000000,7200000,17000000,49000000,110000000,2800000,9400000,19000000,7900000,49000000,4100000,20000000,18000000,17000000,96000,13000000,3200000,24000000,40000000,52000000,4000000,6100000,9500000,1400000,60000000,22000000,13000000,16000000,200000,7600000,58000000,42000000,51000000,8900000,52000000,4700000,41000000,790000,46000000,86000000,8500000,2400000,52000000,17000000,87000,42000000,58000000,26000000,49000000,4600000,4000000,13000000,13000000,61000000,970000,38000000,19000000,46000000,90000000,9400000,19000000,6100000,920000,9500000,10000000,19000000,38000000,4000000,20000000,8600000,17000000,11000000,43000000,10000000,12000000,28000000,5600000,52000000,30000000,5100000,3100000,10000000,14000000,17000000,1500000,15000000,9100000,4100000,12000000,640000,6300000,3900000,230000,64000000,21000000,30000000,15000000,65000000,31000000,7600000,30000000,20000000,25000000,18000000,5100000,9000000,26000000,17000000,42000000,27000000,7300000,26000000,16000000,39000000,450000,8600000,21000000,1600000,2000000,39000000,10000000,79000000,25000000,2400000,9200000,9100000,26000000,25000000,18000000,4400000,41000000,3100000,20000000,2000000,14000000,4000000,67000,36000000,2700000,19000000,1600000,3000000,3800000,660000,9400000,4100000,40000000,4000000,11000000,48000000,57000000,17000000,14000000,240000,5100000,2600000,2800000,7700000,6100000,31000000,9300000,9600000,4700000,49000000,48000000,9300000,9900000,23000000,5900000,15000000,47000000,22000000,2800000,19000000,8700000,600000,6200000,17000000,2700000,19000000,5100000,21000000,18000000,2500000,6800000,51000000,20000000,36000000,43000000,1200000,17000000,62000000,2800000,40000000,15000000,7100000,4800000,9500000,3700000,43000000,9600000,28000000,21000000,34000000,25000000,4300000,5100000,14000000,81000000,1200000,37000000,9600000,21000000,8600000,26000000,9800000,430000,3300000,46000000,49000000,14000000,8900000,5300000,150000,14000000,38000000,16000000,2700000,49000000,32000000,16000000,6500000,21000000,14000000,33000000,22000000,11000000,5600000,7200000,6500000,9500000,9400000,8800000,1200000,48000000,19000000,18000000,34000000,100000000,4700000,19000000,1400000,3300000,9500000,52000000,28000000,19000000,31000000,2600000,9800000,47000000,35000000,8800000,7800000,25000000,40000000,15000000,7300000,12000000,46000000,4500000,4500000,14000000,31000000,4300000,18000000,38000000,1100000,110000,12000000,15000000,17000000,40000000,25000000,9600000,32000000,31000000,5200000,51000000,5200000,38000000,11000000,39000000,22000000,4000000,9800000,21000000,4700000,48000000,32000000,1600000,550000,18000000,36000000,11000000,58000000,28000000,53000000,18000000,18000000,21000000,7200000,1200000,9600000,8900000,9400000,12000000,9200000,5600000,5200000,880000,46000000,3500000,21000000,63000000,46000000,43000000,7700000,7900000,600000,67000000,8000000,7900000,2900000,9300000,15000000,14000000,3900000,6800000,9600000,43000000,5300000,64000000,22000000,26000000,4100000,48000000,17000000,18000000,29000000,3300000,1100000,15000000,4300000,30000000,36000000,30000000,31000000,740000,12000000,980000,37000000,19000000,4500000,4300000,16000000,1200000,17000000,4200000,910000,54000000,7100000,5800000,5000000,43000000,17000000,16000000,43000000,5100000,9600000,38000000,15000000,5700000,45000000,8900000,16000000,6300000,7500000,73000000,21000000,12000000,2700000,4500000,31000000,880000,770000,4400000,17000000,9500000,6400000,4000000,15000000,66000000,180000,15000000,16000000,24000000,28000000,79000,3600000,13000000,2600000,160000,27000000,2000000,4800000,13000000,37000000,19000000,1300000,11000000,19000000,95000,13000000,1700000,2300000,24000000,6500000,4000000,20000000,18000000,33000000,8500000,180000,1300000,18000000,25000000,3100000,21000000,19000000,2000000,9600000,5800000,4600000,830000,16000000,5900000,12000000,25000000,2400000,19000000,700000,64000000,1600000,13000000,6800000,1600000,49000000,7700000,3200000,1100000,16000000,20000000,17000000,5700000,2300000,7100000,75000000,34000000,15000000,39000000,4000000,35000000,210000,35000000,42000000,34000,15000000,11000000,11000000,43000000,4300000,1600000,1400000,4900000,31000000,22000000,44000000,3000000,11000000,12000000,1700000,6000000,51000000,5100000,2800000,82000000,2800000,8200000,7500000,53000000,710000,9200000,18000000,440000,11000000,66000000,21000000,9700000,16000000,6100000,8900000,5200000,30000,25000000,15000000,35000000,550000,690000,9000000,3700000,20000000,43000000,3900000,2100000,7400000,37000000,7500000,2000000,15000000,6500000,45000000,8300000,30000000,14000000,7900000,37000000,580000,15000000,5100000,28000000,22000000,21000000,16000000,7600000,18000000,6300000,500000,17000000,60000000,23000000,13000000,25000000,8600000,16000000,4000000,58000000,8300000,22000000,3400000,1700000,4900000,18000000,7500000,490000,1100000,23000000,6600000,710000,20000000,17000000,5900000,15000000,16000000,38000000,730000,35000000,8300000,1600000,17000000,1700000,7700000,110000,5100000,3300000,17000000,36000000,8100000,28000000,6500000,20000000,1400000,54000000,2100000,20000000,2100000,29000000,2200000,15000000,11000000,21000000,48000000,11000000,17000000,7500000,4100000,15000000,9600000,3800000,21000000,4600000,28000000,5200000,19000000,51000000,680000,9700000,1900000,14000000,35000000,66000000,3800000,63000000,1500000,2000000,18000000,7200000,17000000,39000000,84000000,2800000,9400000,18000000,7900000,26000000,4100000,7100000,370000,17000000,80000,9500000,3200000,24000000,40000000,52000000,4000000,180000,9500000,1400000,17000000,750000,13000000,7700000,190000,7600000,58000000,40000000,51000000,8900000,17000000,4700000,9000000,750000,46000000,59000000,8500000,2400000,23000000,16000000,87000,42000000,58000000,26000000,12000000,4600000,4000000,9900000,10000000,9500000,970000,38000000,19000000,46000000,64000000,2000000,3200000,6000000,700000,9200000,10000000,1100000,37000000,4000000,5800000,7600000,17000000,1800000,1800000,9800000,12000000,23000000,5600000,52000000,18000000,5100000,3100000,10000000,14000000,6100000,1500000,670000,1800000,84000,9700000,99000,5800000,3800000,180000,8400000,17000000,22000000,15000000,21000000,23000000,6500000,21000000,19000000,25000000,18000000,1100000,360000,25000000,16000000,1500000,27000000,6700000,26000000,16000000,39000000,440000,8300000,970000,1600000,1900000,39000000,10000000,17000000,22000000,1900000,8900000,9100000,26000000,25000000,9200000,200000,35000000,3100000,810000,1700000,14000000,4000000,67000,25000000,2700000,4500000,1400000,3000000,2400000,370000,9400000,4100000,40000000,4000000,11000000,15000000,57000000,16000000,12000000,240000,3500000,2600000,2700000,5900000,6100000,7700000,2800000,9600000,4700000,25000000,17000000,6800000,9900000,9600000,5500000,1600000,41000000,18000000,2800000,19000000,8700000,550000,6200000,17000000,2700000,19000000,1600000,20000000,18000000,2100000,2200000,29000000,3500000,33000000,43000000,1100000,15000000,55000000,2800000,38000000,10000000,4200000,4800000,9500000,2900000,38000000,8200000,28000000,7400000,9300000,25000000,570000,5100000,7700000,69000000,1200000,37000000,9400000,21000000,7400000,23000000,9800000,120000,3300000,85000,17000000,340000,5800000,5200000,130000,14000000,38000000,16000000,2600000,630000,32000000,16000000,4700000,21000000,14000000,32000000,22000000,11000000,5600000,4300000,6500000,9500000,9200000,6400000,950000,48000000,19000000,18000000,31000000,42000000,4600000,19000000,170000,3100000,4700000,52000000,28000000,16000000,15000000,2600000,9800000,47000000,34000000,8800000,7700000,1200000,11000000,15000000,1600000,9600000,46000000,1500000,4500000,14000000,28000000,4000000,17000000,37000000,1100000,110000,11000000,14000000,17000000,19000000,21000000,9500000,7900000,3400000,5200000,28000000,5100000,38000000,9600000,28000000,22000000,4000000,9800000,150000,4700000,46000000,32000000,1600000,550000,510000,30000000,11000000,30000000,28000000,53000000,3800000,18000000,19000000,4400000,1200000,2200000,8700000,7700000,11000000,4200000,5600000,1700000,760000,420000,3500000,18000000,34000000,40000000,43000000,7700000,290000,570000,67000000,8000000,7300000,2900000,9200000,9300000,4700000,820000,6800000,9600000,43000000,3900000,90000,22000000,22000000,2800000,48000000,17000000,9400000,28000000,3300000,1100000,15000000,4200000,28000000,34000000,5600000,30000000,730000,11000000,970000,26000000,19000000],\"variable\":[\"tau_T2\",\"tau_T2\",\"tau_T2\",\"tau_T2\",\"tau_T2\",\"tau_T2\",\"tau_T2\",\"tau_T2\",\"tau_T2\",\"tau_T2\",\"tau_T2\",\"tau_T2\",\"tau_T2\",\"tau_T2\",\"tau_T2\",\"tau_T2\",\"tau_T2\",\"tau_T2\",\"tau_T2\",\"tau_T2\",\"tau_T2\",\"tau_T2\",\"tau_T2\",\"tau_T2\",\"tau_T2\",\"tau_T2\",\"tau_T2\",\"tau_T2\",\"tau_T2\",\"tau_T2\",\"tau_T2\",\"tau_T2\",\"tau_T2\",\"tau_T2\",\"tau_T2\",\"tau_T2\",\"tau_T2\",\"tau_T2\",\"tau_T2\",\"tau_T2\",\"tau_T2\",\"tau_T2\",\"tau_T2\",\"tau_T2\",\"tau_T2\",\"tau_T2\",\"tau_T2\",\"tau_T2\",\"tau_T2\",\"tau_T2\",\"tau_T2\",\"tau_T2\",\"tau_T2\",\"tau_T2\",\"tau_T2\",\"tau_T2\",\"tau_T2\",\"tau_T2\",\"tau_T2\",\"tau_T2\",\"tau_T2\",\"tau_T2\",\"tau_T2\",\"tau_T2\",\"tau_T2\",\"tau_T2\",\"tau_T2\",\"tau_T2\",\"tau_T2\",\"tau_T2\",\"tau_T2\",\"tau_T2\",\"tau_T2\",\"tau_T2\",\"tau_T2\",\"tau_T2\",\"tau_T2\",\"tau_T2\",\"tau_T2\",\"tau_T2\",\"tau_T2\",\"tau_T2\",\"tau_T2\",\"tau_T2\",\"tau_T2\",\"tau_T2\",\"tau_T2\",\"tau_T2\",\"tau_T2\",\"tau_T2\",\"tau_T2\",\"tau_T2\",\"tau_T2\",\"tau_T2\",\"tau_T2\",\"tau_T2\",\"tau_T2\",\"tau_T2\",\"tau_T2\",\"tau_T2\",\"tau_T2\",\"tau_T2\",\"tau_T2\",\"tau_T2\",\"tau_T2\",\"tau_T2\",\"tau_T2\",\"tau_T2\",\"tau_T2\",\"tau_T2\",\"tau_T2\",\"tau_T2\",\"tau_T2\",\"tau_T2\",\"tau_T2\",\"tau_T2\",\"tau_T2\",\"tau_T2\",\"tau_T2\",\"tau_T2\",\"tau_T2\",\"tau_T2\",\"tau_T2\",\"tau_T2\",\"tau_T2\",\"tau_T2\",\"tau_T2\",\"tau_T2\",\"tau_T2\",\"tau_T2\",\"tau_T2\",\"tau_T2\",\"tau_T2\",\"tau_T2\",\"tau_T2\",\"tau_T2\",\"tau_T2\",\"tau_T2\",\"tau_T2\",\"tau_T2\",\"tau_T2\",\"tau_T2\",\"tau_T2\",\"tau_T2\",\"tau_T2\",\"tau_T2\",\"tau_T2\",\"tau_T2\",\"tau_T2\",\"tau_T2\",\"tau_T2\",\"tau_T2\",\"tau_T2\",\"tau_T2\",\"tau_T2\",\"tau_T2\",\"tau_T2\",\"tau_T2\",\"tau_T2\",\"tau_T2\",\"tau_T2\",\"tau_T2\",\"tau_T2\",\"tau_T2\",\"tau_T2\",\"tau_T2\",\"tau_T2\",\"tau_T2\",\"tau_T2\",\"tau_T2\",\"tau_T2\",\"tau_T2\",\"tau_T2\",\"tau_T2\",\"tau_T2\",\"tau_T2\",\"tau_T2\",\"tau_T2\",\"tau_T2\",\"tau_T2\",\"tau_T2\",\"tau_T2\",\"tau_T2\",\"tau_T2\",\"tau_T2\",\"tau_T2\",\"tau_T2\",\"tau_T2\",\"tau_T2\",\"tau_T2\",\"tau_T2\",\"tau_T2\",\"tau_T2\",\"tau_T2\",\"tau_T2\",\"tau_T2\",\"tau_T2\",\"tau_T2\",\"tau_T2\",\"tau_T2\",\"tau_T2\",\"tau_T2\",\"tau_T2\",\"tau_T2\",\"tau_T2\",\"tau_T2\",\"tau_T2\",\"tau_T2\",\"tau_T2\",\"tau_T2\",\"tau_T2\",\"tau_T2\",\"tau_T2\",\"tau_T2\",\"tau_T2\",\"tau_T2\",\"tau_T2\",\"tau_T2\",\"tau_T2\",\"tau_T2\",\"tau_T2\",\"tau_T2\",\"tau_T2\",\"tau_T2\",\"tau_T2\",\"tau_T2\",\"tau_T2\",\"tau_T2\",\"tau_T2\",\"tau_T2\",\"tau_T2\",\"tau_T2\",\"tau_T2\",\"tau_T2\",\"tau_T2\",\"tau_T2\",\"tau_T2\",\"tau_T2\",\"tau_T2\",\"tau_T2\",\"tau_T2\",\"tau_T2\",\"tau_T2\",\"tau_T2\",\"tau_T2\",\"tau_T2\",\"tau_T2\",\"tau_T2\",\"tau_T2\",\"tau_T2\",\"tau_T2\",\"tau_T2\",\"tau_T2\",\"tau_T2\",\"tau_T2\",\"tau_T2\",\"tau_T2\",\"tau_T2\",\"tau_T2\",\"tau_T2\",\"tau_T2\",\"tau_T2\",\"tau_T2\",\"tau_T2\",\"tau_T2\",\"tau_T2\",\"tau_T2\",\"tau_T2\",\"tau_T2\",\"tau_T2\",\"tau_T2\",\"tau_T2\",\"tau_T2\",\"tau_T2\",\"tau_T2\",\"tau_T2\",\"tau_T2\",\"tau_T2\",\"tau_T2\",\"tau_T2\",\"tau_T2\",\"tau_T2\",\"tau_T2\",\"tau_T2\",\"tau_T2\",\"tau_T2\",\"tau_T2\",\"tau_T2\",\"tau_T2\",\"tau_T2\",\"tau_T2\",\"tau_T2\",\"tau_T2\",\"tau_T2\",\"tau_T2\",\"tau_T2\",\"tau_T2\",\"tau_T2\",\"tau_T2\",\"tau_T2\",\"tau_T2\",\"tau_T2\",\"tau_T2\",\"tau_T2\",\"tau_T2\",\"tau_T2\",\"tau_T2\",\"tau_T2\",\"tau_T2\",\"tau_T2\",\"tau_T2\",\"tau_T2\",\"tau_T2\",\"tau_T2\",\"tau_T2\",\"tau_T2\",\"tau_T2\",\"tau_T2\",\"tau_T2\",\"tau_T2\",\"tau_T2\",\"tau_T2\",\"tau_T2\",\"tau_T2\",\"tau_T2\",\"tau_T2\",\"tau_T2\",\"tau_T2\",\"tau_T2\",\"tau_T2\",\"tau_T2\",\"tau_T2\",\"tau_T2\",\"tau_T2\",\"tau_T2\",\"tau_T2\",\"tau_T2\",\"tau_T2\",\"tau_T2\",\"tau_T2\",\"tau_T2\",\"tau_T2\",\"tau_T2\",\"tau_T2\",\"tau_T2\",\"tau_T2\",\"tau_T2\",\"tau_T2\",\"tau_T2\",\"tau_T2\",\"tau_T2\",\"tau_T2\",\"tau_T2\",\"tau_T2\",\"tau_T2\",\"tau_T2\",\"tau_T2\",\"tau_T2\",\"tau_T2\",\"tau_T2\",\"tau_T2\",\"tau_T2\",\"tau_T2\",\"tau_T2\",\"tau_T2\",\"tau_T2\",\"tau_T2\",\"tau_T2\",\"tau_T2\",\"tau_T2\",\"tau_T2\",\"tau_T2\",\"tau_T2\",\"tau_T2\",\"tau_T2\",\"tau_T2\",\"tau_T2\",\"tau_T2\",\"tau_T2\",\"tau_T2\",\"tau_T2\",\"tau_T2\",\"tau_T2\",\"tau_T2\",\"tau_T2\",\"tau_T2\",\"tau_T2\",\"tau_T2\",\"tau_T2\",\"tau_T2\",\"tau_T2\",\"tau_T2\",\"tau_T2\",\"tau_T2\",\"tau_T2\",\"tau_T2\",\"tau_T2\",\"tau_T2\",\"tau_T2\",\"tau_T2\",\"tau_T2\",\"tau_T2\",\"tau_T2\",\"tau_T2\",\"tau_T2\",\"tau_T2\",\"tau_T2\",\"tau_T2\",\"tau_T2\",\"tau_T2\",\"tau_T2\",\"tau_T2\",\"tau_T2\",\"tau_T2\",\"tau_T2\",\"tau_T2\",\"tau_T2\",\"tau_T2\",\"tau_T2\",\"tau_T2\",\"tau_T2\",\"tau_T2\",\"tau_T2\",\"tau_T2\",\"tau_T2\",\"tau_T2\",\"tau_T2\",\"tau_T2\",\"tau_T2\",\"tau_T2\",\"tau_T2\",\"tau_T2\",\"tau_T2\",\"tau_T2\",\"tau_T2\",\"tau_T2\",\"tau_T2\",\"tau_T2\",\"tau_T2\",\"tau_T2\",\"tau_T2\",\"tau_T2\",\"tau_T2\",\"tau_T2\",\"tau_T2\",\"tau_T2\",\"tau_T2\",\"tau_T2\",\"tau_T2\",\"tau_T2\",\"tau_T2\",\"tau_T2\",\"tau_T2\",\"tau_T2\",\"tau_T2\",\"tau_T2\",\"tau_T2\",\"tau_T2\",\"tau_T2\",\"tau_T2\",\"tau_T2\",\"tau_T2\",\"tau_T2\",\"tau_T2\",\"tau_T2\",\"tau_T2\",\"tau_T2\",\"tau_T2\",\"tau_T2\",\"tau_T2\",\"tau_T2\",\"tau_T2\",\"tau_T2\",\"tau_T2\",\"tau_T2\",\"tau_T2\",\"tau_T2\",\"tau_T2\",\"tau_T2\",\"tau_T2\",\"tau_T2\",\"tau_T2\",\"tau_T2\",\"tau_T2\",\"tau_T2\",\"tau_T2\",\"tau_T2\",\"tau_T2\",\"tau_T2\",\"tau_T2\",\"tau_T2\",\"tau_T2\",\"tau_T2\",\"tau_T2\",\"tau_T2\",\"tau_T2\",\"tau_T2\",\"tau_T2\",\"tau_T2\",\"tau_T2\",\"tau_T2\",\"tau_T2\",\"tau_T2\",\"tau_T2\",\"tau_T2\",\"tau_T2\",\"tau_T2\",\"tau_T2\",\"tau_T2\",\"tau_T2\",\"tau_T2\",\"tau_T2\",\"tau_T2\",\"tau_T2\",\"tau_T2\",\"tau_T2\",\"tau_T2\",\"tau_T2\",\"tau_T2\",\"tau_T2\",\"tau_T2\",\"tau_T2\",\"tau_T2\",\"tau_T2\",\"tau_T2\",\"tau_T2\",\"tau_T2\",\"tau_T2\",\"tau_T2\",\"tau_T2\",\"tau_T2\",\"tau_T2\",\"tau_T2\",\"tau_T2\",\"tau_T2\",\"tau_T2\",\"tau_T2\",\"tau_T2\",\"tau_T2\",\"tau_T2\",\"tau_T2\",\"tau_T2\",\"tau_T2\",\"tau_T2\",\"tau_T2\",\"tau_T2\",\"tau_T2\",\"tau_T2\",\"tau_T2\",\"tau_T2\",\"tau_T2\",\"tau_T2\",\"tau_T2\",\"tau_T2\",\"tau_T2\",\"tau_T2\",\"tau_T2\",\"tau_T2\",\"tau_T2\",\"tau_T2\",\"tau_T2\",\"tau_T2\",\"tau_T2\",\"tau_T2\",\"tau_T2\",\"tau_T2\",\"tau_T2\",\"tau_T2\",\"tau_T2\",\"tau_T2\",\"tau_T2\",\"tau_T2\",\"tau_T2\",\"tau_T2\",\"tau_T2\",\"tau_T2\",\"tau_T2\",\"tau_T2\",\"tau_T2\",\"tau_T2\",\"tau_T2\",\"tau_T2\",\"tau_T2\",\"tau_T2\",\"tau_T2\",\"tau_T2\",\"tau_T2\",\"tau_T2\",\"tau_T2\",\"tau_T2\",\"tau_T2\",\"tau_T2\",\"tau_T2\",\"tau_T2\",\"tau_T2\",\"tau_T2\",\"tau_T2\",\"tau_T2\",\"tau_T2\",\"tau_T2\",\"tau_T2\",\"tau_T2\",\"tau_T2\",\"tau_T2\",\"tau_T2\",\"tau_T2\",\"tau_T2\",\"tau_T2\",\"tau_T2\",\"tau_T2\",\"tau_T2\",\"tau_T2\",\"tau_T2\",\"tau_T2\",\"tau_T2\",\"tau_T2\",\"tau_T2\",\"tau_T2\",\"tau_T2\",\"tau_T2\",\"tau_T2\",\"tau_T2\",\"tau_T2\",\"tau_T2\",\"tau_T2\",\"tau_T3\",\"tau_T3\",\"tau_T3\",\"tau_T3\",\"tau_T3\",\"tau_T3\",\"tau_T3\",\"tau_T3\",\"tau_T3\",\"tau_T3\",\"tau_T3\",\"tau_T3\",\"tau_T3\",\"tau_T3\",\"tau_T3\",\"tau_T3\",\"tau_T3\",\"tau_T3\",\"tau_T3\",\"tau_T3\",\"tau_T3\",\"tau_T3\",\"tau_T3\",\"tau_T3\",\"tau_T3\",\"tau_T3\",\"tau_T3\",\"tau_T3\",\"tau_T3\",\"tau_T3\",\"tau_T3\",\"tau_T3\",\"tau_T3\",\"tau_T3\",\"tau_T3\",\"tau_T3\",\"tau_T3\",\"tau_T3\",\"tau_T3\",\"tau_T3\",\"tau_T3\",\"tau_T3\",\"tau_T3\",\"tau_T3\",\"tau_T3\",\"tau_T3\",\"tau_T3\",\"tau_T3\",\"tau_T3\",\"tau_T3\",\"tau_T3\",\"tau_T3\",\"tau_T3\",\"tau_T3\",\"tau_T3\",\"tau_T3\",\"tau_T3\",\"tau_T3\",\"tau_T3\",\"tau_T3\",\"tau_T3\",\"tau_T3\",\"tau_T3\",\"tau_T3\",\"tau_T3\",\"tau_T3\",\"tau_T3\",\"tau_T3\",\"tau_T3\",\"tau_T3\",\"tau_T3\",\"tau_T3\",\"tau_T3\",\"tau_T3\",\"tau_T3\",\"tau_T3\",\"tau_T3\",\"tau_T3\",\"tau_T3\",\"tau_T3\",\"tau_T3\",\"tau_T3\",\"tau_T3\",\"tau_T3\",\"tau_T3\",\"tau_T3\",\"tau_T3\",\"tau_T3\",\"tau_T3\",\"tau_T3\",\"tau_T3\",\"tau_T3\",\"tau_T3\",\"tau_T3\",\"tau_T3\",\"tau_T3\",\"tau_T3\",\"tau_T3\",\"tau_T3\",\"tau_T3\",\"tau_T3\",\"tau_T3\",\"tau_T3\",\"tau_T3\",\"tau_T3\",\"tau_T3\",\"tau_T3\",\"tau_T3\",\"tau_T3\",\"tau_T3\",\"tau_T3\",\"tau_T3\",\"tau_T3\",\"tau_T3\",\"tau_T3\",\"tau_T3\",\"tau_T3\",\"tau_T3\",\"tau_T3\",\"tau_T3\",\"tau_T3\",\"tau_T3\",\"tau_T3\",\"tau_T3\",\"tau_T3\",\"tau_T3\",\"tau_T3\",\"tau_T3\",\"tau_T3\",\"tau_T3\",\"tau_T3\",\"tau_T3\",\"tau_T3\",\"tau_T3\",\"tau_T3\",\"tau_T3\",\"tau_T3\",\"tau_T3\",\"tau_T3\",\"tau_T3\",\"tau_T3\",\"tau_T3\",\"tau_T3\",\"tau_T3\",\"tau_T3\",\"tau_T3\",\"tau_T3\",\"tau_T3\",\"tau_T3\",\"tau_T3\",\"tau_T3\",\"tau_T3\",\"tau_T3\",\"tau_T3\",\"tau_T3\",\"tau_T3\",\"tau_T3\",\"tau_T3\",\"tau_T3\",\"tau_T3\",\"tau_T3\",\"tau_T3\",\"tau_T3\",\"tau_T3\",\"tau_T3\",\"tau_T3\",\"tau_T3\",\"tau_T3\",\"tau_T3\",\"tau_T3\",\"tau_T3\",\"tau_T3\",\"tau_T3\",\"tau_T3\",\"tau_T3\",\"tau_T3\",\"tau_T3\",\"tau_T3\",\"tau_T3\",\"tau_T3\",\"tau_T3\",\"tau_T3\",\"tau_T3\",\"tau_T3\",\"tau_T3\",\"tau_T3\",\"tau_T3\",\"tau_T3\",\"tau_T3\",\"tau_T3\",\"tau_T3\",\"tau_T3\",\"tau_T3\",\"tau_T3\",\"tau_T3\",\"tau_T3\",\"tau_T3\",\"tau_T3\",\"tau_T3\",\"tau_T3\",\"tau_T3\",\"tau_T3\",\"tau_T3\",\"tau_T3\",\"tau_T3\",\"tau_T3\",\"tau_T3\",\"tau_T3\",\"tau_T3\",\"tau_T3\",\"tau_T3\",\"tau_T3\",\"tau_T3\",\"tau_T3\",\"tau_T3\",\"tau_T3\",\"tau_T3\",\"tau_T3\",\"tau_T3\",\"tau_T3\",\"tau_T3\",\"tau_T3\",\"tau_T3\",\"tau_T3\",\"tau_T3\",\"tau_T3\",\"tau_T3\",\"tau_T3\",\"tau_T3\",\"tau_T3\",\"tau_T3\",\"tau_T3\",\"tau_T3\",\"tau_T3\",\"tau_T3\",\"tau_T3\",\"tau_T3\",\"tau_T3\",\"tau_T3\",\"tau_T3\",\"tau_T3\",\"tau_T3\",\"tau_T3\",\"tau_T3\",\"tau_T3\",\"tau_T3\",\"tau_T3\",\"tau_T3\",\"tau_T3\",\"tau_T3\",\"tau_T3\",\"tau_T3\",\"tau_T3\",\"tau_T3\",\"tau_T3\",\"tau_T3\",\"tau_T3\",\"tau_T3\",\"tau_T3\",\"tau_T3\",\"tau_T3\",\"tau_T3\",\"tau_T3\",\"tau_T3\",\"tau_T3\",\"tau_T3\",\"tau_T3\",\"tau_T3\",\"tau_T3\",\"tau_T3\",\"tau_T3\",\"tau_T3\",\"tau_T3\",\"tau_T3\",\"tau_T3\",\"tau_T3\",\"tau_T3\",\"tau_T3\",\"tau_T3\",\"tau_T3\",\"tau_T3\",\"tau_T3\",\"tau_T3\",\"tau_T3\",\"tau_T3\",\"tau_T3\",\"tau_T3\",\"tau_T3\",\"tau_T3\",\"tau_T3\",\"tau_T3\",\"tau_T3\",\"tau_T3\",\"tau_T3\",\"tau_T3\",\"tau_T3\",\"tau_T3\",\"tau_T3\",\"tau_T3\",\"tau_T3\",\"tau_T3\",\"tau_T3\",\"tau_T3\",\"tau_T3\",\"tau_T3\",\"tau_T3\",\"tau_T3\",\"tau_T3\",\"tau_T3\",\"tau_T3\",\"tau_T3\",\"tau_T3\",\"tau_T3\",\"tau_T3\",\"tau_T3\",\"tau_T3\",\"tau_T3\",\"tau_T3\",\"tau_T3\",\"tau_T3\",\"tau_T3\",\"tau_T3\",\"tau_T3\",\"tau_T3\",\"tau_T3\",\"tau_T3\",\"tau_T3\",\"tau_T3\",\"tau_T3\",\"tau_T3\",\"tau_T3\",\"tau_T3\",\"tau_T3\",\"tau_T3\",\"tau_T3\",\"tau_T3\",\"tau_T3\",\"tau_T3\",\"tau_T3\",\"tau_T3\",\"tau_T3\",\"tau_T3\",\"tau_T3\",\"tau_T3\",\"tau_T3\",\"tau_T3\",\"tau_T3\",\"tau_T3\",\"tau_T3\",\"tau_T3\",\"tau_T3\",\"tau_T3\",\"tau_T3\",\"tau_T3\",\"tau_T3\",\"tau_T3\",\"tau_T3\",\"tau_T3\",\"tau_T3\",\"tau_T3\",\"tau_T3\",\"tau_T3\",\"tau_T3\",\"tau_T3\",\"tau_T3\",\"tau_T3\",\"tau_T3\",\"tau_T3\",\"tau_T3\",\"tau_T3\",\"tau_T3\",\"tau_T3\",\"tau_T3\",\"tau_T3\",\"tau_T3\",\"tau_T3\",\"tau_T3\",\"tau_T3\",\"tau_T3\",\"tau_T3\",\"tau_T3\",\"tau_T3\",\"tau_T3\",\"tau_T3\",\"tau_T3\",\"tau_T3\",\"tau_T3\",\"tau_T3\",\"tau_T3\",\"tau_T3\",\"tau_T3\",\"tau_T3\",\"tau_T3\",\"tau_T3\",\"tau_T3\",\"tau_T3\",\"tau_T3\",\"tau_T3\",\"tau_T3\",\"tau_T3\",\"tau_T3\",\"tau_T3\",\"tau_T3\",\"tau_T3\",\"tau_T3\",\"tau_T3\",\"tau_T3\",\"tau_T3\",\"tau_T3\",\"tau_T3\",\"tau_T3\",\"tau_T3\",\"tau_T3\",\"tau_T3\",\"tau_T3\",\"tau_T3\",\"tau_T3\",\"tau_T3\",\"tau_T3\",\"tau_T3\",\"tau_T3\",\"tau_T3\",\"tau_T3\",\"tau_T3\",\"tau_T3\",\"tau_T3\",\"tau_T3\",\"tau_T3\",\"tau_T3\",\"tau_T3\",\"tau_T3\",\"tau_T3\",\"tau_T3\",\"tau_T3\",\"tau_T3\",\"tau_T3\",\"tau_T3\",\"tau_T3\",\"tau_T3\",\"tau_T3\",\"tau_T3\",\"tau_T3\",\"tau_T3\",\"tau_T3\",\"tau_T3\",\"tau_T3\",\"tau_T3\",\"tau_T3\",\"tau_T3\",\"tau_T3\",\"tau_T3\",\"tau_T3\",\"tau_T3\",\"tau_T3\",\"tau_T3\",\"tau_T3\",\"tau_T3\",\"tau_T3\",\"tau_T3\",\"tau_T3\",\"tau_T3\",\"tau_T3\",\"tau_T3\",\"tau_T3\",\"tau_T3\",\"tau_T3\",\"tau_T3\",\"tau_T3\",\"tau_T3\",\"tau_T3\",\"tau_T3\",\"tau_T3\",\"tau_T3\",\"tau_T3\",\"tau_T3\",\"tau_T3\",\"tau_T3\",\"tau_T3\",\"tau_T3\",\"tau_T3\",\"tau_T3\",\"tau_T3\",\"tau_T3\",\"tau_T3\",\"tau_T3\",\"tau_T3\",\"tau_T3\",\"tau_T3\",\"tau_T3\",\"tau_T3\",\"tau_T3\",\"tau_T3\",\"tau_T3\",\"tau_T3\",\"tau_T3\",\"tau_T3\",\"tau_T3\",\"tau_T3\",\"tau_T3\",\"tau_T3\",\"tau_T3\",\"tau_T3\",\"tau_T3\",\"tau_T3\",\"tau_T3\",\"tau_T3\",\"tau_T3\",\"tau_T3\",\"tau_T3\",\"tau_T3\",\"tau_T3\",\"tau_T3\",\"tau_T3\",\"tau_T3\",\"tau_T3\",\"tau_T3\",\"tau_T3\",\"tau_T3\",\"tau_T3\",\"tau_T3\",\"tau_T3\",\"tau_T3\",\"tau_T3\",\"tau_T3\",\"tau_T3\",\"tau_T3\",\"tau_T3\",\"tau_T3\",\"tau_T3\",\"tau_T3\",\"tau_T3\",\"tau_T3\",\"tau_T3\",\"tau_T3\",\"tau_T3\",\"tau_T3\",\"tau_T3\",\"tau_T3\",\"tau_T3\",\"tau_T3\",\"tau_T3\",\"tau_T3\",\"tau_T3\",\"tau_T3\",\"tau_T3\",\"tau_T3\",\"tau_T3\",\"tau_T3\",\"tau_T3\",\"tau_T3\",\"tau_T3\",\"tau_T3\",\"tau_T3\",\"tau_T3\",\"tau_T3\",\"tau_T3\",\"tau_T3\",\"tau_T3\",\"tau_T3\",\"tau_T3\",\"tau_T3\",\"tau_T3\",\"tau_T3\",\"tau_T3\",\"tau_T3\",\"tau_T3\",\"tau_T3\",\"tau_T3\",\"tau_T3\",\"tau_T3\",\"tau_T3\",\"tau_T3\",\"tau_T3\",\"tau_T3\",\"tau_T3\",\"tau_T3\",\"tau_T3\",\"tau_T3\",\"tau_T3\",\"tau_T3\",\"tau_T3\",\"tau_T3\",\"tau_T3\",\"tau_T3\",\"tau_T3\",\"tau_T3\",\"tau_T3\",\"tau_T3\",\"tau_T3\",\"tau_T3\",\"tau_T3\",\"tau_T3\",\"tau_T3\",\"tau_T3\",\"tau_T3\",\"tau_T3\",\"tau_T3\",\"tau_T3\",\"tau_T3\",\"tau_T3\",\"tau_T3\",\"tau_T3\",\"tau_T3\",\"tau_T3\",\"tau_T3\",\"tau_T3\",\"tau_T3\",\"tau_T3\",\"tau_T3\",\"tau_T3\",\"tau_T3\",\"tau_T3\",\"tau_T3\",\"tau_T3\",\"tau_T3\",\"tau_T3\",\"tau_T3\",\"tau_T3\",\"tau_T3\",\"tau_T3\",\"tau_T3\",\"tau_T3\",\"tau_T3\",\"tau_T3\",\"tau_T3\",\"tau_T4\",\"tau_T4\",\"tau_T4\",\"tau_T4\",\"tau_T4\",\"tau_T4\",\"tau_T4\",\"tau_T4\",\"tau_T4\",\"tau_T4\",\"tau_T4\",\"tau_T4\",\"tau_T4\",\"tau_T4\",\"tau_T4\",\"tau_T4\",\"tau_T4\",\"tau_T4\",\"tau_T4\",\"tau_T4\",\"tau_T4\",\"tau_T4\",\"tau_T4\",\"tau_T4\",\"tau_T4\",\"tau_T4\",\"tau_T4\",\"tau_T4\",\"tau_T4\",\"tau_T4\",\"tau_T4\",\"tau_T4\",\"tau_T4\",\"tau_T4\",\"tau_T4\",\"tau_T4\",\"tau_T4\",\"tau_T4\",\"tau_T4\",\"tau_T4\",\"tau_T4\",\"tau_T4\",\"tau_T4\",\"tau_T4\",\"tau_T4\",\"tau_T4\",\"tau_T4\",\"tau_T4\",\"tau_T4\",\"tau_T4\",\"tau_T4\",\"tau_T4\",\"tau_T4\",\"tau_T4\",\"tau_T4\",\"tau_T4\",\"tau_T4\",\"tau_T4\",\"tau_T4\",\"tau_T4\",\"tau_T4\",\"tau_T4\",\"tau_T4\",\"tau_T4\",\"tau_T4\",\"tau_T4\",\"tau_T4\",\"tau_T4\",\"tau_T4\",\"tau_T4\",\"tau_T4\",\"tau_T4\",\"tau_T4\",\"tau_T4\",\"tau_T4\",\"tau_T4\",\"tau_T4\",\"tau_T4\",\"tau_T4\",\"tau_T4\",\"tau_T4\",\"tau_T4\",\"tau_T4\",\"tau_T4\",\"tau_T4\",\"tau_T4\",\"tau_T4\",\"tau_T4\",\"tau_T4\",\"tau_T4\",\"tau_T4\",\"tau_T4\",\"tau_T4\",\"tau_T4\",\"tau_T4\",\"tau_T4\",\"tau_T4\",\"tau_T4\",\"tau_T4\",\"tau_T4\",\"tau_T4\",\"tau_T4\",\"tau_T4\",\"tau_T4\",\"tau_T4\",\"tau_T4\",\"tau_T4\",\"tau_T4\",\"tau_T4\",\"tau_T4\",\"tau_T4\",\"tau_T4\",\"tau_T4\",\"tau_T4\",\"tau_T4\",\"tau_T4\",\"tau_T4\",\"tau_T4\",\"tau_T4\",\"tau_T4\",\"tau_T4\",\"tau_T4\",\"tau_T4\",\"tau_T4\",\"tau_T4\",\"tau_T4\",\"tau_T4\",\"tau_T4\",\"tau_T4\",\"tau_T4\",\"tau_T4\",\"tau_T4\",\"tau_T4\",\"tau_T4\",\"tau_T4\",\"tau_T4\",\"tau_T4\",\"tau_T4\",\"tau_T4\",\"tau_T4\",\"tau_T4\",\"tau_T4\",\"tau_T4\",\"tau_T4\",\"tau_T4\",\"tau_T4\",\"tau_T4\",\"tau_T4\",\"tau_T4\",\"tau_T4\",\"tau_T4\",\"tau_T4\",\"tau_T4\",\"tau_T4\",\"tau_T4\",\"tau_T4\",\"tau_T4\",\"tau_T4\",\"tau_T4\",\"tau_T4\",\"tau_T4\",\"tau_T4\",\"tau_T4\",\"tau_T4\",\"tau_T4\",\"tau_T4\",\"tau_T4\",\"tau_T4\",\"tau_T4\",\"tau_T4\",\"tau_T4\",\"tau_T4\",\"tau_T4\",\"tau_T4\",\"tau_T4\",\"tau_T4\",\"tau_T4\",\"tau_T4\",\"tau_T4\",\"tau_T4\",\"tau_T4\",\"tau_T4\",\"tau_T4\",\"tau_T4\",\"tau_T4\",\"tau_T4\",\"tau_T4\",\"tau_T4\",\"tau_T4\",\"tau_T4\",\"tau_T4\",\"tau_T4\",\"tau_T4\",\"tau_T4\",\"tau_T4\",\"tau_T4\",\"tau_T4\",\"tau_T4\",\"tau_T4\",\"tau_T4\",\"tau_T4\",\"tau_T4\",\"tau_T4\",\"tau_T4\",\"tau_T4\",\"tau_T4\",\"tau_T4\",\"tau_T4\",\"tau_T4\",\"tau_T4\",\"tau_T4\",\"tau_T4\",\"tau_T4\",\"tau_T4\",\"tau_T4\",\"tau_T4\",\"tau_T4\",\"tau_T4\",\"tau_T4\",\"tau_T4\",\"tau_T4\",\"tau_T4\",\"tau_T4\",\"tau_T4\",\"tau_T4\",\"tau_T4\",\"tau_T4\",\"tau_T4\",\"tau_T4\",\"tau_T4\",\"tau_T4\",\"tau_T4\",\"tau_T4\",\"tau_T4\",\"tau_T4\",\"tau_T4\",\"tau_T4\",\"tau_T4\",\"tau_T4\",\"tau_T4\",\"tau_T4\",\"tau_T4\",\"tau_T4\",\"tau_T4\",\"tau_T4\",\"tau_T4\",\"tau_T4\",\"tau_T4\",\"tau_T4\",\"tau_T4\",\"tau_T4\",\"tau_T4\",\"tau_T4\",\"tau_T4\",\"tau_T4\",\"tau_T4\",\"tau_T4\",\"tau_T4\",\"tau_T4\",\"tau_T4\",\"tau_T4\",\"tau_T4\",\"tau_T4\",\"tau_T4\",\"tau_T4\",\"tau_T4\",\"tau_T4\",\"tau_T4\",\"tau_T4\",\"tau_T4\",\"tau_T4\",\"tau_T4\",\"tau_T4\",\"tau_T4\",\"tau_T4\",\"tau_T4\",\"tau_T4\",\"tau_T4\",\"tau_T4\",\"tau_T4\",\"tau_T4\",\"tau_T4\",\"tau_T4\",\"tau_T4\",\"tau_T4\",\"tau_T4\",\"tau_T4\",\"tau_T4\",\"tau_T4\",\"tau_T4\",\"tau_T4\",\"tau_T4\",\"tau_T4\",\"tau_T4\",\"tau_T4\",\"tau_T4\",\"tau_T4\",\"tau_T4\",\"tau_T4\",\"tau_T4\",\"tau_T4\",\"tau_T4\",\"tau_T4\",\"tau_T4\",\"tau_T4\",\"tau_T4\",\"tau_T4\",\"tau_T4\",\"tau_T4\",\"tau_T4\",\"tau_T4\",\"tau_T4\",\"tau_T4\",\"tau_T4\",\"tau_T4\",\"tau_T4\",\"tau_T4\",\"tau_T4\",\"tau_T4\",\"tau_T4\",\"tau_T4\",\"tau_T4\",\"tau_T4\",\"tau_T4\",\"tau_T4\",\"tau_T4\",\"tau_T4\",\"tau_T4\",\"tau_T4\",\"tau_T4\",\"tau_T4\",\"tau_T4\",\"tau_T4\",\"tau_T4\",\"tau_T4\",\"tau_T4\",\"tau_T4\",\"tau_T4\",\"tau_T4\",\"tau_T4\",\"tau_T4\",\"tau_T4\",\"tau_T4\",\"tau_T4\",\"tau_T4\",\"tau_T4\",\"tau_T4\",\"tau_T4\",\"tau_T4\",\"tau_T4\",\"tau_T4\",\"tau_T4\",\"tau_T4\",\"tau_T4\",\"tau_T4\",\"tau_T4\",\"tau_T4\",\"tau_T4\",\"tau_T4\",\"tau_T4\",\"tau_T4\",\"tau_T4\",\"tau_T4\",\"tau_T4\",\"tau_T4\",\"tau_T4\",\"tau_T4\",\"tau_T4\",\"tau_T4\",\"tau_T4\",\"tau_T4\",\"tau_T4\",\"tau_T4\",\"tau_T4\",\"tau_T4\",\"tau_T4\",\"tau_T4\",\"tau_T4\",\"tau_T4\",\"tau_T4\",\"tau_T4\",\"tau_T4\",\"tau_T4\",\"tau_T4\",\"tau_T4\",\"tau_T4\",\"tau_T4\",\"tau_T4\",\"tau_T4\",\"tau_T4\",\"tau_T4\",\"tau_T4\",\"tau_T4\",\"tau_T4\",\"tau_T4\",\"tau_T4\",\"tau_T4\",\"tau_T4\",\"tau_T4\",\"tau_T4\",\"tau_T4\",\"tau_T4\",\"tau_T4\",\"tau_T4\",\"tau_T4\",\"tau_T4\",\"tau_T4\",\"tau_T4\",\"tau_T4\",\"tau_T4\",\"tau_T4\",\"tau_T4\",\"tau_T4\",\"tau_T4\",\"tau_T4\",\"tau_T4\",\"tau_T4\",\"tau_T4\",\"tau_T4\",\"tau_T4\",\"tau_T4\",\"tau_T4\",\"tau_T4\",\"tau_T4\",\"tau_T4\",\"tau_T4\",\"tau_T4\",\"tau_T4\",\"tau_T4\",\"tau_T4\",\"tau_T4\",\"tau_T4\",\"tau_T4\",\"tau_T4\",\"tau_T4\",\"tau_T4\",\"tau_T4\",\"tau_T4\",\"tau_T4\",\"tau_T4\",\"tau_T4\",\"tau_T4\",\"tau_T4\",\"tau_T4\",\"tau_T4\",\"tau_T4\",\"tau_T4\",\"tau_T4\",\"tau_T4\",\"tau_T4\",\"tau_T4\",\"tau_T4\",\"tau_T4\",\"tau_T4\",\"tau_T4\",\"tau_T4\",\"tau_T4\",\"tau_T4\",\"tau_T4\",\"tau_T4\",\"tau_T4\",\"tau_T4\",\"tau_T4\",\"tau_T4\",\"tau_T4\",\"tau_T4\",\"tau_T4\",\"tau_T4\",\"tau_T4\",\"tau_T4\",\"tau_T4\",\"tau_T4\",\"tau_T4\",\"tau_T4\",\"tau_T4\",\"tau_T4\",\"tau_T4\",\"tau_T4\",\"tau_T4\",\"tau_T4\",\"tau_T4\",\"tau_T4\",\"tau_T4\",\"tau_T4\",\"tau_T4\",\"tau_T4\",\"tau_T4\",\"tau_T4\",\"tau_T4\",\"tau_T4\",\"tau_T4\",\"tau_T4\",\"tau_T4\",\"tau_T4\",\"tau_T4\",\"tau_T4\",\"tau_T4\",\"tau_T4\",\"tau_T4\",\"tau_T4\",\"tau_T4\",\"tau_T4\",\"tau_T4\",\"tau_T4\",\"tau_T4\",\"tau_T4\",\"tau_T4\",\"tau_T4\",\"tau_T4\",\"tau_T4\",\"tau_T4\",\"tau_T4\",\"tau_T4\",\"tau_T4\",\"tau_T4\",\"tau_T4\",\"tau_T4\",\"tau_T4\",\"tau_T4\",\"tau_T4\",\"tau_T4\",\"tau_T4\",\"tau_T4\",\"tau_T4\",\"tau_T4\",\"tau_T4\",\"tau_T4\",\"tau_T4\",\"tau_T4\",\"tau_T4\",\"tau_T4\",\"tau_T4\",\"tau_T4\",\"tau_T4\",\"tau_T4\",\"tau_T4\",\"tau_T4\",\"tau_T4\",\"tau_T4\",\"tau_T4\",\"tau_T4\",\"tau_T4\",\"tau_T4\",\"tau_T4\",\"tau_T4\",\"tau_T4\",\"tau_T4\",\"tau_T4\",\"tau_T4\",\"tau_T4\",\"tau_T4\",\"tau_T4\",\"tau_T4\",\"tau_T4\",\"tau_T4\",\"tau_T4\",\"tau_T4\",\"tau_T4\",\"tau_T4\",\"tau_T4\",\"tau_T4\",\"tau_T4\",\"tau_T4\",\"tau_T4\",\"tau_T4\",\"tau_T4\",\"tau_T4\",\"tau_T4\",\"tau_T4\",\"tau_T4\",\"tau_T4\",\"tau_T4\",\"tau_T4\",\"tau_T4\",\"tau_T4\",\"tau_T4\",\"tau_T4\",\"tau_T4\",\"tau_T4\",\"tau_T4\",\"tau_T4\",\"tau_T4\",\"tau_T4\",\"tau_T4\",\"tau_T4\",\"tau_T4\",\"tau_T4\",\"tau_T4\",\"tau_T4\",\"tau_T4\",\"tau_T4\",\"tau_T4\",\"tau_T4\",\"tau_T4\",\"tau_T4\",\"tau_T4\",\"tau_T4\",\"tau_T4\",\"tau_T4\",\"tau_T4\",\"tau_T4\",\"tau_T4\",\"tau_T4\",\"tau_T4\",\"tau_T4\",\"tau_T4\",\"tau_T4\",\"tau_T4\",\"tau_T4\",\"tau_T4\",\"tau_T4\",\"tau_T4\",\"tau_T4\",\"tau_T4\",\"tau_T4\",\"tau_T4\",\"tau_T4\",\"tau_T4\",\"tau_T4\",\"tau_T4\",\"tau_T4\",\"tau_T4\",\"tau_T4\",\"tau_T4\",\"tau_T4\"]},\"selected\":{\"id\":\"1162\",\"type\":\"Selection\"},\"selection_policy\":{\"id\":\"1163\",\"type\":\"UnionRenderers\"}},\"id\":\"1140\",\"type\":\"ColumnDataSource\"},{\"attributes\":{\"bottom_units\":\"screen\",\"fill_alpha\":{\"value\":0.5},\"fill_color\":{\"value\":\"lightgrey\"},\"left_units\":\"screen\",\"level\":\"overlay\",\"line_alpha\":{\"value\":1.0},\"line_color\":{\"value\":\"black\"},\"line_dash\":[4,4],\"line_width\":{\"value\":2},\"plot\":null,\"render_mode\":\"css\",\"right_units\":\"screen\",\"top_units\":\"screen\"},\"id\":\"1132\",\"type\":\"BoxAnnotation\"},{\"attributes\":{\"callback\":null},\"id\":\"1106\",\"type\":\"DataRange1d\"},{\"attributes\":{\"data_source\":{\"id\":\"1140\",\"type\":\"ColumnDataSource\"},\"glyph\":{\"id\":\"1142\",\"type\":\"Scatter\"},\"hover_glyph\":null,\"muted_glyph\":null,\"nonselection_glyph\":{\"id\":\"1143\",\"type\":\"Scatter\"},\"selection_glyph\":null,\"view\":{\"id\":\"1145\",\"type\":\"CDSView\"}},\"id\":\"1144\",\"type\":\"GlyphRenderer\"},{\"attributes\":{\"callback\":null},\"id\":\"1108\",\"type\":\"DataRange1d\"},{\"attributes\":{},\"id\":\"1112\",\"type\":\"LogScale\"},{\"attributes\":{},\"id\":\"1129\",\"type\":\"HelpTool\"},{\"attributes\":{\"fill_alpha\":{\"value\":0.1},\"fill_color\":{\"value\":\"#1f77b4\"},\"line_alpha\":{\"value\":0.1},\"line_color\":{\"value\":\"#1f77b4\"},\"x\":{\"field\":\"tau_DL04\"},\"y\":{\"field\":\"value\"}},\"id\":\"1143\",\"type\":\"Scatter\"},{\"attributes\":{},\"id\":\"1128\",\"type\":\"ResetTool\"},{\"attributes\":{},\"id\":\"1110\",\"type\":\"LogScale\"},{\"attributes\":{\"factors\":[\"tau_T2\",\"tau_T3\",\"tau_T4\"],\"palette\":[\"#3288bd\",\"#99d594\",\"#e6f598\",\"#fee08b\",\"#fc8d59\",\"#d53e4f\"]},\"id\":\"1139\",\"type\":\"CategoricalColorMapper\"},{\"attributes\":{\"source\":{\"id\":\"1140\",\"type\":\"ColumnDataSource\"}},\"id\":\"1145\",\"type\":\"CDSView\"}],\"root_ids\":[\"1105\"]},\"title\":\"Bokeh Application\",\"version\":\"1.0.4\"}};\n",
       "  var render_items = [{\"docid\":\"6d8823c0-d6f4-42c2-8d38-186d104b9124\",\"roots\":{\"1105\":\"a9bd23be-14de-4f24-8614-eefe652ddd10\"}}];\n",
       "  root.Bokeh.embed.embed_items_notebook(docs_json, render_items);\n",
       "\n",
       "  }\n",
       "  if (root.Bokeh !== undefined) {\n",
       "    embed_document(root);\n",
       "  } else {\n",
       "    var attempts = 0;\n",
       "    var timer = setInterval(function(root) {\n",
       "      if (root.Bokeh !== undefined) {\n",
       "        embed_document(root);\n",
       "        clearInterval(timer);\n",
       "      }\n",
       "      attempts++;\n",
       "      if (attempts > 100) {\n",
       "        console.log(\"Bokeh: ERROR: Unable to run BokehJS code because BokehJS library is missing\");\n",
       "        clearInterval(timer);\n",
       "      }\n",
       "    }, 10, root)\n",
       "  }\n",
       "})(window);"
      ],
      "application/vnd.bokehjs_exec.v0+json": ""
     },
     "metadata": {
      "application/vnd.bokehjs_exec.v0+json": {
       "id": "1105"
      }
     },
     "output_type": "display_data"
    }
   ],
   "source": [
    "selected = ['tau_DL04', 'tau_T2', 'tau_T3', 'tau_T4']\n",
    "data = df[selected].melt('tau_DL04')\n",
    "f = figure(x_axis_type='log', y_axis_type='log', x_axis_label='tau_L', y_axis_label='tau_Tn')\n",
    "f.scatter('tau_DL04', 'value', source=data, color=factor_cmap('variable', palette=Spectral6, factors=['tau_T2', 'tau_T3', 'tau_T4']))\n",
    "show(f)"
   ]
  },
  {
   "cell_type": "code",
   "execution_count": 6,
   "metadata": {},
   "outputs": [
    {
     "data": {
      "text/html": [
       "\n",
       "\n",
       "\n",
       "\n",
       "\n",
       "\n",
       "  <div class=\"bk-root\" id=\"d2fa23cf-b2e2-440e-9690-5763278a7a59\" data-root-id=\"1218\"></div>\n"
      ]
     },
     "metadata": {},
     "output_type": "display_data"
    },
    {
     "data": {
      "application/javascript": [
       "(function(root) {\n",
       "  function embed_document(root) {\n",
       "    \n",
       "  var docs_json = {\"9cc65731-cdce-4861-8a3f-8db144c058ba\":{\"roots\":{\"references\":[{\"attributes\":{\"below\":[{\"id\":\"1227\",\"type\":\"LinearAxis\"}],\"left\":[{\"id\":\"1232\",\"type\":\"LinearAxis\"}],\"renderers\":[{\"id\":\"1227\",\"type\":\"LinearAxis\"},{\"id\":\"1231\",\"type\":\"Grid\"},{\"id\":\"1232\",\"type\":\"LinearAxis\"},{\"id\":\"1236\",\"type\":\"Grid\"},{\"id\":\"1245\",\"type\":\"BoxAnnotation\"},{\"id\":\"1265\",\"type\":\"Legend\"},{\"id\":\"1256\",\"type\":\"GlyphRenderer\"},{\"id\":\"1271\",\"type\":\"GlyphRenderer\"},{\"id\":\"1287\",\"type\":\"GlyphRenderer\"}],\"title\":{\"id\":\"1259\",\"type\":\"Title\"},\"toolbar\":{\"id\":\"1243\",\"type\":\"Toolbar\"},\"x_range\":{\"id\":\"1219\",\"type\":\"DataRange1d\"},\"x_scale\":{\"id\":\"1223\",\"type\":\"LinearScale\"},\"y_range\":{\"id\":\"1221\",\"type\":\"DataRange1d\"},\"y_scale\":{\"id\":\"1225\",\"type\":\"LinearScale\"}},\"id\":\"1218\",\"subtype\":\"Figure\",\"type\":\"Plot\"},{\"attributes\":{\"axis_label\":\"tau_L\",\"formatter\":{\"id\":\"1263\",\"type\":\"BasicTickFormatter\"},\"plot\":{\"id\":\"1218\",\"subtype\":\"Figure\",\"type\":\"Plot\"},\"ticker\":{\"id\":\"1228\",\"type\":\"BasicTicker\"}},\"id\":\"1227\",\"type\":\"LinearAxis\"},{\"attributes\":{\"data_source\":{\"id\":\"1267\",\"type\":\"ColumnDataSource\"},\"glyph\":{\"id\":\"1269\",\"type\":\"Scatter\"},\"hover_glyph\":null,\"muted_glyph\":null,\"nonselection_glyph\":{\"id\":\"1270\",\"type\":\"Scatter\"},\"selection_glyph\":null,\"view\":{\"id\":\"1272\",\"type\":\"CDSView\"}},\"id\":\"1271\",\"type\":\"GlyphRenderer\"},{\"attributes\":{\"label\":{\"value\":\"T4\"},\"renderers\":[{\"id\":\"1287\",\"type\":\"GlyphRenderer\"}]},\"id\":\"1300\",\"type\":\"LegendItem\"},{\"attributes\":{\"source\":{\"id\":\"1252\",\"type\":\"ColumnDataSource\"}},\"id\":\"1257\",\"type\":\"CDSView\"},{\"attributes\":{\"fill_alpha\":{\"value\":0.1},\"fill_color\":{\"value\":\"#1f77b4\"},\"line_alpha\":{\"value\":0.1},\"line_color\":{\"value\":\"#1f77b4\"},\"size\":{\"units\":\"screen\",\"value\":3},\"x\":{\"field\":\"tau_DL04\"},\"y\":{\"field\":\"tau_T3\"}},\"id\":\"1270\",\"type\":\"Scatter\"},{\"attributes\":{},\"id\":\"1331\",\"type\":\"UnionRenderers\"},{\"attributes\":{\"plot\":{\"id\":\"1218\",\"subtype\":\"Figure\",\"type\":\"Plot\"},\"ticker\":{\"id\":\"1228\",\"type\":\"BasicTicker\"}},\"id\":\"1231\",\"type\":\"Grid\"},{\"attributes\":{\"fill_alpha\":{\"value\":0.6},\"fill_color\":{\"value\":\"#d95f02\"},\"line_alpha\":{\"value\":0.6},\"line_color\":{\"value\":\"#d95f02\"},\"size\":{\"units\":\"screen\",\"value\":3},\"x\":{\"field\":\"tau_DL04\"},\"y\":{\"field\":\"tau_T3\"}},\"id\":\"1269\",\"type\":\"Scatter\"},{\"attributes\":{\"axis_label\":\"tau_Tn\",\"formatter\":{\"id\":\"1261\",\"type\":\"BasicTickFormatter\"},\"plot\":{\"id\":\"1218\",\"subtype\":\"Figure\",\"type\":\"Plot\"},\"ticker\":{\"id\":\"1233\",\"type\":\"BasicTicker\"}},\"id\":\"1232\",\"type\":\"LinearAxis\"},{\"attributes\":{},\"id\":\"1233\",\"type\":\"BasicTicker\"},{\"attributes\":{},\"id\":\"1280\",\"type\":\"Selection\"},{\"attributes\":{\"dimension\":1,\"plot\":{\"id\":\"1218\",\"subtype\":\"Figure\",\"type\":\"Plot\"},\"ticker\":{\"id\":\"1233\",\"type\":\"BasicTicker\"}},\"id\":\"1236\",\"type\":\"Grid\"},{\"attributes\":{},\"id\":\"1281\",\"type\":\"UnionRenderers\"},{\"attributes\":{},\"id\":\"1299\",\"type\":\"UnionRenderers\"},{\"attributes\":{\"data_source\":{\"id\":\"1252\",\"type\":\"ColumnDataSource\"},\"glyph\":{\"id\":\"1254\",\"type\":\"Scatter\"},\"hover_glyph\":null,\"muted_glyph\":null,\"nonselection_glyph\":{\"id\":\"1255\",\"type\":\"Scatter\"},\"selection_glyph\":null,\"view\":{\"id\":\"1257\",\"type\":\"CDSView\"}},\"id\":\"1256\",\"type\":\"GlyphRenderer\"},{\"attributes\":{\"label\":{\"value\":\"T3\"},\"renderers\":[{\"id\":\"1271\",\"type\":\"GlyphRenderer\"}]},\"id\":\"1282\",\"type\":\"LegendItem\"},{\"attributes\":{\"callback\":null,\"data\":{\"index\":[0,1,2,3,4,5,6,7,8,9,10,11,12,13,14,15,16,17,18,19,20,21,22,23,24,25,26,27,28,29,30,31,32,33,34,35,36,37,38,39,40,41,42,43,44,45,46,47,48,49,50,51,52,53,54,55,56,57,58,59,60,61,62,63,64,65,66,67,68,69,70,71,72,73,74,75,76,77,78,79,80,81,82,83,84,85,86,87,88,89,90,91,92,93,94,95,96,97,98,99,100,101,102,103,104,105,106,107,108,109,110,111,112,113,114,115,116,117,118,119,120,121,122,123,124,125,126,127,128,129,130,131,132,133,134,135,136,137,138,139,140,141,142,143,144,145,146,147,148,149,150,151,152,153,154,155,156,157,158,159,160,161,162,163,164,165,166,167,168,169,170,171,172,173,174,175,176,177,178,179,180,181,182,183,184,185,186,187,188,189,190,191,192,193,194,195,196,197,198,199,200,201,202,203,204,205,206,207,208,209,210,211,212,213,214,215,216,217,218,219,220,221,222,223,224,225,226,227,228,229,230,231,232,233,234,235,236,237,238,239,240,241,242,243,244,245,246,247,248,249,250,251,252,253,254,255,256,257,258,259,260,261,262,263,264,265,266,267,268,269,270,271,272,273,274,275,276,277,278,279,280,281,282,283,284,285,286,287,288,289,290,291,292,293,294,295,296,297,298,299,300,301,302,303,304,305,306,307,308,309,310,311,312,313,314,315,316,317,318,319,320,321,322,323,324,325,326,327,328,329,330,331,332,333,334,335,336,337,338,339,340,341,342,343,344,345,346,347,348,349,350,351,352,353,354,355,356,357,358,359,360,361,362,363,364,365,366,367,368,369,370,371,372,373,374,375,376,377,378,379,380,381,382,383,384,385,386,387,388,389,390,391,392,393,394,395,396,397,398,399,400,401,402,403,404,405,406,407,408,409,410,411,412,413,414,415,416,417,418,419,420,421,422,423,424,425,426,427,428,429,430,431,432,433,434,435,436,437,438,439,440,441,442,443,444,445,446,447,448,449,450,451,452,453,454,455,456,457,458,459,460,461,462,463,464,465,466,467,468,469,470,471,472,473,474,475,476,477,478,479,480,481,482,483,484,485,486,487,488,489,490,491,492,493,494,495,496,497,498,499,500,501,502,503,504,505,506,507,508,509,510,511,512,513,514,515,516,517,518,519,520,521,522,523,524,525,526,527,528,529,530,531,532,533,534,535,536,537,538,539,540,541,542,543,544,545,546,547,548,549,550,551,552,553,554,555,556,557,558,559,560,561,562,563,564,565,566,567,568,569,570,571,572,573,574,575,576,577,578,579,580,581,582,583,584,585,586,587,588,589,590,591,592,593,594,595,596,597,598,599,600,601,602,603,604,605,606,607,608,609,610,611,612,613,614,615,616,617,618,619,620,621,622,623,624],\"tau_D04\":[220000,6700,86,7100,3300,350,7600,240,7400,670,4300,7400,580,7400,670,360,8400,72,920,4700,7500,7500,3000,800,9200,580000,290,380,910,390,50000,830,70000,530000,1200,1100,820,410,7600,77,610,8200,560,83000,860,47000,900,660,5600,20000,1800,6100,42000,420,4900,870000,3400,280,210000,310,5900,910,690,63,26000,58,5500,33000,690,5800,640,360,6900,32000,700,390000,4800,2700,2100,37000,130000,290,180,35000,440,310,6200,550,320,340,2200,9900,37000,62,170,1800,620,22000,3500,7300,33000,450,260,260,200000,8600,7200,270,650,120,190,9600,4500,450,580,810,7400,570,7700,110,2700,680,290,610,920,1700,140000,380000,83000,940,870,9400,160,6500,340,430,340,840,750,3900,33000,320,700,1800,6200,12000,3400,84000,2400,10000,140,3700,97,83000,18000,16000,31000,4000,410000,3900,170000,2700,660,7000,2400,6300,1100,830,430,390,580,6800,320,8300,280,2300,260,940,260,130,7400,410,6300,6900,460,910,6200,4800,700,530000,150,44000,540,35000,300,4900,170,460,8800,5200,6000,32000,6900,680,5800,6200,5300000,510000,840,180000,530,220,5300,400,69,430,7100,270,360000,3200,5100,1500,610,7300,190000,6200,6600,74000,460,270,8800,4800,2600,5500000,6500,180,510000,320,4500,690,1200,800000,830,430000,200,420,5800,6500,310,1400,990,360,2700,630,1700,700,140,820,590,290,200,7500,3300,7400,160,82,5400,5700,450,77000,660,4300000,5700,5400,590,9200,460,65000,500,190,910,50000,5900,14000,270,370,130,450,3300,2200,590,770,440,640,21000,97000,4100,570,250,400,1300,3500,430,17000,29000,4200,930,72,1700,6700,580000,180,730,130,670,460000,4900,170,18000,7500,3200,2500,32000,37000,88,2400,720,2400,280,120,6200,7700,340,630,20000,230,360,5000,370,6800,780000,310,320,2200,33000,3300000,260000,460,480,930,830,440,330000,2700,560,7500,330000,380,1700,8200,89000,6900,8300,760000,350,480000,1700,63000,3100,37000,4400,2500,750,470,150000,9700,2200,3300,580,380,6800,6800,7900,3800,8300,730,3200,9900,130,650000,6000,460,840,8400,1300,6700,690,210,1300,6600,740,530,440,2400,18000,720,3300,75,780,1000,970,5000,180,6600,990,34000,4800,9000,600,57000,300,4600,700,8000,720,150,4100,940,740,310,2200,7200,590,1100,930,9900,640,340,460000,79000,8200,890000,3600,9800,18000,1800,360000,2200,35000,800,270,1400,95000,420,330,110000,360000,710,1700,4700,7100,370,500,890,580,370,370,7400,7400,1800,600,7300,5100000,760000,500,5800,490,800,22000,3500,37000,8500,480,7300,620,280,39000,5100000,4800,7500,560,5000,6700,400,280,230,110,38000,530,1800,3400,350,91,280,9700,130,560,7000,240,380,4800,930,310000,550,680,21000,3300,350,530,540,750,730,3700,680,500,740,790,270,150,860,59000,290,6700,930,5800,7100,240,33000,70000,16000,420,3400,710,5700,980000,340000,78000,450,860,580,890,83000,9900,670,7100,7100,740,7800,3200,8400,2100,5000,9700,570000,1600,570,380,380000,53000,5000,640,7300,30000,3000,51000,180,94,630,4000,200,400,900,430000,41000,170,7200,95000,430,250,400,660,4500,140000,4100,8400,5600,7500,2400,760,8100,21000,700000,330,4800,6500,2400,3500,940,2300,6800,9500,700,350000,710,260,530,360,82000,530,980,2500,57000,4700,92000,7400],\"tau_D1\":[15000000,4600000,15000000,16000000,9500,7100000,290000,19000000,5200000,6800000,5100000,43000000,15000000,16000000,13000000,16000000,7600000,13000000,7200000,5100000,9600000,4600000,25000000,6600000,6600000,10000000,15000000,17000000,5100000,3800000,240000,5000000,5000000,21000000,18000000,20000000,4300000,6000000,15000000,49000000,96000,15000000,14000000,19000000,19000000,200000,980000,2500000,36000000,1400000,15000000,32000,5500000,2000000,39000000,17000000,2900000,19000000,19000000,95000,7700000,87000,400000,6000000,6600000,21000000,25000000,22000000,20000000,8700000,23000000,6500000,46000000,32000000,16000000,22000000,19000000,6500000,19000000,7600000,5600000,2000000,12000000,2200000,19000000,15000000,4100000,1100000,6300000,16000000,10000000,11000000,6000000,5600000,8900000,7500000,7000000,6800000,5500000,11000000,76000,5000000,15000000,17000000,22000000,31000000,7500000,24000000,6800000,21000000,2800000,4300000,18000000,35000,16000000,230000,8900000,20000000,3900000,3200000,820000,2800000,9400000,6800000,9000000,7500000,9500000,19000000,2700000,18000000,9200000,5000000,160000,37000000,2900000,8300000,2800000,15000000,2800000,25000000,6500000,4000000,10000000,32000000,180000,4300000,17000000,1500000,6300000,4700000,1400000,19000000,350000,9200000,95000,18000000,33000000,3000000,3300000,9000000,3900000,2400000,9200000,9200000,3700000,2200000,15000000,4800000,20000000,9000000,44000000,15000000,680000,20000000,1500000,640000,23000000,15000000,15000000,440000,17000000,7100000,660000,7600000,3100000,15000000,36000000,8400000,16000000,19000000,17000000,15000000,15000000,20000000,9800000,15000000,550000,28000000,850000,36000,5300000,1800000,1100000,27000000,9100000,95000,29000000,6500000,6100000,5300000,16000000,36000000,120000,9500000,98000,24000000,6900000,1700000,7700000,6300000,6500000,37000000,10000000,19000000,5000000,5100000,6300000,16000000,2200000,3900000,4500000,16000000,290000,24000000,2000000,19000000,9600000,7800000,18000000,8700000,76000,8200000,2800000,20000000,9800000,9100000,24000000,4500000,17000000,8800000,16000000,4400000,160000,15000000,9200000,16000000,18000000,34000000,200000,30000000,5500000,800000,6500000,8900000,5100000,98000,14000000,2700000,1300000,15000000,9100000,21000000,2700000,4700000,150000,6600000,18000000,9500000,3600000,17000000,16000000,20000000,4300000,32000,200000,1400000,14000000,780000,15000000,9600000,13000000,7700000,16000000,9400000,17000000,6500000,8800000,1300000,3900000,420000,8700000,15000000,67000,2700000,9600000,9400000,69000,3900000,19000000,4500000,7500000,99000,4000000,13000000,10000000,16000000,94000000,9000000,19000000,9200000,40000000,180000,21000000,7100000,6400000,6800000,10000000,16000000,9600000,13000000,200000,4000000,9000000,9500000,5100000,14000000,9300000,20000000,5700000,16000000,20000000,18000000,1300000,15000000,190000,23000000,7900000,21000000,3600000,1200000,5800000,660000,6300000,9500000,36000,6400000,5500000,9200000,19000000,16000000,20000000,41000000,16000000,1400000,15000000,15000000,19000000,91000,19000000,49000000,15000000,1800000,5100000,1700000,13000000,35000000,9400000,8700000,15000000,1500000,9100000,9500000,180000,13000000,16000000,5800000,8900000,7400000,21000000,20000000,15000000,4300000,9400000,25000000,95000,22000000,4800000,4000000,95000,21000000,7300000,18000000,4500000,2100000,760000,83000,990000,9500000,9100000,6300000,8100000,25000000,15000000,9500000,6700000,30000000,5100000,2400000,2900000,12000000,9500000,6600000,26000000,9700000,10000000,2300000,9000000,7500000,19000000,44000000,5500000,7500000,17000000,4300000,4000000,19000000,15000000,4500000,7000000,15000000,9900000,18000000,7800000,20000000,740000,2600000,4400000,28000000,4500000,4300000,12000000,1100000,16000000,26000000,36000000,9500000,9500000,4600000,4700000,9500000,2700000,9200000,6800000,9800000,6600000,420000,29000000,7700000,7100000,15000000,20000000,1400000,40000000,17000000,16000000,11000000,23000000,7700000,420000,3000000,240000,5100000,9800000,4000000,4700000,4500000,200000,37000000,15000000,2400000,16000000,32000000,16000000,25000000,19000000,14000000,17000000,17000000,13000000,5700000,4200000,5600000,9500000,3900000,9500000,16000000,16000000,19000000,22000000,32000000,54000000,3600000,29000000,180000,3900000,10000000,9700000,36000000,99000,16000000,8400000,720000,7400000,30000000,6300000,5000000,4700000,7600000,14000000,1100000,8800000,40000000,2400000,5600000,18000000,9800000,15000000,84000,18000000,8800000,660000,16000000,9400000,36000000,20000000,6300000,15000000,17000000,15000000,15000000,9800000,5300000,36000000,9500000,36000000,13000000,8100000,9500000,190000,4000000,18000000,22000000,5100000,6300000,13000000,7000000,9200000,17000000,30000000,31000000,17000000,17000000,44000000,4500000,9500000,230000,660000,9200000,5100000,340000,12000000,3600000,2300000,1800000,480000,20000000,15000000,4800000,4000000,9000000,15000000,9500000,15000000,8100000,7400000,3000000,9200000,3900000,840000,180000,6300000,19000000,1900000,4100000,240000,17000000,190000,9000000,7500000,6900000,15000000,18000000,9500000,1100000,5500000,820000,38000000,8200000,5700000,21000000,4000000,9000000,8200000,20000000,53000000],\"tau_DL04\":[13000000,4200000,9800000,12000000,8500,6700000,270000,14000000,5000000,5800000,3900000,42000000,11000000,15000000,12000000,14000000,7200000,10000000,6500000,4400000,9200000,4000000,21000000,6200000,6300000,9400000,13000000,16000000,2900000,2400000,82000,4400000,3800000,18000000,11000000,9500000,3800000,5800000,13000000,48000000,90000,9800000,12000000,17000000,17000000,91000,970000,1000000,28000000,1300000,12000000,20000,5100000,970000,35000000,13000000,2800000,13000000,14000000,70000,7600000,85000,170000,4500000,6300000,13000000,20000000,20000000,13000000,7600000,22000000,5600000,41000000,19000000,14000000,21000000,13000000,4700000,13000000,6200000,4400000,1600000,8900000,1900000,18000000,12000000,4000000,980000,6100000,14000000,9500000,9200000,3900000,4700000,1000000,5700000,5700000,6000000,4100000,9200000,62000,1300000,9100000,14000000,20000000,30000000,7400000,20000000,5700000,20000000,1900000,4200000,14000000,33000,12000000,110000,8800000,9400000,3200000,2800000,810000,1700000,7600000,6000000,6600000,6500000,9100000,12000000,2500000,15000000,8700000,4500000,100000,33000000,2800000,7700000,2300000,10000000,970000,11000000,6300000,3800000,9500000,30000000,170000,3800000,11000000,1300000,5900000,4200000,1200000,17000000,180000,9100000,63000,17000000,31000000,2900000,2900000,8500000,3600000,1000000,9100000,9100000,3200000,2000000,13000000,4400000,16000000,8300000,40000000,13000000,670000,16000000,1300000,620000,22000000,9600000,12000000,330000,15000000,6700000,310000,2000000,1600000,9200000,30000000,6600000,12000000,6800000,15000000,510000,10000000,18000000,9500000,14000000,500000,25000000,740000,34000,3900000,1700000,890000,21000000,7200000,91000,28000000,5800000,5800000,5100000,15000000,34000000,65000,9300000,55000,22000000,6200000,1300000,7300000,5500000,2700000,36000000,9500000,15000000,4000000,5000000,5700000,8300000,1600000,3800000,4000000,13000000,190000,17000000,1800000,13000000,8600000,5600000,14000000,6400000,54000,7500000,2400000,14000000,9600000,8900000,19000000,4200000,14000000,8400000,14000000,4100000,94000,12000000,3000000,9700000,14000000,20000000,160000,20000000,4700000,280000,6300000,8300000,4800000,83000,8900000,2300000,980000,9800000,8700000,18000000,2100000,4500000,120000,6300000,15000000,9100000,2600000,15000000,14000000,12000000,3800000,18000,170000,1300000,12000000,750000,8500000,9200000,12000000,7500000,14000000,9000000,15000000,5300000,6600000,1100000,3300000,240000,8300000,12000000,45000,2400000,9200000,7500000,53000,2400000,18000000,4300000,7100000,94000,3900000,9700000,9000000,8200000,83000000,8300000,18000000,7000000,38000000,96000,19000000,5800000,6300000,5300000,9200000,12000000,9200000,12000000,150000,3900000,8900000,9100000,3700000,10000000,8900000,17000000,5600000,8300000,18000000,13000000,990000,14000000,99000,12000000,7700000,20000000,3100000,990000,3200000,640000,5900000,5800000,31000,6300000,4900000,8900000,16000000,12000000,17000000,34000000,9900000,1000000,9900000,14000000,16000000,63000,18000000,48000000,9200000,1300000,3700000,1500000,12000000,24000000,8400000,7000000,9500000,1300000,6900000,9200000,170000,11000000,12000000,5700000,7800000,5800000,18000000,19000000,12000000,4000000,9300000,20000000,91000,20000000,3900000,3200000,94000,13000000,7100000,16000000,3100000,1800000,740000,79000,890000,9000000,8500000,5700000,3100000,17000000,9300000,9000000,6400000,20000000,4700000,2200000,2500000,11000000,9200000,6400000,23000000,9100000,9100000,2000000,8800000,7100000,13000000,37000000,5400000,7200000,15000000,4000000,3900000,16000000,14000000,4300000,5800000,8700000,4400000,17000000,7400000,18000000,700000,2200000,3200000,17000000,3800000,4000000,9900000,970000,10000000,23000000,29000000,9200000,9100000,4300000,4300000,9200000,2600000,9000000,6700000,8400000,6000000,360000,24000000,7600000,6300000,12000000,15000000,1300000,26000000,9600000,9600000,9300000,21000000,7500000,370000,2900000,82000,4800000,9200000,3900000,4000000,4200000,170000,35000000,9400000,1800000,9700000,30000000,9900000,20000000,13000000,10000000,15000000,15000000,10000000,5200000,3600000,4300000,9200000,3800000,8900000,12000000,14000000,18000000,20000000,31000000,49000000,3500000,20000000,160000,3700000,9800000,9300000,33000000,98000,13000000,6200000,640000,6000000,24000000,6200000,4600000,3800000,2800000,13000000,990000,8400000,21000000,1400000,5500000,16000000,8900000,6300000,78000,17000000,6000000,540000,9200000,8600000,26000000,19000000,4600000,14000000,16000000,9500000,9100000,9200000,4800000,35000000,9300000,32000000,9700000,7500000,9400000,150000,3800000,14000000,17000000,4100000,6000000,9800000,6400000,7700000,14000000,23000000,30000000,9200000,15000000,26000000,3500000,9200000,98000,620000,8500000,5000000,290000,9400000,3100000,1100000,960000,470000,14000000,14000000,4400000,3800000,8500000,9900000,9000000,8600000,8000000,7300000,2900000,8800000,3700000,820000,150000,6200000,16000000,98000,3900000,200000,13000000,82000,8500000,7300000,6300000,10000000,9600000,9100000,740000,4000000,110000,35000000,7300000,5400000,15000000,3900000,8300000,7500000,18000000,45000000],\"tau_T2\":[34000000,52000000,84000000,20000000,49000000,4200000,920000,85000000,7400000,7400000,5900000,45000000,70000000,16000000,43000000,5200000,9700000,61000000,68000000,18000000,46000000,11000000,43000000,7400000,9600000,120000000,50000000,18000000,2700000,68000000,31000000,49000000,38000000,4500000,21000000,61000000,17000000,4300000,78000000,84000000,290000,58000000,66000000,24000000,54000000,22000000,9400000,36000000,2900000,15000000,70000000,2300000,4800000,85000000,37000000,21000000,49000000,16000000,24000000,56000000,13000000,9400000,2800000,26000000,32000000,4200000,25000000,62000000,67000000,8700000,82000000,1300000,18000000,26000000,5200000,65000000,59000000,3400000,11000000,6200000,24000000,11000000,31000000,15000000,12000000,66000000,5300000,48000000,7900000,65000000,24000000,37000000,79000000,2500000,52000000,24000000,6000000,57000000,57000000,20000000,30000000,21000000,80000000,8800000,75000000,39000000,39000000,47000000,4100000,38000000,17000000,59000000,54000000,6700000,19000000,50000000,11000000,52000000,7200000,4700000,1800000,5800000,46000000,31000000,50000000,7000000,38000000,17000000,2100000,6500000,51000000,6600000,4100000,86000000,2800000,19000000,42000000,170000000,1300000,39000000,47000000,5700000,29000000,69000000,90000000,40000000,19000000,38000000,31000000,6000000,16000000,25000000,17000000,35000000,20000000,74000000,9000000,6700000,66000000,43000000,7900000,4300000,58000000,38000000,7500000,57000000,48000000,58000000,45000000,39000000,34000000,14000000,27000000,78000000,1200000,22000000,30000000,35000000,97000000,32000000,18000000,13000000,20000000,9700000,54000000,17000000,98000000,23000000,13000000,32000000,15000000,90000000,97000000,79000000,54000000,44000000,3400000,36000000,23000000,23000000,11000000,3800000,84000000,34000000,8900000,720000,67000000,19000000,67000000,19000000,19000000,40000000,18000000,60000000,40000000,74000000,70000000,9500000,9000000,47000000,6600000,40000000,37000000,130000000,9500000,65000000,20000000,47000000,1600000,88000000,44000000,39000000,7800000,74000000,3900000,15000000,11000000,25000000,64000000,44000000,54000000,11000000,44000000,22000000,75000000,3800000,24000000,4700000,29000000,18000000,19000000,100000000,1800000,12000000,58000000,20000000,43000000,88000000,5000000,150000000,2800000,64000000,20000000,11000000,18000000,82000000,110000000,2900000,9400000,48000000,9100000,61000000,4400000,20000000,21000000,23000000,18000000,13000000,3200000,24000000,40000000,52000000,4600000,17000000,18000000,1500000,61000000,49000000,17000000,39000000,200000,9600000,62000000,42000000,52000000,8900000,53000000,17000000,82000000,17000000,47000000,100000000,46000000,2500000,65000000,24000000,140000,44000000,60000000,26000000,57000000,4600000,66000000,14000000,13000000,62000000,5100000,49000000,19000000,46000000,90000000,17000000,150000000,6100000,17000000,81000000,11000000,22000000,110000000,19000000,20000000,8800000,17000000,38000000,47000000,16000000,13000000,28000000,5600000,60000000,51000000,6600000,5400000,10000000,23000000,57000000,4800000,61000000,9100000,9700000,12000000,2200000,6300000,9500000,730000,64000000,58000000,34000000,80000000,65000000,50000000,25000000,50000000,20000000,26000000,23000000,5100000,9000000,66000000,18000000,48000000,52000000,7300000,26000000,25000000,39000000,510000,8600000,47000000,47000000,3700000,40000000,76000000,94000000,25000000,2500000,84000000,9600000,41000000,26000000,25000000,4400000,43000000,40000000,26000000,2600000,15000000,14000000,110000,36000000,2800000,51000000,1600000,3000000,15000000,4500000,9400000,4100000,40000000,4000000,17000000,82000000,77000000,17000000,14000000,250000,5400000,5800000,2800000,19000000,6100000,78000000,9500000,9900000,7300000,49000000,52000000,9400000,9900000,68000000,57000000,15000000,49000000,80000000,9800000,19000000,24000000,600000,6300000,19000000,3900000,58000000,5100000,21000000,18000000,8600000,6800000,64000000,22000000,46000000,62000000,1700000,17000000,62000000,29000000,120000000,17000000,7400000,5100000,45000000,26000000,46000000,11000000,66000000,22000000,49000000,25000000,4300000,5100000,92000000,91000000,2100000,37000000,9600000,21000000,8600000,38000000,44000000,20000000,3300000,47000000,140000000,17000000,8900000,19000000,400000,14000000,38000000,31000000,14000000,49000000,57000000,18000000,6600000,48000000,15000000,35000000,60000000,11000000,20000000,7200000,6500000,38000000,9400000,37000000,16000000,94000000,19000000,23000000,78000000,100000000,14000000,29000000,8800000,5900000,9500000,52000000,29000000,49000000,31000000,8900000,18000000,47000000,72000000,22000000,8900000,31000000,40000000,15000000,11000000,70000000,47000000,9500000,17000000,14000000,46000000,4300000,21000000,38000000,9600000,2600000,17000000,29000000,38000000,45000000,49000000,9600000,32000000,31000000,6200000,120000000,5200000,38000000,67000000,49000000,52000000,4000000,9800000,21000000,4700000,56000000,32000000,1700000,19000000,18000000,44000000,11000000,62000000,37000000,60000000,50000000,19000000,25000000,7200000,1200000,37000000,8900000,14000000,18000000,69000000,5600000,8200000,20000000,67000000,22000000,24000000,76000000,49000000,43000000,7700000,20000000,18000000,73000000,17000000,8100000,3000000,9300000,44000000,63000000,12000000,7200000,19000000,46000000,5300000,64000000,23000000,34000000,9400000,50000000,17000000,34000000,35000000,15000000,2000000,16000000,9500000,30000000,66000000,44000000,57000000,740000,14000000,1300000,49000000,19000000],\"tau_T3\":[9600000,6900000,16000000,1200000,17000000,4200000,910000,54000000,7100000,5800000,5000000,43000000,17000000,16000000,43000000,5200000,9600000,61000000,15000000,5700000,46000000,9000000,40000000,6300000,8700000,77000000,50000000,13000000,2700000,37000000,31000000,34000000,38000000,4400000,18000000,42000000,14000000,4000000,19000000,84000000,290000,16000000,45000000,24000000,54000000,22000000,7100000,14000000,2600000,190000,27000000,2000000,4800000,71000000,37000000,19000000,1600000,12000000,23000000,20000000,13000000,1900000,2300000,24000000,6600000,4000000,20000000,38000000,43000000,8600000,760000,1300000,18000000,26000000,3300000,24000000,19000000,2200000,9600000,6000000,4700000,6100000,23000000,6000000,12000000,66000000,5300000,19000000,930000,64000000,4300000,36000000,7400000,2500000,50000000,14000000,3200000,1100000,28000000,20000000,17000000,6300000,2300000,8800000,75000000,34000000,19000000,46000000,4000000,38000000,17000000,40000000,42000000,2000000,15000000,12000000,11000000,43000000,6700000,2600000,1400000,4900000,31000000,30000000,46000000,3100000,37000000,13000000,1900000,6000000,51000000,6300000,4100000,82000000,2800000,19000000,15000000,73000000,710000,9300000,47000000,480000,18000000,66000000,31000000,9800000,19000000,38000000,30000000,5700000,4500000,25000000,17000000,35000000,16000000,1700000,9000000,3700000,26000000,43000000,3900000,2100000,13000000,38000000,7500000,2000000,21000000,15000000,45000000,38000000,30000000,14000000,8100000,37000000,590000,15000000,5100000,28000000,22000000,21000000,17000000,13000000,19000000,9700000,27000000,17000000,60000000,23000000,13000000,25000000,13000000,55000000,97000000,58000000,8700000,22000000,3400000,1700000,5000000,23000000,11000000,2700000,57000000,23000000,8100000,710000,24000000,19000000,34000000,15000000,16000000,38000000,17000000,39000000,40000000,4500000,22000000,3200000,7700000,110000,5100000,40000000,19000000,69000000,8200000,28000000,6600000,47000000,1600000,54000000,3900000,20000000,2100000,74000000,2200000,15000000,11000000,21000000,48000000,15000000,42000000,7500000,11000000,15000000,41000000,3800000,24000000,4600000,28000000,15000000,19000000,51000000,680000,12000000,21000000,14000000,35000000,66000000,3900000,99000000,2700000,2200000,19000000,7200000,17000000,49000000,110000000,2800000,9400000,19000000,7900000,49000000,4100000,20000000,18000000,17000000,96000,13000000,3200000,24000000,40000000,52000000,4000000,6100000,9500000,1400000,60000000,22000000,13000000,16000000,200000,7600000,58000000,42000000,51000000,8900000,52000000,4700000,41000000,790000,46000000,86000000,8500000,2400000,52000000,17000000,87000,42000000,58000000,26000000,49000000,4600000,4000000,13000000,13000000,61000000,970000,38000000,19000000,46000000,90000000,9400000,19000000,6100000,920000,9500000,10000000,19000000,38000000,4000000,20000000,8600000,17000000,11000000,43000000,10000000,12000000,28000000,5600000,52000000,30000000,5100000,3100000,10000000,14000000,17000000,1500000,15000000,9100000,4100000,12000000,640000,6300000,3900000,230000,64000000,21000000,30000000,15000000,65000000,31000000,7600000,30000000,20000000,25000000,18000000,5100000,9000000,26000000,17000000,42000000,27000000,7300000,26000000,16000000,39000000,450000,8600000,21000000,1600000,2000000,39000000,10000000,79000000,25000000,2400000,9200000,9100000,26000000,25000000,18000000,4400000,41000000,3100000,20000000,2000000,14000000,4000000,67000,36000000,2700000,19000000,1600000,3000000,3800000,660000,9400000,4100000,40000000,4000000,11000000,48000000,57000000,17000000,14000000,240000,5100000,2600000,2800000,7700000,6100000,31000000,9300000,9600000,4700000,49000000,48000000,9300000,9900000,23000000,5900000,15000000,47000000,22000000,2800000,19000000,8700000,600000,6200000,17000000,2700000,19000000,5100000,21000000,18000000,2500000,6800000,51000000,20000000,36000000,43000000,1200000,17000000,62000000,2800000,40000000,15000000,7100000,4800000,9500000,3700000,43000000,9600000,28000000,21000000,34000000,25000000,4300000,5100000,14000000,81000000,1200000,37000000,9600000,21000000,8600000,26000000,9800000,430000,3300000,46000000,49000000,14000000,8900000,5300000,150000,14000000,38000000,16000000,2700000,49000000,32000000,16000000,6500000,21000000,14000000,33000000,22000000,11000000,5600000,7200000,6500000,9500000,9400000,8800000,1200000,48000000,19000000,18000000,34000000,100000000,4700000,19000000,1400000,3300000,9500000,52000000,28000000,19000000,31000000,2600000,9800000,47000000,35000000,8800000,7800000,25000000,40000000,15000000,7300000,12000000,46000000,4500000,4500000,14000000,31000000,4300000,18000000,38000000,1100000,110000,12000000,15000000,17000000,40000000,25000000,9600000,32000000,31000000,5200000,51000000,5200000,38000000,11000000,39000000,22000000,4000000,9800000,21000000,4700000,48000000,32000000,1600000,550000,18000000,36000000,11000000,58000000,28000000,53000000,18000000,18000000,21000000,7200000,1200000,9600000,8900000,9400000,12000000,9200000,5600000,5200000,880000,46000000,3500000,21000000,63000000,46000000,43000000,7700000,7900000,600000,67000000,8000000,7900000,2900000,9300000,15000000,14000000,3900000,6800000,9600000,43000000,5300000,64000000,22000000,26000000,4100000,48000000,17000000,18000000,29000000,3300000,1100000,15000000,4300000,30000000,36000000,30000000,31000000,740000,12000000,980000,37000000,19000000],\"tau_T4\":[4500000,4300000,16000000,1200000,17000000,4200000,910000,54000000,7100000,5800000,5000000,43000000,17000000,16000000,43000000,5100000,9600000,38000000,15000000,5700000,45000000,8900000,16000000,6300000,7500000,73000000,21000000,12000000,2700000,4500000,31000000,880000,770000,4400000,17000000,9500000,6400000,4000000,15000000,66000000,180000,15000000,16000000,24000000,28000000,79000,3600000,13000000,2600000,160000,27000000,2000000,4800000,13000000,37000000,19000000,1300000,11000000,19000000,95000,13000000,1700000,2300000,24000000,6500000,4000000,20000000,18000000,33000000,8500000,180000,1300000,18000000,25000000,3100000,21000000,19000000,2000000,9600000,5800000,4600000,830000,16000000,5900000,12000000,25000000,2400000,19000000,700000,64000000,1600000,13000000,6800000,1600000,49000000,7700000,3200000,1100000,16000000,20000000,17000000,5700000,2300000,7100000,75000000,34000000,15000000,39000000,4000000,35000000,210000,35000000,42000000,34000,15000000,11000000,11000000,43000000,4300000,1600000,1400000,4900000,31000000,22000000,44000000,3000000,11000000,12000000,1700000,6000000,51000000,5100000,2800000,82000000,2800000,8200000,7500000,53000000,710000,9200000,18000000,440000,11000000,66000000,21000000,9700000,16000000,6100000,8900000,5200000,30000,25000000,15000000,35000000,550000,690000,9000000,3700000,20000000,43000000,3900000,2100000,7400000,37000000,7500000,2000000,15000000,6500000,45000000,8300000,30000000,14000000,7900000,37000000,580000,15000000,5100000,28000000,22000000,21000000,16000000,7600000,18000000,6300000,500000,17000000,60000000,23000000,13000000,25000000,8600000,16000000,4000000,58000000,8300000,22000000,3400000,1700000,4900000,18000000,7500000,490000,1100000,23000000,6600000,710000,20000000,17000000,5900000,15000000,16000000,38000000,730000,35000000,8300000,1600000,17000000,1700000,7700000,110000,5100000,3300000,17000000,36000000,8100000,28000000,6500000,20000000,1400000,54000000,2100000,20000000,2100000,29000000,2200000,15000000,11000000,21000000,48000000,11000000,17000000,7500000,4100000,15000000,9600000,3800000,21000000,4600000,28000000,5200000,19000000,51000000,680000,9700000,1900000,14000000,35000000,66000000,3800000,63000000,1500000,2000000,18000000,7200000,17000000,39000000,84000000,2800000,9400000,18000000,7900000,26000000,4100000,7100000,370000,17000000,80000,9500000,3200000,24000000,40000000,52000000,4000000,180000,9500000,1400000,17000000,750000,13000000,7700000,190000,7600000,58000000,40000000,51000000,8900000,17000000,4700000,9000000,750000,46000000,59000000,8500000,2400000,23000000,16000000,87000,42000000,58000000,26000000,12000000,4600000,4000000,9900000,10000000,9500000,970000,38000000,19000000,46000000,64000000,2000000,3200000,6000000,700000,9200000,10000000,1100000,37000000,4000000,5800000,7600000,17000000,1800000,1800000,9800000,12000000,23000000,5600000,52000000,18000000,5100000,3100000,10000000,14000000,6100000,1500000,670000,1800000,84000,9700000,99000,5800000,3800000,180000,8400000,17000000,22000000,15000000,21000000,23000000,6500000,21000000,19000000,25000000,18000000,1100000,360000,25000000,16000000,1500000,27000000,6700000,26000000,16000000,39000000,440000,8300000,970000,1600000,1900000,39000000,10000000,17000000,22000000,1900000,8900000,9100000,26000000,25000000,9200000,200000,35000000,3100000,810000,1700000,14000000,4000000,67000,25000000,2700000,4500000,1400000,3000000,2400000,370000,9400000,4100000,40000000,4000000,11000000,15000000,57000000,16000000,12000000,240000,3500000,2600000,2700000,5900000,6100000,7700000,2800000,9600000,4700000,25000000,17000000,6800000,9900000,9600000,5500000,1600000,41000000,18000000,2800000,19000000,8700000,550000,6200000,17000000,2700000,19000000,1600000,20000000,18000000,2100000,2200000,29000000,3500000,33000000,43000000,1100000,15000000,55000000,2800000,38000000,10000000,4200000,4800000,9500000,2900000,38000000,8200000,28000000,7400000,9300000,25000000,570000,5100000,7700000,69000000,1200000,37000000,9400000,21000000,7400000,23000000,9800000,120000,3300000,85000,17000000,340000,5800000,5200000,130000,14000000,38000000,16000000,2600000,630000,32000000,16000000,4700000,21000000,14000000,32000000,22000000,11000000,5600000,4300000,6500000,9500000,9200000,6400000,950000,48000000,19000000,18000000,31000000,42000000,4600000,19000000,170000,3100000,4700000,52000000,28000000,16000000,15000000,2600000,9800000,47000000,34000000,8800000,7700000,1200000,11000000,15000000,1600000,9600000,46000000,1500000,4500000,14000000,28000000,4000000,17000000,37000000,1100000,110000,11000000,14000000,17000000,19000000,21000000,9500000,7900000,3400000,5200000,28000000,5100000,38000000,9600000,28000000,22000000,4000000,9800000,150000,4700000,46000000,32000000,1600000,550000,510000,30000000,11000000,30000000,28000000,53000000,3800000,18000000,19000000,4400000,1200000,2200000,8700000,7700000,11000000,4200000,5600000,1700000,760000,420000,3500000,18000000,34000000,40000000,43000000,7700000,290000,570000,67000000,8000000,7300000,2900000,9200000,9300000,4700000,820000,6800000,9600000,43000000,3900000,90000,22000000,22000000,2800000,48000000,17000000,9400000,28000000,3300000,1100000,15000000,4200000,28000000,34000000,5600000,30000000,730000,11000000,970000,26000000,19000000]},\"selected\":{\"id\":\"1280\",\"type\":\"Selection\"},\"selection_policy\":{\"id\":\"1281\",\"type\":\"UnionRenderers\"}},\"id\":\"1252\",\"type\":\"ColumnDataSource\"},{\"attributes\":{\"fill_alpha\":{\"value\":0.1},\"fill_color\":{\"value\":\"#1f77b4\"},\"line_alpha\":{\"value\":0.1},\"line_color\":{\"value\":\"#1f77b4\"},\"size\":{\"units\":\"screen\",\"value\":3},\"x\":{\"field\":\"tau_DL04\"},\"y\":{\"field\":\"tau_T2\"}},\"id\":\"1255\",\"type\":\"Scatter\"},{\"attributes\":{\"callback\":null,\"data\":{\"index\":[0,1,2,3,4,5,6,7,8,9,10,11,12,13,14,15,16,17,18,19,20,21,22,23,24,25,26,27,28,29,30,31,32,33,34,35,36,37,38,39,40,41,42,43,44,45,46,47,48,49,50,51,52,53,54,55,56,57,58,59,60,61,62,63,64,65,66,67,68,69,70,71,72,73,74,75,76,77,78,79,80,81,82,83,84,85,86,87,88,89,90,91,92,93,94,95,96,97,98,99,100,101,102,103,104,105,106,107,108,109,110,111,112,113,114,115,116,117,118,119,120,121,122,123,124,125,126,127,128,129,130,131,132,133,134,135,136,137,138,139,140,141,142,143,144,145,146,147,148,149,150,151,152,153,154,155,156,157,158,159,160,161,162,163,164,165,166,167,168,169,170,171,172,173,174,175,176,177,178,179,180,181,182,183,184,185,186,187,188,189,190,191,192,193,194,195,196,197,198,199,200,201,202,203,204,205,206,207,208,209,210,211,212,213,214,215,216,217,218,219,220,221,222,223,224,225,226,227,228,229,230,231,232,233,234,235,236,237,238,239,240,241,242,243,244,245,246,247,248,249,250,251,252,253,254,255,256,257,258,259,260,261,262,263,264,265,266,267,268,269,270,271,272,273,274,275,276,277,278,279,280,281,282,283,284,285,286,287,288,289,290,291,292,293,294,295,296,297,298,299,300,301,302,303,304,305,306,307,308,309,310,311,312,313,314,315,316,317,318,319,320,321,322,323,324,325,326,327,328,329,330,331,332,333,334,335,336,337,338,339,340,341,342,343,344,345,346,347,348,349,350,351,352,353,354,355,356,357,358,359,360,361,362,363,364,365,366,367,368,369,370,371,372,373,374,375,376,377,378,379,380,381,382,383,384,385,386,387,388,389,390,391,392,393,394,395,396,397,398,399,400,401,402,403,404,405,406,407,408,409,410,411,412,413,414,415,416,417,418,419,420,421,422,423,424,425,426,427,428,429,430,431,432,433,434,435,436,437,438,439,440,441,442,443,444,445,446,447,448,449,450,451,452,453,454,455,456,457,458,459,460,461,462,463,464,465,466,467,468,469,470,471,472,473,474,475,476,477,478,479,480,481,482,483,484,485,486,487,488,489,490,491,492,493,494,495,496,497,498,499,500,501,502,503,504,505,506,507,508,509,510,511,512,513,514,515,516,517,518,519,520,521,522,523,524,525,526,527,528,529,530,531,532,533,534,535,536,537,538,539,540,541,542,543,544,545,546,547,548,549,550,551,552,553,554,555,556,557,558,559,560,561,562,563,564,565,566,567,568,569,570,571,572,573,574,575,576,577,578,579,580,581,582,583,584,585,586,587,588,589,590,591,592,593,594,595,596,597,598,599,600,601,602,603,604,605,606,607,608,609,610,611,612,613,614,615,616,617,618,619,620,621,622,623,624],\"tau_D04\":[220000,6700,86,7100,3300,350,7600,240,7400,670,4300,7400,580,7400,670,360,8400,72,920,4700,7500,7500,3000,800,9200,580000,290,380,910,390,50000,830,70000,530000,1200,1100,820,410,7600,77,610,8200,560,83000,860,47000,900,660,5600,20000,1800,6100,42000,420,4900,870000,3400,280,210000,310,5900,910,690,63,26000,58,5500,33000,690,5800,640,360,6900,32000,700,390000,4800,2700,2100,37000,130000,290,180,35000,440,310,6200,550,320,340,2200,9900,37000,62,170,1800,620,22000,3500,7300,33000,450,260,260,200000,8600,7200,270,650,120,190,9600,4500,450,580,810,7400,570,7700,110,2700,680,290,610,920,1700,140000,380000,83000,940,870,9400,160,6500,340,430,340,840,750,3900,33000,320,700,1800,6200,12000,3400,84000,2400,10000,140,3700,97,83000,18000,16000,31000,4000,410000,3900,170000,2700,660,7000,2400,6300,1100,830,430,390,580,6800,320,8300,280,2300,260,940,260,130,7400,410,6300,6900,460,910,6200,4800,700,530000,150,44000,540,35000,300,4900,170,460,8800,5200,6000,32000,6900,680,5800,6200,5300000,510000,840,180000,530,220,5300,400,69,430,7100,270,360000,3200,5100,1500,610,7300,190000,6200,6600,74000,460,270,8800,4800,2600,5500000,6500,180,510000,320,4500,690,1200,800000,830,430000,200,420,5800,6500,310,1400,990,360,2700,630,1700,700,140,820,590,290,200,7500,3300,7400,160,82,5400,5700,450,77000,660,4300000,5700,5400,590,9200,460,65000,500,190,910,50000,5900,14000,270,370,130,450,3300,2200,590,770,440,640,21000,97000,4100,570,250,400,1300,3500,430,17000,29000,4200,930,72,1700,6700,580000,180,730,130,670,460000,4900,170,18000,7500,3200,2500,32000,37000,88,2400,720,2400,280,120,6200,7700,340,630,20000,230,360,5000,370,6800,780000,310,320,2200,33000,3300000,260000,460,480,930,830,440,330000,2700,560,7500,330000,380,1700,8200,89000,6900,8300,760000,350,480000,1700,63000,3100,37000,4400,2500,750,470,150000,9700,2200,3300,580,380,6800,6800,7900,3800,8300,730,3200,9900,130,650000,6000,460,840,8400,1300,6700,690,210,1300,6600,740,530,440,2400,18000,720,3300,75,780,1000,970,5000,180,6600,990,34000,4800,9000,600,57000,300,4600,700,8000,720,150,4100,940,740,310,2200,7200,590,1100,930,9900,640,340,460000,79000,8200,890000,3600,9800,18000,1800,360000,2200,35000,800,270,1400,95000,420,330,110000,360000,710,1700,4700,7100,370,500,890,580,370,370,7400,7400,1800,600,7300,5100000,760000,500,5800,490,800,22000,3500,37000,8500,480,7300,620,280,39000,5100000,4800,7500,560,5000,6700,400,280,230,110,38000,530,1800,3400,350,91,280,9700,130,560,7000,240,380,4800,930,310000,550,680,21000,3300,350,530,540,750,730,3700,680,500,740,790,270,150,860,59000,290,6700,930,5800,7100,240,33000,70000,16000,420,3400,710,5700,980000,340000,78000,450,860,580,890,83000,9900,670,7100,7100,740,7800,3200,8400,2100,5000,9700,570000,1600,570,380,380000,53000,5000,640,7300,30000,3000,51000,180,94,630,4000,200,400,900,430000,41000,170,7200,95000,430,250,400,660,4500,140000,4100,8400,5600,7500,2400,760,8100,21000,700000,330,4800,6500,2400,3500,940,2300,6800,9500,700,350000,710,260,530,360,82000,530,980,2500,57000,4700,92000,7400],\"tau_D1\":[15000000,4600000,15000000,16000000,9500,7100000,290000,19000000,5200000,6800000,5100000,43000000,15000000,16000000,13000000,16000000,7600000,13000000,7200000,5100000,9600000,4600000,25000000,6600000,6600000,10000000,15000000,17000000,5100000,3800000,240000,5000000,5000000,21000000,18000000,20000000,4300000,6000000,15000000,49000000,96000,15000000,14000000,19000000,19000000,200000,980000,2500000,36000000,1400000,15000000,32000,5500000,2000000,39000000,17000000,2900000,19000000,19000000,95000,7700000,87000,400000,6000000,6600000,21000000,25000000,22000000,20000000,8700000,23000000,6500000,46000000,32000000,16000000,22000000,19000000,6500000,19000000,7600000,5600000,2000000,12000000,2200000,19000000,15000000,4100000,1100000,6300000,16000000,10000000,11000000,6000000,5600000,8900000,7500000,7000000,6800000,5500000,11000000,76000,5000000,15000000,17000000,22000000,31000000,7500000,24000000,6800000,21000000,2800000,4300000,18000000,35000,16000000,230000,8900000,20000000,3900000,3200000,820000,2800000,9400000,6800000,9000000,7500000,9500000,19000000,2700000,18000000,9200000,5000000,160000,37000000,2900000,8300000,2800000,15000000,2800000,25000000,6500000,4000000,10000000,32000000,180000,4300000,17000000,1500000,6300000,4700000,1400000,19000000,350000,9200000,95000,18000000,33000000,3000000,3300000,9000000,3900000,2400000,9200000,9200000,3700000,2200000,15000000,4800000,20000000,9000000,44000000,15000000,680000,20000000,1500000,640000,23000000,15000000,15000000,440000,17000000,7100000,660000,7600000,3100000,15000000,36000000,8400000,16000000,19000000,17000000,15000000,15000000,20000000,9800000,15000000,550000,28000000,850000,36000,5300000,1800000,1100000,27000000,9100000,95000,29000000,6500000,6100000,5300000,16000000,36000000,120000,9500000,98000,24000000,6900000,1700000,7700000,6300000,6500000,37000000,10000000,19000000,5000000,5100000,6300000,16000000,2200000,3900000,4500000,16000000,290000,24000000,2000000,19000000,9600000,7800000,18000000,8700000,76000,8200000,2800000,20000000,9800000,9100000,24000000,4500000,17000000,8800000,16000000,4400000,160000,15000000,9200000,16000000,18000000,34000000,200000,30000000,5500000,800000,6500000,8900000,5100000,98000,14000000,2700000,1300000,15000000,9100000,21000000,2700000,4700000,150000,6600000,18000000,9500000,3600000,17000000,16000000,20000000,4300000,32000,200000,1400000,14000000,780000,15000000,9600000,13000000,7700000,16000000,9400000,17000000,6500000,8800000,1300000,3900000,420000,8700000,15000000,67000,2700000,9600000,9400000,69000,3900000,19000000,4500000,7500000,99000,4000000,13000000,10000000,16000000,94000000,9000000,19000000,9200000,40000000,180000,21000000,7100000,6400000,6800000,10000000,16000000,9600000,13000000,200000,4000000,9000000,9500000,5100000,14000000,9300000,20000000,5700000,16000000,20000000,18000000,1300000,15000000,190000,23000000,7900000,21000000,3600000,1200000,5800000,660000,6300000,9500000,36000,6400000,5500000,9200000,19000000,16000000,20000000,41000000,16000000,1400000,15000000,15000000,19000000,91000,19000000,49000000,15000000,1800000,5100000,1700000,13000000,35000000,9400000,8700000,15000000,1500000,9100000,9500000,180000,13000000,16000000,5800000,8900000,7400000,21000000,20000000,15000000,4300000,9400000,25000000,95000,22000000,4800000,4000000,95000,21000000,7300000,18000000,4500000,2100000,760000,83000,990000,9500000,9100000,6300000,8100000,25000000,15000000,9500000,6700000,30000000,5100000,2400000,2900000,12000000,9500000,6600000,26000000,9700000,10000000,2300000,9000000,7500000,19000000,44000000,5500000,7500000,17000000,4300000,4000000,19000000,15000000,4500000,7000000,15000000,9900000,18000000,7800000,20000000,740000,2600000,4400000,28000000,4500000,4300000,12000000,1100000,16000000,26000000,36000000,9500000,9500000,4600000,4700000,9500000,2700000,9200000,6800000,9800000,6600000,420000,29000000,7700000,7100000,15000000,20000000,1400000,40000000,17000000,16000000,11000000,23000000,7700000,420000,3000000,240000,5100000,9800000,4000000,4700000,4500000,200000,37000000,15000000,2400000,16000000,32000000,16000000,25000000,19000000,14000000,17000000,17000000,13000000,5700000,4200000,5600000,9500000,3900000,9500000,16000000,16000000,19000000,22000000,32000000,54000000,3600000,29000000,180000,3900000,10000000,9700000,36000000,99000,16000000,8400000,720000,7400000,30000000,6300000,5000000,4700000,7600000,14000000,1100000,8800000,40000000,2400000,5600000,18000000,9800000,15000000,84000,18000000,8800000,660000,16000000,9400000,36000000,20000000,6300000,15000000,17000000,15000000,15000000,9800000,5300000,36000000,9500000,36000000,13000000,8100000,9500000,190000,4000000,18000000,22000000,5100000,6300000,13000000,7000000,9200000,17000000,30000000,31000000,17000000,17000000,44000000,4500000,9500000,230000,660000,9200000,5100000,340000,12000000,3600000,2300000,1800000,480000,20000000,15000000,4800000,4000000,9000000,15000000,9500000,15000000,8100000,7400000,3000000,9200000,3900000,840000,180000,6300000,19000000,1900000,4100000,240000,17000000,190000,9000000,7500000,6900000,15000000,18000000,9500000,1100000,5500000,820000,38000000,8200000,5700000,21000000,4000000,9000000,8200000,20000000,53000000],\"tau_DL04\":[13000000,4200000,9800000,12000000,8500,6700000,270000,14000000,5000000,5800000,3900000,42000000,11000000,15000000,12000000,14000000,7200000,10000000,6500000,4400000,9200000,4000000,21000000,6200000,6300000,9400000,13000000,16000000,2900000,2400000,82000,4400000,3800000,18000000,11000000,9500000,3800000,5800000,13000000,48000000,90000,9800000,12000000,17000000,17000000,91000,970000,1000000,28000000,1300000,12000000,20000,5100000,970000,35000000,13000000,2800000,13000000,14000000,70000,7600000,85000,170000,4500000,6300000,13000000,20000000,20000000,13000000,7600000,22000000,5600000,41000000,19000000,14000000,21000000,13000000,4700000,13000000,6200000,4400000,1600000,8900000,1900000,18000000,12000000,4000000,980000,6100000,14000000,9500000,9200000,3900000,4700000,1000000,5700000,5700000,6000000,4100000,9200000,62000,1300000,9100000,14000000,20000000,30000000,7400000,20000000,5700000,20000000,1900000,4200000,14000000,33000,12000000,110000,8800000,9400000,3200000,2800000,810000,1700000,7600000,6000000,6600000,6500000,9100000,12000000,2500000,15000000,8700000,4500000,100000,33000000,2800000,7700000,2300000,10000000,970000,11000000,6300000,3800000,9500000,30000000,170000,3800000,11000000,1300000,5900000,4200000,1200000,17000000,180000,9100000,63000,17000000,31000000,2900000,2900000,8500000,3600000,1000000,9100000,9100000,3200000,2000000,13000000,4400000,16000000,8300000,40000000,13000000,670000,16000000,1300000,620000,22000000,9600000,12000000,330000,15000000,6700000,310000,2000000,1600000,9200000,30000000,6600000,12000000,6800000,15000000,510000,10000000,18000000,9500000,14000000,500000,25000000,740000,34000,3900000,1700000,890000,21000000,7200000,91000,28000000,5800000,5800000,5100000,15000000,34000000,65000,9300000,55000,22000000,6200000,1300000,7300000,5500000,2700000,36000000,9500000,15000000,4000000,5000000,5700000,8300000,1600000,3800000,4000000,13000000,190000,17000000,1800000,13000000,8600000,5600000,14000000,6400000,54000,7500000,2400000,14000000,9600000,8900000,19000000,4200000,14000000,8400000,14000000,4100000,94000,12000000,3000000,9700000,14000000,20000000,160000,20000000,4700000,280000,6300000,8300000,4800000,83000,8900000,2300000,980000,9800000,8700000,18000000,2100000,4500000,120000,6300000,15000000,9100000,2600000,15000000,14000000,12000000,3800000,18000,170000,1300000,12000000,750000,8500000,9200000,12000000,7500000,14000000,9000000,15000000,5300000,6600000,1100000,3300000,240000,8300000,12000000,45000,2400000,9200000,7500000,53000,2400000,18000000,4300000,7100000,94000,3900000,9700000,9000000,8200000,83000000,8300000,18000000,7000000,38000000,96000,19000000,5800000,6300000,5300000,9200000,12000000,9200000,12000000,150000,3900000,8900000,9100000,3700000,10000000,8900000,17000000,5600000,8300000,18000000,13000000,990000,14000000,99000,12000000,7700000,20000000,3100000,990000,3200000,640000,5900000,5800000,31000,6300000,4900000,8900000,16000000,12000000,17000000,34000000,9900000,1000000,9900000,14000000,16000000,63000,18000000,48000000,9200000,1300000,3700000,1500000,12000000,24000000,8400000,7000000,9500000,1300000,6900000,9200000,170000,11000000,12000000,5700000,7800000,5800000,18000000,19000000,12000000,4000000,9300000,20000000,91000,20000000,3900000,3200000,94000,13000000,7100000,16000000,3100000,1800000,740000,79000,890000,9000000,8500000,5700000,3100000,17000000,9300000,9000000,6400000,20000000,4700000,2200000,2500000,11000000,9200000,6400000,23000000,9100000,9100000,2000000,8800000,7100000,13000000,37000000,5400000,7200000,15000000,4000000,3900000,16000000,14000000,4300000,5800000,8700000,4400000,17000000,7400000,18000000,700000,2200000,3200000,17000000,3800000,4000000,9900000,970000,10000000,23000000,29000000,9200000,9100000,4300000,4300000,9200000,2600000,9000000,6700000,8400000,6000000,360000,24000000,7600000,6300000,12000000,15000000,1300000,26000000,9600000,9600000,9300000,21000000,7500000,370000,2900000,82000,4800000,9200000,3900000,4000000,4200000,170000,35000000,9400000,1800000,9700000,30000000,9900000,20000000,13000000,10000000,15000000,15000000,10000000,5200000,3600000,4300000,9200000,3800000,8900000,12000000,14000000,18000000,20000000,31000000,49000000,3500000,20000000,160000,3700000,9800000,9300000,33000000,98000,13000000,6200000,640000,6000000,24000000,6200000,4600000,3800000,2800000,13000000,990000,8400000,21000000,1400000,5500000,16000000,8900000,6300000,78000,17000000,6000000,540000,9200000,8600000,26000000,19000000,4600000,14000000,16000000,9500000,9100000,9200000,4800000,35000000,9300000,32000000,9700000,7500000,9400000,150000,3800000,14000000,17000000,4100000,6000000,9800000,6400000,7700000,14000000,23000000,30000000,9200000,15000000,26000000,3500000,9200000,98000,620000,8500000,5000000,290000,9400000,3100000,1100000,960000,470000,14000000,14000000,4400000,3800000,8500000,9900000,9000000,8600000,8000000,7300000,2900000,8800000,3700000,820000,150000,6200000,16000000,98000,3900000,200000,13000000,82000,8500000,7300000,6300000,10000000,9600000,9100000,740000,4000000,110000,35000000,7300000,5400000,15000000,3900000,8300000,7500000,18000000,45000000],\"tau_T2\":[34000000,52000000,84000000,20000000,49000000,4200000,920000,85000000,7400000,7400000,5900000,45000000,70000000,16000000,43000000,5200000,9700000,61000000,68000000,18000000,46000000,11000000,43000000,7400000,9600000,120000000,50000000,18000000,2700000,68000000,31000000,49000000,38000000,4500000,21000000,61000000,17000000,4300000,78000000,84000000,290000,58000000,66000000,24000000,54000000,22000000,9400000,36000000,2900000,15000000,70000000,2300000,4800000,85000000,37000000,21000000,49000000,16000000,24000000,56000000,13000000,9400000,2800000,26000000,32000000,4200000,25000000,62000000,67000000,8700000,82000000,1300000,18000000,26000000,5200000,65000000,59000000,3400000,11000000,6200000,24000000,11000000,31000000,15000000,12000000,66000000,5300000,48000000,7900000,65000000,24000000,37000000,79000000,2500000,52000000,24000000,6000000,57000000,57000000,20000000,30000000,21000000,80000000,8800000,75000000,39000000,39000000,47000000,4100000,38000000,17000000,59000000,54000000,6700000,19000000,50000000,11000000,52000000,7200000,4700000,1800000,5800000,46000000,31000000,50000000,7000000,38000000,17000000,2100000,6500000,51000000,6600000,4100000,86000000,2800000,19000000,42000000,170000000,1300000,39000000,47000000,5700000,29000000,69000000,90000000,40000000,19000000,38000000,31000000,6000000,16000000,25000000,17000000,35000000,20000000,74000000,9000000,6700000,66000000,43000000,7900000,4300000,58000000,38000000,7500000,57000000,48000000,58000000,45000000,39000000,34000000,14000000,27000000,78000000,1200000,22000000,30000000,35000000,97000000,32000000,18000000,13000000,20000000,9700000,54000000,17000000,98000000,23000000,13000000,32000000,15000000,90000000,97000000,79000000,54000000,44000000,3400000,36000000,23000000,23000000,11000000,3800000,84000000,34000000,8900000,720000,67000000,19000000,67000000,19000000,19000000,40000000,18000000,60000000,40000000,74000000,70000000,9500000,9000000,47000000,6600000,40000000,37000000,130000000,9500000,65000000,20000000,47000000,1600000,88000000,44000000,39000000,7800000,74000000,3900000,15000000,11000000,25000000,64000000,44000000,54000000,11000000,44000000,22000000,75000000,3800000,24000000,4700000,29000000,18000000,19000000,100000000,1800000,12000000,58000000,20000000,43000000,88000000,5000000,150000000,2800000,64000000,20000000,11000000,18000000,82000000,110000000,2900000,9400000,48000000,9100000,61000000,4400000,20000000,21000000,23000000,18000000,13000000,3200000,24000000,40000000,52000000,4600000,17000000,18000000,1500000,61000000,49000000,17000000,39000000,200000,9600000,62000000,42000000,52000000,8900000,53000000,17000000,82000000,17000000,47000000,100000000,46000000,2500000,65000000,24000000,140000,44000000,60000000,26000000,57000000,4600000,66000000,14000000,13000000,62000000,5100000,49000000,19000000,46000000,90000000,17000000,150000000,6100000,17000000,81000000,11000000,22000000,110000000,19000000,20000000,8800000,17000000,38000000,47000000,16000000,13000000,28000000,5600000,60000000,51000000,6600000,5400000,10000000,23000000,57000000,4800000,61000000,9100000,9700000,12000000,2200000,6300000,9500000,730000,64000000,58000000,34000000,80000000,65000000,50000000,25000000,50000000,20000000,26000000,23000000,5100000,9000000,66000000,18000000,48000000,52000000,7300000,26000000,25000000,39000000,510000,8600000,47000000,47000000,3700000,40000000,76000000,94000000,25000000,2500000,84000000,9600000,41000000,26000000,25000000,4400000,43000000,40000000,26000000,2600000,15000000,14000000,110000,36000000,2800000,51000000,1600000,3000000,15000000,4500000,9400000,4100000,40000000,4000000,17000000,82000000,77000000,17000000,14000000,250000,5400000,5800000,2800000,19000000,6100000,78000000,9500000,9900000,7300000,49000000,52000000,9400000,9900000,68000000,57000000,15000000,49000000,80000000,9800000,19000000,24000000,600000,6300000,19000000,3900000,58000000,5100000,21000000,18000000,8600000,6800000,64000000,22000000,46000000,62000000,1700000,17000000,62000000,29000000,120000000,17000000,7400000,5100000,45000000,26000000,46000000,11000000,66000000,22000000,49000000,25000000,4300000,5100000,92000000,91000000,2100000,37000000,9600000,21000000,8600000,38000000,44000000,20000000,3300000,47000000,140000000,17000000,8900000,19000000,400000,14000000,38000000,31000000,14000000,49000000,57000000,18000000,6600000,48000000,15000000,35000000,60000000,11000000,20000000,7200000,6500000,38000000,9400000,37000000,16000000,94000000,19000000,23000000,78000000,100000000,14000000,29000000,8800000,5900000,9500000,52000000,29000000,49000000,31000000,8900000,18000000,47000000,72000000,22000000,8900000,31000000,40000000,15000000,11000000,70000000,47000000,9500000,17000000,14000000,46000000,4300000,21000000,38000000,9600000,2600000,17000000,29000000,38000000,45000000,49000000,9600000,32000000,31000000,6200000,120000000,5200000,38000000,67000000,49000000,52000000,4000000,9800000,21000000,4700000,56000000,32000000,1700000,19000000,18000000,44000000,11000000,62000000,37000000,60000000,50000000,19000000,25000000,7200000,1200000,37000000,8900000,14000000,18000000,69000000,5600000,8200000,20000000,67000000,22000000,24000000,76000000,49000000,43000000,7700000,20000000,18000000,73000000,17000000,8100000,3000000,9300000,44000000,63000000,12000000,7200000,19000000,46000000,5300000,64000000,23000000,34000000,9400000,50000000,17000000,34000000,35000000,15000000,2000000,16000000,9500000,30000000,66000000,44000000,57000000,740000,14000000,1300000,49000000,19000000],\"tau_T3\":[9600000,6900000,16000000,1200000,17000000,4200000,910000,54000000,7100000,5800000,5000000,43000000,17000000,16000000,43000000,5200000,9600000,61000000,15000000,5700000,46000000,9000000,40000000,6300000,8700000,77000000,50000000,13000000,2700000,37000000,31000000,34000000,38000000,4400000,18000000,42000000,14000000,4000000,19000000,84000000,290000,16000000,45000000,24000000,54000000,22000000,7100000,14000000,2600000,190000,27000000,2000000,4800000,71000000,37000000,19000000,1600000,12000000,23000000,20000000,13000000,1900000,2300000,24000000,6600000,4000000,20000000,38000000,43000000,8600000,760000,1300000,18000000,26000000,3300000,24000000,19000000,2200000,9600000,6000000,4700000,6100000,23000000,6000000,12000000,66000000,5300000,19000000,930000,64000000,4300000,36000000,7400000,2500000,50000000,14000000,3200000,1100000,28000000,20000000,17000000,6300000,2300000,8800000,75000000,34000000,19000000,46000000,4000000,38000000,17000000,40000000,42000000,2000000,15000000,12000000,11000000,43000000,6700000,2600000,1400000,4900000,31000000,30000000,46000000,3100000,37000000,13000000,1900000,6000000,51000000,6300000,4100000,82000000,2800000,19000000,15000000,73000000,710000,9300000,47000000,480000,18000000,66000000,31000000,9800000,19000000,38000000,30000000,5700000,4500000,25000000,17000000,35000000,16000000,1700000,9000000,3700000,26000000,43000000,3900000,2100000,13000000,38000000,7500000,2000000,21000000,15000000,45000000,38000000,30000000,14000000,8100000,37000000,590000,15000000,5100000,28000000,22000000,21000000,17000000,13000000,19000000,9700000,27000000,17000000,60000000,23000000,13000000,25000000,13000000,55000000,97000000,58000000,8700000,22000000,3400000,1700000,5000000,23000000,11000000,2700000,57000000,23000000,8100000,710000,24000000,19000000,34000000,15000000,16000000,38000000,17000000,39000000,40000000,4500000,22000000,3200000,7700000,110000,5100000,40000000,19000000,69000000,8200000,28000000,6600000,47000000,1600000,54000000,3900000,20000000,2100000,74000000,2200000,15000000,11000000,21000000,48000000,15000000,42000000,7500000,11000000,15000000,41000000,3800000,24000000,4600000,28000000,15000000,19000000,51000000,680000,12000000,21000000,14000000,35000000,66000000,3900000,99000000,2700000,2200000,19000000,7200000,17000000,49000000,110000000,2800000,9400000,19000000,7900000,49000000,4100000,20000000,18000000,17000000,96000,13000000,3200000,24000000,40000000,52000000,4000000,6100000,9500000,1400000,60000000,22000000,13000000,16000000,200000,7600000,58000000,42000000,51000000,8900000,52000000,4700000,41000000,790000,46000000,86000000,8500000,2400000,52000000,17000000,87000,42000000,58000000,26000000,49000000,4600000,4000000,13000000,13000000,61000000,970000,38000000,19000000,46000000,90000000,9400000,19000000,6100000,920000,9500000,10000000,19000000,38000000,4000000,20000000,8600000,17000000,11000000,43000000,10000000,12000000,28000000,5600000,52000000,30000000,5100000,3100000,10000000,14000000,17000000,1500000,15000000,9100000,4100000,12000000,640000,6300000,3900000,230000,64000000,21000000,30000000,15000000,65000000,31000000,7600000,30000000,20000000,25000000,18000000,5100000,9000000,26000000,17000000,42000000,27000000,7300000,26000000,16000000,39000000,450000,8600000,21000000,1600000,2000000,39000000,10000000,79000000,25000000,2400000,9200000,9100000,26000000,25000000,18000000,4400000,41000000,3100000,20000000,2000000,14000000,4000000,67000,36000000,2700000,19000000,1600000,3000000,3800000,660000,9400000,4100000,40000000,4000000,11000000,48000000,57000000,17000000,14000000,240000,5100000,2600000,2800000,7700000,6100000,31000000,9300000,9600000,4700000,49000000,48000000,9300000,9900000,23000000,5900000,15000000,47000000,22000000,2800000,19000000,8700000,600000,6200000,17000000,2700000,19000000,5100000,21000000,18000000,2500000,6800000,51000000,20000000,36000000,43000000,1200000,17000000,62000000,2800000,40000000,15000000,7100000,4800000,9500000,3700000,43000000,9600000,28000000,21000000,34000000,25000000,4300000,5100000,14000000,81000000,1200000,37000000,9600000,21000000,8600000,26000000,9800000,430000,3300000,46000000,49000000,14000000,8900000,5300000,150000,14000000,38000000,16000000,2700000,49000000,32000000,16000000,6500000,21000000,14000000,33000000,22000000,11000000,5600000,7200000,6500000,9500000,9400000,8800000,1200000,48000000,19000000,18000000,34000000,100000000,4700000,19000000,1400000,3300000,9500000,52000000,28000000,19000000,31000000,2600000,9800000,47000000,35000000,8800000,7800000,25000000,40000000,15000000,7300000,12000000,46000000,4500000,4500000,14000000,31000000,4300000,18000000,38000000,1100000,110000,12000000,15000000,17000000,40000000,25000000,9600000,32000000,31000000,5200000,51000000,5200000,38000000,11000000,39000000,22000000,4000000,9800000,21000000,4700000,48000000,32000000,1600000,550000,18000000,36000000,11000000,58000000,28000000,53000000,18000000,18000000,21000000,7200000,1200000,9600000,8900000,9400000,12000000,9200000,5600000,5200000,880000,46000000,3500000,21000000,63000000,46000000,43000000,7700000,7900000,600000,67000000,8000000,7900000,2900000,9300000,15000000,14000000,3900000,6800000,9600000,43000000,5300000,64000000,22000000,26000000,4100000,48000000,17000000,18000000,29000000,3300000,1100000,15000000,4300000,30000000,36000000,30000000,31000000,740000,12000000,980000,37000000,19000000],\"tau_T4\":[4500000,4300000,16000000,1200000,17000000,4200000,910000,54000000,7100000,5800000,5000000,43000000,17000000,16000000,43000000,5100000,9600000,38000000,15000000,5700000,45000000,8900000,16000000,6300000,7500000,73000000,21000000,12000000,2700000,4500000,31000000,880000,770000,4400000,17000000,9500000,6400000,4000000,15000000,66000000,180000,15000000,16000000,24000000,28000000,79000,3600000,13000000,2600000,160000,27000000,2000000,4800000,13000000,37000000,19000000,1300000,11000000,19000000,95000,13000000,1700000,2300000,24000000,6500000,4000000,20000000,18000000,33000000,8500000,180000,1300000,18000000,25000000,3100000,21000000,19000000,2000000,9600000,5800000,4600000,830000,16000000,5900000,12000000,25000000,2400000,19000000,700000,64000000,1600000,13000000,6800000,1600000,49000000,7700000,3200000,1100000,16000000,20000000,17000000,5700000,2300000,7100000,75000000,34000000,15000000,39000000,4000000,35000000,210000,35000000,42000000,34000,15000000,11000000,11000000,43000000,4300000,1600000,1400000,4900000,31000000,22000000,44000000,3000000,11000000,12000000,1700000,6000000,51000000,5100000,2800000,82000000,2800000,8200000,7500000,53000000,710000,9200000,18000000,440000,11000000,66000000,21000000,9700000,16000000,6100000,8900000,5200000,30000,25000000,15000000,35000000,550000,690000,9000000,3700000,20000000,43000000,3900000,2100000,7400000,37000000,7500000,2000000,15000000,6500000,45000000,8300000,30000000,14000000,7900000,37000000,580000,15000000,5100000,28000000,22000000,21000000,16000000,7600000,18000000,6300000,500000,17000000,60000000,23000000,13000000,25000000,8600000,16000000,4000000,58000000,8300000,22000000,3400000,1700000,4900000,18000000,7500000,490000,1100000,23000000,6600000,710000,20000000,17000000,5900000,15000000,16000000,38000000,730000,35000000,8300000,1600000,17000000,1700000,7700000,110000,5100000,3300000,17000000,36000000,8100000,28000000,6500000,20000000,1400000,54000000,2100000,20000000,2100000,29000000,2200000,15000000,11000000,21000000,48000000,11000000,17000000,7500000,4100000,15000000,9600000,3800000,21000000,4600000,28000000,5200000,19000000,51000000,680000,9700000,1900000,14000000,35000000,66000000,3800000,63000000,1500000,2000000,18000000,7200000,17000000,39000000,84000000,2800000,9400000,18000000,7900000,26000000,4100000,7100000,370000,17000000,80000,9500000,3200000,24000000,40000000,52000000,4000000,180000,9500000,1400000,17000000,750000,13000000,7700000,190000,7600000,58000000,40000000,51000000,8900000,17000000,4700000,9000000,750000,46000000,59000000,8500000,2400000,23000000,16000000,87000,42000000,58000000,26000000,12000000,4600000,4000000,9900000,10000000,9500000,970000,38000000,19000000,46000000,64000000,2000000,3200000,6000000,700000,9200000,10000000,1100000,37000000,4000000,5800000,7600000,17000000,1800000,1800000,9800000,12000000,23000000,5600000,52000000,18000000,5100000,3100000,10000000,14000000,6100000,1500000,670000,1800000,84000,9700000,99000,5800000,3800000,180000,8400000,17000000,22000000,15000000,21000000,23000000,6500000,21000000,19000000,25000000,18000000,1100000,360000,25000000,16000000,1500000,27000000,6700000,26000000,16000000,39000000,440000,8300000,970000,1600000,1900000,39000000,10000000,17000000,22000000,1900000,8900000,9100000,26000000,25000000,9200000,200000,35000000,3100000,810000,1700000,14000000,4000000,67000,25000000,2700000,4500000,1400000,3000000,2400000,370000,9400000,4100000,40000000,4000000,11000000,15000000,57000000,16000000,12000000,240000,3500000,2600000,2700000,5900000,6100000,7700000,2800000,9600000,4700000,25000000,17000000,6800000,9900000,9600000,5500000,1600000,41000000,18000000,2800000,19000000,8700000,550000,6200000,17000000,2700000,19000000,1600000,20000000,18000000,2100000,2200000,29000000,3500000,33000000,43000000,1100000,15000000,55000000,2800000,38000000,10000000,4200000,4800000,9500000,2900000,38000000,8200000,28000000,7400000,9300000,25000000,570000,5100000,7700000,69000000,1200000,37000000,9400000,21000000,7400000,23000000,9800000,120000,3300000,85000,17000000,340000,5800000,5200000,130000,14000000,38000000,16000000,2600000,630000,32000000,16000000,4700000,21000000,14000000,32000000,22000000,11000000,5600000,4300000,6500000,9500000,9200000,6400000,950000,48000000,19000000,18000000,31000000,42000000,4600000,19000000,170000,3100000,4700000,52000000,28000000,16000000,15000000,2600000,9800000,47000000,34000000,8800000,7700000,1200000,11000000,15000000,1600000,9600000,46000000,1500000,4500000,14000000,28000000,4000000,17000000,37000000,1100000,110000,11000000,14000000,17000000,19000000,21000000,9500000,7900000,3400000,5200000,28000000,5100000,38000000,9600000,28000000,22000000,4000000,9800000,150000,4700000,46000000,32000000,1600000,550000,510000,30000000,11000000,30000000,28000000,53000000,3800000,18000000,19000000,4400000,1200000,2200000,8700000,7700000,11000000,4200000,5600000,1700000,760000,420000,3500000,18000000,34000000,40000000,43000000,7700000,290000,570000,67000000,8000000,7300000,2900000,9200000,9300000,4700000,820000,6800000,9600000,43000000,3900000,90000,22000000,22000000,2800000,48000000,17000000,9400000,28000000,3300000,1100000,15000000,4200000,28000000,34000000,5600000,30000000,730000,11000000,970000,26000000,19000000]},\"selected\":{\"id\":\"1330\",\"type\":\"Selection\"},\"selection_policy\":{\"id\":\"1331\",\"type\":\"UnionRenderers\"}},\"id\":\"1283\",\"type\":\"ColumnDataSource\"},{\"attributes\":{\"fill_alpha\":{\"value\":0.6},\"fill_color\":{\"value\":\"#1b9e77\"},\"line_alpha\":{\"value\":0.6},\"line_color\":{\"value\":\"#1b9e77\"},\"size\":{\"units\":\"screen\",\"value\":3},\"x\":{\"field\":\"tau_DL04\"},\"y\":{\"field\":\"tau_T2\"}},\"id\":\"1254\",\"type\":\"Scatter\"},{\"attributes\":{\"active_drag\":\"auto\",\"active_inspect\":\"auto\",\"active_multi\":null,\"active_scroll\":\"auto\",\"active_tap\":\"auto\",\"tools\":[{\"id\":\"1237\",\"type\":\"PanTool\"},{\"id\":\"1238\",\"type\":\"WheelZoomTool\"},{\"id\":\"1239\",\"type\":\"BoxZoomTool\"},{\"id\":\"1240\",\"type\":\"SaveTool\"},{\"id\":\"1241\",\"type\":\"ResetTool\"},{\"id\":\"1242\",\"type\":\"HelpTool\"}]},\"id\":\"1243\",\"type\":\"Toolbar\"},{\"attributes\":{},\"id\":\"1237\",\"type\":\"PanTool\"},{\"attributes\":{\"plot\":null,\"text\":\"\"},\"id\":\"1259\",\"type\":\"Title\"},{\"attributes\":{\"source\":{\"id\":\"1283\",\"type\":\"ColumnDataSource\"}},\"id\":\"1288\",\"type\":\"CDSView\"},{\"attributes\":{},\"id\":\"1238\",\"type\":\"WheelZoomTool\"},{\"attributes\":{},\"id\":\"1261\",\"type\":\"BasicTickFormatter\"},{\"attributes\":{\"overlay\":{\"id\":\"1245\",\"type\":\"BoxAnnotation\"}},\"id\":\"1239\",\"type\":\"BoxZoomTool\"},{\"attributes\":{},\"id\":\"1240\",\"type\":\"SaveTool\"},{\"attributes\":{},\"id\":\"1241\",\"type\":\"ResetTool\"},{\"attributes\":{},\"id\":\"1330\",\"type\":\"Selection\"},{\"attributes\":{},\"id\":\"1228\",\"type\":\"BasicTicker\"},{\"attributes\":{\"fill_alpha\":{\"value\":0.1},\"fill_color\":{\"value\":\"#1f77b4\"},\"line_alpha\":{\"value\":0.1},\"line_color\":{\"value\":\"#1f77b4\"},\"size\":{\"units\":\"screen\",\"value\":3},\"x\":{\"field\":\"tau_DL04\"},\"y\":{\"field\":\"tau_T4\"}},\"id\":\"1286\",\"type\":\"Scatter\"},{\"attributes\":{\"callback\":null,\"data\":{\"index\":[0,1,2,3,4,5,6,7,8,9,10,11,12,13,14,15,16,17,18,19,20,21,22,23,24,25,26,27,28,29,30,31,32,33,34,35,36,37,38,39,40,41,42,43,44,45,46,47,48,49,50,51,52,53,54,55,56,57,58,59,60,61,62,63,64,65,66,67,68,69,70,71,72,73,74,75,76,77,78,79,80,81,82,83,84,85,86,87,88,89,90,91,92,93,94,95,96,97,98,99,100,101,102,103,104,105,106,107,108,109,110,111,112,113,114,115,116,117,118,119,120,121,122,123,124,125,126,127,128,129,130,131,132,133,134,135,136,137,138,139,140,141,142,143,144,145,146,147,148,149,150,151,152,153,154,155,156,157,158,159,160,161,162,163,164,165,166,167,168,169,170,171,172,173,174,175,176,177,178,179,180,181,182,183,184,185,186,187,188,189,190,191,192,193,194,195,196,197,198,199,200,201,202,203,204,205,206,207,208,209,210,211,212,213,214,215,216,217,218,219,220,221,222,223,224,225,226,227,228,229,230,231,232,233,234,235,236,237,238,239,240,241,242,243,244,245,246,247,248,249,250,251,252,253,254,255,256,257,258,259,260,261,262,263,264,265,266,267,268,269,270,271,272,273,274,275,276,277,278,279,280,281,282,283,284,285,286,287,288,289,290,291,292,293,294,295,296,297,298,299,300,301,302,303,304,305,306,307,308,309,310,311,312,313,314,315,316,317,318,319,320,321,322,323,324,325,326,327,328,329,330,331,332,333,334,335,336,337,338,339,340,341,342,343,344,345,346,347,348,349,350,351,352,353,354,355,356,357,358,359,360,361,362,363,364,365,366,367,368,369,370,371,372,373,374,375,376,377,378,379,380,381,382,383,384,385,386,387,388,389,390,391,392,393,394,395,396,397,398,399,400,401,402,403,404,405,406,407,408,409,410,411,412,413,414,415,416,417,418,419,420,421,422,423,424,425,426,427,428,429,430,431,432,433,434,435,436,437,438,439,440,441,442,443,444,445,446,447,448,449,450,451,452,453,454,455,456,457,458,459,460,461,462,463,464,465,466,467,468,469,470,471,472,473,474,475,476,477,478,479,480,481,482,483,484,485,486,487,488,489,490,491,492,493,494,495,496,497,498,499,500,501,502,503,504,505,506,507,508,509,510,511,512,513,514,515,516,517,518,519,520,521,522,523,524,525,526,527,528,529,530,531,532,533,534,535,536,537,538,539,540,541,542,543,544,545,546,547,548,549,550,551,552,553,554,555,556,557,558,559,560,561,562,563,564,565,566,567,568,569,570,571,572,573,574,575,576,577,578,579,580,581,582,583,584,585,586,587,588,589,590,591,592,593,594,595,596,597,598,599,600,601,602,603,604,605,606,607,608,609,610,611,612,613,614,615,616,617,618,619,620,621,622,623,624],\"tau_D04\":[220000,6700,86,7100,3300,350,7600,240,7400,670,4300,7400,580,7400,670,360,8400,72,920,4700,7500,7500,3000,800,9200,580000,290,380,910,390,50000,830,70000,530000,1200,1100,820,410,7600,77,610,8200,560,83000,860,47000,900,660,5600,20000,1800,6100,42000,420,4900,870000,3400,280,210000,310,5900,910,690,63,26000,58,5500,33000,690,5800,640,360,6900,32000,700,390000,4800,2700,2100,37000,130000,290,180,35000,440,310,6200,550,320,340,2200,9900,37000,62,170,1800,620,22000,3500,7300,33000,450,260,260,200000,8600,7200,270,650,120,190,9600,4500,450,580,810,7400,570,7700,110,2700,680,290,610,920,1700,140000,380000,83000,940,870,9400,160,6500,340,430,340,840,750,3900,33000,320,700,1800,6200,12000,3400,84000,2400,10000,140,3700,97,83000,18000,16000,31000,4000,410000,3900,170000,2700,660,7000,2400,6300,1100,830,430,390,580,6800,320,8300,280,2300,260,940,260,130,7400,410,6300,6900,460,910,6200,4800,700,530000,150,44000,540,35000,300,4900,170,460,8800,5200,6000,32000,6900,680,5800,6200,5300000,510000,840,180000,530,220,5300,400,69,430,7100,270,360000,3200,5100,1500,610,7300,190000,6200,6600,74000,460,270,8800,4800,2600,5500000,6500,180,510000,320,4500,690,1200,800000,830,430000,200,420,5800,6500,310,1400,990,360,2700,630,1700,700,140,820,590,290,200,7500,3300,7400,160,82,5400,5700,450,77000,660,4300000,5700,5400,590,9200,460,65000,500,190,910,50000,5900,14000,270,370,130,450,3300,2200,590,770,440,640,21000,97000,4100,570,250,400,1300,3500,430,17000,29000,4200,930,72,1700,6700,580000,180,730,130,670,460000,4900,170,18000,7500,3200,2500,32000,37000,88,2400,720,2400,280,120,6200,7700,340,630,20000,230,360,5000,370,6800,780000,310,320,2200,33000,3300000,260000,460,480,930,830,440,330000,2700,560,7500,330000,380,1700,8200,89000,6900,8300,760000,350,480000,1700,63000,3100,37000,4400,2500,750,470,150000,9700,2200,3300,580,380,6800,6800,7900,3800,8300,730,3200,9900,130,650000,6000,460,840,8400,1300,6700,690,210,1300,6600,740,530,440,2400,18000,720,3300,75,780,1000,970,5000,180,6600,990,34000,4800,9000,600,57000,300,4600,700,8000,720,150,4100,940,740,310,2200,7200,590,1100,930,9900,640,340,460000,79000,8200,890000,3600,9800,18000,1800,360000,2200,35000,800,270,1400,95000,420,330,110000,360000,710,1700,4700,7100,370,500,890,580,370,370,7400,7400,1800,600,7300,5100000,760000,500,5800,490,800,22000,3500,37000,8500,480,7300,620,280,39000,5100000,4800,7500,560,5000,6700,400,280,230,110,38000,530,1800,3400,350,91,280,9700,130,560,7000,240,380,4800,930,310000,550,680,21000,3300,350,530,540,750,730,3700,680,500,740,790,270,150,860,59000,290,6700,930,5800,7100,240,33000,70000,16000,420,3400,710,5700,980000,340000,78000,450,860,580,890,83000,9900,670,7100,7100,740,7800,3200,8400,2100,5000,9700,570000,1600,570,380,380000,53000,5000,640,7300,30000,3000,51000,180,94,630,4000,200,400,900,430000,41000,170,7200,95000,430,250,400,660,4500,140000,4100,8400,5600,7500,2400,760,8100,21000,700000,330,4800,6500,2400,3500,940,2300,6800,9500,700,350000,710,260,530,360,82000,530,980,2500,57000,4700,92000,7400],\"tau_D1\":[15000000,4600000,15000000,16000000,9500,7100000,290000,19000000,5200000,6800000,5100000,43000000,15000000,16000000,13000000,16000000,7600000,13000000,7200000,5100000,9600000,4600000,25000000,6600000,6600000,10000000,15000000,17000000,5100000,3800000,240000,5000000,5000000,21000000,18000000,20000000,4300000,6000000,15000000,49000000,96000,15000000,14000000,19000000,19000000,200000,980000,2500000,36000000,1400000,15000000,32000,5500000,2000000,39000000,17000000,2900000,19000000,19000000,95000,7700000,87000,400000,6000000,6600000,21000000,25000000,22000000,20000000,8700000,23000000,6500000,46000000,32000000,16000000,22000000,19000000,6500000,19000000,7600000,5600000,2000000,12000000,2200000,19000000,15000000,4100000,1100000,6300000,16000000,10000000,11000000,6000000,5600000,8900000,7500000,7000000,6800000,5500000,11000000,76000,5000000,15000000,17000000,22000000,31000000,7500000,24000000,6800000,21000000,2800000,4300000,18000000,35000,16000000,230000,8900000,20000000,3900000,3200000,820000,2800000,9400000,6800000,9000000,7500000,9500000,19000000,2700000,18000000,9200000,5000000,160000,37000000,2900000,8300000,2800000,15000000,2800000,25000000,6500000,4000000,10000000,32000000,180000,4300000,17000000,1500000,6300000,4700000,1400000,19000000,350000,9200000,95000,18000000,33000000,3000000,3300000,9000000,3900000,2400000,9200000,9200000,3700000,2200000,15000000,4800000,20000000,9000000,44000000,15000000,680000,20000000,1500000,640000,23000000,15000000,15000000,440000,17000000,7100000,660000,7600000,3100000,15000000,36000000,8400000,16000000,19000000,17000000,15000000,15000000,20000000,9800000,15000000,550000,28000000,850000,36000,5300000,1800000,1100000,27000000,9100000,95000,29000000,6500000,6100000,5300000,16000000,36000000,120000,9500000,98000,24000000,6900000,1700000,7700000,6300000,6500000,37000000,10000000,19000000,5000000,5100000,6300000,16000000,2200000,3900000,4500000,16000000,290000,24000000,2000000,19000000,9600000,7800000,18000000,8700000,76000,8200000,2800000,20000000,9800000,9100000,24000000,4500000,17000000,8800000,16000000,4400000,160000,15000000,9200000,16000000,18000000,34000000,200000,30000000,5500000,800000,6500000,8900000,5100000,98000,14000000,2700000,1300000,15000000,9100000,21000000,2700000,4700000,150000,6600000,18000000,9500000,3600000,17000000,16000000,20000000,4300000,32000,200000,1400000,14000000,780000,15000000,9600000,13000000,7700000,16000000,9400000,17000000,6500000,8800000,1300000,3900000,420000,8700000,15000000,67000,2700000,9600000,9400000,69000,3900000,19000000,4500000,7500000,99000,4000000,13000000,10000000,16000000,94000000,9000000,19000000,9200000,40000000,180000,21000000,7100000,6400000,6800000,10000000,16000000,9600000,13000000,200000,4000000,9000000,9500000,5100000,14000000,9300000,20000000,5700000,16000000,20000000,18000000,1300000,15000000,190000,23000000,7900000,21000000,3600000,1200000,5800000,660000,6300000,9500000,36000,6400000,5500000,9200000,19000000,16000000,20000000,41000000,16000000,1400000,15000000,15000000,19000000,91000,19000000,49000000,15000000,1800000,5100000,1700000,13000000,35000000,9400000,8700000,15000000,1500000,9100000,9500000,180000,13000000,16000000,5800000,8900000,7400000,21000000,20000000,15000000,4300000,9400000,25000000,95000,22000000,4800000,4000000,95000,21000000,7300000,18000000,4500000,2100000,760000,83000,990000,9500000,9100000,6300000,8100000,25000000,15000000,9500000,6700000,30000000,5100000,2400000,2900000,12000000,9500000,6600000,26000000,9700000,10000000,2300000,9000000,7500000,19000000,44000000,5500000,7500000,17000000,4300000,4000000,19000000,15000000,4500000,7000000,15000000,9900000,18000000,7800000,20000000,740000,2600000,4400000,28000000,4500000,4300000,12000000,1100000,16000000,26000000,36000000,9500000,9500000,4600000,4700000,9500000,2700000,9200000,6800000,9800000,6600000,420000,29000000,7700000,7100000,15000000,20000000,1400000,40000000,17000000,16000000,11000000,23000000,7700000,420000,3000000,240000,5100000,9800000,4000000,4700000,4500000,200000,37000000,15000000,2400000,16000000,32000000,16000000,25000000,19000000,14000000,17000000,17000000,13000000,5700000,4200000,5600000,9500000,3900000,9500000,16000000,16000000,19000000,22000000,32000000,54000000,3600000,29000000,180000,3900000,10000000,9700000,36000000,99000,16000000,8400000,720000,7400000,30000000,6300000,5000000,4700000,7600000,14000000,1100000,8800000,40000000,2400000,5600000,18000000,9800000,15000000,84000,18000000,8800000,660000,16000000,9400000,36000000,20000000,6300000,15000000,17000000,15000000,15000000,9800000,5300000,36000000,9500000,36000000,13000000,8100000,9500000,190000,4000000,18000000,22000000,5100000,6300000,13000000,7000000,9200000,17000000,30000000,31000000,17000000,17000000,44000000,4500000,9500000,230000,660000,9200000,5100000,340000,12000000,3600000,2300000,1800000,480000,20000000,15000000,4800000,4000000,9000000,15000000,9500000,15000000,8100000,7400000,3000000,9200000,3900000,840000,180000,6300000,19000000,1900000,4100000,240000,17000000,190000,9000000,7500000,6900000,15000000,18000000,9500000,1100000,5500000,820000,38000000,8200000,5700000,21000000,4000000,9000000,8200000,20000000,53000000],\"tau_DL04\":[13000000,4200000,9800000,12000000,8500,6700000,270000,14000000,5000000,5800000,3900000,42000000,11000000,15000000,12000000,14000000,7200000,10000000,6500000,4400000,9200000,4000000,21000000,6200000,6300000,9400000,13000000,16000000,2900000,2400000,82000,4400000,3800000,18000000,11000000,9500000,3800000,5800000,13000000,48000000,90000,9800000,12000000,17000000,17000000,91000,970000,1000000,28000000,1300000,12000000,20000,5100000,970000,35000000,13000000,2800000,13000000,14000000,70000,7600000,85000,170000,4500000,6300000,13000000,20000000,20000000,13000000,7600000,22000000,5600000,41000000,19000000,14000000,21000000,13000000,4700000,13000000,6200000,4400000,1600000,8900000,1900000,18000000,12000000,4000000,980000,6100000,14000000,9500000,9200000,3900000,4700000,1000000,5700000,5700000,6000000,4100000,9200000,62000,1300000,9100000,14000000,20000000,30000000,7400000,20000000,5700000,20000000,1900000,4200000,14000000,33000,12000000,110000,8800000,9400000,3200000,2800000,810000,1700000,7600000,6000000,6600000,6500000,9100000,12000000,2500000,15000000,8700000,4500000,100000,33000000,2800000,7700000,2300000,10000000,970000,11000000,6300000,3800000,9500000,30000000,170000,3800000,11000000,1300000,5900000,4200000,1200000,17000000,180000,9100000,63000,17000000,31000000,2900000,2900000,8500000,3600000,1000000,9100000,9100000,3200000,2000000,13000000,4400000,16000000,8300000,40000000,13000000,670000,16000000,1300000,620000,22000000,9600000,12000000,330000,15000000,6700000,310000,2000000,1600000,9200000,30000000,6600000,12000000,6800000,15000000,510000,10000000,18000000,9500000,14000000,500000,25000000,740000,34000,3900000,1700000,890000,21000000,7200000,91000,28000000,5800000,5800000,5100000,15000000,34000000,65000,9300000,55000,22000000,6200000,1300000,7300000,5500000,2700000,36000000,9500000,15000000,4000000,5000000,5700000,8300000,1600000,3800000,4000000,13000000,190000,17000000,1800000,13000000,8600000,5600000,14000000,6400000,54000,7500000,2400000,14000000,9600000,8900000,19000000,4200000,14000000,8400000,14000000,4100000,94000,12000000,3000000,9700000,14000000,20000000,160000,20000000,4700000,280000,6300000,8300000,4800000,83000,8900000,2300000,980000,9800000,8700000,18000000,2100000,4500000,120000,6300000,15000000,9100000,2600000,15000000,14000000,12000000,3800000,18000,170000,1300000,12000000,750000,8500000,9200000,12000000,7500000,14000000,9000000,15000000,5300000,6600000,1100000,3300000,240000,8300000,12000000,45000,2400000,9200000,7500000,53000,2400000,18000000,4300000,7100000,94000,3900000,9700000,9000000,8200000,83000000,8300000,18000000,7000000,38000000,96000,19000000,5800000,6300000,5300000,9200000,12000000,9200000,12000000,150000,3900000,8900000,9100000,3700000,10000000,8900000,17000000,5600000,8300000,18000000,13000000,990000,14000000,99000,12000000,7700000,20000000,3100000,990000,3200000,640000,5900000,5800000,31000,6300000,4900000,8900000,16000000,12000000,17000000,34000000,9900000,1000000,9900000,14000000,16000000,63000,18000000,48000000,9200000,1300000,3700000,1500000,12000000,24000000,8400000,7000000,9500000,1300000,6900000,9200000,170000,11000000,12000000,5700000,7800000,5800000,18000000,19000000,12000000,4000000,9300000,20000000,91000,20000000,3900000,3200000,94000,13000000,7100000,16000000,3100000,1800000,740000,79000,890000,9000000,8500000,5700000,3100000,17000000,9300000,9000000,6400000,20000000,4700000,2200000,2500000,11000000,9200000,6400000,23000000,9100000,9100000,2000000,8800000,7100000,13000000,37000000,5400000,7200000,15000000,4000000,3900000,16000000,14000000,4300000,5800000,8700000,4400000,17000000,7400000,18000000,700000,2200000,3200000,17000000,3800000,4000000,9900000,970000,10000000,23000000,29000000,9200000,9100000,4300000,4300000,9200000,2600000,9000000,6700000,8400000,6000000,360000,24000000,7600000,6300000,12000000,15000000,1300000,26000000,9600000,9600000,9300000,21000000,7500000,370000,2900000,82000,4800000,9200000,3900000,4000000,4200000,170000,35000000,9400000,1800000,9700000,30000000,9900000,20000000,13000000,10000000,15000000,15000000,10000000,5200000,3600000,4300000,9200000,3800000,8900000,12000000,14000000,18000000,20000000,31000000,49000000,3500000,20000000,160000,3700000,9800000,9300000,33000000,98000,13000000,6200000,640000,6000000,24000000,6200000,4600000,3800000,2800000,13000000,990000,8400000,21000000,1400000,5500000,16000000,8900000,6300000,78000,17000000,6000000,540000,9200000,8600000,26000000,19000000,4600000,14000000,16000000,9500000,9100000,9200000,4800000,35000000,9300000,32000000,9700000,7500000,9400000,150000,3800000,14000000,17000000,4100000,6000000,9800000,6400000,7700000,14000000,23000000,30000000,9200000,15000000,26000000,3500000,9200000,98000,620000,8500000,5000000,290000,9400000,3100000,1100000,960000,470000,14000000,14000000,4400000,3800000,8500000,9900000,9000000,8600000,8000000,7300000,2900000,8800000,3700000,820000,150000,6200000,16000000,98000,3900000,200000,13000000,82000,8500000,7300000,6300000,10000000,9600000,9100000,740000,4000000,110000,35000000,7300000,5400000,15000000,3900000,8300000,7500000,18000000,45000000],\"tau_T2\":[34000000,52000000,84000000,20000000,49000000,4200000,920000,85000000,7400000,7400000,5900000,45000000,70000000,16000000,43000000,5200000,9700000,61000000,68000000,18000000,46000000,11000000,43000000,7400000,9600000,120000000,50000000,18000000,2700000,68000000,31000000,49000000,38000000,4500000,21000000,61000000,17000000,4300000,78000000,84000000,290000,58000000,66000000,24000000,54000000,22000000,9400000,36000000,2900000,15000000,70000000,2300000,4800000,85000000,37000000,21000000,49000000,16000000,24000000,56000000,13000000,9400000,2800000,26000000,32000000,4200000,25000000,62000000,67000000,8700000,82000000,1300000,18000000,26000000,5200000,65000000,59000000,3400000,11000000,6200000,24000000,11000000,31000000,15000000,12000000,66000000,5300000,48000000,7900000,65000000,24000000,37000000,79000000,2500000,52000000,24000000,6000000,57000000,57000000,20000000,30000000,21000000,80000000,8800000,75000000,39000000,39000000,47000000,4100000,38000000,17000000,59000000,54000000,6700000,19000000,50000000,11000000,52000000,7200000,4700000,1800000,5800000,46000000,31000000,50000000,7000000,38000000,17000000,2100000,6500000,51000000,6600000,4100000,86000000,2800000,19000000,42000000,170000000,1300000,39000000,47000000,5700000,29000000,69000000,90000000,40000000,19000000,38000000,31000000,6000000,16000000,25000000,17000000,35000000,20000000,74000000,9000000,6700000,66000000,43000000,7900000,4300000,58000000,38000000,7500000,57000000,48000000,58000000,45000000,39000000,34000000,14000000,27000000,78000000,1200000,22000000,30000000,35000000,97000000,32000000,18000000,13000000,20000000,9700000,54000000,17000000,98000000,23000000,13000000,32000000,15000000,90000000,97000000,79000000,54000000,44000000,3400000,36000000,23000000,23000000,11000000,3800000,84000000,34000000,8900000,720000,67000000,19000000,67000000,19000000,19000000,40000000,18000000,60000000,40000000,74000000,70000000,9500000,9000000,47000000,6600000,40000000,37000000,130000000,9500000,65000000,20000000,47000000,1600000,88000000,44000000,39000000,7800000,74000000,3900000,15000000,11000000,25000000,64000000,44000000,54000000,11000000,44000000,22000000,75000000,3800000,24000000,4700000,29000000,18000000,19000000,100000000,1800000,12000000,58000000,20000000,43000000,88000000,5000000,150000000,2800000,64000000,20000000,11000000,18000000,82000000,110000000,2900000,9400000,48000000,9100000,61000000,4400000,20000000,21000000,23000000,18000000,13000000,3200000,24000000,40000000,52000000,4600000,17000000,18000000,1500000,61000000,49000000,17000000,39000000,200000,9600000,62000000,42000000,52000000,8900000,53000000,17000000,82000000,17000000,47000000,100000000,46000000,2500000,65000000,24000000,140000,44000000,60000000,26000000,57000000,4600000,66000000,14000000,13000000,62000000,5100000,49000000,19000000,46000000,90000000,17000000,150000000,6100000,17000000,81000000,11000000,22000000,110000000,19000000,20000000,8800000,17000000,38000000,47000000,16000000,13000000,28000000,5600000,60000000,51000000,6600000,5400000,10000000,23000000,57000000,4800000,61000000,9100000,9700000,12000000,2200000,6300000,9500000,730000,64000000,58000000,34000000,80000000,65000000,50000000,25000000,50000000,20000000,26000000,23000000,5100000,9000000,66000000,18000000,48000000,52000000,7300000,26000000,25000000,39000000,510000,8600000,47000000,47000000,3700000,40000000,76000000,94000000,25000000,2500000,84000000,9600000,41000000,26000000,25000000,4400000,43000000,40000000,26000000,2600000,15000000,14000000,110000,36000000,2800000,51000000,1600000,3000000,15000000,4500000,9400000,4100000,40000000,4000000,17000000,82000000,77000000,17000000,14000000,250000,5400000,5800000,2800000,19000000,6100000,78000000,9500000,9900000,7300000,49000000,52000000,9400000,9900000,68000000,57000000,15000000,49000000,80000000,9800000,19000000,24000000,600000,6300000,19000000,3900000,58000000,5100000,21000000,18000000,8600000,6800000,64000000,22000000,46000000,62000000,1700000,17000000,62000000,29000000,120000000,17000000,7400000,5100000,45000000,26000000,46000000,11000000,66000000,22000000,49000000,25000000,4300000,5100000,92000000,91000000,2100000,37000000,9600000,21000000,8600000,38000000,44000000,20000000,3300000,47000000,140000000,17000000,8900000,19000000,400000,14000000,38000000,31000000,14000000,49000000,57000000,18000000,6600000,48000000,15000000,35000000,60000000,11000000,20000000,7200000,6500000,38000000,9400000,37000000,16000000,94000000,19000000,23000000,78000000,100000000,14000000,29000000,8800000,5900000,9500000,52000000,29000000,49000000,31000000,8900000,18000000,47000000,72000000,22000000,8900000,31000000,40000000,15000000,11000000,70000000,47000000,9500000,17000000,14000000,46000000,4300000,21000000,38000000,9600000,2600000,17000000,29000000,38000000,45000000,49000000,9600000,32000000,31000000,6200000,120000000,5200000,38000000,67000000,49000000,52000000,4000000,9800000,21000000,4700000,56000000,32000000,1700000,19000000,18000000,44000000,11000000,62000000,37000000,60000000,50000000,19000000,25000000,7200000,1200000,37000000,8900000,14000000,18000000,69000000,5600000,8200000,20000000,67000000,22000000,24000000,76000000,49000000,43000000,7700000,20000000,18000000,73000000,17000000,8100000,3000000,9300000,44000000,63000000,12000000,7200000,19000000,46000000,5300000,64000000,23000000,34000000,9400000,50000000,17000000,34000000,35000000,15000000,2000000,16000000,9500000,30000000,66000000,44000000,57000000,740000,14000000,1300000,49000000,19000000],\"tau_T3\":[9600000,6900000,16000000,1200000,17000000,4200000,910000,54000000,7100000,5800000,5000000,43000000,17000000,16000000,43000000,5200000,9600000,61000000,15000000,5700000,46000000,9000000,40000000,6300000,8700000,77000000,50000000,13000000,2700000,37000000,31000000,34000000,38000000,4400000,18000000,42000000,14000000,4000000,19000000,84000000,290000,16000000,45000000,24000000,54000000,22000000,7100000,14000000,2600000,190000,27000000,2000000,4800000,71000000,37000000,19000000,1600000,12000000,23000000,20000000,13000000,1900000,2300000,24000000,6600000,4000000,20000000,38000000,43000000,8600000,760000,1300000,18000000,26000000,3300000,24000000,19000000,2200000,9600000,6000000,4700000,6100000,23000000,6000000,12000000,66000000,5300000,19000000,930000,64000000,4300000,36000000,7400000,2500000,50000000,14000000,3200000,1100000,28000000,20000000,17000000,6300000,2300000,8800000,75000000,34000000,19000000,46000000,4000000,38000000,17000000,40000000,42000000,2000000,15000000,12000000,11000000,43000000,6700000,2600000,1400000,4900000,31000000,30000000,46000000,3100000,37000000,13000000,1900000,6000000,51000000,6300000,4100000,82000000,2800000,19000000,15000000,73000000,710000,9300000,47000000,480000,18000000,66000000,31000000,9800000,19000000,38000000,30000000,5700000,4500000,25000000,17000000,35000000,16000000,1700000,9000000,3700000,26000000,43000000,3900000,2100000,13000000,38000000,7500000,2000000,21000000,15000000,45000000,38000000,30000000,14000000,8100000,37000000,590000,15000000,5100000,28000000,22000000,21000000,17000000,13000000,19000000,9700000,27000000,17000000,60000000,23000000,13000000,25000000,13000000,55000000,97000000,58000000,8700000,22000000,3400000,1700000,5000000,23000000,11000000,2700000,57000000,23000000,8100000,710000,24000000,19000000,34000000,15000000,16000000,38000000,17000000,39000000,40000000,4500000,22000000,3200000,7700000,110000,5100000,40000000,19000000,69000000,8200000,28000000,6600000,47000000,1600000,54000000,3900000,20000000,2100000,74000000,2200000,15000000,11000000,21000000,48000000,15000000,42000000,7500000,11000000,15000000,41000000,3800000,24000000,4600000,28000000,15000000,19000000,51000000,680000,12000000,21000000,14000000,35000000,66000000,3900000,99000000,2700000,2200000,19000000,7200000,17000000,49000000,110000000,2800000,9400000,19000000,7900000,49000000,4100000,20000000,18000000,17000000,96000,13000000,3200000,24000000,40000000,52000000,4000000,6100000,9500000,1400000,60000000,22000000,13000000,16000000,200000,7600000,58000000,42000000,51000000,8900000,52000000,4700000,41000000,790000,46000000,86000000,8500000,2400000,52000000,17000000,87000,42000000,58000000,26000000,49000000,4600000,4000000,13000000,13000000,61000000,970000,38000000,19000000,46000000,90000000,9400000,19000000,6100000,920000,9500000,10000000,19000000,38000000,4000000,20000000,8600000,17000000,11000000,43000000,10000000,12000000,28000000,5600000,52000000,30000000,5100000,3100000,10000000,14000000,17000000,1500000,15000000,9100000,4100000,12000000,640000,6300000,3900000,230000,64000000,21000000,30000000,15000000,65000000,31000000,7600000,30000000,20000000,25000000,18000000,5100000,9000000,26000000,17000000,42000000,27000000,7300000,26000000,16000000,39000000,450000,8600000,21000000,1600000,2000000,39000000,10000000,79000000,25000000,2400000,9200000,9100000,26000000,25000000,18000000,4400000,41000000,3100000,20000000,2000000,14000000,4000000,67000,36000000,2700000,19000000,1600000,3000000,3800000,660000,9400000,4100000,40000000,4000000,11000000,48000000,57000000,17000000,14000000,240000,5100000,2600000,2800000,7700000,6100000,31000000,9300000,9600000,4700000,49000000,48000000,9300000,9900000,23000000,5900000,15000000,47000000,22000000,2800000,19000000,8700000,600000,6200000,17000000,2700000,19000000,5100000,21000000,18000000,2500000,6800000,51000000,20000000,36000000,43000000,1200000,17000000,62000000,2800000,40000000,15000000,7100000,4800000,9500000,3700000,43000000,9600000,28000000,21000000,34000000,25000000,4300000,5100000,14000000,81000000,1200000,37000000,9600000,21000000,8600000,26000000,9800000,430000,3300000,46000000,49000000,14000000,8900000,5300000,150000,14000000,38000000,16000000,2700000,49000000,32000000,16000000,6500000,21000000,14000000,33000000,22000000,11000000,5600000,7200000,6500000,9500000,9400000,8800000,1200000,48000000,19000000,18000000,34000000,100000000,4700000,19000000,1400000,3300000,9500000,52000000,28000000,19000000,31000000,2600000,9800000,47000000,35000000,8800000,7800000,25000000,40000000,15000000,7300000,12000000,46000000,4500000,4500000,14000000,31000000,4300000,18000000,38000000,1100000,110000,12000000,15000000,17000000,40000000,25000000,9600000,32000000,31000000,5200000,51000000,5200000,38000000,11000000,39000000,22000000,4000000,9800000,21000000,4700000,48000000,32000000,1600000,550000,18000000,36000000,11000000,58000000,28000000,53000000,18000000,18000000,21000000,7200000,1200000,9600000,8900000,9400000,12000000,9200000,5600000,5200000,880000,46000000,3500000,21000000,63000000,46000000,43000000,7700000,7900000,600000,67000000,8000000,7900000,2900000,9300000,15000000,14000000,3900000,6800000,9600000,43000000,5300000,64000000,22000000,26000000,4100000,48000000,17000000,18000000,29000000,3300000,1100000,15000000,4300000,30000000,36000000,30000000,31000000,740000,12000000,980000,37000000,19000000],\"tau_T4\":[4500000,4300000,16000000,1200000,17000000,4200000,910000,54000000,7100000,5800000,5000000,43000000,17000000,16000000,43000000,5100000,9600000,38000000,15000000,5700000,45000000,8900000,16000000,6300000,7500000,73000000,21000000,12000000,2700000,4500000,31000000,880000,770000,4400000,17000000,9500000,6400000,4000000,15000000,66000000,180000,15000000,16000000,24000000,28000000,79000,3600000,13000000,2600000,160000,27000000,2000000,4800000,13000000,37000000,19000000,1300000,11000000,19000000,95000,13000000,1700000,2300000,24000000,6500000,4000000,20000000,18000000,33000000,8500000,180000,1300000,18000000,25000000,3100000,21000000,19000000,2000000,9600000,5800000,4600000,830000,16000000,5900000,12000000,25000000,2400000,19000000,700000,64000000,1600000,13000000,6800000,1600000,49000000,7700000,3200000,1100000,16000000,20000000,17000000,5700000,2300000,7100000,75000000,34000000,15000000,39000000,4000000,35000000,210000,35000000,42000000,34000,15000000,11000000,11000000,43000000,4300000,1600000,1400000,4900000,31000000,22000000,44000000,3000000,11000000,12000000,1700000,6000000,51000000,5100000,2800000,82000000,2800000,8200000,7500000,53000000,710000,9200000,18000000,440000,11000000,66000000,21000000,9700000,16000000,6100000,8900000,5200000,30000,25000000,15000000,35000000,550000,690000,9000000,3700000,20000000,43000000,3900000,2100000,7400000,37000000,7500000,2000000,15000000,6500000,45000000,8300000,30000000,14000000,7900000,37000000,580000,15000000,5100000,28000000,22000000,21000000,16000000,7600000,18000000,6300000,500000,17000000,60000000,23000000,13000000,25000000,8600000,16000000,4000000,58000000,8300000,22000000,3400000,1700000,4900000,18000000,7500000,490000,1100000,23000000,6600000,710000,20000000,17000000,5900000,15000000,16000000,38000000,730000,35000000,8300000,1600000,17000000,1700000,7700000,110000,5100000,3300000,17000000,36000000,8100000,28000000,6500000,20000000,1400000,54000000,2100000,20000000,2100000,29000000,2200000,15000000,11000000,21000000,48000000,11000000,17000000,7500000,4100000,15000000,9600000,3800000,21000000,4600000,28000000,5200000,19000000,51000000,680000,9700000,1900000,14000000,35000000,66000000,3800000,63000000,1500000,2000000,18000000,7200000,17000000,39000000,84000000,2800000,9400000,18000000,7900000,26000000,4100000,7100000,370000,17000000,80000,9500000,3200000,24000000,40000000,52000000,4000000,180000,9500000,1400000,17000000,750000,13000000,7700000,190000,7600000,58000000,40000000,51000000,8900000,17000000,4700000,9000000,750000,46000000,59000000,8500000,2400000,23000000,16000000,87000,42000000,58000000,26000000,12000000,4600000,4000000,9900000,10000000,9500000,970000,38000000,19000000,46000000,64000000,2000000,3200000,6000000,700000,9200000,10000000,1100000,37000000,4000000,5800000,7600000,17000000,1800000,1800000,9800000,12000000,23000000,5600000,52000000,18000000,5100000,3100000,10000000,14000000,6100000,1500000,670000,1800000,84000,9700000,99000,5800000,3800000,180000,8400000,17000000,22000000,15000000,21000000,23000000,6500000,21000000,19000000,25000000,18000000,1100000,360000,25000000,16000000,1500000,27000000,6700000,26000000,16000000,39000000,440000,8300000,970000,1600000,1900000,39000000,10000000,17000000,22000000,1900000,8900000,9100000,26000000,25000000,9200000,200000,35000000,3100000,810000,1700000,14000000,4000000,67000,25000000,2700000,4500000,1400000,3000000,2400000,370000,9400000,4100000,40000000,4000000,11000000,15000000,57000000,16000000,12000000,240000,3500000,2600000,2700000,5900000,6100000,7700000,2800000,9600000,4700000,25000000,17000000,6800000,9900000,9600000,5500000,1600000,41000000,18000000,2800000,19000000,8700000,550000,6200000,17000000,2700000,19000000,1600000,20000000,18000000,2100000,2200000,29000000,3500000,33000000,43000000,1100000,15000000,55000000,2800000,38000000,10000000,4200000,4800000,9500000,2900000,38000000,8200000,28000000,7400000,9300000,25000000,570000,5100000,7700000,69000000,1200000,37000000,9400000,21000000,7400000,23000000,9800000,120000,3300000,85000,17000000,340000,5800000,5200000,130000,14000000,38000000,16000000,2600000,630000,32000000,16000000,4700000,21000000,14000000,32000000,22000000,11000000,5600000,4300000,6500000,9500000,9200000,6400000,950000,48000000,19000000,18000000,31000000,42000000,4600000,19000000,170000,3100000,4700000,52000000,28000000,16000000,15000000,2600000,9800000,47000000,34000000,8800000,7700000,1200000,11000000,15000000,1600000,9600000,46000000,1500000,4500000,14000000,28000000,4000000,17000000,37000000,1100000,110000,11000000,14000000,17000000,19000000,21000000,9500000,7900000,3400000,5200000,28000000,5100000,38000000,9600000,28000000,22000000,4000000,9800000,150000,4700000,46000000,32000000,1600000,550000,510000,30000000,11000000,30000000,28000000,53000000,3800000,18000000,19000000,4400000,1200000,2200000,8700000,7700000,11000000,4200000,5600000,1700000,760000,420000,3500000,18000000,34000000,40000000,43000000,7700000,290000,570000,67000000,8000000,7300000,2900000,9200000,9300000,4700000,820000,6800000,9600000,43000000,3900000,90000,22000000,22000000,2800000,48000000,17000000,9400000,28000000,3300000,1100000,15000000,4200000,28000000,34000000,5600000,30000000,730000,11000000,970000,26000000,19000000]},\"selected\":{\"id\":\"1298\",\"type\":\"Selection\"},\"selection_policy\":{\"id\":\"1299\",\"type\":\"UnionRenderers\"}},\"id\":\"1267\",\"type\":\"ColumnDataSource\"},{\"attributes\":{},\"id\":\"1242\",\"type\":\"HelpTool\"},{\"attributes\":{\"label\":{\"value\":\"T2\"},\"renderers\":[{\"id\":\"1256\",\"type\":\"GlyphRenderer\"}]},\"id\":\"1266\",\"type\":\"LegendItem\"},{\"attributes\":{\"click_policy\":\"hide\",\"items\":[{\"id\":\"1266\",\"type\":\"LegendItem\"},{\"id\":\"1282\",\"type\":\"LegendItem\"},{\"id\":\"1300\",\"type\":\"LegendItem\"}],\"location\":\"top_left\",\"plot\":{\"id\":\"1218\",\"subtype\":\"Figure\",\"type\":\"Plot\"}},\"id\":\"1265\",\"type\":\"Legend\"},{\"attributes\":{\"data_source\":{\"id\":\"1283\",\"type\":\"ColumnDataSource\"},\"glyph\":{\"id\":\"1285\",\"type\":\"Scatter\"},\"hover_glyph\":null,\"muted_glyph\":null,\"nonselection_glyph\":{\"id\":\"1286\",\"type\":\"Scatter\"},\"selection_glyph\":null,\"view\":{\"id\":\"1288\",\"type\":\"CDSView\"}},\"id\":\"1287\",\"type\":\"GlyphRenderer\"},{\"attributes\":{\"callback\":null},\"id\":\"1219\",\"type\":\"DataRange1d\"},{\"attributes\":{\"source\":{\"id\":\"1267\",\"type\":\"ColumnDataSource\"}},\"id\":\"1272\",\"type\":\"CDSView\"},{\"attributes\":{\"bottom_units\":\"screen\",\"fill_alpha\":{\"value\":0.5},\"fill_color\":{\"value\":\"lightgrey\"},\"left_units\":\"screen\",\"level\":\"overlay\",\"line_alpha\":{\"value\":1.0},\"line_color\":{\"value\":\"black\"},\"line_dash\":[4,4],\"line_width\":{\"value\":2},\"plot\":null,\"render_mode\":\"css\",\"right_units\":\"screen\",\"top_units\":\"screen\"},\"id\":\"1245\",\"type\":\"BoxAnnotation\"},{\"attributes\":{\"fill_alpha\":{\"value\":0.6},\"fill_color\":{\"value\":\"#7570b3\"},\"line_alpha\":{\"value\":0.6},\"line_color\":{\"value\":\"#7570b3\"},\"size\":{\"units\":\"screen\",\"value\":3},\"x\":{\"field\":\"tau_DL04\"},\"y\":{\"field\":\"tau_T4\"}},\"id\":\"1285\",\"type\":\"Scatter\"},{\"attributes\":{\"callback\":null},\"id\":\"1221\",\"type\":\"DataRange1d\"},{\"attributes\":{},\"id\":\"1298\",\"type\":\"Selection\"},{\"attributes\":{},\"id\":\"1223\",\"type\":\"LinearScale\"},{\"attributes\":{},\"id\":\"1263\",\"type\":\"BasicTickFormatter\"},{\"attributes\":{},\"id\":\"1225\",\"type\":\"LinearScale\"}],\"root_ids\":[\"1218\"]},\"title\":\"Bokeh Application\",\"version\":\"1.0.4\"}};\n",
       "  var render_items = [{\"docid\":\"9cc65731-cdce-4861-8a3f-8db144c058ba\",\"roots\":{\"1218\":\"d2fa23cf-b2e2-440e-9690-5763278a7a59\"}}];\n",
       "  root.Bokeh.embed.embed_items_notebook(docs_json, render_items);\n",
       "\n",
       "  }\n",
       "  if (root.Bokeh !== undefined) {\n",
       "    embed_document(root);\n",
       "  } else {\n",
       "    var attempts = 0;\n",
       "    var timer = setInterval(function(root) {\n",
       "      if (root.Bokeh !== undefined) {\n",
       "        embed_document(root);\n",
       "        clearInterval(timer);\n",
       "      }\n",
       "      attempts++;\n",
       "      if (attempts > 100) {\n",
       "        console.log(\"Bokeh: ERROR: Unable to run BokehJS code because BokehJS library is missing\");\n",
       "        clearInterval(timer);\n",
       "      }\n",
       "    }, 10, root)\n",
       "  }\n",
       "})(window);"
      ],
      "application/vnd.bokehjs_exec.v0+json": ""
     },
     "metadata": {
      "application/vnd.bokehjs_exec.v0+json": {
       "id": "1218"
      }
     },
     "output_type": "display_data"
    }
   ],
   "source": [
    "f = figure(x_axis_type='linear', y_axis_type='linear', x_axis_label='tau_L', y_axis_label='tau_Tn')\n",
    "for col, colour in zip(['tau_T2', 'tau_T3', 'tau_T4'], Dark2[3]):\n",
    "    f.scatter('tau_DL04', col, color=colour, legend=col[4:], source=df, alpha=0.6, size=3)\n",
    "f.legend.location = 'top_left'\n",
    "f.legend.click_policy=\"hide\"\n",
    "show(f)"
   ]
  },
  {
   "cell_type": "code",
   "execution_count": 9,
   "metadata": {},
   "outputs": [
    {
     "data": {
      "application/vnd.vegalite.v2+json": {
       "$schema": "https://vega.github.io/schema/vega-lite/v2.6.0.json",
       "config": {
        "view": {
         "height": 300,
         "width": 400
        }
       },
       "data": {
        "name": "data-6d9b145fea686f6a88d4483ecd49f205"
       },
       "datasets": {
        "data-6d9b145fea686f6a88d4483ecd49f205": [
         {
          "tau_DL04": 13000000,
          "value": 0.41753556473541836,
          "variable": "tau_T2"
         },
         {
          "tau_DL04": 4200000,
          "value": 1.0927540532368987,
          "variable": "tau_T2"
         },
         {
          "tau_DL04": 9800000,
          "value": 0.9330532103693868,
          "variable": "tau_T2"
         },
         {
          "tau_DL04": 12000000,
          "value": 0.22184874961635637,
          "variable": "tau_T2"
         },
         {
          "tau_DL04": 8500,
          "value": 3.760777154314221,
          "variable": "tau_T2"
         },
         {
          "tau_DL04": 6700000,
          "value": -0.20282551230292595,
          "variable": "tau_T2"
         },
         {
          "tau_DL04": 270000,
          "value": 0.532424063186568,
          "variable": "tau_T2"
         },
         {
          "tau_DL04": 14000000,
          "value": 0.7832908900360547,
          "variable": "tau_T2"
         },
         {
          "tau_DL04": 5000000,
          "value": 0.17026171539495738,
          "variable": "tau_T2"
         },
         {
          "tau_DL04": 5800000,
          "value": 0.10580372616803894,
          "variable": "tau_T2"
         },
         {
          "tau_DL04": 3900000,
          "value": 0.17978740461564496,
          "variable": "tau_T2"
         },
         {
          "tau_DL04": 42000000,
          "value": 0.029963223377443202,
          "variable": "tau_T2"
         },
         {
          "tau_DL04": 11000000,
          "value": 0.8037053548560318,
          "variable": "tau_T2"
         },
         {
          "tau_DL04": 15000000,
          "value": 0.028028723600243534,
          "variable": "tau_T2"
         },
         {
          "tau_DL04": 12000000,
          "value": 0.5542872095319618,
          "variable": "tau_T2"
         },
         {
          "tau_DL04": 14000000,
          "value": -0.43012469204343884,
          "variable": "tau_T2"
         },
         {
          "tau_DL04": 7200000,
          "value": 0.1294392378349764,
          "variable": "tau_T2"
         },
         {
          "tau_DL04": 10000000,
          "value": 0.785329835010767,
          "variable": "tau_T2"
         },
         {
          "tau_DL04": 6500000,
          "value": 1.0195955560633807,
          "variable": "tau_T2"
         },
         {
          "tau_DL04": 4400000,
          "value": 0.6118198286171186,
          "variable": "tau_T2"
         },
         {
          "tau_DL04": 9200000,
          "value": 0.6989700043360189,
          "variable": "tau_T2"
         },
         {
          "tau_DL04": 4000000,
          "value": 0.43933269383026263,
          "variable": "tau_T2"
         },
         {
          "tau_DL04": 21000000,
          "value": 0.3112491608456672,
          "variable": "tau_T2"
         },
         {
          "tau_DL04": 6200000,
          "value": 0.07684003023272233,
          "variable": "tau_T2"
         },
         {
          "tau_DL04": 6300000,
          "value": 0.18293068358598666,
          "variable": "tau_T2"
         },
         {
          "tau_DL04": 9400000,
          "value": 1.106053392447926,
          "variable": "tau_T2"
         },
         {
          "tau_DL04": 13000000,
          "value": 0.585026652029182,
          "variable": "tau_T2"
         },
         {
          "tau_DL04": 16000000,
          "value": 0.05115252244738129,
          "variable": "tau_T2"
         },
         {
          "tau_DL04": 2900000,
          "value": -0.031034233739968786,
          "variable": "tau_T2"
         },
         {
          "tau_DL04": 2400000,
          "value": 1.4522976709946303,
          "variable": "tau_T2"
         },
         {
          "tau_DL04": 82000,
          "value": 2.577547841450556,
          "variable": "tau_T2"
         },
         {
          "tau_DL04": 4400000,
          "value": 1.0467434035423262,
          "variable": "tau_T2"
         },
         {
          "tau_DL04": 3800000,
          "value": 1,
          "variable": "tau_T2"
         },
         {
          "tau_DL04": 18000000,
          "value": -0.6020599913279624,
          "variable": "tau_T2"
         },
         {
          "tau_DL04": 11000000,
          "value": 0.2808266095756942,
          "variable": "tau_T2"
         },
         {
          "tau_DL04": 9500000,
          "value": 0.8076062297219193,
          "variable": "tau_T2"
         },
         {
          "tau_DL04": 3800000,
          "value": 0.6506653247614638,
          "variable": "tau_T2"
         },
         {
          "tau_DL04": 5800000,
          "value": -0.12995953798335075,
          "variable": "tau_T2"
         },
         {
          "tau_DL04": 13000000,
          "value": 0.7781512503836436,
          "variable": "tau_T2"
         },
         {
          "tau_DL04": 48000000,
          "value": 0.24303804868629442,
          "variable": "tau_T2"
         },
         {
          "tau_DL04": 90000,
          "value": 0.5081554884596312,
          "variable": "tau_T2"
         },
         {
          "tau_DL04": 9800000,
          "value": 0.7722019178704425,
          "variable": "tau_T2"
         },
         {
          "tau_DL04": 12000000,
          "value": 0.7403626894942439,
          "variable": "tau_T2"
         },
         {
          "tau_DL04": 17000000,
          "value": 0.14976232033333212,
          "variable": "tau_T2"
         },
         {
          "tau_DL04": 17000000,
          "value": 0.5019448384446945,
          "variable": "tau_T2"
         },
         {
          "tau_DL04": 91000,
          "value": 2.3833812885011127,
          "variable": "tau_T2"
         },
         {
          "tau_DL04": 970000,
          "value": 0.9863561193334538,
          "variable": "tau_T2"
         },
         {
          "tau_DL04": 1000000,
          "value": 1.5563025007672873,
          "variable": "tau_T2"
         },
         {
          "tau_DL04": 28000000,
          "value": -0.9847600334432631,
          "variable": "tau_T2"
         },
         {
          "tau_DL04": 1300000,
          "value": 1.0621479067488444,
          "variable": "tau_T2"
         },
         {
          "tau_DL04": 12000000,
          "value": 0.765916793966632,
          "variable": "tau_T2"
         },
         {
          "tau_DL04": 20000,
          "value": 2.060697840353612,
          "variable": "tau_T2"
         },
         {
          "tau_DL04": 5100000,
          "value": -0.026328938722349152,
          "variable": "tau_T2"
         },
         {
          "tau_DL04": 970000,
          "value": 1.9426471914480479,
          "variable": "tau_T2"
         },
         {
          "tau_DL04": 35000000,
          "value": 0.02413367971671937,
          "variable": "tau_T2"
         },
         {
          "tau_DL04": 13000000,
          "value": 0.2082759424270825,
          "variable": "tau_T2"
         },
         {
          "tau_DL04": 2800000,
          "value": 1.2430380486862944,
          "variable": "tau_T2"
         },
         {
          "tau_DL04": 13000000,
          "value": 0.09017663034908803,
          "variable": "tau_T2"
         },
         {
          "tau_DL04": 14000000,
          "value": 0.23408320603336794,
          "variable": "tau_T2"
         },
         {
          "tau_DL04": 70000,
          "value": 2.9030899869919438,
          "variable": "tau_T2"
         },
         {
          "tau_DL04": 7600000,
          "value": 0.2331297600260454,
          "variable": "tau_T2"
         },
         {
          "tau_DL04": 85000,
          "value": 2.043708927885406,
          "variable": "tau_T2"
         },
         {
          "tau_DL04": 170000,
          "value": 1.2167091099639453,
          "variable": "tau_T2"
         },
         {
          "tau_DL04": 4500000,
          "value": 0.7617608341954742,
          "variable": "tau_T2"
         },
         {
          "tau_DL04": 6300000,
          "value": 0.7058094288663243,
          "variable": "tau_T2"
         },
         {
          "tau_DL04": 13000000,
          "value": -0.4906940619089363,
          "variable": "tau_T2"
         },
         {
          "tau_DL04": 20000000,
          "value": 0.09691001300805642,
          "variable": "tau_T2"
         },
         {
          "tau_DL04": 20000000,
          "value": 0.4913616938342727,
          "variable": "tau_T2"
         },
         {
          "tau_DL04": 13000000,
          "value": 0.7121314503939897,
          "variable": "tau_T2"
         },
         {
          "tau_DL04": 7600000,
          "value": 0.05870566033782713,
          "variable": "tau_T2"
         },
         {
          "tau_DL04": 22000000,
          "value": 0.5713911715615104,
          "variable": "tau_T2"
         },
         {
          "tau_DL04": 5600000,
          "value": -0.6342446746993636,
          "variable": "tau_T2"
         },
         {
          "tau_DL04": 41000000,
          "value": -0.35751135161642944,
          "variable": "tau_T2"
         },
         {
          "tau_DL04": 19000000,
          "value": 0.136219747017989,
          "variable": "tau_T2"
         },
         {
          "tau_DL04": 14000000,
          "value": -0.43012469204343884,
          "variable": "tau_T2"
         },
         {
          "tau_DL04": 21000000,
          "value": 0.4906940619089363,
          "variable": "tau_T2"
         },
         {
          "tau_DL04": 13000000,
          "value": 0.6569086593353074,
          "variable": "tau_T2"
         },
         {
          "tau_DL04": 4700000,
          "value": -0.1406189408934623,
          "variable": "tau_T2"
         },
         {
          "tau_DL04": 13000000,
          "value": -0.07255066714861173,
          "variable": "tau_T2"
         },
         {
          "tau_DL04": 6200000,
          "value": 0,
          "variable": "tau_T2"
         },
         {
          "tau_DL04": 4400000,
          "value": 0.7367585652254185,
          "variable": "tau_T2"
         },
         {
          "tau_DL04": 1600000,
          "value": 0.8372727025023002,
          "variable": "tau_T2"
         },
         {
          "tau_DL04": 8900000,
          "value": 0.5419716871893598,
          "variable": "tau_T2"
         },
         {
          "tau_DL04": 1900000,
          "value": 0.8973376581028523,
          "variable": "tau_T2"
         },
         {
          "tau_DL04": 18000000,
          "value": -0.17609125905568127,
          "variable": "tau_T2"
         },
         {
          "tau_DL04": 12000000,
          "value": 0.7403626894942439,
          "variable": "tau_T2"
         },
         {
          "tau_DL04": 4000000,
          "value": 0.12221587827282664,
          "variable": "tau_T2"
         },
         {
          "tau_DL04": 980000,
          "value": 1.6900151616830923,
          "variable": "tau_T2"
         },
         {
          "tau_DL04": 6100000,
          "value": 0.11229725627967442,
          "variable": "tau_T2"
         },
         {
          "tau_DL04": 14000000,
          "value": 0.6667853209646176,
          "variable": "tau_T2"
         },
         {
          "tau_DL04": 9500000,
          "value": 0.4024876364227582,
          "variable": "tau_T2"
         },
         {
          "tau_DL04": 9200000,
          "value": 0.6044138967214396,
          "variable": "tau_T2"
         },
         {
          "tau_DL04": 3900000,
          "value": 1.3065624842639423,
          "variable": "tau_T2"
         },
         {
          "tau_DL04": 4700000,
          "value": -0.27415784926367986,
          "variable": "tau_T2"
         },
         {
          "tau_DL04": 1000000,
          "value": 1.7160033436347992,
          "variable": "tau_T2"
         },
         {
          "tau_DL04": 5700000,
          "value": 0.6243363860391146,
          "variable": "tau_T2"
         },
         {
          "tau_DL04": 5700000,
          "value": 0.02227639471115221,
          "variable": "tau_T2"
         },
         {
          "tau_DL04": 6000000,
          "value": 0.9777236052888477,
          "variable": "tau_T2"
         },
         {
          "tau_DL04": 4100000,
          "value": 1.143090998952756,
          "variable": "tau_T2"
         },
         {
          "tau_DL04": 9200000,
          "value": 0.3372421683184259,
          "variable": "tau_T2"
         },
         {
          "tau_DL04": 62000,
          "value": 2.6847295652214087,
          "variable": "tau_T2"
         },
         {
          "tau_DL04": 1300000,
          "value": 1.2082759424270826,
          "variable": "tau_T2"
         },
         {
          "tau_DL04": 9100000,
          "value": 0.94404859467085,
          "variable": "tau_T2"
         },
         {
          "tau_DL04": 14000000,
          "value": -0.2016453635280694,
          "variable": "tau_T2"
         },
         {
          "tau_DL04": 20000000,
          "value": 0.5740312677277188,
          "variable": "tau_T2"
         },
         {
          "tau_DL04": 30000000,
          "value": 0.11394335230683678,
          "variable": "tau_T2"
         },
         {
          "tau_DL04": 7400000,
          "value": 0.721832887295523,
          "variable": "tau_T2"
         },
         {
          "tau_DL04": 20000000,
          "value": 0.37106786227173627,
          "variable": "tau_T2"
         },
         {
          "tau_DL04": 5700000,
          "value": -0.1430909989527559,
          "variable": "tau_T2"
         },
         {
          "tau_DL04": 20000000,
          "value": 0.2787536009528289,
          "variable": "tau_T2"
         },
         {
          "tau_DL04": 1900000,
          "value": 0.951695320425445,
          "variable": "tau_T2"
         },
         {
          "tau_DL04": 4200000,
          "value": 1.1476027212442437,
          "variable": "tau_T2"
         },
         {
          "tau_DL04": 14000000,
          "value": 0.5862657241447304,
          "variable": "tau_T2"
         },
         {
          "tau_DL04": 33000,
          "value": 2.307560862822939,
          "variable": "tau_T2"
         },
         {
          "tau_DL04": 12000000,
          "value": 0.1995723549052041,
          "variable": "tau_T2"
         },
         {
          "tau_DL04": 110000,
          "value": 2.657577319177794,
          "variable": "tau_T2"
         },
         {
          "tau_DL04": 8800000,
          "value": 0.09691001300805642,
          "variable": "tau_T2"
         },
         {
          "tau_DL04": 9400000,
          "value": 0.7428754900351006,
          "variable": "tau_T2"
         },
         {
          "tau_DL04": 3200000,
          "value": 0.3521825181113625,
          "variable": "tau_T2"
         },
         {
          "tau_DL04": 2800000,
          "value": 0.22493982659349823,
          "variable": "tau_T2"
         },
         {
          "tau_DL04": 810000,
          "value": 0.3467874862246563,
          "variable": "tau_T2"
         },
         {
          "tau_DL04": 1700000,
          "value": 0.5329790721846633,
          "variable": "tau_T2"
         },
         {
          "tau_DL04": 7600000,
          "value": 0.7819442394007827,
          "variable": "tau_T2"
         },
         {
          "tau_DL04": 6000000,
          "value": 0.7132104434506291,
          "variable": "tau_T2"
         },
         {
          "tau_DL04": 6600000,
          "value": 0.8794260687941502,
          "variable": "tau_T2"
         },
         {
          "tau_DL04": 6500000,
          "value": 0.032184683371401235,
          "variable": "tau_T2"
         },
         {
          "tau_DL04": 9100000,
          "value": 0.6207422042957166,
          "variable": "tau_T2"
         },
         {
          "tau_DL04": 12000000,
          "value": 0.1512676753306491,
          "variable": "tau_T2"
         },
         {
          "tau_DL04": 2500000,
          "value": -0.07572071393811836,
          "variable": "tau_T2"
         },
         {
          "tau_DL04": 15000000,
          "value": -0.36317790241282566,
          "variable": "tau_T2"
         },
         {
          "tau_DL04": 8700000,
          "value": 0.7680509234793178,
          "variable": "tau_T2"
         },
         {
          "tau_DL04": 4500000,
          "value": 0.16633142176652496,
          "variable": "tau_T2"
         },
         {
          "tau_DL04": 100000,
          "value": 1.6127838567197355,
          "variable": "tau_T2"
         },
         {
          "tau_DL04": 33000000,
          "value": 0.4159845113656802,
          "variable": "tau_T2"
         },
         {
          "tau_DL04": 2800000,
          "value": 0,
          "variable": "tau_T2"
         },
         {
          "tau_DL04": 7700000,
          "value": 0.39226287578034713,
          "variable": "tau_T2"
         },
         {
          "tau_DL04": 2300000,
          "value": 1.2615214543803075,
          "variable": "tau_T2"
         },
         {
          "tau_DL04": 10000000,
          "value": 1.2304489213782739,
          "variable": "tau_T2"
         },
         {
          "tau_DL04": 970000,
          "value": 0.12717161804059188,
          "variable": "tau_T2"
         },
         {
          "tau_DL04": 11000000,
          "value": 0.5496719218682742,
          "variable": "tau_T2"
         },
         {
          "tau_DL04": 6300000,
          "value": 0.8727573084821358,
          "variable": "tau_T2"
         },
         {
          "tau_DL04": 3800000,
          "value": 0.17609125905568124,
          "variable": "tau_T2"
         },
         {
          "tau_DL04": 9500000,
          "value": 0.48467439261010836,
          "variable": "tau_T2"
         },
         {
          "tau_DL04": 30000000,
          "value": 0.36172783601759284,
          "variable": "tau_T2"
         },
         {
          "tau_DL04": 170000,
          "value": 2.723793588061051,
          "variable": "tau_T2"
         },
         {
          "tau_DL04": 3800000,
          "value": 1.0222763947111522,
          "variable": "tau_T2"
         },
         {
          "tau_DL04": 11000000,
          "value": 0.23736091579460392,
          "variable": "tau_T2"
         },
         {
          "tau_DL04": 1300000,
          "value": 1.4658402443099734,
          "variable": "tau_T2"
         },
         {
          "tau_DL04": 5900000,
          "value": 0.7205096821921285,
          "variable": "tau_T2"
         },
         {
          "tau_DL04": 4200000,
          "value": 0.15490195998574316,
          "variable": "tau_T2"
         },
         {
          "tau_DL04": 1200000,
          "value": 1.1249387366083,
          "variable": "tau_T2"
         },
         {
          "tau_DL04": 17000000,
          "value": 0.1674910872937637,
          "variable": "tau_T2"
         },
         {
          "tau_DL04": 180000,
          "value": 1.9751764162749679,
          "variable": "tau_T2"
         },
         {
          "tau_DL04": 9100000,
          "value": 0.585026652029182,
          "variable": "tau_T2"
         },
         {
          "tau_DL04": 63000,
          "value": 2.5016894462103996,
          "variable": "tau_T2"
         },
         {
          "tau_DL04": 17000000,
          "value": 0.6387827983527022,
          "variable": "tau_T2"
         },
         {
          "tau_DL04": 31000000,
          "value": -0.5371191843949478,
          "variable": "tau_T2"
         },
         {
          "tau_DL04": 2900000,
          "value": 0.36367680480187037,
          "variable": "tau_T2"
         },
         {
          "tau_DL04": 2900000,
          "value": 1.3571459376429127,
          "variable": "tau_T2"
         },
         {
          "tau_DL04": 8500000,
          "value": 0.7040495298652938,
          "variable": "tau_T2"
         },
         {
          "tau_DL04": 3600000,
          "value": 0.3413245905231542,
          "variable": "tau_T2"
         },
         {
          "tau_DL04": 1000000,
          "value": 0.6334684555795865,
          "variable": "tau_T2"
         },
         {
          "tau_DL04": 9100000,
          "value": 0.8043866012418437,
          "variable": "tau_T2"
         },
         {
          "tau_DL04": 9100000,
          "value": 0.6207422042957166,
          "variable": "tau_T2"
         },
         {
          "tau_DL04": 3200000,
          "value": 0.36991128507179405,
          "variable": "tau_T2"
         },
         {
          "tau_DL04": 2000000,
          "value": 1.4548448600085102,
          "variable": "tau_T2"
         },
         {
          "tau_DL04": 13000000,
          "value": 0.5672978850687505,
          "variable": "tau_T2"
         },
         {
          "tau_DL04": 4400000,
          "value": 1.11997531707675,
          "variable": "tau_T2"
         },
         {
          "tau_DL04": 16000000,
          "value": 0.4490925311194189,
          "variable": "tau_T2"
         },
         {
          "tau_DL04": 8300000,
          "value": 0.6719865146504252,
          "variable": "tau_T2"
         },
         {
          "tau_DL04": 40000000,
          "value": -0.07058107428570727,
          "variable": "tau_T2"
         },
         {
          "tau_DL04": 13000000,
          "value": 0.032184683371401235,
          "variable": "tau_T2"
         },
         {
          "tau_DL04": 670000,
          "value": 1.605288961458161,
          "variable": "tau_T2"
         },
         {
          "tau_DL04": 16000000,
          "value": 0.6879746200345556,
          "variable": "tau_T2"
         },
         {
          "tau_DL04": 1300000,
          "value": -0.03476210625921192,
          "variable": "tau_T2"
         },
         {
          "tau_DL04": 620000,
          "value": 1.5500309913239523,
          "variable": "tau_T2"
         },
         {
          "tau_DL04": 22000000,
          "value": 0.13469857389745615,
          "variable": "tau_T2"
         },
         {
          "tau_DL04": 9600000,
          "value": 0.5617968113107072,
          "variable": "tau_T2"
         },
         {
          "tau_DL04": 12000000,
          "value": 0.9075904882186201,
          "variable": "tau_T2"
         },
         {
          "tau_DL04": 330000,
          "value": 1.9866360384420185,
          "variable": "tau_T2"
         },
         {
          "tau_DL04": 15000000,
          "value": 0.07918124604762482,
          "variable": "tau_T2"
         },
         {
          "tau_DL04": 6700000,
          "value": 0.2878685496060103,
          "variable": "tau_T2"
         },
         {
          "tau_DL04": 310000,
          "value": 1.8096683018297086,
          "variable": "tau_T2"
         },
         {
          "tau_DL04": 2000000,
          "value": 0.6857417386022636,
          "variable": "tau_T2"
         },
         {
          "tau_DL04": 1600000,
          "value": 1.5282737771670438,
          "variable": "tau_T2"
         },
         {
          "tau_DL04": 9200000,
          "value": 0.26666109403271865,
          "variable": "tau_T2"
         },
         {
          "tau_DL04": 30000000,
          "value": 0.5141048209728324,
          "variable": "tau_T2"
         },
         {
          "tau_DL04": 6600000,
          "value": 0.5421839004757242,
          "variable": "tau_T2"
         },
         {
          "tau_DL04": 12000000,
          "value": 0.03476210625921191,
          "variable": "tau_T2"
         },
         {
          "tau_DL04": 6800000,
          "value": 0.6726410656136697,
          "variable": "tau_T2"
         },
         {
          "tau_DL04": 15000000,
          "value": 0,
          "variable": "tau_T2"
         },
         {
          "tau_DL04": 510000,
          "value": 2.2466723333413885,
          "variable": "tau_T2"
         },
         {
          "tau_DL04": 10000000,
          "value": 0.9867717342662448,
          "variable": "tau_T2"
         },
         {
          "tau_DL04": 18000000,
          "value": 0.6423545861871354,
          "variable": "tau_T2"
         },
         {
          "tau_DL04": 9500000,
          "value": 0.7546701545341208,
          "variable": "tau_T2"
         },
         {
          "tau_DL04": 14000000,
          "value": 0.49732464080794936,
          "variable": "tau_T2"
         },
         {
          "tau_DL04": 500000,
          "value": 0.8325089127062363,
          "variable": "tau_T2"
         },
         {
          "tau_DL04": 25000000,
          "value": 0.15836249209524964,
          "variable": "tau_T2"
         },
         {
          "tau_DL04": 740000,
          "value": 1.4924961162866166,
          "variable": "tau_T2"
         },
         {
          "tau_DL04": 34000,
          "value": 2.8302489189753377,
          "variable": "tau_T2"
         },
         {
          "tau_DL04": 3900000,
          "value": 0.4503280781317258,
          "variable": "tau_T2"
         },
         {
          "tau_DL04": 1700000,
          "value": 0.34933467523853623,
          "variable": "tau_T2"
         },
         {
          "tau_DL04": 890000,
          "value": 1.9748892794169688,
          "variable": "tau_T2"
         },
         {
          "tau_DL04": 21000000,
          "value": 0.20925962230833584,
          "variable": "tau_T2"
         },
         {
          "tau_DL04": 7200000,
          "value": 0.09205751021364435,
          "variable": "tau_T2"
         },
         {
          "tau_DL04": 91000,
          "value": 0.8982911041101749,
          "variable": "tau_T2"
         },
         {
          "tau_DL04": 28000000,
          "value": 0.3789167713586072,
          "variable": "tau_T2"
         },
         {
          "tau_DL04": 5800000,
          "value": 0.5153256073898916,
          "variable": "tau_T2"
         },
         {
          "tau_DL04": 5800000,
          "value": 1.0626468091378891,
          "variable": "tau_T2"
         },
         {
          "tau_DL04": 5100000,
          "value": 0.5711834248548926,
          "variable": "tau_T2"
         },
         {
          "tau_DL04": 15000000,
          "value": 0.1026623418971477,
          "variable": "tau_T2"
         },
         {
          "tau_DL04": 34000000,
          "value": 0.07058107428570727,
          "variable": "tau_T2"
         },
         {
          "tau_DL04": 65000,
          "value": 2.4423591484604503,
          "variable": "tau_T2"
         },
         {
          "tau_DL04": 9300000,
          "value": 0.8096683018297085,
          "variable": "tau_T2"
         },
         {
          "tau_DL04": 55000,
          "value": 2.8616973018337184,
          "variable": "tau_T2"
         },
         {
          "tau_DL04": 22000000,
          "value": 0.52680903890877,
          "variable": "tau_T2"
         },
         {
          "tau_DL04": 6200000,
          "value": 1.052706350516003,
          "variable": "tau_T2"
         },
         {
          "tau_DL04": 1300000,
          "value": 0.863780252982011,
          "variable": "tau_T2"
         },
         {
          "tau_DL04": 7300000,
          "value": 0.09091964931886898,
          "variable": "tau_T2"
         },
         {
          "tau_DL04": 5500000,
          "value": 0.9317351684414736,
          "variable": "tau_T2"
         },
         {
          "tau_DL04": 2700000,
          "value": 0.3881801713828814,
          "variable": "tau_T2"
         },
         {
          "tau_DL04": 36000000,
          "value": 0.04575749056067514,
          "variable": "tau_T2"
         },
         {
          "tau_DL04": 9500000,
          "value": 0.5904781187781472,
          "variable": "tau_T2"
         },
         {
          "tau_DL04": 15000000,
          "value": 0.9378520932511555,
          "variable": "tau_T2"
         },
         {
          "tau_DL04": 4000000,
          "value": 0.3756636139608854,
          "variable": "tau_T2"
         },
         {
          "tau_DL04": 5000000,
          "value": 1.1139433523068367,
          "variable": "tau_T2"
         },
         {
          "tau_DL04": 5700000,
          "value": 0.5451551399914898,
          "variable": "tau_T2"
         },
         {
          "tau_DL04": 8300000,
          "value": 0.7530197655596436,
          "variable": "tau_T2"
         },
         {
          "tau_DL04": 1600000,
          "value": 0,
          "variable": "tau_T2"
         },
         {
          "tau_DL04": 3800000,
          "value": 1.3646990755333586,
          "variable": "tau_T2"
         },
         {
          "tau_DL04": 4000000,
          "value": 1.041392685158225,
          "variable": "tau_T2"
         },
         {
          "tau_DL04": 13000000,
          "value": 0.47712125471966244,
          "variable": "tau_T2"
         },
         {
          "tau_DL04": 190000,
          "value": 1.6133410017376515,
          "variable": "tau_T2"
         },
         {
          "tau_DL04": 17000000,
          "value": 0.6387827983527022,
          "variable": "tau_T2"
         },
         {
          "tau_DL04": 1800000,
          "value": 0.3357921019231931,
          "variable": "tau_T2"
         },
         {
          "tau_DL04": 13000000,
          "value": 0.062147906748844434,
          "variable": "tau_T2"
         },
         {
          "tau_DL04": 8600000,
          "value": 0.10689423391465734,
          "variable": "tau_T2"
         },
         {
          "tau_DL04": 5600000,
          "value": 0.6497519816658373,
          "variable": "tau_T2"
         },
         {
          "tau_DL04": 14000000,
          "value": 0.6600519383056491,
          "variable": "tau_T2"
         },
         {
          "tau_DL04": 6400000,
          "value": 0.8372727025023002,
          "variable": "tau_T2"
         },
         {
          "tau_DL04": 54000,
          "value": 3,
          "variable": "tau_T2"
         },
         {
          "tau_DL04": 7500000,
          "value": 0.16633142176652496,
          "variable": "tau_T2"
         },
         {
          "tau_DL04": 2400000,
          "value": 1.2632414347745813,
          "variable": "tau_T2"
         },
         {
          "tau_DL04": 14000000,
          "value": 0.1962946451439682,
          "variable": "tau_T2"
         },
         {
          "tau_DL04": 9600000,
          "value": 0.8927900303521317,
          "variable": "tau_T2"
         },
         {
          "tau_DL04": 8900000,
          "value": -0.3696064100281026,
          "variable": "tau_T2"
         },
         {
          "tau_DL04": 19000000,
          "value": 0.10145764075877703,
          "variable": "tau_T2"
         },
         {
          "tau_DL04": 4200000,
          "value": 0.04884856753781701,
          "variable": "tau_T2"
         },
         {
          "tau_DL04": 14000000,
          "value": 0.3162699622207181,
          "variable": "tau_T2"
         },
         {
          "tau_DL04": 8400000,
          "value": 0.3309932190414244,
          "variable": "tau_T2"
         },
         {
          "tau_DL04": 14000000,
          "value": 0.13262556527459096,
          "variable": "tau_T2"
         },
         {
          "tau_DL04": 4100000,
          "value": 1.3872161432802645,
          "variable": "tau_T2"
         },
         {
          "tau_DL04": 94000,
          "value": 1.2821446515036075,
          "variable": "tau_T2"
         },
         {
          "tau_DL04": 12000000,
          "value": 0,
          "variable": "tau_T2"
         },
         {
          "tau_DL04": 3000000,
          "value": 1.2863067388432747,
          "variable": "tau_T2"
         },
         {
          "tau_DL04": 9700000,
          "value": 0.31425826139773627,
          "variable": "tau_T2"
         },
         {
          "tau_DL04": 14000000,
          "value": 0.4873404199013485,
          "variable": "tau_T2"
         },
         {
          "tau_DL04": 20000000,
          "value": 0.6434526764861874,
          "variable": "tau_T2"
         },
         {
          "tau_DL04": 160000,
          "value": 1.494850021680094,
          "variable": "tau_T2"
         },
         {
          "tau_DL04": 20000000,
          "value": 0.8750612633917001,
          "variable": "tau_T2"
         },
         {
          "tau_DL04": 4700000,
          "value": -0.22493982659349826,
          "variable": "tau_T2"
         },
         {
          "tau_DL04": 280000,
          "value": 2.359021942641668,
          "variable": "tau_T2"
         },
         {
          "tau_DL04": 6300000,
          "value": 0.5016894462103995,
          "variable": "tau_T2"
         },
         {
          "tau_DL04": 8300000,
          "value": 0.12231459278215116,
          "variable": "tau_T2"
         },
         {
          "tau_DL04": 4800000,
          "value": 0.5740312677277188,
          "variable": "tau_T2"
         },
         {
          "tau_DL04": 83000,
          "value": 2.994735760007643,
          "variable": "tau_T2"
         },
         {
          "tau_DL04": 8900000,
          "value": 1.0920026785133123,
          "variable": "tau_T2"
         },
         {
          "tau_DL04": 2300000,
          "value": 0.10067016188136323,
          "variable": "tau_T2"
         },
         {
          "tau_DL04": 980000,
          "value": 0.9819017779072038,
          "variable": "tau_T2"
         },
         {
          "tau_DL04": 9800000,
          "value": 0.6900151616830924,
          "variable": "tau_T2"
         },
         {
          "tau_DL04": 8700000,
          "value": 0.01952213970247505,
          "variable": "tau_T2"
         },
         {
          "tau_DL04": 18000000,
          "value": 0.5300573299074609,
          "variable": "tau_T2"
         },
         {
          "tau_DL04": 2100000,
          "value": 0.3212333817522682,
          "variable": "tau_T2"
         },
         {
          "tau_DL04": 4500000,
          "value": 0.6478174818886375,
          "variable": "tau_T2"
         },
         {
          "tau_DL04": 120000,
          "value": 2.2430380486862944,
          "variable": "tau_T2"
         },
         {
          "tau_DL04": 6300000,
          "value": 0.5623872865640112,
          "variable": "tau_T2"
         },
         {
          "tau_DL04": 15000000,
          "value": 0.07918124604762482,
          "variable": "tau_T2"
         },
         {
          "tau_DL04": 9100000,
          "value": 0.15490195998574316,
          "variable": "tau_T2"
         },
         {
          "tau_DL04": 2600000,
          "value": 0.09017663034908803,
          "variable": "tau_T2"
         },
         {
          "tau_DL04": 15000000,
          "value": 0.20411998265592482,
          "variable": "tau_T2"
         },
         {
          "tau_DL04": 14000000,
          "value": 0.45593195564972433,
          "variable": "tau_T2"
         },
         {
          "tau_DL04": 12000000,
          "value": 0.6368220975871743,
          "variable": "tau_T2"
         },
         {
          "tau_DL04": 3800000,
          "value": 0.08297423506476391,
          "variable": "tau_T2"
         },
         {
          "tau_DL04": 18000,
          "value": 2.9751764162749677,
          "variable": "tau_T2"
         },
         {
          "tau_DL04": 170000,
          "value": 2.0248235837250323,
          "variable": "tau_T2"
         },
         {
          "tau_DL04": 1300000,
          "value": 0.062147906748844434,
          "variable": "tau_T2"
         },
         {
          "tau_DL04": 12000000,
          "value": 0.7061485889631421,
          "variable": "tau_T2"
         },
         {
          "tau_DL04": 750000,
          "value": 1.8151348166368135,
          "variable": "tau_T2"
         },
         {
          "tau_DL04": 8500000,
          "value": 0.3010299956639812,
          "variable": "tau_T2"
         },
         {
          "tau_DL04": 9200000,
          "value": 0.6272767796809439,
          "variable": "tau_T2"
         },
         {
          "tau_DL04": 12000000,
          "value": -1.7781512503836436,
          "variable": "tau_T2"
         },
         {
          "tau_DL04": 7500000,
          "value": 0.10720996964786837,
          "variable": "tau_T2"
         },
         {
          "tau_DL04": 14000000,
          "value": 0.6462636538200158,
          "variable": "tau_T2"
         },
         {
          "tau_DL04": 9000000,
          "value": 0.6690067809585756,
          "variable": "tau_T2"
         },
         {
          "tau_DL04": 15000000,
          "value": 0.5399120845791179,
          "variable": "tau_T2"
         },
         {
          "tau_DL04": 5300000,
          "value": 0.22511413704412372,
          "variable": "tau_T2"
         },
         {
          "tau_DL04": 6600000,
          "value": 0.9047319340589204,
          "variable": "tau_T2"
         },
         {
          "tau_DL04": 1100000,
          "value": 1.189056236220049,
          "variable": "tau_T2"
         },
         {
          "tau_DL04": 3300000,
          "value": 1.3952999125058292,
          "variable": "tau_T2"
         },
         {
          "tau_DL04": 240000,
          "value": 1.850237679666668,
          "variable": "tau_T2"
         },
         {
          "tau_DL04": 8300000,
          "value": 0.7530197655596436,
          "variable": "tau_T2"
         },
         {
          "tau_DL04": 12000000,
          "value": 0.9208187539523752,
          "variable": "tau_T2"
         },
         {
          "tau_DL04": 45000,
          "value": 3.0095453179062304,
          "variable": "tau_T2"
         },
         {
          "tau_DL04": 2400000,
          "value": 0.017728766960431616,
          "variable": "tau_T2"
         },
         {
          "tau_DL04": 9200000,
          "value": 0.8491255292973003,
          "variable": "tau_T2"
         },
         {
          "tau_DL04": 7500000,
          "value": 0.505149978319906,
          "variable": "tau_T2"
         },
         {
          "tau_DL04": 53000,
          "value": 0.42185216607744896,
          "variable": "tau_T2"
         },
         {
          "tau_DL04": 2400000,
          "value": 1.2632414347745813,
          "variable": "tau_T2"
         },
         {
          "tau_DL04": 18000000,
          "value": 0.5228787452803376,
          "variable": "tau_T2"
         },
         {
          "tau_DL04": 4300000,
          "value": 0.7815048923912314,
          "variable": "tau_T2"
         },
         {
          "tau_DL04": 7100000,
          "value": 0.9046165069534161,
          "variable": "tau_T2"
         },
         {
          "tau_DL04": 94000,
          "value": 1.6896299780818753,
          "variable": "tau_T2"
         },
         {
          "tau_DL04": 3900000,
          "value": 1.2284793285153695,
          "variable": "tau_T2"
         },
         {
          "tau_DL04": 9700000,
          "value": 0.15935630141199317,
          "variable": "tau_T2"
         },
         {
          "tau_DL04": 9000000,
          "value": 0.15970084286751188,
          "variable": "tau_T2"
         },
         {
          "tau_DL04": 8200000,
          "value": 0.8785778371145372,
          "variable": "tau_T2"
         },
         {
          "tau_DL04": 83000000,
          "value": -1.2115079162781375,
          "variable": "tau_T2"
         },
         {
          "tau_DL04": 8300000,
          "value": 0.7711179876524398,
          "variable": "tau_T2"
         },
         {
          "tau_DL04": 18000000,
          "value": 0.023481095849522904,
          "variable": "tau_T2"
         },
         {
          "tau_DL04": 7000000,
          "value": 0.8176597916673172,
          "variable": "tau_T2"
         },
         {
          "tau_DL04": 38000000,
          "value": 0.3744589128225147,
          "variable": "tau_T2"
         },
         {
          "tau_DL04": 96000,
          "value": 2.2481776883387057,
          "variable": "tau_T2"
         },
         {
          "tau_DL04": 19000000,
          "value": 0.8973376581028523,
          "variable": "tau_T2"
         },
         {
          "tau_DL04": 5800000,
          "value": 0.021901841447829747,
          "variable": "tau_T2"
         },
         {
          "tau_DL04": 6300000,
          "value": 0.43110837192469226,
          "variable": "tau_T2"
         },
         {
          "tau_DL04": 5300000,
          "value": 1.1842091492778608,
          "variable": "tau_T2"
         },
         {
          "tau_DL04": 9200000,
          "value": 0.07760485781266976,
          "variable": "tau_T2"
         },
         {
          "tau_DL04": 12000000,
          "value": 0.2632414347745814,
          "variable": "tau_T2"
         },
         {
          "tau_DL04": 9200000,
          "value": 1.0776048578126698,
          "variable": "tau_T2"
         },
         {
          "tau_DL04": 12000000,
          "value": 0.1995723549052041,
          "variable": "tau_T2"
         },
         {
          "tau_DL04": 150000,
          "value": 2.1249387366083,
          "variable": "tau_T2"
         },
         {
          "tau_DL04": 3900000,
          "value": 0.3534180651236694,
          "variable": "tau_T2"
         },
         {
          "tau_DL04": 8900000,
          "value": 0.28105891473336114,
          "variable": "tau_T2"
         },
         {
          "tau_DL04": 9100000,
          "value": 0.6207422042957166,
          "variable": "tau_T2"
         },
         {
          "tau_DL04": 3700000,
          "value": 1.1038961338687225,
          "variable": "tau_T2"
         },
         {
          "tau_DL04": 10000000,
          "value": 0.20411998265592482,
          "variable": "tau_T2"
         },
         {
          "tau_DL04": 8900000,
          "value": 0.164553345661924,
          "variable": "tau_T2"
         },
         {
          "tau_DL04": 17000000,
          "value": 0.21670910996394527,
          "variable": "tau_T2"
         },
         {
          "tau_DL04": 5600000,
          "value": 0,
          "variable": "tau_T2"
         },
         {
          "tau_DL04": 8300000,
          "value": 0.8590731580075697,
          "variable": "tau_T2"
         },
         {
          "tau_DL04": 18000000,
          "value": 0.4522976709946303,
          "variable": "tau_T2"
         },
         {
          "tau_DL04": 13000000,
          "value": -0.2943994167649681,
          "variable": "tau_T2"
         },
         {
          "tau_DL04": 990000,
          "value": 0.7367585652254185,
          "variable": "tau_T2"
         },
         {
          "tau_DL04": 14000000,
          "value": -0.146128035678238,
          "variable": "tau_T2"
         },
         {
          "tau_DL04": 99000,
          "value": 2.366092641420043,
          "variable": "tau_T2"
         },
         {
          "tau_DL04": 12000000,
          "value": 0.6766936096248666,
          "variable": "tau_T2"
         },
         {
          "tau_DL04": 7700000,
          "value": -0.20524948779689464,
          "variable": "tau_T2"
         },
         {
          "tau_DL04": 20000000,
          "value": 0.4842998393467858,
          "variable": "tau_T2"
         },
         {
          "tau_DL04": 3100000,
          "value": 0.4676796984868209,
          "variable": "tau_T2"
         },
         {
          "tau_DL04": 990000,
          "value": 0.9911365396686949,
          "variable": "tau_T2"
         },
         {
          "tau_DL04": 3200000,
          "value": 0.5740312677277188,
          "variable": "tau_T2"
         },
         {
          "tau_DL04": 640000,
          "value": 0.5362427068383191,
          "variable": "tau_T2"
         },
         {
          "tau_DL04": 5900000,
          "value": 0.02848853781143753,
          "variable": "tau_T2"
         },
         {
          "tau_DL04": 5800000,
          "value": 0.21429561172591047,
          "variable": "tau_T2"
         },
         {
          "tau_DL04": 31000,
          "value": 1.3719611662861833,
          "variable": "tau_T2"
         },
         {
          "tau_DL04": 6300000,
          "value": 1.0068394245303054,
          "variable": "tau_T2"
         },
         {
          "tau_DL04": 4900000,
          "value": 1.0732319135344237,
          "variable": "tau_T2"
         },
         {
          "tau_DL04": 8900000,
          "value": 0.5820889103973423,
          "variable": "tau_T2"
         },
         {
          "tau_DL04": 16000000,
          "value": 0.6989700043360189,
          "variable": "tau_T2"
         },
         {
          "tau_DL04": 12000000,
          "value": 0.7337321105952308,
          "variable": "tau_T2"
         },
         {
          "tau_DL04": 17000000,
          "value": 0.46852108295774486,
          "variable": "tau_T2"
         },
         {
          "tau_DL04": 34000000,
          "value": -0.13353890837021748,
          "variable": "tau_T2"
         },
         {
          "tau_DL04": 9900000,
          "value": 0.7033348097384688,
          "variable": "tau_T2"
         },
         {
          "tau_DL04": 1000000,
          "value": 1.3010299956639813,
          "variable": "tau_T2"
         },
         {
          "tau_DL04": 9900000,
          "value": 0.4193381533732681,
          "variable": "tau_T2"
         },
         {
          "tau_DL04": 14000000,
          "value": 0.21559980033935483,
          "variable": "tau_T2"
         },
         {
          "tau_DL04": 16000000,
          "value": -0.4965498065579884,
          "variable": "tau_T2"
         },
         {
          "tau_DL04": 63000,
          "value": 2.154901959985743,
          "variable": "tau_T2"
         },
         {
          "tau_DL04": 18000000,
          "value": 0.5642714304385625,
          "variable": "tau_T2"
         },
         {
          "tau_DL04": 48000000,
          "value": -0.42596873227228116,
          "variable": "tau_T2"
         },
         {
          "tau_DL04": 9200000,
          "value": 0.7174534100300319,
          "variable": "tau_T2"
         },
         {
          "tau_DL04": 1300000,
          "value": 1.6020599913279625,
          "variable": "tau_T2"
         },
         {
          "tau_DL04": 3700000,
          "value": 0.2951211360534609,
          "variable": "tau_T2"
         },
         {
          "tau_DL04": 1500000,
          "value": 1.2388820889151366,
          "variable": "tau_T2"
         },
         {
          "tau_DL04": 12000000,
          "value": 0.31875876262441283,
          "variable": "tau_T2"
         },
         {
          "tau_DL04": 24000000,
          "value": 0.21085336531489318,
          "variable": "tau_T2"
         },
         {
          "tau_DL04": 8400000,
          "value": -1.2167091099639453,
          "variable": "tau_T2"
         },
         {
          "tau_DL04": 7000000,
          "value": 0.08940041122931092,
          "variable": "tau_T2"
         },
         {
          "tau_DL04": 9500000,
          "value": 0.6943742526468697,
          "variable": "tau_T2"
         },
         {
          "tau_DL04": 1300000,
          "value": 1.5581545056288806,
          "variable": "tau_T2"
         },
         {
          "tau_DL04": 6900000,
          "value": -0.2706473666702603,
          "variable": "tau_T2"
         },
         {
          "tau_DL04": 9200000,
          "value": 0.638272163982407,
          "variable": "tau_T2"
         },
         {
          "tau_DL04": 170000,
          "value": 2.6503646709025173,
          "variable": "tau_T2"
         },
         {
          "tau_DL04": 11000000,
          "value": 0.9317351684414736,
          "variable": "tau_T2"
         },
         {
          "tau_DL04": 12000000,
          "value": 0.31875876262441283,
          "variable": "tau_T2"
         },
         {
          "tau_DL04": 5700000,
          "value": -0.3579348470004538,
          "variable": "tau_T2"
         },
         {
          "tau_DL04": 7800000,
          "value": 1.0321846833714012,
          "variable": "tau_T2"
         },
         {
          "tau_DL04": 5800000,
          "value": 0.21884323947663112,
          "variable": "tau_T2"
         },
         {
          "tau_DL04": 18000000,
          "value": 0.3575113516164294,
          "variable": "tau_T2"
         },
         {
          "tau_DL04": 19000000,
          "value": 0.136219747017989,
          "variable": "tau_T2"
         },
         {
          "tau_DL04": 12000000,
          "value": 0.31875876262441283,
          "variable": "tau_T2"
         },
         {
          "tau_DL04": 4000000,
          "value": 0.04139268515822507,
          "variable": "tau_T2"
         },
         {
          "tau_DL04": 9300000,
          "value": 0.6649855070256514,
          "variable": "tau_T2"
         },
         {
          "tau_DL04": 20000000,
          "value": 0.3010299956639812,
          "variable": "tau_T2"
         },
         {
          "tau_DL04": 91000,
          "value": 2.4559319556497243,
          "variable": "tau_T2"
         },
         {
          "tau_DL04": 20000000,
          "value": -0.8860566476931632,
          "variable": "tau_T2"
         },
         {
          "tau_DL04": 3900000,
          "value": 0.585026652029182,
          "variable": "tau_T2"
         },
         {
          "tau_DL04": 3200000,
          "value": 0.640978057358332,
          "variable": "tau_T2"
         },
         {
          "tau_DL04": 94000,
          "value": 0.06826483155852639,
          "variable": "tau_T2"
         },
         {
          "tau_DL04": 13000000,
          "value": 0.4423591484604505,
          "variable": "tau_T2"
         },
         {
          "tau_DL04": 7100000,
          "value": -0.4041003173768561,
          "variable": "tau_T2"
         },
         {
          "tau_DL04": 16000000,
          "value": 0.5034501934420116,
          "variable": "tau_T2"
         },
         {
          "tau_DL04": 3100000,
          "value": -0.2872417111783479,
          "variable": "tau_T2"
         },
         {
          "tau_DL04": 1800000,
          "value": 0.22184874961635637,
          "variable": "tau_T2"
         },
         {
          "tau_DL04": 740000,
          "value": 1.306859539324705,
          "variable": "tau_T2"
         },
         {
          "tau_DL04": 79000,
          "value": 1.7555854224849021,
          "variable": "tau_T2"
         },
         {
          "tau_DL04": 890000,
          "value": 1.023737846954786,
          "variable": "tau_T2"
         },
         {
          "tau_DL04": 9000000,
          "value": -0.3414586527195894,
          "variable": "tau_T2"
         },
         {
          "tau_DL04": 8500000,
          "value": 0.6726410656136697,
          "variable": "tau_T2"
         },
         {
          "tau_DL04": 5700000,
          "value": -0.15381486434452904,
          "variable": "tau_T2"
         },
         {
          "tau_DL04": 3100000,
          "value": 0.7390872275440012,
          "variable": "tau_T2"
         },
         {
          "tau_DL04": 17000000,
          "value": 0.6833649310054427,
          "variable": "tau_T2"
         },
         {
          "tau_DL04": 9300000,
          "value": 0.9180077766185467,
          "variable": "tau_T2"
         },
         {
          "tau_DL04": 9000000,
          "value": 0.27620641193894907,
          "variable": "tau_T2"
         },
         {
          "tau_DL04": 6400000,
          "value": 0.3399480616943509,
          "variable": "tau_T2"
         },
         {
          "tau_DL04": 20000000,
          "value": -1.9030899869919435,
          "variable": "tau_T2"
         },
         {
          "tau_DL04": 4700000,
          "value": 0.060295901887251084,
          "variable": "tau_T2"
         },
         {
          "tau_DL04": 2200000,
          "value": 0.42100531274073105,
          "variable": "tau_T2"
         },
         {
          "tau_DL04": 2500000,
          "value": 0.04921802267018165,
          "variable": "tau_T2"
         },
         {
          "tau_DL04": 11000000,
          "value": 0.23736091579460392,
          "variable": "tau_T2"
         },
         {
          "tau_DL04": 9200000,
          "value": -0.17845799233478826,
          "variable": "tau_T2"
         },
         {
          "tau_DL04": 6400000,
          "value": 1.0859146287065933,
          "variable": "tau_T2"
         },
         {
          "tau_DL04": 23000000,
          "value": -0.3840042307287451,
          "variable": "tau_T2"
         },
         {
          "tau_DL04": 9100000,
          "value": 0.036593802276456276,
          "variable": "tau_T2"
         },
         {
          "tau_DL04": 9100000,
          "value": -0.09571853220063767,
          "variable": "tau_T2"
         },
         {
          "tau_DL04": 2000000,
          "value": 1.3891660843645326,
          "variable": "tau_T2"
         },
         {
          "tau_DL04": 8800000,
          "value": 0.7715206714846305,
          "variable": "tau_T2"
         },
         {
          "tau_DL04": 7100000,
          "value": 0.12186950488062337,
          "variable": "tau_T2"
         },
         {
          "tau_DL04": 13000000,
          "value": -0.11830815770928689,
          "variable": "tau_T2"
         },
         {
          "tau_DL04": 37000000,
          "value": 0.26430718863924135,
          "variable": "tau_T2"
         },
         {
          "tau_DL04": 5400000,
          "value": 1.0234810958495228,
          "variable": "tau_T2"
         },
         {
          "tau_DL04": 7200000,
          "value": 0.31875876262441283,
          "variable": "tau_T2"
         },
         {
          "tau_DL04": 15000000,
          "value": 0.5141048209728324,
          "variable": "tau_T2"
         },
         {
          "tau_DL04": 4000000,
          "value": 1.3010299956639813,
          "variable": "tau_T2"
         },
         {
          "tau_DL04": 3900000,
          "value": 0.40016146866599567,
          "variable": "tau_T2"
         },
         {
          "tau_DL04": 16000000,
          "value": 0.07463361829690418,
          "variable": "tau_T2"
         },
         {
          "tau_DL04": 14000000,
          "value": 0.23408320603336794,
          "variable": "tau_T2"
         },
         {
          "tau_DL04": 4300000,
          "value": -0.8553172051959429,
          "variable": "tau_T2"
         },
         {
          "tau_DL04": 5800000,
          "value": 0.035912555890644446,
          "variable": "tau_T2"
         },
         {
          "tau_DL04": 8700000,
          "value": 0.3392343483342105,
          "variable": "tau_T2"
         },
         {
          "tau_DL04": 4400000,
          "value": -0.05238806945968823,
          "variable": "tau_T2"
         },
         {
          "tau_DL04": 17000000,
          "value": 0.5329790721846633,
          "variable": "tau_T2"
         },
         {
          "tau_DL04": 7400000,
          "value": -0.16166154363303983,
          "variable": "tau_T2"
         },
         {
          "tau_DL04": 18000000,
          "value": 0.06694678963061322,
          "variable": "tau_T2"
         },
         {
          "tau_DL04": 700000,
          "value": 1.4101744650890493,
          "variable": "tau_T2"
         },
         {
          "tau_DL04": 2200000,
          "value": 0.5920757704213615,
          "variable": "tau_T2"
         },
         {
          "tau_DL04": 3200000,
          "value": 0.32735893438633035,
          "variable": "tau_T2"
         },
         {
          "tau_DL04": 17000000,
          "value": 0.5757310526056132,
          "variable": "tau_T2"
         },
         {
          "tau_DL04": 3800000,
          "value": 0.7626390842053961,
          "variable": "tau_T2"
         },
         {
          "tau_DL04": 4000000,
          "value": 1.0606978403536118,
          "variable": "tau_T2"
         },
         {
          "tau_DL04": 9900000,
          "value": 0.796756494900704,
          "variable": "tau_T2"
         },
         {
          "tau_DL04": 970000,
          "value": 0.24367718711202907,
          "variable": "tau_T2"
         },
         {
          "tau_DL04": 10000000,
          "value": 0.2304489213782739,
          "variable": "tau_T2"
         },
         {
          "tau_DL04": 23000000,
          "value": 0.430663853480661,
          "variable": "tau_T2"
         },
         {
          "tau_DL04": 29000000,
          "value": 0,
          "variable": "tau_T2"
         },
         {
          "tau_DL04": 9200000,
          "value": 1.1153934187020695,
          "variable": "tau_T2"
         },
         {
          "tau_DL04": 9100000,
          "value": 0.27140752905718035,
          "variable": "tau_T2"
         },
         {
          "tau_DL04": 4300000,
          "value": 0.23576326415138962,
          "variable": "tau_T2"
         },
         {
          "tau_DL04": 4300000,
          "value": 0.07410172051834989,
          "variable": "tau_T2"
         },
         {
          "tau_DL04": 9200000,
          "value": 0.6894246864297884,
          "variable": "tau_T2"
         },
         {
          "tau_DL04": 2600000,
          "value": 1,
          "variable": "tau_T2"
         },
         {
          "tau_DL04": 9000000,
          "value": 0.7085153222422491,
          "variable": "tau_T2"
         },
         {
          "tau_DL04": 6700000,
          "value": 0.21531788245739863,
          "variable": "tau_T2"
         },
         {
          "tau_DL04": 8400000,
          "value": 0.895264649479987,
          "variable": "tau_T2"
         },
         {
          "tau_DL04": 6000000,
          "value": 0.5642714304385625,
          "variable": "tau_T2"
         },
         {
          "tau_DL04": 360000,
          "value": 2.1338935792612266,
          "variable": "tau_T2"
         },
         {
          "tau_DL04": 24000000,
          "value": 0.017728766960431616,
          "variable": "tau_T2"
         },
         {
          "tau_DL04": 7600000,
          "value": -0.24734513670120484,
          "variable": "tau_T2"
         },
         {
          "tau_DL04": 6300000,
          "value": -0.09177037335564533,
          "variable": "tau_T2"
         },
         {
          "tau_DL04": 12000000,
          "value": 0.8846065812979305,
          "variable": "tau_T2"
         },
         {
          "tau_DL04": 15000000,
          "value": 0.7829501332654123,
          "variable": "tau_T2"
         },
         {
          "tau_DL04": 1300000,
          "value": 0.2082759424270825,
          "variable": "tau_T2"
         },
         {
          "tau_DL04": 26000000,
          "value": 0.15322837609617704,
          "variable": "tau_T2"
         },
         {
          "tau_DL04": 9600000,
          "value": 0,
          "variable": "tau_T2"
         },
         {
          "tau_DL04": 9600000,
          "value": 0.3399480616943509,
          "variable": "tau_T2"
         },
         {
          "tau_DL04": 9300000,
          "value": -0.033984497310367415,
          "variable": "tau_T2"
         },
         {
          "tau_DL04": 21000000,
          "value": 0.25756430188289087,
          "variable": "tau_T2"
         },
         {
          "tau_DL04": 7500000,
          "value": 0.7683914130944873,
          "variable": "tau_T2"
         },
         {
          "tau_DL04": 370000,
          "value": 1.7328282715969863,
          "variable": "tau_T2"
         },
         {
          "tau_DL04": 2900000,
          "value": 0.05611594197893141,
          "variable": "tau_T2"
         },
         {
          "tau_DL04": 82000,
          "value": 2.758284005552001,
          "variable": "tau_T2"
         },
         {
          "tau_DL04": 4800000,
          "value": 1.4648867983026508,
          "variable": "tau_T2"
         },
         {
          "tau_DL04": 9200000,
          "value": 0.26666109403271865,
          "variable": "tau_T2"
         },
         {
          "tau_DL04": 3900000,
          "value": 0.3583253996184136,
          "variable": "tau_T2"
         },
         {
          "tau_DL04": 4000000,
          "value": 0.6766936096248666,
          "variable": "tau_T2"
         },
         {
          "tau_DL04": 4200000,
          "value": -1.021189299069938,
          "variable": "tau_T2"
         },
         {
          "tau_DL04": 170000,
          "value": 1.915679114299964,
          "variable": "tau_T2"
         },
         {
          "tau_DL04": 35000000,
          "value": 0.03571555226653449,
          "variable": "tau_T2"
         },
         {
          "tau_DL04": 9400000,
          "value": 0.5182338402345741,
          "variable": "tau_T2"
         },
         {
          "tau_DL04": 1800000,
          "value": 0.8908555305749319,
          "variable": "tau_T2"
         },
         {
          "tau_DL04": 9700000,
          "value": 0.7034243457622688,
          "variable": "tau_T2"
         },
         {
          "tau_DL04": 30000000,
          "value": 0.2787536009528289,
          "variable": "tau_T2"
         },
         {
          "tau_DL04": 9900000,
          "value": 0.2596373105057561,
          "variable": "tau_T2"
         },
         {
          "tau_DL04": 20000000,
          "value": -0.4814860601221125,
          "variable": "tau_T2"
         },
         {
          "tau_DL04": 13000000,
          "value": 0.5672978850687505,
          "variable": "tau_T2"
         },
         {
          "tau_DL04": 10000000,
          "value": 0.17609125905568124,
          "variable": "tau_T2"
         },
         {
          "tau_DL04": 15000000,
          "value": 0.36797678529459443,
          "variable": "tau_T2"
         },
         {
          "tau_DL04": 15000000,
          "value": 0.6020599913279624,
          "variable": "tau_T2"
         },
         {
          "tau_DL04": 10000000,
          "value": 0.04139268515822507,
          "variable": "tau_T2"
         },
         {
          "tau_DL04": 5200000,
          "value": 0.585026652029182,
          "variable": "tau_T2"
         },
         {
          "tau_DL04": 3600000,
          "value": 0.3010299956639812,
          "variable": "tau_T2"
         },
         {
          "tau_DL04": 4300000,
          "value": 0.17944490106326905,
          "variable": "tau_T2"
         },
         {
          "tau_DL04": 9200000,
          "value": 0.6159957692712549,
          "variable": "tau_T2"
         },
         {
          "tau_DL04": 3800000,
          "value": 0.39334425698288855,
          "variable": "tau_T2"
         },
         {
          "tau_DL04": 8900000,
          "value": 0.6188117174220822,
          "variable": "tau_T2"
         },
         {
          "tau_DL04": 12000000,
          "value": 0.12493873660829992,
          "variable": "tau_T2"
         },
         {
          "tau_DL04": 14000000,
          "value": 0.8269998179214606,
          "variable": "tau_T2"
         },
         {
          "tau_DL04": 18000000,
          "value": 0.023481095849522904,
          "variable": "tau_T2"
         },
         {
          "tau_DL04": 20000000,
          "value": 0.06069784035361165,
          "variable": "tau_T2"
         },
         {
          "tau_DL04": 31000000,
          "value": 0.4007329088562077,
          "variable": "tau_T2"
         },
         {
          "tau_DL04": 49000000,
          "value": 0.3098039199714864,
          "variable": "tau_T2"
         },
         {
          "tau_DL04": 3500000,
          "value": 0.6020599913279624,
          "variable": "tau_T2"
         },
         {
          "tau_DL04": 20000000,
          "value": 0.16136800223497488,
          "variable": "tau_T2"
         },
         {
          "tau_DL04": 160000,
          "value": 1.7403626894942439,
          "variable": "tau_T2"
         },
         {
          "tau_DL04": 3700000,
          "value": 0.20265028757514916,
          "variable": "tau_T2"
         },
         {
          "tau_DL04": 9800000,
          "value": -0.013502470403647104,
          "variable": "tau_T2"
         },
         {
          "tau_DL04": 9300000,
          "value": 0.7475203950808641,
          "variable": "tau_T2"
         },
         {
          "tau_DL04": 33000000,
          "value": -0.0561159419789314,
          "variable": "tau_T2"
         },
         {
          "tau_DL04": 98000,
          "value": 2.6989700043360187,
          "variable": "tau_T2"
         },
         {
          "tau_DL04": 13000000,
          "value": 0.3774183415274359,
          "variable": "tau_T2"
         },
         {
          "tau_DL04": 6200000,
          "value": 0.1569983171466589,
          "variable": "tau_T2"
         },
         {
          "tau_DL04": 640000,
          "value": 1.449092531119419,
          "variable": "tau_T2"
         },
         {
          "tau_DL04": 6000000,
          "value": 0.8939466075520738,
          "variable": "tau_T2"
         },
         {
          "tau_DL04": 24000000,
          "value": 0.47712125471966244,
          "variable": "tau_T2"
         },
         {
          "tau_DL04": 6200000,
          "value": 0.5500309913239524,
          "variable": "tau_T2"
         },
         {
          "tau_DL04": 4600000,
          "value": 0.2866321749633387,
          "variable": "tau_T2"
         },
         {
          "tau_DL04": 3800000,
          "value": 0.9115780972174625,
          "variable": "tau_T2"
         },
         {
          "tau_DL04": 2800000,
          "value": 1.154901959985743,
          "variable": "tau_T2"
         },
         {
          "tau_DL04": 13000000,
          "value": 0.062147906748844434,
          "variable": "tau_T2"
         },
         {
          "tau_DL04": 990000,
          "value": 1.0457574905606752,
          "variable": "tau_T2"
         },
         {
          "tau_DL04": 8400000,
          "value": 0.9208187539523752,
          "variable": "tau_T2"
         },
         {
          "tau_DL04": 21000000,
          "value": 0.3498785632017982,
          "variable": "tau_T2"
         },
         {
          "tau_DL04": 1400000,
          "value": 0.8315955696106098,
          "variable": "tau_T2"
         },
         {
          "tau_DL04": 5500000,
          "value": 0.49008623188403005,
          "variable": "tau_T2"
         },
         {
          "tau_DL04": 16000000,
          "value": -0.057991946977686754,
          "variable": "tau_T2"
         },
         {
          "tau_DL04": 8900000,
          "value": 0.7133678250366613,
          "variable": "tau_T2"
         },
         {
          "tau_DL04": 6300000,
          "value": -0.16587209387399518,
          "variable": "tau_T2"
         },
         {
          "tau_DL04": 78000,
          "value": 2.4301246920434387,
          "variable": "tau_T2"
         },
         {
          "tau_DL04": 17000000,
          "value": 0.34933467523853623,
          "variable": "tau_T2"
         },
         {
          "tau_DL04": 6000000,
          "value": 0.20411998265592482,
          "variable": "tau_T2"
         },
         {
          "tau_DL04": 540000,
          "value": 0.6825795881478495,
          "variable": "tau_T2"
         },
         {
          "tau_DL04": 9200000,
          "value": 0.26666109403271865,
          "variable": "tau_T2"
         },
         {
          "tau_DL04": 8600000,
          "value": 0.5278995466553884,
          "variable": "tau_T2"
         },
         {
          "tau_DL04": 26000000,
          "value": 0.16481024864599217,
          "variable": "tau_T2"
         },
         {
          "tau_DL04": 19000000,
          "value": 0.3744589128225147,
          "variable": "tau_T2"
         },
         {
          "tau_DL04": 4600000,
          "value": 1.0274382483469395,
          "variable": "tau_T2"
         },
         {
          "tau_DL04": 14000000,
          "value": -0.1638568026386696,
          "variable": "tau_T2"
         },
         {
          "tau_DL04": 16000000,
          "value": 0.3010299956639812,
          "variable": "tau_T2"
         },
         {
          "tau_DL04": 9500000,
          "value": 0.5136380885454249,
          "variable": "tau_T2"
         },
         {
          "tau_DL04": 9100000,
          "value": -0.16664970282283972,
          "variable": "tau_T2"
         },
         {
          "tau_DL04": 9200000,
          "value": 1.1153934187020695,
          "variable": "tau_T2"
         },
         {
          "tau_DL04": 4800000,
          "value": 0.03476210625921191,
          "variable": "tau_T2"
         },
         {
          "tau_DL04": 35000000,
          "value": 0.03571555226653449,
          "variable": "tau_T2"
         },
         {
          "tau_DL04": 9300000,
          "value": 0.8575918541468912,
          "variable": "tau_T2"
         },
         {
          "tau_DL04": 32000000,
          "value": 0.1850461017086077,
          "variable": "tau_T2"
         },
         {
          "tau_DL04": 9700000,
          "value": 0.7292316093685542,
          "variable": "tau_T2"
         },
         {
          "tau_DL04": 7500000,
          "value": -0.2730012720637377,
          "variable": "tau_T2"
         },
         {
          "tau_DL04": 9400000,
          "value": 0.018098222092796223,
          "variable": "tau_T2"
         },
         {
          "tau_DL04": 150000,
          "value": 2.146128035678238,
          "variable": "tau_T2"
         },
         {
          "tau_DL04": 3800000,
          "value": 0.09231426131890734,
          "variable": "tau_T2"
         },
         {
          "tau_DL04": 14000000,
          "value": 0.6020599913279624,
          "variable": "tau_T2"
         },
         {
          "tau_DL04": 17000000,
          "value": 0.27470105694163205,
          "variable": "tau_T2"
         },
         {
          "tau_DL04": 4100000,
          "value": -0.38233493534146157,
          "variable": "tau_T2"
         },
         {
          "tau_DL04": 6000000,
          "value": 0.5006023505691853,
          "variable": "tau_T2"
         },
         {
          "tau_DL04": 9800000,
          "value": 0.2640464294108112,
          "variable": "tau_T2"
         },
         {
          "tau_DL04": 6400000,
          "value": 0.8372727025023002,
          "variable": "tau_T2"
         },
         {
          "tau_DL04": 7700000,
          "value": 0.15490195998574316,
          "variable": "tau_T2"
         },
         {
          "tau_DL04": 14000000,
          "value": 0.6462636538200158,
          "variable": "tau_T2"
         },
         {
          "tau_DL04": 23000000,
          "value": 0.20647388804940212,
          "variable": "tau_T2"
         },
         {
          "tau_DL04": 30000000,
          "value": 0.3010299956639812,
          "variable": "tau_T2"
         },
         {
          "tau_DL04": 9200000,
          "value": 0.7351821769904635,
          "variable": "tau_T2"
         },
         {
          "tau_DL04": 15000000,
          "value": 0.1026623418971477,
          "variable": "tau_T2"
         },
         {
          "tau_DL04": 26000000,
          "value": -0.017033339298780342,
          "variable": "tau_T2"
         },
         {
          "tau_DL04": 3500000,
          "value": 0.3132644520809928,
          "variable": "tau_T2"
         },
         {
          "tau_DL04": 9200000,
          "value": -0.8846065812979305,
          "variable": "tau_T2"
         },
         {
          "tau_DL04": 98000,
          "value": 2.5769756483745,
          "variable": "tau_T2"
         },
         {
          "tau_DL04": 620000,
          "value": 1.156998317146659,
          "variable": "tau_T2"
         },
         {
          "tau_DL04": 8500000,
          "value": 0.21670910996394527,
          "variable": "tau_T2"
         },
         {
          "tau_DL04": 5000000,
          "value": 0.5563025007672873,
          "variable": "tau_T2"
         },
         {
          "tau_DL04": 290000,
          "value": 2.376451092838299,
          "variable": "tau_T2"
         },
         {
          "tau_DL04": 9400000,
          "value": -0.22493982659349826,
          "variable": "tau_T2"
         },
         {
          "tau_DL04": 3100000,
          "value": 0.42245215854944396,
          "variable": "tau_T2"
         },
         {
          "tau_DL04": 1100000,
          "value": 1.2596373105057561,
          "variable": "tau_T2"
         },
         {
          "tau_DL04": 960000,
          "value": 1.843803569661258,
          "variable": "tau_T2"
         },
         {
          "tau_DL04": 470000,
          "value": 1.6703248228864886,
          "variable": "tau_T2"
         },
         {
          "tau_DL04": 14000000,
          "value": 0.23408320603336794,
          "variable": "tau_T2"
         },
         {
          "tau_DL04": 14000000,
          "value": 0.7346855566025534,
          "variable": "tau_T2"
         },
         {
          "tau_DL04": 4400000,
          "value": 1.0467434035423262,
          "variable": "tau_T2"
         },
         {
          "tau_DL04": 3800000,
          "value": 1.0536848589627763,
          "variable": "tau_T2"
         },
         {
          "tau_DL04": 8500000,
          "value": -0.04292820054181086,
          "variable": "tau_T2"
         },
         {
          "tau_DL04": 9900000,
          "value": 0.3053948010664313,
          "variable": "tau_T2"
         },
         {
          "tau_DL04": 9000000,
          "value": 0.3010299956639812,
          "variable": "tau_T2"
         },
         {
          "tau_DL04": 8600000,
          "value": 0.9288244088768882,
          "variable": "tau_T2"
         },
         {
          "tau_DL04": 8000000,
          "value": 0.32735893438633035,
          "variable": "tau_T2"
         },
         {
          "tau_DL04": 7300000,
          "value": 0.04516215875819385,
          "variable": "tau_T2"
         },
         {
          "tau_DL04": 2900000,
          "value": 0.014723256820706378,
          "variable": "tau_T2"
         },
         {
          "tau_DL04": 8800000,
          "value": 0.024000276403766514,
          "variable": "tau_T2"
         },
         {
          "tau_DL04": 3700000,
          "value": 1.0752509524191924,
          "variable": "tau_T2"
         },
         {
          "tau_DL04": 820000,
          "value": 1.885526697069865,
          "variable": "tau_T2"
         },
         {
          "tau_DL04": 150000,
          "value": 1.9030899869919435,
          "variable": "tau_T2"
         },
         {
          "tau_DL04": 6200000,
          "value": 0.06494080693301461,
          "variable": "tau_T2"
         },
         {
          "tau_DL04": 16000000,
          "value": 0.07463361829690418,
          "variable": "tau_T2"
         },
         {
          "tau_DL04": 98000,
          "value": 2.671531755989079,
          "variable": "tau_T2"
         },
         {
          "tau_DL04": 3900000,
          "value": 0.13321126257428986,
          "variable": "tau_T2"
         },
         {
          "tau_DL04": 200000,
          "value": 2.505149978319906,
          "variable": "tau_T2"
         },
         {
          "tau_DL04": 13000000,
          "value": 0.2477844837107561,
          "variable": "tau_T2"
         },
         {
          "tau_DL04": 82000,
          "value": 2.6176650646585387,
          "variable": "tau_T2"
         },
         {
          "tau_DL04": 8500000,
          "value": 0.04370892788540595,
          "variable": "tau_T2"
         },
         {
          "tau_DL04": 7300000,
          "value": 0.8356471442155629,
          "variable": "tau_T2"
         },
         {
          "tau_DL04": 6300000,
          "value": 0.43110837192469226,
          "variable": "tau_T2"
         },
         {
          "tau_DL04": 10000000,
          "value": 0.5314789170422551,
          "variable": "tau_T2"
         },
         {
          "tau_DL04": 9600000,
          "value": 0.5617968113107072,
          "variable": "tau_T2"
         },
         {
          "tau_DL04": 9100000,
          "value": 0.21704986673458762,
          "variable": "tau_T2"
         },
         {
          "tau_DL04": 740000,
          "value": 0.431798275933005,
          "variable": "tau_T2"
         },
         {
          "tau_DL04": 4000000,
          "value": 0.6020599913279624,
          "variable": "tau_T2"
         },
         {
          "tau_DL04": 110000,
          "value": 1.9363309201306227,
          "variable": "tau_T2"
         },
         {
          "tau_DL04": 35000000,
          "value": -0.06694678963061322,
          "variable": "tau_T2"
         },
         {
          "tau_DL04": 7300000,
          "value": 0.9562210754214128,
          "variable": "tau_T2"
         },
         {
          "tau_DL04": 5400000,
          "value": 0.9110589166632189,
          "variable": "tau_T2"
         },
         {
          "tau_DL04": 15000000,
          "value": 0.5797835966168101,
          "variable": "tau_T2"
         },
         {
          "tau_DL04": 3900000,
          "value": -0.7218328872955231,
          "variable": "tau_T2"
         },
         {
          "tau_DL04": 8300000,
          "value": 0.22704994330216416,
          "variable": "tau_T2"
         },
         {
          "tau_DL04": 7500000,
          "value": -0.7611179110848633,
          "variable": "tau_T2"
         },
         {
          "tau_DL04": 18000000,
          "value": 0.4349235749252076,
          "variable": "tau_T2"
         },
         {
          "tau_DL04": 45000000,
          "value": -0.3744589128225147,
          "variable": "tau_T2"
         },
         {
          "tau_DL04": 13000000,
          "value": -0.13167211926726835,
          "variable": "tau_T3"
         },
         {
          "tau_DL04": 4200000,
          "value": 0.21559980033935483,
          "variable": "tau_T3"
         },
         {
          "tau_DL04": 9800000,
          "value": 0.2128939069634299,
          "variable": "tau_T3"
         },
         {
          "tau_DL04": 12000000,
          "value": -1,
          "variable": "tau_T3"
         },
         {
          "tau_DL04": 8500,
          "value": 3.3010299956639813,
          "variable": "tau_T3"
         },
         {
          "tau_DL04": 6700000,
          "value": -0.20282551230292595,
          "variable": "tau_T3"
         },
         {
          "tau_DL04": 270000,
          "value": 0.5276776281621063,
          "variable": "tau_T3"
         },
         {
          "tau_DL04": 14000000,
          "value": 0.5862657241447304,
          "variable": "tau_T3"
         },
         {
          "tau_DL04": 5000000,
          "value": 0.15228834438305647,
          "variable": "tau_T3"
         },
         {
          "tau_DL04": 5800000,
          "value": 0,
          "variable": "tau_T3"
         },
         {
          "tau_DL04": 3900000,
          "value": 0.10790539730951963,
          "variable": "tau_T3"
         },
         {
          "tau_DL04": 42000000,
          "value": 0.010219165181686028,
          "variable": "tau_T3"
         },
         {
          "tau_DL04": 11000000,
          "value": 0.18905623622004886,
          "variable": "tau_T3"
         },
         {
          "tau_DL04": 15000000,
          "value": 0.028028723600243534,
          "variable": "tau_T3"
         },
         {
          "tau_DL04": 12000000,
          "value": 0.5542872095319618,
          "variable": "tau_T3"
         },
         {
          "tau_DL04": 14000000,
          "value": -0.43012469204343884,
          "variable": "tau_T3"
         },
         {
          "tau_DL04": 7200000,
          "value": 0.12493873660829992,
          "variable": "tau_T3"
         },
         {
          "tau_DL04": 10000000,
          "value": 0.785329835010767,
          "variable": "tau_T3"
         },
         {
          "tau_DL04": 6500000,
          "value": 0.36317790241282566,
          "variable": "tau_T3"
         },
         {
          "tau_DL04": 4400000,
          "value": 0.11242217918630396,
          "variable": "tau_T3"
         },
         {
          "tau_DL04": 9200000,
          "value": 0.6989700043360189,
          "variable": "tau_T3"
         },
         {
          "tau_DL04": 4000000,
          "value": 0.3521825181113625,
          "variable": "tau_T3"
         },
         {
          "tau_DL04": 21000000,
          "value": 0.2798406965940431,
          "variable": "tau_T3"
         },
         {
          "tau_DL04": 6200000,
          "value": 0.006948859955327825,
          "variable": "tau_T3"
         },
         {
          "tau_DL04": 6300000,
          "value": 0.1401787031650368,
          "variable": "tau_T3"
         },
         {
          "tau_DL04": 9400000,
          "value": 0.9133628715727833,
          "variable": "tau_T3"
         },
         {
          "tau_DL04": 13000000,
          "value": 0.585026652029182,
          "variable": "tau_T3"
         },
         {
          "tau_DL04": 16000000,
          "value": -0.090176630349088,
          "variable": "tau_T3"
         },
         {
          "tau_DL04": 2900000,
          "value": -0.031034233739968786,
          "variable": "tau_T3"
         },
         {
          "tau_DL04": 2400000,
          "value": 1.187990482355389,
          "variable": "tau_T3"
         },
         {
          "tau_DL04": 82000,
          "value": 2.577547841450556,
          "variable": "tau_T3"
         },
         {
          "tau_DL04": 4400000,
          "value": 0.8880262405560677,
          "variable": "tau_T3"
         },
         {
          "tau_DL04": 3800000,
          "value": 1,
          "variable": "tau_T3"
         },
         {
          "tau_DL04": 18000000,
          "value": -0.6118198286171187,
          "variable": "tau_T3"
         },
         {
          "tau_DL04": 11000000,
          "value": 0.21387981994508107,
          "variable": "tau_T3"
         },
         {
          "tau_DL04": 9500000,
          "value": 0.6455256851090527,
          "variable": "tau_T3"
         },
         {
          "tau_DL04": 3800000,
          "value": 0.5663444390614278,
          "variable": "tau_T3"
         },
         {
          "tau_DL04": 5800000,
          "value": -0.16136800223497486,
          "variable": "tau_T3"
         },
         {
          "tau_DL04": 13000000,
          "value": 0.16481024864599217,
          "variable": "tau_T3"
         },
         {
          "tau_DL04": 48000000,
          "value": 0.24303804868629442,
          "variable": "tau_T3"
         },
         {
          "tau_DL04": 90000,
          "value": 0.5081554884596312,
          "variable": "tau_T3"
         },
         {
          "tau_DL04": 9800000,
          "value": 0.2128939069634299,
          "variable": "tau_T3"
         },
         {
          "tau_DL04": 12000000,
          "value": 0.5740312677277188,
          "variable": "tau_T3"
         },
         {
          "tau_DL04": 17000000,
          "value": 0.14976232033333212,
          "variable": "tau_T3"
         },
         {
          "tau_DL04": 17000000,
          "value": 0.5019448384446945,
          "variable": "tau_T3"
         },
         {
          "tau_DL04": 91000,
          "value": 2.3833812885011127,
          "variable": "tau_T3"
         },
         {
          "tau_DL04": 970000,
          "value": 0.8644866144528305,
          "variable": "tau_T3"
         },
         {
          "tau_DL04": 1000000,
          "value": 1.146128035678238,
          "variable": "tau_T3"
         },
         {
          "tau_DL04": 28000000,
          "value": -1.0321846833714012,
          "variable": "tau_T3"
         },
         {
          "tau_DL04": 1300000,
          "value": -0.8351897513540077,
          "variable": "tau_T3"
         },
         {
          "tau_DL04": 12000000,
          "value": 0.3521825181113625,
          "variable": "tau_T3"
         },
         {
          "tau_DL04": 20000,
          "value": 2,
          "variable": "tau_T3"
         },
         {
          "tau_DL04": 5100000,
          "value": -0.026328938722349152,
          "variable": "tau_T3"
         },
         {
          "tau_DL04": 970000,
          "value": 1.8644866144528305,
          "variable": "tau_T3"
         },
         {
          "tau_DL04": 35000000,
          "value": 0.02413367971671937,
          "variable": "tau_T3"
         },
         {
          "tau_DL04": 13000000,
          "value": 0.16481024864599217,
          "variable": "tau_T3"
         },
         {
          "tau_DL04": 2800000,
          "value": -0.24303804868629447,
          "variable": "tau_T3"
         },
         {
          "tau_DL04": 13000000,
          "value": -0.03476210625921192,
          "variable": "tau_T3"
         },
         {
          "tau_DL04": 14000000,
          "value": 0.21559980033935483,
          "variable": "tau_T3"
         },
         {
          "tau_DL04": 70000,
          "value": 2.4559319556497243,
          "variable": "tau_T3"
         },
         {
          "tau_DL04": 7600000,
          "value": 0.2331297600260454,
          "variable": "tau_T3"
         },
         {
          "tau_DL04": 85000,
          "value": 1.3493346752385362,
          "variable": "tau_T3"
         },
         {
          "tau_DL04": 170000,
          "value": 1.131278914639319,
          "variable": "tau_T3"
         },
         {
          "tau_DL04": 4500000,
          "value": 0.7269987279362623,
          "variable": "tau_T3"
         },
         {
          "tau_DL04": 6300000,
          "value": 0.02020338608828699,
          "variable": "tau_T3"
         },
         {
          "tau_DL04": 13000000,
          "value": -0.5118833609788743,
          "variable": "tau_T3"
         },
         {
          "tau_DL04": 20000000,
          "value": 0,
          "variable": "tau_T3"
         },
         {
          "tau_DL04": 20000000,
          "value": 0.2787536009528289,
          "variable": "tau_T3"
         },
         {
          "tau_DL04": 13000000,
          "value": 0.5195251032727497,
          "variable": "tau_T3"
         },
         {
          "tau_DL04": 7600000,
          "value": 0.053684858962776354,
          "variable": "tau_T3"
         },
         {
          "tau_DL04": 22000000,
          "value": -1.4616090885414148,
          "variable": "tau_T3"
         },
         {
          "tau_DL04": 5600000,
          "value": -0.6342446746993636,
          "variable": "tau_T3"
         },
         {
          "tau_DL04": 41000000,
          "value": -0.35751135161642944,
          "variable": "tau_T3"
         },
         {
          "tau_DL04": 19000000,
          "value": 0.136219747017989,
          "variable": "tau_T3"
         },
         {
          "tau_DL04": 14000000,
          "value": -0.6276140958003505,
          "variable": "tau_T3"
         },
         {
          "tau_DL04": 21000000,
          "value": 0.05799194697768673,
          "variable": "tau_T3"
         },
         {
          "tau_DL04": 13000000,
          "value": 0.16481024864599217,
          "variable": "tau_T3"
         },
         {
          "tau_DL04": 4700000,
          "value": -0.32967517711351124,
          "variable": "tau_T3"
         },
         {
          "tau_DL04": 13000000,
          "value": -0.13167211926726835,
          "variable": "tau_T3"
         },
         {
          "tau_DL04": 6200000,
          "value": -0.014240439114610228,
          "variable": "tau_T3"
         },
         {
          "tau_DL04": 4400000,
          "value": 0.02864518144953001,
          "variable": "tau_T3"
         },
         {
          "tau_DL04": 1600000,
          "value": 0.5812098523548422,
          "variable": "tau_T3"
         },
         {
          "tau_DL04": 8900000,
          "value": 0.4123378293726801,
          "variable": "tau_T3"
         },
         {
          "tau_DL04": 1900000,
          "value": 0.49939764943081466,
          "variable": "tau_T3"
         },
         {
          "tau_DL04": 18000000,
          "value": -0.17609125905568127,
          "variable": "tau_T3"
         },
         {
          "tau_DL04": 12000000,
          "value": 0.7403626894942439,
          "variable": "tau_T3"
         },
         {
          "tau_DL04": 4000000,
          "value": 0.12221587827282664,
          "variable": "tau_T3"
         },
         {
          "tau_DL04": 980000,
          "value": 1.2875275252603342,
          "variable": "tau_T3"
         },
         {
          "tau_DL04": 6100000,
          "value": -0.8168468864568319,
          "variable": "tau_T3"
         },
         {
          "tau_DL04": 14000000,
          "value": 0.6600519383056491,
          "variable": "tau_T3"
         },
         {
          "tau_DL04": 9500000,
          "value": -0.34425514970926124,
          "variable": "tau_T3"
         },
         {
          "tau_DL04": 9200000,
          "value": 0.5925146734217319,
          "variable": "tau_T3"
         },
         {
          "tau_DL04": 3900000,
          "value": 0.27816711270447697,
          "variable": "tau_T3"
         },
         {
          "tau_DL04": 4700000,
          "value": -0.27415784926367986,
          "variable": "tau_T3"
         },
         {
          "tau_DL04": 1000000,
          "value": 1.6989700043360187,
          "variable": "tau_T3"
         },
         {
          "tau_DL04": 5700000,
          "value": 0.39025318000574666,
          "variable": "tau_T3"
         },
         {
          "tau_DL04": 5700000,
          "value": -0.2507248773525854,
          "variable": "tau_T3"
         },
         {
          "tau_DL04": 6000000,
          "value": -0.7367585652254186,
          "variable": "tau_T3"
         },
         {
          "tau_DL04": 4100000,
          "value": 0.8343741746224838,
          "variable": "tau_T3"
         },
         {
          "tau_DL04": 9200000,
          "value": 0.3372421683184259,
          "variable": "tau_T3"
         },
         {
          "tau_DL04": 62000,
          "value": 2.43805723188002,
          "variable": "tau_T3"
         },
         {
          "tau_DL04": 1300000,
          "value": 0.685397197146745,
          "variable": "tau_T3"
         },
         {
          "tau_DL04": 9100000,
          "value": -0.5973135563035008,
          "variable": "tau_T3"
         },
         {
          "tau_DL04": 14000000,
          "value": -0.2016453635280694,
          "variable": "tau_T3"
         },
         {
          "tau_DL04": 20000000,
          "value": 0.5740312677277188,
          "variable": "tau_T3"
         },
         {
          "tau_DL04": 30000000,
          "value": 0.054357662322592676,
          "variable": "tau_T3"
         },
         {
          "tau_DL04": 7400000,
          "value": 0.40952188122185273,
          "variable": "tau_T3"
         },
         {
          "tau_DL04": 20000000,
          "value": 0.36172783601759284,
          "variable": "tau_T3"
         },
         {
          "tau_DL04": 5700000,
          "value": -0.15381486434452904,
          "variable": "tau_T3"
         },
         {
          "tau_DL04": 20000000,
          "value": 0.2787536009528289,
          "variable": "tau_T3"
         },
         {
          "tau_DL04": 1900000,
          "value": 0.951695320425445,
          "variable": "tau_T3"
         },
         {
          "tau_DL04": 4200000,
          "value": 0.978810700930062,
          "variable": "tau_T3"
         },
         {
          "tau_DL04": 14000000,
          "value": 0.47712125471966244,
          "variable": "tau_T3"
         },
         {
          "tau_DL04": 33000,
          "value": 1.7825160557860937,
          "variable": "tau_T3"
         },
         {
          "tau_DL04": 12000000,
          "value": 0.09691001300805642,
          "variable": "tau_T3"
         },
         {
          "tau_DL04": 110000,
          "value": 2.0377885608893997,
          "variable": "tau_T3"
         },
         {
          "tau_DL04": 8800000,
          "value": 0.09691001300805642,
          "variable": "tau_T3"
         },
         {
          "tau_DL04": 9400000,
          "value": 0.6603406019798879,
          "variable": "tau_T3"
         },
         {
          "tau_DL04": 3200000,
          "value": 0.32092482438092046,
          "variable": "tau_T3"
         },
         {
          "tau_DL04": 2800000,
          "value": -0.03218468337140124,
          "variable": "tau_T3"
         },
         {
          "tau_DL04": 810000,
          "value": 0.23764301679958827,
          "variable": "tau_T3"
         },
         {
          "tau_DL04": 1700000,
          "value": 0.45974715865023974,
          "variable": "tau_T3"
         },
         {
          "tau_DL04": 7600000,
          "value": 0.6105481015534813,
          "variable": "tau_T3"
         },
         {
          "tau_DL04": 6000000,
          "value": 0.6989700043360189,
          "variable": "tau_T3"
         },
         {
          "tau_DL04": 6600000,
          "value": 0.8432138961397054,
          "variable": "tau_T3"
         },
         {
          "tau_DL04": 6500000,
          "value": -0.3215516628085829,
          "variable": "tau_T3"
         },
         {
          "tau_DL04": 9100000,
          "value": 0.6091603317459013,
          "variable": "tau_T3"
         },
         {
          "tau_DL04": 12000000,
          "value": 0.03476210625921191,
          "variable": "tau_T3"
         },
         {
          "tau_DL04": 2500000,
          "value": -0.11918640771920865,
          "variable": "tau_T3"
         },
         {
          "tau_DL04": 15000000,
          "value": -0.3979400086720376,
          "variable": "tau_T3"
         },
         {
          "tau_DL04": 8700000,
          "value": 0.7680509234793178,
          "variable": "tau_T3"
         },
         {
          "tau_DL04": 4500000,
          "value": 0.146128035678238,
          "variable": "tau_T3"
         },
         {
          "tau_DL04": 100000,
          "value": 1.6127838567197355,
          "variable": "tau_T3"
         },
         {
          "tau_DL04": 33000000,
          "value": 0.3952999125058292,
          "variable": "tau_T3"
         },
         {
          "tau_DL04": 2800000,
          "value": 0,
          "variable": "tau_T3"
         },
         {
          "tau_DL04": 7700000,
          "value": 0.39226287578034713,
          "variable": "tau_T3"
         },
         {
          "tau_DL04": 2300000,
          "value": 0.8143634230380883,
          "variable": "tau_T3"
         },
         {
          "tau_DL04": 10000000,
          "value": 0.8633228601204559,
          "variable": "tau_T3"
         },
         {
          "tau_DL04": 970000,
          "value": -0.1355133855471696,
          "variable": "tau_T3"
         },
         {
          "tau_DL04": 11000000,
          "value": -0.07290973660428993,
          "variable": "tau_T3"
         },
         {
          "tau_DL04": 6300000,
          "value": 0.8727573084821358,
          "variable": "tau_T3"
         },
         {
          "tau_DL04": 3800000,
          "value": -0.8985423592412229,
          "variable": "tau_T3"
         },
         {
          "tau_DL04": 9500000,
          "value": 0.2775488998144583,
          "variable": "tau_T3"
         },
         {
          "tau_DL04": 30000000,
          "value": 0.3424226808222063,
          "variable": "tau_T3"
         },
         {
          "tau_DL04": 170000,
          "value": 2.2609127724559985,
          "variable": "tau_T3"
         },
         {
          "tau_DL04": 3800000,
          "value": 0.4114424790756847,
          "variable": "tau_T3"
         },
         {
          "tau_DL04": 11000000,
          "value": 0.23736091579460392,
          "variable": "tau_T3"
         },
         {
          "tau_DL04": 1300000,
          "value": 1.4658402443099734,
          "variable": "tau_T3"
         },
         {
          "tau_DL04": 5900000,
          "value": 0.7062692430775183,
          "variable": "tau_T3"
         },
         {
          "tau_DL04": 4200000,
          "value": 0.13262556527459096,
          "variable": "tau_T3"
         },
         {
          "tau_DL04": 1200000,
          "value": 0.5740312677277188,
          "variable": "tau_T3"
         },
         {
          "tau_DL04": 17000000,
          "value": 0.1674910872937637,
          "variable": "tau_T3"
         },
         {
          "tau_DL04": 180000,
          "value": 1.9751764162749679,
          "variable": "tau_T3"
         },
         {
          "tau_DL04": 9100000,
          "value": 0.585026652029182,
          "variable": "tau_T3"
         },
         {
          "tau_DL04": 63000,
          "value": 2.404779433202343,
          "variable": "tau_T3"
         },
         {
          "tau_DL04": 17000000,
          "value": -1,
          "variable": "tau_T3"
         },
         {
          "tau_DL04": 31000000,
          "value": -0.5371191843949478,
          "variable": "tau_T3"
         },
         {
          "tau_DL04": 2900000,
          "value": 0.10580372616803894,
          "variable": "tau_T3"
         },
         {
          "tau_DL04": 2900000,
          "value": 0.9525753500718619,
          "variable": "tau_T3"
         },
         {
          "tau_DL04": 8500000,
          "value": 0.7040495298652938,
          "variable": "tau_T3"
         },
         {
          "tau_DL04": 3600000,
          "value": 0.03476210625921191,
          "variable": "tau_T3"
         },
         {
          "tau_DL04": 1000000,
          "value": 0.3222192947339193,
          "variable": "tau_T3"
         },
         {
          "tau_DL04": 9100000,
          "value": 0.15490195998574316,
          "variable": "tau_T3"
         },
         {
          "tau_DL04": 9100000,
          "value": 0.6207422042957166,
          "variable": "tau_T3"
         },
         {
          "tau_DL04": 3200000,
          "value": 0.36991128507179405,
          "variable": "tau_T3"
         },
         {
          "tau_DL04": 2000000,
          "value": 0,
          "variable": "tau_T3"
         },
         {
          "tau_DL04": 13000000,
          "value": 0.2082759424270825,
          "variable": "tau_T3"
         },
         {
          "tau_DL04": 4400000,
          "value": 0.5326385825694938,
          "variable": "tau_T3"
         },
         {
          "tau_DL04": 16000000,
          "value": 0.4490925311194189,
          "variable": "tau_T3"
         },
         {
          "tau_DL04": 8300000,
          "value": 0.6607055042407363,
          "variable": "tau_T3"
         },
         {
          "tau_DL04": 40000000,
          "value": -0.12493873660829993,
          "variable": "tau_T3"
         },
         {
          "tau_DL04": 13000000,
          "value": 0.032184683371401235,
          "variable": "tau_T3"
         },
         {
          "tau_DL04": 670000,
          "value": 1.0824102161778233,
          "variable": "tau_T3"
         },
         {
          "tau_DL04": 16000000,
          "value": 0.3640817414110702,
          "variable": "tau_T3"
         },
         {
          "tau_DL04": 1300000,
          "value": -0.3430913406646926,
          "variable": "tau_T3"
         },
         {
          "tau_DL04": 620000,
          "value": 1.3836995695574275,
          "variable": "tau_T3"
         },
         {
          "tau_DL04": 22000000,
          "value": -0.6348525047242699,
          "variable": "tau_T3"
         },
         {
          "tau_DL04": 9600000,
          "value": 0.4648867983026508,
          "variable": "tau_T3"
         },
         {
          "tau_DL04": 12000000,
          "value": 0.2632414347745814,
          "variable": "tau_T3"
         },
         {
          "tau_DL04": 330000,
          "value": 1.8037053548560318,
          "variable": "tau_T3"
         },
         {
          "tau_DL04": 15000000,
          "value": 0.054357662322592676,
          "variable": "tau_T3"
         },
         {
          "tau_DL04": 6700000,
          "value": 0.2878685496060103,
          "variable": "tau_T3"
         },
         {
          "tau_DL04": 310000,
          "value": 1.7873919071185562,
          "variable": "tau_T3"
         },
         {
          "tau_DL04": 2000000,
          "value": 0.6857417386022636,
          "variable": "tau_T3"
         },
         {
          "tau_DL04": 1600000,
          "value": 1.2272437815030626,
          "variable": "tau_T3"
         },
         {
          "tau_DL04": 9200000,
          "value": 0.26666109403271865,
          "variable": "tau_T3"
         },
         {
          "tau_DL04": 30000000,
          "value": 0.3010299956639812,
          "variable": "tau_T3"
         },
         {
          "tau_DL04": 6600000,
          "value": 0.5421839004757242,
          "variable": "tau_T3"
         },
         {
          "tau_DL04": 12000000,
          "value": 0.03476210625921191,
          "variable": "tau_T3"
         },
         {
          "tau_DL04": 6800000,
          "value": 0.5654310959658013,
          "variable": "tau_T3"
         },
         {
          "tau_DL04": 15000000,
          "value": -0.062147906748844454,
          "variable": "tau_T3"
         },
         {
          "tau_DL04": 510000,
          "value": 2.0327925133963074,
          "variable": "tau_T3"
         },
         {
          "tau_DL04": 10000000,
          "value": 0.9867717342662448,
          "variable": "tau_T3"
         },
         {
          "tau_DL04": 18000000,
          "value": 0.5081554884596312,
          "variable": "tau_T3"
         },
         {
          "tau_DL04": 9500000,
          "value": -0.03820435267022926,
          "variable": "tau_T3"
         },
         {
          "tau_DL04": 14000000,
          "value": 0.1962946451439682,
          "variable": "tau_T3"
         },
         {
          "tau_DL04": 500000,
          "value": 0.8325089127062363,
          "variable": "tau_T3"
         },
         {
          "tau_DL04": 25000000,
          "value": -1.1674910872937636,
          "variable": "tau_T3"
         },
         {
          "tau_DL04": 740000,
          "value": 0.8297382846050426,
          "variable": "tau_T3"
         },
         {
          "tau_DL04": 34000,
          "value": 2.8302489189753377,
          "variable": "tau_T3"
         },
         {
          "tau_DL04": 3900000,
          "value": 0.4503280781317258,
          "variable": "tau_T3"
         },
         {
          "tau_DL04": 1700000,
          "value": 0.20091484278071337,
          "variable": "tau_T3"
         },
         {
          "tau_DL04": 890000,
          "value": 1.8064848490275787,
          "variable": "tau_T3"
         },
         {
          "tau_DL04": 21000000,
          "value": 0.03950854128367365,
          "variable": "tau_T3"
         },
         {
          "tau_DL04": 7200000,
          "value": 0.05115252244738129,
          "variable": "tau_T3"
         },
         {
          "tau_DL04": 91000,
          "value": 0.8922169563979816,
          "variable": "tau_T3"
         },
         {
          "tau_DL04": 28000000,
          "value": -0.06694678963061322,
          "variable": "tau_T3"
         },
         {
          "tau_DL04": 5800000,
          "value": 0.5153256073898916,
          "variable": "tau_T3"
         },
         {
          "tau_DL04": 5800000,
          "value": 0.7680509234793178,
          "variable": "tau_T3"
         },
         {
          "tau_DL04": 5100000,
          "value": 0.46852108295774486,
          "variable": "tau_T3"
         },
         {
          "tau_DL04": 15000000,
          "value": 0.028028723600243534,
          "variable": "tau_T3"
         },
         {
          "tau_DL04": 34000000,
          "value": 0.04830467957455504,
          "variable": "tau_T3"
         },
         {
          "tau_DL04": 65000,
          "value": 2.4175355647354184,
          "variable": "tau_T3"
         },
         {
          "tau_DL04": 9300000,
          "value": 0.6225816584725641,
          "variable": "tau_T3"
         },
         {
          "tau_DL04": 55000,
          "value": 2.8616973018337184,
          "variable": "tau_T3"
         },
         {
          "tau_DL04": 22000000,
          "value": -0.6892101670468626,
          "variable": "tau_T3"
         },
         {
          "tau_DL04": 6200000,
          "value": 0.5500309913239524,
          "variable": "tau_T3"
         },
         {
          "tau_DL04": 1300000,
          "value": 0.3912066260130692,
          "variable": "tau_T3"
         },
         {
          "tau_DL04": 7300000,
          "value": 0.023167865052025966,
          "variable": "tau_T3"
         },
         {
          "tau_DL04": 5500000,
          "value": -1.6989700043360187,
          "variable": "tau_T3"
         },
         {
          "tau_DL04": 2700000,
          "value": 0.27620641193894907,
          "variable": "tau_T3"
         },
         {
          "tau_DL04": 36000000,
          "value": 0.04575749056067514,
          "variable": "tau_T3"
         },
         {
          "tau_DL04": 9500000,
          "value": 0.3010299956639812,
          "variable": "tau_T3"
         },
         {
          "tau_DL04": 15000000,
          "value": 0.6627578316815741,
          "variable": "tau_T3"
         },
         {
          "tau_DL04": 4000000,
          "value": 0.31175386105575426,
          "variable": "tau_T3"
         },
         {
          "tau_DL04": 5000000,
          "value": 0.7481880270062005,
          "variable": "tau_T3"
         },
         {
          "tau_DL04": 5700000,
          "value": 0.0636690798693773,
          "variable": "tau_T3"
         },
         {
          "tau_DL04": 8300000,
          "value": 0.7530197655596436,
          "variable": "tau_T3"
         },
         {
          "tau_DL04": 1600000,
          "value": 0,
          "variable": "tau_T3"
         },
         {
          "tau_DL04": 3800000,
          "value": 1.1526101632061585,
          "variable": "tau_T3"
         },
         {
          "tau_DL04": 4000000,
          "value": -0.010995384301463193,
          "variable": "tau_T3"
         },
         {
          "tau_DL04": 13000000,
          "value": 0.18708664335714445,
          "variable": "tau_T3"
         },
         {
          "tau_DL04": 190000,
          "value": 1.0434656937810902,
          "variable": "tau_T3"
         },
         {
          "tau_DL04": 17000000,
          "value": 0.6387827983527022,
          "variable": "tau_T3"
         },
         {
          "tau_DL04": 1800000,
          "value": 0.0871501757189002,
          "variable": "tau_T3"
         },
         {
          "tau_DL04": 13000000,
          "value": 0.062147906748844434,
          "variable": "tau_T3"
         },
         {
          "tau_DL04": 8600000,
          "value": 0.10689423391465734,
          "variable": "tau_T3"
         },
         {
          "tau_DL04": 5600000,
          "value": 0.5740312677277188,
          "variable": "tau_T3"
         },
         {
          "tau_DL04": 14000000,
          "value": 0.5351132016973491,
          "variable": "tau_T3"
         },
         {
          "tau_DL04": 6400000,
          "value": 0.36991128507179405,
          "variable": "tau_T3"
         },
         {
          "tau_DL04": 54000,
          "value": 2.890855530574932,
          "variable": "tau_T3"
         },
         {
          "tau_DL04": 7500000,
          "value": 0,
          "variable": "tau_T3"
         },
         {
          "tau_DL04": 2400000,
          "value": 0.661181443446619,
          "variable": "tau_T3"
         },
         {
          "tau_DL04": 14000000,
          "value": 0.029963223377443202,
          "variable": "tau_T3"
         },
         {
          "tau_DL04": 9600000,
          "value": 0.630512623680167,
          "variable": "tau_T3"
         },
         {
          "tau_DL04": 8900000,
          "value": -0.3696064100281026,
          "variable": "tau_T3"
         },
         {
          "tau_DL04": 19000000,
          "value": 0.10145764075877703,
          "variable": "tau_T3"
         },
         {
          "tau_DL04": 4200000,
          "value": 0.03950854128367365,
          "variable": "tau_T3"
         },
         {
          "tau_DL04": 14000000,
          "value": 0.3010299956639812,
          "variable": "tau_T3"
         },
         {
          "tau_DL04": 8400000,
          "value": 0.2518119729937996,
          "variable": "tau_T3"
         },
         {
          "tau_DL04": 14000000,
          "value": 0.13262556527459096,
          "variable": "tau_T3"
         },
         {
          "tau_DL04": 4100000,
          "value": 1.0947863193782008,
          "variable": "tau_T3"
         },
         {
          "tau_DL04": 94000,
          "value": 0.8593810591065376,
          "variable": "tau_T3"
         },
         {
          "tau_DL04": 12000000,
          "value": 0,
          "variable": "tau_T3"
         },
         {
          "tau_DL04": 3000000,
          "value": 0.8450980400142568,
          "variable": "tau_T3"
         },
         {
          "tau_DL04": 9700000,
          "value": 0.15935630141199317,
          "variable": "tau_T3"
         },
         {
          "tau_DL04": 14000000,
          "value": 0.3979400086720376,
          "variable": "tau_T3"
         },
         {
          "tau_DL04": 20000000,
          "value": 0.5185139398778874,
          "variable": "tau_T3"
         },
         {
          "tau_DL04": 160000,
          "value": 1.3869446243705745,
          "variable": "tau_T3"
         },
         {
          "tau_DL04": 20000000,
          "value": 0.6946051989335688,
          "variable": "tau_T3"
         },
         {
          "tau_DL04": 4700000,
          "value": -0.2407340937767301,
          "variable": "tau_T3"
         },
         {
          "tau_DL04": 280000,
          "value": 0.895264649479987,
          "variable": "tau_T3"
         },
         {
          "tau_DL04": 6300000,
          "value": 0.4794130514992473,
          "variable": "tau_T3"
         },
         {
          "tau_DL04": 8300000,
          "value": -0.061745595944805436,
          "variable": "tau_T3"
         },
         {
          "tau_DL04": 4800000,
          "value": 0.5492076840026867,
          "variable": "tau_T3"
         },
         {
          "tau_DL04": 83000,
          "value": 2.7711179876524397,
          "variable": "tau_T3"
         },
         {
          "tau_DL04": 8900000,
          "value": 1.0920026785133123,
          "variable": "tau_T3"
         },
         {
          "tau_DL04": 2300000,
          "value": 0.08543019532462637,
          "variable": "tau_T3"
         },
         {
          "tau_DL04": 980000,
          "value": 0.9819017779072038,
          "variable": "tau_T3"
         },
         {
          "tau_DL04": 9800000,
          "value": 0.2875275252603341,
          "variable": "tau_T3"
         },
         {
          "tau_DL04": 8700000,
          "value": -0.041892161328177094,
          "variable": "tau_T3"
         },
         {
          "tau_DL04": 18000000,
          "value": 0.4349235749252076,
          "variable": "tau_T3"
         },
         {
          "tau_DL04": 2100000,
          "value": 0.2905645619858162,
          "variable": "tau_T3"
         },
         {
          "tau_DL04": 4500000,
          "value": 0.6478174818886375,
          "variable": "tau_T3"
         },
         {
          "tau_DL04": 120000,
          "value": 2.1760912590556813,
          "variable": "tau_T3"
         },
         {
          "tau_DL04": 6300000,
          "value": 0.43110837192469226,
          "variable": "tau_T3"
         },
         {
          "tau_DL04": 15000000,
          "value": -2.193820026016113,
          "variable": "tau_T3"
         },
         {
          "tau_DL04": 9100000,
          "value": 0.15490195998574316,
          "variable": "tau_T3"
         },
         {
          "tau_DL04": 2600000,
          "value": 0.09017663034908803,
          "variable": "tau_T3"
         },
         {
          "tau_DL04": 15000000,
          "value": 0.20411998265592482,
          "variable": "tau_T3"
         },
         {
          "tau_DL04": 14000000,
          "value": 0.45593195564972433,
          "variable": "tau_T3"
         },
         {
          "tau_DL04": 12000000,
          "value": 0.6368220975871743,
          "variable": "tau_T3"
         },
         {
          "tau_DL04": 3800000,
          "value": 0.02227639471115221,
          "variable": "tau_T3"
         },
         {
          "tau_DL04": 18000,
          "value": 2.530057329907461,
          "variable": "tau_T3"
         },
         {
          "tau_DL04": 170000,
          "value": 1.7472746839105737,
          "variable": "tau_T3"
         },
         {
          "tau_DL04": 1300000,
          "value": 0.032184683371401235,
          "variable": "tau_T3"
         },
         {
          "tau_DL04": 12000000,
          "value": 0.6989700043360189,
          "variable": "tau_T3"
         },
         {
          "tau_DL04": 750000,
          "value": 1.467361417430506,
          "variable": "tau_T3"
         },
         {
          "tau_DL04": 8500000,
          "value": 0.184524426592544,
          "variable": "tau_T3"
         },
         {
          "tau_DL04": 9200000,
          "value": 0.2403321553103695,
          "variable": "tau_T3"
         },
         {
          "tau_DL04": 12000000,
          "value": -1.7781512503836436,
          "variable": "tau_T3"
         },
         {
          "tau_DL04": 7500000,
          "value": 0.0057523288890913415,
          "variable": "tau_T3"
         },
         {
          "tau_DL04": 14000000,
          "value": 0.6172999578846993,
          "variable": "tau_T3"
         },
         {
          "tau_DL04": 9000000,
          "value": 0.6690067809585756,
          "variable": "tau_T3"
         },
         {
          "tau_DL04": 15000000,
          "value": 0.5314789170422551,
          "variable": "tau_T3"
         },
         {
          "tau_DL04": 5300000,
          "value": 0.22511413704412372,
          "variable": "tau_T3"
         },
         {
          "tau_DL04": 6600000,
          "value": 0.8964594080929305,
          "variable": "tau_T3"
         },
         {
          "tau_DL04": 1100000,
          "value": 0.6307051727774924,
          "variable": "tau_T3"
         },
         {
          "tau_DL04": 3300000,
          "value": 1.094269916841848,
          "variable": "tau_T3"
         },
         {
          "tau_DL04": 240000,
          "value": 0.5174158495788354,
          "variable": "tau_T3"
         },
         {
          "tau_DL04": 8300000,
          "value": 0.7436797393055001,
          "variable": "tau_T3"
         },
         {
          "tau_DL04": 12000000,
          "value": 0.8553172051959429,
          "variable": "tau_T3"
         },
         {
          "tau_DL04": 45000,
          "value": 2.276206411938949,
          "variable": "tau_T3"
         },
         {
          "tau_DL04": 2400000,
          "value": 0,
          "variable": "tau_T3"
         },
         {
          "tau_DL04": 9200000,
          "value": 0.7522155162892439,
          "variable": "tau_T3"
         },
         {
          "tau_DL04": 7500000,
          "value": 0.3553876579865739,
          "variable": "tau_T3"
         },
         {
          "tau_DL04": 53000,
          "value": 0.2152433830178295,
          "variable": "tau_T3"
         },
         {
          "tau_DL04": 2400000,
          "value": 1.2430380486862944,
          "variable": "tau_T3"
         },
         {
          "tau_DL04": 18000000,
          "value": 0.5081554884596312,
          "variable": "tau_T3"
         },
         {
          "tau_DL04": 4300000,
          "value": 0.7815048923912314,
          "variable": "tau_T3"
         },
         {
          "tau_DL04": 7100000,
          "value": 0.8389377313094384,
          "variable": "tau_T3"
         },
         {
          "tau_DL04": 94000,
          "value": 1.6896299780818753,
          "variable": "tau_T3"
         },
         {
          "tau_DL04": 3900000,
          "value": 0.010995384301463145,
          "variable": "tau_T3"
         },
         {
          "tau_DL04": 9700000,
          "value": 0.12717161804059188,
          "variable": "tau_T3"
         },
         {
          "tau_DL04": 9000000,
          "value": 0.15970084286751188,
          "variable": "tau_T3"
         },
         {
          "tau_DL04": 8200000,
          "value": 0.8715159826270504,
          "variable": "tau_T3"
         },
         {
          "tau_DL04": 83000000,
          "value": -1.932306358109829,
          "variable": "tau_T3"
         },
         {
          "tau_DL04": 8300000,
          "value": 0.6607055042407363,
          "variable": "tau_T3"
         },
         {
          "tau_DL04": 18000000,
          "value": 0.023481095849522904,
          "variable": "tau_T3"
         },
         {
          "tau_DL04": 7000000,
          "value": 0.8176597916673172,
          "variable": "tau_T3"
         },
         {
          "tau_DL04": 38000000,
          "value": 0.3744589128225147,
          "variable": "tau_T3"
         },
         {
          "tau_DL04": 96000,
          "value": 1.9908566205601304,
          "variable": "tau_T3"
         },
         {
          "tau_DL04": 19000000,
          "value": 0,
          "variable": "tau_T3"
         },
         {
          "tau_DL04": 5800000,
          "value": 0.021901841447829747,
          "variable": "tau_T3"
         },
         {
          "tau_DL04": 6300000,
          "value": -0.8355527221080264,
          "variable": "tau_T3"
         },
         {
          "tau_DL04": 5300000,
          "value": 0.25344773568805873,
          "variable": "tau_T3"
         },
         {
          "tau_DL04": 9200000,
          "value": 0.03621217265444471,
          "variable": "tau_T3"
         },
         {
          "tau_DL04": 12000000,
          "value": 0.1995723549052041,
          "variable": "tau_T3"
         },
         {
          "tau_DL04": 9200000,
          "value": 0.6159957692712549,
          "variable": "tau_T3"
         },
         {
          "tau_DL04": 12000000,
          "value": -0.4771212547196625,
          "variable": "tau_T3"
         },
         {
          "tau_DL04": 150000,
          "value": 2.1249387366083,
          "variable": "tau_T3"
         },
         {
          "tau_DL04": 3900000,
          "value": 0.3434338442170686,
          "variable": "tau_T3"
         },
         {
          "tau_DL04": 8900000,
          "value": 0.28105891473336114,
          "variable": "tau_T3"
         },
         {
          "tau_DL04": 9100000,
          "value": 0.08235129283713141,
          "variable": "tau_T3"
         },
         {
          "tau_DL04": 3700000,
          "value": 1.0652667315125914,
          "variable": "tau_T3"
         },
         {
          "tau_DL04": 10000000,
          "value": 0,
          "variable": "tau_T3"
         },
         {
          "tau_DL04": 8900000,
          "value": 0.12979123940271203,
          "variable": "tau_T3"
         },
         {
          "tau_DL04": 17000000,
          "value": 0.21670910996394527,
          "variable": "tau_T3"
         },
         {
          "tau_DL04": 5600000,
          "value": 0,
          "variable": "tau_T3"
         },
         {
          "tau_DL04": 8300000,
          "value": 0.7969252512587253,
          "variable": "tau_T3"
         },
         {
          "tau_DL04": 18000000,
          "value": 0.22184874961635637,
          "variable": "tau_T3"
         },
         {
          "tau_DL04": 13000000,
          "value": -0.4063731762089004,
          "variable": "tau_T3"
         },
         {
          "tau_DL04": 990000,
          "value": 0.4957264992367228,
          "variable": "tau_T3"
         },
         {
          "tau_DL04": 14000000,
          "value": -0.146128035678238,
          "variable": "tau_T3"
         },
         {
          "tau_DL04": 99000,
          "value": 2.150492841080688,
          "variable": "tau_T3"
         },
         {
          "tau_DL04": 12000000,
          "value": 0.1512676753306491,
          "variable": "tau_T3"
         },
         {
          "tau_DL04": 7700000,
          "value": -0.7103994661168006,
          "variable": "tau_T3"
         },
         {
          "tau_DL04": 20000000,
          "value": -0.12493873660829993,
          "variable": "tau_T3"
         },
         {
          "tau_DL04": 3100000,
          "value": 0.4676796984868209,
          "variable": "tau_T3"
         },
         {
          "tau_DL04": 990000,
          "value": 0.6171486621221856,
          "variable": "tau_T3"
         },
         {
          "tau_DL04": 3200000,
          "value": 0.5740312677277188,
          "variable": "tau_T3"
         },
         {
          "tau_DL04": 640000,
          "value": 0,
          "variable": "tau_T3"
         },
         {
          "tau_DL04": 5900000,
          "value": 0.02848853781143753,
          "variable": "tau_T3"
         },
         {
          "tau_DL04": 5800000,
          "value": -0.17236338653643807,
          "variable": "tau_T3"
         },
         {
          "tau_DL04": 31000,
          "value": 0.8703661421833202,
          "variable": "tau_T3"
         },
         {
          "tau_DL04": 6300000,
          "value": 1.0068394245303054,
          "variable": "tau_T3"
         },
         {
          "tau_DL04": 4900000,
          "value": 0.6320232147054056,
          "variable": "tau_T3"
         },
         {
          "tau_DL04": 8900000,
          "value": 0.5277312480747496,
          "variable": "tau_T3"
         },
         {
          "tau_DL04": 16000000,
          "value": -0.02802872360024354,
          "variable": "tau_T3"
         },
         {
          "tau_DL04": 12000000,
          "value": 0.7337321105952308,
          "variable": "tau_T3"
         },
         {
          "tau_DL04": 17000000,
          "value": 0.2609127724559987,
          "variable": "tau_T3"
         },
         {
          "tau_DL04": 34000000,
          "value": -0.6506653247614638,
          "variable": "tau_T3"
         },
         {
          "tau_DL04": 9900000,
          "value": 0.4814860601221125,
          "variable": "tau_T3"
         },
         {
          "tau_DL04": 1000000,
          "value": 1.3010299956639813,
          "variable": "tau_T3"
         },
         {
          "tau_DL04": 9900000,
          "value": 0.40230481407448765,
          "variable": "tau_T3"
         },
         {
          "tau_DL04": 14000000,
          "value": 0.10914446942506809,
          "variable": "tau_T3"
         },
         {
          "tau_DL04": 16000000,
          "value": -0.4965498065579884,
          "variable": "tau_T3"
         },
         {
          "tau_DL04": 63000,
          "value": 2.154901959985743,
          "variable": "tau_T3"
         },
         {
          "tau_DL04": 18000000,
          "value": 0.15970084286751188,
          "variable": "tau_T3"
         },
         {
          "tau_DL04": 48000000,
          "value": -0.4507923159973133,
          "variable": "tau_T3"
         },
         {
          "tau_DL04": 9200000,
          "value": 0.6594614630523452,
          "variable": "tau_T3"
         },
         {
          "tau_DL04": 1300000,
          "value": 1.3174204118521506,
          "variable": "tau_T3"
         },
         {
          "tau_DL04": 3700000,
          "value": 0.2951211360534609,
          "variable": "tau_T3"
         },
         {
          "tau_DL04": 1500000,
          "value": 1.2388820889151366,
          "variable": "tau_T3"
         },
         {
          "tau_DL04": 12000000,
          "value": 0.12493873660829992,
          "variable": "tau_T3"
         },
         {
          "tau_DL04": 24000000,
          "value": 0.21085336531489318,
          "variable": "tau_T3"
         },
         {
          "tau_DL04": 8400000,
          "value": -1.271066772286538,
          "variable": "tau_T3"
         },
         {
          "tau_DL04": 7000000,
          "value": 0.08940041122931092,
          "variable": "tau_T3"
         },
         {
          "tau_DL04": 9500000,
          "value": 0.34449568944507153,
          "variable": "tau_T3"
         },
         {
          "tau_DL04": 1300000,
          "value": 0.09017663034908803,
          "variable": "tau_T3"
         },
         {
          "tau_DL04": 6900000,
          "value": -0.5378190950732742,
          "variable": "tau_T3"
         },
         {
          "tau_DL04": 9200000,
          "value": 0.6272767796809439,
          "variable": "tau_T3"
         },
         {
          "tau_DL04": 170000,
          "value": 1.7695510786217261,
          "variable": "tau_T3"
         },
         {
          "tau_DL04": 11000000,
          "value": 0.8562344061322164,
          "variable": "tau_T3"
         },
         {
          "tau_DL04": 12000000,
          "value": 0.31875876262441283,
          "variable": "tau_T3"
         },
         {
          "tau_DL04": 5700000,
          "value": -0.37566361396088543,
          "variable": "tau_T3"
         },
         {
          "tau_DL04": 7800000,
          "value": 0.07169322465507488,
          "variable": "tau_T3"
         },
         {
          "tau_DL04": 5800000,
          "value": 0.19561339875815628,
          "variable": "tau_T3"
         },
         {
          "tau_DL04": 18000000,
          "value": 0.15970084286751188,
          "variable": "tau_T3"
         },
         {
          "tau_DL04": 19000000,
          "value": 0.11918640771920867,
          "variable": "tau_T3"
         },
         {
          "tau_DL04": 12000000,
          "value": 0.17609125905568124,
          "variable": "tau_T3"
         },
         {
          "tau_DL04": 4000000,
          "value": 0.04139268515822507,
          "variable": "tau_T3"
         },
         {
          "tau_DL04": 9300000,
          "value": 0.6443009081658003,
          "variable": "tau_T3"
         },
         {
          "tau_DL04": 20000000,
          "value": -0.8096683018297085,
          "variable": "tau_T3"
         },
         {
          "tau_DL04": 91000,
          "value": 2.3419886033428874,
          "variable": "tau_T3"
         },
         {
          "tau_DL04": 20000000,
          "value": -1,
          "variable": "tau_T3"
         },
         {
          "tau_DL04": 3900000,
          "value": 0.5550634286517389,
          "variable": "tau_T3"
         },
         {
          "tau_DL04": 3200000,
          "value": 0.09691001300805642,
          "variable": "tau_T3"
         },
         {
          "tau_DL04": 94000,
          "value": -0.14705305089887225,
          "variable": "tau_T3"
         },
         {
          "tau_DL04": 13000000,
          "value": 0.4423591484604505,
          "variable": "tau_T3"
         },
         {
          "tau_DL04": 7100000,
          "value": -0.419894584560088,
          "variable": "tau_T3"
         },
         {
          "tau_DL04": 16000000,
          "value": 0.07463361829690418,
          "variable": "tau_T3"
         },
         {
          "tau_DL04": 3100000,
          "value": -0.2872417111783479,
          "variable": "tau_T3"
         },
         {
          "tau_DL04": 1800000,
          "value": 0.22184874961635637,
          "variable": "tau_T3"
         },
         {
          "tau_DL04": 740000,
          "value": 0.710551876885834,
          "variable": "tau_T3"
         },
         {
          "tau_DL04": 79000,
          "value": 0.9219168442514273,
          "variable": "tau_T3"
         },
         {
          "tau_DL04": 890000,
          "value": 1.023737846954786,
          "variable": "tau_T3"
         },
         {
          "tau_DL04": 9000000,
          "value": -0.3414586527195894,
          "variable": "tau_T3"
         },
         {
          "tau_DL04": 8500000,
          "value": 0.6726410656136697,
          "variable": "tau_T3"
         },
         {
          "tau_DL04": 5700000,
          "value": -0.15381486434452904,
          "variable": "tau_T3"
         },
         {
          "tau_DL04": 3100000,
          "value": 0.5500309913239524,
          "variable": "tau_T3"
         },
         {
          "tau_DL04": 17000000,
          "value": 0.4507923159973133,
          "variable": "tau_T3"
         },
         {
          "tau_DL04": 9300000,
          "value": 0.7873919071185562,
          "variable": "tau_T3"
         },
         {
          "tau_DL04": 9000000,
          "value": 0.27620641193894907,
          "variable": "tau_T3"
         },
         {
          "tau_DL04": 6400000,
          "value": 0.3399480616943509,
          "variable": "tau_T3"
         },
         {
          "tau_DL04": 20000000,
          "value": -1.9208187539523751,
          "variable": "tau_T3"
         },
         {
          "tau_DL04": 4700000,
          "value": 0.035472318162218866,
          "variable": "tau_T3"
         },
         {
          "tau_DL04": 2200000,
          "value": 0.07255066714861175,
          "variable": "tau_T3"
         },
         {
          "tau_DL04": 2500000,
          "value": 0.04921802267018165,
          "variable": "tau_T3"
         },
         {
          "tau_DL04": 11000000,
          "value": -0.1549019599857432,
          "variable": "tau_T3"
         },
         {
          "tau_DL04": 9200000,
          "value": -0.17845799233478826,
          "variable": "tau_T3"
         },
         {
          "tau_DL04": 6400000,
          "value": 0.6851817198503856,
          "variable": "tau_T3"
         },
         {
          "tau_DL04": 23000000,
          "value": -0.39324488746365777,
          "variable": "tau_T3"
         },
         {
          "tau_DL04": 9100000,
          "value": 0.023229840718474823,
          "variable": "tau_T3"
         },
         {
          "tau_DL04": 9100000,
          "value": -0.28694353438537606,
          "variable": "tau_T3"
         },
         {
          "tau_DL04": 2000000,
          "value": 1.3891660843645326,
          "variable": "tau_T3"
         },
         {
          "tau_DL04": 8800000,
          "value": 0.7367585652254185,
          "variable": "tau_T3"
         },
         {
          "tau_DL04": 7100000,
          "value": 0.11722459983485983,
          "variable": "tau_T3"
         },
         {
          "tau_DL04": 13000000,
          "value": -0.11830815770928689,
          "variable": "tau_T3"
         },
         {
          "tau_DL04": 37000000,
          "value": -0.20647388804940212,
          "variable": "tau_T3"
         },
         {
          "tau_DL04": 5400000,
          "value": 0.038458251819175664,
          "variable": "tau_T3"
         },
         {
          "tau_DL04": 7200000,
          "value": 0.31875876262441283,
          "variable": "tau_T3"
         },
         {
          "tau_DL04": 15000000,
          "value": 0.4960065988800362,
          "variable": "tau_T3"
         },
         {
          "tau_DL04": 4000000,
          "value": 0.7403626894942439,
          "variable": "tau_T3"
         },
         {
          "tau_DL04": 3900000,
          "value": -0.14390657568427997,
          "variable": "tau_T3"
         },
         {
          "tau_DL04": 16000000,
          "value": 0.07463361829690418,
          "variable": "tau_T3"
         },
         {
          "tau_DL04": 14000000,
          "value": -0.2066087830596195,
          "variable": "tau_T3"
         },
         {
          "tau_DL04": 4300000,
          "value": -0.8553172051959429,
          "variable": "tau_T3"
         },
         {
          "tau_DL04": 5800000,
          "value": 0.028963695935316558,
          "variable": "tau_T3"
         },
         {
          "tau_DL04": 8700000,
          "value": 0.29092966875965537,
          "variable": "tau_T3"
         },
         {
          "tau_DL04": 4400000,
          "value": -0.2120889123272001,
          "variable": "tau_T3"
         },
         {
          "tau_DL04": 17000000,
          "value": 0.04830467957455504,
          "variable": "tau_T3"
         },
         {
          "tau_DL04": 7400000,
          "value": -0.16166154363303983,
          "variable": "tau_T3"
         },
         {
          "tau_DL04": 18000000,
          "value": 0.06694678963061322,
          "variable": "tau_T3"
         },
         {
          "tau_DL04": 700000,
          "value": 1.4101744650890493,
          "variable": "tau_T3"
         },
         {
          "tau_DL04": 2200000,
          "value": 0.05551732784983142,
          "variable": "tau_T3"
         },
         {
          "tau_DL04": 3200000,
          "value": 0.32735893438633035,
          "variable": "tau_T3"
         },
         {
          "tau_DL04": 17000000,
          "value": 0.47712125471966244,
          "variable": "tau_T3"
         },
         {
          "tau_DL04": 3800000,
          "value": 0.721246399047171,
          "variable": "tau_T3"
         },
         {
          "tau_DL04": 4000000,
          "value": 0.9542425094393249,
          "variable": "tau_T3"
         },
         {
          "tau_DL04": 9900000,
          "value": 0.6378332609820366,
          "variable": "tau_T3"
         },
         {
          "tau_DL04": 970000,
          "value": 0.09240951178137999,
          "variable": "tau_T3"
         },
         {
          "tau_DL04": 10000000,
          "value": 0.2304489213782739,
          "variable": "tau_T3"
         },
         {
          "tau_DL04": 23000000,
          "value": 0.430663853480661,
          "variable": "tau_T3"
         },
         {
          "tau_DL04": 29000000,
          "value": -1.0152399665567369,
          "variable": "tau_T3"
         },
         {
          "tau_DL04": 9200000,
          "value": 0.638272163982407,
          "variable": "tau_T3"
         },
         {
          "tau_DL04": 9100000,
          "value": 0.21704986673458762,
          "variable": "tau_T3"
         },
         {
          "tau_DL04": 4300000,
          "value": 0.2177898931394888,
          "variable": "tau_T3"
         },
         {
          "tau_DL04": 4300000,
          "value": 0.04777278179600068,
          "variable": "tau_T3"
         },
         {
          "tau_DL04": 9200000,
          "value": 0.013935777943292463,
          "variable": "tau_T3"
         },
         {
          "tau_DL04": 2600000,
          "value": 0.15322837609617704,
          "variable": "tau_T3"
         },
         {
          "tau_DL04": 9000000,
          "value": 0.6792259461402617,
          "variable": "tau_T3"
         },
         {
          "tau_DL04": 6700000,
          "value": 0.15619643033874195,
          "variable": "tau_T3"
         },
         {
          "tau_DL04": 8400000,
          "value": 0.5228787452803376,
          "variable": "tau_T3"
         },
         {
          "tau_DL04": 6000000,
          "value": 0.5440680443502757,
          "variable": "tau_T3"
         },
         {
          "tau_DL04": 360000,
          "value": 1.9751764162749679,
          "variable": "tau_T3"
         },
         {
          "tau_DL04": 24000000,
          "value": 0.017728766960431616,
          "variable": "tau_T3"
         },
         {
          "tau_DL04": 7600000,
          "value": -0.24734513670120484,
          "variable": "tau_T3"
         },
         {
          "tau_DL04": 6300000,
          "value": -0.09177037335564533,
          "variable": "tau_T3"
         },
         {
          "tau_DL04": 12000000,
          "value": 0.06694678963061322,
          "variable": "tau_T3"
         },
         {
          "tau_DL04": 15000000,
          "value": 0.7323937598229685,
          "variable": "tau_T3"
         },
         {
          "tau_DL04": 1300000,
          "value": -0.03476210625921192,
          "variable": "tau_T3"
         },
         {
          "tau_DL04": 26000000,
          "value": 0.15322837609617704,
          "variable": "tau_T3"
         },
         {
          "tau_DL04": 9600000,
          "value": 0,
          "variable": "tau_T3"
         },
         {
          "tau_DL04": 9600000,
          "value": 0.3399480616943509,
          "variable": "tau_T3"
         },
         {
          "tau_DL04": 9300000,
          "value": -0.033984497310367415,
          "variable": "tau_T3"
         },
         {
          "tau_DL04": 21000000,
          "value": 0.09275405323689871,
          "variable": "tau_T3"
         },
         {
          "tau_DL04": 7500000,
          "value": 0.1161648123007948,
          "variable": "tau_T3"
         },
         {
          "tau_DL04": 370000,
          "value": 0.06526673151259149,
          "variable": "tau_T3"
         },
         {
          "tau_DL04": 2900000,
          "value": 0.05611594197893141,
          "variable": "tau_T3"
         },
         {
          "tau_DL04": 82000,
          "value": 2.7489439792978576,
          "variable": "tau_T3"
         },
         {
          "tau_DL04": 4800000,
          "value": 1.0089548426529265,
          "variable": "tau_T3"
         },
         {
          "tau_DL04": 9200000,
          "value": 0.18234020833268277,
          "variable": "tau_T3"
         },
         {
          "tau_DL04": 3900000,
          "value": 0.3583253996184136,
          "variable": "tau_T3"
         },
         {
          "tau_DL04": 4000000,
          "value": 0.12221587827282664,
          "variable": "tau_T3"
         },
         {
          "tau_DL04": 4200000,
          "value": -1.4471580313422192,
          "variable": "tau_T3"
         },
         {
          "tau_DL04": 170000,
          "value": 1.915679114299964,
          "variable": "tau_T3"
         },
         {
          "tau_DL04": 35000000,
          "value": 0.03571555226653449,
          "variable": "tau_T3"
         },
         {
          "tau_DL04": 9400000,
          "value": 0.2309921290562261,
          "variable": "tau_T3"
         },
         {
          "tau_DL04": 1800000,
          "value": 0.17609125905568124,
          "variable": "tau_T3"
         },
         {
          "tau_DL04": 9700000,
          "value": 0.7034243457622688,
          "variable": "tau_T3"
         },
         {
          "tau_DL04": 30000000,
          "value": 0.028028723600243534,
          "variable": "tau_T3"
         },
         {
          "tau_DL04": 9900000,
          "value": 0.20848478805837486,
          "variable": "tau_T3"
         },
         {
          "tau_DL04": 20000000,
          "value": -0.48811663902112556,
          "variable": "tau_T3"
         },
         {
          "tau_DL04": 13000000,
          "value": 0.2082759424270825,
          "variable": "tau_T3"
         },
         {
          "tau_DL04": 10000000,
          "value": 0.146128035678238,
          "variable": "tau_T3"
         },
         {
          "tau_DL04": 15000000,
          "value": 0.3424226808222063,
          "variable": "tau_T3"
         },
         {
          "tau_DL04": 15000000,
          "value": 0.16633142176652496,
          "variable": "tau_T3"
         },
         {
          "tau_DL04": 10000000,
          "value": 0.04139268515822507,
          "variable": "tau_T3"
         },
         {
          "tau_DL04": 5200000,
          "value": 0.032184683371401235,
          "variable": "tau_T3"
         },
         {
          "tau_DL04": 3600000,
          "value": 0.3010299956639812,
          "variable": "tau_T3"
         },
         {
          "tau_DL04": 4300000,
          "value": 0.17944490106326905,
          "variable": "tau_T3"
         },
         {
          "tau_DL04": 9200000,
          "value": 0.013935777943292463,
          "variable": "tau_T3"
         },
         {
          "tau_DL04": 3800000,
          "value": 0.39334425698288855,
          "variable": "tau_T3"
         },
         {
          "tau_DL04": 8900000,
          "value": -0.00490733449474417,
          "variable": "tau_T3"
         },
         {
          "tau_DL04": 12000000,
          "value": -1,
          "variable": "tau_T3"
         },
         {
          "tau_DL04": 14000000,
          "value": 0.5351132016973491,
          "variable": "tau_T3"
         },
         {
          "tau_DL04": 18000000,
          "value": 0.023481095849522904,
          "variable": "tau_T3"
         },
         {
          "tau_DL04": 20000000,
          "value": -0.045757490560675115,
          "variable": "tau_T3"
         },
         {
          "tau_DL04": 31000000,
          "value": 0.04011722320798241,
          "variable": "tau_T3"
         },
         {
          "tau_DL04": 49000000,
          "value": 0.3098039199714864,
          "variable": "tau_T3"
         },
         {
          "tau_DL04": 3500000,
          "value": 0.12802981358544177,
          "variable": "tau_T3"
         },
         {
          "tau_DL04": 20000000,
          "value": -0.022276394711152253,
          "variable": "tau_T3"
         },
         {
          "tau_DL04": 160000,
          "value": 0.9420080530223133,
          "variable": "tau_T3"
         },
         {
          "tau_DL04": 3700000,
          "value": -0.04968778418910752,
          "variable": "tau_T3"
         },
         {
          "tau_DL04": 9800000,
          "value": -0.013502470403647104,
          "variable": "tau_T3"
         },
         {
          "tau_DL04": 9300000,
          "value": 0.7475203950808641,
          "variable": "tau_T3"
         },
         {
          "tau_DL04": 33000000,
          "value": -0.07135590853566824,
          "variable": "tau_T3"
         },
         {
          "tau_DL04": 98000,
          "value": 2.287527525260334,
          "variable": "tau_T3"
         },
         {
          "tau_DL04": 13000000,
          "value": 0.3774183415274359,
          "variable": "tau_T3"
         },
         {
          "tau_DL04": 6200000,
          "value": -0.3774183415274359,
          "variable": "tau_T3"
         },
         {
          "tau_DL04": 640000,
          "value": 1.1850461017086076,
          "variable": "tau_T3"
         },
         {
          "tau_DL04": 6000000,
          "value": 0.8939466075520738,
          "variable": "tau_T3"
         },
         {
          "tau_DL04": 24000000,
          "value": 0.16385680263866959,
          "variable": "tau_T3"
         },
         {
          "tau_DL04": 6200000,
          "value": 0.15209098265191476,
          "variable": "tau_T3"
         },
         {
          "tau_DL04": 4600000,
          "value": 0.22933677100890631,
          "variable": "tau_T3"
         },
         {
          "tau_DL04": 3800000,
          "value": 0.8181564120552274,
          "variable": "tau_T3"
         },
         {
          "tau_DL04": 2800000,
          "value": 1.154901959985743,
          "variable": "tau_T3"
         },
         {
          "tau_DL04": 13000000,
          "value": 0.062147906748844434,
          "variable": "tau_T3"
         },
         {
          "tau_DL04": 990000,
          "value": 0.867687665522906,
          "variable": "tau_T3"
         },
         {
          "tau_DL04": 8400000,
          "value": 0.15490195998574316,
          "variable": "tau_T3"
         },
         {
          "tau_DL04": 21000000,
          "value": 0.34053853694765485,
          "variable": "tau_T3"
         },
         {
          "tau_DL04": 1400000,
          "value": 0.5070844780971057,
          "variable": "tau_T3"
         },
         {
          "tau_DL04": 5500000,
          "value": -0.08715017571890014,
          "variable": "tau_T3"
         },
         {
          "tau_DL04": 16000000,
          "value": -0.057991946977686754,
          "variable": "tau_T3"
         },
         {
          "tau_DL04": 8900000,
          "value": 0.5419716871893598,
          "variable": "tau_T3"
         },
         {
          "tau_DL04": 6300000,
          "value": -0.16587209387399518,
          "variable": "tau_T3"
         },
         {
          "tau_DL04": 78000,
          "value": 2.3631779024128257,
          "variable": "tau_T3"
         },
         {
          "tau_DL04": 17000000,
          "value": 0.34933467523853623,
          "variable": "tau_T3"
         },
         {
          "tau_DL04": 6000000,
          "value": -0.7367585652254186,
          "variable": "tau_T3"
         },
         {
          "tau_DL04": 540000,
          "value": -0.6910010746647435,
          "variable": "tau_T3"
         },
         {
          "tau_DL04": 9200000,
          "value": 0.11539341870206955,
          "variable": "tau_T3"
         },
         {
          "tau_DL04": 8600000,
          "value": 0.24159280781211348,
          "variable": "tau_T3"
         },
         {
          "tau_DL04": 26000000,
          "value": -0.18452442659254403,
          "variable": "tau_T3"
         },
         {
          "tau_DL04": 19000000,
          "value": 0.3233063903751334,
          "variable": "tau_T3"
         },
         {
          "tau_DL04": 4600000,
          "value": 0.7351821769904635,
          "variable": "tau_T3"
         },
         {
          "tau_DL04": 14000000,
          "value": -0.1638568026386696,
          "variable": "tau_T3"
         },
         {
          "tau_DL04": 16000000,
          "value": 0.3010299956639812,
          "variable": "tau_T3"
         },
         {
          "tau_DL04": 9500000,
          "value": 0.5136380885454249,
          "variable": "tau_T3"
         },
         {
          "tau_DL04": 9100000,
          "value": -0.24303804868629447,
          "variable": "tau_T3"
         },
         {
          "tau_DL04": 9200000,
          "value": 0.7437823487523811,
          "variable": "tau_T3"
         },
         {
          "tau_DL04": 4800000,
          "value": 0.03476210625921191,
          "variable": "tau_T3"
         },
         {
          "tau_DL04": 35000000,
          "value": 0.03571555226653449,
          "variable": "tau_T3"
         },
         {
          "tau_DL04": 9300000,
          "value": 0.07290973660428995,
          "variable": "tau_T3"
         },
         {
          "tau_DL04": 32000000,
          "value": 0.08591462870659322,
          "variable": "tau_T3"
         },
         {
          "tau_DL04": 9700000,
          "value": 0.35565094655596136,
          "variable": "tau_T3"
         },
         {
          "tau_DL04": 7500000,
          "value": -0.2730012720637377,
          "variable": "tau_T3"
         },
         {
          "tau_DL04": 9400000,
          "value": 0.018098222092796223,
          "variable": "tau_T3"
         },
         {
          "tau_DL04": 150000,
          "value": 2.146128035678238,
          "variable": "tau_T3"
         },
         {
          "tau_DL04": 3800000,
          "value": 0.09231426131890734,
          "variable": "tau_T3"
         },
         {
          "tau_DL04": 14000000,
          "value": 0.5351132016973491,
          "variable": "tau_T3"
         },
         {
          "tau_DL04": 17000000,
          "value": 0.27470105694163205,
          "variable": "tau_T3"
         },
         {
          "tau_DL04": 4100000,
          "value": -0.40866387406381066,
          "variable": "tau_T3"
         },
         {
          "tau_DL04": 6000000,
          "value": -1.0377885608893997,
          "variable": "tau_T3"
         },
         {
          "tau_DL04": 9800000,
          "value": 0.2640464294108112,
          "variable": "tau_T3"
         },
         {
          "tau_DL04": 6400000,
          "value": 0.7501225267834001,
          "variable": "tau_T3"
         },
         {
          "tau_DL04": 7700000,
          "value": 0.15490195998574316,
          "variable": "tau_T3"
         },
         {
          "tau_DL04": 14000000,
          "value": 0.6172999578846993,
          "variable": "tau_T3"
         },
         {
          "tau_DL04": 23000000,
          "value": 0.08543019532462637,
          "variable": "tau_T3"
         },
         {
          "tau_DL04": 30000000,
          "value": 0.24715461488112658,
          "variable": "tau_T3"
         },
         {
          "tau_DL04": 9200000,
          "value": 0.2914846777577508,
          "variable": "tau_T3"
         },
         {
          "tau_DL04": 15000000,
          "value": 0.07918124604762482,
          "variable": "tau_T3"
         },
         {
          "tau_DL04": 26000000,
          "value": -0.09275405323689868,
          "variable": "tau_T3"
         },
         {
          "tau_DL04": 3500000,
          "value": 0.3132644520809928,
          "variable": "tau_T3"
         },
         {
          "tau_DL04": 9200000,
          "value": -0.8846065812979305,
          "variable": "tau_T3"
         },
         {
          "tau_DL04": 98000,
          "value": 1.9910451573470735,
          "variable": "tau_T3"
         },
         {
          "tau_DL04": 620000,
          "value": 1.156998317146659,
          "variable": "tau_T3"
         },
         {
          "tau_DL04": 8500000,
          "value": 0.04370892788540595,
          "variable": "tau_T3"
         },
         {
          "tau_DL04": 5000000,
          "value": 0.38021124171160603,
          "variable": "tau_T3"
         },
         {
          "tau_DL04": 290000,
          "value": 1.5013898294465993,
          "variable": "tau_T3"
         },
         {
          "tau_DL04": 9400000,
          "value": -0.22493982659349826,
          "variable": "tau_T3"
         },
         {
          "tau_DL04": 3100000,
          "value": 0.2246416498005265,
          "variable": "tau_T3"
         },
         {
          "tau_DL04": 1100000,
          "value": -0.09691001300805639,
          "variable": "tau_T3"
         },
         {
          "tau_DL04": 960000,
          "value": 1.6804865986420057,
          "variable": "tau_T3"
         },
         {
          "tau_DL04": 470000,
          "value": 0.8719701864145581,
          "variable": "tau_T3"
         },
         {
          "tau_DL04": 14000000,
          "value": 0.17609125905568124,
          "variable": "tau_T3"
         },
         {
          "tau_DL04": 14000000,
          "value": 0.6532125137753437,
          "variable": "tau_T3"
         },
         {
          "tau_DL04": 4400000,
          "value": 1.0193051551953867,
          "variable": "tau_T3"
         },
         {
          "tau_DL04": 3800000,
          "value": 1.0536848589627763,
          "variable": "tau_T3"
         },
         {
          "tau_DL04": 8500000,
          "value": -0.04292820054181086,
          "variable": "tau_T3"
         },
         {
          "tau_DL04": 9900000,
          "value": -0.09800810330710848,
          "variable": "tau_T3"
         },
         {
          "tau_DL04": 9000000,
          "value": -1.1760912590556813,
          "variable": "tau_T3"
         },
         {
          "tau_DL04": 8600000,
          "value": 0.8915763514572588,
          "variable": "tau_T3"
         },
         {
          "tau_DL04": 8000000,
          "value": 0,
          "variable": "tau_T3"
         },
         {
          "tau_DL04": 7300000,
          "value": 0.03430423116998557,
          "variable": "tau_T3"
         },
         {
          "tau_DL04": 2900000,
          "value": 0,
          "variable": "tau_T3"
         },
         {
          "tau_DL04": 8800000,
          "value": 0.024000276403766514,
          "variable": "tau_T3"
         },
         {
          "tau_DL04": 3700000,
          "value": 0.6078895349886863,
          "variable": "tau_T3"
         },
         {
          "tau_DL04": 820000,
          "value": 1.2323141832945215,
          "variable": "tau_T3"
         },
         {
          "tau_DL04": 150000,
          "value": 1.414973347970818,
          "variable": "tau_T3"
         },
         {
          "tau_DL04": 6200000,
          "value": 0.04011722320798241,
          "variable": "tau_T3"
         },
         {
          "tau_DL04": 16000000,
          "value": -0.22184874961635637,
          "variable": "tau_T3"
         },
         {
          "tau_DL04": 98000,
          "value": 2.6422423798870915,
          "variable": "tau_T3"
         },
         {
          "tau_DL04": 3900000,
          "value": 0.13321126257428986,
          "variable": "tau_T3"
         },
         {
          "tau_DL04": 200000,
          "value": 2.505149978319906,
          "variable": "tau_T3"
         },
         {
          "tau_DL04": 13000000,
          "value": 0.22847932851536945,
          "variable": "tau_T3"
         },
         {
          "tau_DL04": 82000,
          "value": 2.501159495587101,
          "variable": "tau_T3"
         },
         {
          "tau_DL04": 8500000,
          "value": -0.31663506899455723,
          "variable": "tau_T3"
         },
         {
          "tau_DL04": 7300000,
          "value": 0.8179183772551313,
          "variable": "tau_T3"
         },
         {
          "tau_DL04": 6300000,
          "value": 0.43110837192469226,
          "variable": "tau_T3"
         },
         {
          "tau_DL04": 10000000,
          "value": 0.25527250510330607,
          "variable": "tau_T3"
         },
         {
          "tau_DL04": 9600000,
          "value": 0.48012676485938766,
          "variable": "tau_T3"
         },
         {
          "tau_DL04": 9100000,
          "value": -0.4405274524432061,
          "variable": "tau_T3"
         },
         {
          "tau_DL04": 740000,
          "value": 0.17216096542724882,
          "variable": "tau_T3"
         },
         {
          "tau_DL04": 4000000,
          "value": 0.5740312677277188,
          "variable": "tau_T3"
         },
         {
          "tau_DL04": 110000,
          "value": 1.5920757704213615,
          "variable": "tau_T3"
         },
         {
          "tau_DL04": 35000000,
          "value": -0.06694678963061322,
          "variable": "tau_T3"
         },
         {
          "tau_DL04": 7300000,
          "value": 0.6929796406468314,
          "variable": "tau_T3"
         },
         {
          "tau_DL04": 5400000,
          "value": 0.744727494896694,
          "variable": "tau_T3"
         },
         {
          "tau_DL04": 15000000,
          "value": 0.31527043477859146,
          "variable": "tau_T3"
         },
         {
          "tau_DL04": 3900000,
          "value": -0.7218328872955231,
          "variable": "tau_T3"
         },
         {
          "tau_DL04": 8300000,
          "value": 0.1601031536715509,
          "variable": "tau_T3"
         },
         {
          "tau_DL04": 7500000,
          "value": -0.8838351876992052,
          "variable": "tau_T3"
         },
         {
          "tau_DL04": 18000000,
          "value": 0.31292921896368886,
          "variable": "tau_T3"
         },
         {
          "tau_DL04": 45000000,
          "value": -0.3744589128225147,
          "variable": "tau_T3"
         },
         {
          "tau_DL04": 13000000,
          "value": -0.4607308385314931,
          "variable": "tau_T4"
         },
         {
          "tau_DL04": 4200000,
          "value": 0.010219165181686028,
          "variable": "tau_T4"
         },
         {
          "tau_DL04": 9800000,
          "value": 0.2128939069634299,
          "variable": "tau_T4"
         },
         {
          "tau_DL04": 12000000,
          "value": -1,
          "variable": "tau_T4"
         },
         {
          "tau_DL04": 8500,
          "value": 3.3010299956639813,
          "variable": "tau_T4"
         },
         {
          "tau_DL04": 6700000,
          "value": -0.20282551230292595,
          "variable": "tau_T4"
         },
         {
          "tau_DL04": 270000,
          "value": 0.5276776281621063,
          "variable": "tau_T4"
         },
         {
          "tau_DL04": 14000000,
          "value": 0.5862657241447304,
          "variable": "tau_T4"
         },
         {
          "tau_DL04": 5000000,
          "value": 0.15228834438305647,
          "variable": "tau_T4"
         },
         {
          "tau_DL04": 5800000,
          "value": 0,
          "variable": "tau_T4"
         },
         {
          "tau_DL04": 3900000,
          "value": 0.10790539730951963,
          "variable": "tau_T4"
         },
         {
          "tau_DL04": 42000000,
          "value": 0.010219165181686028,
          "variable": "tau_T4"
         },
         {
          "tau_DL04": 11000000,
          "value": 0.18905623622004886,
          "variable": "tau_T4"
         },
         {
          "tau_DL04": 15000000,
          "value": 0.028028723600243534,
          "variable": "tau_T4"
         },
         {
          "tau_DL04": 12000000,
          "value": 0.5542872095319618,
          "variable": "tau_T4"
         },
         {
          "tau_DL04": 14000000,
          "value": -0.4385578595803017,
          "variable": "tau_T4"
         },
         {
          "tau_DL04": 7200000,
          "value": 0.12493873660829992,
          "variable": "tau_T4"
         },
         {
          "tau_DL04": 10000000,
          "value": 0.5797835966168101,
          "variable": "tau_T4"
         },
         {
          "tau_DL04": 6500000,
          "value": 0.36317790241282566,
          "variable": "tau_T4"
         },
         {
          "tau_DL04": 4400000,
          "value": 0.11242217918630396,
          "variable": "tau_T4"
         },
         {
          "tau_DL04": 9200000,
          "value": 0.6894246864297884,
          "variable": "tau_T4"
         },
         {
          "tau_DL04": 4000000,
          "value": 0.3473300153169504,
          "variable": "tau_T4"
         },
         {
          "tau_DL04": 21000000,
          "value": -0.11809931207799451,
          "variable": "tau_T4"
         },
         {
          "tau_DL04": 6200000,
          "value": 0.006948859955327825,
          "variable": "tau_T4"
         },
         {
          "tau_DL04": 6300000,
          "value": 0.07572071393811834,
          "variable": "tau_T4"
         },
         {
          "tau_DL04": 9400000,
          "value": 0.8901950065207572,
          "variable": "tau_T4"
         },
         {
          "tau_DL04": 13000000,
          "value": 0.2082759424270825,
          "variable": "tau_T4"
         },
         {
          "tau_DL04": 16000000,
          "value": -0.12493873660829993,
          "variable": "tau_T4"
         },
         {
          "tau_DL04": 2900000,
          "value": -0.031034233739968786,
          "variable": "tau_T4"
         },
         {
          "tau_DL04": 2400000,
          "value": 0.27300127206373764,
          "variable": "tau_T4"
         },
         {
          "tau_DL04": 82000,
          "value": 2.577547841450556,
          "variable": "tau_T4"
         },
         {
          "tau_DL04": 4400000,
          "value": -0.6989700043360187,
          "variable": "tau_T4"
         },
         {
          "tau_DL04": 3800000,
          "value": -0.6932928714443283,
          "variable": "tau_T4"
         },
         {
          "tau_DL04": 18000000,
          "value": -0.6118198286171187,
          "variable": "tau_T4"
         },
         {
          "tau_DL04": 11000000,
          "value": 0.18905623622004886,
          "variable": "tau_T4"
         },
         {
          "tau_DL04": 9500000,
          "value": 0,
          "variable": "tau_T4"
         },
         {
          "tau_DL04": 3800000,
          "value": 0.226396377367077,
          "variable": "tau_T4"
         },
         {
          "tau_DL04": 5800000,
          "value": -0.16136800223497486,
          "variable": "tau_T4"
         },
         {
          "tau_DL04": 13000000,
          "value": 0.062147906748844434,
          "variable": "tau_T4"
         },
         {
          "tau_DL04": 48000000,
          "value": 0.13830269816628143,
          "variable": "tau_T4"
         },
         {
          "tau_DL04": 90000,
          "value": 0.3010299956639812,
          "variable": "tau_T4"
         },
         {
          "tau_DL04": 9800000,
          "value": 0.18486518336318636,
          "variable": "tau_T4"
         },
         {
          "tau_DL04": 12000000,
          "value": 0.12493873660829992,
          "variable": "tau_T4"
         },
         {
          "tau_DL04": 17000000,
          "value": 0.14976232033333212,
          "variable": "tau_T4"
         },
         {
          "tau_DL04": 17000000,
          "value": 0.21670910996394527,
          "variable": "tau_T4"
         },
         {
          "tau_DL04": 91000,
          "value": -0.06141430103065216,
          "variable": "tau_T4"
         },
         {
          "tau_DL04": 970000,
          "value": 0.5695307665010425,
          "variable": "tau_T4"
         },
         {
          "tau_DL04": 1000000,
          "value": 1.1139433523068367,
          "variable": "tau_T4"
         },
         {
          "tau_DL04": 28000000,
          "value": -1.0321846833714012,
          "variable": "tau_T4"
         },
         {
          "tau_DL04": 1300000,
          "value": -0.9098233696509119,
          "variable": "tau_T4"
         },
         {
          "tau_DL04": 12000000,
          "value": 0.3521825181113625,
          "variable": "tau_T4"
         },
         {
          "tau_DL04": 20000,
          "value": 2,
          "variable": "tau_T4"
         },
         {
          "tau_DL04": 5100000,
          "value": -0.026328938722349152,
          "variable": "tau_T4"
         },
         {
          "tau_DL04": 970000,
          "value": 1.127171618040592,
          "variable": "tau_T4"
         },
         {
          "tau_DL04": 35000000,
          "value": 0.02413367971671937,
          "variable": "tau_T4"
         },
         {
          "tau_DL04": 13000000,
          "value": 0.16481024864599217,
          "variable": "tau_T4"
         },
         {
          "tau_DL04": 2800000,
          "value": -0.33321467903538243,
          "variable": "tau_T4"
         },
         {
          "tau_DL04": 13000000,
          "value": -0.07255066714861173,
          "variable": "tau_T4"
         },
         {
          "tau_DL04": 14000000,
          "value": 0.13262556527459096,
          "variable": "tau_T4"
         },
         {
          "tau_DL04": 70000,
          "value": 0.13262556527459096,
          "variable": "tau_T4"
         },
         {
          "tau_DL04": 7600000,
          "value": 0.2331297600260454,
          "variable": "tau_T4"
         },
         {
          "tau_DL04": 85000,
          "value": 1.3010299956639813,
          "variable": "tau_T4"
         },
         {
          "tau_DL04": 170000,
          "value": 1.131278914639319,
          "variable": "tau_T4"
         },
         {
          "tau_DL04": 4500000,
          "value": 0.7269987279362623,
          "variable": "tau_T4"
         },
         {
          "tau_DL04": 6300000,
          "value": 0.013572807189273915,
          "variable": "tau_T4"
         },
         {
          "tau_DL04": 13000000,
          "value": -0.5118833609788743,
          "variable": "tau_T4"
         },
         {
          "tau_DL04": 20000000,
          "value": 0,
          "variable": "tau_T4"
         },
         {
          "tau_DL04": 20000000,
          "value": -0.045757490560675115,
          "variable": "tau_T4"
         },
         {
          "tau_DL04": 13000000,
          "value": 0.4045705875710507,
          "variable": "tau_T4"
         },
         {
          "tau_DL04": 7600000,
          "value": 0.048605333433501395,
          "variable": "tau_T4"
         },
         {
          "tau_DL04": 22000000,
          "value": -2.0871501757189,
          "variable": "tau_T4"
         },
         {
          "tau_DL04": 5600000,
          "value": -0.6342446746993636,
          "variable": "tau_T4"
         },
         {
          "tau_DL04": 41000000,
          "value": -0.35751135161642944,
          "variable": "tau_T4"
         },
         {
          "tau_DL04": 19000000,
          "value": 0.11918640771920867,
          "variable": "tau_T4"
         },
         {
          "tau_DL04": 14000000,
          "value": -0.6547663418439653,
          "variable": "tau_T4"
         },
         {
          "tau_DL04": 21000000,
          "value": 0,
          "variable": "tau_T4"
         },
         {
          "tau_DL04": 13000000,
          "value": 0.16481024864599217,
          "variable": "tau_T4"
         },
         {
          "tau_DL04": 4700000,
          "value": -0.37106786227173627,
          "variable": "tau_T4"
         },
         {
          "tau_DL04": 13000000,
          "value": -0.13167211926726835,
          "variable": "tau_T4"
         },
         {
          "tau_DL04": 6200000,
          "value": -0.02896369593531662,
          "variable": "tau_T4"
         },
         {
          "tau_DL04": 4400000,
          "value": 0.019305155195386624,
          "variable": "tau_T4"
         },
         {
          "tau_DL04": 1600000,
          "value": -0.28504189027985083,
          "variable": "tau_T4"
         },
         {
          "tau_DL04": 8900000,
          "value": 0.254729976011012,
          "variable": "tau_T4"
         },
         {
          "tau_DL04": 1900000,
          "value": 0.49209841068931526,
          "variable": "tau_T4"
         },
         {
          "tau_DL04": 18000000,
          "value": -0.17609125905568127,
          "variable": "tau_T4"
         },
         {
          "tau_DL04": 12000000,
          "value": 0.31875876262441283,
          "variable": "tau_T4"
         },
         {
          "tau_DL04": 4000000,
          "value": -0.22184874961635637,
          "variable": "tau_T4"
         },
         {
          "tau_DL04": 980000,
          "value": 1.2875275252603342,
          "variable": "tau_T4"
         },
         {
          "tau_DL04": 6100000,
          "value": -0.9402317949965102,
          "variable": "tau_T4"
         },
         {
          "tau_DL04": 14000000,
          "value": 0.6600519383056491,
          "variable": "tau_T4"
         },
         {
          "tau_DL04": 9500000,
          "value": -0.773603622632923,
          "variable": "tau_T4"
         },
         {
          "tau_DL04": 9200000,
          "value": 0.1501555249612815,
          "variable": "tau_T4"
         },
         {
          "tau_DL04": 3900000,
          "value": 0.24144430567973713,
          "variable": "tau_T4"
         },
         {
          "tau_DL04": 4700000,
          "value": -0.4679778752797927,
          "variable": "tau_T4"
         },
         {
          "tau_DL04": 1000000,
          "value": 1.6901960800285136,
          "variable": "tau_T4"
         },
         {
          "tau_DL04": 5700000,
          "value": 0.13061586949999046,
          "variable": "tau_T4"
         },
         {
          "tau_DL04": 5700000,
          "value": -0.2507248773525854,
          "variable": "tau_T4"
         },
         {
          "tau_DL04": 6000000,
          "value": -0.7367585652254186,
          "variable": "tau_T4"
         },
         {
          "tau_DL04": 4100000,
          "value": 0.5913361259361893,
          "variable": "tau_T4"
         },
         {
          "tau_DL04": 9200000,
          "value": 0.3372421683184259,
          "variable": "tau_T4"
         },
         {
          "tau_DL04": 62000,
          "value": 2.43805723188002,
          "variable": "tau_T4"
         },
         {
          "tau_DL04": 1300000,
          "value": 0.6419315033656546,
          "variable": "tau_T4"
         },
         {
          "tau_DL04": 9100000,
          "value": -0.5973135563035008,
          "variable": "tau_T4"
         },
         {
          "tau_DL04": 14000000,
          "value": -0.29486968695916277,
          "variable": "tau_T4"
         },
         {
          "tau_DL04": 20000000,
          "value": 0.5740312677277188,
          "variable": "tau_T4"
         },
         {
          "tau_DL04": 30000000,
          "value": 0.054357662322592676,
          "variable": "tau_T4"
         },
         {
          "tau_DL04": 7400000,
          "value": 0.3068595393247051,
          "variable": "tau_T4"
         },
         {
          "tau_DL04": 20000000,
          "value": 0.290034611362518,
          "variable": "tau_T4"
         },
         {
          "tau_DL04": 5700000,
          "value": -0.15381486434452904,
          "variable": "tau_T4"
         },
         {
          "tau_DL04": 20000000,
          "value": 0.24303804868629442,
          "variable": "tau_T4"
         },
         {
          "tau_DL04": 1900000,
          "value": -0.9565343062189097,
          "variable": "tau_T4"
         },
         {
          "tau_DL04": 4200000,
          "value": 0.9208187539523752,
          "variable": "tau_T4"
         },
         {
          "tau_DL04": 14000000,
          "value": 0.47712125471966244,
          "variable": "tau_T4"
         },
         {
          "tau_DL04": 33000,
          "value": 0.012964977164367635,
          "variable": "tau_T4"
         },
         {
          "tau_DL04": 12000000,
          "value": 0.09691001300805642,
          "variable": "tau_T4"
         },
         {
          "tau_DL04": 110000,
          "value": 2,
          "variable": "tau_T4"
         },
         {
          "tau_DL04": 8800000,
          "value": 0.09691001300805642,
          "variable": "tau_T4"
         },
         {
          "tau_DL04": 9400000,
          "value": 0.6603406019798879,
          "variable": "tau_T4"
         },
         {
          "tau_DL04": 3200000,
          "value": 0.12831847725968057,
          "variable": "tau_T4"
         },
         {
          "tau_DL04": 2800000,
          "value": -0.24303804868629447,
          "variable": "tau_T4"
         },
         {
          "tau_DL04": 810000,
          "value": 0.23764301679958827,
          "variable": "tau_T4"
         },
         {
          "tau_DL04": 1700000,
          "value": 0.45974715865023974,
          "variable": "tau_T4"
         },
         {
          "tau_DL04": 7600000,
          "value": 0.6105481015534813,
          "variable": "tau_T4"
         },
         {
          "tau_DL04": 6000000,
          "value": 0.5642714304385625,
          "variable": "tau_T4"
         },
         {
          "tau_DL04": 6600000,
          "value": 0.8239087409443188,
          "variable": "tau_T4"
         },
         {
          "tau_DL04": 6500000,
          "value": -0.3357921019231931,
          "variable": "tau_T4"
         },
         {
          "tau_DL04": 9100000,
          "value": 0.08235129283713141,
          "variable": "tau_T4"
         },
         {
          "tau_DL04": 12000000,
          "value": 0,
          "variable": "tau_T4"
         },
         {
          "tau_DL04": 2500000,
          "value": -0.16749108729376366,
          "variable": "tau_T4"
         },
         {
          "tau_DL04": 15000000,
          "value": -0.3979400086720376,
          "variable": "tau_T4"
         },
         {
          "tau_DL04": 8700000,
          "value": 0.7680509234793178,
          "variable": "tau_T4"
         },
         {
          "tau_DL04": 4500000,
          "value": 0.054357662322592676,
          "variable": "tau_T4"
         },
         {
          "tau_DL04": 100000,
          "value": 1.4471580313422192,
          "variable": "tau_T4"
         },
         {
          "tau_DL04": 33000000,
          "value": 0.3952999125058292,
          "variable": "tau_T4"
         },
         {
          "tau_DL04": 2800000,
          "value": 0,
          "variable": "tau_T4"
         },
         {
          "tau_DL04": 7700000,
          "value": 0.027323127211234782,
          "variable": "tau_T4"
         },
         {
          "tau_DL04": 2300000,
          "value": 0.5133334273741071,
          "variable": "tau_T4"
         },
         {
          "tau_DL04": 10000000,
          "value": 0.724275869600789,
          "variable": "tau_T4"
         },
         {
          "tau_DL04": 970000,
          "value": -0.1355133855471696,
          "variable": "tau_T4"
         },
         {
          "tau_DL04": 11000000,
          "value": -0.0776048578126698,
          "variable": "tau_T4"
         },
         {
          "tau_DL04": 6300000,
          "value": 0.45593195564972433,
          "variable": "tau_T4"
         },
         {
          "tau_DL04": 3800000,
          "value": -0.9363309201306227,
          "variable": "tau_T4"
         },
         {
          "tau_DL04": 9500000,
          "value": 0.0636690798693773,
          "variable": "tau_T4"
         },
         {
          "tau_DL04": 30000000,
          "value": 0.3424226808222063,
          "variable": "tau_T4"
         },
         {
          "tau_DL04": 170000,
          "value": 2.0917703733556454,
          "variable": "tau_T4"
         },
         {
          "tau_DL04": 3800000,
          "value": 0.40698813764943476,
          "variable": "tau_T4"
         },
         {
          "tau_DL04": 11000000,
          "value": 0.16272729749769974,
          "variable": "tau_T4"
         },
         {
          "tau_DL04": 1300000,
          "value": 0.6713864827039303,
          "variable": "tau_T4"
         },
         {
          "tau_DL04": 5900000,
          "value": 0.1785379950027686,
          "variable": "tau_T4"
         },
         {
          "tau_DL04": 4200000,
          "value": 0.09275405323689871,
          "variable": "tau_T4"
         },
         {
          "tau_DL04": 1200000,
          "value": -1.6020599913279623,
          "variable": "tau_T4"
         },
         {
          "tau_DL04": 17000000,
          "value": 0.1674910872937637,
          "variable": "tau_T4"
         },
         {
          "tau_DL04": 180000,
          "value": 1.9208187539523751,
          "variable": "tau_T4"
         },
         {
          "tau_DL04": 9100000,
          "value": 0.585026652029182,
          "variable": "tau_T4"
         },
         {
          "tau_DL04": 63000,
          "value": 0.9410221400406621,
          "variable": "tau_T4"
         },
         {
          "tau_DL04": 17000000,
          "value": -1.3915998306410187,
          "variable": "tau_T4"
         },
         {
          "tau_DL04": 31000000,
          "value": -0.5371191843949478,
          "variable": "tau_T4"
         },
         {
          "tau_DL04": 2900000,
          "value": 0.10580372616803894,
          "variable": "tau_T4"
         },
         {
          "tau_DL04": 2900000,
          "value": 0.8386319977650251,
          "variable": "tau_T4"
         },
         {
          "tau_DL04": 8500000,
          "value": 0.7040495298652938,
          "variable": "tau_T4"
         },
         {
          "tau_DL04": 3600000,
          "value": 0.03476210625921191,
          "variable": "tau_T4"
         },
         {
          "tau_DL04": 1000000,
          "value": 0.3222192947339193,
          "variable": "tau_T4"
         },
         {
          "tau_DL04": 9100000,
          "value": -0.0898096725901174,
          "variable": "tau_T4"
         },
         {
          "tau_DL04": 9100000,
          "value": 0.6091603317459013,
          "variable": "tau_T4"
         },
         {
          "tau_DL04": 3200000,
          "value": 0.36991128507179405,
          "variable": "tau_T4"
         },
         {
          "tau_DL04": 2000000,
          "value": 0,
          "variable": "tau_T4"
         },
         {
          "tau_DL04": 13000000,
          "value": 0.062147906748844434,
          "variable": "tau_T4"
         },
         {
          "tau_DL04": 4400000,
          "value": 0.16946068015666813,
          "variable": "tau_T4"
         },
         {
          "tau_DL04": 16000000,
          "value": 0.4490925311194189,
          "variable": "tau_T4"
         },
         {
          "tau_DL04": 8300000,
          "value": 0,
          "variable": "tau_T4"
         },
         {
          "tau_DL04": 40000000,
          "value": -0.12493873660829993,
          "variable": "tau_T4"
         },
         {
          "tau_DL04": 13000000,
          "value": 0.032184683371401235,
          "variable": "tau_T4"
         },
         {
          "tau_DL04": 670000,
          "value": 1.071552288589615,
          "variable": "tau_T4"
         },
         {
          "tau_DL04": 16000000,
          "value": 0.3640817414110702,
          "variable": "tau_T4"
         },
         {
          "tau_DL04": 1300000,
          "value": -0.35051535874389944,
          "variable": "tau_T4"
         },
         {
          "tau_DL04": 620000,
          "value": 1.3836995695574275,
          "variable": "tau_T4"
         },
         {
          "tau_DL04": 22000000,
          "value": -0.6348525047242699,
          "variable": "tau_T4"
         },
         {
          "tau_DL04": 9600000,
          "value": 0.4648867983026508,
          "variable": "tau_T4"
         },
         {
          "tau_DL04": 12000000,
          "value": 0.2632414347745814,
          "variable": "tau_T4"
         },
         {
          "tau_DL04": 330000,
          "value": 1.8037053548560318,
          "variable": "tau_T4"
         },
         {
          "tau_DL04": 15000000,
          "value": 0.028028723600243534,
          "variable": "tau_T4"
         },
         {
          "tau_DL04": 6700000,
          "value": 0.0547387895799649,
          "variable": "tau_T4"
         },
         {
          "tau_DL04": 310000,
          "value": 1.7639108112690334,
          "variable": "tau_T4"
         },
         {
          "tau_DL04": 2000000,
          "value": 0.49831055378960054,
          "variable": "tau_T4"
         },
         {
          "tau_DL04": 1600000,
          "value": -0.505149978319906,
          "variable": "tau_T4"
         },
         {
          "tau_DL04": 9200000,
          "value": 0.26666109403271865,
          "variable": "tau_T4"
         },
         {
          "tau_DL04": 30000000,
          "value": 0.3010299956639812,
          "variable": "tau_T4"
         },
         {
          "tau_DL04": 6600000,
          "value": 0.5421839004757242,
          "variable": "tau_T4"
         },
         {
          "tau_DL04": 12000000,
          "value": 0.03476210625921191,
          "variable": "tau_T4"
         },
         {
          "tau_DL04": 6800000,
          "value": 0.5654310959658013,
          "variable": "tau_T4"
         },
         {
          "tau_DL04": 15000000,
          "value": -0.24159280781211348,
          "variable": "tau_T4"
         },
         {
          "tau_DL04": 510000,
          "value": 1.4965498065579883,
          "variable": "tau_T4"
         },
         {
          "tau_DL04": 10000000,
          "value": -0.3979400086720376,
          "variable": "tau_T4"
         },
         {
          "tau_DL04": 18000000,
          "value": 0.5081554884596312,
          "variable": "tau_T4"
         },
         {
          "tau_DL04": 9500000,
          "value": -0.05864551291277384,
          "variable": "tau_T4"
         },
         {
          "tau_DL04": 14000000,
          "value": 0.1962946451439682,
          "variable": "tau_T4"
         },
         {
          "tau_DL04": 500000,
          "value": 0.8325089127062363,
          "variable": "tau_T4"
         },
         {
          "tau_DL04": 25000000,
          "value": -1.1674910872937636,
          "variable": "tau_T4"
         },
         {
          "tau_DL04": 740000,
          "value": 0.8209643602975375,
          "variable": "tau_T4"
         },
         {
          "tau_DL04": 34000,
          "value": 2.723793588061051,
          "variable": "tau_T4"
         },
         {
          "tau_DL04": 3900000,
          "value": 0.28399665636520083,
          "variable": "tau_T4"
         },
         {
          "tau_DL04": 1700000,
          "value": -0.5402528413497603,
          "variable": "tau_T4"
         },
         {
          "tau_DL04": 890000,
          "value": 0.09200267851331222,
          "variable": "tau_T4"
         },
         {
          "tau_DL04": 21000000,
          "value": 0.03950854128367365,
          "variable": "tau_T4"
         },
         {
          "tau_DL04": 7200000,
          "value": -0.0377885608893998,
          "variable": "tau_T4"
         },
         {
          "tau_DL04": 91000,
          "value": 0.8922169563979816,
          "variable": "tau_T4"
         },
         {
          "tau_DL04": 28000000,
          "value": -0.146128035678238,
          "variable": "tau_T4"
         },
         {
          "tau_DL04": 5800000,
          "value": 0.46702092781533666,
          "variable": "tau_T4"
         },
         {
          "tau_DL04": 5800000,
          "value": 0.0074240180792068755,
          "variable": "tau_T4"
         },
         {
          "tau_DL04": 5100000,
          "value": 0.46852108295774486,
          "variable": "tau_T4"
         },
         {
          "tau_DL04": 15000000,
          "value": 0.028028723600243534,
          "variable": "tau_T4"
         },
         {
          "tau_DL04": 34000000,
          "value": 0.04830467957455504,
          "variable": "tau_T4"
         },
         {
          "tau_DL04": 65000,
          "value": 1.0504095034776002,
          "variable": "tau_T4"
         },
         {
          "tau_DL04": 9300000,
          "value": 0.5755850957963405,
          "variable": "tau_T4"
         },
         {
          "tau_DL04": 55000,
          "value": 2.17871540288183,
          "variable": "tau_T4"
         },
         {
          "tau_DL04": 22000000,
          "value": -1.1383026981662814,
          "variable": "tau_T4"
         },
         {
          "tau_DL04": 6200000,
          "value": 0.43805723188002,
          "variable": "tau_T4"
         },
         {
          "tau_DL04": 1300000,
          "value": 0.11650556907143717,
          "variable": "tau_T4"
         },
         {
          "tau_DL04": 7300000,
          "value": 0.023167865052025966,
          "variable": "tau_T4"
         },
         {
          "tau_DL04": 5500000,
          "value": -1.6989700043360187,
          "variable": "tau_T4"
         },
         {
          "tau_DL04": 2700000,
          "value": 0.27620641193894907,
          "variable": "tau_T4"
         },
         {
          "tau_DL04": 36000000,
          "value": -1.0377885608893997,
          "variable": "tau_T4"
         },
         {
          "tau_DL04": 9500000,
          "value": 0.25272531608942617,
          "variable": "tau_T4"
         },
         {
          "tau_DL04": 15000000,
          "value": 0.38021124171160603,
          "variable": "tau_T4"
         },
         {
          "tau_DL04": 4000000,
          "value": 0.30642502755068735,
          "variable": "tau_T4"
         },
         {
          "tau_DL04": 5000000,
          "value": 0.7481880270062005,
          "variable": "tau_T4"
         },
         {
          "tau_DL04": 5700000,
          "value": 0.05703850097036417,
          "variable": "tau_T4"
         },
         {
          "tau_DL04": 8300000,
          "value": 0.38195190328790735,
          "variable": "tau_T4"
         },
         {
          "tau_DL04": 1600000,
          "value": -0.057991946977686754,
          "variable": "tau_T4"
         },
         {
          "tau_DL04": 3800000,
          "value": 1.1526101632061585,
          "variable": "tau_T4"
         },
         {
          "tau_DL04": 4000000,
          "value": -0.2798406965940431,
          "variable": "tau_T4"
         },
         {
          "tau_DL04": 13000000,
          "value": 0.18708664335714445,
          "variable": "tau_T4"
         },
         {
          "tau_DL04": 190000,
          "value": 1.0434656937810902,
          "variable": "tau_T4"
         },
         {
          "tau_DL04": 17000000,
          "value": 0.2319490765206821,
          "variable": "tau_T4"
         },
         {
          "tau_DL04": 1800000,
          "value": 0.0871501757189002,
          "variable": "tau_T4"
         },
         {
          "tau_DL04": 13000000,
          "value": 0.062147906748844434,
          "variable": "tau_T4"
         },
         {
          "tau_DL04": 8600000,
          "value": 0.10689423391465734,
          "variable": "tau_T4"
         },
         {
          "tau_DL04": 5600000,
          "value": 0.5740312677277188,
          "variable": "tau_T4"
         },
         {
          "tau_DL04": 14000000,
          "value": 0.5351132016973491,
          "variable": "tau_T4"
         },
         {
          "tau_DL04": 6400000,
          "value": 0.23521271117433787,
          "variable": "tau_T4"
         },
         {
          "tau_DL04": 54000,
          "value": 2.4980551615553055,
          "variable": "tau_T4"
         },
         {
          "tau_DL04": 7500000,
          "value": 0,
          "variable": "tau_T4"
         },
         {
          "tau_DL04": 2400000,
          "value": 0.23257261500812942,
          "variable": "tau_T4"
         },
         {
          "tau_DL04": 14000000,
          "value": 0.029963223377443202,
          "variable": "tau_T4"
         },
         {
          "tau_DL04": 9600000,
          "value": 0,
          "variable": "tau_T4"
         },
         {
          "tau_DL04": 8900000,
          "value": -0.3696064100281026,
          "variable": "tau_T4"
         },
         {
          "tau_DL04": 19000000,
          "value": 0.043465693781090345,
          "variable": "tau_T4"
         },
         {
          "tau_DL04": 4200000,
          "value": 0.03950854128367365,
          "variable": "tau_T4"
         },
         {
          "tau_DL04": 14000000,
          "value": 0.3010299956639812,
          "variable": "tau_T4"
         },
         {
          "tau_DL04": 8400000,
          "value": -0.20827594242708247,
          "variable": "tau_T4"
         },
         {
          "tau_DL04": 14000000,
          "value": 0.13262556527459096,
          "variable": "tau_T4"
         },
         {
          "tau_DL04": 4100000,
          "value": 1.0947863193782008,
          "variable": "tau_T4"
         },
         {
          "tau_DL04": 94000,
          "value": 0.8593810591065376,
          "variable": "tau_T4"
         },
         {
          "tau_DL04": 12000000,
          "value": -0.09240951178137997,
          "variable": "tau_T4"
         },
         {
          "tau_DL04": 3000000,
          "value": -0.1983676537668335,
          "variable": "tau_T4"
         },
         {
          "tau_DL04": 9700000,
          "value": 0.15935630141199317,
          "variable": "tau_T4"
         },
         {
          "tau_DL04": 14000000,
          "value": 0.3979400086720376,
          "variable": "tau_T4"
         },
         {
          "tau_DL04": 20000000,
          "value": 0.5185139398778874,
          "variable": "tau_T4"
         },
         {
          "tau_DL04": 160000,
          "value": 1.3756636139608853,
          "variable": "tau_T4"
         },
         {
          "tau_DL04": 20000000,
          "value": 0.49831055378960054,
          "variable": "tau_T4"
         },
         {
          "tau_DL04": 4700000,
          "value": -0.4960065988800362,
          "variable": "tau_T4"
         },
         {
          "tau_DL04": 280000,
          "value": 0.853871964321762,
          "variable": "tau_T4"
         },
         {
          "tau_DL04": 6300000,
          "value": 0.45593195564972433,
          "variable": "tau_T4"
         },
         {
          "tau_DL04": 8300000,
          "value": -0.061745595944805436,
          "variable": "tau_T4"
         },
         {
          "tau_DL04": 4800000,
          "value": 0.5492076840026867,
          "variable": "tau_T4"
         },
         {
          "tau_DL04": 83000,
          "value": 2.6719865146504254,
          "variable": "tau_T4"
         },
         {
          "tau_DL04": 8900000,
          "value": 0.9748892794169689,
          "variable": "tau_T4"
         },
         {
          "tau_DL04": 2300000,
          "value": 0.08543019532462637,
          "variable": "tau_T4"
         },
         {
          "tau_DL04": 980000,
          "value": 0.9819017779072038,
          "variable": "tau_T4"
         },
         {
          "tau_DL04": 9800000,
          "value": 0.2640464294108112,
          "variable": "tau_T4"
         },
         {
          "tau_DL04": 8700000,
          "value": -0.041892161328177094,
          "variable": "tau_T4"
         },
         {
          "tau_DL04": 18000000,
          "value": 0.15970084286751188,
          "variable": "tau_T4"
         },
         {
          "tau_DL04": 2100000,
          "value": 0.2905645619858162,
          "variable": "tau_T4"
         },
         {
          "tau_DL04": 4500000,
          "value": 0.19804583494373157,
          "variable": "tau_T4"
         },
         {
          "tau_DL04": 120000,
          "value": 0.4890204780193702,
          "variable": "tau_T4"
         },
         {
          "tau_DL04": 6300000,
          "value": 0.43110837192469226,
          "variable": "tau_T4"
         },
         {
          "tau_DL04": 15000000,
          "value": -2.2730012720637376,
          "variable": "tau_T4"
         },
         {
          "tau_DL04": 9100000,
          "value": 0.018682212967754193,
          "variable": "tau_T4"
         },
         {
          "tau_DL04": 2600000,
          "value": 0.09017663034908803,
          "variable": "tau_T4"
         },
         {
          "tau_DL04": 15000000,
          "value": 0.20411998265592482,
          "variable": "tau_T4"
         },
         {
          "tau_DL04": 14000000,
          "value": 0.45593195564972433,
          "variable": "tau_T4"
         },
         {
          "tau_DL04": 12000000,
          "value": 0.6368220975871743,
          "variable": "tau_T4"
         },
         {
          "tau_DL04": 3800000,
          "value": 0.02227639471115221,
          "variable": "tau_T4"
         },
         {
          "tau_DL04": 18000,
          "value": 1,
          "variable": "tau_T4"
         },
         {
          "tau_DL04": 170000,
          "value": 1.7472746839105737,
          "variable": "tau_T4"
         },
         {
          "tau_DL04": 1300000,
          "value": 0.032184683371401235,
          "variable": "tau_T4"
         },
         {
          "tau_DL04": 12000000,
          "value": 0.1512676753306491,
          "variable": "tau_T4"
         },
         {
          "tau_DL04": 750000,
          "value": 0,
          "variable": "tau_T4"
         },
         {
          "tau_DL04": 8500000,
          "value": 0.184524426592544,
          "variable": "tau_T4"
         },
         {
          "tau_DL04": 9200000,
          "value": -0.07729710217307337,
          "variable": "tau_T4"
         },
         {
          "tau_DL04": 12000000,
          "value": -1.8004276450947958,
          "variable": "tau_T4"
         },
         {
          "tau_DL04": 7500000,
          "value": 0.0057523288890913415,
          "variable": "tau_T4"
         },
         {
          "tau_DL04": 14000000,
          "value": 0.6172999578846993,
          "variable": "tau_T4"
         },
         {
          "tau_DL04": 9000000,
          "value": 0.6478174818886375,
          "variable": "tau_T4"
         },
         {
          "tau_DL04": 15000000,
          "value": 0.5314789170422551,
          "variable": "tau_T4"
         },
         {
          "tau_DL04": 5300000,
          "value": 0.22511413704412372,
          "variable": "tau_T4"
         },
         {
          "tau_DL04": 6600000,
          "value": 0.4109049858364052,
          "variable": "tau_T4"
         },
         {
          "tau_DL04": 1100000,
          "value": 0.6307051727774924,
          "variable": "tau_T4"
         },
         {
          "tau_DL04": 3300000,
          "value": 0.43572856956143735,
          "variable": "tau_T4"
         },
         {
          "tau_DL04": 240000,
          "value": 0.49485002168009407,
          "variable": "tau_T4"
         },
         {
          "tau_DL04": 8300000,
          "value": 0.7436797393055001,
          "variable": "tau_T4"
         },
         {
          "tau_DL04": 12000000,
          "value": 0.6916707655945193,
          "variable": "tau_T4"
         },
         {
          "tau_DL04": 45000,
          "value": 2.276206411938949,
          "variable": "tau_T4"
         },
         {
          "tau_DL04": 2400000,
          "value": 0,
          "variable": "tau_T4"
         },
         {
          "tau_DL04": 9200000,
          "value": 0.3979400086720376,
          "variable": "tau_T4"
         },
         {
          "tau_DL04": 7500000,
          "value": 0.32905871926422475,
          "variable": "tau_T4"
         },
         {
          "tau_DL04": 53000,
          "value": 0.2152433830178295,
          "variable": "tau_T4"
         },
         {
          "tau_DL04": 2400000,
          "value": 1.2430380486862944,
          "variable": "tau_T4"
         },
         {
          "tau_DL04": 18000000,
          "value": 0.5081554884596312,
          "variable": "tau_T4"
         },
         {
          "tau_DL04": 4300000,
          "value": 0.7815048923912314,
          "variable": "tau_T4"
         },
         {
          "tau_DL04": 7100000,
          "value": 0.22792289732854953,
          "variable": "tau_T4"
         },
         {
          "tau_DL04": 94000,
          "value": 1.6896299780818753,
          "variable": "tau_T4"
         },
         {
          "tau_DL04": 3900000,
          "value": 0.010995384301463145,
          "variable": "tau_T4"
         },
         {
          "tau_DL04": 9700000,
          "value": 0.008863460331305032,
          "variable": "tau_T4"
         },
         {
          "tau_DL04": 9000000,
          "value": 0.04575749056067514,
          "variable": "tau_T4"
         },
         {
          "tau_DL04": 8200000,
          "value": 0.06390975290513104,
          "variable": "tau_T4"
         },
         {
          "tau_DL04": 83000000,
          "value": -1.932306358109829,
          "variable": "tau_T4"
         },
         {
          "tau_DL04": 8300000,
          "value": 0.6607055042407363,
          "variable": "tau_T4"
         },
         {
          "tau_DL04": 18000000,
          "value": 0.023481095849522904,
          "variable": "tau_T4"
         },
         {
          "tau_DL04": 7000000,
          "value": 0.8176597916673172,
          "variable": "tau_T4"
         },
         {
          "tau_DL04": 38000000,
          "value": 0.226396377367077,
          "variable": "tau_T4"
         },
         {
          "tau_DL04": 96000,
          "value": 1.3187587626244128,
          "variable": "tau_T4"
         },
         {
          "tau_DL04": 19000000,
          "value": -0.773603622632923,
          "variable": "tau_T4"
         },
         {
          "tau_DL04": 5800000,
          "value": 0.014723256820706378,
          "variable": "tau_T4"
         },
         {
          "tau_DL04": 6300000,
          "value": -0.9542425094393249,
          "variable": "tau_T4"
         },
         {
          "tau_DL04": 5300000,
          "value": 0.23951195774476622,
          "variable": "tau_T4"
         },
         {
          "tau_DL04": 9200000,
          "value": 0.03621217265444471,
          "variable": "tau_T4"
         },
         {
          "tau_DL04": 12000000,
          "value": -1.0377885608893997,
          "variable": "tau_T4"
         },
         {
          "tau_DL04": 9200000,
          "value": 0.6044138967214396,
          "variable": "tau_T4"
         },
         {
          "tau_DL04": 12000000,
          "value": -0.4771212547196625,
          "variable": "tau_T4"
         },
         {
          "tau_DL04": 150000,
          "value": 1.587336734507256,
          "variable": "tau_T4"
         },
         {
          "tau_DL04": 3900000,
          "value": 0.28974898525429216,
          "variable": "tau_T4"
         },
         {
          "tau_DL04": 8900000,
          "value": 0.28105891473336114,
          "variable": "tau_T4"
         },
         {
          "tau_DL04": 9100000,
          "value": -0.7037688872177875,
          "variable": "tau_T4"
         },
         {
          "tau_DL04": 3700000,
          "value": -0.3129292189636889,
          "variable": "tau_T4"
         },
         {
          "tau_DL04": 10000000,
          "value": -0.00877392430750515,
          "variable": "tau_T4"
         },
         {
          "tau_DL04": 8900000,
          "value": 0.12979123940271203,
          "variable": "tau_T4"
         },
         {
          "tau_DL04": 17000000,
          "value": 0.13127891463931898,
          "variable": "tau_T4"
         },
         {
          "tau_DL04": 5600000,
          "value": 0,
          "variable": "tau_T4"
         },
         {
          "tau_DL04": 8300000,
          "value": 0.7969252512587253,
          "variable": "tau_T4"
         },
         {
          "tau_DL04": 18000000,
          "value": 0,
          "variable": "tau_T4"
         },
         {
          "tau_DL04": 13000000,
          "value": -0.4063731762089004,
          "variable": "tau_T4"
         },
         {
          "tau_DL04": 990000,
          "value": 0.4957264992367228,
          "variable": "tau_T4"
         },
         {
          "tau_DL04": 14000000,
          "value": -0.146128035678238,
          "variable": "tau_T4"
         },
         {
          "tau_DL04": 99000,
          "value": 2.150492841080688,
          "variable": "tau_T4"
         },
         {
          "tau_DL04": 12000000,
          "value": -0.2938514110368578,
          "variable": "tau_T4"
         },
         {
          "tau_DL04": 7700000,
          "value": -0.7103994661168006,
          "variable": "tau_T4"
         },
         {
          "tau_DL04": 20000000,
          "value": -1.4749551929631548,
          "variable": "tau_T4"
         },
         {
          "tau_DL04": 3100000,
          "value": -0.2360891887309666,
          "variable": "tau_T4"
         },
         {
          "tau_DL04": 990000,
          "value": -1.0713559085356683,
          "variable": "tau_T4"
         },
         {
          "tau_DL04": 3200000,
          "value": 0.4816217559463389,
          "variable": "tau_T4"
         },
         {
          "tau_DL04": 640000,
          "value": -0.8105447793863373,
          "variable": "tau_T4"
         },
         {
          "tau_DL04": 5900000,
          "value": -0.007424018079206888,
          "variable": "tau_T4"
         },
         {
          "tau_DL04": 5800000,
          "value": -0.18364439694612714,
          "variable": "tau_T4"
         },
         {
          "tau_DL04": 31000,
          "value": 0.7639108112690334,
          "variable": "tau_T4"
         },
         {
          "tau_DL04": 6300000,
          "value": 0.12493873660829992,
          "variable": "tau_T4"
         },
         {
          "tau_DL04": 4900000,
          "value": 0.5402528413497603,
          "variable": "tau_T4"
         },
         {
          "tau_DL04": 8900000,
          "value": 0.39303267417729343,
          "variable": "tau_T4"
         },
         {
          "tau_DL04": 16000000,
          "value": -0.02802872360024354,
          "variable": "tau_T4"
         },
         {
          "tau_DL04": 12000000,
          "value": 0.24303804868629442,
          "variable": "tau_T4"
         },
         {
          "tau_DL04": 17000000,
          "value": 0.13127891463931898,
          "variable": "tau_T4"
         },
         {
          "tau_DL04": 34000000,
          "value": -0.7185655603993996,
          "variable": "tau_T4"
         },
         {
          "tau_DL04": 9900000,
          "value": 0.32658410013636935,
          "variable": "tau_T4"
         },
         {
          "tau_DL04": 1000000,
          "value": 1.2787536009528289,
          "variable": "tau_T4"
         },
         {
          "tau_DL04": 9900000,
          "value": 0.40230481407448765,
          "variable": "tau_T4"
         },
         {
          "tau_DL04": 14000000,
          "value": 0.10914446942506809,
          "variable": "tau_T4"
         },
         {
          "tau_DL04": 16000000,
          "value": -1.1627272974976997,
          "variable": "tau_T4"
         },
         {
          "tau_DL04": 63000,
          "value": 0.7569619513137056,
          "variable": "tau_T4"
         },
         {
          "tau_DL04": 18000000,
          "value": 0.14266750356873154,
          "variable": "tau_T4"
         },
         {
          "tau_DL04": 48000000,
          "value": -0.4771212547196625,
          "variable": "tau_T4"
         },
         {
          "tau_DL04": 9200000,
          "value": -0.787696568289874,
          "variable": "tau_T4"
         },
         {
          "tau_DL04": 1300000,
          "value": 1.3174204118521506,
          "variable": "tau_T4"
         },
         {
          "tau_DL04": 3700000,
          "value": 0.2578730786338314,
          "variable": "tau_T4"
         },
         {
          "tau_DL04": 1500000,
          "value": 1.2388820889151366,
          "variable": "tau_T4"
         },
         {
          "tau_DL04": 12000000,
          "value": 0.12493873660829992,
          "variable": "tau_T4"
         },
         {
          "tau_DL04": 24000000,
          "value": 0.21085336531489318,
          "variable": "tau_T4"
         },
         {
          "tau_DL04": 8400000,
          "value": -1.2808266095756942,
          "variable": "tau_T4"
         },
         {
          "tau_DL04": 7000000,
          "value": 0.07398005236181707,
          "variable": "tau_T4"
         },
         {
          "tau_DL04": 9500000,
          "value": -0.9909518710226028,
          "variable": "tau_T4"
         },
         {
          "tau_DL04": 1300000,
          "value": 0.09017663034908803,
          "variable": "tau_T4"
         },
         {
          "tau_DL04": 6900000,
          "value": -0.5600954897844264,
          "variable": "tau_T4"
         },
         {
          "tau_DL04": 9200000,
          "value": 0.6272767796809439,
          "variable": "tau_T4"
         },
         {
          "tau_DL04": 170000,
          "value": 1.7695510786217261,
          "variable": "tau_T4"
         },
         {
          "tau_DL04": 11000000,
          "value": 0.18905623622004886,
          "variable": "tau_T4"
         },
         {
          "tau_DL04": 12000000,
          "value": 0.2632414347745814,
          "variable": "tau_T4"
         },
         {
          "tau_DL04": 5700000,
          "value": -0.4771212547196625,
          "variable": "tau_T4"
         },
         {
          "tau_DL04": 7800000,
          "value": 0.05729540395443236,
          "variable": "tau_T4"
         },
         {
          "tau_DL04": 5800000,
          "value": 0.19561339875815628,
          "variable": "tau_T4"
         },
         {
          "tau_DL04": 18000000,
          "value": 0.15970084286751188,
          "variable": "tau_T4"
         },
         {
          "tau_DL04": 19000000,
          "value": 0.11918640771920867,
          "variable": "tau_T4"
         },
         {
          "tau_DL04": 12000000,
          "value": -0.11539341870206953,
          "variable": "tau_T4"
         },
         {
          "tau_DL04": 4000000,
          "value": -1.3010299956639813,
          "variable": "tau_T4"
         },
         {
          "tau_DL04": 9300000,
          "value": 0.5755850957963405,
          "variable": "tau_T4"
         },
         {
          "tau_DL04": 20000000,
          "value": -0.8096683018297085,
          "variable": "tau_T4"
         },
         {
          "tau_DL04": 91000,
          "value": 0.9494436265575562,
          "variable": "tau_T4"
         },
         {
          "tau_DL04": 20000000,
          "value": -1.0705810742857071,
          "variable": "tau_T4"
         },
         {
          "tau_DL04": 3900000,
          "value": 0.5550634286517389,
          "variable": "tau_T4"
         },
         {
          "tau_DL04": 3200000,
          "value": 0.09691001300805642,
          "variable": "tau_T4"
         },
         {
          "tau_DL04": 94000,
          "value": -0.14705305089887225,
          "variable": "tau_T4"
         },
         {
          "tau_DL04": 13000000,
          "value": 0.28399665636520083,
          "variable": "tau_T4"
         },
         {
          "tau_DL04": 7100000,
          "value": -0.419894584560088,
          "variable": "tau_T4"
         },
         {
          "tau_DL04": 16000000,
          "value": -0.5509074688805811,
          "variable": "tau_T4"
         },
         {
          "tau_DL04": 3100000,
          "value": -0.3452336581560347,
          "variable": "tau_T4"
         },
         {
          "tau_DL04": 1800000,
          "value": 0.22184874961635637,
          "variable": "tau_T4"
         },
         {
          "tau_DL04": 740000,
          "value": 0.5109795219806299,
          "variable": "tau_T4"
         },
         {
          "tau_DL04": 79000,
          "value": 0.6705746327765536,
          "variable": "tau_T4"
         },
         {
          "tau_DL04": 890000,
          "value": 1.023737846954786,
          "variable": "tau_T4"
         },
         {
          "tau_DL04": 9000000,
          "value": -0.3414586527195894,
          "variable": "tau_T4"
         },
         {
          "tau_DL04": 8500000,
          "value": 0.6726410656136697,
          "variable": "tau_T4"
         },
         {
          "tau_DL04": 5700000,
          "value": -0.15381486434452904,
          "variable": "tau_T4"
         },
         {
          "tau_DL04": 3100000,
          "value": 0.5500309913239524,
          "variable": "tau_T4"
         },
         {
          "tau_DL04": 17000000,
          "value": -0.0543576623225927,
          "variable": "tau_T4"
         },
         {
          "tau_DL04": 9300000,
          "value": 0.7873919071185562,
          "variable": "tau_T4"
         },
         {
          "tau_DL04": 9000000,
          "value": 0.24987747321659987,
          "variable": "tau_T4"
         },
         {
          "tau_DL04": 6400000,
          "value": 0.27300127206373764,
          "variable": "tau_T4"
         },
         {
          "tau_DL04": 20000000,
          "value": -1.9208187539523751,
          "variable": "tau_T4"
         },
         {
          "tau_DL04": 4700000,
          "value": -0.12802981358544185,
          "variable": "tau_T4"
         },
         {
          "tau_DL04": 2200000,
          "value": 0.07255066714861175,
          "variable": "tau_T4"
         },
         {
          "tau_DL04": 2500000,
          "value": 0.03342375548694973,
          "variable": "tau_T4"
         },
         {
          "tau_DL04": 11000000,
          "value": -0.27054067351608085,
          "variable": "tau_T4"
         },
         {
          "tau_DL04": 9200000,
          "value": -0.17845799233478826,
          "variable": "tau_T4"
         },
         {
          "tau_DL04": 6400000,
          "value": 0.0803107511885947,
          "variable": "tau_T4"
         },
         {
          "tau_DL04": 23000000,
          "value": -0.9145698046753736,
          "variable": "tau_T4"
         },
         {
          "tau_DL04": 9100000,
          "value": 0.023229840718474823,
          "variable": "tau_T4"
         },
         {
          "tau_DL04": 9100000,
          "value": -0.28694353438537606,
          "variable": "tau_T4"
         },
         {
          "tau_DL04": 2000000,
          "value": 1.0969100130080565,
          "variable": "tau_T4"
         },
         {
          "tau_DL04": 8800000,
          "value": 0.2859662492281053,
          "variable": "tau_T4"
         },
         {
          "tau_DL04": 7100000,
          "value": -0.01874943601283899,
          "variable": "tau_T4"
         },
         {
          "tau_DL04": 13000000,
          "value": -0.11830815770928689,
          "variable": "tau_T4"
         },
         {
          "tau_DL04": 37000000,
          "value": -0.5859304910274266,
          "variable": "tau_T4"
         },
         {
          "tau_DL04": 5400000,
          "value": 0.007968929671275373,
          "variable": "tau_T4"
         },
         {
          "tau_DL04": 7200000,
          "value": -0.6532125137753437,
          "variable": "tau_T4"
         },
         {
          "tau_DL04": 15000000,
          "value": 0.4366925976640542,
          "variable": "tau_T4"
         },
         {
          "tau_DL04": 4000000,
          "value": 0.6532125137753437,
          "variable": "tau_T4"
         },
         {
          "tau_DL04": 3900000,
          "value": -0.14390657568427997,
          "variable": "tau_T4"
         },
         {
          "tau_DL04": 16000000,
          "value": 0.07463361829690418,
          "variable": "tau_T4"
         },
         {
          "tau_DL04": 14000000,
          "value": -0.2066087830596195,
          "variable": "tau_T4"
         },
         {
          "tau_DL04": 4300000,
          "value": -0.8931057660853426,
          "variable": "tau_T4"
         },
         {
          "tau_DL04": 5800000,
          "value": 0.028963695935316558,
          "variable": "tau_T4"
         },
         {
          "tau_DL04": 8700000,
          "value": 0.29092966875965537,
          "variable": "tau_T4"
         },
         {
          "tau_DL04": 4400000,
          "value": -0.2120889123272001,
          "variable": "tau_T4"
         },
         {
          "tau_DL04": 17000000,
          "value": 0.04830467957455504,
          "variable": "tau_T4"
         },
         {
          "tau_DL04": 7400000,
          "value": -0.6651117370750514,
          "variable": "tau_T4"
         },
         {
          "tau_DL04": 18000000,
          "value": 0.04575749056067514,
          "variable": "tau_T4"
         },
         {
          "tau_DL04": 700000,
          "value": 1.4101744650890493,
          "variable": "tau_T4"
         },
         {
          "tau_DL04": 2200000,
          "value": -0.02020338608828695,
          "variable": "tau_T4"
         },
         {
          "tau_DL04": 3200000,
          "value": -0.16272729749769974,
          "variable": "tau_T4"
         },
         {
          "tau_DL04": 17000000,
          "value": 0.2319490765206821,
          "variable": "tau_T4"
         },
         {
          "tau_DL04": 3800000,
          "value": -0.035715552266534535,
          "variable": "tau_T4"
         },
         {
          "tau_DL04": 4000000,
          "value": 0.9164539485499251,
          "variable": "tau_T4"
         },
         {
          "tau_DL04": 9900000,
          "value": 0.6378332609820366,
          "variable": "tau_T4"
         },
         {
          "tau_DL04": 970000,
          "value": 0.05462095089198018,
          "variable": "tau_T4"
         },
         {
          "tau_DL04": 10000000,
          "value": 0.17609125905568124,
          "variable": "tau_T4"
         },
         {
          "tau_DL04": 23000000,
          "value": 0.37863485347665093,
          "variable": "tau_T4"
         },
         {
          "tau_DL04": 29000000,
          "value": -1.0152399665567369,
          "variable": "tau_T4"
         },
         {
          "tau_DL04": 9200000,
          "value": 0.6159957692712549,
          "variable": "tau_T4"
         },
         {
          "tau_DL04": 9100000,
          "value": 0.04095860767890644,
          "variable": "tau_T4"
         },
         {
          "tau_DL04": 4300000,
          "value": -0.010219165181686082,
          "variable": "tau_T4"
         },
         {
          "tau_DL04": 4300000,
          "value": 0.04777278179600068,
          "variable": "tau_T4"
         },
         {
          "tau_DL04": 9200000,
          "value": 0.013935777943292463,
          "variable": "tau_T4"
         },
         {
          "tau_DL04": 2600000,
          "value": 0.047424649928138135,
          "variable": "tau_T4"
         },
         {
          "tau_DL04": 9000000,
          "value": 0.6255410871774852,
          "variable": "tau_T4"
         },
         {
          "tau_DL04": 6700000,
          "value": 0.08773904968289024,
          "variable": "tau_T4"
         },
         {
          "tau_DL04": 8400000,
          "value": 0.5228787452803376,
          "variable": "tau_T4"
         },
         {
          "tau_DL04": 6000000,
          "value": 0.09108046934733258,
          "variable": "tau_T4"
         },
         {
          "tau_DL04": 360000,
          "value": 1.4121804477866478,
          "variable": "tau_T4"
         },
         {
          "tau_DL04": 24000000,
          "value": 0.017728766960431616,
          "variable": "tau_T4"
         },
         {
          "tau_DL04": 7600000,
          "value": -1.1249387366083,
          "variable": "tau_T4"
         },
         {
          "tau_DL04": 6300000,
          "value": -0.09177037335564533,
          "variable": "tau_T4"
         },
         {
          "tau_DL04": 12000000,
          "value": -0.19269052087514293,
          "variable": "tau_T4"
         },
         {
          "tau_DL04": 15000000,
          "value": 0.6627578316815741,
          "variable": "tau_T4"
         },
         {
          "tau_DL04": 1300000,
          "value": -0.03476210625921192,
          "variable": "tau_T4"
         },
         {
          "tau_DL04": 26000000,
          "value": 0.15322837609617704,
          "variable": "tau_T4"
         },
         {
          "tau_DL04": 9600000,
          "value": -0.009143379439869771,
          "variable": "tau_T4"
         },
         {
          "tau_DL04": 9600000,
          "value": 0.3399480616943509,
          "variable": "tau_T4"
         },
         {
          "tau_DL04": 9300000,
          "value": -0.09925122882295893,
          "variable": "tau_T4"
         },
         {
          "tau_DL04": 21000000,
          "value": 0.03950854128367365,
          "variable": "tau_T4"
         },
         {
          "tau_DL04": 7500000,
          "value": 0.1161648123007948,
          "variable": "tau_T4"
         },
         {
          "tau_DL04": 370000,
          "value": -0.48902047801937015,
          "variable": "tau_T4"
         },
         {
          "tau_DL04": 2900000,
          "value": 0.05611594197893141,
          "variable": "tau_T4"
         },
         {
          "tau_DL04": 82000,
          "value": 0.015605073330576055,
          "variable": "tau_T4"
         },
         {
          "tau_DL04": 4800000,
          "value": 0.5492076840026867,
          "variable": "tau_T4"
         },
         {
          "tau_DL04": 9200000,
          "value": -1.4323089103033002,
          "variable": "tau_T4"
         },
         {
          "tau_DL04": 3900000,
          "value": 0.1723633865364381,
          "variable": "tau_T4"
         },
         {
          "tau_DL04": 4000000,
          "value": 0.11394335230683678,
          "variable": "tau_T4"
         },
         {
          "tau_DL04": 4200000,
          "value": -1.5093059380910636,
          "variable": "tau_T4"
         },
         {
          "tau_DL04": 170000,
          "value": 1.915679114299964,
          "variable": "tau_T4"
         },
         {
          "tau_DL04": 35000000,
          "value": 0.03571555226653449,
          "variable": "tau_T4"
         },
         {
          "tau_DL04": 9400000,
          "value": 0.2309921290562261,
          "variable": "tau_T4"
         },
         {
          "tau_DL04": 1800000,
          "value": 0.15970084286751188,
          "variable": "tau_T4"
         },
         {
          "tau_DL04": 9700000,
          "value": -1.187431184812663,
          "variable": "tau_T4"
         },
         {
          "tau_DL04": 30000000,
          "value": 0.028028723600243534,
          "variable": "tau_T4"
         },
         {
          "tau_DL04": 9900000,
          "value": 0.20848478805837486,
          "variable": "tau_T4"
         },
         {
          "tau_DL04": 20000000,
          "value": -0.6289321377282637,
          "variable": "tau_T4"
         },
         {
          "tau_DL04": 13000000,
          "value": 0.2082759424270825,
          "variable": "tau_T4"
         },
         {
          "tau_DL04": 10000000,
          "value": 0.146128035678238,
          "variable": "tau_T4"
         },
         {
          "tau_DL04": 15000000,
          "value": 0.32905871926422475,
          "variable": "tau_T4"
         },
         {
          "tau_DL04": 15000000,
          "value": 0.16633142176652496,
          "variable": "tau_T4"
         },
         {
          "tau_DL04": 10000000,
          "value": 0.04139268515822507,
          "variable": "tau_T4"
         },
         {
          "tau_DL04": 5200000,
          "value": 0.032184683371401235,
          "variable": "tau_T4"
         },
         {
          "tau_DL04": 3600000,
          "value": 0.07716595481229925,
          "variable": "tau_T4"
         },
         {
          "tau_DL04": 4300000,
          "value": 0.17944490106326905,
          "variable": "tau_T4"
         },
         {
          "tau_DL04": 9200000,
          "value": 0.013935777943292463,
          "variable": "tau_T4"
         },
         {
          "tau_DL04": 3800000,
          "value": 0.3840042307287451,
          "variable": "tau_T4"
         },
         {
          "tau_DL04": 8900000,
          "value": -0.14321003266102564,
          "variable": "tau_T4"
         },
         {
          "tau_DL04": 12000000,
          "value": -1.101457640758777,
          "variable": "tau_T4"
         },
         {
          "tau_DL04": 14000000,
          "value": 0.5351132016973491,
          "variable": "tau_T4"
         },
         {
          "tau_DL04": 18000000,
          "value": 0.023481095849522904,
          "variable": "tau_T4"
         },
         {
          "tau_DL04": 20000000,
          "value": -0.045757490560675115,
          "variable": "tau_T4"
         },
         {
          "tau_DL04": 31000000,
          "value": 0,
          "variable": "tau_T4"
         },
         {
          "tau_DL04": 49000000,
          "value": -0.06694678963061322,
          "variable": "tau_T4"
         },
         {
          "tau_DL04": 3500000,
          "value": 0.11868978733129844,
          "variable": "tau_T4"
         },
         {
          "tau_DL04": 20000000,
          "value": -0.022276394711152253,
          "variable": "tau_T4"
         },
         {
          "tau_DL04": 160000,
          "value": 0.026328938722349145,
          "variable": "tau_T4"
         },
         {
          "tau_DL04": 3700000,
          "value": -0.07684003023272232,
          "variable": "tau_T4"
         },
         {
          "tau_DL04": 9800000,
          "value": -0.3191282177567774,
          "variable": "tau_T4"
         },
         {
          "tau_DL04": 9300000,
          "value": 0.7475203950808641,
          "variable": "tau_T4"
         },
         {
          "tau_DL04": 33000000,
          "value": -0.07135590853566824,
          "variable": "tau_T4"
         },
         {
          "tau_DL04": 98000,
          "value": 2.21289390696343,
          "variable": "tau_T4"
         },
         {
          "tau_DL04": 13000000,
          "value": 0.062147906748844434,
          "variable": "tau_T4"
         },
         {
          "tau_DL04": 6200000,
          "value": -0.3774183415274359,
          "variable": "tau_T4"
         },
         {
          "tau_DL04": 640000,
          "value": 1.1850461017086076,
          "variable": "tau_T4"
         },
         {
          "tau_DL04": 6000000,
          "value": 0.8939466075520738,
          "variable": "tau_T4"
         },
         {
          "tau_DL04": 24000000,
          "value": 0.1512676753306491,
          "variable": "tau_T4"
         },
         {
          "tau_DL04": 6200000,
          "value": 0.15209098265191476,
          "variable": "tau_T4"
         },
         {
          "tau_DL04": 4600000,
          "value": 0.22373289349090783,
          "variable": "tau_T4"
         },
         {
          "tau_DL04": 3800000,
          "value": -0.5006023505691853,
          "variable": "tau_T4"
         },
         {
          "tau_DL04": 2800000,
          "value": 0.5942346538160057,
          "variable": "tau_T4"
         },
         {
          "tau_DL04": 13000000,
          "value": 0.062147906748844434,
          "variable": "tau_T4"
         },
         {
          "tau_DL04": 990000,
          "value": 0.20848478805837486,
          "variable": "tau_T4"
         },
         {
          "tau_DL04": 8400000,
          "value": 0.05799194697768673,
          "variable": "tau_T4"
         },
         {
          "tau_DL04": 21000000,
          "value": 0.34053853694765485,
          "variable": "tau_T4"
         },
         {
          "tau_DL04": 1400000,
          "value": 0.029963223377443202,
          "variable": "tau_T4"
         },
         {
          "tau_DL04": 5500000,
          "value": -0.08715017571890014,
          "variable": "tau_T4"
         },
         {
          "tau_DL04": 16000000,
          "value": -0.057991946977686754,
          "variable": "tau_T4"
         },
         {
          "tau_DL04": 8900000,
          "value": 0.4977680246973064,
          "variable": "tau_T4"
         },
         {
          "tau_DL04": 6300000,
          "value": -0.19728055812561934,
          "variable": "tau_T4"
         },
         {
          "tau_DL04": 78000,
          "value": 2.3383543186877933,
          "variable": "tau_T4"
         },
         {
          "tau_DL04": 17000000,
          "value": 0.33775280268872104,
          "variable": "tau_T4"
         },
         {
          "tau_DL04": 6000000,
          "value": -0.7367585652254186,
          "variable": "tau_T4"
         },
         {
          "tau_DL04": 540000,
          "value": -0.6910010746647435,
          "variable": "tau_T4"
         },
         {
          "tau_DL04": 9200000,
          "value": 0.07760485781266976,
          "variable": "tau_T4"
         },
         {
          "tau_DL04": 8600000,
          "value": 0.2116295844346703,
          "variable": "tau_T4"
         },
         {
          "tau_DL04": 26000000,
          "value": -0.18452442659254403,
          "variable": "tau_T4"
         },
         {
          "tau_DL04": 19000000,
          "value": 0,
          "variable": "tau_T4"
         },
         {
          "tau_DL04": 4600000,
          "value": 0.6594614630523452,
          "variable": "tau_T4"
         },
         {
          "tau_DL04": 14000000,
          "value": -0.16840443038939024,
          "variable": "tau_T4"
         },
         {
          "tau_DL04": 16000000,
          "value": -0.30649289136548336,
          "variable": "tau_T4"
         },
         {
          "tau_DL04": 9500000,
          "value": -0.44624468824659264,
          "variable": "tau_T4"
         },
         {
          "tau_DL04": 9100000,
          "value": -0.24303804868629447,
          "variable": "tau_T4"
         },
         {
          "tau_DL04": 9200000,
          "value": 0.48337020399666397,
          "variable": "tau_T4"
         },
         {
          "tau_DL04": 4800000,
          "value": 0.026328938722349145,
          "variable": "tau_T4"
         },
         {
          "tau_DL04": 35000000,
          "value": 0.03571555226653449,
          "variable": "tau_T4"
         },
         {
          "tau_DL04": 9300000,
          "value": 0.013788284485633283,
          "variable": "tau_T4"
         },
         {
          "tau_DL04": 32000000,
          "value": -0.057991946977686754,
          "variable": "tau_T4"
         },
         {
          "tau_DL04": 9700000,
          "value": 0.35565094655596136,
          "variable": "tau_T4"
         },
         {
          "tau_DL04": 7500000,
          "value": -0.2730012720637377,
          "variable": "tau_T4"
         },
         {
          "tau_DL04": 9400000,
          "value": 0.018098222092796223,
          "variable": "tau_T4"
         },
         {
          "tau_DL04": 150000,
          "value": 0,
          "variable": "tau_T4"
         },
         {
          "tau_DL04": 3800000,
          "value": 0.09231426131890734,
          "variable": "tau_T4"
         },
         {
          "tau_DL04": 14000000,
          "value": 0.516629796003336,
          "variable": "tau_T4"
         },
         {
          "tau_DL04": 17000000,
          "value": 0.27470105694163205,
          "variable": "tau_T4"
         },
         {
          "tau_DL04": 4100000,
          "value": -0.40866387406381066,
          "variable": "tau_T4"
         },
         {
          "tau_DL04": 6000000,
          "value": -1.0377885608893997,
          "variable": "tau_T4"
         },
         {
          "tau_DL04": 9800000,
          "value": -1.2836558995945584,
          "variable": "tau_T4"
         },
         {
          "tau_DL04": 6400000,
          "value": 0.6709412807357753,
          "variable": "tau_T4"
         },
         {
          "tau_DL04": 7700000,
          "value": 0.15490195998574316,
          "variable": "tau_T4"
         },
         {
          "tau_DL04": 14000000,
          "value": 0.3309932190414244,
          "variable": "tau_T4"
         },
         {
          "tau_DL04": 23000000,
          "value": 0.08543019532462637,
          "variable": "tau_T4"
         },
         {
          "tau_DL04": 30000000,
          "value": 0.24715461488112658,
          "variable": "tau_T4"
         },
         {
          "tau_DL04": 9200000,
          "value": -0.3840042307287451,
          "variable": "tau_T4"
         },
         {
          "tau_DL04": 15000000,
          "value": 0.07918124604762482,
          "variable": "tau_T4"
         },
         {
          "tau_DL04": 26000000,
          "value": -0.13621974701798903,
          "variable": "tau_T4"
         },
         {
          "tau_DL04": 3500000,
          "value": 0.09938463213591178,
          "variable": "tau_T4"
         },
         {
          "tau_DL04": 9200000,
          "value": -0.8846065812979305,
          "variable": "tau_T4"
         },
         {
          "tau_DL04": 98000,
          "value": 1.3511966051297115,
          "variable": "tau_T4"
         },
         {
          "tau_DL04": 620000,
          "value": 1.1471275631203648,
          "variable": "tau_T4"
         },
         {
          "tau_DL04": 8500000,
          "value": -0.04292820054181086,
          "variable": "tau_T4"
         },
         {
          "tau_DL04": 5000000,
          "value": 0.3424226808222063,
          "variable": "tau_T4"
         },
         {
          "tau_DL04": 290000,
          "value": 1.1608512924989443,
          "variable": "tau_T4"
         },
         {
          "tau_DL04": 9400000,
          "value": -0.22493982659349826,
          "variable": "tau_T4"
         },
         {
          "tau_DL04": 3100000,
          "value": -0.26091277245599875,
          "variable": "tau_T4"
         },
         {
          "tau_DL04": 1100000,
          "value": -0.1605790928774337,
          "variable": "tau_T4"
         },
         {
          "tau_DL04": 960000,
          "value": -0.359021942641668,
          "variable": "tau_T4"
         },
         {
          "tau_DL04": 470000,
          "value": 0.8719701864145581,
          "variable": "tau_T4"
         },
         {
          "tau_DL04": 14000000,
          "value": 0.10914446942506809,
          "variable": "tau_T4"
         },
         {
          "tau_DL04": 14000000,
          "value": 0.3853508813640171,
          "variable": "tau_T4"
         },
         {
          "tau_DL04": 4400000,
          "value": 0.958607314841775,
          "variable": "tau_T4"
         },
         {
          "tau_DL04": 3800000,
          "value": 1.0536848589627763,
          "variable": "tau_T4"
         },
         {
          "tau_DL04": 8500000,
          "value": -0.04292820054181086,
          "variable": "tau_T4"
         },
         {
          "tau_DL04": 9900000,
          "value": -1.5332371966985938,
          "variable": "tau_T4"
         },
         {
          "tau_DL04": 9000000,
          "value": -1.1983676537668335,
          "variable": "tau_T4"
         },
         {
          "tau_DL04": 8600000,
          "value": 0.8915763514572588,
          "variable": "tau_T4"
         },
         {
          "tau_DL04": 8000000,
          "value": 0,
          "variable": "tau_T4"
         },
         {
          "tau_DL04": 7300000,
          "value": 0,
          "variable": "tau_T4"
         },
         {
          "tau_DL04": 2900000,
          "value": 0,
          "variable": "tau_T4"
         },
         {
          "tau_DL04": 8800000,
          "value": 0.019305155195386624,
          "variable": "tau_T4"
         },
         {
          "tau_DL04": 3700000,
          "value": 0.40028122448694015,
          "variable": "tau_T4"
         },
         {
          "tau_DL04": 820000,
          "value": 0.7582840055520008,
          "variable": "tau_T4"
         },
         {
          "tau_DL04": 150000,
          "value": 0.7377225933280355,
          "variable": "tau_T4"
         },
         {
          "tau_DL04": 6200000,
          "value": 0.04011722320798241,
          "variable": "tau_T4"
         },
         {
          "tau_DL04": 16000000,
          "value": -0.22184874961635637,
          "variable": "tau_T4"
         },
         {
          "tau_DL04": 98000,
          "value": 2.6422423798870915,
          "variable": "tau_T4"
         },
         {
          "tau_DL04": 3900000,
          "value": 0,
          "variable": "tau_T4"
         },
         {
          "tau_DL04": 200000,
          "value": -0.3467874862246563,
          "variable": "tau_T4"
         },
         {
          "tau_DL04": 13000000,
          "value": 0.22847932851536945,
          "variable": "tau_T4"
         },
         {
          "tau_DL04": 82000,
          "value": 2.4286088284384895,
          "variable": "tau_T4"
         },
         {
          "tau_DL04": 8500000,
          "value": -0.48226089437207353,
          "variable": "tau_T4"
         },
         {
          "tau_DL04": 7300000,
          "value": 0.8179183772551313,
          "variable": "tau_T4"
         },
         {
          "tau_DL04": 6300000,
          "value": 0.43110837192469226,
          "variable": "tau_T4"
         },
         {
          "tau_DL04": 10000000,
          "value": -0.026872146400301365,
          "variable": "tau_T4"
         },
         {
          "tau_DL04": 9600000,
          "value": 0.4648867983026508,
          "variable": "tau_T4"
         },
         {
          "tau_DL04": 9100000,
          "value": -0.4405274524432061,
          "variable": "tau_T4"
         },
         {
          "tau_DL04": 740000,
          "value": 0.17216096542724882,
          "variable": "tau_T4"
         },
         {
          "tau_DL04": 4000000,
          "value": 0.5740312677277188,
          "variable": "tau_T4"
         },
         {
          "tau_DL04": 110000,
          "value": 1.5818566052396754,
          "variable": "tau_T4"
         },
         {
          "tau_DL04": 35000000,
          "value": -0.09691001300805639,
          "variable": "tau_T4"
         },
         {
          "tau_DL04": 7300000,
          "value": 0.6681560569217992,
          "variable": "tau_T4"
         },
         {
          "tau_DL04": 5400000,
          "value": 0.015794267183231882,
          "variable": "tau_T4"
         },
         {
          "tau_DL04": 15000000,
          "value": 0.3010299956639812,
          "variable": "tau_T4"
         },
         {
          "tau_DL04": 3900000,
          "value": -0.7277417469060433,
          "variable": "tau_T4"
         },
         {
          "tau_DL04": 8300000,
          "value": 0.12231459278215116,
          "variable": "tau_T4"
         },
         {
          "tau_DL04": 7500000,
          "value": -0.8882895291254552,
          "variable": "tau_T4"
         },
         {
          "tau_DL04": 18000000,
          "value": 0.15970084286751188,
          "variable": "tau_T4"
         },
         {
          "tau_DL04": 45000000,
          "value": -0.3744589128225147,
          "variable": "tau_T4"
         }
        ]
       },
       "encoding": {
        "color": {
         "field": "variable",
         "type": "nominal"
        },
        "x": {
         "bin": {
          "maxbins": 100
         },
         "field": "value",
         "type": "quantitative"
        },
        "y": {
         "aggregate": "count",
         "stack": null,
         "type": "quantitative"
        }
       },
       "mark": {
        "interpolate": "step",
        "opacity": 0.7,
        "type": "area"
       }
      },
      "image/png": "[encoded data removed]",
      "text/plain": [
       "<VegaLite 2 object>\n",
       "\n",
       "If you see this message, it means the renderer has not been properly enabled\n",
       "for the frontend that you are using. For more information, see\n",
       "https://altair-viz.github.io/user_guide/troubleshooting.html\n"
      ]
     },
     "execution_count": 9,
     "metadata": {},
     "output_type": "execute_result"
    }
   ],
   "source": [
    "data_log=data.copy()\n",
    "data_log.value = np.log10(data_log.value/data_log.tau_DL04)\n",
    "alt.Chart(data_log).mark_area(\n",
    "    opacity=0.7,\n",
    "    interpolate='step'\n",
    ").encode(\n",
    "    alt.X('value', bin=alt.Bin(maxbins=100)),\n",
    "    alt.Y('count()', stack=None),\n",
    "    alt.Color('variable',)\n",
    ")"
   ]
  },
  {
   "cell_type": "code",
   "execution_count": null,
   "metadata": {},
   "outputs": [],
   "source": []
  }
 ],
 "metadata": {
  "kernelspec": {
   "display_name": "dynamics",
   "language": "python",
   "name": "dynamics"
  },
  "language_info": {
   "codemirror_mode": {
    "name": "ipython",
    "version": 3
   },
   "file_extension": ".py",
   "mimetype": "text/x-python",
   "name": "python",
   "nbconvert_exporter": "python",
   "pygments_lexer": "ipython3",
   "version": "3.6.8"
  }
 },
 "nbformat": 4,
 "nbformat_minor": 2
}
