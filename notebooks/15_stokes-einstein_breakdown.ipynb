{
 "cells": [
  {
   "cell_type": "markdown",
   "metadata": {},
   "source": [
    "Stokes-Einstein Breakdown\n",
    "==============\n",
    "\n",
    "One of the major results that we observe\n",
    "is what appears to be a breakdown \n",
    "in the Stokes-Einstein relationship,\n",
    "most likely brought about by the reversibility of\n",
    "the motions that take place.\n",
    "As a result of this it would be nice to have\n",
    "a figure that demonstrates this breakdown\n",
    "with reference to individual particle motions,\n",
    "since it is the motion of individual particles\n",
    "that are the cause of this breakdown.\n",
    "\n",
    "As an individual particle property,\n",
    "we really only want to follow a smallish number of particles,\n",
    "probably from a single trajectory.\n",
    "To have the largest likelihood of \n",
    "finding something interesting,\n",
    "I will be using the dynamics from T=1.30, P=13.50."
   ]
  },
  {
   "cell_type": "markdown",
   "metadata": {},
   "source": [
    "Data Ingest/Calculation\n",
    "----------------------\n",
    "\n",
    "I don't have the translations and rotations from\n",
    "every timepoint saved anywhere,\n",
    "so I will have to generate all the data\n",
    "from the trajectories."
   ]
  },
  {
   "cell_type": "code",
   "execution_count": 11,
   "metadata": {},
   "outputs": [],
   "source": [
    "from pathlib import Path\n",
    "\n",
    "import gsd.hoomd\n",
    "import pandas\n",
    "import numpy as np\n",
    "\n",
    "import matplotlib.pyplot as plt\n",
    "import altair\n",
    "\n",
    "from sdanalysis.dynamics import dynamics, molecularRelaxation, lastMolecularRelaxation\n",
    "from sdanalysis.StepSize import GenerateStepSeries\n",
    "import sdanalysis\n",
    "\n",
    "import altair as alt"
   ]
  },
  {
   "cell_type": "markdown",
   "metadata": {},
   "source": [
    "### Loading Data\n",
    "\n",
    "There are a few differences with the data used for this analysis\n",
    "due to the different nature of the figures presented.\n",
    "\n",
    "The file that we are interested in is the dump file which has linear timesteps\n",
    "rather than the exponential series in the trajectory files.\n",
    "The reason for the linear series is that we are interested in\n",
    "following the motion of the particle through many environments,\n",
    "requiring short steps for all the different environments.\n",
    "Additionally there is no complication with working out\n",
    "which of the series that each configuration belongs to.\n",
    "\n",
    "Along with the trajectory, \n",
    "I am loading up the dynamics computed previously.\n",
    "However rather than all the dynamics,\n",
    "I am only loading up those from the first keyframe.\n",
    "This is because these are the dynamic quantities that\n",
    "correspond to the data loaded from the trajectory. "
   ]
  },
  {
   "cell_type": "code",
   "execution_count": 2,
   "metadata": {},
   "outputs": [],
   "source": [
    "pressure = '13.50'\n",
    "temperature = '1.35'\n",
    "directory = Path(\"../data/simulations/trimer/output/\")\n",
    "# Load up a linear trajectory for ease of analysis \n",
    "file = directory / f'trajectory-Trimer-P{pressure}-T{temperature}.gsd'\n",
    "stem = f'Trimer-13.50-{temperature}'\n",
    "# # Read in pre-computed dynamics properties for a single trajectory \n",
    "# dynamics_df = pandas.read_hdf(directory / 'dynamics' / f'trajectory-13.50-{temperature}.hdf5',\n",
    "#                               'relaxations').loc[0, :]\n",
    "# # Find the fastest particles\n",
    "# fastest = dynamics_df.sort_values('tau_D1').head(5).index.values"
   ]
  },
  {
   "cell_type": "markdown",
   "metadata": {},
   "source": [
    "### Computation of Dynamics\n",
    "\n",
    "The values of the dynamics we have calculated previously have been using an exponential timescale, which while great for the more traditional dynamics quantities becomes unhelpful in computing the molecular quantities and the analysis that will be presented in the rest of this document.\n",
    "\n",
    "I have stored the configuration at a series of linear steps and so the below analysis computes the molecular relaxations at a single temperature (1.30) using this linear scale, while also computing the displacement and rotation at each point in time allowing for the querying of the resulting dataset.\n",
    "\n",
    "The data is stored in a sqlite database as this is a highly queryable format while still remaining compatible with a range of systems."
   ]
  },
  {
   "cell_type": "code",
   "execution_count": 3,
   "metadata": {},
   "outputs": [],
   "source": [
    "max_steps = None\n",
    "recompute = False\n",
    "# Uncomment to recompute quantities this takes a long time to compute\n",
    "# recompute = True\n",
    "if recompute:\n",
    "    dataframes = []\n",
    "    \n",
    "    with gsd.hoomd.open(str(file)) as trj:\n",
    "        # Read the first frame of the snapshot to set up dynamics\n",
    "        snap = sdanalysis.HoomdFrame(trj[0])\n",
    "        num_mols = snap.num_mols\n",
    "        dyn = dynamics(\n",
    "            timestep=snap.timestep,\n",
    "            box=snap.box,\n",
    "            position=snap.position,\n",
    "            orientation=snap.orientation,\n",
    "        )\n",
    "        first_passage = molecularRelaxation(num_mols, 0.4)\n",
    "        last_passage = lastMolecularRelaxation(num_mols, 0.4, 1.0)\n",
    "        exists = False\n",
    "        for snap in trj:\n",
    "            delta_time = dyn.computeTimeDelta(snap.configuration.step).astype(np.int32)\n",
    "            delta_disp = dyn.get_displacements(snap.particles.position[:num_mols])\n",
    "            dataframes.append({\n",
    "                'mol_index': snap.particles.body[:num_mols].astype(np.uint16),\n",
    "                'time': delta_time.astype(np.uint32),\n",
    "                'displacement': delta_disp.astype(np.float32),\n",
    "                'rotation': dyn.get_rotations(snap.particles.orientation[:num_mols]).astype(np.float32),\n",
    "            })\n",
    "            exists = True\n",
    "            first_passage.add(delta_time, delta_disp)\n",
    "            last_passage.add(delta_time, delta_disp)\n",
    "            if max_steps and snap.configuration.step > max_steps:\n",
    "                break\n",
    "    pdf = pandas.DataFrame({\n",
    "        'first_passage': first_passage.get_status(),\n",
    "        'last_passage': last_passage.get_status(),\n",
    "    })\n",
    "    # Write data to files\n",
    "    df = pandas.concat([pandas.DataFrame(data) for data in dataframes])\n",
    "    df.to_hdf(f'{stem}.h5', 'single_motion')\n",
    "    pdf.to_hdf(f'{stem}.h5', 'passage_times')\n",
    "else:\n",
    "    df = pandas.read_hdf(f'{stem}.h5', 'single_motion')\n",
    "    pdf = pandas.read_hdf(f'{stem}.h5', 'passage_times')"
   ]
  },
  {
   "cell_type": "code",
   "execution_count": 4,
   "metadata": {},
   "outputs": [
    {
     "name": "stdout",
     "output_type": "stream",
     "text": [
      "<class 'pandas.core.frame.DataFrame'>\n",
      "MultiIndex: 121638750 entries, (0, 0) to (624, 1000000000)\n",
      "Data columns (total 4 columns):\n",
      "mol_index       uint16\n",
      "time            uint32\n",
      "displacement    float32\n",
      "rotation        float32\n",
      "dtypes: float32(2), uint16(1), uint32(1)\n",
      "memory usage: 2.3 GB\n"
     ]
    }
   ],
   "source": [
    "df.set_index(['mol_index', 'time'], inplace=True, drop=False)\n",
    "df.info()"
   ]
  },
  {
   "cell_type": "code",
   "execution_count": 8,
   "metadata": {},
   "outputs": [],
   "source": [
    "# Molecules for selection \n",
    "selected = [120, 130, 140]\n",
    "df_fast = df.loc[selected]"
   ]
  },
  {
   "cell_type": "code",
   "execution_count": 9,
   "metadata": {},
   "outputs": [
    {
     "data": {
      "text/html": [
       "<div>\n",
       "<style scoped>\n",
       "    .dataframe tbody tr th:only-of-type {\n",
       "        vertical-align: middle;\n",
       "    }\n",
       "\n",
       "    .dataframe tbody tr th {\n",
       "        vertical-align: top;\n",
       "    }\n",
       "\n",
       "    .dataframe thead th {\n",
       "        text-align: right;\n",
       "    }\n",
       "</style>\n",
       "<table border=\"1\" class=\"dataframe\">\n",
       "  <thead>\n",
       "    <tr style=\"text-align: right;\">\n",
       "      <th></th>\n",
       "      <th></th>\n",
       "      <th>mol_index</th>\n",
       "      <th>time</th>\n",
       "      <th>displacement</th>\n",
       "      <th>rotation</th>\n",
       "    </tr>\n",
       "    <tr>\n",
       "      <th>mol_index</th>\n",
       "      <th>time</th>\n",
       "      <th></th>\n",
       "      <th></th>\n",
       "      <th></th>\n",
       "      <th></th>\n",
       "    </tr>\n",
       "  </thead>\n",
       "  <tbody>\n",
       "    <tr>\n",
       "      <th>120</th>\n",
       "      <th>0</th>\n",
       "      <td>120</td>\n",
       "      <td>0</td>\n",
       "      <td>0.000000</td>\n",
       "      <td>0.000000</td>\n",
       "    </tr>\n",
       "    <tr>\n",
       "      <th>130</th>\n",
       "      <th>0</th>\n",
       "      <td>130</td>\n",
       "      <td>0</td>\n",
       "      <td>0.000000</td>\n",
       "      <td>0.000000</td>\n",
       "    </tr>\n",
       "    <tr>\n",
       "      <th>140</th>\n",
       "      <th>0</th>\n",
       "      <td>140</td>\n",
       "      <td>0</td>\n",
       "      <td>0.000000</td>\n",
       "      <td>0.000000</td>\n",
       "    </tr>\n",
       "    <tr>\n",
       "      <th>120</th>\n",
       "      <th>1</th>\n",
       "      <td>120</td>\n",
       "      <td>1</td>\n",
       "      <td>0.004391</td>\n",
       "      <td>0.001102</td>\n",
       "    </tr>\n",
       "    <tr>\n",
       "      <th>130</th>\n",
       "      <th>1</th>\n",
       "      <td>130</td>\n",
       "      <td>1</td>\n",
       "      <td>0.002589</td>\n",
       "      <td>0.003046</td>\n",
       "    </tr>\n",
       "  </tbody>\n",
       "</table>\n",
       "</div>"
      ],
      "text/plain": [
       "                mol_index  time  displacement  rotation\n",
       "mol_index time                                         \n",
       "120       0           120     0      0.000000  0.000000\n",
       "130       0           130     0      0.000000  0.000000\n",
       "140       0           140     0      0.000000  0.000000\n",
       "120       1           120     1      0.004391  0.001102\n",
       "130       1           130     1      0.002589  0.003046"
      ]
     },
     "execution_count": 9,
     "metadata": {},
     "output_type": "execute_result"
    }
   ],
   "source": [
    "df_fast.head()"
   ]
  },
  {
   "cell_type": "code",
   "execution_count": 10,
   "metadata": {},
   "outputs": [],
   "source": [
    "df_fast = df_fast.set_index(pandas.TimedeltaIndex(df_fast['time'], unit='ns'))\n",
    "df_fast_groups = df_fast.groupby('mol_index').resample('1ms')"
   ]
  },
  {
   "cell_type": "code",
   "execution_count": 18,
   "metadata": {},
   "outputs": [
    {
     "data": {
      "application/vnd.vegalite.v2+json": {
       "$schema": "https://vega.github.io/schema/vega-lite/v2.6.0.json",
       "config": {
        "view": {
         "height": 300,
         "width": 400
        }
       },
       "data": {
        "name": "data-faae1f92f0e7352f0df9dc0639669d4f"
       },
       "datasets": {
        "data-faae1f92f0e7352f0df9dc0639669d4f": [
         {
          "displacement": 0.1753275841474533,
          "mol_index": 120,
          "rotation": 0.09326104819774628,
          "time": 492377.5862068966
         },
         {
          "displacement": 0.1986583024263382,
          "mol_index": 120,
          "rotation": 0.09215646982192993,
          "time": 1492377.5862068965
         },
         {
          "displacement": 0.3880736529827118,
          "mol_index": 120,
          "rotation": 0.050936199724674225,
          "time": 2492377.5862068967
         },
         {
          "displacement": 0.4170107841491699,
          "mol_index": 120,
          "rotation": 0.06996211409568787,
          "time": 3492377.5862068967
         },
         {
          "displacement": 0.5075642466545105,
          "mol_index": 120,
          "rotation": 0.11371085047721863,
          "time": 4492377.586206896
         },
         {
          "displacement": 0.696641206741333,
          "mol_index": 120,
          "rotation": 0.17777703702449799,
          "time": 5492377.586206896
         },
         {
          "displacement": 0.5537798404693604,
          "mol_index": 120,
          "rotation": 0.1579543501138687,
          "time": 6492377.586206896
         },
         {
          "displacement": 0.5519257187843323,
          "mol_index": 120,
          "rotation": 0.15494728088378906,
          "time": 7492377.586206896
         },
         {
          "displacement": 0.7868133187294006,
          "mol_index": 120,
          "rotation": 0.24656793475151062,
          "time": 8492377.586206896
         },
         {
          "displacement": 0.7045047879219055,
          "mol_index": 120,
          "rotation": 0.22859354317188263,
          "time": 9492377.586206896
         },
         {
          "displacement": 0.7031356692314148,
          "mol_index": 120,
          "rotation": 0.2863761782646179,
          "time": 10300526.315789474
         },
         {
          "displacement": 1.6760519742965698,
          "mol_index": 120,
          "rotation": 0.11819455027580261,
          "time": 11490000
         },
         {
          "displacement": 2.305474281311035,
          "mol_index": 120,
          "rotation": 0.5821978449821472,
          "time": 12490000
         },
         {
          "displacement": 2.464874267578125,
          "mol_index": 120,
          "rotation": 0.7707110047340393,
          "time": 13490000
         },
         {
          "displacement": 2.5768394470214844,
          "mol_index": 120,
          "rotation": 0.797878086566925,
          "time": 14490000
         },
         {
          "displacement": 2.644101142883301,
          "mol_index": 120,
          "rotation": 0.8581527471542358,
          "time": 15490000
         },
         {
          "displacement": 2.62496280670166,
          "mol_index": 120,
          "rotation": 0.9409385919570923,
          "time": 16490000
         },
         {
          "displacement": 2.800391912460327,
          "mol_index": 120,
          "rotation": 1.6386396884918213,
          "time": 17490000
         },
         {
          "displacement": 3.1652612686157227,
          "mol_index": 120,
          "rotation": 1.2370153665542603,
          "time": 18490000
         },
         {
          "displacement": 3.791445732116699,
          "mol_index": 120,
          "rotation": 0.81972736120224,
          "time": 19490000
         },
         {
          "displacement": 5.047842025756836,
          "mol_index": 120,
          "rotation": 0.3294258713722229,
          "time": 20490000
         },
         {
          "displacement": 5.514488220214844,
          "mol_index": 120,
          "rotation": 0.4790719151496887,
          "time": 21490000
         },
         {
          "displacement": 5.438149929046631,
          "mol_index": 120,
          "rotation": 0.13985182344913483,
          "time": 22490000
         },
         {
          "displacement": 5.488587856292725,
          "mol_index": 120,
          "rotation": 0.07662323117256165,
          "time": 23490000
         },
         {
          "displacement": 5.605842590332031,
          "mol_index": 120,
          "rotation": 0.06569304317235947,
          "time": 24490000
         },
         {
          "displacement": 5.616177082061768,
          "mol_index": 120,
          "rotation": 0.09821977466344833,
          "time": 25490000
         },
         {
          "displacement": 5.461313724517822,
          "mol_index": 120,
          "rotation": 0.16892510652542114,
          "time": 26490000
         },
         {
          "displacement": 5.4914751052856445,
          "mol_index": 120,
          "rotation": 0.5961126089096069,
          "time": 27490000
         },
         {
          "displacement": 5.658634185791016,
          "mol_index": 120,
          "rotation": 1.448377251625061,
          "time": 28490000
         },
         {
          "displacement": 5.562748908996582,
          "mol_index": 120,
          "rotation": 1.4553560018539429,
          "time": 29490000
         },
         {
          "displacement": 5.5616984367370605,
          "mol_index": 120,
          "rotation": 1.4428225755691528,
          "time": 30490000
         },
         {
          "displacement": 5.515880107879639,
          "mol_index": 120,
          "rotation": 1.4965156316757202,
          "time": 31490000
         },
         {
          "displacement": 5.912476062774658,
          "mol_index": 120,
          "rotation": 2.458491325378418,
          "time": 32490000
         },
         {
          "displacement": 6.032177925109863,
          "mol_index": 120,
          "rotation": 2.759782075881958,
          "time": 33490000
         },
         {
          "displacement": 5.968228816986084,
          "mol_index": 120,
          "rotation": 2.7894978523254395,
          "time": 34490000
         },
         {
          "displacement": 5.697476863861084,
          "mol_index": 120,
          "rotation": 2.7098960876464844,
          "time": 35490000
         },
         {
          "displacement": 5.848010540008545,
          "mol_index": 120,
          "rotation": 2.3471643924713135,
          "time": 36490000
         },
         {
          "displacement": 5.984742164611816,
          "mol_index": 120,
          "rotation": 2.222956418991089,
          "time": 37490000
         },
         {
          "displacement": 6.031475067138672,
          "mol_index": 120,
          "rotation": 2.1874849796295166,
          "time": 38490000
         },
         {
          "displacement": 5.893268585205078,
          "mol_index": 120,
          "rotation": 2.1770989894866943,
          "time": 39490000
         },
         {
          "displacement": 5.709312438964844,
          "mol_index": 120,
          "rotation": 2.155608892440796,
          "time": 40490000
         },
         {
          "displacement": 5.62040376663208,
          "mol_index": 120,
          "rotation": 2.544773817062378,
          "time": 41490000
         },
         {
          "displacement": 5.981701374053955,
          "mol_index": 120,
          "rotation": 2.436025619506836,
          "time": 42490000
         },
         {
          "displacement": 6.188036918640137,
          "mol_index": 120,
          "rotation": 0.7680357694625854,
          "time": 43490000
         },
         {
          "displacement": 6.242856979370117,
          "mol_index": 120,
          "rotation": 0.6735071539878845,
          "time": 44490000
         },
         {
          "displacement": 6.257803440093994,
          "mol_index": 120,
          "rotation": 1.0767422914505005,
          "time": 45490000
         },
         {
          "displacement": 6.232967376708984,
          "mol_index": 120,
          "rotation": 1.325645923614502,
          "time": 46490000
         },
         {
          "displacement": 5.702414512634277,
          "mol_index": 120,
          "rotation": 2.2089712619781494,
          "time": 47490000
         },
         {
          "displacement": 5.550265789031982,
          "mol_index": 120,
          "rotation": 2.0925676822662354,
          "time": 48490000
         },
         {
          "displacement": 5.566495418548584,
          "mol_index": 120,
          "rotation": 2.116982936859131,
          "time": 49490000
         },
         {
          "displacement": 5.640380382537842,
          "mol_index": 120,
          "rotation": 2.1180849075317383,
          "time": 50490000
         },
         {
          "displacement": 5.331399917602539,
          "mol_index": 120,
          "rotation": 1.4587228298187256,
          "time": 51490000
         },
         {
          "displacement": 5.226279258728027,
          "mol_index": 120,
          "rotation": 1.248314380645752,
          "time": 52490000
         },
         {
          "displacement": 5.571287631988525,
          "mol_index": 120,
          "rotation": 1.231245517730713,
          "time": 53490000
         },
         {
          "displacement": 5.710329055786133,
          "mol_index": 120,
          "rotation": 1.5943549871444702,
          "time": 54490000
         },
         {
          "displacement": 5.5598602294921875,
          "mol_index": 120,
          "rotation": 1.7920666933059692,
          "time": 55490000
         },
         {
          "displacement": 5.186550140380859,
          "mol_index": 120,
          "rotation": 2.170665740966797,
          "time": 56490000
         },
         {
          "displacement": 5.164943218231201,
          "mol_index": 120,
          "rotation": 2.3504459857940674,
          "time": 57490000
         },
         {
          "displacement": 5.006838798522949,
          "mol_index": 120,
          "rotation": 2.0727217197418213,
          "time": 58490000
         },
         {
          "displacement": 4.397899150848389,
          "mol_index": 120,
          "rotation": 2.0580480098724365,
          "time": 59490000
         },
         {
          "displacement": 4.339223384857178,
          "mol_index": 120,
          "rotation": 2.031648635864258,
          "time": 60490000
         },
         {
          "displacement": 4.375141143798828,
          "mol_index": 120,
          "rotation": 2.0392465591430664,
          "time": 61490000
         },
         {
          "displacement": 4.432193756103516,
          "mol_index": 120,
          "rotation": 1.929471492767334,
          "time": 62490000
         },
         {
          "displacement": 4.5968780517578125,
          "mol_index": 120,
          "rotation": 1.7972878217697144,
          "time": 63490000
         },
         {
          "displacement": 4.6185503005981445,
          "mol_index": 120,
          "rotation": 1.7475385665893555,
          "time": 64490000
         },
         {
          "displacement": 4.644052028656006,
          "mol_index": 120,
          "rotation": 1.7680418491363525,
          "time": 65490000
         },
         {
          "displacement": 4.868780612945557,
          "mol_index": 120,
          "rotation": 1.57997465133667,
          "time": 66490000
         },
         {
          "displacement": 4.942367076873779,
          "mol_index": 120,
          "rotation": 1.4234062433242798,
          "time": 67490000
         },
         {
          "displacement": 4.918370723724365,
          "mol_index": 120,
          "rotation": 1.3972148895263672,
          "time": 68490000
         },
         {
          "displacement": 4.997099876403809,
          "mol_index": 120,
          "rotation": 1.5669066905975342,
          "time": 69490000
         },
         {
          "displacement": 5.201493740081787,
          "mol_index": 120,
          "rotation": 1.5698821544647217,
          "time": 70490000
         },
         {
          "displacement": 5.280633449554443,
          "mol_index": 120,
          "rotation": 0.9641532301902771,
          "time": 71490000
         },
         {
          "displacement": 5.414795875549316,
          "mol_index": 120,
          "rotation": 0.8386987447738647,
          "time": 72490000
         },
         {
          "displacement": 5.503915309906006,
          "mol_index": 120,
          "rotation": 1.3770349025726318,
          "time": 73490000
         },
         {
          "displacement": 5.621770858764648,
          "mol_index": 120,
          "rotation": 1.3983285427093506,
          "time": 74490000
         },
         {
          "displacement": 5.838253021240234,
          "mol_index": 120,
          "rotation": 1.450316309928894,
          "time": 75490000
         },
         {
          "displacement": 5.66918420791626,
          "mol_index": 120,
          "rotation": 1.4253312349319458,
          "time": 76490000
         },
         {
          "displacement": 5.5184712409973145,
          "mol_index": 120,
          "rotation": 1.2996786832809448,
          "time": 77490000
         },
         {
          "displacement": 5.589712619781494,
          "mol_index": 120,
          "rotation": 1.1592274904251099,
          "time": 78490000
         },
         {
          "displacement": 5.384505748748779,
          "mol_index": 120,
          "rotation": 0.3657982647418976,
          "time": 79490000
         },
         {
          "displacement": 4.929657936096191,
          "mol_index": 120,
          "rotation": 0.8298129439353943,
          "time": 80490000
         },
         {
          "displacement": 4.911454677581787,
          "mol_index": 120,
          "rotation": 0.8821199536323547,
          "time": 81490000
         },
         {
          "displacement": 5.675605297088623,
          "mol_index": 120,
          "rotation": 0.7908478379249573,
          "time": 82490000
         },
         {
          "displacement": 6.080410003662109,
          "mol_index": 120,
          "rotation": 1.3606748580932617,
          "time": 83490000
         },
         {
          "displacement": 6.11110782623291,
          "mol_index": 120,
          "rotation": 1.3333446979522705,
          "time": 84490000
         },
         {
          "displacement": 6.346730709075928,
          "mol_index": 120,
          "rotation": 1.2940388917922974,
          "time": 85490000
         },
         {
          "displacement": 6.28025484085083,
          "mol_index": 120,
          "rotation": 1.282504677772522,
          "time": 86490000
         },
         {
          "displacement": 6.2624382972717285,
          "mol_index": 120,
          "rotation": 1.2821619510650635,
          "time": 87490000
         },
         {
          "displacement": 6.414778709411621,
          "mol_index": 120,
          "rotation": 1.2634621858596802,
          "time": 88490000
         },
         {
          "displacement": 6.9091105461120605,
          "mol_index": 120,
          "rotation": 1.2719826698303223,
          "time": 89490000
         },
         {
          "displacement": 6.80122184753418,
          "mol_index": 120,
          "rotation": 1.2559809684753418,
          "time": 90490000
         },
         {
          "displacement": 6.8337883949279785,
          "mol_index": 120,
          "rotation": 1.2766917943954468,
          "time": 91490000
         },
         {
          "displacement": 6.789915561676025,
          "mol_index": 120,
          "rotation": 1.2594349384307861,
          "time": 92490000
         },
         {
          "displacement": 6.886973857879639,
          "mol_index": 120,
          "rotation": 1.2776867151260376,
          "time": 93490000
         },
         {
          "displacement": 7.001056671142578,
          "mol_index": 120,
          "rotation": 1.3350443840026855,
          "time": 94490000
         },
         {
          "displacement": 7.032677173614502,
          "mol_index": 120,
          "rotation": 1.3244303464889526,
          "time": 95490000
         },
         {
          "displacement": 6.934505462646484,
          "mol_index": 120,
          "rotation": 1.4425345659255981,
          "time": 96490000
         },
         {
          "displacement": 7.684797763824463,
          "mol_index": 120,
          "rotation": 2.9395976066589355,
          "time": 97490000
         },
         {
          "displacement": 7.858156204223633,
          "mol_index": 120,
          "rotation": 3.0380234718322754,
          "time": 98490000
         },
         {
          "displacement": 7.881674289703369,
          "mol_index": 120,
          "rotation": 3.0303401947021484,
          "time": 99490000
         },
         {
          "displacement": 8.101513862609863,
          "mol_index": 120,
          "rotation": 3.058288335800171,
          "time": 100490000
         },
         {
          "displacement": 8.203925132751465,
          "mol_index": 120,
          "rotation": 2.931004285812378,
          "time": 101490000
         },
         {
          "displacement": 8.231467247009277,
          "mol_index": 120,
          "rotation": 2.5817415714263916,
          "time": 102490000
         },
         {
          "displacement": 8.176288604736328,
          "mol_index": 120,
          "rotation": 2.5986263751983643,
          "time": 103490000
         },
         {
          "displacement": 8.186334609985352,
          "mol_index": 120,
          "rotation": 2.597261667251587,
          "time": 104490000
         },
         {
          "displacement": 8.120241165161133,
          "mol_index": 120,
          "rotation": 2.586862564086914,
          "time": 105490000
         },
         {
          "displacement": 7.9961748123168945,
          "mol_index": 120,
          "rotation": 2.6115541458129883,
          "time": 106490000
         },
         {
          "displacement": 7.9007463455200195,
          "mol_index": 120,
          "rotation": 2.5908331871032715,
          "time": 107490000
         },
         {
          "displacement": 7.853056907653809,
          "mol_index": 120,
          "rotation": 2.40360426902771,
          "time": 108490000
         },
         {
          "displacement": 7.588413715362549,
          "mol_index": 120,
          "rotation": 2.272069215774536,
          "time": 109490000
         },
         {
          "displacement": 7.4877519607543945,
          "mol_index": 120,
          "rotation": 2.263875722885132,
          "time": 110490000
         },
         {
          "displacement": 7.764795780181885,
          "mol_index": 120,
          "rotation": 2.242482900619507,
          "time": 111490000
         },
         {
          "displacement": 8.249113082885742,
          "mol_index": 120,
          "rotation": 1.9951318502426147,
          "time": 112490000
         },
         {
          "displacement": 8.992633819580078,
          "mol_index": 120,
          "rotation": 0.6648487448692322,
          "time": 113490000
         },
         {
          "displacement": 9.054609298706055,
          "mol_index": 120,
          "rotation": 0.7019619941711426,
          "time": 114490000
         },
         {
          "displacement": 8.890162467956543,
          "mol_index": 120,
          "rotation": 0.8944152593612671,
          "time": 115490000
         },
         {
          "displacement": 8.675989151000977,
          "mol_index": 120,
          "rotation": 1.2322256565093994,
          "time": 116490000
         },
         {
          "displacement": 8.726774215698242,
          "mol_index": 120,
          "rotation": 1.2106342315673828,
          "time": 117490000
         },
         {
          "displacement": 8.686638832092285,
          "mol_index": 120,
          "rotation": 0.8510010242462158,
          "time": 118490000
         },
         {
          "displacement": 8.826108932495117,
          "mol_index": 120,
          "rotation": 0.600097119808197,
          "time": 119490000
         },
         {
          "displacement": 8.976228713989258,
          "mol_index": 120,
          "rotation": 0.8993287086486816,
          "time": 120490000
         },
         {
          "displacement": 9.006723403930664,
          "mol_index": 120,
          "rotation": 1.2379270792007446,
          "time": 121490000
         },
         {
          "displacement": 8.99095344543457,
          "mol_index": 120,
          "rotation": 1.1766505241394043,
          "time": 122490000
         },
         {
          "displacement": 8.894225120544434,
          "mol_index": 120,
          "rotation": 1.1674280166625977,
          "time": 123490000
         },
         {
          "displacement": 9.072603225708008,
          "mol_index": 120,
          "rotation": 1.1464532613754272,
          "time": 124490000
         },
         {
          "displacement": 9.200572967529297,
          "mol_index": 120,
          "rotation": 1.123734712600708,
          "time": 125490000
         },
         {
          "displacement": 9.256962776184082,
          "mol_index": 120,
          "rotation": 1.1310542821884155,
          "time": 126490000
         },
         {
          "displacement": 9.236318588256836,
          "mol_index": 120,
          "rotation": 1.1482300758361816,
          "time": 127490000
         },
         {
          "displacement": 9.145720481872559,
          "mol_index": 120,
          "rotation": 1.152121901512146,
          "time": 128490000
         },
         {
          "displacement": 8.850407600402832,
          "mol_index": 120,
          "rotation": 1.091951608657837,
          "time": 129490000
         },
         {
          "displacement": 8.860282897949219,
          "mol_index": 120,
          "rotation": 1.0557585954666138,
          "time": 130490000
         },
         {
          "displacement": 8.973315238952637,
          "mol_index": 120,
          "rotation": 1.0942450761795044,
          "time": 131490000
         },
         {
          "displacement": 9.133809089660645,
          "mol_index": 120,
          "rotation": 1.1370534896850586,
          "time": 132490000
         },
         {
          "displacement": 9.074271202087402,
          "mol_index": 120,
          "rotation": 1.1437402963638306,
          "time": 133490000
         },
         {
          "displacement": 8.89974594116211,
          "mol_index": 120,
          "rotation": 1.1655741930007935,
          "time": 134490000
         },
         {
          "displacement": 8.880698204040527,
          "mol_index": 120,
          "rotation": 1.1758791208267212,
          "time": 135490000
         },
         {
          "displacement": 8.93025016784668,
          "mol_index": 120,
          "rotation": 1.1684119701385498,
          "time": 136490000
         },
         {
          "displacement": 8.951922416687012,
          "mol_index": 120,
          "rotation": 1.1906442642211914,
          "time": 137490000
         },
         {
          "displacement": 8.944875717163086,
          "mol_index": 120,
          "rotation": 1.1633858680725098,
          "time": 138490000
         },
         {
          "displacement": 8.955397605895996,
          "mol_index": 120,
          "rotation": 1.1643346548080444,
          "time": 139490000
         },
         {
          "displacement": 8.928235054016113,
          "mol_index": 120,
          "rotation": 1.1683887243270874,
          "time": 140490000
         },
         {
          "displacement": 8.864377975463867,
          "mol_index": 120,
          "rotation": 1.1691926717758179,
          "time": 141490000
         },
         {
          "displacement": 8.954633712768555,
          "mol_index": 120,
          "rotation": 1.1537686586380005,
          "time": 142490000
         },
         {
          "displacement": 8.997314453125,
          "mol_index": 120,
          "rotation": 1.165370225906372,
          "time": 143490000
         },
         {
          "displacement": 8.867676734924316,
          "mol_index": 120,
          "rotation": 1.1464402675628662,
          "time": 144490000
         },
         {
          "displacement": 8.825206756591797,
          "mol_index": 120,
          "rotation": 1.1543279886245728,
          "time": 145490000
         },
         {
          "displacement": 9.714127540588379,
          "mol_index": 120,
          "rotation": 1.5215275287628174,
          "time": 146490000
         },
         {
          "displacement": 9.939042091369629,
          "mol_index": 120,
          "rotation": 1.7819184064865112,
          "time": 147490000
         },
         {
          "displacement": 9.969069480895996,
          "mol_index": 120,
          "rotation": 2.04002046585083,
          "time": 148490000
         },
         {
          "displacement": 10.107218742370605,
          "mol_index": 120,
          "rotation": 2.728955030441284,
          "time": 149490000
         },
         {
          "displacement": 10.14631462097168,
          "mol_index": 120,
          "rotation": 2.8850626945495605,
          "time": 150490000
         },
         {
          "displacement": 9.929046630859375,
          "mol_index": 120,
          "rotation": 2.8829026222229004,
          "time": 151490000
         },
         {
          "displacement": 10.052684783935547,
          "mol_index": 120,
          "rotation": 2.8900699615478516,
          "time": 152490000
         },
         {
          "displacement": 10.13902759552002,
          "mol_index": 120,
          "rotation": 2.8848648071289062,
          "time": 153490000
         },
         {
          "displacement": 10.021246910095215,
          "mol_index": 120,
          "rotation": 2.882089853286743,
          "time": 154490000
         },
         {
          "displacement": 9.873231887817383,
          "mol_index": 120,
          "rotation": 2.8908379077911377,
          "time": 155490000
         },
         {
          "displacement": 9.63225269317627,
          "mol_index": 120,
          "rotation": 2.8844220638275146,
          "time": 156490000
         },
         {
          "displacement": 9.641984939575195,
          "mol_index": 120,
          "rotation": 2.8916893005371094,
          "time": 157490000
         },
         {
          "displacement": 9.919809341430664,
          "mol_index": 120,
          "rotation": 2.8293731212615967,
          "time": 158490000
         },
         {
          "displacement": 10.12069320678711,
          "mol_index": 120,
          "rotation": 2.4704415798187256,
          "time": 159490000
         },
         {
          "displacement": 9.975042343139648,
          "mol_index": 120,
          "rotation": 2.472977876663208,
          "time": 160490000
         },
         {
          "displacement": 9.759859085083008,
          "mol_index": 120,
          "rotation": 2.460115909576416,
          "time": 161490000
         },
         {
          "displacement": 9.778075218200684,
          "mol_index": 120,
          "rotation": 2.3714802265167236,
          "time": 162490000
         },
         {
          "displacement": 9.706354141235352,
          "mol_index": 120,
          "rotation": 2.341811180114746,
          "time": 163490000
         },
         {
          "displacement": 9.893802642822266,
          "mol_index": 120,
          "rotation": 2.5186595916748047,
          "time": 164490000
         },
         {
          "displacement": 10.190056800842285,
          "mol_index": 120,
          "rotation": 2.457932233810425,
          "time": 165490000
         },
         {
          "displacement": 10.238097190856934,
          "mol_index": 120,
          "rotation": 2.539044141769409,
          "time": 166490000
         },
         {
          "displacement": 10.207035064697266,
          "mol_index": 120,
          "rotation": 2.2009754180908203,
          "time": 167490000
         },
         {
          "displacement": 9.680447578430176,
          "mol_index": 120,
          "rotation": 1.6739325523376465,
          "time": 168490000
         },
         {
          "displacement": 9.846668243408203,
          "mol_index": 120,
          "rotation": 1.7679229974746704,
          "time": 169490000
         },
         {
          "displacement": 10.07756519317627,
          "mol_index": 120,
          "rotation": 1.7553902864456177,
          "time": 170490000
         },
         {
          "displacement": 10.100626945495605,
          "mol_index": 120,
          "rotation": 1.590656042098999,
          "time": 171490000
         },
         {
          "displacement": 9.997724533081055,
          "mol_index": 120,
          "rotation": 0.6463443636894226,
          "time": 172490000
         },
         {
          "displacement": 10.334181785583496,
          "mol_index": 120,
          "rotation": 0.6361358761787415,
          "time": 173490000
         },
         {
          "displacement": 10.293004035949707,
          "mol_index": 120,
          "rotation": 0.6705231070518494,
          "time": 174490000
         },
         {
          "displacement": 10.263514518737793,
          "mol_index": 120,
          "rotation": 0.6926339864730835,
          "time": 175490000
         },
         {
          "displacement": 10.322147369384766,
          "mol_index": 120,
          "rotation": 0.6820350885391235,
          "time": 176490000
         },
         {
          "displacement": 10.015921592712402,
          "mol_index": 120,
          "rotation": 0.6618899703025818,
          "time": 177490000
         },
         {
          "displacement": 9.67074966430664,
          "mol_index": 120,
          "rotation": 0.691216230392456,
          "time": 178490000
         },
         {
          "displacement": 9.768070220947266,
          "mol_index": 120,
          "rotation": 0.7031594514846802,
          "time": 179490000
         },
         {
          "displacement": 9.500279426574707,
          "mol_index": 120,
          "rotation": 0.6750975251197815,
          "time": 180490000
         },
         {
          "displacement": 9.62336540222168,
          "mol_index": 120,
          "rotation": 0.6084372401237488,
          "time": 181490000
         },
         {
          "displacement": 9.868948936462402,
          "mol_index": 120,
          "rotation": 0.717220664024353,
          "time": 182490000
         },
         {
          "displacement": 9.761469841003418,
          "mol_index": 120,
          "rotation": 0.6109007596969604,
          "time": 183490000
         },
         {
          "displacement": 9.807465553283691,
          "mol_index": 120,
          "rotation": 0.7023702263832092,
          "time": 184490000
         },
         {
          "displacement": 9.737123489379883,
          "mol_index": 120,
          "rotation": 0.4563678503036499,
          "time": 185490000
         },
         {
          "displacement": 9.745111465454102,
          "mol_index": 120,
          "rotation": 0.31807610392570496,
          "time": 186490000
         },
         {
          "displacement": 9.761536598205566,
          "mol_index": 120,
          "rotation": 0.23115088045597076,
          "time": 187490000
         },
         {
          "displacement": 9.753993034362793,
          "mol_index": 120,
          "rotation": 0.35168659687042236,
          "time": 188490000
         },
         {
          "displacement": 9.751802444458008,
          "mol_index": 120,
          "rotation": 0.5236740112304688,
          "time": 189490000
         },
         {
          "displacement": 9.44113826751709,
          "mol_index": 120,
          "rotation": 0.5287589430809021,
          "time": 190490000
         },
         {
          "displacement": 9.362752914428711,
          "mol_index": 120,
          "rotation": 0.5361524224281311,
          "time": 191490000
         },
         {
          "displacement": 9.168315887451172,
          "mol_index": 120,
          "rotation": 0.6978023648262024,
          "time": 192490000
         },
         {
          "displacement": 9.143789291381836,
          "mol_index": 120,
          "rotation": 0.6719028353691101,
          "time": 193490000
         },
         {
          "displacement": 9.032479286193848,
          "mol_index": 120,
          "rotation": 0.757641613483429,
          "time": 194490000
         },
         {
          "displacement": 8.834907531738281,
          "mol_index": 120,
          "rotation": 0.6778196096420288,
          "time": 195490000
         },
         {
          "displacement": 9.244247436523438,
          "mol_index": 120,
          "rotation": 0.5950224995613098,
          "time": 196490000
         },
         {
          "displacement": 9.214714050292969,
          "mol_index": 120,
          "rotation": 0.7329531311988831,
          "time": 197490000
         },
         {
          "displacement": 9.253250122070312,
          "mol_index": 120,
          "rotation": 0.47284746170043945,
          "time": 198490000
         },
         {
          "displacement": 8.77221965789795,
          "mol_index": 120,
          "rotation": 1.3246455192565918,
          "time": 199490000
         },
         {
          "displacement": 8.467096328735352,
          "mol_index": 120,
          "rotation": 1.405381441116333,
          "time": 200490000
         },
         {
          "displacement": 8.08342456817627,
          "mol_index": 120,
          "rotation": 1.0461559295654297,
          "time": 201490000
         },
         {
          "displacement": 8.547666549682617,
          "mol_index": 120,
          "rotation": 0.6741644144058228,
          "time": 202490000
         },
         {
          "displacement": 8.639259338378906,
          "mol_index": 120,
          "rotation": 0.6892912983894348,
          "time": 203490000
         },
         {
          "displacement": 8.6582612991333,
          "mol_index": 120,
          "rotation": 0.7103527784347534,
          "time": 204490000
         },
         {
          "displacement": 8.743964195251465,
          "mol_index": 120,
          "rotation": 0.7155070900917053,
          "time": 205490000
         },
         {
          "displacement": 8.74250602722168,
          "mol_index": 120,
          "rotation": 0.680368185043335,
          "time": 206490000
         },
         {
          "displacement": 8.712709426879883,
          "mol_index": 120,
          "rotation": 0.719892680644989,
          "time": 207490000
         },
         {
          "displacement": 8.751708030700684,
          "mol_index": 120,
          "rotation": 0.7224593162536621,
          "time": 208490000
         },
         {
          "displacement": 8.623146057128906,
          "mol_index": 120,
          "rotation": 0.7552731037139893,
          "time": 209490000
         },
         {
          "displacement": 8.682074546813965,
          "mol_index": 120,
          "rotation": 0.94179368019104,
          "time": 210490000
         },
         {
          "displacement": 8.901514053344727,
          "mol_index": 120,
          "rotation": 1.4402450323104858,
          "time": 211490000
         },
         {
          "displacement": 8.879236221313477,
          "mol_index": 120,
          "rotation": 1.37278151512146,
          "time": 212490000
         },
         {
          "displacement": 9.008131980895996,
          "mol_index": 120,
          "rotation": 1.3699818849563599,
          "time": 213490000
         },
         {
          "displacement": 9.003755569458008,
          "mol_index": 120,
          "rotation": 1.382325530052185,
          "time": 214490000
         },
         {
          "displacement": 9.069550514221191,
          "mol_index": 120,
          "rotation": 1.367737889289856,
          "time": 215490000
         },
         {
          "displacement": 8.971923828125,
          "mol_index": 120,
          "rotation": 1.3793009519577026,
          "time": 216490000
         },
         {
          "displacement": 9.033546447753906,
          "mol_index": 120,
          "rotation": 1.376619815826416,
          "time": 217490000
         },
         {
          "displacement": 9.09316635131836,
          "mol_index": 120,
          "rotation": 1.6176631450653076,
          "time": 218490000
         },
         {
          "displacement": 9.041007995605469,
          "mol_index": 120,
          "rotation": 2.4403645992279053,
          "time": 219490000
         },
         {
          "displacement": 8.86126708984375,
          "mol_index": 120,
          "rotation": 2.4610486030578613,
          "time": 220490000
         },
         {
          "displacement": 8.9326171875,
          "mol_index": 120,
          "rotation": 2.4583098888397217,
          "time": 221490000
         },
         {
          "displacement": 8.909383773803711,
          "mol_index": 120,
          "rotation": 2.4364871978759766,
          "time": 222490000
         },
         {
          "displacement": 8.898622512817383,
          "mol_index": 120,
          "rotation": 2.429689645767212,
          "time": 223490000
         },
         {
          "displacement": 8.97806453704834,
          "mol_index": 120,
          "rotation": 2.4342968463897705,
          "time": 224490000
         },
         {
          "displacement": 8.912803649902344,
          "mol_index": 120,
          "rotation": 2.364861249923706,
          "time": 225490000
         },
         {
          "displacement": 8.97916030883789,
          "mol_index": 120,
          "rotation": 2.4648678302764893,
          "time": 226490000
         },
         {
          "displacement": 8.930961608886719,
          "mol_index": 120,
          "rotation": 2.5057337284088135,
          "time": 227490000
         },
         {
          "displacement": 9.164840698242188,
          "mol_index": 120,
          "rotation": 2.4958081245422363,
          "time": 228490000
         },
         {
          "displacement": 9.295648574829102,
          "mol_index": 120,
          "rotation": 2.4340529441833496,
          "time": 229490000
         },
         {
          "displacement": 9.02306842803955,
          "mol_index": 120,
          "rotation": 2.5446131229400635,
          "time": 230490000
         },
         {
          "displacement": 8.95142936706543,
          "mol_index": 120,
          "rotation": 2.5390846729278564,
          "time": 231490000
         },
         {
          "displacement": 9.061283111572266,
          "mol_index": 120,
          "rotation": 2.532805919647217,
          "time": 232490000
         },
         {
          "displacement": 8.980605125427246,
          "mol_index": 120,
          "rotation": 2.560650110244751,
          "time": 233490000
         },
         {
          "displacement": 8.875529289245605,
          "mol_index": 120,
          "rotation": 2.5549116134643555,
          "time": 234490000
         },
         {
          "displacement": 8.938821792602539,
          "mol_index": 120,
          "rotation": 2.521406888961792,
          "time": 235490000
         },
         {
          "displacement": 8.911444664001465,
          "mol_index": 120,
          "rotation": 2.4734137058258057,
          "time": 236490000
         },
         {
          "displacement": 8.82086181640625,
          "mol_index": 120,
          "rotation": 2.4290270805358887,
          "time": 237490000
         },
         {
          "displacement": 8.773397445678711,
          "mol_index": 120,
          "rotation": 2.4247589111328125,
          "time": 238490000
         },
         {
          "displacement": 8.580667495727539,
          "mol_index": 120,
          "rotation": 2.5558414459228516,
          "time": 239490000
         },
         {
          "displacement": 8.618531227111816,
          "mol_index": 120,
          "rotation": 2.4689838886260986,
          "time": 240490000
         },
         {
          "displacement": 8.50863265991211,
          "mol_index": 120,
          "rotation": 2.325651168823242,
          "time": 241490000
         },
         {
          "displacement": 8.486968994140625,
          "mol_index": 120,
          "rotation": 2.325556993484497,
          "time": 242490000
         },
         {
          "displacement": 8.643479347229004,
          "mol_index": 120,
          "rotation": 2.319617748260498,
          "time": 243490000
         },
         {
          "displacement": 8.841645240783691,
          "mol_index": 120,
          "rotation": 2.3595733642578125,
          "time": 244490000
         },
         {
          "displacement": 9.02181339263916,
          "mol_index": 120,
          "rotation": 2.353553533554077,
          "time": 245490000
         },
         {
          "displacement": 8.984781265258789,
          "mol_index": 120,
          "rotation": 2.348001003265381,
          "time": 246490000
         },
         {
          "displacement": 9.011404037475586,
          "mol_index": 120,
          "rotation": 2.380981206893921,
          "time": 247490000
         },
         {
          "displacement": 9.036381721496582,
          "mol_index": 120,
          "rotation": 2.608334541320801,
          "time": 248490000
         },
         {
          "displacement": 9.173779487609863,
          "mol_index": 120,
          "rotation": 2.6138386726379395,
          "time": 249490000
         },
         {
          "displacement": 8.926437377929688,
          "mol_index": 120,
          "rotation": 2.5629608631134033,
          "time": 250490000
         },
         {
          "displacement": 8.821980476379395,
          "mol_index": 120,
          "rotation": 2.5561816692352295,
          "time": 251490000
         },
         {
          "displacement": 8.753521919250488,
          "mol_index": 120,
          "rotation": 2.5732510089874268,
          "time": 252490000
         },
         {
          "displacement": 8.595747947692871,
          "mol_index": 120,
          "rotation": 2.4966673851013184,
          "time": 253490000
         },
         {
          "displacement": 8.196045875549316,
          "mol_index": 120,
          "rotation": 2.407440185546875,
          "time": 254490000
         },
         {
          "displacement": 8.131126403808594,
          "mol_index": 120,
          "rotation": 2.5647783279418945,
          "time": 255490000
         },
         {
          "displacement": 8.22443675994873,
          "mol_index": 120,
          "rotation": 2.6433796882629395,
          "time": 256490000
         },
         {
          "displacement": 8.253427505493164,
          "mol_index": 120,
          "rotation": 2.6265182495117188,
          "time": 257490000
         },
         {
          "displacement": 8.284958839416504,
          "mol_index": 120,
          "rotation": 2.5776782035827637,
          "time": 258490000
         },
         {
          "displacement": 8.322673797607422,
          "mol_index": 120,
          "rotation": 2.545020341873169,
          "time": 259490000
         },
         {
          "displacement": 8.352017402648926,
          "mol_index": 120,
          "rotation": 2.605428695678711,
          "time": 260490000
         },
         {
          "displacement": 8.281289100646973,
          "mol_index": 120,
          "rotation": 2.3752665519714355,
          "time": 261490000
         },
         {
          "displacement": 8.224817276000977,
          "mol_index": 120,
          "rotation": 2.492094039916992,
          "time": 262490000
         },
         {
          "displacement": 8.17566204071045,
          "mol_index": 120,
          "rotation": 2.4106318950653076,
          "time": 263490000
         },
         {
          "displacement": 8.057647705078125,
          "mol_index": 120,
          "rotation": 2.0717504024505615,
          "time": 264490000
         },
         {
          "displacement": 8.124674797058105,
          "mol_index": 120,
          "rotation": 2.304995059967041,
          "time": 265490000
         },
         {
          "displacement": 8.060665130615234,
          "mol_index": 120,
          "rotation": 2.45396089553833,
          "time": 266490000
         },
         {
          "displacement": 7.994013786315918,
          "mol_index": 120,
          "rotation": 2.5260260105133057,
          "time": 267490000
         },
         {
          "displacement": 8.203315734863281,
          "mol_index": 120,
          "rotation": 2.3286592960357666,
          "time": 268490000
         },
         {
          "displacement": 7.99704122543335,
          "mol_index": 120,
          "rotation": 1.9734740257263184,
          "time": 269490000
         },
         {
          "displacement": 7.973300457000732,
          "mol_index": 120,
          "rotation": 1.9972779750823975,
          "time": 270490000
         },
         {
          "displacement": 8.199898719787598,
          "mol_index": 120,
          "rotation": 1.5185917615890503,
          "time": 271490000
         },
         {
          "displacement": 8.06311321258545,
          "mol_index": 120,
          "rotation": 1.4152666330337524,
          "time": 272490000
         },
         {
          "displacement": 7.86880350112915,
          "mol_index": 120,
          "rotation": 1.7933669090270996,
          "time": 273490000
         },
         {
          "displacement": 8.153865814208984,
          "mol_index": 120,
          "rotation": 0.30077633261680603,
          "time": 274490000
         },
         {
          "displacement": 8.407124519348145,
          "mol_index": 120,
          "rotation": 0.14729130268096924,
          "time": 275490000
         },
         {
          "displacement": 8.797924995422363,
          "mol_index": 120,
          "rotation": 0.2208278328180313,
          "time": 276490000
         },
         {
          "displacement": 9.508013725280762,
          "mol_index": 120,
          "rotation": 0.45886746048927307,
          "time": 277490000
         },
         {
          "displacement": 10.225296020507812,
          "mol_index": 120,
          "rotation": 2.0072007179260254,
          "time": 278490000
         },
         {
          "displacement": 10.840211868286133,
          "mol_index": 120,
          "rotation": 2.269887685775757,
          "time": 279490000
         },
         {
          "displacement": 10.522260665893555,
          "mol_index": 120,
          "rotation": 2.2339224815368652,
          "time": 280490000
         },
         {
          "displacement": 10.546539306640625,
          "mol_index": 120,
          "rotation": 1.9791901111602783,
          "time": 281490000
         },
         {
          "displacement": 10.481132507324219,
          "mol_index": 120,
          "rotation": 1.9187822341918945,
          "time": 282490000
         },
         {
          "displacement": 10.276917457580566,
          "mol_index": 120,
          "rotation": 1.9203141927719116,
          "time": 283490000
         },
         {
          "displacement": 10.416637420654297,
          "mol_index": 120,
          "rotation": 1.9301114082336426,
          "time": 284490000
         },
         {
          "displacement": 10.355454444885254,
          "mol_index": 120,
          "rotation": 1.9012256860733032,
          "time": 285490000
         },
         {
          "displacement": 10.223834037780762,
          "mol_index": 120,
          "rotation": 1.7368743419647217,
          "time": 286490000
         },
         {
          "displacement": 10.311630249023438,
          "mol_index": 120,
          "rotation": 1.8892710208892822,
          "time": 287490000
         },
         {
          "displacement": 11.023670196533203,
          "mol_index": 120,
          "rotation": 1.6601115465164185,
          "time": 288490000
         },
         {
          "displacement": 10.960831642150879,
          "mol_index": 120,
          "rotation": 1.5975662469863892,
          "time": 289490000
         },
         {
          "displacement": 10.847894668579102,
          "mol_index": 120,
          "rotation": 1.6193262338638306,
          "time": 290490000
         },
         {
          "displacement": 10.59422492980957,
          "mol_index": 120,
          "rotation": 1.6160916090011597,
          "time": 291490000
         },
         {
          "displacement": 10.666115760803223,
          "mol_index": 120,
          "rotation": 1.713897466659546,
          "time": 292490000
         },
         {
          "displacement": 10.515657424926758,
          "mol_index": 120,
          "rotation": 1.7340977191925049,
          "time": 293490000
         },
         {
          "displacement": 10.368721008300781,
          "mol_index": 120,
          "rotation": 1.6812103986740112,
          "time": 294490000
         },
         {
          "displacement": 10.482552528381348,
          "mol_index": 120,
          "rotation": 1.7024046182632446,
          "time": 295490000
         },
         {
          "displacement": 10.459789276123047,
          "mol_index": 120,
          "rotation": 1.7798032760620117,
          "time": 296490000
         },
         {
          "displacement": 10.596051216125488,
          "mol_index": 120,
          "rotation": 1.6445798873901367,
          "time": 297490000
         },
         {
          "displacement": 11.187045097351074,
          "mol_index": 120,
          "rotation": 1.8444175720214844,
          "time": 298490000
         },
         {
          "displacement": 11.285026550292969,
          "mol_index": 120,
          "rotation": 2.063659429550171,
          "time": 299490000
         },
         {
          "displacement": 11.373534202575684,
          "mol_index": 120,
          "rotation": 2.0200319290161133,
          "time": 300490000
         },
         {
          "displacement": 11.29209041595459,
          "mol_index": 120,
          "rotation": 2.0651938915252686,
          "time": 301490000
         },
         {
          "displacement": 11.120945930480957,
          "mol_index": 120,
          "rotation": 2.0841329097747803,
          "time": 302490000
         },
         {
          "displacement": 11.164204597473145,
          "mol_index": 120,
          "rotation": 2.1112704277038574,
          "time": 303490000
         },
         {
          "displacement": 10.780043601989746,
          "mol_index": 120,
          "rotation": 2.2680463790893555,
          "time": 304490000
         },
         {
          "displacement": 11.008382797241211,
          "mol_index": 120,
          "rotation": 2.3299994468688965,
          "time": 305490000
         },
         {
          "displacement": 10.853239059448242,
          "mol_index": 120,
          "rotation": 1.4872570037841797,
          "time": 306490000
         },
         {
          "displacement": 10.282587051391602,
          "mol_index": 120,
          "rotation": 0.569165825843811,
          "time": 307490000
         },
         {
          "displacement": 10.199076652526855,
          "mol_index": 120,
          "rotation": 0.5216436982154846,
          "time": 308490000
         },
         {
          "displacement": 10.345573425292969,
          "mol_index": 120,
          "rotation": 0.349422812461853,
          "time": 309490000
         },
         {
          "displacement": 10.513537406921387,
          "mol_index": 120,
          "rotation": 0.12242992967367172,
          "time": 310490000
         },
         {
          "displacement": 10.528817176818848,
          "mol_index": 120,
          "rotation": 0.14486032724380493,
          "time": 311490000
         },
         {
          "displacement": 10.62115478515625,
          "mol_index": 120,
          "rotation": 0.13942641019821167,
          "time": 312490000
         },
         {
          "displacement": 10.629137992858887,
          "mol_index": 120,
          "rotation": 0.14977554976940155,
          "time": 313490000
         },
         {
          "displacement": 10.568790435791016,
          "mol_index": 120,
          "rotation": 0.1587749421596527,
          "time": 314490000
         },
         {
          "displacement": 10.5560302734375,
          "mol_index": 120,
          "rotation": 0.15603859722614288,
          "time": 315490000
         },
         {
          "displacement": 10.61815071105957,
          "mol_index": 120,
          "rotation": 0.1500927209854126,
          "time": 316490000
         },
         {
          "displacement": 10.642476081848145,
          "mol_index": 120,
          "rotation": 0.14531804621219635,
          "time": 317490000
         },
         {
          "displacement": 10.652449607849121,
          "mol_index": 120,
          "rotation": 0.1419295221567154,
          "time": 318490000
         },
         {
          "displacement": 10.594453811645508,
          "mol_index": 120,
          "rotation": 0.146409273147583,
          "time": 319490000
         },
         {
          "displacement": 10.48705005645752,
          "mol_index": 120,
          "rotation": 0.1651647984981537,
          "time": 320490000
         },
         {
          "displacement": 10.573540687561035,
          "mol_index": 120,
          "rotation": 0.15911386907100677,
          "time": 321490000
         },
         {
          "displacement": 10.585278511047363,
          "mol_index": 120,
          "rotation": 0.14085255563259125,
          "time": 322490000
         },
         {
          "displacement": 10.514552116394043,
          "mol_index": 120,
          "rotation": 0.13649030029773712,
          "time": 323490000
         },
         {
          "displacement": 10.38422679901123,
          "mol_index": 120,
          "rotation": 0.15752287209033966,
          "time": 324490000
         },
         {
          "displacement": 10.253692626953125,
          "mol_index": 120,
          "rotation": 0.16762103140354156,
          "time": 325490000
         },
         {
          "displacement": 10.289913177490234,
          "mol_index": 120,
          "rotation": 0.19115252792835236,
          "time": 326490000
         },
         {
          "displacement": 10.409547805786133,
          "mol_index": 120,
          "rotation": 0.1984397917985916,
          "time": 327490000
         },
         {
          "displacement": 10.349421501159668,
          "mol_index": 120,
          "rotation": 0.18253324925899506,
          "time": 328490000
         },
         {
          "displacement": 10.361364364624023,
          "mol_index": 120,
          "rotation": 0.195160910487175,
          "time": 329490000
         },
         {
          "displacement": 10.28426456451416,
          "mol_index": 120,
          "rotation": 0.20322102308273315,
          "time": 330490000
         },
         {
          "displacement": 10.30663013458252,
          "mol_index": 120,
          "rotation": 0.19572994112968445,
          "time": 331490000
         },
         {
          "displacement": 10.348370552062988,
          "mol_index": 120,
          "rotation": 0.20423990488052368,
          "time": 332490000
         },
         {
          "displacement": 10.328571319580078,
          "mol_index": 120,
          "rotation": 0.18462689220905304,
          "time": 333490000
         },
         {
          "displacement": 10.276670455932617,
          "mol_index": 120,
          "rotation": 0.1834544837474823,
          "time": 334490000
         },
         {
          "displacement": 10.438247680664062,
          "mol_index": 120,
          "rotation": 0.19036591053009033,
          "time": 335490000
         },
         {
          "displacement": 10.571093559265137,
          "mol_index": 120,
          "rotation": 0.16735544800758362,
          "time": 336490000
         },
         {
          "displacement": 10.556571006774902,
          "mol_index": 120,
          "rotation": 0.17822352051734924,
          "time": 337490000
         },
         {
          "displacement": 10.516729354858398,
          "mol_index": 120,
          "rotation": 0.17277628183364868,
          "time": 338490000
         },
         {
          "displacement": 10.337924003601074,
          "mol_index": 120,
          "rotation": 0.1829482465982437,
          "time": 339490000
         },
         {
          "displacement": 10.36506462097168,
          "mol_index": 120,
          "rotation": 0.186438649892807,
          "time": 340490000
         },
         {
          "displacement": 10.314400672912598,
          "mol_index": 120,
          "rotation": 0.18730002641677856,
          "time": 341490000
         },
         {
          "displacement": 10.356633186340332,
          "mol_index": 120,
          "rotation": 0.17619995772838593,
          "time": 342490000
         },
         {
          "displacement": 10.320184707641602,
          "mol_index": 120,
          "rotation": 0.17577852308750153,
          "time": 343490000
         },
         {
          "displacement": 10.276633262634277,
          "mol_index": 120,
          "rotation": 0.1785292774438858,
          "time": 344490000
         },
         {
          "displacement": 10.211332321166992,
          "mol_index": 120,
          "rotation": 0.1781138777732849,
          "time": 345490000
         },
         {
          "displacement": 10.210932731628418,
          "mol_index": 120,
          "rotation": 0.18474769592285156,
          "time": 346490000
         },
         {
          "displacement": 10.250165939331055,
          "mol_index": 120,
          "rotation": 0.2000591903924942,
          "time": 347490000
         },
         {
          "displacement": 10.301647186279297,
          "mol_index": 120,
          "rotation": 0.19172005355358124,
          "time": 348490000
         },
         {
          "displacement": 10.250598907470703,
          "mol_index": 120,
          "rotation": 0.17932836711406708,
          "time": 349490000
         },
         {
          "displacement": 10.21827220916748,
          "mol_index": 120,
          "rotation": 0.17605306208133698,
          "time": 350490000
         },
         {
          "displacement": 10.229001998901367,
          "mol_index": 120,
          "rotation": 0.17167741060256958,
          "time": 351490000
         },
         {
          "displacement": 10.19781494140625,
          "mol_index": 120,
          "rotation": 0.18923242390155792,
          "time": 352490000
         },
         {
          "displacement": 10.146217346191406,
          "mol_index": 120,
          "rotation": 0.1762709766626358,
          "time": 353490000
         },
         {
          "displacement": 10.105267524719238,
          "mol_index": 120,
          "rotation": 0.17066022753715515,
          "time": 354490000
         },
         {
          "displacement": 10.107523918151855,
          "mol_index": 120,
          "rotation": 0.1670786589384079,
          "time": 355490000
         },
         {
          "displacement": 10.623272895812988,
          "mol_index": 120,
          "rotation": 0.09908334910869598,
          "time": 356490000
         },
         {
          "displacement": 10.974383354187012,
          "mol_index": 120,
          "rotation": 0.05500774830579758,
          "time": 357490000
         },
         {
          "displacement": 10.835742950439453,
          "mol_index": 120,
          "rotation": 0.04568390175700188,
          "time": 358490000
         },
         {
          "displacement": 10.880512237548828,
          "mol_index": 120,
          "rotation": 0.1669798493385315,
          "time": 359490000
         },
         {
          "displacement": 10.811868667602539,
          "mol_index": 120,
          "rotation": 0.7724668979644775,
          "time": 360490000
         },
         {
          "displacement": 10.497658729553223,
          "mol_index": 120,
          "rotation": 1.1072874069213867,
          "time": 361490000
         },
         {
          "displacement": 10.067102432250977,
          "mol_index": 120,
          "rotation": 1.0930817127227783,
          "time": 362490000
         },
         {
          "displacement": 9.919013977050781,
          "mol_index": 120,
          "rotation": 1.363196611404419,
          "time": 363490000
         },
         {
          "displacement": 10.485865592956543,
          "mol_index": 120,
          "rotation": 1.6802172660827637,
          "time": 364490000
         },
         {
          "displacement": 10.735591888427734,
          "mol_index": 120,
          "rotation": 1.880083441734314,
          "time": 365490000
         },
         {
          "displacement": 10.824512481689453,
          "mol_index": 120,
          "rotation": 1.9047935009002686,
          "time": 366490000
         },
         {
          "displacement": 11.190792083740234,
          "mol_index": 120,
          "rotation": 1.8390111923217773,
          "time": 367490000
         },
         {
          "displacement": 11.276216506958008,
          "mol_index": 120,
          "rotation": 1.7948644161224365,
          "time": 368490000
         },
         {
          "displacement": 11.670416831970215,
          "mol_index": 120,
          "rotation": 1.795475959777832,
          "time": 369490000
         },
         {
          "displacement": 11.260905265808105,
          "mol_index": 120,
          "rotation": 1.6643257141113281,
          "time": 370490000
         },
         {
          "displacement": 10.985368728637695,
          "mol_index": 120,
          "rotation": 1.6360235214233398,
          "time": 371490000
         },
         {
          "displacement": 10.963801383972168,
          "mol_index": 120,
          "rotation": 1.6214276552200317,
          "time": 372490000
         },
         {
          "displacement": 10.771246910095215,
          "mol_index": 120,
          "rotation": 1.5776804685592651,
          "time": 373490000
         },
         {
          "displacement": 10.927180290222168,
          "mol_index": 120,
          "rotation": 1.597533941268921,
          "time": 374490000
         },
         {
          "displacement": 10.787491798400879,
          "mol_index": 120,
          "rotation": 1.643052577972412,
          "time": 375490000
         },
         {
          "displacement": 10.326679229736328,
          "mol_index": 120,
          "rotation": 1.7247227430343628,
          "time": 376490000
         },
         {
          "displacement": 10.214930534362793,
          "mol_index": 120,
          "rotation": 1.739007830619812,
          "time": 377490000
         },
         {
          "displacement": 10.074117660522461,
          "mol_index": 120,
          "rotation": 1.8168293237686157,
          "time": 378490000
         },
         {
          "displacement": 10.23718547821045,
          "mol_index": 120,
          "rotation": 1.9757249355316162,
          "time": 379490000
         },
         {
          "displacement": 10.248163223266602,
          "mol_index": 120,
          "rotation": 1.9453555345535278,
          "time": 380490000
         },
         {
          "displacement": 10.303516387939453,
          "mol_index": 120,
          "rotation": 2.0292484760284424,
          "time": 381490000
         },
         {
          "displacement": 10.537978172302246,
          "mol_index": 120,
          "rotation": 2.0348570346832275,
          "time": 382490000
         },
         {
          "displacement": 10.690406799316406,
          "mol_index": 120,
          "rotation": 1.9184378385543823,
          "time": 383490000
         },
         {
          "displacement": 10.684175491333008,
          "mol_index": 120,
          "rotation": 1.960440993309021,
          "time": 384490000
         },
         {
          "displacement": 10.664538383483887,
          "mol_index": 120,
          "rotation": 2.002863883972168,
          "time": 385490000
         },
         {
          "displacement": 10.636741638183594,
          "mol_index": 120,
          "rotation": 2.033329963684082,
          "time": 386490000
         },
         {
          "displacement": 10.737984657287598,
          "mol_index": 120,
          "rotation": 1.9156320095062256,
          "time": 387490000
         },
         {
          "displacement": 10.88157844543457,
          "mol_index": 120,
          "rotation": 1.7399462461471558,
          "time": 388490000
         },
         {
          "displacement": 10.957058906555176,
          "mol_index": 120,
          "rotation": 2.0939083099365234,
          "time": 389490000
         },
         {
          "displacement": 11.010217666625977,
          "mol_index": 120,
          "rotation": 2.1167666912078857,
          "time": 390490000
         },
         {
          "displacement": 11.081066131591797,
          "mol_index": 120,
          "rotation": 2.0296008586883545,
          "time": 391490000
         },
         {
          "displacement": 11.241700172424316,
          "mol_index": 120,
          "rotation": 2.023791790008545,
          "time": 392490000
         },
         {
          "displacement": 11.34020709991455,
          "mol_index": 120,
          "rotation": 2.2249512672424316,
          "time": 393490000
         },
         {
          "displacement": 11.502596855163574,
          "mol_index": 120,
          "rotation": 2.5806357860565186,
          "time": 394490000
         },
         {
          "displacement": 11.463362693786621,
          "mol_index": 120,
          "rotation": 2.628876209259033,
          "time": 395490000
         },
         {
          "displacement": 11.568864822387695,
          "mol_index": 120,
          "rotation": 2.5877249240875244,
          "time": 396490000
         },
         {
          "displacement": 11.436868667602539,
          "mol_index": 120,
          "rotation": 2.5831689834594727,
          "time": 397490000
         },
         {
          "displacement": 11.299182891845703,
          "mol_index": 120,
          "rotation": 2.6436820030212402,
          "time": 398490000
         },
         {
          "displacement": 11.409812927246094,
          "mol_index": 120,
          "rotation": 2.5540552139282227,
          "time": 399490000
         },
         {
          "displacement": 11.217644691467285,
          "mol_index": 120,
          "rotation": 2.5933053493499756,
          "time": 400490000
         },
         {
          "displacement": 11.131139755249023,
          "mol_index": 120,
          "rotation": 2.579317808151245,
          "time": 401490000
         },
         {
          "displacement": 11.211849212646484,
          "mol_index": 120,
          "rotation": 2.5856995582580566,
          "time": 402490000
         },
         {
          "displacement": 11.110779762268066,
          "mol_index": 120,
          "rotation": 2.615999937057495,
          "time": 403490000
         },
         {
          "displacement": 11.678648948669434,
          "mol_index": 120,
          "rotation": 2.083617687225342,
          "time": 404490000
         },
         {
          "displacement": 11.557676315307617,
          "mol_index": 120,
          "rotation": 2.0886430740356445,
          "time": 405490000
         },
         {
          "displacement": 11.343239784240723,
          "mol_index": 120,
          "rotation": 2.1011288166046143,
          "time": 406490000
         },
         {
          "displacement": 11.497881889343262,
          "mol_index": 120,
          "rotation": 2.1172330379486084,
          "time": 407490000
         },
         {
          "displacement": 11.432665824890137,
          "mol_index": 120,
          "rotation": 2.103745460510254,
          "time": 408490000
         },
         {
          "displacement": 11.399999618530273,
          "mol_index": 120,
          "rotation": 2.117497682571411,
          "time": 409490000
         },
         {
          "displacement": 11.324455261230469,
          "mol_index": 120,
          "rotation": 2.1725404262542725,
          "time": 410490000
         },
         {
          "displacement": 11.072072982788086,
          "mol_index": 120,
          "rotation": 2.64254093170166,
          "time": 411490000
         },
         {
          "displacement": 10.125489234924316,
          "mol_index": 120,
          "rotation": 2.9815406799316406,
          "time": 412490000
         },
         {
          "displacement": 10.265223503112793,
          "mol_index": 120,
          "rotation": 2.973891019821167,
          "time": 413490000
         },
         {
          "displacement": 9.953985214233398,
          "mol_index": 120,
          "rotation": 2.9564249515533447,
          "time": 414490000
         },
         {
          "displacement": 9.575674057006836,
          "mol_index": 120,
          "rotation": 2.9309654235839844,
          "time": 415490000
         },
         {
          "displacement": 9.485856056213379,
          "mol_index": 120,
          "rotation": 2.955125093460083,
          "time": 416490000
         },
         {
          "displacement": 8.916040420532227,
          "mol_index": 120,
          "rotation": 2.7433462142944336,
          "time": 417490000
         },
         {
          "displacement": 10.269800186157227,
          "mol_index": 120,
          "rotation": 2.816622495651245,
          "time": 418490000
         },
         {
          "displacement": 10.900635719299316,
          "mol_index": 120,
          "rotation": 2.6713531017303467,
          "time": 419490000
         },
         {
          "displacement": 10.484427452087402,
          "mol_index": 120,
          "rotation": 2.0993216037750244,
          "time": 420490000
         },
         {
          "displacement": 11.026350975036621,
          "mol_index": 120,
          "rotation": 2.1259775161743164,
          "time": 421490000
         },
         {
          "displacement": 11.252341270446777,
          "mol_index": 120,
          "rotation": 2.129868745803833,
          "time": 422490000
         },
         {
          "displacement": 11.284296035766602,
          "mol_index": 120,
          "rotation": 2.139230251312256,
          "time": 423490000
         },
         {
          "displacement": 11.218917846679688,
          "mol_index": 120,
          "rotation": 2.1298229694366455,
          "time": 424490000
         },
         {
          "displacement": 11.150212287902832,
          "mol_index": 120,
          "rotation": 2.103508472442627,
          "time": 425490000
         },
         {
          "displacement": 11.126136779785156,
          "mol_index": 120,
          "rotation": 2.085397481918335,
          "time": 426490000
         },
         {
          "displacement": 11.33333683013916,
          "mol_index": 120,
          "rotation": 2.1254866123199463,
          "time": 427490000
         },
         {
          "displacement": 12.67034912109375,
          "mol_index": 120,
          "rotation": 2.1753413677215576,
          "time": 428490000
         },
         {
          "displacement": 12.687192916870117,
          "mol_index": 120,
          "rotation": 2.211097002029419,
          "time": 429490000
         },
         {
          "displacement": 12.466992378234863,
          "mol_index": 120,
          "rotation": 2.146463394165039,
          "time": 430490000
         },
         {
          "displacement": 12.494428634643555,
          "mol_index": 120,
          "rotation": 2.0922470092773438,
          "time": 431490000
         },
         {
          "displacement": 12.538033485412598,
          "mol_index": 120,
          "rotation": 1.5891262292861938,
          "time": 432490000
         },
         {
          "displacement": 12.119302749633789,
          "mol_index": 120,
          "rotation": 1.9392032623291016,
          "time": 433490000
         },
         {
          "displacement": 11.707168579101562,
          "mol_index": 120,
          "rotation": 2.7099573612213135,
          "time": 434490000
         },
         {
          "displacement": 11.729256629943848,
          "mol_index": 120,
          "rotation": 2.896268844604492,
          "time": 435490000
         },
         {
          "displacement": 11.595666885375977,
          "mol_index": 120,
          "rotation": 2.8305633068084717,
          "time": 436490000
         },
         {
          "displacement": 11.70371150970459,
          "mol_index": 120,
          "rotation": 2.7948355674743652,
          "time": 437490000
         },
         {
          "displacement": 11.795761108398438,
          "mol_index": 120,
          "rotation": 2.7998950481414795,
          "time": 438490000
         },
         {
          "displacement": 11.779958724975586,
          "mol_index": 120,
          "rotation": 2.612774610519409,
          "time": 439490000
         },
         {
          "displacement": 12.2987060546875,
          "mol_index": 120,
          "rotation": 1.8561846017837524,
          "time": 440490000
         },
         {
          "displacement": 12.419536590576172,
          "mol_index": 120,
          "rotation": 1.678114414215088,
          "time": 441490000
         },
         {
          "displacement": 12.671067237854004,
          "mol_index": 120,
          "rotation": 1.5232336521148682,
          "time": 442490000
         },
         {
          "displacement": 12.766138076782227,
          "mol_index": 120,
          "rotation": 1.49860680103302,
          "time": 443490000
         },
         {
          "displacement": 12.664508819580078,
          "mol_index": 120,
          "rotation": 1.499958872795105,
          "time": 444490000
         },
         {
          "displacement": 12.705079078674316,
          "mol_index": 120,
          "rotation": 1.5015056133270264,
          "time": 445490000
         },
         {
          "displacement": 12.733856201171875,
          "mol_index": 120,
          "rotation": 1.5041208267211914,
          "time": 446490000
         },
         {
          "displacement": 13.384708404541016,
          "mol_index": 120,
          "rotation": 1.8773934841156006,
          "time": 447490000
         },
         {
          "displacement": 13.933110237121582,
          "mol_index": 120,
          "rotation": 2.0548853874206543,
          "time": 448490000
         },
         {
          "displacement": 14.185887336730957,
          "mol_index": 120,
          "rotation": 2.1015379428863525,
          "time": 449490000
         },
         {
          "displacement": 13.491703987121582,
          "mol_index": 120,
          "rotation": 1.3241991996765137,
          "time": 450490000
         },
         {
          "displacement": 13.688068389892578,
          "mol_index": 120,
          "rotation": 0.5668590664863586,
          "time": 451490000
         },
         {
          "displacement": 13.251673698425293,
          "mol_index": 120,
          "rotation": 0.14254869520664215,
          "time": 452490000
         },
         {
          "displacement": 13.26046085357666,
          "mol_index": 120,
          "rotation": 0.19141928851604462,
          "time": 453490000
         },
         {
          "displacement": 13.17910099029541,
          "mol_index": 120,
          "rotation": 0.1945173591375351,
          "time": 454490000
         },
         {
          "displacement": 13.21075439453125,
          "mol_index": 120,
          "rotation": 0.1728591024875641,
          "time": 455490000
         },
         {
          "displacement": 13.183488845825195,
          "mol_index": 120,
          "rotation": 0.1802208125591278,
          "time": 456490000
         },
         {
          "displacement": 13.247011184692383,
          "mol_index": 120,
          "rotation": 0.17012465000152588,
          "time": 457490000
         },
         {
          "displacement": 13.249966621398926,
          "mol_index": 120,
          "rotation": 0.14260776340961456,
          "time": 458490000
         },
         {
          "displacement": 13.276209831237793,
          "mol_index": 120,
          "rotation": 0.15144474804401398,
          "time": 459490000
         },
         {
          "displacement": 12.991997718811035,
          "mol_index": 120,
          "rotation": 0.15617844462394714,
          "time": 460490000
         },
         {
          "displacement": 12.839303016662598,
          "mol_index": 120,
          "rotation": 0.16297496855258942,
          "time": 461490000
         },
         {
          "displacement": 12.878979682922363,
          "mol_index": 120,
          "rotation": 0.17123401165008545,
          "time": 462490000
         },
         {
          "displacement": 12.734888076782227,
          "mol_index": 120,
          "rotation": 0.5950508713722229,
          "time": 463490000
         },
         {
          "displacement": 12.985337257385254,
          "mol_index": 120,
          "rotation": 0.9601428508758545,
          "time": 464490000
         },
         {
          "displacement": 13.010506629943848,
          "mol_index": 120,
          "rotation": 0.8129158020019531,
          "time": 465490000
         },
         {
          "displacement": 13.303694725036621,
          "mol_index": 120,
          "rotation": 1.2788069248199463,
          "time": 466490000
         },
         {
          "displacement": 13.175885200500488,
          "mol_index": 120,
          "rotation": 1.2781742811203003,
          "time": 467490000
         },
         {
          "displacement": 13.17197322845459,
          "mol_index": 120,
          "rotation": 0.7977156043052673,
          "time": 468490000
         },
         {
          "displacement": 13.073978424072266,
          "mol_index": 120,
          "rotation": 0.9531118869781494,
          "time": 469490000
         },
         {
          "displacement": 12.996670722961426,
          "mol_index": 120,
          "rotation": 0.9520668387413025,
          "time": 470490000
         },
         {
          "displacement": 12.895788192749023,
          "mol_index": 120,
          "rotation": 0.9402026534080505,
          "time": 471490000
         },
         {
          "displacement": 12.769166946411133,
          "mol_index": 120,
          "rotation": 0.9357128739356995,
          "time": 472490000
         },
         {
          "displacement": 12.748679161071777,
          "mol_index": 120,
          "rotation": 0.9362308979034424,
          "time": 473490000
         },
         {
          "displacement": 12.849498748779297,
          "mol_index": 120,
          "rotation": 0.9276581406593323,
          "time": 474490000
         },
         {
          "displacement": 12.768465995788574,
          "mol_index": 120,
          "rotation": 0.958168625831604,
          "time": 475490000
         },
         {
          "displacement": 12.834126472473145,
          "mol_index": 120,
          "rotation": 0.9710357785224915,
          "time": 476490000
         },
         {
          "displacement": 12.806161880493164,
          "mol_index": 120,
          "rotation": 0.9831370115280151,
          "time": 477490000
         },
         {
          "displacement": 13.05404281616211,
          "mol_index": 120,
          "rotation": 0.7988972663879395,
          "time": 478490000
         },
         {
          "displacement": 12.456001281738281,
          "mol_index": 120,
          "rotation": 0.55152827501297,
          "time": 479490000
         },
         {
          "displacement": 10.694950103759766,
          "mol_index": 120,
          "rotation": 0.7931697964668274,
          "time": 480490000
         },
         {
          "displacement": 10.59628677368164,
          "mol_index": 120,
          "rotation": 0.7831835746765137,
          "time": 481490000
         },
         {
          "displacement": 10.28317642211914,
          "mol_index": 120,
          "rotation": 0.7778547406196594,
          "time": 482490000
         },
         {
          "displacement": 9.951372146606445,
          "mol_index": 120,
          "rotation": 0.3403850495815277,
          "time": 483490000
         },
         {
          "displacement": 10.484827995300293,
          "mol_index": 120,
          "rotation": 0.3435681164264679,
          "time": 484490000
         },
         {
          "displacement": 10.547724723815918,
          "mol_index": 120,
          "rotation": 0.4530510902404785,
          "time": 485490000
         },
         {
          "displacement": 9.68707275390625,
          "mol_index": 120,
          "rotation": 1.3997948169708252,
          "time": 486490000
         },
         {
          "displacement": 9.83069896697998,
          "mol_index": 120,
          "rotation": 0.8519152402877808,
          "time": 487490000
         },
         {
          "displacement": 9.509493827819824,
          "mol_index": 120,
          "rotation": 0.9791035652160645,
          "time": 488490000
         },
         {
          "displacement": 9.136509895324707,
          "mol_index": 120,
          "rotation": 1.0569874048233032,
          "time": 489490000
         },
         {
          "displacement": 8.951520919799805,
          "mol_index": 120,
          "rotation": 1.2430624961853027,
          "time": 490490000
         },
         {
          "displacement": 8.658853530883789,
          "mol_index": 120,
          "rotation": 1.2557655572891235,
          "time": 491490000
         },
         {
          "displacement": 9.008600234985352,
          "mol_index": 120,
          "rotation": 1.2560356855392456,
          "time": 492490000
         },
         {
          "displacement": 9.919107437133789,
          "mol_index": 120,
          "rotation": 0.677187979221344,
          "time": 493490000
         },
         {
          "displacement": 9.282095909118652,
          "mol_index": 120,
          "rotation": 0.8975446224212646,
          "time": 494490000
         },
         {
          "displacement": 9.689043045043945,
          "mol_index": 120,
          "rotation": 0.8297881484031677,
          "time": 495490000
         },
         {
          "displacement": 9.788887023925781,
          "mol_index": 120,
          "rotation": 0.6935652494430542,
          "time": 496490000
         },
         {
          "displacement": 9.653498649597168,
          "mol_index": 120,
          "rotation": 0.7128738760948181,
          "time": 497490000
         },
         {
          "displacement": 9.639545440673828,
          "mol_index": 120,
          "rotation": 0.7227041721343994,
          "time": 498490000
         },
         {
          "displacement": 9.660276412963867,
          "mol_index": 120,
          "rotation": 0.9746771454811096,
          "time": 499490000
         },
         {
          "displacement": 9.642987251281738,
          "mol_index": 120,
          "rotation": 2.7604315280914307,
          "time": 500490000
         },
         {
          "displacement": 9.964693069458008,
          "mol_index": 120,
          "rotation": 2.7430384159088135,
          "time": 501490000
         },
         {
          "displacement": 10.338592529296875,
          "mol_index": 120,
          "rotation": 2.775036334991455,
          "time": 502490000
         },
         {
          "displacement": 10.237658500671387,
          "mol_index": 120,
          "rotation": 3.0717263221740723,
          "time": 503490000
         },
         {
          "displacement": 10.232131004333496,
          "mol_index": 120,
          "rotation": 3.0737481117248535,
          "time": 504490000
         },
         {
          "displacement": 10.144338607788086,
          "mol_index": 120,
          "rotation": 3.0893826484680176,
          "time": 505490000
         },
         {
          "displacement": 9.9547758102417,
          "mol_index": 120,
          "rotation": 3.06874418258667,
          "time": 506490000
         },
         {
          "displacement": 9.761099815368652,
          "mol_index": 120,
          "rotation": 3.0753657817840576,
          "time": 507490000
         },
         {
          "displacement": 9.767438888549805,
          "mol_index": 120,
          "rotation": 3.0628676414489746,
          "time": 508490000
         },
         {
          "displacement": 9.826456069946289,
          "mol_index": 120,
          "rotation": 3.0251152515411377,
          "time": 509490000
         },
         {
          "displacement": 9.73177719116211,
          "mol_index": 120,
          "rotation": 3.0502772331237793,
          "time": 510490000
         },
         {
          "displacement": 10.135780334472656,
          "mol_index": 120,
          "rotation": 3.048781156539917,
          "time": 511490000
         },
         {
          "displacement": 10.767924308776855,
          "mol_index": 120,
          "rotation": 2.9860870838165283,
          "time": 512490000
         },
         {
          "displacement": 10.8427152633667,
          "mol_index": 120,
          "rotation": 2.980548620223999,
          "time": 513490000
         },
         {
          "displacement": 10.779403686523438,
          "mol_index": 120,
          "rotation": 2.969820022583008,
          "time": 514490000
         },
         {
          "displacement": 10.756333351135254,
          "mol_index": 120,
          "rotation": 2.951742172241211,
          "time": 515490000
         },
         {
          "displacement": 10.838764190673828,
          "mol_index": 120,
          "rotation": 2.966912269592285,
          "time": 516490000
         },
         {
          "displacement": 11.094868659973145,
          "mol_index": 120,
          "rotation": 2.9293806552886963,
          "time": 517490000
         },
         {
          "displacement": 11.22119140625,
          "mol_index": 120,
          "rotation": 2.973092555999756,
          "time": 518490000
         },
         {
          "displacement": 11.097638130187988,
          "mol_index": 120,
          "rotation": 2.678621768951416,
          "time": 519490000
         },
         {
          "displacement": 10.268927574157715,
          "mol_index": 120,
          "rotation": 2.393754243850708,
          "time": 520490000
         },
         {
          "displacement": 10.120454788208008,
          "mol_index": 120,
          "rotation": 2.0528101921081543,
          "time": 521490000
         },
         {
          "displacement": 10.120065689086914,
          "mol_index": 120,
          "rotation": 0.8498681783676147,
          "time": 522490000
         },
         {
          "displacement": 9.892271995544434,
          "mol_index": 120,
          "rotation": 1.272947072982788,
          "time": 523490000
         },
         {
          "displacement": 9.641229629516602,
          "mol_index": 120,
          "rotation": 1.176123023033142,
          "time": 524490000
         },
         {
          "displacement": 9.33932113647461,
          "mol_index": 120,
          "rotation": 1.4726568460464478,
          "time": 525490000
         },
         {
          "displacement": 8.724462509155273,
          "mol_index": 120,
          "rotation": 1.5078964233398438,
          "time": 526490000
         },
         {
          "displacement": 8.41796875,
          "mol_index": 120,
          "rotation": 1.4856171607971191,
          "time": 527490000
         },
         {
          "displacement": 8.32251262664795,
          "mol_index": 120,
          "rotation": 1.4038665294647217,
          "time": 528490000
         },
         {
          "displacement": 8.279648780822754,
          "mol_index": 120,
          "rotation": 1.4046440124511719,
          "time": 529490000
         },
         {
          "displacement": 8.523807525634766,
          "mol_index": 120,
          "rotation": 1.4353898763656616,
          "time": 530490000
         },
         {
          "displacement": 8.859992980957031,
          "mol_index": 120,
          "rotation": 1.5875823497772217,
          "time": 531490000
         },
         {
          "displacement": 9.12132740020752,
          "mol_index": 120,
          "rotation": 1.4711018800735474,
          "time": 532490000
         },
         {
          "displacement": 9.20692253112793,
          "mol_index": 120,
          "rotation": 1.517637014389038,
          "time": 533490000
         },
         {
          "displacement": 9.119009971618652,
          "mol_index": 120,
          "rotation": 1.6497621536254883,
          "time": 534490000
         },
         {
          "displacement": 9.090003967285156,
          "mol_index": 120,
          "rotation": 1.69786536693573,
          "time": 535490000
         },
         {
          "displacement": 9.166350364685059,
          "mol_index": 120,
          "rotation": 1.65809965133667,
          "time": 536490000
         },
         {
          "displacement": 9.143219947814941,
          "mol_index": 120,
          "rotation": 1.643913745880127,
          "time": 537490000
         },
         {
          "displacement": 9.120879173278809,
          "mol_index": 120,
          "rotation": 1.628901481628418,
          "time": 538490000
         },
         {
          "displacement": 9.260857582092285,
          "mol_index": 120,
          "rotation": 1.6174743175506592,
          "time": 539490000
         },
         {
          "displacement": 9.503046989440918,
          "mol_index": 120,
          "rotation": 1.5875568389892578,
          "time": 540490000
         },
         {
          "displacement": 9.545013427734375,
          "mol_index": 120,
          "rotation": 1.581953763961792,
          "time": 541490000
         },
         {
          "displacement": 9.594911575317383,
          "mol_index": 120,
          "rotation": 1.5737532377243042,
          "time": 542490000
         },
         {
          "displacement": 9.574634552001953,
          "mol_index": 120,
          "rotation": 1.450447916984558,
          "time": 543490000
         },
         {
          "displacement": 9.695767402648926,
          "mol_index": 120,
          "rotation": 1.1676549911499023,
          "time": 544490000
         },
         {
          "displacement": 9.906477928161621,
          "mol_index": 120,
          "rotation": 0.8196478486061096,
          "time": 545490000
         },
         {
          "displacement": 9.389776229858398,
          "mol_index": 120,
          "rotation": 0.2118005007505417,
          "time": 546490000
         },
         {
          "displacement": 9.184172630310059,
          "mol_index": 120,
          "rotation": 0.17198120057582855,
          "time": 547490000
         },
         {
          "displacement": 9.381267547607422,
          "mol_index": 120,
          "rotation": 0.19993360340595245,
          "time": 548490000
         },
         {
          "displacement": 9.446555137634277,
          "mol_index": 120,
          "rotation": 0.196627676486969,
          "time": 549490000
         },
         {
          "displacement": 9.25773811340332,
          "mol_index": 120,
          "rotation": 0.18674249947071075,
          "time": 550490000
         },
         {
          "displacement": 9.209298133850098,
          "mol_index": 120,
          "rotation": 0.20278269052505493,
          "time": 551490000
         },
         {
          "displacement": 9.036834716796875,
          "mol_index": 120,
          "rotation": 0.19478051364421844,
          "time": 552490000
         },
         {
          "displacement": 8.761250495910645,
          "mol_index": 120,
          "rotation": 0.2572628855705261,
          "time": 553490000
         },
         {
          "displacement": 9.163909912109375,
          "mol_index": 120,
          "rotation": 0.18865317106246948,
          "time": 554490000
         },
         {
          "displacement": 9.45475959777832,
          "mol_index": 120,
          "rotation": 0.7216057777404785,
          "time": 555490000
         },
         {
          "displacement": 9.707210540771484,
          "mol_index": 120,
          "rotation": 1.2249953746795654,
          "time": 556490000
         },
         {
          "displacement": 9.886698722839355,
          "mol_index": 120,
          "rotation": 0.9640982151031494,
          "time": 557490000
         },
         {
          "displacement": 9.856703758239746,
          "mol_index": 120,
          "rotation": 0.7477575540542603,
          "time": 558490000
         },
         {
          "displacement": 9.766910552978516,
          "mol_index": 120,
          "rotation": 0.49001675844192505,
          "time": 559490000
         },
         {
          "displacement": 9.638723373413086,
          "mol_index": 120,
          "rotation": 0.47173523902893066,
          "time": 560490000
         },
         {
          "displacement": 9.611902236938477,
          "mol_index": 120,
          "rotation": 0.7116473913192749,
          "time": 561490000
         },
         {
          "displacement": 10.004109382629395,
          "mol_index": 120,
          "rotation": 1.178200602531433,
          "time": 562490000
         },
         {
          "displacement": 10.063446044921875,
          "mol_index": 120,
          "rotation": 1.5187705755233765,
          "time": 563490000
         },
         {
          "displacement": 10.192208290100098,
          "mol_index": 120,
          "rotation": 1.945855975151062,
          "time": 564490000
         },
         {
          "displacement": 10.064231872558594,
          "mol_index": 120,
          "rotation": 1.9268608093261719,
          "time": 565490000
         },
         {
          "displacement": 10.013564109802246,
          "mol_index": 120,
          "rotation": 1.9364943504333496,
          "time": 566490000
         },
         {
          "displacement": 10.1156644821167,
          "mol_index": 120,
          "rotation": 1.977337121963501,
          "time": 567490000
         },
         {
          "displacement": 10.174149513244629,
          "mol_index": 120,
          "rotation": 2.032244920730591,
          "time": 568490000
         },
         {
          "displacement": 10.536893844604492,
          "mol_index": 120,
          "rotation": 1.9540692567825317,
          "time": 569490000
         },
         {
          "displacement": 10.664644241333008,
          "mol_index": 120,
          "rotation": 1.8917020559310913,
          "time": 570490000
         },
         {
          "displacement": 10.600846290588379,
          "mol_index": 120,
          "rotation": 1.8419303894042969,
          "time": 571490000
         },
         {
          "displacement": 10.523971557617188,
          "mol_index": 120,
          "rotation": 1.8182636499404907,
          "time": 572490000
         },
         {
          "displacement": 10.586526870727539,
          "mol_index": 120,
          "rotation": 1.7583250999450684,
          "time": 573490000
         },
         {
          "displacement": 10.418866157531738,
          "mol_index": 120,
          "rotation": 1.72352135181427,
          "time": 574490000
         },
         {
          "displacement": 10.361656188964844,
          "mol_index": 120,
          "rotation": 1.7432976961135864,
          "time": 575490000
         },
         {
          "displacement": 10.19053840637207,
          "mol_index": 120,
          "rotation": 1.684407114982605,
          "time": 576490000
         },
         {
          "displacement": 9.9834566116333,
          "mol_index": 120,
          "rotation": 1.9449573755264282,
          "time": 577490000
         },
         {
          "displacement": 9.740422248840332,
          "mol_index": 120,
          "rotation": 2.0551319122314453,
          "time": 578490000
         },
         {
          "displacement": 9.627426147460938,
          "mol_index": 120,
          "rotation": 2.4190282821655273,
          "time": 579490000
         },
         {
          "displacement": 9.777369499206543,
          "mol_index": 120,
          "rotation": 2.3544719219207764,
          "time": 580490000
         },
         {
          "displacement": 9.776822090148926,
          "mol_index": 120,
          "rotation": 2.4133026599884033,
          "time": 581490000
         },
         {
          "displacement": 9.817739486694336,
          "mol_index": 120,
          "rotation": 2.475072145462036,
          "time": 582490000
         },
         {
          "displacement": 9.766504287719727,
          "mol_index": 120,
          "rotation": 2.41585111618042,
          "time": 583490000
         },
         {
          "displacement": 9.789480209350586,
          "mol_index": 120,
          "rotation": 2.5035645961761475,
          "time": 584490000
         },
         {
          "displacement": 10.227869987487793,
          "mol_index": 120,
          "rotation": 2.777698516845703,
          "time": 585490000
         },
         {
          "displacement": 10.520185470581055,
          "mol_index": 120,
          "rotation": 2.6002159118652344,
          "time": 586490000
         },
         {
          "displacement": 10.576505661010742,
          "mol_index": 120,
          "rotation": 2.8952178955078125,
          "time": 587490000
         },
         {
          "displacement": 10.638103485107422,
          "mol_index": 120,
          "rotation": 2.918982982635498,
          "time": 588490000
         },
         {
          "displacement": 10.684905052185059,
          "mol_index": 120,
          "rotation": 2.8933873176574707,
          "time": 589490000
         },
         {
          "displacement": 10.664741516113281,
          "mol_index": 120,
          "rotation": 2.9058775901794434,
          "time": 590490000
         },
         {
          "displacement": 10.711831092834473,
          "mol_index": 120,
          "rotation": 2.9185686111450195,
          "time": 591490000
         },
         {
          "displacement": 10.698779106140137,
          "mol_index": 120,
          "rotation": 2.9230763912200928,
          "time": 592490000
         },
         {
          "displacement": 10.648491859436035,
          "mol_index": 120,
          "rotation": 2.8281915187835693,
          "time": 593490000
         },
         {
          "displacement": 10.596879959106445,
          "mol_index": 120,
          "rotation": 2.7445714473724365,
          "time": 594490000
         },
         {
          "displacement": 10.729042053222656,
          "mol_index": 120,
          "rotation": 2.349121570587158,
          "time": 595490000
         },
         {
          "displacement": 10.994881629943848,
          "mol_index": 120,
          "rotation": 1.9857590198516846,
          "time": 596490000
         },
         {
          "displacement": 10.700251579284668,
          "mol_index": 120,
          "rotation": 2.245178461074829,
          "time": 597490000
         },
         {
          "displacement": 10.596879959106445,
          "mol_index": 120,
          "rotation": 2.251974105834961,
          "time": 598490000
         },
         {
          "displacement": 10.509113311767578,
          "mol_index": 120,
          "rotation": 2.279759168624878,
          "time": 599490000
         },
         {
          "displacement": 10.457061767578125,
          "mol_index": 120,
          "rotation": 2.244560480117798,
          "time": 600490000
         },
         {
          "displacement": 10.382068634033203,
          "mol_index": 120,
          "rotation": 2.183087110519409,
          "time": 601490000
         },
         {
          "displacement": 10.331609725952148,
          "mol_index": 120,
          "rotation": 2.161426544189453,
          "time": 602490000
         },
         {
          "displacement": 10.39860725402832,
          "mol_index": 120,
          "rotation": 2.1159701347351074,
          "time": 603490000
         },
         {
          "displacement": 10.393026351928711,
          "mol_index": 120,
          "rotation": 2.122389793395996,
          "time": 604490000
         },
         {
          "displacement": 10.330708503723145,
          "mol_index": 120,
          "rotation": 2.1559224128723145,
          "time": 605490000
         },
         {
          "displacement": 10.258966445922852,
          "mol_index": 120,
          "rotation": 2.1823301315307617,
          "time": 606490000
         },
         {
          "displacement": 10.239852905273438,
          "mol_index": 120,
          "rotation": 2.13602614402771,
          "time": 607490000
         },
         {
          "displacement": 10.200220108032227,
          "mol_index": 120,
          "rotation": 2.2134602069854736,
          "time": 608490000
         },
         {
          "displacement": 10.153620719909668,
          "mol_index": 120,
          "rotation": 2.2037241458892822,
          "time": 609490000
         },
         {
          "displacement": 10.167865753173828,
          "mol_index": 120,
          "rotation": 2.2079691886901855,
          "time": 610490000
         },
         {
          "displacement": 10.239431381225586,
          "mol_index": 120,
          "rotation": 2.2198047637939453,
          "time": 611490000
         },
         {
          "displacement": 10.161815643310547,
          "mol_index": 120,
          "rotation": 2.224721908569336,
          "time": 612490000
         },
         {
          "displacement": 9.96673583984375,
          "mol_index": 120,
          "rotation": 2.222630500793457,
          "time": 613490000
         },
         {
          "displacement": 9.933947563171387,
          "mol_index": 120,
          "rotation": 2.242412805557251,
          "time": 614490000
         },
         {
          "displacement": 10.101595878601074,
          "mol_index": 120,
          "rotation": 2.2184336185455322,
          "time": 615490000
         },
         {
          "displacement": 10.124296188354492,
          "mol_index": 120,
          "rotation": 2.2358827590942383,
          "time": 616490000
         },
         {
          "displacement": 10.034895896911621,
          "mol_index": 120,
          "rotation": 2.233663558959961,
          "time": 617490000
         },
         {
          "displacement": 9.947196006774902,
          "mol_index": 120,
          "rotation": 2.2357115745544434,
          "time": 618490000
         },
         {
          "displacement": 10.032571792602539,
          "mol_index": 120,
          "rotation": 2.1735036373138428,
          "time": 619490000
         },
         {
          "displacement": 10.052231788635254,
          "mol_index": 120,
          "rotation": 2.2460098266601562,
          "time": 620490000
         },
         {
          "displacement": 9.88300895690918,
          "mol_index": 120,
          "rotation": 2.2188665866851807,
          "time": 621490000
         },
         {
          "displacement": 9.786548614501953,
          "mol_index": 120,
          "rotation": 2.22035813331604,
          "time": 622490000
         },
         {
          "displacement": 9.886587142944336,
          "mol_index": 120,
          "rotation": 2.216808319091797,
          "time": 623490000
         },
         {
          "displacement": 9.832823753356934,
          "mol_index": 120,
          "rotation": 2.150446891784668,
          "time": 624490000
         },
         {
          "displacement": 9.977583885192871,
          "mol_index": 120,
          "rotation": 2.0637247562408447,
          "time": 625490000
         },
         {
          "displacement": 9.922988891601562,
          "mol_index": 120,
          "rotation": 2.066629648208618,
          "time": 626490000
         },
         {
          "displacement": 10.027366638183594,
          "mol_index": 120,
          "rotation": 2.1677141189575195,
          "time": 627490000
         },
         {
          "displacement": 9.834244728088379,
          "mol_index": 120,
          "rotation": 2.143080234527588,
          "time": 628490000
         },
         {
          "displacement": 9.797569274902344,
          "mol_index": 120,
          "rotation": 2.0949759483337402,
          "time": 629490000
         },
         {
          "displacement": 9.780033111572266,
          "mol_index": 120,
          "rotation": 2.171381711959839,
          "time": 630490000
         },
         {
          "displacement": 9.732004165649414,
          "mol_index": 120,
          "rotation": 2.1436517238616943,
          "time": 631490000
         },
         {
          "displacement": 9.66611385345459,
          "mol_index": 120,
          "rotation": 2.1423299312591553,
          "time": 632490000
         },
         {
          "displacement": 9.781880378723145,
          "mol_index": 120,
          "rotation": 2.1290667057037354,
          "time": 633490000
         },
         {
          "displacement": 10.002272605895996,
          "mol_index": 120,
          "rotation": 2.1198582649230957,
          "time": 634490000
         },
         {
          "displacement": 9.844722747802734,
          "mol_index": 120,
          "rotation": 2.12638258934021,
          "time": 635490000
         },
         {
          "displacement": 9.757105827331543,
          "mol_index": 120,
          "rotation": 2.1356799602508545,
          "time": 636490000
         },
         {
          "displacement": 9.695212364196777,
          "mol_index": 120,
          "rotation": 2.1366543769836426,
          "time": 637490000
         },
         {
          "displacement": 9.761529922485352,
          "mol_index": 120,
          "rotation": 2.120445489883423,
          "time": 638490000
         },
         {
          "displacement": 9.70755386352539,
          "mol_index": 120,
          "rotation": 2.146400213241577,
          "time": 639490000
         },
         {
          "displacement": 9.832046508789062,
          "mol_index": 120,
          "rotation": 2.0955026149749756,
          "time": 640490000
         },
         {
          "displacement": 9.941754341125488,
          "mol_index": 120,
          "rotation": 2.098219871520996,
          "time": 641490000
         },
         {
          "displacement": 9.882152557373047,
          "mol_index": 120,
          "rotation": 2.091794490814209,
          "time": 642490000
         },
         {
          "displacement": 9.929488182067871,
          "mol_index": 120,
          "rotation": 2.106511116027832,
          "time": 643490000
         },
         {
          "displacement": 9.568397521972656,
          "mol_index": 120,
          "rotation": 2.0876779556274414,
          "time": 644490000
         },
         {
          "displacement": 9.553728103637695,
          "mol_index": 120,
          "rotation": 2.1045663356781006,
          "time": 645490000
         },
         {
          "displacement": 9.664012908935547,
          "mol_index": 120,
          "rotation": 2.1062207221984863,
          "time": 646490000
         },
         {
          "displacement": 9.794360160827637,
          "mol_index": 120,
          "rotation": 2.0986292362213135,
          "time": 647490000
         },
         {
          "displacement": 9.96315860748291,
          "mol_index": 120,
          "rotation": 2.1019930839538574,
          "time": 648490000
         },
         {
          "displacement": 10.02153491973877,
          "mol_index": 120,
          "rotation": 2.111405849456787,
          "time": 649490000
         },
         {
          "displacement": 9.900943756103516,
          "mol_index": 120,
          "rotation": 2.1282711029052734,
          "time": 650490000
         },
         {
          "displacement": 9.839016914367676,
          "mol_index": 120,
          "rotation": 2.1303927898406982,
          "time": 651490000
         },
         {
          "displacement": 9.936721801757812,
          "mol_index": 120,
          "rotation": 2.1132090091705322,
          "time": 652490000
         },
         {
          "displacement": 10.104527473449707,
          "mol_index": 120,
          "rotation": 2.6435446739196777,
          "time": 653490000
         },
         {
          "displacement": 10.098467826843262,
          "mol_index": 120,
          "rotation": 2.660555839538574,
          "time": 654490000
         },
         {
          "displacement": 10.067219734191895,
          "mol_index": 120,
          "rotation": 2.657611131668091,
          "time": 655490000
         },
         {
          "displacement": 10.040191650390625,
          "mol_index": 120,
          "rotation": 2.6571197509765625,
          "time": 656490000
         },
         {
          "displacement": 9.994495391845703,
          "mol_index": 120,
          "rotation": 2.628115653991699,
          "time": 657490000
         },
         {
          "displacement": 9.936110496520996,
          "mol_index": 120,
          "rotation": 2.605008602142334,
          "time": 658490000
         },
         {
          "displacement": 9.886539459228516,
          "mol_index": 120,
          "rotation": 2.6059186458587646,
          "time": 659490000
         },
         {
          "displacement": 9.93775463104248,
          "mol_index": 120,
          "rotation": 2.593061923980713,
          "time": 660490000
         },
         {
          "displacement": 9.850671768188477,
          "mol_index": 120,
          "rotation": 2.588062286376953,
          "time": 661490000
         },
         {
          "displacement": 9.61276912689209,
          "mol_index": 120,
          "rotation": 2.61336088180542,
          "time": 662490000
         },
         {
          "displacement": 9.482097625732422,
          "mol_index": 120,
          "rotation": 2.630189895629883,
          "time": 663490000
         },
         {
          "displacement": 9.609405517578125,
          "mol_index": 120,
          "rotation": 2.641677141189575,
          "time": 664490000
         },
         {
          "displacement": 9.49988079071045,
          "mol_index": 120,
          "rotation": 2.638949394226074,
          "time": 665490000
         },
         {
          "displacement": 9.57815933227539,
          "mol_index": 120,
          "rotation": 2.6200764179229736,
          "time": 666490000
         },
         {
          "displacement": 9.670173645019531,
          "mol_index": 120,
          "rotation": 2.6388959884643555,
          "time": 667490000
         },
         {
          "displacement": 9.587010383605957,
          "mol_index": 120,
          "rotation": 2.623929262161255,
          "time": 668490000
         },
         {
          "displacement": 9.640260696411133,
          "mol_index": 120,
          "rotation": 2.6463463306427,
          "time": 669490000
         },
         {
          "displacement": 9.588810920715332,
          "mol_index": 120,
          "rotation": 2.674846887588501,
          "time": 670490000
         },
         {
          "displacement": 9.67162036895752,
          "mol_index": 120,
          "rotation": 2.707184314727783,
          "time": 671490000
         },
         {
          "displacement": 9.539779663085938,
          "mol_index": 120,
          "rotation": 2.165678024291992,
          "time": 672490000
         },
         {
          "displacement": 9.483263969421387,
          "mol_index": 120,
          "rotation": 0.9610840678215027,
          "time": 673490000
         },
         {
          "displacement": 9.515510559082031,
          "mol_index": 120,
          "rotation": 1.014127492904663,
          "time": 674490000
         },
         {
          "displacement": 9.44483757019043,
          "mol_index": 120,
          "rotation": 0.8584533929824829,
          "time": 675490000
         },
         {
          "displacement": 9.518050193786621,
          "mol_index": 120,
          "rotation": 0.8418285250663757,
          "time": 676490000
         },
         {
          "displacement": 9.774080276489258,
          "mol_index": 120,
          "rotation": 0.8928601145744324,
          "time": 677490000
         },
         {
          "displacement": 9.8334321975708,
          "mol_index": 120,
          "rotation": 0.9891371726989746,
          "time": 678490000
         },
         {
          "displacement": 9.745223999023438,
          "mol_index": 120,
          "rotation": 0.6444191932678223,
          "time": 679490000
         },
         {
          "displacement": 9.803927421569824,
          "mol_index": 120,
          "rotation": 0.5483945608139038,
          "time": 680490000
         },
         {
          "displacement": 9.736955642700195,
          "mol_index": 120,
          "rotation": 0.5676950216293335,
          "time": 681490000
         },
         {
          "displacement": 9.276972770690918,
          "mol_index": 120,
          "rotation": 0.44278720021247864,
          "time": 682490000
         },
         {
          "displacement": 8.982924461364746,
          "mol_index": 120,
          "rotation": 0.3792684078216553,
          "time": 683490000
         },
         {
          "displacement": 9.722334861755371,
          "mol_index": 120,
          "rotation": 0.4501497149467468,
          "time": 684490000
         },
         {
          "displacement": 9.85720157623291,
          "mol_index": 120,
          "rotation": 0.46738943457603455,
          "time": 685490000
         },
         {
          "displacement": 9.900593757629395,
          "mol_index": 120,
          "rotation": 0.41298210620880127,
          "time": 686490000
         },
         {
          "displacement": 9.927180290222168,
          "mol_index": 120,
          "rotation": 0.49165722727775574,
          "time": 687490000
         },
         {
          "displacement": 10.032946586608887,
          "mol_index": 120,
          "rotation": 0.5747280120849609,
          "time": 688490000
         },
         {
          "displacement": 10.158385276794434,
          "mol_index": 120,
          "rotation": 0.5793565511703491,
          "time": 689490000
         },
         {
          "displacement": 9.962467193603516,
          "mol_index": 120,
          "rotation": 0.5480128526687622,
          "time": 690490000
         },
         {
          "displacement": 10.02080249786377,
          "mol_index": 120,
          "rotation": 0.5397918820381165,
          "time": 691490000
         },
         {
          "displacement": 11.101883888244629,
          "mol_index": 120,
          "rotation": 0.5621966123580933,
          "time": 692490000
         },
         {
          "displacement": 11.300191879272461,
          "mol_index": 120,
          "rotation": 0.6783384084701538,
          "time": 693490000
         },
         {
          "displacement": 11.261306762695312,
          "mol_index": 120,
          "rotation": 0.6683717370033264,
          "time": 694490000
         },
         {
          "displacement": 11.417289733886719,
          "mol_index": 120,
          "rotation": 0.6660919189453125,
          "time": 695490000
         },
         {
          "displacement": 11.460975646972656,
          "mol_index": 120,
          "rotation": 0.6409997940063477,
          "time": 696490000
         },
         {
          "displacement": 11.553847312927246,
          "mol_index": 120,
          "rotation": 0.6937118768692017,
          "time": 697490000
         },
         {
          "displacement": 11.511975288391113,
          "mol_index": 120,
          "rotation": 0.6932246685028076,
          "time": 698490000
         },
         {
          "displacement": 11.572104454040527,
          "mol_index": 120,
          "rotation": 0.6914185881614685,
          "time": 699490000
         },
         {
          "displacement": 11.445069313049316,
          "mol_index": 120,
          "rotation": 0.6958738565444946,
          "time": 700490000
         },
         {
          "displacement": 11.260540008544922,
          "mol_index": 120,
          "rotation": 0.6671344041824341,
          "time": 701490000
         },
         {
          "displacement": 11.318541526794434,
          "mol_index": 120,
          "rotation": 0.6474329233169556,
          "time": 702490000
         },
         {
          "displacement": 11.322861671447754,
          "mol_index": 120,
          "rotation": 0.553788423538208,
          "time": 703490000
         },
         {
          "displacement": 11.20629596710205,
          "mol_index": 120,
          "rotation": 0.6836031675338745,
          "time": 704490000
         },
         {
          "displacement": 11.14432430267334,
          "mol_index": 120,
          "rotation": 0.6726073026657104,
          "time": 705490000
         },
         {
          "displacement": 11.219661712646484,
          "mol_index": 120,
          "rotation": 0.7550209164619446,
          "time": 706490000
         },
         {
          "displacement": 11.297783851623535,
          "mol_index": 120,
          "rotation": 0.671804666519165,
          "time": 707490000
         },
         {
          "displacement": 11.556675910949707,
          "mol_index": 120,
          "rotation": 0.33259162306785583,
          "time": 708490000
         },
         {
          "displacement": 12.039433479309082,
          "mol_index": 120,
          "rotation": 0.1707722395658493,
          "time": 709490000
         },
         {
          "displacement": 12.39919662475586,
          "mol_index": 120,
          "rotation": 0.09228334575891495,
          "time": 710490000
         },
         {
          "displacement": 12.408543586730957,
          "mol_index": 120,
          "rotation": 0.08175286650657654,
          "time": 711490000
         },
         {
          "displacement": 12.472085952758789,
          "mol_index": 120,
          "rotation": 0.08316019177436829,
          "time": 712490000
         },
         {
          "displacement": 12.455439567565918,
          "mol_index": 120,
          "rotation": 0.08275426924228668,
          "time": 713490000
         },
         {
          "displacement": 12.502687454223633,
          "mol_index": 120,
          "rotation": 0.0726531445980072,
          "time": 714490000
         },
         {
          "displacement": 12.60751724243164,
          "mol_index": 120,
          "rotation": 0.08176111429929733,
          "time": 715490000
         },
         {
          "displacement": 12.609590530395508,
          "mol_index": 120,
          "rotation": 0.07028715312480927,
          "time": 716490000
         },
         {
          "displacement": 12.56591510772705,
          "mol_index": 120,
          "rotation": 0.07641345262527466,
          "time": 717490000
         },
         {
          "displacement": 12.424223899841309,
          "mol_index": 120,
          "rotation": 0.06465461850166321,
          "time": 718490000
         },
         {
          "displacement": 12.559767723083496,
          "mol_index": 120,
          "rotation": 0.6970508694648743,
          "time": 719490000
         },
         {
          "displacement": 12.652924537658691,
          "mol_index": 120,
          "rotation": 1.5617607831954956,
          "time": 720490000
         },
         {
          "displacement": 12.696322441101074,
          "mol_index": 120,
          "rotation": 1.2741320133209229,
          "time": 721490000
         },
         {
          "displacement": 12.54859447479248,
          "mol_index": 120,
          "rotation": 1.2198930978775024,
          "time": 722490000
         },
         {
          "displacement": 12.150030136108398,
          "mol_index": 120,
          "rotation": 1.1469621658325195,
          "time": 723490000
         },
         {
          "displacement": 12.364776611328125,
          "mol_index": 120,
          "rotation": 1.1512502431869507,
          "time": 724490000
         },
         {
          "displacement": 12.349394798278809,
          "mol_index": 120,
          "rotation": 1.6137570142745972,
          "time": 725490000
         },
         {
          "displacement": 12.358242988586426,
          "mol_index": 120,
          "rotation": 1.671703815460205,
          "time": 726490000
         },
         {
          "displacement": 12.530006408691406,
          "mol_index": 120,
          "rotation": 1.8223034143447876,
          "time": 727490000
         },
         {
          "displacement": 12.718149185180664,
          "mol_index": 120,
          "rotation": 2.0179848670959473,
          "time": 728490000
         },
         {
          "displacement": 13.230392456054688,
          "mol_index": 120,
          "rotation": 2.2571027278900146,
          "time": 729490000
         },
         {
          "displacement": 13.218504905700684,
          "mol_index": 120,
          "rotation": 2.3540685176849365,
          "time": 730490000
         },
         {
          "displacement": 13.286422729492188,
          "mol_index": 120,
          "rotation": 2.295851707458496,
          "time": 731490000
         },
         {
          "displacement": 13.281521797180176,
          "mol_index": 120,
          "rotation": 2.3045990467071533,
          "time": 732490000
         },
         {
          "displacement": 13.310866355895996,
          "mol_index": 120,
          "rotation": 2.2637429237365723,
          "time": 733490000
         },
         {
          "displacement": 13.345376014709473,
          "mol_index": 120,
          "rotation": 2.404053211212158,
          "time": 734490000
         },
         {
          "displacement": 13.247831344604492,
          "mol_index": 120,
          "rotation": 1.9945210218429565,
          "time": 735490000
         },
         {
          "displacement": 13.188673973083496,
          "mol_index": 120,
          "rotation": 0.7972333431243896,
          "time": 736490000
         },
         {
          "displacement": 13.179579734802246,
          "mol_index": 120,
          "rotation": 0.7869073152542114,
          "time": 737490000
         },
         {
          "displacement": 13.214527130126953,
          "mol_index": 120,
          "rotation": 0.771268367767334,
          "time": 738490000
         },
         {
          "displacement": 13.300477027893066,
          "mol_index": 120,
          "rotation": 0.7718340754508972,
          "time": 739490000
         },
         {
          "displacement": 13.234160423278809,
          "mol_index": 120,
          "rotation": 0.7659245729446411,
          "time": 740490000
         },
         {
          "displacement": 13.001941680908203,
          "mol_index": 120,
          "rotation": 0.7390197515487671,
          "time": 741490000
         },
         {
          "displacement": 12.85851001739502,
          "mol_index": 120,
          "rotation": 0.736768901348114,
          "time": 742490000
         },
         {
          "displacement": 12.721341133117676,
          "mol_index": 120,
          "rotation": 0.7142959833145142,
          "time": 743490000
         },
         {
          "displacement": 12.77053165435791,
          "mol_index": 120,
          "rotation": 0.7307384014129639,
          "time": 744490000
         },
         {
          "displacement": 12.861063957214355,
          "mol_index": 120,
          "rotation": 0.7080556750297546,
          "time": 745490000
         },
         {
          "displacement": 12.845985412597656,
          "mol_index": 120,
          "rotation": 0.7114765048027039,
          "time": 746490000
         },
         {
          "displacement": 12.869416236877441,
          "mol_index": 120,
          "rotation": 0.6998162865638733,
          "time": 747490000
         },
         {
          "displacement": 13.032605171203613,
          "mol_index": 120,
          "rotation": 0.6686620712280273,
          "time": 748490000
         },
         {
          "displacement": 14.300955772399902,
          "mol_index": 120,
          "rotation": 1.4797656536102295,
          "time": 749490000
         },
         {
          "displacement": 14.202030181884766,
          "mol_index": 120,
          "rotation": 1.510176658630371,
          "time": 750490000
         },
         {
          "displacement": 14.080233573913574,
          "mol_index": 120,
          "rotation": 1.5173178911209106,
          "time": 751490000
         },
         {
          "displacement": 14.236092567443848,
          "mol_index": 120,
          "rotation": 1.462375521659851,
          "time": 752490000
         },
         {
          "displacement": 13.802201271057129,
          "mol_index": 120,
          "rotation": 0.9525189399719238,
          "time": 753490000
         },
         {
          "displacement": 13.67898941040039,
          "mol_index": 120,
          "rotation": 0.960479736328125,
          "time": 754490000
         },
         {
          "displacement": 13.672391891479492,
          "mol_index": 120,
          "rotation": 0.9572528600692749,
          "time": 755490000
         },
         {
          "displacement": 13.688002586364746,
          "mol_index": 120,
          "rotation": 0.9659436941146851,
          "time": 756490000
         },
         {
          "displacement": 13.700663566589355,
          "mol_index": 120,
          "rotation": 0.9210835695266724,
          "time": 757490000
         },
         {
          "displacement": 13.657227516174316,
          "mol_index": 120,
          "rotation": 0.9324563145637512,
          "time": 758490000
         },
         {
          "displacement": 13.38521671295166,
          "mol_index": 120,
          "rotation": 0.9004510641098022,
          "time": 759490000
         },
         {
          "displacement": 13.458589553833008,
          "mol_index": 120,
          "rotation": 0.8060536980628967,
          "time": 760490000
         },
         {
          "displacement": 13.560981750488281,
          "mol_index": 120,
          "rotation": 0.7856037616729736,
          "time": 761490000
         },
         {
          "displacement": 13.705743789672852,
          "mol_index": 120,
          "rotation": 1.5132253170013428,
          "time": 762490000
         },
         {
          "displacement": 13.433464050292969,
          "mol_index": 120,
          "rotation": 1.6722948551177979,
          "time": 763490000
         },
         {
          "displacement": 13.053376197814941,
          "mol_index": 120,
          "rotation": 1.702628254890442,
          "time": 764490000
         },
         {
          "displacement": 13.237414360046387,
          "mol_index": 120,
          "rotation": 2.0235531330108643,
          "time": 765490000
         },
         {
          "displacement": 13.254806518554688,
          "mol_index": 120,
          "rotation": 2.042342185974121,
          "time": 766490000
         },
         {
          "displacement": 13.315832138061523,
          "mol_index": 120,
          "rotation": 2.105649709701538,
          "time": 767490000
         },
         {
          "displacement": 12.796669960021973,
          "mol_index": 120,
          "rotation": 2.0221238136291504,
          "time": 768490000
         },
         {
          "displacement": 12.41197681427002,
          "mol_index": 120,
          "rotation": 1.7131727933883667,
          "time": 769490000
         },
         {
          "displacement": 12.362442016601562,
          "mol_index": 120,
          "rotation": 1.7513039112091064,
          "time": 770490000
         },
         {
          "displacement": 12.246362686157227,
          "mol_index": 120,
          "rotation": 1.7452961206436157,
          "time": 771490000
         },
         {
          "displacement": 12.497543334960938,
          "mol_index": 120,
          "rotation": 1.7781436443328857,
          "time": 772490000
         },
         {
          "displacement": 12.336688041687012,
          "mol_index": 120,
          "rotation": 1.8491663932800293,
          "time": 773490000
         },
         {
          "displacement": 12.123698234558105,
          "mol_index": 120,
          "rotation": 1.8782860040664673,
          "time": 774490000
         },
         {
          "displacement": 11.6644868850708,
          "mol_index": 120,
          "rotation": 1.095020055770874,
          "time": 775490000
         },
         {
          "displacement": 11.527339935302734,
          "mol_index": 120,
          "rotation": 0.8979287147521973,
          "time": 776490000
         },
         {
          "displacement": 11.507503509521484,
          "mol_index": 120,
          "rotation": 1.0914381742477417,
          "time": 777490000
         },
         {
          "displacement": 11.05186939239502,
          "mol_index": 120,
          "rotation": 1.115793228149414,
          "time": 778490000
         },
         {
          "displacement": 10.705236434936523,
          "mol_index": 120,
          "rotation": 0.903672993183136,
          "time": 779490000
         },
         {
          "displacement": 10.6652193069458,
          "mol_index": 120,
          "rotation": 0.7779625654220581,
          "time": 780490000
         },
         {
          "displacement": 10.496256828308105,
          "mol_index": 120,
          "rotation": 0.994976282119751,
          "time": 781490000
         },
         {
          "displacement": 10.447894096374512,
          "mol_index": 120,
          "rotation": 1.009221076965332,
          "time": 782490000
         },
         {
          "displacement": 10.42885684967041,
          "mol_index": 120,
          "rotation": 1.1194950342178345,
          "time": 783490000
         },
         {
          "displacement": 10.282699584960938,
          "mol_index": 120,
          "rotation": 1.1283084154129028,
          "time": 784490000
         },
         {
          "displacement": 10.323539733886719,
          "mol_index": 120,
          "rotation": 1.1165144443511963,
          "time": 785490000
         },
         {
          "displacement": 10.543142318725586,
          "mol_index": 120,
          "rotation": 1.1083565950393677,
          "time": 786490000
         },
         {
          "displacement": 10.734671592712402,
          "mol_index": 120,
          "rotation": 0.9332271814346313,
          "time": 787490000
         },
         {
          "displacement": 10.654642105102539,
          "mol_index": 120,
          "rotation": 0.9361811280250549,
          "time": 788490000
         },
         {
          "displacement": 10.48275089263916,
          "mol_index": 120,
          "rotation": 0.4561929702758789,
          "time": 789490000
         },
         {
          "displacement": 10.446513175964355,
          "mol_index": 120,
          "rotation": 0.4506816864013672,
          "time": 790490000
         },
         {
          "displacement": 10.323921203613281,
          "mol_index": 120,
          "rotation": 0.44615522027015686,
          "time": 791490000
         },
         {
          "displacement": 10.348252296447754,
          "mol_index": 120,
          "rotation": 0.45993536710739136,
          "time": 792490000
         },
         {
          "displacement": 10.261116981506348,
          "mol_index": 120,
          "rotation": 0.46497857570648193,
          "time": 793490000
         },
         {
          "displacement": 10.166361808776855,
          "mol_index": 120,
          "rotation": 0.4687272310256958,
          "time": 794490000
         },
         {
          "displacement": 10.14626693725586,
          "mol_index": 120,
          "rotation": 0.44475826621055603,
          "time": 795490000
         },
         {
          "displacement": 10.13845157623291,
          "mol_index": 120,
          "rotation": 0.4456794559955597,
          "time": 796490000
         },
         {
          "displacement": 10.175247192382812,
          "mol_index": 120,
          "rotation": 0.46725162863731384,
          "time": 797490000
         },
         {
          "displacement": 10.170336723327637,
          "mol_index": 120,
          "rotation": 0.4589154124259949,
          "time": 798490000
         },
         {
          "displacement": 10.167481422424316,
          "mol_index": 120,
          "rotation": 0.44788891077041626,
          "time": 799490000
         },
         {
          "displacement": 10.036879539489746,
          "mol_index": 120,
          "rotation": 0.47236117720603943,
          "time": 800490000
         },
         {
          "displacement": 10.107786178588867,
          "mol_index": 120,
          "rotation": 0.4546571671962738,
          "time": 801490000
         },
         {
          "displacement": 9.957854270935059,
          "mol_index": 120,
          "rotation": 0.4684545397758484,
          "time": 802490000
         },
         {
          "displacement": 9.945923805236816,
          "mol_index": 120,
          "rotation": 0.46755561232566833,
          "time": 803490000
         },
         {
          "displacement": 10.07439136505127,
          "mol_index": 120,
          "rotation": 0.4617881178855896,
          "time": 804490000
         },
         {
          "displacement": 10.170701026916504,
          "mol_index": 120,
          "rotation": 0.4180437922477722,
          "time": 805490000
         },
         {
          "displacement": 10.614958763122559,
          "mol_index": 120,
          "rotation": 0.06902293115854263,
          "time": 806490000
         },
         {
          "displacement": 11.204154968261719,
          "mol_index": 120,
          "rotation": 0.5488080382347107,
          "time": 807490000
         },
         {
          "displacement": 11.261439323425293,
          "mol_index": 120,
          "rotation": 0.8915536403656006,
          "time": 808490000
         },
         {
          "displacement": 10.753525733947754,
          "mol_index": 120,
          "rotation": 0.8202961087226868,
          "time": 809490000
         },
         {
          "displacement": 10.735735893249512,
          "mol_index": 120,
          "rotation": 0.8647576570510864,
          "time": 810490000
         },
         {
          "displacement": 10.735147476196289,
          "mol_index": 120,
          "rotation": 0.8434968590736389,
          "time": 811490000
         },
         {
          "displacement": 10.568374633789062,
          "mol_index": 120,
          "rotation": 0.8128126859664917,
          "time": 812490000
         },
         {
          "displacement": 10.298524856567383,
          "mol_index": 120,
          "rotation": 1.2138062715530396,
          "time": 813490000
         },
         {
          "displacement": 10.118178367614746,
          "mol_index": 120,
          "rotation": 1.2101596593856812,
          "time": 814490000
         },
         {
          "displacement": 10.154053688049316,
          "mol_index": 120,
          "rotation": 1.262410283088684,
          "time": 815490000
         },
         {
          "displacement": 10.06092643737793,
          "mol_index": 120,
          "rotation": 1.1799288988113403,
          "time": 816490000
         },
         {
          "displacement": 10.535400390625,
          "mol_index": 120,
          "rotation": 0.5803416967391968,
          "time": 817490000
         },
         {
          "displacement": 10.570090293884277,
          "mol_index": 120,
          "rotation": 0.3842228055000305,
          "time": 818490000
         },
         {
          "displacement": 10.634154319763184,
          "mol_index": 120,
          "rotation": 0.3382982909679413,
          "time": 819490000
         },
         {
          "displacement": 10.604679107666016,
          "mol_index": 120,
          "rotation": 0.3831786513328552,
          "time": 820490000
         },
         {
          "displacement": 10.728588104248047,
          "mol_index": 120,
          "rotation": 0.4487276077270508,
          "time": 821490000
         },
         {
          "displacement": 10.921346664428711,
          "mol_index": 120,
          "rotation": 0.5933283567428589,
          "time": 822490000
         },
         {
          "displacement": 10.620246887207031,
          "mol_index": 120,
          "rotation": 0.439055472612381,
          "time": 823490000
         },
         {
          "displacement": 10.223257064819336,
          "mol_index": 120,
          "rotation": 0.2535072863101959,
          "time": 824490000
         },
         {
          "displacement": 10.550918579101562,
          "mol_index": 120,
          "rotation": 0.17873525619506836,
          "time": 825490000
         },
         {
          "displacement": 9.880996704101562,
          "mol_index": 120,
          "rotation": 0.9006868600845337,
          "time": 826490000
         },
         {
          "displacement": 9.961121559143066,
          "mol_index": 120,
          "rotation": 1.0712295770645142,
          "time": 827490000
         },
         {
          "displacement": 9.790090560913086,
          "mol_index": 120,
          "rotation": 1.1642446517944336,
          "time": 828490000
         },
         {
          "displacement": 9.69629955291748,
          "mol_index": 120,
          "rotation": 1.1554152965545654,
          "time": 829490000
         },
         {
          "displacement": 9.872486114501953,
          "mol_index": 120,
          "rotation": 1.1895864009857178,
          "time": 830490000
         },
         {
          "displacement": 10.138651847839355,
          "mol_index": 120,
          "rotation": 1.0416438579559326,
          "time": 831490000
         },
         {
          "displacement": 9.945018768310547,
          "mol_index": 120,
          "rotation": 1.298675298690796,
          "time": 832490000
         },
         {
          "displacement": 10.607933044433594,
          "mol_index": 120,
          "rotation": 1.6944265365600586,
          "time": 833490000
         },
         {
          "displacement": 10.53274917602539,
          "mol_index": 120,
          "rotation": 1.632799744606018,
          "time": 834490000
         },
         {
          "displacement": 11.053563117980957,
          "mol_index": 120,
          "rotation": 2.553718090057373,
          "time": 835490000
         },
         {
          "displacement": 10.863493919372559,
          "mol_index": 120,
          "rotation": 2.1103994846343994,
          "time": 836490000
         },
         {
          "displacement": 11.128534317016602,
          "mol_index": 120,
          "rotation": 2.4200234413146973,
          "time": 837490000
         },
         {
          "displacement": 12.041088104248047,
          "mol_index": 120,
          "rotation": 1.960729718208313,
          "time": 838490000
         },
         {
          "displacement": 12.468579292297363,
          "mol_index": 120,
          "rotation": 2.085055112838745,
          "time": 839490000
         },
         {
          "displacement": 12.835147857666016,
          "mol_index": 120,
          "rotation": 2.1752469539642334,
          "time": 840490000
         },
         {
          "displacement": 13.199919700622559,
          "mol_index": 120,
          "rotation": 2.667757511138916,
          "time": 841490000
         },
         {
          "displacement": 13.16391372680664,
          "mol_index": 120,
          "rotation": 2.8345086574554443,
          "time": 842490000
         },
         {
          "displacement": 13.155433654785156,
          "mol_index": 120,
          "rotation": 2.836130142211914,
          "time": 843490000
         },
         {
          "displacement": 13.028331756591797,
          "mol_index": 120,
          "rotation": 2.9062373638153076,
          "time": 844490000
         },
         {
          "displacement": 12.768206596374512,
          "mol_index": 120,
          "rotation": 2.9205241203308105,
          "time": 845490000
         },
         {
          "displacement": 12.798676490783691,
          "mol_index": 120,
          "rotation": 2.8829100131988525,
          "time": 846490000
         },
         {
          "displacement": 12.76563835144043,
          "mol_index": 120,
          "rotation": 2.8859140872955322,
          "time": 847490000
         },
         {
          "displacement": 12.792365074157715,
          "mol_index": 120,
          "rotation": 2.9496190547943115,
          "time": 848490000
         },
         {
          "displacement": 12.790483474731445,
          "mol_index": 120,
          "rotation": 2.9209682941436768,
          "time": 849490000
         },
         {
          "displacement": 12.660837173461914,
          "mol_index": 120,
          "rotation": 2.9496495723724365,
          "time": 850490000
         },
         {
          "displacement": 12.556350708007812,
          "mol_index": 120,
          "rotation": 2.9226951599121094,
          "time": 851490000
         },
         {
          "displacement": 12.422061920166016,
          "mol_index": 120,
          "rotation": 2.892759084701538,
          "time": 852490000
         },
         {
          "displacement": 12.554691314697266,
          "mol_index": 120,
          "rotation": 2.932950019836426,
          "time": 853490000
         },
         {
          "displacement": 12.743707656860352,
          "mol_index": 120,
          "rotation": 2.963404655456543,
          "time": 854490000
         },
         {
          "displacement": 12.789198875427246,
          "mol_index": 120,
          "rotation": 2.8705482482910156,
          "time": 855490000
         },
         {
          "displacement": 12.618494033813477,
          "mol_index": 120,
          "rotation": 2.8293964862823486,
          "time": 856490000
         },
         {
          "displacement": 12.646950721740723,
          "mol_index": 120,
          "rotation": 2.8244664669036865,
          "time": 857490000
         },
         {
          "displacement": 12.585762023925781,
          "mol_index": 120,
          "rotation": 2.844235420227051,
          "time": 858490000
         },
         {
          "displacement": 12.351478576660156,
          "mol_index": 120,
          "rotation": 2.8496317863464355,
          "time": 859490000
         },
         {
          "displacement": 12.255361557006836,
          "mol_index": 120,
          "rotation": 2.840522289276123,
          "time": 860490000
         },
         {
          "displacement": 12.199932098388672,
          "mol_index": 120,
          "rotation": 2.809420585632324,
          "time": 861490000
         },
         {
          "displacement": 12.091561317443848,
          "mol_index": 120,
          "rotation": 2.8200998306274414,
          "time": 862490000
         },
         {
          "displacement": 12.145404815673828,
          "mol_index": 120,
          "rotation": 2.76595139503479,
          "time": 863490000
         },
         {
          "displacement": 11.739034652709961,
          "mol_index": 120,
          "rotation": 2.926182270050049,
          "time": 864490000
         },
         {
          "displacement": 11.613235473632812,
          "mol_index": 120,
          "rotation": 2.79616379737854,
          "time": 865490000
         },
         {
          "displacement": 11.703932762145996,
          "mol_index": 120,
          "rotation": 2.8027188777923584,
          "time": 866490000
         },
         {
          "displacement": 11.95788860321045,
          "mol_index": 120,
          "rotation": 2.800945520401001,
          "time": 867490000
         },
         {
          "displacement": 11.756209373474121,
          "mol_index": 120,
          "rotation": 2.8189198970794678,
          "time": 868490000
         },
         {
          "displacement": 11.645283699035645,
          "mol_index": 120,
          "rotation": 2.845346212387085,
          "time": 869490000
         },
         {
          "displacement": 12.147977828979492,
          "mol_index": 120,
          "rotation": 2.608776330947876,
          "time": 870490000
         },
         {
          "displacement": 12.896428108215332,
          "mol_index": 120,
          "rotation": 2.4767205715179443,
          "time": 871490000
         },
         {
          "displacement": 13.202607154846191,
          "mol_index": 120,
          "rotation": 2.7346553802490234,
          "time": 872490000
         },
         {
          "displacement": 13.180211067199707,
          "mol_index": 120,
          "rotation": 2.7444729804992676,
          "time": 873490000
         },
         {
          "displacement": 13.1593599319458,
          "mol_index": 120,
          "rotation": 2.6605935096740723,
          "time": 874490000
         },
         {
          "displacement": 13.14238166809082,
          "mol_index": 120,
          "rotation": 2.821856737136841,
          "time": 875490000
         },
         {
          "displacement": 12.738357543945312,
          "mol_index": 120,
          "rotation": 2.7360169887542725,
          "time": 876490000
         },
         {
          "displacement": 12.782634735107422,
          "mol_index": 120,
          "rotation": 2.723602533340454,
          "time": 877490000
         },
         {
          "displacement": 12.924995422363281,
          "mol_index": 120,
          "rotation": 2.7365005016326904,
          "time": 878490000
         },
         {
          "displacement": 12.946849822998047,
          "mol_index": 120,
          "rotation": 2.7210988998413086,
          "time": 879490000
         },
         {
          "displacement": 12.850980758666992,
          "mol_index": 120,
          "rotation": 2.7673087120056152,
          "time": 880490000
         },
         {
          "displacement": 12.539658546447754,
          "mol_index": 120,
          "rotation": 2.8022193908691406,
          "time": 881490000
         },
         {
          "displacement": 12.903818130493164,
          "mol_index": 120,
          "rotation": 2.6163809299468994,
          "time": 882490000
         },
         {
          "displacement": 12.69473648071289,
          "mol_index": 120,
          "rotation": 2.2005865573883057,
          "time": 883490000
         },
         {
          "displacement": 12.244656562805176,
          "mol_index": 120,
          "rotation": 2.51374888420105,
          "time": 884490000
         },
         {
          "displacement": 12.284113883972168,
          "mol_index": 120,
          "rotation": 2.950014591217041,
          "time": 885490000
         },
         {
          "displacement": 11.007184982299805,
          "mol_index": 120,
          "rotation": 2.53706693649292,
          "time": 886490000
         },
         {
          "displacement": 10.036420822143555,
          "mol_index": 120,
          "rotation": 2.610038995742798,
          "time": 887490000
         },
         {
          "displacement": 9.921060562133789,
          "mol_index": 120,
          "rotation": 2.7721197605133057,
          "time": 888490000
         },
         {
          "displacement": 9.902177810668945,
          "mol_index": 120,
          "rotation": 2.790337324142456,
          "time": 889490000
         },
         {
          "displacement": 9.725018501281738,
          "mol_index": 120,
          "rotation": 2.659010171890259,
          "time": 890490000
         },
         {
          "displacement": 10.214262008666992,
          "mol_index": 120,
          "rotation": 2.095794916152954,
          "time": 891490000
         },
         {
          "displacement": 10.215058326721191,
          "mol_index": 120,
          "rotation": 1.318442940711975,
          "time": 892490000
         },
         {
          "displacement": 10.319368362426758,
          "mol_index": 120,
          "rotation": 1.2666987180709839,
          "time": 893490000
         },
         {
          "displacement": 10.36856460571289,
          "mol_index": 120,
          "rotation": 1.2562522888183594,
          "time": 894490000
         },
         {
          "displacement": 10.516011238098145,
          "mol_index": 120,
          "rotation": 1.2277805805206299,
          "time": 895490000
         },
         {
          "displacement": 10.61326789855957,
          "mol_index": 120,
          "rotation": 1.2206133604049683,
          "time": 896490000
         },
         {
          "displacement": 10.824758529663086,
          "mol_index": 120,
          "rotation": 1.2088947296142578,
          "time": 897490000
         },
         {
          "displacement": 10.839298248291016,
          "mol_index": 120,
          "rotation": 1.2298297882080078,
          "time": 898490000
         },
         {
          "displacement": 10.880105018615723,
          "mol_index": 120,
          "rotation": 1.241219401359558,
          "time": 899490000
         },
         {
          "displacement": 10.87391185760498,
          "mol_index": 120,
          "rotation": 1.2431163787841797,
          "time": 900490000
         },
         {
          "displacement": 10.892112731933594,
          "mol_index": 120,
          "rotation": 1.1954923868179321,
          "time": 901490000
         },
         {
          "displacement": 10.962403297424316,
          "mol_index": 120,
          "rotation": 1.1195746660232544,
          "time": 902490000
         },
         {
          "displacement": 11.418102264404297,
          "mol_index": 120,
          "rotation": 0.7724741697311401,
          "time": 903490000
         },
         {
          "displacement": 11.934868812561035,
          "mol_index": 120,
          "rotation": 0.8904421329498291,
          "time": 904490000
         },
         {
          "displacement": 12.064233779907227,
          "mol_index": 120,
          "rotation": 0.697796642780304,
          "time": 905490000
         },
         {
          "displacement": 11.754775047302246,
          "mol_index": 120,
          "rotation": 1.4249751567840576,
          "time": 906490000
         },
         {
          "displacement": 11.139006614685059,
          "mol_index": 120,
          "rotation": 0.6586195826530457,
          "time": 907490000
         },
         {
          "displacement": 10.10223388671875,
          "mol_index": 120,
          "rotation": 0.5752464532852173,
          "time": 908490000
         },
         {
          "displacement": 10.016792297363281,
          "mol_index": 120,
          "rotation": 0.5251548886299133,
          "time": 909490000
         },
         {
          "displacement": 9.838716506958008,
          "mol_index": 120,
          "rotation": 0.4202519953250885,
          "time": 910490000
         },
         {
          "displacement": 9.846878051757812,
          "mol_index": 120,
          "rotation": 0.38827022910118103,
          "time": 911490000
         },
         {
          "displacement": 9.656730651855469,
          "mol_index": 120,
          "rotation": 0.39126497507095337,
          "time": 912490000
         },
         {
          "displacement": 9.648808479309082,
          "mol_index": 120,
          "rotation": 0.42082831263542175,
          "time": 913490000
         },
         {
          "displacement": 9.57666301727295,
          "mol_index": 120,
          "rotation": 0.4986906349658966,
          "time": 914490000
         },
         {
          "displacement": 10.071174621582031,
          "mol_index": 120,
          "rotation": 0.8705174326896667,
          "time": 915490000
         },
         {
          "displacement": 9.896650314331055,
          "mol_index": 120,
          "rotation": 0.8574705719947815,
          "time": 916490000
         },
         {
          "displacement": 10.027341842651367,
          "mol_index": 120,
          "rotation": 0.5511570572853088,
          "time": 917490000
         },
         {
          "displacement": 9.888773918151855,
          "mol_index": 120,
          "rotation": 1.1716978549957275,
          "time": 918490000
         },
         {
          "displacement": 9.77198600769043,
          "mol_index": 120,
          "rotation": 0.8428477644920349,
          "time": 919490000
         },
         {
          "displacement": 9.678523063659668,
          "mol_index": 120,
          "rotation": 0.8551615476608276,
          "time": 920490000
         },
         {
          "displacement": 9.670195579528809,
          "mol_index": 120,
          "rotation": 0.8301403522491455,
          "time": 921490000
         },
         {
          "displacement": 9.741708755493164,
          "mol_index": 120,
          "rotation": 0.8232728242874146,
          "time": 922490000
         },
         {
          "displacement": 9.706086158752441,
          "mol_index": 120,
          "rotation": 0.8464200496673584,
          "time": 923490000
         },
         {
          "displacement": 9.739531517028809,
          "mol_index": 120,
          "rotation": 0.8567668199539185,
          "time": 924490000
         },
         {
          "displacement": 9.728154182434082,
          "mol_index": 120,
          "rotation": 0.8567520380020142,
          "time": 925490000
         },
         {
          "displacement": 9.746867179870605,
          "mol_index": 120,
          "rotation": 0.832200288772583,
          "time": 926490000
         },
         {
          "displacement": 9.621654510498047,
          "mol_index": 120,
          "rotation": 0.8715152740478516,
          "time": 927490000
         },
         {
          "displacement": 9.524179458618164,
          "mol_index": 120,
          "rotation": 0.8226829767227173,
          "time": 928490000
         },
         {
          "displacement": 9.635071754455566,
          "mol_index": 120,
          "rotation": 0.8284245133399963,
          "time": 929490000
         },
         {
          "displacement": 9.695387840270996,
          "mol_index": 120,
          "rotation": 0.7516067624092102,
          "time": 930490000
         },
         {
          "displacement": 9.729214668273926,
          "mol_index": 120,
          "rotation": 0.7928034067153931,
          "time": 931490000
         },
         {
          "displacement": 9.527896881103516,
          "mol_index": 120,
          "rotation": 0.814162015914917,
          "time": 932490000
         },
         {
          "displacement": 9.911456108093262,
          "mol_index": 120,
          "rotation": 1.1797759532928467,
          "time": 933490000
         },
         {
          "displacement": 10.17049789428711,
          "mol_index": 120,
          "rotation": 1.4424681663513184,
          "time": 934490000
         },
         {
          "displacement": 9.692133903503418,
          "mol_index": 120,
          "rotation": 1.6929041147232056,
          "time": 935490000
         },
         {
          "displacement": 8.953649520874023,
          "mol_index": 120,
          "rotation": 1.694366693496704,
          "time": 936490000
         },
         {
          "displacement": 9.130367279052734,
          "mol_index": 120,
          "rotation": 1.5581519603729248,
          "time": 937490000
         },
         {
          "displacement": 8.915806770324707,
          "mol_index": 120,
          "rotation": 1.3577810525894165,
          "time": 938490000
         },
         {
          "displacement": 8.984368324279785,
          "mol_index": 120,
          "rotation": 0.6595825552940369,
          "time": 939490000
         },
         {
          "displacement": 9.02119255065918,
          "mol_index": 120,
          "rotation": 0.681875467300415,
          "time": 940490000
         },
         {
          "displacement": 9.125103950500488,
          "mol_index": 120,
          "rotation": 0.8330078125,
          "time": 941490000
         },
         {
          "displacement": 8.856377601623535,
          "mol_index": 120,
          "rotation": 0.6601689457893372,
          "time": 942490000
         },
         {
          "displacement": 8.858837127685547,
          "mol_index": 120,
          "rotation": 0.6519387364387512,
          "time": 943490000
         },
         {
          "displacement": 8.999289512634277,
          "mol_index": 120,
          "rotation": 0.6090929508209229,
          "time": 944490000
         },
         {
          "displacement": 8.99923324584961,
          "mol_index": 120,
          "rotation": 0.5583175420761108,
          "time": 945490000
         },
         {
          "displacement": 8.992009162902832,
          "mol_index": 120,
          "rotation": 0.637310802936554,
          "time": 946490000
         },
         {
          "displacement": 8.846867561340332,
          "mol_index": 120,
          "rotation": 0.5811891555786133,
          "time": 947490000
         },
         {
          "displacement": 8.621405601501465,
          "mol_index": 120,
          "rotation": 0.5869970917701721,
          "time": 948490000
         },
         {
          "displacement": 8.721521377563477,
          "mol_index": 120,
          "rotation": 0.5818444490432739,
          "time": 949490000
         },
         {
          "displacement": 8.57313060760498,
          "mol_index": 120,
          "rotation": 0.5867140889167786,
          "time": 950490000
         },
         {
          "displacement": 8.55972671508789,
          "mol_index": 120,
          "rotation": 0.5932113528251648,
          "time": 951490000
         },
         {
          "displacement": 9.0411376953125,
          "mol_index": 120,
          "rotation": 0.6693595051765442,
          "time": 952490000
         },
         {
          "displacement": 9.377593994140625,
          "mol_index": 120,
          "rotation": 0.4742736220359802,
          "time": 953490000
         },
         {
          "displacement": 9.842559814453125,
          "mol_index": 120,
          "rotation": 0.46876370906829834,
          "time": 954490000
         },
         {
          "displacement": 9.624176025390625,
          "mol_index": 120,
          "rotation": 0.4519307017326355,
          "time": 955490000
         },
         {
          "displacement": 9.114810943603516,
          "mol_index": 120,
          "rotation": 0.364391028881073,
          "time": 956490000
         },
         {
          "displacement": 9.0222749710083,
          "mol_index": 120,
          "rotation": 0.356711208820343,
          "time": 957490000
         },
         {
          "displacement": 9.030912399291992,
          "mol_index": 120,
          "rotation": 0.3168410658836365,
          "time": 958490000
         },
         {
          "displacement": 9.38635540008545,
          "mol_index": 120,
          "rotation": 0.4282236099243164,
          "time": 959490000
         },
         {
          "displacement": 9.049589157104492,
          "mol_index": 120,
          "rotation": 0.49909326434135437,
          "time": 960490000
         },
         {
          "displacement": 9.103214263916016,
          "mol_index": 120,
          "rotation": 0.2072775512933731,
          "time": 961490000
         },
         {
          "displacement": 9.05580997467041,
          "mol_index": 120,
          "rotation": 0.35130804777145386,
          "time": 962490000
         },
         {
          "displacement": 9.070845603942871,
          "mol_index": 120,
          "rotation": 0.9161407351493835,
          "time": 963490000
         },
         {
          "displacement": 9.009336471557617,
          "mol_index": 120,
          "rotation": 1.147546410560608,
          "time": 964490000
         },
         {
          "displacement": 8.994253158569336,
          "mol_index": 120,
          "rotation": 1.1604366302490234,
          "time": 965490000
         },
         {
          "displacement": 9.020588874816895,
          "mol_index": 120,
          "rotation": 1.1563880443572998,
          "time": 966490000
         },
         {
          "displacement": 9.067667961120605,
          "mol_index": 120,
          "rotation": 1.1685580015182495,
          "time": 967490000
         },
         {
          "displacement": 9.011049270629883,
          "mol_index": 120,
          "rotation": 1.0236380100250244,
          "time": 968490000
         },
         {
          "displacement": 9.216751098632812,
          "mol_index": 120,
          "rotation": 0.5624726414680481,
          "time": 969490000
         },
         {
          "displacement": 9.388310432434082,
          "mol_index": 120,
          "rotation": 0.5241086483001709,
          "time": 970490000
         },
         {
          "displacement": 9.41898250579834,
          "mol_index": 120,
          "rotation": 1.006953239440918,
          "time": 971490000
         },
         {
          "displacement": 9.794322967529297,
          "mol_index": 120,
          "rotation": 1.3054286241531372,
          "time": 972490000
         },
         {
          "displacement": 9.866137504577637,
          "mol_index": 120,
          "rotation": 1.6094605922698975,
          "time": 973490000
         },
         {
          "displacement": 10.050959587097168,
          "mol_index": 120,
          "rotation": 1.5617860555648804,
          "time": 974490000
         },
         {
          "displacement": 9.840848922729492,
          "mol_index": 120,
          "rotation": 1.6584254503250122,
          "time": 975490000
         },
         {
          "displacement": 9.834601402282715,
          "mol_index": 120,
          "rotation": 2.2608301639556885,
          "time": 976490000
         },
         {
          "displacement": 9.709297180175781,
          "mol_index": 120,
          "rotation": 1.799401044845581,
          "time": 977490000
         },
         {
          "displacement": 9.78968620300293,
          "mol_index": 120,
          "rotation": 1.8393043279647827,
          "time": 978490000
         },
         {
          "displacement": 9.999754905700684,
          "mol_index": 120,
          "rotation": 1.775777816772461,
          "time": 979490000
         },
         {
          "displacement": 9.794424057006836,
          "mol_index": 120,
          "rotation": 2.242342233657837,
          "time": 980490000
         },
         {
          "displacement": 9.768726348876953,
          "mol_index": 120,
          "rotation": 2.3292505741119385,
          "time": 981490000
         },
         {
          "displacement": 9.468372344970703,
          "mol_index": 120,
          "rotation": 2.472191572189331,
          "time": 982490000
         },
         {
          "displacement": 9.89011001586914,
          "mol_index": 120,
          "rotation": 2.288130044937134,
          "time": 983490000
         },
         {
          "displacement": 10.379059791564941,
          "mol_index": 120,
          "rotation": 2.063286304473877,
          "time": 984490000
         },
         {
          "displacement": 10.666496276855469,
          "mol_index": 120,
          "rotation": 2.2736222743988037,
          "time": 985490000
         },
         {
          "displacement": 10.359628677368164,
          "mol_index": 120,
          "rotation": 2.2451059818267822,
          "time": 986490000
         },
         {
          "displacement": 10.090584754943848,
          "mol_index": 120,
          "rotation": 2.6685900688171387,
          "time": 987490000
         },
         {
          "displacement": 10.087488174438477,
          "mol_index": 120,
          "rotation": 2.4630753993988037,
          "time": 988490000
         },
         {
          "displacement": 10.176881790161133,
          "mol_index": 120,
          "rotation": 2.3906664848327637,
          "time": 989490000
         },
         {
          "displacement": 10.524904251098633,
          "mol_index": 120,
          "rotation": 2.216831684112549,
          "time": 990490000
         },
         {
          "displacement": 10.636295318603516,
          "mol_index": 120,
          "rotation": 2.1978578567504883,
          "time": 991490000
         },
         {
          "displacement": 10.830964088439941,
          "mol_index": 120,
          "rotation": 2.166447401046753,
          "time": 992490000
         },
         {
          "displacement": 10.930838584899902,
          "mol_index": 120,
          "rotation": 2.416121482849121,
          "time": 993490000
         },
         {
          "displacement": 11.648170471191406,
          "mol_index": 120,
          "rotation": 2.637394666671753,
          "time": 994490000
         },
         {
          "displacement": 12.7698335647583,
          "mol_index": 120,
          "rotation": 1.7104848623275757,
          "time": 995490000
         },
         {
          "displacement": 13.546103477478027,
          "mol_index": 120,
          "rotation": 1.3834224939346313,
          "time": 996490000
         },
         {
          "displacement": 13.553071975708008,
          "mol_index": 120,
          "rotation": 1.372504711151123,
          "time": 997490000
         },
         {
          "displacement": 13.653072357177734,
          "mol_index": 120,
          "rotation": 1.3867734670639038,
          "time": 998490000
         },
         {
          "displacement": 13.555278778076172,
          "mol_index": 120,
          "rotation": 1.166666030883789,
          "time": 999490000
         },
         {
          "displacement": 13.100802421569824,
          "mol_index": 120,
          "rotation": 0.5693356394767761,
          "time": 1000000000
         },
         {
          "displacement": 0.1874031275510788,
          "mol_index": 130,
          "rotation": 0.12313882261514664,
          "time": 492377.5862068966
         },
         {
          "displacement": 0.21398687362670898,
          "mol_index": 130,
          "rotation": 0.11787870526313782,
          "time": 1492377.5862068965
         },
         {
          "displacement": 0.2231464385986328,
          "mol_index": 130,
          "rotation": 0.10440908372402191,
          "time": 2492377.5862068967
         },
         {
          "displacement": 0.45783731341362,
          "mol_index": 130,
          "rotation": 0.47195515036582947,
          "time": 3492377.5862068967
         },
         {
          "displacement": 0.2707781195640564,
          "mol_index": 130,
          "rotation": 0.22966448962688446,
          "time": 4492377.586206896
         },
         {
          "displacement": 0.38816037774086,
          "mol_index": 130,
          "rotation": 0.3643963038921356,
          "time": 5492377.586206896
         },
         {
          "displacement": 0.5236221551895142,
          "mol_index": 130,
          "rotation": 0.8482068181037903,
          "time": 6492377.586206896
         },
         {
          "displacement": 0.7620599865913391,
          "mol_index": 130,
          "rotation": 1.1537046432495117,
          "time": 7492377.586206896
         },
         {
          "displacement": 1.314740538597107,
          "mol_index": 130,
          "rotation": 1.8941673040390015,
          "time": 8492377.586206896
         },
         {
          "displacement": 1.471614956855774,
          "mol_index": 130,
          "rotation": 2.080044746398926,
          "time": 9492377.586206896
         },
         {
          "displacement": 1.701516032218933,
          "mol_index": 130,
          "rotation": 1.755753755569458,
          "time": 10300526.315789474
         },
         {
          "displacement": 1.9124860763549805,
          "mol_index": 130,
          "rotation": 1.3491023778915405,
          "time": 11490000
         },
         {
          "displacement": 1.7938014268875122,
          "mol_index": 130,
          "rotation": 1.6766949892044067,
          "time": 12490000
         },
         {
          "displacement": 1.8515608310699463,
          "mol_index": 130,
          "rotation": 1.6555365324020386,
          "time": 13490000
         },
         {
          "displacement": 1.9818875789642334,
          "mol_index": 130,
          "rotation": 1.6882740259170532,
          "time": 14490000
         },
         {
          "displacement": 2.2211203575134277,
          "mol_index": 130,
          "rotation": 1.0454381704330444,
          "time": 15490000
         },
         {
          "displacement": 2.393644332885742,
          "mol_index": 130,
          "rotation": 0.23745401203632355,
          "time": 16490000
         },
         {
          "displacement": 1.9079091548919678,
          "mol_index": 130,
          "rotation": 1.341692328453064,
          "time": 17490000
         },
         {
          "displacement": 1.6065857410430908,
          "mol_index": 130,
          "rotation": 1.5028666257858276,
          "time": 18490000
         },
         {
          "displacement": 1.5916194915771484,
          "mol_index": 130,
          "rotation": 1.5252991914749146,
          "time": 19490000
         },
         {
          "displacement": 1.6100326776504517,
          "mol_index": 130,
          "rotation": 1.5498186349868774,
          "time": 20490000
         },
         {
          "displacement": 1.6955437660217285,
          "mol_index": 130,
          "rotation": 1.5320160388946533,
          "time": 21490000
         },
         {
          "displacement": 1.6225330829620361,
          "mol_index": 130,
          "rotation": 1.5170109272003174,
          "time": 22490000
         },
         {
          "displacement": 1.5600192546844482,
          "mol_index": 130,
          "rotation": 1.9564213752746582,
          "time": 23490000
         },
         {
          "displacement": 1.3723907470703125,
          "mol_index": 130,
          "rotation": 2.645096778869629,
          "time": 24490000
         },
         {
          "displacement": 1.371167540550232,
          "mol_index": 130,
          "rotation": 2.541567325592041,
          "time": 25490000
         },
         {
          "displacement": 1.9050756692886353,
          "mol_index": 130,
          "rotation": 2.450850486755371,
          "time": 26490000
         },
         {
          "displacement": 2.2478444576263428,
          "mol_index": 130,
          "rotation": 2.4335081577301025,
          "time": 27490000
         },
         {
          "displacement": 2.2427210807800293,
          "mol_index": 130,
          "rotation": 2.474660634994507,
          "time": 28490000
         },
         {
          "displacement": 1.927647352218628,
          "mol_index": 130,
          "rotation": 2.4722442626953125,
          "time": 29490000
         },
         {
          "displacement": 1.8959625959396362,
          "mol_index": 130,
          "rotation": 2.485036611557007,
          "time": 30490000
         },
         {
          "displacement": 1.9045298099517822,
          "mol_index": 130,
          "rotation": 2.4959912300109863,
          "time": 31490000
         },
         {
          "displacement": 2.4259567260742188,
          "mol_index": 130,
          "rotation": 2.569711923599243,
          "time": 32490000
         },
         {
          "displacement": 2.2851715087890625,
          "mol_index": 130,
          "rotation": 2.348029375076294,
          "time": 33490000
         },
         {
          "displacement": 2.822438955307007,
          "mol_index": 130,
          "rotation": 2.211535930633545,
          "time": 34490000
         },
         {
          "displacement": 3.367419481277466,
          "mol_index": 130,
          "rotation": 2.1281425952911377,
          "time": 35490000
         },
         {
          "displacement": 3.2477118968963623,
          "mol_index": 130,
          "rotation": 2.4900033473968506,
          "time": 36490000
         },
         {
          "displacement": 3.1368465423583984,
          "mol_index": 130,
          "rotation": 2.5289509296417236,
          "time": 37490000
         },
         {
          "displacement": 3.089104413986206,
          "mol_index": 130,
          "rotation": 2.5218849182128906,
          "time": 38490000
         },
         {
          "displacement": 2.989741802215576,
          "mol_index": 130,
          "rotation": 2.505608558654785,
          "time": 39490000
         },
         {
          "displacement": 3.025089740753174,
          "mol_index": 130,
          "rotation": 2.5311036109924316,
          "time": 40490000
         },
         {
          "displacement": 3.0660228729248047,
          "mol_index": 130,
          "rotation": 2.557358741760254,
          "time": 41490000
         },
         {
          "displacement": 3.0448718070983887,
          "mol_index": 130,
          "rotation": 2.5307183265686035,
          "time": 42490000
         },
         {
          "displacement": 2.9295008182525635,
          "mol_index": 130,
          "rotation": 2.564283847808838,
          "time": 43490000
         },
         {
          "displacement": 2.7194817066192627,
          "mol_index": 130,
          "rotation": 2.552093744277954,
          "time": 44490000
         },
         {
          "displacement": 2.426454544067383,
          "mol_index": 130,
          "rotation": 2.5803334712982178,
          "time": 45490000
         },
         {
          "displacement": 2.4934356212615967,
          "mol_index": 130,
          "rotation": 2.4019711017608643,
          "time": 46490000
         },
         {
          "displacement": 2.352388381958008,
          "mol_index": 130,
          "rotation": 2.1693477630615234,
          "time": 47490000
         },
         {
          "displacement": 1.8309199810028076,
          "mol_index": 130,
          "rotation": 2.0710835456848145,
          "time": 48490000
         },
         {
          "displacement": 1.637535572052002,
          "mol_index": 130,
          "rotation": 2.1114447116851807,
          "time": 49490000
         },
         {
          "displacement": 1.5599476099014282,
          "mol_index": 130,
          "rotation": 2.080561399459839,
          "time": 50490000
         },
         {
          "displacement": 1.1820523738861084,
          "mol_index": 130,
          "rotation": 2.143000364303589,
          "time": 51490000
         },
         {
          "displacement": 1.5181835889816284,
          "mol_index": 130,
          "rotation": 2.7455334663391113,
          "time": 52490000
         },
         {
          "displacement": 1.1013184785842896,
          "mol_index": 130,
          "rotation": 2.4021689891815186,
          "time": 53490000
         },
         {
          "displacement": 0.3857731819152832,
          "mol_index": 130,
          "rotation": 1.6215986013412476,
          "time": 54490000
         },
         {
          "displacement": 0.38430920243263245,
          "mol_index": 130,
          "rotation": 1.414260745048523,
          "time": 55490000
         },
         {
          "displacement": 0.9943023920059204,
          "mol_index": 130,
          "rotation": 1.3057891130447388,
          "time": 56490000
         },
         {
          "displacement": 1.5779565572738647,
          "mol_index": 130,
          "rotation": 0.4454978108406067,
          "time": 57490000
         },
         {
          "displacement": 1.1023662090301514,
          "mol_index": 130,
          "rotation": 1.434865951538086,
          "time": 58490000
         },
         {
          "displacement": 1.473750352859497,
          "mol_index": 130,
          "rotation": 2.1437253952026367,
          "time": 59490000
         },
         {
          "displacement": 1.5628972053527832,
          "mol_index": 130,
          "rotation": 2.0254712104797363,
          "time": 60490000
         },
         {
          "displacement": 1.7858737707138062,
          "mol_index": 130,
          "rotation": 2.436936378479004,
          "time": 61490000
         },
         {
          "displacement": 1.7064567804336548,
          "mol_index": 130,
          "rotation": 2.4388926029205322,
          "time": 62490000
         },
         {
          "displacement": 1.712931513786316,
          "mol_index": 130,
          "rotation": 2.3228211402893066,
          "time": 63490000
         },
         {
          "displacement": 1.8376524448394775,
          "mol_index": 130,
          "rotation": 2.5499656200408936,
          "time": 64490000
         },
         {
          "displacement": 1.7718366384506226,
          "mol_index": 130,
          "rotation": 3.041245937347412,
          "time": 65490000
         },
         {
          "displacement": 1.458678960800171,
          "mol_index": 130,
          "rotation": 3.0652337074279785,
          "time": 66490000
         },
         {
          "displacement": 1.24257493019104,
          "mol_index": 130,
          "rotation": 3.083843469619751,
          "time": 67490000
         },
         {
          "displacement": 1.2021849155426025,
          "mol_index": 130,
          "rotation": 3.084641695022583,
          "time": 68490000
         },
         {
          "displacement": 1.1981967687606812,
          "mol_index": 130,
          "rotation": 3.0773634910583496,
          "time": 69490000
         },
         {
          "displacement": 1.2764471769332886,
          "mol_index": 130,
          "rotation": 3.0852534770965576,
          "time": 70490000
         },
         {
          "displacement": 1.3931660652160645,
          "mol_index": 130,
          "rotation": 3.049696207046509,
          "time": 71490000
         },
         {
          "displacement": 1.2704286575317383,
          "mol_index": 130,
          "rotation": 2.786576747894287,
          "time": 72490000
         },
         {
          "displacement": 0.7127827405929565,
          "mol_index": 130,
          "rotation": 2.7470858097076416,
          "time": 73490000
         },
         {
          "displacement": 0.6256717443466187,
          "mol_index": 130,
          "rotation": 2.7882895469665527,
          "time": 74490000
         },
         {
          "displacement": 0.6882084608078003,
          "mol_index": 130,
          "rotation": 2.7751307487487793,
          "time": 75490000
         },
         {
          "displacement": 1.1961336135864258,
          "mol_index": 130,
          "rotation": 2.776265859603882,
          "time": 76490000
         },
         {
          "displacement": 1.2117924690246582,
          "mol_index": 130,
          "rotation": 2.467372179031372,
          "time": 77490000
         },
         {
          "displacement": 1.2576559782028198,
          "mol_index": 130,
          "rotation": 2.2951014041900635,
          "time": 78490000
         },
         {
          "displacement": 1.2840803861618042,
          "mol_index": 130,
          "rotation": 1.2554796934127808,
          "time": 79490000
         },
         {
          "displacement": 1.294191837310791,
          "mol_index": 130,
          "rotation": 1.4091377258300781,
          "time": 80490000
         },
         {
          "displacement": 1.6590713262557983,
          "mol_index": 130,
          "rotation": 1.4656485319137573,
          "time": 81490000
         },
         {
          "displacement": 2.009591579437256,
          "mol_index": 130,
          "rotation": 1.1537556648254395,
          "time": 82490000
         },
         {
          "displacement": 2.0093636512756348,
          "mol_index": 130,
          "rotation": 1.574469804763794,
          "time": 83490000
         },
         {
          "displacement": 1.7407366037368774,
          "mol_index": 130,
          "rotation": 1.3794143199920654,
          "time": 84490000
         },
         {
          "displacement": 1.824352741241455,
          "mol_index": 130,
          "rotation": 1.3981903791427612,
          "time": 85490000
         },
         {
          "displacement": 1.7349445819854736,
          "mol_index": 130,
          "rotation": 1.9134527444839478,
          "time": 86490000
         },
         {
          "displacement": 1.714192271232605,
          "mol_index": 130,
          "rotation": 2.065305471420288,
          "time": 87490000
         },
         {
          "displacement": 1.9315414428710938,
          "mol_index": 130,
          "rotation": 2.060197591781616,
          "time": 88490000
         },
         {
          "displacement": 1.859257459640503,
          "mol_index": 130,
          "rotation": 2.2863245010375977,
          "time": 89490000
         },
         {
          "displacement": 1.680064082145691,
          "mol_index": 130,
          "rotation": 2.1727511882781982,
          "time": 90490000
         },
         {
          "displacement": 1.7691617012023926,
          "mol_index": 130,
          "rotation": 2.1756489276885986,
          "time": 91490000
         },
         {
          "displacement": 1.6806281805038452,
          "mol_index": 130,
          "rotation": 2.377854824066162,
          "time": 92490000
         },
         {
          "displacement": 1.4482293128967285,
          "mol_index": 130,
          "rotation": 2.7765932083129883,
          "time": 93490000
         },
         {
          "displacement": 0.8832043409347534,
          "mol_index": 130,
          "rotation": 2.050429582595825,
          "time": 94490000
         },
         {
          "displacement": 0.596152663230896,
          "mol_index": 130,
          "rotation": 1.5428998470306396,
          "time": 95490000
         },
         {
          "displacement": 0.6840431094169617,
          "mol_index": 130,
          "rotation": 1.2264147996902466,
          "time": 96490000
         },
         {
          "displacement": 0.6807571649551392,
          "mol_index": 130,
          "rotation": 1.2794395685195923,
          "time": 97490000
         },
         {
          "displacement": 0.47690027952194214,
          "mol_index": 130,
          "rotation": 1.3094465732574463,
          "time": 98490000
         },
         {
          "displacement": 0.4021517336368561,
          "mol_index": 130,
          "rotation": 1.2014803886413574,
          "time": 99490000
         },
         {
          "displacement": 0.44502636790275574,
          "mol_index": 130,
          "rotation": 1.211868405342102,
          "time": 100490000
         },
         {
          "displacement": 0.486842542886734,
          "mol_index": 130,
          "rotation": 1.2143288850784302,
          "time": 101490000
         },
         {
          "displacement": 0.5032109022140503,
          "mol_index": 130,
          "rotation": 1.2655487060546875,
          "time": 102490000
         },
         {
          "displacement": 0.42953523993492126,
          "mol_index": 130,
          "rotation": 1.2825541496276855,
          "time": 103490000
         },
         {
          "displacement": 0.5596401691436768,
          "mol_index": 130,
          "rotation": 1.3010106086730957,
          "time": 104490000
         },
         {
          "displacement": 0.711747407913208,
          "mol_index": 130,
          "rotation": 1.4128187894821167,
          "time": 105490000
         },
         {
          "displacement": 0.6945395469665527,
          "mol_index": 130,
          "rotation": 2.0680601596832275,
          "time": 106490000
         },
         {
          "displacement": 0.48157623410224915,
          "mol_index": 130,
          "rotation": 1.6976736783981323,
          "time": 107490000
         },
         {
          "displacement": 0.4977196455001831,
          "mol_index": 130,
          "rotation": 1.5952818393707275,
          "time": 108490000
         },
         {
          "displacement": 0.41159674525260925,
          "mol_index": 130,
          "rotation": 1.6043320894241333,
          "time": 109490000
         },
         {
          "displacement": 0.2902665436267853,
          "mol_index": 130,
          "rotation": 1.5790733098983765,
          "time": 110490000
         },
         {
          "displacement": 0.3890443742275238,
          "mol_index": 130,
          "rotation": 1.6199510097503662,
          "time": 111490000
         },
         {
          "displacement": 0.5194385051727295,
          "mol_index": 130,
          "rotation": 1.6219207048416138,
          "time": 112490000
         },
         {
          "displacement": 0.4260174632072449,
          "mol_index": 130,
          "rotation": 1.2875651121139526,
          "time": 113490000
         },
         {
          "displacement": 0.21539786458015442,
          "mol_index": 130,
          "rotation": 0.8440822958946228,
          "time": 114490000
         },
         {
          "displacement": 0.22701361775398254,
          "mol_index": 130,
          "rotation": 0.8554344773292542,
          "time": 115490000
         },
         {
          "displacement": 0.2821958661079407,
          "mol_index": 130,
          "rotation": 0.8510175943374634,
          "time": 116490000
         },
         {
          "displacement": 0.3908998668193817,
          "mol_index": 130,
          "rotation": 0.8915815949440002,
          "time": 117490000
         },
         {
          "displacement": 0.42085233330726624,
          "mol_index": 130,
          "rotation": 0.8767213225364685,
          "time": 118490000
         },
         {
          "displacement": 0.4554990530014038,
          "mol_index": 130,
          "rotation": 0.8262027502059937,
          "time": 119490000
         },
         {
          "displacement": 0.517597496509552,
          "mol_index": 130,
          "rotation": 0.8279247283935547,
          "time": 120490000
         },
         {
          "displacement": 0.550841748714447,
          "mol_index": 130,
          "rotation": 0.8350909352302551,
          "time": 121490000
         },
         {
          "displacement": 0.562079131603241,
          "mol_index": 130,
          "rotation": 0.7749350666999817,
          "time": 122490000
         },
         {
          "displacement": 0.5043668746948242,
          "mol_index": 130,
          "rotation": 0.7770560383796692,
          "time": 123490000
         },
         {
          "displacement": 0.36553141474723816,
          "mol_index": 130,
          "rotation": 1.355830430984497,
          "time": 124490000
         },
         {
          "displacement": 0.6468493342399597,
          "mol_index": 130,
          "rotation": 1.4656660556793213,
          "time": 125490000
         },
         {
          "displacement": 0.664023220539093,
          "mol_index": 130,
          "rotation": 1.449217677116394,
          "time": 126490000
         },
         {
          "displacement": 0.4837954044342041,
          "mol_index": 130,
          "rotation": 1.4538733959197998,
          "time": 127490000
         },
         {
          "displacement": 0.5401575565338135,
          "mol_index": 130,
          "rotation": 1.4628818035125732,
          "time": 128490000
         },
         {
          "displacement": 0.4144112169742584,
          "mol_index": 130,
          "rotation": 1.4630177021026611,
          "time": 129490000
         },
         {
          "displacement": 0.46005409955978394,
          "mol_index": 130,
          "rotation": 1.4023305177688599,
          "time": 130490000
         },
         {
          "displacement": 0.6079280972480774,
          "mol_index": 130,
          "rotation": 1.3751499652862549,
          "time": 131490000
         },
         {
          "displacement": 0.5314711928367615,
          "mol_index": 130,
          "rotation": 1.4811663627624512,
          "time": 132490000
         },
         {
          "displacement": 0.5679041743278503,
          "mol_index": 130,
          "rotation": 1.4958206415176392,
          "time": 133490000
         },
         {
          "displacement": 0.5796400904655457,
          "mol_index": 130,
          "rotation": 1.4809904098510742,
          "time": 134490000
         },
         {
          "displacement": 0.597871720790863,
          "mol_index": 130,
          "rotation": 1.4902210235595703,
          "time": 135490000
         },
         {
          "displacement": 0.6475220322608948,
          "mol_index": 130,
          "rotation": 1.4745947122573853,
          "time": 136490000
         },
         {
          "displacement": 0.6783730983734131,
          "mol_index": 130,
          "rotation": 1.4744406938552856,
          "time": 137490000
         },
         {
          "displacement": 0.6599205136299133,
          "mol_index": 130,
          "rotation": 1.4607475996017456,
          "time": 138490000
         },
         {
          "displacement": 0.6545565724372864,
          "mol_index": 130,
          "rotation": 1.260369896888733,
          "time": 139490000
         },
         {
          "displacement": 0.5569862127304077,
          "mol_index": 130,
          "rotation": 1.2907332181930542,
          "time": 140490000
         },
         {
          "displacement": 0.4981819987297058,
          "mol_index": 130,
          "rotation": 2.5088021755218506,
          "time": 141490000
         },
         {
          "displacement": 0.4933694303035736,
          "mol_index": 130,
          "rotation": 2.4680335521698,
          "time": 142490000
         },
         {
          "displacement": 0.4324885606765747,
          "mol_index": 130,
          "rotation": 2.3705596923828125,
          "time": 143490000
         },
         {
          "displacement": 0.501101553440094,
          "mol_index": 130,
          "rotation": 2.4696412086486816,
          "time": 144490000
         },
         {
          "displacement": 0.49218374490737915,
          "mol_index": 130,
          "rotation": 2.4212677478790283,
          "time": 145490000
         },
         {
          "displacement": 0.4648575186729431,
          "mol_index": 130,
          "rotation": 2.423257350921631,
          "time": 146490000
         },
         {
          "displacement": 0.4487086236476898,
          "mol_index": 130,
          "rotation": 2.421248435974121,
          "time": 147490000
         },
         {
          "displacement": 0.49114876985549927,
          "mol_index": 130,
          "rotation": 2.448714256286621,
          "time": 148490000
         },
         {
          "displacement": 0.4292754828929901,
          "mol_index": 130,
          "rotation": 2.4535298347473145,
          "time": 149490000
         },
         {
          "displacement": 0.5307356119155884,
          "mol_index": 130,
          "rotation": 2.4519267082214355,
          "time": 150490000
         },
         {
          "displacement": 0.6962994337081909,
          "mol_index": 130,
          "rotation": 2.4386284351348877,
          "time": 151490000
         },
         {
          "displacement": 0.6153691411018372,
          "mol_index": 130,
          "rotation": 2.452134847640991,
          "time": 152490000
         },
         {
          "displacement": 0.6734687685966492,
          "mol_index": 130,
          "rotation": 2.4468953609466553,
          "time": 153490000
         },
         {
          "displacement": 0.6037657856941223,
          "mol_index": 130,
          "rotation": 2.421008348464966,
          "time": 154490000
         },
         {
          "displacement": 0.6318069100379944,
          "mol_index": 130,
          "rotation": 2.2155725955963135,
          "time": 155490000
         },
         {
          "displacement": 1.2441365718841553,
          "mol_index": 130,
          "rotation": 2.1012580394744873,
          "time": 156490000
         },
         {
          "displacement": 1.2938063144683838,
          "mol_index": 130,
          "rotation": 2.098559617996216,
          "time": 157490000
         },
         {
          "displacement": 1.0809849500656128,
          "mol_index": 130,
          "rotation": 2.3260509967803955,
          "time": 158490000
         },
         {
          "displacement": 1.1316535472869873,
          "mol_index": 130,
          "rotation": 2.3133466243743896,
          "time": 159490000
         },
         {
          "displacement": 1.0830754041671753,
          "mol_index": 130,
          "rotation": 1.875776767730713,
          "time": 160490000
         },
         {
          "displacement": 1.1972308158874512,
          "mol_index": 130,
          "rotation": 1.828762173652649,
          "time": 161490000
         },
         {
          "displacement": 1.1964737176895142,
          "mol_index": 130,
          "rotation": 1.8256059885025024,
          "time": 162490000
         },
         {
          "displacement": 1.091227650642395,
          "mol_index": 130,
          "rotation": 1.7829792499542236,
          "time": 163490000
         },
         {
          "displacement": 0.9115229249000549,
          "mol_index": 130,
          "rotation": 2.1827874183654785,
          "time": 164490000
         },
         {
          "displacement": 0.8654471039772034,
          "mol_index": 130,
          "rotation": 2.1004514694213867,
          "time": 165490000
         },
         {
          "displacement": 0.9120861887931824,
          "mol_index": 130,
          "rotation": 1.987620234489441,
          "time": 166490000
         },
         {
          "displacement": 1.0945146083831787,
          "mol_index": 130,
          "rotation": 1.967519998550415,
          "time": 167490000
         },
         {
          "displacement": 0.9996041655540466,
          "mol_index": 130,
          "rotation": 1.920006513595581,
          "time": 168490000
         },
         {
          "displacement": 0.9661656618118286,
          "mol_index": 130,
          "rotation": 2.0166115760803223,
          "time": 169490000
         },
         {
          "displacement": 1.080147385597229,
          "mol_index": 130,
          "rotation": 0.3458491563796997,
          "time": 170490000
         },
         {
          "displacement": 0.9602084159851074,
          "mol_index": 130,
          "rotation": 0.6472777724266052,
          "time": 171490000
         },
         {
          "displacement": 1.278989315032959,
          "mol_index": 130,
          "rotation": 1.0557090044021606,
          "time": 172490000
         },
         {
          "displacement": 1.5802301168441772,
          "mol_index": 130,
          "rotation": 1.4050860404968262,
          "time": 173490000
         },
         {
          "displacement": 1.4984246492385864,
          "mol_index": 130,
          "rotation": 1.423332691192627,
          "time": 174490000
         },
         {
          "displacement": 1.2724530696868896,
          "mol_index": 130,
          "rotation": 1.5876668691635132,
          "time": 175490000
         },
         {
          "displacement": 1.4656997919082642,
          "mol_index": 130,
          "rotation": 1.398835301399231,
          "time": 176490000
         },
         {
          "displacement": 1.446815848350525,
          "mol_index": 130,
          "rotation": 1.3776087760925293,
          "time": 177490000
         },
         {
          "displacement": 0.890503466129303,
          "mol_index": 130,
          "rotation": 1.4779982566833496,
          "time": 178490000
         },
         {
          "displacement": 1.4656670093536377,
          "mol_index": 130,
          "rotation": 1.1093864440917969,
          "time": 179490000
         },
         {
          "displacement": 2.1464855670928955,
          "mol_index": 130,
          "rotation": 0.3232699930667877,
          "time": 180490000
         },
         {
          "displacement": 2.222113847732544,
          "mol_index": 130,
          "rotation": 0.4669533967971802,
          "time": 181490000
         },
         {
          "displacement": 2.2345216274261475,
          "mol_index": 130,
          "rotation": 0.4927273094654083,
          "time": 182490000
         },
         {
          "displacement": 2.2100415229797363,
          "mol_index": 130,
          "rotation": 0.48931917548179626,
          "time": 183490000
         },
         {
          "displacement": 2.3602826595306396,
          "mol_index": 130,
          "rotation": 0.48788318037986755,
          "time": 184490000
         },
         {
          "displacement": 2.394796371459961,
          "mol_index": 130,
          "rotation": 0.4831913709640503,
          "time": 185490000
         },
         {
          "displacement": 2.371814727783203,
          "mol_index": 130,
          "rotation": 0.49295830726623535,
          "time": 186490000
         },
         {
          "displacement": 2.351677417755127,
          "mol_index": 130,
          "rotation": 0.48426464200019836,
          "time": 187490000
         },
         {
          "displacement": 2.365633010864258,
          "mol_index": 130,
          "rotation": 0.4792075455188751,
          "time": 188490000
         },
         {
          "displacement": 2.0532543659210205,
          "mol_index": 130,
          "rotation": 0.44376736879348755,
          "time": 189490000
         },
         {
          "displacement": 2.0001986026763916,
          "mol_index": 130,
          "rotation": 0.441490113735199,
          "time": 190490000
         },
         {
          "displacement": 1.9829920530319214,
          "mol_index": 130,
          "rotation": 0.454801470041275,
          "time": 191490000
         },
         {
          "displacement": 1.943182349205017,
          "mol_index": 130,
          "rotation": 0.7423958778381348,
          "time": 192490000
         },
         {
          "displacement": 1.6239874362945557,
          "mol_index": 130,
          "rotation": 1.1621702909469604,
          "time": 193490000
         },
         {
          "displacement": 1.6629889011383057,
          "mol_index": 130,
          "rotation": 1.190376877784729,
          "time": 194490000
         },
         {
          "displacement": 2.2137787342071533,
          "mol_index": 130,
          "rotation": 0.5224431157112122,
          "time": 195490000
         },
         {
          "displacement": 2.5878829956054688,
          "mol_index": 130,
          "rotation": 0.16153950989246368,
          "time": 196490000
         },
         {
          "displacement": 2.5722198486328125,
          "mol_index": 130,
          "rotation": 0.1679604947566986,
          "time": 197490000
         },
         {
          "displacement": 2.6705167293548584,
          "mol_index": 130,
          "rotation": 0.3663879632949829,
          "time": 198490000
         },
         {
          "displacement": 2.4113786220550537,
          "mol_index": 130,
          "rotation": 0.8099976778030396,
          "time": 199490000
         },
         {
          "displacement": 2.5362696647644043,
          "mol_index": 130,
          "rotation": 0.9947778582572937,
          "time": 200490000
         },
         {
          "displacement": 2.8255455493927,
          "mol_index": 130,
          "rotation": 1.0427700281143188,
          "time": 201490000
         },
         {
          "displacement": 3.067741632461548,
          "mol_index": 130,
          "rotation": 1.0476717948913574,
          "time": 202490000
         },
         {
          "displacement": 3.175426721572876,
          "mol_index": 130,
          "rotation": 1.138963222503662,
          "time": 203490000
         },
         {
          "displacement": 3.0129425525665283,
          "mol_index": 130,
          "rotation": 1.1224733591079712,
          "time": 204490000
         },
         {
          "displacement": 2.9554824829101562,
          "mol_index": 130,
          "rotation": 1.151286005973816,
          "time": 205490000
         },
         {
          "displacement": 2.6815738677978516,
          "mol_index": 130,
          "rotation": 1.3687374591827393,
          "time": 206490000
         },
         {
          "displacement": 1.9126601219177246,
          "mol_index": 130,
          "rotation": 1.4073278903961182,
          "time": 207490000
         },
         {
          "displacement": 0.9916114807128906,
          "mol_index": 130,
          "rotation": 1.1873371601104736,
          "time": 208490000
         },
         {
          "displacement": 1.0284061431884766,
          "mol_index": 130,
          "rotation": 1.215348482131958,
          "time": 209490000
         },
         {
          "displacement": 0.8315450549125671,
          "mol_index": 130,
          "rotation": 1.1783934831619263,
          "time": 210490000
         },
         {
          "displacement": 0.9692967534065247,
          "mol_index": 130,
          "rotation": 1.2249555587768555,
          "time": 211490000
         },
         {
          "displacement": 1.301955223083496,
          "mol_index": 130,
          "rotation": 1.3727123737335205,
          "time": 212490000
         },
         {
          "displacement": 1.7359280586242676,
          "mol_index": 130,
          "rotation": 1.8714263439178467,
          "time": 213490000
         },
         {
          "displacement": 2.465709686279297,
          "mol_index": 130,
          "rotation": 1.77372407913208,
          "time": 214490000
         },
         {
          "displacement": 2.810884952545166,
          "mol_index": 130,
          "rotation": 2.228856086730957,
          "time": 215490000
         },
         {
          "displacement": 3.148350477218628,
          "mol_index": 130,
          "rotation": 2.802004098892212,
          "time": 216490000
         },
         {
          "displacement": 3.118091583251953,
          "mol_index": 130,
          "rotation": 2.6509127616882324,
          "time": 217490000
         },
         {
          "displacement": 3.0978615283966064,
          "mol_index": 130,
          "rotation": 2.8033483028411865,
          "time": 218490000
         },
         {
          "displacement": 2.4613964557647705,
          "mol_index": 130,
          "rotation": 3.0561439990997314,
          "time": 219490000
         },
         {
          "displacement": 3.19492506980896,
          "mol_index": 130,
          "rotation": 2.8274998664855957,
          "time": 220490000
         },
         {
          "displacement": 3.344958782196045,
          "mol_index": 130,
          "rotation": 2.882556676864624,
          "time": 221490000
         },
         {
          "displacement": 3.19439697265625,
          "mol_index": 130,
          "rotation": 2.9057466983795166,
          "time": 222490000
         },
         {
          "displacement": 3.3202476501464844,
          "mol_index": 130,
          "rotation": 2.866159439086914,
          "time": 223490000
         },
         {
          "displacement": 3.4799249172210693,
          "mol_index": 130,
          "rotation": 2.9127049446105957,
          "time": 224490000
         },
         {
          "displacement": 3.664109945297241,
          "mol_index": 130,
          "rotation": 2.898359775543213,
          "time": 225490000
         },
         {
          "displacement": 3.8334221839904785,
          "mol_index": 130,
          "rotation": 2.7728981971740723,
          "time": 226490000
         },
         {
          "displacement": 3.9406354427337646,
          "mol_index": 130,
          "rotation": 2.793280601501465,
          "time": 227490000
         },
         {
          "displacement": 4.02398681640625,
          "mol_index": 130,
          "rotation": 2.6332972049713135,
          "time": 228490000
         },
         {
          "displacement": 4.071625232696533,
          "mol_index": 130,
          "rotation": 2.6451375484466553,
          "time": 229490000
         },
         {
          "displacement": 4.132798671722412,
          "mol_index": 130,
          "rotation": 2.5908071994781494,
          "time": 230490000
         },
         {
          "displacement": 4.288091659545898,
          "mol_index": 130,
          "rotation": 2.35064697265625,
          "time": 231490000
         },
         {
          "displacement": 4.545175075531006,
          "mol_index": 130,
          "rotation": 2.6695523262023926,
          "time": 232490000
         },
         {
          "displacement": 4.491206645965576,
          "mol_index": 130,
          "rotation": 1.6288801431655884,
          "time": 233490000
         },
         {
          "displacement": 4.353758811950684,
          "mol_index": 130,
          "rotation": 1.512196660041809,
          "time": 234490000
         },
         {
          "displacement": 4.377921104431152,
          "mol_index": 130,
          "rotation": 1.7673529386520386,
          "time": 235490000
         },
         {
          "displacement": 4.435835838317871,
          "mol_index": 130,
          "rotation": 1.9318865537643433,
          "time": 236490000
         },
         {
          "displacement": 4.5118937492370605,
          "mol_index": 130,
          "rotation": 1.948348045349121,
          "time": 237490000
         },
         {
          "displacement": 4.442280292510986,
          "mol_index": 130,
          "rotation": 1.9171550273895264,
          "time": 238490000
         },
         {
          "displacement": 4.431828022003174,
          "mol_index": 130,
          "rotation": 1.9385873079299927,
          "time": 239490000
         },
         {
          "displacement": 4.449899196624756,
          "mol_index": 130,
          "rotation": 1.9246902465820312,
          "time": 240490000
         },
         {
          "displacement": 4.473317623138428,
          "mol_index": 130,
          "rotation": 1.9300938844680786,
          "time": 241490000
         },
         {
          "displacement": 4.561591625213623,
          "mol_index": 130,
          "rotation": 1.9344823360443115,
          "time": 242490000
         },
         {
          "displacement": 4.53408145904541,
          "mol_index": 130,
          "rotation": 1.9380152225494385,
          "time": 243490000
         },
         {
          "displacement": 4.51597261428833,
          "mol_index": 130,
          "rotation": 1.9274358749389648,
          "time": 244490000
         },
         {
          "displacement": 4.459075927734375,
          "mol_index": 130,
          "rotation": 1.9588658809661865,
          "time": 245490000
         },
         {
          "displacement": 4.294546127319336,
          "mol_index": 130,
          "rotation": 1.9466503858566284,
          "time": 246490000
         },
         {
          "displacement": 4.485482692718506,
          "mol_index": 130,
          "rotation": 1.9206254482269287,
          "time": 247490000
         },
         {
          "displacement": 4.567820072174072,
          "mol_index": 130,
          "rotation": 1.9566973447799683,
          "time": 248490000
         },
         {
          "displacement": 4.537275314331055,
          "mol_index": 130,
          "rotation": 1.973707914352417,
          "time": 249490000
         },
         {
          "displacement": 4.477860450744629,
          "mol_index": 130,
          "rotation": 1.9757274389266968,
          "time": 250490000
         },
         {
          "displacement": 4.4927754402160645,
          "mol_index": 130,
          "rotation": 1.9113609790802002,
          "time": 251490000
         },
         {
          "displacement": 4.672286033630371,
          "mol_index": 130,
          "rotation": 1.9350417852401733,
          "time": 252490000
         },
         {
          "displacement": 4.635134696960449,
          "mol_index": 130,
          "rotation": 1.9587938785552979,
          "time": 253490000
         },
         {
          "displacement": 4.627682685852051,
          "mol_index": 130,
          "rotation": 2.020017147064209,
          "time": 254490000
         },
         {
          "displacement": 4.618244171142578,
          "mol_index": 130,
          "rotation": 2.0038106441497803,
          "time": 255490000
         },
         {
          "displacement": 4.6116251945495605,
          "mol_index": 130,
          "rotation": 1.968824028968811,
          "time": 256490000
         },
         {
          "displacement": 4.690336227416992,
          "mol_index": 130,
          "rotation": 1.9762020111083984,
          "time": 257490000
         },
         {
          "displacement": 4.667917728424072,
          "mol_index": 130,
          "rotation": 2.000826835632324,
          "time": 258490000
         },
         {
          "displacement": 4.876871109008789,
          "mol_index": 130,
          "rotation": 2.3540847301483154,
          "time": 259490000
         },
         {
          "displacement": 4.9532151222229,
          "mol_index": 130,
          "rotation": 2.4366183280944824,
          "time": 260490000
         },
         {
          "displacement": 4.921018123626709,
          "mol_index": 130,
          "rotation": 2.5999834537506104,
          "time": 261490000
         },
         {
          "displacement": 4.751220703125,
          "mol_index": 130,
          "rotation": 2.184718132019043,
          "time": 262490000
         },
         {
          "displacement": 4.905332565307617,
          "mol_index": 130,
          "rotation": 1.9701652526855469,
          "time": 263490000
         },
         {
          "displacement": 5.036946773529053,
          "mol_index": 130,
          "rotation": 1.9661719799041748,
          "time": 264490000
         },
         {
          "displacement": 4.970667839050293,
          "mol_index": 130,
          "rotation": 1.959073781967163,
          "time": 265490000
         },
         {
          "displacement": 5.008972644805908,
          "mol_index": 130,
          "rotation": 1.986925482749939,
          "time": 266490000
         },
         {
          "displacement": 5.102860927581787,
          "mol_index": 130,
          "rotation": 2.0380494594573975,
          "time": 267490000
         },
         {
          "displacement": 5.127338886260986,
          "mol_index": 130,
          "rotation": 2.062995195388794,
          "time": 268490000
         },
         {
          "displacement": 5.125857353210449,
          "mol_index": 130,
          "rotation": 2.060514211654663,
          "time": 269490000
         },
         {
          "displacement": 5.163130760192871,
          "mol_index": 130,
          "rotation": 2.078217029571533,
          "time": 270490000
         },
         {
          "displacement": 5.218354225158691,
          "mol_index": 130,
          "rotation": 2.0712618827819824,
          "time": 271490000
         },
         {
          "displacement": 5.452694416046143,
          "mol_index": 130,
          "rotation": 2.055205821990967,
          "time": 272490000
         },
         {
          "displacement": 5.4741530418396,
          "mol_index": 130,
          "rotation": 2.0614352226257324,
          "time": 273490000
         },
         {
          "displacement": 5.525571823120117,
          "mol_index": 130,
          "rotation": 2.059293508529663,
          "time": 274490000
         },
         {
          "displacement": 5.491374969482422,
          "mol_index": 130,
          "rotation": 2.0811986923217773,
          "time": 275490000
         },
         {
          "displacement": 5.379662990570068,
          "mol_index": 130,
          "rotation": 2.066426992416382,
          "time": 276490000
         },
         {
          "displacement": 5.427474021911621,
          "mol_index": 130,
          "rotation": 2.1352896690368652,
          "time": 277490000
         },
         {
          "displacement": 5.343847751617432,
          "mol_index": 130,
          "rotation": 2.167503595352173,
          "time": 278490000
         },
         {
          "displacement": 5.315701484680176,
          "mol_index": 130,
          "rotation": 2.087952136993408,
          "time": 279490000
         },
         {
          "displacement": 5.258470058441162,
          "mol_index": 130,
          "rotation": 2.0856027603149414,
          "time": 280490000
         },
         {
          "displacement": 5.3789873123168945,
          "mol_index": 130,
          "rotation": 2.2040045261383057,
          "time": 281490000
         },
         {
          "displacement": 5.6545233726501465,
          "mol_index": 130,
          "rotation": 2.8321149349212646,
          "time": 282490000
         },
         {
          "displacement": 6.441129207611084,
          "mol_index": 130,
          "rotation": 1.7835270166397095,
          "time": 283490000
         },
         {
          "displacement": 6.610365390777588,
          "mol_index": 130,
          "rotation": 2.0077662467956543,
          "time": 284490000
         },
         {
          "displacement": 6.9368157386779785,
          "mol_index": 130,
          "rotation": 2.6043925285339355,
          "time": 285490000
         },
         {
          "displacement": 7.113676071166992,
          "mol_index": 130,
          "rotation": 2.718949317932129,
          "time": 286490000
         },
         {
          "displacement": 7.1380414962768555,
          "mol_index": 130,
          "rotation": 2.6369473934173584,
          "time": 287490000
         },
         {
          "displacement": 8.180259704589844,
          "mol_index": 130,
          "rotation": 2.5968682765960693,
          "time": 288490000
         },
         {
          "displacement": 8.596442222595215,
          "mol_index": 130,
          "rotation": 2.4643568992614746,
          "time": 289490000
         },
         {
          "displacement": 9.145453453063965,
          "mol_index": 130,
          "rotation": 2.5097010135650635,
          "time": 290490000
         },
         {
          "displacement": 9.184090614318848,
          "mol_index": 130,
          "rotation": 2.568235158920288,
          "time": 291490000
         },
         {
          "displacement": 9.40641975402832,
          "mol_index": 130,
          "rotation": 2.5999343395233154,
          "time": 292490000
         },
         {
          "displacement": 9.293557167053223,
          "mol_index": 130,
          "rotation": 2.5840039253234863,
          "time": 293490000
         },
         {
          "displacement": 9.274127960205078,
          "mol_index": 130,
          "rotation": 2.555234670639038,
          "time": 294490000
         },
         {
          "displacement": 9.392353057861328,
          "mol_index": 130,
          "rotation": 2.752547264099121,
          "time": 295490000
         },
         {
          "displacement": 9.174301147460938,
          "mol_index": 130,
          "rotation": 3.0183064937591553,
          "time": 296490000
         },
         {
          "displacement": 9.367666244506836,
          "mol_index": 130,
          "rotation": 3.103917121887207,
          "time": 297490000
         },
         {
          "displacement": 9.375115394592285,
          "mol_index": 130,
          "rotation": 3.09273099899292,
          "time": 298490000
         },
         {
          "displacement": 9.403511047363281,
          "mol_index": 130,
          "rotation": 3.097181558609009,
          "time": 299490000
         },
         {
          "displacement": 9.133116722106934,
          "mol_index": 130,
          "rotation": 3.0985045433044434,
          "time": 300490000
         },
         {
          "displacement": 9.145176887512207,
          "mol_index": 130,
          "rotation": 3.102015256881714,
          "time": 301490000
         },
         {
          "displacement": 8.23636245727539,
          "mol_index": 130,
          "rotation": 1.585055947303772,
          "time": 302490000
         },
         {
          "displacement": 8.17448902130127,
          "mol_index": 130,
          "rotation": 1.8024014234542847,
          "time": 303490000
         },
         {
          "displacement": 8.193903923034668,
          "mol_index": 130,
          "rotation": 1.7085988521575928,
          "time": 304490000
         },
         {
          "displacement": 8.176136016845703,
          "mol_index": 130,
          "rotation": 1.644971489906311,
          "time": 305490000
         },
         {
          "displacement": 8.137205123901367,
          "mol_index": 130,
          "rotation": 1.7594351768493652,
          "time": 306490000
         },
         {
          "displacement": 8.128721237182617,
          "mol_index": 130,
          "rotation": 1.526610255241394,
          "time": 307490000
         },
         {
          "displacement": 8.094505310058594,
          "mol_index": 130,
          "rotation": 1.3743394613265991,
          "time": 308490000
         },
         {
          "displacement": 7.6239542961120605,
          "mol_index": 130,
          "rotation": 1.2304954528808594,
          "time": 309490000
         },
         {
          "displacement": 7.720353126525879,
          "mol_index": 130,
          "rotation": 1.6721522808074951,
          "time": 310490000
         },
         {
          "displacement": 7.797138690948486,
          "mol_index": 130,
          "rotation": 1.9522191286087036,
          "time": 311490000
         },
         {
          "displacement": 7.625439167022705,
          "mol_index": 130,
          "rotation": 1.5071978569030762,
          "time": 312490000
         },
         {
          "displacement": 8.640814781188965,
          "mol_index": 130,
          "rotation": 1.7568213939666748,
          "time": 313490000
         },
         {
          "displacement": 9.020610809326172,
          "mol_index": 130,
          "rotation": 2.0394155979156494,
          "time": 314490000
         },
         {
          "displacement": 8.635306358337402,
          "mol_index": 130,
          "rotation": 2.3130273818969727,
          "time": 315490000
         },
         {
          "displacement": 8.532922744750977,
          "mol_index": 130,
          "rotation": 2.3023648262023926,
          "time": 316490000
         },
         {
          "displacement": 8.539908409118652,
          "mol_index": 130,
          "rotation": 2.289881706237793,
          "time": 317490000
         },
         {
          "displacement": 8.61351490020752,
          "mol_index": 130,
          "rotation": 2.3224263191223145,
          "time": 318490000
         },
         {
          "displacement": 8.797468185424805,
          "mol_index": 130,
          "rotation": 2.384080171585083,
          "time": 319490000
         },
         {
          "displacement": 8.76089859008789,
          "mol_index": 130,
          "rotation": 2.923557758331299,
          "time": 320490000
         },
         {
          "displacement": 8.7249116897583,
          "mol_index": 130,
          "rotation": 3.035971164703369,
          "time": 321490000
         },
         {
          "displacement": 8.712364196777344,
          "mol_index": 130,
          "rotation": 3.032121181488037,
          "time": 322490000
         },
         {
          "displacement": 9.381067276000977,
          "mol_index": 130,
          "rotation": 2.9157052040100098,
          "time": 323490000
         },
         {
          "displacement": 9.481718063354492,
          "mol_index": 130,
          "rotation": 2.739084243774414,
          "time": 324490000
         },
         {
          "displacement": 8.455881118774414,
          "mol_index": 130,
          "rotation": 2.9445362091064453,
          "time": 325490000
         },
         {
          "displacement": 8.156095504760742,
          "mol_index": 130,
          "rotation": 3.0845909118652344,
          "time": 326490000
         },
         {
          "displacement": 8.090208053588867,
          "mol_index": 130,
          "rotation": 2.8507421016693115,
          "time": 327490000
         },
         {
          "displacement": 8.179362297058105,
          "mol_index": 130,
          "rotation": 2.8534252643585205,
          "time": 328490000
         },
         {
          "displacement": 8.202164649963379,
          "mol_index": 130,
          "rotation": 2.955218553543091,
          "time": 329490000
         },
         {
          "displacement": 8.184861183166504,
          "mol_index": 130,
          "rotation": 2.8099124431610107,
          "time": 330490000
         },
         {
          "displacement": 8.187626838684082,
          "mol_index": 130,
          "rotation": 2.1773602962493896,
          "time": 331490000
         },
         {
          "displacement": 7.777556419372559,
          "mol_index": 130,
          "rotation": 2.0478768348693848,
          "time": 332490000
         },
         {
          "displacement": 7.7933173179626465,
          "mol_index": 130,
          "rotation": 2.0679123401641846,
          "time": 333490000
         },
         {
          "displacement": 7.616687774658203,
          "mol_index": 130,
          "rotation": 2.0827555656433105,
          "time": 334490000
         },
         {
          "displacement": 7.572990894317627,
          "mol_index": 130,
          "rotation": 2.062588930130005,
          "time": 335490000
         },
         {
          "displacement": 7.631706714630127,
          "mol_index": 130,
          "rotation": 2.052367687225342,
          "time": 336490000
         },
         {
          "displacement": 7.475088119506836,
          "mol_index": 130,
          "rotation": 2.0416646003723145,
          "time": 337490000
         },
         {
          "displacement": 7.428895473480225,
          "mol_index": 130,
          "rotation": 1.972161889076233,
          "time": 338490000
         },
         {
          "displacement": 7.171175003051758,
          "mol_index": 130,
          "rotation": 1.9693852663040161,
          "time": 339490000
         },
         {
          "displacement": 7.8128275871276855,
          "mol_index": 130,
          "rotation": 1.5456833839416504,
          "time": 340490000
         },
         {
          "displacement": 8.43338394165039,
          "mol_index": 130,
          "rotation": 1.4154224395751953,
          "time": 341490000
         },
         {
          "displacement": 8.424996376037598,
          "mol_index": 130,
          "rotation": 1.4064651727676392,
          "time": 342490000
         },
         {
          "displacement": 8.188150405883789,
          "mol_index": 130,
          "rotation": 1.131623387336731,
          "time": 343490000
         },
         {
          "displacement": 7.89201021194458,
          "mol_index": 130,
          "rotation": 1.103613018989563,
          "time": 344490000
         },
         {
          "displacement": 7.782138824462891,
          "mol_index": 130,
          "rotation": 1.1170918941497803,
          "time": 345490000
         },
         {
          "displacement": 7.719560146331787,
          "mol_index": 130,
          "rotation": 1.1122959852218628,
          "time": 346490000
         },
         {
          "displacement": 7.694645881652832,
          "mol_index": 130,
          "rotation": 1.1374554634094238,
          "time": 347490000
         },
         {
          "displacement": 7.7281107902526855,
          "mol_index": 130,
          "rotation": 1.1596260070800781,
          "time": 348490000
         },
         {
          "displacement": 7.6923089027404785,
          "mol_index": 130,
          "rotation": 1.123900294303894,
          "time": 349490000
         },
         {
          "displacement": 7.75880241394043,
          "mol_index": 130,
          "rotation": 1.1043875217437744,
          "time": 350490000
         },
         {
          "displacement": 8.17531681060791,
          "mol_index": 130,
          "rotation": 0.861337423324585,
          "time": 351490000
         },
         {
          "displacement": 8.536392211914062,
          "mol_index": 130,
          "rotation": 0.703840434551239,
          "time": 352490000
         },
         {
          "displacement": 8.737045288085938,
          "mol_index": 130,
          "rotation": 0.7542088627815247,
          "time": 353490000
         },
         {
          "displacement": 8.589982986450195,
          "mol_index": 130,
          "rotation": 0.6411386132240295,
          "time": 354490000
         },
         {
          "displacement": 8.599510192871094,
          "mol_index": 130,
          "rotation": 0.27343830466270447,
          "time": 355490000
         },
         {
          "displacement": 8.170555114746094,
          "mol_index": 130,
          "rotation": 0.503591775894165,
          "time": 356490000
         },
         {
          "displacement": 8.514622688293457,
          "mol_index": 130,
          "rotation": 0.450942724943161,
          "time": 357490000
         },
         {
          "displacement": 8.847848892211914,
          "mol_index": 130,
          "rotation": 0.4784393012523651,
          "time": 358490000
         },
         {
          "displacement": 9.09671688079834,
          "mol_index": 130,
          "rotation": 0.8380143046379089,
          "time": 359490000
         },
         {
          "displacement": 9.358905792236328,
          "mol_index": 130,
          "rotation": 1.1190918684005737,
          "time": 360490000
         },
         {
          "displacement": 8.925779342651367,
          "mol_index": 130,
          "rotation": 1.3456411361694336,
          "time": 361490000
         },
         {
          "displacement": 9.054956436157227,
          "mol_index": 130,
          "rotation": 1.5880627632141113,
          "time": 362490000
         },
         {
          "displacement": 9.048271179199219,
          "mol_index": 130,
          "rotation": 1.5840593576431274,
          "time": 363490000
         },
         {
          "displacement": 9.177990913391113,
          "mol_index": 130,
          "rotation": 1.5559473037719727,
          "time": 364490000
         },
         {
          "displacement": 9.238842010498047,
          "mol_index": 130,
          "rotation": 1.6567567586898804,
          "time": 365490000
         },
         {
          "displacement": 8.9979248046875,
          "mol_index": 130,
          "rotation": 1.7851768732070923,
          "time": 366490000
         },
         {
          "displacement": 8.70504093170166,
          "mol_index": 130,
          "rotation": 1.8809210062026978,
          "time": 367490000
         },
         {
          "displacement": 8.739946365356445,
          "mol_index": 130,
          "rotation": 1.9394938945770264,
          "time": 368490000
         },
         {
          "displacement": 8.608789443969727,
          "mol_index": 130,
          "rotation": 1.9400055408477783,
          "time": 369490000
         },
         {
          "displacement": 8.79800033569336,
          "mol_index": 130,
          "rotation": 2.1705620288848877,
          "time": 370490000
         },
         {
          "displacement": 9.197844505310059,
          "mol_index": 130,
          "rotation": 2.08552622795105,
          "time": 371490000
         },
         {
          "displacement": 9.82772159576416,
          "mol_index": 130,
          "rotation": 1.8401868343353271,
          "time": 372490000
         },
         {
          "displacement": 9.237051963806152,
          "mol_index": 130,
          "rotation": 1.4187750816345215,
          "time": 373490000
         },
         {
          "displacement": 9.192689895629883,
          "mol_index": 130,
          "rotation": 1.4095096588134766,
          "time": 374490000
         },
         {
          "displacement": 8.945246696472168,
          "mol_index": 130,
          "rotation": 1.2790740728378296,
          "time": 375490000
         },
         {
          "displacement": 8.821135520935059,
          "mol_index": 130,
          "rotation": 1.6777942180633545,
          "time": 376490000
         },
         {
          "displacement": 8.924331665039062,
          "mol_index": 130,
          "rotation": 2.45115065574646,
          "time": 377490000
         },
         {
          "displacement": 9.33978271484375,
          "mol_index": 130,
          "rotation": 2.487741231918335,
          "time": 378490000
         },
         {
          "displacement": 9.39993953704834,
          "mol_index": 130,
          "rotation": 2.420583963394165,
          "time": 379490000
         },
         {
          "displacement": 9.519011497497559,
          "mol_index": 130,
          "rotation": 2.1449451446533203,
          "time": 380490000
         },
         {
          "displacement": 9.522356986999512,
          "mol_index": 130,
          "rotation": 2.0209367275238037,
          "time": 381490000
         },
         {
          "displacement": 9.329693794250488,
          "mol_index": 130,
          "rotation": 2.0979154109954834,
          "time": 382490000
         },
         {
          "displacement": 9.316200256347656,
          "mol_index": 130,
          "rotation": 2.1228325366973877,
          "time": 383490000
         },
         {
          "displacement": 9.242444038391113,
          "mol_index": 130,
          "rotation": 2.102957248687744,
          "time": 384490000
         },
         {
          "displacement": 9.10918140411377,
          "mol_index": 130,
          "rotation": 2.016293525695801,
          "time": 385490000
         },
         {
          "displacement": 10.421943664550781,
          "mol_index": 130,
          "rotation": 0.8203744292259216,
          "time": 386490000
         },
         {
          "displacement": 10.294618606567383,
          "mol_index": 130,
          "rotation": 0.8569580912590027,
          "time": 387490000
         },
         {
          "displacement": 10.26478385925293,
          "mol_index": 130,
          "rotation": 1.187687635421753,
          "time": 388490000
         },
         {
          "displacement": 10.39820384979248,
          "mol_index": 130,
          "rotation": 0.9377871751785278,
          "time": 389490000
         },
         {
          "displacement": 10.366600036621094,
          "mol_index": 130,
          "rotation": 0.9466744065284729,
          "time": 390490000
         },
         {
          "displacement": 10.399234771728516,
          "mol_index": 130,
          "rotation": 0.9408959150314331,
          "time": 391490000
         },
         {
          "displacement": 10.294156074523926,
          "mol_index": 130,
          "rotation": 0.936812698841095,
          "time": 392490000
         },
         {
          "displacement": 10.202731132507324,
          "mol_index": 130,
          "rotation": 1.0660189390182495,
          "time": 393490000
         },
         {
          "displacement": 10.027050018310547,
          "mol_index": 130,
          "rotation": 1.3032753467559814,
          "time": 394490000
         },
         {
          "displacement": 10.428872108459473,
          "mol_index": 130,
          "rotation": 1.3973445892333984,
          "time": 395490000
         },
         {
          "displacement": 10.477654457092285,
          "mol_index": 130,
          "rotation": 1.4746183156967163,
          "time": 396490000
         },
         {
          "displacement": 11.740697860717773,
          "mol_index": 130,
          "rotation": 2.163652181625366,
          "time": 397490000
         },
         {
          "displacement": 11.310517311096191,
          "mol_index": 130,
          "rotation": 2.132159471511841,
          "time": 398490000
         },
         {
          "displacement": 11.003266334533691,
          "mol_index": 130,
          "rotation": 1.4263628721237183,
          "time": 399490000
         },
         {
          "displacement": 11.211943626403809,
          "mol_index": 130,
          "rotation": 0.7127271890640259,
          "time": 400490000
         },
         {
          "displacement": 11.153633117675781,
          "mol_index": 130,
          "rotation": 0.7499132752418518,
          "time": 401490000
         },
         {
          "displacement": 11.239482879638672,
          "mol_index": 130,
          "rotation": 0.7594192624092102,
          "time": 402490000
         },
         {
          "displacement": 11.632305145263672,
          "mol_index": 130,
          "rotation": 0.7298353910446167,
          "time": 403490000
         },
         {
          "displacement": 11.505711555480957,
          "mol_index": 130,
          "rotation": 0.7783890962600708,
          "time": 404490000
         },
         {
          "displacement": 11.484272956848145,
          "mol_index": 130,
          "rotation": 1.2244064807891846,
          "time": 405490000
         },
         {
          "displacement": 11.209443092346191,
          "mol_index": 130,
          "rotation": 1.0413788557052612,
          "time": 406490000
         },
         {
          "displacement": 11.094924926757812,
          "mol_index": 130,
          "rotation": 1.0046149492263794,
          "time": 407490000
         },
         {
          "displacement": 11.178213119506836,
          "mol_index": 130,
          "rotation": 0.9679344892501831,
          "time": 408490000
         },
         {
          "displacement": 11.095979690551758,
          "mol_index": 130,
          "rotation": 0.9448638558387756,
          "time": 409490000
         },
         {
          "displacement": 11.172386169433594,
          "mol_index": 130,
          "rotation": 0.9727125763893127,
          "time": 410490000
         },
         {
          "displacement": 11.281986236572266,
          "mol_index": 130,
          "rotation": 0.9630753993988037,
          "time": 411490000
         },
         {
          "displacement": 11.223566055297852,
          "mol_index": 130,
          "rotation": 0.9812488555908203,
          "time": 412490000
         },
         {
          "displacement": 11.103011131286621,
          "mol_index": 130,
          "rotation": 1.0245921611785889,
          "time": 413490000
         },
         {
          "displacement": 11.167201042175293,
          "mol_index": 130,
          "rotation": 0.99763023853302,
          "time": 414490000
         },
         {
          "displacement": 11.29701042175293,
          "mol_index": 130,
          "rotation": 0.9821669459342957,
          "time": 415490000
         },
         {
          "displacement": 11.40061092376709,
          "mol_index": 130,
          "rotation": 1.0044023990631104,
          "time": 416490000
         },
         {
          "displacement": 11.324880599975586,
          "mol_index": 130,
          "rotation": 1.0145630836486816,
          "time": 417490000
         },
         {
          "displacement": 11.102375984191895,
          "mol_index": 130,
          "rotation": 1.0193053483963013,
          "time": 418490000
         },
         {
          "displacement": 10.809266090393066,
          "mol_index": 130,
          "rotation": 1.0101466178894043,
          "time": 419490000
         },
         {
          "displacement": 10.951229095458984,
          "mol_index": 130,
          "rotation": 1.0784822702407837,
          "time": 420490000
         },
         {
          "displacement": 11.041365623474121,
          "mol_index": 130,
          "rotation": 0.9985411763191223,
          "time": 421490000
         },
         {
          "displacement": 11.119599342346191,
          "mol_index": 130,
          "rotation": 1.020951747894287,
          "time": 422490000
         },
         {
          "displacement": 11.300917625427246,
          "mol_index": 130,
          "rotation": 1.033527135848999,
          "time": 423490000
         },
         {
          "displacement": 11.207863807678223,
          "mol_index": 130,
          "rotation": 1.0244839191436768,
          "time": 424490000
         },
         {
          "displacement": 10.991393089294434,
          "mol_index": 130,
          "rotation": 0.9665331840515137,
          "time": 425490000
         },
         {
          "displacement": 10.909034729003906,
          "mol_index": 130,
          "rotation": 0.9789746403694153,
          "time": 426490000
         },
         {
          "displacement": 10.884040832519531,
          "mol_index": 130,
          "rotation": 0.9759212732315063,
          "time": 427490000
         },
         {
          "displacement": 10.887981414794922,
          "mol_index": 130,
          "rotation": 0.9855189323425293,
          "time": 428490000
         },
         {
          "displacement": 10.840500831604004,
          "mol_index": 130,
          "rotation": 1.0033222436904907,
          "time": 429490000
         },
         {
          "displacement": 11.002180099487305,
          "mol_index": 130,
          "rotation": 0.9983127117156982,
          "time": 430490000
         },
         {
          "displacement": 11.112067222595215,
          "mol_index": 130,
          "rotation": 1.0142154693603516,
          "time": 431490000
         },
         {
          "displacement": 11.036764144897461,
          "mol_index": 130,
          "rotation": 1.0146186351776123,
          "time": 432490000
         },
         {
          "displacement": 10.951425552368164,
          "mol_index": 130,
          "rotation": 1.005150318145752,
          "time": 433490000
         },
         {
          "displacement": 10.960679054260254,
          "mol_index": 130,
          "rotation": 1.0097768306732178,
          "time": 434490000
         },
         {
          "displacement": 10.968849182128906,
          "mol_index": 130,
          "rotation": 1.0008819103240967,
          "time": 435490000
         },
         {
          "displacement": 11.008773803710938,
          "mol_index": 130,
          "rotation": 1.02311372756958,
          "time": 436490000
         },
         {
          "displacement": 11.140620231628418,
          "mol_index": 130,
          "rotation": 1.0414607524871826,
          "time": 437490000
         },
         {
          "displacement": 11.12678050994873,
          "mol_index": 130,
          "rotation": 1.0309492349624634,
          "time": 438490000
         },
         {
          "displacement": 11.109427452087402,
          "mol_index": 130,
          "rotation": 1.0167195796966553,
          "time": 439490000
         },
         {
          "displacement": 10.9375581741333,
          "mol_index": 130,
          "rotation": 1.0352519750595093,
          "time": 440490000
         },
         {
          "displacement": 10.943790435791016,
          "mol_index": 130,
          "rotation": 1.0086559057235718,
          "time": 441490000
         },
         {
          "displacement": 11.068098068237305,
          "mol_index": 130,
          "rotation": 1.0392141342163086,
          "time": 442490000
         },
         {
          "displacement": 11.118805885314941,
          "mol_index": 130,
          "rotation": 1.044787049293518,
          "time": 443490000
         },
         {
          "displacement": 11.072113037109375,
          "mol_index": 130,
          "rotation": 1.0528775453567505,
          "time": 444490000
         },
         {
          "displacement": 10.9076566696167,
          "mol_index": 130,
          "rotation": 1.0389692783355713,
          "time": 445490000
         },
         {
          "displacement": 10.835928916931152,
          "mol_index": 130,
          "rotation": 1.0313218832015991,
          "time": 446490000
         },
         {
          "displacement": 10.706334114074707,
          "mol_index": 130,
          "rotation": 1.0198551416397095,
          "time": 447490000
         },
         {
          "displacement": 10.609024047851562,
          "mol_index": 130,
          "rotation": 1.0016041994094849,
          "time": 448490000
         },
         {
          "displacement": 10.656335830688477,
          "mol_index": 130,
          "rotation": 1.0359337329864502,
          "time": 449490000
         },
         {
          "displacement": 10.533862113952637,
          "mol_index": 130,
          "rotation": 1.0290091037750244,
          "time": 450490000
         },
         {
          "displacement": 10.589789390563965,
          "mol_index": 130,
          "rotation": 1.038779377937317,
          "time": 451490000
         },
         {
          "displacement": 10.656947135925293,
          "mol_index": 130,
          "rotation": 1.0407968759536743,
          "time": 452490000
         },
         {
          "displacement": 10.540122032165527,
          "mol_index": 130,
          "rotation": 1.027592420578003,
          "time": 453490000
         },
         {
          "displacement": 10.461148262023926,
          "mol_index": 130,
          "rotation": 1.0358266830444336,
          "time": 454490000
         },
         {
          "displacement": 10.39548110961914,
          "mol_index": 130,
          "rotation": 1.0369473695755005,
          "time": 455490000
         },
         {
          "displacement": 10.077497482299805,
          "mol_index": 130,
          "rotation": 1.0202891826629639,
          "time": 456490000
         },
         {
          "displacement": 10.03854751586914,
          "mol_index": 130,
          "rotation": 1.013351321220398,
          "time": 457490000
         },
         {
          "displacement": 9.925796508789062,
          "mol_index": 130,
          "rotation": 1.0303667783737183,
          "time": 458490000
         },
         {
          "displacement": 9.903422355651855,
          "mol_index": 130,
          "rotation": 1.033966064453125,
          "time": 459490000
         },
         {
          "displacement": 10.009800910949707,
          "mol_index": 130,
          "rotation": 1.0206000804901123,
          "time": 460490000
         },
         {
          "displacement": 9.925636291503906,
          "mol_index": 130,
          "rotation": 1.0295822620391846,
          "time": 461490000
         },
         {
          "displacement": 9.570634841918945,
          "mol_index": 130,
          "rotation": 1.0178521871566772,
          "time": 462490000
         },
         {
          "displacement": 9.361150741577148,
          "mol_index": 130,
          "rotation": 0.9928460717201233,
          "time": 463490000
         },
         {
          "displacement": 9.34317398071289,
          "mol_index": 130,
          "rotation": 1.0306849479675293,
          "time": 464490000
         },
         {
          "displacement": 9.38727855682373,
          "mol_index": 130,
          "rotation": 1.0146948099136353,
          "time": 465490000
         },
         {
          "displacement": 9.147855758666992,
          "mol_index": 130,
          "rotation": 1.948807716369629,
          "time": 466490000
         },
         {
          "displacement": 9.709485054016113,
          "mol_index": 130,
          "rotation": 2.1929585933685303,
          "time": 467490000
         },
         {
          "displacement": 9.966938018798828,
          "mol_index": 130,
          "rotation": 2.8023386001586914,
          "time": 468490000
         },
         {
          "displacement": 10.094372749328613,
          "mol_index": 130,
          "rotation": 2.7759337425231934,
          "time": 469490000
         },
         {
          "displacement": 10.086932182312012,
          "mol_index": 130,
          "rotation": 2.8087077140808105,
          "time": 470490000
         },
         {
          "displacement": 9.651691436767578,
          "mol_index": 130,
          "rotation": 2.7057666778564453,
          "time": 471490000
         },
         {
          "displacement": 9.405409812927246,
          "mol_index": 130,
          "rotation": 2.2364118099212646,
          "time": 472490000
         },
         {
          "displacement": 9.381726264953613,
          "mol_index": 130,
          "rotation": 2.224950075149536,
          "time": 473490000
         },
         {
          "displacement": 9.941781997680664,
          "mol_index": 130,
          "rotation": 2.9671974182128906,
          "time": 474490000
         },
         {
          "displacement": 9.996875762939453,
          "mol_index": 130,
          "rotation": 2.978358268737793,
          "time": 475490000
         },
         {
          "displacement": 10.012414932250977,
          "mol_index": 130,
          "rotation": 3.0556893348693848,
          "time": 476490000
         },
         {
          "displacement": 10.06416130065918,
          "mol_index": 130,
          "rotation": 2.8999290466308594,
          "time": 477490000
         },
         {
          "displacement": 9.690491676330566,
          "mol_index": 130,
          "rotation": 2.7307708263397217,
          "time": 478490000
         },
         {
          "displacement": 9.629205703735352,
          "mol_index": 130,
          "rotation": 2.622992992401123,
          "time": 479490000
         },
         {
          "displacement": 9.50574016571045,
          "mol_index": 130,
          "rotation": 2.3095614910125732,
          "time": 480490000
         },
         {
          "displacement": 9.423385620117188,
          "mol_index": 130,
          "rotation": 2.2238881587982178,
          "time": 481490000
         },
         {
          "displacement": 9.465423583984375,
          "mol_index": 130,
          "rotation": 2.207019090652466,
          "time": 482490000
         },
         {
          "displacement": 9.413189888000488,
          "mol_index": 130,
          "rotation": 2.210782051086426,
          "time": 483490000
         },
         {
          "displacement": 9.368088722229004,
          "mol_index": 130,
          "rotation": 2.190626621246338,
          "time": 484490000
         },
         {
          "displacement": 9.328413009643555,
          "mol_index": 130,
          "rotation": 2.1602861881256104,
          "time": 485490000
         },
         {
          "displacement": 9.118760108947754,
          "mol_index": 130,
          "rotation": 2.136162281036377,
          "time": 486490000
         },
         {
          "displacement": 9.082066535949707,
          "mol_index": 130,
          "rotation": 2.1501846313476562,
          "time": 487490000
         },
         {
          "displacement": 9.250011444091797,
          "mol_index": 130,
          "rotation": 2.198169231414795,
          "time": 488490000
         },
         {
          "displacement": 9.313066482543945,
          "mol_index": 130,
          "rotation": 2.206773042678833,
          "time": 489490000
         },
         {
          "displacement": 9.34207534790039,
          "mol_index": 130,
          "rotation": 2.250056743621826,
          "time": 490490000
         },
         {
          "displacement": 9.747167587280273,
          "mol_index": 130,
          "rotation": 2.346818447113037,
          "time": 491490000
         },
         {
          "displacement": 9.972959518432617,
          "mol_index": 130,
          "rotation": 2.2865986824035645,
          "time": 492490000
         },
         {
          "displacement": 9.971423149108887,
          "mol_index": 130,
          "rotation": 2.1837453842163086,
          "time": 493490000
         },
         {
          "displacement": 10.40719223022461,
          "mol_index": 130,
          "rotation": 1.910123348236084,
          "time": 494490000
         },
         {
          "displacement": 10.688994407653809,
          "mol_index": 130,
          "rotation": 1.8614802360534668,
          "time": 495490000
         },
         {
          "displacement": 10.67999267578125,
          "mol_index": 130,
          "rotation": 1.8880014419555664,
          "time": 496490000
         },
         {
          "displacement": 10.742047309875488,
          "mol_index": 130,
          "rotation": 1.8889808654785156,
          "time": 497490000
         },
         {
          "displacement": 10.774053573608398,
          "mol_index": 130,
          "rotation": 1.895780086517334,
          "time": 498490000
         },
         {
          "displacement": 10.513524055480957,
          "mol_index": 130,
          "rotation": 2.2611076831817627,
          "time": 499490000
         },
         {
          "displacement": 10.464765548706055,
          "mol_index": 130,
          "rotation": 1.9236375093460083,
          "time": 500490000
         },
         {
          "displacement": 9.74785327911377,
          "mol_index": 130,
          "rotation": 1.6682649850845337,
          "time": 501490000
         },
         {
          "displacement": 9.037009239196777,
          "mol_index": 130,
          "rotation": 2.693270444869995,
          "time": 502490000
         },
         {
          "displacement": 9.07522964477539,
          "mol_index": 130,
          "rotation": 2.9467175006866455,
          "time": 503490000
         },
         {
          "displacement": 8.97594165802002,
          "mol_index": 130,
          "rotation": 2.894362211227417,
          "time": 504490000
         },
         {
          "displacement": 9.04150390625,
          "mol_index": 130,
          "rotation": 2.8610658645629883,
          "time": 505490000
         },
         {
          "displacement": 9.213500022888184,
          "mol_index": 130,
          "rotation": 2.945457696914673,
          "time": 506490000
         },
         {
          "displacement": 9.227688789367676,
          "mol_index": 130,
          "rotation": 2.9531068801879883,
          "time": 507490000
         },
         {
          "displacement": 9.140481948852539,
          "mol_index": 130,
          "rotation": 2.9420571327209473,
          "time": 508490000
         },
         {
          "displacement": 9.248211860656738,
          "mol_index": 130,
          "rotation": 2.9635281562805176,
          "time": 509490000
         },
         {
          "displacement": 9.568477630615234,
          "mol_index": 130,
          "rotation": 2.6863632202148438,
          "time": 510490000
         },
         {
          "displacement": 9.237956047058105,
          "mol_index": 130,
          "rotation": 2.742201328277588,
          "time": 511490000
         },
         {
          "displacement": 9.294405937194824,
          "mol_index": 130,
          "rotation": 2.6397554874420166,
          "time": 512490000
         },
         {
          "displacement": 9.217764854431152,
          "mol_index": 130,
          "rotation": 2.2866668701171875,
          "time": 513490000
         },
         {
          "displacement": 9.278204917907715,
          "mol_index": 130,
          "rotation": 2.3336870670318604,
          "time": 514490000
         },
         {
          "displacement": 9.068550109863281,
          "mol_index": 130,
          "rotation": 2.33385968208313,
          "time": 515490000
         },
         {
          "displacement": 9.061678886413574,
          "mol_index": 130,
          "rotation": 2.7888975143432617,
          "time": 516490000
         },
         {
          "displacement": 8.453133583068848,
          "mol_index": 130,
          "rotation": 2.8871519565582275,
          "time": 517490000
         },
         {
          "displacement": 8.278834342956543,
          "mol_index": 130,
          "rotation": 2.7983198165893555,
          "time": 518490000
         },
         {
          "displacement": 8.177952766418457,
          "mol_index": 130,
          "rotation": 2.8471298217773438,
          "time": 519490000
         },
         {
          "displacement": 8.465611457824707,
          "mol_index": 130,
          "rotation": 2.406200885772705,
          "time": 520490000
         },
         {
          "displacement": 8.590045928955078,
          "mol_index": 130,
          "rotation": 2.466876268386841,
          "time": 521490000
         },
         {
          "displacement": 8.439332962036133,
          "mol_index": 130,
          "rotation": 2.8309929370880127,
          "time": 522490000
         },
         {
          "displacement": 8.596789360046387,
          "mol_index": 130,
          "rotation": 2.701979398727417,
          "time": 523490000
         },
         {
          "displacement": 8.622215270996094,
          "mol_index": 130,
          "rotation": 2.8573975563049316,
          "time": 524490000
         },
         {
          "displacement": 8.660346984863281,
          "mol_index": 130,
          "rotation": 2.9537136554718018,
          "time": 525490000
         },
         {
          "displacement": 8.964816093444824,
          "mol_index": 130,
          "rotation": 2.8402891159057617,
          "time": 526490000
         },
         {
          "displacement": 9.03447151184082,
          "mol_index": 130,
          "rotation": 2.9773521423339844,
          "time": 527490000
         },
         {
          "displacement": 8.470161437988281,
          "mol_index": 130,
          "rotation": 2.9572649002075195,
          "time": 528490000
         },
         {
          "displacement": 8.378881454467773,
          "mol_index": 130,
          "rotation": 2.608236074447632,
          "time": 529490000
         },
         {
          "displacement": 9.003395080566406,
          "mol_index": 130,
          "rotation": 2.1716372966766357,
          "time": 530490000
         },
         {
          "displacement": 9.092180252075195,
          "mol_index": 130,
          "rotation": 2.216488838195801,
          "time": 531490000
         },
         {
          "displacement": 8.860544204711914,
          "mol_index": 130,
          "rotation": 2.3205554485321045,
          "time": 532490000
         },
         {
          "displacement": 8.660054206848145,
          "mol_index": 130,
          "rotation": 2.5236306190490723,
          "time": 533490000
         },
         {
          "displacement": 8.442747116088867,
          "mol_index": 130,
          "rotation": 2.572883129119873,
          "time": 534490000
         },
         {
          "displacement": 8.547021865844727,
          "mol_index": 130,
          "rotation": 2.557758092880249,
          "time": 535490000
         },
         {
          "displacement": 8.509160995483398,
          "mol_index": 130,
          "rotation": 2.5477473735809326,
          "time": 536490000
         },
         {
          "displacement": 8.540359497070312,
          "mol_index": 130,
          "rotation": 2.5173816680908203,
          "time": 537490000
         },
         {
          "displacement": 8.600895881652832,
          "mol_index": 130,
          "rotation": 2.480231523513794,
          "time": 538490000
         },
         {
          "displacement": 8.489301681518555,
          "mol_index": 130,
          "rotation": 2.525676965713501,
          "time": 539490000
         },
         {
          "displacement": 8.490537643432617,
          "mol_index": 130,
          "rotation": 2.506441831588745,
          "time": 540490000
         },
         {
          "displacement": 8.425737380981445,
          "mol_index": 130,
          "rotation": 2.547471046447754,
          "time": 541490000
         },
         {
          "displacement": 8.121452331542969,
          "mol_index": 130,
          "rotation": 2.584502935409546,
          "time": 542490000
         },
         {
          "displacement": 8.11487102508545,
          "mol_index": 130,
          "rotation": 2.5844740867614746,
          "time": 543490000
         },
         {
          "displacement": 8.016022682189941,
          "mol_index": 130,
          "rotation": 2.5718324184417725,
          "time": 544490000
         },
         {
          "displacement": 8.012320518493652,
          "mol_index": 130,
          "rotation": 2.5910072326660156,
          "time": 545490000
         },
         {
          "displacement": 8.021102905273438,
          "mol_index": 130,
          "rotation": 2.575780153274536,
          "time": 546490000
         },
         {
          "displacement": 8.116037368774414,
          "mol_index": 130,
          "rotation": 2.576812982559204,
          "time": 547490000
         },
         {
          "displacement": 8.102962493896484,
          "mol_index": 130,
          "rotation": 2.587226629257202,
          "time": 548490000
         },
         {
          "displacement": 7.927614212036133,
          "mol_index": 130,
          "rotation": 2.5768041610717773,
          "time": 549490000
         },
         {
          "displacement": 7.7793803215026855,
          "mol_index": 130,
          "rotation": 2.607247829437256,
          "time": 550490000
         },
         {
          "displacement": 7.592245101928711,
          "mol_index": 130,
          "rotation": 2.6573760509490967,
          "time": 551490000
         },
         {
          "displacement": 7.577888488769531,
          "mol_index": 130,
          "rotation": 2.6532888412475586,
          "time": 552490000
         },
         {
          "displacement": 7.632782936096191,
          "mol_index": 130,
          "rotation": 2.6379473209381104,
          "time": 553490000
         },
         {
          "displacement": 7.926851272583008,
          "mol_index": 130,
          "rotation": 2.6943001747131348,
          "time": 554490000
         },
         {
          "displacement": 7.979518413543701,
          "mol_index": 130,
          "rotation": 2.0979583263397217,
          "time": 555490000
         },
         {
          "displacement": 8.11510181427002,
          "mol_index": 130,
          "rotation": 2.120743751525879,
          "time": 556490000
         },
         {
          "displacement": 8.182172775268555,
          "mol_index": 130,
          "rotation": 2.1764419078826904,
          "time": 557490000
         },
         {
          "displacement": 8.267322540283203,
          "mol_index": 130,
          "rotation": 2.2047030925750732,
          "time": 558490000
         },
         {
          "displacement": 8.36260986328125,
          "mol_index": 130,
          "rotation": 2.1558070182800293,
          "time": 559490000
         },
         {
          "displacement": 8.663517951965332,
          "mol_index": 130,
          "rotation": 2.2162108421325684,
          "time": 560490000
         },
         {
          "displacement": 8.985799789428711,
          "mol_index": 130,
          "rotation": 1.9827710390090942,
          "time": 561490000
         },
         {
          "displacement": 8.918505668640137,
          "mol_index": 130,
          "rotation": 2.0528507232666016,
          "time": 562490000
         },
         {
          "displacement": 8.954031944274902,
          "mol_index": 130,
          "rotation": 2.1704792976379395,
          "time": 563490000
         },
         {
          "displacement": 9.064001083374023,
          "mol_index": 130,
          "rotation": 2.110966444015503,
          "time": 564490000
         },
         {
          "displacement": 9.115790367126465,
          "mol_index": 130,
          "rotation": 2.139373540878296,
          "time": 565490000
         },
         {
          "displacement": 9.18643856048584,
          "mol_index": 130,
          "rotation": 2.1054680347442627,
          "time": 566490000
         },
         {
          "displacement": 9.186338424682617,
          "mol_index": 130,
          "rotation": 2.0724525451660156,
          "time": 567490000
         },
         {
          "displacement": 9.100157737731934,
          "mol_index": 130,
          "rotation": 2.0695974826812744,
          "time": 568490000
         },
         {
          "displacement": 9.02001667022705,
          "mol_index": 130,
          "rotation": 2.118772029876709,
          "time": 569490000
         },
         {
          "displacement": 8.89208698272705,
          "mol_index": 130,
          "rotation": 2.2173357009887695,
          "time": 570490000
         },
         {
          "displacement": 8.866914749145508,
          "mol_index": 130,
          "rotation": 2.4759726524353027,
          "time": 571490000
         },
         {
          "displacement": 8.961405754089355,
          "mol_index": 130,
          "rotation": 2.4701695442199707,
          "time": 572490000
         },
         {
          "displacement": 8.985620498657227,
          "mol_index": 130,
          "rotation": 2.199798583984375,
          "time": 573490000
         },
         {
          "displacement": 9.04186725616455,
          "mol_index": 130,
          "rotation": 2.1975231170654297,
          "time": 574490000
         },
         {
          "displacement": 10.142904281616211,
          "mol_index": 130,
          "rotation": 2.0394399166107178,
          "time": 575490000
         },
         {
          "displacement": 10.063240051269531,
          "mol_index": 130,
          "rotation": 1.7499699592590332,
          "time": 576490000
         },
         {
          "displacement": 10.183764457702637,
          "mol_index": 130,
          "rotation": 1.6663799285888672,
          "time": 577490000
         },
         {
          "displacement": 10.242050170898438,
          "mol_index": 130,
          "rotation": 1.5914433002471924,
          "time": 578490000
         },
         {
          "displacement": 10.578673362731934,
          "mol_index": 130,
          "rotation": 1.5839070081710815,
          "time": 579490000
         },
         {
          "displacement": 10.55576229095459,
          "mol_index": 130,
          "rotation": 1.621128797531128,
          "time": 580490000
         },
         {
          "displacement": 10.401299476623535,
          "mol_index": 130,
          "rotation": 1.7529149055480957,
          "time": 581490000
         },
         {
          "displacement": 10.411628723144531,
          "mol_index": 130,
          "rotation": 1.7650387287139893,
          "time": 582490000
         },
         {
          "displacement": 10.46803092956543,
          "mol_index": 130,
          "rotation": 1.75730562210083,
          "time": 583490000
         },
         {
          "displacement": 9.92419719696045,
          "mol_index": 130,
          "rotation": 2.748596668243408,
          "time": 584490000
         },
         {
          "displacement": 9.825960159301758,
          "mol_index": 130,
          "rotation": 2.5793862342834473,
          "time": 585490000
         },
         {
          "displacement": 9.871233940124512,
          "mol_index": 130,
          "rotation": 2.5686440467834473,
          "time": 586490000
         },
         {
          "displacement": 9.358829498291016,
          "mol_index": 130,
          "rotation": 2.484238862991333,
          "time": 587490000
         },
         {
          "displacement": 9.434453964233398,
          "mol_index": 130,
          "rotation": 2.556798219680786,
          "time": 588490000
         },
         {
          "displacement": 9.200675010681152,
          "mol_index": 130,
          "rotation": 2.4546573162078857,
          "time": 589490000
         },
         {
          "displacement": 9.09556770324707,
          "mol_index": 130,
          "rotation": 2.1726741790771484,
          "time": 590490000
         },
         {
          "displacement": 9.012983322143555,
          "mol_index": 130,
          "rotation": 2.247396945953369,
          "time": 591490000
         },
         {
          "displacement": 9.24709415435791,
          "mol_index": 130,
          "rotation": 1.743162989616394,
          "time": 592490000
         },
         {
          "displacement": 9.701437950134277,
          "mol_index": 130,
          "rotation": 0.6639041304588318,
          "time": 593490000
         },
         {
          "displacement": 9.763749122619629,
          "mol_index": 130,
          "rotation": 0.6255009770393372,
          "time": 594490000
         },
         {
          "displacement": 9.668472290039062,
          "mol_index": 130,
          "rotation": 0.7376508116722107,
          "time": 595490000
         },
         {
          "displacement": 9.773740768432617,
          "mol_index": 130,
          "rotation": 1.3533717393875122,
          "time": 596490000
         },
         {
          "displacement": 9.785205841064453,
          "mol_index": 130,
          "rotation": 1.3760143518447876,
          "time": 597490000
         },
         {
          "displacement": 9.806455612182617,
          "mol_index": 130,
          "rotation": 1.343858242034912,
          "time": 598490000
         },
         {
          "displacement": 9.973601341247559,
          "mol_index": 130,
          "rotation": 1.328924536705017,
          "time": 599490000
         },
         {
          "displacement": 10.147721290588379,
          "mol_index": 130,
          "rotation": 1.3840430974960327,
          "time": 600490000
         },
         {
          "displacement": 9.81130599975586,
          "mol_index": 130,
          "rotation": 0.9524834752082825,
          "time": 601490000
         },
         {
          "displacement": 9.287883758544922,
          "mol_index": 130,
          "rotation": 0.37267741560935974,
          "time": 602490000
         },
         {
          "displacement": 9.232522964477539,
          "mol_index": 130,
          "rotation": 1.593289852142334,
          "time": 603490000
         },
         {
          "displacement": 9.04488468170166,
          "mol_index": 130,
          "rotation": 2.0626983642578125,
          "time": 604490000
         },
         {
          "displacement": 9.146257400512695,
          "mol_index": 130,
          "rotation": 1.2795839309692383,
          "time": 605490000
         },
         {
          "displacement": 10.17630386352539,
          "mol_index": 130,
          "rotation": 1.3810343742370605,
          "time": 606490000
         },
         {
          "displacement": 10.095773696899414,
          "mol_index": 130,
          "rotation": 2.480842351913452,
          "time": 607490000
         },
         {
          "displacement": 10.622103691101074,
          "mol_index": 130,
          "rotation": 2.085402488708496,
          "time": 608490000
         },
         {
          "displacement": 10.827693939208984,
          "mol_index": 130,
          "rotation": 1.957829475402832,
          "time": 609490000
         },
         {
          "displacement": 10.79347038269043,
          "mol_index": 130,
          "rotation": 1.9625004529953003,
          "time": 610490000
         },
         {
          "displacement": 10.918574333190918,
          "mol_index": 130,
          "rotation": 0.9190514087677002,
          "time": 611490000
         },
         {
          "displacement": 11.86019515991211,
          "mol_index": 130,
          "rotation": 0.7701705694198608,
          "time": 612490000
         },
         {
          "displacement": 12.893550872802734,
          "mol_index": 130,
          "rotation": 1.4534878730773926,
          "time": 613490000
         },
         {
          "displacement": 12.976899147033691,
          "mol_index": 130,
          "rotation": 1.314536213874817,
          "time": 614490000
         },
         {
          "displacement": 13.048218727111816,
          "mol_index": 130,
          "rotation": 1.3000825643539429,
          "time": 615490000
         },
         {
          "displacement": 13.085991859436035,
          "mol_index": 130,
          "rotation": 1.3022160530090332,
          "time": 616490000
         },
         {
          "displacement": 12.918561935424805,
          "mol_index": 130,
          "rotation": 1.5389617681503296,
          "time": 617490000
         },
         {
          "displacement": 12.845846176147461,
          "mol_index": 130,
          "rotation": 2.972390651702881,
          "time": 618490000
         },
         {
          "displacement": 12.963714599609375,
          "mol_index": 130,
          "rotation": 2.993114948272705,
          "time": 619490000
         },
         {
          "displacement": 12.626858711242676,
          "mol_index": 130,
          "rotation": 2.616485118865967,
          "time": 620490000
         },
         {
          "displacement": 12.995141983032227,
          "mol_index": 130,
          "rotation": 2.5471246242523193,
          "time": 621490000
         },
         {
          "displacement": 13.361294746398926,
          "mol_index": 130,
          "rotation": 2.3656063079833984,
          "time": 622490000
         },
         {
          "displacement": 13.271666526794434,
          "mol_index": 130,
          "rotation": 2.1688148975372314,
          "time": 623490000
         },
         {
          "displacement": 13.239409446716309,
          "mol_index": 130,
          "rotation": 2.1496646404266357,
          "time": 624490000
         },
         {
          "displacement": 13.051746368408203,
          "mol_index": 130,
          "rotation": 2.3192145824432373,
          "time": 625490000
         },
         {
          "displacement": 13.485506057739258,
          "mol_index": 130,
          "rotation": 2.159050226211548,
          "time": 626490000
         },
         {
          "displacement": 13.675660133361816,
          "mol_index": 130,
          "rotation": 2.1801576614379883,
          "time": 627490000
         },
         {
          "displacement": 13.519247055053711,
          "mol_index": 130,
          "rotation": 2.1810760498046875,
          "time": 628490000
         },
         {
          "displacement": 13.608806610107422,
          "mol_index": 130,
          "rotation": 2.158284902572632,
          "time": 629490000
         },
         {
          "displacement": 13.386995315551758,
          "mol_index": 130,
          "rotation": 2.1510655879974365,
          "time": 630490000
         },
         {
          "displacement": 13.359726905822754,
          "mol_index": 130,
          "rotation": 2.1166586875915527,
          "time": 631490000
         },
         {
          "displacement": 13.513216972351074,
          "mol_index": 130,
          "rotation": 2.0037131309509277,
          "time": 632490000
         },
         {
          "displacement": 13.342550277709961,
          "mol_index": 130,
          "rotation": 2.0205862522125244,
          "time": 633490000
         },
         {
          "displacement": 13.175726890563965,
          "mol_index": 130,
          "rotation": 1.992908000946045,
          "time": 634490000
         },
         {
          "displacement": 13.111520767211914,
          "mol_index": 130,
          "rotation": 2.020324230194092,
          "time": 635490000
         },
         {
          "displacement": 13.149614334106445,
          "mol_index": 130,
          "rotation": 1.9002251625061035,
          "time": 636490000
         },
         {
          "displacement": 13.216582298278809,
          "mol_index": 130,
          "rotation": 1.7079616785049438,
          "time": 637490000
         },
         {
          "displacement": 13.032608985900879,
          "mol_index": 130,
          "rotation": 1.7885771989822388,
          "time": 638490000
         },
         {
          "displacement": 12.778014183044434,
          "mol_index": 130,
          "rotation": 1.7652177810668945,
          "time": 639490000
         },
         {
          "displacement": 12.745150566101074,
          "mol_index": 130,
          "rotation": 1.7210389375686646,
          "time": 640490000
         },
         {
          "displacement": 12.750909805297852,
          "mol_index": 130,
          "rotation": 1.7550734281539917,
          "time": 641490000
         },
         {
          "displacement": 12.834793090820312,
          "mol_index": 130,
          "rotation": 1.751835584640503,
          "time": 642490000
         },
         {
          "displacement": 12.815017700195312,
          "mol_index": 130,
          "rotation": 1.7671514749526978,
          "time": 643490000
         },
         {
          "displacement": 12.7612886428833,
          "mol_index": 130,
          "rotation": 1.7408907413482666,
          "time": 644490000
         },
         {
          "displacement": 12.69913387298584,
          "mol_index": 130,
          "rotation": 1.7768754959106445,
          "time": 645490000
         },
         {
          "displacement": 12.627421379089355,
          "mol_index": 130,
          "rotation": 1.8997409343719482,
          "time": 646490000
         },
         {
          "displacement": 12.670138359069824,
          "mol_index": 130,
          "rotation": 1.9117684364318848,
          "time": 647490000
         },
         {
          "displacement": 12.787246704101562,
          "mol_index": 130,
          "rotation": 1.7849195003509521,
          "time": 648490000
         },
         {
          "displacement": 13.047524452209473,
          "mol_index": 130,
          "rotation": 1.8113113641738892,
          "time": 649490000
         },
         {
          "displacement": 13.979904174804688,
          "mol_index": 130,
          "rotation": 2.0735037326812744,
          "time": 650490000
         },
         {
          "displacement": 14.235179901123047,
          "mol_index": 130,
          "rotation": 1.9671730995178223,
          "time": 651490000
         },
         {
          "displacement": 14.258435249328613,
          "mol_index": 130,
          "rotation": 1.9579507112503052,
          "time": 652490000
         },
         {
          "displacement": 14.352787971496582,
          "mol_index": 130,
          "rotation": 1.923203706741333,
          "time": 653490000
         },
         {
          "displacement": 14.303301811218262,
          "mol_index": 130,
          "rotation": 2.135753631591797,
          "time": 654490000
         },
         {
          "displacement": 14.560251235961914,
          "mol_index": 130,
          "rotation": 2.1439452171325684,
          "time": 655490000
         },
         {
          "displacement": 14.36166000366211,
          "mol_index": 130,
          "rotation": 2.161811351776123,
          "time": 656490000
         },
         {
          "displacement": 14.294923782348633,
          "mol_index": 130,
          "rotation": 2.1349756717681885,
          "time": 657490000
         },
         {
          "displacement": 14.338112831115723,
          "mol_index": 130,
          "rotation": 2.1479389667510986,
          "time": 658490000
         },
         {
          "displacement": 14.249261856079102,
          "mol_index": 130,
          "rotation": 2.1479711532592773,
          "time": 659490000
         },
         {
          "displacement": 14.129180908203125,
          "mol_index": 130,
          "rotation": 2.1477744579315186,
          "time": 660490000
         },
         {
          "displacement": 14.111042022705078,
          "mol_index": 130,
          "rotation": 2.1068942546844482,
          "time": 661490000
         },
         {
          "displacement": 14.161465644836426,
          "mol_index": 130,
          "rotation": 2.006073474884033,
          "time": 662490000
         },
         {
          "displacement": 14.315828323364258,
          "mol_index": 130,
          "rotation": 1.8029452562332153,
          "time": 663490000
         },
         {
          "displacement": 14.398334503173828,
          "mol_index": 130,
          "rotation": 1.503757357597351,
          "time": 664490000
         },
         {
          "displacement": 12.600881576538086,
          "mol_index": 130,
          "rotation": 1.7438609600067139,
          "time": 665490000
         },
         {
          "displacement": 13.174736976623535,
          "mol_index": 130,
          "rotation": 0.9286768436431885,
          "time": 666490000
         },
         {
          "displacement": 13.108907699584961,
          "mol_index": 130,
          "rotation": 0.9093000292778015,
          "time": 667490000
         },
         {
          "displacement": 12.941909790039062,
          "mol_index": 130,
          "rotation": 1.0742316246032715,
          "time": 668490000
         },
         {
          "displacement": 12.607420921325684,
          "mol_index": 130,
          "rotation": 1.1841763257980347,
          "time": 669490000
         },
         {
          "displacement": 12.347783088684082,
          "mol_index": 130,
          "rotation": 1.2511588335037231,
          "time": 670490000
         },
         {
          "displacement": 12.530779838562012,
          "mol_index": 130,
          "rotation": 1.2821998596191406,
          "time": 671490000
         },
         {
          "displacement": 12.219767570495605,
          "mol_index": 130,
          "rotation": 0.8526875972747803,
          "time": 672490000
         },
         {
          "displacement": 12.165778160095215,
          "mol_index": 130,
          "rotation": 0.550862729549408,
          "time": 673490000
         },
         {
          "displacement": 12.81578254699707,
          "mol_index": 130,
          "rotation": 0.9648223519325256,
          "time": 674490000
         },
         {
          "displacement": 13.114717483520508,
          "mol_index": 130,
          "rotation": 1.1090747117996216,
          "time": 675490000
         },
         {
          "displacement": 13.160974502563477,
          "mol_index": 130,
          "rotation": 0.2799323499202728,
          "time": 676490000
         },
         {
          "displacement": 13.567939758300781,
          "mol_index": 130,
          "rotation": 0.1297447681427002,
          "time": 677490000
         },
         {
          "displacement": 13.412027359008789,
          "mol_index": 130,
          "rotation": 0.2253262996673584,
          "time": 678490000
         },
         {
          "displacement": 13.217079162597656,
          "mol_index": 130,
          "rotation": 0.7872179746627808,
          "time": 679490000
         },
         {
          "displacement": 13.504668235778809,
          "mol_index": 130,
          "rotation": 2.1918485164642334,
          "time": 680490000
         },
         {
          "displacement": 13.689298629760742,
          "mol_index": 130,
          "rotation": 2.378537654876709,
          "time": 681490000
         },
         {
          "displacement": 13.768850326538086,
          "mol_index": 130,
          "rotation": 2.8052284717559814,
          "time": 682490000
         },
         {
          "displacement": 13.225939750671387,
          "mol_index": 130,
          "rotation": 2.725017786026001,
          "time": 683490000
         },
         {
          "displacement": 13.179959297180176,
          "mol_index": 130,
          "rotation": 2.768587589263916,
          "time": 684490000
         },
         {
          "displacement": 13.219095230102539,
          "mol_index": 130,
          "rotation": 2.9306018352508545,
          "time": 685490000
         },
         {
          "displacement": 13.22154426574707,
          "mol_index": 130,
          "rotation": 2.9971587657928467,
          "time": 686490000
         },
         {
          "displacement": 13.232053756713867,
          "mol_index": 130,
          "rotation": 2.928596019744873,
          "time": 687490000
         },
         {
          "displacement": 13.209756851196289,
          "mol_index": 130,
          "rotation": 2.8415145874023438,
          "time": 688490000
         },
         {
          "displacement": 12.962117195129395,
          "mol_index": 130,
          "rotation": 2.579747200012207,
          "time": 689490000
         },
         {
          "displacement": 12.880351066589355,
          "mol_index": 130,
          "rotation": 2.7686877250671387,
          "time": 690490000
         },
         {
          "displacement": 12.87182903289795,
          "mol_index": 130,
          "rotation": 2.7802226543426514,
          "time": 691490000
         },
         {
          "displacement": 12.852595329284668,
          "mol_index": 130,
          "rotation": 2.8306472301483154,
          "time": 692490000
         },
         {
          "displacement": 12.862007141113281,
          "mol_index": 130,
          "rotation": 2.4445817470550537,
          "time": 693490000
         },
         {
          "displacement": 12.747440338134766,
          "mol_index": 130,
          "rotation": 2.286243200302124,
          "time": 694490000
         },
         {
          "displacement": 12.69137954711914,
          "mol_index": 130,
          "rotation": 2.0445022583007812,
          "time": 695490000
         },
         {
          "displacement": 12.507464408874512,
          "mol_index": 130,
          "rotation": 2.2652125358581543,
          "time": 696490000
         },
         {
          "displacement": 12.44819164276123,
          "mol_index": 130,
          "rotation": 2.2433407306671143,
          "time": 697490000
         },
         {
          "displacement": 12.53744888305664,
          "mol_index": 130,
          "rotation": 2.12357759475708,
          "time": 698490000
         },
         {
          "displacement": 12.288122177124023,
          "mol_index": 130,
          "rotation": 2.3096258640289307,
          "time": 699490000
         },
         {
          "displacement": 12.631648063659668,
          "mol_index": 130,
          "rotation": 2.1117048263549805,
          "time": 700490000
         },
         {
          "displacement": 12.707259178161621,
          "mol_index": 130,
          "rotation": 2.0839486122131348,
          "time": 701490000
         },
         {
          "displacement": 12.578768730163574,
          "mol_index": 130,
          "rotation": 2.092440366744995,
          "time": 702490000
         },
         {
          "displacement": 12.448894500732422,
          "mol_index": 130,
          "rotation": 2.235462188720703,
          "time": 703490000
         },
         {
          "displacement": 12.336560249328613,
          "mol_index": 130,
          "rotation": 2.8815760612487793,
          "time": 704490000
         },
         {
          "displacement": 12.437346458435059,
          "mol_index": 130,
          "rotation": 2.5791406631469727,
          "time": 705490000
         },
         {
          "displacement": 12.718132019042969,
          "mol_index": 130,
          "rotation": 2.157752513885498,
          "time": 706490000
         },
         {
          "displacement": 12.313362121582031,
          "mol_index": 130,
          "rotation": 2.537362813949585,
          "time": 707490000
         },
         {
          "displacement": 12.401055335998535,
          "mol_index": 130,
          "rotation": 0.26676464080810547,
          "time": 708490000
         },
         {
          "displacement": 12.400721549987793,
          "mol_index": 130,
          "rotation": 0.8762513399124146,
          "time": 709490000
         },
         {
          "displacement": 12.467637062072754,
          "mol_index": 130,
          "rotation": 0.8070404529571533,
          "time": 710490000
         },
         {
          "displacement": 12.422819137573242,
          "mol_index": 130,
          "rotation": 0.9108418822288513,
          "time": 711490000
         },
         {
          "displacement": 12.508729934692383,
          "mol_index": 130,
          "rotation": 0.8529481291770935,
          "time": 712490000
         },
         {
          "displacement": 12.386523246765137,
          "mol_index": 130,
          "rotation": 0.7470343708992004,
          "time": 713490000
         },
         {
          "displacement": 12.561933517456055,
          "mol_index": 130,
          "rotation": 0.7786164879798889,
          "time": 714490000
         },
         {
          "displacement": 12.986738204956055,
          "mol_index": 130,
          "rotation": 0.5846239328384399,
          "time": 715490000
         },
         {
          "displacement": 13.214838027954102,
          "mol_index": 130,
          "rotation": 0.5568437576293945,
          "time": 716490000
         },
         {
          "displacement": 13.228723526000977,
          "mol_index": 130,
          "rotation": 0.5723411440849304,
          "time": 717490000
         },
         {
          "displacement": 13.502996444702148,
          "mol_index": 130,
          "rotation": 0.5744501352310181,
          "time": 718490000
         },
         {
          "displacement": 13.283613204956055,
          "mol_index": 130,
          "rotation": 0.558157205581665,
          "time": 719490000
         },
         {
          "displacement": 13.654191017150879,
          "mol_index": 130,
          "rotation": 0.16697172820568085,
          "time": 720490000
         },
         {
          "displacement": 13.678020477294922,
          "mol_index": 130,
          "rotation": 0.14540603756904602,
          "time": 721490000
         },
         {
          "displacement": 13.529295921325684,
          "mol_index": 130,
          "rotation": 0.06613048911094666,
          "time": 722490000
         },
         {
          "displacement": 13.055244445800781,
          "mol_index": 130,
          "rotation": 0.7295083403587341,
          "time": 723490000
         },
         {
          "displacement": 13.363031387329102,
          "mol_index": 130,
          "rotation": 1.6662406921386719,
          "time": 724490000
         },
         {
          "displacement": 13.381858825683594,
          "mol_index": 130,
          "rotation": 1.698669195175171,
          "time": 725490000
         },
         {
          "displacement": 14.050175666809082,
          "mol_index": 130,
          "rotation": 1.7711988687515259,
          "time": 726490000
         },
         {
          "displacement": 14.28807544708252,
          "mol_index": 130,
          "rotation": 1.306830883026123,
          "time": 727490000
         },
         {
          "displacement": 14.236475944519043,
          "mol_index": 130,
          "rotation": 0.9295313358306885,
          "time": 728490000
         },
         {
          "displacement": 14.112632751464844,
          "mol_index": 130,
          "rotation": 1.59781813621521,
          "time": 729490000
         },
         {
          "displacement": 14.095365524291992,
          "mol_index": 130,
          "rotation": 1.6548422574996948,
          "time": 730490000
         },
         {
          "displacement": 14.39734935760498,
          "mol_index": 130,
          "rotation": 1.626327395439148,
          "time": 731490000
         },
         {
          "displacement": 14.402059555053711,
          "mol_index": 130,
          "rotation": 1.6274691820144653,
          "time": 732490000
         },
         {
          "displacement": 14.300739288330078,
          "mol_index": 130,
          "rotation": 1.6260632276535034,
          "time": 733490000
         },
         {
          "displacement": 14.2673978805542,
          "mol_index": 130,
          "rotation": 1.6213864088058472,
          "time": 734490000
         },
         {
          "displacement": 14.17802619934082,
          "mol_index": 130,
          "rotation": 1.657533049583435,
          "time": 735490000
         },
         {
          "displacement": 14.10287094116211,
          "mol_index": 130,
          "rotation": 1.6045746803283691,
          "time": 736490000
         },
         {
          "displacement": 14.2941255569458,
          "mol_index": 130,
          "rotation": 1.6107145547866821,
          "time": 737490000
         },
         {
          "displacement": 14.257102966308594,
          "mol_index": 130,
          "rotation": 1.6817342042922974,
          "time": 738490000
         },
         {
          "displacement": 14.26679801940918,
          "mol_index": 130,
          "rotation": 1.678159475326538,
          "time": 739490000
         },
         {
          "displacement": 14.322061538696289,
          "mol_index": 130,
          "rotation": 1.6329818964004517,
          "time": 740490000
         },
         {
          "displacement": 14.350289344787598,
          "mol_index": 130,
          "rotation": 1.6403110027313232,
          "time": 741490000
         },
         {
          "displacement": 14.46302604675293,
          "mol_index": 130,
          "rotation": 1.6209906339645386,
          "time": 742490000
         },
         {
          "displacement": 14.55660343170166,
          "mol_index": 130,
          "rotation": 1.6186349391937256,
          "time": 743490000
         },
         {
          "displacement": 14.517827033996582,
          "mol_index": 130,
          "rotation": 1.6150332689285278,
          "time": 744490000
         },
         {
          "displacement": 14.569748878479004,
          "mol_index": 130,
          "rotation": 2.0677127838134766,
          "time": 745490000
         },
         {
          "displacement": 14.332908630371094,
          "mol_index": 130,
          "rotation": 2.010340452194214,
          "time": 746490000
         },
         {
          "displacement": 14.530903816223145,
          "mol_index": 130,
          "rotation": 1.636423945426941,
          "time": 747490000
         },
         {
          "displacement": 14.554905891418457,
          "mol_index": 130,
          "rotation": 1.7986023426055908,
          "time": 748490000
         },
         {
          "displacement": 14.557782173156738,
          "mol_index": 130,
          "rotation": 1.3100578784942627,
          "time": 749490000
         },
         {
          "displacement": 14.703856468200684,
          "mol_index": 130,
          "rotation": 1.258173942565918,
          "time": 750490000
         },
         {
          "displacement": 14.967325210571289,
          "mol_index": 130,
          "rotation": 1.583814263343811,
          "time": 751490000
         },
         {
          "displacement": 15.266988754272461,
          "mol_index": 130,
          "rotation": 1.1778463125228882,
          "time": 752490000
         },
         {
          "displacement": 15.29036808013916,
          "mol_index": 130,
          "rotation": 1.2235617637634277,
          "time": 753490000
         },
         {
          "displacement": 15.237393379211426,
          "mol_index": 130,
          "rotation": 1.1226494312286377,
          "time": 754490000
         },
         {
          "displacement": 15.23854923248291,
          "mol_index": 130,
          "rotation": 1.144761323928833,
          "time": 755490000
         },
         {
          "displacement": 15.281468391418457,
          "mol_index": 130,
          "rotation": 1.2109013795852661,
          "time": 756490000
         },
         {
          "displacement": 15.23241138458252,
          "mol_index": 130,
          "rotation": 1.2081148624420166,
          "time": 757490000
         },
         {
          "displacement": 15.352813720703125,
          "mol_index": 130,
          "rotation": 1.1034680604934692,
          "time": 758490000
         },
         {
          "displacement": 15.503335952758789,
          "mol_index": 130,
          "rotation": 1.1150842905044556,
          "time": 759490000
         },
         {
          "displacement": 15.687983512878418,
          "mol_index": 130,
          "rotation": 1.0885695219039917,
          "time": 760490000
         },
         {
          "displacement": 15.639097213745117,
          "mol_index": 130,
          "rotation": 1.1092792749404907,
          "time": 761490000
         },
         {
          "displacement": 15.397988319396973,
          "mol_index": 130,
          "rotation": 1.0614467859268188,
          "time": 762490000
         },
         {
          "displacement": 15.294611930847168,
          "mol_index": 130,
          "rotation": 1.0657235383987427,
          "time": 763490000
         },
         {
          "displacement": 15.230669975280762,
          "mol_index": 130,
          "rotation": 1.1188418865203857,
          "time": 764490000
         },
         {
          "displacement": 15.263304710388184,
          "mol_index": 130,
          "rotation": 1.1541630029678345,
          "time": 765490000
         },
         {
          "displacement": 14.865913391113281,
          "mol_index": 130,
          "rotation": 1.7775765657424927,
          "time": 766490000
         },
         {
          "displacement": 14.537971496582031,
          "mol_index": 130,
          "rotation": 1.7878473997116089,
          "time": 767490000
         },
         {
          "displacement": 14.354799270629883,
          "mol_index": 130,
          "rotation": 1.8450504541397095,
          "time": 768490000
         },
         {
          "displacement": 14.297358512878418,
          "mol_index": 130,
          "rotation": 1.8415021896362305,
          "time": 769490000
         },
         {
          "displacement": 14.08271312713623,
          "mol_index": 130,
          "rotation": 1.8051490783691406,
          "time": 770490000
         },
         {
          "displacement": 14.023031234741211,
          "mol_index": 130,
          "rotation": 1.784972071647644,
          "time": 771490000
         },
         {
          "displacement": 14.052371978759766,
          "mol_index": 130,
          "rotation": 1.6163244247436523,
          "time": 772490000
         },
         {
          "displacement": 14.186919212341309,
          "mol_index": 130,
          "rotation": 1.7030375003814697,
          "time": 773490000
         },
         {
          "displacement": 14.064117431640625,
          "mol_index": 130,
          "rotation": 1.7062820196151733,
          "time": 774490000
         },
         {
          "displacement": 13.852487564086914,
          "mol_index": 130,
          "rotation": 1.3508681058883667,
          "time": 775490000
         },
         {
          "displacement": 13.890996932983398,
          "mol_index": 130,
          "rotation": 1.3568215370178223,
          "time": 776490000
         },
         {
          "displacement": 13.771354675292969,
          "mol_index": 130,
          "rotation": 1.280195951461792,
          "time": 777490000
         },
         {
          "displacement": 13.7655611038208,
          "mol_index": 130,
          "rotation": 1.303095817565918,
          "time": 778490000
         },
         {
          "displacement": 13.994436264038086,
          "mol_index": 130,
          "rotation": 1.1175163984298706,
          "time": 779490000
         },
         {
          "displacement": 14.275070190429688,
          "mol_index": 130,
          "rotation": 1.2137008905410767,
          "time": 780490000
         },
         {
          "displacement": 14.460969924926758,
          "mol_index": 130,
          "rotation": 1.3552213907241821,
          "time": 781490000
         },
         {
          "displacement": 14.536944389343262,
          "mol_index": 130,
          "rotation": 1.3610278367996216,
          "time": 782490000
         },
         {
          "displacement": 14.459362030029297,
          "mol_index": 130,
          "rotation": 1.271405577659607,
          "time": 783490000
         },
         {
          "displacement": 14.368212699890137,
          "mol_index": 130,
          "rotation": 1.2514322996139526,
          "time": 784490000
         },
         {
          "displacement": 14.438222885131836,
          "mol_index": 130,
          "rotation": 1.1151995658874512,
          "time": 785490000
         },
         {
          "displacement": 14.348540306091309,
          "mol_index": 130,
          "rotation": 1.3399494886398315,
          "time": 786490000
         },
         {
          "displacement": 14.419979095458984,
          "mol_index": 130,
          "rotation": 1.3373136520385742,
          "time": 787490000
         },
         {
          "displacement": 14.442755699157715,
          "mol_index": 130,
          "rotation": 1.262353539466858,
          "time": 788490000
         },
         {
          "displacement": 14.344600677490234,
          "mol_index": 130,
          "rotation": 1.413859486579895,
          "time": 789490000
         },
         {
          "displacement": 14.34982967376709,
          "mol_index": 130,
          "rotation": 1.3445849418640137,
          "time": 790490000
         },
         {
          "displacement": 13.552752494812012,
          "mol_index": 130,
          "rotation": 0.11735232174396515,
          "time": 791490000
         },
         {
          "displacement": 13.495404243469238,
          "mol_index": 130,
          "rotation": 0.056718677282333374,
          "time": 792490000
         },
         {
          "displacement": 13.393821716308594,
          "mol_index": 130,
          "rotation": 0.05689815431833267,
          "time": 793490000
         },
         {
          "displacement": 13.37634563446045,
          "mol_index": 130,
          "rotation": 0.060071974992752075,
          "time": 794490000
         },
         {
          "displacement": 13.123300552368164,
          "mol_index": 130,
          "rotation": 0.05114550143480301,
          "time": 795490000
         },
         {
          "displacement": 12.96853256225586,
          "mol_index": 130,
          "rotation": 0.06324224919080734,
          "time": 796490000
         },
         {
          "displacement": 12.941130638122559,
          "mol_index": 130,
          "rotation": 0.05622426047921181,
          "time": 797490000
         },
         {
          "displacement": 13.070223808288574,
          "mol_index": 130,
          "rotation": 0.06881509721279144,
          "time": 798490000
         },
         {
          "displacement": 12.958769798278809,
          "mol_index": 130,
          "rotation": 0.16453798115253448,
          "time": 799490000
         },
         {
          "displacement": 12.737235069274902,
          "mol_index": 130,
          "rotation": 0.5872893333435059,
          "time": 800490000
         },
         {
          "displacement": 11.956292152404785,
          "mol_index": 130,
          "rotation": 0.7302868366241455,
          "time": 801490000
         },
         {
          "displacement": 10.542899131774902,
          "mol_index": 130,
          "rotation": 0.43504050374031067,
          "time": 802490000
         },
         {
          "displacement": 9.613478660583496,
          "mol_index": 130,
          "rotation": 0.1361321061849594,
          "time": 803490000
         },
         {
          "displacement": 9.943036079406738,
          "mol_index": 130,
          "rotation": 0.1097862645983696,
          "time": 804490000
         },
         {
          "displacement": 9.830416679382324,
          "mol_index": 130,
          "rotation": 0.10198834538459778,
          "time": 805490000
         },
         {
          "displacement": 9.719099044799805,
          "mol_index": 130,
          "rotation": 0.09185341745615005,
          "time": 806490000
         },
         {
          "displacement": 10.002717971801758,
          "mol_index": 130,
          "rotation": 0.2132793664932251,
          "time": 807490000
         },
         {
          "displacement": 9.970787048339844,
          "mol_index": 130,
          "rotation": 0.35395869612693787,
          "time": 808490000
         },
         {
          "displacement": 10.976929664611816,
          "mol_index": 130,
          "rotation": 0.05559064447879791,
          "time": 809490000
         },
         {
          "displacement": 11.2138090133667,
          "mol_index": 130,
          "rotation": 0.043482206761837006,
          "time": 810490000
         },
         {
          "displacement": 11.641613960266113,
          "mol_index": 130,
          "rotation": 0.056661661714315414,
          "time": 811490000
         },
         {
          "displacement": 11.291718482971191,
          "mol_index": 130,
          "rotation": 0.11311406642198563,
          "time": 812490000
         },
         {
          "displacement": 10.992602348327637,
          "mol_index": 130,
          "rotation": 0.14478693902492523,
          "time": 813490000
         },
         {
          "displacement": 11.3711576461792,
          "mol_index": 130,
          "rotation": 0.1497059464454651,
          "time": 814490000
         },
         {
          "displacement": 11.352173805236816,
          "mol_index": 130,
          "rotation": 0.15056832134723663,
          "time": 815490000
         },
         {
          "displacement": 11.28123664855957,
          "mol_index": 130,
          "rotation": 0.16015788912773132,
          "time": 816490000
         },
         {
          "displacement": 11.194116592407227,
          "mol_index": 130,
          "rotation": 0.17349998652935028,
          "time": 817490000
         },
         {
          "displacement": 11.028314590454102,
          "mol_index": 130,
          "rotation": 0.1773085743188858,
          "time": 818490000
         },
         {
          "displacement": 11.123673439025879,
          "mol_index": 130,
          "rotation": 0.11889836192131042,
          "time": 819490000
         },
         {
          "displacement": 11.340980529785156,
          "mol_index": 130,
          "rotation": 0.2645185589790344,
          "time": 820490000
         },
         {
          "displacement": 11.497257232666016,
          "mol_index": 130,
          "rotation": 0.2989976108074188,
          "time": 821490000
         },
         {
          "displacement": 11.471109390258789,
          "mol_index": 130,
          "rotation": 0.27400198578834534,
          "time": 822490000
         },
         {
          "displacement": 11.625679969787598,
          "mol_index": 130,
          "rotation": 0.25385862588882446,
          "time": 823490000
         },
         {
          "displacement": 11.684039115905762,
          "mol_index": 130,
          "rotation": 0.2638200521469116,
          "time": 824490000
         },
         {
          "displacement": 11.6378173828125,
          "mol_index": 130,
          "rotation": 0.2998530864715576,
          "time": 825490000
         },
         {
          "displacement": 11.662063598632812,
          "mol_index": 130,
          "rotation": 0.37078118324279785,
          "time": 826490000
         },
         {
          "displacement": 11.36240291595459,
          "mol_index": 130,
          "rotation": 0.4890609681606293,
          "time": 827490000
         },
         {
          "displacement": 11.850936889648438,
          "mol_index": 130,
          "rotation": 0.8698469400405884,
          "time": 828490000
         },
         {
          "displacement": 10.6220121383667,
          "mol_index": 130,
          "rotation": 1.0161421298980713,
          "time": 829490000
         },
         {
          "displacement": 10.892861366271973,
          "mol_index": 130,
          "rotation": 1.2667081356048584,
          "time": 830490000
         },
         {
          "displacement": 10.793959617614746,
          "mol_index": 130,
          "rotation": 1.3491631746292114,
          "time": 831490000
         },
         {
          "displacement": 10.83181381225586,
          "mol_index": 130,
          "rotation": 1.164379358291626,
          "time": 832490000
         },
         {
          "displacement": 10.969066619873047,
          "mol_index": 130,
          "rotation": 1.5938299894332886,
          "time": 833490000
         },
         {
          "displacement": 10.577744483947754,
          "mol_index": 130,
          "rotation": 1.5822029113769531,
          "time": 834490000
         },
         {
          "displacement": 10.81674575805664,
          "mol_index": 130,
          "rotation": 1.1882394552230835,
          "time": 835490000
         },
         {
          "displacement": 11.4918794631958,
          "mol_index": 130,
          "rotation": 1.3141452074050903,
          "time": 836490000
         },
         {
          "displacement": 11.359813690185547,
          "mol_index": 130,
          "rotation": 1.3252787590026855,
          "time": 837490000
         },
         {
          "displacement": 11.759297370910645,
          "mol_index": 130,
          "rotation": 1.480224609375,
          "time": 838490000
         },
         {
          "displacement": 11.664261817932129,
          "mol_index": 130,
          "rotation": 1.4728844165802002,
          "time": 839490000
         },
         {
          "displacement": 11.73802375793457,
          "mol_index": 130,
          "rotation": 1.473079800605774,
          "time": 840490000
         },
         {
          "displacement": 11.7810640335083,
          "mol_index": 130,
          "rotation": 1.4498631954193115,
          "time": 841490000
         },
         {
          "displacement": 11.95223617553711,
          "mol_index": 130,
          "rotation": 1.4654860496520996,
          "time": 842490000
         },
         {
          "displacement": 11.902753829956055,
          "mol_index": 130,
          "rotation": 1.426612377166748,
          "time": 843490000
         },
         {
          "displacement": 11.86587905883789,
          "mol_index": 130,
          "rotation": 1.382991075515747,
          "time": 844490000
         },
         {
          "displacement": 12.069412231445312,
          "mol_index": 130,
          "rotation": 1.3035202026367188,
          "time": 845490000
         },
         {
          "displacement": 12.212691307067871,
          "mol_index": 130,
          "rotation": 1.3266595602035522,
          "time": 846490000
         },
         {
          "displacement": 12.141990661621094,
          "mol_index": 130,
          "rotation": 1.2669525146484375,
          "time": 847490000
         },
         {
          "displacement": 11.983745574951172,
          "mol_index": 130,
          "rotation": 1.209436297416687,
          "time": 848490000
         },
         {
          "displacement": 11.980895042419434,
          "mol_index": 130,
          "rotation": 1.2276840209960938,
          "time": 849490000
         },
         {
          "displacement": 11.916426658630371,
          "mol_index": 130,
          "rotation": 1.2384783029556274,
          "time": 850490000
         },
         {
          "displacement": 11.792230606079102,
          "mol_index": 130,
          "rotation": 1.220873236656189,
          "time": 851490000
         },
         {
          "displacement": 11.909483909606934,
          "mol_index": 130,
          "rotation": 1.0554430484771729,
          "time": 852490000
         },
         {
          "displacement": 11.493243217468262,
          "mol_index": 130,
          "rotation": 1.2416481971740723,
          "time": 853490000
         },
         {
          "displacement": 11.039207458496094,
          "mol_index": 130,
          "rotation": 1.2740296125411987,
          "time": 854490000
         },
         {
          "displacement": 10.813427925109863,
          "mol_index": 130,
          "rotation": 1.031618595123291,
          "time": 855490000
         },
         {
          "displacement": 10.903315544128418,
          "mol_index": 130,
          "rotation": 1.1047388315200806,
          "time": 856490000
         },
         {
          "displacement": 10.865828514099121,
          "mol_index": 130,
          "rotation": 1.0645358562469482,
          "time": 857490000
         },
         {
          "displacement": 10.783981323242188,
          "mol_index": 130,
          "rotation": 1.055990219116211,
          "time": 858490000
         },
         {
          "displacement": 10.673044204711914,
          "mol_index": 130,
          "rotation": 1.0401678085327148,
          "time": 859490000
         },
         {
          "displacement": 10.633342742919922,
          "mol_index": 130,
          "rotation": 1.0605539083480835,
          "time": 860490000
         },
         {
          "displacement": 10.655621528625488,
          "mol_index": 130,
          "rotation": 1.057214379310608,
          "time": 861490000
         },
         {
          "displacement": 10.770912170410156,
          "mol_index": 130,
          "rotation": 1.414810061454773,
          "time": 862490000
         },
         {
          "displacement": 10.951088905334473,
          "mol_index": 130,
          "rotation": 1.198406457901001,
          "time": 863490000
         },
         {
          "displacement": 10.538444519042969,
          "mol_index": 130,
          "rotation": 1.6248440742492676,
          "time": 864490000
         },
         {
          "displacement": 10.312807083129883,
          "mol_index": 130,
          "rotation": 1.9581176042556763,
          "time": 865490000
         },
         {
          "displacement": 10.127608299255371,
          "mol_index": 130,
          "rotation": 1.9317998886108398,
          "time": 866490000
         },
         {
          "displacement": 9.931756973266602,
          "mol_index": 130,
          "rotation": 2.065324544906616,
          "time": 867490000
         },
         {
          "displacement": 9.944438934326172,
          "mol_index": 130,
          "rotation": 2.05717396736145,
          "time": 868490000
         },
         {
          "displacement": 10.074111938476562,
          "mol_index": 130,
          "rotation": 2.130502700805664,
          "time": 869490000
         },
         {
          "displacement": 10.890750885009766,
          "mol_index": 130,
          "rotation": 2.292908191680908,
          "time": 870490000
         },
         {
          "displacement": 11.301527976989746,
          "mol_index": 130,
          "rotation": 2.204211950302124,
          "time": 871490000
         },
         {
          "displacement": 11.25317096710205,
          "mol_index": 130,
          "rotation": 2.178145408630371,
          "time": 872490000
         },
         {
          "displacement": 11.590078353881836,
          "mol_index": 130,
          "rotation": 2.480562925338745,
          "time": 873490000
         },
         {
          "displacement": 12.284228324890137,
          "mol_index": 130,
          "rotation": 2.964754343032837,
          "time": 874490000
         },
         {
          "displacement": 12.485267639160156,
          "mol_index": 130,
          "rotation": 2.980689764022827,
          "time": 875490000
         },
         {
          "displacement": 12.430269241333008,
          "mol_index": 130,
          "rotation": 2.99910831451416,
          "time": 876490000
         },
         {
          "displacement": 12.586199760437012,
          "mol_index": 130,
          "rotation": 2.988440990447998,
          "time": 877490000
         },
         {
          "displacement": 12.560602188110352,
          "mol_index": 130,
          "rotation": 3.02167010307312,
          "time": 878490000
         },
         {
          "displacement": 12.503900527954102,
          "mol_index": 130,
          "rotation": 3.02714467048645,
          "time": 879490000
         },
         {
          "displacement": 12.500372886657715,
          "mol_index": 130,
          "rotation": 3.024848699569702,
          "time": 880490000
         },
         {
          "displacement": 12.60903263092041,
          "mol_index": 130,
          "rotation": 3.017244815826416,
          "time": 881490000
         },
         {
          "displacement": 12.699655532836914,
          "mol_index": 130,
          "rotation": 2.9956440925598145,
          "time": 882490000
         },
         {
          "displacement": 12.69355297088623,
          "mol_index": 130,
          "rotation": 2.991654634475708,
          "time": 883490000
         },
         {
          "displacement": 12.921488761901855,
          "mol_index": 130,
          "rotation": 3.023991823196411,
          "time": 884490000
         },
         {
          "displacement": 12.74757194519043,
          "mol_index": 130,
          "rotation": 2.9948675632476807,
          "time": 885490000
         },
         {
          "displacement": 12.920574188232422,
          "mol_index": 130,
          "rotation": 2.987332820892334,
          "time": 886490000
         },
         {
          "displacement": 13.07458782196045,
          "mol_index": 130,
          "rotation": 3.0143320560455322,
          "time": 887490000
         },
         {
          "displacement": 12.93675708770752,
          "mol_index": 130,
          "rotation": 2.9876866340637207,
          "time": 888490000
         },
         {
          "displacement": 13.146507263183594,
          "mol_index": 130,
          "rotation": 2.980236053466797,
          "time": 889490000
         },
         {
          "displacement": 13.196453094482422,
          "mol_index": 130,
          "rotation": 2.9719762802124023,
          "time": 890490000
         },
         {
          "displacement": 13.10770034790039,
          "mol_index": 130,
          "rotation": 2.987048864364624,
          "time": 891490000
         },
         {
          "displacement": 13.30221939086914,
          "mol_index": 130,
          "rotation": 2.9670913219451904,
          "time": 892490000
         },
         {
          "displacement": 13.326310157775879,
          "mol_index": 130,
          "rotation": 2.993196725845337,
          "time": 893490000
         },
         {
          "displacement": 13.326142311096191,
          "mol_index": 130,
          "rotation": 2.9768948554992676,
          "time": 894490000
         },
         {
          "displacement": 13.523924827575684,
          "mol_index": 130,
          "rotation": 2.986178398132324,
          "time": 895490000
         },
         {
          "displacement": 13.43527889251709,
          "mol_index": 130,
          "rotation": 2.9863126277923584,
          "time": 896490000
         },
         {
          "displacement": 13.462105751037598,
          "mol_index": 130,
          "rotation": 2.9908792972564697,
          "time": 897490000
         },
         {
          "displacement": 13.484878540039062,
          "mol_index": 130,
          "rotation": 2.9777450561523438,
          "time": 898490000
         },
         {
          "displacement": 13.452066421508789,
          "mol_index": 130,
          "rotation": 2.9950597286224365,
          "time": 899490000
         },
         {
          "displacement": 13.460036277770996,
          "mol_index": 130,
          "rotation": 2.9950742721557617,
          "time": 900490000
         },
         {
          "displacement": 13.40677261352539,
          "mol_index": 130,
          "rotation": 2.9812510013580322,
          "time": 901490000
         },
         {
          "displacement": 13.373635292053223,
          "mol_index": 130,
          "rotation": 2.991306781768799,
          "time": 902490000
         },
         {
          "displacement": 13.33469295501709,
          "mol_index": 130,
          "rotation": 3.0022666454315186,
          "time": 903490000
         },
         {
          "displacement": 13.368239402770996,
          "mol_index": 130,
          "rotation": 2.997400999069214,
          "time": 904490000
         },
         {
          "displacement": 13.35754108428955,
          "mol_index": 130,
          "rotation": 3.005213499069214,
          "time": 905490000
         },
         {
          "displacement": 13.339987754821777,
          "mol_index": 130,
          "rotation": 2.9977288246154785,
          "time": 906490000
         },
         {
          "displacement": 13.352683067321777,
          "mol_index": 130,
          "rotation": 3.0247654914855957,
          "time": 907490000
         },
         {
          "displacement": 13.300631523132324,
          "mol_index": 130,
          "rotation": 3.027001142501831,
          "time": 908490000
         },
         {
          "displacement": 13.249595642089844,
          "mol_index": 130,
          "rotation": 3.0141146183013916,
          "time": 909490000
         },
         {
          "displacement": 13.179864883422852,
          "mol_index": 130,
          "rotation": 2.997657537460327,
          "time": 910490000
         },
         {
          "displacement": 13.272627830505371,
          "mol_index": 130,
          "rotation": 3.0282375812530518,
          "time": 911490000
         },
         {
          "displacement": 13.226078987121582,
          "mol_index": 130,
          "rotation": 3.026432752609253,
          "time": 912490000
         },
         {
          "displacement": 13.181845664978027,
          "mol_index": 130,
          "rotation": 3.0337979793548584,
          "time": 913490000
         },
         {
          "displacement": 13.069059371948242,
          "mol_index": 130,
          "rotation": 3.039445400238037,
          "time": 914490000
         },
         {
          "displacement": 13.139846801757812,
          "mol_index": 130,
          "rotation": 3.0365006923675537,
          "time": 915490000
         },
         {
          "displacement": 13.258484840393066,
          "mol_index": 130,
          "rotation": 3.0403153896331787,
          "time": 916490000
         },
         {
          "displacement": 12.915997505187988,
          "mol_index": 130,
          "rotation": 3.0043013095855713,
          "time": 917490000
         },
         {
          "displacement": 12.7174654006958,
          "mol_index": 130,
          "rotation": 2.9588615894317627,
          "time": 918490000
         },
         {
          "displacement": 12.782811164855957,
          "mol_index": 130,
          "rotation": 2.9889774322509766,
          "time": 919490000
         },
         {
          "displacement": 13.011022567749023,
          "mol_index": 130,
          "rotation": 2.983875274658203,
          "time": 920490000
         },
         {
          "displacement": 12.996627807617188,
          "mol_index": 130,
          "rotation": 2.9701921939849854,
          "time": 921490000
         },
         {
          "displacement": 13.00510025024414,
          "mol_index": 130,
          "rotation": 2.985666275024414,
          "time": 922490000
         },
         {
          "displacement": 13.149799346923828,
          "mol_index": 130,
          "rotation": 2.961500644683838,
          "time": 923490000
         },
         {
          "displacement": 13.110875129699707,
          "mol_index": 130,
          "rotation": 2.981689691543579,
          "time": 924490000
         },
         {
          "displacement": 13.161255836486816,
          "mol_index": 130,
          "rotation": 3.0051333904266357,
          "time": 925490000
         },
         {
          "displacement": 13.142172813415527,
          "mol_index": 130,
          "rotation": 2.9931116104125977,
          "time": 926490000
         },
         {
          "displacement": 13.214960098266602,
          "mol_index": 130,
          "rotation": 2.959676742553711,
          "time": 927490000
         },
         {
          "displacement": 13.02685546875,
          "mol_index": 130,
          "rotation": 2.9258005619049072,
          "time": 928490000
         },
         {
          "displacement": 13.113351821899414,
          "mol_index": 130,
          "rotation": 2.9868643283843994,
          "time": 929490000
         },
         {
          "displacement": 13.114812850952148,
          "mol_index": 130,
          "rotation": 2.9911699295043945,
          "time": 930490000
         },
         {
          "displacement": 13.161718368530273,
          "mol_index": 130,
          "rotation": 2.9263360500335693,
          "time": 931490000
         },
         {
          "displacement": 13.266353607177734,
          "mol_index": 130,
          "rotation": 2.9560928344726562,
          "time": 932490000
         },
         {
          "displacement": 13.12534236907959,
          "mol_index": 130,
          "rotation": 2.9664535522460938,
          "time": 933490000
         },
         {
          "displacement": 13.089391708374023,
          "mol_index": 130,
          "rotation": 2.9714114665985107,
          "time": 934490000
         },
         {
          "displacement": 13.165555953979492,
          "mol_index": 130,
          "rotation": 2.9703760147094727,
          "time": 935490000
         },
         {
          "displacement": 13.32615852355957,
          "mol_index": 130,
          "rotation": 2.9528701305389404,
          "time": 936490000
         },
         {
          "displacement": 13.224550247192383,
          "mol_index": 130,
          "rotation": 2.8783297538757324,
          "time": 937490000
         },
         {
          "displacement": 13.460593223571777,
          "mol_index": 130,
          "rotation": 3.0940253734588623,
          "time": 938490000
         },
         {
          "displacement": 12.735067367553711,
          "mol_index": 130,
          "rotation": 2.9300553798675537,
          "time": 939490000
         },
         {
          "displacement": 12.595625877380371,
          "mol_index": 130,
          "rotation": 2.948496103286743,
          "time": 940490000
         },
         {
          "displacement": 12.805891990661621,
          "mol_index": 130,
          "rotation": 3.0294954776763916,
          "time": 941490000
         },
         {
          "displacement": 12.471426010131836,
          "mol_index": 130,
          "rotation": 3.0261831283569336,
          "time": 942490000
         },
         {
          "displacement": 11.976686477661133,
          "mol_index": 130,
          "rotation": 2.815156936645508,
          "time": 943490000
         },
         {
          "displacement": 11.830656051635742,
          "mol_index": 130,
          "rotation": 2.765976905822754,
          "time": 944490000
         },
         {
          "displacement": 11.880841255187988,
          "mol_index": 130,
          "rotation": 2.7604265213012695,
          "time": 945490000
         },
         {
          "displacement": 11.756292343139648,
          "mol_index": 130,
          "rotation": 2.708505153656006,
          "time": 946490000
         },
         {
          "displacement": 11.678458213806152,
          "mol_index": 130,
          "rotation": 2.5913188457489014,
          "time": 947490000
         },
         {
          "displacement": 10.547445297241211,
          "mol_index": 130,
          "rotation": 2.108736038208008,
          "time": 948490000
         },
         {
          "displacement": 10.590433120727539,
          "mol_index": 130,
          "rotation": 2.789463520050049,
          "time": 949490000
         },
         {
          "displacement": 10.557124137878418,
          "mol_index": 130,
          "rotation": 2.819911003112793,
          "time": 950490000
         },
         {
          "displacement": 10.655340194702148,
          "mol_index": 130,
          "rotation": 2.230144500732422,
          "time": 951490000
         },
         {
          "displacement": 10.517204284667969,
          "mol_index": 130,
          "rotation": 2.2286288738250732,
          "time": 952490000
         },
         {
          "displacement": 10.507109642028809,
          "mol_index": 130,
          "rotation": 2.2137036323547363,
          "time": 953490000
         },
         {
          "displacement": 10.291006088256836,
          "mol_index": 130,
          "rotation": 2.233029365539551,
          "time": 954490000
         },
         {
          "displacement": 10.367639541625977,
          "mol_index": 130,
          "rotation": 2.3619468212127686,
          "time": 955490000
         },
         {
          "displacement": 10.398760795593262,
          "mol_index": 130,
          "rotation": 2.737448215484619,
          "time": 956490000
         },
         {
          "displacement": 10.33575439453125,
          "mol_index": 130,
          "rotation": 2.9547507762908936,
          "time": 957490000
         },
         {
          "displacement": 10.419014930725098,
          "mol_index": 130,
          "rotation": 2.946335554122925,
          "time": 958490000
         },
         {
          "displacement": 10.204686164855957,
          "mol_index": 130,
          "rotation": 2.807492733001709,
          "time": 959490000
         },
         {
          "displacement": 10.38118839263916,
          "mol_index": 130,
          "rotation": 2.461299419403076,
          "time": 960490000
         },
         {
          "displacement": 10.343707084655762,
          "mol_index": 130,
          "rotation": 2.535418748855591,
          "time": 961490000
         },
         {
          "displacement": 10.234392166137695,
          "mol_index": 130,
          "rotation": 2.5131804943084717,
          "time": 962490000
         },
         {
          "displacement": 10.010900497436523,
          "mol_index": 130,
          "rotation": 2.6062731742858887,
          "time": 963490000
         },
         {
          "displacement": 10.062718391418457,
          "mol_index": 130,
          "rotation": 2.552025079727173,
          "time": 964490000
         },
         {
          "displacement": 10.020862579345703,
          "mol_index": 130,
          "rotation": 2.458625078201294,
          "time": 965490000
         },
         {
          "displacement": 10.233369827270508,
          "mol_index": 130,
          "rotation": 2.4543581008911133,
          "time": 966490000
         },
         {
          "displacement": 10.035290718078613,
          "mol_index": 130,
          "rotation": 2.450357437133789,
          "time": 967490000
         },
         {
          "displacement": 9.557482719421387,
          "mol_index": 130,
          "rotation": 2.462773084640503,
          "time": 968490000
         },
         {
          "displacement": 9.186580657958984,
          "mol_index": 130,
          "rotation": 2.4567811489105225,
          "time": 969490000
         },
         {
          "displacement": 9.283352851867676,
          "mol_index": 130,
          "rotation": 2.4602584838867188,
          "time": 970490000
         },
         {
          "displacement": 9.354430198669434,
          "mol_index": 130,
          "rotation": 2.459223747253418,
          "time": 971490000
         },
         {
          "displacement": 9.29529857635498,
          "mol_index": 130,
          "rotation": 2.4351460933685303,
          "time": 972490000
         },
         {
          "displacement": 9.436553955078125,
          "mol_index": 130,
          "rotation": 2.4275171756744385,
          "time": 973490000
         },
         {
          "displacement": 9.477274894714355,
          "mol_index": 130,
          "rotation": 2.435378313064575,
          "time": 974490000
         },
         {
          "displacement": 9.70571231842041,
          "mol_index": 130,
          "rotation": 2.433295726776123,
          "time": 975490000
         },
         {
          "displacement": 9.59980583190918,
          "mol_index": 130,
          "rotation": 2.415910005569458,
          "time": 976490000
         },
         {
          "displacement": 9.438284873962402,
          "mol_index": 130,
          "rotation": 2.4221463203430176,
          "time": 977490000
         },
         {
          "displacement": 9.43464469909668,
          "mol_index": 130,
          "rotation": 2.4218709468841553,
          "time": 978490000
         },
         {
          "displacement": 9.503540992736816,
          "mol_index": 130,
          "rotation": 2.4072659015655518,
          "time": 979490000
         },
         {
          "displacement": 9.44226360321045,
          "mol_index": 130,
          "rotation": 2.4051218032836914,
          "time": 980490000
         },
         {
          "displacement": 9.252174377441406,
          "mol_index": 130,
          "rotation": 2.393667697906494,
          "time": 981490000
         },
         {
          "displacement": 9.259636878967285,
          "mol_index": 130,
          "rotation": 2.4059159755706787,
          "time": 982490000
         },
         {
          "displacement": 8.950242042541504,
          "mol_index": 130,
          "rotation": 2.374326467514038,
          "time": 983490000
         },
         {
          "displacement": 8.73331356048584,
          "mol_index": 130,
          "rotation": 2.378382921218872,
          "time": 984490000
         },
         {
          "displacement": 8.167739868164062,
          "mol_index": 130,
          "rotation": 2.456542491912842,
          "time": 985490000
         },
         {
          "displacement": 8.378161430358887,
          "mol_index": 130,
          "rotation": 2.3839056491851807,
          "time": 986490000
         },
         {
          "displacement": 8.378847122192383,
          "mol_index": 130,
          "rotation": 2.530064105987549,
          "time": 987490000
         },
         {
          "displacement": 8.248664855957031,
          "mol_index": 130,
          "rotation": 2.5041658878326416,
          "time": 988490000
         },
         {
          "displacement": 8.207512855529785,
          "mol_index": 130,
          "rotation": 2.496331214904785,
          "time": 989490000
         },
         {
          "displacement": 8.158411026000977,
          "mol_index": 130,
          "rotation": 2.5020549297332764,
          "time": 990490000
         },
         {
          "displacement": 8.350183486938477,
          "mol_index": 130,
          "rotation": 2.5000417232513428,
          "time": 991490000
         },
         {
          "displacement": 8.533141136169434,
          "mol_index": 130,
          "rotation": 2.4889047145843506,
          "time": 992490000
         },
         {
          "displacement": 8.616968154907227,
          "mol_index": 130,
          "rotation": 2.4999942779541016,
          "time": 993490000
         },
         {
          "displacement": 8.608819007873535,
          "mol_index": 130,
          "rotation": 2.5053632259368896,
          "time": 994490000
         },
         {
          "displacement": 8.685434341430664,
          "mol_index": 130,
          "rotation": 2.499399185180664,
          "time": 995490000
         },
         {
          "displacement": 8.645570755004883,
          "mol_index": 130,
          "rotation": 2.535550355911255,
          "time": 996490000
         },
         {
          "displacement": 8.686620712280273,
          "mol_index": 130,
          "rotation": 2.4832711219787598,
          "time": 997490000
         },
         {
          "displacement": 8.875364303588867,
          "mol_index": 130,
          "rotation": 2.4721639156341553,
          "time": 998490000
         },
         {
          "displacement": 8.90462589263916,
          "mol_index": 130,
          "rotation": 2.477644681930542,
          "time": 999490000
         },
         {
          "displacement": 9.119101524353027,
          "mol_index": 130,
          "rotation": 2.406325578689575,
          "time": 1000000000
         },
         {
          "displacement": 0.3227602243423462,
          "mol_index": 140,
          "rotation": 0.24096950888633728,
          "time": 492377.5862068966
         },
         {
          "displacement": 0.5624737739562988,
          "mol_index": 140,
          "rotation": 0.2937355041503906,
          "time": 1492377.5862068965
         },
         {
          "displacement": 0.6642335057258606,
          "mol_index": 140,
          "rotation": 0.35315296053886414,
          "time": 2492377.5862068967
         },
         {
          "displacement": 0.40217962861061096,
          "mol_index": 140,
          "rotation": 0.4738335609436035,
          "time": 3492377.5862068967
         },
         {
          "displacement": 0.9331461191177368,
          "mol_index": 140,
          "rotation": 0.29635918140411377,
          "time": 4492377.586206896
         },
         {
          "displacement": 1.1376721858978271,
          "mol_index": 140,
          "rotation": 0.2785055339336395,
          "time": 5492377.586206896
         },
         {
          "displacement": 1.162269115447998,
          "mol_index": 140,
          "rotation": 0.35121139883995056,
          "time": 6492377.586206896
         },
         {
          "displacement": 1.1985394954681396,
          "mol_index": 140,
          "rotation": 0.37646207213401794,
          "time": 7492377.586206896
         },
         {
          "displacement": 1.3263989686965942,
          "mol_index": 140,
          "rotation": 0.3769899010658264,
          "time": 8492377.586206896
         },
         {
          "displacement": 1.3391025066375732,
          "mol_index": 140,
          "rotation": 0.3372829854488373,
          "time": 9492377.586206896
         },
         {
          "displacement": 0.8724822998046875,
          "mol_index": 140,
          "rotation": 0.1843920201063156,
          "time": 10300526.315789474
         },
         {
          "displacement": 0.3109830617904663,
          "mol_index": 140,
          "rotation": 0.07428956031799316,
          "time": 11490000
         },
         {
          "displacement": 0.29102033376693726,
          "mol_index": 140,
          "rotation": 0.04820120334625244,
          "time": 12490000
         },
         {
          "displacement": 0.43958383798599243,
          "mol_index": 140,
          "rotation": 0.10876084119081497,
          "time": 13490000
         },
         {
          "displacement": 0.6571793556213379,
          "mol_index": 140,
          "rotation": 0.8404943943023682,
          "time": 14490000
         },
         {
          "displacement": 0.6310763359069824,
          "mol_index": 140,
          "rotation": 1.0231215953826904,
          "time": 15490000
         },
         {
          "displacement": 0.3776549696922302,
          "mol_index": 140,
          "rotation": 0.9591737985610962,
          "time": 16490000
         },
         {
          "displacement": 0.4821242690086365,
          "mol_index": 140,
          "rotation": 0.9534704089164734,
          "time": 17490000
         },
         {
          "displacement": 0.29741352796554565,
          "mol_index": 140,
          "rotation": 0.9638380408287048,
          "time": 18490000
         },
         {
          "displacement": 0.28226378560066223,
          "mol_index": 140,
          "rotation": 0.9758166074752808,
          "time": 19490000
         },
         {
          "displacement": 0.20145149528980255,
          "mol_index": 140,
          "rotation": 0.9645388722419739,
          "time": 20490000
         },
         {
          "displacement": 0.2925991117954254,
          "mol_index": 140,
          "rotation": 0.9670229554176331,
          "time": 21490000
         },
         {
          "displacement": 0.4266711175441742,
          "mol_index": 140,
          "rotation": 0.6860581636428833,
          "time": 22490000
         },
         {
          "displacement": 0.4396466910839081,
          "mol_index": 140,
          "rotation": 0.20492753386497498,
          "time": 23490000
         },
         {
          "displacement": 0.4492362439632416,
          "mol_index": 140,
          "rotation": 0.2051170915365219,
          "time": 24490000
         },
         {
          "displacement": 0.3603105843067169,
          "mol_index": 140,
          "rotation": 0.18850699067115784,
          "time": 25490000
         },
         {
          "displacement": 0.4150639772415161,
          "mol_index": 140,
          "rotation": 0.22209592163562775,
          "time": 26490000
         },
         {
          "displacement": 0.47024914622306824,
          "mol_index": 140,
          "rotation": 0.2583320140838623,
          "time": 27490000
         },
         {
          "displacement": 0.9520777463912964,
          "mol_index": 140,
          "rotation": 0.3500538468360901,
          "time": 28490000
         },
         {
          "displacement": 1.1768614053726196,
          "mol_index": 140,
          "rotation": 0.35996806621551514,
          "time": 29490000
         },
         {
          "displacement": 1.1427613496780396,
          "mol_index": 140,
          "rotation": 0.37767159938812256,
          "time": 30490000
         },
         {
          "displacement": 1.07620370388031,
          "mol_index": 140,
          "rotation": 0.47946324944496155,
          "time": 31490000
         },
         {
          "displacement": 0.5205926895141602,
          "mol_index": 140,
          "rotation": 0.3759888708591461,
          "time": 32490000
         },
         {
          "displacement": 0.7053920030593872,
          "mol_index": 140,
          "rotation": 0.35882192850112915,
          "time": 33490000
         },
         {
          "displacement": 1.1621527671813965,
          "mol_index": 140,
          "rotation": 0.45070233941078186,
          "time": 34490000
         },
         {
          "displacement": 1.3739879131317139,
          "mol_index": 140,
          "rotation": 0.43405547738075256,
          "time": 35490000
         },
         {
          "displacement": 1.2208642959594727,
          "mol_index": 140,
          "rotation": 0.34989047050476074,
          "time": 36490000
         },
         {
          "displacement": 1.4521188735961914,
          "mol_index": 140,
          "rotation": 0.6289755702018738,
          "time": 37490000
         },
         {
          "displacement": 1.824536919593811,
          "mol_index": 140,
          "rotation": 1.090625524520874,
          "time": 38490000
         },
         {
          "displacement": 1.608163595199585,
          "mol_index": 140,
          "rotation": 1.0530097484588623,
          "time": 39490000
         },
         {
          "displacement": 1.7806828022003174,
          "mol_index": 140,
          "rotation": 1.0289030075073242,
          "time": 40490000
         },
         {
          "displacement": 1.5492609739303589,
          "mol_index": 140,
          "rotation": 0.9515812993049622,
          "time": 41490000
         },
         {
          "displacement": 2.2211878299713135,
          "mol_index": 140,
          "rotation": 0.7065600752830505,
          "time": 42490000
         },
         {
          "displacement": 2.047656536102295,
          "mol_index": 140,
          "rotation": 0.5563151836395264,
          "time": 43490000
         },
         {
          "displacement": 1.9817866086959839,
          "mol_index": 140,
          "rotation": 0.6439404487609863,
          "time": 44490000
         },
         {
          "displacement": 1.9869433641433716,
          "mol_index": 140,
          "rotation": 0.42820286750793457,
          "time": 45490000
         },
         {
          "displacement": 2.127509117126465,
          "mol_index": 140,
          "rotation": 0.48930996656417847,
          "time": 46490000
         },
         {
          "displacement": 2.0893993377685547,
          "mol_index": 140,
          "rotation": 0.5371306538581848,
          "time": 47490000
         },
         {
          "displacement": 2.223426342010498,
          "mol_index": 140,
          "rotation": 0.35209715366363525,
          "time": 48490000
         },
         {
          "displacement": 2.473600387573242,
          "mol_index": 140,
          "rotation": 0.26454412937164307,
          "time": 49490000
         },
         {
          "displacement": 3.056628704071045,
          "mol_index": 140,
          "rotation": 0.3039030432701111,
          "time": 50490000
         },
         {
          "displacement": 3.279463052749634,
          "mol_index": 140,
          "rotation": 0.3025987148284912,
          "time": 51490000
         },
         {
          "displacement": 3.412749767303467,
          "mol_index": 140,
          "rotation": 0.3266020715236664,
          "time": 52490000
         },
         {
          "displacement": 3.3506667613983154,
          "mol_index": 140,
          "rotation": 0.334417462348938,
          "time": 53490000
         },
         {
          "displacement": 3.3443541526794434,
          "mol_index": 140,
          "rotation": 0.3377867341041565,
          "time": 54490000
         },
         {
          "displacement": 3.609236001968384,
          "mol_index": 140,
          "rotation": 0.7070940732955933,
          "time": 55490000
         },
         {
          "displacement": 3.4713525772094727,
          "mol_index": 140,
          "rotation": 2.9213449954986572,
          "time": 56490000
         },
         {
          "displacement": 3.2687361240386963,
          "mol_index": 140,
          "rotation": 3.034212589263916,
          "time": 57490000
         },
         {
          "displacement": 3.309375524520874,
          "mol_index": 140,
          "rotation": 3.0660011768341064,
          "time": 58490000
         },
         {
          "displacement": 3.734308958053589,
          "mol_index": 140,
          "rotation": 2.903672218322754,
          "time": 59490000
         },
         {
          "displacement": 3.9897923469543457,
          "mol_index": 140,
          "rotation": 2.6943047046661377,
          "time": 60490000
         },
         {
          "displacement": 4.032705783843994,
          "mol_index": 140,
          "rotation": 2.6696271896362305,
          "time": 61490000
         },
         {
          "displacement": 4.049577713012695,
          "mol_index": 140,
          "rotation": 2.657259225845337,
          "time": 62490000
         },
         {
          "displacement": 4.322926998138428,
          "mol_index": 140,
          "rotation": 2.909230947494507,
          "time": 63490000
         },
         {
          "displacement": 4.238841533660889,
          "mol_index": 140,
          "rotation": 2.7594282627105713,
          "time": 64490000
         },
         {
          "displacement": 4.48680305480957,
          "mol_index": 140,
          "rotation": 2.8453142642974854,
          "time": 65490000
         },
         {
          "displacement": 4.389565944671631,
          "mol_index": 140,
          "rotation": 2.9248101711273193,
          "time": 66490000
         },
         {
          "displacement": 4.476409435272217,
          "mol_index": 140,
          "rotation": 2.973266839981079,
          "time": 67490000
         },
         {
          "displacement": 4.509237766265869,
          "mol_index": 140,
          "rotation": 2.948489189147949,
          "time": 68490000
         },
         {
          "displacement": 4.578532695770264,
          "mol_index": 140,
          "rotation": 2.992229461669922,
          "time": 69490000
         },
         {
          "displacement": 4.603705883026123,
          "mol_index": 140,
          "rotation": 1.0443845987319946,
          "time": 70490000
         },
         {
          "displacement": 4.497801780700684,
          "mol_index": 140,
          "rotation": 0.2378583550453186,
          "time": 71490000
         },
         {
          "displacement": 4.395132541656494,
          "mol_index": 140,
          "rotation": 0.26440340280532837,
          "time": 72490000
         },
         {
          "displacement": 4.4773688316345215,
          "mol_index": 140,
          "rotation": 0.24805067479610443,
          "time": 73490000
         },
         {
          "displacement": 4.566104888916016,
          "mol_index": 140,
          "rotation": 0.20524218678474426,
          "time": 74490000
         },
         {
          "displacement": 4.421619892120361,
          "mol_index": 140,
          "rotation": 0.4555927515029907,
          "time": 75490000
         },
         {
          "displacement": 4.530462741851807,
          "mol_index": 140,
          "rotation": 0.4233872890472412,
          "time": 76490000
         },
         {
          "displacement": 4.536616325378418,
          "mol_index": 140,
          "rotation": 0.4506903886795044,
          "time": 77490000
         },
         {
          "displacement": 4.55485200881958,
          "mol_index": 140,
          "rotation": 0.5006332993507385,
          "time": 78490000
         },
         {
          "displacement": 4.5280656814575195,
          "mol_index": 140,
          "rotation": 0.5089181065559387,
          "time": 79490000
         },
         {
          "displacement": 4.313742637634277,
          "mol_index": 140,
          "rotation": 0.579815685749054,
          "time": 80490000
         },
         {
          "displacement": 4.303643703460693,
          "mol_index": 140,
          "rotation": 0.5179412364959717,
          "time": 81490000
         },
         {
          "displacement": 4.517466068267822,
          "mol_index": 140,
          "rotation": 0.45877429842948914,
          "time": 82490000
         },
         {
          "displacement": 4.695803642272949,
          "mol_index": 140,
          "rotation": 0.4978334307670593,
          "time": 83490000
         },
         {
          "displacement": 4.623739719390869,
          "mol_index": 140,
          "rotation": 0.6100814342498779,
          "time": 84490000
         },
         {
          "displacement": 4.777163028717041,
          "mol_index": 140,
          "rotation": 0.4210602641105652,
          "time": 85490000
         },
         {
          "displacement": 4.541839122772217,
          "mol_index": 140,
          "rotation": 0.5046109557151794,
          "time": 86490000
         },
         {
          "displacement": 4.499056816101074,
          "mol_index": 140,
          "rotation": 0.4684006869792938,
          "time": 87490000
         },
         {
          "displacement": 5.263127326965332,
          "mol_index": 140,
          "rotation": 1.1316791772842407,
          "time": 88490000
         },
         {
          "displacement": 5.294519901275635,
          "mol_index": 140,
          "rotation": 1.1466789245605469,
          "time": 89490000
         },
         {
          "displacement": 5.229701995849609,
          "mol_index": 140,
          "rotation": 0.8659014105796814,
          "time": 90490000
         },
         {
          "displacement": 5.143894672393799,
          "mol_index": 140,
          "rotation": 1.2775570154190063,
          "time": 91490000
         },
         {
          "displacement": 5.430716037750244,
          "mol_index": 140,
          "rotation": 1.0415425300598145,
          "time": 92490000
         },
         {
          "displacement": 5.619024753570557,
          "mol_index": 140,
          "rotation": 0.40851908922195435,
          "time": 93490000
         },
         {
          "displacement": 5.591562747955322,
          "mol_index": 140,
          "rotation": 0.2830614447593689,
          "time": 94490000
         },
         {
          "displacement": 5.728081226348877,
          "mol_index": 140,
          "rotation": 0.2217535525560379,
          "time": 95490000
         },
         {
          "displacement": 5.899533271789551,
          "mol_index": 140,
          "rotation": 0.2208763211965561,
          "time": 96490000
         },
         {
          "displacement": 6.202209949493408,
          "mol_index": 140,
          "rotation": 0.19721917808055878,
          "time": 97490000
         },
         {
          "displacement": 6.027836322784424,
          "mol_index": 140,
          "rotation": 0.6721092462539673,
          "time": 98490000
         },
         {
          "displacement": 5.8445281982421875,
          "mol_index": 140,
          "rotation": 0.908998429775238,
          "time": 99490000
         },
         {
          "displacement": 5.880227565765381,
          "mol_index": 140,
          "rotation": 1.0295689105987549,
          "time": 100490000
         },
         {
          "displacement": 5.862105846405029,
          "mol_index": 140,
          "rotation": 1.004791021347046,
          "time": 101490000
         },
         {
          "displacement": 5.863091468811035,
          "mol_index": 140,
          "rotation": 1.0167878866195679,
          "time": 102490000
         },
         {
          "displacement": 5.410865783691406,
          "mol_index": 140,
          "rotation": 0.9287551045417786,
          "time": 103490000
         },
         {
          "displacement": 5.325829029083252,
          "mol_index": 140,
          "rotation": 0.9294643998146057,
          "time": 104490000
         },
         {
          "displacement": 5.296146869659424,
          "mol_index": 140,
          "rotation": 0.9187309145927429,
          "time": 105490000
         },
         {
          "displacement": 5.630525588989258,
          "mol_index": 140,
          "rotation": 0.8931533098220825,
          "time": 106490000
         },
         {
          "displacement": 6.018055438995361,
          "mol_index": 140,
          "rotation": 0.8809783458709717,
          "time": 107490000
         },
         {
          "displacement": 6.010570526123047,
          "mol_index": 140,
          "rotation": 0.47424566745758057,
          "time": 108490000
         },
         {
          "displacement": 5.879712104797363,
          "mol_index": 140,
          "rotation": 1.2198991775512695,
          "time": 109490000
         },
         {
          "displacement": 5.920033931732178,
          "mol_index": 140,
          "rotation": 0.6891992688179016,
          "time": 110490000
         },
         {
          "displacement": 5.673436641693115,
          "mol_index": 140,
          "rotation": 0.7228589653968811,
          "time": 111490000
         },
         {
          "displacement": 5.581751823425293,
          "mol_index": 140,
          "rotation": 0.7109830975532532,
          "time": 112490000
         },
         {
          "displacement": 5.605493068695068,
          "mol_index": 140,
          "rotation": 0.7057538628578186,
          "time": 113490000
         },
         {
          "displacement": 5.757781505584717,
          "mol_index": 140,
          "rotation": 0.7116719484329224,
          "time": 114490000
         },
         {
          "displacement": 5.971029281616211,
          "mol_index": 140,
          "rotation": 0.7844688892364502,
          "time": 115490000
         },
         {
          "displacement": 5.888105869293213,
          "mol_index": 140,
          "rotation": 0.7219420075416565,
          "time": 116490000
         },
         {
          "displacement": 5.850935935974121,
          "mol_index": 140,
          "rotation": 0.7277296185493469,
          "time": 117490000
         },
         {
          "displacement": 5.767287731170654,
          "mol_index": 140,
          "rotation": 0.7195534706115723,
          "time": 118490000
         },
         {
          "displacement": 5.782108306884766,
          "mol_index": 140,
          "rotation": 0.7286722660064697,
          "time": 119490000
         },
         {
          "displacement": 5.623631954193115,
          "mol_index": 140,
          "rotation": 0.8712067008018494,
          "time": 120490000
         },
         {
          "displacement": 5.386550426483154,
          "mol_index": 140,
          "rotation": 1.22551691532135,
          "time": 121490000
         },
         {
          "displacement": 5.376781940460205,
          "mol_index": 140,
          "rotation": 1.1822587251663208,
          "time": 122490000
         },
         {
          "displacement": 5.252308368682861,
          "mol_index": 140,
          "rotation": 1.2522954940795898,
          "time": 123490000
         },
         {
          "displacement": 5.323428630828857,
          "mol_index": 140,
          "rotation": 1.8413989543914795,
          "time": 124490000
         },
         {
          "displacement": 5.628744602203369,
          "mol_index": 140,
          "rotation": 2.0929293632507324,
          "time": 125490000
         },
         {
          "displacement": 5.546796798706055,
          "mol_index": 140,
          "rotation": 2.313417673110962,
          "time": 126490000
         },
         {
          "displacement": 5.418119430541992,
          "mol_index": 140,
          "rotation": 2.0418291091918945,
          "time": 127490000
         },
         {
          "displacement": 5.488758563995361,
          "mol_index": 140,
          "rotation": 2.1294093132019043,
          "time": 128490000
         },
         {
          "displacement": 5.403731346130371,
          "mol_index": 140,
          "rotation": 1.5160380601882935,
          "time": 129490000
         },
         {
          "displacement": 5.408559322357178,
          "mol_index": 140,
          "rotation": 2.2923214435577393,
          "time": 130490000
         },
         {
          "displacement": 5.351550102233887,
          "mol_index": 140,
          "rotation": 2.861497163772583,
          "time": 131490000
         },
         {
          "displacement": 5.312564849853516,
          "mol_index": 140,
          "rotation": 2.369561195373535,
          "time": 132490000
         },
         {
          "displacement": 5.383062362670898,
          "mol_index": 140,
          "rotation": 2.052461862564087,
          "time": 133490000
         },
         {
          "displacement": 5.36497163772583,
          "mol_index": 140,
          "rotation": 2.0497586727142334,
          "time": 134490000
         },
         {
          "displacement": 5.419369220733643,
          "mol_index": 140,
          "rotation": 1.9642115831375122,
          "time": 135490000
         },
         {
          "displacement": 5.416354656219482,
          "mol_index": 140,
          "rotation": 1.7272049188613892,
          "time": 136490000
         },
         {
          "displacement": 5.394687652587891,
          "mol_index": 140,
          "rotation": 1.9479644298553467,
          "time": 137490000
         },
         {
          "displacement": 5.49955940246582,
          "mol_index": 140,
          "rotation": 1.865941047668457,
          "time": 138490000
         },
         {
          "displacement": 5.5687150955200195,
          "mol_index": 140,
          "rotation": 1.7381657361984253,
          "time": 139490000
         },
         {
          "displacement": 5.574880599975586,
          "mol_index": 140,
          "rotation": 2.0124173164367676,
          "time": 140490000
         },
         {
          "displacement": 5.461982727050781,
          "mol_index": 140,
          "rotation": 2.535609245300293,
          "time": 141490000
         },
         {
          "displacement": 5.305019378662109,
          "mol_index": 140,
          "rotation": 2.5111122131347656,
          "time": 142490000
         },
         {
          "displacement": 5.139338493347168,
          "mol_index": 140,
          "rotation": 2.5001168251037598,
          "time": 143490000
         },
         {
          "displacement": 5.135467052459717,
          "mol_index": 140,
          "rotation": 2.483360528945923,
          "time": 144490000
         },
         {
          "displacement": 5.225708961486816,
          "mol_index": 140,
          "rotation": 2.5202903747558594,
          "time": 145490000
         },
         {
          "displacement": 5.338751316070557,
          "mol_index": 140,
          "rotation": 2.487083673477173,
          "time": 146490000
         },
         {
          "displacement": 5.317220687866211,
          "mol_index": 140,
          "rotation": 2.4821937084198,
          "time": 147490000
         },
         {
          "displacement": 5.373749732971191,
          "mol_index": 140,
          "rotation": 2.4857070446014404,
          "time": 148490000
         },
         {
          "displacement": 5.40854024887085,
          "mol_index": 140,
          "rotation": 2.4478373527526855,
          "time": 149490000
         },
         {
          "displacement": 5.404523849487305,
          "mol_index": 140,
          "rotation": 2.461998701095581,
          "time": 150490000
         },
         {
          "displacement": 5.584896087646484,
          "mol_index": 140,
          "rotation": 2.457026720046997,
          "time": 151490000
         },
         {
          "displacement": 5.620123863220215,
          "mol_index": 140,
          "rotation": 2.4672605991363525,
          "time": 152490000
         },
         {
          "displacement": 5.527207374572754,
          "mol_index": 140,
          "rotation": 2.462981700897217,
          "time": 153490000
         },
         {
          "displacement": 5.24846076965332,
          "mol_index": 140,
          "rotation": 2.4626710414886475,
          "time": 154490000
         },
         {
          "displacement": 5.134406089782715,
          "mol_index": 140,
          "rotation": 2.458158254623413,
          "time": 155490000
         },
         {
          "displacement": 5.144166469573975,
          "mol_index": 140,
          "rotation": 2.4436259269714355,
          "time": 156490000
         },
         {
          "displacement": 5.085251331329346,
          "mol_index": 140,
          "rotation": 2.4556820392608643,
          "time": 157490000
         },
         {
          "displacement": 5.100283622741699,
          "mol_index": 140,
          "rotation": 2.463679552078247,
          "time": 158490000
         },
         {
          "displacement": 5.052177906036377,
          "mol_index": 140,
          "rotation": 2.4978396892547607,
          "time": 159490000
         },
         {
          "displacement": 4.793167591094971,
          "mol_index": 140,
          "rotation": 2.477257490158081,
          "time": 160490000
         },
         {
          "displacement": 4.934514999389648,
          "mol_index": 140,
          "rotation": 2.4798927307128906,
          "time": 161490000
         },
         {
          "displacement": 5.05146598815918,
          "mol_index": 140,
          "rotation": 2.5201103687286377,
          "time": 162490000
         },
         {
          "displacement": 5.092799186706543,
          "mol_index": 140,
          "rotation": 2.522179126739502,
          "time": 163490000
         },
         {
          "displacement": 4.899264335632324,
          "mol_index": 140,
          "rotation": 2.5441343784332275,
          "time": 164490000
         },
         {
          "displacement": 4.754171848297119,
          "mol_index": 140,
          "rotation": 2.5348145961761475,
          "time": 165490000
         },
         {
          "displacement": 4.721184730529785,
          "mol_index": 140,
          "rotation": 2.536693811416626,
          "time": 166490000
         },
         {
          "displacement": 4.862136363983154,
          "mol_index": 140,
          "rotation": 2.5381081104278564,
          "time": 167490000
         },
         {
          "displacement": 4.807287693023682,
          "mol_index": 140,
          "rotation": 2.5301101207733154,
          "time": 168490000
         },
         {
          "displacement": 4.830837249755859,
          "mol_index": 140,
          "rotation": 2.5303380489349365,
          "time": 169490000
         },
         {
          "displacement": 4.8604559898376465,
          "mol_index": 140,
          "rotation": 2.5255935192108154,
          "time": 170490000
         },
         {
          "displacement": 4.943447589874268,
          "mol_index": 140,
          "rotation": 2.5406413078308105,
          "time": 171490000
         },
         {
          "displacement": 4.970096588134766,
          "mol_index": 140,
          "rotation": 2.5445361137390137,
          "time": 172490000
         },
         {
          "displacement": 4.831040382385254,
          "mol_index": 140,
          "rotation": 2.55507493019104,
          "time": 173490000
         },
         {
          "displacement": 4.890553951263428,
          "mol_index": 140,
          "rotation": 2.536348819732666,
          "time": 174490000
         },
         {
          "displacement": 5.020598888397217,
          "mol_index": 140,
          "rotation": 2.5383682250976562,
          "time": 175490000
         },
         {
          "displacement": 5.087468147277832,
          "mol_index": 140,
          "rotation": 2.319767951965332,
          "time": 176490000
         },
         {
          "displacement": 5.2890448570251465,
          "mol_index": 140,
          "rotation": 2.2614548206329346,
          "time": 177490000
         },
         {
          "displacement": 5.0858025550842285,
          "mol_index": 140,
          "rotation": 2.513882875442505,
          "time": 178490000
         },
         {
          "displacement": 5.080299377441406,
          "mol_index": 140,
          "rotation": 2.566422700881958,
          "time": 179490000
         },
         {
          "displacement": 5.078990936279297,
          "mol_index": 140,
          "rotation": 2.5304348468780518,
          "time": 180490000
         },
         {
          "displacement": 5.156186580657959,
          "mol_index": 140,
          "rotation": 2.4050512313842773,
          "time": 181490000
         },
         {
          "displacement": 5.045490264892578,
          "mol_index": 140,
          "rotation": 2.400886058807373,
          "time": 182490000
         },
         {
          "displacement": 5.196604251861572,
          "mol_index": 140,
          "rotation": 2.44130277633667,
          "time": 183490000
         },
         {
          "displacement": 5.1910719871521,
          "mol_index": 140,
          "rotation": 2.516235589981079,
          "time": 184490000
         },
         {
          "displacement": 5.116875171661377,
          "mol_index": 140,
          "rotation": 2.59004807472229,
          "time": 185490000
         },
         {
          "displacement": 5.1680450439453125,
          "mol_index": 140,
          "rotation": 2.546945810317993,
          "time": 186490000
         },
         {
          "displacement": 5.220971584320068,
          "mol_index": 140,
          "rotation": 2.5344972610473633,
          "time": 187490000
         },
         {
          "displacement": 5.295825481414795,
          "mol_index": 140,
          "rotation": 2.5519533157348633,
          "time": 188490000
         },
         {
          "displacement": 5.476381301879883,
          "mol_index": 140,
          "rotation": 2.6177258491516113,
          "time": 189490000
         },
         {
          "displacement": 5.316347599029541,
          "mol_index": 140,
          "rotation": 2.585545539855957,
          "time": 190490000
         },
         {
          "displacement": 5.041707992553711,
          "mol_index": 140,
          "rotation": 1.6694600582122803,
          "time": 191490000
         },
         {
          "displacement": 4.976526737213135,
          "mol_index": 140,
          "rotation": 1.307997226715088,
          "time": 192490000
         },
         {
          "displacement": 5.158126354217529,
          "mol_index": 140,
          "rotation": 1.4056503772735596,
          "time": 193490000
         },
         {
          "displacement": 5.239743709564209,
          "mol_index": 140,
          "rotation": 1.3439891338348389,
          "time": 194490000
         },
         {
          "displacement": 6.229000091552734,
          "mol_index": 140,
          "rotation": 1.1743018627166748,
          "time": 195490000
         },
         {
          "displacement": 5.690402984619141,
          "mol_index": 140,
          "rotation": 1.41657555103302,
          "time": 196490000
         },
         {
          "displacement": 5.756270408630371,
          "mol_index": 140,
          "rotation": 2.462801218032837,
          "time": 197490000
         },
         {
          "displacement": 5.702202320098877,
          "mol_index": 140,
          "rotation": 2.425537109375,
          "time": 198490000
         },
         {
          "displacement": 5.750405788421631,
          "mol_index": 140,
          "rotation": 2.436340570449829,
          "time": 199490000
         },
         {
          "displacement": 5.7563605308532715,
          "mol_index": 140,
          "rotation": 2.5174732208251953,
          "time": 200490000
         },
         {
          "displacement": 6.142694473266602,
          "mol_index": 140,
          "rotation": 2.461646795272827,
          "time": 201490000
         },
         {
          "displacement": 6.3361639976501465,
          "mol_index": 140,
          "rotation": 2.592724084854126,
          "time": 202490000
         },
         {
          "displacement": 6.49704647064209,
          "mol_index": 140,
          "rotation": 2.7400097846984863,
          "time": 203490000
         },
         {
          "displacement": 6.430171012878418,
          "mol_index": 140,
          "rotation": 2.756981134414673,
          "time": 204490000
         },
         {
          "displacement": 6.599215507507324,
          "mol_index": 140,
          "rotation": 2.7269296646118164,
          "time": 205490000
         },
         {
          "displacement": 6.646421909332275,
          "mol_index": 140,
          "rotation": 2.742182493209839,
          "time": 206490000
         },
         {
          "displacement": 6.752902507781982,
          "mol_index": 140,
          "rotation": 2.7650437355041504,
          "time": 207490000
         },
         {
          "displacement": 6.648382663726807,
          "mol_index": 140,
          "rotation": 2.2851829528808594,
          "time": 208490000
         },
         {
          "displacement": 6.74888277053833,
          "mol_index": 140,
          "rotation": 1.909673810005188,
          "time": 209490000
         },
         {
          "displacement": 6.802765846252441,
          "mol_index": 140,
          "rotation": 2.1365559101104736,
          "time": 210490000
         },
         {
          "displacement": 6.980580806732178,
          "mol_index": 140,
          "rotation": 2.192948341369629,
          "time": 211490000
         },
         {
          "displacement": 6.993210792541504,
          "mol_index": 140,
          "rotation": 2.109776735305786,
          "time": 212490000
         },
         {
          "displacement": 6.985780239105225,
          "mol_index": 140,
          "rotation": 2.1360456943511963,
          "time": 213490000
         },
         {
          "displacement": 7.035799503326416,
          "mol_index": 140,
          "rotation": 2.130513906478882,
          "time": 214490000
         },
         {
          "displacement": 6.968637466430664,
          "mol_index": 140,
          "rotation": 1.8714364767074585,
          "time": 215490000
         },
         {
          "displacement": 7.094363212585449,
          "mol_index": 140,
          "rotation": 2.05122971534729,
          "time": 216490000
         },
         {
          "displacement": 7.051924228668213,
          "mol_index": 140,
          "rotation": 1.955596923828125,
          "time": 217490000
         },
         {
          "displacement": 7.024134159088135,
          "mol_index": 140,
          "rotation": 2.0586659908294678,
          "time": 218490000
         },
         {
          "displacement": 7.1429595947265625,
          "mol_index": 140,
          "rotation": 2.2163519859313965,
          "time": 219490000
         },
         {
          "displacement": 6.954527378082275,
          "mol_index": 140,
          "rotation": 2.037890911102295,
          "time": 220490000
         },
         {
          "displacement": 6.8190436363220215,
          "mol_index": 140,
          "rotation": 2.1106250286102295,
          "time": 221490000
         },
         {
          "displacement": 7.087347984313965,
          "mol_index": 140,
          "rotation": 2.0308544635772705,
          "time": 222490000
         },
         {
          "displacement": 6.923499584197998,
          "mol_index": 140,
          "rotation": 2.062605381011963,
          "time": 223490000
         },
         {
          "displacement": 7.042486190795898,
          "mol_index": 140,
          "rotation": 2.3248510360717773,
          "time": 224490000
         },
         {
          "displacement": 6.961627960205078,
          "mol_index": 140,
          "rotation": 2.8939132690429688,
          "time": 225490000
         },
         {
          "displacement": 7.049565315246582,
          "mol_index": 140,
          "rotation": 2.8820977210998535,
          "time": 226490000
         },
         {
          "displacement": 7.021416664123535,
          "mol_index": 140,
          "rotation": 2.899735927581787,
          "time": 227490000
         },
         {
          "displacement": 6.892496109008789,
          "mol_index": 140,
          "rotation": 2.8831024169921875,
          "time": 228490000
         },
         {
          "displacement": 6.954586505889893,
          "mol_index": 140,
          "rotation": 2.871999979019165,
          "time": 229490000
         },
         {
          "displacement": 6.836338996887207,
          "mol_index": 140,
          "rotation": 2.8773186206817627,
          "time": 230490000
         },
         {
          "displacement": 6.830916881561279,
          "mol_index": 140,
          "rotation": 2.8718206882476807,
          "time": 231490000
         },
         {
          "displacement": 7.03156852722168,
          "mol_index": 140,
          "rotation": 2.8832294940948486,
          "time": 232490000
         },
         {
          "displacement": 6.990605354309082,
          "mol_index": 140,
          "rotation": 2.8711249828338623,
          "time": 233490000
         },
         {
          "displacement": 7.018937110900879,
          "mol_index": 140,
          "rotation": 2.8576977252960205,
          "time": 234490000
         },
         {
          "displacement": 6.947603702545166,
          "mol_index": 140,
          "rotation": 2.8613083362579346,
          "time": 235490000
         },
         {
          "displacement": 6.8906474113464355,
          "mol_index": 140,
          "rotation": 2.8777992725372314,
          "time": 236490000
         },
         {
          "displacement": 6.971482276916504,
          "mol_index": 140,
          "rotation": 2.8518965244293213,
          "time": 237490000
         },
         {
          "displacement": 7.243734359741211,
          "mol_index": 140,
          "rotation": 2.890929698944092,
          "time": 238490000
         },
         {
          "displacement": 7.274360656738281,
          "mol_index": 140,
          "rotation": 2.8843934535980225,
          "time": 239490000
         },
         {
          "displacement": 7.44535493850708,
          "mol_index": 140,
          "rotation": 2.899620532989502,
          "time": 240490000
         },
         {
          "displacement": 7.500823497772217,
          "mol_index": 140,
          "rotation": 2.870469093322754,
          "time": 241490000
         },
         {
          "displacement": 7.52488374710083,
          "mol_index": 140,
          "rotation": 2.903214931488037,
          "time": 242490000
         },
         {
          "displacement": 7.5617852210998535,
          "mol_index": 140,
          "rotation": 2.866899013519287,
          "time": 243490000
         },
         {
          "displacement": 7.324150562286377,
          "mol_index": 140,
          "rotation": 2.882854700088501,
          "time": 244490000
         },
         {
          "displacement": 7.303367614746094,
          "mol_index": 140,
          "rotation": 2.8941524028778076,
          "time": 245490000
         },
         {
          "displacement": 7.46713399887085,
          "mol_index": 140,
          "rotation": 2.8401732444763184,
          "time": 246490000
         },
         {
          "displacement": 7.4445013999938965,
          "mol_index": 140,
          "rotation": 2.844501495361328,
          "time": 247490000
         },
         {
          "displacement": 7.4269561767578125,
          "mol_index": 140,
          "rotation": 2.865443229675293,
          "time": 248490000
         },
         {
          "displacement": 7.308897495269775,
          "mol_index": 140,
          "rotation": 2.865020990371704,
          "time": 249490000
         },
         {
          "displacement": 7.2242279052734375,
          "mol_index": 140,
          "rotation": 2.8840227127075195,
          "time": 250490000
         },
         {
          "displacement": 6.952387809753418,
          "mol_index": 140,
          "rotation": 2.889230966567993,
          "time": 251490000
         },
         {
          "displacement": 7.243898391723633,
          "mol_index": 140,
          "rotation": 2.9157655239105225,
          "time": 252490000
         },
         {
          "displacement": 7.24882173538208,
          "mol_index": 140,
          "rotation": 2.9686319828033447,
          "time": 253490000
         },
         {
          "displacement": 7.0335869789123535,
          "mol_index": 140,
          "rotation": 2.990121841430664,
          "time": 254490000
         },
         {
          "displacement": 6.958840370178223,
          "mol_index": 140,
          "rotation": 2.9581751823425293,
          "time": 255490000
         },
         {
          "displacement": 6.489870548248291,
          "mol_index": 140,
          "rotation": 2.91422438621521,
          "time": 256490000
         },
         {
          "displacement": 6.408329486846924,
          "mol_index": 140,
          "rotation": 2.876863479614258,
          "time": 257490000
         },
         {
          "displacement": 6.513964653015137,
          "mol_index": 140,
          "rotation": 2.855340003967285,
          "time": 258490000
         },
         {
          "displacement": 6.466888427734375,
          "mol_index": 140,
          "rotation": 2.8918275833129883,
          "time": 259490000
         },
         {
          "displacement": 6.531495094299316,
          "mol_index": 140,
          "rotation": 2.949129104614258,
          "time": 260490000
         },
         {
          "displacement": 6.4385576248168945,
          "mol_index": 140,
          "rotation": 2.964735746383667,
          "time": 261490000
         },
         {
          "displacement": 6.4574971199035645,
          "mol_index": 140,
          "rotation": 2.9444613456726074,
          "time": 262490000
         },
         {
          "displacement": 6.123572826385498,
          "mol_index": 140,
          "rotation": 2.841346502304077,
          "time": 263490000
         },
         {
          "displacement": 6.144098281860352,
          "mol_index": 140,
          "rotation": 2.8733062744140625,
          "time": 264490000
         },
         {
          "displacement": 5.6648268699646,
          "mol_index": 140,
          "rotation": 2.8750240802764893,
          "time": 265490000
         },
         {
          "displacement": 4.813910961151123,
          "mol_index": 140,
          "rotation": 2.7060048580169678,
          "time": 266490000
         },
         {
          "displacement": 4.587028980255127,
          "mol_index": 140,
          "rotation": 2.5989561080932617,
          "time": 267490000
         },
         {
          "displacement": 4.597539901733398,
          "mol_index": 140,
          "rotation": 2.6890861988067627,
          "time": 268490000
         },
         {
          "displacement": 4.540099143981934,
          "mol_index": 140,
          "rotation": 2.7565481662750244,
          "time": 269490000
         },
         {
          "displacement": 4.617008209228516,
          "mol_index": 140,
          "rotation": 2.660459041595459,
          "time": 270490000
         },
         {
          "displacement": 4.3828301429748535,
          "mol_index": 140,
          "rotation": 2.674139976501465,
          "time": 271490000
         },
         {
          "displacement": 3.997389554977417,
          "mol_index": 140,
          "rotation": 2.59684157371521,
          "time": 272490000
         },
         {
          "displacement": 4.368193626403809,
          "mol_index": 140,
          "rotation": 2.906731605529785,
          "time": 273490000
         },
         {
          "displacement": 4.953413963317871,
          "mol_index": 140,
          "rotation": 2.609306573867798,
          "time": 274490000
         },
         {
          "displacement": 3.75766658782959,
          "mol_index": 140,
          "rotation": 2.641336679458618,
          "time": 275490000
         },
         {
          "displacement": 3.561394214630127,
          "mol_index": 140,
          "rotation": 2.6051440238952637,
          "time": 276490000
         },
         {
          "displacement": 3.4252138137817383,
          "mol_index": 140,
          "rotation": 2.605314016342163,
          "time": 277490000
         },
         {
          "displacement": 3.6027932167053223,
          "mol_index": 140,
          "rotation": 2.629856824874878,
          "time": 278490000
         },
         {
          "displacement": 3.5397448539733887,
          "mol_index": 140,
          "rotation": 2.6291399002075195,
          "time": 279490000
         },
         {
          "displacement": 3.672191858291626,
          "mol_index": 140,
          "rotation": 2.6250579357147217,
          "time": 280490000
         },
         {
          "displacement": 3.5418860912323,
          "mol_index": 140,
          "rotation": 2.535787582397461,
          "time": 281490000
         },
         {
          "displacement": 3.5313332080841064,
          "mol_index": 140,
          "rotation": 2.8634181022644043,
          "time": 282490000
         },
         {
          "displacement": 3.6920413970947266,
          "mol_index": 140,
          "rotation": 2.8927648067474365,
          "time": 283490000
         },
         {
          "displacement": 3.542466878890991,
          "mol_index": 140,
          "rotation": 2.771615505218506,
          "time": 284490000
         },
         {
          "displacement": 3.7406070232391357,
          "mol_index": 140,
          "rotation": 2.524080276489258,
          "time": 285490000
         },
         {
          "displacement": 3.859835624694824,
          "mol_index": 140,
          "rotation": 2.6735334396362305,
          "time": 286490000
         },
         {
          "displacement": 3.9148504734039307,
          "mol_index": 140,
          "rotation": 2.9185972213745117,
          "time": 287490000
         },
         {
          "displacement": 4.002424240112305,
          "mol_index": 140,
          "rotation": 2.93394136428833,
          "time": 288490000
         },
         {
          "displacement": 3.888920307159424,
          "mol_index": 140,
          "rotation": 2.9313995838165283,
          "time": 289490000
         },
         {
          "displacement": 3.9909355640411377,
          "mol_index": 140,
          "rotation": 2.9245500564575195,
          "time": 290490000
         },
         {
          "displacement": 4.01879358291626,
          "mol_index": 140,
          "rotation": 2.694169759750366,
          "time": 291490000
         },
         {
          "displacement": 3.9760687351226807,
          "mol_index": 140,
          "rotation": 2.681262731552124,
          "time": 292490000
         },
         {
          "displacement": 3.889328956604004,
          "mol_index": 140,
          "rotation": 2.765176773071289,
          "time": 293490000
         },
         {
          "displacement": 3.620518445968628,
          "mol_index": 140,
          "rotation": 2.6703240871429443,
          "time": 294490000
         },
         {
          "displacement": 3.5720040798187256,
          "mol_index": 140,
          "rotation": 2.446103096008301,
          "time": 295490000
         },
         {
          "displacement": 3.7313883304595947,
          "mol_index": 140,
          "rotation": 2.3811488151550293,
          "time": 296490000
         },
         {
          "displacement": 3.9895431995391846,
          "mol_index": 140,
          "rotation": 2.396603584289551,
          "time": 297490000
         },
         {
          "displacement": 3.891998767852783,
          "mol_index": 140,
          "rotation": 2.424146890640259,
          "time": 298490000
         },
         {
          "displacement": 3.919762372970581,
          "mol_index": 140,
          "rotation": 2.384721040725708,
          "time": 299490000
         },
         {
          "displacement": 3.99554705619812,
          "mol_index": 140,
          "rotation": 2.4313504695892334,
          "time": 300490000
         },
         {
          "displacement": 4.115478038787842,
          "mol_index": 140,
          "rotation": 2.428117513656616,
          "time": 301490000
         },
         {
          "displacement": 4.178352355957031,
          "mol_index": 140,
          "rotation": 2.414947271347046,
          "time": 302490000
         },
         {
          "displacement": 3.956153631210327,
          "mol_index": 140,
          "rotation": 2.4240429401397705,
          "time": 303490000
         },
         {
          "displacement": 3.9237585067749023,
          "mol_index": 140,
          "rotation": 2.4198904037475586,
          "time": 304490000
         },
         {
          "displacement": 3.9422428607940674,
          "mol_index": 140,
          "rotation": 2.423017740249634,
          "time": 305490000
         },
         {
          "displacement": 4.015160083770752,
          "mol_index": 140,
          "rotation": 2.411705493927002,
          "time": 306490000
         },
         {
          "displacement": 4.043756008148193,
          "mol_index": 140,
          "rotation": 2.475478172302246,
          "time": 307490000
         },
         {
          "displacement": 4.089778900146484,
          "mol_index": 140,
          "rotation": 2.506544589996338,
          "time": 308490000
         },
         {
          "displacement": 4.198757171630859,
          "mol_index": 140,
          "rotation": 1.4247959852218628,
          "time": 309490000
         },
         {
          "displacement": 4.248411655426025,
          "mol_index": 140,
          "rotation": 1.3680111169815063,
          "time": 310490000
         },
         {
          "displacement": 4.308603286743164,
          "mol_index": 140,
          "rotation": 1.3428282737731934,
          "time": 311490000
         },
         {
          "displacement": 4.093790054321289,
          "mol_index": 140,
          "rotation": 1.3525131940841675,
          "time": 312490000
         },
         {
          "displacement": 4.0612945556640625,
          "mol_index": 140,
          "rotation": 1.3403431177139282,
          "time": 313490000
         },
         {
          "displacement": 3.9519519805908203,
          "mol_index": 140,
          "rotation": 1.2904765605926514,
          "time": 314490000
         },
         {
          "displacement": 3.942873954772949,
          "mol_index": 140,
          "rotation": 1.2666149139404297,
          "time": 315490000
         },
         {
          "displacement": 3.8341948986053467,
          "mol_index": 140,
          "rotation": 0.73665851354599,
          "time": 316490000
         },
         {
          "displacement": 3.9957852363586426,
          "mol_index": 140,
          "rotation": 0.5897641777992249,
          "time": 317490000
         },
         {
          "displacement": 4.349011421203613,
          "mol_index": 140,
          "rotation": 0.30426719784736633,
          "time": 318490000
         },
         {
          "displacement": 4.004854679107666,
          "mol_index": 140,
          "rotation": 0.2905965745449066,
          "time": 319490000
         },
         {
          "displacement": 3.9874727725982666,
          "mol_index": 140,
          "rotation": 0.7880762219429016,
          "time": 320490000
         },
         {
          "displacement": 4.123124122619629,
          "mol_index": 140,
          "rotation": 0.8550975918769836,
          "time": 321490000
         },
         {
          "displacement": 4.100532531738281,
          "mol_index": 140,
          "rotation": 0.6983734369277954,
          "time": 322490000
         },
         {
          "displacement": 4.257957458496094,
          "mol_index": 140,
          "rotation": 0.7685639262199402,
          "time": 323490000
         },
         {
          "displacement": 4.591606140136719,
          "mol_index": 140,
          "rotation": 0.7803091406822205,
          "time": 324490000
         },
         {
          "displacement": 4.718235492706299,
          "mol_index": 140,
          "rotation": 0.8388382792472839,
          "time": 325490000
         },
         {
          "displacement": 4.584630966186523,
          "mol_index": 140,
          "rotation": 0.869890034198761,
          "time": 326490000
         },
         {
          "displacement": 4.6008830070495605,
          "mol_index": 140,
          "rotation": 0.8483417630195618,
          "time": 327490000
         },
         {
          "displacement": 4.650807857513428,
          "mol_index": 140,
          "rotation": 0.8617184162139893,
          "time": 328490000
         },
         {
          "displacement": 4.687992095947266,
          "mol_index": 140,
          "rotation": 0.8544510006904602,
          "time": 329490000
         },
         {
          "displacement": 4.680925369262695,
          "mol_index": 140,
          "rotation": 0.7507899403572083,
          "time": 330490000
         },
         {
          "displacement": 5.005000114440918,
          "mol_index": 140,
          "rotation": 0.7196664214134216,
          "time": 331490000
         },
         {
          "displacement": 5.741483688354492,
          "mol_index": 140,
          "rotation": 1.0495023727416992,
          "time": 332490000
         },
         {
          "displacement": 4.91436243057251,
          "mol_index": 140,
          "rotation": 1.3633958101272583,
          "time": 333490000
         },
         {
          "displacement": 4.676616191864014,
          "mol_index": 140,
          "rotation": 2.3518481254577637,
          "time": 334490000
         },
         {
          "displacement": 4.7261738777160645,
          "mol_index": 140,
          "rotation": 2.2839598655700684,
          "time": 335490000
         },
         {
          "displacement": 4.691874027252197,
          "mol_index": 140,
          "rotation": 2.2534425258636475,
          "time": 336490000
         },
         {
          "displacement": 4.764884948730469,
          "mol_index": 140,
          "rotation": 2.4667210578918457,
          "time": 337490000
         },
         {
          "displacement": 4.9911651611328125,
          "mol_index": 140,
          "rotation": 2.500525712966919,
          "time": 338490000
         },
         {
          "displacement": 5.169717311859131,
          "mol_index": 140,
          "rotation": 2.1636898517608643,
          "time": 339490000
         },
         {
          "displacement": 5.062732219696045,
          "mol_index": 140,
          "rotation": 2.0690207481384277,
          "time": 340490000
         },
         {
          "displacement": 4.750863075256348,
          "mol_index": 140,
          "rotation": 2.024045467376709,
          "time": 341490000
         },
         {
          "displacement": 5.069189071655273,
          "mol_index": 140,
          "rotation": 1.9735709428787231,
          "time": 342490000
         },
         {
          "displacement": 5.219918727874756,
          "mol_index": 140,
          "rotation": 1.9794306755065918,
          "time": 343490000
         },
         {
          "displacement": 5.114630222320557,
          "mol_index": 140,
          "rotation": 2.034337282180786,
          "time": 344490000
         },
         {
          "displacement": 5.0419511795043945,
          "mol_index": 140,
          "rotation": 2.0332698822021484,
          "time": 345490000
         },
         {
          "displacement": 4.91456413269043,
          "mol_index": 140,
          "rotation": 2.0273501873016357,
          "time": 346490000
         },
         {
          "displacement": 4.95497989654541,
          "mol_index": 140,
          "rotation": 2.0377421379089355,
          "time": 347490000
         },
         {
          "displacement": 4.879726886749268,
          "mol_index": 140,
          "rotation": 2.024940013885498,
          "time": 348490000
         },
         {
          "displacement": 4.978416442871094,
          "mol_index": 140,
          "rotation": 2.0102827548980713,
          "time": 349490000
         },
         {
          "displacement": 4.713591575622559,
          "mol_index": 140,
          "rotation": 1.8039551973342896,
          "time": 350490000
         },
         {
          "displacement": 4.199407577514648,
          "mol_index": 140,
          "rotation": 0.4655114710330963,
          "time": 351490000
         },
         {
          "displacement": 4.277884483337402,
          "mol_index": 140,
          "rotation": 0.7988893389701843,
          "time": 352490000
         },
         {
          "displacement": 4.521797180175781,
          "mol_index": 140,
          "rotation": 2.5093445777893066,
          "time": 353490000
         },
         {
          "displacement": 4.0606818199157715,
          "mol_index": 140,
          "rotation": 2.654381036758423,
          "time": 354490000
         },
         {
          "displacement": 3.1449761390686035,
          "mol_index": 140,
          "rotation": 2.944956064224243,
          "time": 355490000
         },
         {
          "displacement": 3.314626455307007,
          "mol_index": 140,
          "rotation": 2.9044113159179688,
          "time": 356490000
         },
         {
          "displacement": 4.032543182373047,
          "mol_index": 140,
          "rotation": 2.49008846282959,
          "time": 357490000
         },
         {
          "displacement": 4.537609100341797,
          "mol_index": 140,
          "rotation": 0.47923117876052856,
          "time": 358490000
         },
         {
          "displacement": 4.764887809753418,
          "mol_index": 140,
          "rotation": 1.5237574577331543,
          "time": 359490000
         },
         {
          "displacement": 4.592915058135986,
          "mol_index": 140,
          "rotation": 0.5333647727966309,
          "time": 360490000
         },
         {
          "displacement": 3.451831102371216,
          "mol_index": 140,
          "rotation": 0.15621830523014069,
          "time": 361490000
         },
         {
          "displacement": 3.512941837310791,
          "mol_index": 140,
          "rotation": 0.13341805338859558,
          "time": 362490000
         },
         {
          "displacement": 3.486142873764038,
          "mol_index": 140,
          "rotation": 0.10405915230512619,
          "time": 363490000
         },
         {
          "displacement": 3.5713138580322266,
          "mol_index": 140,
          "rotation": 0.5441884398460388,
          "time": 364490000
         },
         {
          "displacement": 3.7000372409820557,
          "mol_index": 140,
          "rotation": 0.7297546863555908,
          "time": 365490000
         },
         {
          "displacement": 3.6196699142456055,
          "mol_index": 140,
          "rotation": 0.7328072786331177,
          "time": 366490000
         },
         {
          "displacement": 3.592510461807251,
          "mol_index": 140,
          "rotation": 0.7735643982887268,
          "time": 367490000
         },
         {
          "displacement": 3.684830904006958,
          "mol_index": 140,
          "rotation": 0.7772281765937805,
          "time": 368490000
         },
         {
          "displacement": 3.6248579025268555,
          "mol_index": 140,
          "rotation": 0.6676774621009827,
          "time": 369490000
         },
         {
          "displacement": 3.671673059463501,
          "mol_index": 140,
          "rotation": 0.6027783155441284,
          "time": 370490000
         },
         {
          "displacement": 2.816969394683838,
          "mol_index": 140,
          "rotation": 0.623985767364502,
          "time": 371490000
         },
         {
          "displacement": 2.6687490940093994,
          "mol_index": 140,
          "rotation": 0.23602169752120972,
          "time": 372490000
         },
         {
          "displacement": 3.2756381034851074,
          "mol_index": 140,
          "rotation": 0.2487504631280899,
          "time": 373490000
         },
         {
          "displacement": 3.0843052864074707,
          "mol_index": 140,
          "rotation": 0.3064819276332855,
          "time": 374490000
         },
         {
          "displacement": 3.1207478046417236,
          "mol_index": 140,
          "rotation": 0.32607197761535645,
          "time": 375490000
         },
         {
          "displacement": 2.9728989601135254,
          "mol_index": 140,
          "rotation": 0.6768991947174072,
          "time": 376490000
         },
         {
          "displacement": 3.2906033992767334,
          "mol_index": 140,
          "rotation": 1.7318013906478882,
          "time": 377490000
         },
         {
          "displacement": 3.4595282077789307,
          "mol_index": 140,
          "rotation": 1.7429441213607788,
          "time": 378490000
         },
         {
          "displacement": 3.808185338973999,
          "mol_index": 140,
          "rotation": 1.6565330028533936,
          "time": 379490000
         },
         {
          "displacement": 3.8953187465667725,
          "mol_index": 140,
          "rotation": 1.7067208290100098,
          "time": 380490000
         },
         {
          "displacement": 3.676453113555908,
          "mol_index": 140,
          "rotation": 1.7848392724990845,
          "time": 381490000
         },
         {
          "displacement": 3.7968709468841553,
          "mol_index": 140,
          "rotation": 1.4950228929519653,
          "time": 382490000
         },
         {
          "displacement": 3.7954862117767334,
          "mol_index": 140,
          "rotation": 1.4235100746154785,
          "time": 383490000
         },
         {
          "displacement": 3.7998833656311035,
          "mol_index": 140,
          "rotation": 1.5025140047073364,
          "time": 384490000
         },
         {
          "displacement": 3.6279029846191406,
          "mol_index": 140,
          "rotation": 1.5038783550262451,
          "time": 385490000
         },
         {
          "displacement": 3.4305834770202637,
          "mol_index": 140,
          "rotation": 1.7409346103668213,
          "time": 386490000
         },
         {
          "displacement": 3.473451852798462,
          "mol_index": 140,
          "rotation": 1.524593472480774,
          "time": 387490000
         },
         {
          "displacement": 3.4830188751220703,
          "mol_index": 140,
          "rotation": 1.4813812971115112,
          "time": 388490000
         },
         {
          "displacement": 3.1206796169281006,
          "mol_index": 140,
          "rotation": 1.8816475868225098,
          "time": 389490000
         },
         {
          "displacement": 3.1630499362945557,
          "mol_index": 140,
          "rotation": 1.7858513593673706,
          "time": 390490000
         },
         {
          "displacement": 3.110787868499756,
          "mol_index": 140,
          "rotation": 1.7638256549835205,
          "time": 391490000
         },
         {
          "displacement": 4.197207927703857,
          "mol_index": 140,
          "rotation": 1.128146767616272,
          "time": 392490000
         },
         {
          "displacement": 4.495734691619873,
          "mol_index": 140,
          "rotation": 0.8713177442550659,
          "time": 393490000
         },
         {
          "displacement": 4.33078670501709,
          "mol_index": 140,
          "rotation": 1.4987854957580566,
          "time": 394490000
         },
         {
          "displacement": 4.552239418029785,
          "mol_index": 140,
          "rotation": 2.207263946533203,
          "time": 395490000
         },
         {
          "displacement": 5.762278079986572,
          "mol_index": 140,
          "rotation": 3.009892463684082,
          "time": 396490000
         },
         {
          "displacement": 6.629354000091553,
          "mol_index": 140,
          "rotation": 2.40783953666687,
          "time": 397490000
         },
         {
          "displacement": 6.555912494659424,
          "mol_index": 140,
          "rotation": 2.7766547203063965,
          "time": 398490000
         },
         {
          "displacement": 6.698357105255127,
          "mol_index": 140,
          "rotation": 2.767441749572754,
          "time": 399490000
         },
         {
          "displacement": 6.873786926269531,
          "mol_index": 140,
          "rotation": 2.7642767429351807,
          "time": 400490000
         },
         {
          "displacement": 6.839727878570557,
          "mol_index": 140,
          "rotation": 2.488985538482666,
          "time": 401490000
         },
         {
          "displacement": 6.874137878417969,
          "mol_index": 140,
          "rotation": 2.351846694946289,
          "time": 402490000
         },
         {
          "displacement": 6.796485900878906,
          "mol_index": 140,
          "rotation": 2.5606613159179688,
          "time": 403490000
         },
         {
          "displacement": 7.071564674377441,
          "mol_index": 140,
          "rotation": 2.577108383178711,
          "time": 404490000
         },
         {
          "displacement": 7.422554016113281,
          "mol_index": 140,
          "rotation": 2.5625154972076416,
          "time": 405490000
         },
         {
          "displacement": 7.537444114685059,
          "mol_index": 140,
          "rotation": 2.555589199066162,
          "time": 406490000
         },
         {
          "displacement": 7.309095859527588,
          "mol_index": 140,
          "rotation": 2.5797839164733887,
          "time": 407490000
         },
         {
          "displacement": 7.083308219909668,
          "mol_index": 140,
          "rotation": 2.441992998123169,
          "time": 408490000
         },
         {
          "displacement": 6.974944591522217,
          "mol_index": 140,
          "rotation": 2.029858112335205,
          "time": 409490000
         },
         {
          "displacement": 6.971282958984375,
          "mol_index": 140,
          "rotation": 2.04064679145813,
          "time": 410490000
         },
         {
          "displacement": 7.051521301269531,
          "mol_index": 140,
          "rotation": 2.029280185699463,
          "time": 411490000
         },
         {
          "displacement": 6.973134517669678,
          "mol_index": 140,
          "rotation": 2.059868097305298,
          "time": 412490000
         },
         {
          "displacement": 7.087457656860352,
          "mol_index": 140,
          "rotation": 2.102280616760254,
          "time": 413490000
         },
         {
          "displacement": 7.352426528930664,
          "mol_index": 140,
          "rotation": 2.11007022857666,
          "time": 414490000
         },
         {
          "displacement": 7.11116886138916,
          "mol_index": 140,
          "rotation": 1.8297207355499268,
          "time": 415490000
         },
         {
          "displacement": 6.592047214508057,
          "mol_index": 140,
          "rotation": 0.8635659217834473,
          "time": 416490000
         },
         {
          "displacement": 6.584661960601807,
          "mol_index": 140,
          "rotation": 0.8533324003219604,
          "time": 417490000
         },
         {
          "displacement": 6.700764179229736,
          "mol_index": 140,
          "rotation": 0.8782577514648438,
          "time": 418490000
         },
         {
          "displacement": 6.698027610778809,
          "mol_index": 140,
          "rotation": 1.2221585512161255,
          "time": 419490000
         },
         {
          "displacement": 6.669555187225342,
          "mol_index": 140,
          "rotation": 1.012362003326416,
          "time": 420490000
         },
         {
          "displacement": 6.345850944519043,
          "mol_index": 140,
          "rotation": 1.1520746946334839,
          "time": 421490000
         },
         {
          "displacement": 5.935543060302734,
          "mol_index": 140,
          "rotation": 1.6602007150650024,
          "time": 422490000
         },
         {
          "displacement": 5.914145469665527,
          "mol_index": 140,
          "rotation": 1.2845748662948608,
          "time": 423490000
         },
         {
          "displacement": 5.969749450683594,
          "mol_index": 140,
          "rotation": 2.9569313526153564,
          "time": 424490000
         },
         {
          "displacement": 5.987902641296387,
          "mol_index": 140,
          "rotation": 2.8462305068969727,
          "time": 425490000
         },
         {
          "displacement": 5.974125385284424,
          "mol_index": 140,
          "rotation": 2.7933402061462402,
          "time": 426490000
         },
         {
          "displacement": 5.973355293273926,
          "mol_index": 140,
          "rotation": 2.85992431640625,
          "time": 427490000
         },
         {
          "displacement": 5.910696029663086,
          "mol_index": 140,
          "rotation": 2.8124587535858154,
          "time": 428490000
         },
         {
          "displacement": 6.130842208862305,
          "mol_index": 140,
          "rotation": 2.7710015773773193,
          "time": 429490000
         },
         {
          "displacement": 6.051390171051025,
          "mol_index": 140,
          "rotation": 2.776139974594116,
          "time": 430490000
         },
         {
          "displacement": 6.016183376312256,
          "mol_index": 140,
          "rotation": 2.7589831352233887,
          "time": 431490000
         },
         {
          "displacement": 5.910362720489502,
          "mol_index": 140,
          "rotation": 2.7936179637908936,
          "time": 432490000
         },
         {
          "displacement": 5.890545845031738,
          "mol_index": 140,
          "rotation": 2.8217549324035645,
          "time": 433490000
         },
         {
          "displacement": 6.114212989807129,
          "mol_index": 140,
          "rotation": 2.6695637702941895,
          "time": 434490000
         },
         {
          "displacement": 6.562951564788818,
          "mol_index": 140,
          "rotation": 2.5440192222595215,
          "time": 435490000
         },
         {
          "displacement": 6.940499305725098,
          "mol_index": 140,
          "rotation": 2.553426504135132,
          "time": 436490000
         },
         {
          "displacement": 6.523911476135254,
          "mol_index": 140,
          "rotation": 2.579568862915039,
          "time": 437490000
         },
         {
          "displacement": 6.371279716491699,
          "mol_index": 140,
          "rotation": 2.2303807735443115,
          "time": 438490000
         },
         {
          "displacement": 6.370759963989258,
          "mol_index": 140,
          "rotation": 2.395991802215576,
          "time": 439490000
         },
         {
          "displacement": 6.0527215003967285,
          "mol_index": 140,
          "rotation": 2.966740846633911,
          "time": 440490000
         },
         {
          "displacement": 5.937796115875244,
          "mol_index": 140,
          "rotation": 2.9731600284576416,
          "time": 441490000
         },
         {
          "displacement": 6.1226606369018555,
          "mol_index": 140,
          "rotation": 2.981475591659546,
          "time": 442490000
         },
         {
          "displacement": 5.956369400024414,
          "mol_index": 140,
          "rotation": 2.333850860595703,
          "time": 443490000
         },
         {
          "displacement": 5.975481986999512,
          "mol_index": 140,
          "rotation": 2.144693374633789,
          "time": 444490000
         },
         {
          "displacement": 5.768826961517334,
          "mol_index": 140,
          "rotation": 1.2315582036972046,
          "time": 445490000
         },
         {
          "displacement": 5.950966835021973,
          "mol_index": 140,
          "rotation": 0.6995784640312195,
          "time": 446490000
         },
         {
          "displacement": 5.613193511962891,
          "mol_index": 140,
          "rotation": 0.17693081498146057,
          "time": 447490000
         },
         {
          "displacement": 5.852709770202637,
          "mol_index": 140,
          "rotation": 0.1594955176115036,
          "time": 448490000
         },
         {
          "displacement": 6.146031856536865,
          "mol_index": 140,
          "rotation": 0.2800271511077881,
          "time": 449490000
         },
         {
          "displacement": 5.8630828857421875,
          "mol_index": 140,
          "rotation": 0.3136131167411804,
          "time": 450490000
         },
         {
          "displacement": 5.693688869476318,
          "mol_index": 140,
          "rotation": 0.3841641843318939,
          "time": 451490000
         },
         {
          "displacement": 5.879550933837891,
          "mol_index": 140,
          "rotation": 0.345222145318985,
          "time": 452490000
         },
         {
          "displacement": 5.950786113739014,
          "mol_index": 140,
          "rotation": 0.3482498824596405,
          "time": 453490000
         },
         {
          "displacement": 6.06483793258667,
          "mol_index": 140,
          "rotation": 0.3324950933456421,
          "time": 454490000
         },
         {
          "displacement": 5.998551368713379,
          "mol_index": 140,
          "rotation": 0.311201810836792,
          "time": 455490000
         },
         {
          "displacement": 5.943962574005127,
          "mol_index": 140,
          "rotation": 0.32700908184051514,
          "time": 456490000
         },
         {
          "displacement": 6.052002906799316,
          "mol_index": 140,
          "rotation": 0.3231469392776489,
          "time": 457490000
         },
         {
          "displacement": 6.248274326324463,
          "mol_index": 140,
          "rotation": 0.34298989176750183,
          "time": 458490000
         },
         {
          "displacement": 6.19752311706543,
          "mol_index": 140,
          "rotation": 0.34434741735458374,
          "time": 459490000
         },
         {
          "displacement": 6.123580455780029,
          "mol_index": 140,
          "rotation": 0.3885452449321747,
          "time": 460490000
         },
         {
          "displacement": 5.904008388519287,
          "mol_index": 140,
          "rotation": 0.3466264605522156,
          "time": 461490000
         },
         {
          "displacement": 5.919411659240723,
          "mol_index": 140,
          "rotation": 0.40952542424201965,
          "time": 462490000
         },
         {
          "displacement": 5.871097564697266,
          "mol_index": 140,
          "rotation": 0.40228384733200073,
          "time": 463490000
         },
         {
          "displacement": 5.650386810302734,
          "mol_index": 140,
          "rotation": 0.4976859390735626,
          "time": 464490000
         },
         {
          "displacement": 5.498108863830566,
          "mol_index": 140,
          "rotation": 0.5143420696258545,
          "time": 465490000
         },
         {
          "displacement": 5.609161376953125,
          "mol_index": 140,
          "rotation": 0.4441746473312378,
          "time": 466490000
         },
         {
          "displacement": 5.843997001647949,
          "mol_index": 140,
          "rotation": 0.44299593567848206,
          "time": 467490000
         },
         {
          "displacement": 5.88025426864624,
          "mol_index": 140,
          "rotation": 0.46326595544815063,
          "time": 468490000
         },
         {
          "displacement": 6.088087558746338,
          "mol_index": 140,
          "rotation": 0.4997920095920563,
          "time": 469490000
         },
         {
          "displacement": 6.212599277496338,
          "mol_index": 140,
          "rotation": 0.4692877233028412,
          "time": 470490000
         },
         {
          "displacement": 6.207613945007324,
          "mol_index": 140,
          "rotation": 0.44651976227760315,
          "time": 471490000
         },
         {
          "displacement": 6.18670129776001,
          "mol_index": 140,
          "rotation": 0.39122384786605835,
          "time": 472490000
         },
         {
          "displacement": 6.250082492828369,
          "mol_index": 140,
          "rotation": 0.41179242730140686,
          "time": 473490000
         },
         {
          "displacement": 6.024529457092285,
          "mol_index": 140,
          "rotation": 0.42462170124053955,
          "time": 474490000
         },
         {
          "displacement": 6.0012383460998535,
          "mol_index": 140,
          "rotation": 0.4831850230693817,
          "time": 475490000
         },
         {
          "displacement": 5.499059677124023,
          "mol_index": 140,
          "rotation": 1.9937671422958374,
          "time": 476490000
         },
         {
          "displacement": 5.366126537322998,
          "mol_index": 140,
          "rotation": 2.188633680343628,
          "time": 477490000
         },
         {
          "displacement": 5.336325645446777,
          "mol_index": 140,
          "rotation": 2.1613402366638184,
          "time": 478490000
         },
         {
          "displacement": 5.339202880859375,
          "mol_index": 140,
          "rotation": 2.157623767852783,
          "time": 479490000
         },
         {
          "displacement": 5.304370403289795,
          "mol_index": 140,
          "rotation": 2.1555581092834473,
          "time": 480490000
         },
         {
          "displacement": 5.2537689208984375,
          "mol_index": 140,
          "rotation": 2.158553123474121,
          "time": 481490000
         },
         {
          "displacement": 5.297174453735352,
          "mol_index": 140,
          "rotation": 2.149261236190796,
          "time": 482490000
         },
         {
          "displacement": 5.361505508422852,
          "mol_index": 140,
          "rotation": 2.165127992630005,
          "time": 483490000
         },
         {
          "displacement": 5.409885406494141,
          "mol_index": 140,
          "rotation": 2.1746575832366943,
          "time": 484490000
         },
         {
          "displacement": 5.314969062805176,
          "mol_index": 140,
          "rotation": 2.103619337081909,
          "time": 485490000
         },
         {
          "displacement": 5.294798851013184,
          "mol_index": 140,
          "rotation": 2.0217714309692383,
          "time": 486490000
         },
         {
          "displacement": 5.233674049377441,
          "mol_index": 140,
          "rotation": 2.029592752456665,
          "time": 487490000
         },
         {
          "displacement": 5.203961372375488,
          "mol_index": 140,
          "rotation": 2.0207223892211914,
          "time": 488490000
         },
         {
          "displacement": 5.0963945388793945,
          "mol_index": 140,
          "rotation": 2.0085954666137695,
          "time": 489490000
         },
         {
          "displacement": 5.479610443115234,
          "mol_index": 140,
          "rotation": 2.0459299087524414,
          "time": 490490000
         },
         {
          "displacement": 5.501079082489014,
          "mol_index": 140,
          "rotation": 1.997735857963562,
          "time": 491490000
         },
         {
          "displacement": 5.5187859535217285,
          "mol_index": 140,
          "rotation": 1.961237907409668,
          "time": 492490000
         },
         {
          "displacement": 5.639036178588867,
          "mol_index": 140,
          "rotation": 2.0017006397247314,
          "time": 493490000
         },
         {
          "displacement": 5.6713128089904785,
          "mol_index": 140,
          "rotation": 2.007916212081909,
          "time": 494490000
         },
         {
          "displacement": 5.811039924621582,
          "mol_index": 140,
          "rotation": 2.0588061809539795,
          "time": 495490000
         },
         {
          "displacement": 6.0002546310424805,
          "mol_index": 140,
          "rotation": 2.0893025398254395,
          "time": 496490000
         },
         {
          "displacement": 6.150975227355957,
          "mol_index": 140,
          "rotation": 2.0797128677368164,
          "time": 497490000
         },
         {
          "displacement": 6.531459331512451,
          "mol_index": 140,
          "rotation": 2.1967151165008545,
          "time": 498490000
         },
         {
          "displacement": 6.289374351501465,
          "mol_index": 140,
          "rotation": 2.192131280899048,
          "time": 499490000
         },
         {
          "displacement": 6.3820977210998535,
          "mol_index": 140,
          "rotation": 2.208867311477661,
          "time": 500490000
         },
         {
          "displacement": 6.384023189544678,
          "mol_index": 140,
          "rotation": 2.1730079650878906,
          "time": 501490000
         },
         {
          "displacement": 6.288698196411133,
          "mol_index": 140,
          "rotation": 2.1291472911834717,
          "time": 502490000
         },
         {
          "displacement": 6.25316858291626,
          "mol_index": 140,
          "rotation": 2.114428997039795,
          "time": 503490000
         },
         {
          "displacement": 6.120985507965088,
          "mol_index": 140,
          "rotation": 2.138606309890747,
          "time": 504490000
         },
         {
          "displacement": 6.201784133911133,
          "mol_index": 140,
          "rotation": 2.125607490539551,
          "time": 505490000
         },
         {
          "displacement": 6.148115158081055,
          "mol_index": 140,
          "rotation": 2.2369277477264404,
          "time": 506490000
         },
         {
          "displacement": 6.171402454376221,
          "mol_index": 140,
          "rotation": 1.9053550958633423,
          "time": 507490000
         },
         {
          "displacement": 6.415684700012207,
          "mol_index": 140,
          "rotation": 1.609820008277893,
          "time": 508490000
         },
         {
          "displacement": 6.558372974395752,
          "mol_index": 140,
          "rotation": 1.633071780204773,
          "time": 509490000
         },
         {
          "displacement": 6.686115741729736,
          "mol_index": 140,
          "rotation": 1.6565804481506348,
          "time": 510490000
         },
         {
          "displacement": 7.069613933563232,
          "mol_index": 140,
          "rotation": 1.8632240295410156,
          "time": 511490000
         },
         {
          "displacement": 7.345390319824219,
          "mol_index": 140,
          "rotation": 1.6039154529571533,
          "time": 512490000
         },
         {
          "displacement": 7.436993598937988,
          "mol_index": 140,
          "rotation": 0.8056894540786743,
          "time": 513490000
         },
         {
          "displacement": 7.6866021156311035,
          "mol_index": 140,
          "rotation": 0.2661007344722748,
          "time": 514490000
         },
         {
          "displacement": 7.90315055847168,
          "mol_index": 140,
          "rotation": 0.3065301477909088,
          "time": 515490000
         },
         {
          "displacement": 7.74074125289917,
          "mol_index": 140,
          "rotation": 1.3345452547073364,
          "time": 516490000
         },
         {
          "displacement": 7.706326007843018,
          "mol_index": 140,
          "rotation": 1.272950291633606,
          "time": 517490000
         },
         {
          "displacement": 7.302429676055908,
          "mol_index": 140,
          "rotation": 1.307581901550293,
          "time": 518490000
         },
         {
          "displacement": 7.374197959899902,
          "mol_index": 140,
          "rotation": 1.2877811193466187,
          "time": 519490000
         },
         {
          "displacement": 7.752026081085205,
          "mol_index": 140,
          "rotation": 1.2710388898849487,
          "time": 520490000
         },
         {
          "displacement": 7.790162563323975,
          "mol_index": 140,
          "rotation": 1.272585391998291,
          "time": 521490000
         },
         {
          "displacement": 7.782612323760986,
          "mol_index": 140,
          "rotation": 1.264771819114685,
          "time": 522490000
         },
         {
          "displacement": 7.576086521148682,
          "mol_index": 140,
          "rotation": 1.717774748802185,
          "time": 523490000
         },
         {
          "displacement": 7.067760467529297,
          "mol_index": 140,
          "rotation": 1.8462601900100708,
          "time": 524490000
         },
         {
          "displacement": 7.2993083000183105,
          "mol_index": 140,
          "rotation": 1.8083560466766357,
          "time": 525490000
         },
         {
          "displacement": 7.462401390075684,
          "mol_index": 140,
          "rotation": 1.4956130981445312,
          "time": 526490000
         },
         {
          "displacement": 7.5574116706848145,
          "mol_index": 140,
          "rotation": 2.0509612560272217,
          "time": 527490000
         },
         {
          "displacement": 7.339385032653809,
          "mol_index": 140,
          "rotation": 1.9652042388916016,
          "time": 528490000
         },
         {
          "displacement": 7.122251510620117,
          "mol_index": 140,
          "rotation": 0.17362627387046814,
          "time": 529490000
         },
         {
          "displacement": 7.6574530601501465,
          "mol_index": 140,
          "rotation": 0.118068166077137,
          "time": 530490000
         },
         {
          "displacement": 8.060099601745605,
          "mol_index": 140,
          "rotation": 0.1218300312757492,
          "time": 531490000
         },
         {
          "displacement": 8.121123313903809,
          "mol_index": 140,
          "rotation": 0.10540534555912018,
          "time": 532490000
         },
         {
          "displacement": 8.321083068847656,
          "mol_index": 140,
          "rotation": 0.11269775032997131,
          "time": 533490000
         },
         {
          "displacement": 8.294188499450684,
          "mol_index": 140,
          "rotation": 0.10903489589691162,
          "time": 534490000
         },
         {
          "displacement": 8.243091583251953,
          "mol_index": 140,
          "rotation": 0.0934150442481041,
          "time": 535490000
         },
         {
          "displacement": 8.17780876159668,
          "mol_index": 140,
          "rotation": 0.08368896692991257,
          "time": 536490000
         },
         {
          "displacement": 8.156599044799805,
          "mol_index": 140,
          "rotation": 0.06424219906330109,
          "time": 537490000
         },
         {
          "displacement": 8.234712600708008,
          "mol_index": 140,
          "rotation": 0.057903386652469635,
          "time": 538490000
         },
         {
          "displacement": 8.592992782592773,
          "mol_index": 140,
          "rotation": 0.07797544449567795,
          "time": 539490000
         },
         {
          "displacement": 9.379186630249023,
          "mol_index": 140,
          "rotation": 0.1272525042295456,
          "time": 540490000
         },
         {
          "displacement": 9.622024536132812,
          "mol_index": 140,
          "rotation": 0.13732025027275085,
          "time": 541490000
         },
         {
          "displacement": 9.688865661621094,
          "mol_index": 140,
          "rotation": 0.1460956335067749,
          "time": 542490000
         },
         {
          "displacement": 9.526528358459473,
          "mol_index": 140,
          "rotation": 0.2916906774044037,
          "time": 543490000
         },
         {
          "displacement": 9.471860885620117,
          "mol_index": 140,
          "rotation": 0.1927761733531952,
          "time": 544490000
         },
         {
          "displacement": 9.870260238647461,
          "mol_index": 140,
          "rotation": 0.2038157731294632,
          "time": 545490000
         },
         {
          "displacement": 9.964219093322754,
          "mol_index": 140,
          "rotation": 0.16711384057998657,
          "time": 546490000
         },
         {
          "displacement": 9.90637493133545,
          "mol_index": 140,
          "rotation": 0.20695535838603973,
          "time": 547490000
         },
         {
          "displacement": 9.5408353805542,
          "mol_index": 140,
          "rotation": 0.5526350736618042,
          "time": 548490000
         },
         {
          "displacement": 9.754133224487305,
          "mol_index": 140,
          "rotation": 0.5848510265350342,
          "time": 549490000
         },
         {
          "displacement": 9.732093811035156,
          "mol_index": 140,
          "rotation": 0.7195570468902588,
          "time": 550490000
         },
         {
          "displacement": 9.767278671264648,
          "mol_index": 140,
          "rotation": 0.6546258926391602,
          "time": 551490000
         },
         {
          "displacement": 9.50670051574707,
          "mol_index": 140,
          "rotation": 0.6217961311340332,
          "time": 552490000
         },
         {
          "displacement": 8.827842712402344,
          "mol_index": 140,
          "rotation": 0.7734988927841187,
          "time": 553490000
         },
         {
          "displacement": 8.633228302001953,
          "mol_index": 140,
          "rotation": 0.8004500269889832,
          "time": 554490000
         },
         {
          "displacement": 8.622551918029785,
          "mol_index": 140,
          "rotation": 1.2585819959640503,
          "time": 555490000
         },
         {
          "displacement": 8.62295913696289,
          "mol_index": 140,
          "rotation": 1.24290931224823,
          "time": 556490000
         },
         {
          "displacement": 8.622811317443848,
          "mol_index": 140,
          "rotation": 1.2259784936904907,
          "time": 557490000
         },
         {
          "displacement": 8.521697044372559,
          "mol_index": 140,
          "rotation": 1.2257611751556396,
          "time": 558490000
         },
         {
          "displacement": 8.611908912658691,
          "mol_index": 140,
          "rotation": 1.2240984439849854,
          "time": 559490000
         },
         {
          "displacement": 8.506625175476074,
          "mol_index": 140,
          "rotation": 1.2048251628875732,
          "time": 560490000
         },
         {
          "displacement": 8.33997917175293,
          "mol_index": 140,
          "rotation": 0.8068969249725342,
          "time": 561490000
         },
         {
          "displacement": 8.22164535522461,
          "mol_index": 140,
          "rotation": 1.169508934020996,
          "time": 562490000
         },
         {
          "displacement": 8.896498680114746,
          "mol_index": 140,
          "rotation": 1.8178905248641968,
          "time": 563490000
         },
         {
          "displacement": 8.141615867614746,
          "mol_index": 140,
          "rotation": 1.139886736869812,
          "time": 564490000
         },
         {
          "displacement": 8.099030494689941,
          "mol_index": 140,
          "rotation": 1.3156187534332275,
          "time": 565490000
         },
         {
          "displacement": 7.987998962402344,
          "mol_index": 140,
          "rotation": 1.0910271406173706,
          "time": 566490000
         },
         {
          "displacement": 8.00930404663086,
          "mol_index": 140,
          "rotation": 1.0024830102920532,
          "time": 567490000
         },
         {
          "displacement": 7.71256685256958,
          "mol_index": 140,
          "rotation": 1.004878044128418,
          "time": 568490000
         },
         {
          "displacement": 7.570334434509277,
          "mol_index": 140,
          "rotation": 1.0174343585968018,
          "time": 569490000
         },
         {
          "displacement": 7.635912895202637,
          "mol_index": 140,
          "rotation": 1.0187981128692627,
          "time": 570490000
         },
         {
          "displacement": 7.571290493011475,
          "mol_index": 140,
          "rotation": 0.9477176070213318,
          "time": 571490000
         },
         {
          "displacement": 7.700019359588623,
          "mol_index": 140,
          "rotation": 1.0021145343780518,
          "time": 572490000
         },
         {
          "displacement": 7.770955562591553,
          "mol_index": 140,
          "rotation": 1.0005455017089844,
          "time": 573490000
         },
         {
          "displacement": 7.628411293029785,
          "mol_index": 140,
          "rotation": 1.0079997777938843,
          "time": 574490000
         },
         {
          "displacement": 7.581634044647217,
          "mol_index": 140,
          "rotation": 1.0085991621017456,
          "time": 575490000
         },
         {
          "displacement": 8.000617980957031,
          "mol_index": 140,
          "rotation": 1.013858437538147,
          "time": 576490000
         },
         {
          "displacement": 7.866458892822266,
          "mol_index": 140,
          "rotation": 1.0262006521224976,
          "time": 577490000
         },
         {
          "displacement": 7.828172206878662,
          "mol_index": 140,
          "rotation": 1.0140798091888428,
          "time": 578490000
         },
         {
          "displacement": 7.788605213165283,
          "mol_index": 140,
          "rotation": 1.020948052406311,
          "time": 579490000
         },
         {
          "displacement": 7.84441614151001,
          "mol_index": 140,
          "rotation": 1.023640751838684,
          "time": 580490000
         },
         {
          "displacement": 7.812634468078613,
          "mol_index": 140,
          "rotation": 1.0319688320159912,
          "time": 581490000
         },
         {
          "displacement": 7.754711627960205,
          "mol_index": 140,
          "rotation": 1.034349799156189,
          "time": 582490000
         },
         {
          "displacement": 7.673025608062744,
          "mol_index": 140,
          "rotation": 1.0193198919296265,
          "time": 583490000
         },
         {
          "displacement": 7.7744669914245605,
          "mol_index": 140,
          "rotation": 1.0195711851119995,
          "time": 584490000
         },
         {
          "displacement": 7.755577564239502,
          "mol_index": 140,
          "rotation": 1.0129574537277222,
          "time": 585490000
         },
         {
          "displacement": 7.853351593017578,
          "mol_index": 140,
          "rotation": 1.0110374689102173,
          "time": 586490000
         },
         {
          "displacement": 7.1453728675842285,
          "mol_index": 140,
          "rotation": 0.8481118679046631,
          "time": 587490000
         },
         {
          "displacement": 7.2958550453186035,
          "mol_index": 140,
          "rotation": 1.209514856338501,
          "time": 588490000
         },
         {
          "displacement": 7.319390296936035,
          "mol_index": 140,
          "rotation": 1.0875993967056274,
          "time": 589490000
         },
         {
          "displacement": 7.421278476715088,
          "mol_index": 140,
          "rotation": 1.1160544157028198,
          "time": 590490000
         },
         {
          "displacement": 7.219046115875244,
          "mol_index": 140,
          "rotation": 1.1166901588439941,
          "time": 591490000
         },
         {
          "displacement": 6.807477951049805,
          "mol_index": 140,
          "rotation": 0.6638922095298767,
          "time": 592490000
         },
         {
          "displacement": 6.862320899963379,
          "mol_index": 140,
          "rotation": 0.9795840978622437,
          "time": 593490000
         },
         {
          "displacement": 7.178366661071777,
          "mol_index": 140,
          "rotation": 1.075330376625061,
          "time": 594490000
         },
         {
          "displacement": 7.103577136993408,
          "mol_index": 140,
          "rotation": 1.1050440073013306,
          "time": 595490000
         },
         {
          "displacement": 7.119490623474121,
          "mol_index": 140,
          "rotation": 1.092668890953064,
          "time": 596490000
         },
         {
          "displacement": 7.039985656738281,
          "mol_index": 140,
          "rotation": 1.1049937009811401,
          "time": 597490000
         },
         {
          "displacement": 7.01423978805542,
          "mol_index": 140,
          "rotation": 1.1132888793945312,
          "time": 598490000
         },
         {
          "displacement": 7.033987045288086,
          "mol_index": 140,
          "rotation": 1.0941486358642578,
          "time": 599490000
         },
         {
          "displacement": 7.030651569366455,
          "mol_index": 140,
          "rotation": 1.108973741531372,
          "time": 600490000
         },
         {
          "displacement": 6.9741668701171875,
          "mol_index": 140,
          "rotation": 1.122999668121338,
          "time": 601490000
         },
         {
          "displacement": 7.021424293518066,
          "mol_index": 140,
          "rotation": 1.1015604734420776,
          "time": 602490000
         },
         {
          "displacement": 7.019423961639404,
          "mol_index": 140,
          "rotation": 1.0952521562576294,
          "time": 603490000
         },
         {
          "displacement": 7.1009440422058105,
          "mol_index": 140,
          "rotation": 1.1167742013931274,
          "time": 604490000
         },
         {
          "displacement": 7.063389778137207,
          "mol_index": 140,
          "rotation": 1.1079412698745728,
          "time": 605490000
         },
         {
          "displacement": 7.159717559814453,
          "mol_index": 140,
          "rotation": 1.1129316091537476,
          "time": 606490000
         },
         {
          "displacement": 7.185426712036133,
          "mol_index": 140,
          "rotation": 1.1136311292648315,
          "time": 607490000
         },
         {
          "displacement": 7.170806884765625,
          "mol_index": 140,
          "rotation": 1.099990963935852,
          "time": 608490000
         },
         {
          "displacement": 6.986291885375977,
          "mol_index": 140,
          "rotation": 1.1032956838607788,
          "time": 609490000
         },
         {
          "displacement": 7.025583744049072,
          "mol_index": 140,
          "rotation": 1.0981693267822266,
          "time": 610490000
         },
         {
          "displacement": 6.97995138168335,
          "mol_index": 140,
          "rotation": 1.0858063697814941,
          "time": 611490000
         },
         {
          "displacement": 6.932104587554932,
          "mol_index": 140,
          "rotation": 1.1075025796890259,
          "time": 612490000
         },
         {
          "displacement": 7.0735015869140625,
          "mol_index": 140,
          "rotation": 1.1172773838043213,
          "time": 613490000
         },
         {
          "displacement": 7.039565086364746,
          "mol_index": 140,
          "rotation": 1.1216723918914795,
          "time": 614490000
         },
         {
          "displacement": 7.019975662231445,
          "mol_index": 140,
          "rotation": 1.1106011867523193,
          "time": 615490000
         },
         {
          "displacement": 6.685022830963135,
          "mol_index": 140,
          "rotation": 0.745327889919281,
          "time": 616490000
         },
         {
          "displacement": 6.3769659996032715,
          "mol_index": 140,
          "rotation": 0.24207544326782227,
          "time": 617490000
         },
         {
          "displacement": 6.427275657653809,
          "mol_index": 140,
          "rotation": 0.23922032117843628,
          "time": 618490000
         },
         {
          "displacement": 6.298029899597168,
          "mol_index": 140,
          "rotation": 0.2241111546754837,
          "time": 619490000
         },
         {
          "displacement": 6.393819808959961,
          "mol_index": 140,
          "rotation": 0.30684953927993774,
          "time": 620490000
         },
         {
          "displacement": 6.420424461364746,
          "mol_index": 140,
          "rotation": 0.26420196890830994,
          "time": 621490000
         },
         {
          "displacement": 6.51504373550415,
          "mol_index": 140,
          "rotation": 0.2898406982421875,
          "time": 622490000
         },
         {
          "displacement": 6.898416996002197,
          "mol_index": 140,
          "rotation": 0.6240861415863037,
          "time": 623490000
         },
         {
          "displacement": 6.44786262512207,
          "mol_index": 140,
          "rotation": 0.3317825198173523,
          "time": 624490000
         },
         {
          "displacement": 5.975765228271484,
          "mol_index": 140,
          "rotation": 0.11781303584575653,
          "time": 625490000
         },
         {
          "displacement": 6.22091007232666,
          "mol_index": 140,
          "rotation": 0.8453717827796936,
          "time": 626490000
         },
         {
          "displacement": 7.241881370544434,
          "mol_index": 140,
          "rotation": 1.6348042488098145,
          "time": 627490000
         },
         {
          "displacement": 7.412325382232666,
          "mol_index": 140,
          "rotation": 1.6760129928588867,
          "time": 628490000
         },
         {
          "displacement": 7.066683292388916,
          "mol_index": 140,
          "rotation": 1.5096690654754639,
          "time": 629490000
         },
         {
          "displacement": 6.6290082931518555,
          "mol_index": 140,
          "rotation": 1.413549780845642,
          "time": 630490000
         },
         {
          "displacement": 6.74910831451416,
          "mol_index": 140,
          "rotation": 0.7077005505561829,
          "time": 631490000
         },
         {
          "displacement": 6.4861578941345215,
          "mol_index": 140,
          "rotation": 0.5866483449935913,
          "time": 632490000
         },
         {
          "displacement": 6.573390007019043,
          "mol_index": 140,
          "rotation": 1.335283875465393,
          "time": 633490000
         },
         {
          "displacement": 6.634967803955078,
          "mol_index": 140,
          "rotation": 1.3103253841400146,
          "time": 634490000
         },
         {
          "displacement": 6.720831871032715,
          "mol_index": 140,
          "rotation": 1.318508267402649,
          "time": 635490000
         },
         {
          "displacement": 7.07979679107666,
          "mol_index": 140,
          "rotation": 1.3559695482254028,
          "time": 636490000
         },
         {
          "displacement": 7.171377658843994,
          "mol_index": 140,
          "rotation": 1.3531333208084106,
          "time": 637490000
         },
         {
          "displacement": 7.069887161254883,
          "mol_index": 140,
          "rotation": 1.2316793203353882,
          "time": 638490000
         },
         {
          "displacement": 8.016769409179688,
          "mol_index": 140,
          "rotation": 1.373335838317871,
          "time": 639490000
         },
         {
          "displacement": 8.647191047668457,
          "mol_index": 140,
          "rotation": 1.743383765220642,
          "time": 640490000
         },
         {
          "displacement": 7.220641136169434,
          "mol_index": 140,
          "rotation": 2.1936209201812744,
          "time": 641490000
         },
         {
          "displacement": 7.068140506744385,
          "mol_index": 140,
          "rotation": 1.4020882844924927,
          "time": 642490000
         },
         {
          "displacement": 7.262094020843506,
          "mol_index": 140,
          "rotation": 1.4900400638580322,
          "time": 643490000
         },
         {
          "displacement": 7.232148170471191,
          "mol_index": 140,
          "rotation": 1.0455970764160156,
          "time": 644490000
         },
         {
          "displacement": 7.1664719581604,
          "mol_index": 140,
          "rotation": 1.2946569919586182,
          "time": 645490000
         },
         {
          "displacement": 6.900496482849121,
          "mol_index": 140,
          "rotation": 2.0924453735351562,
          "time": 646490000
         },
         {
          "displacement": 7.139244556427002,
          "mol_index": 140,
          "rotation": 1.465095043182373,
          "time": 647490000
         },
         {
          "displacement": 6.895259857177734,
          "mol_index": 140,
          "rotation": 1.8739848136901855,
          "time": 648490000
         },
         {
          "displacement": 7.093721389770508,
          "mol_index": 140,
          "rotation": 1.4004387855529785,
          "time": 649490000
         },
         {
          "displacement": 6.677289009094238,
          "mol_index": 140,
          "rotation": 0.9478484988212585,
          "time": 650490000
         },
         {
          "displacement": 6.481005668640137,
          "mol_index": 140,
          "rotation": 1.0517290830612183,
          "time": 651490000
         },
         {
          "displacement": 6.879229545593262,
          "mol_index": 140,
          "rotation": 0.8317463397979736,
          "time": 652490000
         },
         {
          "displacement": 5.89689826965332,
          "mol_index": 140,
          "rotation": 0.25644075870513916,
          "time": 653490000
         },
         {
          "displacement": 6.132117748260498,
          "mol_index": 140,
          "rotation": 0.7592601180076599,
          "time": 654490000
         },
         {
          "displacement": 7.019335746765137,
          "mol_index": 140,
          "rotation": 0.4420798122882843,
          "time": 655490000
         },
         {
          "displacement": 7.198050022125244,
          "mol_index": 140,
          "rotation": 0.719418466091156,
          "time": 656490000
         },
         {
          "displacement": 7.168464183807373,
          "mol_index": 140,
          "rotation": 0.9070209264755249,
          "time": 657490000
         },
         {
          "displacement": 7.348334789276123,
          "mol_index": 140,
          "rotation": 1.125230073928833,
          "time": 658490000
         },
         {
          "displacement": 7.505393981933594,
          "mol_index": 140,
          "rotation": 0.560019850730896,
          "time": 659490000
         },
         {
          "displacement": 7.328561305999756,
          "mol_index": 140,
          "rotation": 0.6531267762184143,
          "time": 660490000
         },
         {
          "displacement": 7.115163326263428,
          "mol_index": 140,
          "rotation": 1.5372142791748047,
          "time": 661490000
         },
         {
          "displacement": 7.166953086853027,
          "mol_index": 140,
          "rotation": 1.4882521629333496,
          "time": 662490000
         },
         {
          "displacement": 7.332581520080566,
          "mol_index": 140,
          "rotation": 1.5186192989349365,
          "time": 663490000
         },
         {
          "displacement": 7.1962175369262695,
          "mol_index": 140,
          "rotation": 1.5695024728775024,
          "time": 664490000
         },
         {
          "displacement": 7.271424293518066,
          "mol_index": 140,
          "rotation": 1.5671799182891846,
          "time": 665490000
         },
         {
          "displacement": 7.1981096267700195,
          "mol_index": 140,
          "rotation": 1.563689112663269,
          "time": 666490000
         },
         {
          "displacement": 7.298889636993408,
          "mol_index": 140,
          "rotation": 1.5501991510391235,
          "time": 667490000
         },
         {
          "displacement": 7.18812894821167,
          "mol_index": 140,
          "rotation": 1.5645798444747925,
          "time": 668490000
         },
         {
          "displacement": 7.151556968688965,
          "mol_index": 140,
          "rotation": 1.585033893585205,
          "time": 669490000
         },
         {
          "displacement": 7.236833572387695,
          "mol_index": 140,
          "rotation": 1.5886667966842651,
          "time": 670490000
         },
         {
          "displacement": 7.322878837585449,
          "mol_index": 140,
          "rotation": 1.570194959640503,
          "time": 671490000
         },
         {
          "displacement": 7.944431781768799,
          "mol_index": 140,
          "rotation": 1.7194904088974,
          "time": 672490000
         },
         {
          "displacement": 8.259532928466797,
          "mol_index": 140,
          "rotation": 1.587386965751648,
          "time": 673490000
         },
         {
          "displacement": 8.307950973510742,
          "mol_index": 140,
          "rotation": 1.6515905857086182,
          "time": 674490000
         },
         {
          "displacement": 8.22851276397705,
          "mol_index": 140,
          "rotation": 1.5983154773712158,
          "time": 675490000
         },
         {
          "displacement": 7.8869524002075195,
          "mol_index": 140,
          "rotation": 1.67887282371521,
          "time": 676490000
         },
         {
          "displacement": 8.094925880432129,
          "mol_index": 140,
          "rotation": 2.204385757446289,
          "time": 677490000
         },
         {
          "displacement": 8.494608879089355,
          "mol_index": 140,
          "rotation": 2.9622936248779297,
          "time": 678490000
         },
         {
          "displacement": 8.528311729431152,
          "mol_index": 140,
          "rotation": 3.023073434829712,
          "time": 679490000
         },
         {
          "displacement": 8.880111694335938,
          "mol_index": 140,
          "rotation": 2.9377334117889404,
          "time": 680490000
         },
         {
          "displacement": 8.796438217163086,
          "mol_index": 140,
          "rotation": 2.711247444152832,
          "time": 681490000
         },
         {
          "displacement": 8.858301162719727,
          "mol_index": 140,
          "rotation": 2.5267179012298584,
          "time": 682490000
         },
         {
          "displacement": 8.69815731048584,
          "mol_index": 140,
          "rotation": 2.2551910877227783,
          "time": 683490000
         },
         {
          "displacement": 8.709465026855469,
          "mol_index": 140,
          "rotation": 2.154484987258911,
          "time": 684490000
         },
         {
          "displacement": 8.974184036254883,
          "mol_index": 140,
          "rotation": 1.4305102825164795,
          "time": 685490000
         },
         {
          "displacement": 9.042023658752441,
          "mol_index": 140,
          "rotation": 0.7860584259033203,
          "time": 686490000
         },
         {
          "displacement": 9.870083808898926,
          "mol_index": 140,
          "rotation": 0.8410224318504333,
          "time": 687490000
         },
         {
          "displacement": 9.784059524536133,
          "mol_index": 140,
          "rotation": 0.8532004952430725,
          "time": 688490000
         },
         {
          "displacement": 10.018081665039062,
          "mol_index": 140,
          "rotation": 1.5694864988327026,
          "time": 689490000
         },
         {
          "displacement": 10.4135160446167,
          "mol_index": 140,
          "rotation": 0.7947404980659485,
          "time": 690490000
         },
         {
          "displacement": 10.431221961975098,
          "mol_index": 140,
          "rotation": 0.7259419560432434,
          "time": 691490000
         },
         {
          "displacement": 11.042847633361816,
          "mol_index": 140,
          "rotation": 0.7734484076499939,
          "time": 692490000
         },
         {
          "displacement": 11.857752799987793,
          "mol_index": 140,
          "rotation": 0.7356472015380859,
          "time": 693490000
         },
         {
          "displacement": 11.819528579711914,
          "mol_index": 140,
          "rotation": 0.9374815225601196,
          "time": 694490000
         },
         {
          "displacement": 11.452165603637695,
          "mol_index": 140,
          "rotation": 1.0395604372024536,
          "time": 695490000
         },
         {
          "displacement": 12.12321662902832,
          "mol_index": 140,
          "rotation": 0.5204988718032837,
          "time": 696490000
         },
         {
          "displacement": 12.473877906799316,
          "mol_index": 140,
          "rotation": 0.25143736600875854,
          "time": 697490000
         },
         {
          "displacement": 12.733075141906738,
          "mol_index": 140,
          "rotation": 0.10953278839588165,
          "time": 698490000
         },
         {
          "displacement": 12.693370819091797,
          "mol_index": 140,
          "rotation": 0.11666538566350937,
          "time": 699490000
         },
         {
          "displacement": 12.72237777709961,
          "mol_index": 140,
          "rotation": 0.4881606101989746,
          "time": 700490000
         },
         {
          "displacement": 12.935206413269043,
          "mol_index": 140,
          "rotation": 0.6765198111534119,
          "time": 701490000
         },
         {
          "displacement": 13.067103385925293,
          "mol_index": 140,
          "rotation": 0.665274441242218,
          "time": 702490000
         },
         {
          "displacement": 13.04385757446289,
          "mol_index": 140,
          "rotation": 1.0878254175186157,
          "time": 703490000
         },
         {
          "displacement": 12.861626625061035,
          "mol_index": 140,
          "rotation": 1.5795929431915283,
          "time": 704490000
         },
         {
          "displacement": 12.623866081237793,
          "mol_index": 140,
          "rotation": 1.18728768825531,
          "time": 705490000
         },
         {
          "displacement": 12.430529594421387,
          "mol_index": 140,
          "rotation": 0.6004716157913208,
          "time": 706490000
         },
         {
          "displacement": 12.175837516784668,
          "mol_index": 140,
          "rotation": 0.972459614276886,
          "time": 707490000
         },
         {
          "displacement": 12.298673629760742,
          "mol_index": 140,
          "rotation": 1.1007561683654785,
          "time": 708490000
         },
         {
          "displacement": 12.24174690246582,
          "mol_index": 140,
          "rotation": 1.114428997039795,
          "time": 709490000
         },
         {
          "displacement": 12.471817016601562,
          "mol_index": 140,
          "rotation": 0.25053325295448303,
          "time": 710490000
         },
         {
          "displacement": 12.189798355102539,
          "mol_index": 140,
          "rotation": 1.1305190324783325,
          "time": 711490000
         },
         {
          "displacement": 12.196070671081543,
          "mol_index": 140,
          "rotation": 1.9709389209747314,
          "time": 712490000
         },
         {
          "displacement": 12.070343971252441,
          "mol_index": 140,
          "rotation": 2.4742355346679688,
          "time": 713490000
         },
         {
          "displacement": 12.090299606323242,
          "mol_index": 140,
          "rotation": 2.4897234439849854,
          "time": 714490000
         },
         {
          "displacement": 11.98178768157959,
          "mol_index": 140,
          "rotation": 2.4507622718811035,
          "time": 715490000
         },
         {
          "displacement": 12.106794357299805,
          "mol_index": 140,
          "rotation": 2.387646436691284,
          "time": 716490000
         },
         {
          "displacement": 12.441308975219727,
          "mol_index": 140,
          "rotation": 2.344303607940674,
          "time": 717490000
         },
         {
          "displacement": 12.35938835144043,
          "mol_index": 140,
          "rotation": 2.347250461578369,
          "time": 718490000
         },
         {
          "displacement": 11.867950439453125,
          "mol_index": 140,
          "rotation": 2.2127418518066406,
          "time": 719490000
         },
         {
          "displacement": 11.451667785644531,
          "mol_index": 140,
          "rotation": 1.923298716545105,
          "time": 720490000
         },
         {
          "displacement": 11.744494438171387,
          "mol_index": 140,
          "rotation": 1.9774904251098633,
          "time": 721490000
         },
         {
          "displacement": 11.995121002197266,
          "mol_index": 140,
          "rotation": 2.0111324787139893,
          "time": 722490000
         },
         {
          "displacement": 12.085999488830566,
          "mol_index": 140,
          "rotation": 2.014909267425537,
          "time": 723490000
         },
         {
          "displacement": 11.987936019897461,
          "mol_index": 140,
          "rotation": 2.023961067199707,
          "time": 724490000
         },
         {
          "displacement": 12.11587142944336,
          "mol_index": 140,
          "rotation": 1.997799277305603,
          "time": 725490000
         },
         {
          "displacement": 11.987796783447266,
          "mol_index": 140,
          "rotation": 2.0481791496276855,
          "time": 726490000
         },
         {
          "displacement": 11.984167098999023,
          "mol_index": 140,
          "rotation": 2.0315561294555664,
          "time": 727490000
         },
         {
          "displacement": 12.025788307189941,
          "mol_index": 140,
          "rotation": 2.0567071437835693,
          "time": 728490000
         },
         {
          "displacement": 11.907057762145996,
          "mol_index": 140,
          "rotation": 2.0409796237945557,
          "time": 729490000
         },
         {
          "displacement": 11.990669250488281,
          "mol_index": 140,
          "rotation": 2.142025947570801,
          "time": 730490000
         },
         {
          "displacement": 11.934017181396484,
          "mol_index": 140,
          "rotation": 2.0968520641326904,
          "time": 731490000
         },
         {
          "displacement": 11.993431091308594,
          "mol_index": 140,
          "rotation": 2.084226131439209,
          "time": 732490000
         },
         {
          "displacement": 11.891502380371094,
          "mol_index": 140,
          "rotation": 2.0068938732147217,
          "time": 733490000
         },
         {
          "displacement": 11.795473098754883,
          "mol_index": 140,
          "rotation": 1.978681206703186,
          "time": 734490000
         },
         {
          "displacement": 11.895994186401367,
          "mol_index": 140,
          "rotation": 2.041905641555786,
          "time": 735490000
         },
         {
          "displacement": 11.911214828491211,
          "mol_index": 140,
          "rotation": 2.0847160816192627,
          "time": 736490000
         },
         {
          "displacement": 11.923188209533691,
          "mol_index": 140,
          "rotation": 2.138120174407959,
          "time": 737490000
         },
         {
          "displacement": 12.170998573303223,
          "mol_index": 140,
          "rotation": 2.132566213607788,
          "time": 738490000
         },
         {
          "displacement": 12.171368598937988,
          "mol_index": 140,
          "rotation": 2.1461448669433594,
          "time": 739490000
         },
         {
          "displacement": 11.986605644226074,
          "mol_index": 140,
          "rotation": 2.1308891773223877,
          "time": 740490000
         },
         {
          "displacement": 12.092084884643555,
          "mol_index": 140,
          "rotation": 2.153846502304077,
          "time": 741490000
         },
         {
          "displacement": 12.133143424987793,
          "mol_index": 140,
          "rotation": 2.1798410415649414,
          "time": 742490000
         },
         {
          "displacement": 12.342949867248535,
          "mol_index": 140,
          "rotation": 2.101182699203491,
          "time": 743490000
         },
         {
          "displacement": 12.244260787963867,
          "mol_index": 140,
          "rotation": 2.168868064880371,
          "time": 744490000
         },
         {
          "displacement": 12.208910942077637,
          "mol_index": 140,
          "rotation": 2.2183938026428223,
          "time": 745490000
         },
         {
          "displacement": 12.317562103271484,
          "mol_index": 140,
          "rotation": 2.2607786655426025,
          "time": 746490000
         },
         {
          "displacement": 12.384794235229492,
          "mol_index": 140,
          "rotation": 2.059185028076172,
          "time": 747490000
         },
         {
          "displacement": 12.48840045928955,
          "mol_index": 140,
          "rotation": 1.5938024520874023,
          "time": 748490000
         },
         {
          "displacement": 12.003026008605957,
          "mol_index": 140,
          "rotation": 1.6524159908294678,
          "time": 749490000
         },
         {
          "displacement": 11.854077339172363,
          "mol_index": 140,
          "rotation": 2.0379464626312256,
          "time": 750490000
         },
         {
          "displacement": 11.998495101928711,
          "mol_index": 140,
          "rotation": 2.021777629852295,
          "time": 751490000
         },
         {
          "displacement": 11.986261367797852,
          "mol_index": 140,
          "rotation": 2.0092689990997314,
          "time": 752490000
         },
         {
          "displacement": 11.973419189453125,
          "mol_index": 140,
          "rotation": 2.031574010848999,
          "time": 753490000
         },
         {
          "displacement": 12.058616638183594,
          "mol_index": 140,
          "rotation": 2.0170257091522217,
          "time": 754490000
         },
         {
          "displacement": 12.086857795715332,
          "mol_index": 140,
          "rotation": 2.0315115451812744,
          "time": 755490000
         },
         {
          "displacement": 12.068281173706055,
          "mol_index": 140,
          "rotation": 2.0294902324676514,
          "time": 756490000
         },
         {
          "displacement": 11.970123291015625,
          "mol_index": 140,
          "rotation": 2.020005464553833,
          "time": 757490000
         },
         {
          "displacement": 12.052755355834961,
          "mol_index": 140,
          "rotation": 2.0411927700042725,
          "time": 758490000
         },
         {
          "displacement": 12.062981605529785,
          "mol_index": 140,
          "rotation": 2.0323944091796875,
          "time": 759490000
         },
         {
          "displacement": 12.12766170501709,
          "mol_index": 140,
          "rotation": 1.9929412603378296,
          "time": 760490000
         },
         {
          "displacement": 12.246097564697266,
          "mol_index": 140,
          "rotation": 1.9934306144714355,
          "time": 761490000
         },
         {
          "displacement": 12.355173110961914,
          "mol_index": 140,
          "rotation": 2.0337698459625244,
          "time": 762490000
         },
         {
          "displacement": 12.36072826385498,
          "mol_index": 140,
          "rotation": 2.0240297317504883,
          "time": 763490000
         },
         {
          "displacement": 12.455941200256348,
          "mol_index": 140,
          "rotation": 1.9948387145996094,
          "time": 764490000
         },
         {
          "displacement": 13.447770118713379,
          "mol_index": 140,
          "rotation": 2.0630075931549072,
          "time": 765490000
         },
         {
          "displacement": 13.77993392944336,
          "mol_index": 140,
          "rotation": 2.084508180618286,
          "time": 766490000
         },
         {
          "displacement": 13.888921737670898,
          "mol_index": 140,
          "rotation": 2.0738143920898438,
          "time": 767490000
         },
         {
          "displacement": 14.378464698791504,
          "mol_index": 140,
          "rotation": 1.9121750593185425,
          "time": 768490000
         },
         {
          "displacement": 13.872830390930176,
          "mol_index": 140,
          "rotation": 2.3222904205322266,
          "time": 769490000
         },
         {
          "displacement": 13.526812553405762,
          "mol_index": 140,
          "rotation": 2.914475917816162,
          "time": 770490000
         },
         {
          "displacement": 13.50163745880127,
          "mol_index": 140,
          "rotation": 2.876283884048462,
          "time": 771490000
         },
         {
          "displacement": 13.661752700805664,
          "mol_index": 140,
          "rotation": 2.866866111755371,
          "time": 772490000
         },
         {
          "displacement": 13.95106029510498,
          "mol_index": 140,
          "rotation": 2.9412968158721924,
          "time": 773490000
         },
         {
          "displacement": 14.08215045928955,
          "mol_index": 140,
          "rotation": 2.843815326690674,
          "time": 774490000
         },
         {
          "displacement": 14.785884857177734,
          "mol_index": 140,
          "rotation": 2.896273612976074,
          "time": 775490000
         },
         {
          "displacement": 14.759647369384766,
          "mol_index": 140,
          "rotation": 2.9645023345947266,
          "time": 776490000
         },
         {
          "displacement": 14.78783130645752,
          "mol_index": 140,
          "rotation": 3.04123592376709,
          "time": 777490000
         },
         {
          "displacement": 14.995077133178711,
          "mol_index": 140,
          "rotation": 3.043693780899048,
          "time": 778490000
         },
         {
          "displacement": 14.991838455200195,
          "mol_index": 140,
          "rotation": 3.0283830165863037,
          "time": 779490000
         },
         {
          "displacement": 14.451651573181152,
          "mol_index": 140,
          "rotation": 2.756089210510254,
          "time": 780490000
         },
         {
          "displacement": 13.895082473754883,
          "mol_index": 140,
          "rotation": 1.7896910905838013,
          "time": 781490000
         },
         {
          "displacement": 13.87803840637207,
          "mol_index": 140,
          "rotation": 0.06531526893377304,
          "time": 782490000
         },
         {
          "displacement": 13.811100006103516,
          "mol_index": 140,
          "rotation": 0.045712437480688095,
          "time": 783490000
         },
         {
          "displacement": 13.82209587097168,
          "mol_index": 140,
          "rotation": 0.04943554848432541,
          "time": 784490000
         },
         {
          "displacement": 13.692282676696777,
          "mol_index": 140,
          "rotation": 0.052548982203006744,
          "time": 785490000
         },
         {
          "displacement": 13.788525581359863,
          "mol_index": 140,
          "rotation": 0.056618429720401764,
          "time": 786490000
         },
         {
          "displacement": 13.578060150146484,
          "mol_index": 140,
          "rotation": 0.0960896909236908,
          "time": 787490000
         },
         {
          "displacement": 13.555939674377441,
          "mol_index": 140,
          "rotation": 0.07178864628076553,
          "time": 788490000
         },
         {
          "displacement": 13.499190330505371,
          "mol_index": 140,
          "rotation": 0.062235213816165924,
          "time": 789490000
         },
         {
          "displacement": 13.546566009521484,
          "mol_index": 140,
          "rotation": 0.05784079432487488,
          "time": 790490000
         },
         {
          "displacement": 13.69211196899414,
          "mol_index": 140,
          "rotation": 0.06432241946458817,
          "time": 791490000
         },
         {
          "displacement": 13.816484451293945,
          "mol_index": 140,
          "rotation": 0.30533280968666077,
          "time": 792490000
         },
         {
          "displacement": 14.274374961853027,
          "mol_index": 140,
          "rotation": 0.7097174525260925,
          "time": 793490000
         },
         {
          "displacement": 14.262816429138184,
          "mol_index": 140,
          "rotation": 0.7293773293495178,
          "time": 794490000
         },
         {
          "displacement": 14.272497177124023,
          "mol_index": 140,
          "rotation": 0.7239333987236023,
          "time": 795490000
         },
         {
          "displacement": 14.235886573791504,
          "mol_index": 140,
          "rotation": 0.7332270741462708,
          "time": 796490000
         },
         {
          "displacement": 14.348846435546875,
          "mol_index": 140,
          "rotation": 0.7179505825042725,
          "time": 797490000
         },
         {
          "displacement": 14.247273445129395,
          "mol_index": 140,
          "rotation": 0.7169533371925354,
          "time": 798490000
         },
         {
          "displacement": 14.251001358032227,
          "mol_index": 140,
          "rotation": 0.722744345664978,
          "time": 799490000
         },
         {
          "displacement": 14.380003929138184,
          "mol_index": 140,
          "rotation": 0.7395489811897278,
          "time": 800490000
         },
         {
          "displacement": 14.4300537109375,
          "mol_index": 140,
          "rotation": 0.8743252754211426,
          "time": 801490000
         },
         {
          "displacement": 14.601458549499512,
          "mol_index": 140,
          "rotation": 1.0357551574707031,
          "time": 802490000
         },
         {
          "displacement": 14.488107681274414,
          "mol_index": 140,
          "rotation": 0.873179018497467,
          "time": 803490000
         },
         {
          "displacement": 14.528579711914062,
          "mol_index": 140,
          "rotation": 1.0357393026351929,
          "time": 804490000
         },
         {
          "displacement": 14.588608741760254,
          "mol_index": 140,
          "rotation": 1.1398093700408936,
          "time": 805490000
         },
         {
          "displacement": 14.59968090057373,
          "mol_index": 140,
          "rotation": 1.0612409114837646,
          "time": 806490000
         },
         {
          "displacement": 14.661617279052734,
          "mol_index": 140,
          "rotation": 0.4208284020423889,
          "time": 807490000
         },
         {
          "displacement": 14.432680130004883,
          "mol_index": 140,
          "rotation": 0.4554688036441803,
          "time": 808490000
         },
         {
          "displacement": 14.415945053100586,
          "mol_index": 140,
          "rotation": 0.41815099120140076,
          "time": 809490000
         },
         {
          "displacement": 14.391837120056152,
          "mol_index": 140,
          "rotation": 0.37895387411117554,
          "time": 810490000
         },
         {
          "displacement": 14.093133926391602,
          "mol_index": 140,
          "rotation": 0.23496317863464355,
          "time": 811490000
         },
         {
          "displacement": 14.301015853881836,
          "mol_index": 140,
          "rotation": 0.38253605365753174,
          "time": 812490000
         },
         {
          "displacement": 14.281353950500488,
          "mol_index": 140,
          "rotation": 0.8410148024559021,
          "time": 813490000
         },
         {
          "displacement": 14.318367958068848,
          "mol_index": 140,
          "rotation": 0.47877949476242065,
          "time": 814490000
         },
         {
          "displacement": 14.387167930603027,
          "mol_index": 140,
          "rotation": 0.4757160246372223,
          "time": 815490000
         },
         {
          "displacement": 14.444201469421387,
          "mol_index": 140,
          "rotation": 0.48777976632118225,
          "time": 816490000
         },
         {
          "displacement": 14.457271575927734,
          "mol_index": 140,
          "rotation": 0.46754708886146545,
          "time": 817490000
         },
         {
          "displacement": 14.566572189331055,
          "mol_index": 140,
          "rotation": 0.34723976254463196,
          "time": 818490000
         },
         {
          "displacement": 14.407472610473633,
          "mol_index": 140,
          "rotation": 0.3125937879085541,
          "time": 819490000
         },
         {
          "displacement": 14.601997375488281,
          "mol_index": 140,
          "rotation": 0.6284995675086975,
          "time": 820490000
         },
         {
          "displacement": 14.510784149169922,
          "mol_index": 140,
          "rotation": 0.6520540118217468,
          "time": 821490000
         },
         {
          "displacement": 14.348223686218262,
          "mol_index": 140,
          "rotation": 0.5323344469070435,
          "time": 822490000
         },
         {
          "displacement": 14.596589088439941,
          "mol_index": 140,
          "rotation": 0.3047930598258972,
          "time": 823490000
         },
         {
          "displacement": 15.085147857666016,
          "mol_index": 140,
          "rotation": 0.10563745349645615,
          "time": 824490000
         },
         {
          "displacement": 15.108759880065918,
          "mol_index": 140,
          "rotation": 0.10913829505443573,
          "time": 825490000
         },
         {
          "displacement": 15.299327850341797,
          "mol_index": 140,
          "rotation": 0.09958893805742264,
          "time": 826490000
         },
         {
          "displacement": 15.288938522338867,
          "mol_index": 140,
          "rotation": 0.08691726624965668,
          "time": 827490000
         },
         {
          "displacement": 15.131810188293457,
          "mol_index": 140,
          "rotation": 0.14199775457382202,
          "time": 828490000
         },
         {
          "displacement": 15.325481414794922,
          "mol_index": 140,
          "rotation": 0.16513079404830933,
          "time": 829490000
         },
         {
          "displacement": 15.77206802368164,
          "mol_index": 140,
          "rotation": 0.2071864753961563,
          "time": 830490000
         },
         {
          "displacement": 16.06644058227539,
          "mol_index": 140,
          "rotation": 0.21587468683719635,
          "time": 831490000
         },
         {
          "displacement": 15.954756736755371,
          "mol_index": 140,
          "rotation": 0.2373286783695221,
          "time": 832490000
         },
         {
          "displacement": 15.744988441467285,
          "mol_index": 140,
          "rotation": 0.2705429196357727,
          "time": 833490000
         },
         {
          "displacement": 15.8810453414917,
          "mol_index": 140,
          "rotation": 0.3102375268936157,
          "time": 834490000
         },
         {
          "displacement": 16.246089935302734,
          "mol_index": 140,
          "rotation": 0.4014878273010254,
          "time": 835490000
         },
         {
          "displacement": 16.205888748168945,
          "mol_index": 140,
          "rotation": 0.41581568121910095,
          "time": 836490000
         },
         {
          "displacement": 15.63569450378418,
          "mol_index": 140,
          "rotation": 0.45126664638519287,
          "time": 837490000
         },
         {
          "displacement": 15.567922592163086,
          "mol_index": 140,
          "rotation": 0.5078854560852051,
          "time": 838490000
         },
         {
          "displacement": 15.62456226348877,
          "mol_index": 140,
          "rotation": 0.5279157161712646,
          "time": 839490000
         },
         {
          "displacement": 15.589122772216797,
          "mol_index": 140,
          "rotation": 0.5201031565666199,
          "time": 840490000
         },
         {
          "displacement": 15.617635726928711,
          "mol_index": 140,
          "rotation": 0.550970196723938,
          "time": 841490000
         },
         {
          "displacement": 15.57819938659668,
          "mol_index": 140,
          "rotation": 0.5107297301292419,
          "time": 842490000
         },
         {
          "displacement": 15.622627258300781,
          "mol_index": 140,
          "rotation": 0.49051257967948914,
          "time": 843490000
         },
         {
          "displacement": 15.621247291564941,
          "mol_index": 140,
          "rotation": 0.49510765075683594,
          "time": 844490000
         },
         {
          "displacement": 15.694388389587402,
          "mol_index": 140,
          "rotation": 0.4957476258277893,
          "time": 845490000
         },
         {
          "displacement": 15.634514808654785,
          "mol_index": 140,
          "rotation": 0.5711988210678101,
          "time": 846490000
         },
         {
          "displacement": 15.639429092407227,
          "mol_index": 140,
          "rotation": 0.6195062398910522,
          "time": 847490000
         },
         {
          "displacement": 15.763188362121582,
          "mol_index": 140,
          "rotation": 0.5514466166496277,
          "time": 848490000
         },
         {
          "displacement": 15.778483390808105,
          "mol_index": 140,
          "rotation": 0.5364511013031006,
          "time": 849490000
         },
         {
          "displacement": 15.733480453491211,
          "mol_index": 140,
          "rotation": 0.5385227203369141,
          "time": 850490000
         },
         {
          "displacement": 15.640487670898438,
          "mol_index": 140,
          "rotation": 0.49252960085868835,
          "time": 851490000
         },
         {
          "displacement": 15.732294082641602,
          "mol_index": 140,
          "rotation": 0.4638311266899109,
          "time": 852490000
         },
         {
          "displacement": 15.652451515197754,
          "mol_index": 140,
          "rotation": 0.51822829246521,
          "time": 853490000
         },
         {
          "displacement": 15.485132217407227,
          "mol_index": 140,
          "rotation": 0.5263103246688843,
          "time": 854490000
         },
         {
          "displacement": 16.02623748779297,
          "mol_index": 140,
          "rotation": 0.6873338222503662,
          "time": 855490000
         },
         {
          "displacement": 16.399503707885742,
          "mol_index": 140,
          "rotation": 1.0445711612701416,
          "time": 856490000
         },
         {
          "displacement": 16.492109298706055,
          "mol_index": 140,
          "rotation": 1.0355197191238403,
          "time": 857490000
         },
         {
          "displacement": 16.391416549682617,
          "mol_index": 140,
          "rotation": 0.8676217198371887,
          "time": 858490000
         },
         {
          "displacement": 16.304443359375,
          "mol_index": 140,
          "rotation": 0.5709958076477051,
          "time": 859490000
         },
         {
          "displacement": 16.143524169921875,
          "mol_index": 140,
          "rotation": 0.7540137767791748,
          "time": 860490000
         },
         {
          "displacement": 16.173986434936523,
          "mol_index": 140,
          "rotation": 0.918860137462616,
          "time": 861490000
         },
         {
          "displacement": 16.070131301879883,
          "mol_index": 140,
          "rotation": 0.9213076829910278,
          "time": 862490000
         },
         {
          "displacement": 16.077375411987305,
          "mol_index": 140,
          "rotation": 0.7282628417015076,
          "time": 863490000
         },
         {
          "displacement": 16.557390213012695,
          "mol_index": 140,
          "rotation": 0.756969690322876,
          "time": 864490000
         },
         {
          "displacement": 16.399124145507812,
          "mol_index": 140,
          "rotation": 0.8104860186576843,
          "time": 865490000
         },
         {
          "displacement": 16.32997703552246,
          "mol_index": 140,
          "rotation": 1.4599422216415405,
          "time": 866490000
         },
         {
          "displacement": 16.22360610961914,
          "mol_index": 140,
          "rotation": 1.442794919013977,
          "time": 867490000
         },
         {
          "displacement": 16.124258041381836,
          "mol_index": 140,
          "rotation": 1.3287296295166016,
          "time": 868490000
         },
         {
          "displacement": 15.993280410766602,
          "mol_index": 140,
          "rotation": 1.1698893308639526,
          "time": 869490000
         },
         {
          "displacement": 16.366792678833008,
          "mol_index": 140,
          "rotation": 1.2942230701446533,
          "time": 870490000
         },
         {
          "displacement": 15.489298820495605,
          "mol_index": 140,
          "rotation": 1.3861846923828125,
          "time": 871490000
         },
         {
          "displacement": 15.449881553649902,
          "mol_index": 140,
          "rotation": 1.3982517719268799,
          "time": 872490000
         },
         {
          "displacement": 15.644706726074219,
          "mol_index": 140,
          "rotation": 1.523887276649475,
          "time": 873490000
         },
         {
          "displacement": 15.742781639099121,
          "mol_index": 140,
          "rotation": 1.573995590209961,
          "time": 874490000
         },
         {
          "displacement": 15.680106163024902,
          "mol_index": 140,
          "rotation": 1.517768144607544,
          "time": 875490000
         },
         {
          "displacement": 15.786246299743652,
          "mol_index": 140,
          "rotation": 1.5228209495544434,
          "time": 876490000
         },
         {
          "displacement": 15.705527305603027,
          "mol_index": 140,
          "rotation": 1.5106505155563354,
          "time": 877490000
         },
         {
          "displacement": 15.61737060546875,
          "mol_index": 140,
          "rotation": 1.5001840591430664,
          "time": 878490000
         },
         {
          "displacement": 15.753552436828613,
          "mol_index": 140,
          "rotation": 1.532309889793396,
          "time": 879490000
         },
         {
          "displacement": 15.616398811340332,
          "mol_index": 140,
          "rotation": 1.4799907207489014,
          "time": 880490000
         },
         {
          "displacement": 15.396011352539062,
          "mol_index": 140,
          "rotation": 1.5199995040893555,
          "time": 881490000
         },
         {
          "displacement": 15.356148719787598,
          "mol_index": 140,
          "rotation": 1.5342084169387817,
          "time": 882490000
         },
         {
          "displacement": 15.319211959838867,
          "mol_index": 140,
          "rotation": 1.5365986824035645,
          "time": 883490000
         },
         {
          "displacement": 15.174281120300293,
          "mol_index": 140,
          "rotation": 1.5003267526626587,
          "time": 884490000
         },
         {
          "displacement": 14.943209648132324,
          "mol_index": 140,
          "rotation": 1.4135459661483765,
          "time": 885490000
         },
         {
          "displacement": 14.856712341308594,
          "mol_index": 140,
          "rotation": 1.4880902767181396,
          "time": 886490000
         },
         {
          "displacement": 14.655299186706543,
          "mol_index": 140,
          "rotation": 1.2337876558303833,
          "time": 887490000
         },
         {
          "displacement": 14.05927848815918,
          "mol_index": 140,
          "rotation": 0.5771976113319397,
          "time": 888490000
         },
         {
          "displacement": 14.035072326660156,
          "mol_index": 140,
          "rotation": 0.617781400680542,
          "time": 889490000
         },
         {
          "displacement": 13.532270431518555,
          "mol_index": 140,
          "rotation": 0.841681182384491,
          "time": 890490000
         },
         {
          "displacement": 14.031717300415039,
          "mol_index": 140,
          "rotation": 0.5877555012702942,
          "time": 891490000
         },
         {
          "displacement": 14.25317096710205,
          "mol_index": 140,
          "rotation": 0.5738196969032288,
          "time": 892490000
         },
         {
          "displacement": 14.630038261413574,
          "mol_index": 140,
          "rotation": 0.538325846195221,
          "time": 893490000
         },
         {
          "displacement": 14.397382736206055,
          "mol_index": 140,
          "rotation": 0.49517950415611267,
          "time": 894490000
         },
         {
          "displacement": 14.37432861328125,
          "mol_index": 140,
          "rotation": 0.5149031281471252,
          "time": 895490000
         },
         {
          "displacement": 14.2889986038208,
          "mol_index": 140,
          "rotation": 0.4020307958126068,
          "time": 896490000
         },
         {
          "displacement": 14.218267440795898,
          "mol_index": 140,
          "rotation": 0.4118786156177521,
          "time": 897490000
         },
         {
          "displacement": 14.391912460327148,
          "mol_index": 140,
          "rotation": 0.492019921541214,
          "time": 898490000
         },
         {
          "displacement": 14.525185585021973,
          "mol_index": 140,
          "rotation": 0.4128638803958893,
          "time": 899490000
         },
         {
          "displacement": 14.619428634643555,
          "mol_index": 140,
          "rotation": 0.36696264147758484,
          "time": 900490000
         },
         {
          "displacement": 14.429770469665527,
          "mol_index": 140,
          "rotation": 0.2356450855731964,
          "time": 901490000
         },
         {
          "displacement": 14.381062507629395,
          "mol_index": 140,
          "rotation": 0.2278030663728714,
          "time": 902490000
         },
         {
          "displacement": 14.417970657348633,
          "mol_index": 140,
          "rotation": 0.2913379371166229,
          "time": 903490000
         },
         {
          "displacement": 14.551280975341797,
          "mol_index": 140,
          "rotation": 1.1896781921386719,
          "time": 904490000
         },
         {
          "displacement": 14.540238380432129,
          "mol_index": 140,
          "rotation": 1.1527419090270996,
          "time": 905490000
         },
         {
          "displacement": 14.332209587097168,
          "mol_index": 140,
          "rotation": 0.455841988325119,
          "time": 906490000
         },
         {
          "displacement": 14.26012897491455,
          "mol_index": 140,
          "rotation": 0.3992578089237213,
          "time": 907490000
         },
         {
          "displacement": 14.134811401367188,
          "mol_index": 140,
          "rotation": 0.40603217482566833,
          "time": 908490000
         },
         {
          "displacement": 14.117947578430176,
          "mol_index": 140,
          "rotation": 0.40754973888397217,
          "time": 909490000
         },
         {
          "displacement": 14.001505851745605,
          "mol_index": 140,
          "rotation": 0.40993940830230713,
          "time": 910490000
         },
         {
          "displacement": 13.972020149230957,
          "mol_index": 140,
          "rotation": 0.3923620283603668,
          "time": 911490000
         },
         {
          "displacement": 14.077718734741211,
          "mol_index": 140,
          "rotation": 0.4178524613380432,
          "time": 912490000
         },
         {
          "displacement": 13.936378479003906,
          "mol_index": 140,
          "rotation": 0.712785005569458,
          "time": 913490000
         },
         {
          "displacement": 13.459546089172363,
          "mol_index": 140,
          "rotation": 0.6714305877685547,
          "time": 914490000
         },
         {
          "displacement": 13.411849021911621,
          "mol_index": 140,
          "rotation": 0.7889796495437622,
          "time": 915490000
         },
         {
          "displacement": 13.02917194366455,
          "mol_index": 140,
          "rotation": 0.7998923063278198,
          "time": 916490000
         },
         {
          "displacement": 12.985539436340332,
          "mol_index": 140,
          "rotation": 0.5568050742149353,
          "time": 917490000
         },
         {
          "displacement": 14.196178436279297,
          "mol_index": 140,
          "rotation": 0.5467121005058289,
          "time": 918490000
         },
         {
          "displacement": 14.312823295593262,
          "mol_index": 140,
          "rotation": 0.7446282505989075,
          "time": 919490000
         },
         {
          "displacement": 14.335850715637207,
          "mol_index": 140,
          "rotation": 0.6969399452209473,
          "time": 920490000
         },
         {
          "displacement": 14.319172859191895,
          "mol_index": 140,
          "rotation": 0.6863986849784851,
          "time": 921490000
         },
         {
          "displacement": 14.348555564880371,
          "mol_index": 140,
          "rotation": 0.7114512324333191,
          "time": 922490000
         },
         {
          "displacement": 14.427347183227539,
          "mol_index": 140,
          "rotation": 0.7206783890724182,
          "time": 923490000
         },
         {
          "displacement": 14.389336585998535,
          "mol_index": 140,
          "rotation": 0.7326355576515198,
          "time": 924490000
         },
         {
          "displacement": 14.387056350708008,
          "mol_index": 140,
          "rotation": 0.7392845153808594,
          "time": 925490000
         },
         {
          "displacement": 14.394816398620605,
          "mol_index": 140,
          "rotation": 0.7246348857879639,
          "time": 926490000
         },
         {
          "displacement": 14.280067443847656,
          "mol_index": 140,
          "rotation": 0.607917070388794,
          "time": 927490000
         },
         {
          "displacement": 14.304133415222168,
          "mol_index": 140,
          "rotation": 0.5455601215362549,
          "time": 928490000
         },
         {
          "displacement": 14.098755836486816,
          "mol_index": 140,
          "rotation": 0.6051247119903564,
          "time": 929490000
         },
         {
          "displacement": 14.112175941467285,
          "mol_index": 140,
          "rotation": 0.5737770795822144,
          "time": 930490000
         },
         {
          "displacement": 14.100895881652832,
          "mol_index": 140,
          "rotation": 0.5877894163131714,
          "time": 931490000
         },
         {
          "displacement": 13.733534812927246,
          "mol_index": 140,
          "rotation": 0.8365339636802673,
          "time": 932490000
         },
         {
          "displacement": 13.718687057495117,
          "mol_index": 140,
          "rotation": 0.8440039157867432,
          "time": 933490000
         },
         {
          "displacement": 13.707956314086914,
          "mol_index": 140,
          "rotation": 0.8506513237953186,
          "time": 934490000
         },
         {
          "displacement": 13.670421600341797,
          "mol_index": 140,
          "rotation": 0.8318760395050049,
          "time": 935490000
         },
         {
          "displacement": 13.64159870147705,
          "mol_index": 140,
          "rotation": 0.8286651968955994,
          "time": 936490000
         },
         {
          "displacement": 13.633977890014648,
          "mol_index": 140,
          "rotation": 0.7802653312683105,
          "time": 937490000
         },
         {
          "displacement": 13.776165008544922,
          "mol_index": 140,
          "rotation": 0.763034462928772,
          "time": 938490000
         },
         {
          "displacement": 13.7570161819458,
          "mol_index": 140,
          "rotation": 0.7717103362083435,
          "time": 939490000
         },
         {
          "displacement": 13.715668678283691,
          "mol_index": 140,
          "rotation": 0.788421630859375,
          "time": 940490000
         },
         {
          "displacement": 13.713164329528809,
          "mol_index": 140,
          "rotation": 0.7657445669174194,
          "time": 941490000
         },
         {
          "displacement": 13.76380443572998,
          "mol_index": 140,
          "rotation": 0.7006785273551941,
          "time": 942490000
         },
         {
          "displacement": 13.885381698608398,
          "mol_index": 140,
          "rotation": 0.7018387913703918,
          "time": 943490000
         },
         {
          "displacement": 14.519078254699707,
          "mol_index": 140,
          "rotation": 0.8828230500221252,
          "time": 944490000
         },
         {
          "displacement": 14.694793701171875,
          "mol_index": 140,
          "rotation": 0.9534983038902283,
          "time": 945490000
         },
         {
          "displacement": 14.601055145263672,
          "mol_index": 140,
          "rotation": 0.978748083114624,
          "time": 946490000
         },
         {
          "displacement": 14.7186861038208,
          "mol_index": 140,
          "rotation": 1.133165955543518,
          "time": 947490000
         },
         {
          "displacement": 14.949402809143066,
          "mol_index": 140,
          "rotation": 1.2013040781021118,
          "time": 948490000
         },
         {
          "displacement": 14.964741706848145,
          "mol_index": 140,
          "rotation": 1.1974800825119019,
          "time": 949490000
         },
         {
          "displacement": 15.07511043548584,
          "mol_index": 140,
          "rotation": 1.1862435340881348,
          "time": 950490000
         },
         {
          "displacement": 15.151525497436523,
          "mol_index": 140,
          "rotation": 1.1548610925674438,
          "time": 951490000
         },
         {
          "displacement": 15.02167797088623,
          "mol_index": 140,
          "rotation": 1.1422359943389893,
          "time": 952490000
         },
         {
          "displacement": 15.098653793334961,
          "mol_index": 140,
          "rotation": 1.174520492553711,
          "time": 953490000
         },
         {
          "displacement": 15.136034965515137,
          "mol_index": 140,
          "rotation": 1.1950117349624634,
          "time": 954490000
         },
         {
          "displacement": 15.318876266479492,
          "mol_index": 140,
          "rotation": 1.231533169746399,
          "time": 955490000
         },
         {
          "displacement": 15.691224098205566,
          "mol_index": 140,
          "rotation": 1.4460564851760864,
          "time": 956490000
         },
         {
          "displacement": 16.341087341308594,
          "mol_index": 140,
          "rotation": 2.34134578704834,
          "time": 957490000
         },
         {
          "displacement": 15.543944358825684,
          "mol_index": 140,
          "rotation": 2.307828187942505,
          "time": 958490000
         },
         {
          "displacement": 14.907341957092285,
          "mol_index": 140,
          "rotation": 1.2535631656646729,
          "time": 959490000
         },
         {
          "displacement": 14.875855445861816,
          "mol_index": 140,
          "rotation": 1.1390228271484375,
          "time": 960490000
         },
         {
          "displacement": 14.6366548538208,
          "mol_index": 140,
          "rotation": 0.7248283624649048,
          "time": 961490000
         },
         {
          "displacement": 14.60945987701416,
          "mol_index": 140,
          "rotation": 0.33853259682655334,
          "time": 962490000
         },
         {
          "displacement": 14.730158805847168,
          "mol_index": 140,
          "rotation": 0.3461013436317444,
          "time": 963490000
         },
         {
          "displacement": 14.592034339904785,
          "mol_index": 140,
          "rotation": 0.36778271198272705,
          "time": 964490000
         },
         {
          "displacement": 14.574542999267578,
          "mol_index": 140,
          "rotation": 0.3833693265914917,
          "time": 965490000
         },
         {
          "displacement": 14.42630386352539,
          "mol_index": 140,
          "rotation": 0.37275320291519165,
          "time": 966490000
         },
         {
          "displacement": 14.312170028686523,
          "mol_index": 140,
          "rotation": 0.3326209485530853,
          "time": 967490000
         },
         {
          "displacement": 14.4804105758667,
          "mol_index": 140,
          "rotation": 0.4043861925601959,
          "time": 968490000
         },
         {
          "displacement": 14.650737762451172,
          "mol_index": 140,
          "rotation": 0.4190710186958313,
          "time": 969490000
         },
         {
          "displacement": 14.688053131103516,
          "mol_index": 140,
          "rotation": 0.4049062430858612,
          "time": 970490000
         },
         {
          "displacement": 14.781362533569336,
          "mol_index": 140,
          "rotation": 0.4380876421928406,
          "time": 971490000
         },
         {
          "displacement": 14.94278621673584,
          "mol_index": 140,
          "rotation": 0.4692980647087097,
          "time": 972490000
         },
         {
          "displacement": 14.956123352050781,
          "mol_index": 140,
          "rotation": 0.46973106265068054,
          "time": 973490000
         },
         {
          "displacement": 14.784562110900879,
          "mol_index": 140,
          "rotation": 0.4665261209011078,
          "time": 974490000
         },
         {
          "displacement": 14.65697193145752,
          "mol_index": 140,
          "rotation": 0.4638221263885498,
          "time": 975490000
         },
         {
          "displacement": 14.803263664245605,
          "mol_index": 140,
          "rotation": 0.4532480537891388,
          "time": 976490000
         },
         {
          "displacement": 15.095531463623047,
          "mol_index": 140,
          "rotation": 0.4089029133319855,
          "time": 977490000
         },
         {
          "displacement": 14.960988998413086,
          "mol_index": 140,
          "rotation": 0.3639757037162781,
          "time": 978490000
         },
         {
          "displacement": 14.748335838317871,
          "mol_index": 140,
          "rotation": 0.36091887950897217,
          "time": 979490000
         },
         {
          "displacement": 14.719795227050781,
          "mol_index": 140,
          "rotation": 0.3755146265029907,
          "time": 980490000
         },
         {
          "displacement": 14.835986137390137,
          "mol_index": 140,
          "rotation": 0.8799219727516174,
          "time": 981490000
         },
         {
          "displacement": 14.545623779296875,
          "mol_index": 140,
          "rotation": 0.7515114545822144,
          "time": 982490000
         },
         {
          "displacement": 14.469989776611328,
          "mol_index": 140,
          "rotation": 0.4917761981487274,
          "time": 983490000
         },
         {
          "displacement": 14.806608200073242,
          "mol_index": 140,
          "rotation": 0.45428529381752014,
          "time": 984490000
         },
         {
          "displacement": 14.985922813415527,
          "mol_index": 140,
          "rotation": 0.40794920921325684,
          "time": 985490000
         },
         {
          "displacement": 14.76749038696289,
          "mol_index": 140,
          "rotation": 0.39177075028419495,
          "time": 986490000
         },
         {
          "displacement": 14.732735633850098,
          "mol_index": 140,
          "rotation": 0.43250277638435364,
          "time": 987490000
         },
         {
          "displacement": 14.603536605834961,
          "mol_index": 140,
          "rotation": 0.4837818741798401,
          "time": 988490000
         },
         {
          "displacement": 14.692127227783203,
          "mol_index": 140,
          "rotation": 0.42712485790252686,
          "time": 989490000
         },
         {
          "displacement": 14.742840766906738,
          "mol_index": 140,
          "rotation": 0.44908785820007324,
          "time": 990490000
         },
         {
          "displacement": 14.761629104614258,
          "mol_index": 140,
          "rotation": 0.3997112512588501,
          "time": 991490000
         },
         {
          "displacement": 14.730547904968262,
          "mol_index": 140,
          "rotation": 0.36626264452934265,
          "time": 992490000
         },
         {
          "displacement": 14.817975044250488,
          "mol_index": 140,
          "rotation": 0.42996490001678467,
          "time": 993490000
         },
         {
          "displacement": 15.13309097290039,
          "mol_index": 140,
          "rotation": 0.5426368713378906,
          "time": 994490000
         },
         {
          "displacement": 15.577208518981934,
          "mol_index": 140,
          "rotation": 0.7931852340698242,
          "time": 995490000
         },
         {
          "displacement": 15.563283920288086,
          "mol_index": 140,
          "rotation": 0.788540780544281,
          "time": 996490000
         },
         {
          "displacement": 15.600266456604004,
          "mol_index": 140,
          "rotation": 0.7650078535079956,
          "time": 997490000
         },
         {
          "displacement": 15.518783569335938,
          "mol_index": 140,
          "rotation": 0.7731082439422607,
          "time": 998490000
         },
         {
          "displacement": 15.428483963012695,
          "mol_index": 140,
          "rotation": 0.7749500274658203,
          "time": 999490000
         },
         {
          "displacement": 15.60558795928955,
          "mol_index": 140,
          "rotation": 0.7656556367874146,
          "time": 1000000000
         }
        ]
       },
       "encoding": {
        "color": {
         "field": "mol_index",
         "type": "nominal"
        },
        "x": {
         "field": "time",
         "type": "quantitative"
        },
        "y": {
         "field": "displacement",
         "type": "quantitative"
        }
       },
       "mark": "line"
      },
      "image/png": "[encoded data removed]",
      "text/plain": [
       "<VegaLite 2 object>\n",
       "\n",
       "If you see this message, it means the renderer has not been properly enabled\n",
       "for the frontend that you are using. For more information, see\n",
       "https://altair-viz.github.io/user_guide/troubleshooting.html\n"
      ]
     },
     "execution_count": 18,
     "metadata": {},
     "output_type": "execute_result"
    }
   ],
   "source": [
    "alt.Chart(df_fast_groups.mean().reset_index(drop=True)).mark_line().encode(\n",
    "    x='time',\n",
    "    y='displacement',\n",
    "    color='mol_index:N'\n",
    ")"
   ]
  },
  {
   "cell_type": "code",
   "execution_count": null,
   "metadata": {
    "scrolled": true
   },
   "outputs": [],
   "source": [
    "%%opts Path [color_index='time'] (line_width=1 cmap='viridis' alpha=0.5)\n",
    "\n",
    "mol_id = 120\n",
    "\n",
    "df_path = df_fast.loc[df_fast.mol_index.values == mol_id, :].copy()\n",
    "# df_path.loc[:, 'time'] = np.log(df_path.loc[:, 'time'].values)\n",
    "hv.Path([df_path], kdims=['displacement', 'rotation'], vdims=['time']) * hv.VLine(1)"
   ]
  },
  {
   "cell_type": "code",
   "execution_count": 20,
   "metadata": {},
   "outputs": [],
   "source": [
    "pdf.sort_values('last_passage')\n",
    "pdf = pdf[pdf.last_passage != 2**32-1]"
   ]
  },
  {
   "cell_type": "code",
   "execution_count": 22,
   "metadata": {},
   "outputs": [
    {
     "data": {
      "image/png": "[encoded data removed]",
      "text/plain": [
       "<Figure size 432x288 with 1 Axes>"
      ]
     },
     "metadata": {
      "needs_background": "light"
     },
     "output_type": "display_data"
    }
   ],
   "source": [
    "fig, ax = plt.subplots()\n",
    "ax.plot(pdf.sort_values('first_passage').reset_index(drop=True).first_passage, '.')\n",
    "ax.plot(pdf.sort_values('first_passage').reset_index(drop=True).last_passage, '.')\n",
    "ax.legend()\n",
    "ax.set_yscale('linear')\n",
    "fig.savefig('passage_times.pdf')"
   ]
  },
  {
   "cell_type": "code",
   "execution_count": 23,
   "metadata": {},
   "outputs": [
    {
     "data": {
      "text/plain": [
       "<matplotlib.axes._subplots.AxesSubplot at 0x7fc5e7e57518>"
      ]
     },
     "execution_count": 23,
     "metadata": {},
     "output_type": "execute_result"
    },
    {
     "data": {
      "image/png": "[encoded data removed]",
      "text/plain": [
       "<Figure size 432x288 with 1 Axes>"
      ]
     },
     "metadata": {
      "needs_background": "light"
     },
     "output_type": "display_data"
    }
   ],
   "source": [
    "pdf.sort_values('last_passage').reset_index(drop=True).plot(logy=True)"
   ]
  },
  {
   "cell_type": "code",
   "execution_count": 24,
   "metadata": {},
   "outputs": [
    {
     "name": "stdout",
     "output_type": "stream",
     "text": [
      "<class 'pandas.core.frame.DataFrame'>\n",
      "MultiIndex: 121638750 entries, (0, 0) to (624, 1000000000)\n",
      "Data columns (total 4 columns):\n",
      "mol_index       uint16\n",
      "time            uint32\n",
      "displacement    float32\n",
      "rotation        float32\n",
      "dtypes: float32(2), uint16(1), uint32(1)\n",
      "memory usage: 2.3 GB\n"
     ]
    }
   ],
   "source": [
    "df.info()"
   ]
  },
  {
   "cell_type": "code",
   "execution_count": 25,
   "metadata": {},
   "outputs": [],
   "source": [
    "rotations_first = []\n",
    "rotations_last = []\n",
    "for index, first, last in pdf.itertuples():\n",
    "    if last == 2**32 - 1:\n",
    "        continue\n",
    "    rotations_first.append(df.loc[index, first].rotation)\n",
    "    rotations_last.append(df.loc[index, last].rotation)"
   ]
  },
  {
   "cell_type": "code",
   "execution_count": 26,
   "metadata": {},
   "outputs": [],
   "source": [
    "rot_first = np.array(rotations_first)\n",
    "rot_last = np.array(rotations_last)\n",
    "rotations = pandas.DataFrame({\n",
    "    'first passage': rot_first,\n",
    "}).melt().append(pandas.DataFrame({\n",
    "    'last passage': rot_last\n",
    "}).melt())"
   ]
  },
  {
   "cell_type": "code",
   "execution_count": 31,
   "metadata": {},
   "outputs": [
    {
     "data": {
      "application/vnd.vegalite.v2+json": {
       "$schema": "https://vega.github.io/schema/vega-lite/v2.6.0.json",
       "config": {
        "view": {
         "height": 300,
         "width": 400
        }
       },
       "data": {
        "name": "data-be611858eea00ece0af67c109fb3cf31"
       },
       "datasets": {
        "data-be611858eea00ece0af67c109fb3cf31": [
         {
          "value": 0.09922921657562256,
          "variable": "first passage"
         },
         {
          "value": 0.010304929688572884,
          "variable": "first passage"
         },
         {
          "value": 0.07094079256057739,
          "variable": "first passage"
         },
         {
          "value": 0.04969844967126846,
          "variable": "first passage"
         },
         {
          "value": 0.036521535366773605,
          "variable": "first passage"
         },
         {
          "value": 0.15189771354198456,
          "variable": "first passage"
         },
         {
          "value": 0.06965330243110657,
          "variable": "first passage"
         },
         {
          "value": 0.05647740513086319,
          "variable": "first passage"
         },
         {
          "value": 0.03070264309644699,
          "variable": "first passage"
         },
         {
          "value": 0.030419988557696342,
          "variable": "first passage"
         },
         {
          "value": 0.17287087440490723,
          "variable": "first passage"
         },
         {
          "value": 0.07225614786148071,
          "variable": "first passage"
         },
         {
          "value": 0.03267126902937889,
          "variable": "first passage"
         },
         {
          "value": 0.02025987207889557,
          "variable": "first passage"
         },
         {
          "value": 0.7531311511993408,
          "variable": "first passage"
         },
         {
          "value": 0.08512318879365921,
          "variable": "first passage"
         },
         {
          "value": 0.03647972643375397,
          "variable": "first passage"
         },
         {
          "value": 0.10923618823289871,
          "variable": "first passage"
         },
         {
          "value": 0.0815998762845993,
          "variable": "first passage"
         },
         {
          "value": 0.055866628885269165,
          "variable": "first passage"
         },
         {
          "value": 0.022368507459759712,
          "variable": "first passage"
         },
         {
          "value": 0.043467648327350616,
          "variable": "first passage"
         },
         {
          "value": 0.032932478934526443,
          "variable": "first passage"
         },
         {
          "value": 0.028105948120355606,
          "variable": "first passage"
         },
         {
          "value": 0.40957018733024597,
          "variable": "first passage"
         },
         {
          "value": 0.03888629749417305,
          "variable": "first passage"
         },
         {
          "value": 0.01791215129196644,
          "variable": "first passage"
         },
         {
          "value": 0.009573248215019703,
          "variable": "first passage"
         },
         {
          "value": 0.033304497599601746,
          "variable": "first passage"
         },
         {
          "value": 0.014480858109891415,
          "variable": "first passage"
         },
         {
          "value": 0.022096525877714157,
          "variable": "first passage"
         },
         {
          "value": 0.09445758908987045,
          "variable": "first passage"
         },
         {
          "value": 0.06338949501514435,
          "variable": "first passage"
         },
         {
          "value": 0.02723046950995922,
          "variable": "first passage"
         },
         {
          "value": 0.011659622192382812,
          "variable": "first passage"
         },
         {
          "value": 0.09173782914876938,
          "variable": "first passage"
         },
         {
          "value": 0.0723695456981659,
          "variable": "first passage"
         },
         {
          "value": 0.06378128379583359,
          "variable": "first passage"
         },
         {
          "value": 0.0330071784555912,
          "variable": "first passage"
         },
         {
          "value": 0.03653696924448013,
          "variable": "first passage"
         },
         {
          "value": 0.06256779283285141,
          "variable": "first passage"
         },
         {
          "value": 0.005376483779400587,
          "variable": "first passage"
         },
         {
          "value": 0.0013538006460294127,
          "variable": "first passage"
         },
         {
          "value": 0.0539117194712162,
          "variable": "first passage"
         },
         {
          "value": 0.044685494154691696,
          "variable": "first passage"
         },
         {
          "value": 0.01467194128781557,
          "variable": "first passage"
         },
         {
          "value": 0.03123171254992485,
          "variable": "first passage"
         },
         {
          "value": 0.04136302322149277,
          "variable": "first passage"
         },
         {
          "value": 0.019291317090392113,
          "variable": "first passage"
         },
         {
          "value": 0.101253941655159,
          "variable": "first passage"
         },
         {
          "value": 0.12349332869052887,
          "variable": "first passage"
         },
         {
          "value": 0.14441731572151184,
          "variable": "first passage"
         },
         {
          "value": 0.04194294288754463,
          "variable": "first passage"
         },
         {
          "value": 0.04918355494737625,
          "variable": "first passage"
         },
         {
          "value": 0.07985737174749374,
          "variable": "first passage"
         },
         {
          "value": 0.2986401915550232,
          "variable": "first passage"
         },
         {
          "value": 0.1182422861456871,
          "variable": "first passage"
         },
         {
          "value": 0.07136828452348709,
          "variable": "first passage"
         },
         {
          "value": 0.00599001906812191,
          "variable": "first passage"
         },
         {
          "value": 0.19506698846817017,
          "variable": "first passage"
         },
         {
          "value": 0.28818479180336,
          "variable": "first passage"
         },
         {
          "value": 0.05979715287685394,
          "variable": "first passage"
         },
         {
          "value": 0.1105094701051712,
          "variable": "first passage"
         },
         {
          "value": 0.27114859223365784,
          "variable": "first passage"
         },
         {
          "value": 0.013956336304545403,
          "variable": "first passage"
         },
         {
          "value": 0.09842417389154434,
          "variable": "first passage"
         },
         {
          "value": 0.2697688937187195,
          "variable": "first passage"
         },
         {
          "value": 0.2050812989473343,
          "variable": "first passage"
         },
         {
          "value": 0.0470237173140049,
          "variable": "first passage"
         },
         {
          "value": 0.34459635615348816,
          "variable": "first passage"
         },
         {
          "value": 0.1790371835231781,
          "variable": "first passage"
         },
         {
          "value": 0.06254715472459793,
          "variable": "first passage"
         },
         {
          "value": 0.00720601063221693,
          "variable": "first passage"
         },
         {
          "value": 0.11114932596683502,
          "variable": "first passage"
         },
         {
          "value": 0.10413239151239395,
          "variable": "first passage"
         },
         {
          "value": 0.052657704800367355,
          "variable": "first passage"
         },
         {
          "value": 0.04334905371069908,
          "variable": "first passage"
         },
         {
          "value": 0.003577619791030884,
          "variable": "first passage"
         },
         {
          "value": 0.02268526889383793,
          "variable": "first passage"
         },
         {
          "value": 0.018496062606573105,
          "variable": "first passage"
         },
         {
          "value": 0.07009175419807434,
          "variable": "first passage"
         },
         {
          "value": 0.008008893579244614,
          "variable": "first passage"
         },
         {
          "value": 0.08322880417108536,
          "variable": "first passage"
         },
         {
          "value": 0.20216704905033112,
          "variable": "first passage"
         },
         {
          "value": 0.10723801702260971,
          "variable": "first passage"
         },
         {
          "value": 0.0406007245182991,
          "variable": "first passage"
         },
         {
          "value": 0.023533044382929802,
          "variable": "first passage"
         },
         {
          "value": 0.02674013189971447,
          "variable": "first passage"
         },
         {
          "value": 0.11957530677318573,
          "variable": "first passage"
         },
         {
          "value": 0.1089324802160263,
          "variable": "first passage"
         },
         {
          "value": 0.07035326957702637,
          "variable": "first passage"
         },
         {
          "value": 0.020988546311855316,
          "variable": "first passage"
         },
         {
          "value": 0.017292501404881477,
          "variable": "first passage"
         },
         {
          "value": 0.014270223677158356,
          "variable": "first passage"
         },
         {
          "value": 0.13475412130355835,
          "variable": "first passage"
         },
         {
          "value": 0.037758976221084595,
          "variable": "first passage"
         },
         {
          "value": 0.01205858588218689,
          "variable": "first passage"
         },
         {
          "value": 0.09182363748550415,
          "variable": "first passage"
         },
         {
          "value": 0.24772785604000092,
          "variable": "first passage"
         },
         {
          "value": 0.08939927816390991,
          "variable": "first passage"
         },
         {
          "value": 0.041877198964357376,
          "variable": "first passage"
         },
         {
          "value": 0.04714437946677208,
          "variable": "first passage"
         },
         {
          "value": 0.12554436922073364,
          "variable": "first passage"
         },
         {
          "value": 0.30430859327316284,
          "variable": "first passage"
         },
         {
          "value": 0.3208284080028534,
          "variable": "first passage"
         },
         {
          "value": 0.06524409353733063,
          "variable": "first passage"
         },
         {
          "value": 0.02304033376276493,
          "variable": "first passage"
         },
         {
          "value": 0.004172098357230425,
          "variable": "first passage"
         },
         {
          "value": 5.125999450683594e-06,
          "variable": "first passage"
         },
         {
          "value": 0.04426762834191322,
          "variable": "first passage"
         },
         {
          "value": 0.0019013521960005164,
          "variable": "first passage"
         },
         {
          "value": 0.08679867535829544,
          "variable": "first passage"
         },
         {
          "value": 0.057152580469846725,
          "variable": "first passage"
         },
         {
          "value": 0.10880672186613083,
          "variable": "first passage"
         },
         {
          "value": 0.014337076805531979,
          "variable": "first passage"
         },
         {
          "value": 0.04551062360405922,
          "variable": "first passage"
         },
         {
          "value": 0.020592885091900826,
          "variable": "first passage"
         },
         {
          "value": 0.005722136702388525,
          "variable": "first passage"
         },
         {
          "value": 0.07035280019044876,
          "variable": "first passage"
         },
         {
          "value": 0.007073192857205868,
          "variable": "first passage"
         },
         {
          "value": 0.03554792329668999,
          "variable": "first passage"
         },
         {
          "value": 0.08305797725915909,
          "variable": "first passage"
         },
         {
          "value": 0.11816398799419403,
          "variable": "first passage"
         },
         {
          "value": 0.07875851541757584,
          "variable": "first passage"
         },
         {
          "value": 0.1023099347949028,
          "variable": "first passage"
         },
         {
          "value": 0.06480066478252411,
          "variable": "first passage"
         },
         {
          "value": 0.01912546344101429,
          "variable": "first passage"
         },
         {
          "value": 0.16513879597187042,
          "variable": "first passage"
         },
         {
          "value": 0.03888018801808357,
          "variable": "first passage"
         },
         {
          "value": 0.02790789119899273,
          "variable": "first passage"
         },
         {
          "value": 0.04137441888451576,
          "variable": "first passage"
         },
         {
          "value": 0.12305723130702972,
          "variable": "first passage"
         },
         {
          "value": 0.0035053263418376446,
          "variable": "first passage"
         },
         {
          "value": 0.04132410138845444,
          "variable": "first passage"
         },
         {
          "value": 0.07354584336280823,
          "variable": "first passage"
         },
         {
          "value": 0.6903430223464966,
          "variable": "first passage"
         },
         {
          "value": 0.06959519535303116,
          "variable": "first passage"
         },
         {
          "value": 0.14730902016162872,
          "variable": "first passage"
         },
         {
          "value": 0.0038643875159323215,
          "variable": "first passage"
         },
         {
          "value": 0.10091637074947357,
          "variable": "first passage"
         },
         {
          "value": 0.07761899381875992,
          "variable": "first passage"
         },
         {
          "value": 0.08124513924121857,
          "variable": "first passage"
         },
         {
          "value": 0.03314058855175972,
          "variable": "first passage"
         },
         {
          "value": 0.18012163043022156,
          "variable": "first passage"
         },
         {
          "value": 0.041386883705854416,
          "variable": "first passage"
         },
         {
          "value": 0.021927354857325554,
          "variable": "first passage"
         },
         {
          "value": 0.016935143619775772,
          "variable": "first passage"
         },
         {
          "value": 0.05869942530989647,
          "variable": "first passage"
         },
         {
          "value": 0.06382494419813156,
          "variable": "first passage"
         },
         {
          "value": 0.05369649454951286,
          "variable": "first passage"
         },
         {
          "value": 0.01986626721918583,
          "variable": "first passage"
         },
         {
          "value": 0.042827967554330826,
          "variable": "first passage"
         },
         {
          "value": 0.04212281107902527,
          "variable": "first passage"
         },
         {
          "value": 0.00017926098371390253,
          "variable": "first passage"
         },
         {
          "value": 0.017217084765434265,
          "variable": "first passage"
         },
         {
          "value": 0.05836405232548714,
          "variable": "first passage"
         },
         {
          "value": 0.11312877386808395,
          "variable": "first passage"
         },
         {
          "value": 0.06050044670701027,
          "variable": "first passage"
         },
         {
          "value": 0.07451114058494568,
          "variable": "first passage"
         },
         {
          "value": 0.034110840409994125,
          "variable": "first passage"
         },
         {
          "value": 0.026509976014494896,
          "variable": "first passage"
         },
         {
          "value": 0.13840360939502716,
          "variable": "first passage"
         },
         {
          "value": 0.04818136990070343,
          "variable": "first passage"
         },
         {
          "value": 0.04766629636287689,
          "variable": "first passage"
         },
         {
          "value": 0.07185663282871246,
          "variable": "first passage"
         },
         {
          "value": 0.016244439408183098,
          "variable": "first passage"
         },
         {
          "value": 0.021760243922472,
          "variable": "first passage"
         },
         {
          "value": 0.016878094524145126,
          "variable": "first passage"
         },
         {
          "value": 0.14151692390441895,
          "variable": "first passage"
         },
         {
          "value": 0.1056733950972557,
          "variable": "first passage"
         },
         {
          "value": 0.20524530112743378,
          "variable": "first passage"
         },
         {
          "value": 0.12511597573757172,
          "variable": "first passage"
         },
         {
          "value": 0.03384273126721382,
          "variable": "first passage"
         },
         {
          "value": 0.03922724723815918,
          "variable": "first passage"
         },
         {
          "value": 0.000767529068980366,
          "variable": "first passage"
         },
         {
          "value": 0.0029959725216031075,
          "variable": "first passage"
         },
         {
          "value": 0.03364100679755211,
          "variable": "first passage"
         },
         {
          "value": 0.09435015171766281,
          "variable": "first passage"
         },
         {
          "value": 0.10599370300769806,
          "variable": "first passage"
         },
         {
          "value": 0.14446242153644562,
          "variable": "first passage"
         },
         {
          "value": 0.04015367850661278,
          "variable": "first passage"
         },
         {
          "value": 0.012873290106654167,
          "variable": "first passage"
         },
         {
          "value": 0.055922504514455795,
          "variable": "first passage"
         },
         {
          "value": 0.033712126314640045,
          "variable": "first passage"
         },
         {
          "value": 0.024076491594314575,
          "variable": "first passage"
         },
         {
          "value": 0.31763672828674316,
          "variable": "first passage"
         },
         {
          "value": 0.07545294612646103,
          "variable": "first passage"
         },
         {
          "value": 0.01713690534234047,
          "variable": "first passage"
         },
         {
          "value": 0.10503605008125305,
          "variable": "first passage"
         },
         {
          "value": 0.004620166029781103,
          "variable": "first passage"
         },
         {
          "value": 0.013259799219667912,
          "variable": "first passage"
         },
         {
          "value": 0.11813430488109589,
          "variable": "first passage"
         },
         {
          "value": 0.03226592764258385,
          "variable": "first passage"
         },
         {
          "value": 0.1827705204486847,
          "variable": "first passage"
         },
         {
          "value": 0.02349950559437275,
          "variable": "first passage"
         },
         {
          "value": 0.07350488752126694,
          "variable": "first passage"
         },
         {
          "value": 0.11982812732458115,
          "variable": "first passage"
         },
         {
          "value": 0.09260889887809753,
          "variable": "first passage"
         },
         {
          "value": 0.07996474206447601,
          "variable": "first passage"
         },
         {
          "value": 0.16099333763122559,
          "variable": "first passage"
         },
         {
          "value": 0.05237893387675285,
          "variable": "first passage"
         },
         {
          "value": 0.06875954568386078,
          "variable": "first passage"
         },
         {
          "value": 0.016985934227705002,
          "variable": "first passage"
         },
         {
          "value": 0.059077076613903046,
          "variable": "first passage"
         },
         {
          "value": 0.08026754856109619,
          "variable": "first passage"
         },
         {
          "value": 0.16307660937309265,
          "variable": "first passage"
         },
         {
          "value": 0.1867862492799759,
          "variable": "first passage"
         },
         {
          "value": 0.02213132753968239,
          "variable": "first passage"
         },
         {
          "value": 0.00828317366540432,
          "variable": "first passage"
         },
         {
          "value": 0.5747525095939636,
          "variable": "first passage"
         },
         {
          "value": 0.011280299164354801,
          "variable": "first passage"
         },
         {
          "value": 0.1055765375494957,
          "variable": "first passage"
         },
         {
          "value": 0.07741166651248932,
          "variable": "first passage"
         },
         {
          "value": 0.008879302069544792,
          "variable": "first passage"
         },
         {
          "value": 0.015773562714457512,
          "variable": "first passage"
         },
         {
          "value": 0.04004840925335884,
          "variable": "first passage"
         },
         {
          "value": 0.04661126434803009,
          "variable": "first passage"
         },
         {
          "value": 0.17553187906742096,
          "variable": "first passage"
         },
         {
          "value": 0.04797843098640442,
          "variable": "first passage"
         },
         {
          "value": 0.060364048928022385,
          "variable": "first passage"
         },
         {
          "value": 0.2679472267627716,
          "variable": "first passage"
         },
         {
          "value": 0.05520736798644066,
          "variable": "first passage"
         },
         {
          "value": 0.1272820383310318,
          "variable": "first passage"
         },
         {
          "value": 0.1282312572002411,
          "variable": "first passage"
         },
         {
          "value": 0.010195013135671616,
          "variable": "first passage"
         },
         {
          "value": 0.047846004366874695,
          "variable": "first passage"
         },
         {
          "value": 0.019426733255386353,
          "variable": "first passage"
         },
         {
          "value": 0.03504963964223862,
          "variable": "first passage"
         },
         {
          "value": 0.18211126327514648,
          "variable": "first passage"
         },
         {
          "value": 0.08578401803970337,
          "variable": "first passage"
         },
         {
          "value": 0.03414396569132805,
          "variable": "first passage"
         },
         {
          "value": 0.011712818406522274,
          "variable": "first passage"
         },
         {
          "value": 0.0010630788747221231,
          "variable": "first passage"
         },
         {
          "value": 0.08784009516239166,
          "variable": "first passage"
         },
         {
          "value": 0.006600099615752697,
          "variable": "first passage"
         },
         {
          "value": 0.0002945065498352051,
          "variable": "first passage"
         },
         {
          "value": 0.057315316051244736,
          "variable": "first passage"
         },
         {
          "value": 0.10750528424978256,
          "variable": "first passage"
         },
         {
          "value": 0.06941371411085129,
          "variable": "first passage"
         },
         {
          "value": 0.007189510390162468,
          "variable": "first passage"
         },
         {
          "value": 0.11485398560762405,
          "variable": "first passage"
         },
         {
          "value": 0.17685666680335999,
          "variable": "first passage"
         },
         {
          "value": 0.010063639841973782,
          "variable": "first passage"
         },
         {
          "value": 0.28639712929725647,
          "variable": "first passage"
         },
         {
          "value": 0.021086586639285088,
          "variable": "first passage"
         },
         {
          "value": 0.0425833985209465,
          "variable": "first passage"
         },
         {
          "value": 0.014376308768987656,
          "variable": "first passage"
         },
         {
          "value": 0.012029163539409637,
          "variable": "first passage"
         },
         {
          "value": 0.000913053925614804,
          "variable": "first passage"
         },
         {
          "value": 0.27026495337486267,
          "variable": "first passage"
         },
         {
          "value": 0.003837266704067588,
          "variable": "first passage"
         },
         {
          "value": 0.03377082198858261,
          "variable": "first passage"
         },
         {
          "value": 0.042866095900535583,
          "variable": "first passage"
         },
         {
          "value": 0.047073591500520706,
          "variable": "first passage"
         },
         {
          "value": 0.08207318186759949,
          "variable": "first passage"
         },
         {
          "value": 0.042996540665626526,
          "variable": "first passage"
         },
         {
          "value": 0.024425610899925232,
          "variable": "first passage"
         },
         {
          "value": 0.03023609146475792,
          "variable": "first passage"
         },
         {
          "value": 0.03476113826036453,
          "variable": "first passage"
         },
         {
          "value": 0.203104630112648,
          "variable": "first passage"
         },
         {
          "value": 0.06595200300216675,
          "variable": "first passage"
         },
         {
          "value": 0.21518421173095703,
          "variable": "first passage"
         },
         {
          "value": 0.04479935020208359,
          "variable": "first passage"
         },
         {
          "value": 0.006448542233556509,
          "variable": "first passage"
         },
         {
          "value": 0.05209289491176605,
          "variable": "first passage"
         },
         {
          "value": 0.0524388924241066,
          "variable": "first passage"
         },
         {
          "value": 0.037011876702308655,
          "variable": "first passage"
         },
         {
          "value": 0.018919434398412704,
          "variable": "first passage"
         },
         {
          "value": 0.006205270998179913,
          "variable": "first passage"
         },
         {
          "value": 0.060878463089466095,
          "variable": "first passage"
         },
         {
          "value": 0.061027590185403824,
          "variable": "first passage"
         },
         {
          "value": 0.024964584037661552,
          "variable": "first passage"
         },
         {
          "value": 0.1406717300415039,
          "variable": "first passage"
         },
         {
          "value": 0.036348551511764526,
          "variable": "first passage"
         },
         {
          "value": 0.07048959285020828,
          "variable": "first passage"
         },
         {
          "value": 0.041150979697704315,
          "variable": "first passage"
         },
         {
          "value": 0.002905939007177949,
          "variable": "first passage"
         },
         {
          "value": 0.013702120631933212,
          "variable": "first passage"
         },
         {
          "value": 0.03835909441113472,
          "variable": "first passage"
         },
         {
          "value": 0.06136148422956467,
          "variable": "first passage"
         },
         {
          "value": 0.04128642380237579,
          "variable": "first passage"
         },
         {
          "value": 0.04528111591935158,
          "variable": "first passage"
         },
         {
          "value": 0.060768626630306244,
          "variable": "first passage"
         },
         {
          "value": 0.04409230872988701,
          "variable": "first passage"
         },
         {
          "value": 0.006069190334528685,
          "variable": "first passage"
         },
         {
          "value": 0.14515474438667297,
          "variable": "first passage"
         },
         {
          "value": 0.050677590072155,
          "variable": "first passage"
         },
         {
          "value": 0.12387179583311081,
          "variable": "first passage"
         },
         {
          "value": 0.11385013163089752,
          "variable": "first passage"
         },
         {
          "value": 0.07975348830223083,
          "variable": "first passage"
         },
         {
          "value": 0.04059925675392151,
          "variable": "first passage"
         },
         {
          "value": 0.03674855828285217,
          "variable": "first passage"
         },
         {
          "value": 0.11715076118707657,
          "variable": "first passage"
         },
         {
          "value": 0.00923455972224474,
          "variable": "first passage"
         },
         {
          "value": 0.015248054638504982,
          "variable": "first passage"
         },
         {
          "value": 0.06681036949157715,
          "variable": "first passage"
         },
         {
          "value": 0.006425395142287016,
          "variable": "first passage"
         },
         {
          "value": 0.16139698028564453,
          "variable": "first passage"
         },
         {
          "value": 0.07209542393684387,
          "variable": "first passage"
         },
         {
          "value": 0.0034736166708171368,
          "variable": "first passage"
         },
         {
          "value": 0.037595633417367935,
          "variable": "first passage"
         },
         {
          "value": 0.18828311562538147,
          "variable": "first passage"
         },
         {
          "value": 0.08775686472654343,
          "variable": "first passage"
         },
         {
          "value": 0.05887356400489807,
          "variable": "first passage"
         },
         {
          "value": 0.038012173026800156,
          "variable": "first passage"
         },
         {
          "value": 0.05081828683614731,
          "variable": "first passage"
         },
         {
          "value": 0.0044898539781570435,
          "variable": "first passage"
         },
         {
          "value": 0.06236261874437332,
          "variable": "first passage"
         },
         {
          "value": 0.054863426834344864,
          "variable": "first passage"
         },
         {
          "value": 0.0011746290838345885,
          "variable": "first passage"
         },
         {
          "value": 0.16166134178638458,
          "variable": "first passage"
         },
         {
          "value": 0.0032094770576804876,
          "variable": "first passage"
         },
         {
          "value": 0.12089225649833679,
          "variable": "first passage"
         },
         {
          "value": 0.027406159788370132,
          "variable": "first passage"
         },
         {
          "value": 0.021419670432806015,
          "variable": "first passage"
         },
         {
          "value": 0.00481342151761055,
          "variable": "first passage"
         },
         {
          "value": 0.03544434905052185,
          "variable": "first passage"
         },
         {
          "value": 0.003398916218429804,
          "variable": "first passage"
         },
         {
          "value": 0.12377872318029404,
          "variable": "first passage"
         },
         {
          "value": 0.0685112327337265,
          "variable": "first passage"
         },
         {
          "value": 0.0024747278075665236,
          "variable": "first passage"
         },
         {
          "value": 0.0011893215123564005,
          "variable": "first passage"
         },
         {
          "value": 0.10691407322883606,
          "variable": "first passage"
         },
         {
          "value": 0.045554421842098236,
          "variable": "first passage"
         },
         {
          "value": 0.06034829095005989,
          "variable": "first passage"
         },
         {
          "value": 0.0866415798664093,
          "variable": "first passage"
         },
         {
          "value": 0.02910873107612133,
          "variable": "first passage"
         },
         {
          "value": 0.027248265221714973,
          "variable": "first passage"
         },
         {
          "value": 0.010642044246196747,
          "variable": "first passage"
         },
         {
          "value": 0.010062536224722862,
          "variable": "first passage"
         },
         {
          "value": 0.039271824061870575,
          "variable": "first passage"
         },
         {
          "value": 0.15268467366695404,
          "variable": "first passage"
         },
         {
          "value": 0.04613703861832619,
          "variable": "first passage"
         },
         {
          "value": 0.10209651291370392,
          "variable": "first passage"
         },
         {
          "value": 0.4587516784667969,
          "variable": "first passage"
         },
         {
          "value": 0.008724442683160305,
          "variable": "first passage"
         },
         {
          "value": 0.16113723814487457,
          "variable": "first passage"
         },
         {
          "value": 0.2194746881723404,
          "variable": "first passage"
         },
         {
          "value": 0.022949226200580597,
          "variable": "first passage"
         },
         {
          "value": 0.03676166385412216,
          "variable": "first passage"
         },
         {
          "value": 0.3269411623477936,
          "variable": "first passage"
         },
         {
          "value": 0.09019095450639725,
          "variable": "first passage"
         },
         {
          "value": 0.11220278590917587,
          "variable": "first passage"
         },
         {
          "value": 0.2639552056789398,
          "variable": "first passage"
         },
         {
          "value": 0.024421466514468193,
          "variable": "first passage"
         },
         {
          "value": 0.2945351302623749,
          "variable": "first passage"
         },
         {
          "value": 0.050494782626628876,
          "variable": "first passage"
         },
         {
          "value": 0.014584015123546124,
          "variable": "first passage"
         },
         {
          "value": 0.04217967763543129,
          "variable": "first passage"
         },
         {
          "value": 0.04806040972471237,
          "variable": "first passage"
         },
         {
          "value": 0.1479635089635849,
          "variable": "first passage"
         },
         {
          "value": 0.018735401332378387,
          "variable": "first passage"
         },
         {
          "value": 0.05909007042646408,
          "variable": "first passage"
         },
         {
          "value": 0.005217752419412136,
          "variable": "first passage"
         },
         {
          "value": 0.034478701651096344,
          "variable": "first passage"
         },
         {
          "value": 0.04600875452160835,
          "variable": "first passage"
         },
         {
          "value": 0.023602532222867012,
          "variable": "first passage"
         },
         {
          "value": 0.046766698360443115,
          "variable": "first passage"
         },
         {
          "value": 0.013003863394260406,
          "variable": "first passage"
         },
         {
          "value": 0.026146886870265007,
          "variable": "first passage"
         },
         {
          "value": 0.02143997512757778,
          "variable": "first passage"
         },
         {
          "value": 0.0734584704041481,
          "variable": "first passage"
         },
         {
          "value": 0.05363680049777031,
          "variable": "first passage"
         },
         {
          "value": 0.028481192886829376,
          "variable": "first passage"
         },
         {
          "value": 0.017287444323301315,
          "variable": "first passage"
         },
         {
          "value": 0.060849834233522415,
          "variable": "first passage"
         },
         {
          "value": 0.021448103711009026,
          "variable": "first passage"
         },
         {
          "value": 0.02232539653778076,
          "variable": "first passage"
         },
         {
          "value": 0.04809970408678055,
          "variable": "first passage"
         },
         {
          "value": 0.3002293109893799,
          "variable": "first passage"
         },
         {
          "value": 0.09142883121967316,
          "variable": "first passage"
         },
         {
          "value": 0.08545585721731186,
          "variable": "first passage"
         },
         {
          "value": 0.12830175459384918,
          "variable": "first passage"
         },
         {
          "value": 0.057997725903987885,
          "variable": "first passage"
         },
         {
          "value": 0.051470234990119934,
          "variable": "first passage"
         },
         {
          "value": 0.24969764053821564,
          "variable": "first passage"
         },
         {
          "value": 0.03154708445072174,
          "variable": "first passage"
         },
         {
          "value": 0.002346324035897851,
          "variable": "first passage"
         },
         {
          "value": 0.006986407097429037,
          "variable": "first passage"
         },
         {
          "value": 0.00533797824755311,
          "variable": "first passage"
         },
         {
          "value": 0.05226457864046097,
          "variable": "first passage"
         },
         {
          "value": 0.013808077201247215,
          "variable": "first passage"
         },
         {
          "value": 0.09737905114889145,
          "variable": "first passage"
         },
         {
          "value": 0.176083043217659,
          "variable": "first passage"
         },
         {
          "value": 0.004121017176657915,
          "variable": "first passage"
         },
         {
          "value": 0.04759477823972702,
          "variable": "first passage"
         },
         {
          "value": 0.11956494301557541,
          "variable": "first passage"
         },
         {
          "value": 0.039221975952386856,
          "variable": "first passage"
         },
         {
          "value": 0.13360029458999634,
          "variable": "first passage"
         },
         {
          "value": 0.08396106213331223,
          "variable": "first passage"
         },
         {
          "value": 0.03692202270030975,
          "variable": "first passage"
         },
         {
          "value": 0.007874107919633389,
          "variable": "first passage"
         },
         {
          "value": 0.0017571161733940244,
          "variable": "first passage"
         },
         {
          "value": 0.0759805291891098,
          "variable": "first passage"
         },
         {
          "value": 0.09848707169294357,
          "variable": "first passage"
         },
         {
          "value": 0.04094823822379112,
          "variable": "first passage"
         },
         {
          "value": 0.07054399698972702,
          "variable": "first passage"
         },
         {
          "value": 0.02555997110903263,
          "variable": "first passage"
         },
         {
          "value": 0.06817109137773514,
          "variable": "first passage"
         },
         {
          "value": 0.05430631339550018,
          "variable": "first passage"
         },
         {
          "value": 0.047689326107501984,
          "variable": "first passage"
         },
         {
          "value": 0.09531828761100769,
          "variable": "first passage"
         },
         {
          "value": 0.04710926488041878,
          "variable": "first passage"
         },
         {
          "value": 0.026889432221651077,
          "variable": "first passage"
         },
         {
          "value": 0.004011962097138166,
          "variable": "first passage"
         },
         {
          "value": 0.053209468722343445,
          "variable": "first passage"
         },
         {
          "value": 0.15709549188613892,
          "variable": "first passage"
         },
         {
          "value": 0.06246507167816162,
          "variable": "first passage"
         },
         {
          "value": 0.04927995800971985,
          "variable": "first passage"
         },
         {
          "value": 0.0054435101337730885,
          "variable": "first passage"
         },
         {
          "value": 0.010364866815507412,
          "variable": "first passage"
         },
         {
          "value": 0.06681545823812485,
          "variable": "first passage"
         },
         {
          "value": 0.11832472681999207,
          "variable": "first passage"
         },
         {
          "value": 0.05989062413573265,
          "variable": "first passage"
         },
         {
          "value": 0.01966295950114727,
          "variable": "first passage"
         },
         {
          "value": 0.06584946811199188,
          "variable": "first passage"
         },
         {
          "value": 0.06188008189201355,
          "variable": "first passage"
         },
         {
          "value": 0.09156542271375656,
          "variable": "first passage"
         },
         {
          "value": 0.005526719614863396,
          "variable": "first passage"
         },
         {
          "value": 0.20432454347610474,
          "variable": "first passage"
         },
         {
          "value": 0.011787627823650837,
          "variable": "first passage"
         },
         {
          "value": 0.08392193168401718,
          "variable": "first passage"
         },
         {
          "value": 0.06883030384778976,
          "variable": "first passage"
         },
         {
          "value": 0.02172784134745598,
          "variable": "first passage"
         },
         {
          "value": 0.03172488510608673,
          "variable": "first passage"
         },
         {
          "value": 0.07218855619430542,
          "variable": "first passage"
         },
         {
          "value": 0.10618171840906143,
          "variable": "first passage"
         },
         {
          "value": 0.08366011083126068,
          "variable": "first passage"
         },
         {
          "value": 0.00038680434226989746,
          "variable": "first passage"
         },
         {
          "value": 0.054010625928640366,
          "variable": "first passage"
         },
         {
          "value": 0.06364886462688446,
          "variable": "first passage"
         },
         {
          "value": 0.21565666794776917,
          "variable": "first passage"
         },
         {
          "value": 0.058918651193380356,
          "variable": "first passage"
         },
         {
          "value": 0.12225431203842163,
          "variable": "first passage"
         },
         {
          "value": 0.013779301196336746,
          "variable": "first passage"
         },
         {
          "value": 0.12158649414777756,
          "variable": "first passage"
         },
         {
          "value": 0.019133975729346275,
          "variable": "first passage"
         },
         {
          "value": 0.06836016476154327,
          "variable": "first passage"
         },
         {
          "value": 0.09574448317289352,
          "variable": "first passage"
         },
         {
          "value": 0.11555477976799011,
          "variable": "first passage"
         },
         {
          "value": 0.00494932197034359,
          "variable": "first passage"
         },
         {
          "value": 0.02082793600857258,
          "variable": "first passage"
         },
         {
          "value": 0.0429176464676857,
          "variable": "first passage"
         },
         {
          "value": 0.12909314036369324,
          "variable": "first passage"
         },
         {
          "value": 0.10939976572990417,
          "variable": "first passage"
         },
         {
          "value": 0.01535037811845541,
          "variable": "first passage"
         },
         {
          "value": 0.056203603744506836,
          "variable": "first passage"
         },
         {
          "value": 0.08336582779884338,
          "variable": "first passage"
         },
         {
          "value": 0.05525461584329605,
          "variable": "first passage"
         },
         {
          "value": 0.12381363660097122,
          "variable": "first passage"
         },
         {
          "value": 0.00591069832444191,
          "variable": "first passage"
         },
         {
          "value": 0.014936406165361404,
          "variable": "first passage"
         },
         {
          "value": 0.043384749442338943,
          "variable": "first passage"
         },
         {
          "value": 0.11967787891626358,
          "variable": "first passage"
         },
         {
          "value": 0.026317071169614792,
          "variable": "first passage"
         },
         {
          "value": 0.017889080569148064,
          "variable": "first passage"
         },
         {
          "value": 0.0751519426703453,
          "variable": "first passage"
         },
         {
          "value": 0.035841505974531174,
          "variable": "first passage"
         },
         {
          "value": 0.033605076372623444,
          "variable": "first passage"
         },
         {
          "value": 0.18753257393836975,
          "variable": "first passage"
         },
         {
          "value": 0.06953344494104385,
          "variable": "first passage"
         },
         {
          "value": 0.09365738183259964,
          "variable": "first passage"
         },
         {
          "value": 0.08291413635015488,
          "variable": "first passage"
         },
         {
          "value": 0.07055171579122543,
          "variable": "first passage"
         },
         {
          "value": 0.01880035363137722,
          "variable": "first passage"
         },
         {
          "value": 0.06821820139884949,
          "variable": "first passage"
         },
         {
          "value": 0.015115214511752129,
          "variable": "first passage"
         },
         {
          "value": 0.1225104033946991,
          "variable": "first passage"
         },
         {
          "value": 0.04500116780400276,
          "variable": "first passage"
         },
         {
          "value": 0.11358355730772018,
          "variable": "first passage"
         },
         {
          "value": 0.029724862426519394,
          "variable": "first passage"
         },
         {
          "value": 0.10808165371417999,
          "variable": "first passage"
         },
         {
          "value": 0.1776333749294281,
          "variable": "first passage"
         },
         {
          "value": 0.03708246350288391,
          "variable": "first passage"
         },
         {
          "value": 0.05480547249317169,
          "variable": "first passage"
         },
         {
          "value": 0.08780885487794876,
          "variable": "first passage"
         },
         {
          "value": 0.05215657129883766,
          "variable": "first passage"
         },
         {
          "value": 0.05223722383379936,
          "variable": "first passage"
         },
         {
          "value": 0.13314712047576904,
          "variable": "first passage"
         },
         {
          "value": 0.05915031209588051,
          "variable": "first passage"
         },
         {
          "value": 0.04419185221195221,
          "variable": "first passage"
         },
         {
          "value": 0.020785575732588768,
          "variable": "first passage"
         },
         {
          "value": 0.09908077120780945,
          "variable": "first passage"
         },
         {
          "value": 0.1462617814540863,
          "variable": "first passage"
         },
         {
          "value": 0.05728141963481903,
          "variable": "first passage"
         },
         {
          "value": 0.004142068792134523,
          "variable": "first passage"
         },
         {
          "value": 0.10458478331565857,
          "variable": "first passage"
         },
         {
          "value": 0.002763304626569152,
          "variable": "first passage"
         },
         {
          "value": 0.011110504157841206,
          "variable": "first passage"
         },
         {
          "value": 0.037667445838451385,
          "variable": "first passage"
         },
         {
          "value": 0.07419554889202118,
          "variable": "first passage"
         },
         {
          "value": 0.021177861839532852,
          "variable": "first passage"
         },
         {
          "value": 0.014414407312870026,
          "variable": "first passage"
         },
         {
          "value": 0.023472348228096962,
          "variable": "first passage"
         },
         {
          "value": 0.12673327326774597,
          "variable": "first passage"
         },
         {
          "value": 0.04911143332719803,
          "variable": "first passage"
         },
         {
          "value": 0.029100440442562103,
          "variable": "first passage"
         },
         {
          "value": 0.19077026844024658,
          "variable": "first passage"
         },
         {
          "value": 0.2885380983352661,
          "variable": "first passage"
         },
         {
          "value": 0.042599182575941086,
          "variable": "first passage"
         },
         {
          "value": 0.14624018967151642,
          "variable": "first passage"
         },
         {
          "value": 0.007430442608892918,
          "variable": "first passage"
         },
         {
          "value": 0.11776825785636902,
          "variable": "first passage"
         },
         {
          "value": 0.020674806088209152,
          "variable": "first passage"
         },
         {
          "value": 0.021525390446186066,
          "variable": "first passage"
         },
         {
          "value": 0.007148415315896273,
          "variable": "first passage"
         },
         {
          "value": 0.5542909502983093,
          "variable": "first passage"
         },
         {
          "value": 0.05739976465702057,
          "variable": "first passage"
         },
         {
          "value": 0.06437909603118896,
          "variable": "first passage"
         },
         {
          "value": 0.11815878748893738,
          "variable": "first passage"
         },
         {
          "value": 0.08729393780231476,
          "variable": "first passage"
         },
         {
          "value": 0.1923227608203888,
          "variable": "first passage"
         },
         {
          "value": 0.1718032956123352,
          "variable": "first passage"
         },
         {
          "value": 0.028277352452278137,
          "variable": "first passage"
         },
         {
          "value": 0.07342472672462463,
          "variable": "first passage"
         },
         {
          "value": 0.03559399023652077,
          "variable": "first passage"
         },
         {
          "value": 0.08930864185094833,
          "variable": "first passage"
         },
         {
          "value": 0.23297680914402008,
          "variable": "first passage"
         },
         {
          "value": 0.04009990766644478,
          "variable": "first passage"
         },
         {
          "value": 0.08618859201669693,
          "variable": "first passage"
         },
         {
          "value": 0.0601513534784317,
          "variable": "first passage"
         },
         {
          "value": 0.004085849970579147,
          "variable": "first passage"
         },
         {
          "value": 0.11104460805654526,
          "variable": "first passage"
         },
         {
          "value": 0.09707830846309662,
          "variable": "first passage"
         },
         {
          "value": 0.1271478831768036,
          "variable": "first passage"
         },
         {
          "value": 0.021070042625069618,
          "variable": "first passage"
         },
         {
          "value": 0.0016247039893642068,
          "variable": "first passage"
         },
         {
          "value": 0.1183633804321289,
          "variable": "first passage"
         },
         {
          "value": 0.037522174417972565,
          "variable": "first passage"
         },
         {
          "value": 0.07552146911621094,
          "variable": "first passage"
         },
         {
          "value": 0.07270950078964233,
          "variable": "first passage"
         },
         {
          "value": 0.01440285611897707,
          "variable": "first passage"
         },
         {
          "value": 0.10513640940189362,
          "variable": "first passage"
         },
         {
          "value": 0.03560750186443329,
          "variable": "first passage"
         },
         {
          "value": 0.03135853633284569,
          "variable": "first passage"
         },
         {
          "value": 0.02283908613026142,
          "variable": "first passage"
         },
         {
          "value": 0.049651455134153366,
          "variable": "first passage"
         },
         {
          "value": 0.006488279905170202,
          "variable": "first passage"
         },
         {
          "value": 0.0957537442445755,
          "variable": "first passage"
         },
         {
          "value": 0.08777475357055664,
          "variable": "first passage"
         },
         {
          "value": 0.02244011126458645,
          "variable": "first passage"
         },
         {
          "value": 0.04047533497214317,
          "variable": "first passage"
         },
         {
          "value": 0.04298544302582741,
          "variable": "first passage"
         },
         {
          "value": 0.12939710915088654,
          "variable": "first passage"
         },
         {
          "value": 0.00141355418600142,
          "variable": "first passage"
         },
         {
          "value": 0.24786455929279327,
          "variable": "first passage"
         },
         {
          "value": 0.22841762006282806,
          "variable": "first passage"
         },
         {
          "value": 0.03536078706383705,
          "variable": "first passage"
         },
         {
          "value": 0.016310878098011017,
          "variable": "first passage"
         },
         {
          "value": 0.001764805638231337,
          "variable": "first passage"
         },
         {
          "value": 0.0574750192463398,
          "variable": "first passage"
         },
         {
          "value": 0.04627896100282669,
          "variable": "first passage"
         },
         {
          "value": 0.032314494252204895,
          "variable": "first passage"
         },
         {
          "value": 0.01805144175887108,
          "variable": "first passage"
         },
         {
          "value": 0.04835916683077812,
          "variable": "first passage"
         },
         {
          "value": 0.024844370782375336,
          "variable": "first passage"
         },
         {
          "value": 0.0009852052899077535,
          "variable": "first passage"
         },
         {
          "value": 0.04282489791512489,
          "variable": "first passage"
         },
         {
          "value": 0.05590668320655823,
          "variable": "first passage"
         },
         {
          "value": 0.008645166642963886,
          "variable": "first passage"
         },
         {
          "value": 0.1280423402786255,
          "variable": "first passage"
         },
         {
          "value": 0.010148221626877785,
          "variable": "first passage"
         },
         {
          "value": 0.02639308013021946,
          "variable": "first passage"
         },
         {
          "value": 0.06837140023708344,
          "variable": "first passage"
         },
         {
          "value": 0.011365107260644436,
          "variable": "first passage"
         },
         {
          "value": 0.013186508789658546,
          "variable": "first passage"
         },
         {
          "value": 0.09267421811819077,
          "variable": "first passage"
         },
         {
          "value": 0.057101041078567505,
          "variable": "first passage"
         },
         {
          "value": 0.07315892726182938,
          "variable": "first passage"
         },
         {
          "value": 0.1308915615081787,
          "variable": "first passage"
         },
         {
          "value": 0.021154014393687248,
          "variable": "first passage"
         },
         {
          "value": 0.0439717136323452,
          "variable": "first passage"
         },
         {
          "value": 0.026856431737542152,
          "variable": "first passage"
         },
         {
          "value": 0.018758829683065414,
          "variable": "first passage"
         },
         {
          "value": 0.009942010045051575,
          "variable": "first passage"
         },
         {
          "value": 0.0002566128969192505,
          "variable": "first passage"
         },
         {
          "value": 0.04604924097657204,
          "variable": "first passage"
         },
         {
          "value": 0.02572900615632534,
          "variable": "first passage"
         },
         {
          "value": 0.19851647317409515,
          "variable": "first passage"
         },
         {
          "value": 0.1173514872789383,
          "variable": "first passage"
         },
         {
          "value": 0.05678423121571541,
          "variable": "first passage"
         },
         {
          "value": 0.0532333180308342,
          "variable": "first passage"
         },
         {
          "value": 0.06589106470346451,
          "variable": "first passage"
         },
         {
          "value": 0.10882008820772171,
          "variable": "first passage"
         },
         {
          "value": 0.09348230063915253,
          "variable": "first passage"
         },
         {
          "value": 0.0006402135477401316,
          "variable": "first passage"
         },
         {
          "value": 0.013951143249869347,
          "variable": "first passage"
         },
         {
          "value": 0.0242327768355608,
          "variable": "first passage"
         },
         {
          "value": 0.03922475501894951,
          "variable": "first passage"
         },
         {
          "value": 0.10680891573429108,
          "variable": "first passage"
         },
         {
          "value": 0.020312871783971786,
          "variable": "first passage"
         },
         {
          "value": 0.01991540752351284,
          "variable": "first passage"
         },
         {
          "value": 0.12009456753730774,
          "variable": "first passage"
         },
         {
          "value": 0.06815021485090256,
          "variable": "first passage"
         },
         {
          "value": 0.2445916384458542,
          "variable": "first passage"
         },
         {
          "value": 0.008680094964802265,
          "variable": "first passage"
         },
         {
          "value": 0.03455149009823799,
          "variable": "first passage"
         },
         {
          "value": 0.0017997927498072386,
          "variable": "first passage"
         },
         {
          "value": 0.08211076259613037,
          "variable": "first passage"
         },
         {
          "value": 0.1427501142024994,
          "variable": "first passage"
         },
         {
          "value": 0.023963717743754387,
          "variable": "first passage"
         },
         {
          "value": 0.08409648388624191,
          "variable": "first passage"
         },
         {
          "value": 0.05892461538314819,
          "variable": "first passage"
         },
         {
          "value": 0.031656038016080856,
          "variable": "first passage"
         },
         {
          "value": 0.00797310657799244,
          "variable": "first passage"
         },
         {
          "value": 0.09602347016334534,
          "variable": "first passage"
         },
         {
          "value": 0.12811172008514404,
          "variable": "first passage"
         },
         {
          "value": 0.13071481883525848,
          "variable": "first passage"
         },
         {
          "value": 0.13929079473018646,
          "variable": "first passage"
         },
         {
          "value": 0.10082287341356277,
          "variable": "first passage"
         },
         {
          "value": 0.034363146871328354,
          "variable": "first passage"
         },
         {
          "value": 0.02491702139377594,
          "variable": "first passage"
         },
         {
          "value": 0.02760281413793564,
          "variable": "first passage"
         },
         {
          "value": 0.09082547575235367,
          "variable": "first passage"
         },
         {
          "value": 0.07810540497303009,
          "variable": "first passage"
         },
         {
          "value": 0.013683746568858624,
          "variable": "first passage"
         },
         {
          "value": 0.03638205677270889,
          "variable": "first passage"
         },
         {
          "value": 0.07152434438467026,
          "variable": "first passage"
         },
         {
          "value": 0.00475581269711256,
          "variable": "first passage"
         },
         {
          "value": 0.09195239841938019,
          "variable": "first passage"
         },
         {
          "value": 0.16186262667179108,
          "variable": "first passage"
         },
         {
          "value": 0.09065140783786774,
          "variable": "first passage"
         },
         {
          "value": 0.10789899528026581,
          "variable": "first passage"
         },
         {
          "value": 0.08465930819511414,
          "variable": "first passage"
         },
         {
          "value": 0.08582797646522522,
          "variable": "first passage"
         },
         {
          "value": 0.4954674243927002,
          "variable": "last passage"
         },
         {
          "value": 0.3321722745895386,
          "variable": "last passage"
         },
         {
          "value": 0.07621200382709503,
          "variable": "last passage"
         },
         {
          "value": 0.4185933470726013,
          "variable": "last passage"
         },
         {
          "value": 0.918655276298523,
          "variable": "last passage"
         },
         {
          "value": 0.027156591415405273,
          "variable": "last passage"
         },
         {
          "value": 0.022108886390924454,
          "variable": "last passage"
         },
         {
          "value": 0.21960768103599548,
          "variable": "last passage"
         },
         {
          "value": 0.24788106977939606,
          "variable": "last passage"
         },
         {
          "value": 0.24383845925331116,
          "variable": "last passage"
         },
         {
          "value": 0.14642006158828735,
          "variable": "last passage"
         },
         {
          "value": 0.6074441075325012,
          "variable": "last passage"
         },
         {
          "value": 0.5349358916282654,
          "variable": "last passage"
         },
         {
          "value": 0.12442469596862793,
          "variable": "last passage"
         },
         {
          "value": 0.4117332696914673,
          "variable": "last passage"
         },
         {
          "value": 0.014101704582571983,
          "variable": "last passage"
         },
         {
          "value": 0.33663785457611084,
          "variable": "last passage"
         },
         {
          "value": 0.026155740022659302,
          "variable": "last passage"
         },
         {
          "value": 0.12798568606376648,
          "variable": "last passage"
         },
         {
          "value": 1.3116915225982666,
          "variable": "last passage"
         },
         {
          "value": 0.015746407210826874,
          "variable": "last passage"
         },
         {
          "value": 0.33598577976226807,
          "variable": "last passage"
         },
         {
          "value": 0.05722441524267197,
          "variable": "last passage"
         },
         {
          "value": 0.44971001148223877,
          "variable": "last passage"
         },
         {
          "value": 0.20112036168575287,
          "variable": "last passage"
         },
         {
          "value": 0.20409752428531647,
          "variable": "last passage"
         },
         {
          "value": 0.24595573544502258,
          "variable": "last passage"
         },
         {
          "value": 0.7810398936271667,
          "variable": "last passage"
         },
         {
          "value": 0.1557801067829132,
          "variable": "last passage"
         },
         {
          "value": 0.19369769096374512,
          "variable": "last passage"
         },
         {
          "value": 0.007741379085928202,
          "variable": "last passage"
         },
         {
          "value": 0.010620316490530968,
          "variable": "last passage"
         },
         {
          "value": 0.4421335756778717,
          "variable": "last passage"
         },
         {
          "value": 0.3854718804359436,
          "variable": "last passage"
         },
         {
          "value": 0.8966616988182068,
          "variable": "last passage"
         },
         {
          "value": 0.0348844900727272,
          "variable": "last passage"
         },
         {
          "value": 0.1286437213420868,
          "variable": "last passage"
         },
         {
          "value": 0.5321821570396423,
          "variable": "last passage"
         },
         {
          "value": 0.19853180646896362,
          "variable": "last passage"
         },
         {
          "value": 0.5463924407958984,
          "variable": "last passage"
         },
         {
          "value": 0.02833179384469986,
          "variable": "last passage"
         },
         {
          "value": 0.02348761074244976,
          "variable": "last passage"
         },
         {
          "value": 0.03682505339384079,
          "variable": "last passage"
         },
         {
          "value": 0.07705335319042206,
          "variable": "last passage"
         },
         {
          "value": 1.1241028308868408,
          "variable": "last passage"
         },
         {
          "value": 0.06452587246894836,
          "variable": "last passage"
         },
         {
          "value": 0.015462388284504414,
          "variable": "last passage"
         },
         {
          "value": 0.6833378672599792,
          "variable": "last passage"
         },
         {
          "value": 0.11006220430135727,
          "variable": "last passage"
         },
         {
          "value": 0.01787865161895752,
          "variable": "last passage"
         },
         {
          "value": 0.3424776792526245,
          "variable": "last passage"
         },
         {
          "value": 0.067331962287426,
          "variable": "last passage"
         },
         {
          "value": 0.1426376849412918,
          "variable": "last passage"
         },
         {
          "value": 0.5030423998832703,
          "variable": "last passage"
         },
         {
          "value": 0.029803575947880745,
          "variable": "last passage"
         },
         {
          "value": 0.6738647818565369,
          "variable": "last passage"
         },
         {
          "value": 0.00939810648560524,
          "variable": "last passage"
         },
         {
          "value": 0.08224420994520187,
          "variable": "last passage"
         },
         {
          "value": 0.4503466486930847,
          "variable": "last passage"
         },
         {
          "value": 0.1210152730345726,
          "variable": "last passage"
         },
         {
          "value": 0.32959190011024475,
          "variable": "last passage"
         },
         {
          "value": 0.2575058043003082,
          "variable": "last passage"
         },
         {
          "value": 0.1756918579339981,
          "variable": "last passage"
         },
         {
          "value": 0.12314283847808838,
          "variable": "last passage"
         },
         {
          "value": 0.6663952469825745,
          "variable": "last passage"
         },
         {
          "value": 0.12065906822681427,
          "variable": "last passage"
         },
         {
          "value": 0.17789553105831146,
          "variable": "last passage"
         },
         {
          "value": 0.6968454122543335,
          "variable": "last passage"
         },
         {
          "value": 0.02111922763288021,
          "variable": "last passage"
         },
         {
          "value": 0.5992269515991211,
          "variable": "last passage"
         },
         {
          "value": 0.6103284955024719,
          "variable": "last passage"
         },
         {
          "value": 0.011180693283677101,
          "variable": "last passage"
         },
         {
          "value": 0.4344961941242218,
          "variable": "last passage"
         },
         {
          "value": 0.45434918999671936,
          "variable": "last passage"
         },
         {
          "value": 0.3888757526874542,
          "variable": "last passage"
         },
         {
          "value": 0.008852358907461166,
          "variable": "last passage"
         },
         {
          "value": 0.41208967566490173,
          "variable": "last passage"
         },
         {
          "value": 0.16283182799816132,
          "variable": "last passage"
         },
         {
          "value": 0.11922026425600052,
          "variable": "last passage"
         },
         {
          "value": 1.8042734861373901,
          "variable": "last passage"
         },
         {
          "value": 0.2207799255847931,
          "variable": "last passage"
         },
         {
          "value": 0.04551986977458,
          "variable": "last passage"
         },
         {
          "value": 0.14802280068397522,
          "variable": "last passage"
         },
         {
          "value": 0.38744276762008667,
          "variable": "last passage"
         },
         {
          "value": 0.0820012241601944,
          "variable": "last passage"
         },
         {
          "value": 0.598203718662262,
          "variable": "last passage"
         },
         {
          "value": 0.08570221066474915,
          "variable": "last passage"
         },
         {
          "value": 0.044938698410987854,
          "variable": "last passage"
         },
         {
          "value": 0.4598788917064667,
          "variable": "last passage"
         },
         {
          "value": 0.10768986493349075,
          "variable": "last passage"
         },
         {
          "value": 1.8233896493911743,
          "variable": "last passage"
         },
         {
          "value": 0.8141827583312988,
          "variable": "last passage"
         },
         {
          "value": 0.10159555077552795,
          "variable": "last passage"
         },
         {
          "value": 0.5534197688102722,
          "variable": "last passage"
         },
         {
          "value": 0.5569996237754822,
          "variable": "last passage"
         },
         {
          "value": 0.14539490640163422,
          "variable": "last passage"
         },
         {
          "value": 0.2094316929578781,
          "variable": "last passage"
         },
         {
          "value": 0.11147856712341309,
          "variable": "last passage"
         },
         {
          "value": 0.05788823589682579,
          "variable": "last passage"
         },
         {
          "value": 0.4376004934310913,
          "variable": "last passage"
         },
         {
          "value": 0.36077579855918884,
          "variable": "last passage"
         },
         {
          "value": 0.13962480425834656,
          "variable": "last passage"
         },
         {
          "value": 0.13902437686920166,
          "variable": "last passage"
         },
         {
          "value": 0.3296472132205963,
          "variable": "last passage"
         },
         {
          "value": 0.18313127756118774,
          "variable": "last passage"
         },
         {
          "value": 0.766303539276123,
          "variable": "last passage"
         },
         {
          "value": 0.022782595828175545,
          "variable": "last passage"
         },
         {
          "value": 0.4704069495201111,
          "variable": "last passage"
         },
         {
          "value": 0.28213435411453247,
          "variable": "last passage"
         },
         {
          "value": 0.14864946901798248,
          "variable": "last passage"
         },
         {
          "value": 0.1107633113861084,
          "variable": "last passage"
         },
         {
          "value": 0.13882200419902802,
          "variable": "last passage"
         },
         {
          "value": 0.2082497924566269,
          "variable": "last passage"
         },
         {
          "value": 0.2054300159215927,
          "variable": "last passage"
         },
         {
          "value": 0.677116334438324,
          "variable": "last passage"
         },
         {
          "value": 0.06013729050755501,
          "variable": "last passage"
         },
         {
          "value": 0.021431678906083107,
          "variable": "last passage"
         },
         {
          "value": 0.049941763281822205,
          "variable": "last passage"
         },
         {
          "value": 0.05413762480020523,
          "variable": "last passage"
         },
         {
          "value": 0.10317803174257278,
          "variable": "last passage"
         },
         {
          "value": 0.11083252727985382,
          "variable": "last passage"
         },
         {
          "value": 0.6915784478187561,
          "variable": "last passage"
         },
         {
          "value": 0.16142694652080536,
          "variable": "last passage"
         },
         {
          "value": 0.4253948926925659,
          "variable": "last passage"
         },
         {
          "value": 0.06228945031762123,
          "variable": "last passage"
         },
         {
          "value": 0.12823092937469482,
          "variable": "last passage"
         },
         {
          "value": 0.0160219669342041,
          "variable": "last passage"
         },
         {
          "value": 1.6879894733428955,
          "variable": "last passage"
         },
         {
          "value": 0.857148289680481,
          "variable": "last passage"
         },
         {
          "value": 0.647064745426178,
          "variable": "last passage"
         },
         {
          "value": 0.04029344767332077,
          "variable": "last passage"
         },
         {
          "value": 0.17352187633514404,
          "variable": "last passage"
         },
         {
          "value": 0.419872909784317,
          "variable": "last passage"
         },
         {
          "value": 0.5850750803947449,
          "variable": "last passage"
         },
         {
          "value": 0.09754017740488052,
          "variable": "last passage"
         },
         {
          "value": 0.11532512307167053,
          "variable": "last passage"
         },
         {
          "value": 0.013840241357684135,
          "variable": "last passage"
         },
         {
          "value": 0.5475990176200867,
          "variable": "last passage"
         },
         {
          "value": 0.6101564168930054,
          "variable": "last passage"
         },
         {
          "value": 0.7294144034385681,
          "variable": "last passage"
         },
         {
          "value": 0.01668533682823181,
          "variable": "last passage"
         },
         {
          "value": 0.4495916962623596,
          "variable": "last passage"
         },
         {
          "value": 0.7040181159973145,
          "variable": "last passage"
         },
         {
          "value": 0.5039238333702087,
          "variable": "last passage"
         },
         {
          "value": 0.02032582461833954,
          "variable": "last passage"
         },
         {
          "value": 0.06662362813949585,
          "variable": "last passage"
         },
         {
          "value": 0.09744825214147568,
          "variable": "last passage"
         },
         {
          "value": 0.12388370931148529,
          "variable": "last passage"
         },
         {
          "value": 0.058588385581970215,
          "variable": "last passage"
         },
         {
          "value": 0.07688067853450775,
          "variable": "last passage"
         },
         {
          "value": 0.03536255657672882,
          "variable": "last passage"
         },
         {
          "value": 0.7495962381362915,
          "variable": "last passage"
         },
         {
          "value": 0.03432357311248779,
          "variable": "last passage"
         },
         {
          "value": 0.912440836429596,
          "variable": "last passage"
         },
         {
          "value": 0.014809255488216877,
          "variable": "last passage"
         },
         {
          "value": 0.5875997543334961,
          "variable": "last passage"
         },
         {
          "value": 1.0916165113449097,
          "variable": "last passage"
         },
         {
          "value": 0.07417149096727371,
          "variable": "last passage"
         },
         {
          "value": 0.11300759762525558,
          "variable": "last passage"
         },
         {
          "value": 0.24322226643562317,
          "variable": "last passage"
         },
         {
          "value": 0.13091421127319336,
          "variable": "last passage"
         },
         {
          "value": 0.023269368335604668,
          "variable": "last passage"
         },
         {
          "value": 0.22268696129322052,
          "variable": "last passage"
         },
         {
          "value": 0.12070277333259583,
          "variable": "last passage"
         },
         {
          "value": 0.06207151338458061,
          "variable": "last passage"
         },
         {
          "value": 0.3348144590854645,
          "variable": "last passage"
         },
         {
          "value": 0.06169554218649864,
          "variable": "last passage"
         },
         {
          "value": 0.41177240014076233,
          "variable": "last passage"
         },
         {
          "value": 0.109437957406044,
          "variable": "last passage"
         },
         {
          "value": 0.00959700159728527,
          "variable": "last passage"
         },
         {
          "value": 0.2102881222963333,
          "variable": "last passage"
         },
         {
          "value": 0.8473708629608154,
          "variable": "last passage"
         },
         {
          "value": 1.1852355003356934,
          "variable": "last passage"
         },
         {
          "value": 0.06423039734363556,
          "variable": "last passage"
         },
         {
          "value": 0.2416420429944992,
          "variable": "last passage"
         },
         {
          "value": 0.09856195747852325,
          "variable": "last passage"
         },
         {
          "value": 0.13100340962409973,
          "variable": "last passage"
         },
         {
          "value": 0.05098685622215271,
          "variable": "last passage"
         },
         {
          "value": 0.44636988639831543,
          "variable": "last passage"
         },
         {
          "value": 2.0268917083740234,
          "variable": "last passage"
         },
         {
          "value": 0.07653512060642242,
          "variable": "last passage"
         },
         {
          "value": 0.07995551079511642,
          "variable": "last passage"
         },
         {
          "value": 0.3333298861980438,
          "variable": "last passage"
         },
         {
          "value": 0.013750390149652958,
          "variable": "last passage"
         },
         {
          "value": 0.10599412769079208,
          "variable": "last passage"
         },
         {
          "value": 0.004626648500561714,
          "variable": "last passage"
         },
         {
          "value": 0.6883578896522522,
          "variable": "last passage"
         },
         {
          "value": 1.1046162843704224,
          "variable": "last passage"
         },
         {
          "value": 0.45583924651145935,
          "variable": "last passage"
         },
         {
          "value": 0.2337573617696762,
          "variable": "last passage"
         },
         {
          "value": 0.37337151169776917,
          "variable": "last passage"
         },
         {
          "value": 0.34386777877807617,
          "variable": "last passage"
         },
         {
          "value": 0.12784895300865173,
          "variable": "last passage"
         },
         {
          "value": 0.19171670079231262,
          "variable": "last passage"
         },
         {
          "value": 0.4008943736553192,
          "variable": "last passage"
         },
         {
          "value": 0.03195170685648918,
          "variable": "last passage"
         },
         {
          "value": 0.10732906311750412,
          "variable": "last passage"
         },
         {
          "value": 0.002209531143307686,
          "variable": "last passage"
         },
         {
          "value": 1.2661195993423462,
          "variable": "last passage"
         },
         {
          "value": 0.04030836001038551,
          "variable": "last passage"
         },
         {
          "value": 0.10353461652994156,
          "variable": "last passage"
         },
         {
          "value": 0.02737971767783165,
          "variable": "last passage"
         },
         {
          "value": 0.7345660328865051,
          "variable": "last passage"
         },
         {
          "value": 0.3973384201526642,
          "variable": "last passage"
         },
         {
          "value": 0.07133165746927261,
          "variable": "last passage"
         },
         {
          "value": 0.5844025015830994,
          "variable": "last passage"
         },
         {
          "value": 0.02314370684325695,
          "variable": "last passage"
         },
         {
          "value": 0.07759018242359161,
          "variable": "last passage"
         },
         {
          "value": 0.07803668081760406,
          "variable": "last passage"
         },
         {
          "value": 0.09071457386016846,
          "variable": "last passage"
         },
         {
          "value": 1.6386951208114624,
          "variable": "last passage"
         },
         {
          "value": 0.03763456642627716,
          "variable": "last passage"
         },
         {
          "value": 0.23411685228347778,
          "variable": "last passage"
         },
         {
          "value": 0.17945881187915802,
          "variable": "last passage"
         },
         {
          "value": 0.07537983357906342,
          "variable": "last passage"
         },
         {
          "value": 0.15912216901779175,
          "variable": "last passage"
         },
         {
          "value": 0.07856278866529465,
          "variable": "last passage"
         },
         {
          "value": 0.000753343163523823,
          "variable": "last passage"
         },
         {
          "value": 0.4428735375404358,
          "variable": "last passage"
         },
         {
          "value": 0.16420955955982208,
          "variable": "last passage"
         },
         {
          "value": 0.2442457228899002,
          "variable": "last passage"
         },
         {
          "value": 0.37970539927482605,
          "variable": "last passage"
         },
         {
          "value": 0.0040856413543224335,
          "variable": "last passage"
         },
         {
          "value": 0.01049752440303564,
          "variable": "last passage"
         },
         {
          "value": 0.036149684339761734,
          "variable": "last passage"
         },
         {
          "value": 0.12459410727024078,
          "variable": "last passage"
         },
         {
          "value": 0.03969474881887436,
          "variable": "last passage"
         },
         {
          "value": 0.03139934316277504,
          "variable": "last passage"
         },
         {
          "value": 0.1764068454504013,
          "variable": "last passage"
         },
         {
          "value": 1.2101465463638306,
          "variable": "last passage"
         },
         {
          "value": 0.25863373279571533,
          "variable": "last passage"
         },
         {
          "value": 0.6060609221458435,
          "variable": "last passage"
         },
         {
          "value": 3.0511627197265625,
          "variable": "last passage"
         },
         {
          "value": 0.09356290847063065,
          "variable": "last passage"
         },
         {
          "value": 0.11110406368970871,
          "variable": "last passage"
         },
         {
          "value": 0.2857724130153656,
          "variable": "last passage"
         },
         {
          "value": 2.9421310424804688,
          "variable": "last passage"
         },
         {
          "value": 0.2978413999080658,
          "variable": "last passage"
         },
         {
          "value": 0.07105045765638351,
          "variable": "last passage"
         },
         {
          "value": 0.029801325872540474,
          "variable": "last passage"
         },
         {
          "value": 0.07374978065490723,
          "variable": "last passage"
         },
         {
          "value": 0.009216290898621082,
          "variable": "last passage"
         },
         {
          "value": 0.08837468922138214,
          "variable": "last passage"
         },
         {
          "value": 0.06967664510011673,
          "variable": "last passage"
         },
         {
          "value": 1.0696946382522583,
          "variable": "last passage"
         },
         {
          "value": 0.04703744873404503,
          "variable": "last passage"
         },
         {
          "value": 0.13111110031604767,
          "variable": "last passage"
         },
         {
          "value": 0.43132123351097107,
          "variable": "last passage"
         },
         {
          "value": 0.702376127243042,
          "variable": "last passage"
         },
         {
          "value": 0.0008698106976225972,
          "variable": "last passage"
         },
         {
          "value": 0.3362981379032135,
          "variable": "last passage"
         },
         {
          "value": 0.1032729372382164,
          "variable": "last passage"
         },
         {
          "value": 0.17058177292346954,
          "variable": "last passage"
         },
         {
          "value": 0.5095386505126953,
          "variable": "last passage"
         },
         {
          "value": 0.7224531769752502,
          "variable": "last passage"
         },
         {
          "value": 0.22467710077762604,
          "variable": "last passage"
         },
         {
          "value": 0.11274072527885437,
          "variable": "last passage"
         },
         {
          "value": 0.5073270797729492,
          "variable": "last passage"
         },
         {
          "value": 0.3765941262245178,
          "variable": "last passage"
         },
         {
          "value": 0.11803380399942398,
          "variable": "last passage"
         },
         {
          "value": 0.09827516227960587,
          "variable": "last passage"
         },
         {
          "value": 0.16580304503440857,
          "variable": "last passage"
         },
         {
          "value": 0.3098903298377991,
          "variable": "last passage"
         },
         {
          "value": 0.10754278302192688,
          "variable": "last passage"
         },
         {
          "value": 0.04692615568637848,
          "variable": "last passage"
         },
         {
          "value": 0.137453094124794,
          "variable": "last passage"
         },
         {
          "value": 0.034191206097602844,
          "variable": "last passage"
         },
         {
          "value": 0.18105174601078033,
          "variable": "last passage"
         },
         {
          "value": 0.019065728411078453,
          "variable": "last passage"
         },
         {
          "value": 0.06836023926734924,
          "variable": "last passage"
         },
         {
          "value": 0.9683449268341064,
          "variable": "last passage"
         },
         {
          "value": 0.17743560671806335,
          "variable": "last passage"
         },
         {
          "value": 0.6826205849647522,
          "variable": "last passage"
         },
         {
          "value": 0.4935506582260132,
          "variable": "last passage"
         },
         {
          "value": 0.01890268176794052,
          "variable": "last passage"
         },
         {
          "value": 0.510201632976532,
          "variable": "last passage"
         },
         {
          "value": 0.5263863205909729,
          "variable": "last passage"
         },
         {
          "value": 0.2718181014060974,
          "variable": "last passage"
         },
         {
          "value": 0.29536235332489014,
          "variable": "last passage"
         },
         {
          "value": 1.047851324081421,
          "variable": "last passage"
         },
         {
          "value": 0.06549704074859619,
          "variable": "last passage"
         },
         {
          "value": 0.002900932217016816,
          "variable": "last passage"
         },
         {
          "value": 2.9596283435821533,
          "variable": "last passage"
         },
         {
          "value": 0.7985551953315735,
          "variable": "last passage"
         },
         {
          "value": 0.5508248209953308,
          "variable": "last passage"
         },
         {
          "value": 0.6505914926528931,
          "variable": "last passage"
         },
         {
          "value": 0.04911264032125473,
          "variable": "last passage"
         },
         {
          "value": 0.2899440824985504,
          "variable": "last passage"
         },
         {
          "value": 0.6248375177383423,
          "variable": "last passage"
         },
         {
          "value": 0.596897542476654,
          "variable": "last passage"
         },
         {
          "value": 0.06915199756622314,
          "variable": "last passage"
         },
         {
          "value": 0.06832191348075867,
          "variable": "last passage"
         },
         {
          "value": 1.4303456544876099,
          "variable": "last passage"
         },
         {
          "value": 0.09353861212730408,
          "variable": "last passage"
         },
         {
          "value": 1.1735732555389404,
          "variable": "last passage"
         },
         {
          "value": 0.17164592444896698,
          "variable": "last passage"
         },
         {
          "value": 0.1471109837293625,
          "variable": "last passage"
         },
         {
          "value": 0.4511006772518158,
          "variable": "last passage"
         },
         {
          "value": 0.40865492820739746,
          "variable": "last passage"
         },
         {
          "value": 0.036257073283195496,
          "variable": "last passage"
         },
         {
          "value": 0.03225625306367874,
          "variable": "last passage"
         },
         {
          "value": 0.1691543459892273,
          "variable": "last passage"
         },
         {
          "value": 0.6698089241981506,
          "variable": "last passage"
         },
         {
          "value": 0.4431784749031067,
          "variable": "last passage"
         },
         {
          "value": 2.67169451713562,
          "variable": "last passage"
         },
         {
          "value": 0.503034770488739,
          "variable": "last passage"
         },
         {
          "value": 0.11936790496110916,
          "variable": "last passage"
         },
         {
          "value": 0.6267619132995605,
          "variable": "last passage"
         },
         {
          "value": 0.11076903343200684,
          "variable": "last passage"
         },
         {
          "value": 0.06085396558046341,
          "variable": "last passage"
         },
         {
          "value": 1.6288647651672363,
          "variable": "last passage"
         },
         {
          "value": 0.3678271770477295,
          "variable": "last passage"
         },
         {
          "value": 3.122832775115967,
          "variable": "last passage"
         },
         {
          "value": 0.25843313336372375,
          "variable": "last passage"
         },
         {
          "value": 0.12425026297569275,
          "variable": "last passage"
         },
         {
          "value": 0.6409323811531067,
          "variable": "last passage"
         },
         {
          "value": 0.10948850959539413,
          "variable": "last passage"
         },
         {
          "value": 0.014502497389912605,
          "variable": "last passage"
         },
         {
          "value": 0.25352269411087036,
          "variable": "last passage"
         },
         {
          "value": 0.6311344504356384,
          "variable": "last passage"
         },
         {
          "value": 0.13079054653644562,
          "variable": "last passage"
         },
         {
          "value": 0.03602169081568718,
          "variable": "last passage"
         },
         {
          "value": 0.010541187599301338,
          "variable": "last passage"
         },
         {
          "value": 0.15204429626464844,
          "variable": "last passage"
         },
         {
          "value": 0.016080357134342194,
          "variable": "last passage"
         },
         {
          "value": 0.45627114176750183,
          "variable": "last passage"
         },
         {
          "value": 0.04170094430446625,
          "variable": "last passage"
         },
         {
          "value": 0.24174225330352783,
          "variable": "last passage"
         },
         {
          "value": 0.045568738132715225,
          "variable": "last passage"
         },
         {
          "value": 0.10032965987920761,
          "variable": "last passage"
         },
         {
          "value": 0.010133259929716587,
          "variable": "last passage"
         },
         {
          "value": 0.04986656829714775,
          "variable": "last passage"
         },
         {
          "value": 0.08902733772993088,
          "variable": "last passage"
         },
         {
          "value": 2.160309314727783,
          "variable": "last passage"
         },
         {
          "value": 0.45833250880241394,
          "variable": "last passage"
         },
         {
          "value": 0.15462850034236908,
          "variable": "last passage"
         },
         {
          "value": 0.5188406705856323,
          "variable": "last passage"
         },
         {
          "value": 0.7205943465232849,
          "variable": "last passage"
         },
         {
          "value": 0.03429337218403816,
          "variable": "last passage"
         },
         {
          "value": 0.006685306783765554,
          "variable": "last passage"
         },
         {
          "value": 0.6284454464912415,
          "variable": "last passage"
         },
         {
          "value": 0.3632308840751648,
          "variable": "last passage"
         },
         {
          "value": 0.49659982323646545,
          "variable": "last passage"
         },
         {
          "value": 0.10884729027748108,
          "variable": "last passage"
         },
         {
          "value": 3.021470069885254,
          "variable": "last passage"
         },
         {
          "value": 0.9643977284431458,
          "variable": "last passage"
         },
         {
          "value": 0.2764653265476227,
          "variable": "last passage"
         },
         {
          "value": 0.0616585835814476,
          "variable": "last passage"
         },
         {
          "value": 0.42965710163116455,
          "variable": "last passage"
         },
         {
          "value": 0.09383596479892731,
          "variable": "last passage"
         },
         {
          "value": 0.15783783793449402,
          "variable": "last passage"
         },
         {
          "value": 0.058557771146297455,
          "variable": "last passage"
         },
         {
          "value": 0.39924708008766174,
          "variable": "last passage"
         },
         {
          "value": 0.16048063337802887,
          "variable": "last passage"
         },
         {
          "value": 0.1907282918691635,
          "variable": "last passage"
         },
         {
          "value": 1.1306757926940918,
          "variable": "last passage"
         },
         {
          "value": 0.9790235757827759,
          "variable": "last passage"
         },
         {
          "value": 0.5872268080711365,
          "variable": "last passage"
         },
         {
          "value": 0.37261563539505005,
          "variable": "last passage"
         },
         {
          "value": 0.023035090416669846,
          "variable": "last passage"
         },
         {
          "value": 0.23108862340450287,
          "variable": "last passage"
         },
         {
          "value": 0.12507285177707672,
          "variable": "last passage"
         },
         {
          "value": 0.00443423492833972,
          "variable": "last passage"
         },
         {
          "value": 0.048098839819431305,
          "variable": "last passage"
         },
         {
          "value": 0.08283280581235886,
          "variable": "last passage"
         },
         {
          "value": 0.8970664739608765,
          "variable": "last passage"
         },
         {
          "value": 0.4730593264102936,
          "variable": "last passage"
         },
         {
          "value": 0.06628689914941788,
          "variable": "last passage"
         },
         {
          "value": 0.02159855328500271,
          "variable": "last passage"
         },
         {
          "value": 2.258207321166992,
          "variable": "last passage"
         },
         {
          "value": 0.8641842603683472,
          "variable": "last passage"
         },
         {
          "value": 0.039621852338314056,
          "variable": "last passage"
         },
         {
          "value": 1.4644137620925903,
          "variable": "last passage"
         },
         {
          "value": 0.09927313029766083,
          "variable": "last passage"
         },
         {
          "value": 0.17455050349235535,
          "variable": "last passage"
         },
         {
          "value": 0.7378429174423218,
          "variable": "last passage"
         },
         {
          "value": 0.11384414881467819,
          "variable": "last passage"
         },
         {
          "value": 0.04822966083884239,
          "variable": "last passage"
         },
         {
          "value": 0.03489416837692261,
          "variable": "last passage"
         },
         {
          "value": 0.10304800420999527,
          "variable": "last passage"
         },
         {
          "value": 0.03393144905567169,
          "variable": "last passage"
         },
         {
          "value": 0.10397669672966003,
          "variable": "last passage"
         },
         {
          "value": 0.051620516926050186,
          "variable": "last passage"
         },
         {
          "value": 1.1031299829483032,
          "variable": "last passage"
         },
         {
          "value": 0.05404407158493996,
          "variable": "last passage"
         },
         {
          "value": 0.7671253085136414,
          "variable": "last passage"
         },
         {
          "value": 3.043673515319824,
          "variable": "last passage"
         },
         {
          "value": 0.8944896459579468,
          "variable": "last passage"
         },
         {
          "value": 0.29242175817489624,
          "variable": "last passage"
         },
         {
          "value": 0.10267577320337296,
          "variable": "last passage"
         },
         {
          "value": 0.11893591284751892,
          "variable": "last passage"
         },
         {
          "value": 0.004910220392048359,
          "variable": "last passage"
         },
         {
          "value": 0.09596472233533859,
          "variable": "last passage"
         },
         {
          "value": 0.4152393043041229,
          "variable": "last passage"
         },
         {
          "value": 0.12733036279678345,
          "variable": "last passage"
         },
         {
          "value": 0.17097952961921692,
          "variable": "last passage"
         },
         {
          "value": 0.12471877783536911,
          "variable": "last passage"
         },
         {
          "value": 0.17345654964447021,
          "variable": "last passage"
         },
         {
          "value": 0.23012588918209076,
          "variable": "last passage"
         },
         {
          "value": 0.4507976174354553,
          "variable": "last passage"
         },
         {
          "value": 0.23433668911457062,
          "variable": "last passage"
         },
         {
          "value": 0.20056983828544617,
          "variable": "last passage"
         },
         {
          "value": 0.25063616037368774,
          "variable": "last passage"
         },
         {
          "value": 0.08465000987052917,
          "variable": "last passage"
         },
         {
          "value": 0.1118868961930275,
          "variable": "last passage"
         },
         {
          "value": 0.049047134816646576,
          "variable": "last passage"
         },
         {
          "value": 0.13242758810520172,
          "variable": "last passage"
         },
         {
          "value": 0.22340896725654602,
          "variable": "last passage"
         },
         {
          "value": 0.04911358654499054,
          "variable": "last passage"
         },
         {
          "value": 0.0074637033976614475,
          "variable": "last passage"
         },
         {
          "value": 0.22974234819412231,
          "variable": "last passage"
         },
         {
          "value": 0.4947230815887451,
          "variable": "last passage"
         },
         {
          "value": 0.62189120054245,
          "variable": "last passage"
         },
         {
          "value": 0.19303317368030548,
          "variable": "last passage"
         },
         {
          "value": 0.01136750541627407,
          "variable": "last passage"
         },
         {
          "value": 0.0932287722826004,
          "variable": "last passage"
         },
         {
          "value": 0.37419912219047546,
          "variable": "last passage"
         },
         {
          "value": 0.3413686454296112,
          "variable": "last passage"
         },
         {
          "value": 1.9557602405548096,
          "variable": "last passage"
         },
         {
          "value": 1.044532299041748,
          "variable": "last passage"
         },
         {
          "value": 1.3369516134262085,
          "variable": "last passage"
         },
         {
          "value": 0.33054572343826294,
          "variable": "last passage"
         },
         {
          "value": 0.17328602075576782,
          "variable": "last passage"
         },
         {
          "value": 1.3947712182998657,
          "variable": "last passage"
         },
         {
          "value": 0.030377931892871857,
          "variable": "last passage"
         },
         {
          "value": 0.6270676255226135,
          "variable": "last passage"
         },
         {
          "value": 0.12164733558893204,
          "variable": "last passage"
         },
         {
          "value": 0.46132394671440125,
          "variable": "last passage"
         },
         {
          "value": 1.3846672773361206,
          "variable": "last passage"
         },
         {
          "value": 0.03346558287739754,
          "variable": "last passage"
         },
         {
          "value": 0.06461406499147415,
          "variable": "last passage"
         },
         {
          "value": 0.10337784886360168,
          "variable": "last passage"
         },
         {
          "value": 0.07152872532606125,
          "variable": "last passage"
         },
         {
          "value": 0.3695637285709381,
          "variable": "last passage"
         },
         {
          "value": 1.8149620294570923,
          "variable": "last passage"
         },
         {
          "value": 0.3412209451198578,
          "variable": "last passage"
         },
         {
          "value": 0.04813189432024956,
          "variable": "last passage"
         },
         {
          "value": 0.0278828963637352,
          "variable": "last passage"
         },
         {
          "value": 0.10342465341091156,
          "variable": "last passage"
         },
         {
          "value": 0.6318942308425903,
          "variable": "last passage"
         },
         {
          "value": 0.05322036147117615,
          "variable": "last passage"
         },
         {
          "value": 0.04441884160041809,
          "variable": "last passage"
         },
         {
          "value": 0.021235540509223938,
          "variable": "last passage"
         },
         {
          "value": 0.024755440652370453,
          "variable": "last passage"
         },
         {
          "value": 0.4693450927734375,
          "variable": "last passage"
         },
         {
          "value": 0.30862587690353394,
          "variable": "last passage"
         },
         {
          "value": 0.14455099403858185,
          "variable": "last passage"
         },
         {
          "value": 0.34302738308906555,
          "variable": "last passage"
         },
         {
          "value": 0.18100224435329437,
          "variable": "last passage"
         },
         {
          "value": 0.23263166844844818,
          "variable": "last passage"
         },
         {
          "value": 0.045447222888469696,
          "variable": "last passage"
         },
         {
          "value": 0.13112357258796692,
          "variable": "last passage"
         },
         {
          "value": 0.027518779039382935,
          "variable": "last passage"
         },
         {
          "value": 1.9749560356140137,
          "variable": "last passage"
         },
         {
          "value": 0.1257701963186264,
          "variable": "last passage"
         },
         {
          "value": 0.11327534168958664,
          "variable": "last passage"
         },
         {
          "value": 0.49212756752967834,
          "variable": "last passage"
         },
         {
          "value": 0.023240571841597557,
          "variable": "last passage"
         },
         {
          "value": 0.18006916344165802,
          "variable": "last passage"
         },
         {
          "value": 0.10988026112318039,
          "variable": "last passage"
         },
         {
          "value": 0.41558948159217834,
          "variable": "last passage"
         },
         {
          "value": 0.07522453367710114,
          "variable": "last passage"
         },
         {
          "value": 0.14250248670578003,
          "variable": "last passage"
         },
         {
          "value": 0.08038001507520676,
          "variable": "last passage"
         },
         {
          "value": 0.2471286505460739,
          "variable": "last passage"
         },
         {
          "value": 0.018245456740260124,
          "variable": "last passage"
         },
         {
          "value": 0.007616742514073849,
          "variable": "last passage"
         },
         {
          "value": 0.008270864374935627,
          "variable": "last passage"
         },
         {
          "value": 0.10009507089853287,
          "variable": "last passage"
         },
         {
          "value": 0.10630185902118683,
          "variable": "last passage"
         },
         {
          "value": 0.04335873946547508,
          "variable": "last passage"
         },
         {
          "value": 0.12781329452991486,
          "variable": "last passage"
         },
         {
          "value": 0.004440858494490385,
          "variable": "last passage"
         },
         {
          "value": 0.05775299295783043,
          "variable": "last passage"
         },
         {
          "value": 0.029934287071228027,
          "variable": "last passage"
         },
         {
          "value": 0.08268561214208603,
          "variable": "last passage"
         },
         {
          "value": 0.2110203057527542,
          "variable": "last passage"
         },
         {
          "value": 0.09979785233736038,
          "variable": "last passage"
         },
         {
          "value": 0.2786442041397095,
          "variable": "last passage"
         },
         {
          "value": 1.0674551725387573,
          "variable": "last passage"
         },
         {
          "value": 0.07141869515180588,
          "variable": "last passage"
         },
         {
          "value": 0.16791632771492004,
          "variable": "last passage"
         },
         {
          "value": 0.5268240571022034,
          "variable": "last passage"
         },
         {
          "value": 0.6646422743797302,
          "variable": "last passage"
         },
         {
          "value": 1.108677864074707,
          "variable": "last passage"
         },
         {
          "value": 0.09300760924816132,
          "variable": "last passage"
         },
         {
          "value": 0.35650041699409485,
          "variable": "last passage"
         },
         {
          "value": 0.17397907376289368,
          "variable": "last passage"
         },
         {
          "value": 0.16844744980335236,
          "variable": "last passage"
         },
         {
          "value": 0.7667492628097534,
          "variable": "last passage"
         },
         {
          "value": 0.6843844056129456,
          "variable": "last passage"
         },
         {
          "value": 0.0673472136259079,
          "variable": "last passage"
         },
         {
          "value": 0.1289251744747162,
          "variable": "last passage"
         },
         {
          "value": 0.28653544187545776,
          "variable": "last passage"
         },
         {
          "value": 0.389977365732193,
          "variable": "last passage"
         },
         {
          "value": 2.038597822189331,
          "variable": "last passage"
         },
         {
          "value": 0.544685423374176,
          "variable": "last passage"
         },
         {
          "value": 0.4029519259929657,
          "variable": "last passage"
         },
         {
          "value": 0.2570798993110657,
          "variable": "last passage"
         },
         {
          "value": 0.04002101719379425,
          "variable": "last passage"
         },
         {
          "value": 0.10948430001735687,
          "variable": "last passage"
         },
         {
          "value": 0.06781654804944992,
          "variable": "last passage"
         },
         {
          "value": 1.134102463722229,
          "variable": "last passage"
         },
         {
          "value": 0.01692948117852211,
          "variable": "last passage"
         },
         {
          "value": 0.03545509651303291,
          "variable": "last passage"
         },
         {
          "value": 0.9652215242385864,
          "variable": "last passage"
         },
         {
          "value": 1.1889450550079346,
          "variable": "last passage"
         },
         {
          "value": 0.10551939904689789,
          "variable": "last passage"
         },
         {
          "value": 0.4370195269584656,
          "variable": "last passage"
         },
         {
          "value": 0.07473554462194443,
          "variable": "last passage"
         },
         {
          "value": 0.5024712681770325,
          "variable": "last passage"
         },
         {
          "value": 0.2978936731815338,
          "variable": "last passage"
         },
         {
          "value": 0.261152446269989,
          "variable": "last passage"
         },
         {
          "value": 0.49286070466041565,
          "variable": "last passage"
         },
         {
          "value": 0.13105379045009613,
          "variable": "last passage"
         },
         {
          "value": 0.14755405485630035,
          "variable": "last passage"
         },
         {
          "value": 0.32232666015625,
          "variable": "last passage"
         },
         {
          "value": 0.22024226188659668,
          "variable": "last passage"
         },
         {
          "value": 0.03806896507740021,
          "variable": "last passage"
         },
         {
          "value": 0.10949794203042984,
          "variable": "last passage"
         },
         {
          "value": 1.0486071109771729,
          "variable": "last passage"
         },
         {
          "value": 0.4451735317707062,
          "variable": "last passage"
         },
         {
          "value": 0.22069767117500305,
          "variable": "last passage"
         },
         {
          "value": 0.22051452100276947,
          "variable": "last passage"
         },
         {
          "value": 0.07061976194381714,
          "variable": "last passage"
         },
         {
          "value": 1.4709233045578003,
          "variable": "last passage"
         },
         {
          "value": 0.00810494925826788,
          "variable": "last passage"
         },
         {
          "value": 0.6304723620414734,
          "variable": "last passage"
         },
         {
          "value": 0.24088680744171143,
          "variable": "last passage"
         },
         {
          "value": 0.6653380393981934,
          "variable": "last passage"
         },
         {
          "value": 0.17812713980674744,
          "variable": "last passage"
         },
         {
          "value": 0.01494254544377327,
          "variable": "last passage"
         },
         {
          "value": 0.09948501735925674,
          "variable": "last passage"
         },
         {
          "value": 0.581923246383667,
          "variable": "last passage"
         },
         {
          "value": 0.008608581498265266,
          "variable": "last passage"
         },
         {
          "value": 0.024108627811074257,
          "variable": "last passage"
         },
         {
          "value": 0.9321599006652832,
          "variable": "last passage"
         },
         {
          "value": 0.10345680266618729,
          "variable": "last passage"
         },
         {
          "value": 0.05178828537464142,
          "variable": "last passage"
         },
         {
          "value": 1.2309894561767578,
          "variable": "last passage"
         },
         {
          "value": 0.024953540414571762,
          "variable": "last passage"
         },
         {
          "value": 0.08720027655363083,
          "variable": "last passage"
         },
         {
          "value": 0.1865912228822708,
          "variable": "last passage"
         },
         {
          "value": 0.053105250000953674,
          "variable": "last passage"
         },
         {
          "value": 0.06641321629285812,
          "variable": "last passage"
         },
         {
          "value": 0.21078023314476013,
          "variable": "last passage"
         },
         {
          "value": 0.27735695242881775,
          "variable": "last passage"
         },
         {
          "value": 0.2701708674430847,
          "variable": "last passage"
         },
         {
          "value": 0.5000187754631042,
          "variable": "last passage"
         },
         {
          "value": 0.04107379540801048,
          "variable": "last passage"
         },
         {
          "value": 0.22551970183849335,
          "variable": "last passage"
         },
         {
          "value": 0.41364461183547974,
          "variable": "last passage"
         },
         {
          "value": 0.7464062571525574,
          "variable": "last passage"
         },
         {
          "value": 0.10923703014850616,
          "variable": "last passage"
         },
         {
          "value": 0.6104221940040588,
          "variable": "last passage"
         },
         {
          "value": 0.8040251135826111,
          "variable": "last passage"
         },
         {
          "value": 0.28776097297668457,
          "variable": "last passage"
         },
         {
          "value": 1.3461930751800537,
          "variable": "last passage"
         },
         {
          "value": 0.2788383364677429,
          "variable": "last passage"
         },
         {
          "value": 0.5263447165489197,
          "variable": "last passage"
         },
         {
          "value": 0.29460567235946655,
          "variable": "last passage"
         },
         {
          "value": 0.06839141994714737,
          "variable": "last passage"
         },
         {
          "value": 0.6908224821090698,
          "variable": "last passage"
         },
         {
          "value": 0.08761019259691238,
          "variable": "last passage"
         },
         {
          "value": 0.04686591401696205,
          "variable": "last passage"
         },
         {
          "value": 0.4667842388153076,
          "variable": "last passage"
         },
         {
          "value": 0.5218837261199951,
          "variable": "last passage"
         },
         {
          "value": 0.031083641573786736,
          "variable": "last passage"
         },
         {
          "value": 0.1426180601119995,
          "variable": "last passage"
         },
         {
          "value": 0.026339195668697357,
          "variable": "last passage"
         },
         {
          "value": 0.07213281840085983,
          "variable": "last passage"
         },
         {
          "value": 0.22363540530204773,
          "variable": "last passage"
         },
         {
          "value": 0.23269982635974884,
          "variable": "last passage"
         },
         {
          "value": 0.40987738966941833,
          "variable": "last passage"
         },
         {
          "value": 0.1736193150281906,
          "variable": "last passage"
         },
         {
          "value": 0.44657590985298157,
          "variable": "last passage"
         },
         {
          "value": 1.1338404417037964,
          "variable": "last passage"
         },
         {
          "value": 0.2569587528705597,
          "variable": "last passage"
         },
         {
          "value": 0.16893398761749268,
          "variable": "last passage"
         },
         {
          "value": 0.5631901621818542,
          "variable": "last passage"
         },
         {
          "value": 0.16087642312049866,
          "variable": "last passage"
         },
         {
          "value": 2.1550328731536865,
          "variable": "last passage"
         },
         {
          "value": 0.9492887854576111,
          "variable": "last passage"
         },
         {
          "value": 0.196006178855896,
          "variable": "last passage"
         },
         {
          "value": 0.4111849367618561,
          "variable": "last passage"
         },
         {
          "value": 0.14541073143482208,
          "variable": "last passage"
         },
         {
          "value": 0.26410993933677673,
          "variable": "last passage"
         },
         {
          "value": 0.4696025252342224,
          "variable": "last passage"
         },
         {
          "value": 0.09108130633831024,
          "variable": "last passage"
         },
         {
          "value": 0.6468504667282104,
          "variable": "last passage"
         },
         {
          "value": 1.6538313627243042,
          "variable": "last passage"
         },
         {
          "value": 0.060811176896095276,
          "variable": "last passage"
         },
         {
          "value": 0.1131361573934555,
          "variable": "last passage"
         },
         {
          "value": 0.05399462953209877,
          "variable": "last passage"
         },
         {
          "value": 0.2112339735031128,
          "variable": "last passage"
         },
         {
          "value": 0.17866790294647217,
          "variable": "last passage"
         },
         {
          "value": 0.07452552765607834,
          "variable": "last passage"
         },
         {
          "value": 0.2157401293516159,
          "variable": "last passage"
         },
         {
          "value": 0.3294201195240021,
          "variable": "last passage"
         },
         {
          "value": 0.5841332077980042,
          "variable": "last passage"
         },
         {
          "value": 1.31474769115448,
          "variable": "last passage"
         },
         {
          "value": 0.028000645339488983,
          "variable": "last passage"
         },
         {
          "value": 0.16245920956134796,
          "variable": "last passage"
         },
         {
          "value": 0.4626285135746002,
          "variable": "last passage"
         },
         {
          "value": 0.15577414631843567,
          "variable": "last passage"
         },
         {
          "value": 0.1822587251663208,
          "variable": "last passage"
         },
         {
          "value": 0.020691439509391785,
          "variable": "last passage"
         },
         {
          "value": 0.23395395278930664,
          "variable": "last passage"
         },
         {
          "value": 0.06415431946516037,
          "variable": "last passage"
         },
         {
          "value": 0.7939279079437256,
          "variable": "last passage"
         },
         {
          "value": 0.034337352961301804,
          "variable": "last passage"
         },
         {
          "value": 0.8335221409797668,
          "variable": "last passage"
         },
         {
          "value": 0.010368379764258862,
          "variable": "last passage"
         },
         {
          "value": 0.6295618414878845,
          "variable": "last passage"
         },
         {
          "value": 0.013542409986257553,
          "variable": "last passage"
         },
         {
          "value": 2.625711679458618,
          "variable": "last passage"
         },
         {
          "value": 0.1481247991323471,
          "variable": "last passage"
         },
         {
          "value": 0.2924222946166992,
          "variable": "last passage"
         },
         {
          "value": 0.058438777923583984,
          "variable": "last passage"
         },
         {
          "value": 1.6243839263916016,
          "variable": "last passage"
         },
         {
          "value": 0.12887585163116455,
          "variable": "last passage"
         },
         {
          "value": 1.0895017385482788,
          "variable": "last passage"
         },
         {
          "value": 1.5594974756240845,
          "variable": "last passage"
         },
         {
          "value": 1.9413573741912842,
          "variable": "last passage"
         },
         {
          "value": 0.03192967548966408,
          "variable": "last passage"
         }
        ]
       },
       "encoding": {
        "color": {
         "field": "variable",
         "title": "Time",
         "type": "nominal"
        },
        "x": {
         "bin": {
          "maxbins": 20
         },
         "field": "value",
         "title": "Angular Displacement",
         "type": "quantitative"
        },
        "y": {
         "aggregate": "count",
         "title": "Occurence",
         "type": "quantitative"
        }
       },
       "mark": {
        "opacity": 0.8,
        "type": "bar"
       }
      },
      "image/png": "[encoded data removed]",
      "text/plain": [
       "<VegaLite 2 object>\n",
       "\n",
       "If you see this message, it means the renderer has not been properly enabled\n",
       "for the frontend that you are using. For more information, see\n",
       "https://altair-viz.github.io/user_guide/troubleshooting.html\n"
      ]
     },
     "execution_count": 31,
     "metadata": {},
     "output_type": "execute_result"
    }
   ],
   "source": [
    "altair.Chart(rotations).mark_bar(opacity=0.8).encode(\n",
    "    x=altair.X('value:Q', title='Angular Displacement', bin=altair.Bin(maxbins=20)),\n",
    "    y=altair.Y('count():Q', title='Occurence'),\n",
    "    color=altair.Color('variable', title='Time'),\n",
    ")"
   ]
  },
  {
   "cell_type": "code",
   "execution_count": 36,
   "metadata": {},
   "outputs": [
    {
     "data": {
      "image/png": "[encoded data removed]",
      "text/plain": [
       "<Figure size 432x288 with 1 Axes>"
      ]
     },
     "metadata": {
      "needs_background": "light"
     },
     "output_type": "display_data"
    }
   ],
   "source": [
    "fig, ax = plt.subplots()\n",
    "ax.hist(rot_last, range=(0, np.pi), density=True, alpha=0.7, label=\"Last Passage\")\n",
    "ax.hist(rot_first, range=(0, np.pi), density=True, alpha=0.7, label=\"First Passage\")\n",
    "ax.legend(frameon=False)\n",
    "ax.set_xlabel(r'$\\Delta\\theta$')\n",
    "fig.savefig(f'Rotational_disp-{stem}.pdf')"
   ]
  },
  {
   "cell_type": "code",
   "execution_count": null,
   "metadata": {},
   "outputs": [],
   "source": []
  }
 ],
 "metadata": {
  "kernelspec": {
   "display_name": "dynamics",
   "language": "python",
   "name": "dynamics"
  },
  "language_info": {
   "codemirror_mode": {
    "name": "ipython",
    "version": 3
   },
   "file_extension": ".py",
   "mimetype": "text/x-python",
   "name": "python",
   "nbconvert_exporter": "python",
   "pygments_lexer": "ipython3",
   "version": "3.6.7"
  }
 },
 "nbformat": 4,
 "nbformat_minor": 2
}
