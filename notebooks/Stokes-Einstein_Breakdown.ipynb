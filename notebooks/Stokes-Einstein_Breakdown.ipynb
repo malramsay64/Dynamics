{
 "cells": [
  {
   "cell_type": "markdown",
   "metadata": {},
   "source": [
    "Stokes-Einstein Breakdown\n",
    "==============\n",
    "\n",
    "One of the major results that we observe\n",
    "is what appears to be a breakdown \n",
    "in the Stokes-Einstein relationship,\n",
    "most likely brought about by the reversibility of\n",
    "the motions that take place.\n",
    "As a result of this it would be nice to have\n",
    "a figure that demonstrates this breakdown\n",
    "with reference to individual particle motions,\n",
    "since it is the motion of individual particles\n",
    "that are the cause of this breakdown.\n",
    "\n",
    "As an individual particle property,\n",
    "we really only want to follow a smallish number of particles,\n",
    "probably from a single trajectory.\n",
    "To have the largest likelihood of \n",
    "finding something interesting,\n",
    "I will be using the dynamics from T=1.30, P=13.50."
   ]
  },
  {
   "cell_type": "markdown",
   "metadata": {},
   "source": [
    "Data Ingest/Calculation\n",
    "----------------------\n",
    "\n",
    "I don't have the translations and rotations from\n",
    "every timepoint saved anywhere,\n",
    "so I will have to generate all the data\n",
    "from the trajectories."
   ]
  },
  {
   "cell_type": "code",
   "execution_count": 1,
   "metadata": {},
   "outputs": [
    {
     "name": "stderr",
     "output_type": "stream",
     "text": [
      "UsageError: Line magic function `%opts` not found.\n"
     ]
    }
   ],
   "source": [
    "from pathlib import Path\n",
    "\n",
    "import gsd.hoomd\n",
    "import holoviews as hv\n",
    "import pandas\n",
    "import numpy as np\n",
    "\n",
    "import matplotlib.pyplot as plt\n",
    "import altair\n",
    "altair.enable_mime_rendering()\n",
    "\n",
    "from sdanalysis.dynamics import dynamics, molecularRelaxation, lastMolecularRelaxation\n",
    "from sdanalysis.StepSize import GenerateStepSeries\n",
    "\n",
    "figure_width = 1000\n",
    "%matplotlib inline\n",
    "%opts Curve [width=figure_width height=400]\n",
    "%opts Path [width=figure_width height=400]\n",
    "%opts NdOverlay [legend_position='right', toolbar='above']\n",
    "%opts HLine (color='k')\n",
    "%opts VLine (color='k')"
   ]
  },
  {
   "cell_type": "markdown",
   "metadata": {},
   "source": [
    "### Loading Data\n",
    "\n",
    "There are a few differences with the data used for this analysis\n",
    "due to the different nature of the figures presented.\n",
    "\n",
    "The file that we are interested in is the dump file which has linear timesteps\n",
    "rather than the exponential series in the trajectory files.\n",
    "The reason for the linear series is that we are interested in\n",
    "following the motion of the particle through many environments,\n",
    "requiring short steps for all the different environments.\n",
    "Additionally there is no complication with working out\n",
    "which of the series that each configuration belongs to.\n",
    "\n",
    "Along with the trajectory, \n",
    "I am loading up the dynamics computed previously.\n",
    "However rather than all the dynamics,\n",
    "I am only loading up those from the first keyframe.\n",
    "This is because these are the dynamic quantities that\n",
    "correspond to the data loaded from the trajectory. "
   ]
  },
  {
   "cell_type": "code",
   "execution_count": null,
   "metadata": {},
   "outputs": [],
   "source": [
    "temperature = '1.35'\n",
    "directory = Path.home() / 'rds/Results/simulations/2017-09-09-dynamics'\n",
    "# Load up a linear trajectory for ease of analysis \n",
    "file = directory / f'trajectory-13.50-{temperature}.gsd'\n",
    "stem = f'Trimer-13.50-{temperature}'\n",
    "# Read in pre-computed dynamics properties for a single trajectory \n",
    "dynamics_df = pandas.read_hdf(directory / 'dynamics' / f'trajectory-13.50-{temperature}.hdf5',\n",
    "                              'relaxations').loc[0, :]\n",
    "# Find the fastest particles\n",
    "fastest = dynamics_df.sort_values('tau_D1').head(5).index.values"
   ]
  },
  {
   "cell_type": "markdown",
   "metadata": {},
   "source": [
    "### Computation of Dynamics\n",
    "\n",
    "The values of the dynamics we have calculated previously have been using an exponential timescale, which while great for the more traditional dynamics quantities becomes unhelpful in computing the molecular quantities and the analysis that will be presented in the rest of this document.\n",
    "\n",
    "I have stored the configuration at a series of linear steps and so the below analysis computes the molecular relaxations at a single temperature (1.30) using this linear scale, while also computing the displacement and rotation at each point in time allowing for the querying of the resulting dataset.\n",
    "\n",
    "The data is stored in a sqlite database as this is a highly queryable format while still remaining compatible with a range of systems."
   ]
  },
  {
   "cell_type": "code",
   "execution_count": null,
   "metadata": {},
   "outputs": [],
   "source": [
    "max_steps = None\n",
    "recompute = False\n",
    "# Uncomment to recompute quantities this takes a long time to compute\n",
    "# recompute = True\n",
    "\n",
    "if recompute:\n",
    "    dataframes = []\n",
    "    with gsd.hoomd.open(str(file)) as trj:\n",
    "        # Read the first frame of the snapshot to set up dynamics\n",
    "        snap = trj[0]\n",
    "        num_mols = 1250\n",
    "        dyn = dynamics(\n",
    "            timestep=snap.configuration.step,\n",
    "            box=snap.configuration.box,\n",
    "            position=snap.particles.position[:num_mols],\n",
    "            orientation=snap.particles.orientation[:num_mols],\n",
    "        )\n",
    "        first_passage = molecularRelaxation(num_mols, 0.4)\n",
    "        last_passage = lastMolecularRelaxation(num_mols, 0.4, 1.0)\n",
    "        exists = False\n",
    "        for snap in trj:\n",
    "            delta_time = dyn.computeTimeDelta(snap.configuration.step).astype(np.int32)\n",
    "            delta_disp = dyn.get_displacements(snap.particles.position[:num_mols])\n",
    "            dataframes.append({\n",
    "                'mol_index': snap.particles.body[:num_mols].astype(np.uint16),\n",
    "                'time': delta_time.astype(np.uint32),\n",
    "                'displacement': delta_disp.astype(np.float32),\n",
    "                'rotation': dyn.get_rotations(snap.particles.orientation[:num_mols]).astype(np.float32),\n",
    "            })\n",
    "            exists = True\n",
    "            first_passage.add(delta_time, delta_disp)\n",
    "            last_passage.add(delta_time, delta_disp)\n",
    "            if max_steps and snap.configuration.step > max_steps:\n",
    "                break\n",
    "    pdf = pandas.DataFrame({\n",
    "        'first_passage': first_passage.get_status(),\n",
    "        'last_passage': last_passage.get_status(),\n",
    "    })\n",
    "    # Write data to files\n",
    "    df = pandas.concat([pandas.DataFrame(data) for data in dataframes])\n",
    "    df.to_hdf(f'{stem}.h5', 'single_motion')\n",
    "    pdf.to_hdf(f'{stem}.h5', 'passage_times')\n",
    "else:\n",
    "    df = pandas.read_hdf(f'{stem}.h5', 'single_motion')\n",
    "    pdf = pandas.read_hdf(f'{stem}.h5', 'passage_times')"
   ]
  },
  {
   "cell_type": "code",
   "execution_count": null,
   "metadata": {},
   "outputs": [],
   "source": [
    "df.set_index(['mol_index', 'time'], inplace=True, drop=False)\n",
    "df.info()"
   ]
  },
  {
   "cell_type": "code",
   "execution_count": null,
   "metadata": {},
   "outputs": [],
   "source": [
    "# Molecules for selection \n",
    "selected = [120, 130, 140]\n",
    "df_fast = df.loc[selected]"
   ]
  },
  {
   "cell_type": "code",
   "execution_count": null,
   "metadata": {},
   "outputs": [],
   "source": [
    "df_fast.head()"
   ]
  },
  {
   "cell_type": "code",
   "execution_count": null,
   "metadata": {},
   "outputs": [],
   "source": [
    "df_fast = df_fast.set_index(pandas.TimedeltaIndex(df_fast['time'], unit='ns'))\n",
    "df_fast_groups = df_fast.groupby('mol_index').resample('1ms')\n",
    "\n",
    "hv_ds = hv.Dataset({\n",
    "    'time': df_fast_groups.time.min(),\n",
    "    'displacement': df_fast_groups.displacement.mean(),\n",
    "    'displacement_err': df_fast_groups.displacement.std(),\n",
    "    'mol_index': df_fast_groups.mol_index.mean(),\n",
    "}, kdims=['time', 'mol_index'], vdims=['displacement', 'displacement_err'])"
   ]
  },
  {
   "cell_type": "code",
   "execution_count": null,
   "metadata": {},
   "outputs": [],
   "source": [
    "%%opts Curve [logx=False] (line_width=1, alpha=1)\n",
    "%%opts Spread (line_width=0, line_alpha=0, alpha=0.3)\n",
    "%%opts HLine ( line_width=2)\n",
    "\n",
    "(\n",
    "    hv_ds.to(hv.Curve, vdims=['displacement']).overlay('mol_index') * \n",
    "    hv_ds.to(hv.Spread, vdims=['displacement', 'displacement_err']).overlay('mol_index') *\n",
    "    hv.HLine(1) \n",
    ")"
   ]
  },
  {
   "cell_type": "code",
   "execution_count": null,
   "metadata": {},
   "outputs": [],
   "source": [
    "altair.Chart(hv_ds.dframe()).mark_line().encode(\n",
    "    x='time',\n",
    "    y='displacement',\n",
    "    color='mol_index:N'\n",
    ")"
   ]
  },
  {
   "cell_type": "code",
   "execution_count": null,
   "metadata": {
    "scrolled": true
   },
   "outputs": [],
   "source": [
    "%%opts Path [color_index='time'] (line_width=1 cmap='viridis' alpha=0.5)\n",
    "\n",
    "mol_id = 120\n",
    "\n",
    "df_path = df_fast.loc[df_fast.mol_index.values == mol_id, :].copy()\n",
    "# df_path.loc[:, 'time'] = np.log(df_path.loc[:, 'time'].values)\n",
    "hv.Path([df_path], kdims=['displacement', 'rotation'], vdims=['time']) * hv.VLine(1)"
   ]
  },
  {
   "cell_type": "code",
   "execution_count": null,
   "metadata": {},
   "outputs": [],
   "source": [
    "pdf.sort_values('last_passage')\n",
    "pdf = pdf[pdf.last_passage != 2**32-1]"
   ]
  },
  {
   "cell_type": "code",
   "execution_count": null,
   "metadata": {},
   "outputs": [],
   "source": [
    "fig, ax = plt.subplots()\n",
    "ax.plot(pdf.sort_values('first_passage').reset_index(drop=True).first_passage, '.')\n",
    "ax.plot(pdf.sort_values('first_passage').reset_index(drop=True).last_passage, '.')\n",
    "ax.legend()\n",
    "ax.set_yscale('linear')\n",
    "fig.savefig('passage_times.pdf')"
   ]
  },
  {
   "cell_type": "code",
   "execution_count": null,
   "metadata": {},
   "outputs": [],
   "source": [
    "pdf.sort_values('last_passage').reset_index(drop=True).plot(logy=True)"
   ]
  },
  {
   "cell_type": "code",
   "execution_count": null,
   "metadata": {},
   "outputs": [],
   "source": [
    "df.info()"
   ]
  },
  {
   "cell_type": "code",
   "execution_count": null,
   "metadata": {},
   "outputs": [],
   "source": [
    "rotations_first = []\n",
    "rotations_last = []\n",
    "for index, first, last in pdf.itertuples():\n",
    "    if last == 2**32 - 1:\n",
    "        continue\n",
    "    rotations_first.append(df.loc[index, first].rotation)\n",
    "    rotations_last.append(df.loc[index, last].rotation)"
   ]
  },
  {
   "cell_type": "code",
   "execution_count": null,
   "metadata": {},
   "outputs": [],
   "source": [
    "rot_first = np.array(rotations_first)\n",
    "rot_last = np.array(rotations_last)\n",
    "rotations = pandas.DataFrame({\n",
    "    'first passage': rot_first,\n",
    "}).melt().append(pandas.DataFrame({\n",
    "    'last passage': rot_last\n",
    "}).melt())"
   ]
  },
  {
   "cell_type": "code",
   "execution_count": null,
   "metadata": {},
   "outputs": [],
   "source": [
    "altair.Chart(rotations).mark_bar(opacity=0.8).encode(\n",
    "    x=altair.X('value', title='Angular Displacement', bin=altair.Bin(maxbins=20)),\n",
    "    y=altair.Y('count(*):Q', title='Occurence'),\n",
    "    color=altair.Color('variable', title='Time'),\n",
    ")"
   ]
  },
  {
   "cell_type": "code",
   "execution_count": null,
   "metadata": {},
   "outputs": [],
   "source": [
    "\n",
    "fig, ax = plt.subplots()\n",
    "ax.hist(rot_first, range=(0, np.pi), normed=True, alpha=0.8, label=\"First Passage\")\n",
    "ax.hist(rot_last, range=(0, np.pi), normed=True, alpha=0.8, label=\"Last Passage\")\n",
    "ax.legend(frameon=False)\n",
    "ax.set_xlabel(r'$\\Delta\\theta$')\n",
    "fig.savefig(f'Rotational_disp-{stem}.pdf')"
   ]
  },
  {
   "cell_type": "code",
   "execution_count": null,
   "metadata": {},
   "outputs": [],
   "source": [
    "df.columns"
   ]
  },
  {
   "cell_type": "code",
   "execution_count": null,
   "metadata": {},
   "outputs": [],
   "source": [
    "df.first_passage"
   ]
  },
  {
   "cell_type": "code",
   "execution_count": null,
   "metadata": {},
   "outputs": [],
   "source": []
  }
 ],
 "metadata": {
  "kernelspec": {
   "display_name": "dynamics",
   "language": "python",
   "name": "dynamics"
  },
  "language_info": {
   "codemirror_mode": {
    "name": "ipython",
    "version": 3
   },
   "file_extension": ".py",
   "mimetype": "text/x-python",
   "name": "python",
   "nbconvert_exporter": "python",
   "pygments_lexer": "ipython3",
   "version": "3.6.1"
  }
 },
 "nbformat": 4,
 "nbformat_minor": 2
}
