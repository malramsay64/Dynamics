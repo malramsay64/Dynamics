{
 "cells": [
  {
   "cell_type": "code",
   "execution_count": null,
   "metadata": {},
   "outputs": [],
   "source": [
    "import pandas as pd\n",
    "import numpy as np\n",
    "import altair as alt\n",
    "from ipywidgets import interact, ToggleButtons"
   ]
  },
  {
   "cell_type": "code",
   "execution_count": null,
   "metadata": {},
   "outputs": [],
   "source": [
    "df = pd.read_hdf('../data/analysis/dynamics.h5', 'relaxations')"
   ]
  },
  {
   "cell_type": "code",
   "execution_count": null,
   "metadata": {},
   "outputs": [],
   "source": [
    "df.reset_index(inplace=True)"
   ]
  },
  {
   "cell_type": "code",
   "execution_count": null,
   "metadata": {},
   "outputs": [],
   "source": [
    "df['1/D'] = 1 / df.diffusion_constant"
   ]
  },
  {
   "cell_type": "code",
   "execution_count": null,
   "metadata": {},
   "outputs": [],
   "source": [
    "df"
   ]
  },
  {
   "cell_type": "code",
   "execution_count": null,
   "metadata": {},
   "outputs": [],
   "source": [
    "axes = ToggleButtons(options=df.columns)\n",
    "\n",
    "@interact(axis=axes)\n",
    "def create_chart(axis):\n",
    "    return alt.Chart(df, width=800, height=500).mark_point(size=75).transform_calculate(\n",
    "        '1/T', '1/datum.temperature'\n",
    "    ) .encode(\n",
    "        x=alt.X('1/T:Q'),\n",
    "        y=alt.Y(axis, type='quantitative', axis=alt.Axis(format='e'), scale=alt.Scale(type='log')),\n",
    "    ).interactive()\n"
   ]
  }
 ],
 "metadata": {
  "language_info": {
   "name": "python",
   "pygments_lexer": "ipython3"
  }
 },
 "nbformat": 4,
 "nbformat_minor": 2
}
